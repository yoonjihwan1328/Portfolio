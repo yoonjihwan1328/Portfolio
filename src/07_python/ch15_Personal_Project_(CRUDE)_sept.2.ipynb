{
 "cells": [
  {
   "cell_type": "code",
   "execution_count": null,
   "id": "df4a592f",
   "metadata": {},
   "outputs": [],
   "source": []
  },
  {
   "cell_type": "code",
   "execution_count": null,
   "id": "ddc693c8",
   "metadata": {},
   "outputs": [],
   "source": [
    "Web : https://ubiops.com/how-to-build-and-implement-a-recommendation-system-from-scratch-in-python/\n",
    "Data : https://github.com/UbiOps/cookbook/blob/master/recommender-system/recommender-system/store_data.csv\n",
    "        \n",
    "movie_Data_Download - https://grouplens.org/datasets/movielens/\n",
    "Web - https://movielens.org/"
   ]
  },
  {
   "cell_type": "code",
   "execution_count": null,
   "id": "59253b5e",
   "metadata": {},
   "outputs": [],
   "source": [
    "# 1. 시대별 인기영화 : # pandas matplotlib\n",
    "    # 1-1) 화제성순\n",
    "    # 1-2) 평점순\n",
    "# 2. 시간에 따른 인기장르의 변화.\n",
    "# 3. 꾸준히 사랑받는 영화\n",
    "# 4. 한계\n",
    "    # 감독명, 배우명 등 영화흥행의 중요요소들에 대한 분석부재\n",
    "# 5. 활용\n",
    "    # 영화 추천\n",
    "        # 추천 - 평점 + 인기(=평점 갯수)\n",
    "        # 인기순 - 평점\n",
    "        # 장르별 -> 흥미별\n",
    "        # 테마 - 고전\n",
    "        # 테마 - 시대별\n",
    "# 6. 추가분석\n",
    "    # tag-Genome을 스스로 생성해볼 것? 웹크롤링- > 최빈단어목록과 각 영화의 상관관계 top 1~3정도 #\n",
    "    #                                              단순하게 각 영화에서의 최빈단어로 구성\n",
    "    # 영화 이모저모 : 연도별 인기장르의 변화, 피드백수\n",
    "        "
   ]
  },
  {
   "cell_type": "code",
   "execution_count": 1,
   "id": "4e683913",
   "metadata": {
    "ExecuteTime": {
     "end_time": "2021-09-27T08:36:59.911889Z",
     "start_time": "2021-09-27T08:36:51.850711Z"
    }
   },
   "outputs": [],
   "source": [
    "import pandas as pd\n",
    "movies = pd.read_csv('C:/Users/yoon/Desktop/Faust/15_project/ml-25m/movies.csv')\n",
    "ratings = pd.read_csv('C:/Users/yoon/Desktop/Faust/15_project/ml-25m/ratings.csv')\n",
    "# tags = pd.read_csv('D:/bigdata/note/project/ml-25m/tags.csv')"
   ]
  },
  {
   "cell_type": "code",
   "execution_count": 3,
   "id": "ea6f86b9",
   "metadata": {
    "ExecuteTime": {
     "end_time": "2021-09-01T05:22:07.198481Z",
     "start_time": "2021-09-01T05:22:07.174567Z"
    }
   },
   "outputs": [
    {
     "data": {
      "text/html": [
       "<div>\n",
       "<style scoped>\n",
       "    .dataframe tbody tr th:only-of-type {\n",
       "        vertical-align: middle;\n",
       "    }\n",
       "\n",
       "    .dataframe tbody tr th {\n",
       "        vertical-align: top;\n",
       "    }\n",
       "\n",
       "    .dataframe thead th {\n",
       "        text-align: right;\n",
       "    }\n",
       "</style>\n",
       "<table border=\"1\" class=\"dataframe\">\n",
       "  <thead>\n",
       "    <tr style=\"text-align: right;\">\n",
       "      <th></th>\n",
       "      <th>userId</th>\n",
       "      <th>movieId</th>\n",
       "      <th>rating</th>\n",
       "      <th>timestamp</th>\n",
       "    </tr>\n",
       "  </thead>\n",
       "  <tbody>\n",
       "    <tr>\n",
       "      <th>0</th>\n",
       "      <td>1</td>\n",
       "      <td>296</td>\n",
       "      <td>5.0</td>\n",
       "      <td>1147880044</td>\n",
       "    </tr>\n",
       "    <tr>\n",
       "      <th>1</th>\n",
       "      <td>1</td>\n",
       "      <td>306</td>\n",
       "      <td>3.5</td>\n",
       "      <td>1147868817</td>\n",
       "    </tr>\n",
       "    <tr>\n",
       "      <th>2</th>\n",
       "      <td>1</td>\n",
       "      <td>307</td>\n",
       "      <td>5.0</td>\n",
       "      <td>1147868828</td>\n",
       "    </tr>\n",
       "    <tr>\n",
       "      <th>3</th>\n",
       "      <td>1</td>\n",
       "      <td>665</td>\n",
       "      <td>5.0</td>\n",
       "      <td>1147878820</td>\n",
       "    </tr>\n",
       "    <tr>\n",
       "      <th>4</th>\n",
       "      <td>1</td>\n",
       "      <td>899</td>\n",
       "      <td>3.5</td>\n",
       "      <td>1147868510</td>\n",
       "    </tr>\n",
       "  </tbody>\n",
       "</table>\n",
       "</div>"
      ],
      "text/plain": [
       "   userId  movieId  rating   timestamp\n",
       "0       1      296     5.0  1147880044\n",
       "1       1      306     3.5  1147868817\n",
       "2       1      307     5.0  1147868828\n",
       "3       1      665     5.0  1147878820\n",
       "4       1      899     3.5  1147868510"
      ]
     },
     "execution_count": 3,
     "metadata": {},
     "output_type": "execute_result"
    }
   ],
   "source": [
    "ratings.head()"
   ]
  },
  {
   "cell_type": "code",
   "execution_count": 2,
   "id": "dde07f8d",
   "metadata": {
    "ExecuteTime": {
     "end_time": "2021-09-27T05:33:10.202343Z",
     "start_time": "2021-09-27T05:33:10.014823Z"
    }
   },
   "outputs": [
    {
     "name": "stdout",
     "output_type": "stream",
     "text": [
      "movieId    0\n",
      "title      0\n",
      "genres     0\n",
      "dtype: int64\n",
      "userId       0\n",
      "movieId      0\n",
      "rating       0\n",
      "timestamp    0\n",
      "dtype: int64\n",
      "<class 'pandas.core.frame.DataFrame'>\n",
      "RangeIndex: 62423 entries, 0 to 62422\n",
      "Data columns (total 3 columns):\n",
      " #   Column   Non-Null Count  Dtype \n",
      "---  ------   --------------  ----- \n",
      " 0   movieId  62423 non-null  int64 \n",
      " 1   title    62423 non-null  object\n",
      " 2   genres   62423 non-null  object\n",
      "dtypes: int64(1), object(2)\n",
      "memory usage: 1.4+ MB\n",
      "None\n",
      "<class 'pandas.core.frame.DataFrame'>\n",
      "RangeIndex: 25000095 entries, 0 to 25000094\n",
      "Data columns (total 4 columns):\n",
      " #   Column     Dtype  \n",
      "---  ------     -----  \n",
      " 0   userId     int64  \n",
      " 1   movieId    int64  \n",
      " 2   rating     float64\n",
      " 3   timestamp  int64  \n",
      "dtypes: float64(1), int64(3)\n",
      "memory usage: 762.9 MB\n",
      "None\n"
     ]
    }
   ],
   "source": [
    "print(movies.isna().sum())\n",
    "print(ratings.isna().sum())\n",
    "# print(tags.isna().sum())\n",
    "    # tags 데이터 프레임에 null값을 가진 셀 16개\n",
    "print(movies.info())\n",
    "print(ratings.info())\n",
    "# print(tags.info()) # df.index / df.shape() / df[df.column[0]].count()"
   ]
  },
  {
   "cell_type": "code",
   "execution_count": 2,
   "id": "4334c0c4",
   "metadata": {
    "ExecuteTime": {
     "end_time": "2021-09-01T06:17:42.270477Z",
     "start_time": "2021-09-01T06:17:42.054371Z"
    }
   },
   "outputs": [
    {
     "name": "stdout",
     "output_type": "stream",
     "text": [
      "1093360\n",
      "<class 'pandas.core.frame.DataFrame'>\n",
      "RangeIndex: 1093360 entries, 0 to 1093359\n",
      "Data columns (total 4 columns):\n",
      " #   Column     Non-Null Count    Dtype \n",
      "---  ------     --------------    ----- \n",
      " 0   userId     1093360 non-null  int64 \n",
      " 1   movieId    1093360 non-null  int64 \n",
      " 2   tag        1093344 non-null  object\n",
      " 3   timestamp  1093360 non-null  int64 \n",
      "dtypes: int64(3), object(1)\n",
      "memory usage: 33.4+ MB\n",
      "None\n",
      "<class 'pandas.core.frame.DataFrame'>\n",
      "Int64Index: 1093344 entries, 0 to 1093359\n",
      "Data columns (total 4 columns):\n",
      " #   Column     Non-Null Count    Dtype \n",
      "---  ------     --------------    ----- \n",
      " 0   userId     1093344 non-null  int64 \n",
      " 1   movieId    1093344 non-null  int64 \n",
      " 2   tag        1093344 non-null  object\n",
      " 3   timestamp  1093344 non-null  int64 \n",
      "dtypes: int64(3), object(1)\n",
      "memory usage: 41.7+ MB\n",
      "None\n"
     ]
    }
   ],
   "source": [
    "print(len(tags.index))\n",
    "print(tags.info())\n",
    "tags.dropna(axis=0, how='any', inplace=True)\n",
    "print(tags.info())"
   ]
  },
  {
   "cell_type": "code",
   "execution_count": 15,
   "id": "54f13528",
   "metadata": {
    "ExecuteTime": {
     "end_time": "2021-08-31T07:47:54.912219Z",
     "start_time": "2021-08-31T07:47:54.891247Z"
    }
   },
   "outputs": [
    {
     "data": {
      "text/html": [
       "<div>\n",
       "<style scoped>\n",
       "    .dataframe tbody tr th:only-of-type {\n",
       "        vertical-align: middle;\n",
       "    }\n",
       "\n",
       "    .dataframe tbody tr th {\n",
       "        vertical-align: top;\n",
       "    }\n",
       "\n",
       "    .dataframe thead th {\n",
       "        text-align: right;\n",
       "    }\n",
       "</style>\n",
       "<table border=\"1\" class=\"dataframe\">\n",
       "  <thead>\n",
       "    <tr style=\"text-align: right;\">\n",
       "      <th></th>\n",
       "      <th>userId</th>\n",
       "      <th>movieId</th>\n",
       "      <th>rating</th>\n",
       "      <th>timestamp</th>\n",
       "    </tr>\n",
       "  </thead>\n",
       "  <tbody>\n",
       "    <tr>\n",
       "      <th>0</th>\n",
       "      <td>1</td>\n",
       "      <td>296</td>\n",
       "      <td>5.0</td>\n",
       "      <td>1147880044</td>\n",
       "    </tr>\n",
       "    <tr>\n",
       "      <th>1</th>\n",
       "      <td>1</td>\n",
       "      <td>306</td>\n",
       "      <td>3.5</td>\n",
       "      <td>1147868817</td>\n",
       "    </tr>\n",
       "    <tr>\n",
       "      <th>2</th>\n",
       "      <td>1</td>\n",
       "      <td>307</td>\n",
       "      <td>5.0</td>\n",
       "      <td>1147868828</td>\n",
       "    </tr>\n",
       "    <tr>\n",
       "      <th>3</th>\n",
       "      <td>1</td>\n",
       "      <td>665</td>\n",
       "      <td>5.0</td>\n",
       "      <td>1147878820</td>\n",
       "    </tr>\n",
       "    <tr>\n",
       "      <th>4</th>\n",
       "      <td>1</td>\n",
       "      <td>899</td>\n",
       "      <td>3.5</td>\n",
       "      <td>1147868510</td>\n",
       "    </tr>\n",
       "    <tr>\n",
       "      <th>5</th>\n",
       "      <td>1</td>\n",
       "      <td>1088</td>\n",
       "      <td>4.0</td>\n",
       "      <td>1147868495</td>\n",
       "    </tr>\n",
       "    <tr>\n",
       "      <th>6</th>\n",
       "      <td>1</td>\n",
       "      <td>1175</td>\n",
       "      <td>3.5</td>\n",
       "      <td>1147868826</td>\n",
       "    </tr>\n",
       "    <tr>\n",
       "      <th>7</th>\n",
       "      <td>1</td>\n",
       "      <td>1217</td>\n",
       "      <td>3.5</td>\n",
       "      <td>1147878326</td>\n",
       "    </tr>\n",
       "    <tr>\n",
       "      <th>8</th>\n",
       "      <td>1</td>\n",
       "      <td>1237</td>\n",
       "      <td>5.0</td>\n",
       "      <td>1147868839</td>\n",
       "    </tr>\n",
       "    <tr>\n",
       "      <th>9</th>\n",
       "      <td>1</td>\n",
       "      <td>1250</td>\n",
       "      <td>4.0</td>\n",
       "      <td>1147868414</td>\n",
       "    </tr>\n",
       "  </tbody>\n",
       "</table>\n",
       "</div>"
      ],
      "text/plain": [
       "   userId  movieId  rating   timestamp\n",
       "0       1      296     5.0  1147880044\n",
       "1       1      306     3.5  1147868817\n",
       "2       1      307     5.0  1147868828\n",
       "3       1      665     5.0  1147878820\n",
       "4       1      899     3.5  1147868510\n",
       "5       1     1088     4.0  1147868495\n",
       "6       1     1175     3.5  1147868826\n",
       "7       1     1217     3.5  1147878326\n",
       "8       1     1237     5.0  1147868839\n",
       "9       1     1250     4.0  1147868414"
      ]
     },
     "execution_count": 15,
     "metadata": {},
     "output_type": "execute_result"
    }
   ],
   "source": [
    "ratings.head(10)"
   ]
  },
  {
   "cell_type": "code",
   "execution_count": 4,
   "id": "553e7ed1",
   "metadata": {
    "ExecuteTime": {
     "end_time": "2021-09-02T06:59:14.635252Z",
     "start_time": "2021-09-02T06:59:14.612306Z"
    }
   },
   "outputs": [
    {
     "data": {
      "text/html": [
       "<div>\n",
       "<style scoped>\n",
       "    .dataframe tbody tr th:only-of-type {\n",
       "        vertical-align: middle;\n",
       "    }\n",
       "\n",
       "    .dataframe tbody tr th {\n",
       "        vertical-align: top;\n",
       "    }\n",
       "\n",
       "    .dataframe thead th {\n",
       "        text-align: right;\n",
       "    }\n",
       "</style>\n",
       "<table border=\"1\" class=\"dataframe\">\n",
       "  <thead>\n",
       "    <tr style=\"text-align: right;\">\n",
       "      <th></th>\n",
       "      <th>movieId</th>\n",
       "      <th>title</th>\n",
       "      <th>genres</th>\n",
       "    </tr>\n",
       "  </thead>\n",
       "  <tbody>\n",
       "    <tr>\n",
       "      <th>0</th>\n",
       "      <td>1</td>\n",
       "      <td>Toy Story (1995)</td>\n",
       "      <td>Adventure|Animation|Children|Comedy|Fantasy</td>\n",
       "    </tr>\n",
       "    <tr>\n",
       "      <th>1</th>\n",
       "      <td>2</td>\n",
       "      <td>Jumanji (1995)</td>\n",
       "      <td>Adventure|Children|Fantasy</td>\n",
       "    </tr>\n",
       "    <tr>\n",
       "      <th>2</th>\n",
       "      <td>3</td>\n",
       "      <td>Grumpier Old Men (1995)</td>\n",
       "      <td>Comedy|Romance</td>\n",
       "    </tr>\n",
       "    <tr>\n",
       "      <th>3</th>\n",
       "      <td>4</td>\n",
       "      <td>Waiting to Exhale (1995)</td>\n",
       "      <td>Comedy|Drama|Romance</td>\n",
       "    </tr>\n",
       "    <tr>\n",
       "      <th>4</th>\n",
       "      <td>5</td>\n",
       "      <td>Father of the Bride Part II (1995)</td>\n",
       "      <td>Comedy</td>\n",
       "    </tr>\n",
       "  </tbody>\n",
       "</table>\n",
       "</div>"
      ],
      "text/plain": [
       "   movieId                               title  \\\n",
       "0        1                    Toy Story (1995)   \n",
       "1        2                      Jumanji (1995)   \n",
       "2        3             Grumpier Old Men (1995)   \n",
       "3        4            Waiting to Exhale (1995)   \n",
       "4        5  Father of the Bride Part II (1995)   \n",
       "\n",
       "                                        genres  \n",
       "0  Adventure|Animation|Children|Comedy|Fantasy  \n",
       "1                   Adventure|Children|Fantasy  \n",
       "2                               Comedy|Romance  \n",
       "3                         Comedy|Drama|Romance  \n",
       "4                                       Comedy  "
      ]
     },
     "execution_count": 4,
     "metadata": {},
     "output_type": "execute_result"
    }
   ],
   "source": [
    "movies.head()"
   ]
  },
  {
   "cell_type": "code",
   "execution_count": 3,
   "id": "bcc921d7",
   "metadata": {
    "ExecuteTime": {
     "end_time": "2021-09-27T08:37:11.246546Z",
     "start_time": "2021-09-27T08:37:10.506525Z"
    }
   },
   "outputs": [
    {
     "data": {
      "text/plain": [
       "movieId\n",
       "1         3.893708\n",
       "2         3.251527\n",
       "3         3.142028\n",
       "4         2.853547\n",
       "5         3.058434\n",
       "            ...   \n",
       "209157    1.500000\n",
       "209159    3.000000\n",
       "209163    4.500000\n",
       "209169    3.000000\n",
       "209171    3.000000\n",
       "Name: rating, Length: 59047, dtype: float64"
      ]
     },
     "execution_count": 3,
     "metadata": {},
     "output_type": "execute_result"
    }
   ],
   "source": [
    "ratings_m = ratings.groupby(['movieId'])['rating'].mean() # groupby를 한 뒤에는 계층이 생기므로 reset_index() 작업이 필요할 수 있음.\n",
    "ratings_m \n",
    "            # ratings.pivot_table(index='movieId',values='rating', aggfunc='mean')"
   ]
  },
  {
   "cell_type": "code",
   "execution_count": 8,
   "id": "780ede16",
   "metadata": {},
   "outputs": [
    {
     "data": {
      "text/html": [
       "<div>\n",
       "<style scoped>\n",
       "    .dataframe tbody tr th:only-of-type {\n",
       "        vertical-align: middle;\n",
       "    }\n",
       "\n",
       "    .dataframe tbody tr th {\n",
       "        vertical-align: top;\n",
       "    }\n",
       "\n",
       "    .dataframe thead th {\n",
       "        text-align: right;\n",
       "    }\n",
       "</style>\n",
       "<table border=\"1\" class=\"dataframe\">\n",
       "  <thead>\n",
       "    <tr style=\"text-align: right;\">\n",
       "      <th></th>\n",
       "      <th>userId</th>\n",
       "      <th>rating</th>\n",
       "      <th>timestamp</th>\n",
       "    </tr>\n",
       "    <tr>\n",
       "      <th>movieId</th>\n",
       "      <th></th>\n",
       "      <th></th>\n",
       "      <th></th>\n",
       "    </tr>\n",
       "  </thead>\n",
       "  <tbody>\n",
       "    <tr>\n",
       "      <th>1</th>\n",
       "      <td>81294.564728</td>\n",
       "      <td>3.893708</td>\n",
       "      <td>1.153152e+09</td>\n",
       "    </tr>\n",
       "    <tr>\n",
       "      <th>2</th>\n",
       "      <td>81358.542554</td>\n",
       "      <td>3.251527</td>\n",
       "      <td>1.122310e+09</td>\n",
       "    </tr>\n",
       "    <tr>\n",
       "      <th>3</th>\n",
       "      <td>81343.694934</td>\n",
       "      <td>3.142028</td>\n",
       "      <td>9.806023e+08</td>\n",
       "    </tr>\n",
       "    <tr>\n",
       "      <th>4</th>\n",
       "      <td>81266.193024</td>\n",
       "      <td>2.853547</td>\n",
       "      <td>9.424605e+08</td>\n",
       "    </tr>\n",
       "    <tr>\n",
       "      <th>5</th>\n",
       "      <td>81002.872460</td>\n",
       "      <td>3.058434</td>\n",
       "      <td>1.004723e+09</td>\n",
       "    </tr>\n",
       "    <tr>\n",
       "      <th>...</th>\n",
       "      <td>...</td>\n",
       "      <td>...</td>\n",
       "      <td>...</td>\n",
       "    </tr>\n",
       "    <tr>\n",
       "      <th>209157</th>\n",
       "      <td>119571.000000</td>\n",
       "      <td>1.500000</td>\n",
       "      <td>1.574281e+09</td>\n",
       "    </tr>\n",
       "    <tr>\n",
       "      <th>209159</th>\n",
       "      <td>115835.000000</td>\n",
       "      <td>3.000000</td>\n",
       "      <td>1.574281e+09</td>\n",
       "    </tr>\n",
       "    <tr>\n",
       "      <th>209163</th>\n",
       "      <td>6964.000000</td>\n",
       "      <td>4.500000</td>\n",
       "      <td>1.574285e+09</td>\n",
       "    </tr>\n",
       "    <tr>\n",
       "      <th>209169</th>\n",
       "      <td>119571.000000</td>\n",
       "      <td>3.000000</td>\n",
       "      <td>1.574292e+09</td>\n",
       "    </tr>\n",
       "    <tr>\n",
       "      <th>209171</th>\n",
       "      <td>119571.000000</td>\n",
       "      <td>3.000000</td>\n",
       "      <td>1.574292e+09</td>\n",
       "    </tr>\n",
       "  </tbody>\n",
       "</table>\n",
       "<p>59047 rows × 3 columns</p>\n",
       "</div>"
      ],
      "text/plain": [
       "                userId    rating     timestamp\n",
       "movieId                                       \n",
       "1         81294.564728  3.893708  1.153152e+09\n",
       "2         81358.542554  3.251527  1.122310e+09\n",
       "3         81343.694934  3.142028  9.806023e+08\n",
       "4         81266.193024  2.853547  9.424605e+08\n",
       "5         81002.872460  3.058434  1.004723e+09\n",
       "...                ...       ...           ...\n",
       "209157   119571.000000  1.500000  1.574281e+09\n",
       "209159   115835.000000  3.000000  1.574281e+09\n",
       "209163     6964.000000  4.500000  1.574285e+09\n",
       "209169   119571.000000  3.000000  1.574292e+09\n",
       "209171   119571.000000  3.000000  1.574292e+09\n",
       "\n",
       "[59047 rows x 3 columns]"
      ]
     },
     "execution_count": 8,
     "metadata": {},
     "output_type": "execute_result"
    }
   ],
   "source": [
    "ratings.groupby(['movieId']).mean()"
   ]
  },
  {
   "cell_type": "code",
   "execution_count": 5,
   "id": "b59fc177",
   "metadata": {
    "ExecuteTime": {
     "end_time": "2021-09-27T03:39:49.306503Z",
     "start_time": "2021-09-27T03:39:49.290528Z"
    }
   },
   "outputs": [
    {
     "data": {
      "text/html": [
       "<div>\n",
       "<style scoped>\n",
       "    .dataframe tbody tr th:only-of-type {\n",
       "        vertical-align: middle;\n",
       "    }\n",
       "\n",
       "    .dataframe tbody tr th {\n",
       "        vertical-align: top;\n",
       "    }\n",
       "\n",
       "    .dataframe thead th {\n",
       "        text-align: right;\n",
       "    }\n",
       "</style>\n",
       "<table border=\"1\" class=\"dataframe\">\n",
       "  <thead>\n",
       "    <tr style=\"text-align: right;\">\n",
       "      <th></th>\n",
       "      <th>movieId</th>\n",
       "      <th>rating</th>\n",
       "    </tr>\n",
       "  </thead>\n",
       "  <tbody>\n",
       "    <tr>\n",
       "      <th>0</th>\n",
       "      <td>1</td>\n",
       "      <td>3.893708</td>\n",
       "    </tr>\n",
       "    <tr>\n",
       "      <th>1</th>\n",
       "      <td>2</td>\n",
       "      <td>3.251527</td>\n",
       "    </tr>\n",
       "    <tr>\n",
       "      <th>2</th>\n",
       "      <td>3</td>\n",
       "      <td>3.142028</td>\n",
       "    </tr>\n",
       "    <tr>\n",
       "      <th>3</th>\n",
       "      <td>4</td>\n",
       "      <td>2.853547</td>\n",
       "    </tr>\n",
       "    <tr>\n",
       "      <th>4</th>\n",
       "      <td>5</td>\n",
       "      <td>3.058434</td>\n",
       "    </tr>\n",
       "    <tr>\n",
       "      <th>...</th>\n",
       "      <td>...</td>\n",
       "      <td>...</td>\n",
       "    </tr>\n",
       "    <tr>\n",
       "      <th>59042</th>\n",
       "      <td>209157</td>\n",
       "      <td>1.500000</td>\n",
       "    </tr>\n",
       "    <tr>\n",
       "      <th>59043</th>\n",
       "      <td>209159</td>\n",
       "      <td>3.000000</td>\n",
       "    </tr>\n",
       "    <tr>\n",
       "      <th>59044</th>\n",
       "      <td>209163</td>\n",
       "      <td>4.500000</td>\n",
       "    </tr>\n",
       "    <tr>\n",
       "      <th>59045</th>\n",
       "      <td>209169</td>\n",
       "      <td>3.000000</td>\n",
       "    </tr>\n",
       "    <tr>\n",
       "      <th>59046</th>\n",
       "      <td>209171</td>\n",
       "      <td>3.000000</td>\n",
       "    </tr>\n",
       "  </tbody>\n",
       "</table>\n",
       "<p>59047 rows × 2 columns</p>\n",
       "</div>"
      ],
      "text/plain": [
       "       movieId    rating\n",
       "0            1  3.893708\n",
       "1            2  3.251527\n",
       "2            3  3.142028\n",
       "3            4  2.853547\n",
       "4            5  3.058434\n",
       "...        ...       ...\n",
       "59042   209157  1.500000\n",
       "59043   209159  3.000000\n",
       "59044   209163  4.500000\n",
       "59045   209169  3.000000\n",
       "59046   209171  3.000000\n",
       "\n",
       "[59047 rows x 2 columns]"
      ]
     },
     "execution_count": 5,
     "metadata": {},
     "output_type": "execute_result"
    }
   ],
   "source": [
    "pd.DataFrame(ratings_m).reset_index()\n",
    "                # 위에서는 처음 ['rating'].mean()을 merge할 때 rating열이 없었으므로 필드명이 그대로 삽입되었지만\n",
    "                # 이후 [rating'].count()가 추가되면 rating이라는 필드명이 중복되기 때문에 rating_x, rating_y로 자동 변형되는듯\n",
    "                     # >=25번 이상 발생이라는 제한유무와 무관한듯?"
   ]
  },
  {
   "cell_type": "code",
   "execution_count": null,
   "id": "a98b71ff",
   "metadata": {},
   "outputs": [],
   "source": [
    "# movies DataFrame에 62423개의 movieId가 존재 vs ratings DataFrame을 .groupby[('movieId')]했을 때 59047가 반환\n",
    "    # groupby 메서드에서 파라미터(매개변수) dropno = True 가 기본값임."
   ]
  },
  {
   "cell_type": "code",
   "execution_count": 4,
   "id": "ae48da8b",
   "metadata": {
    "ExecuteTime": {
     "end_time": "2021-09-27T08:37:13.291624Z",
     "start_time": "2021-09-27T08:37:13.256717Z"
    },
    "scrolled": true
   },
   "outputs": [
    {
     "data": {
      "text/html": [
       "<div>\n",
       "<style scoped>\n",
       "    .dataframe tbody tr th:only-of-type {\n",
       "        vertical-align: middle;\n",
       "    }\n",
       "\n",
       "    .dataframe tbody tr th {\n",
       "        vertical-align: top;\n",
       "    }\n",
       "\n",
       "    .dataframe thead th {\n",
       "        text-align: right;\n",
       "    }\n",
       "</style>\n",
       "<table border=\"1\" class=\"dataframe\">\n",
       "  <thead>\n",
       "    <tr style=\"text-align: right;\">\n",
       "      <th></th>\n",
       "      <th>movieId</th>\n",
       "      <th>title</th>\n",
       "      <th>genres</th>\n",
       "      <th>rating</th>\n",
       "    </tr>\n",
       "  </thead>\n",
       "  <tbody>\n",
       "    <tr>\n",
       "      <th>0</th>\n",
       "      <td>1</td>\n",
       "      <td>Toy Story (1995)</td>\n",
       "      <td>Adventure|Animation|Children|Comedy|Fantasy</td>\n",
       "      <td>3.893708</td>\n",
       "    </tr>\n",
       "    <tr>\n",
       "      <th>1</th>\n",
       "      <td>2</td>\n",
       "      <td>Jumanji (1995)</td>\n",
       "      <td>Adventure|Children|Fantasy</td>\n",
       "      <td>3.251527</td>\n",
       "    </tr>\n",
       "    <tr>\n",
       "      <th>2</th>\n",
       "      <td>3</td>\n",
       "      <td>Grumpier Old Men (1995)</td>\n",
       "      <td>Comedy|Romance</td>\n",
       "      <td>3.142028</td>\n",
       "    </tr>\n",
       "    <tr>\n",
       "      <th>3</th>\n",
       "      <td>4</td>\n",
       "      <td>Waiting to Exhale (1995)</td>\n",
       "      <td>Comedy|Drama|Romance</td>\n",
       "      <td>2.853547</td>\n",
       "    </tr>\n",
       "    <tr>\n",
       "      <th>4</th>\n",
       "      <td>5</td>\n",
       "      <td>Father of the Bride Part II (1995)</td>\n",
       "      <td>Comedy</td>\n",
       "      <td>3.058434</td>\n",
       "    </tr>\n",
       "    <tr>\n",
       "      <th>5</th>\n",
       "      <td>6</td>\n",
       "      <td>Heat (1995)</td>\n",
       "      <td>Action|Crime|Thriller</td>\n",
       "      <td>3.854909</td>\n",
       "    </tr>\n",
       "    <tr>\n",
       "      <th>6</th>\n",
       "      <td>7</td>\n",
       "      <td>Sabrina (1995)</td>\n",
       "      <td>Comedy|Romance</td>\n",
       "      <td>3.363666</td>\n",
       "    </tr>\n",
       "    <tr>\n",
       "      <th>7</th>\n",
       "      <td>8</td>\n",
       "      <td>Tom and Huck (1995)</td>\n",
       "      <td>Adventure|Children</td>\n",
       "      <td>3.114583</td>\n",
       "    </tr>\n",
       "    <tr>\n",
       "      <th>8</th>\n",
       "      <td>9</td>\n",
       "      <td>Sudden Death (1995)</td>\n",
       "      <td>Action</td>\n",
       "      <td>2.992051</td>\n",
       "    </tr>\n",
       "    <tr>\n",
       "      <th>9</th>\n",
       "      <td>10</td>\n",
       "      <td>GoldenEye (1995)</td>\n",
       "      <td>Action|Adventure|Thriller</td>\n",
       "      <td>3.421458</td>\n",
       "    </tr>\n",
       "  </tbody>\n",
       "</table>\n",
       "</div>"
      ],
      "text/plain": [
       "   movieId                               title  \\\n",
       "0        1                    Toy Story (1995)   \n",
       "1        2                      Jumanji (1995)   \n",
       "2        3             Grumpier Old Men (1995)   \n",
       "3        4            Waiting to Exhale (1995)   \n",
       "4        5  Father of the Bride Part II (1995)   \n",
       "5        6                         Heat (1995)   \n",
       "6        7                      Sabrina (1995)   \n",
       "7        8                 Tom and Huck (1995)   \n",
       "8        9                 Sudden Death (1995)   \n",
       "9       10                    GoldenEye (1995)   \n",
       "\n",
       "                                        genres    rating  \n",
       "0  Adventure|Animation|Children|Comedy|Fantasy  3.893708  \n",
       "1                   Adventure|Children|Fantasy  3.251527  \n",
       "2                               Comedy|Romance  3.142028  \n",
       "3                         Comedy|Drama|Romance  2.853547  \n",
       "4                                       Comedy  3.058434  \n",
       "5                        Action|Crime|Thriller  3.854909  \n",
       "6                               Comedy|Romance  3.363666  \n",
       "7                           Adventure|Children  3.114583  \n",
       "8                                       Action  2.992051  \n",
       "9                    Action|Adventure|Thriller  3.421458  "
      ]
     },
     "execution_count": 4,
     "metadata": {},
     "output_type": "execute_result"
    }
   ],
   "source": [
    "movies_1 = pd.merge(movies, ratings_m, on=['movieId']) # ratings_m은 데이터프레임이 아닌 상태\n",
    "movies_1.head(10)\n",
    "            # merge함수와 concat함수의 차이점을 이해하고 사용처의 구분을 기억하자! \n",
    "            # iris_df = pd.concat([x, y], axis=1) # 열병합의 하기 위해선 행의 수가 같아야 함."
   ]
  },
  {
   "cell_type": "code",
   "execution_count": 5,
   "id": "ee7d8039",
   "metadata": {
    "ExecuteTime": {
     "end_time": "2021-08-26T06:30:15.345121Z",
     "start_time": "2021-08-26T06:30:15.326171Z"
    }
   },
   "outputs": [
    {
     "data": {
      "text/plain": [
       "movieId    59047\n",
       "title      59047\n",
       "genres     59047\n",
       "rating     59047\n",
       "dtype: int64"
      ]
     },
     "execution_count": 5,
     "metadata": {},
     "output_type": "execute_result"
    }
   ],
   "source": [
    "movies_1.count() # .size()와의 차이를 기억할 것. size()는 에러가 발생함(series만 가능한 듯)."
   ]
  },
  {
   "cell_type": "code",
   "execution_count": 8,
   "id": "fae469e4",
   "metadata": {},
   "outputs": [
    {
     "data": {
      "text/plain": [
       "236188"
      ]
     },
     "execution_count": 8,
     "metadata": {},
     "output_type": "execute_result"
    }
   ],
   "source": [
    "movies_1.size"
   ]
  },
  {
   "cell_type": "code",
   "execution_count": 52,
   "id": "bf677bd5",
   "metadata": {
    "ExecuteTime": {
     "end_time": "2021-09-27T06:17:20.837562Z",
     "start_time": "2021-09-27T06:17:20.829606Z"
    }
   },
   "outputs": [
    {
     "data": {
      "text/plain": [
       "''"
      ]
     },
     "execution_count": 52,
     "metadata": {},
     "output_type": "execute_result"
    }
   ],
   "source": [
    "movies_2.loc[0,'title'][27:-1]"
   ]
  },
  {
   "cell_type": "code",
   "execution_count": 5,
   "id": "79615712",
   "metadata": {
    "ExecuteTime": {
     "end_time": "2021-09-27T08:37:24.049271Z",
     "start_time": "2021-09-27T08:37:23.897676Z"
    }
   },
   "outputs": [
    {
     "data": {
      "text/html": [
       "<div>\n",
       "<style scoped>\n",
       "    .dataframe tbody tr th:only-of-type {\n",
       "        vertical-align: middle;\n",
       "    }\n",
       "\n",
       "    .dataframe tbody tr th {\n",
       "        vertical-align: top;\n",
       "    }\n",
       "\n",
       "    .dataframe thead th {\n",
       "        text-align: right;\n",
       "    }\n",
       "</style>\n",
       "<table border=\"1\" class=\"dataframe\">\n",
       "  <thead>\n",
       "    <tr style=\"text-align: right;\">\n",
       "      <th></th>\n",
       "      <th>movieId</th>\n",
       "      <th>title</th>\n",
       "      <th>genres</th>\n",
       "      <th>rating</th>\n",
       "      <th>released</th>\n",
       "    </tr>\n",
       "  </thead>\n",
       "  <tbody>\n",
       "    <tr>\n",
       "      <th>0</th>\n",
       "      <td>1</td>\n",
       "      <td>Toy Story (1995)</td>\n",
       "      <td>Adventure|Animation|Children|Comedy|Fantasy</td>\n",
       "      <td>3.893708</td>\n",
       "      <td>1995</td>\n",
       "    </tr>\n",
       "    <tr>\n",
       "      <th>1</th>\n",
       "      <td>2</td>\n",
       "      <td>Jumanji (1995)</td>\n",
       "      <td>Adventure|Children|Fantasy</td>\n",
       "      <td>3.251527</td>\n",
       "      <td>1995</td>\n",
       "    </tr>\n",
       "    <tr>\n",
       "      <th>2</th>\n",
       "      <td>3</td>\n",
       "      <td>Grumpier Old Men (1995)</td>\n",
       "      <td>Comedy|Romance</td>\n",
       "      <td>3.142028</td>\n",
       "      <td>1995</td>\n",
       "    </tr>\n",
       "    <tr>\n",
       "      <th>3</th>\n",
       "      <td>4</td>\n",
       "      <td>Waiting to Exhale (1995)</td>\n",
       "      <td>Comedy|Drama|Romance</td>\n",
       "      <td>2.853547</td>\n",
       "      <td>1995</td>\n",
       "    </tr>\n",
       "    <tr>\n",
       "      <th>4</th>\n",
       "      <td>5</td>\n",
       "      <td>Father of the Bride Part II (1995)</td>\n",
       "      <td>Comedy</td>\n",
       "      <td>3.058434</td>\n",
       "      <td>1995</td>\n",
       "    </tr>\n",
       "    <tr>\n",
       "      <th>...</th>\n",
       "      <td>...</td>\n",
       "      <td>...</td>\n",
       "      <td>...</td>\n",
       "      <td>...</td>\n",
       "      <td>...</td>\n",
       "    </tr>\n",
       "    <tr>\n",
       "      <th>59042</th>\n",
       "      <td>209157</td>\n",
       "      <td>We (2018)</td>\n",
       "      <td>Drama</td>\n",
       "      <td>1.500000</td>\n",
       "      <td>2018</td>\n",
       "    </tr>\n",
       "    <tr>\n",
       "      <th>59043</th>\n",
       "      <td>209159</td>\n",
       "      <td>Window of the Soul (2001)</td>\n",
       "      <td>Documentary</td>\n",
       "      <td>3.000000</td>\n",
       "      <td>2001</td>\n",
       "    </tr>\n",
       "    <tr>\n",
       "      <th>59044</th>\n",
       "      <td>209163</td>\n",
       "      <td>Bad Poems (2018)</td>\n",
       "      <td>Comedy|Drama</td>\n",
       "      <td>4.500000</td>\n",
       "      <td>2018</td>\n",
       "    </tr>\n",
       "    <tr>\n",
       "      <th>59045</th>\n",
       "      <td>209169</td>\n",
       "      <td>A Girl Thing (2001)</td>\n",
       "      <td>(no genres listed)</td>\n",
       "      <td>3.000000</td>\n",
       "      <td>2001</td>\n",
       "    </tr>\n",
       "    <tr>\n",
       "      <th>59046</th>\n",
       "      <td>209171</td>\n",
       "      <td>Women of Devil's Island (1962)</td>\n",
       "      <td>Action|Adventure|Drama</td>\n",
       "      <td>3.000000</td>\n",
       "      <td>1962</td>\n",
       "    </tr>\n",
       "  </tbody>\n",
       "</table>\n",
       "<p>59047 rows × 5 columns</p>\n",
       "</div>"
      ],
      "text/plain": [
       "       movieId                               title  \\\n",
       "0            1                    Toy Story (1995)   \n",
       "1            2                      Jumanji (1995)   \n",
       "2            3             Grumpier Old Men (1995)   \n",
       "3            4            Waiting to Exhale (1995)   \n",
       "4            5  Father of the Bride Part II (1995)   \n",
       "...        ...                                 ...   \n",
       "59042   209157                           We (2018)   \n",
       "59043   209159           Window of the Soul (2001)   \n",
       "59044   209163                    Bad Poems (2018)   \n",
       "59045   209169                 A Girl Thing (2001)   \n",
       "59046   209171      Women of Devil's Island (1962)   \n",
       "\n",
       "                                            genres    rating released  \n",
       "0      Adventure|Animation|Children|Comedy|Fantasy  3.893708     1995  \n",
       "1                       Adventure|Children|Fantasy  3.251527     1995  \n",
       "2                                   Comedy|Romance  3.142028     1995  \n",
       "3                             Comedy|Drama|Romance  2.853547     1995  \n",
       "4                                           Comedy  3.058434     1995  \n",
       "...                                            ...       ...      ...  \n",
       "59042                                        Drama  1.500000     2018  \n",
       "59043                                  Documentary  3.000000     2001  \n",
       "59044                                 Comedy|Drama  4.500000     2018  \n",
       "59045                           (no genres listed)  3.000000     2001  \n",
       "59046                       Action|Adventure|Drama  3.000000     1962  \n",
       "\n",
       "[59047 rows x 5 columns]"
      ]
     },
     "execution_count": 5,
     "metadata": {},
     "output_type": "execute_result"
    }
   ],
   "source": [
    "# 시도4\n",
    "import pandas as pd\n",
    "# movies_1['released'] = movies_1['title'].str.extract('(^\\)+\\d{4}+(\\)$)') # (로 시작하고 )로 끝나는 문자를 만들고 싶은데 에러발생...\n",
    "movies_1['released'] = movies_1['title'].str.extract('(\\d{4})')\n",
    "movies_1\n",
    "# r_year\n",
    "# print(r_year.isnull().sum())\n",
    "# print(r_year)\n",
    "# print(r_year.info())\n",
    "# movies_1['released'] = r_year\n",
    "# movies_2['release'] = pd.merge(movies_2, r_year, on='')\n",
    "            # 최초에 만들 떄는 extract 함수를 구글링하여 썻는데, 이는 정규식과의 결합 이용이 요구됨\n",
    "            # 앞에서 공부했던 것을 적용시킬 때 title 내의 '(' 기호를 기준으로 분리(split)하고 \n",
    "                # 반환되는 리스트의 요소를 이용하여 연도를 추출하는 것이 더 쉬울듯. -> 시도 5"
   ]
  },
  {
   "cell_type": "code",
   "execution_count": 2,
   "id": "c0bff344",
   "metadata": {
    "ExecuteTime": {
     "end_time": "2021-09-08T03:59:26.866258Z",
     "start_time": "2021-09-08T03:59:26.825390Z"
    }
   },
   "outputs": [
    {
     "data": {
      "text/plain": [
       "0        1995)\n",
       "1        1995)\n",
       "2        1995)\n",
       "3        1995)\n",
       "4        1995)\n",
       "         ...  \n",
       "62418    2018)\n",
       "62419    2001)\n",
       "62420    2018)\n",
       "62421    2001)\n",
       "62422    1962)\n",
       "Name: title, Length: 62423, dtype: object"
      ]
     },
     "execution_count": 2,
     "metadata": {},
     "output_type": "execute_result"
    }
   ],
   "source": [
    "# 마지막으로 찾아낸 것(시도 5-0)\n",
    "# released를 뽑아낼 때 apply + split도 유사한 작업을 할 수 있을듯?\n",
    "a = movies['title'].apply(lambda x : x.split('(')[-1])\n",
    "a"
   ]
  },
  {
   "cell_type": "code",
   "execution_count": 32,
   "id": "d26bec1c",
   "metadata": {
    "ExecuteTime": {
     "end_time": "2021-09-10T03:38:29.210790Z",
     "start_time": "2021-09-10T03:38:29.170887Z"
    }
   },
   "outputs": [
    {
     "data": {
      "text/plain": [
       "0        1995\n",
       "1        1995\n",
       "2        1995\n",
       "3        1995\n",
       "4        1995\n",
       "         ... \n",
       "62418    2018\n",
       "62419    2001\n",
       "62420    2018\n",
       "62421    2001\n",
       "62422    1962\n",
       "Name: title, Length: 62423, dtype: object"
      ]
     },
     "execution_count": 32,
     "metadata": {},
     "output_type": "execute_result"
    }
   ],
   "source": [
    "# 마지막으로 찾아낸 것(시도 5-1)\n",
    "a = movies['title'].apply(lambda x : x[-5:-1])\n",
    "a\n",
    "            # a.astype('int32') 적용시 에러발생. ValueError: invalid literal for int() with base 10: '948)'"
   ]
  },
  {
   "cell_type": "code",
   "execution_count": 6,
   "id": "fe765bf8",
   "metadata": {
    "ExecuteTime": {
     "end_time": "2021-09-27T04:15:39.834401Z",
     "start_time": "2021-09-27T04:15:39.794506Z"
    },
    "scrolled": true
   },
   "outputs": [
    {
     "data": {
      "text/html": [
       "<div>\n",
       "<style scoped>\n",
       "    .dataframe tbody tr th:only-of-type {\n",
       "        vertical-align: middle;\n",
       "    }\n",
       "\n",
       "    .dataframe tbody tr th {\n",
       "        vertical-align: top;\n",
       "    }\n",
       "\n",
       "    .dataframe thead th {\n",
       "        text-align: right;\n",
       "    }\n",
       "</style>\n",
       "<table border=\"1\" class=\"dataframe\">\n",
       "  <thead>\n",
       "    <tr style=\"text-align: right;\">\n",
       "      <th></th>\n",
       "      <th>movieId</th>\n",
       "      <th>title</th>\n",
       "      <th>genres</th>\n",
       "      <th>rating</th>\n",
       "      <th>released</th>\n",
       "    </tr>\n",
       "  </thead>\n",
       "  <tbody>\n",
       "    <tr>\n",
       "      <th>15023</th>\n",
       "      <td>79607</td>\n",
       "      <td>Millions Game, The (Das Millionenspiel)</td>\n",
       "      <td>Action|Drama|Sci-Fi|Thriller</td>\n",
       "      <td>3.400000</td>\n",
       "      <td>NaN</td>\n",
       "    </tr>\n",
       "    <tr>\n",
       "      <th>24817</th>\n",
       "      <td>123619</td>\n",
       "      <td>Terrible Joe Moran</td>\n",
       "      <td>(no genres listed)</td>\n",
       "      <td>2.500000</td>\n",
       "      <td>NaN</td>\n",
       "    </tr>\n",
       "    <tr>\n",
       "      <th>25555</th>\n",
       "      <td>125571</td>\n",
       "      <td>The Court-Martial of Jackie Robinson</td>\n",
       "      <td>(no genres listed)</td>\n",
       "      <td>3.500000</td>\n",
       "      <td>NaN</td>\n",
       "    </tr>\n",
       "    <tr>\n",
       "      <th>25580</th>\n",
       "      <td>125632</td>\n",
       "      <td>In Our Garden</td>\n",
       "      <td>(no genres listed)</td>\n",
       "      <td>4.000000</td>\n",
       "      <td>NaN</td>\n",
       "    </tr>\n",
       "    <tr>\n",
       "      <th>25659</th>\n",
       "      <td>125958</td>\n",
       "      <td>Stephen Fry In America - New World</td>\n",
       "      <td>(no genres listed)</td>\n",
       "      <td>3.394737</td>\n",
       "      <td>NaN</td>\n",
       "    </tr>\n",
       "    <tr>\n",
       "      <th>...</th>\n",
       "      <td>...</td>\n",
       "      <td>...</td>\n",
       "      <td>...</td>\n",
       "      <td>...</td>\n",
       "      <td>...</td>\n",
       "    </tr>\n",
       "    <tr>\n",
       "      <th>58711</th>\n",
       "      <td>207714</td>\n",
       "      <td>Tales of Found Footage</td>\n",
       "      <td>(no genres listed)</td>\n",
       "      <td>3.000000</td>\n",
       "      <td>NaN</td>\n",
       "    </tr>\n",
       "    <tr>\n",
       "      <th>58743</th>\n",
       "      <td>207884</td>\n",
       "      <td>Enduring Destiny</td>\n",
       "      <td>(no genres listed)</td>\n",
       "      <td>5.000000</td>\n",
       "      <td>NaN</td>\n",
       "    </tr>\n",
       "    <tr>\n",
       "      <th>58911</th>\n",
       "      <td>208597</td>\n",
       "      <td>Punk the Capital: Building a Sound Movement</td>\n",
       "      <td>Documentary</td>\n",
       "      <td>5.000000</td>\n",
       "      <td>NaN</td>\n",
       "    </tr>\n",
       "    <tr>\n",
       "      <th>58951</th>\n",
       "      <td>208763</td>\n",
       "      <td>Yosemite: The Fate of Heaven</td>\n",
       "      <td>(no genres listed)</td>\n",
       "      <td>2.500000</td>\n",
       "      <td>NaN</td>\n",
       "    </tr>\n",
       "    <tr>\n",
       "      <th>59004</th>\n",
       "      <td>208973</td>\n",
       "      <td>The Falklands War: The Untold Story</td>\n",
       "      <td>(no genres listed)</td>\n",
       "      <td>3.500000</td>\n",
       "      <td>NaN</td>\n",
       "    </tr>\n",
       "  </tbody>\n",
       "</table>\n",
       "<p>368 rows × 5 columns</p>\n",
       "</div>"
      ],
      "text/plain": [
       "       movieId                                        title  \\\n",
       "15023    79607      Millions Game, The (Das Millionenspiel)   \n",
       "24817   123619                           Terrible Joe Moran   \n",
       "25555   125571         The Court-Martial of Jackie Robinson   \n",
       "25580   125632                                In Our Garden   \n",
       "25659   125958           Stephen Fry In America - New World   \n",
       "...        ...                                          ...   \n",
       "58711   207714                       Tales of Found Footage   \n",
       "58743   207884                             Enduring Destiny   \n",
       "58911   208597  Punk the Capital: Building a Sound Movement   \n",
       "58951   208763                 Yosemite: The Fate of Heaven   \n",
       "59004   208973          The Falklands War: The Untold Story   \n",
       "\n",
       "                             genres    rating released  \n",
       "15023  Action|Drama|Sci-Fi|Thriller  3.400000      NaN  \n",
       "24817            (no genres listed)  2.500000      NaN  \n",
       "25555            (no genres listed)  3.500000      NaN  \n",
       "25580            (no genres listed)  4.000000      NaN  \n",
       "25659            (no genres listed)  3.394737      NaN  \n",
       "...                             ...       ...      ...  \n",
       "58711            (no genres listed)  3.000000      NaN  \n",
       "58743            (no genres listed)  5.000000      NaN  \n",
       "58911                   Documentary  5.000000      NaN  \n",
       "58951            (no genres listed)  2.500000      NaN  \n",
       "59004            (no genres listed)  3.500000      NaN  \n",
       "\n",
       "[368 rows x 5 columns]"
      ]
     },
     "execution_count": 6,
     "metadata": {},
     "output_type": "execute_result"
    }
   ],
   "source": [
    "# title로부터 released값을 뽑아낼 때 정규표현식에 해당하는 값이 없던 행들의 경우 NaN값을 갖게 됨\n",
    "movies_1[movies_1['released'].isnull()]\n",
    "                    # 여기서는 개봉년도가 결측치라도 일단 제거하지 않고 진행."
   ]
  },
  {
   "cell_type": "code",
   "execution_count": null,
   "id": "2189bf72",
   "metadata": {},
   "outputs": [],
   "source": []
  },
  {
   "cell_type": "markdown",
   "id": "87baff4f",
   "metadata": {},
   "source": [
    "# movies_1 : rating, released 추가완료! -----"
   ]
  },
  {
   "cell_type": "code",
   "execution_count": 15,
   "id": "f7723a0e",
   "metadata": {
    "ExecuteTime": {
     "end_time": "2021-09-27T08:37:52.737762Z",
     "start_time": "2021-09-27T08:37:52.009685Z"
    },
    "scrolled": true
   },
   "outputs": [
    {
     "data": {
      "text/html": [
       "<div>\n",
       "<style scoped>\n",
       "    .dataframe tbody tr th:only-of-type {\n",
       "        vertical-align: middle;\n",
       "    }\n",
       "\n",
       "    .dataframe tbody tr th {\n",
       "        vertical-align: top;\n",
       "    }\n",
       "\n",
       "    .dataframe thead th {\n",
       "        text-align: right;\n",
       "    }\n",
       "</style>\n",
       "<table border=\"1\" class=\"dataframe\">\n",
       "  <thead>\n",
       "    <tr style=\"text-align: right;\">\n",
       "      <th></th>\n",
       "      <th>movieId</th>\n",
       "      <th>counts</th>\n",
       "    </tr>\n",
       "  </thead>\n",
       "  <tbody>\n",
       "    <tr>\n",
       "      <th>0</th>\n",
       "      <td>1</td>\n",
       "      <td>57309</td>\n",
       "    </tr>\n",
       "    <tr>\n",
       "      <th>1</th>\n",
       "      <td>2</td>\n",
       "      <td>24228</td>\n",
       "    </tr>\n",
       "    <tr>\n",
       "      <th>2</th>\n",
       "      <td>3</td>\n",
       "      <td>11804</td>\n",
       "    </tr>\n",
       "    <tr>\n",
       "      <th>3</th>\n",
       "      <td>4</td>\n",
       "      <td>2523</td>\n",
       "    </tr>\n",
       "    <tr>\n",
       "      <th>4</th>\n",
       "      <td>5</td>\n",
       "      <td>11714</td>\n",
       "    </tr>\n",
       "  </tbody>\n",
       "</table>\n",
       "</div>"
      ],
      "text/plain": [
       "   movieId  counts\n",
       "0        1   57309\n",
       "1        2   24228\n",
       "2        3   11804\n",
       "3        4    2523\n",
       "4        5   11714"
      ]
     },
     "execution_count": 15,
     "metadata": {},
     "output_type": "execute_result"
    }
   ],
   "source": [
    "### 더이상 아래처럼 여러단계를 거칠 필요 없이 size()를 사용하고 reset_index()도 한꺼번에 사용할 수 있음!\n",
    "ratings_c = ratings.groupby(['movieId']).size().reset_index(name='counts')\n",
    "ratings_c.head()"
   ]
  },
  {
   "cell_type": "code",
   "execution_count": null,
   "id": "d16a8480",
   "metadata": {},
   "outputs": [],
   "source": [
    "# 한 명이 5점 주고 더이상의 평점보고가 없으면 최상단에 위치하게되는 문제가 발생.\n",
    "    # 지금 왜 평점이 0과 5점으로 끊기고 있지?(최소/최대만 나와서 그런듯.)\n",
    "# 1. 최소평점획득 횟수가 필요\n",
    "# 2. 단순 평점순이 아닌 평점획득횟수와 결합하여 새로운 지표를 생성할 필요"
   ]
  },
  {
   "cell_type": "code",
   "execution_count": 7,
   "id": "da02fe62",
   "metadata": {
    "ExecuteTime": {
     "end_time": "2021-09-27T05:34:25.413059Z",
     "start_time": "2021-09-27T05:34:24.671005Z"
    }
   },
   "outputs": [
    {
     "data": {
      "text/plain": [
       "movieId\n",
       "1         57309\n",
       "2         24228\n",
       "3         11804\n",
       "4          2523\n",
       "5         11714\n",
       "          ...  \n",
       "209157        1\n",
       "209159        1\n",
       "209163        1\n",
       "209169        1\n",
       "209171        1\n",
       "Name: rating, Length: 59047, dtype: int64"
      ]
     },
     "execution_count": 7,
     "metadata": {},
     "output_type": "execute_result"
    }
   ],
   "source": [
    "# counts를 추가하기 위해\n",
    "# 위에서는 grouped_ratings = ratings.groupby(['movieId'])['rating'].mean()\n",
    "ratings_c = ratings.groupby(['movieId'])['rating'].count()\n",
    "ratings_c"
   ]
  },
  {
   "cell_type": "code",
   "execution_count": 7,
   "id": "7cbb31e4",
   "metadata": {
    "ExecuteTime": {
     "end_time": "2021-09-04T17:50:47.195374Z",
     "start_time": "2021-09-04T17:50:47.176391Z"
    }
   },
   "outputs": [],
   "source": [
    "ratings_c = pd.DataFrame(ratings_c).reset_index()\n",
    "# (1) ratings_count.columns = ['movieId', 'counts'] # 두 번 실행하면 안됨."
   ]
  },
  {
   "cell_type": "code",
   "execution_count": 8,
   "id": "5201cb89",
   "metadata": {
    "ExecuteTime": {
     "end_time": "2021-09-04T17:50:48.870332Z",
     "start_time": "2021-09-04T17:50:48.842404Z"
    }
   },
   "outputs": [
    {
     "data": {
      "text/html": [
       "<div>\n",
       "<style scoped>\n",
       "    .dataframe tbody tr th:only-of-type {\n",
       "        vertical-align: middle;\n",
       "    }\n",
       "\n",
       "    .dataframe tbody tr th {\n",
       "        vertical-align: top;\n",
       "    }\n",
       "\n",
       "    .dataframe thead th {\n",
       "        text-align: right;\n",
       "    }\n",
       "</style>\n",
       "<table border=\"1\" class=\"dataframe\">\n",
       "  <thead>\n",
       "    <tr style=\"text-align: right;\">\n",
       "      <th></th>\n",
       "      <th>movieId</th>\n",
       "      <th>counts</th>\n",
       "    </tr>\n",
       "  </thead>\n",
       "  <tbody>\n",
       "    <tr>\n",
       "      <th>0</th>\n",
       "      <td>1</td>\n",
       "      <td>57309</td>\n",
       "    </tr>\n",
       "    <tr>\n",
       "      <th>1</th>\n",
       "      <td>2</td>\n",
       "      <td>24228</td>\n",
       "    </tr>\n",
       "    <tr>\n",
       "      <th>2</th>\n",
       "      <td>3</td>\n",
       "      <td>11804</td>\n",
       "    </tr>\n",
       "    <tr>\n",
       "      <th>3</th>\n",
       "      <td>4</td>\n",
       "      <td>2523</td>\n",
       "    </tr>\n",
       "    <tr>\n",
       "      <th>4</th>\n",
       "      <td>5</td>\n",
       "      <td>11714</td>\n",
       "    </tr>\n",
       "    <tr>\n",
       "      <th>...</th>\n",
       "      <td>...</td>\n",
       "      <td>...</td>\n",
       "    </tr>\n",
       "    <tr>\n",
       "      <th>59042</th>\n",
       "      <td>209157</td>\n",
       "      <td>1</td>\n",
       "    </tr>\n",
       "    <tr>\n",
       "      <th>59043</th>\n",
       "      <td>209159</td>\n",
       "      <td>1</td>\n",
       "    </tr>\n",
       "    <tr>\n",
       "      <th>59044</th>\n",
       "      <td>209163</td>\n",
       "      <td>1</td>\n",
       "    </tr>\n",
       "    <tr>\n",
       "      <th>59045</th>\n",
       "      <td>209169</td>\n",
       "      <td>1</td>\n",
       "    </tr>\n",
       "    <tr>\n",
       "      <th>59046</th>\n",
       "      <td>209171</td>\n",
       "      <td>1</td>\n",
       "    </tr>\n",
       "  </tbody>\n",
       "</table>\n",
       "<p>59047 rows × 2 columns</p>\n",
       "</div>"
      ],
      "text/plain": [
       "       movieId  counts\n",
       "0            1   57309\n",
       "1            2   24228\n",
       "2            3   11804\n",
       "3            4    2523\n",
       "4            5   11714\n",
       "...        ...     ...\n",
       "59042   209157       1\n",
       "59043   209159       1\n",
       "59044   209163       1\n",
       "59045   209169       1\n",
       "59046   209171       1\n",
       "\n",
       "[59047 rows x 2 columns]"
      ]
     },
     "execution_count": 8,
     "metadata": {},
     "output_type": "execute_result"
    }
   ],
   "source": [
    "    # 실행하기전에 ratings_count가 dataframe이어야 함.(series이면 오류도 안나고 그냥 적용이 안됨)\n",
    "# (1) -> (2)\n",
    "ratings_c = ratings_c.rename({'rating':'counts'},axis=1)\n",
    "ratings_c"
   ]
  },
  {
   "cell_type": "code",
   "execution_count": 56,
   "id": "617661ea",
   "metadata": {
    "ExecuteTime": {
     "end_time": "2021-08-27T05:03:27.858888Z",
     "start_time": "2021-08-27T05:03:27.842902Z"
    }
   },
   "outputs": [
    {
     "ename": "NameError",
     "evalue": "name 'ratings_count' is not defined",
     "output_type": "error",
     "traceback": [
      "\u001b[1;31m---------------------------------------------------------------------------\u001b[0m",
      "\u001b[1;31mNameError\u001b[0m                                 Traceback (most recent call last)",
      "\u001b[1;32m<ipython-input-56-5cffe1abef6d>\u001b[0m in \u001b[0;36m<module>\u001b[1;34m\u001b[0m\n\u001b[0;32m      1\u001b[0m \u001b[1;31m# (3)\u001b[0m\u001b[1;33m\u001b[0m\u001b[1;33m\u001b[0m\u001b[1;33m\u001b[0m\u001b[0m\n\u001b[1;32m----> 2\u001b[1;33m \u001b[0mratings_count\u001b[0m\u001b[1;33m.\u001b[0m\u001b[0mset_axis\u001b[0m\u001b[1;33m(\u001b[0m\u001b[1;33m[\u001b[0m\u001b[1;34m'movieId'\u001b[0m\u001b[1;33m,\u001b[0m \u001b[1;34m'counts'\u001b[0m\u001b[1;33m]\u001b[0m\u001b[1;33m,\u001b[0m \u001b[0maxis\u001b[0m\u001b[1;33m=\u001b[0m\u001b[1;36m1\u001b[0m\u001b[1;33m)\u001b[0m\u001b[1;33m\u001b[0m\u001b[1;33m\u001b[0m\u001b[0m\n\u001b[0m\u001b[0;32m      3\u001b[0m     \u001b[1;31m# (1)+(2) vs (3) 인가?\u001b[0m\u001b[1;33m\u001b[0m\u001b[1;33m\u001b[0m\u001b[1;33m\u001b[0m\u001b[0m\n",
      "\u001b[1;31mNameError\u001b[0m: name 'ratings_count' is not defined"
     ]
    }
   ],
   "source": [
    "# (3)\n",
    "ratings_c.set_axis(['movieId', 'counts'], axis=1)\n",
    "    # (1)+(2) vs (3) 인가? ㄴㄴ 이부분 재확인 필요"
   ]
  },
  {
   "cell_type": "code",
   "execution_count": 12,
   "id": "c9519282",
   "metadata": {
    "ExecuteTime": {
     "end_time": "2021-09-27T08:38:09.818545Z",
     "start_time": "2021-09-27T08:38:09.769697Z"
    }
   },
   "outputs": [
    {
     "data": {
      "text/html": [
       "<div>\n",
       "<style scoped>\n",
       "    .dataframe tbody tr th:only-of-type {\n",
       "        vertical-align: middle;\n",
       "    }\n",
       "\n",
       "    .dataframe tbody tr th {\n",
       "        vertical-align: top;\n",
       "    }\n",
       "\n",
       "    .dataframe thead th {\n",
       "        text-align: right;\n",
       "    }\n",
       "</style>\n",
       "<table border=\"1\" class=\"dataframe\">\n",
       "  <thead>\n",
       "    <tr style=\"text-align: right;\">\n",
       "      <th></th>\n",
       "      <th>movieId</th>\n",
       "      <th>title</th>\n",
       "      <th>genres</th>\n",
       "      <th>rating</th>\n",
       "      <th>released</th>\n",
       "      <th>counts</th>\n",
       "    </tr>\n",
       "  </thead>\n",
       "  <tbody>\n",
       "    <tr>\n",
       "      <th>0</th>\n",
       "      <td>1</td>\n",
       "      <td>Toy Story (1995)</td>\n",
       "      <td>Adventure|Animation|Children|Comedy|Fantasy</td>\n",
       "      <td>3.893708</td>\n",
       "      <td>1995</td>\n",
       "      <td>57309</td>\n",
       "    </tr>\n",
       "    <tr>\n",
       "      <th>1</th>\n",
       "      <td>2</td>\n",
       "      <td>Jumanji (1995)</td>\n",
       "      <td>Adventure|Children|Fantasy</td>\n",
       "      <td>3.251527</td>\n",
       "      <td>1995</td>\n",
       "      <td>24228</td>\n",
       "    </tr>\n",
       "    <tr>\n",
       "      <th>2</th>\n",
       "      <td>3</td>\n",
       "      <td>Grumpier Old Men (1995)</td>\n",
       "      <td>Comedy|Romance</td>\n",
       "      <td>3.142028</td>\n",
       "      <td>1995</td>\n",
       "      <td>11804</td>\n",
       "    </tr>\n",
       "    <tr>\n",
       "      <th>3</th>\n",
       "      <td>4</td>\n",
       "      <td>Waiting to Exhale (1995)</td>\n",
       "      <td>Comedy|Drama|Romance</td>\n",
       "      <td>2.853547</td>\n",
       "      <td>1995</td>\n",
       "      <td>2523</td>\n",
       "    </tr>\n",
       "    <tr>\n",
       "      <th>4</th>\n",
       "      <td>5</td>\n",
       "      <td>Father of the Bride Part II (1995)</td>\n",
       "      <td>Comedy</td>\n",
       "      <td>3.058434</td>\n",
       "      <td>1995</td>\n",
       "      <td>11714</td>\n",
       "    </tr>\n",
       "    <tr>\n",
       "      <th>...</th>\n",
       "      <td>...</td>\n",
       "      <td>...</td>\n",
       "      <td>...</td>\n",
       "      <td>...</td>\n",
       "      <td>...</td>\n",
       "      <td>...</td>\n",
       "    </tr>\n",
       "    <tr>\n",
       "      <th>59042</th>\n",
       "      <td>209157</td>\n",
       "      <td>We (2018)</td>\n",
       "      <td>Drama</td>\n",
       "      <td>1.500000</td>\n",
       "      <td>2018</td>\n",
       "      <td>1</td>\n",
       "    </tr>\n",
       "    <tr>\n",
       "      <th>59043</th>\n",
       "      <td>209159</td>\n",
       "      <td>Window of the Soul (2001)</td>\n",
       "      <td>Documentary</td>\n",
       "      <td>3.000000</td>\n",
       "      <td>2001</td>\n",
       "      <td>1</td>\n",
       "    </tr>\n",
       "    <tr>\n",
       "      <th>59044</th>\n",
       "      <td>209163</td>\n",
       "      <td>Bad Poems (2018)</td>\n",
       "      <td>Comedy|Drama</td>\n",
       "      <td>4.500000</td>\n",
       "      <td>2018</td>\n",
       "      <td>1</td>\n",
       "    </tr>\n",
       "    <tr>\n",
       "      <th>59045</th>\n",
       "      <td>209169</td>\n",
       "      <td>A Girl Thing (2001)</td>\n",
       "      <td>(no genres listed)</td>\n",
       "      <td>3.000000</td>\n",
       "      <td>2001</td>\n",
       "      <td>1</td>\n",
       "    </tr>\n",
       "    <tr>\n",
       "      <th>59046</th>\n",
       "      <td>209171</td>\n",
       "      <td>Women of Devil's Island (1962)</td>\n",
       "      <td>Action|Adventure|Drama</td>\n",
       "      <td>3.000000</td>\n",
       "      <td>1962</td>\n",
       "      <td>1</td>\n",
       "    </tr>\n",
       "  </tbody>\n",
       "</table>\n",
       "<p>59047 rows × 6 columns</p>\n",
       "</div>"
      ],
      "text/plain": [
       "       movieId                               title  \\\n",
       "0            1                    Toy Story (1995)   \n",
       "1            2                      Jumanji (1995)   \n",
       "2            3             Grumpier Old Men (1995)   \n",
       "3            4            Waiting to Exhale (1995)   \n",
       "4            5  Father of the Bride Part II (1995)   \n",
       "...        ...                                 ...   \n",
       "59042   209157                           We (2018)   \n",
       "59043   209159           Window of the Soul (2001)   \n",
       "59044   209163                    Bad Poems (2018)   \n",
       "59045   209169                 A Girl Thing (2001)   \n",
       "59046   209171      Women of Devil's Island (1962)   \n",
       "\n",
       "                                            genres    rating released  counts  \n",
       "0      Adventure|Animation|Children|Comedy|Fantasy  3.893708     1995   57309  \n",
       "1                       Adventure|Children|Fantasy  3.251527     1995   24228  \n",
       "2                                   Comedy|Romance  3.142028     1995   11804  \n",
       "3                             Comedy|Drama|Romance  2.853547     1995    2523  \n",
       "4                                           Comedy  3.058434     1995   11714  \n",
       "...                                            ...       ...      ...     ...  \n",
       "59042                                        Drama  1.500000     2018       1  \n",
       "59043                                  Documentary  3.000000     2001       1  \n",
       "59044                                 Comedy|Drama  4.500000     2018       1  \n",
       "59045                           (no genres listed)  3.000000     2001       1  \n",
       "59046                       Action|Adventure|Drama  3.000000     1962       1  \n",
       "\n",
       "[59047 rows x 6 columns]"
      ]
     },
     "execution_count": 12,
     "metadata": {},
     "output_type": "execute_result"
    }
   ],
   "source": [
    "movies_2 = pd.merge(movies_1, ratings_c, on=['movieId'])\n",
    "movies_2\n",
    "# movies_2 = movies_2.sort_values(by='counts', ascending=False, ignore_index = True)\n",
    "# movies_2.head(10)\n",
    "            # movies_2 : rating을 25번 이상 받은 영화집합의 rating순 데이터프레임"
   ]
  },
  {
   "cell_type": "code",
   "execution_count": 13,
   "id": "cd8cc30f",
   "metadata": {
    "ExecuteTime": {
     "end_time": "2021-08-31T04:43:46.470974Z",
     "start_time": "2021-08-31T04:43:46.446031Z"
    }
   },
   "outputs": [],
   "source": [
    "### 이젠 사용하지 말 것! 정확히 숫자만 뽑아내도록 아래 시도 4의 정규표현식 사용!\n",
    "movies_2['released']= movies_2['title'].str[-5:-1]\n",
    "##################################################사용 ㄴㄴ\n",
    "    ##############################################이게 더 좋아보이는데...?;;;"
   ]
  },
  {
   "cell_type": "code",
   "execution_count": 32,
   "id": "a4a4ed7a",
   "metadata": {
    "ExecuteTime": {
     "end_time": "2021-09-27T08:38:31.625378Z",
     "start_time": "2021-09-27T08:38:31.561549Z"
    }
   },
   "outputs": [
    {
     "data": {
      "text/html": [
       "<div>\n",
       "<style scoped>\n",
       "    .dataframe tbody tr th:only-of-type {\n",
       "        vertical-align: middle;\n",
       "    }\n",
       "\n",
       "    .dataframe tbody tr th {\n",
       "        vertical-align: top;\n",
       "    }\n",
       "\n",
       "    .dataframe thead th {\n",
       "        text-align: right;\n",
       "    }\n",
       "</style>\n",
       "<table border=\"1\" class=\"dataframe\">\n",
       "  <thead>\n",
       "    <tr style=\"text-align: right;\">\n",
       "      <th></th>\n",
       "      <th>movieId</th>\n",
       "      <th>title</th>\n",
       "      <th>genres</th>\n",
       "      <th>rating</th>\n",
       "      <th>released</th>\n",
       "      <th>counts</th>\n",
       "    </tr>\n",
       "  </thead>\n",
       "  <tbody>\n",
       "    <tr>\n",
       "      <th>0</th>\n",
       "      <td>356</td>\n",
       "      <td>Forrest Gump (1994)</td>\n",
       "      <td>Comedy|Drama|Romance|War</td>\n",
       "      <td>4.048011</td>\n",
       "      <td>1994</td>\n",
       "      <td>81491</td>\n",
       "    </tr>\n",
       "    <tr>\n",
       "      <th>1</th>\n",
       "      <td>318</td>\n",
       "      <td>Shawshank Redemption, The (1994)</td>\n",
       "      <td>Crime|Drama</td>\n",
       "      <td>4.413576</td>\n",
       "      <td>1994</td>\n",
       "      <td>81482</td>\n",
       "    </tr>\n",
       "    <tr>\n",
       "      <th>2</th>\n",
       "      <td>296</td>\n",
       "      <td>Pulp Fiction (1994)</td>\n",
       "      <td>Comedy|Crime|Drama|Thriller</td>\n",
       "      <td>4.188912</td>\n",
       "      <td>1994</td>\n",
       "      <td>79672</td>\n",
       "    </tr>\n",
       "    <tr>\n",
       "      <th>3</th>\n",
       "      <td>593</td>\n",
       "      <td>Silence of the Lambs, The (1991)</td>\n",
       "      <td>Crime|Horror|Thriller</td>\n",
       "      <td>4.151342</td>\n",
       "      <td>1991</td>\n",
       "      <td>74127</td>\n",
       "    </tr>\n",
       "    <tr>\n",
       "      <th>4</th>\n",
       "      <td>2571</td>\n",
       "      <td>Matrix, The (1999)</td>\n",
       "      <td>Action|Sci-Fi|Thriller</td>\n",
       "      <td>4.154099</td>\n",
       "      <td>1999</td>\n",
       "      <td>72674</td>\n",
       "    </tr>\n",
       "    <tr>\n",
       "      <th>5</th>\n",
       "      <td>260</td>\n",
       "      <td>Star Wars: Episode IV - A New Hope (1977)</td>\n",
       "      <td>Action|Adventure|Sci-Fi</td>\n",
       "      <td>4.120189</td>\n",
       "      <td>1977</td>\n",
       "      <td>68717</td>\n",
       "    </tr>\n",
       "    <tr>\n",
       "      <th>6</th>\n",
       "      <td>480</td>\n",
       "      <td>Jurassic Park (1993)</td>\n",
       "      <td>Action|Adventure|Sci-Fi|Thriller</td>\n",
       "      <td>3.679175</td>\n",
       "      <td>1993</td>\n",
       "      <td>64144</td>\n",
       "    </tr>\n",
       "    <tr>\n",
       "      <th>7</th>\n",
       "      <td>527</td>\n",
       "      <td>Schindler's List (1993)</td>\n",
       "      <td>Drama|War</td>\n",
       "      <td>4.247579</td>\n",
       "      <td>1993</td>\n",
       "      <td>60411</td>\n",
       "    </tr>\n",
       "    <tr>\n",
       "      <th>8</th>\n",
       "      <td>110</td>\n",
       "      <td>Braveheart (1995)</td>\n",
       "      <td>Action|Drama|War</td>\n",
       "      <td>4.002273</td>\n",
       "      <td>1995</td>\n",
       "      <td>59184</td>\n",
       "    </tr>\n",
       "    <tr>\n",
       "      <th>9</th>\n",
       "      <td>2959</td>\n",
       "      <td>Fight Club (1999)</td>\n",
       "      <td>Action|Crime|Drama|Thriller</td>\n",
       "      <td>4.228311</td>\n",
       "      <td>1999</td>\n",
       "      <td>58773</td>\n",
       "    </tr>\n",
       "  </tbody>\n",
       "</table>\n",
       "</div>"
      ],
      "text/plain": [
       "   movieId                                      title  \\\n",
       "0      356                        Forrest Gump (1994)   \n",
       "1      318           Shawshank Redemption, The (1994)   \n",
       "2      296                        Pulp Fiction (1994)   \n",
       "3      593           Silence of the Lambs, The (1991)   \n",
       "4     2571                         Matrix, The (1999)   \n",
       "5      260  Star Wars: Episode IV - A New Hope (1977)   \n",
       "6      480                       Jurassic Park (1993)   \n",
       "7      527                    Schindler's List (1993)   \n",
       "8      110                          Braveheart (1995)   \n",
       "9     2959                          Fight Club (1999)   \n",
       "\n",
       "                             genres    rating released  counts  \n",
       "0          Comedy|Drama|Romance|War  4.048011     1994   81491  \n",
       "1                       Crime|Drama  4.413576     1994   81482  \n",
       "2       Comedy|Crime|Drama|Thriller  4.188912     1994   79672  \n",
       "3             Crime|Horror|Thriller  4.151342     1991   74127  \n",
       "4            Action|Sci-Fi|Thriller  4.154099     1999   72674  \n",
       "5           Action|Adventure|Sci-Fi  4.120189     1977   68717  \n",
       "6  Action|Adventure|Sci-Fi|Thriller  3.679175     1993   64144  \n",
       "7                         Drama|War  4.247579     1993   60411  \n",
       "8                  Action|Drama|War  4.002273     1995   59184  \n",
       "9       Action|Crime|Drama|Thriller  4.228311     1999   58773  "
      ]
     },
     "execution_count": 32,
     "metadata": {},
     "output_type": "execute_result"
    }
   ],
   "source": [
    "import pandas as pd\n",
    "movies_2 = pd.merge(movies_1, ratings_c, on='movieId')\n",
    "movies_2.sort_values(by='counts', ascending=False, ignore_index=True, inplace=True)\n",
    "movies_2.head(10)"
   ]
  },
  {
   "cell_type": "code",
   "execution_count": 25,
   "id": "47ee9da6",
   "metadata": {
    "ExecuteTime": {
     "end_time": "2021-09-27T04:01:24.788023Z",
     "start_time": "2021-09-27T04:01:24.738130Z"
    }
   },
   "outputs": [
    {
     "name": "stdout",
     "output_type": "stream",
     "text": [
      "movieId     59047\n",
      "title       59047\n",
      "genres      59047\n",
      "rating      59047\n",
      "released    58679\n",
      "counts      59047\n",
      "dtype: int64\n",
      "movieId       0\n",
      "title         0\n",
      "genres        0\n",
      "rating        0\n",
      "released    368\n",
      "counts        0\n",
      "dtype: int64\n"
     ]
    }
   ],
   "source": [
    "print(movies_2.count())\n",
    "print(movies_2.isna().sum())"
   ]
  },
  {
   "cell_type": "code",
   "execution_count": 13,
   "id": "a26e86e0",
   "metadata": {
    "ExecuteTime": {
     "end_time": "2021-09-01T03:29:04.551722Z",
     "start_time": "2021-09-01T03:29:04.532746Z"
    }
   },
   "outputs": [
    {
     "data": {
      "text/plain": [
       "81491"
      ]
     },
     "execution_count": 13,
     "metadata": {},
     "output_type": "execute_result"
    }
   ],
   "source": [
    "import numpy as np\n",
    "movies_2['counts'].max()"
   ]
  },
  {
   "cell_type": "markdown",
   "id": "f8fa5544",
   "metadata": {
    "ExecuteTime": {
     "end_time": "2021-08-27T07:00:32.378038Z",
     "start_time": "2021-08-27T07:00:32.374058Z"
    }
   },
   "source": [
    "# movies_2 : counts생성 & 정렬실시(25개 미만도 모두 포함) -> 인기순 영화목록에 사용 ----------"
   ]
  },
  {
   "cell_type": "code",
   "execution_count": 28,
   "id": "3db9ec1a",
   "metadata": {
    "ExecuteTime": {
     "end_time": "2021-09-04T17:16:45.237272Z",
     "start_time": "2021-09-04T17:16:45.216335Z"
    },
    "scrolled": true
   },
   "outputs": [
    {
     "data": {
      "text/html": [
       "<div>\n",
       "<style scoped>\n",
       "    .dataframe tbody tr th:only-of-type {\n",
       "        vertical-align: middle;\n",
       "    }\n",
       "\n",
       "    .dataframe tbody tr th {\n",
       "        vertical-align: top;\n",
       "    }\n",
       "\n",
       "    .dataframe thead th {\n",
       "        text-align: right;\n",
       "    }\n",
       "</style>\n",
       "<table border=\"1\" class=\"dataframe\">\n",
       "  <thead>\n",
       "    <tr style=\"text-align: right;\">\n",
       "      <th></th>\n",
       "      <th>movieId</th>\n",
       "      <th>title</th>\n",
       "      <th>genres</th>\n",
       "      <th>rating</th>\n",
       "      <th>released</th>\n",
       "    </tr>\n",
       "  </thead>\n",
       "  <tbody>\n",
       "    <tr>\n",
       "      <th>0</th>\n",
       "      <td>1</td>\n",
       "      <td>Toy Story (1995)</td>\n",
       "      <td>Adventure|Animation|Children|Comedy|Fantasy</td>\n",
       "      <td>3.893708</td>\n",
       "      <td>1995</td>\n",
       "    </tr>\n",
       "    <tr>\n",
       "      <th>1</th>\n",
       "      <td>2</td>\n",
       "      <td>Jumanji (1995)</td>\n",
       "      <td>Adventure|Children|Fantasy</td>\n",
       "      <td>3.251527</td>\n",
       "      <td>1995</td>\n",
       "    </tr>\n",
       "    <tr>\n",
       "      <th>2</th>\n",
       "      <td>3</td>\n",
       "      <td>Grumpier Old Men (1995)</td>\n",
       "      <td>Comedy|Romance</td>\n",
       "      <td>3.142028</td>\n",
       "      <td>1995</td>\n",
       "    </tr>\n",
       "    <tr>\n",
       "      <th>3</th>\n",
       "      <td>4</td>\n",
       "      <td>Waiting to Exhale (1995)</td>\n",
       "      <td>Comedy|Drama|Romance</td>\n",
       "      <td>2.853547</td>\n",
       "      <td>1995</td>\n",
       "    </tr>\n",
       "    <tr>\n",
       "      <th>4</th>\n",
       "      <td>5</td>\n",
       "      <td>Father of the Bride Part II (1995)</td>\n",
       "      <td>Comedy</td>\n",
       "      <td>3.058434</td>\n",
       "      <td>1995</td>\n",
       "    </tr>\n",
       "  </tbody>\n",
       "</table>\n",
       "</div>"
      ],
      "text/plain": [
       "   movieId                               title  \\\n",
       "0        1                    Toy Story (1995)   \n",
       "1        2                      Jumanji (1995)   \n",
       "2        3             Grumpier Old Men (1995)   \n",
       "3        4            Waiting to Exhale (1995)   \n",
       "4        5  Father of the Bride Part II (1995)   \n",
       "\n",
       "                                        genres    rating released  \n",
       "0  Adventure|Animation|Children|Comedy|Fantasy  3.893708     1995  \n",
       "1                   Adventure|Children|Fantasy  3.251527     1995  \n",
       "2                               Comedy|Romance  3.142028     1995  \n",
       "3                         Comedy|Drama|Romance  2.853547     1995  \n",
       "4                                       Comedy  3.058434     1995  "
      ]
     },
     "execution_count": 28,
     "metadata": {},
     "output_type": "execute_result"
    }
   ],
   "source": [
    "movies_1.head()"
   ]
  },
  {
   "cell_type": "code",
   "execution_count": 78,
   "id": "ed26cc11",
   "metadata": {
    "ExecuteTime": {
     "end_time": "2021-09-27T06:44:43.493646Z",
     "start_time": "2021-09-27T06:44:42.702729Z"
    }
   },
   "outputs": [
    {
     "data": {
      "text/html": [
       "<div>\n",
       "<style scoped>\n",
       "    .dataframe tbody tr th:only-of-type {\n",
       "        vertical-align: middle;\n",
       "    }\n",
       "\n",
       "    .dataframe tbody tr th {\n",
       "        vertical-align: top;\n",
       "    }\n",
       "\n",
       "    .dataframe thead th {\n",
       "        text-align: right;\n",
       "    }\n",
       "</style>\n",
       "<table border=\"1\" class=\"dataframe\">\n",
       "  <thead>\n",
       "    <tr style=\"text-align: right;\">\n",
       "      <th></th>\n",
       "      <th>movieId</th>\n",
       "      <th>title</th>\n",
       "      <th>genres</th>\n",
       "      <th>rating</th>\n",
       "      <th>released</th>\n",
       "      <th>counts</th>\n",
       "    </tr>\n",
       "  </thead>\n",
       "  <tbody>\n",
       "    <tr>\n",
       "      <th>0</th>\n",
       "      <td>171011</td>\n",
       "      <td>Planet Earth II (2016)</td>\n",
       "      <td>Documentary</td>\n",
       "      <td>4.483096</td>\n",
       "      <td>2016</td>\n",
       "      <td>1124</td>\n",
       "    </tr>\n",
       "    <tr>\n",
       "      <th>1</th>\n",
       "      <td>159817</td>\n",
       "      <td>Planet Earth (2006)</td>\n",
       "      <td>Documentary</td>\n",
       "      <td>4.464797</td>\n",
       "      <td>2006</td>\n",
       "      <td>1747</td>\n",
       "    </tr>\n",
       "    <tr>\n",
       "      <th>2</th>\n",
       "      <td>318</td>\n",
       "      <td>Shawshank Redemption, The (1994)</td>\n",
       "      <td>Crime|Drama</td>\n",
       "      <td>4.413576</td>\n",
       "      <td>1994</td>\n",
       "      <td>81482</td>\n",
       "    </tr>\n",
       "    <tr>\n",
       "      <th>3</th>\n",
       "      <td>170705</td>\n",
       "      <td>Band of Brothers (2001)</td>\n",
       "      <td>Action|Drama|War</td>\n",
       "      <td>4.398599</td>\n",
       "      <td>2001</td>\n",
       "      <td>1356</td>\n",
       "    </tr>\n",
       "    <tr>\n",
       "      <th>4</th>\n",
       "      <td>171495</td>\n",
       "      <td>Cosmos</td>\n",
       "      <td>(no genres listed)</td>\n",
       "      <td>4.326715</td>\n",
       "      <td>NaN</td>\n",
       "      <td>277</td>\n",
       "    </tr>\n",
       "    <tr>\n",
       "      <th>5</th>\n",
       "      <td>858</td>\n",
       "      <td>Godfather, The (1972)</td>\n",
       "      <td>Crime|Drama</td>\n",
       "      <td>4.324336</td>\n",
       "      <td>1972</td>\n",
       "      <td>52498</td>\n",
       "    </tr>\n",
       "    <tr>\n",
       "      <th>6</th>\n",
       "      <td>179135</td>\n",
       "      <td>Blue Planet II (2017)</td>\n",
       "      <td>Documentary</td>\n",
       "      <td>4.289833</td>\n",
       "      <td>2017</td>\n",
       "      <td>659</td>\n",
       "    </tr>\n",
       "    <tr>\n",
       "      <th>7</th>\n",
       "      <td>50</td>\n",
       "      <td>Usual Suspects, The (1995)</td>\n",
       "      <td>Crime|Mystery|Thriller</td>\n",
       "      <td>4.284353</td>\n",
       "      <td>1995</td>\n",
       "      <td>55366</td>\n",
       "    </tr>\n",
       "    <tr>\n",
       "      <th>8</th>\n",
       "      <td>174551</td>\n",
       "      <td>Obsession (1965)</td>\n",
       "      <td>Comedy</td>\n",
       "      <td>4.277778</td>\n",
       "      <td>1965</td>\n",
       "      <td>36</td>\n",
       "    </tr>\n",
       "    <tr>\n",
       "      <th>9</th>\n",
       "      <td>198185</td>\n",
       "      <td>Twin Peaks (1989)</td>\n",
       "      <td>Drama|Mystery</td>\n",
       "      <td>4.267361</td>\n",
       "      <td>1989</td>\n",
       "      <td>288</td>\n",
       "    </tr>\n",
       "  </tbody>\n",
       "</table>\n",
       "</div>"
      ],
      "text/plain": [
       "   movieId                             title                  genres  \\\n",
       "0   171011            Planet Earth II (2016)             Documentary   \n",
       "1   159817               Planet Earth (2006)             Documentary   \n",
       "2      318  Shawshank Redemption, The (1994)             Crime|Drama   \n",
       "3   170705           Band of Brothers (2001)        Action|Drama|War   \n",
       "4   171495                            Cosmos      (no genres listed)   \n",
       "5      858             Godfather, The (1972)             Crime|Drama   \n",
       "6   179135             Blue Planet II (2017)             Documentary   \n",
       "7       50        Usual Suspects, The (1995)  Crime|Mystery|Thriller   \n",
       "8   174551                  Obsession (1965)                  Comedy   \n",
       "9   198185                 Twin Peaks (1989)           Drama|Mystery   \n",
       "\n",
       "     rating released  counts  \n",
       "0  4.483096     2016    1124  \n",
       "1  4.464797     2006    1747  \n",
       "2  4.413576     1994   81482  \n",
       "3  4.398599     2001    1356  \n",
       "4  4.326715      NaN     277  \n",
       "5  4.324336     1972   52498  \n",
       "6  4.289833     2017     659  \n",
       "7  4.284353     1995   55366  \n",
       "8  4.277778     1965      36  \n",
       "9  4.267361     1989     288  "
      ]
     },
     "execution_count": 78,
     "metadata": {},
     "output_type": "execute_result"
    }
   ],
   "source": [
    "ratings_c = ratings.groupby('movieId')['rating'].count()\n",
    "ratings_c = pd.DataFrame(ratings_c).reset_index()\n",
    "ratings_c = ratings_c.rename({'rating' : 'counts'}, axis=1) # 59047개\n",
    "ratings_c = ratings_c[ratings_c['counts']>=25] # 16970개\n",
    "movies_3 = pd.merge(movies_1, ratings_c, on=['movieId'])\n",
    "movies_3 = movies_3.sort_values(by='rating', ascending=False, ignore_index = True)\n",
    "movies_3.head(10)"
   ]
  },
  {
   "cell_type": "code",
   "execution_count": 55,
   "id": "646c4058",
   "metadata": {
    "ExecuteTime": {
     "end_time": "2021-09-27T06:44:46.581490Z",
     "start_time": "2021-09-27T06:44:45.837459Z"
    }
   },
   "outputs": [
    {
     "data": {
      "text/html": [
       "<div>\n",
       "<style scoped>\n",
       "    .dataframe tbody tr th:only-of-type {\n",
       "        vertical-align: middle;\n",
       "    }\n",
       "\n",
       "    .dataframe tbody tr th {\n",
       "        vertical-align: top;\n",
       "    }\n",
       "\n",
       "    .dataframe thead th {\n",
       "        text-align: right;\n",
       "    }\n",
       "</style>\n",
       "<table border=\"1\" class=\"dataframe\">\n",
       "  <thead>\n",
       "    <tr style=\"text-align: right;\">\n",
       "      <th></th>\n",
       "      <th>movieId</th>\n",
       "      <th>title</th>\n",
       "      <th>genres</th>\n",
       "      <th>rating</th>\n",
       "      <th>released</th>\n",
       "      <th>counts</th>\n",
       "    </tr>\n",
       "  </thead>\n",
       "  <tbody>\n",
       "    <tr>\n",
       "      <th>42953</th>\n",
       "      <td>171011</td>\n",
       "      <td>Planet Earth II (2016)</td>\n",
       "      <td>Documentary</td>\n",
       "      <td>4.483096</td>\n",
       "      <td>2016</td>\n",
       "      <td>1124</td>\n",
       "    </tr>\n",
       "    <tr>\n",
       "      <th>38361</th>\n",
       "      <td>159817</td>\n",
       "      <td>Planet Earth (2006)</td>\n",
       "      <td>Documentary</td>\n",
       "      <td>4.464797</td>\n",
       "      <td>2006</td>\n",
       "      <td>1747</td>\n",
       "    </tr>\n",
       "    <tr>\n",
       "      <th>314</th>\n",
       "      <td>318</td>\n",
       "      <td>Shawshank Redemption, The (1994)</td>\n",
       "      <td>Crime|Drama</td>\n",
       "      <td>4.413576</td>\n",
       "      <td>1994</td>\n",
       "      <td>81482</td>\n",
       "    </tr>\n",
       "    <tr>\n",
       "      <th>42806</th>\n",
       "      <td>170705</td>\n",
       "      <td>Band of Brothers (2001)</td>\n",
       "      <td>Action|Drama|War</td>\n",
       "      <td>4.398599</td>\n",
       "      <td>2001</td>\n",
       "      <td>1356</td>\n",
       "    </tr>\n",
       "    <tr>\n",
       "      <th>43172</th>\n",
       "      <td>171495</td>\n",
       "      <td>Cosmos</td>\n",
       "      <td>(no genres listed)</td>\n",
       "      <td>4.326715</td>\n",
       "      <td>NaN</td>\n",
       "      <td>277</td>\n",
       "    </tr>\n",
       "    <tr>\n",
       "      <th>4669</th>\n",
       "      <td>4775</td>\n",
       "      <td>Glitter (2001)</td>\n",
       "      <td>Drama|Musical|Romance</td>\n",
       "      <td>1.125561</td>\n",
       "      <td>2001</td>\n",
       "      <td>669</td>\n",
       "    </tr>\n",
       "    <tr>\n",
       "      <th>32837</th>\n",
       "      <td>145096</td>\n",
       "      <td>Barbie &amp; Her Sisters in the Great Puppy Advent...</td>\n",
       "      <td>Animation</td>\n",
       "      <td>1.118644</td>\n",
       "      <td>2015</td>\n",
       "      <td>59</td>\n",
       "    </tr>\n",
       "    <tr>\n",
       "      <th>6360</th>\n",
       "      <td>6483</td>\n",
       "      <td>From Justin to Kelly (2003)</td>\n",
       "      <td>Musical|Romance</td>\n",
       "      <td>1.027578</td>\n",
       "      <td>2003</td>\n",
       "      <td>417</td>\n",
       "    </tr>\n",
       "    <tr>\n",
       "      <th>8144</th>\n",
       "      <td>8859</td>\n",
       "      <td>SuperBabies: Baby Geniuses 2 (2004)</td>\n",
       "      <td>Comedy</td>\n",
       "      <td>0.899038</td>\n",
       "      <td>2004</td>\n",
       "      <td>208</td>\n",
       "    </tr>\n",
       "    <tr>\n",
       "      <th>7157</th>\n",
       "      <td>7282</td>\n",
       "      <td>Hip Hop Witch, Da (2000)</td>\n",
       "      <td>Comedy|Horror|Thriller</td>\n",
       "      <td>0.854839</td>\n",
       "      <td>2000</td>\n",
       "      <td>31</td>\n",
       "    </tr>\n",
       "  </tbody>\n",
       "</table>\n",
       "</div>"
      ],
      "text/plain": [
       "       movieId                                              title  \\\n",
       "42953   171011                             Planet Earth II (2016)   \n",
       "38361   159817                                Planet Earth (2006)   \n",
       "314        318                   Shawshank Redemption, The (1994)   \n",
       "42806   170705                            Band of Brothers (2001)   \n",
       "43172   171495                                             Cosmos   \n",
       "4669      4775                                     Glitter (2001)   \n",
       "32837   145096  Barbie & Her Sisters in the Great Puppy Advent...   \n",
       "6360      6483                        From Justin to Kelly (2003)   \n",
       "8144      8859                SuperBabies: Baby Geniuses 2 (2004)   \n",
       "7157      7282                           Hip Hop Witch, Da (2000)   \n",
       "\n",
       "                       genres    rating released  counts  \n",
       "42953             Documentary  4.483096     2016    1124  \n",
       "38361             Documentary  4.464797     2006    1747  \n",
       "314               Crime|Drama  4.413576     1994   81482  \n",
       "42806        Action|Drama|War  4.398599     2001    1356  \n",
       "43172      (no genres listed)  4.326715      NaN     277  \n",
       "4669    Drama|Musical|Romance  1.125561     2001     669  \n",
       "32837               Animation  1.118644     2015      59  \n",
       "6360          Musical|Romance  1.027578     2003     417  \n",
       "8144                   Comedy  0.899038     2004     208  \n",
       "7157   Comedy|Horror|Thriller  0.854839     2000      31  "
      ]
     },
     "execution_count": 55,
     "metadata": {},
     "output_type": "execute_result"
    }
   ],
   "source": [
    "ratings_c = ratings.groupby('movieId').size().reset_index(name='counts')\n",
    "movies_3 = pd.merge(movies_1, ratings_c, on = 'movieId')\n",
    "movies_3 = movies_3[movies_3['counts']>=25]\n",
    "movies_3.sort_values('rating', ascending=False, inplace=True)\n",
    "movies_3.head().append(movies_3.tail())"
   ]
  },
  {
   "cell_type": "markdown",
   "id": "c0fb680b",
   "metadata": {},
   "source": [
    "# movies_1에 rating과 counts>25를 조합해 정렬까지 완료 : movies_3-----평점순 영화목록에 사용"
   ]
  },
  {
   "cell_type": "code",
   "execution_count": 12,
   "id": "c18f4410",
   "metadata": {
    "ExecuteTime": {
     "end_time": "2021-09-27T08:41:06.073362Z",
     "start_time": "2021-09-27T08:41:02.713603Z"
    }
   },
   "outputs": [
    {
     "data": {
      "text/plain": [
       "<AxesSubplot:xlabel='released', ylabel='counts'>"
      ]
     },
     "execution_count": 12,
     "metadata": {},
     "output_type": "execute_result"
    },
    {
     "data": {
      "image/png": "[encoded data removed]",
      "text/plain": [
       "<Figure size 864x360 with 1 Axes>"
      ]
     },
     "metadata": {
      "needs_background": "light"
     },
     "output_type": "display_data"
    }
   ],
   "source": [
    "import matplotlib.pyplot as plt\n",
    "import seaborn as sns\n",
    "plt.figure(figsize = (12,5))\n",
    "sns.scatterplot(x = 'released', y = 'counts', data = movies_2)\n",
    "# 아래 정규식 활용한 연도가 직접 쓰이기 직전에 활용할 것."
   ]
  },
  {
   "cell_type": "code",
   "execution_count": 33,
   "id": "a430c339",
   "metadata": {
    "ExecuteTime": {
     "end_time": "2021-09-27T08:39:49.104592Z",
     "start_time": "2021-09-27T08:38:47.001651Z"
    }
   },
   "outputs": [
    {
     "data": {
      "text/plain": [
       "0        1994\n",
       "1        1994\n",
       "2        1994\n",
       "3        1991\n",
       "4        1999\n",
       "         ... \n",
       "59042    2013\n",
       "59043    1932\n",
       "59044    2007\n",
       "59045    2007\n",
       "59046    1962\n",
       "Name: test, Length: 59047, dtype: object"
      ]
     },
     "execution_count": 33,
     "metadata": {},
     "output_type": "execute_result"
    }
   ],
   "source": [
    "# 불확실한 정규표현식 대신 for문을 사용하여 'released'의 정확한 값을 구하는데 성공!!!!\n",
    "\n",
    "import numpy as np\n",
    "movies_2['test'] = np.nan\n",
    "for i in movies_2.index:\n",
    "    idx = movies_2.loc[i, 'title'].find('(')\n",
    "    movies_2.loc[i,'test'] = movies_2.loc[i, 'title'][int(idx)+1:-1]\n",
    "movies_2['test']\n",
    "\n",
    "########################################################################################\n",
    "# 1분 2초....ㄷㄷㄷ"
   ]
  },
  {
   "cell_type": "code",
   "execution_count": null,
   "id": "fcb78571",
   "metadata": {},
   "outputs": [],
   "source": []
  },
  {
   "cell_type": "code",
   "execution_count": 34,
   "id": "8320ff42",
   "metadata": {},
   "outputs": [
    {
     "data": {
      "text/plain": [
       "movieId     59047\n",
       "title       59047\n",
       "genres      59047\n",
       "rating      59047\n",
       "released    58679\n",
       "counts      59047\n",
       "test        59047\n",
       "dtype: int64"
      ]
     },
     "execution_count": 34,
     "metadata": {},
     "output_type": "execute_result"
    }
   ],
   "source": [
    "movies_2.count()"
   ]
  },
  {
   "cell_type": "code",
   "execution_count": 36,
   "id": "ba034dc3",
   "metadata": {},
   "outputs": [
    {
     "data": {
      "text/plain": [
       "movieId       0\n",
       "title         0\n",
       "genres        0\n",
       "rating        0\n",
       "released    368\n",
       "counts        0\n",
       "test          0\n",
       "dtype: int64"
      ]
     },
     "execution_count": 36,
     "metadata": {},
     "output_type": "execute_result"
    }
   ],
   "source": [
    "movies_2.isnull().sum()"
   ]
  },
  {
   "cell_type": "code",
   "execution_count": 37,
   "id": "574a3407",
   "metadata": {},
   "outputs": [
    {
     "data": {
      "text/html": [
       "<div>\n",
       "<style scoped>\n",
       "    .dataframe tbody tr th:only-of-type {\n",
       "        vertical-align: middle;\n",
       "    }\n",
       "\n",
       "    .dataframe tbody tr th {\n",
       "        vertical-align: top;\n",
       "    }\n",
       "\n",
       "    .dataframe thead th {\n",
       "        text-align: right;\n",
       "    }\n",
       "</style>\n",
       "<table border=\"1\" class=\"dataframe\">\n",
       "  <thead>\n",
       "    <tr style=\"text-align: right;\">\n",
       "      <th></th>\n",
       "      <th>movieId</th>\n",
       "      <th>title</th>\n",
       "      <th>genres</th>\n",
       "      <th>rating</th>\n",
       "      <th>released</th>\n",
       "      <th>counts</th>\n",
       "      <th>test</th>\n",
       "    </tr>\n",
       "  </thead>\n",
       "  <tbody>\n",
       "    <tr>\n",
       "      <th>0</th>\n",
       "      <td>356</td>\n",
       "      <td>Forrest Gump (1994)</td>\n",
       "      <td>Comedy|Drama|Romance|War</td>\n",
       "      <td>4.048011</td>\n",
       "      <td>1994</td>\n",
       "      <td>81491</td>\n",
       "      <td>1994</td>\n",
       "    </tr>\n",
       "    <tr>\n",
       "      <th>1</th>\n",
       "      <td>318</td>\n",
       "      <td>Shawshank Redemption, The (1994)</td>\n",
       "      <td>Crime|Drama</td>\n",
       "      <td>4.413576</td>\n",
       "      <td>1994</td>\n",
       "      <td>81482</td>\n",
       "      <td>1994</td>\n",
       "    </tr>\n",
       "    <tr>\n",
       "      <th>2</th>\n",
       "      <td>296</td>\n",
       "      <td>Pulp Fiction (1994)</td>\n",
       "      <td>Comedy|Crime|Drama|Thriller</td>\n",
       "      <td>4.188912</td>\n",
       "      <td>1994</td>\n",
       "      <td>79672</td>\n",
       "      <td>1994</td>\n",
       "    </tr>\n",
       "    <tr>\n",
       "      <th>3</th>\n",
       "      <td>593</td>\n",
       "      <td>Silence of the Lambs, The (1991)</td>\n",
       "      <td>Crime|Horror|Thriller</td>\n",
       "      <td>4.151342</td>\n",
       "      <td>1991</td>\n",
       "      <td>74127</td>\n",
       "      <td>1991</td>\n",
       "    </tr>\n",
       "    <tr>\n",
       "      <th>4</th>\n",
       "      <td>2571</td>\n",
       "      <td>Matrix, The (1999)</td>\n",
       "      <td>Action|Sci-Fi|Thriller</td>\n",
       "      <td>4.154099</td>\n",
       "      <td>1999</td>\n",
       "      <td>72674</td>\n",
       "      <td>1999</td>\n",
       "    </tr>\n",
       "    <tr>\n",
       "      <th>...</th>\n",
       "      <td>...</td>\n",
       "      <td>...</td>\n",
       "      <td>...</td>\n",
       "      <td>...</td>\n",
       "      <td>...</td>\n",
       "      <td>...</td>\n",
       "      <td>...</td>\n",
       "    </tr>\n",
       "    <tr>\n",
       "      <th>59042</th>\n",
       "      <td>167308</td>\n",
       "      <td>Hell's Caretaker (2013)</td>\n",
       "      <td>(no genres listed)</td>\n",
       "      <td>5.000000</td>\n",
       "      <td>2013</td>\n",
       "      <td>1</td>\n",
       "      <td>2013</td>\n",
       "    </tr>\n",
       "    <tr>\n",
       "      <th>59043</th>\n",
       "      <td>167326</td>\n",
       "      <td>Wedding Rehearsal (1932)</td>\n",
       "      <td>Comedy|Drama</td>\n",
       "      <td>2.000000</td>\n",
       "      <td>1932</td>\n",
       "      <td>1</td>\n",
       "      <td>1932</td>\n",
       "    </tr>\n",
       "    <tr>\n",
       "      <th>59044</th>\n",
       "      <td>167336</td>\n",
       "      <td>Saint Death (2007)</td>\n",
       "      <td>Documentary</td>\n",
       "      <td>2.500000</td>\n",
       "      <td>2007</td>\n",
       "      <td>1</td>\n",
       "      <td>2007</td>\n",
       "    </tr>\n",
       "    <tr>\n",
       "      <th>59045</th>\n",
       "      <td>167338</td>\n",
       "      <td>La Santa Muerte (2007)</td>\n",
       "      <td>(no genres listed)</td>\n",
       "      <td>1.000000</td>\n",
       "      <td>2007</td>\n",
       "      <td>1</td>\n",
       "      <td>2007</td>\n",
       "    </tr>\n",
       "    <tr>\n",
       "      <th>59046</th>\n",
       "      <td>209171</td>\n",
       "      <td>Women of Devil's Island (1962)</td>\n",
       "      <td>Action|Adventure|Drama</td>\n",
       "      <td>3.000000</td>\n",
       "      <td>1962</td>\n",
       "      <td>1</td>\n",
       "      <td>1962</td>\n",
       "    </tr>\n",
       "  </tbody>\n",
       "</table>\n",
       "<p>58679 rows × 7 columns</p>\n",
       "</div>"
      ],
      "text/plain": [
       "       movieId                             title                       genres  \\\n",
       "0          356               Forrest Gump (1994)     Comedy|Drama|Romance|War   \n",
       "1          318  Shawshank Redemption, The (1994)                  Crime|Drama   \n",
       "2          296               Pulp Fiction (1994)  Comedy|Crime|Drama|Thriller   \n",
       "3          593  Silence of the Lambs, The (1991)        Crime|Horror|Thriller   \n",
       "4         2571                Matrix, The (1999)       Action|Sci-Fi|Thriller   \n",
       "...        ...                               ...                          ...   \n",
       "59042   167308           Hell's Caretaker (2013)           (no genres listed)   \n",
       "59043   167326          Wedding Rehearsal (1932)                 Comedy|Drama   \n",
       "59044   167336                Saint Death (2007)                  Documentary   \n",
       "59045   167338            La Santa Muerte (2007)           (no genres listed)   \n",
       "59046   209171    Women of Devil's Island (1962)       Action|Adventure|Drama   \n",
       "\n",
       "         rating released  counts  test  \n",
       "0      4.048011     1994   81491  1994  \n",
       "1      4.413576     1994   81482  1994  \n",
       "2      4.188912     1994   79672  1994  \n",
       "3      4.151342     1991   74127  1991  \n",
       "4      4.154099     1999   72674  1999  \n",
       "...         ...      ...     ...   ...  \n",
       "59042  5.000000     2013       1  2013  \n",
       "59043  2.000000     1932       1  1932  \n",
       "59044  2.500000     2007       1  2007  \n",
       "59045  1.000000     2007       1  2007  \n",
       "59046  3.000000     1962       1  1962  \n",
       "\n",
       "[58679 rows x 7 columns]"
      ]
     },
     "execution_count": 37,
     "metadata": {},
     "output_type": "execute_result"
    }
   ],
   "source": [
    "movies_2.dropna()"
   ]
  },
  {
   "cell_type": "code",
   "execution_count": null,
   "id": "1a7c286e",
   "metadata": {},
   "outputs": [],
   "source": []
  },
  {
   "cell_type": "code",
   "execution_count": 13,
   "id": "e2ca9c64",
   "metadata": {
    "ExecuteTime": {
     "end_time": "2021-09-27T08:43:39.461671Z",
     "start_time": "2021-09-27T08:41:44.857558Z"
    }
   },
   "outputs": [
    {
     "data": {
      "text/plain": [
       "<AxesSubplot:xlabel='test', ylabel='counts'>"
      ]
     },
     "execution_count": 13,
     "metadata": {},
     "output_type": "execute_result"
    },
    {
     "name": "stderr",
     "output_type": "stream",
     "text": [
      "C:\\Users\\tjoeun\\anaconda3\\lib\\site-packages\\matplotlib\\backends\\backend_agg.py:238: RuntimeWarning: Glyph 27425 missing from current font.\n",
      "  font.set_text(s, 0.0, flags=flags)\n",
      "C:\\Users\\tjoeun\\anaconda3\\lib\\site-packages\\matplotlib\\backends\\backend_agg.py:238: RuntimeWarning: Glyph 27714 missing from current font.\n",
      "  font.set_text(s, 0.0, flags=flags)\n",
      "C:\\Users\\tjoeun\\anaconda3\\lib\\site-packages\\matplotlib\\backends\\backend_agg.py:201: RuntimeWarning: Glyph 27425 missing from current font.\n",
      "  font.set_text(s, 0, flags=flags)\n",
      "C:\\Users\\tjoeun\\anaconda3\\lib\\site-packages\\matplotlib\\backends\\backend_agg.py:201: RuntimeWarning: Glyph 27714 missing from current font.\n",
      "  font.set_text(s, 0, flags=flags)\n"
     ]
    },
    {
     "data": {
      "image/png": "[encoded data removed]",
      "text/plain": [
       "<Figure size 864x360 with 1 Axes>"
      ]
     },
     "metadata": {
      "needs_background": "light"
     },
     "output_type": "display_data"
    }
   ],
   "source": [
    "###########################################################\n",
    "\n",
    "plt.figure(figsize = (12,5))\n",
    "sns.scatterplot(x = 'test', y = 'counts', data = movies_2)\n",
    "\n",
    "# 2분...ㄷㄷㄷ;;;"
   ]
  },
  {
   "cell_type": "code",
   "execution_count": 16,
   "id": "36a81108",
   "metadata": {
    "ExecuteTime": {
     "end_time": "2021-09-27T08:51:17.961178Z",
     "start_time": "2021-09-27T08:51:17.928238Z"
    }
   },
   "outputs": [
    {
     "name": "stdout",
     "output_type": "stream",
     "text": [
      "<class 'pandas.core.frame.DataFrame'>\n",
      "RangeIndex: 59047 entries, 0 to 59046\n",
      "Data columns (total 7 columns):\n",
      " #   Column    Non-Null Count  Dtype  \n",
      "---  ------    --------------  -----  \n",
      " 0   movieId   59047 non-null  int64  \n",
      " 1   title     59047 non-null  object \n",
      " 2   genres    59047 non-null  object \n",
      " 3   rating    59047 non-null  float64\n",
      " 4   released  58679 non-null  object \n",
      " 5   counts    59047 non-null  int64  \n",
      " 6   test      59047 non-null  object \n",
      "dtypes: float64(1), int64(2), object(4)\n",
      "memory usage: 3.2+ MB\n"
     ]
    }
   ],
   "source": [
    "movies_2.info()"
   ]
  },
  {
   "cell_type": "code",
   "execution_count": null,
   "id": "6672d18c",
   "metadata": {},
   "outputs": [],
   "source": []
  },
  {
   "cell_type": "code",
   "execution_count": 16,
   "id": "1f845e66",
   "metadata": {
    "ExecuteTime": {
     "end_time": "2021-09-04T17:59:12.568097Z",
     "start_time": "2021-09-04T17:59:11.043542Z"
    }
   },
   "outputs": [
    {
     "data": {
      "text/html": [
       "<div>\n",
       "<style scoped>\n",
       "    .dataframe tbody tr th:only-of-type {\n",
       "        vertical-align: middle;\n",
       "    }\n",
       "\n",
       "    .dataframe tbody tr th {\n",
       "        vertical-align: top;\n",
       "    }\n",
       "\n",
       "    .dataframe thead th {\n",
       "        text-align: right;\n",
       "    }\n",
       "</style>\n",
       "<table border=\"1\" class=\"dataframe\">\n",
       "  <thead>\n",
       "    <tr style=\"text-align: right;\">\n",
       "      <th></th>\n",
       "      <th>movieId</th>\n",
       "      <th>title</th>\n",
       "      <th>genres</th>\n",
       "      <th>rating</th>\n",
       "      <th>released</th>\n",
       "      <th>counts</th>\n",
       "      <th>value</th>\n",
       "    </tr>\n",
       "  </thead>\n",
       "  <tbody>\n",
       "    <tr>\n",
       "      <th>0</th>\n",
       "      <td>318</td>\n",
       "      <td>Shawshank Redemption, The (1994)</td>\n",
       "      <td>Crime|Drama</td>\n",
       "      <td>4.413576</td>\n",
       "      <td>1994</td>\n",
       "      <td>81482</td>\n",
       "      <td>11.808185</td>\n",
       "    </tr>\n",
       "    <tr>\n",
       "      <th>1</th>\n",
       "      <td>296</td>\n",
       "      <td>Pulp Fiction (1994)</td>\n",
       "      <td>Comedy|Crime|Drama|Thriller</td>\n",
       "      <td>4.188912</td>\n",
       "      <td>1994</td>\n",
       "      <td>79672</td>\n",
       "      <td>11.472466</td>\n",
       "    </tr>\n",
       "    <tr>\n",
       "      <th>2</th>\n",
       "      <td>356</td>\n",
       "      <td>Forrest Gump (1994)</td>\n",
       "      <td>Comedy|Drama|Romance|War</td>\n",
       "      <td>4.048011</td>\n",
       "      <td>1994</td>\n",
       "      <td>81491</td>\n",
       "      <td>11.443173</td>\n",
       "    </tr>\n",
       "    <tr>\n",
       "      <th>3</th>\n",
       "      <td>2571</td>\n",
       "      <td>Matrix, The (1999)</td>\n",
       "      <td>Action|Sci-Fi|Thriller</td>\n",
       "      <td>4.154099</td>\n",
       "      <td>1999</td>\n",
       "      <td>72674</td>\n",
       "      <td>11.129248</td>\n",
       "    </tr>\n",
       "    <tr>\n",
       "      <th>4</th>\n",
       "      <td>593</td>\n",
       "      <td>Silence of the Lambs, The (1991)</td>\n",
       "      <td>Crime|Horror|Thriller</td>\n",
       "      <td>4.151342</td>\n",
       "      <td>1991</td>\n",
       "      <td>74127</td>\n",
       "      <td>11.022093</td>\n",
       "    </tr>\n",
       "    <tr>\n",
       "      <th>5</th>\n",
       "      <td>2959</td>\n",
       "      <td>Fight Club (1999)</td>\n",
       "      <td>Action|Crime|Drama|Thriller</td>\n",
       "      <td>4.228311</td>\n",
       "      <td>1999</td>\n",
       "      <td>58773</td>\n",
       "      <td>10.350543</td>\n",
       "    </tr>\n",
       "    <tr>\n",
       "      <th>6</th>\n",
       "      <td>527</td>\n",
       "      <td>Schindler's List (1993)</td>\n",
       "      <td>Drama|War</td>\n",
       "      <td>4.247579</td>\n",
       "      <td>1993</td>\n",
       "      <td>60411</td>\n",
       "      <td>10.325152</td>\n",
       "    </tr>\n",
       "    <tr>\n",
       "      <th>7</th>\n",
       "      <td>260</td>\n",
       "      <td>Star Wars: Episode IV - A New Hope (1977)</td>\n",
       "      <td>Action|Adventure|Sci-Fi</td>\n",
       "      <td>4.120189</td>\n",
       "      <td>1977</td>\n",
       "      <td>68717</td>\n",
       "      <td>10.320292</td>\n",
       "    </tr>\n",
       "    <tr>\n",
       "      <th>8</th>\n",
       "      <td>50</td>\n",
       "      <td>Usual Suspects, The (1995)</td>\n",
       "      <td>Crime|Mystery|Thriller</td>\n",
       "      <td>4.284353</td>\n",
       "      <td>1995</td>\n",
       "      <td>55366</td>\n",
       "      <td>10.100770</td>\n",
       "    </tr>\n",
       "    <tr>\n",
       "      <th>9</th>\n",
       "      <td>4993</td>\n",
       "      <td>Lord of the Rings: The Fellowship of the Ring,...</td>\n",
       "      <td>Adventure|Fantasy</td>\n",
       "      <td>4.091189</td>\n",
       "      <td>2001</td>\n",
       "      <td>55736</td>\n",
       "      <td>10.075469</td>\n",
       "    </tr>\n",
       "  </tbody>\n",
       "</table>\n",
       "</div>"
      ],
      "text/plain": [
       "   movieId                                              title  \\\n",
       "0      318                   Shawshank Redemption, The (1994)   \n",
       "1      296                                Pulp Fiction (1994)   \n",
       "2      356                                Forrest Gump (1994)   \n",
       "3     2571                                 Matrix, The (1999)   \n",
       "4      593                   Silence of the Lambs, The (1991)   \n",
       "5     2959                                  Fight Club (1999)   \n",
       "6      527                            Schindler's List (1993)   \n",
       "7      260          Star Wars: Episode IV - A New Hope (1977)   \n",
       "8       50                         Usual Suspects, The (1995)   \n",
       "9     4993  Lord of the Rings: The Fellowship of the Ring,...   \n",
       "\n",
       "                        genres    rating  released  counts      value  \n",
       "0                  Crime|Drama  4.413576      1994   81482  11.808185  \n",
       "1  Comedy|Crime|Drama|Thriller  4.188912      1994   79672  11.472466  \n",
       "2     Comedy|Drama|Romance|War  4.048011      1994   81491  11.443173  \n",
       "3       Action|Sci-Fi|Thriller  4.154099      1999   72674  11.129248  \n",
       "4        Crime|Horror|Thriller  4.151342      1991   74127  11.022093  \n",
       "5  Action|Crime|Drama|Thriller  4.228311      1999   58773  10.350543  \n",
       "6                    Drama|War  4.247579      1993   60411  10.325152  \n",
       "7      Action|Adventure|Sci-Fi  4.120189      1977   68717  10.320292  \n",
       "8       Crime|Mystery|Thriller  4.284353      1995   55366  10.100770  \n",
       "9            Adventure|Fantasy  4.091189      2001   55736  10.075469  "
      ]
     },
     "execution_count": 16,
     "metadata": {},
     "output_type": "execute_result"
    }
   ],
   "source": [
    "ratings_c = ratings.groupby('movieId')['rating'].count()\n",
    "ratings_c = pd.DataFrame(ratings_c).reset_index()\n",
    "ratings_c = ratings_c.rename({'rating':'counts'},axis=1)\n",
    "ratings_c = ratings_c[ratings_c['counts']>=25]\n",
    "movies_4 = pd.merge(movies_1, ratings_c, on=['movieId'])\n",
    "movies_4 = movies_4.dropna()\n",
    "movies_4['released'] = movies_4['released'].astype('int64')\n",
    "movies_4 = movies_4[(movies_4['released']>= 1895) & (movies_4['released']<=2019)]\n",
    "movies_4['value'] = movies_4['rating'] + (movies_4['counts']/movies_4['counts'].max()*5) + (movies_4['released']-movies_4['released'].min())/(movies_4['released'].max()-movies_4['released'].min())*3\n",
    "movies_4 = movies_4.sort_values(by='value', ascending=False, ignore_index=True)\n",
    "movies_4.head(10)"
   ]
  },
  {
   "cell_type": "code",
   "execution_count": 20,
   "id": "954dd5db",
   "metadata": {
    "ExecuteTime": {
     "end_time": "2021-09-27T03:52:53.136713Z",
     "start_time": "2021-09-27T03:52:51.939169Z"
    }
   },
   "outputs": [
    {
     "data": {
      "text/html": [
       "<div>\n",
       "<style scoped>\n",
       "    .dataframe tbody tr th:only-of-type {\n",
       "        vertical-align: middle;\n",
       "    }\n",
       "\n",
       "    .dataframe tbody tr th {\n",
       "        vertical-align: top;\n",
       "    }\n",
       "\n",
       "    .dataframe thead th {\n",
       "        text-align: right;\n",
       "    }\n",
       "</style>\n",
       "<table border=\"1\" class=\"dataframe\">\n",
       "  <thead>\n",
       "    <tr style=\"text-align: right;\">\n",
       "      <th></th>\n",
       "      <th>movieId</th>\n",
       "      <th>title</th>\n",
       "      <th>genres</th>\n",
       "      <th>rating</th>\n",
       "      <th>released</th>\n",
       "      <th>counts</th>\n",
       "      <th>value</th>\n",
       "    </tr>\n",
       "  </thead>\n",
       "  <tbody>\n",
       "    <tr>\n",
       "      <th>0</th>\n",
       "      <td>318</td>\n",
       "      <td>Shawshank Redemption, The (1994)</td>\n",
       "      <td>Crime|Drama</td>\n",
       "      <td>4.413576</td>\n",
       "      <td>1994</td>\n",
       "      <td>81482</td>\n",
       "      <td>11.808185</td>\n",
       "    </tr>\n",
       "    <tr>\n",
       "      <th>1</th>\n",
       "      <td>296</td>\n",
       "      <td>Pulp Fiction (1994)</td>\n",
       "      <td>Comedy|Crime|Drama|Thriller</td>\n",
       "      <td>4.188912</td>\n",
       "      <td>1994</td>\n",
       "      <td>79672</td>\n",
       "      <td>11.472466</td>\n",
       "    </tr>\n",
       "    <tr>\n",
       "      <th>2</th>\n",
       "      <td>356</td>\n",
       "      <td>Forrest Gump (1994)</td>\n",
       "      <td>Comedy|Drama|Romance|War</td>\n",
       "      <td>4.048011</td>\n",
       "      <td>1994</td>\n",
       "      <td>81491</td>\n",
       "      <td>11.443173</td>\n",
       "    </tr>\n",
       "    <tr>\n",
       "      <th>3</th>\n",
       "      <td>2571</td>\n",
       "      <td>Matrix, The (1999)</td>\n",
       "      <td>Action|Sci-Fi|Thriller</td>\n",
       "      <td>4.154099</td>\n",
       "      <td>1999</td>\n",
       "      <td>72674</td>\n",
       "      <td>11.129248</td>\n",
       "    </tr>\n",
       "    <tr>\n",
       "      <th>4</th>\n",
       "      <td>593</td>\n",
       "      <td>Silence of the Lambs, The (1991)</td>\n",
       "      <td>Crime|Horror|Thriller</td>\n",
       "      <td>4.151342</td>\n",
       "      <td>1991</td>\n",
       "      <td>74127</td>\n",
       "      <td>11.022093</td>\n",
       "    </tr>\n",
       "    <tr>\n",
       "      <th>5</th>\n",
       "      <td>2959</td>\n",
       "      <td>Fight Club (1999)</td>\n",
       "      <td>Action|Crime|Drama|Thriller</td>\n",
       "      <td>4.228311</td>\n",
       "      <td>1999</td>\n",
       "      <td>58773</td>\n",
       "      <td>10.350543</td>\n",
       "    </tr>\n",
       "    <tr>\n",
       "      <th>6</th>\n",
       "      <td>527</td>\n",
       "      <td>Schindler's List (1993)</td>\n",
       "      <td>Drama|War</td>\n",
       "      <td>4.247579</td>\n",
       "      <td>1993</td>\n",
       "      <td>60411</td>\n",
       "      <td>10.325152</td>\n",
       "    </tr>\n",
       "    <tr>\n",
       "      <th>7</th>\n",
       "      <td>260</td>\n",
       "      <td>Star Wars: Episode IV - A New Hope (1977)</td>\n",
       "      <td>Action|Adventure|Sci-Fi</td>\n",
       "      <td>4.120189</td>\n",
       "      <td>1977</td>\n",
       "      <td>68717</td>\n",
       "      <td>10.320292</td>\n",
       "    </tr>\n",
       "    <tr>\n",
       "      <th>8</th>\n",
       "      <td>50</td>\n",
       "      <td>Usual Suspects, The (1995)</td>\n",
       "      <td>Crime|Mystery|Thriller</td>\n",
       "      <td>4.284353</td>\n",
       "      <td>1995</td>\n",
       "      <td>55366</td>\n",
       "      <td>10.100770</td>\n",
       "    </tr>\n",
       "    <tr>\n",
       "      <th>9</th>\n",
       "      <td>4993</td>\n",
       "      <td>Lord of the Rings: The Fellowship of the Ring,...</td>\n",
       "      <td>Adventure|Fantasy</td>\n",
       "      <td>4.091189</td>\n",
       "      <td>2001</td>\n",
       "      <td>55736</td>\n",
       "      <td>10.075469</td>\n",
       "    </tr>\n",
       "  </tbody>\n",
       "</table>\n",
       "</div>"
      ],
      "text/plain": [
       "   movieId                                              title  \\\n",
       "0      318                   Shawshank Redemption, The (1994)   \n",
       "1      296                                Pulp Fiction (1994)   \n",
       "2      356                                Forrest Gump (1994)   \n",
       "3     2571                                 Matrix, The (1999)   \n",
       "4      593                   Silence of the Lambs, The (1991)   \n",
       "5     2959                                  Fight Club (1999)   \n",
       "6      527                            Schindler's List (1993)   \n",
       "7      260          Star Wars: Episode IV - A New Hope (1977)   \n",
       "8       50                         Usual Suspects, The (1995)   \n",
       "9     4993  Lord of the Rings: The Fellowship of the Ring,...   \n",
       "\n",
       "                        genres    rating  released  counts      value  \n",
       "0                  Crime|Drama  4.413576      1994   81482  11.808185  \n",
       "1  Comedy|Crime|Drama|Thriller  4.188912      1994   79672  11.472466  \n",
       "2     Comedy|Drama|Romance|War  4.048011      1994   81491  11.443173  \n",
       "3       Action|Sci-Fi|Thriller  4.154099      1999   72674  11.129248  \n",
       "4        Crime|Horror|Thriller  4.151342      1991   74127  11.022093  \n",
       "5  Action|Crime|Drama|Thriller  4.228311      1999   58773  10.350543  \n",
       "6                    Drama|War  4.247579      1993   60411  10.325152  \n",
       "7      Action|Adventure|Sci-Fi  4.120189      1977   68717  10.320292  \n",
       "8       Crime|Mystery|Thriller  4.284353      1995   55366  10.100770  \n",
       "9            Adventure|Fantasy  4.091189      2001   55736  10.075469  "
      ]
     },
     "execution_count": 20,
     "metadata": {},
     "output_type": "execute_result"
    }
   ],
   "source": [
    "# 더욱 간결해진 코드 발견\n",
    "ratings_c = ratings.groupby('movieId').size().reset_index(name='counts')\n",
    "movies_4 = pd.merge(movies_1, ratings_c, on=['movieId'])\n",
    "movies_4 = movies_4.dropna()\n",
    "movies_4['released'] = movies_4['released'].astype('int64')\n",
    "movies_4 = movies_4[(movies_4['released']>= 1895) & (movies_4['released']<=2019)]\n",
    "movies_4['value'] = movies_4['rating'] + (movies_4['counts']/movies_4['counts'].max()*5) + (movies_4['released']-movies_4['released'].min())/(movies_4['released'].max()-movies_4['released'].min())*3\n",
    "movies_4 = movies_4.sort_values(by='value', ascending=False, ignore_index=True)\n",
    "movies_4.head(10)"
   ]
  },
  {
   "cell_type": "code",
   "execution_count": 39,
   "id": "514f1048",
   "metadata": {
    "ExecuteTime": {
     "end_time": "2021-09-27T04:06:07.043486Z",
     "start_time": "2021-09-27T04:06:06.962833Z"
    }
   },
   "outputs": [
    {
     "name": "stderr",
     "output_type": "stream",
     "text": [
      "C:\\Users\\yoon\\AppData\\Local\\Temp/ipykernel_17760/205850983.py:5: SettingWithCopyWarning: \n",
      "A value is trying to be set on a copy of a slice from a DataFrame.\n",
      "Try using .loc[row_indexer,col_indexer] = value instead\n",
      "\n",
      "See the caveats in the documentation: https://pandas.pydata.org/pandas-docs/stable/user_guide/indexing.html#returning-a-view-versus-a-copy\n",
      "  movies_4['released'] = movies_4['released'].astype('int64')\n"
     ]
    },
    {
     "data": {
      "text/html": [
       "<div>\n",
       "<style scoped>\n",
       "    .dataframe tbody tr th:only-of-type {\n",
       "        vertical-align: middle;\n",
       "    }\n",
       "\n",
       "    .dataframe tbody tr th {\n",
       "        vertical-align: top;\n",
       "    }\n",
       "\n",
       "    .dataframe thead th {\n",
       "        text-align: right;\n",
       "    }\n",
       "</style>\n",
       "<table border=\"1\" class=\"dataframe\">\n",
       "  <thead>\n",
       "    <tr style=\"text-align: right;\">\n",
       "      <th></th>\n",
       "      <th>movieId</th>\n",
       "      <th>title</th>\n",
       "      <th>genres</th>\n",
       "      <th>rating</th>\n",
       "      <th>released</th>\n",
       "      <th>counts</th>\n",
       "      <th>test</th>\n",
       "      <th>value</th>\n",
       "    </tr>\n",
       "  </thead>\n",
       "  <tbody>\n",
       "    <tr>\n",
       "      <th>0</th>\n",
       "      <td>318</td>\n",
       "      <td>Shawshank Redemption, The (1994)</td>\n",
       "      <td>Crime|Drama</td>\n",
       "      <td>4.413576</td>\n",
       "      <td>1994</td>\n",
       "      <td>81482</td>\n",
       "      <td>1994</td>\n",
       "      <td>11.808185</td>\n",
       "    </tr>\n",
       "    <tr>\n",
       "      <th>1</th>\n",
       "      <td>296</td>\n",
       "      <td>Pulp Fiction (1994)</td>\n",
       "      <td>Comedy|Crime|Drama|Thriller</td>\n",
       "      <td>4.188912</td>\n",
       "      <td>1994</td>\n",
       "      <td>79672</td>\n",
       "      <td>1994</td>\n",
       "      <td>11.472466</td>\n",
       "    </tr>\n",
       "    <tr>\n",
       "      <th>2</th>\n",
       "      <td>356</td>\n",
       "      <td>Forrest Gump (1994)</td>\n",
       "      <td>Comedy|Drama|Romance|War</td>\n",
       "      <td>4.048011</td>\n",
       "      <td>1994</td>\n",
       "      <td>81491</td>\n",
       "      <td>1994</td>\n",
       "      <td>11.443173</td>\n",
       "    </tr>\n",
       "    <tr>\n",
       "      <th>3</th>\n",
       "      <td>2571</td>\n",
       "      <td>Matrix, The (1999)</td>\n",
       "      <td>Action|Sci-Fi|Thriller</td>\n",
       "      <td>4.154099</td>\n",
       "      <td>1999</td>\n",
       "      <td>72674</td>\n",
       "      <td>1999</td>\n",
       "      <td>11.129248</td>\n",
       "    </tr>\n",
       "    <tr>\n",
       "      <th>4</th>\n",
       "      <td>593</td>\n",
       "      <td>Silence of the Lambs, The (1991)</td>\n",
       "      <td>Crime|Horror|Thriller</td>\n",
       "      <td>4.151342</td>\n",
       "      <td>1991</td>\n",
       "      <td>74127</td>\n",
       "      <td>1991</td>\n",
       "      <td>11.022093</td>\n",
       "    </tr>\n",
       "    <tr>\n",
       "      <th>5</th>\n",
       "      <td>2959</td>\n",
       "      <td>Fight Club (1999)</td>\n",
       "      <td>Action|Crime|Drama|Thriller</td>\n",
       "      <td>4.228311</td>\n",
       "      <td>1999</td>\n",
       "      <td>58773</td>\n",
       "      <td>1999</td>\n",
       "      <td>10.350543</td>\n",
       "    </tr>\n",
       "    <tr>\n",
       "      <th>6</th>\n",
       "      <td>527</td>\n",
       "      <td>Schindler's List (1993)</td>\n",
       "      <td>Drama|War</td>\n",
       "      <td>4.247579</td>\n",
       "      <td>1993</td>\n",
       "      <td>60411</td>\n",
       "      <td>1993</td>\n",
       "      <td>10.325152</td>\n",
       "    </tr>\n",
       "    <tr>\n",
       "      <th>7</th>\n",
       "      <td>260</td>\n",
       "      <td>Star Wars: Episode IV - A New Hope (1977)</td>\n",
       "      <td>Action|Adventure|Sci-Fi</td>\n",
       "      <td>4.120189</td>\n",
       "      <td>1977</td>\n",
       "      <td>68717</td>\n",
       "      <td>1977</td>\n",
       "      <td>10.320292</td>\n",
       "    </tr>\n",
       "    <tr>\n",
       "      <th>8</th>\n",
       "      <td>50</td>\n",
       "      <td>Usual Suspects, The (1995)</td>\n",
       "      <td>Crime|Mystery|Thriller</td>\n",
       "      <td>4.284353</td>\n",
       "      <td>1995</td>\n",
       "      <td>55366</td>\n",
       "      <td>1995</td>\n",
       "      <td>10.100770</td>\n",
       "    </tr>\n",
       "    <tr>\n",
       "      <th>9</th>\n",
       "      <td>4993</td>\n",
       "      <td>Lord of the Rings: The Fellowship of the Ring,...</td>\n",
       "      <td>Adventure|Fantasy</td>\n",
       "      <td>4.091189</td>\n",
       "      <td>2001</td>\n",
       "      <td>55736</td>\n",
       "      <td>2001</td>\n",
       "      <td>10.075469</td>\n",
       "    </tr>\n",
       "  </tbody>\n",
       "</table>\n",
       "</div>"
      ],
      "text/plain": [
       "   movieId                                              title  \\\n",
       "0      318                   Shawshank Redemption, The (1994)   \n",
       "1      296                                Pulp Fiction (1994)   \n",
       "2      356                                Forrest Gump (1994)   \n",
       "3     2571                                 Matrix, The (1999)   \n",
       "4      593                   Silence of the Lambs, The (1991)   \n",
       "5     2959                                  Fight Club (1999)   \n",
       "6      527                            Schindler's List (1993)   \n",
       "7      260          Star Wars: Episode IV - A New Hope (1977)   \n",
       "8       50                         Usual Suspects, The (1995)   \n",
       "9     4993  Lord of the Rings: The Fellowship of the Ring,...   \n",
       "\n",
       "                        genres    rating  released  counts  test      value  \n",
       "0                  Crime|Drama  4.413576      1994   81482  1994  11.808185  \n",
       "1  Comedy|Crime|Drama|Thriller  4.188912      1994   79672  1994  11.472466  \n",
       "2     Comedy|Drama|Romance|War  4.048011      1994   81491  1994  11.443173  \n",
       "3       Action|Sci-Fi|Thriller  4.154099      1999   72674  1999  11.129248  \n",
       "4        Crime|Horror|Thriller  4.151342      1991   74127  1991  11.022093  \n",
       "5  Action|Crime|Drama|Thriller  4.228311      1999   58773  1999  10.350543  \n",
       "6                    Drama|War  4.247579      1993   60411  1993  10.325152  \n",
       "7      Action|Adventure|Sci-Fi  4.120189      1977   68717  1977  10.320292  \n",
       "8       Crime|Mystery|Thriller  4.284353      1995   55366  1995  10.100770  \n",
       "9            Adventure|Fantasy  4.091189      2001   55736  2001  10.075469  "
      ]
     },
     "execution_count": 39,
     "metadata": {},
     "output_type": "execute_result"
    }
   ],
   "source": [
    "# 더욱 간결해진 코드 발견\n",
    "# ratings_c = ratings.groupby('movieId').size().reset_index(name='counts')\n",
    "# movies_4 = pd.merge(movies_1, ratings_c, on=['movieId'])\n",
    "movies_4 = movies_2.dropna()\n",
    "movies_4['released'] = movies_4['released'].astype('int64')\n",
    "movies_4 = movies_4[(movies_4['released']>= 1895) & (movies_4['released']<= 2019)]\n",
    "movies_4['value'] = movies_4['rating'] + (movies_4['counts']/movies_4['counts'].max()*5) + (movies_4['released']-movies_4['released'].min())/(movies_4['released'].max()-movies_4['released'].min())*3\n",
    "movies_4 = movies_4.sort_values(by='value', ascending=False, ignore_index=True)\n",
    "movies_4.head(10)\n",
    "# warning은 위에 두 줄이 사라진것 차이때문에 발생하는데\n",
    "#     에러 원인 설명은 astype()함수의 이용때문으로 표현되고 있음..."
   ]
  },
  {
   "cell_type": "markdown",
   "id": "60bcf70f",
   "metadata": {},
   "source": [
    "# 1 추천영화로 제공할 수 있도록 movie_4가 완성됨 ----------"
   ]
  },
  {
   "cell_type": "code",
   "execution_count": 12,
   "id": "7bb101e0",
   "metadata": {
    "ExecuteTime": {
     "end_time": "2021-09-01T18:36:27.778756Z",
     "start_time": "2021-09-01T18:36:27.755817Z"
    }
   },
   "outputs": [
    {
     "data": {
      "text/plain": [
       "array([1.0, 2.0, 3.0, ..., 207309.0, 207405.0, 207830.0], dtype=object)"
      ]
     },
     "execution_count": 12,
     "metadata": {},
     "output_type": "execute_result"
    }
   ],
   "source": [
    "movies_4['released'].unique()"
   ]
  },
  {
   "cell_type": "code",
   "execution_count": 21,
   "id": "43af4602",
   "metadata": {
    "ExecuteTime": {
     "end_time": "2021-09-01T18:09:48.401908Z",
     "start_time": "2021-09-01T18:09:48.389943Z"
    }
   },
   "outputs": [
    {
     "data": {
      "text/plain": [
       "9000"
      ]
     },
     "execution_count": 21,
     "metadata": {},
     "output_type": "execute_result"
    }
   ],
   "source": [
    "movies_4['released'].max()"
   ]
  },
  {
   "cell_type": "code",
   "execution_count": 19,
   "id": "1d26d57a",
   "metadata": {
    "ExecuteTime": {
     "end_time": "2021-09-01T18:07:05.956213Z",
     "start_time": "2021-09-01T18:07:05.918315Z"
    }
   },
   "outputs": [
    {
     "data": {
      "text/html": [
       "<div>\n",
       "<style scoped>\n",
       "    .dataframe tbody tr th:only-of-type {\n",
       "        vertical-align: middle;\n",
       "    }\n",
       "\n",
       "    .dataframe tbody tr th {\n",
       "        vertical-align: top;\n",
       "    }\n",
       "\n",
       "    .dataframe thead th {\n",
       "        text-align: right;\n",
       "    }\n",
       "</style>\n",
       "<table border=\"1\" class=\"dataframe\">\n",
       "  <thead>\n",
       "    <tr style=\"text-align: right;\">\n",
       "      <th></th>\n",
       "      <th>movieId</th>\n",
       "      <th>title</th>\n",
       "      <th>genres</th>\n",
       "      <th>rating</th>\n",
       "      <th>released</th>\n",
       "      <th>counts</th>\n",
       "      <th>value</th>\n",
       "    </tr>\n",
       "  </thead>\n",
       "  <tbody>\n",
       "    <tr>\n",
       "      <th>0</th>\n",
       "      <td>318</td>\n",
       "      <td>Shawshank Redemption, The (1994)</td>\n",
       "      <td>Crime|Drama</td>\n",
       "      <td>4.413576</td>\n",
       "      <td>1994</td>\n",
       "      <td>81482</td>\n",
       "      <td>9.462874</td>\n",
       "    </tr>\n",
       "    <tr>\n",
       "      <th>1</th>\n",
       "      <td>296</td>\n",
       "      <td>Pulp Fiction (1994)</td>\n",
       "      <td>Comedy|Crime|Drama|Thriller</td>\n",
       "      <td>4.188912</td>\n",
       "      <td>1994</td>\n",
       "      <td>79672</td>\n",
       "      <td>9.127155</td>\n",
       "    </tr>\n",
       "    <tr>\n",
       "      <th>2</th>\n",
       "      <td>356</td>\n",
       "      <td>Forrest Gump (1994)</td>\n",
       "      <td>Comedy|Drama|Romance|War</td>\n",
       "      <td>4.048011</td>\n",
       "      <td>1994</td>\n",
       "      <td>81491</td>\n",
       "      <td>9.097861</td>\n",
       "    </tr>\n",
       "    <tr>\n",
       "      <th>3</th>\n",
       "      <td>593</td>\n",
       "      <td>Silence of the Lambs, The (1991)</td>\n",
       "      <td>Crime|Horror|Thriller</td>\n",
       "      <td>4.151342</td>\n",
       "      <td>1991</td>\n",
       "      <td>74127</td>\n",
       "      <td>8.749288</td>\n",
       "    </tr>\n",
       "    <tr>\n",
       "      <th>4</th>\n",
       "      <td>2571</td>\n",
       "      <td>Matrix, The (1999)</td>\n",
       "      <td>Action|Sci-Fi|Thriller</td>\n",
       "      <td>4.154099</td>\n",
       "      <td>1999</td>\n",
       "      <td>72674</td>\n",
       "      <td>8.663094</td>\n",
       "    </tr>\n",
       "    <tr>\n",
       "      <th>5</th>\n",
       "      <td>260</td>\n",
       "      <td>Star Wars: Episode IV - A New Hope (1977)</td>\n",
       "      <td>Action|Adventure|Sci-Fi</td>\n",
       "      <td>4.120189</td>\n",
       "      <td>1977</td>\n",
       "      <td>68717</td>\n",
       "      <td>8.385846</td>\n",
       "    </tr>\n",
       "    <tr>\n",
       "      <th>6</th>\n",
       "      <td>527</td>\n",
       "      <td>Schindler's List (1993)</td>\n",
       "      <td>Drama|War</td>\n",
       "      <td>4.247579</td>\n",
       "      <td>1993</td>\n",
       "      <td>60411</td>\n",
       "      <td>8.004010</td>\n",
       "    </tr>\n",
       "    <tr>\n",
       "      <th>7</th>\n",
       "      <td>2959</td>\n",
       "      <td>Fight Club (1999)</td>\n",
       "      <td>Action|Crime|Drama|Thriller</td>\n",
       "      <td>4.228311</td>\n",
       "      <td>1999</td>\n",
       "      <td>58773</td>\n",
       "      <td>7.884389</td>\n",
       "    </tr>\n",
       "    <tr>\n",
       "      <th>8</th>\n",
       "      <td>50</td>\n",
       "      <td>Usual Suspects, The (1995)</td>\n",
       "      <td>Crime|Mystery|Thriller</td>\n",
       "      <td>4.284353</td>\n",
       "      <td>1995</td>\n",
       "      <td>55366</td>\n",
       "      <td>7.731290</td>\n",
       "    </tr>\n",
       "    <tr>\n",
       "      <th>9</th>\n",
       "      <td>1196</td>\n",
       "      <td>Star Wars: Episode V - The Empire Strikes Back...</td>\n",
       "      <td>Action|Adventure|Sci-Fi</td>\n",
       "      <td>4.144122</td>\n",
       "      <td>1980</td>\n",
       "      <td>57361</td>\n",
       "      <td>7.713091</td>\n",
       "    </tr>\n",
       "  </tbody>\n",
       "</table>\n",
       "</div>"
      ],
      "text/plain": [
       "   movieId                                              title  \\\n",
       "0      318                   Shawshank Redemption, The (1994)   \n",
       "1      296                                Pulp Fiction (1994)   \n",
       "2      356                                Forrest Gump (1994)   \n",
       "3      593                   Silence of the Lambs, The (1991)   \n",
       "4     2571                                 Matrix, The (1999)   \n",
       "5      260          Star Wars: Episode IV - A New Hope (1977)   \n",
       "6      527                            Schindler's List (1993)   \n",
       "7     2959                                  Fight Club (1999)   \n",
       "8       50                         Usual Suspects, The (1995)   \n",
       "9     1196  Star Wars: Episode V - The Empire Strikes Back...   \n",
       "\n",
       "                        genres    rating  released  counts     value  \n",
       "0                  Crime|Drama  4.413576      1994   81482  9.462874  \n",
       "1  Comedy|Crime|Drama|Thriller  4.188912      1994   79672  9.127155  \n",
       "2     Comedy|Drama|Romance|War  4.048011      1994   81491  9.097861  \n",
       "3        Crime|Horror|Thriller  4.151342      1991   74127  8.749288  \n",
       "4       Action|Sci-Fi|Thriller  4.154099      1999   72674  8.663094  \n",
       "5      Action|Adventure|Sci-Fi  4.120189      1977   68717  8.385846  \n",
       "6                    Drama|War  4.247579      1993   60411  8.004010  \n",
       "7  Action|Crime|Drama|Thriller  4.228311      1999   58773  7.884389  \n",
       "8       Crime|Mystery|Thriller  4.284353      1995   55366  7.731290  \n",
       "9      Action|Adventure|Sci-Fi  4.144122      1980   57361  7.713091  "
      ]
     },
     "execution_count": 19,
     "metadata": {},
     "output_type": "execute_result"
    }
   ],
   "source": [
    "movies_4 = movies_4.sort_values('value', ascending=False, ignore_index=True)\n",
    "movies_4.head(10)"
   ]
  },
  {
   "cell_type": "code",
   "execution_count": null,
   "id": "5a176a9a",
   "metadata": {},
   "outputs": [],
   "source": []
  },
  {
   "cell_type": "code",
   "execution_count": 22,
   "id": "fd74db7f",
   "metadata": {
    "ExecuteTime": {
     "end_time": "2021-09-01T18:11:28.964993Z",
     "start_time": "2021-09-01T18:11:27.201682Z"
    }
   },
   "outputs": [
    {
     "data": {
      "text/html": [
       "<div>\n",
       "<style scoped>\n",
       "    .dataframe tbody tr th:only-of-type {\n",
       "        vertical-align: middle;\n",
       "    }\n",
       "\n",
       "    .dataframe tbody tr th {\n",
       "        vertical-align: top;\n",
       "    }\n",
       "\n",
       "    .dataframe thead th {\n",
       "        text-align: right;\n",
       "    }\n",
       "</style>\n",
       "<table border=\"1\" class=\"dataframe\">\n",
       "  <thead>\n",
       "    <tr style=\"text-align: right;\">\n",
       "      <th></th>\n",
       "      <th>movieId</th>\n",
       "      <th>title</th>\n",
       "      <th>genres</th>\n",
       "      <th>rating</th>\n",
       "      <th>released</th>\n",
       "      <th>counts</th>\n",
       "    </tr>\n",
       "  </thead>\n",
       "  <tbody>\n",
       "    <tr>\n",
       "      <th>0</th>\n",
       "      <td>1</td>\n",
       "      <td>Toy Story (1995)</td>\n",
       "      <td>Adventure|Animation|Children|Comedy|Fantasy</td>\n",
       "      <td>3.893708</td>\n",
       "      <td>1995</td>\n",
       "      <td>57309</td>\n",
       "    </tr>\n",
       "    <tr>\n",
       "      <th>1</th>\n",
       "      <td>2</td>\n",
       "      <td>Jumanji (1995)</td>\n",
       "      <td>Adventure|Children|Fantasy</td>\n",
       "      <td>3.251527</td>\n",
       "      <td>1995</td>\n",
       "      <td>24228</td>\n",
       "    </tr>\n",
       "    <tr>\n",
       "      <th>2</th>\n",
       "      <td>3</td>\n",
       "      <td>Grumpier Old Men (1995)</td>\n",
       "      <td>Comedy|Romance</td>\n",
       "      <td>3.142028</td>\n",
       "      <td>1995</td>\n",
       "      <td>11804</td>\n",
       "    </tr>\n",
       "    <tr>\n",
       "      <th>3</th>\n",
       "      <td>4</td>\n",
       "      <td>Waiting to Exhale (1995)</td>\n",
       "      <td>Comedy|Drama|Romance</td>\n",
       "      <td>2.853547</td>\n",
       "      <td>1995</td>\n",
       "      <td>2523</td>\n",
       "    </tr>\n",
       "    <tr>\n",
       "      <th>4</th>\n",
       "      <td>5</td>\n",
       "      <td>Father of the Bride Part II (1995)</td>\n",
       "      <td>Comedy</td>\n",
       "      <td>3.058434</td>\n",
       "      <td>1995</td>\n",
       "      <td>11714</td>\n",
       "    </tr>\n",
       "    <tr>\n",
       "      <th>...</th>\n",
       "      <td>...</td>\n",
       "      <td>...</td>\n",
       "      <td>...</td>\n",
       "      <td>...</td>\n",
       "      <td>...</td>\n",
       "      <td>...</td>\n",
       "    </tr>\n",
       "    <tr>\n",
       "      <th>16965</th>\n",
       "      <td>206805</td>\n",
       "      <td>In the Shadow of the Moon (2019)</td>\n",
       "      <td>Crime|Mystery|Sci-Fi</td>\n",
       "      <td>3.190000</td>\n",
       "      <td>2019</td>\n",
       "      <td>50</td>\n",
       "    </tr>\n",
       "    <tr>\n",
       "      <th>16966</th>\n",
       "      <td>206845</td>\n",
       "      <td>The Laundromat (2019)</td>\n",
       "      <td>Comedy|Crime|Drama</td>\n",
       "      <td>3.250000</td>\n",
       "      <td>2019</td>\n",
       "      <td>42</td>\n",
       "    </tr>\n",
       "    <tr>\n",
       "      <th>16967</th>\n",
       "      <td>207309</td>\n",
       "      <td>Fractured (2019)</td>\n",
       "      <td>Thriller</td>\n",
       "      <td>3.216216</td>\n",
       "      <td>2019</td>\n",
       "      <td>37</td>\n",
       "    </tr>\n",
       "    <tr>\n",
       "      <th>16968</th>\n",
       "      <td>207405</td>\n",
       "      <td>Doctor Sleep (2019)</td>\n",
       "      <td>Horror</td>\n",
       "      <td>3.730769</td>\n",
       "      <td>2019</td>\n",
       "      <td>39</td>\n",
       "    </tr>\n",
       "    <tr>\n",
       "      <th>16969</th>\n",
       "      <td>207830</td>\n",
       "      <td>Terminator: Dark Fate (2019)</td>\n",
       "      <td>Action|Sci-Fi</td>\n",
       "      <td>3.372727</td>\n",
       "      <td>2019</td>\n",
       "      <td>55</td>\n",
       "    </tr>\n",
       "  </tbody>\n",
       "</table>\n",
       "<p>16944 rows × 6 columns</p>\n",
       "</div>"
      ],
      "text/plain": [
       "       movieId                               title  \\\n",
       "0            1                    Toy Story (1995)   \n",
       "1            2                      Jumanji (1995)   \n",
       "2            3             Grumpier Old Men (1995)   \n",
       "3            4            Waiting to Exhale (1995)   \n",
       "4            5  Father of the Bride Part II (1995)   \n",
       "...        ...                                 ...   \n",
       "16965   206805    In the Shadow of the Moon (2019)   \n",
       "16966   206845               The Laundromat (2019)   \n",
       "16967   207309                    Fractured (2019)   \n",
       "16968   207405                 Doctor Sleep (2019)   \n",
       "16969   207830        Terminator: Dark Fate (2019)   \n",
       "\n",
       "                                            genres    rating released  counts  \n",
       "0      Adventure|Animation|Children|Comedy|Fantasy  3.893708     1995   57309  \n",
       "1                       Adventure|Children|Fantasy  3.251527     1995   24228  \n",
       "2                                   Comedy|Romance  3.142028     1995   11804  \n",
       "3                             Comedy|Drama|Romance  2.853547     1995    2523  \n",
       "4                                           Comedy  3.058434     1995   11714  \n",
       "...                                            ...       ...      ...     ...  \n",
       "16965                         Crime|Mystery|Sci-Fi  3.190000     2019      50  \n",
       "16966                           Comedy|Crime|Drama  3.250000     2019      42  \n",
       "16967                                     Thriller  3.216216     2019      37  \n",
       "16968                                       Horror  3.730769     2019      39  \n",
       "16969                                Action|Sci-Fi  3.372727     2019      55  \n",
       "\n",
       "[16944 rows x 6 columns]"
      ]
     },
     "execution_count": 22,
     "metadata": {},
     "output_type": "execute_result"
    }
   ],
   "source": [
    "import numpy as np\n",
    "ratings_c = ratings.groupby('movieId')['rating'].count()\n",
    "ratings_c = pd.DataFrame(ratings_c).reset_index()\n",
    "ratings_c = ratings_c.rename({'rating':'counts'},axis=1)\n",
    "ratings_c = ratings_c[ratings_c['counts']>=25]\n",
    "movies_4 = pd.merge(movies_1, ratings_c, on=['movieId'])\n",
    "movies_4\n",
    "# movies_4['value'] = movies_4['rating']+((movies_4['counts']/movies_4['counts'].max())*5)\n",
    "#             # value는 나중에 추천영화시 별도로 사용\n",
    "# movies_4 = movies_4.sort_values(by='value', ascending=False, ignore_index = True)\n",
    "# movies_4.head(10)\n",
    "#             # movies_3은 rating(5점 만점) + counts(5점 만점)을 합산한 값인 value 기준으로 정렬"
   ]
  },
  {
   "cell_type": "code",
   "execution_count": null,
   "id": "5eae2918",
   "metadata": {},
   "outputs": [],
   "source": [
    "# 최근 영화는 평가수가 많을 수가 없는 구조인듯?\n",
    "# 어떤 지표를 개발할지에 대한 고민이 필요함 -> 평가횟수 최소 30개 이상 + 스케일조정 실시"
   ]
  },
  {
   "cell_type": "markdown",
   "id": "b65eb245",
   "metadata": {},
   "source": [
    "## released를 도출하려는 시도(이젠 movies_2에 이미 적용함) ----- 완성본 도출했음으로 사용 ㄴㄴ -----"
   ]
  },
  {
   "cell_type": "code",
   "execution_count": 15,
   "id": "c21cd276",
   "metadata": {
    "ExecuteTime": {
     "end_time": "2021-08-31T04:44:03.594122Z",
     "start_time": "2021-08-31T04:44:03.550239Z"
    }
   },
   "outputs": [
    {
     "data": {
      "text/html": [
       "<div>\n",
       "<style scoped>\n",
       "    .dataframe tbody tr th:only-of-type {\n",
       "        vertical-align: middle;\n",
       "    }\n",
       "\n",
       "    .dataframe tbody tr th {\n",
       "        vertical-align: top;\n",
       "    }\n",
       "\n",
       "    .dataframe thead th {\n",
       "        text-align: right;\n",
       "    }\n",
       "</style>\n",
       "<table border=\"1\" class=\"dataframe\">\n",
       "  <thead>\n",
       "    <tr style=\"text-align: right;\">\n",
       "      <th></th>\n",
       "      <th>movieId</th>\n",
       "      <th>title</th>\n",
       "      <th>genres</th>\n",
       "      <th>rating</th>\n",
       "      <th>counts</th>\n",
       "      <th>released</th>\n",
       "      <th>value</th>\n",
       "    </tr>\n",
       "  </thead>\n",
       "  <tbody>\n",
       "    <tr>\n",
       "      <th>4</th>\n",
       "      <td>2571</td>\n",
       "      <td>Matrix, The (1999)</td>\n",
       "      <td>Action|Sci-Fi|Thriller</td>\n",
       "      <td>4.154099</td>\n",
       "      <td>72674</td>\n",
       "      <td>1999</td>\n",
       "      <td>8.613119</td>\n",
       "    </tr>\n",
       "    <tr>\n",
       "      <th>7</th>\n",
       "      <td>2959</td>\n",
       "      <td>Fight Club (1999)</td>\n",
       "      <td>Action|Crime|Drama|Thriller</td>\n",
       "      <td>4.228311</td>\n",
       "      <td>58773</td>\n",
       "      <td>1999</td>\n",
       "      <td>7.834414</td>\n",
       "    </tr>\n",
       "    <tr>\n",
       "      <th>17</th>\n",
       "      <td>2858</td>\n",
       "      <td>American Beauty (1999)</td>\n",
       "      <td>Drama|Romance</td>\n",
       "      <td>4.107340</td>\n",
       "      <td>53689</td>\n",
       "      <td>1999</td>\n",
       "      <td>7.401508</td>\n",
       "    </tr>\n",
       "    <tr>\n",
       "      <th>26</th>\n",
       "      <td>2762</td>\n",
       "      <td>Sixth Sense, The (1999)</td>\n",
       "      <td>Drama|Horror|Mystery</td>\n",
       "      <td>4.009751</td>\n",
       "      <td>46713</td>\n",
       "      <td>1999</td>\n",
       "      <td>6.875896</td>\n",
       "    </tr>\n",
       "    <tr>\n",
       "      <th>66</th>\n",
       "      <td>3147</td>\n",
       "      <td>Green Mile, The (1999)</td>\n",
       "      <td>Crime|Drama</td>\n",
       "      <td>4.027754</td>\n",
       "      <td>30482</td>\n",
       "      <td>1999</td>\n",
       "      <td>5.898022</td>\n",
       "    </tr>\n",
       "    <tr>\n",
       "      <th>...</th>\n",
       "      <td>...</td>\n",
       "      <td>...</td>\n",
       "      <td>...</td>\n",
       "      <td>...</td>\n",
       "      <td>...</td>\n",
       "      <td>...</td>\n",
       "      <td>...</td>\n",
       "    </tr>\n",
       "    <tr>\n",
       "      <th>15785</th>\n",
       "      <td>2974</td>\n",
       "      <td>Bats (1999)</td>\n",
       "      <td>Horror|Thriller</td>\n",
       "      <td>1.793310</td>\n",
       "      <td>583</td>\n",
       "      <td>1999</td>\n",
       "      <td>1.829081</td>\n",
       "    </tr>\n",
       "    <tr>\n",
       "      <th>15786</th>\n",
       "      <td>3666</td>\n",
       "      <td>Retro Puppet Master (Puppet Master 7) (1999)</td>\n",
       "      <td>Horror|Sci-Fi|Thriller</td>\n",
       "      <td>1.820755</td>\n",
       "      <td>106</td>\n",
       "      <td>1999</td>\n",
       "      <td>1.827259</td>\n",
       "    </tr>\n",
       "    <tr>\n",
       "      <th>15810</th>\n",
       "      <td>2555</td>\n",
       "      <td>Baby Geniuses (1999)</td>\n",
       "      <td>Comedy</td>\n",
       "      <td>1.699346</td>\n",
       "      <td>1377</td>\n",
       "      <td>1999</td>\n",
       "      <td>1.783834</td>\n",
       "    </tr>\n",
       "    <tr>\n",
       "      <th>15831</th>\n",
       "      <td>2887</td>\n",
       "      <td>Simon Sez (1999)</td>\n",
       "      <td>Action|Comedy</td>\n",
       "      <td>1.705357</td>\n",
       "      <td>112</td>\n",
       "      <td>1999</td>\n",
       "      <td>1.712229</td>\n",
       "    </tr>\n",
       "    <tr>\n",
       "      <th>15897</th>\n",
       "      <td>5740</td>\n",
       "      <td>Faces of Death: Fact or Fiction? (1999)</td>\n",
       "      <td>Documentary|Horror</td>\n",
       "      <td>1.384298</td>\n",
       "      <td>121</td>\n",
       "      <td>1999</td>\n",
       "      <td>1.391722</td>\n",
       "    </tr>\n",
       "  </tbody>\n",
       "</table>\n",
       "<p>351 rows × 7 columns</p>\n",
       "</div>"
      ],
      "text/plain": [
       "       movieId                                         title  \\\n",
       "4         2571                            Matrix, The (1999)   \n",
       "7         2959                             Fight Club (1999)   \n",
       "17        2858                        American Beauty (1999)   \n",
       "26        2762                       Sixth Sense, The (1999)   \n",
       "66        3147                        Green Mile, The (1999)   \n",
       "...        ...                                           ...   \n",
       "15785     2974                                   Bats (1999)   \n",
       "15786     3666  Retro Puppet Master (Puppet Master 7) (1999)   \n",
       "15810     2555                          Baby Geniuses (1999)   \n",
       "15831     2887                              Simon Sez (1999)   \n",
       "15897     5740       Faces of Death: Fact or Fiction? (1999)   \n",
       "\n",
       "                            genres    rating  counts released     value  \n",
       "4           Action|Sci-Fi|Thriller  4.154099   72674     1999  8.613119  \n",
       "7      Action|Crime|Drama|Thriller  4.228311   58773     1999  7.834414  \n",
       "17                   Drama|Romance  4.107340   53689     1999  7.401508  \n",
       "26            Drama|Horror|Mystery  4.009751   46713     1999  6.875896  \n",
       "66                     Crime|Drama  4.027754   30482     1999  5.898022  \n",
       "...                            ...       ...     ...      ...       ...  \n",
       "15785              Horror|Thriller  1.793310     583     1999  1.829081  \n",
       "15786       Horror|Sci-Fi|Thriller  1.820755     106     1999  1.827259  \n",
       "15810                       Comedy  1.699346    1377     1999  1.783834  \n",
       "15831                Action|Comedy  1.705357     112     1999  1.712229  \n",
       "15897           Documentary|Horror  1.384298     121     1999  1.391722  \n",
       "\n",
       "[351 rows x 7 columns]"
      ]
     },
     "execution_count": 15,
     "metadata": {},
     "output_type": "execute_result"
    }
   ],
   "source": [
    "# 시도 1 ############### 시도 4로 사용 할 것!\n",
    "movies_3['released']= movies_3['title'].str[-5:-1]\n",
    "movies_3[movies_3['released']=='1999']"
   ]
  },
  {
   "cell_type": "code",
   "execution_count": 61,
   "id": "58111219",
   "metadata": {
    "ExecuteTime": {
     "end_time": "2021-08-27T06:32:42.101968Z",
     "start_time": "2021-08-27T06:32:42.082029Z"
    }
   },
   "outputs": [
    {
     "data": {
      "text/plain": [
       "42953     2016\n",
       "38361     2006\n",
       "314       1994\n",
       "42806     2001\n",
       "43172    Cosmo\n",
       "         ...  \n",
       "4669      2001\n",
       "32837     2015\n",
       "6360      2003\n",
       "8144      2004\n",
       "7157      2000\n",
       "Name: title, Length: 16970, dtype: object"
      ]
     },
     "execution_count": 61,
     "metadata": {},
     "output_type": "execute_result"
    }
   ],
   "source": [
    "# 시도 2\n",
    "# movies_3['title'].map(lambda x : x.str[-5, -1])\n",
    "# movies_3.apply(lambda x : x[-5, -1])\n",
    "\n",
    "movies_3['title'].apply(lambda x : x[x.find('(')+1 : -1])"
   ]
  },
  {
   "cell_type": "code",
   "execution_count": 113,
   "id": "16f091a6",
   "metadata": {
    "ExecuteTime": {
     "end_time": "2021-08-27T06:34:13.273068Z",
     "start_time": "2021-08-27T06:34:13.224210Z"
    }
   },
   "outputs": [
    {
     "data": {
      "text/html": [
       "<div>\n",
       "<style scoped>\n",
       "    .dataframe tbody tr th:only-of-type {\n",
       "        vertical-align: middle;\n",
       "    }\n",
       "\n",
       "    .dataframe tbody tr th {\n",
       "        vertical-align: top;\n",
       "    }\n",
       "\n",
       "    .dataframe thead th {\n",
       "        text-align: right;\n",
       "    }\n",
       "</style>\n",
       "<table border=\"1\" class=\"dataframe\">\n",
       "  <thead>\n",
       "    <tr style=\"text-align: right;\">\n",
       "      <th></th>\n",
       "      <th>movieId</th>\n",
       "      <th>title</th>\n",
       "      <th>genres</th>\n",
       "      <th>rating</th>\n",
       "      <th>counts</th>\n",
       "      <th>value</th>\n",
       "      <th>released</th>\n",
       "    </tr>\n",
       "  </thead>\n",
       "  <tbody>\n",
       "    <tr>\n",
       "      <th>0</th>\n",
       "      <td>318</td>\n",
       "      <td>Shawshank Redemption, The (1994)</td>\n",
       "      <td>Crime|Drama</td>\n",
       "      <td>4.413576</td>\n",
       "      <td>81482</td>\n",
       "      <td>9.413024</td>\n",
       "      <td>NaN</td>\n",
       "    </tr>\n",
       "    <tr>\n",
       "      <th>1</th>\n",
       "      <td>296</td>\n",
       "      <td>Pulp Fiction (1994)</td>\n",
       "      <td>Comedy|Crime|Drama|Thriller</td>\n",
       "      <td>4.188912</td>\n",
       "      <td>79672</td>\n",
       "      <td>9.077305</td>\n",
       "      <td>NaN</td>\n",
       "    </tr>\n",
       "    <tr>\n",
       "      <th>2</th>\n",
       "      <td>356</td>\n",
       "      <td>Forrest Gump (1994)</td>\n",
       "      <td>Comedy|Drama|Romance|War</td>\n",
       "      <td>4.048011</td>\n",
       "      <td>81491</td>\n",
       "      <td>9.048011</td>\n",
       "      <td>NaN</td>\n",
       "    </tr>\n",
       "    <tr>\n",
       "      <th>3</th>\n",
       "      <td>593</td>\n",
       "      <td>Silence of the Lambs, The (1991)</td>\n",
       "      <td>Crime|Horror|Thriller</td>\n",
       "      <td>4.151342</td>\n",
       "      <td>74127</td>\n",
       "      <td>8.699513</td>\n",
       "      <td>NaN</td>\n",
       "    </tr>\n",
       "    <tr>\n",
       "      <th>4</th>\n",
       "      <td>2571</td>\n",
       "      <td>Matrix, The (1999)</td>\n",
       "      <td>Action|Sci-Fi|Thriller</td>\n",
       "      <td>4.154099</td>\n",
       "      <td>72674</td>\n",
       "      <td>8.613119</td>\n",
       "      <td>NaN</td>\n",
       "    </tr>\n",
       "    <tr>\n",
       "      <th>...</th>\n",
       "      <td>...</td>\n",
       "      <td>...</td>\n",
       "      <td>...</td>\n",
       "      <td>...</td>\n",
       "      <td>...</td>\n",
       "      <td>...</td>\n",
       "      <td>...</td>\n",
       "    </tr>\n",
       "    <tr>\n",
       "      <th>15910</th>\n",
       "      <td>4775</td>\n",
       "      <td>Glitter (2001)</td>\n",
       "      <td>Drama|Musical|Romance</td>\n",
       "      <td>1.125561</td>\n",
       "      <td>669</td>\n",
       "      <td>1.166608</td>\n",
       "      <td>NaN</td>\n",
       "    </tr>\n",
       "    <tr>\n",
       "      <th>15911</th>\n",
       "      <td>145096</td>\n",
       "      <td>Barbie &amp; Her Sisters in the Great Puppy Advent...</td>\n",
       "      <td>Animation</td>\n",
       "      <td>1.118644</td>\n",
       "      <td>59</td>\n",
       "      <td>1.122264</td>\n",
       "      <td>NaN</td>\n",
       "    </tr>\n",
       "    <tr>\n",
       "      <th>15912</th>\n",
       "      <td>6483</td>\n",
       "      <td>From Justin to Kelly (2003)</td>\n",
       "      <td>Musical|Romance</td>\n",
       "      <td>1.027578</td>\n",
       "      <td>417</td>\n",
       "      <td>1.053164</td>\n",
       "      <td>NaN</td>\n",
       "    </tr>\n",
       "    <tr>\n",
       "      <th>15913</th>\n",
       "      <td>8859</td>\n",
       "      <td>SuperBabies: Baby Geniuses 2 (2004)</td>\n",
       "      <td>Comedy</td>\n",
       "      <td>0.899038</td>\n",
       "      <td>208</td>\n",
       "      <td>0.911801</td>\n",
       "      <td>NaN</td>\n",
       "    </tr>\n",
       "    <tr>\n",
       "      <th>15914</th>\n",
       "      <td>7282</td>\n",
       "      <td>Hip Hop Witch, Da (2000)</td>\n",
       "      <td>Comedy|Horror|Thriller</td>\n",
       "      <td>0.854839</td>\n",
       "      <td>31</td>\n",
       "      <td>0.856741</td>\n",
       "      <td>NaN</td>\n",
       "    </tr>\n",
       "  </tbody>\n",
       "</table>\n",
       "<p>15915 rows × 7 columns</p>\n",
       "</div>"
      ],
      "text/plain": [
       "       movieId                                              title  \\\n",
       "0          318                   Shawshank Redemption, The (1994)   \n",
       "1          296                                Pulp Fiction (1994)   \n",
       "2          356                                Forrest Gump (1994)   \n",
       "3          593                   Silence of the Lambs, The (1991)   \n",
       "4         2571                                 Matrix, The (1999)   \n",
       "...        ...                                                ...   \n",
       "15910     4775                                     Glitter (2001)   \n",
       "15911   145096  Barbie & Her Sisters in the Great Puppy Advent...   \n",
       "15912     6483                        From Justin to Kelly (2003)   \n",
       "15913     8859                SuperBabies: Baby Geniuses 2 (2004)   \n",
       "15914     7282                           Hip Hop Witch, Da (2000)   \n",
       "\n",
       "                            genres    rating  counts     value  released  \n",
       "0                      Crime|Drama  4.413576   81482  9.413024       NaN  \n",
       "1      Comedy|Crime|Drama|Thriller  4.188912   79672  9.077305       NaN  \n",
       "2         Comedy|Drama|Romance|War  4.048011   81491  9.048011       NaN  \n",
       "3            Crime|Horror|Thriller  4.151342   74127  8.699513       NaN  \n",
       "4           Action|Sci-Fi|Thriller  4.154099   72674  8.613119       NaN  \n",
       "...                            ...       ...     ...       ...       ...  \n",
       "15910        Drama|Musical|Romance  1.125561     669  1.166608       NaN  \n",
       "15911                    Animation  1.118644      59  1.122264       NaN  \n",
       "15912              Musical|Romance  1.027578     417  1.053164       NaN  \n",
       "15913                       Comedy  0.899038     208  0.911801       NaN  \n",
       "15914       Comedy|Horror|Thriller  0.854839      31  0.856741       NaN  \n",
       "\n",
       "[15915 rows x 7 columns]"
      ]
     },
     "execution_count": 113,
     "metadata": {},
     "output_type": "execute_result"
    }
   ],
   "source": [
    "# 시도 3\n",
    "movies_3.assign(released=pd.Series(movies_3['title'].str[-5,-1]))"
   ]
  },
  {
   "cell_type": "code",
   "execution_count": 19,
   "id": "7ba86f14",
   "metadata": {
    "ExecuteTime": {
     "end_time": "2021-08-31T07:32:09.695099Z",
     "start_time": "2021-08-31T07:32:09.515581Z"
    },
    "scrolled": true
   },
   "outputs": [
    {
     "data": {
      "text/html": [
       "<div>\n",
       "<style scoped>\n",
       "    .dataframe tbody tr th:only-of-type {\n",
       "        vertical-align: middle;\n",
       "    }\n",
       "\n",
       "    .dataframe tbody tr th {\n",
       "        vertical-align: top;\n",
       "    }\n",
       "\n",
       "    .dataframe thead th {\n",
       "        text-align: right;\n",
       "    }\n",
       "</style>\n",
       "<table border=\"1\" class=\"dataframe\">\n",
       "  <thead>\n",
       "    <tr style=\"text-align: right;\">\n",
       "      <th></th>\n",
       "      <th>0</th>\n",
       "    </tr>\n",
       "  </thead>\n",
       "  <tbody>\n",
       "    <tr>\n",
       "      <th>0</th>\n",
       "      <td>1995</td>\n",
       "    </tr>\n",
       "    <tr>\n",
       "      <th>1</th>\n",
       "      <td>1995</td>\n",
       "    </tr>\n",
       "    <tr>\n",
       "      <th>2</th>\n",
       "      <td>1995</td>\n",
       "    </tr>\n",
       "    <tr>\n",
       "      <th>3</th>\n",
       "      <td>1995</td>\n",
       "    </tr>\n",
       "    <tr>\n",
       "      <th>4</th>\n",
       "      <td>1995</td>\n",
       "    </tr>\n",
       "    <tr>\n",
       "      <th>...</th>\n",
       "      <td>...</td>\n",
       "    </tr>\n",
       "    <tr>\n",
       "      <th>59042</th>\n",
       "      <td>2018</td>\n",
       "    </tr>\n",
       "    <tr>\n",
       "      <th>59043</th>\n",
       "      <td>2001</td>\n",
       "    </tr>\n",
       "    <tr>\n",
       "      <th>59044</th>\n",
       "      <td>2018</td>\n",
       "    </tr>\n",
       "    <tr>\n",
       "      <th>59045</th>\n",
       "      <td>2001</td>\n",
       "    </tr>\n",
       "    <tr>\n",
       "      <th>59046</th>\n",
       "      <td>1962</td>\n",
       "    </tr>\n",
       "  </tbody>\n",
       "</table>\n",
       "<p>59047 rows × 1 columns</p>\n",
       "</div>"
      ],
      "text/plain": [
       "          0\n",
       "0      1995\n",
       "1      1995\n",
       "2      1995\n",
       "3      1995\n",
       "4      1995\n",
       "...     ...\n",
       "59042  2018\n",
       "59043  2001\n",
       "59044  2018\n",
       "59045  2001\n",
       "59046  1962\n",
       "\n",
       "[59047 rows x 1 columns]"
      ]
     },
     "execution_count": 19,
     "metadata": {},
     "output_type": "execute_result"
    }
   ],
   "source": [
    "# 시도 4 ################################################\n",
    "import pandas as pd\n",
    "r_year = movies_1.title.str.extract(r'(\\d{4})')\n",
    "r_year\n",
    "#movies_3['release'] = pd.merge()\n",
    "            # https://www.geeksforgeeks.org/get-the-substring-of-the-column-in-pandas-python/\n",
    "            # 드디어 구해냄.ㅠㅠ"
   ]
  },
  {
   "cell_type": "code",
   "execution_count": null,
   "id": "e2c87f39",
   "metadata": {},
   "outputs": [],
   "source": []
  },
  {
   "cell_type": "code",
   "execution_count": 2,
   "id": "d9b34983",
   "metadata": {
    "ExecuteTime": {
     "end_time": "2021-08-31T04:44:22.744698Z",
     "start_time": "2021-08-31T04:44:21.901870Z"
    }
   },
   "outputs": [],
   "source": [
    "# 위에서는 groupby함수를 사용하면서 계산식을 count()로 하는 방법을 사용하였는데\n",
    "#     아래의 방법도 동일한 결과를 가져다 주는듯!\n",
    "ratings_ = ratings\n",
    "ratings_['counts'] = 1\n",
    "ratings_ = ratings_.groupby('movieId')['counts'].sum().to_frame().reset_index()"
   ]
  },
  {
   "cell_type": "code",
   "execution_count": 3,
   "id": "a2404079",
   "metadata": {
    "ExecuteTime": {
     "end_time": "2021-08-27T06:26:56.382392Z",
     "start_time": "2021-08-27T06:26:56.361448Z"
    }
   },
   "outputs": [
    {
     "data": {
      "text/html": [
       "<div>\n",
       "<style scoped>\n",
       "    .dataframe tbody tr th:only-of-type {\n",
       "        vertical-align: middle;\n",
       "    }\n",
       "\n",
       "    .dataframe tbody tr th {\n",
       "        vertical-align: top;\n",
       "    }\n",
       "\n",
       "    .dataframe thead th {\n",
       "        text-align: right;\n",
       "    }\n",
       "</style>\n",
       "<table border=\"1\" class=\"dataframe\">\n",
       "  <thead>\n",
       "    <tr style=\"text-align: right;\">\n",
       "      <th></th>\n",
       "      <th>movieId</th>\n",
       "      <th>counts</th>\n",
       "    </tr>\n",
       "  </thead>\n",
       "  <tbody>\n",
       "    <tr>\n",
       "      <th>351</th>\n",
       "      <td>356</td>\n",
       "      <td>81491</td>\n",
       "    </tr>\n",
       "    <tr>\n",
       "      <th>314</th>\n",
       "      <td>318</td>\n",
       "      <td>81482</td>\n",
       "    </tr>\n",
       "    <tr>\n",
       "      <th>292</th>\n",
       "      <td>296</td>\n",
       "      <td>79672</td>\n",
       "    </tr>\n",
       "    <tr>\n",
       "      <th>585</th>\n",
       "      <td>593</td>\n",
       "      <td>74127</td>\n",
       "    </tr>\n",
       "    <tr>\n",
       "      <th>2480</th>\n",
       "      <td>2571</td>\n",
       "      <td>72674</td>\n",
       "    </tr>\n",
       "    <tr>\n",
       "      <th>...</th>\n",
       "      <td>...</td>\n",
       "      <td>...</td>\n",
       "    </tr>\n",
       "    <tr>\n",
       "      <th>41343</th>\n",
       "      <td>167308</td>\n",
       "      <td>1</td>\n",
       "    </tr>\n",
       "    <tr>\n",
       "      <th>41350</th>\n",
       "      <td>167326</td>\n",
       "      <td>1</td>\n",
       "    </tr>\n",
       "    <tr>\n",
       "      <th>41354</th>\n",
       "      <td>167336</td>\n",
       "      <td>1</td>\n",
       "    </tr>\n",
       "    <tr>\n",
       "      <th>41355</th>\n",
       "      <td>167338</td>\n",
       "      <td>1</td>\n",
       "    </tr>\n",
       "    <tr>\n",
       "      <th>59046</th>\n",
       "      <td>209171</td>\n",
       "      <td>1</td>\n",
       "    </tr>\n",
       "  </tbody>\n",
       "</table>\n",
       "<p>59047 rows × 2 columns</p>\n",
       "</div>"
      ],
      "text/plain": [
       "       movieId  counts\n",
       "351        356   81491\n",
       "314        318   81482\n",
       "292        296   79672\n",
       "585        593   74127\n",
       "2480      2571   72674\n",
       "...        ...     ...\n",
       "41343   167308       1\n",
       "41350   167326       1\n",
       "41354   167336       1\n",
       "41355   167338       1\n",
       "59046   209171       1\n",
       "\n",
       "[59047 rows x 2 columns]"
      ]
     },
     "execution_count": 3,
     "metadata": {},
     "output_type": "execute_result"
    }
   ],
   "source": [
    "ratings_.sort_values('counts', ascending=False)"
   ]
  },
  {
   "cell_type": "markdown",
   "id": "ca8e58b8",
   "metadata": {
    "ExecuteTime": {
     "end_time": "2021-08-20T09:18:53.547098Z",
     "start_time": "2021-08-20T09:18:53.534131Z"
    }
   },
   "source": [
    "**<font size = \"6\" color = \"red\"> counts가 movieId에 맞춰서 들어가지 못했음. </font>** <br>\n",
    "-> merge - on을 사용해야함."
   ]
  },
  {
   "cell_type": "code",
   "execution_count": null,
   "id": "b5683346",
   "metadata": {},
   "outputs": [],
   "source": [
    "############################# 잡동사니"
   ]
  },
  {
   "cell_type": "code",
   "execution_count": 28,
   "id": "ad4ea0ba",
   "metadata": {
    "ExecuteTime": {
     "end_time": "2021-08-25T05:32:41.942114Z",
     "start_time": "2021-08-25T05:32:41.927172Z"
    }
   },
   "outputs": [
    {
     "data": {
      "text/plain": [
       "1323"
      ]
     },
     "execution_count": 28,
     "metadata": {},
     "output_type": "execute_result"
    }
   ],
   "source": [
    "len(movies_3['genres'].unique())\n",
    "# 장르가 임의적으로 입력된건데 그것에 맞춰 매칭하는 것이 의미 있을까?\n",
    "# 리스트컴프리헨션 or split 으로 장르 여러개인 것을 리스트화하고 \n",
    "                # -> for문으로 개별 항목으로 나누기까진 할 수 있을듯???\n",
    "\n",
    "# iris_df.loc[iris_df['Species'] == 'versicolor','Sepal.Length':'Petal.Width'] \n",
    "                # 조건을 부여하는 행,열을 불러올 경우 iloc은 사용할 수 없음.\n",
    "                # 는 조회가 가능해지는 한 가지 방법인듯?\n",
    "        \n",
    "# 현실에서는 수상 내역이 있는 영화를 추천하는 서비스도 가능\n",
    "# 어떤 시청자의 선호도를 분석해서 그에 맞는 영화 재추천...!"
   ]
  },
  {
   "cell_type": "code",
   "execution_count": 76,
   "id": "6f722467",
   "metadata": {
    "ExecuteTime": {
     "end_time": "2021-08-27T05:47:06.201448Z",
     "start_time": "2021-08-27T05:47:06.189481Z"
    }
   },
   "outputs": [
    {
     "data": {
      "text/plain": [
       "0                        Crime|Drama\n",
       "1        Comedy|Crime|Drama|Thriller\n",
       "2           Comedy|Drama|Romance|War\n",
       "3              Crime|Horror|Thriller\n",
       "4             Action|Sci-Fi|Thriller\n",
       "                    ...             \n",
       "15910          Drama|Musical|Romance\n",
       "15911                      Animation\n",
       "15912                Musical|Romance\n",
       "15913                         Comedy\n",
       "15914         Comedy|Horror|Thriller\n",
       "Name: genres, Length: 15915, dtype: object"
      ]
     },
     "execution_count": 76,
     "metadata": {},
     "output_type": "execute_result"
    }
   ],
   "source": [
    "movies_3.loc[:,'genres']"
   ]
  },
  {
   "cell_type": "code",
   "execution_count": null,
   "id": "8073dd3e",
   "metadata": {},
   "outputs": [],
   "source": [
    "tags['tag'].unique()\n",
    "\n",
    "len(tags['tag'].unique())\n",
    "\n",
    "# 데이터에서의 tag로 사이트방문자 입력값과 매칭하는건 힘들듯?"
   ]
  },
  {
   "cell_type": "code",
   "execution_count": null,
   "id": "acd0d877",
   "metadata": {},
   "outputs": [],
   "source": []
  },
  {
   "cell_type": "code",
   "execution_count": null,
   "id": "35bdf53c",
   "metadata": {},
   "outputs": [],
   "source": [
    "1을 입력했을 때 작동하는 2를 입력했을 때 작동하는...무리겠지?"
   ]
  },
  {
   "cell_type": "code",
   "execution_count": null,
   "id": "1f74f11a",
   "metadata": {},
   "outputs": [],
   "source": [
    "전체 평점분포를 나타내고(boxplot or barplot) 선택한 영화의 위치를 표시하는거 가능한가?"
   ]
  },
  {
   "cell_type": "code",
   "execution_count": 3,
   "id": "becf088a",
   "metadata": {
    "ExecuteTime": {
     "end_time": "2021-08-28T15:56:37.527148Z",
     "start_time": "2021-08-28T15:56:34.670831Z"
    }
   },
   "outputs": [
    {
     "data": {
      "text/plain": [
       "<selenium.webdriver.chrome.webdriver.WebDriver (session=\"eb8496e030cf2323aeac284ba4985ff0\")>"
      ]
     },
     "execution_count": 3,
     "metadata": {},
     "output_type": "execute_result"
    }
   ],
   "source": [
    "from selenium import webdriver\n",
    "dv = webdriver.Chrome('C:/Users/yoon/Desktop/NewFolder/chromedriver_win32/chromedriver.exe')\n",
    "dv"
   ]
  },
  {
   "cell_type": "code",
   "execution_count": 4,
   "id": "c77eb3c3",
   "metadata": {
    "ExecuteTime": {
     "end_time": "2021-08-28T15:56:56.704285Z",
     "start_time": "2021-08-28T15:56:53.763315Z"
    }
   },
   "outputs": [],
   "source": []
  },
  {
   "cell_type": "code",
   "execution_count": 2,
   "id": "4d7f8fc6",
   "metadata": {
    "ExecuteTime": {
     "end_time": "2021-08-28T15:18:42.856273Z",
     "start_time": "2021-08-28T15:18:42.638854Z"
    }
   },
   "outputs": [
    {
     "name": "stdout",
     "output_type": "stream",
     "text": [
      "영화는 어쩌면 우리는 실험쥐 일지 모른다고 한다. 그리고 실험에 내동댕이 쳐진 쥐들은 제발 그만 멈춰달라 애원한다. 대롱대롱 매달린 마우스와 stop버튼은 신의 영역처럼 멀게만 느껴진다.우리는 이 고통스러운 실험을 스스로 멈출 수 있었을까? 갇힌 철창 안에서 지구를 지킬 수 있었을까? 가볍게 보기 시작한 영화는 끝나고나서 묵직한 여운을 남긴다. \n",
      "지루할 틈 없는 신선한 스토리임은 인정하나, 주인공들이 궁지로 내몰렸다기 보단 사서 고생하는 듯한 느낌이 강해서 긴장감이 약하게 느껴졌다 \n",
      "소라치 뇌절해줘 \n",
      "사랑하는 사람을 기쁘게 해주는 건 생각만큼 어렵지 않음을.. \n",
      "감동과 전율, 스포츠 영화의 최고봉! \n",
      "이거 퍼시픽림 짭이냐? \n",
      "성령펀치... 할레루야 \n",
      "울버린의 휴잭맨도 좋지만, 이 영화의 휴잭맨도 너무 좋았다. 도입부와 마지막의 나레이션 그리고 대사들이 하나같이 감동적. 영화는 참신하고 신선한 소재는 좋았지만, 그 것을 많이 못살려서 완성도가 조금 떨어져서 아쉬웠다. 그래도 배우들의 연기가 너무 좋았던 영화. \n",
      " \n",
      "슬로우모션 식겁~ 지켜줘서 고마워! \n"
     ]
    }
   ],
   "source": [
    "import requests, re, urllib\n",
    "\n",
    "\n",
    "url = \"https://movie.naver.com/movie/point/af/list.naver\"\n",
    "target = urllib.request.urlopen(url)\n",
    "contents = target.read().decode('utf-8')\n",
    "\n",
    "# comm = re.findall(r'</em>\\\\n</div>\\\\n<br>.+?<a href=\"#\"', contents, re.DOTALL)\n",
    "# raw = re.findall(r'<div class=\"list_netizen_score\">.+?<a href=\"#\"', contents, re.DOTALL)\n",
    "\n",
    "raw = re.findall(r'<span class=\"st_on\".+?<a href=\"#\"', contents, re.DOTALL)\n",
    "\n",
    "# raw = re.findall(r'</div>\\n\\t\\t\\t<br>.+?<a href=\"#\"', contents, re.DOTALL)\n",
    "# raw\n",
    "# for comm in raw:\n",
    "#     ready = re.search(r'<br>.+?<a href=\"#\"', comm)\n",
    "#     print(ready)\n",
    "\n",
    "ready_to_print = \" \"\n",
    "\n",
    "for comm in raw:\n",
    "    ready = re.search(r'<br>(.+)\\n\\t\\t\\t\\n\\t\\t\\t\\n\\t\\t\\t\\n\\t\\t\\t\\t\\n\\t\\t\\t\\t\\n\\t\\t\\t\\t\\n\\t\\t\\t\\t<a href=\"#\"', comm)\n",
    "    print(ready.group(1))\n",
    "    ready_to_print += ready.group(1)\n",
    "\n",
    "with open('C:/Users/yoon/Desktop/NewFolder/project/movie_comments.txt', 'w', encoding='utf-8') as f:\n",
    "    f.write(ready_to_print)\n",
    "\n",
    "# [i.text for i in target_list]\n",
    "# for i.text in target_list:\n",
    "#     print(\"{}\".format(target_list))\n",
    "# ,로 구분했을 때 4번째 것만 뽑을 수 있나?"
   ]
  },
  {
   "cell_type": "code",
   "execution_count": null,
   "id": "a1a44fde",
   "metadata": {},
   "outputs": [],
   "source": [
    "# Both will match any sequence of one or more characters. The difference is that:\n",
    "\n",
    "# .+ is greedy and consumes as many characters as it can.\n",
    "# .+? is reluctant and consumes as few characters as it can.\n",
    "# See Differences Among Greedy, Reluctant, and Possessive Quantifiers in the Java tutorial."
   ]
  },
  {
   "cell_type": "code",
   "execution_count": null,
   "id": "7a822ae0",
   "metadata": {},
   "outputs": [],
   "source": []
  },
  {
   "cell_type": "code",
   "execution_count": null,
   "id": "7d4ee0a9",
   "metadata": {},
   "outputs": [],
   "source": [
    "# 아래가 완성된 코드!!!"
   ]
  },
  {
   "cell_type": "code",
   "execution_count": 34,
   "id": "7a5ab132",
   "metadata": {
    "ExecuteTime": {
     "end_time": "2021-08-31T08:05:17.989294Z",
     "start_time": "2021-08-31T08:05:00.649632Z"
    }
   },
   "outputs": [
    {
     "name": "stdout",
     "output_type": "stream",
     "text": [
      "그냥보면알아요 최고의영화 \n",
      "레베카 퍼거슨 이쁘네 이뻐 \n",
      "진짜 완전 재밌어요 ㅜㅜ 완전 재 인생영화가 될 정도로 재미있었어요첨에는 그냥 이광수 배우님 나오신다고 하셔서 궁금했었는데 막상 보니까 너무 재밌고 연기를 잘하신거같아요!!! 제가 개봉 날짜를 기다린 영화는 싱크홀이 처음이에요!!! \n",
      "2편도 볼만해요 3편기대해 봅니다 괴물정체에 대해 좀더 자세히 나와줬으면 좋겠다 \n",
      "조인성 김윤석 배우님 연기는 진짜 최고임.스토리는 나쁘지도 좋지도 않았지만 확실한건 북한을 만났을 때 남 북한이 어떤 자세를 취하는지 엿볼 수 있어서 조금 맴찢. 특히 마지막에 인사도 못하고 서로의 나라로 갈라질 때ㅠㅠ혼영 했는데 볼만하고 재밌었요. 추천! \n",
      "사자캐릭터가 등장인물들을 너무 막 대하는것같고 기대했던것보다 너무 지루하고 재미가없고 이야기의 내용은 마다가스카랑 좀 많이 비슷하다. \n",
      "와 액션은 좋다 쳐도 진짜 스토리가 너무하네... \n",
      "답이없다 보는 내내 고구마 먹은 듯 속이 답답하고 뒤는 얼마나 더 유치하고 재미없을까? 가 궁금하여 끝까지 보았다 \n",
      "역시 믿고 보는 황정민님.. 역시 믿보황 \n",
      "영화?나는자연인을 보는게 훨 낫지.. \n",
      "영화?나는자연인을 보는게 훨 낫지.. \n",
      "기대 안하면 재미없고기대 하면 재미없습니다전 기대안해서 재미없었습니다 \n",
      "답답한 전개입니다 정의구현 하겠다는데 방해 좀 하지 마라 \n",
      "감동의 영화 많은 사람들이 꼭 봤으면 하는 영화 \n",
      "기대한거랑 비슷했어요~~그냥 귀여워서 볼만해요 ㅋ \n",
      "황정민의 연기뿐만 아니라 신인들의 연기까지 좋았네요 몰입감이 장난 아니예요 \n",
      "보통 제가 극장에서 핸드폰 만지기나 도중 나오거나 하진 않는데 이건.... 하.... 이걸 왜 8k로 찍은지도 이해가 안가고(덕분에 노이즈 자글자글 해서 눈이 아픕니다) 진짜 의미없는 연출과 괴상하고 리듬감을 상실한 편집, 진짜 아무런 의미없는 효과음, 연기, 음악, 조명 다 최악입니다 이걸 추천하면 범죄 수준이에요 속지 마세요 감상포인트도 선택할게 없다 \n",
      "주먹왕랄프2의 조금폭력적인 실사화정도. 내용보다는 저희 돈좀썼어요의 느낌이다.겜좀 즐긴사람들이라면 저게, 혹은 저사람이 나오네? 하는재미는 있을듯. \n",
      "반전적인게 좋아요드라마를 본사람이라면 꼭보길 추천드려요! \n",
      "역시 이연걸은 전설이다. \n",
      "무서운 공간에서 찍으면 무서운 영화가 되는 건가 ㅜ \n",
      "상견니를 스크린으로 볼 수 있어서 행복했고... 13화 빨리 개봉해주세요 제발 제발 제발요... \n",
      "오랜만에 정말 재밌게 본 한국 영화 가벼운 마음으로 들어갔는데 끝난 뒤 실화도 열심히 찾아봄 현지 배우들의 생생한 시위 연기와 각 역할에 정말 찰떡같이 잘 어울리는 캐스팅이었습니다 \n",
      "볼만한 영화 시간때우기 \n",
      "스릴러라기보단 한 번쯤 인생의 방향성에 대해 고민하게 되는 영화였습니다. \n",
      "드니 빌뇌브 영화 진짜 너무 좋음... \n",
      "와우 마지막 장면 소름이네 ㅋㅋ 소리는 없었지만 예상되지 않음? 난 이병헌이 하하하 이러면서 웃었을거같은데 울먹거리면서 내가 김지운감독이었으면 현장에서 충격먹었을 거같다. 감독의 요구를 넘어서 표현해줬음 \n",
      "차가 뭔 장갑차여? 장갑차도 이정도 총 맞으면 터지겠다 \n",
      "최근에 본 영화중 자동차 액션은 제일 잘 한것같아요~갑 오브 갑~!!! \n",
      "앞뒤 다 잘라먹고 중간 부분만 압축해서 보여준 느낌ㅜㅜ,, ost 들으면서 눈물 한바가지 흘리려고 했는데 갑자기 끝남… 엥 싶었지만.. 그래도 리쯔웨이를 스크린으로 볼 수 있어서 좋았고 상견니를 스크린으로 본 거에 의의를 두기로 함 그냥 드라마로 보세요… \n",
      "여주 얼굴 트와이스 나연 80에 레드벨벳 예리 20 섞인 느낌 \n",
      "결말없음...... \n",
      "오랜만에 정말 재밌는 영화였어요! \n",
      "가볍게 보기 좋아요~(똑같은 일상에 지치고일상을 벗어나고 싶은데용기가 안나는 그런 생각에서영화를 보며 시원하게 풀 수 있었어요)재밌어요!!! \n",
      "c컵 여자 못생겼는데 몸매는 진짜 좋더라. 바운스 보니까 자연산 꽉찬 알가슴이다. \n",
      "다 좋았습니다. 실화를 모티브했다니 더 슬프네요.슬픔과 분노 안타까움... 어른으로서 어떻게 행동해야하나 다시 생각해 보았습니다 \n",
      "서양 컨텐츠에서는 볼수 없는 동양적 철학이 묻어나오는 점 좋았음. 상황이라던지 지나치게 설명충인 점은 흠. 인생을 후회하지도 않고 리셋하고 싶지도 않고 과거로 돌아가고 싶지도 않으며 다시 태어나고 싶지 않으며 인생은 한번으로 족한 나와는 철학적 코드가 다르긴 하지만 재능을 타고난 사람은 세상을 위해 써야 한다는 것처럼 많이 공감되는 점도 있었음. 많은 대중들이나 나도 예전이라면 크게 감동받았을 작품. \n",
      "이게 다뻥지 뭐야 공감도 안가고  재미 드럽게없네 \n",
      "리클라이너관에서 편하게잤다 \n",
      "학교폭력은 성폭행, 음주운전과 같은 아주 큰 중범죄라는 사실을 인지해야 한다 \n",
      "기대한것보다 더 잼있었어요. 이런 영화만들어줘서 감독 배우들께 고마워요. 코시국이라  많이들 못보시는게 안타깝네요. \n",
      "방금 봤는데  아..이건 아니라고 봄.. 뭐냐 이건 밑에분 말대로 똥싸다 끈긴 느낌이 딱이네요..그냥 드라마로 만족하시길~ㅠ \n",
      "줄리안 무어 연기 좋네요. \n",
      "매우 최고!! 상견니 대박!! \n",
      "더 행복한 영화이길 바랬지만이만큼도 다행이다제발 어른들이 이기적이지 않았음 좋겠다주인공 준호의 내면연기를 너무 잘해주었습니다 \n",
      "재밌게 본 영화 입니다.2나왔으면 좋겠네요 \n",
      "히스레저를 사람들이 왜 열광했나라는걸 느끼게된 영화 \n",
      "차승원 이성재 김혜수의 젊은 시절을  볼 수 있어서 좋은 영화 \n",
      "그냥 보세요.저 믿고 보세요 \n",
      "불안했던 심리가 더 불안해 짐. 넘 잔인하고 자극적ㅠ \n",
      "너무너무 좋네요예전생각나고 ㅎ \n",
      "탈출이라는 긴박한 상황 속에서 국가와 사상보다는 같은 인간이라는 사실을 생각하게 한다. \n",
      "방금 남편이랑 보고 왔어요!  찐후기 남길게요, 이 영화 보고 별1,2점 주시는 평점알바님들 수고가 많으신것같아요ㅋ1,2점짜리 영화 절대 아니고요, 넷플에 올라와서 집에서 편하게 보셔도 시간 안아까운 그런 재밋게 볼수 있는 영화엿어요! 황정민님 최고연기ㅠ 댓글중에 신인분들 연기 어색하다고 햇는데 전혀요? 전 보는동안 리얼같아서 ㅋㅋ무서웟어요, 그보다 형사님들....보는내내 답답했어요ㅠㅠ현실인가요?ㅋ속상한 우리나라 경찰현실인가요...잼나게 잘봤어용! \n",
      "볼만했어요 \n",
      "역시 황정민.. 완전 재밌고 끝까지 긴장했어요 \n",
      "가족의 사랑, 풋풋한 청춘의 반짝임. 감동적인 영화! 음악은 말할 것 없이 좋다. 손수건 필수! \n",
      "귀로 들으려고 갔다가 마음 뭉클해져서 온 영화. 눈물이 확 쏟아지진 않지만 계속 눈가가 아려옴. \n",
      "알수없는 눈물이 계속 흐르게 한다. 슬픈눈물이 아니다 행복하고 마음이 따뜻해지고 벅차오르는 눈물이다. 한번만보는게 아니라 간직하고싶은 영화였다.  마음이 따뜻해지고싶을때 보면 행복한 눈물을 흘리게 해줄 그럴 영화이다 \n",
      " \n",
      "아니  재미없다는사람들 알바아닌가요? 와 진짜 너무재미있게봤다 대박 꼭보세요 \n",
      "리뷰달기도 아까움열자는  또  넘어야되네 \n",
      "조인성 싸움 졸라 잘함 ㅋㅋㅋ \n",
      "먼 뜻인지 전혀 모르겟다 ㅋㅋ;; \n",
      "윌이 왜 그러했는지 이해해보려고 했는가? \n",
      "차승원씨의 활약으로 최고입니다 이웃관계의 깊은 감동의 매세지 전달입니다 \n",
      "학생들이라고.... \n",
      "도대체 무슨 얘기를 하려는지 모르겠어요. 모호한 주제에 느린 이야기 전개, 알 수 없는 대사들 때문에 재미도 없고 감동도 없고 답답하기만 했어요. 영상미를 인정해서 별 하나 드립니다. \n",
      " \n",
      "최악의 영화 그냥 영화적으로 기본이 없음연출 촬영 음향 내용 연기 총체적으로 그럼 \n",
      "배우한명땜에 ㅈㄴ거슬렸네ㅋㅋㅋ \n",
      "웃을수있어서좋았는데 감동도 꽤있고럽라도 있어서 되게 재밌었어요 감독님들배우님들 수고하셨어요!! \n",
      "스토리가 뻔하지만. 긴박감이 넘쳤다 \n",
      "조제와 츠네오의 관계를 사랑이라고 말하는 구나, 그리고 사랑의 끝은 누구에게나 찾아오는 구나 싶었다. 그 사랑의 깊음을 이해하는 것이 참 어려웠다. \n",
      "황정민 배우는 영화로 말해요 \n",
      "배우연기만으로 9.5점 이상 영화입니다 \n",
      "황정민만 보이는 영화였어요. 죄송하지만 조연들이 좀 아쉬웠어요. 류경수씨와 정재원씨 빼고는 거의 모두가 뭔가 아쉬운 연기라 한 김 빼게 만들었어요. 하지만 다 성장하시리라 믿습니다.일개 관람객이 드리는 말에 상처는 받지마시되 노력은  하시면 좋겠어요. 보는 눈은 비슷하고 틀리지는 않을겁니다.총기 사용이 금지된 우리나라지만 충분히 상상 가능한 스토리라 생각합니다.나쁘지는 않았습니다.^^ \n",
      "한국경찰을 누무 무능하게 그렷네여 ㅋㅋ아 물론  재미도 없고 찝ㅉㅣㅂ해요 \n",
      "기관총을 그리 맞음 전투기도 추락한다 \n",
      "최고. 어릴때보고 30대인 지금도 보면 감동먹는 명작. \n",
      "보다가 발기해버림... \n",
      "밀라 요보비치 때문에 본 영화. 영화의 스토리, 장면, 액션, CG 등 볼거리와 같은 재미요소에 대해서는 일절 기대함이 없었다. 오직 밀라 요보비치만 보고 싶었다. 어라? 쟈는 토지 자 아니야? 반갑다. 세월이 지나서 얼굴이 이제 아저씨가 되었구나. 킬링 타임용? 에이 그것도 아님. 그냥 집안에서 TV 켜놓고 다른 일 하면서 힐끗힐끗 곁눈질로 쳐다보면 되는 영화. 어쩌면 PC 또는 콘솔 게임의 시네마틱 영상을 게임과는 별개의 영화처럼 보여주는 것이 아닌가 하는 상상도 했다.하지만 앞뒤 맥락이 없으니 스타크래프트, 디아블로의 시네마틱에서 느끼는 시네마틱의 감동 같은 건 찾아볼 수도 없고.한 마디로 그저 그런 영화다.그냥 밀라 요보비치 때문에 봤다. 그 뿐이다. \n",
      "신선한 소재와 영상미가 가득한영화~~~근데 김우진 민증사진좀 보고싶다ㅋㅋㅋ \n",
      "기괴하고 무거운 공포 기분나쁘다 \n",
      "쓰레기중에  ㄱH 쓰레기 영화 마이너스 100점 주고 싶은 왕쓰레기 영화 희대의 10쓰레기 영화 \n",
      "네이버 평점은 믿질 못하겠다~ 알바들이 너무 판치네 ㅋㅋㅋ \n",
      "흥행 성적은 아쉽지만 &#39;너의 이름은&#39;에 못지아니하다. \n",
      "광해 2012년 9월 13일 개봉, 1,232만 명나는 왕이로소이다 2012년 8월 8일 개봉, 79만 명.79만도 많이 본 거다. 영화가 한 치의 오차도 없이 예상대로만 흘러간다. 이 영화를 봐야 할 리스크가 전혀 없다. 웃기지도 않고... 개연성도 없고... 세자가 침실에 그렇게 침범하는게 쉽냐. 갑자기 명나라 사신한테 호통 치면 명나라 사신이 바로 꼬리 내리고, 우리도 통쾌해 할 거 같냐? 억지 교훈도 실패, 억지 사이다도 실패. 그저 핵노잼. 그리고 세종도 여자 명나라에 보냈다. \n",
      "우리가 기대하는 일본 아니메의 완성. \n",
      "인셉션과 비슷한 느낌. 딱 어울리는 남녀 주연. 내내 우울했던 느낌은 조금 아쉬웠다. \n",
      "정말 최고입니다 한효주 사랑합니다 \n",
      "액션은 거의 없다고 봐야함.신파 없고 잔잔하게 흘러가서 초반엔 지루함. 후반부는 박진감넘쳐서 졸리진않음. \n",
      "여러번 보는거 추천!! \n",
      "억지 로맨스 억지 개그요소 진짜 토나온다 내돈과 시간이 한순간에 같이사라졌다 마지막에 남자아이 영혼이 길안내해주는거보고 진짜 얼척이없어서 웃음이나오더라 \n",
      "와 정말 재밌게 잘봤어요 억지 신파도없고 재밌었습니다 코로나만 아님  천만영화도 될  영화인데 ㅜㅜ 제가 다 아쉽네요 \n",
      "존나 잼ㅋㅋㅋ 영화 볼 때라도 복잡한 잡념 없이 암 생각없이 보고싶다 \n",
      "어디서부터 잘못된 걸까.. \n",
      "이도저도아닌...시나리오가 허술하기 짝이없음 \n",
      "예상 가능한 시나리오였지만 주인공이 증권가 펀드매니저이고, 인간의 이기심이 끔찍한 파국을 불러온다는 메시지, 그리고 소중한 이들을 지키려는 자들의 분투 등 볼거리가 많았습니다. \n",
      " \n",
      "진작 이렇게 만들지... \n",
      "cj감성 없는 한국 액션영화는 오랜만이다 \n",
      "이런 소재의 영화가 주는 통통튀는 그 맛은 만족감을 주는 동시에 하나 불안감을 가져오기도 한다. 그 소재에 기대서 스토리가 빈약해지거나 동어반복을 할때의 그것. 하지만 이영화는 무난히 저너머를 바탕으로 탈출구를 잘 마련해낸다. 그리고 이내 현실과의 접점에 무난히 다다른다. 현실과 가상의 경계가 허물어질수록 더 중요한 가치를 찾자는 교훈은 익숙해서 새롭진 않지만 이시대의 트루먼쇼를 보여줬다는 점에서 좋은 점수를 주기에 충분. 라이언 레이놀즈는 그냥 이대로 쭉 나가는걸 즐기기로 했나보다 영리하게도ㅎ \n",
      "오랜만에 영화다운 영화 봄 \n",
      " \n",
      "음 간만에  안약 찾게된 내눈... \n",
      "개구리비가 내려서 오히려 이해가되는 영화 \n",
      "근래 보기드문 수작. 가슴 절절하다 \n",
      "꽤나재밋는영화였어요~~ \n",
      "너무 ㅠㅠ 감동여... \n",
      "진짜 코로나최대 피해영화임..조인성 안좋아하는데..이거보고앓이중...ㅋㅋ \n"
     ]
    },
    {
     "ename": "NoSuchElementException",
     "evalue": "Message: no such element: Unable to locate element: {\"method\":\"css selector\",\"selector\":\"div.paging a:nth-child(12) > span\"}\n  (Session info: chrome=92.0.4515.159)\n",
     "output_type": "error",
     "traceback": [
      "\u001b[1;31m---------------------------------------------------------------------------\u001b[0m",
      "\u001b[1;31mNoSuchElementException\u001b[0m                    Traceback (most recent call last)",
      "\u001b[1;32m<ipython-input-34-a718df514be0>\u001b[0m in \u001b[0;36m<module>\u001b[1;34m\u001b[0m\n\u001b[0;32m      7\u001b[0m \u001b[1;33m\u001b[0m\u001b[0m\n\u001b[0;32m      8\u001b[0m \u001b[1;32mfor\u001b[0m \u001b[0mi\u001b[0m \u001b[1;32min\u001b[0m \u001b[0mrange\u001b[0m\u001b[1;33m(\u001b[0m\u001b[1;36m1\u001b[0m\u001b[1;33m,\u001b[0m\u001b[1;36m15\u001b[0m\u001b[1;33m)\u001b[0m\u001b[1;33m:\u001b[0m\u001b[1;33m\u001b[0m\u001b[1;33m\u001b[0m\u001b[0m\n\u001b[1;32m----> 9\u001b[1;33m     \u001b[0mpage_btn\u001b[0m \u001b[1;33m=\u001b[0m \u001b[0mdv\u001b[0m\u001b[1;33m.\u001b[0m\u001b[0mfind_element_by_css_selector\u001b[0m\u001b[1;33m(\u001b[0m\u001b[1;34m'div.paging a:nth-child('\u001b[0m \u001b[1;33m+\u001b[0m \u001b[0mstr\u001b[0m\u001b[1;33m(\u001b[0m\u001b[0mi\u001b[0m\u001b[1;33m)\u001b[0m \u001b[1;33m+\u001b[0m \u001b[1;34m') > span'\u001b[0m\u001b[1;33m)\u001b[0m \u001b[1;31m# 이 부분이 해결되어야 함!!!\u001b[0m\u001b[1;33m\u001b[0m\u001b[1;33m\u001b[0m\u001b[0m\n\u001b[0m\u001b[0;32m     10\u001b[0m     \u001b[0mpage_btn\u001b[0m\u001b[1;33m.\u001b[0m\u001b[0mclick\u001b[0m\u001b[1;33m(\u001b[0m\u001b[1;33m)\u001b[0m\u001b[1;33m\u001b[0m\u001b[1;33m\u001b[0m\u001b[0m\n\u001b[0;32m     11\u001b[0m     \u001b[0mtime\u001b[0m\u001b[1;33m.\u001b[0m\u001b[0msleep\u001b[0m\u001b[1;33m(\u001b[0m\u001b[1;36m1\u001b[0m\u001b[1;33m)\u001b[0m\u001b[1;33m\u001b[0m\u001b[1;33m\u001b[0m\u001b[0m\n",
      "\u001b[1;32m~\\anaconda3\\lib\\site-packages\\selenium\\webdriver\\remote\\webdriver.py\u001b[0m in \u001b[0;36mfind_element_by_css_selector\u001b[1;34m(self, css_selector)\u001b[0m\n\u001b[0;32m    596\u001b[0m             \u001b[0melement\u001b[0m \u001b[1;33m=\u001b[0m \u001b[0mdriver\u001b[0m\u001b[1;33m.\u001b[0m\u001b[0mfind_element_by_css_selector\u001b[0m\u001b[1;33m(\u001b[0m\u001b[1;34m'#foo'\u001b[0m\u001b[1;33m)\u001b[0m\u001b[1;33m\u001b[0m\u001b[1;33m\u001b[0m\u001b[0m\n\u001b[0;32m    597\u001b[0m         \"\"\"\n\u001b[1;32m--> 598\u001b[1;33m         \u001b[1;32mreturn\u001b[0m \u001b[0mself\u001b[0m\u001b[1;33m.\u001b[0m\u001b[0mfind_element\u001b[0m\u001b[1;33m(\u001b[0m\u001b[0mby\u001b[0m\u001b[1;33m=\u001b[0m\u001b[0mBy\u001b[0m\u001b[1;33m.\u001b[0m\u001b[0mCSS_SELECTOR\u001b[0m\u001b[1;33m,\u001b[0m \u001b[0mvalue\u001b[0m\u001b[1;33m=\u001b[0m\u001b[0mcss_selector\u001b[0m\u001b[1;33m)\u001b[0m\u001b[1;33m\u001b[0m\u001b[1;33m\u001b[0m\u001b[0m\n\u001b[0m\u001b[0;32m    599\u001b[0m \u001b[1;33m\u001b[0m\u001b[0m\n\u001b[0;32m    600\u001b[0m     \u001b[1;32mdef\u001b[0m \u001b[0mfind_elements_by_css_selector\u001b[0m\u001b[1;33m(\u001b[0m\u001b[0mself\u001b[0m\u001b[1;33m,\u001b[0m \u001b[0mcss_selector\u001b[0m\u001b[1;33m)\u001b[0m\u001b[1;33m:\u001b[0m\u001b[1;33m\u001b[0m\u001b[1;33m\u001b[0m\u001b[0m\n",
      "\u001b[1;32m~\\anaconda3\\lib\\site-packages\\selenium\\webdriver\\remote\\webdriver.py\u001b[0m in \u001b[0;36mfind_element\u001b[1;34m(self, by, value)\u001b[0m\n\u001b[0;32m    974\u001b[0m                 \u001b[0mby\u001b[0m \u001b[1;33m=\u001b[0m \u001b[0mBy\u001b[0m\u001b[1;33m.\u001b[0m\u001b[0mCSS_SELECTOR\u001b[0m\u001b[1;33m\u001b[0m\u001b[1;33m\u001b[0m\u001b[0m\n\u001b[0;32m    975\u001b[0m                 \u001b[0mvalue\u001b[0m \u001b[1;33m=\u001b[0m \u001b[1;34m'[name=\"%s\"]'\u001b[0m \u001b[1;33m%\u001b[0m \u001b[0mvalue\u001b[0m\u001b[1;33m\u001b[0m\u001b[1;33m\u001b[0m\u001b[0m\n\u001b[1;32m--> 976\u001b[1;33m         return self.execute(Command.FIND_ELEMENT, {\n\u001b[0m\u001b[0;32m    977\u001b[0m             \u001b[1;34m'using'\u001b[0m\u001b[1;33m:\u001b[0m \u001b[0mby\u001b[0m\u001b[1;33m,\u001b[0m\u001b[1;33m\u001b[0m\u001b[1;33m\u001b[0m\u001b[0m\n\u001b[0;32m    978\u001b[0m             'value': value})['value']\n",
      "\u001b[1;32m~\\anaconda3\\lib\\site-packages\\selenium\\webdriver\\remote\\webdriver.py\u001b[0m in \u001b[0;36mexecute\u001b[1;34m(self, driver_command, params)\u001b[0m\n\u001b[0;32m    319\u001b[0m         \u001b[0mresponse\u001b[0m \u001b[1;33m=\u001b[0m \u001b[0mself\u001b[0m\u001b[1;33m.\u001b[0m\u001b[0mcommand_executor\u001b[0m\u001b[1;33m.\u001b[0m\u001b[0mexecute\u001b[0m\u001b[1;33m(\u001b[0m\u001b[0mdriver_command\u001b[0m\u001b[1;33m,\u001b[0m \u001b[0mparams\u001b[0m\u001b[1;33m)\u001b[0m\u001b[1;33m\u001b[0m\u001b[1;33m\u001b[0m\u001b[0m\n\u001b[0;32m    320\u001b[0m         \u001b[1;32mif\u001b[0m \u001b[0mresponse\u001b[0m\u001b[1;33m:\u001b[0m\u001b[1;33m\u001b[0m\u001b[1;33m\u001b[0m\u001b[0m\n\u001b[1;32m--> 321\u001b[1;33m             \u001b[0mself\u001b[0m\u001b[1;33m.\u001b[0m\u001b[0merror_handler\u001b[0m\u001b[1;33m.\u001b[0m\u001b[0mcheck_response\u001b[0m\u001b[1;33m(\u001b[0m\u001b[0mresponse\u001b[0m\u001b[1;33m)\u001b[0m\u001b[1;33m\u001b[0m\u001b[1;33m\u001b[0m\u001b[0m\n\u001b[0m\u001b[0;32m    322\u001b[0m             response['value'] = self._unwrap_value(\n\u001b[0;32m    323\u001b[0m                 response.get('value', None))\n",
      "\u001b[1;32m~\\anaconda3\\lib\\site-packages\\selenium\\webdriver\\remote\\errorhandler.py\u001b[0m in \u001b[0;36mcheck_response\u001b[1;34m(self, response)\u001b[0m\n\u001b[0;32m    240\u001b[0m                 \u001b[0malert_text\u001b[0m \u001b[1;33m=\u001b[0m \u001b[0mvalue\u001b[0m\u001b[1;33m[\u001b[0m\u001b[1;34m'alert'\u001b[0m\u001b[1;33m]\u001b[0m\u001b[1;33m.\u001b[0m\u001b[0mget\u001b[0m\u001b[1;33m(\u001b[0m\u001b[1;34m'text'\u001b[0m\u001b[1;33m)\u001b[0m\u001b[1;33m\u001b[0m\u001b[1;33m\u001b[0m\u001b[0m\n\u001b[0;32m    241\u001b[0m             \u001b[1;32mraise\u001b[0m \u001b[0mexception_class\u001b[0m\u001b[1;33m(\u001b[0m\u001b[0mmessage\u001b[0m\u001b[1;33m,\u001b[0m \u001b[0mscreen\u001b[0m\u001b[1;33m,\u001b[0m \u001b[0mstacktrace\u001b[0m\u001b[1;33m,\u001b[0m \u001b[0malert_text\u001b[0m\u001b[1;33m)\u001b[0m\u001b[1;33m\u001b[0m\u001b[1;33m\u001b[0m\u001b[0m\n\u001b[1;32m--> 242\u001b[1;33m         \u001b[1;32mraise\u001b[0m \u001b[0mexception_class\u001b[0m\u001b[1;33m(\u001b[0m\u001b[0mmessage\u001b[0m\u001b[1;33m,\u001b[0m \u001b[0mscreen\u001b[0m\u001b[1;33m,\u001b[0m \u001b[0mstacktrace\u001b[0m\u001b[1;33m)\u001b[0m\u001b[1;33m\u001b[0m\u001b[1;33m\u001b[0m\u001b[0m\n\u001b[0m\u001b[0;32m    243\u001b[0m \u001b[1;33m\u001b[0m\u001b[0m\n\u001b[0;32m    244\u001b[0m     \u001b[1;32mdef\u001b[0m \u001b[0m_value_or_default\u001b[0m\u001b[1;33m(\u001b[0m\u001b[0mself\u001b[0m\u001b[1;33m,\u001b[0m \u001b[0mobj\u001b[0m\u001b[1;33m,\u001b[0m \u001b[0mkey\u001b[0m\u001b[1;33m,\u001b[0m \u001b[0mdefault\u001b[0m\u001b[1;33m)\u001b[0m\u001b[1;33m:\u001b[0m\u001b[1;33m\u001b[0m\u001b[1;33m\u001b[0m\u001b[0m\n",
      "\u001b[1;31mNoSuchElementException\u001b[0m: Message: no such element: Unable to locate element: {\"method\":\"css selector\",\"selector\":\"div.paging a:nth-child(12) > span\"}\n  (Session info: chrome=92.0.4515.159)\n"
     ]
    }
   ],
   "source": [
    "from selenium import webdriver\n",
    "import requests, re, urllib\n",
    "import time\n",
    "dv = webdriver.Chrome('D:/bigdata/download/chromedriver_win32/chromedriver.exe')\n",
    "url = 'https://movie.naver.com/movie/point/af/list.naver'\n",
    "dv.get(url) # url에 해당하는 페이지가 open\n",
    "\n",
    "for i in range(1,20):\n",
    "    page_btn = dv.find_element_by_css_selector('div.paging a:nth-child(' + str(i) + ') > span') # 이 부분이 해결되어야 함!!!\n",
    "    page_btn.click()\n",
    "    time.sleep(1)\n",
    "\n",
    "    target = urllib.request.urlopen(\"https://movie.naver.com/movie/point/af/list.naver?&page=\"+str(i))\n",
    "    contents = target.read().decode('utf-8')\n",
    "    crude = re.findall(r'<span class=\"st_on\".+?<a href=\"#\"', contents, re.DOTALL)\n",
    "    \n",
    "    i = i + 1\n",
    "    ready_to_print = \" \"\n",
    "    for c in crude:\n",
    "        ready = re.search(r'<br>(.+)\\n\\t\\t\\t\\n\\t\\t\\t\\n\\t\\t\\t\\n\\t\\t\\t\\t\\n\\t\\t\\t\\t\\n\\t\\t\\t\\t\\n\\t\\t\\t\\t<a href=\"#\"', c)\n",
    "        print(ready.group(1))\n",
    "        ready_to_save += ready.group(1)\n",
    "    \n",
    "    with open('D:/bigdata/note/project/movie_comments.txt', 'a', encoding='utf-8') as f:\n",
    "        f.write(ready_to_save)\n"
   ]
  },
  {
   "cell_type": "code",
   "execution_count": null,
   "id": "733a4b81",
   "metadata": {},
   "outputs": [],
   "source": []
  },
  {
   "cell_type": "code",
   "execution_count": 51,
   "id": "04ce1b99",
   "metadata": {
    "ExecuteTime": {
     "end_time": "2021-09-03T04:09:11.485797Z",
     "start_time": "2021-09-03T04:09:11.469815Z"
    }
   },
   "outputs": [],
   "source": [
    "# 1,2 실행의 결과와 3 실행의 결과가 달라 break가 있는 경우와 없는 경우의 효과를 확인해볼 수 있음!\n",
    "def main():\n",
    "    \n",
    "    while True:\n",
    "        print(\"1:추천영화 | 2:다중 조건 조회 | 3: 인기영화 | 4: 고평점 영화 | 5:실시간 트렌드(관객평) | 5: 나의 선호 | 9:종료\",sep='|')\n",
    "        fn = int(input('메뉴선택 : '))\n",
    "        if fn == 1:\n",
    "            fn1_movie_recommend()\n",
    "        elif fn == 2:\n",
    "            try:\n",
    "                gen = input(\"원하는 장르를 입력해주세요\")\n",
    "                year = int(input(\"희망하는 연도를 4자리 숫자로 입력해주세요 : \"))\n",
    "                fn2_multiple_conditions(gen, year)############################\n",
    "                break\n",
    "#                 if year >= 1900 and year <= 2020:\n",
    "#                     movie_by_year(year)\n",
    "#                 elif len(year) != 4:\n",
    "#                     print(\"네 자리로 입력해주세요 \")\n",
    "#                     break\n",
    "#             except ValueError:\n",
    "#                 print(\"유효한 정수가 아닙니다\")\n",
    "            except Exception as e:\n",
    "                print(e)\n",
    "        elif fn == 3:\n",
    "            fn3_top_counts_movies()\n",
    "        elif fn == 4:\n",
    "            fn4_top_rating_movies()            \n",
    "        elif fn == 5:\n",
    "            fn5_real_time_search()\n",
    "            break\n",
    "        elif fn == 9:\n",
    "            fn_end()\n",
    "            break"
   ]
  },
  {
   "cell_type": "code",
   "execution_count": 52,
   "id": "bd92cb1e",
   "metadata": {
    "ExecuteTime": {
     "end_time": "2021-09-03T04:09:19.837929Z",
     "start_time": "2021-09-03T04:09:13.292982Z"
    }
   },
   "outputs": [
    {
     "name": "stdout",
     "output_type": "stream",
     "text": [
      "1:추천영화 | 2:다중 조건 조회 | 3: 인기영화 | 4: 고평점 영화 | 5:실시간 트렌드(관객평) | 5: 나의 선호 | 9:종료\n",
      "메뉴선택 : 2\n",
      "원하는 장르를 입력해주세요Comedy\n",
      "희망하는 연도를 4자리 숫자로 입력해주세요 : 1995\n",
      "       movieId                                   title  \\\n",
      "13           1                        Toy Story (1995)   \n",
      "203         39                         Clueless (1995)   \n",
      "229         21                       Get Shorty (1995)   \n",
      "258        339          While You Were Sleeping (1995)   \n",
      "260        745  Wallace & Gromit: A Close Shave (1995)   \n",
      "...        ...                                     ...   \n",
      "15380     6557                  Born to Be Wild (1995)   \n",
      "15473      634                     Theodore Rex (1995)   \n",
      "15697    44241                     Leprechaun 3 (1995)   \n",
      "15890     8701          Dr. Jekyll and Ms. Hyde (1995)   \n",
      "16414       56          Kids of the Round Table (1995)   \n",
      "\n",
      "                                            genres    rating  released  \\\n",
      "13     Adventure|Animation|Children|Comedy|Fantasy  3.893708      1995   \n",
      "203                                 Comedy|Romance  3.418738      1995   \n",
      "229                          Comedy|Crime|Thriller  3.570162      1995   \n",
      "258                                 Comedy|Romance  3.499389      1995   \n",
      "260                      Animation|Children|Comedy  4.104362      1995   \n",
      "...                                            ...       ...       ...   \n",
      "15380              Adventure|Children|Comedy|Drama  2.321429      1995   \n",
      "15473                                       Comedy  2.279935      1995   \n",
      "15697                        Comedy|Fantasy|Horror  2.219298      1995   \n",
      "15890                                Comedy|Horror  2.148515      1995   \n",
      "16414            Adventure|Children|Comedy|Fantasy  1.915385      1995   \n",
      "\n",
      "       counts     value  \n",
      "13      57309  9.829341  \n",
      "203     26230  7.447473  \n",
      "229     22277  7.356355  \n",
      "258     22111  7.275397  \n",
      "260     12241  7.274782  \n",
      "...       ...       ...  \n",
      "15380      56  4.744219  \n",
      "15473     309  4.718249  \n",
      "15697      57  4.642150  \n",
      "15890     101  4.574067  \n",
      "16414      65  4.338728  \n",
      "\n",
      "[106 rows x 7 columns]\n"
     ]
    }
   ],
   "source": [
    "if __name__ == '__main__':\n",
    "    main()"
   ]
  },
  {
   "cell_type": "code",
   "execution_count": null,
   "id": "23ce9ba5",
   "metadata": {},
   "outputs": [],
   "source": []
  },
  {
   "cell_type": "code",
   "execution_count": null,
   "id": "3e568b58",
   "metadata": {},
   "outputs": [],
   "source": []
  },
  {
   "cell_type": "code",
   "execution_count": null,
   "id": "78a7e1a5",
   "metadata": {},
   "outputs": [],
   "source": []
  },
  {
   "cell_type": "code",
   "execution_count": 46,
   "id": "7c657b8f",
   "metadata": {
    "ExecuteTime": {
     "end_time": "2021-09-03T04:08:14.739693Z",
     "start_time": "2021-09-03T04:08:09.566275Z"
    }
   },
   "outputs": [
    {
     "name": "stdout",
     "output_type": "stream",
     "text": [
      "원하는 장르는 입력해주세요 : Comedy\n",
      "희망하는 연도를 4자리 숫자로 입력해주세요 : 1995\n"
     ]
    },
    {
     "data": {
      "text/html": [
       "<div>\n",
       "<style scoped>\n",
       "    .dataframe tbody tr th:only-of-type {\n",
       "        vertical-align: middle;\n",
       "    }\n",
       "\n",
       "    .dataframe tbody tr th {\n",
       "        vertical-align: top;\n",
       "    }\n",
       "\n",
       "    .dataframe thead th {\n",
       "        text-align: right;\n",
       "    }\n",
       "</style>\n",
       "<table border=\"1\" class=\"dataframe\">\n",
       "  <thead>\n",
       "    <tr style=\"text-align: right;\">\n",
       "      <th></th>\n",
       "      <th>movieId</th>\n",
       "      <th>title</th>\n",
       "      <th>genres</th>\n",
       "      <th>rating</th>\n",
       "      <th>released</th>\n",
       "      <th>counts</th>\n",
       "      <th>value</th>\n",
       "    </tr>\n",
       "  </thead>\n",
       "  <tbody>\n",
       "    <tr>\n",
       "      <th>13</th>\n",
       "      <td>1</td>\n",
       "      <td>Toy Story (1995)</td>\n",
       "      <td>Adventure|Animation|Children|Comedy|Fantasy</td>\n",
       "      <td>3.893708</td>\n",
       "      <td>1995</td>\n",
       "      <td>57309</td>\n",
       "      <td>9.829341</td>\n",
       "    </tr>\n",
       "    <tr>\n",
       "      <th>203</th>\n",
       "      <td>39</td>\n",
       "      <td>Clueless (1995)</td>\n",
       "      <td>Comedy|Romance</td>\n",
       "      <td>3.418738</td>\n",
       "      <td>1995</td>\n",
       "      <td>26230</td>\n",
       "      <td>7.447473</td>\n",
       "    </tr>\n",
       "    <tr>\n",
       "      <th>229</th>\n",
       "      <td>21</td>\n",
       "      <td>Get Shorty (1995)</td>\n",
       "      <td>Comedy|Crime|Thriller</td>\n",
       "      <td>3.570162</td>\n",
       "      <td>1995</td>\n",
       "      <td>22277</td>\n",
       "      <td>7.356355</td>\n",
       "    </tr>\n",
       "    <tr>\n",
       "      <th>258</th>\n",
       "      <td>339</td>\n",
       "      <td>While You Were Sleeping (1995)</td>\n",
       "      <td>Comedy|Romance</td>\n",
       "      <td>3.499389</td>\n",
       "      <td>1995</td>\n",
       "      <td>22111</td>\n",
       "      <td>7.275397</td>\n",
       "    </tr>\n",
       "    <tr>\n",
       "      <th>260</th>\n",
       "      <td>745</td>\n",
       "      <td>Wallace &amp; Gromit: A Close Shave (1995)</td>\n",
       "      <td>Animation|Children|Comedy</td>\n",
       "      <td>4.104362</td>\n",
       "      <td>1995</td>\n",
       "      <td>12241</td>\n",
       "      <td>7.274782</td>\n",
       "    </tr>\n",
       "    <tr>\n",
       "      <th>...</th>\n",
       "      <td>...</td>\n",
       "      <td>...</td>\n",
       "      <td>...</td>\n",
       "      <td>...</td>\n",
       "      <td>...</td>\n",
       "      <td>...</td>\n",
       "      <td>...</td>\n",
       "    </tr>\n",
       "    <tr>\n",
       "      <th>15380</th>\n",
       "      <td>6557</td>\n",
       "      <td>Born to Be Wild (1995)</td>\n",
       "      <td>Adventure|Children|Comedy|Drama</td>\n",
       "      <td>2.321429</td>\n",
       "      <td>1995</td>\n",
       "      <td>56</td>\n",
       "      <td>4.744219</td>\n",
       "    </tr>\n",
       "    <tr>\n",
       "      <th>15473</th>\n",
       "      <td>634</td>\n",
       "      <td>Theodore Rex (1995)</td>\n",
       "      <td>Comedy</td>\n",
       "      <td>2.279935</td>\n",
       "      <td>1995</td>\n",
       "      <td>309</td>\n",
       "      <td>4.718249</td>\n",
       "    </tr>\n",
       "    <tr>\n",
       "      <th>15697</th>\n",
       "      <td>44241</td>\n",
       "      <td>Leprechaun 3 (1995)</td>\n",
       "      <td>Comedy|Fantasy|Horror</td>\n",
       "      <td>2.219298</td>\n",
       "      <td>1995</td>\n",
       "      <td>57</td>\n",
       "      <td>4.642150</td>\n",
       "    </tr>\n",
       "    <tr>\n",
       "      <th>15890</th>\n",
       "      <td>8701</td>\n",
       "      <td>Dr. Jekyll and Ms. Hyde (1995)</td>\n",
       "      <td>Comedy|Horror</td>\n",
       "      <td>2.148515</td>\n",
       "      <td>1995</td>\n",
       "      <td>101</td>\n",
       "      <td>4.574067</td>\n",
       "    </tr>\n",
       "    <tr>\n",
       "      <th>16414</th>\n",
       "      <td>56</td>\n",
       "      <td>Kids of the Round Table (1995)</td>\n",
       "      <td>Adventure|Children|Comedy|Fantasy</td>\n",
       "      <td>1.915385</td>\n",
       "      <td>1995</td>\n",
       "      <td>65</td>\n",
       "      <td>4.338728</td>\n",
       "    </tr>\n",
       "  </tbody>\n",
       "</table>\n",
       "<p>106 rows × 7 columns</p>\n",
       "</div>"
      ],
      "text/plain": [
       "       movieId                                   title  \\\n",
       "13           1                        Toy Story (1995)   \n",
       "203         39                         Clueless (1995)   \n",
       "229         21                       Get Shorty (1995)   \n",
       "258        339          While You Were Sleeping (1995)   \n",
       "260        745  Wallace & Gromit: A Close Shave (1995)   \n",
       "...        ...                                     ...   \n",
       "15380     6557                  Born to Be Wild (1995)   \n",
       "15473      634                     Theodore Rex (1995)   \n",
       "15697    44241                     Leprechaun 3 (1995)   \n",
       "15890     8701          Dr. Jekyll and Ms. Hyde (1995)   \n",
       "16414       56          Kids of the Round Table (1995)   \n",
       "\n",
       "                                            genres    rating  released  \\\n",
       "13     Adventure|Animation|Children|Comedy|Fantasy  3.893708      1995   \n",
       "203                                 Comedy|Romance  3.418738      1995   \n",
       "229                          Comedy|Crime|Thriller  3.570162      1995   \n",
       "258                                 Comedy|Romance  3.499389      1995   \n",
       "260                      Animation|Children|Comedy  4.104362      1995   \n",
       "...                                            ...       ...       ...   \n",
       "15380              Adventure|Children|Comedy|Drama  2.321429      1995   \n",
       "15473                                       Comedy  2.279935      1995   \n",
       "15697                        Comedy|Fantasy|Horror  2.219298      1995   \n",
       "15890                                Comedy|Horror  2.148515      1995   \n",
       "16414            Adventure|Children|Comedy|Fantasy  1.915385      1995   \n",
       "\n",
       "       counts     value  \n",
       "13      57309  9.829341  \n",
       "203     26230  7.447473  \n",
       "229     22277  7.356355  \n",
       "258     22111  7.275397  \n",
       "260     12241  7.274782  \n",
       "...       ...       ...  \n",
       "15380      56  4.744219  \n",
       "15473     309  4.718249  \n",
       "15697      57  4.642150  \n",
       "15890     101  4.574067  \n",
       "16414      65  4.338728  \n",
       "\n",
       "[106 rows x 7 columns]"
      ]
     },
     "execution_count": 46,
     "metadata": {},
     "output_type": "execute_result"
    }
   ],
   "source": [
    "gen = input(\"원하는 장르는 입력해주세요 : \")\n",
    "year = input(\"희망하는 연도를 4자리 숫자로 입력해주세요 : \")\n",
    "movies_4.loc[movies_4['genres'].str.contains(gen, case=False) & (movies_4['released'] == int(year))]\n",
    "\n",
    "            # msg = \"서울시 강서구 화곡동\"\n",
    "            # msg.find('강서구') : (결과값)4\n",
    "\n",
    "            #'조건을 이용한 조회'의 다른 방법 (Address가 강서구를 포함한 데이터의 모든 열)\n",
    "            # member_df[member_df.Address.str.find('강서구') != -1]"
   ]
  },
  {
   "cell_type": "code",
   "execution_count": null,
   "id": "7e7d8e79",
   "metadata": {},
   "outputs": [],
   "source": []
  },
  {
   "cell_type": "code",
   "execution_count": null,
   "id": "a8083b28",
   "metadata": {},
   "outputs": [],
   "source": []
  },
  {
   "cell_type": "code",
   "execution_count": null,
   "id": "3b2f36d3",
   "metadata": {},
   "outputs": [],
   "source": []
  },
  {
   "cell_type": "code",
   "execution_count": 31,
   "id": "68b38a51",
   "metadata": {
    "ExecuteTime": {
     "end_time": "2021-09-03T04:02:18.974143Z",
     "start_time": "2021-09-03T04:02:18.958170Z"
    }
   },
   "outputs": [],
   "source": [
    "def fn1_movie_recommend():\n",
    "    print(movies_4['title'].head(10))\n",
    "                # movies_3은 rating(5점 만점) + counts(5점 만점)을 합산한 값인 value 기준으로 정렬"
   ]
  },
  {
   "cell_type": "code",
   "execution_count": 50,
   "id": "951d8015",
   "metadata": {
    "ExecuteTime": {
     "end_time": "2021-09-03T04:09:09.060968Z",
     "start_time": "2021-09-03T04:09:09.052993Z"
    }
   },
   "outputs": [],
   "source": [
    "def fn2_multiple_conditions(gen, year):\n",
    "    print(movies_4.loc[movies_4['genres'].str.contains(gen, case=False) & (movies_4['released'] == int(year))])\n",
    "    # https://pandas.pydata.org/docs/reference/api/pandas.Series.str.contains.html\n",
    "    # https://towardsdatascience.com/check-for-a-substring-in-a-pandas-dataframe-column-4b949f64852#:~:text=Using%20%E2%80%9Ccontains%E2%80%9D%20to%20Find%20a,substring%20and%20False%20if%20not.\n",
    "    # https://stackabuse.com/python-check-if-string-contains-substring/"
   ]
  },
  {
   "cell_type": "code",
   "execution_count": 28,
   "id": "e0c5e8a2",
   "metadata": {
    "ExecuteTime": {
     "end_time": "2021-09-03T04:01:59.344993Z",
     "start_time": "2021-09-03T04:01:59.341004Z"
    }
   },
   "outputs": [],
   "source": [
    "def fn3_top_counts_movies():\n",
    "    print(movies_3['title'].head(10))\n",
    "                    # movies_3 : rating을 30번 이상 받은 영화집합의 counts순 데이터프레임\n",
    "    # 미리 data의 load와 sort가 이뤄져있으면 안되고 함수가 입력됐을 때 한꺼번에 실행되도록 작성해야할듯."
   ]
  },
  {
   "cell_type": "code",
   "execution_count": 29,
   "id": "75b52c5e",
   "metadata": {
    "ExecuteTime": {
     "end_time": "2021-09-03T04:02:00.526991Z",
     "start_time": "2021-09-03T04:02:00.509024Z"
    }
   },
   "outputs": [],
   "source": [
    "def fn4_top_rating_movies():\n",
    "    print(movies_4['title'].head(10))\n",
    "                    # movies_4 : rating을 30번 이상 받은 영화집합의 rating순 데이터프레임\n",
    "    \n",
    "    # 미리 data의 load와 sort가 이뤄져있으면 안되고 함수가 입력됐을 때 한꺼번에 실행되도록 작성해야할듯."
   ]
  },
  {
   "cell_type": "code",
   "execution_count": 8,
   "id": "59a93135",
   "metadata": {
    "ExecuteTime": {
     "end_time": "2021-09-03T03:58:23.819017Z",
     "start_time": "2021-09-03T03:58:23.807050Z"
    }
   },
   "outputs": [],
   "source": [
    "def fn5_real_time_search():\n",
    "    from selenium import webdriver\n",
    "    import requests, re, urllib\n",
    "    import time\n",
    "    dv = webdriver.Chrome('D:/bigdata/download/chromedriver_win32/chromedriver.exe')\n",
    "    url = 'https://movie.naver.com/movie/point/af/list.naver'\n",
    "    dv.get(url) # url에 해당하는 페이지가 open\n",
    "\n",
    "    for i in range(1,20):\n",
    "        page_btn = dv.find_element_by_css_selector('div.paging a:nth-child(' + str(i) + ') > span') # 이 부분이 해결되어야 함!!!\n",
    "        page_btn.click()\n",
    "        time.sleep(1)\n",
    "\n",
    "        target = urllib.request.urlopen(\"https://movie.naver.com/movie/point/af/list.naver?&page=\"+str(i))\n",
    "        contents = target.read().decode('utf-8')\n",
    "        crude = re.findall(r'<span class=\"st_on\".+?<a href=\"#\"', contents, re.DOTALL)\n",
    "\n",
    "        i = i + 1\n",
    "        ready_to_print = \" \"\n",
    "        for c in crude:\n",
    "            ready = re.search(r'<br>(.+)\\n\\t\\t\\t\\n\\t\\t\\t\\n\\t\\t\\t\\n\\t\\t\\t\\t\\n\\t\\t\\t\\t\\n\\t\\t\\t\\t\\n\\t\\t\\t\\t<a href=\"#\"', c)\n",
    "            ready_to_print += ready.group(1)\n",
    "\n",
    "        with open('D:/bigdata/note/project/movie_comments.txt', 'a', encoding='utf-8') as f:\n",
    "            f.write(ready_to_print)\n",
    "\n",
    "    #########################################################################################################################\n",
    "\n",
    "    from konlpy.tag import Kkma\n",
    "    kkma = Kkma(max_heap_size=1024)\n",
    "\n",
    "    target = open('D:/bigdata/note/project/movie_comments.txt', encoding = 'utf-8').read()\n",
    "    word_list = kkma.pos('%r' % target)\n",
    "    word_list = [t[0] for t in word_list if t[1]=='NNG']\n",
    "    text = ' '.join(word_list)\n",
    "\n",
    "    from wordcloud import WordCloud # 클래스이므로 대문자\n",
    "    from wordcloud import STOPWORDS\n",
    "    import matplotlib.pyplot as plt # import matplotlib as plt로 하면 에러발생\n",
    "    from PIL import Image\n",
    "    import numpy as np\n",
    "    img = Image.open('D:/bigdata/src/09_자연어처리/twitter-computer-black-icons-free-frame.png').convert('RGBA')\n",
    "    mask = np.array(img)\n",
    "\n",
    "    불용어 = set(['영화', '연기', '배우'])\n",
    "    wc = WordCloud(background_color = 'white',\n",
    "                  max_words=300,\n",
    "                  font_path = 'C:/Windows/Fonts/한컴산뜻돋움/HanSantteutDotumBold.ttf',\n",
    "                  relative_scaling = 0.5,\n",
    "                  stopwords = 불용어,\n",
    "                  mask=mask)\n",
    "\n",
    "    wc.generate(text) # 워드 클라우드 생성\n",
    "    plt.figure(figsize=(12,5))\n",
    "    plt.imshow(wc, interpolation='bilinear')\n",
    "    plt.axis('off')"
   ]
  },
  {
   "cell_type": "code",
   "execution_count": 31,
   "id": "d38a3fdd",
   "metadata": {
    "ExecuteTime": {
     "end_time": "2021-08-31T08:01:35.638618Z",
     "start_time": "2021-08-31T08:01:35.626623Z"
    }
   },
   "outputs": [],
   "source": [
    "def fn_end():\n",
    "    pass"
   ]
  },
  {
   "cell_type": "code",
   "execution_count": 51,
   "id": "3d12987c",
   "metadata": {
    "ExecuteTime": {
     "end_time": "2021-08-26T09:19:17.305703Z",
     "start_time": "2021-08-26T09:19:17.289757Z"
    }
   },
   "outputs": [
    {
     "name": "stdout",
     "output_type": "stream",
     "text": [
      "Series([], Name: title, dtype: object)\n"
     ]
    }
   ],
   "source": [
    "fn3_temp = movies_3[movies_3['released'] == 1999]\n",
    "fn3_temp = fn3_temp.sort_values(by=\"rating\")\n",
    "print(fn3_temp['title'].head(10))"
   ]
  },
  {
   "cell_type": "code",
   "execution_count": null,
   "id": "2405898d",
   "metadata": {},
   "outputs": [],
   "source": [
    "# 9. 종료하기\n",
    "def fn9_end():"
   ]
  },
  {
   "cell_type": "code",
   "execution_count": null,
   "id": "ee0c83ad",
   "metadata": {},
   "outputs": [],
   "source": []
  },
  {
   "cell_type": "code",
   "execution_count": null,
   "id": "4c8ca71a",
   "metadata": {},
   "outputs": [],
   "source": [
    "# (선생님)ch09_파일io프로그래밍.ipynb (내꺼)ch09. 연습문제_7월_27일\n",
    "# eclipse : ch12_interface com.lect.ex10_lib / co.lect.exexam"
   ]
  },
  {
   "cell_type": "code",
   "execution_count": 30,
   "id": "7a325026",
   "metadata": {
    "ExecuteTime": {
     "end_time": "2021-08-31T06:06:32.639699Z",
     "start_time": "2021-08-31T06:06:32.620767Z"
    }
   },
   "outputs": [
    {
     "data": {
      "text/html": [
       "<div>\n",
       "<style scoped>\n",
       "    .dataframe tbody tr th:only-of-type {\n",
       "        vertical-align: middle;\n",
       "    }\n",
       "\n",
       "    .dataframe tbody tr th {\n",
       "        vertical-align: top;\n",
       "    }\n",
       "\n",
       "    .dataframe thead th {\n",
       "        text-align: right;\n",
       "    }\n",
       "</style>\n",
       "<table border=\"1\" class=\"dataframe\">\n",
       "  <thead>\n",
       "    <tr style=\"text-align: right;\">\n",
       "      <th></th>\n",
       "      <th>movieId</th>\n",
       "      <th>title</th>\n",
       "      <th>genres</th>\n",
       "      <th>rating</th>\n",
       "      <th>counts</th>\n",
       "      <th>released</th>\n",
       "      <th>value</th>\n",
       "    </tr>\n",
       "  </thead>\n",
       "  <tbody>\n",
       "    <tr>\n",
       "      <th>0</th>\n",
       "      <td>318</td>\n",
       "      <td>Shawshank Redemption, The (1994)</td>\n",
       "      <td>Crime|Drama</td>\n",
       "      <td>4.413576</td>\n",
       "      <td>81482</td>\n",
       "      <td>1994</td>\n",
       "      <td>9.413024</td>\n",
       "    </tr>\n",
       "    <tr>\n",
       "      <th>1</th>\n",
       "      <td>296</td>\n",
       "      <td>Pulp Fiction (1994)</td>\n",
       "      <td>Comedy|Crime|Drama|Thriller</td>\n",
       "      <td>4.188912</td>\n",
       "      <td>79672</td>\n",
       "      <td>1994</td>\n",
       "      <td>9.077305</td>\n",
       "    </tr>\n",
       "    <tr>\n",
       "      <th>2</th>\n",
       "      <td>356</td>\n",
       "      <td>Forrest Gump (1994)</td>\n",
       "      <td>Comedy|Drama|Romance|War</td>\n",
       "      <td>4.048011</td>\n",
       "      <td>81491</td>\n",
       "      <td>1994</td>\n",
       "      <td>9.048011</td>\n",
       "    </tr>\n",
       "    <tr>\n",
       "      <th>3</th>\n",
       "      <td>593</td>\n",
       "      <td>Silence of the Lambs, The (1991)</td>\n",
       "      <td>Crime|Horror|Thriller</td>\n",
       "      <td>4.151342</td>\n",
       "      <td>74127</td>\n",
       "      <td>1991</td>\n",
       "      <td>8.699513</td>\n",
       "    </tr>\n",
       "    <tr>\n",
       "      <th>4</th>\n",
       "      <td>2571</td>\n",
       "      <td>Matrix, The (1999)</td>\n",
       "      <td>Action|Sci-Fi|Thriller</td>\n",
       "      <td>4.154099</td>\n",
       "      <td>72674</td>\n",
       "      <td>1999</td>\n",
       "      <td>8.613119</td>\n",
       "    </tr>\n",
       "  </tbody>\n",
       "</table>\n",
       "</div>"
      ],
      "text/plain": [
       "   movieId                             title                       genres  \\\n",
       "0      318  Shawshank Redemption, The (1994)                  Crime|Drama   \n",
       "1      296               Pulp Fiction (1994)  Comedy|Crime|Drama|Thriller   \n",
       "2      356               Forrest Gump (1994)     Comedy|Drama|Romance|War   \n",
       "3      593  Silence of the Lambs, The (1991)        Crime|Horror|Thriller   \n",
       "4     2571                Matrix, The (1999)       Action|Sci-Fi|Thriller   \n",
       "\n",
       "     rating  counts released     value  \n",
       "0  4.413576   81482     1994  9.413024  \n",
       "1  4.188912   79672     1994  9.077305  \n",
       "2  4.048011   81491     1994  9.048011  \n",
       "3  4.151342   74127     1991  8.699513  \n",
       "4  4.154099   72674     1999  8.613119  "
      ]
     },
     "execution_count": 30,
     "metadata": {},
     "output_type": "execute_result"
    }
   ],
   "source": [
    "movies_3.head()"
   ]
  },
  {
   "cell_type": "code",
   "execution_count": 38,
   "id": "98333109",
   "metadata": {
    "ExecuteTime": {
     "end_time": "2021-08-31T08:54:03.045318Z",
     "start_time": "2021-08-31T08:54:02.616323Z"
    }
   },
   "outputs": [],
   "source": [
    "import seaborn as sns\n",
    "import matplotlib.pyplot as plt\n",
    "plt.rc('font', family='Malgun Gothic')"
   ]
  },
  {
   "cell_type": "code",
   "execution_count": 80,
   "id": "dee4dac2",
   "metadata": {
    "ExecuteTime": {
     "end_time": "2021-09-27T06:45:29.069957Z",
     "start_time": "2021-09-27T06:45:28.860529Z"
    }
   },
   "outputs": [
    {
     "data": {
      "text/plain": [
       "<AxesSubplot:xlabel='rating', ylabel='counts'>"
      ]
     },
     "execution_count": 80,
     "metadata": {},
     "output_type": "execute_result"
    },
    {
     "data": {
      "image/png": "[encoded data removed]",
      "text/plain": [
       "<Figure size 432x288 with 1 Axes>"
      ]
     },
     "metadata": {
      "needs_background": "light"
     },
     "output_type": "display_data"
    }
   ],
   "source": [
    "sns.scatterplot(data=movies_3, x='rating', y='counts')"
   ]
  },
  {
   "cell_type": "code",
   "execution_count": 68,
   "id": "0b8e6910",
   "metadata": {
    "ExecuteTime": {
     "end_time": "2021-09-01T05:51:57.680409Z",
     "start_time": "2021-09-01T05:51:55.542984Z"
    }
   },
   "outputs": [
    {
     "data": {
      "text/plain": [
       "<AxesSubplot:xlabel='released', ylabel='counts'>"
      ]
     },
     "execution_count": 68,
     "metadata": {},
     "output_type": "execute_result"
    },
    {
     "data": {
      "image/png": "[encoded data removed]",
      "text/plain": [
       "<Figure size 432x288 with 1 Axes>"
      ]
     },
     "metadata": {
      "needs_background": "light"
     },
     "output_type": "display_data"
    }
   ],
   "source": [
    "sns.scatterplot(x='released', y='counts', data = movies_4)"
   ]
  },
  {
   "cell_type": "code",
   "execution_count": 82,
   "id": "6064e0d9",
   "metadata": {
    "ExecuteTime": {
     "end_time": "2021-09-27T06:45:47.811415Z",
     "start_time": "2021-09-27T06:45:47.804413Z"
    }
   },
   "outputs": [],
   "source": [
    "movies_prac = movies_3"
   ]
  },
  {
   "cell_type": "code",
   "execution_count": 83,
   "id": "05d5b98f",
   "metadata": {
    "ExecuteTime": {
     "end_time": "2021-09-27T06:45:49.112083Z",
     "start_time": "2021-09-27T06:45:49.101084Z"
    }
   },
   "outputs": [
    {
     "data": {
      "text/plain": [
       "26"
      ]
     },
     "execution_count": 83,
     "metadata": {},
     "output_type": "execute_result"
    }
   ],
   "source": [
    "movies_prac['released'].isnull().sum()\n",
    "# movies_prac.dropna(axis=0, how='any', inplace=True)"
   ]
  },
  {
   "cell_type": "code",
   "execution_count": 35,
   "id": "a88de787",
   "metadata": {
    "ExecuteTime": {
     "end_time": "2021-09-01T08:36:47.679058Z",
     "start_time": "2021-09-01T08:36:47.672055Z"
    }
   },
   "outputs": [
    {
     "data": {
      "text/plain": [
       "array([2016, 2006, 1994, 2001, 1972, 2017, 1995, 1965, 1989, 1974, 2013,\n",
       "       1954, 1993, 1957, 2014, 2009, 1999, 1975, 1964, 2019, 1942, 1950,\n",
       "       1949, 1983, 1959, 1944, 2011, 2002, 1990, 1961, 1982, 1976, 2008,\n",
       "       1946, 1931, 2010, 1962, 1997, 1941, 1934, 1973, 1988, 1979, 1991,\n",
       "       2000, 1980, 1985, 1963, 1958, 1998, 1940, 1996, 1978, 2015, 2005,\n",
       "       1966, 1987, 1945, 1981, 1937, 1948, 1977, 2012, 1951, 1943, 1952,\n",
       "       2018, 1986, 1968, 1926, 1984, 1955, 2004, 1992, 1936, 2003, 1967,\n",
       "       1953, 1933, 1947, 1960, 1969, 1938, 1925, 1956, 1935, 2007, 1970,\n",
       "       1939, 1929, 1971, 1928, 1927, 1932, 1921, 1930, 1080, 1924, 1923,\n",
       "       2049, 1920, 1922, 5555, 1898, 1902, 1900, 3000, 1917, 2046, 1916,\n",
       "       1918, 1912, 1919, 1915, 1001, 1776, 2022, 1138, 1000, 3096, 2036,\n",
       "       1408, 2077, 1908, 1903, 2048, 1910, 1896, 1895, 1492, 1600, 9000,\n",
       "       7500, 5000, 2050], dtype=int64)"
      ]
     },
     "execution_count": 35,
     "metadata": {},
     "output_type": "execute_result"
    }
   ],
   "source": [
    "movies_prac['released'].unique()"
   ]
  },
  {
   "cell_type": "code",
   "execution_count": 36,
   "id": "65fd3a8f",
   "metadata": {
    "ExecuteTime": {
     "end_time": "2021-09-01T08:36:49.088521Z",
     "start_time": "2021-09-01T08:36:49.079523Z"
    }
   },
   "outputs": [],
   "source": [
    "movies_prac['released'] = movies_prac['released'].astype('int64')"
   ]
  },
  {
   "cell_type": "code",
   "execution_count": 84,
   "id": "0ce3e16d",
   "metadata": {
    "ExecuteTime": {
     "end_time": "2021-09-27T06:45:53.401635Z",
     "start_time": "2021-09-27T06:45:51.196801Z"
    }
   },
   "outputs": [
    {
     "data": {
      "text/plain": [
       "<AxesSubplot:xlabel='released', ylabel='counts'>"
      ]
     },
     "execution_count": 84,
     "metadata": {},
     "output_type": "execute_result"
    },
    {
     "data": {
      "image/png": "[encoded data removed]",
      "text/plain": [
       "<Figure size 432x288 with 1 Axes>"
      ]
     },
     "metadata": {
      "needs_background": "light"
     },
     "output_type": "display_data"
    }
   ],
   "source": [
    "import seaborn as sns\n",
    "sns.scatterplot(x='released', y='counts', data = movies_prac) \n",
    "            # movies_3을 기반으로 만들어졌으니 dropna에 의해 26개 필터링이된 상태인듯?\n",
    "            # ㄴㄴ, sort_values가 이뤄진 차이인듯."
   ]
  },
  {
   "cell_type": "code",
   "execution_count": 37,
   "id": "5ac72134",
   "metadata": {
    "ExecuteTime": {
     "end_time": "2021-09-01T08:36:53.202200Z",
     "start_time": "2021-09-01T08:36:53.183257Z"
    }
   },
   "outputs": [
    {
     "data": {
      "text/html": [
       "<div>\n",
       "<style scoped>\n",
       "    .dataframe tbody tr th:only-of-type {\n",
       "        vertical-align: middle;\n",
       "    }\n",
       "\n",
       "    .dataframe tbody tr th {\n",
       "        vertical-align: top;\n",
       "    }\n",
       "\n",
       "    .dataframe thead th {\n",
       "        text-align: right;\n",
       "    }\n",
       "</style>\n",
       "<table border=\"1\" class=\"dataframe\">\n",
       "  <thead>\n",
       "    <tr style=\"text-align: right;\">\n",
       "      <th></th>\n",
       "      <th>movieId</th>\n",
       "      <th>title</th>\n",
       "      <th>genres</th>\n",
       "      <th>rating</th>\n",
       "      <th>released</th>\n",
       "      <th>counts</th>\n",
       "    </tr>\n",
       "  </thead>\n",
       "  <tbody>\n",
       "    <tr>\n",
       "      <th>0</th>\n",
       "      <td>171011</td>\n",
       "      <td>Planet Earth II (2016)</td>\n",
       "      <td>Documentary</td>\n",
       "      <td>4.483096</td>\n",
       "      <td>2016</td>\n",
       "      <td>1124</td>\n",
       "    </tr>\n",
       "    <tr>\n",
       "      <th>1</th>\n",
       "      <td>159817</td>\n",
       "      <td>Planet Earth (2006)</td>\n",
       "      <td>Documentary</td>\n",
       "      <td>4.464797</td>\n",
       "      <td>2006</td>\n",
       "      <td>1747</td>\n",
       "    </tr>\n",
       "    <tr>\n",
       "      <th>2</th>\n",
       "      <td>318</td>\n",
       "      <td>Shawshank Redemption, The (1994)</td>\n",
       "      <td>Crime|Drama</td>\n",
       "      <td>4.413576</td>\n",
       "      <td>1994</td>\n",
       "      <td>81482</td>\n",
       "    </tr>\n",
       "    <tr>\n",
       "      <th>3</th>\n",
       "      <td>170705</td>\n",
       "      <td>Band of Brothers (2001)</td>\n",
       "      <td>Action|Drama|War</td>\n",
       "      <td>4.398599</td>\n",
       "      <td>2001</td>\n",
       "      <td>1356</td>\n",
       "    </tr>\n",
       "    <tr>\n",
       "      <th>5</th>\n",
       "      <td>858</td>\n",
       "      <td>Godfather, The (1972)</td>\n",
       "      <td>Crime|Drama</td>\n",
       "      <td>4.324336</td>\n",
       "      <td>1972</td>\n",
       "      <td>52498</td>\n",
       "    </tr>\n",
       "    <tr>\n",
       "      <th>...</th>\n",
       "      <td>...</td>\n",
       "      <td>...</td>\n",
       "      <td>...</td>\n",
       "      <td>...</td>\n",
       "      <td>...</td>\n",
       "      <td>...</td>\n",
       "    </tr>\n",
       "    <tr>\n",
       "      <th>16965</th>\n",
       "      <td>4775</td>\n",
       "      <td>Glitter (2001)</td>\n",
       "      <td>Drama|Musical|Romance</td>\n",
       "      <td>1.125561</td>\n",
       "      <td>2001</td>\n",
       "      <td>669</td>\n",
       "    </tr>\n",
       "    <tr>\n",
       "      <th>16966</th>\n",
       "      <td>145096</td>\n",
       "      <td>Barbie &amp; Her Sisters in the Great Puppy Advent...</td>\n",
       "      <td>Animation</td>\n",
       "      <td>1.118644</td>\n",
       "      <td>2015</td>\n",
       "      <td>59</td>\n",
       "    </tr>\n",
       "    <tr>\n",
       "      <th>16967</th>\n",
       "      <td>6483</td>\n",
       "      <td>From Justin to Kelly (2003)</td>\n",
       "      <td>Musical|Romance</td>\n",
       "      <td>1.027578</td>\n",
       "      <td>2003</td>\n",
       "      <td>417</td>\n",
       "    </tr>\n",
       "    <tr>\n",
       "      <th>16968</th>\n",
       "      <td>8859</td>\n",
       "      <td>SuperBabies: Baby Geniuses 2 (2004)</td>\n",
       "      <td>Comedy</td>\n",
       "      <td>0.899038</td>\n",
       "      <td>2004</td>\n",
       "      <td>208</td>\n",
       "    </tr>\n",
       "    <tr>\n",
       "      <th>16969</th>\n",
       "      <td>7282</td>\n",
       "      <td>Hip Hop Witch, Da (2000)</td>\n",
       "      <td>Comedy|Horror|Thriller</td>\n",
       "      <td>0.854839</td>\n",
       "      <td>2000</td>\n",
       "      <td>31</td>\n",
       "    </tr>\n",
       "  </tbody>\n",
       "</table>\n",
       "<p>16919 rows × 6 columns</p>\n",
       "</div>"
      ],
      "text/plain": [
       "       movieId                                              title  \\\n",
       "0       171011                             Planet Earth II (2016)   \n",
       "1       159817                                Planet Earth (2006)   \n",
       "2          318                   Shawshank Redemption, The (1994)   \n",
       "3       170705                            Band of Brothers (2001)   \n",
       "5          858                              Godfather, The (1972)   \n",
       "...        ...                                                ...   \n",
       "16965     4775                                     Glitter (2001)   \n",
       "16966   145096  Barbie & Her Sisters in the Great Puppy Advent...   \n",
       "16967     6483                        From Justin to Kelly (2003)   \n",
       "16968     8859                SuperBabies: Baby Geniuses 2 (2004)   \n",
       "16969     7282                           Hip Hop Witch, Da (2000)   \n",
       "\n",
       "                       genres    rating  released  counts  \n",
       "0                 Documentary  4.483096      2016    1124  \n",
       "1                 Documentary  4.464797      2006    1747  \n",
       "2                 Crime|Drama  4.413576      1994   81482  \n",
       "3            Action|Drama|War  4.398599      2001    1356  \n",
       "5                 Crime|Drama  4.324336      1972   52498  \n",
       "...                       ...       ...       ...     ...  \n",
       "16965   Drama|Musical|Romance  1.125561      2001     669  \n",
       "16966               Animation  1.118644      2015      59  \n",
       "16967         Musical|Romance  1.027578      2003     417  \n",
       "16968                  Comedy  0.899038      2004     208  \n",
       "16969  Comedy|Horror|Thriller  0.854839      2000      31  \n",
       "\n",
       "[16919 rows x 6 columns]"
      ]
     },
     "execution_count": 37,
     "metadata": {},
     "output_type": "execute_result"
    }
   ],
   "source": [
    "movies_prac = movies_prac[(movies_prac['released']>= 1895) &  (movies_prac['released']<=2019)]\n",
    "movies_prac"
   ]
  },
  {
   "cell_type": "code",
   "execution_count": 23,
   "id": "029e5a17",
   "metadata": {
    "ExecuteTime": {
     "end_time": "2021-09-01T08:31:00.901080Z",
     "start_time": "2021-09-01T08:31:00.889084Z"
    }
   },
   "outputs": [
    {
     "data": {
      "text/plain": [
       "array([2016, 2006, 1994, 2001, 1972, 2017, 1995, 1965, 1989, 1974, 2013,\n",
       "       1954, 1993, 1957, 2014, 2009, 1999, 1975, 1964, 2019, 1942, 1950,\n",
       "       1949, 1983, 1959, 1944, 2011, 2002, 1990, 1961, 1982, 1976, 2008,\n",
       "       1946, 1931, 2010, 1962, 1997, 1941, 1934, 1973, 1988, 1979, 1991,\n",
       "       2000, 1980, 1985, 1963, 1958, 1998, 1940, 1996, 1978, 2015, 2005,\n",
       "       1966, 1987, 1945, 1981, 1937, 1948, 1977, 2012, 1951, 1943, 1952,\n",
       "       2018, 1986, 1968, 1926, 1984, 1955, 2004, 1992, 1936, 2003, 1967,\n",
       "       1953, 1933, 1947, 1960, 1969, 1938, 1925, 1956, 1935, 2007, 1970,\n",
       "       1939, 1929, 1971, 1928, 1927, 1932, 1921, 1930, 1924, 1923, 1920,\n",
       "       1922, 1898, 1902, 1900, 1917, 1916, 1918, 1912, 1919, 1915, 1908,\n",
       "       1903, 1910, 1896, 1895], dtype=int64)"
      ]
     },
     "execution_count": 23,
     "metadata": {},
     "output_type": "execute_result"
    }
   ],
   "source": [
    "movies_prac['released'].unique()"
   ]
  },
  {
   "cell_type": "code",
   "execution_count": 24,
   "id": "629f1520",
   "metadata": {
    "ExecuteTime": {
     "end_time": "2021-09-01T08:31:03.407797Z",
     "start_time": "2021-09-01T08:31:03.208188Z"
    }
   },
   "outputs": [
    {
     "data": {
      "text/plain": [
       "<AxesSubplot:xlabel='released', ylabel='counts'>"
      ]
     },
     "execution_count": 24,
     "metadata": {},
     "output_type": "execute_result"
    },
    {
     "data": {
      "image/png": "[encoded data removed]",
      "text/plain": [
       "<Figure size 432x288 with 1 Axes>"
      ]
     },
     "metadata": {
      "needs_background": "light"
     },
     "output_type": "display_data"
    }
   ],
   "source": [
    "sns.scatterplot(x='released', y='counts', data = movies_prac)"
   ]
  },
  {
   "cell_type": "code",
   "execution_count": 25,
   "id": "a4be162a",
   "metadata": {
    "ExecuteTime": {
     "end_time": "2021-09-01T08:31:06.424621Z",
     "start_time": "2021-09-01T08:31:06.408661Z"
    }
   },
   "outputs": [
    {
     "data": {
      "text/plain": [
       "16919"
      ]
     },
     "execution_count": 25,
     "metadata": {},
     "output_type": "execute_result"
    }
   ],
   "source": [
    "len(movies_prac.index)"
   ]
  },
  {
   "cell_type": "code",
   "execution_count": 38,
   "id": "200e1b84",
   "metadata": {
    "ExecuteTime": {
     "end_time": "2021-09-01T08:36:59.934207Z",
     "start_time": "2021-09-01T08:36:59.912246Z"
    }
   },
   "outputs": [
    {
     "data": {
      "text/html": [
       "<div>\n",
       "<style scoped>\n",
       "    .dataframe tbody tr th:only-of-type {\n",
       "        vertical-align: middle;\n",
       "    }\n",
       "\n",
       "    .dataframe tbody tr th {\n",
       "        vertical-align: top;\n",
       "    }\n",
       "\n",
       "    .dataframe thead th {\n",
       "        text-align: right;\n",
       "    }\n",
       "</style>\n",
       "<table border=\"1\" class=\"dataframe\">\n",
       "  <thead>\n",
       "    <tr style=\"text-align: right;\">\n",
       "      <th></th>\n",
       "      <th>movieId</th>\n",
       "      <th>title</th>\n",
       "      <th>genres</th>\n",
       "      <th>rating</th>\n",
       "      <th>released</th>\n",
       "      <th>counts</th>\n",
       "    </tr>\n",
       "  </thead>\n",
       "  <tbody>\n",
       "    <tr>\n",
       "      <th>0</th>\n",
       "      <td>171011</td>\n",
       "      <td>Planet Earth II (2016)</td>\n",
       "      <td>Documentary</td>\n",
       "      <td>4.483096</td>\n",
       "      <td>2016</td>\n",
       "      <td>1124</td>\n",
       "    </tr>\n",
       "    <tr>\n",
       "      <th>1</th>\n",
       "      <td>159817</td>\n",
       "      <td>Planet Earth (2006)</td>\n",
       "      <td>Documentary</td>\n",
       "      <td>4.464797</td>\n",
       "      <td>2006</td>\n",
       "      <td>1747</td>\n",
       "    </tr>\n",
       "    <tr>\n",
       "      <th>2</th>\n",
       "      <td>318</td>\n",
       "      <td>Shawshank Redemption, The (1994)</td>\n",
       "      <td>Crime|Drama</td>\n",
       "      <td>4.413576</td>\n",
       "      <td>1994</td>\n",
       "      <td>81482</td>\n",
       "    </tr>\n",
       "    <tr>\n",
       "      <th>3</th>\n",
       "      <td>170705</td>\n",
       "      <td>Band of Brothers (2001)</td>\n",
       "      <td>Action|Drama|War</td>\n",
       "      <td>4.398599</td>\n",
       "      <td>2001</td>\n",
       "      <td>1356</td>\n",
       "    </tr>\n",
       "    <tr>\n",
       "      <th>5</th>\n",
       "      <td>858</td>\n",
       "      <td>Godfather, The (1972)</td>\n",
       "      <td>Crime|Drama</td>\n",
       "      <td>4.324336</td>\n",
       "      <td>1972</td>\n",
       "      <td>52498</td>\n",
       "    </tr>\n",
       "    <tr>\n",
       "      <th>...</th>\n",
       "      <td>...</td>\n",
       "      <td>...</td>\n",
       "      <td>...</td>\n",
       "      <td>...</td>\n",
       "      <td>...</td>\n",
       "      <td>...</td>\n",
       "    </tr>\n",
       "    <tr>\n",
       "      <th>16965</th>\n",
       "      <td>4775</td>\n",
       "      <td>Glitter (2001)</td>\n",
       "      <td>Drama|Musical|Romance</td>\n",
       "      <td>1.125561</td>\n",
       "      <td>2001</td>\n",
       "      <td>669</td>\n",
       "    </tr>\n",
       "    <tr>\n",
       "      <th>16966</th>\n",
       "      <td>145096</td>\n",
       "      <td>Barbie &amp; Her Sisters in the Great Puppy Advent...</td>\n",
       "      <td>Animation</td>\n",
       "      <td>1.118644</td>\n",
       "      <td>2015</td>\n",
       "      <td>59</td>\n",
       "    </tr>\n",
       "    <tr>\n",
       "      <th>16967</th>\n",
       "      <td>6483</td>\n",
       "      <td>From Justin to Kelly (2003)</td>\n",
       "      <td>Musical|Romance</td>\n",
       "      <td>1.027578</td>\n",
       "      <td>2003</td>\n",
       "      <td>417</td>\n",
       "    </tr>\n",
       "    <tr>\n",
       "      <th>16968</th>\n",
       "      <td>8859</td>\n",
       "      <td>SuperBabies: Baby Geniuses 2 (2004)</td>\n",
       "      <td>Comedy</td>\n",
       "      <td>0.899038</td>\n",
       "      <td>2004</td>\n",
       "      <td>208</td>\n",
       "    </tr>\n",
       "    <tr>\n",
       "      <th>16969</th>\n",
       "      <td>7282</td>\n",
       "      <td>Hip Hop Witch, Da (2000)</td>\n",
       "      <td>Comedy|Horror|Thriller</td>\n",
       "      <td>0.854839</td>\n",
       "      <td>2000</td>\n",
       "      <td>31</td>\n",
       "    </tr>\n",
       "  </tbody>\n",
       "</table>\n",
       "<p>16919 rows × 6 columns</p>\n",
       "</div>"
      ],
      "text/plain": [
       "       movieId                                              title  \\\n",
       "0       171011                             Planet Earth II (2016)   \n",
       "1       159817                                Planet Earth (2006)   \n",
       "2          318                   Shawshank Redemption, The (1994)   \n",
       "3       170705                            Band of Brothers (2001)   \n",
       "5          858                              Godfather, The (1972)   \n",
       "...        ...                                                ...   \n",
       "16965     4775                                     Glitter (2001)   \n",
       "16966   145096  Barbie & Her Sisters in the Great Puppy Advent...   \n",
       "16967     6483                        From Justin to Kelly (2003)   \n",
       "16968     8859                SuperBabies: Baby Geniuses 2 (2004)   \n",
       "16969     7282                           Hip Hop Witch, Da (2000)   \n",
       "\n",
       "                       genres    rating  released  counts  \n",
       "0                 Documentary  4.483096      2016    1124  \n",
       "1                 Documentary  4.464797      2006    1747  \n",
       "2                 Crime|Drama  4.413576      1994   81482  \n",
       "3            Action|Drama|War  4.398599      2001    1356  \n",
       "5                 Crime|Drama  4.324336      1972   52498  \n",
       "...                       ...       ...       ...     ...  \n",
       "16965   Drama|Musical|Romance  1.125561      2001     669  \n",
       "16966               Animation  1.118644      2015      59  \n",
       "16967         Musical|Romance  1.027578      2003     417  \n",
       "16968                  Comedy  0.899038      2004     208  \n",
       "16969  Comedy|Horror|Thriller  0.854839      2000      31  \n",
       "\n",
       "[16919 rows x 6 columns]"
      ]
     },
     "execution_count": 38,
     "metadata": {},
     "output_type": "execute_result"
    }
   ],
   "source": [
    "movies_prac"
   ]
  },
  {
   "cell_type": "code",
   "execution_count": 42,
   "id": "29e2f733",
   "metadata": {
    "ExecuteTime": {
     "end_time": "2021-09-01T08:39:12.966958Z",
     "start_time": "2021-09-01T08:39:09.193246Z"
    }
   },
   "outputs": [
    {
     "data": {
      "text/plain": [
       "<AxesSubplot:xlabel='released', ylabel='counts'>"
      ]
     },
     "execution_count": 42,
     "metadata": {},
     "output_type": "execute_result"
    },
    {
     "data": {
      "image/png": "[encoded data removed]",
      "text/plain": [
       "<Figure size 432x288 with 1 Axes>"
      ]
     },
     "metadata": {
      "needs_background": "light"
     },
     "output_type": "display_data"
    }
   ],
   "source": [
    "import matplotlib.pyplot as plt\n",
    "import seaborn as sns\n",
    "sns.stripplot(data=movies_prac, x= 'released', y='counts')"
   ]
  },
  {
   "cell_type": "code",
   "execution_count": 45,
   "id": "6b36b6f0",
   "metadata": {
    "ExecuteTime": {
     "end_time": "2021-09-01T08:43:11.069034Z",
     "start_time": "2021-09-01T08:43:10.905748Z"
    },
    "scrolled": true
   },
   "outputs": [
    {
     "data": {
      "text/plain": [
       "<AxesSubplot:xlabel='released', ylabel='movieId'>"
      ]
     },
     "execution_count": 45,
     "metadata": {},
     "output_type": "execute_result"
    },
    {
     "data": {
      "image/png": "[encoded data removed]",
      "text/plain": [
       "<Figure size 432x288 with 1 Axes>"
      ]
     },
     "metadata": {
      "needs_background": "light"
     },
     "output_type": "display_data"
    }
   ],
   "source": [
    "a = movies_prac.groupby('released')['movieId'].count()\n",
    "a = pd.DataFrame(a).reset_index()\n",
    "import seaborn as sns\n",
    "sns.scatterplot(x='released', y='movieId', data = a)"
   ]
  },
  {
   "cell_type": "code",
   "execution_count": 69,
   "id": "692106da",
   "metadata": {
    "ExecuteTime": {
     "end_time": "2021-09-01T08:54:51.252200Z",
     "start_time": "2021-09-01T08:54:51.241207Z"
    }
   },
   "outputs": [
    {
     "name": "stdout",
     "output_type": "stream",
     "text": [
      "2019\n",
      "1895\n",
      "125\n"
     ]
    }
   ],
   "source": [
    "print(movies_prac['released'].max())\n",
    "print(movies_prac['released'].min())\n",
    "print(movies_prac['released'].max()-movies_prac['released'].min()+1)"
   ]
  },
  {
   "cell_type": "code",
   "execution_count": 55,
   "id": "4df59a78",
   "metadata": {
    "ExecuteTime": {
     "end_time": "2021-09-01T08:47:09.450450Z",
     "start_time": "2021-09-01T08:47:09.417534Z"
    }
   },
   "outputs": [
    {
     "data": {
      "text/html": [
       "<div>\n",
       "<style scoped>\n",
       "    .dataframe tbody tr th:only-of-type {\n",
       "        vertical-align: middle;\n",
       "    }\n",
       "\n",
       "    .dataframe tbody tr th {\n",
       "        vertical-align: top;\n",
       "    }\n",
       "\n",
       "    .dataframe thead th {\n",
       "        text-align: right;\n",
       "    }\n",
       "</style>\n",
       "<table border=\"1\" class=\"dataframe\">\n",
       "  <thead>\n",
       "    <tr style=\"text-align: right;\">\n",
       "      <th></th>\n",
       "      <th>movieId</th>\n",
       "      <th>rating</th>\n",
       "      <th>released</th>\n",
       "      <th>counts</th>\n",
       "    </tr>\n",
       "  </thead>\n",
       "  <tbody>\n",
       "    <tr>\n",
       "      <th>count</th>\n",
       "      <td>16919.000000</td>\n",
       "      <td>16919.000000</td>\n",
       "      <td>16919.000000</td>\n",
       "      <td>16919.000000</td>\n",
       "    </tr>\n",
       "    <tr>\n",
       "      <th>mean</th>\n",
       "      <td>53926.585555</td>\n",
       "      <td>3.249236</td>\n",
       "      <td>1994.601927</td>\n",
       "      <td>1462.399019</td>\n",
       "    </tr>\n",
       "    <tr>\n",
       "      <th>std</th>\n",
       "      <td>58495.827679</td>\n",
       "      <td>0.480373</td>\n",
       "      <td>20.558124</td>\n",
       "      <td>4462.003199</td>\n",
       "    </tr>\n",
       "    <tr>\n",
       "      <th>min</th>\n",
       "      <td>1.000000</td>\n",
       "      <td>0.854839</td>\n",
       "      <td>1895.000000</td>\n",
       "      <td>25.000000</td>\n",
       "    </tr>\n",
       "    <tr>\n",
       "      <th>25%</th>\n",
       "      <td>4526.500000</td>\n",
       "      <td>2.964286</td>\n",
       "      <td>1986.000000</td>\n",
       "      <td>55.000000</td>\n",
       "    </tr>\n",
       "    <tr>\n",
       "      <th>50%</th>\n",
       "      <td>27905.000000</td>\n",
       "      <td>3.310924</td>\n",
       "      <td>2000.000000</td>\n",
       "      <td>171.000000</td>\n",
       "    </tr>\n",
       "    <tr>\n",
       "      <th>75%</th>\n",
       "      <td>94865.500000</td>\n",
       "      <td>3.604635</td>\n",
       "      <td>2010.000000</td>\n",
       "      <td>805.500000</td>\n",
       "    </tr>\n",
       "    <tr>\n",
       "      <th>max</th>\n",
       "      <td>207830.000000</td>\n",
       "      <td>4.483096</td>\n",
       "      <td>2019.000000</td>\n",
       "      <td>81491.000000</td>\n",
       "    </tr>\n",
       "  </tbody>\n",
       "</table>\n",
       "</div>"
      ],
      "text/plain": [
       "             movieId        rating      released        counts\n",
       "count   16919.000000  16919.000000  16919.000000  16919.000000\n",
       "mean    53926.585555      3.249236   1994.601927   1462.399019\n",
       "std     58495.827679      0.480373     20.558124   4462.003199\n",
       "min         1.000000      0.854839   1895.000000     25.000000\n",
       "25%      4526.500000      2.964286   1986.000000     55.000000\n",
       "50%     27905.000000      3.310924   2000.000000    171.000000\n",
       "75%     94865.500000      3.604635   2010.000000    805.500000\n",
       "max    207830.000000      4.483096   2019.000000  81491.000000"
      ]
     },
     "execution_count": 55,
     "metadata": {},
     "output_type": "execute_result"
    }
   ],
   "source": [
    "movies_prac.describe()"
   ]
  },
  {
   "cell_type": "code",
   "execution_count": null,
   "id": "eed4e4ac",
   "metadata": {},
   "outputs": [],
   "source": [
    "a.groupby(['movieId']).plot(kind='box')"
   ]
  },
  {
   "cell_type": "code",
   "execution_count": 57,
   "id": "fd4190c1",
   "metadata": {
    "ExecuteTime": {
     "end_time": "2021-08-31T09:07:17.453889Z",
     "start_time": "2021-08-31T09:07:17.430950Z"
    }
   },
   "outputs": [
    {
     "name": "stdout",
     "output_type": "stream",
     "text": [
      "<class 'pandas.core.frame.DataFrame'>\n",
      "Int64Index: 15890 entries, 0 to 15914\n",
      "Data columns (total 7 columns):\n",
      " #   Column    Non-Null Count  Dtype  \n",
      "---  ------    --------------  -----  \n",
      " 0   movieId   15890 non-null  int64  \n",
      " 1   title     15890 non-null  object \n",
      " 2   genres    15890 non-null  object \n",
      " 3   rating    15890 non-null  float64\n",
      " 4   released  15890 non-null  int64  \n",
      " 5   counts    15890 non-null  int64  \n",
      " 6   value     15890 non-null  float64\n",
      "dtypes: float64(2), int64(3), object(2)\n",
      "memory usage: 993.1+ KB\n"
     ]
    }
   ],
   "source": [
    "movies_prac.info()"
   ]
  },
  {
   "cell_type": "code",
   "execution_count": 70,
   "id": "eedb2e5a",
   "metadata": {
    "ExecuteTime": {
     "end_time": "2021-08-31T09:11:39.392057Z",
     "start_time": "2021-08-31T09:11:39.368102Z"
    }
   },
   "outputs": [
    {
     "ename": "TypeError",
     "evalue": "'tuple' object is not callable",
     "output_type": "error",
     "traceback": [
      "\u001b[1;31m---------------------------------------------------------------------------\u001b[0m",
      "\u001b[1;31mTypeError\u001b[0m                                 Traceback (most recent call last)",
      "\u001b[1;32m<ipython-input-70-1432cac41d67>\u001b[0m in \u001b[0;36m<module>\u001b[1;34m\u001b[0m\n\u001b[1;32m----> 1\u001b[1;33m \u001b[0mmovies_prac\u001b[0m\u001b[1;33m[\u001b[0m\u001b[1;34m'released'\u001b[0m\u001b[1;33m]\u001b[0m\u001b[1;33m.\u001b[0m\u001b[0mshape\u001b[0m\u001b[1;33m(\u001b[0m\u001b[1;33m)\u001b[0m\u001b[1;33m\u001b[0m\u001b[1;33m\u001b[0m\u001b[0m\n\u001b[0m",
      "\u001b[1;31mTypeError\u001b[0m: 'tuple' object is not callable"
     ]
    }
   ],
   "source": [
    "movies_prac['released'].unique()"
   ]
  },
  {
   "cell_type": "code",
   "execution_count": 78,
   "id": "d0dd7333",
   "metadata": {
    "ExecuteTime": {
     "end_time": "2021-08-31T09:13:23.706341Z",
     "start_time": "2021-08-31T09:13:23.703337Z"
    }
   },
   "outputs": [],
   "source": [
    "aa = movies_prac['released'].unique()"
   ]
  },
  {
   "cell_type": "code",
   "execution_count": 81,
   "id": "49f89c0d",
   "metadata": {
    "ExecuteTime": {
     "end_time": "2021-08-31T09:15:04.704074Z",
     "start_time": "2021-08-31T09:15:04.680111Z"
    }
   },
   "outputs": [
    {
     "ename": "AttributeError",
     "evalue": "'numpy.ndarray' object has no attribute 'count_nonzero'",
     "output_type": "error",
     "traceback": [
      "\u001b[1;31m---------------------------------------------------------------------------\u001b[0m",
      "\u001b[1;31mAttributeError\u001b[0m                            Traceback (most recent call last)",
      "\u001b[1;32m<ipython-input-81-69dcb0591926>\u001b[0m in \u001b[0;36m<module>\u001b[1;34m\u001b[0m\n\u001b[1;32m----> 1\u001b[1;33m \u001b[0mprint\u001b[0m\u001b[1;33m(\u001b[0m\u001b[0maa\u001b[0m\u001b[1;33m.\u001b[0m\u001b[0mcount_nonzero\u001b[0m\u001b[1;33m(\u001b[0m\u001b[0maxis\u001b[0m\u001b[1;33m=\u001b[0m\u001b[1;36m0\u001b[0m\u001b[1;33m)\u001b[0m\u001b[1;33m)\u001b[0m\u001b[1;33m\u001b[0m\u001b[1;33m\u001b[0m\u001b[0m\n\u001b[0m",
      "\u001b[1;31mAttributeError\u001b[0m: 'numpy.ndarray' object has no attribute 'count_nonzero'"
     ]
    }
   ],
   "source": [
    "print(aa.count_nonzero(axis=0))"
   ]
  },
  {
   "cell_type": "code",
   "execution_count": null,
   "id": "24f03c37",
   "metadata": {},
   "outputs": [],
   "source": []
  },
  {
   "cell_type": "code",
   "execution_count": null,
   "id": "0762e830",
   "metadata": {},
   "outputs": [],
   "source": []
  },
  {
   "cell_type": "code",
   "execution_count": null,
   "id": "8b0ed65f",
   "metadata": {},
   "outputs": [],
   "source": []
  },
  {
   "cell_type": "code",
   "execution_count": 54,
   "id": "d5bb6fc0",
   "metadata": {
    "ExecuteTime": {
     "end_time": "2021-08-31T06:34:44.647932Z",
     "start_time": "2021-08-31T06:34:44.620025Z"
    }
   },
   "outputs": [
    {
     "ename": "ValueError",
     "evalue": "The truth value of a Series is ambiguous. Use a.empty, a.bool(), a.item(), a.any() or a.all().",
     "output_type": "error",
     "traceback": [
      "\u001b[1;31m---------------------------------------------------------------------------\u001b[0m",
      "\u001b[1;31mValueError\u001b[0m                                Traceback (most recent call last)",
      "\u001b[1;32m<ipython-input-54-8cc6e7ab6246>\u001b[0m in \u001b[0;36m<module>\u001b[1;34m\u001b[0m\n\u001b[1;32m----> 1\u001b[1;33m \u001b[1;33m[\u001b[0m\u001b[0mx\u001b[0m\u001b[1;33m.\u001b[0m\u001b[0msize\u001b[0m\u001b[1;33m(\u001b[0m\u001b[1;33m)\u001b[0m \u001b[1;32mfor\u001b[0m \u001b[0mx\u001b[0m \u001b[1;32min\u001b[0m \u001b[0mmovies_3\u001b[0m\u001b[1;33m[\u001b[0m\u001b[1;34m'released'\u001b[0m\u001b[1;33m]\u001b[0m \u001b[1;32mif\u001b[0m \u001b[0mmovies_3\u001b[0m\u001b[1;33m[\u001b[0m\u001b[1;34m'released'\u001b[0m\u001b[1;33m]\u001b[0m \u001b[1;33m==\u001b[0m \u001b[1;34m'2000'\u001b[0m\u001b[1;33m]\u001b[0m\u001b[1;33m\u001b[0m\u001b[1;33m\u001b[0m\u001b[0m\n\u001b[0m",
      "\u001b[1;32m<ipython-input-54-8cc6e7ab6246>\u001b[0m in \u001b[0;36m<listcomp>\u001b[1;34m(.0)\u001b[0m\n\u001b[1;32m----> 1\u001b[1;33m \u001b[1;33m[\u001b[0m\u001b[0mx\u001b[0m\u001b[1;33m.\u001b[0m\u001b[0msize\u001b[0m\u001b[1;33m(\u001b[0m\u001b[1;33m)\u001b[0m \u001b[1;32mfor\u001b[0m \u001b[0mx\u001b[0m \u001b[1;32min\u001b[0m \u001b[0mmovies_3\u001b[0m\u001b[1;33m[\u001b[0m\u001b[1;34m'released'\u001b[0m\u001b[1;33m]\u001b[0m \u001b[1;32mif\u001b[0m \u001b[0mmovies_3\u001b[0m\u001b[1;33m[\u001b[0m\u001b[1;34m'released'\u001b[0m\u001b[1;33m]\u001b[0m \u001b[1;33m==\u001b[0m \u001b[1;34m'2000'\u001b[0m\u001b[1;33m]\u001b[0m\u001b[1;33m\u001b[0m\u001b[1;33m\u001b[0m\u001b[0m\n\u001b[0m",
      "\u001b[1;32m~\\anaconda3\\lib\\site-packages\\pandas\\core\\generic.py\u001b[0m in \u001b[0;36m__nonzero__\u001b[1;34m(self)\u001b[0m\n\u001b[0;32m   1440\u001b[0m     \u001b[1;33m@\u001b[0m\u001b[0mfinal\u001b[0m\u001b[1;33m\u001b[0m\u001b[1;33m\u001b[0m\u001b[0m\n\u001b[0;32m   1441\u001b[0m     \u001b[1;32mdef\u001b[0m \u001b[0m__nonzero__\u001b[0m\u001b[1;33m(\u001b[0m\u001b[0mself\u001b[0m\u001b[1;33m)\u001b[0m\u001b[1;33m:\u001b[0m\u001b[1;33m\u001b[0m\u001b[1;33m\u001b[0m\u001b[0m\n\u001b[1;32m-> 1442\u001b[1;33m         raise ValueError(\n\u001b[0m\u001b[0;32m   1443\u001b[0m             \u001b[1;34mf\"The truth value of a {type(self).__name__} is ambiguous. \"\u001b[0m\u001b[1;33m\u001b[0m\u001b[1;33m\u001b[0m\u001b[0m\n\u001b[0;32m   1444\u001b[0m             \u001b[1;34m\"Use a.empty, a.bool(), a.item(), a.any() or a.all().\"\u001b[0m\u001b[1;33m\u001b[0m\u001b[1;33m\u001b[0m\u001b[0m\n",
      "\u001b[1;31mValueError\u001b[0m: The truth value of a Series is ambiguous. Use a.empty, a.bool(), a.item(), a.any() or a.all()."
     ]
    }
   ],
   "source": [
    "[x.size() for x in movies_3['released'] if movies_3['released'] == '2000']"
   ]
  },
  {
   "cell_type": "code",
   "execution_count": null,
   "id": "7c4f9c1a",
   "metadata": {},
   "outputs": [],
   "source": []
  },
  {
   "cell_type": "code",
   "execution_count": null,
   "id": "ccbee041",
   "metadata": {},
   "outputs": [],
   "source": []
  },
  {
   "cell_type": "code",
   "execution_count": null,
   "id": "a4aef1d2",
   "metadata": {},
   "outputs": [],
   "source": []
  },
  {
   "cell_type": "code",
   "execution_count": null,
   "id": "70290171",
   "metadata": {},
   "outputs": [],
   "source": [
    "info() type() shape()"
   ]
  },
  {
   "cell_type": "code",
   "execution_count": null,
   "id": "decf36a1",
   "metadata": {},
   "outputs": [],
   "source": [
    "astype(), dtype()\n",
    "# DataFrame.astype() method is used to cast a pandas object to a specified dtype. astype() function also provides the capability to convert any suitable existing column to categorical type.\n",
    "# DataFrame.astype() function comes very handy when we want to case a particular column data type to another data type"
   ]
  },
  {
   "cell_type": "code",
   "execution_count": null,
   "id": "14ce5a96",
   "metadata": {},
   "outputs": [],
   "source": []
  },
  {
   "cell_type": "code",
   "execution_count": null,
   "id": "2831f076",
   "metadata": {},
   "outputs": [],
   "source": []
  },
  {
   "cell_type": "code",
   "execution_count": null,
   "id": "af4926ed",
   "metadata": {},
   "outputs": [],
   "source": []
  },
  {
   "cell_type": "code",
   "execution_count": 7,
   "id": "bb0611ee",
   "metadata": {},
   "outputs": [
    {
     "ename": "KeyboardInterrupt",
     "evalue": "",
     "output_type": "error",
     "traceback": [
      "\u001b[1;31m---------------------------------------------------------------------------\u001b[0m",
      "\u001b[1;31mKeyboardInterrupt\u001b[0m                         Traceback (most recent call last)",
      "\u001b[1;32m<ipython-input-7-eb7a31f4a6c5>\u001b[0m in \u001b[0;36m<module>\u001b[1;34m\u001b[0m\n\u001b[0;32m      2\u001b[0m \u001b[1;33m\u001b[0m\u001b[0m\n\u001b[0;32m      3\u001b[0m \u001b[1;32mfor\u001b[0m \u001b[0mi\u001b[0m \u001b[1;32min\u001b[0m \u001b[0mratings\u001b[0m\u001b[1;33m.\u001b[0m\u001b[0mindex\u001b[0m\u001b[1;33m:\u001b[0m\u001b[1;33m\u001b[0m\u001b[1;33m\u001b[0m\u001b[0m\n\u001b[1;32m----> 4\u001b[1;33m     \u001b[0md_time\u001b[0m \u001b[1;33m=\u001b[0m \u001b[0mratings\u001b[0m\u001b[1;33m.\u001b[0m\u001b[0mloc\u001b[0m\u001b[1;33m[\u001b[0m\u001b[0mi\u001b[0m\u001b[1;33m,\u001b[0m \u001b[1;34m'timestamp'\u001b[0m\u001b[1;33m]\u001b[0m\u001b[1;33m\u001b[0m\u001b[1;33m\u001b[0m\u001b[0m\n\u001b[0m\u001b[0;32m      5\u001b[0m \u001b[1;31m#     ratings['date_time'] = datetime.fromtimestamp(d_time)\u001b[0m\u001b[1;33m\u001b[0m\u001b[1;33m\u001b[0m\u001b[1;33m\u001b[0m\u001b[0m\n\u001b[0;32m      6\u001b[0m \u001b[1;31m# ratings.head()\u001b[0m\u001b[1;33m\u001b[0m\u001b[1;33m\u001b[0m\u001b[1;33m\u001b[0m\u001b[0m\n",
      "\u001b[1;32m~\\anaconda3\\lib\\site-packages\\pandas\\core\\indexing.py\u001b[0m in \u001b[0;36m__getitem__\u001b[1;34m(self, key)\u001b[0m\n\u001b[0;32m    883\u001b[0m         \u001b[1;32mif\u001b[0m \u001b[0mtype\u001b[0m\u001b[1;33m(\u001b[0m\u001b[0mkey\u001b[0m\u001b[1;33m)\u001b[0m \u001b[1;32mis\u001b[0m \u001b[0mtuple\u001b[0m\u001b[1;33m:\u001b[0m\u001b[1;33m\u001b[0m\u001b[1;33m\u001b[0m\u001b[0m\n\u001b[0;32m    884\u001b[0m             \u001b[0mkey\u001b[0m \u001b[1;33m=\u001b[0m \u001b[0mtuple\u001b[0m\u001b[1;33m(\u001b[0m\u001b[0mcom\u001b[0m\u001b[1;33m.\u001b[0m\u001b[0mapply_if_callable\u001b[0m\u001b[1;33m(\u001b[0m\u001b[0mx\u001b[0m\u001b[1;33m,\u001b[0m \u001b[0mself\u001b[0m\u001b[1;33m.\u001b[0m\u001b[0mobj\u001b[0m\u001b[1;33m)\u001b[0m \u001b[1;32mfor\u001b[0m \u001b[0mx\u001b[0m \u001b[1;32min\u001b[0m \u001b[0mkey\u001b[0m\u001b[1;33m)\u001b[0m\u001b[1;33m\u001b[0m\u001b[1;33m\u001b[0m\u001b[0m\n\u001b[1;32m--> 885\u001b[1;33m             \u001b[1;32mif\u001b[0m \u001b[0mself\u001b[0m\u001b[1;33m.\u001b[0m\u001b[0m_is_scalar_access\u001b[0m\u001b[1;33m(\u001b[0m\u001b[0mkey\u001b[0m\u001b[1;33m)\u001b[0m\u001b[1;33m:\u001b[0m\u001b[1;33m\u001b[0m\u001b[1;33m\u001b[0m\u001b[0m\n\u001b[0m\u001b[0;32m    886\u001b[0m                 \u001b[1;32mwith\u001b[0m \u001b[0msuppress\u001b[0m\u001b[1;33m(\u001b[0m\u001b[0mKeyError\u001b[0m\u001b[1;33m,\u001b[0m \u001b[0mIndexError\u001b[0m\u001b[1;33m,\u001b[0m \u001b[0mAttributeError\u001b[0m\u001b[1;33m)\u001b[0m\u001b[1;33m:\u001b[0m\u001b[1;33m\u001b[0m\u001b[1;33m\u001b[0m\u001b[0m\n\u001b[0;32m    887\u001b[0m                     \u001b[1;31m# AttributeError for IntervalTree get_value\u001b[0m\u001b[1;33m\u001b[0m\u001b[1;33m\u001b[0m\u001b[1;33m\u001b[0m\u001b[0m\n",
      "\u001b[1;32m~\\anaconda3\\lib\\site-packages\\pandas\\core\\indexing.py\u001b[0m in \u001b[0;36m_is_scalar_access\u001b[1;34m(self, key)\u001b[0m\n\u001b[0;32m    956\u001b[0m                 \u001b[1;32mreturn\u001b[0m \u001b[1;32mFalse\u001b[0m\u001b[1;33m\u001b[0m\u001b[1;33m\u001b[0m\u001b[0m\n\u001b[0;32m    957\u001b[0m \u001b[1;33m\u001b[0m\u001b[0m\n\u001b[1;32m--> 958\u001b[1;33m             \u001b[0max\u001b[0m \u001b[1;33m=\u001b[0m \u001b[0mself\u001b[0m\u001b[1;33m.\u001b[0m\u001b[0mobj\u001b[0m\u001b[1;33m.\u001b[0m\u001b[0maxes\u001b[0m\u001b[1;33m[\u001b[0m\u001b[0mi\u001b[0m\u001b[1;33m]\u001b[0m\u001b[1;33m\u001b[0m\u001b[1;33m\u001b[0m\u001b[0m\n\u001b[0m\u001b[0;32m    959\u001b[0m             \u001b[1;32mif\u001b[0m \u001b[0misinstance\u001b[0m\u001b[1;33m(\u001b[0m\u001b[0max\u001b[0m\u001b[1;33m,\u001b[0m \u001b[0mABCMultiIndex\u001b[0m\u001b[1;33m)\u001b[0m\u001b[1;33m:\u001b[0m\u001b[1;33m\u001b[0m\u001b[1;33m\u001b[0m\u001b[0m\n\u001b[0;32m    960\u001b[0m                 \u001b[1;32mreturn\u001b[0m \u001b[1;32mFalse\u001b[0m\u001b[1;33m\u001b[0m\u001b[1;33m\u001b[0m\u001b[0m\n",
      "\u001b[1;32m~\\anaconda3\\lib\\site-packages\\pandas\\core\\frame.py\u001b[0m in \u001b[0;36maxes\u001b[1;34m(self)\u001b[0m\n\u001b[0;32m    626\u001b[0m     \u001b[1;31m# ----------------------------------------------------------------------\u001b[0m\u001b[1;33m\u001b[0m\u001b[1;33m\u001b[0m\u001b[1;33m\u001b[0m\u001b[0m\n\u001b[0;32m    627\u001b[0m \u001b[1;33m\u001b[0m\u001b[0m\n\u001b[1;32m--> 628\u001b[1;33m     \u001b[1;33m@\u001b[0m\u001b[0mproperty\u001b[0m\u001b[1;33m\u001b[0m\u001b[1;33m\u001b[0m\u001b[0m\n\u001b[0m\u001b[0;32m    629\u001b[0m     \u001b[1;32mdef\u001b[0m \u001b[0maxes\u001b[0m\u001b[1;33m(\u001b[0m\u001b[0mself\u001b[0m\u001b[1;33m)\u001b[0m \u001b[1;33m->\u001b[0m \u001b[0mList\u001b[0m\u001b[1;33m[\u001b[0m\u001b[0mIndex\u001b[0m\u001b[1;33m]\u001b[0m\u001b[1;33m:\u001b[0m\u001b[1;33m\u001b[0m\u001b[1;33m\u001b[0m\u001b[0m\n\u001b[0;32m    630\u001b[0m         \"\"\"\n",
      "\u001b[1;31mKeyboardInterrupt\u001b[0m: "
     ]
    }
   ],
   "source": [
    "from datetime import datetime\n",
    "\n",
    "for i in ratings.index:\n",
    "    d_time = ratings.loc[i, 'timestamp']\n",
    "#     ratings['date_time'] = datetime.fromtimestamp(d_time)\n",
    "# ratings.head()\n",
    "d_time\n",
    "# # ratings['date_time'] = datetime.fromtimestamp(ratings['timestamp'])"
   ]
  }
 ],
 "metadata": {
  "kernelspec": {
   "display_name": "Python 3 (ipykernel)",
   "language": "python",
   "name": "python3"
  },
  "language_info": {
   "codemirror_mode": {
    "name": "ipython",
    "version": 3
   },
   "file_extension": ".py",
   "mimetype": "text/x-python",
   "name": "python",
   "nbconvert_exporter": "python",
   "pygments_lexer": "ipython3",
   "version": "3.9.7"
  },
  "toc": {
   "base_numbering": 1,
   "nav_menu": {},
   "number_sections": true,
   "sideBar": true,
   "skip_h1_title": false,
   "title_cell": "Table of Contents",
   "title_sidebar": "Contents",
   "toc_cell": false,
   "toc_position": {},
   "toc_section_display": true,
   "toc_window_display": true
  },
  "varInspector": {
   "cols": {
    "lenName": 16,
    "lenType": 16,
    "lenVar": 40
   },
   "kernels_config": {
    "python": {
     "delete_cmd_postfix": "",
     "delete_cmd_prefix": "del ",
     "library": "var_list.py",
     "varRefreshCmd": "print(var_dic_list())"
    },
    "r": {
     "delete_cmd_postfix": ") ",
     "delete_cmd_prefix": "rm(",
     "library": "var_list.r",
     "varRefreshCmd": "cat(var_dic_list()) "
    }
   },
   "types_to_exclude": [
    "module",
    "function",
    "builtin_function_or_method",
    "instance",
    "_Feature"
   ],
   "window_display": false
  }
 },
 "nbformat": 4,
 "nbformat_minor": 5
}
