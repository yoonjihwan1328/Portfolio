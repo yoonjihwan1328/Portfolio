{
 "cells": [
  {
   "cell_type": "markdown",
   "id": "9a95dc25",
   "metadata": {},
   "source": [
    "<b><font size=\"6\" color=\"red\">ch08. 예외처리</font></b>"
   ]
  },
  {
   "cell_type": "markdown",
   "id": "408bf85c",
   "metadata": {},
   "source": [
    "# 1절. 예외처리\n",
    "- 예외가 날 가능성이 있는 부분에 대해서 미리 예상하고 그에 대한 처리를 프로그래밍 하는 것<br>\n",
    "  (프로그램이 좀 더 안정적으로 실행될 수 있도록 함)\n",
    "  ```\n",
    "  eg1) 파일을 다룰 때,\n",
    "       파일이 없거나 쓰기권한이 제한되어 오류가 발생하는 경우\n",
    "  eg2) 데이터베이스 프로그래밍시 제약조건 등에 의해 데이터베이스 서버오류가 발생하는 경우\n",
    "  eg3) 네트워크 프로그래밍시 네트워크 연결실패\n",
    "  eg4) 리스트나 튜플의 인덱스를 벗어난 참조로 오류발생.\n",
    "  ```"
   ]
  },
  {
   "cell_type": "code",
   "execution_count": 1,
   "id": "0fa9827e",
   "metadata": {
    "ExecuteTime": {
     "end_time": "2021-08-19T16:45:58.725788Z",
     "start_time": "2021-08-19T16:45:58.702850Z"
    }
   },
   "outputs": [
    {
     "name": "stdout",
     "output_type": "stream",
     "text": [
      "['Hello\\n', 'world']\n"
     ]
    }
   ],
   "source": [
    "f = open('data/ch08_abc.txt', 'r') # open(file, mode)\n",
    "print(f.readlines())                           # \"r\", \"a\", \"w\", \"x\", \"t\" ,\"b\"\n",
    "# Python file method readlines() reads until EOF \n",
    "                                    # and returns a list containing the lines"
   ]
  },
  {
   "cell_type": "code",
   "execution_count": 2,
   "id": "c816b072",
   "metadata": {
    "ExecuteTime": {
     "end_time": "2021-08-19T16:46:00.602913Z",
     "start_time": "2021-08-19T16:46:00.584964Z"
    }
   },
   "outputs": [
    {
     "name": "stdout",
     "output_type": "stream",
     "text": [
      "['Hello\\n', 'world']\n"
     ]
    }
   ],
   "source": [
    "f = open('data/ch08_abc.txt','r')\n",
    "lines = f.readlines()\n",
    "print(lines)"
   ]
  },
  {
   "cell_type": "code",
   "execution_count": 3,
   "id": "c757500d",
   "metadata": {
    "ExecuteTime": {
     "end_time": "2021-08-19T16:46:11.096694Z",
     "start_time": "2021-08-19T16:46:02.927106Z"
    }
   },
   "outputs": [
    {
     "name": "stdout",
     "output_type": "stream",
     "text": [
      "파일명을 입력해주세요ch08_abc.txt\n"
     ]
    }
   ],
   "source": [
    "filename = input('파일명을 입력해주세요')\n",
    "f = open('data/' + filename, 'r')\n",
    "# 파일명이 정확하게입력되지 않는다면 에러가 발생함.(이 경우 ch08_abc.txt) "
   ]
  },
  {
   "cell_type": "code",
   "execution_count": 4,
   "id": "cce88b6f",
   "metadata": {
    "ExecuteTime": {
     "end_time": "2021-08-19T16:46:13.157093Z",
     "start_time": "2021-08-19T16:46:13.072321Z"
    }
   },
   "outputs": [
    {
     "ename": "ZeroDivisionError",
     "evalue": "division by zero",
     "output_type": "error",
     "traceback": [
      "\u001b[1;31m---------------------------------------------------------------------------\u001b[0m",
      "\u001b[1;31mZeroDivisionError\u001b[0m                         Traceback (most recent call last)",
      "\u001b[1;32m<ipython-input-4-f5a47acbd97f>\u001b[0m in \u001b[0;36m<module>\u001b[1;34m\u001b[0m\n\u001b[1;32m----> 1\u001b[1;33m \u001b[1;36m2\u001b[0m\u001b[1;33m/\u001b[0m\u001b[1;36m0\u001b[0m\u001b[1;33m\u001b[0m\u001b[1;33m\u001b[0m\u001b[0m\n\u001b[0m\u001b[0;32m      2\u001b[0m \u001b[1;31m# 0으로 나눌 경우 예외가 발생함\u001b[0m\u001b[1;33m\u001b[0m\u001b[1;33m\u001b[0m\u001b[1;33m\u001b[0m\u001b[0m\n",
      "\u001b[1;31mZeroDivisionError\u001b[0m: division by zero"
     ]
    }
   ],
   "source": [
    "2/0\n",
    "# 0으로 나눌 경우 예외가 발생함"
   ]
  },
  {
   "cell_type": "code",
   "execution_count": 5,
   "id": "109a0ca3",
   "metadata": {
    "ExecuteTime": {
     "end_time": "2021-08-19T16:46:15.318725Z",
     "start_time": "2021-08-19T16:46:15.299782Z"
    }
   },
   "outputs": [
    {
     "ename": "IndexError",
     "evalue": "list index out of range",
     "output_type": "error",
     "traceback": [
      "\u001b[1;31m---------------------------------------------------------------------------\u001b[0m",
      "\u001b[1;31mIndexError\u001b[0m                                Traceback (most recent call last)",
      "\u001b[1;32m<ipython-input-5-47894dcd86df>\u001b[0m in \u001b[0;36m<module>\u001b[1;34m\u001b[0m\n\u001b[0;32m      1\u001b[0m \u001b[0ma\u001b[0m \u001b[1;33m=\u001b[0m \u001b[1;33m[\u001b[0m\u001b[1;36m1\u001b[0m\u001b[1;33m,\u001b[0m\u001b[1;36m2\u001b[0m\u001b[1;33m,\u001b[0m\u001b[1;36m3\u001b[0m\u001b[1;33m]\u001b[0m\u001b[1;33m\u001b[0m\u001b[1;33m\u001b[0m\u001b[0m\n\u001b[1;32m----> 2\u001b[1;33m \u001b[0ma\u001b[0m\u001b[1;33m[\u001b[0m\u001b[1;36m3\u001b[0m\u001b[1;33m]\u001b[0m\u001b[1;33m\u001b[0m\u001b[1;33m\u001b[0m\u001b[0m\n\u001b[0m",
      "\u001b[1;31mIndexError\u001b[0m: list index out of range"
     ]
    }
   ],
   "source": [
    "a = [1,2,3]\n",
    "a[3]"
   ]
  },
  {
   "cell_type": "markdown",
   "id": "fbfc56dd",
   "metadata": {},
   "source": [
    "# 2절. try ~ except로 예외처리"
   ]
  },
  {
   "cell_type": "markdown",
   "id": "ee600b78",
   "metadata": {},
   "source": [
    "## 2.1 try ~ except\n",
    "```\n",
    "try:\n",
    "    예외가 발생할 가능성이 있는 문장1\n",
    "    명령어...\n",
    "except:\n",
    "    예외가 발생했을 경우 실행할 문장\n",
    "```"
   ]
  },
  {
   "cell_type": "code",
   "execution_count": 6,
   "id": "4df35618",
   "metadata": {
    "ExecuteTime": {
     "end_time": "2021-08-19T16:46:23.824466Z",
     "start_time": "2021-08-19T16:46:20.094386Z"
    }
   },
   "outputs": [
    {
     "name": "stdout",
     "output_type": "stream",
     "text": [
      "정수를 입력하세요 : r\n"
     ]
    },
    {
     "ename": "ValueError",
     "evalue": "invalid literal for int() with base 10: 'r'",
     "output_type": "error",
     "traceback": [
      "\u001b[1;31m---------------------------------------------------------------------------\u001b[0m",
      "\u001b[1;31mValueError\u001b[0m                                Traceback (most recent call last)",
      "\u001b[1;32m<ipython-input-6-db89c20da3e2>\u001b[0m in \u001b[0;36m<module>\u001b[1;34m\u001b[0m\n\u001b[0;32m      1\u001b[0m \u001b[1;31m# 100을 입력받은 정수값으로 나눠 출력한다.\u001b[0m\u001b[1;33m\u001b[0m\u001b[1;33m\u001b[0m\u001b[1;33m\u001b[0m\u001b[0m\n\u001b[1;32m----> 2\u001b[1;33m \u001b[0mx\u001b[0m \u001b[1;33m=\u001b[0m \u001b[0mint\u001b[0m\u001b[1;33m(\u001b[0m\u001b[0minput\u001b[0m\u001b[1;33m(\u001b[0m\u001b[1;34m'정수를 입력하세요 : '\u001b[0m\u001b[1;33m)\u001b[0m\u001b[1;33m)\u001b[0m\u001b[1;33m\u001b[0m\u001b[1;33m\u001b[0m\u001b[0m\n\u001b[0m\u001b[0;32m      3\u001b[0m \u001b[0mprint\u001b[0m\u001b[1;33m(\u001b[0m\u001b[1;34mf\"입력한 정수는 : {x}\"\u001b[0m\u001b[1;33m)\u001b[0m\u001b[1;33m\u001b[0m\u001b[1;33m\u001b[0m\u001b[0m\n\u001b[0;32m      4\u001b[0m \u001b[0mprint\u001b[0m\u001b[1;33m(\u001b[0m\u001b[1;34m\"100을 입력한 정수로 나누면 : {:.2f}\"\u001b[0m\u001b[1;33m.\u001b[0m\u001b[0mformat\u001b[0m\u001b[1;33m(\u001b[0m\u001b[1;36m100\u001b[0m\u001b[1;33m/\u001b[0m\u001b[0mx\u001b[0m\u001b[1;33m)\u001b[0m\u001b[1;33m)\u001b[0m\u001b[1;33m\u001b[0m\u001b[1;33m\u001b[0m\u001b[0m\n\u001b[0;32m      5\u001b[0m \u001b[1;31m# ZeroDivisionError : 0을 입력했을 경우 예외\u001b[0m\u001b[1;33m\u001b[0m\u001b[1;33m\u001b[0m\u001b[1;33m\u001b[0m\u001b[0m\n",
      "\u001b[1;31mValueError\u001b[0m: invalid literal for int() with base 10: 'r'"
     ]
    }
   ],
   "source": [
    "# 100을 입력받은 정수값으로 나눠 출력한다.\n",
    "x = int(input('정수를 입력하세요 : '))\n",
    "print(f\"입력한 정수는 : {x}\")\n",
    "print(\"100을 입력한 정수로 나누면 : {:.2f}\".format(100/x))\n",
    "# ZeroDivisionError : 0을 입력했을 경우 예외\n",
    "# ValueError : 수를 입력하지 않은 경우"
   ]
  },
  {
   "cell_type": "code",
   "execution_count": 8,
   "id": "feaf61ef",
   "metadata": {
    "ExecuteTime": {
     "end_time": "2021-08-19T16:46:35.070442Z",
     "start_time": "2021-08-19T16:46:33.593045Z"
    }
   },
   "outputs": [
    {
     "name": "stdout",
     "output_type": "stream",
     "text": [
      "정수를 입력하세요 : 0\n",
      "입력한 정수는 : 0\n",
      "유효한 정수가 아닙니다.\n"
     ]
    }
   ],
   "source": [
    "try:\n",
    "    x = int(input('정수를 입력하세요 : '))\n",
    "    print(f\"입력한 정수는 : {x}\")\n",
    "    print(\"입력한 정수로 100을 나누면 : {:.2f}\".format(100/x))\n",
    "except:\n",
    "    print(\"유효한 정수가 아닙니다.\")"
   ]
  },
  {
   "cell_type": "code",
   "execution_count": 9,
   "id": "986ebd82",
   "metadata": {
    "ExecuteTime": {
     "end_time": "2021-08-19T16:47:31.292336Z",
     "start_time": "2021-08-19T16:47:21.630386Z"
    }
   },
   "outputs": [
    {
     "name": "stdout",
     "output_type": "stream",
     "text": [
      "정수를 입력하세요 : r\n",
      "유효한 정수가 아닙니다. 다시 입력하세요\n",
      "정수를 입력하세요 : 0\n",
      "입력한 수는 : 0\n",
      "유효한 정수가 아닙니다. 다시 입력하세요\n",
      "정수를 입력하세요 : 11\n",
      "입력한 수는 : 11\n",
      "100을 입력한 수로 나누면 9.09\n"
     ]
    }
   ],
   "source": [
    "# 유효한 정수를 입력할 때까지 계속 입력을 요구함\n",
    "# 100을 입력받은 정수로 나눗셈을 실시\n",
    "while True:\n",
    "    try:\n",
    "        x = int(input('정수를 입력하세요 : '))\n",
    "        print('입력한 수는 : {}'.format(x))\n",
    "        print('100을 입력한 수로 나누면 {:.2f}'.format(100/x))\n",
    "        break\n",
    "    except:\n",
    "        print('유효한 정수가 아닙니다. 다시 입력하세요')"
   ]
  },
  {
   "cell_type": "markdown",
   "id": "2ab704da",
   "metadata": {},
   "source": [
    "## 2.2 예외를 지정한 처리\n",
    "```\n",
    "try:\n",
    "    예외가 발생할 수도 있는 문장\n",
    "except Error1:\n",
    "    해당 예외가 발생할 경우 실행할 문장\n",
    "except Error2:\n",
    "    해당 예외가 발생할 경우 실행할 문장    \n",
    "```\n",
    "** 예외별로 분류하여 명시할 경우 상위클래스의 예외는 하위클래스의 예외보다 아래에 나와야함.**"
   ]
  },
  {
   "cell_type": "code",
   "execution_count": 10,
   "id": "53a570cb",
   "metadata": {
    "ExecuteTime": {
     "end_time": "2021-08-19T16:48:06.554096Z",
     "start_time": "2021-08-19T16:47:57.362429Z"
    }
   },
   "outputs": [
    {
     "name": "stdout",
     "output_type": "stream",
     "text": [
      "정수를 입력하세요 : r\n",
      "유효한 정수가 아닙니다. 다시 입력하세요\n",
      "정수를 입력하세요 : 0\n",
      "입력한 수는 : 0\n",
      "0으로 나눌 수 없습니다. 다시 시도하세요\n",
      "정수를 입력하세요 : 9\n",
      "입력한 수는 : 9\n",
      "100을 입력한 수로 나누면 11.11\n"
     ]
    }
   ],
   "source": [
    "# 유효한 정수를 입력할 때까지 계속 입력을 요구함\n",
    "# 100을 입력받은 정수로 나눗셈을 실시\n",
    "# ZeroDivisionError : 0을 입력했을 경우 예외\n",
    "# ValueError : 수를 입력하지 않은 경우\n",
    "while True:\n",
    "    try:\n",
    "        x = int(input('정수를 입력하세요 : '))\n",
    "        print('입력한 수는 : {}'.format(x))\n",
    "        print('100을 입력한 수로 나누면 {:.2f}'.format(100/x))\n",
    "        break\n",
    "    except ZeroDivisionError:\n",
    "        print('0으로 나눌 수 없습니다. 다시 시도하세요')\n",
    "    except ValueError:\n",
    "        print('유효한 정수가 아닙니다. 다시 입력하세요')\n",
    "    except Exception:\n",
    "        print('★ 다시 시도하세요')"
   ]
  },
  {
   "cell_type": "code",
   "execution_count": 11,
   "id": "c0029db2",
   "metadata": {
    "ExecuteTime": {
     "end_time": "2021-08-19T16:48:17.243748Z",
     "start_time": "2021-08-19T16:48:11.965529Z"
    }
   },
   "outputs": [
    {
     "name": "stdout",
     "output_type": "stream",
     "text": [
      "정수를 입력하세요 : r\n",
      "★ 다시 시도하세요\n",
      "정수를 입력하세요 : 0\n",
      "입력한 수는 : 0\n",
      "★ 다시 시도하세요\n",
      "정수를 입력하세요 : 9\n",
      "입력한 수는 : 9\n",
      "100을 입력한 수로 나누면 11.11\n"
     ]
    }
   ],
   "source": [
    "while True:\n",
    "    try:\n",
    "        x = int(input('정수를 입력하세요 : '))\n",
    "        print('입력한 수는 : {}'.format(x))\n",
    "        print('100을 입력한 수로 나누면 {:.2f}'.format(100/x))\n",
    "        break\n",
    "    except Exception:\n",
    "        print('★ 다시 시도하세요')\n",
    "    except ZeroDivisionError:\n",
    "        print('0으로 나눌 수 없습니다. 다시 시도하세요')\n",
    "    except ValueError:\n",
    "        print('유효한 정수가 아닙니다. 다시 입력하세요')\n",
    "                # -> 첫 번째 except이 가장 포괄적이기 때문에 해당 exception에 모두 걸림 "
   ]
  },
  {
   "cell_type": "code",
   "execution_count": 12,
   "id": "36c3788d",
   "metadata": {
    "ExecuteTime": {
     "end_time": "2021-08-19T16:48:25.117339Z",
     "start_time": "2021-08-19T16:48:21.503212Z"
    }
   },
   "outputs": [
    {
     "name": "stdout",
     "output_type": "stream",
     "text": [
      "정수를 입력하세요 : r\n",
      "0으로 나눌 수 없습니다. 다시 시도하세요\n",
      "정수를 입력하세요 : 0\n",
      "입력한 수는 : 0\n",
      "0으로 나눌 수 없습니다. 다시 시도하세요\n",
      "정수를 입력하세요 : 9\n",
      "입력한 수는 : 9\n",
      "100을 입력한 수로 나누면 11.11\n"
     ]
    }
   ],
   "source": [
    "while True:\n",
    "    try:\n",
    "        x = int(input('정수를 입력하세요 : '))\n",
    "        print('입력한 수는 : {}'.format(x))\n",
    "        print('100을 입력한 수로 나누면 {:.2f}'.format(100/x))\n",
    "        break\n",
    "    except (ZeroDivisionError, ValueError):\n",
    "        print('0으로 나눌 수 없습니다. 다시 시도하세요')\n",
    "    except Exception:\n",
    "        print('★ 다시 시도하세요')"
   ]
  },
  {
   "cell_type": "markdown",
   "id": "7419405c",
   "metadata": {},
   "source": [
    "## 2.3 예외인수(e)\n",
    "\n",
    "```\n",
    "- JAVA -\n",
    "try{\n",
    "    예외가 발생할 수도 있는 문장\n",
    "}catch(예외타입 e){\n",
    "    sysout(e.getMessage())\n",
    "}\n",
    "\n",
    "- python -\n",
    "try:\n",
    "    예외가 발생할 수도 있는 문장\n",
    "except 예외타입 as e:\n",
    "    해당 예외 발생시 실행할 문장\n",
    "```\n",
    "\n"
   ]
  },
  {
   "cell_type": "code",
   "execution_count": 13,
   "id": "22f80f66",
   "metadata": {
    "ExecuteTime": {
     "end_time": "2021-08-19T16:48:41.651391Z",
     "start_time": "2021-08-19T16:48:33.090872Z"
    }
   },
   "outputs": [
    {
     "name": "stdout",
     "output_type": "stream",
     "text": [
      "정수를 입력하세요 : r\n",
      "예외 유형 : <class 'ValueError'>\n",
      "예외 메세지 : invalid literal for int() with base 10: 'r'\n",
      "예외 메세지 : invalid literal for int() with base 10: 'r'\n",
      "예외 메세지 : (\"invalid literal for int() with base 10: 'r'\",)\n",
      "예외 메세지 : invalid literal for int() with base 10: 'r'\n",
      "e의 타입이 Except타입이기도 한지 :  True\n",
      "정수를 입력하세요 : 0\n",
      "입력한 수는 : 0\n",
      "예외 유형 : <class 'ZeroDivisionError'>\n",
      "예외 메세지 : division by zero\n",
      "예외 메세지 : division by zero\n",
      "예외 메세지 : ('division by zero',)\n",
      "예외 메세지 : division by zero\n",
      "e의 타입이 Except타입이기도 한지 :  True\n",
      "정수를 입력하세요 : 9\n",
      "입력한 수는 : 9\n",
      "100을 입력한 수로 나누면 11.11\n"
     ]
    }
   ],
   "source": [
    "while True:\n",
    "    try:\n",
    "        x = int(input('정수를 입력하세요 : '))\n",
    "        print('입력한 수는 : {}'.format(x))\n",
    "        print('100을 입력한 수로 나누면 {:.2f}'.format(100/x))\n",
    "        break\n",
    "    except (ZeroDivisionError, ValueError) as e:\n",
    "        print('예외 유형 :', type(e))\n",
    "        print('예외 메세지 :', e)\n",
    "        print('예외 메세지 :', e.__str__())\n",
    "        print('예외 메세지 :', e.args)               # 튜플형식으로 뿌려짐\n",
    "        print('예외 메세지 :', e.args[0])\n",
    "        print('e의 타입이 Except타입이기도 한지 : ', isinstance(e, Exception))\n"
   ]
  },
  {
   "cell_type": "code",
   "execution_count": 14,
   "id": "a28bd5ee",
   "metadata": {
    "ExecuteTime": {
     "end_time": "2021-08-19T16:48:53.634116Z",
     "start_time": "2021-08-19T16:48:53.612176Z"
    }
   },
   "outputs": [
    {
     "ename": "IndexError",
     "evalue": "list index out of range",
     "output_type": "error",
     "traceback": [
      "\u001b[1;31m---------------------------------------------------------------------------\u001b[0m",
      "\u001b[1;31mIndexError\u001b[0m                                Traceback (most recent call last)",
      "\u001b[1;32m<ipython-input-14-35ef81e26519>\u001b[0m in \u001b[0;36m<module>\u001b[1;34m\u001b[0m\n\u001b[0;32m      1\u001b[0m \u001b[0ma\u001b[0m \u001b[1;33m=\u001b[0m \u001b[1;33m[\u001b[0m\u001b[1;36m1\u001b[0m\u001b[1;33m,\u001b[0m \u001b[1;36m2\u001b[0m\u001b[1;33m,\u001b[0m \u001b[1;36m3\u001b[0m\u001b[1;33m]\u001b[0m\u001b[1;33m\u001b[0m\u001b[1;33m\u001b[0m\u001b[0m\n\u001b[1;32m----> 2\u001b[1;33m \u001b[0ma\u001b[0m\u001b[1;33m[\u001b[0m\u001b[1;36m3\u001b[0m\u001b[1;33m]\u001b[0m\u001b[1;33m\u001b[0m\u001b[1;33m\u001b[0m\u001b[0m\n\u001b[0m",
      "\u001b[1;31mIndexError\u001b[0m: list index out of range"
     ]
    }
   ],
   "source": [
    "a = [1, 2, 3]\n",
    "a[3]"
   ]
  },
  {
   "cell_type": "code",
   "execution_count": 15,
   "id": "965511d6",
   "metadata": {
    "ExecuteTime": {
     "end_time": "2021-08-19T16:49:12.345955Z",
     "start_time": "2021-08-19T16:49:12.332992Z"
    }
   },
   "outputs": [
    {
     "name": "stdout",
     "output_type": "stream",
     "text": [
      "list index out of range\n"
     ]
    }
   ],
   "source": [
    "try:\n",
    "    a = [1, 2, 3]\n",
    "    a[3]\n",
    "except IndexError as e:\n",
    "    print(e)"
   ]
  },
  {
   "cell_type": "code",
   "execution_count": null,
   "id": "f1b851f1",
   "metadata": {
    "ExecuteTime": {
     "end_time": "2021-08-19T16:16:43.190885Z",
     "start_time": "2021-08-19T16:16:42.491Z"
    }
   },
   "outputs": [],
   "source": [
    "# try ~ except ~ (else ~) finally\n",
    "# try 블럭을 수행하다 예외가 발생하면 except 블럭을 실행\n",
    "                        # 예외가 발생하지 않으면 else 블록 실행 (else절을 사용하기 보다 일반적으로 이중try절을 사용(?))\n",
    "                        # 예외 발생여부와 무관하게 finally 블록은 반드시 실행."
   ]
  },
  {
   "cell_type": "code",
   "execution_count": 19,
   "id": "26995f82",
   "metadata": {
    "ExecuteTime": {
     "end_time": "2021-08-19T16:50:38.467292Z",
     "start_time": "2021-08-19T16:50:38.459311Z"
    }
   },
   "outputs": [
    {
     "name": "stdout",
     "output_type": "stream",
     "text": [
      "해당 파일이 없습니다\n"
     ]
    }
   ],
   "source": [
    "try:\n",
    "    f = open('data/ch08.txt','r')\n",
    "except FileNotFoundError:         # 대문자 정확히 입력하기^^;\n",
    "    print('해당 파일이 없습니다')\n",
    "else:\n",
    "    data = f.read()\n",
    "    print(data)\n",
    "finally:\n",
    "    f.close()"
   ]
  },
  {
   "cell_type": "code",
   "execution_count": 20,
   "id": "0ec2b079",
   "metadata": {
    "ExecuteTime": {
     "end_time": "2021-08-19T16:52:34.801923Z",
     "start_time": "2021-08-19T16:52:34.784970Z"
    }
   },
   "outputs": [
    {
     "name": "stdout",
     "output_type": "stream",
     "text": [
      "Hello\n",
      "world\n"
     ]
    }
   ],
   "source": [
    "try:\n",
    "    f = open('data/ch08_abc.txt','r')\n",
    "    data = f.read()\n",
    "    print(data)\n",
    "except FileNotFoundError:\n",
    "    print('해당 파일이 없습니다')\n",
    "finally:\n",
    "    f.close()"
   ]
  },
  {
   "cell_type": "markdown",
   "id": "2e65fa6f",
   "metadata": {},
   "source": [
    "# 3절. raise"
   ]
  },
  {
   "cell_type": "code",
   "execution_count": 21,
   "id": "1bef933f",
   "metadata": {
    "ExecuteTime": {
     "end_time": "2021-08-19T16:58:42.973211Z",
     "start_time": "2021-08-19T16:58:42.952271Z"
    }
   },
   "outputs": [
    {
     "ename": "NameError",
     "evalue": "예외가 발생했어요",
     "output_type": "error",
     "traceback": [
      "\u001b[1;31m---------------------------------------------------------------------------\u001b[0m",
      "\u001b[1;31mNameError\u001b[0m                                 Traceback (most recent call last)",
      "\u001b[1;32m<ipython-input-21-397290b93c72>\u001b[0m in \u001b[0;36m<module>\u001b[1;34m\u001b[0m\n\u001b[1;32m----> 1\u001b[1;33m \u001b[1;32mraise\u001b[0m \u001b[0mNameError\u001b[0m\u001b[1;33m(\u001b[0m\u001b[1;34m'예외가 발생했어요'\u001b[0m\u001b[1;33m)\u001b[0m\u001b[1;33m\u001b[0m\u001b[1;33m\u001b[0m\u001b[0m\n\u001b[0m",
      "\u001b[1;31mNameError\u001b[0m: 예외가 발생했어요"
     ]
    }
   ],
   "source": [
    "raise NameError('예외가 발생했어요')"
   ]
  },
  {
   "cell_type": "code",
   "execution_count": 22,
   "id": "e613a632",
   "metadata": {
    "ExecuteTime": {
     "end_time": "2021-08-19T16:58:44.745830Z",
     "start_time": "2021-08-19T16:58:44.727878Z"
    }
   },
   "outputs": [],
   "source": [
    "class LengthZeroError(Exception):\n",
    "    \"길이가 0일 때 발생하는 예외\"\n",
    "    pass"
   ]
  },
  {
   "cell_type": "code",
   "execution_count": 23,
   "id": "93c52191",
   "metadata": {
    "ExecuteTime": {
     "end_time": "2021-08-19T16:58:47.195457Z",
     "start_time": "2021-08-19T16:58:47.180499Z"
    }
   },
   "outputs": [],
   "source": [
    "def insert(data):\n",
    "    if len(data) == 0:\n",
    "        raise LengthZeroError(\"매개변수의 길이가 0\")\n",
    "    for item in data:\n",
    "        print(item, end=' ')\n",
    "    print(\"등을 입력하였습니다.\")"
   ]
  },
  {
   "cell_type": "code",
   "execution_count": 25,
   "id": "06a06c82",
   "metadata": {
    "ExecuteTime": {
     "end_time": "2021-08-19T16:59:25.760843Z",
     "start_time": "2021-08-19T16:59:25.746879Z"
    }
   },
   "outputs": [
    {
     "name": "stdout",
     "output_type": "stream",
     "text": [
      "매개변수의 길이가 0\n",
      "무조건 실행 - DONE\n"
     ]
    }
   ],
   "source": [
    "data = []\n",
    "try:\n",
    "    insert(data)\n",
    "except LengthZeroError as e:\n",
    "    print(e)\n",
    "else:\n",
    "    print(\"정상 실행\")\n",
    "finally:\n",
    "    print(\"무조건 실행 - DONE\")"
   ]
  },
  {
   "cell_type": "markdown",
   "id": "19f5a197",
   "metadata": {},
   "source": [
    "# 4절. 추상클래스\n",
    "- python은 추상클래스를 생성할 수 없으나 raise를 이용해서 추상클래스를 흉내냄<br>\n",
    "(클래스는 있으나 메소드를 실행할 수 없음?, 객체를 만들 수 없음)"
   ]
  },
  {
   "cell_type": "code",
   "execution_count": 26,
   "id": "d3de1bcc",
   "metadata": {
    "ExecuteTime": {
     "end_time": "2021-08-19T17:05:35.368632Z",
     "start_time": "2021-08-19T17:05:35.353666Z"
    }
   },
   "outputs": [],
   "source": [
    "class Shape:\n",
    "    pass"
   ]
  },
  {
   "cell_type": "code",
   "execution_count": 33,
   "id": "07db8e4a",
   "metadata": {
    "ExecuteTime": {
     "end_time": "2021-08-19T17:07:51.306266Z",
     "start_time": "2021-08-19T17:07:51.297291Z"
    }
   },
   "outputs": [
    {
     "data": {
      "text/plain": [
       "True"
      ]
     },
     "execution_count": 33,
     "metadata": {},
     "output_type": "execute_result"
    }
   ],
   "source": [
    "s = Shape() # 추상클래스는 객체생성이 가능해서는 안됨.\n",
    "isinstance(s, Shape) # 근데 지금은 객체가 생성된듯?"
   ]
  },
  {
   "cell_type": "code",
   "execution_count": 34,
   "id": "a3c75018",
   "metadata": {
    "ExecuteTime": {
     "end_time": "2021-08-19T17:08:02.646483Z",
     "start_time": "2021-08-19T17:08:02.639503Z"
    }
   },
   "outputs": [],
   "source": [
    "class Shape:\n",
    "    def __init__(self):\n",
    "        raise NotImplementedError(\"추상클래스 역할\")"
   ]
  },
  {
   "cell_type": "code",
   "execution_count": 36,
   "id": "c0fae5b7",
   "metadata": {
    "ExecuteTime": {
     "end_time": "2021-08-19T17:08:15.979903Z",
     "start_time": "2021-08-19T17:08:15.957964Z"
    }
   },
   "outputs": [
    {
     "ename": "NotImplementedError",
     "evalue": "추상클래스 역할",
     "output_type": "error",
     "traceback": [
      "\u001b[1;31m---------------------------------------------------------------------------\u001b[0m",
      "\u001b[1;31mNotImplementedError\u001b[0m                       Traceback (most recent call last)",
      "\u001b[1;32m<ipython-input-36-591a20a7bd28>\u001b[0m in \u001b[0;36m<module>\u001b[1;34m\u001b[0m\n\u001b[1;32m----> 1\u001b[1;33m \u001b[0ms\u001b[0m \u001b[1;33m=\u001b[0m \u001b[0mShape\u001b[0m\u001b[1;33m(\u001b[0m\u001b[1;33m)\u001b[0m\u001b[1;33m\u001b[0m\u001b[1;33m\u001b[0m\u001b[0m\n\u001b[0m\u001b[0;32m      2\u001b[0m \u001b[0misinstance\u001b[0m\u001b[1;33m(\u001b[0m\u001b[0ms\u001b[0m\u001b[1;33m,\u001b[0m \u001b[0mShape\u001b[0m\u001b[1;33m)\u001b[0m\u001b[1;33m\u001b[0m\u001b[1;33m\u001b[0m\u001b[0m\n",
      "\u001b[1;32m<ipython-input-34-96330d6c7207>\u001b[0m in \u001b[0;36m__init__\u001b[1;34m(self)\u001b[0m\n\u001b[0;32m      1\u001b[0m \u001b[1;32mclass\u001b[0m \u001b[0mShape\u001b[0m\u001b[1;33m:\u001b[0m\u001b[1;33m\u001b[0m\u001b[1;33m\u001b[0m\u001b[0m\n\u001b[0;32m      2\u001b[0m     \u001b[1;32mdef\u001b[0m \u001b[0m__init__\u001b[0m\u001b[1;33m(\u001b[0m\u001b[0mself\u001b[0m\u001b[1;33m)\u001b[0m\u001b[1;33m:\u001b[0m\u001b[1;33m\u001b[0m\u001b[1;33m\u001b[0m\u001b[0m\n\u001b[1;32m----> 3\u001b[1;33m         \u001b[1;32mraise\u001b[0m \u001b[0mNotImplementedError\u001b[0m\u001b[1;33m(\u001b[0m\u001b[1;34m\"추상클래스 역할\"\u001b[0m\u001b[1;33m)\u001b[0m\u001b[1;33m\u001b[0m\u001b[1;33m\u001b[0m\u001b[0m\n\u001b[0m",
      "\u001b[1;31mNotImplementedError\u001b[0m: 추상클래스 역할"
     ]
    }
   ],
   "source": [
    "s = Shape() # 여기는 객체생성이 이뤄지지 않음.ㅇㅅㅇ"
   ]
  },
  {
   "cell_type": "code",
   "execution_count": null,
   "id": "a094311e",
   "metadata": {
    "ExecuteTime": {
     "end_time": "2021-08-19T16:16:43.223794Z",
     "start_time": "2021-08-19T16:16:42.549Z"
    }
   },
   "outputs": [],
   "source": [
    "# 추상 클래스는 추상 매소드를 하나 이상 가지고 있는 클래스.\n",
    "# 나를 상속받는 클래스가 이런 이런 특성을 가지도록 할 것이라는 가이드 라인 제공~~~"
   ]
  },
  {
   "cell_type": "code",
   "execution_count": 37,
   "id": "6ac5fb8a",
   "metadata": {
    "ExecuteTime": {
     "end_time": "2021-08-19T17:20:01.876665Z",
     "start_time": "2021-08-19T17:20:01.871677Z"
    }
   },
   "outputs": [],
   "source": [
    "class Shape:\n",
    "    def __init__(self):\n",
    "        raise NotImplementedError(\"추상클래스 역할\")\n",
    "    def calc_area(self):\n",
    "        raise NotimplementedError\n",
    "            # Shape라는 클래스가 생성될 때는 calc_area메서드가 반드시 존재해야함을 설정?\n",
    "            # 근데 구체적인 식은 아래 Circle클래스 만드는 사람이 직접 작업해야 했네."
   ]
  },
  {
   "cell_type": "code",
   "execution_count": 38,
   "id": "276316c5",
   "metadata": {
    "ExecuteTime": {
     "end_time": "2021-08-19T17:28:28.244475Z",
     "start_time": "2021-08-19T17:28:28.232473Z"
    }
   },
   "outputs": [],
   "source": [
    "import numpy as np\n",
    "class Circle(Shape):        # Circle클래스는 Shape클래스와 같은 특성을 가져야함 -> Shape클래스가 추상클래스로서 역할\n",
    "    def __init__(self, radius):\n",
    "        self.radius = radius\n",
    "    def calc_area(self):\n",
    "        return self.radius * self.radius * np.pi"
   ]
  },
  {
   "cell_type": "code",
   "execution_count": 39,
   "id": "b24ba8ad",
   "metadata": {
    "ExecuteTime": {
     "end_time": "2021-08-19T17:29:20.724643Z",
     "start_time": "2021-08-19T17:29:20.702701Z"
    }
   },
   "outputs": [
    {
     "data": {
      "text/plain": [
       "78.53981633974483"
      ]
     },
     "execution_count": 39,
     "metadata": {},
     "output_type": "execute_result"
    }
   ],
   "source": [
    "myCircle = Circle(5)\n",
    "myCircle.calc_area()"
   ]
  },
  {
   "cell_type": "markdown",
   "id": "3f50d6b3",
   "metadata": {
    "ExecuteTime": {
     "end_time": "2021-07-26T05:58:13.914133Z",
     "start_time": "2021-07-26T05:58:13.911128Z"
    }
   },
   "source": [
    "# 5절. 파일 정리작업(with절 이용)"
   ]
  },
  {
   "cell_type": "code",
   "execution_count": 40,
   "id": "fc051f7f",
   "metadata": {
    "ExecuteTime": {
     "end_time": "2021-08-19T17:30:13.933989Z",
     "start_time": "2021-08-19T17:30:13.913012Z"
    }
   },
   "outputs": [
    {
     "name": "stdout",
     "output_type": "stream",
     "text": [
      "['Hello\\n', 'world']\n"
     ]
    }
   ],
   "source": [
    "try:\n",
    "    f = open('data/ch08_abc.txt','r')\n",
    "    lines = f.readlines() # txt파일을 한 줄 한 줄 모든 줄을 한꺼번에 읽어 list로 담음\n",
    "    print(lines)\n",
    "except FileNotFoundError as e:\n",
    "    print(e)\n",
    "finally:\n",
    "    f.close() # 제일 중요"
   ]
  },
  {
   "cell_type": "code",
   "execution_count": 41,
   "id": "a253b360",
   "metadata": {
    "ExecuteTime": {
     "end_time": "2021-08-19T17:30:21.800587Z",
     "start_time": "2021-08-19T17:30:21.790613Z"
    }
   },
   "outputs": [
    {
     "name": "stdout",
     "output_type": "stream",
     "text": [
      "['Hello\\n', 'world']\n",
      "DONE\n"
     ]
    }
   ],
   "source": [
    "# with절 이후에는 자동적으로 파일이 close() 실시. -> try ~ except ~ finally를 모두 입력하지 않아도 됨.\n",
    "with open('data/ch08_abc.txt') as f:\n",
    "    lines = f.readlines()\n",
    "    print(lines)\n",
    "print('DONE')"
   ]
  },
  {
   "cell_type": "code",
   "execution_count": 42,
   "id": "37e8164d",
   "metadata": {
    "ExecuteTime": {
     "end_time": "2021-08-19T17:30:31.509614Z",
     "start_time": "2021-08-19T17:30:31.487670Z"
    }
   },
   "outputs": [
    {
     "name": "stdout",
     "output_type": "stream",
     "text": [
      "['Hello\\n', 'world']\n"
     ]
    }
   ],
   "source": [
    "try:\n",
    "    with open('data/ch08_abc.txt','r') as f:\n",
    "        lines = f.readlines()\n",
    "    print(lines)\n",
    "except FileNotFoundError as e:\n",
    "    print(e)"
   ]
  },
  {
   "cell_type": "code",
   "execution_count": null,
   "id": "bff8abc0",
   "metadata": {},
   "outputs": [],
   "source": [
    "# 연습문제 1(3) 2(2) 3(4) 4(3)"
   ]
  }
 ],
 "metadata": {
  "kernelspec": {
   "display_name": "Python 3",
   "language": "python",
   "name": "python3"
  },
  "language_info": {
   "codemirror_mode": {
    "name": "ipython",
    "version": 3
   },
   "file_extension": ".py",
   "mimetype": "text/x-python",
   "name": "python",
   "nbconvert_exporter": "python",
   "pygments_lexer": "ipython3",
   "version": "3.8.8"
  },
  "toc": {
   "base_numbering": 1,
   "nav_menu": {},
   "number_sections": true,
   "sideBar": true,
   "skip_h1_title": false,
   "title_cell": "Table of Contents",
   "title_sidebar": "Contents",
   "toc_cell": false,
   "toc_position": {},
   "toc_section_display": true,
   "toc_window_display": false
  },
  "varInspector": {
   "cols": {
    "lenName": 16,
    "lenType": 16,
    "lenVar": 40
   },
   "kernels_config": {
    "python": {
     "delete_cmd_postfix": "",
     "delete_cmd_prefix": "del ",
     "library": "var_list.py",
     "varRefreshCmd": "print(var_dic_list())"
    },
    "r": {
     "delete_cmd_postfix": ") ",
     "delete_cmd_prefix": "rm(",
     "library": "var_list.r",
     "varRefreshCmd": "cat(var_dic_list()) "
    }
   },
   "types_to_exclude": [
    "module",
    "function",
    "builtin_function_or_method",
    "instance",
    "_Feature"
   ],
   "window_display": false
  }
 },
 "nbformat": 4,
 "nbformat_minor": 5
}
