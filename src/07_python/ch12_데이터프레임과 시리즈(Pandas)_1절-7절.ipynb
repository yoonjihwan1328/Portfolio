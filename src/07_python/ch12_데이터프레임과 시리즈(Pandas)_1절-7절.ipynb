{
 "cells": [
  {
   "cell_type": "markdown",
   "id": "e0d45aaa",
   "metadata": {
    "ExecuteTime": {
     "end_time": "2021-08-02T00:42:15.166826Z",
     "start_time": "2021-08-02T00:42:15.148842Z"
    }
   },
   "source": [
    "<b><font size=\"6\" color=\"red\">ch12. 데이터프레임과 시리즈(Pandas)_1절-7절</font></b>"
   ]
  },
  {
   "cell_type": "markdown",
   "id": "e214eae3",
   "metadata": {},
   "source": [
    "# 1절. 판다스 패키지\n",
    "- 데이터분석을 위해 반드시 알아야 할 패키지. 넘파이를 기반으로 하며, 다른 많은 라이브러리와 잘 통합되도록 설계\n",
    "- 1차원 구조를 갖는 시리즈, 2차원 구조를 갖는 데이터프레임을 제공\n",
    "- 결측치 처리, 크기변경(열삽입, 삭제), 데이터 정렬, 데이터 분할, 데이터 병합, 데이터프레임 생성, 부분 데이터셋 추출, <br>\n",
    "  피벗과 언피벗, 레이블링, 파일입출력이 용이\n",
    "* https://pypi.org/project/pandas/ (package index)\n",
    "* https://pandas.pydata.org/pandas-docs/stable/reference/index.html (API reference)"
   ]
  },
  {
   "cell_type": "code",
   "execution_count": 2,
   "id": "b930987b",
   "metadata": {
    "ExecuteTime": {
     "end_time": "2021-08-02T00:46:39.347263Z",
     "start_time": "2021-08-02T00:46:39.341279Z"
    }
   },
   "outputs": [],
   "source": [
    "# numpy 연습문제...\n",
    "# 모듈, 패키지, 라이브러리, API"
   ]
  },
  {
   "cell_type": "markdown",
   "id": "f12bf65e",
   "metadata": {},
   "source": [
    "- 파이썬 표준 모듈은 아님. 아나콘다를 설치시 함께 설치가 이루어짐(pip install pandas / condas install pandas)"
   ]
  },
  {
   "cell_type": "code",
   "execution_count": 1,
   "id": "9632a571",
   "metadata": {
    "ExecuteTime": {
     "end_time": "2021-09-06T06:44:43.730950Z",
     "start_time": "2021-09-06T06:44:43.418595Z"
    }
   },
   "outputs": [
    {
     "data": {
      "text/plain": [
       "'1.2.4'"
      ]
     },
     "execution_count": 1,
     "metadata": {},
     "output_type": "execute_result"
    }
   ],
   "source": [
    "import pandas as pd\n",
    "pd.__version__"
   ]
  },
  {
   "cell_type": "code",
   "execution_count": 2,
   "id": "0a6835ba",
   "metadata": {
    "ExecuteTime": {
     "end_time": "2021-09-06T06:44:45.779471Z",
     "start_time": "2021-09-06T06:44:45.543543Z"
    }
   },
   "outputs": [
    {
     "name": "stdout",
     "output_type": "stream",
     "text": [
      "  name  age          email address\n",
      "0  홍길동   20  hong@hong.com      서울\n",
      "1  김김김   25   kim@hong.com      경기\n",
      "<class 'pandas.core.frame.DataFrame'>\n"
     ]
    }
   ],
   "source": [
    "data = pd.read_json('data/ch09_member1.json', encoding = 'cp949')\n",
    "print(data)\n",
    "print(type(data))"
   ]
  },
  {
   "cell_type": "code",
   "execution_count": null,
   "id": "73bc8742",
   "metadata": {},
   "outputs": [],
   "source": [
    "data = pd.read_csv('data/ch09_member5.csv')\n",
    "# 에러발생은 파일생성을 numpy장에서 제대로 안했기 때문...^^; "
   ]
  },
  {
   "cell_type": "code",
   "execution_count": 4,
   "id": "512da964",
   "metadata": {
    "ExecuteTime": {
     "end_time": "2021-09-06T06:46:27.655496Z",
     "start_time": "2021-09-06T06:46:27.639538Z"
    }
   },
   "outputs": [
    {
     "data": {
      "text/html": [
       "<div>\n",
       "<style scoped>\n",
       "    .dataframe tbody tr th:only-of-type {\n",
       "        vertical-align: middle;\n",
       "    }\n",
       "\n",
       "    .dataframe tbody tr th {\n",
       "        vertical-align: top;\n",
       "    }\n",
       "\n",
       "    .dataframe thead th {\n",
       "        text-align: right;\n",
       "    }\n",
       "</style>\n",
       "<table border=\"1\" class=\"dataframe\">\n",
       "  <thead>\n",
       "    <tr style=\"text-align: right;\">\n",
       "      <th></th>\n",
       "      <th>0</th>\n",
       "      <th>1</th>\n",
       "      <th>2</th>\n",
       "      <th>3</th>\n",
       "    </tr>\n",
       "  </thead>\n",
       "  <tbody>\n",
       "    <tr>\n",
       "      <th>0</th>\n",
       "      <td>Mia</td>\n",
       "      <td>23</td>\n",
       "      <td>\"Mamma@google.com\"</td>\n",
       "      <td>서울시 강북구</td>\n",
       "    </tr>\n",
       "    <tr>\n",
       "      <th>1</th>\n",
       "      <td>Dwayne</td>\n",
       "      <td>42</td>\n",
       "      <td>\"johnson@7dollars.com\"</td>\n",
       "      <td>서울시 마포구</td>\n",
       "    </tr>\n",
       "    <tr>\n",
       "      <th>2</th>\n",
       "      <td>Rachel</td>\n",
       "      <td>34</td>\n",
       "      <td>\"notebook@apple.com\"</td>\n",
       "      <td>서울시 금천구</td>\n",
       "    </tr>\n",
       "  </tbody>\n",
       "</table>\n",
       "</div>"
      ],
      "text/plain": [
       "        0   1                        2        3\n",
       "0     Mia  23       \"Mamma@google.com\"  서울시 강북구\n",
       "1  Dwayne  42   \"johnson@7dollars.com\"  서울시 마포구\n",
       "2  Rachel  34     \"notebook@apple.com\"  서울시 금천구"
      ]
     },
     "execution_count": 4,
     "metadata": {},
     "output_type": "execute_result"
    }
   ],
   "source": [
    "data = pd.read_csv('data/ch09_member1.csv', header=None)\n",
    "data"
   ]
  },
  {
   "cell_type": "code",
   "execution_count": 5,
   "id": "a876408f",
   "metadata": {
    "ExecuteTime": {
     "end_time": "2021-09-06T06:46:33.576468Z",
     "start_time": "2021-09-06T06:46:33.557491Z"
    }
   },
   "outputs": [
    {
     "data": {
      "text/html": [
       "<div>\n",
       "<style scoped>\n",
       "    .dataframe tbody tr th:only-of-type {\n",
       "        vertical-align: middle;\n",
       "    }\n",
       "\n",
       "    .dataframe tbody tr th {\n",
       "        vertical-align: top;\n",
       "    }\n",
       "\n",
       "    .dataframe thead th {\n",
       "        text-align: right;\n",
       "    }\n",
       "</style>\n",
       "<table border=\"1\" class=\"dataframe\">\n",
       "  <thead>\n",
       "    <tr style=\"text-align: right;\">\n",
       "      <th></th>\n",
       "      <th>name</th>\n",
       "      <th>age</th>\n",
       "      <th>email</th>\n",
       "      <th>address</th>\n",
       "    </tr>\n",
       "  </thead>\n",
       "  <tbody>\n",
       "    <tr>\n",
       "      <th>0</th>\n",
       "      <td>Mia</td>\n",
       "      <td>23</td>\n",
       "      <td>\"Mamma@google.com\"</td>\n",
       "      <td>서울시 강북구</td>\n",
       "    </tr>\n",
       "    <tr>\n",
       "      <th>1</th>\n",
       "      <td>Dwayne</td>\n",
       "      <td>42</td>\n",
       "      <td>\"johnson@7dollars.com\"</td>\n",
       "      <td>서울시 마포구</td>\n",
       "    </tr>\n",
       "    <tr>\n",
       "      <th>2</th>\n",
       "      <td>Rachel</td>\n",
       "      <td>34</td>\n",
       "      <td>\"notebook@apple.com\"</td>\n",
       "      <td>서울시 금천구</td>\n",
       "    </tr>\n",
       "  </tbody>\n",
       "</table>\n",
       "</div>"
      ],
      "text/plain": [
       "     name  age                    email  address\n",
       "0     Mia   23       \"Mamma@google.com\"  서울시 강북구\n",
       "1  Dwayne   42   \"johnson@7dollars.com\"  서울시 마포구\n",
       "2  Rachel   34     \"notebook@apple.com\"  서울시 금천구"
      ]
     },
     "execution_count": 5,
     "metadata": {},
     "output_type": "execute_result"
    }
   ],
   "source": [
    "data = pd.read_csv('data/ch09_member1.csv', header=None,\n",
    "                       names=['name','age','email','address'])\n",
    "data    # column names를 지정 #########################################\n",
    "        # 아래 pd.DataFrame에서는 columns = [ , , ]로 설정함"
   ]
  },
  {
   "cell_type": "code",
   "execution_count": 6,
   "id": "36685771",
   "metadata": {
    "ExecuteTime": {
     "end_time": "2021-09-06T06:46:43.917367Z",
     "start_time": "2021-09-06T06:46:42.502548Z"
    }
   },
   "outputs": [
    {
     "data": {
      "text/html": [
       "<div>\n",
       "<style scoped>\n",
       "    .dataframe tbody tr th:only-of-type {\n",
       "        vertical-align: middle;\n",
       "    }\n",
       "\n",
       "    .dataframe tbody tr th {\n",
       "        vertical-align: top;\n",
       "    }\n",
       "\n",
       "    .dataframe thead th {\n",
       "        text-align: right;\n",
       "    }\n",
       "</style>\n",
       "<table border=\"1\" class=\"dataframe\">\n",
       "  <thead>\n",
       "    <tr style=\"text-align: right;\">\n",
       "      <th></th>\n",
       "      <th>sepal_length</th>\n",
       "      <th>sepal_width</th>\n",
       "      <th>petal_length</th>\n",
       "      <th>petal_width</th>\n",
       "      <th>species</th>\n",
       "    </tr>\n",
       "  </thead>\n",
       "  <tbody>\n",
       "    <tr>\n",
       "      <th>0</th>\n",
       "      <td>5.1</td>\n",
       "      <td>3.5</td>\n",
       "      <td>1.4</td>\n",
       "      <td>0.2</td>\n",
       "      <td>setosa</td>\n",
       "    </tr>\n",
       "    <tr>\n",
       "      <th>1</th>\n",
       "      <td>4.9</td>\n",
       "      <td>3.0</td>\n",
       "      <td>1.4</td>\n",
       "      <td>0.2</td>\n",
       "      <td>setosa</td>\n",
       "    </tr>\n",
       "    <tr>\n",
       "      <th>2</th>\n",
       "      <td>4.7</td>\n",
       "      <td>3.2</td>\n",
       "      <td>1.3</td>\n",
       "      <td>0.2</td>\n",
       "      <td>setosa</td>\n",
       "    </tr>\n",
       "    <tr>\n",
       "      <th>3</th>\n",
       "      <td>4.6</td>\n",
       "      <td>3.1</td>\n",
       "      <td>1.5</td>\n",
       "      <td>0.2</td>\n",
       "      <td>setosa</td>\n",
       "    </tr>\n",
       "    <tr>\n",
       "      <th>4</th>\n",
       "      <td>5.0</td>\n",
       "      <td>3.6</td>\n",
       "      <td>1.4</td>\n",
       "      <td>0.2</td>\n",
       "      <td>setosa</td>\n",
       "    </tr>\n",
       "    <tr>\n",
       "      <th>...</th>\n",
       "      <td>...</td>\n",
       "      <td>...</td>\n",
       "      <td>...</td>\n",
       "      <td>...</td>\n",
       "      <td>...</td>\n",
       "    </tr>\n",
       "    <tr>\n",
       "      <th>145</th>\n",
       "      <td>6.7</td>\n",
       "      <td>3.0</td>\n",
       "      <td>5.2</td>\n",
       "      <td>2.3</td>\n",
       "      <td>virginica</td>\n",
       "    </tr>\n",
       "    <tr>\n",
       "      <th>146</th>\n",
       "      <td>6.3</td>\n",
       "      <td>2.5</td>\n",
       "      <td>5.0</td>\n",
       "      <td>1.9</td>\n",
       "      <td>virginica</td>\n",
       "    </tr>\n",
       "    <tr>\n",
       "      <th>147</th>\n",
       "      <td>6.5</td>\n",
       "      <td>3.0</td>\n",
       "      <td>5.2</td>\n",
       "      <td>2.0</td>\n",
       "      <td>virginica</td>\n",
       "    </tr>\n",
       "    <tr>\n",
       "      <th>148</th>\n",
       "      <td>6.2</td>\n",
       "      <td>3.4</td>\n",
       "      <td>5.4</td>\n",
       "      <td>2.3</td>\n",
       "      <td>virginica</td>\n",
       "    </tr>\n",
       "    <tr>\n",
       "      <th>149</th>\n",
       "      <td>5.9</td>\n",
       "      <td>3.0</td>\n",
       "      <td>5.1</td>\n",
       "      <td>1.8</td>\n",
       "      <td>virginica</td>\n",
       "    </tr>\n",
       "  </tbody>\n",
       "</table>\n",
       "<p>150 rows × 5 columns</p>\n",
       "</div>"
      ],
      "text/plain": [
       "     sepal_length  sepal_width  petal_length  petal_width    species\n",
       "0             5.1          3.5           1.4          0.2     setosa\n",
       "1             4.9          3.0           1.4          0.2     setosa\n",
       "2             4.7          3.2           1.3          0.2     setosa\n",
       "3             4.6          3.1           1.5          0.2     setosa\n",
       "4             5.0          3.6           1.4          0.2     setosa\n",
       "..            ...          ...           ...          ...        ...\n",
       "145           6.7          3.0           5.2          2.3  virginica\n",
       "146           6.3          2.5           5.0          1.9  virginica\n",
       "147           6.5          3.0           5.2          2.0  virginica\n",
       "148           6.2          3.4           5.4          2.3  virginica\n",
       "149           5.9          3.0           5.1          1.8  virginica\n",
       "\n",
       "[150 rows x 5 columns]"
      ]
     },
     "execution_count": 6,
     "metadata": {},
     "output_type": "execute_result"
    }
   ],
   "source": [
    "iris = pd.read_hdf('data/ch09_iris2.hdf5', key='iris')\n",
    "iris"
   ]
  },
  {
   "cell_type": "markdown",
   "id": "8b867cfd",
   "metadata": {},
   "source": [
    "# 2절. 데이터프레임 만들기"
   ]
  },
  {
   "cell_type": "markdown",
   "id": "d537f503",
   "metadata": {},
   "source": [
    "## 2.1 딕셔너리를 이용해서 데이터프레임 만들기"
   ]
  },
  {
   "cell_type": "code",
   "execution_count": 7,
   "id": "fd5b388a",
   "metadata": {
    "ExecuteTime": {
     "end_time": "2021-09-06T06:55:07.149238Z",
     "start_time": "2021-09-06T06:55:07.126282Z"
    }
   },
   "outputs": [
    {
     "data": {
      "text/html": [
       "<div>\n",
       "<style scoped>\n",
       "    .dataframe tbody tr th:only-of-type {\n",
       "        vertical-align: middle;\n",
       "    }\n",
       "\n",
       "    .dataframe tbody tr th {\n",
       "        vertical-align: top;\n",
       "    }\n",
       "\n",
       "    .dataframe thead th {\n",
       "        text-align: right;\n",
       "    }\n",
       "</style>\n",
       "<table border=\"1\" class=\"dataframe\">\n",
       "  <thead>\n",
       "    <tr style=\"text-align: right;\">\n",
       "      <th></th>\n",
       "      <th>kor</th>\n",
       "      <th>math</th>\n",
       "    </tr>\n",
       "  </thead>\n",
       "  <tbody>\n",
       "    <tr>\n",
       "      <th>0</th>\n",
       "      <td>80</td>\n",
       "      <td>87</td>\n",
       "    </tr>\n",
       "    <tr>\n",
       "      <th>1</th>\n",
       "      <td>78</td>\n",
       "      <td>94</td>\n",
       "    </tr>\n",
       "  </tbody>\n",
       "</table>\n",
       "</div>"
      ],
      "text/plain": [
       "   kor  math\n",
       "0   80    87\n",
       "1   78    94"
      ]
     },
     "execution_count": 7,
     "metadata": {},
     "output_type": "execute_result"
    }
   ],
   "source": [
    "# value가 list인 딕셔너리를 데이터프레임으로\n",
    "d = {'kor':[80,78], 'math':[87,94]}\n",
    "df = pd.DataFrame(data=d) # shift + tab + tab을 통해 각 함수에 대한 설명 확인할 것.\n",
    "df"
   ]
  },
  {
   "cell_type": "code",
   "execution_count": 8,
   "id": "843bd7dc",
   "metadata": {
    "ExecuteTime": {
     "end_time": "2021-09-06T06:55:23.043236Z",
     "start_time": "2021-09-06T06:55:23.030242Z"
    }
   },
   "outputs": [
    {
     "data": {
      "text/html": [
       "<div>\n",
       "<style scoped>\n",
       "    .dataframe tbody tr th:only-of-type {\n",
       "        vertical-align: middle;\n",
       "    }\n",
       "\n",
       "    .dataframe tbody tr th {\n",
       "        vertical-align: top;\n",
       "    }\n",
       "\n",
       "    .dataframe thead th {\n",
       "        text-align: right;\n",
       "    }\n",
       "</style>\n",
       "<table border=\"1\" class=\"dataframe\">\n",
       "  <thead>\n",
       "    <tr style=\"text-align: right;\">\n",
       "      <th></th>\n",
       "      <th>kor</th>\n",
       "      <th>math</th>\n",
       "    </tr>\n",
       "  </thead>\n",
       "  <tbody>\n",
       "    <tr>\n",
       "      <th>0</th>\n",
       "      <td>100</td>\n",
       "      <td>95</td>\n",
       "    </tr>\n",
       "    <tr>\n",
       "      <th>1</th>\n",
       "      <td>90</td>\n",
       "      <td>99</td>\n",
       "    </tr>\n",
       "  </tbody>\n",
       "</table>\n",
       "</div>"
      ],
      "text/plain": [
       "   kor  math\n",
       "0  100    95\n",
       "1   90    99"
      ]
     },
     "execution_count": 8,
     "metadata": {},
     "output_type": "execute_result"
    }
   ],
   "source": [
    "# 딕셔너리 리스트를 데이터 프레임으로\n",
    "d = [{'kor':100, 'math':95}, {'kor':90, 'math':99}]\n",
    "df = pd.DataFrame(data=d)\n",
    "df"
   ]
  },
  {
   "cell_type": "code",
   "execution_count": 9,
   "id": "fc759b89",
   "metadata": {
    "ExecuteTime": {
     "end_time": "2021-09-06T06:55:34.640351Z",
     "start_time": "2021-09-06T06:55:34.630378Z"
    }
   },
   "outputs": [
    {
     "data": {
      "text/html": [
       "<div>\n",
       "<style scoped>\n",
       "    .dataframe tbody tr th:only-of-type {\n",
       "        vertical-align: middle;\n",
       "    }\n",
       "\n",
       "    .dataframe tbody tr th {\n",
       "        vertical-align: top;\n",
       "    }\n",
       "\n",
       "    .dataframe thead th {\n",
       "        text-align: right;\n",
       "    }\n",
       "</style>\n",
       "<table border=\"1\" class=\"dataframe\">\n",
       "  <thead>\n",
       "    <tr style=\"text-align: right;\">\n",
       "      <th></th>\n",
       "      <th>kor</th>\n",
       "      <th>math</th>\n",
       "    </tr>\n",
       "  </thead>\n",
       "  <tbody>\n",
       "    <tr>\n",
       "      <th>0</th>\n",
       "      <td>100.0</td>\n",
       "      <td>95</td>\n",
       "    </tr>\n",
       "    <tr>\n",
       "      <th>1</th>\n",
       "      <td>90.0</td>\n",
       "      <td>99</td>\n",
       "    </tr>\n",
       "    <tr>\n",
       "      <th>2</th>\n",
       "      <td>NaN</td>\n",
       "      <td>88</td>\n",
       "    </tr>\n",
       "  </tbody>\n",
       "</table>\n",
       "</div>"
      ],
      "text/plain": [
       "     kor  math\n",
       "0  100.0    95\n",
       "1   90.0    99\n",
       "2    NaN    88"
      ]
     },
     "execution_count": 9,
     "metadata": {},
     "output_type": "execute_result"
    }
   ],
   "source": [
    "d = [{'kor':100, 'math':95}, {'kor':90, 'math':99},{'math':88}]\n",
    "df = pd.DataFrame(data=d)\n",
    "df\n",
    "# 모든 데이터의 key가 동일하지 않을 경우 : 입력값 누락, key값에의 오타 등이 발생 가능.\n",
    "# 결측치가 들어갈 경우 해당 데이터 key값들이 float으로 변경됨."
   ]
  },
  {
   "cell_type": "code",
   "execution_count": 14,
   "id": "b3750825",
   "metadata": {
    "ExecuteTime": {
     "end_time": "2021-09-06T07:21:49.526296Z",
     "start_time": "2021-09-06T07:21:49.509318Z"
    }
   },
   "outputs": [
    {
     "data": {
      "text/html": [
       "<div>\n",
       "<style scoped>\n",
       "    .dataframe tbody tr th:only-of-type {\n",
       "        vertical-align: middle;\n",
       "    }\n",
       "\n",
       "    .dataframe tbody tr th {\n",
       "        vertical-align: top;\n",
       "    }\n",
       "\n",
       "    .dataframe thead th {\n",
       "        text-align: right;\n",
       "    }\n",
       "</style>\n",
       "<table border=\"1\" class=\"dataframe\">\n",
       "  <thead>\n",
       "    <tr style=\"text-align: right;\">\n",
       "      <th></th>\n",
       "      <th>kor</th>\n",
       "      <th>mat</th>\n",
       "      <th>eng</th>\n",
       "    </tr>\n",
       "  </thead>\n",
       "  <tbody>\n",
       "    <tr>\n",
       "      <th>0</th>\n",
       "      <td>86.0</td>\n",
       "      <td>95.0</td>\n",
       "      <td>NaN</td>\n",
       "    </tr>\n",
       "    <tr>\n",
       "      <th>1</th>\n",
       "      <td>77.0</td>\n",
       "      <td>91.0</td>\n",
       "      <td>NaN</td>\n",
       "    </tr>\n",
       "    <tr>\n",
       "      <th>2</th>\n",
       "      <td>NaN</td>\n",
       "      <td>NaN</td>\n",
       "      <td>94.0</td>\n",
       "    </tr>\n",
       "  </tbody>\n",
       "</table>\n",
       "</div>"
      ],
      "text/plain": [
       "    kor   mat   eng\n",
       "0  86.0  95.0   NaN\n",
       "1  77.0  91.0   NaN\n",
       "2   NaN   NaN  94.0"
      ]
     },
     "execution_count": 14,
     "metadata": {},
     "output_type": "execute_result"
    }
   ],
   "source": [
    "d = [{'kor':86, 'mat': 95}, {'kor':77, 'mat':91},{'eng': 94}]\n",
    "df = pd.DataFrame(data=d)\n",
    "df"
   ]
  },
  {
   "cell_type": "code",
   "execution_count": 15,
   "id": "2212d1a0",
   "metadata": {
    "ExecuteTime": {
     "end_time": "2021-09-06T07:21:58.033480Z",
     "start_time": "2021-09-06T07:21:58.020487Z"
    }
   },
   "outputs": [
    {
     "data": {
      "text/plain": [
       "float"
      ]
     },
     "execution_count": 15,
     "metadata": {},
     "output_type": "execute_result"
    }
   ],
   "source": [
    "import numpy as np\n",
    "type(np.nan)"
   ]
  },
  {
   "cell_type": "markdown",
   "id": "ca3d01a3",
   "metadata": {
    "ExecuteTime": {
     "end_time": "2021-08-02T01:18:52.967091Z",
     "start_time": "2021-08-02T01:18:52.952130Z"
    }
   },
   "source": [
    "## 2.2 리스트를 이용해 데이터프레임 만들기"
   ]
  },
  {
   "cell_type": "code",
   "execution_count": 16,
   "id": "dbd2b43c",
   "metadata": {
    "ExecuteTime": {
     "end_time": "2021-09-06T07:22:27.375437Z",
     "start_time": "2021-09-06T07:22:27.365437Z"
    }
   },
   "outputs": [
    {
     "data": {
      "text/html": [
       "<div>\n",
       "<style scoped>\n",
       "    .dataframe tbody tr th:only-of-type {\n",
       "        vertical-align: middle;\n",
       "    }\n",
       "\n",
       "    .dataframe tbody tr th {\n",
       "        vertical-align: top;\n",
       "    }\n",
       "\n",
       "    .dataframe thead th {\n",
       "        text-align: right;\n",
       "    }\n",
       "</style>\n",
       "<table border=\"1\" class=\"dataframe\">\n",
       "  <thead>\n",
       "    <tr style=\"text-align: right;\">\n",
       "      <th></th>\n",
       "      <th>kor</th>\n",
       "      <th>math</th>\n",
       "    </tr>\n",
       "  </thead>\n",
       "  <tbody>\n",
       "    <tr>\n",
       "      <th>0</th>\n",
       "      <td>100</td>\n",
       "      <td>90</td>\n",
       "    </tr>\n",
       "    <tr>\n",
       "      <th>1</th>\n",
       "      <td>90</td>\n",
       "      <td>67</td>\n",
       "    </tr>\n",
       "    <tr>\n",
       "      <th>2</th>\n",
       "      <td>95</td>\n",
       "      <td>88</td>\n",
       "    </tr>\n",
       "    <tr>\n",
       "      <th>3</th>\n",
       "      <td>78</td>\n",
       "      <td>67</td>\n",
       "    </tr>\n",
       "    <tr>\n",
       "      <th>4</th>\n",
       "      <td>65</td>\n",
       "      <td>90</td>\n",
       "    </tr>\n",
       "  </tbody>\n",
       "</table>\n",
       "</div>"
      ],
      "text/plain": [
       "   kor  math\n",
       "0  100    90\n",
       "1   90    67\n",
       "2   95    88\n",
       "3   78    67\n",
       "4   65    90"
      ]
     },
     "execution_count": 16,
     "metadata": {},
     "output_type": "execute_result"
    }
   ],
   "source": [
    "# 방법1\n",
    "kor = [100,90,95,78,65]\n",
    "mat = [90,67,88,67,90]\n",
    "df = pd.DataFrame({'kor':kor, 'math':math})\n",
    "df"
   ]
  },
  {
   "cell_type": "code",
   "execution_count": 34,
   "id": "20a91448",
   "metadata": {
    "ExecuteTime": {
     "end_time": "2021-08-02T01:36:29.587222Z",
     "start_time": "2021-08-02T01:36:29.575255Z"
    }
   },
   "outputs": [
    {
     "data": {
      "text/plain": [
       "array([[100,  90],\n",
       "       [ 90,  67],\n",
       "       [ 95,  88],\n",
       "       [ 78,  67],\n",
       "       [ 65,  90]])"
      ]
     },
     "execution_count": 34,
     "metadata": {},
     "output_type": "execute_result"
    }
   ],
   "source": [
    "# 방법2\n",
    "import numpy as np\n",
    "np.c_[kor,math]\n",
    "    # In particular, arrays will be stacked along their last axis \n",
    "        # after being upgraded to at least 2-D with 1’s post-pended to the shape (column vectors made out of 1-D arrays)."
   ]
  },
  {
   "cell_type": "code",
   "execution_count": 13,
   "id": "555acc16",
   "metadata": {
    "ExecuteTime": {
     "end_time": "2021-09-06T07:12:27.925657Z",
     "start_time": "2021-09-06T07:12:27.909692Z"
    }
   },
   "outputs": [
    {
     "data": {
      "text/html": [
       "<div>\n",
       "<style scoped>\n",
       "    .dataframe tbody tr th:only-of-type {\n",
       "        vertical-align: middle;\n",
       "    }\n",
       "\n",
       "    .dataframe tbody tr th {\n",
       "        vertical-align: top;\n",
       "    }\n",
       "\n",
       "    .dataframe thead th {\n",
       "        text-align: right;\n",
       "    }\n",
       "</style>\n",
       "<table border=\"1\" class=\"dataframe\">\n",
       "  <thead>\n",
       "    <tr style=\"text-align: right;\">\n",
       "      <th></th>\n",
       "      <th>kor</th>\n",
       "      <th>math</th>\n",
       "    </tr>\n",
       "  </thead>\n",
       "  <tbody>\n",
       "    <tr>\n",
       "      <th>0</th>\n",
       "      <td>100</td>\n",
       "      <td>90</td>\n",
       "    </tr>\n",
       "    <tr>\n",
       "      <th>1</th>\n",
       "      <td>90</td>\n",
       "      <td>67</td>\n",
       "    </tr>\n",
       "    <tr>\n",
       "      <th>2</th>\n",
       "      <td>95</td>\n",
       "      <td>88</td>\n",
       "    </tr>\n",
       "    <tr>\n",
       "      <th>3</th>\n",
       "      <td>78</td>\n",
       "      <td>67</td>\n",
       "    </tr>\n",
       "    <tr>\n",
       "      <th>4</th>\n",
       "      <td>65</td>\n",
       "      <td>90</td>\n",
       "    </tr>\n",
       "  </tbody>\n",
       "</table>\n",
       "</div>"
      ],
      "text/plain": [
       "   kor  math\n",
       "0  100    90\n",
       "1   90    67\n",
       "2   95    88\n",
       "3   78    67\n",
       "4   65    90"
      ]
     },
     "execution_count": 13,
     "metadata": {},
     "output_type": "execute_result"
    }
   ],
   "source": [
    "df = pd.DataFrame(np.c_[kor, math], columns=['kor','math'])\n",
    "df                # columns명 설정하기! read_csv에서는 names=[ , , , ]였었음"
   ]
  },
  {
   "cell_type": "markdown",
   "id": "64a6fa8a",
   "metadata": {},
   "source": [
    "## 2.3 read_csv()"
   ]
  },
  {
   "cell_type": "code",
   "execution_count": 17,
   "id": "9a33f958",
   "metadata": {
    "ExecuteTime": {
     "end_time": "2021-09-06T07:27:51.098950Z",
     "start_time": "2021-09-06T07:27:51.065019Z"
    }
   },
   "outputs": [
    {
     "data": {
      "text/plain": [
       "(30, 8)"
      ]
     },
     "execution_count": 17,
     "metadata": {},
     "output_type": "execute_result"
    }
   ],
   "source": [
    "df = pd.read_csv('data/ch12_상가정보따라하기.csv', encoding='utf-8', sep='|')\n",
    "df.shape\n",
    "# 화면에 모두 뿌리기 전에 .shpae로 데이터의 크기를 확인\n",
    "# The sep Parameter \n",
    "# One of the optional parameters in read_csv() is sep, a shortened name for separator. \n",
    "    # This operator is the delimiter we talked about before. \n",
    "    # This sep parameter tells the interpreter, which delimiter is used in our dataset or in Layman’s term, \n",
    "    # how the data items are separated in our CSV file"
   ]
  },
  {
   "cell_type": "code",
   "execution_count": 19,
   "id": "2a9a4ae6",
   "metadata": {
    "ExecuteTime": {
     "end_time": "2021-09-06T07:28:17.625879Z",
     "start_time": "2021-09-06T07:28:11.429185Z"
    }
   },
   "outputs": [
    {
     "data": {
      "text/plain": [
       "(573680, 39)"
      ]
     },
     "execution_count": 19,
     "metadata": {},
     "output_type": "execute_result"
    }
   ],
   "source": [
    "df = pd.read_csv('D:/bigdata/download/shareBigData/상가업소정보_201912_01.csv', encoding = 'utf-8', sep='|', nrows=30) # 30행만 가져올 것\n",
    "df.shape"
   ]
  },
  {
   "cell_type": "code",
   "execution_count": 20,
   "id": "91831337",
   "metadata": {
    "ExecuteTime": {
     "end_time": "2021-09-06T07:29:29.239028Z",
     "start_time": "2021-09-06T07:29:29.213069Z"
    }
   },
   "outputs": [
    {
     "data": {
      "text/html": [
       "<div>\n",
       "<style scoped>\n",
       "    .dataframe tbody tr th:only-of-type {\n",
       "        vertical-align: middle;\n",
       "    }\n",
       "\n",
       "    .dataframe tbody tr th {\n",
       "        vertical-align: top;\n",
       "    }\n",
       "\n",
       "    .dataframe thead th {\n",
       "        text-align: right;\n",
       "    }\n",
       "</style>\n",
       "<table border=\"1\" class=\"dataframe\">\n",
       "  <thead>\n",
       "    <tr style=\"text-align: right;\">\n",
       "      <th></th>\n",
       "      <th>상가업소번호</th>\n",
       "      <th>상호명</th>\n",
       "      <th>지점명</th>\n",
       "      <th>상권업종대분류코드</th>\n",
       "      <th>상권업종대분류명</th>\n",
       "      <th>상권업종중분류코드</th>\n",
       "      <th>상권업종중분류명</th>\n",
       "      <th>상권업종소분류코드</th>\n",
       "      <th>상권업종소분류명</th>\n",
       "      <th>표준산업분류코드</th>\n",
       "      <th>...</th>\n",
       "      <th>건물관리번호</th>\n",
       "      <th>건물명</th>\n",
       "      <th>도로명주소</th>\n",
       "      <th>구우편번호</th>\n",
       "      <th>신우편번호</th>\n",
       "      <th>동정보</th>\n",
       "      <th>층정보</th>\n",
       "      <th>호정보</th>\n",
       "      <th>경도</th>\n",
       "      <th>위도</th>\n",
       "    </tr>\n",
       "  </thead>\n",
       "  <tbody>\n",
       "    <tr>\n",
       "      <th>0</th>\n",
       "      <td>19905471</td>\n",
       "      <td>와라와라호프</td>\n",
       "      <td>NaN</td>\n",
       "      <td>Q</td>\n",
       "      <td>음식</td>\n",
       "      <td>Q09</td>\n",
       "      <td>유흥주점</td>\n",
       "      <td>Q09A01</td>\n",
       "      <td>호프/맥주</td>\n",
       "      <td>I56219</td>\n",
       "      <td>...</td>\n",
       "      <td>1168010600106040000014378</td>\n",
       "      <td>대치상가</td>\n",
       "      <td>서울특별시 강남구 남부순환로 2933</td>\n",
       "      <td>135280</td>\n",
       "      <td>6280.0</td>\n",
       "      <td>NaN</td>\n",
       "      <td>1</td>\n",
       "      <td>NaN</td>\n",
       "      <td>127.061026</td>\n",
       "      <td>37.493922</td>\n",
       "    </tr>\n",
       "  </tbody>\n",
       "</table>\n",
       "<p>1 rows × 39 columns</p>\n",
       "</div>"
      ],
      "text/plain": [
       "     상가업소번호     상호명  지점명 상권업종대분류코드 상권업종대분류명 상권업종중분류코드 상권업종중분류명 상권업종소분류코드  \\\n",
       "0  19905471  와라와라호프  NaN         Q       음식       Q09     유흥주점    Q09A01   \n",
       "\n",
       "  상권업종소분류명 표준산업분류코드  ...                     건물관리번호   건물명  \\\n",
       "0    호프/맥주   I56219  ...  1168010600106040000014378  대치상가   \n",
       "\n",
       "                  도로명주소   구우편번호   신우편번호  동정보 층정보  호정보          경도         위도  \n",
       "0  서울특별시 강남구 남부순환로 2933  135280  6280.0  NaN   1  NaN  127.061026  37.493922  \n",
       "\n",
       "[1 rows x 39 columns]"
      ]
     },
     "execution_count": 20,
     "metadata": {},
     "output_type": "execute_result"
    }
   ],
   "source": [
    "# head로 보기\n",
    "df.head(1)"
   ]
  },
  {
   "cell_type": "code",
   "execution_count": 21,
   "id": "e1f5e234",
   "metadata": {
    "ExecuteTime": {
     "end_time": "2021-09-06T07:29:32.926198Z",
     "start_time": "2021-09-06T07:29:32.901266Z"
    }
   },
   "outputs": [
    {
     "data": {
      "text/html": [
       "<div>\n",
       "<style scoped>\n",
       "    .dataframe tbody tr th:only-of-type {\n",
       "        vertical-align: middle;\n",
       "    }\n",
       "\n",
       "    .dataframe tbody tr th {\n",
       "        vertical-align: top;\n",
       "    }\n",
       "\n",
       "    .dataframe thead th {\n",
       "        text-align: right;\n",
       "    }\n",
       "</style>\n",
       "<table border=\"1\" class=\"dataframe\">\n",
       "  <thead>\n",
       "    <tr style=\"text-align: right;\">\n",
       "      <th></th>\n",
       "      <th>0</th>\n",
       "      <th>1</th>\n",
       "      <th>2</th>\n",
       "      <th>3</th>\n",
       "      <th>4</th>\n",
       "    </tr>\n",
       "  </thead>\n",
       "  <tbody>\n",
       "    <tr>\n",
       "      <th>상가업소번호</th>\n",
       "      <td>19905471</td>\n",
       "      <td>19911397</td>\n",
       "      <td>19911801</td>\n",
       "      <td>19912201</td>\n",
       "      <td>19932756</td>\n",
       "    </tr>\n",
       "    <tr>\n",
       "      <th>상호명</th>\n",
       "      <td>와라와라호프</td>\n",
       "      <td>커피빈코리아선릉로93길점</td>\n",
       "      <td>프로포즈</td>\n",
       "      <td>싱싱커피&amp;토스트</td>\n",
       "      <td>가락사우나내스낵</td>\n",
       "    </tr>\n",
       "    <tr>\n",
       "      <th>지점명</th>\n",
       "      <td>NaN</td>\n",
       "      <td>코리아선릉로93길점</td>\n",
       "      <td>NaN</td>\n",
       "      <td>NaN</td>\n",
       "      <td>NaN</td>\n",
       "    </tr>\n",
       "    <tr>\n",
       "      <th>상권업종대분류코드</th>\n",
       "      <td>Q</td>\n",
       "      <td>Q</td>\n",
       "      <td>Q</td>\n",
       "      <td>Q</td>\n",
       "      <td>F</td>\n",
       "    </tr>\n",
       "    <tr>\n",
       "      <th>상권업종대분류명</th>\n",
       "      <td>음식</td>\n",
       "      <td>음식</td>\n",
       "      <td>음식</td>\n",
       "      <td>음식</td>\n",
       "      <td>생활서비스</td>\n",
       "    </tr>\n",
       "    <tr>\n",
       "      <th>상권업종중분류코드</th>\n",
       "      <td>Q09</td>\n",
       "      <td>Q12</td>\n",
       "      <td>Q09</td>\n",
       "      <td>Q07</td>\n",
       "      <td>F09</td>\n",
       "    </tr>\n",
       "    <tr>\n",
       "      <th>상권업종중분류명</th>\n",
       "      <td>유흥주점</td>\n",
       "      <td>커피점/카페</td>\n",
       "      <td>유흥주점</td>\n",
       "      <td>패스트푸드</td>\n",
       "      <td>대중목욕탕/휴게</td>\n",
       "    </tr>\n",
       "    <tr>\n",
       "      <th>상권업종소분류코드</th>\n",
       "      <td>Q09A01</td>\n",
       "      <td>Q12A01</td>\n",
       "      <td>Q09A01</td>\n",
       "      <td>Q07A10</td>\n",
       "      <td>F09A02</td>\n",
       "    </tr>\n",
       "    <tr>\n",
       "      <th>상권업종소분류명</th>\n",
       "      <td>호프/맥주</td>\n",
       "      <td>커피전문점/카페/다방</td>\n",
       "      <td>호프/맥주</td>\n",
       "      <td>토스트전문</td>\n",
       "      <td>사우나/증기탕/온천</td>\n",
       "    </tr>\n",
       "    <tr>\n",
       "      <th>표준산업분류코드</th>\n",
       "      <td>I56219</td>\n",
       "      <td>I56220</td>\n",
       "      <td>I56219</td>\n",
       "      <td>I56192</td>\n",
       "      <td>S96121</td>\n",
       "    </tr>\n",
       "    <tr>\n",
       "      <th>표준산업분류명</th>\n",
       "      <td>기타 주점업</td>\n",
       "      <td>비알콜 음료점업</td>\n",
       "      <td>기타 주점업</td>\n",
       "      <td>피자, 햄버거, 샌드위치 및 유사 음식점업</td>\n",
       "      <td>욕탕업</td>\n",
       "    </tr>\n",
       "    <tr>\n",
       "      <th>시도코드</th>\n",
       "      <td>11</td>\n",
       "      <td>11</td>\n",
       "      <td>11</td>\n",
       "      <td>26</td>\n",
       "      <td>11</td>\n",
       "    </tr>\n",
       "    <tr>\n",
       "      <th>시도명</th>\n",
       "      <td>서울특별시</td>\n",
       "      <td>서울특별시</td>\n",
       "      <td>서울특별시</td>\n",
       "      <td>부산광역시</td>\n",
       "      <td>서울특별시</td>\n",
       "    </tr>\n",
       "    <tr>\n",
       "      <th>시군구코드</th>\n",
       "      <td>11680</td>\n",
       "      <td>11680</td>\n",
       "      <td>11545</td>\n",
       "      <td>26530</td>\n",
       "      <td>11710</td>\n",
       "    </tr>\n",
       "    <tr>\n",
       "      <th>시군구명</th>\n",
       "      <td>강남구</td>\n",
       "      <td>강남구</td>\n",
       "      <td>금천구</td>\n",
       "      <td>사상구</td>\n",
       "      <td>송파구</td>\n",
       "    </tr>\n",
       "    <tr>\n",
       "      <th>행정동코드</th>\n",
       "      <td>1168060000</td>\n",
       "      <td>1168064000</td>\n",
       "      <td>1154563000</td>\n",
       "      <td>2653062000</td>\n",
       "      <td>1171060000</td>\n",
       "    </tr>\n",
       "    <tr>\n",
       "      <th>행정동명</th>\n",
       "      <td>대치1동</td>\n",
       "      <td>역삼1동</td>\n",
       "      <td>독산3동</td>\n",
       "      <td>괘법동</td>\n",
       "      <td>석촌동</td>\n",
       "    </tr>\n",
       "    <tr>\n",
       "      <th>법정동코드</th>\n",
       "      <td>1168010600</td>\n",
       "      <td>1168010100</td>\n",
       "      <td>1154510200</td>\n",
       "      <td>2653010400</td>\n",
       "      <td>1171010500</td>\n",
       "    </tr>\n",
       "    <tr>\n",
       "      <th>법정동명</th>\n",
       "      <td>대치동</td>\n",
       "      <td>역삼동</td>\n",
       "      <td>독산동</td>\n",
       "      <td>괘법동</td>\n",
       "      <td>석촌동</td>\n",
       "    </tr>\n",
       "    <tr>\n",
       "      <th>지번코드</th>\n",
       "      <td>1168010600206040000</td>\n",
       "      <td>1168010100206960042</td>\n",
       "      <td>1154510200201620001</td>\n",
       "      <td>2653010400205780000</td>\n",
       "      <td>1171010500202560000</td>\n",
       "    </tr>\n",
       "    <tr>\n",
       "      <th>대지구분코드</th>\n",
       "      <td>1</td>\n",
       "      <td>1</td>\n",
       "      <td>1</td>\n",
       "      <td>1</td>\n",
       "      <td>1</td>\n",
       "    </tr>\n",
       "    <tr>\n",
       "      <th>대지구분명</th>\n",
       "      <td>대지</td>\n",
       "      <td>대지</td>\n",
       "      <td>대지</td>\n",
       "      <td>대지</td>\n",
       "      <td>대지</td>\n",
       "    </tr>\n",
       "    <tr>\n",
       "      <th>지번본번지</th>\n",
       "      <td>604</td>\n",
       "      <td>696</td>\n",
       "      <td>162</td>\n",
       "      <td>578</td>\n",
       "      <td>256</td>\n",
       "    </tr>\n",
       "    <tr>\n",
       "      <th>지번부번지</th>\n",
       "      <td>NaN</td>\n",
       "      <td>42.0</td>\n",
       "      <td>1.0</td>\n",
       "      <td>NaN</td>\n",
       "      <td>NaN</td>\n",
       "    </tr>\n",
       "    <tr>\n",
       "      <th>지번주소</th>\n",
       "      <td>서울특별시 강남구 대치동 604</td>\n",
       "      <td>서울특별시 강남구 역삼동 696-42</td>\n",
       "      <td>서울특별시 금천구 독산동 162-1</td>\n",
       "      <td>부산광역시 사상구 괘법동 578</td>\n",
       "      <td>서울특별시 송파구 석촌동 256</td>\n",
       "    </tr>\n",
       "    <tr>\n",
       "      <th>도로명코드</th>\n",
       "      <td>116802000003</td>\n",
       "      <td>116804166502</td>\n",
       "      <td>115453117003</td>\n",
       "      <td>265303139004</td>\n",
       "      <td>117103123001</td>\n",
       "    </tr>\n",
       "    <tr>\n",
       "      <th>도로명</th>\n",
       "      <td>서울특별시 강남구 남부순환로</td>\n",
       "      <td>서울특별시 강남구 선릉로93길</td>\n",
       "      <td>서울특별시 금천구 가산로</td>\n",
       "      <td>부산광역시 사상구 괘감로</td>\n",
       "      <td>서울특별시 송파구 가락로</td>\n",
       "    </tr>\n",
       "    <tr>\n",
       "      <th>건물본번지</th>\n",
       "      <td>2933</td>\n",
       "      <td>6</td>\n",
       "      <td>34</td>\n",
       "      <td>37</td>\n",
       "      <td>71</td>\n",
       "    </tr>\n",
       "    <tr>\n",
       "      <th>건물부번지</th>\n",
       "      <td>NaN</td>\n",
       "      <td>NaN</td>\n",
       "      <td>6.0</td>\n",
       "      <td>NaN</td>\n",
       "      <td>NaN</td>\n",
       "    </tr>\n",
       "    <tr>\n",
       "      <th>건물관리번호</th>\n",
       "      <td>1168010600106040000014378</td>\n",
       "      <td>1168010100106960042022041</td>\n",
       "      <td>1154510200101620001017748</td>\n",
       "      <td>2653010400105780000002037</td>\n",
       "      <td>1171010500102560005010490</td>\n",
       "    </tr>\n",
       "    <tr>\n",
       "      <th>건물명</th>\n",
       "      <td>대치상가</td>\n",
       "      <td>NaN</td>\n",
       "      <td>NaN</td>\n",
       "      <td>산업용품유통상가</td>\n",
       "      <td>NaN</td>\n",
       "    </tr>\n",
       "    <tr>\n",
       "      <th>도로명주소</th>\n",
       "      <td>서울특별시 강남구 남부순환로 2933</td>\n",
       "      <td>서울특별시 강남구 선릉로93길 6</td>\n",
       "      <td>서울특별시 금천구 가산로 34-6</td>\n",
       "      <td>부산광역시 사상구 괘감로 37</td>\n",
       "      <td>서울특별시 송파구 가락로 71</td>\n",
       "    </tr>\n",
       "    <tr>\n",
       "      <th>구우편번호</th>\n",
       "      <td>135280</td>\n",
       "      <td>135080</td>\n",
       "      <td>153010</td>\n",
       "      <td>617726</td>\n",
       "      <td>138846</td>\n",
       "    </tr>\n",
       "    <tr>\n",
       "      <th>신우편번호</th>\n",
       "      <td>6280.0</td>\n",
       "      <td>6149.0</td>\n",
       "      <td>8545.0</td>\n",
       "      <td>46977.0</td>\n",
       "      <td>5690.0</td>\n",
       "    </tr>\n",
       "    <tr>\n",
       "      <th>동정보</th>\n",
       "      <td>NaN</td>\n",
       "      <td>NaN</td>\n",
       "      <td>NaN</td>\n",
       "      <td>NaN</td>\n",
       "      <td>NaN</td>\n",
       "    </tr>\n",
       "    <tr>\n",
       "      <th>층정보</th>\n",
       "      <td>1</td>\n",
       "      <td>1</td>\n",
       "      <td>1</td>\n",
       "      <td>1</td>\n",
       "      <td>1</td>\n",
       "    </tr>\n",
       "    <tr>\n",
       "      <th>호정보</th>\n",
       "      <td>NaN</td>\n",
       "      <td>NaN</td>\n",
       "      <td>NaN</td>\n",
       "      <td>26</td>\n",
       "      <td>NaN</td>\n",
       "    </tr>\n",
       "    <tr>\n",
       "      <th>경도</th>\n",
       "      <td>127.061026</td>\n",
       "      <td>127.047883</td>\n",
       "      <td>126.89922</td>\n",
       "      <td>128.980455</td>\n",
       "      <td>127.104071</td>\n",
       "    </tr>\n",
       "    <tr>\n",
       "      <th>위도</th>\n",
       "      <td>37.493922</td>\n",
       "      <td>37.505675</td>\n",
       "      <td>37.471711</td>\n",
       "      <td>35.159774</td>\n",
       "      <td>37.500249</td>\n",
       "    </tr>\n",
       "  </tbody>\n",
       "</table>\n",
       "</div>"
      ],
      "text/plain": [
       "                                   0                          1  \\\n",
       "상가업소번호                      19905471                   19911397   \n",
       "상호명                           와라와라호프              커피빈코리아선릉로93길점   \n",
       "지점명                              NaN                 코리아선릉로93길점   \n",
       "상권업종대분류코드                          Q                          Q   \n",
       "상권업종대분류명                          음식                         음식   \n",
       "상권업종중분류코드                        Q09                        Q12   \n",
       "상권업종중분류명                        유흥주점                     커피점/카페   \n",
       "상권업종소분류코드                     Q09A01                     Q12A01   \n",
       "상권업종소분류명                       호프/맥주                커피전문점/카페/다방   \n",
       "표준산업분류코드                      I56219                     I56220   \n",
       "표준산업분류명                       기타 주점업                   비알콜 음료점업   \n",
       "시도코드                              11                         11   \n",
       "시도명                            서울특별시                      서울특별시   \n",
       "시군구코드                          11680                      11680   \n",
       "시군구명                             강남구                        강남구   \n",
       "행정동코드                     1168060000                 1168064000   \n",
       "행정동명                            대치1동                       역삼1동   \n",
       "법정동코드                     1168010600                 1168010100   \n",
       "법정동명                             대치동                        역삼동   \n",
       "지번코드             1168010600206040000        1168010100206960042   \n",
       "대지구분코드                             1                          1   \n",
       "대지구분명                             대지                         대지   \n",
       "지번본번지                            604                        696   \n",
       "지번부번지                            NaN                       42.0   \n",
       "지번주소               서울특별시 강남구 대치동 604       서울특별시 강남구 역삼동 696-42   \n",
       "도로명코드                   116802000003               116804166502   \n",
       "도로명                  서울특별시 강남구 남부순환로           서울특별시 강남구 선릉로93길   \n",
       "건물본번지                           2933                          6   \n",
       "건물부번지                            NaN                        NaN   \n",
       "건물관리번호     1168010600106040000014378  1168010100106960042022041   \n",
       "건물명                             대치상가                        NaN   \n",
       "도로명주소           서울특별시 강남구 남부순환로 2933         서울특별시 강남구 선릉로93길 6   \n",
       "구우편번호                         135280                     135080   \n",
       "신우편번호                         6280.0                     6149.0   \n",
       "동정보                              NaN                        NaN   \n",
       "층정보                                1                          1   \n",
       "호정보                              NaN                        NaN   \n",
       "경도                        127.061026                 127.047883   \n",
       "위도                         37.493922                  37.505675   \n",
       "\n",
       "                                   2                          3  \\\n",
       "상가업소번호                      19911801                   19912201   \n",
       "상호명                             프로포즈                   싱싱커피&토스트   \n",
       "지점명                              NaN                        NaN   \n",
       "상권업종대분류코드                          Q                          Q   \n",
       "상권업종대분류명                          음식                         음식   \n",
       "상권업종중분류코드                        Q09                        Q07   \n",
       "상권업종중분류명                        유흥주점                      패스트푸드   \n",
       "상권업종소분류코드                     Q09A01                     Q07A10   \n",
       "상권업종소분류명                       호프/맥주                      토스트전문   \n",
       "표준산업분류코드                      I56219                     I56192   \n",
       "표준산업분류명                       기타 주점업    피자, 햄버거, 샌드위치 및 유사 음식점업   \n",
       "시도코드                              11                         26   \n",
       "시도명                            서울특별시                      부산광역시   \n",
       "시군구코드                          11545                      26530   \n",
       "시군구명                             금천구                        사상구   \n",
       "행정동코드                     1154563000                 2653062000   \n",
       "행정동명                            독산3동                        괘법동   \n",
       "법정동코드                     1154510200                 2653010400   \n",
       "법정동명                             독산동                        괘법동   \n",
       "지번코드             1154510200201620001        2653010400205780000   \n",
       "대지구분코드                             1                          1   \n",
       "대지구분명                             대지                         대지   \n",
       "지번본번지                            162                        578   \n",
       "지번부번지                            1.0                        NaN   \n",
       "지번주소             서울특별시 금천구 독산동 162-1          부산광역시 사상구 괘법동 578   \n",
       "도로명코드                   115453117003               265303139004   \n",
       "도로명                    서울특별시 금천구 가산로              부산광역시 사상구 괘감로   \n",
       "건물본번지                             34                         37   \n",
       "건물부번지                            6.0                        NaN   \n",
       "건물관리번호     1154510200101620001017748  2653010400105780000002037   \n",
       "건물명                              NaN                   산업용품유통상가   \n",
       "도로명주소             서울특별시 금천구 가산로 34-6           부산광역시 사상구 괘감로 37   \n",
       "구우편번호                         153010                     617726   \n",
       "신우편번호                         8545.0                    46977.0   \n",
       "동정보                              NaN                        NaN   \n",
       "층정보                                1                          1   \n",
       "호정보                              NaN                         26   \n",
       "경도                         126.89922                 128.980455   \n",
       "위도                         37.471711                  35.159774   \n",
       "\n",
       "                                   4  \n",
       "상가업소번호                      19932756  \n",
       "상호명                         가락사우나내스낵  \n",
       "지점명                              NaN  \n",
       "상권업종대분류코드                          F  \n",
       "상권업종대분류명                       생활서비스  \n",
       "상권업종중분류코드                        F09  \n",
       "상권업종중분류명                    대중목욕탕/휴게  \n",
       "상권업종소분류코드                     F09A02  \n",
       "상권업종소분류명                  사우나/증기탕/온천  \n",
       "표준산업분류코드                      S96121  \n",
       "표준산업분류명                          욕탕업  \n",
       "시도코드                              11  \n",
       "시도명                            서울특별시  \n",
       "시군구코드                          11710  \n",
       "시군구명                             송파구  \n",
       "행정동코드                     1171060000  \n",
       "행정동명                             석촌동  \n",
       "법정동코드                     1171010500  \n",
       "법정동명                             석촌동  \n",
       "지번코드             1171010500202560000  \n",
       "대지구분코드                             1  \n",
       "대지구분명                             대지  \n",
       "지번본번지                            256  \n",
       "지번부번지                            NaN  \n",
       "지번주소               서울특별시 송파구 석촌동 256  \n",
       "도로명코드                   117103123001  \n",
       "도로명                    서울특별시 송파구 가락로  \n",
       "건물본번지                             71  \n",
       "건물부번지                            NaN  \n",
       "건물관리번호     1171010500102560005010490  \n",
       "건물명                              NaN  \n",
       "도로명주소               서울특별시 송파구 가락로 71  \n",
       "구우편번호                         138846  \n",
       "신우편번호                         5690.0  \n",
       "동정보                              NaN  \n",
       "층정보                                1  \n",
       "호정보                              NaN  \n",
       "경도                        127.104071  \n",
       "위도                         37.500249  "
      ]
     },
     "execution_count": 21,
     "metadata": {},
     "output_type": "execute_result"
    }
   ],
   "source": [
    "df.head().T\n",
    "df.head().transpose() # 행과 열을 교환"
   ]
  },
  {
   "cell_type": "code",
   "execution_count": null,
   "id": "4798e39b",
   "metadata": {},
   "outputs": [],
   "source": [
    "'''\n",
    "판다스 디스플레이 옵션\n",
    "pd.options.display.max_columns = 숫자\n",
    "pd.options.display.max_rows = 숫자\n",
    "로 최대 표현가능 행/열 수에 대한 설정을 바꿀 수 있음\n",
    "'''"
   ]
  },
  {
   "cell_type": "code",
   "execution_count": 22,
   "id": "a62e785d",
   "metadata": {
    "ExecuteTime": {
     "end_time": "2021-09-06T07:36:29.563834Z",
     "start_time": "2021-09-06T07:36:29.540896Z"
    }
   },
   "outputs": [
    {
     "data": {
      "text/html": [
       "<div>\n",
       "<style scoped>\n",
       "    .dataframe tbody tr th:only-of-type {\n",
       "        vertical-align: middle;\n",
       "    }\n",
       "\n",
       "    .dataframe tbody tr th {\n",
       "        vertical-align: top;\n",
       "    }\n",
       "\n",
       "    .dataframe thead th {\n",
       "        text-align: right;\n",
       "    }\n",
       "</style>\n",
       "<table border=\"1\" class=\"dataframe\">\n",
       "  <thead>\n",
       "    <tr style=\"text-align: right;\">\n",
       "      <th></th>\n",
       "      <th>Name</th>\n",
       "      <th>Age</th>\n",
       "      <th>Email</th>\n",
       "      <th>Address</th>\n",
       "    </tr>\n",
       "  </thead>\n",
       "  <tbody>\n",
       "    <tr>\n",
       "      <th>0</th>\n",
       "      <td>심권호</td>\n",
       "      <td>31</td>\n",
       "      <td>Kownho@sim.co.kr</td>\n",
       "      <td>경기도 용인시</td>\n",
       "    </tr>\n",
       "    <tr>\n",
       "      <th>1</th>\n",
       "      <td>김연아</td>\n",
       "      <td>32</td>\n",
       "      <td>Yuna@queen.com</td>\n",
       "      <td>세종시</td>\n",
       "    </tr>\n",
       "    <tr>\n",
       "      <th>2</th>\n",
       "      <td>추신수</td>\n",
       "      <td>41</td>\n",
       "      <td>Shinsoo@choo.net</td>\n",
       "      <td>인천시 중구</td>\n",
       "    </tr>\n",
       "    <tr>\n",
       "      <th>3</th>\n",
       "      <td>아이유</td>\n",
       "      <td>27</td>\n",
       "      <td>jieun@lee.com</td>\n",
       "      <td>부산시 강서구</td>\n",
       "    </tr>\n",
       "    <tr>\n",
       "      <th>4</th>\n",
       "      <td>#홍길동</td>\n",
       "      <td>44</td>\n",
       "      <td>Gildong@hong.com</td>\n",
       "      <td>강원도 없는구</td>\n",
       "    </tr>\n",
       "  </tbody>\n",
       "</table>\n",
       "</div>"
      ],
      "text/plain": [
       "   Name   Age              Email   Address\n",
       "0   심권호    31   Kownho@sim.co.kr   경기도 용인시\n",
       "1   김연아    32     Yuna@queen.com       세종시\n",
       "2   추신수    41   Shinsoo@choo.net    인천시 중구\n",
       "3   아이유    27      jieun@lee.com   부산시 강서구\n",
       "4  #홍길동    44   Gildong@hong.com   강원도 없는구"
      ]
     },
     "execution_count": 22,
     "metadata": {},
     "output_type": "execute_result"
    }
   ],
   "source": [
    "# (1) CSV파일 불러오기\n",
    "member_df = pd.read_csv('data/ch12_member(8.2).csv',encoding='UTF-8', sep=',')\n",
    "member_df"
   ]
  },
  {
   "cell_type": "code",
   "execution_count": 23,
   "id": "147cec0d",
   "metadata": {
    "ExecuteTime": {
     "end_time": "2021-09-06T07:36:32.232937Z",
     "start_time": "2021-09-06T07:36:32.212963Z"
    }
   },
   "outputs": [
    {
     "data": {
      "text/html": [
       "<div>\n",
       "<style scoped>\n",
       "    .dataframe tbody tr th:only-of-type {\n",
       "        vertical-align: middle;\n",
       "    }\n",
       "\n",
       "    .dataframe tbody tr th {\n",
       "        vertical-align: top;\n",
       "    }\n",
       "\n",
       "    .dataframe thead th {\n",
       "        text-align: right;\n",
       "    }\n",
       "</style>\n",
       "<table border=\"1\" class=\"dataframe\">\n",
       "  <thead>\n",
       "    <tr style=\"text-align: right;\">\n",
       "      <th></th>\n",
       "      <th>Name</th>\n",
       "      <th>Age</th>\n",
       "      <th>Email</th>\n",
       "      <th>Address</th>\n",
       "    </tr>\n",
       "  </thead>\n",
       "  <tbody>\n",
       "    <tr>\n",
       "      <th>0</th>\n",
       "      <td>김연아</td>\n",
       "      <td>32</td>\n",
       "      <td>Yuna@queen.com</td>\n",
       "      <td>세종시</td>\n",
       "    </tr>\n",
       "    <tr>\n",
       "      <th>1</th>\n",
       "      <td>아이유</td>\n",
       "      <td>27</td>\n",
       "      <td>jieun@lee.com</td>\n",
       "      <td>부산시 강서구</td>\n",
       "    </tr>\n",
       "    <tr>\n",
       "      <th>2</th>\n",
       "      <td>#홍길동</td>\n",
       "      <td>44</td>\n",
       "      <td>Gildong@hong.com</td>\n",
       "      <td>강원도 없는구</td>\n",
       "    </tr>\n",
       "  </tbody>\n",
       "</table>\n",
       "</div>"
      ],
      "text/plain": [
       "   Name   Age              Email   Address\n",
       "0   김연아    32     Yuna@queen.com       세종시\n",
       "1   아이유    27      jieun@lee.com   부산시 강서구\n",
       "2  #홍길동    44   Gildong@hong.com   강원도 없는구"
      ]
     },
     "execution_count": 23,
     "metadata": {},
     "output_type": "execute_result"
    }
   ],
   "source": [
    "# (2) 특정행 제외하기\n",
    "member_df = pd.read_csv('data/ch12_member(8.2).csv', sep=',', skiprows=[1,3])\n",
    "member_df"
   ]
  },
  {
   "cell_type": "code",
   "execution_count": 24,
   "id": "5e78e9a1",
   "metadata": {
    "ExecuteTime": {
     "end_time": "2021-09-06T07:42:19.707769Z",
     "start_time": "2021-09-06T07:42:19.684824Z"
    }
   },
   "outputs": [
    {
     "data": {
      "text/html": [
       "<div>\n",
       "<style scoped>\n",
       "    .dataframe tbody tr th:only-of-type {\n",
       "        vertical-align: middle;\n",
       "    }\n",
       "\n",
       "    .dataframe tbody tr th {\n",
       "        vertical-align: top;\n",
       "    }\n",
       "\n",
       "    .dataframe thead th {\n",
       "        text-align: right;\n",
       "    }\n",
       "</style>\n",
       "<table border=\"1\" class=\"dataframe\">\n",
       "  <thead>\n",
       "    <tr style=\"text-align: right;\">\n",
       "      <th></th>\n",
       "      <th>Name</th>\n",
       "      <th>Age</th>\n",
       "      <th>Email</th>\n",
       "      <th>Address</th>\n",
       "    </tr>\n",
       "  </thead>\n",
       "  <tbody>\n",
       "    <tr>\n",
       "      <th>0</th>\n",
       "      <td>심권호</td>\n",
       "      <td>31</td>\n",
       "      <td>Kownho@sim.co.kr</td>\n",
       "      <td>경기도 용인시</td>\n",
       "    </tr>\n",
       "    <tr>\n",
       "      <th>1</th>\n",
       "      <td>김연아</td>\n",
       "      <td>32</td>\n",
       "      <td>Yuna@queen.com</td>\n",
       "      <td>세종시</td>\n",
       "    </tr>\n",
       "    <tr>\n",
       "      <th>2</th>\n",
       "      <td>추신수</td>\n",
       "      <td>41</td>\n",
       "      <td>Shinsoo@choo.net</td>\n",
       "      <td>인천시 중구</td>\n",
       "    </tr>\n",
       "  </tbody>\n",
       "</table>\n",
       "</div>"
      ],
      "text/plain": [
       "  Name   Age              Email   Address\n",
       "0  심권호    31   Kownho@sim.co.kr   경기도 용인시\n",
       "1  김연아    32     Yuna@queen.com       세종시\n",
       "2  추신수    41   Shinsoo@choo.net    인천시 중구"
      ]
     },
     "execution_count": 24,
     "metadata": {},
     "output_type": "execute_result"
    }
   ],
   "source": [
    "member_df = pd.read_csv('data/ch12_member(8.2).csv', sep=',', nrows=3)\n",
    "member_df\n",
    "# 처음 10000 행을 가져올 것 등의 명령\n",
    "# 보다 보편적으로는 조건을 부여하여 원하는 데이터만 추출. eg) 주소가 서울인 경우..."
   ]
  },
  {
   "cell_type": "code",
   "execution_count": 25,
   "id": "14d318d2",
   "metadata": {
    "ExecuteTime": {
     "end_time": "2021-09-06T07:42:56.140669Z",
     "start_time": "2021-09-06T07:42:56.117732Z"
    }
   },
   "outputs": [
    {
     "data": {
      "text/html": [
       "<div>\n",
       "<style scoped>\n",
       "    .dataframe tbody tr th:only-of-type {\n",
       "        vertical-align: middle;\n",
       "    }\n",
       "\n",
       "    .dataframe tbody tr th {\n",
       "        vertical-align: top;\n",
       "    }\n",
       "\n",
       "    .dataframe thead th {\n",
       "        text-align: right;\n",
       "    }\n",
       "</style>\n",
       "<table border=\"1\" class=\"dataframe\">\n",
       "  <thead>\n",
       "    <tr style=\"text-align: right;\">\n",
       "      <th></th>\n",
       "      <th>Name</th>\n",
       "      <th>Age</th>\n",
       "      <th>Email</th>\n",
       "      <th>Address</th>\n",
       "    </tr>\n",
       "  </thead>\n",
       "  <tbody>\n",
       "    <tr>\n",
       "      <th>0</th>\n",
       "      <td>심권호</td>\n",
       "      <td>31</td>\n",
       "      <td>Kownho@sim.co.kr</td>\n",
       "      <td>경기도 용인시</td>\n",
       "    </tr>\n",
       "    <tr>\n",
       "      <th>1</th>\n",
       "      <td>김연아</td>\n",
       "      <td>32</td>\n",
       "      <td>Yuna@queen.com</td>\n",
       "      <td>세종시</td>\n",
       "    </tr>\n",
       "    <tr>\n",
       "      <th>2</th>\n",
       "      <td>추신수</td>\n",
       "      <td>41</td>\n",
       "      <td>Shinsoo@choo.net</td>\n",
       "      <td>인천시 중구</td>\n",
       "    </tr>\n",
       "    <tr>\n",
       "      <th>3</th>\n",
       "      <td>아이유</td>\n",
       "      <td>27</td>\n",
       "      <td>jieun@lee.com</td>\n",
       "      <td>부산시 강서구</td>\n",
       "    </tr>\n",
       "  </tbody>\n",
       "</table>\n",
       "</div>"
      ],
      "text/plain": [
       "  Name   Age              Email   Address\n",
       "0  심권호    31   Kownho@sim.co.kr   경기도 용인시\n",
       "1  김연아    32     Yuna@queen.com       세종시\n",
       "2  추신수    41   Shinsoo@choo.net    인천시 중구\n",
       "3  아이유    27      jieun@lee.com   부산시 강서구"
      ]
     },
     "execution_count": 25,
     "metadata": {},
     "output_type": "execute_result"
    }
   ],
   "source": [
    "# 3) 주석행 제거하고 가져오기\n",
    "member_df = pd.read_csv('data/ch12_member(8.2).csv', sep=',', comment='#')\n",
    "member_df"
   ]
  },
  {
   "cell_type": "markdown",
   "id": "5c7db74b",
   "metadata": {},
   "source": [
    "## 2.4 sklearn.datasets 모듈 데이터를 데이터프레임으로 변환"
   ]
  },
  {
   "cell_type": "code",
   "execution_count": 26,
   "id": "9d4bacef",
   "metadata": {
    "ExecuteTime": {
     "end_time": "2021-09-06T07:43:15.492522Z",
     "start_time": "2021-09-06T07:43:10.277945Z"
    }
   },
   "outputs": [],
   "source": [
    "import numpy as np\n",
    "import pandas as pd\n",
    "from sklearn import datasets\n",
    "# sklearn 패키지는 학습을 시키기 위한 많은 데이터셋들이 제공됨.\n",
    "# sklearn 패키지에서 제공되는 데이터셋은 딕셔너리 형식으로 되어있음.\n",
    "iris = datasets.load_iris()\n",
    "iris"
   ]
  },
  {
   "cell_type": "code",
   "execution_count": null,
   "id": "a839f2a3",
   "metadata": {},
   "outputs": [],
   "source": [
    "iris.data\n",
    "iris['data']"
   ]
  },
  {
   "cell_type": "code",
   "execution_count": 27,
   "id": "9095074c",
   "metadata": {
    "ExecuteTime": {
     "end_time": "2021-09-06T07:43:50.720637Z",
     "start_time": "2021-09-06T07:43:50.707644Z"
    }
   },
   "outputs": [
    {
     "data": {
      "text/plain": [
       "['sepal length (cm)',\n",
       " 'sepal width (cm)',\n",
       " 'petal length (cm)',\n",
       " 'petal width (cm)']"
      ]
     },
     "execution_count": 27,
     "metadata": {},
     "output_type": "execute_result"
    }
   ],
   "source": [
    "iris.feature_names\n",
    "iris['feature_names']"
   ]
  },
  {
   "cell_type": "code",
   "execution_count": 62,
   "id": "cd0746b0",
   "metadata": {
    "ExecuteTime": {
     "end_time": "2021-08-02T02:42:57.795744Z",
     "start_time": "2021-08-02T02:42:57.783791Z"
    }
   },
   "outputs": [
    {
     "data": {
      "text/plain": [
       "['sepal_length', 'sepal_width', 'petal_length', 'petal_width']"
      ]
     },
     "execution_count": 62,
     "metadata": {},
     "output_type": "execute_result"
    }
   ],
   "source": [
    "# \n",
    "[col[:-5].strip().replace(' ','_') for col in iris.feature_names]"
   ]
  },
  {
   "cell_type": "code",
   "execution_count": null,
   "id": "ce014626",
   "metadata": {},
   "outputs": [],
   "source": [
    "iris.target\n",
    "iris['target']"
   ]
  },
  {
   "cell_type": "code",
   "execution_count": 63,
   "id": "65b94f3a",
   "metadata": {
    "ExecuteTime": {
     "end_time": "2021-08-02T02:44:30.176437Z",
     "start_time": "2021-08-02T02:44:30.167438Z"
    }
   },
   "outputs": [
    {
     "data": {
      "text/plain": [
       "array(['setosa', 'versicolor', 'virginica'], dtype='<U10')"
      ]
     },
     "execution_count": 63,
     "metadata": {},
     "output_type": "execute_result"
    }
   ],
   "source": [
    "iris['target_names']\n",
    "iris.target_names"
   ]
  },
  {
   "cell_type": "code",
   "execution_count": 64,
   "id": "84282324",
   "metadata": {
    "ExecuteTime": {
     "end_time": "2021-08-02T02:46:03.849805Z",
     "start_time": "2021-08-02T02:46:03.830878Z"
    }
   },
   "outputs": [
    {
     "data": {
      "text/plain": [
       "array(['setosa', 'setosa', 'setosa', 'setosa', 'setosa', 'setosa',\n",
       "       'setosa', 'setosa', 'setosa', 'setosa', 'setosa', 'setosa',\n",
       "       'setosa', 'setosa', 'setosa', 'setosa', 'setosa', 'setosa',\n",
       "       'setosa', 'setosa', 'setosa', 'setosa', 'setosa', 'setosa',\n",
       "       'setosa', 'setosa', 'setosa', 'setosa', 'setosa', 'setosa',\n",
       "       'setosa', 'setosa', 'setosa', 'setosa', 'setosa', 'setosa',\n",
       "       'setosa', 'setosa', 'setosa', 'setosa', 'setosa', 'setosa',\n",
       "       'setosa', 'setosa', 'setosa', 'setosa', 'setosa', 'setosa',\n",
       "       'setosa', 'setosa', 'versicolor', 'versicolor', 'versicolor',\n",
       "       'versicolor', 'versicolor', 'versicolor', 'versicolor',\n",
       "       'versicolor', 'versicolor', 'versicolor', 'versicolor',\n",
       "       'versicolor', 'versicolor', 'versicolor', 'versicolor',\n",
       "       'versicolor', 'versicolor', 'versicolor', 'versicolor',\n",
       "       'versicolor', 'versicolor', 'versicolor', 'versicolor',\n",
       "       'versicolor', 'versicolor', 'versicolor', 'versicolor',\n",
       "       'versicolor', 'versicolor', 'versicolor', 'versicolor',\n",
       "       'versicolor', 'versicolor', 'versicolor', 'versicolor',\n",
       "       'versicolor', 'versicolor', 'versicolor', 'versicolor',\n",
       "       'versicolor', 'versicolor', 'versicolor', 'versicolor',\n",
       "       'versicolor', 'versicolor', 'versicolor', 'versicolor',\n",
       "       'versicolor', 'versicolor', 'versicolor', 'virginica', 'virginica',\n",
       "       'virginica', 'virginica', 'virginica', 'virginica', 'virginica',\n",
       "       'virginica', 'virginica', 'virginica', 'virginica', 'virginica',\n",
       "       'virginica', 'virginica', 'virginica', 'virginica', 'virginica',\n",
       "       'virginica', 'virginica', 'virginica', 'virginica', 'virginica',\n",
       "       'virginica', 'virginica', 'virginica', 'virginica', 'virginica',\n",
       "       'virginica', 'virginica', 'virginica', 'virginica', 'virginica',\n",
       "       'virginica', 'virginica', 'virginica', 'virginica', 'virginica',\n",
       "       'virginica', 'virginica', 'virginica', 'virginica', 'virginica',\n",
       "       'virginica', 'virginica', 'virginica', 'virginica', 'virginica',\n",
       "       'virginica', 'virginica', 'virginica'], dtype='<U10')"
      ]
     },
     "execution_count": 64,
     "metadata": {},
     "output_type": "execute_result"
    }
   ],
   "source": [
    "# 종속변수\n",
    "iris.target_names[iris.target]"
   ]
  },
  {
   "cell_type": "code",
   "execution_count": null,
   "id": "ee0a4564",
   "metadata": {},
   "outputs": [],
   "source": [
    "# 독립변수\n",
    "iris.data\n",
    "# 종속변수\n",
    "iris.target_names[iris.target]"
   ]
  },
  {
   "cell_type": "code",
   "execution_count": 29,
   "id": "a8e60c06",
   "metadata": {
    "ExecuteTime": {
     "end_time": "2021-09-06T08:12:33.658690Z",
     "start_time": "2021-09-06T08:12:33.651680Z"
    }
   },
   "outputs": [
    {
     "name": "stdout",
     "output_type": "stream",
     "text": [
      "float64\n",
      "<U10\n"
     ]
    }
   ],
   "source": [
    "print(iris.data.dtype) # float\n",
    "print(iris.target_names[iris.target].dtype) # string"
   ]
  },
  {
   "cell_type": "code",
   "execution_count": 28,
   "id": "9f37c9d6",
   "metadata": {
    "ExecuteTime": {
     "end_time": "2021-09-06T08:01:24.866454Z",
     "start_time": "2021-09-06T08:01:24.852484Z"
    }
   },
   "outputs": [
    {
     "name": "stdout",
     "output_type": "stream",
     "text": [
      "독립변수의 차원 :  (150, 4)\n",
      "종속변수의 차원 :  (150,)\n"
     ]
    }
   ],
   "source": [
    "print('독립변수의 차원 : ', iris.data.shape)\n",
    "print('종속변수의 차원 : ', iris.target_names[iris.target].shape)"
   ]
  },
  {
   "cell_type": "code",
   "execution_count": 70,
   "id": "94ad5e6c",
   "metadata": {
    "ExecuteTime": {
     "end_time": "2021-08-02T02:50:49.982249Z",
     "start_time": "2021-08-02T02:50:49.974292Z"
    }
   },
   "outputs": [],
   "source": [
    "# 독립변수\n",
    "data = iris.data\n",
    "# 종속변수\n",
    "target = iris.target_names[iris.target].reshape(150,1)"
   ]
  },
  {
   "cell_type": "code",
   "execution_count": 71,
   "id": "3654406d",
   "metadata": {
    "ExecuteTime": {
     "end_time": "2021-08-02T02:51:00.981573Z",
     "start_time": "2021-08-02T02:51:00.950634Z"
    }
   },
   "outputs": [
    {
     "data": {
      "text/plain": [
       "array([['5.1', '3.5', '1.4', '0.2', 'setosa'],\n",
       "       ['4.9', '3.0', '1.4', '0.2', 'setosa'],\n",
       "       ['4.7', '3.2', '1.3', '0.2', 'setosa'],\n",
       "       ['4.6', '3.1', '1.5', '0.2', 'setosa'],\n",
       "       ['5.0', '3.6', '1.4', '0.2', 'setosa'],\n",
       "       ['5.4', '3.9', '1.7', '0.4', 'setosa'],\n",
       "       ['4.6', '3.4', '1.4', '0.3', 'setosa'],\n",
       "       ['5.0', '3.4', '1.5', '0.2', 'setosa'],\n",
       "       ['4.4', '2.9', '1.4', '0.2', 'setosa'],\n",
       "       ['4.9', '3.1', '1.5', '0.1', 'setosa'],\n",
       "       ['5.4', '3.7', '1.5', '0.2', 'setosa'],\n",
       "       ['4.8', '3.4', '1.6', '0.2', 'setosa'],\n",
       "       ['4.8', '3.0', '1.4', '0.1', 'setosa'],\n",
       "       ['4.3', '3.0', '1.1', '0.1', 'setosa'],\n",
       "       ['5.8', '4.0', '1.2', '0.2', 'setosa'],\n",
       "       ['5.7', '4.4', '1.5', '0.4', 'setosa'],\n",
       "       ['5.4', '3.9', '1.3', '0.4', 'setosa'],\n",
       "       ['5.1', '3.5', '1.4', '0.3', 'setosa'],\n",
       "       ['5.7', '3.8', '1.7', '0.3', 'setosa'],\n",
       "       ['5.1', '3.8', '1.5', '0.3', 'setosa'],\n",
       "       ['5.4', '3.4', '1.7', '0.2', 'setosa'],\n",
       "       ['5.1', '3.7', '1.5', '0.4', 'setosa'],\n",
       "       ['4.6', '3.6', '1.0', '0.2', 'setosa'],\n",
       "       ['5.1', '3.3', '1.7', '0.5', 'setosa'],\n",
       "       ['4.8', '3.4', '1.9', '0.2', 'setosa'],\n",
       "       ['5.0', '3.0', '1.6', '0.2', 'setosa'],\n",
       "       ['5.0', '3.4', '1.6', '0.4', 'setosa'],\n",
       "       ['5.2', '3.5', '1.5', '0.2', 'setosa'],\n",
       "       ['5.2', '3.4', '1.4', '0.2', 'setosa'],\n",
       "       ['4.7', '3.2', '1.6', '0.2', 'setosa'],\n",
       "       ['4.8', '3.1', '1.6', '0.2', 'setosa'],\n",
       "       ['5.4', '3.4', '1.5', '0.4', 'setosa'],\n",
       "       ['5.2', '4.1', '1.5', '0.1', 'setosa'],\n",
       "       ['5.5', '4.2', '1.4', '0.2', 'setosa'],\n",
       "       ['4.9', '3.1', '1.5', '0.2', 'setosa'],\n",
       "       ['5.0', '3.2', '1.2', '0.2', 'setosa'],\n",
       "       ['5.5', '3.5', '1.3', '0.2', 'setosa'],\n",
       "       ['4.9', '3.6', '1.4', '0.1', 'setosa'],\n",
       "       ['4.4', '3.0', '1.3', '0.2', 'setosa'],\n",
       "       ['5.1', '3.4', '1.5', '0.2', 'setosa'],\n",
       "       ['5.0', '3.5', '1.3', '0.3', 'setosa'],\n",
       "       ['4.5', '2.3', '1.3', '0.3', 'setosa'],\n",
       "       ['4.4', '3.2', '1.3', '0.2', 'setosa'],\n",
       "       ['5.0', '3.5', '1.6', '0.6', 'setosa'],\n",
       "       ['5.1', '3.8', '1.9', '0.4', 'setosa'],\n",
       "       ['4.8', '3.0', '1.4', '0.3', 'setosa'],\n",
       "       ['5.1', '3.8', '1.6', '0.2', 'setosa'],\n",
       "       ['4.6', '3.2', '1.4', '0.2', 'setosa'],\n",
       "       ['5.3', '3.7', '1.5', '0.2', 'setosa'],\n",
       "       ['5.0', '3.3', '1.4', '0.2', 'setosa'],\n",
       "       ['7.0', '3.2', '4.7', '1.4', 'versicolor'],\n",
       "       ['6.4', '3.2', '4.5', '1.5', 'versicolor'],\n",
       "       ['6.9', '3.1', '4.9', '1.5', 'versicolor'],\n",
       "       ['5.5', '2.3', '4.0', '1.3', 'versicolor'],\n",
       "       ['6.5', '2.8', '4.6', '1.5', 'versicolor'],\n",
       "       ['5.7', '2.8', '4.5', '1.3', 'versicolor'],\n",
       "       ['6.3', '3.3', '4.7', '1.6', 'versicolor'],\n",
       "       ['4.9', '2.4', '3.3', '1.0', 'versicolor'],\n",
       "       ['6.6', '2.9', '4.6', '1.3', 'versicolor'],\n",
       "       ['5.2', '2.7', '3.9', '1.4', 'versicolor'],\n",
       "       ['5.0', '2.0', '3.5', '1.0', 'versicolor'],\n",
       "       ['5.9', '3.0', '4.2', '1.5', 'versicolor'],\n",
       "       ['6.0', '2.2', '4.0', '1.0', 'versicolor'],\n",
       "       ['6.1', '2.9', '4.7', '1.4', 'versicolor'],\n",
       "       ['5.6', '2.9', '3.6', '1.3', 'versicolor'],\n",
       "       ['6.7', '3.1', '4.4', '1.4', 'versicolor'],\n",
       "       ['5.6', '3.0', '4.5', '1.5', 'versicolor'],\n",
       "       ['5.8', '2.7', '4.1', '1.0', 'versicolor'],\n",
       "       ['6.2', '2.2', '4.5', '1.5', 'versicolor'],\n",
       "       ['5.6', '2.5', '3.9', '1.1', 'versicolor'],\n",
       "       ['5.9', '3.2', '4.8', '1.8', 'versicolor'],\n",
       "       ['6.1', '2.8', '4.0', '1.3', 'versicolor'],\n",
       "       ['6.3', '2.5', '4.9', '1.5', 'versicolor'],\n",
       "       ['6.1', '2.8', '4.7', '1.2', 'versicolor'],\n",
       "       ['6.4', '2.9', '4.3', '1.3', 'versicolor'],\n",
       "       ['6.6', '3.0', '4.4', '1.4', 'versicolor'],\n",
       "       ['6.8', '2.8', '4.8', '1.4', 'versicolor'],\n",
       "       ['6.7', '3.0', '5.0', '1.7', 'versicolor'],\n",
       "       ['6.0', '2.9', '4.5', '1.5', 'versicolor'],\n",
       "       ['5.7', '2.6', '3.5', '1.0', 'versicolor'],\n",
       "       ['5.5', '2.4', '3.8', '1.1', 'versicolor'],\n",
       "       ['5.5', '2.4', '3.7', '1.0', 'versicolor'],\n",
       "       ['5.8', '2.7', '3.9', '1.2', 'versicolor'],\n",
       "       ['6.0', '2.7', '5.1', '1.6', 'versicolor'],\n",
       "       ['5.4', '3.0', '4.5', '1.5', 'versicolor'],\n",
       "       ['6.0', '3.4', '4.5', '1.6', 'versicolor'],\n",
       "       ['6.7', '3.1', '4.7', '1.5', 'versicolor'],\n",
       "       ['6.3', '2.3', '4.4', '1.3', 'versicolor'],\n",
       "       ['5.6', '3.0', '4.1', '1.3', 'versicolor'],\n",
       "       ['5.5', '2.5', '4.0', '1.3', 'versicolor'],\n",
       "       ['5.5', '2.6', '4.4', '1.2', 'versicolor'],\n",
       "       ['6.1', '3.0', '4.6', '1.4', 'versicolor'],\n",
       "       ['5.8', '2.6', '4.0', '1.2', 'versicolor'],\n",
       "       ['5.0', '2.3', '3.3', '1.0', 'versicolor'],\n",
       "       ['5.6', '2.7', '4.2', '1.3', 'versicolor'],\n",
       "       ['5.7', '3.0', '4.2', '1.2', 'versicolor'],\n",
       "       ['5.7', '2.9', '4.2', '1.3', 'versicolor'],\n",
       "       ['6.2', '2.9', '4.3', '1.3', 'versicolor'],\n",
       "       ['5.1', '2.5', '3.0', '1.1', 'versicolor'],\n",
       "       ['5.7', '2.8', '4.1', '1.3', 'versicolor'],\n",
       "       ['6.3', '3.3', '6.0', '2.5', 'virginica'],\n",
       "       ['5.8', '2.7', '5.1', '1.9', 'virginica'],\n",
       "       ['7.1', '3.0', '5.9', '2.1', 'virginica'],\n",
       "       ['6.3', '2.9', '5.6', '1.8', 'virginica'],\n",
       "       ['6.5', '3.0', '5.8', '2.2', 'virginica'],\n",
       "       ['7.6', '3.0', '6.6', '2.1', 'virginica'],\n",
       "       ['4.9', '2.5', '4.5', '1.7', 'virginica'],\n",
       "       ['7.3', '2.9', '6.3', '1.8', 'virginica'],\n",
       "       ['6.7', '2.5', '5.8', '1.8', 'virginica'],\n",
       "       ['7.2', '3.6', '6.1', '2.5', 'virginica'],\n",
       "       ['6.5', '3.2', '5.1', '2.0', 'virginica'],\n",
       "       ['6.4', '2.7', '5.3', '1.9', 'virginica'],\n",
       "       ['6.8', '3.0', '5.5', '2.1', 'virginica'],\n",
       "       ['5.7', '2.5', '5.0', '2.0', 'virginica'],\n",
       "       ['5.8', '2.8', '5.1', '2.4', 'virginica'],\n",
       "       ['6.4', '3.2', '5.3', '2.3', 'virginica'],\n",
       "       ['6.5', '3.0', '5.5', '1.8', 'virginica'],\n",
       "       ['7.7', '3.8', '6.7', '2.2', 'virginica'],\n",
       "       ['7.7', '2.6', '6.9', '2.3', 'virginica'],\n",
       "       ['6.0', '2.2', '5.0', '1.5', 'virginica'],\n",
       "       ['6.9', '3.2', '5.7', '2.3', 'virginica'],\n",
       "       ['5.6', '2.8', '4.9', '2.0', 'virginica'],\n",
       "       ['7.7', '2.8', '6.7', '2.0', 'virginica'],\n",
       "       ['6.3', '2.7', '4.9', '1.8', 'virginica'],\n",
       "       ['6.7', '3.3', '5.7', '2.1', 'virginica'],\n",
       "       ['7.2', '3.2', '6.0', '1.8', 'virginica'],\n",
       "       ['6.2', '2.8', '4.8', '1.8', 'virginica'],\n",
       "       ['6.1', '3.0', '4.9', '1.8', 'virginica'],\n",
       "       ['6.4', '2.8', '5.6', '2.1', 'virginica'],\n",
       "       ['7.2', '3.0', '5.8', '1.6', 'virginica'],\n",
       "       ['7.4', '2.8', '6.1', '1.9', 'virginica'],\n",
       "       ['7.9', '3.8', '6.4', '2.0', 'virginica'],\n",
       "       ['6.4', '2.8', '5.6', '2.2', 'virginica'],\n",
       "       ['6.3', '2.8', '5.1', '1.5', 'virginica'],\n",
       "       ['6.1', '2.6', '5.6', '1.4', 'virginica'],\n",
       "       ['7.7', '3.0', '6.1', '2.3', 'virginica'],\n",
       "       ['6.3', '3.4', '5.6', '2.4', 'virginica'],\n",
       "       ['6.4', '3.1', '5.5', '1.8', 'virginica'],\n",
       "       ['6.0', '3.0', '4.8', '1.8', 'virginica'],\n",
       "       ['6.9', '3.1', '5.4', '2.1', 'virginica'],\n",
       "       ['6.7', '3.1', '5.6', '2.4', 'virginica'],\n",
       "       ['6.9', '3.1', '5.1', '2.3', 'virginica'],\n",
       "       ['5.8', '2.7', '5.1', '1.9', 'virginica'],\n",
       "       ['6.8', '3.2', '5.9', '2.3', 'virginica'],\n",
       "       ['6.7', '3.3', '5.7', '2.5', 'virginica'],\n",
       "       ['6.7', '3.0', '5.2', '2.3', 'virginica'],\n",
       "       ['6.3', '2.5', '5.0', '1.9', 'virginica'],\n",
       "       ['6.5', '3.0', '5.2', '2.0', 'virginica'],\n",
       "       ['6.2', '3.4', '5.4', '2.3', 'virginica'],\n",
       "       ['5.9', '3.0', '5.1', '1.8', 'virginica']], dtype='<U32')"
      ]
     },
     "execution_count": 71,
     "metadata": {},
     "output_type": "execute_result"
    }
   ],
   "source": [
    "np.hstack( (data, target) ) # 행의 숫자가 일치해야함\n",
    "    # numpy.hstack() function is used to stack the sequence of input arrays horizontally \n",
    "                                            # (i.e. column wise) to make a single array.\n",
    "    # Tuple containing arrays to be stacked. \n",
    "                # The arrays must have the same shape along all but the second axis."
   ]
  },
  {
   "cell_type": "code",
   "execution_count": null,
   "id": "4a3f7eb6",
   "metadata": {},
   "outputs": [],
   "source": [
    "# 처음부터 하나의 데이터프레임으로 가져올 수 있는데 \n",
    "    # 연습하려고 두 개로 나눴다가 다시 합치는 거임???\n",
    "        # -> 연습용 대이터가 딕셔너리 형태로 {data, target}으로 구성된듯?"
   ]
  },
  {
   "cell_type": "code",
   "execution_count": 37,
   "id": "1bbd2ce0",
   "metadata": {
    "ExecuteTime": {
     "end_time": "2021-09-06T08:57:13.214332Z",
     "start_time": "2021-09-06T08:57:13.188385Z"
    }
   },
   "outputs": [
    {
     "data": {
      "text/html": [
       "<div>\n",
       "<style scoped>\n",
       "    .dataframe tbody tr th:only-of-type {\n",
       "        vertical-align: middle;\n",
       "    }\n",
       "\n",
       "    .dataframe tbody tr th {\n",
       "        vertical-align: top;\n",
       "    }\n",
       "\n",
       "    .dataframe thead th {\n",
       "        text-align: right;\n",
       "    }\n",
       "</style>\n",
       "<table border=\"1\" class=\"dataframe\">\n",
       "  <thead>\n",
       "    <tr style=\"text-align: right;\">\n",
       "      <th></th>\n",
       "      <th>sepal length (cm)</th>\n",
       "      <th>sepal width (cm)</th>\n",
       "      <th>petal length (cm)</th>\n",
       "      <th>petal width (cm)</th>\n",
       "    </tr>\n",
       "  </thead>\n",
       "  <tbody>\n",
       "    <tr>\n",
       "      <th>0</th>\n",
       "      <td>5.1</td>\n",
       "      <td>3.5</td>\n",
       "      <td>1.4</td>\n",
       "      <td>0.2</td>\n",
       "    </tr>\n",
       "    <tr>\n",
       "      <th>1</th>\n",
       "      <td>4.9</td>\n",
       "      <td>3.0</td>\n",
       "      <td>1.4</td>\n",
       "      <td>0.2</td>\n",
       "    </tr>\n",
       "    <tr>\n",
       "      <th>2</th>\n",
       "      <td>4.7</td>\n",
       "      <td>3.2</td>\n",
       "      <td>1.3</td>\n",
       "      <td>0.2</td>\n",
       "    </tr>\n",
       "    <tr>\n",
       "      <th>3</th>\n",
       "      <td>4.6</td>\n",
       "      <td>3.1</td>\n",
       "      <td>1.5</td>\n",
       "      <td>0.2</td>\n",
       "    </tr>\n",
       "    <tr>\n",
       "      <th>4</th>\n",
       "      <td>5.0</td>\n",
       "      <td>3.6</td>\n",
       "      <td>1.4</td>\n",
       "      <td>0.2</td>\n",
       "    </tr>\n",
       "    <tr>\n",
       "      <th>...</th>\n",
       "      <td>...</td>\n",
       "      <td>...</td>\n",
       "      <td>...</td>\n",
       "      <td>...</td>\n",
       "    </tr>\n",
       "    <tr>\n",
       "      <th>145</th>\n",
       "      <td>6.7</td>\n",
       "      <td>3.0</td>\n",
       "      <td>5.2</td>\n",
       "      <td>2.3</td>\n",
       "    </tr>\n",
       "    <tr>\n",
       "      <th>146</th>\n",
       "      <td>6.3</td>\n",
       "      <td>2.5</td>\n",
       "      <td>5.0</td>\n",
       "      <td>1.9</td>\n",
       "    </tr>\n",
       "    <tr>\n",
       "      <th>147</th>\n",
       "      <td>6.5</td>\n",
       "      <td>3.0</td>\n",
       "      <td>5.2</td>\n",
       "      <td>2.0</td>\n",
       "    </tr>\n",
       "    <tr>\n",
       "      <th>148</th>\n",
       "      <td>6.2</td>\n",
       "      <td>3.4</td>\n",
       "      <td>5.4</td>\n",
       "      <td>2.3</td>\n",
       "    </tr>\n",
       "    <tr>\n",
       "      <th>149</th>\n",
       "      <td>5.9</td>\n",
       "      <td>3.0</td>\n",
       "      <td>5.1</td>\n",
       "      <td>1.8</td>\n",
       "    </tr>\n",
       "  </tbody>\n",
       "</table>\n",
       "<p>150 rows × 4 columns</p>\n",
       "</div>"
      ],
      "text/plain": [
       "     sepal length (cm)  sepal width (cm)  petal length (cm)  petal width (cm)\n",
       "0                  5.1               3.5                1.4               0.2\n",
       "1                  4.9               3.0                1.4               0.2\n",
       "2                  4.7               3.2                1.3               0.2\n",
       "3                  4.6               3.1                1.5               0.2\n",
       "4                  5.0               3.6                1.4               0.2\n",
       "..                 ...               ...                ...               ...\n",
       "145                6.7               3.0                5.2               2.3\n",
       "146                6.3               2.5                5.0               1.9\n",
       "147                6.5               3.0                5.2               2.0\n",
       "148                6.2               3.4                5.4               2.3\n",
       "149                5.9               3.0                5.1               1.8\n",
       "\n",
       "[150 rows x 4 columns]"
      ]
     },
     "execution_count": 37,
     "metadata": {},
     "output_type": "execute_result"
    }
   ],
   "source": [
    "# 독립변수, 종속변수 따로 데이터프레임으로 만들고 concat\n",
    "x = pd.DataFrame(iris.data, columns=iris.feature_names) # type : list\n",
    "x\n",
    "    # 열이름 재구성하여 변경이 필요한 경우 위에서 했던 방법 참조!\n",
    "    # 빈 칸이 있을 경우 제한되는 기능들이 있음."
   ]
  },
  {
   "cell_type": "code",
   "execution_count": 36,
   "id": "2cd5cc02",
   "metadata": {
    "ExecuteTime": {
     "end_time": "2021-09-06T08:57:10.926360Z",
     "start_time": "2021-09-06T08:57:10.915382Z"
    }
   },
   "outputs": [
    {
     "data": {
      "text/html": [
       "<div>\n",
       "<style scoped>\n",
       "    .dataframe tbody tr th:only-of-type {\n",
       "        vertical-align: middle;\n",
       "    }\n",
       "\n",
       "    .dataframe tbody tr th {\n",
       "        vertical-align: top;\n",
       "    }\n",
       "\n",
       "    .dataframe thead th {\n",
       "        text-align: right;\n",
       "    }\n",
       "</style>\n",
       "<table border=\"1\" class=\"dataframe\">\n",
       "  <thead>\n",
       "    <tr style=\"text-align: right;\">\n",
       "      <th></th>\n",
       "      <th>species</th>\n",
       "    </tr>\n",
       "  </thead>\n",
       "  <tbody>\n",
       "    <tr>\n",
       "      <th>0</th>\n",
       "      <td>setosa</td>\n",
       "    </tr>\n",
       "    <tr>\n",
       "      <th>1</th>\n",
       "      <td>setosa</td>\n",
       "    </tr>\n",
       "    <tr>\n",
       "      <th>2</th>\n",
       "      <td>setosa</td>\n",
       "    </tr>\n",
       "    <tr>\n",
       "      <th>3</th>\n",
       "      <td>setosa</td>\n",
       "    </tr>\n",
       "    <tr>\n",
       "      <th>4</th>\n",
       "      <td>setosa</td>\n",
       "    </tr>\n",
       "    <tr>\n",
       "      <th>...</th>\n",
       "      <td>...</td>\n",
       "    </tr>\n",
       "    <tr>\n",
       "      <th>145</th>\n",
       "      <td>virginica</td>\n",
       "    </tr>\n",
       "    <tr>\n",
       "      <th>146</th>\n",
       "      <td>virginica</td>\n",
       "    </tr>\n",
       "    <tr>\n",
       "      <th>147</th>\n",
       "      <td>virginica</td>\n",
       "    </tr>\n",
       "    <tr>\n",
       "      <th>148</th>\n",
       "      <td>virginica</td>\n",
       "    </tr>\n",
       "    <tr>\n",
       "      <th>149</th>\n",
       "      <td>virginica</td>\n",
       "    </tr>\n",
       "  </tbody>\n",
       "</table>\n",
       "<p>150 rows × 1 columns</p>\n",
       "</div>"
      ],
      "text/plain": [
       "       species\n",
       "0       setosa\n",
       "1       setosa\n",
       "2       setosa\n",
       "3       setosa\n",
       "4       setosa\n",
       "..         ...\n",
       "145  virginica\n",
       "146  virginica\n",
       "147  virginica\n",
       "148  virginica\n",
       "149  virginica\n",
       "\n",
       "[150 rows x 1 columns]"
      ]
     },
     "execution_count": 36,
     "metadata": {},
     "output_type": "execute_result"
    }
   ],
   "source": [
    "y = pd.DataFrame(iris.target_names[iris.target], columns=['species'])\n",
    "y"
   ]
  },
  {
   "cell_type": "code",
   "execution_count": null,
   "id": "7f9369eb",
   "metadata": {},
   "outputs": [],
   "source": [
    "# 열병합 concat( ... , axis=1)"
   ]
  },
  {
   "cell_type": "code",
   "execution_count": 38,
   "id": "6241207b",
   "metadata": {
    "ExecuteTime": {
     "end_time": "2021-09-06T08:57:16.591930Z",
     "start_time": "2021-09-06T08:57:16.561997Z"
    }
   },
   "outputs": [
    {
     "data": {
      "text/html": [
       "<div>\n",
       "<style scoped>\n",
       "    .dataframe tbody tr th:only-of-type {\n",
       "        vertical-align: middle;\n",
       "    }\n",
       "\n",
       "    .dataframe tbody tr th {\n",
       "        vertical-align: top;\n",
       "    }\n",
       "\n",
       "    .dataframe thead th {\n",
       "        text-align: right;\n",
       "    }\n",
       "</style>\n",
       "<table border=\"1\" class=\"dataframe\">\n",
       "  <thead>\n",
       "    <tr style=\"text-align: right;\">\n",
       "      <th></th>\n",
       "      <th>sepal length (cm)</th>\n",
       "      <th>sepal width (cm)</th>\n",
       "      <th>petal length (cm)</th>\n",
       "      <th>petal width (cm)</th>\n",
       "      <th>species</th>\n",
       "    </tr>\n",
       "  </thead>\n",
       "  <tbody>\n",
       "    <tr>\n",
       "      <th>0</th>\n",
       "      <td>5.1</td>\n",
       "      <td>3.5</td>\n",
       "      <td>1.4</td>\n",
       "      <td>0.2</td>\n",
       "      <td>setosa</td>\n",
       "    </tr>\n",
       "    <tr>\n",
       "      <th>1</th>\n",
       "      <td>4.9</td>\n",
       "      <td>3.0</td>\n",
       "      <td>1.4</td>\n",
       "      <td>0.2</td>\n",
       "      <td>setosa</td>\n",
       "    </tr>\n",
       "    <tr>\n",
       "      <th>2</th>\n",
       "      <td>4.7</td>\n",
       "      <td>3.2</td>\n",
       "      <td>1.3</td>\n",
       "      <td>0.2</td>\n",
       "      <td>setosa</td>\n",
       "    </tr>\n",
       "    <tr>\n",
       "      <th>3</th>\n",
       "      <td>4.6</td>\n",
       "      <td>3.1</td>\n",
       "      <td>1.5</td>\n",
       "      <td>0.2</td>\n",
       "      <td>setosa</td>\n",
       "    </tr>\n",
       "    <tr>\n",
       "      <th>4</th>\n",
       "      <td>5.0</td>\n",
       "      <td>3.6</td>\n",
       "      <td>1.4</td>\n",
       "      <td>0.2</td>\n",
       "      <td>setosa</td>\n",
       "    </tr>\n",
       "    <tr>\n",
       "      <th>...</th>\n",
       "      <td>...</td>\n",
       "      <td>...</td>\n",
       "      <td>...</td>\n",
       "      <td>...</td>\n",
       "      <td>...</td>\n",
       "    </tr>\n",
       "    <tr>\n",
       "      <th>145</th>\n",
       "      <td>6.7</td>\n",
       "      <td>3.0</td>\n",
       "      <td>5.2</td>\n",
       "      <td>2.3</td>\n",
       "      <td>virginica</td>\n",
       "    </tr>\n",
       "    <tr>\n",
       "      <th>146</th>\n",
       "      <td>6.3</td>\n",
       "      <td>2.5</td>\n",
       "      <td>5.0</td>\n",
       "      <td>1.9</td>\n",
       "      <td>virginica</td>\n",
       "    </tr>\n",
       "    <tr>\n",
       "      <th>147</th>\n",
       "      <td>6.5</td>\n",
       "      <td>3.0</td>\n",
       "      <td>5.2</td>\n",
       "      <td>2.0</td>\n",
       "      <td>virginica</td>\n",
       "    </tr>\n",
       "    <tr>\n",
       "      <th>148</th>\n",
       "      <td>6.2</td>\n",
       "      <td>3.4</td>\n",
       "      <td>5.4</td>\n",
       "      <td>2.3</td>\n",
       "      <td>virginica</td>\n",
       "    </tr>\n",
       "    <tr>\n",
       "      <th>149</th>\n",
       "      <td>5.9</td>\n",
       "      <td>3.0</td>\n",
       "      <td>5.1</td>\n",
       "      <td>1.8</td>\n",
       "      <td>virginica</td>\n",
       "    </tr>\n",
       "  </tbody>\n",
       "</table>\n",
       "<p>150 rows × 5 columns</p>\n",
       "</div>"
      ],
      "text/plain": [
       "     sepal length (cm)  sepal width (cm)  petal length (cm)  petal width (cm)  \\\n",
       "0                  5.1               3.5                1.4               0.2   \n",
       "1                  4.9               3.0                1.4               0.2   \n",
       "2                  4.7               3.2                1.3               0.2   \n",
       "3                  4.6               3.1                1.5               0.2   \n",
       "4                  5.0               3.6                1.4               0.2   \n",
       "..                 ...               ...                ...               ...   \n",
       "145                6.7               3.0                5.2               2.3   \n",
       "146                6.3               2.5                5.0               1.9   \n",
       "147                6.5               3.0                5.2               2.0   \n",
       "148                6.2               3.4                5.4               2.3   \n",
       "149                5.9               3.0                5.1               1.8   \n",
       "\n",
       "       species  \n",
       "0       setosa  \n",
       "1       setosa  \n",
       "2       setosa  \n",
       "3       setosa  \n",
       "4       setosa  \n",
       "..         ...  \n",
       "145  virginica  \n",
       "146  virginica  \n",
       "147  virginica  \n",
       "148  virginica  \n",
       "149  virginica  \n",
       "\n",
       "[150 rows x 5 columns]"
      ]
     },
     "execution_count": 38,
     "metadata": {},
     "output_type": "execute_result"
    }
   ],
   "source": [
    "iris_df = pd.concat([x, y], axis=1) # 함수를 모를 땐 shift + tab + tab 기억!\n",
    "iris_df\n",
    "# 열병합의 하기 위해선 행의 수가 같아야 함."
   ]
  },
  {
   "cell_type": "code",
   "execution_count": 39,
   "id": "1dfba667",
   "metadata": {
    "ExecuteTime": {
     "end_time": "2021-09-06T08:57:18.939299Z",
     "start_time": "2021-09-06T08:57:18.929325Z"
    }
   },
   "outputs": [
    {
     "data": {
      "text/plain": [
       "0         setosa\n",
       "1         setosa\n",
       "2         setosa\n",
       "3         setosa\n",
       "4         setosa\n",
       "         ...    \n",
       "145    virginica\n",
       "146    virginica\n",
       "147    virginica\n",
       "148    virginica\n",
       "149    virginica\n",
       "Name: species, Length: 150, dtype: object"
      ]
     },
     "execution_count": 39,
     "metadata": {},
     "output_type": "execute_result"
    }
   ],
   "source": [
    "iris_df['species']"
   ]
  },
  {
   "cell_type": "code",
   "execution_count": 40,
   "id": "53a66af7",
   "metadata": {
    "ExecuteTime": {
     "end_time": "2021-09-06T08:57:21.367210Z",
     "start_time": "2021-09-06T08:57:21.361205Z"
    }
   },
   "outputs": [
    {
     "data": {
      "text/plain": [
       "Index(['sepal length (cm)', 'sepal width (cm)', 'petal length (cm)',\n",
       "       'petal width (cm)', 'species'],\n",
       "      dtype='object')"
      ]
     },
     "execution_count": 40,
     "metadata": {},
     "output_type": "execute_result"
    }
   ],
   "source": [
    "iris_df[\"sepal length (cm)\"] # 가능\n",
    "# iris_df.sepal length (cm)  ######################### 열이름에 빈 칸이 있어 제한되는 기능\n",
    "iris_df.columns"
   ]
  },
  {
   "cell_type": "code",
   "execution_count": 83,
   "id": "2fa03f9f",
   "metadata": {
    "ExecuteTime": {
     "end_time": "2021-08-02T03:03:34.099231Z",
     "start_time": "2021-08-02T03:03:34.086266Z"
    }
   },
   "outputs": [
    {
     "data": {
      "text/plain": [
       "['sepal_length', 'sepal_width', 'petal_length', 'petal_width', 'species']"
      ]
     },
     "execution_count": 83,
     "metadata": {},
     "output_type": "execute_result"
    }
   ],
   "source": [
    "[col[:12].strip().replace(' ', '_') for col in iris_df.columns]"
   ]
  },
  {
   "cell_type": "code",
   "execution_count": 84,
   "id": "e32cdd06",
   "metadata": {
    "ExecuteTime": {
     "end_time": "2021-08-02T03:04:23.941397Z",
     "start_time": "2021-08-02T03:04:23.910480Z"
    }
   },
   "outputs": [
    {
     "data": {
      "text/html": [
       "<div>\n",
       "<style scoped>\n",
       "    .dataframe tbody tr th:only-of-type {\n",
       "        vertical-align: middle;\n",
       "    }\n",
       "\n",
       "    .dataframe tbody tr th {\n",
       "        vertical-align: top;\n",
       "    }\n",
       "\n",
       "    .dataframe thead th {\n",
       "        text-align: right;\n",
       "    }\n",
       "</style>\n",
       "<table border=\"1\" class=\"dataframe\">\n",
       "  <thead>\n",
       "    <tr style=\"text-align: right;\">\n",
       "      <th></th>\n",
       "      <th>sepal_length</th>\n",
       "      <th>sepal_width</th>\n",
       "      <th>petal_length</th>\n",
       "      <th>petal_width</th>\n",
       "      <th>species</th>\n",
       "    </tr>\n",
       "  </thead>\n",
       "  <tbody>\n",
       "    <tr>\n",
       "      <th>0</th>\n",
       "      <td>5.1</td>\n",
       "      <td>3.5</td>\n",
       "      <td>1.4</td>\n",
       "      <td>0.2</td>\n",
       "      <td>setosa</td>\n",
       "    </tr>\n",
       "    <tr>\n",
       "      <th>1</th>\n",
       "      <td>4.9</td>\n",
       "      <td>3.0</td>\n",
       "      <td>1.4</td>\n",
       "      <td>0.2</td>\n",
       "      <td>setosa</td>\n",
       "    </tr>\n",
       "    <tr>\n",
       "      <th>2</th>\n",
       "      <td>4.7</td>\n",
       "      <td>3.2</td>\n",
       "      <td>1.3</td>\n",
       "      <td>0.2</td>\n",
       "      <td>setosa</td>\n",
       "    </tr>\n",
       "    <tr>\n",
       "      <th>3</th>\n",
       "      <td>4.6</td>\n",
       "      <td>3.1</td>\n",
       "      <td>1.5</td>\n",
       "      <td>0.2</td>\n",
       "      <td>setosa</td>\n",
       "    </tr>\n",
       "    <tr>\n",
       "      <th>4</th>\n",
       "      <td>5.0</td>\n",
       "      <td>3.6</td>\n",
       "      <td>1.4</td>\n",
       "      <td>0.2</td>\n",
       "      <td>setosa</td>\n",
       "    </tr>\n",
       "    <tr>\n",
       "      <th>...</th>\n",
       "      <td>...</td>\n",
       "      <td>...</td>\n",
       "      <td>...</td>\n",
       "      <td>...</td>\n",
       "      <td>...</td>\n",
       "    </tr>\n",
       "    <tr>\n",
       "      <th>145</th>\n",
       "      <td>6.7</td>\n",
       "      <td>3.0</td>\n",
       "      <td>5.2</td>\n",
       "      <td>2.3</td>\n",
       "      <td>virginica</td>\n",
       "    </tr>\n",
       "    <tr>\n",
       "      <th>146</th>\n",
       "      <td>6.3</td>\n",
       "      <td>2.5</td>\n",
       "      <td>5.0</td>\n",
       "      <td>1.9</td>\n",
       "      <td>virginica</td>\n",
       "    </tr>\n",
       "    <tr>\n",
       "      <th>147</th>\n",
       "      <td>6.5</td>\n",
       "      <td>3.0</td>\n",
       "      <td>5.2</td>\n",
       "      <td>2.0</td>\n",
       "      <td>virginica</td>\n",
       "    </tr>\n",
       "    <tr>\n",
       "      <th>148</th>\n",
       "      <td>6.2</td>\n",
       "      <td>3.4</td>\n",
       "      <td>5.4</td>\n",
       "      <td>2.3</td>\n",
       "      <td>virginica</td>\n",
       "    </tr>\n",
       "    <tr>\n",
       "      <th>149</th>\n",
       "      <td>5.9</td>\n",
       "      <td>3.0</td>\n",
       "      <td>5.1</td>\n",
       "      <td>1.8</td>\n",
       "      <td>virginica</td>\n",
       "    </tr>\n",
       "  </tbody>\n",
       "</table>\n",
       "<p>150 rows × 5 columns</p>\n",
       "</div>"
      ],
      "text/plain": [
       "     sepal_length  sepal_width  petal_length  petal_width    species\n",
       "0             5.1          3.5           1.4          0.2     setosa\n",
       "1             4.9          3.0           1.4          0.2     setosa\n",
       "2             4.7          3.2           1.3          0.2     setosa\n",
       "3             4.6          3.1           1.5          0.2     setosa\n",
       "4             5.0          3.6           1.4          0.2     setosa\n",
       "..            ...          ...           ...          ...        ...\n",
       "145           6.7          3.0           5.2          2.3  virginica\n",
       "146           6.3          2.5           5.0          1.9  virginica\n",
       "147           6.5          3.0           5.2          2.0  virginica\n",
       "148           6.2          3.4           5.4          2.3  virginica\n",
       "149           5.9          3.0           5.1          1.8  virginica\n",
       "\n",
       "[150 rows x 5 columns]"
      ]
     },
     "execution_count": 84,
     "metadata": {},
     "output_type": "execute_result"
    }
   ],
   "source": [
    "iris_df.columns = [col[:12].strip().replace(' ', '_') for col in iris_df.columns]\n",
    "iris_df"
   ]
  },
  {
   "cell_type": "markdown",
   "id": "8a16ef95",
   "metadata": {},
   "source": [
    "# 3절. 이름(열,행) 지정하기"
   ]
  },
  {
   "cell_type": "markdown",
   "id": "055b9ba5",
   "metadata": {},
   "source": [
    "## 3.1 열 이름 지정하기"
   ]
  },
  {
   "cell_type": "code",
   "execution_count": 86,
   "id": "2f1f7d05",
   "metadata": {
    "ExecuteTime": {
     "end_time": "2021-08-02T03:07:20.615184Z",
     "start_time": "2021-08-02T03:07:20.599248Z"
    }
   },
   "outputs": [
    {
     "data": {
      "text/html": [
       "<div>\n",
       "<style scoped>\n",
       "    .dataframe tbody tr th:only-of-type {\n",
       "        vertical-align: middle;\n",
       "    }\n",
       "\n",
       "    .dataframe tbody tr th {\n",
       "        vertical-align: top;\n",
       "    }\n",
       "\n",
       "    .dataframe thead th {\n",
       "        text-align: right;\n",
       "    }\n",
       "</style>\n",
       "<table border=\"1\" class=\"dataframe\">\n",
       "  <thead>\n",
       "    <tr style=\"text-align: right;\">\n",
       "      <th></th>\n",
       "      <th>Name</th>\n",
       "      <th>Age</th>\n",
       "      <th>Email</th>\n",
       "      <th>Address</th>\n",
       "    </tr>\n",
       "  </thead>\n",
       "  <tbody>\n",
       "    <tr>\n",
       "      <th>0</th>\n",
       "      <td>심권호</td>\n",
       "      <td>31</td>\n",
       "      <td>Kownho@sim.co.kr</td>\n",
       "      <td>경기도 용인시</td>\n",
       "    </tr>\n",
       "    <tr>\n",
       "      <th>1</th>\n",
       "      <td>김연아</td>\n",
       "      <td>32</td>\n",
       "      <td>Yuna@queen.com</td>\n",
       "      <td>세종시</td>\n",
       "    </tr>\n",
       "    <tr>\n",
       "      <th>2</th>\n",
       "      <td>추신수</td>\n",
       "      <td>41</td>\n",
       "      <td>Shinsoo@choo.net</td>\n",
       "      <td>인천시 중구</td>\n",
       "    </tr>\n",
       "    <tr>\n",
       "      <th>3</th>\n",
       "      <td>아이유</td>\n",
       "      <td>27</td>\n",
       "      <td>jieun@lee.com</td>\n",
       "      <td>부산시 강서구</td>\n",
       "    </tr>\n",
       "  </tbody>\n",
       "</table>\n",
       "</div>"
      ],
      "text/plain": [
       "  Name   Age              Email   Address\n",
       "0  심권호    31   Kownho@sim.co.kr   경기도 용인시\n",
       "1  김연아    32     Yuna@queen.com       세종시\n",
       "2  추신수    41   Shinsoo@choo.net    인천시 중구\n",
       "3  아이유    27      jieun@lee.com   부산시 강서구"
      ]
     },
     "execution_count": 86,
     "metadata": {},
     "output_type": "execute_result"
    }
   ],
   "source": [
    "member_df = pd.read_csv('data/ch12_member(8.2).csv', comment='#')\n",
    "member_df"
   ]
  },
  {
   "cell_type": "code",
   "execution_count": 88,
   "id": "65d5f76a",
   "metadata": {
    "ExecuteTime": {
     "end_time": "2021-08-02T03:07:42.965153Z",
     "start_time": "2021-08-02T03:07:42.951183Z"
    }
   },
   "outputs": [
    {
     "data": {
      "text/plain": [
       "Index(['Name', ' Age', 'Email', 'Address'], dtype='object')"
      ]
     },
     "execution_count": 88,
     "metadata": {},
     "output_type": "execute_result"
    }
   ],
   "source": [
    "member_df.columns"
   ]
  },
  {
   "cell_type": "code",
   "execution_count": 89,
   "id": "608b9e5c",
   "metadata": {
    "ExecuteTime": {
     "end_time": "2021-08-02T03:08:05.705953Z",
     "start_time": "2021-08-02T03:08:05.687002Z"
    }
   },
   "outputs": [
    {
     "data": {
      "text/html": [
       "<div>\n",
       "<style scoped>\n",
       "    .dataframe tbody tr th:only-of-type {\n",
       "        vertical-align: middle;\n",
       "    }\n",
       "\n",
       "    .dataframe tbody tr th {\n",
       "        vertical-align: top;\n",
       "    }\n",
       "\n",
       "    .dataframe thead th {\n",
       "        text-align: right;\n",
       "    }\n",
       "</style>\n",
       "<table border=\"1\" class=\"dataframe\">\n",
       "  <thead>\n",
       "    <tr style=\"text-align: right;\">\n",
       "      <th></th>\n",
       "      <th>이름</th>\n",
       "      <th>나이</th>\n",
       "      <th>이메일</th>\n",
       "      <th>주소</th>\n",
       "    </tr>\n",
       "  </thead>\n",
       "  <tbody>\n",
       "    <tr>\n",
       "      <th>0</th>\n",
       "      <td>심권호</td>\n",
       "      <td>31</td>\n",
       "      <td>Kownho@sim.co.kr</td>\n",
       "      <td>경기도 용인시</td>\n",
       "    </tr>\n",
       "    <tr>\n",
       "      <th>1</th>\n",
       "      <td>김연아</td>\n",
       "      <td>32</td>\n",
       "      <td>Yuna@queen.com</td>\n",
       "      <td>세종시</td>\n",
       "    </tr>\n",
       "    <tr>\n",
       "      <th>2</th>\n",
       "      <td>추신수</td>\n",
       "      <td>41</td>\n",
       "      <td>Shinsoo@choo.net</td>\n",
       "      <td>인천시 중구</td>\n",
       "    </tr>\n",
       "    <tr>\n",
       "      <th>3</th>\n",
       "      <td>아이유</td>\n",
       "      <td>27</td>\n",
       "      <td>jieun@lee.com</td>\n",
       "      <td>부산시 강서구</td>\n",
       "    </tr>\n",
       "  </tbody>\n",
       "</table>\n",
       "</div>"
      ],
      "text/plain": [
       "    이름  나이                이메일        주소\n",
       "0  심권호  31   Kownho@sim.co.kr   경기도 용인시\n",
       "1  김연아  32     Yuna@queen.com       세종시\n",
       "2  추신수  41   Shinsoo@choo.net    인천시 중구\n",
       "3  아이유  27      jieun@lee.com   부산시 강서구"
      ]
     },
     "execution_count": 89,
     "metadata": {},
     "output_type": "execute_result"
    }
   ],
   "source": [
    "member_df.columns = ['이름', '나이', '이메일', '주소']\n",
    "member_df"
   ]
  },
  {
   "cell_type": "markdown",
   "id": "2fe0a28c",
   "metadata": {},
   "source": [
    "## 3.2 행이름 지정하기"
   ]
  },
  {
   "cell_type": "code",
   "execution_count": 90,
   "id": "076393e8",
   "metadata": {
    "ExecuteTime": {
     "end_time": "2021-08-02T03:08:17.583289Z",
     "start_time": "2021-08-02T03:08:17.574292Z"
    }
   },
   "outputs": [
    {
     "data": {
      "text/plain": [
       "RangeIndex(start=0, stop=4, step=1)"
      ]
     },
     "execution_count": 90,
     "metadata": {},
     "output_type": "execute_result"
    }
   ],
   "source": [
    "member_df.index"
   ]
  },
  {
   "cell_type": "code",
   "execution_count": null,
   "id": "82c1e1e9",
   "metadata": {},
   "outputs": [],
   "source": [
    "# member_df.index = range(101, 105) 로 재지정 가능"
   ]
  },
  {
   "cell_type": "code",
   "execution_count": 91,
   "id": "58db75fa",
   "metadata": {
    "ExecuteTime": {
     "end_time": "2021-08-02T03:10:08.531861Z",
     "start_time": "2021-08-02T03:10:08.518914Z"
    }
   },
   "outputs": [
    {
     "data": {
      "text/html": [
       "<div>\n",
       "<style scoped>\n",
       "    .dataframe tbody tr th:only-of-type {\n",
       "        vertical-align: middle;\n",
       "    }\n",
       "\n",
       "    .dataframe tbody tr th {\n",
       "        vertical-align: top;\n",
       "    }\n",
       "\n",
       "    .dataframe thead th {\n",
       "        text-align: right;\n",
       "    }\n",
       "</style>\n",
       "<table border=\"1\" class=\"dataframe\">\n",
       "  <thead>\n",
       "    <tr style=\"text-align: right;\">\n",
       "      <th></th>\n",
       "      <th>이름</th>\n",
       "      <th>나이</th>\n",
       "      <th>이메일</th>\n",
       "      <th>주소</th>\n",
       "    </tr>\n",
       "  </thead>\n",
       "  <tbody>\n",
       "    <tr>\n",
       "      <th>동</th>\n",
       "      <td>심권호</td>\n",
       "      <td>31</td>\n",
       "      <td>Kownho@sim.co.kr</td>\n",
       "      <td>경기도 용인시</td>\n",
       "    </tr>\n",
       "    <tr>\n",
       "      <th>서</th>\n",
       "      <td>김연아</td>\n",
       "      <td>32</td>\n",
       "      <td>Yuna@queen.com</td>\n",
       "      <td>세종시</td>\n",
       "    </tr>\n",
       "    <tr>\n",
       "      <th>남</th>\n",
       "      <td>추신수</td>\n",
       "      <td>41</td>\n",
       "      <td>Shinsoo@choo.net</td>\n",
       "      <td>인천시 중구</td>\n",
       "    </tr>\n",
       "    <tr>\n",
       "      <th>북</th>\n",
       "      <td>아이유</td>\n",
       "      <td>27</td>\n",
       "      <td>jieun@lee.com</td>\n",
       "      <td>부산시 강서구</td>\n",
       "    </tr>\n",
       "  </tbody>\n",
       "</table>\n",
       "</div>"
      ],
      "text/plain": [
       "    이름  나이                이메일        주소\n",
       "동  심권호  31   Kownho@sim.co.kr   경기도 용인시\n",
       "서  김연아  32     Yuna@queen.com       세종시\n",
       "남  추신수  41   Shinsoo@choo.net    인천시 중구\n",
       "북  아이유  27      jieun@lee.com   부산시 강서구"
      ]
     },
     "execution_count": 91,
     "metadata": {},
     "output_type": "execute_result"
    }
   ],
   "source": [
    "member_df.index = ['동', '서', '남', '북']\n",
    "member_df"
   ]
  },
  {
   "cell_type": "code",
   "execution_count": 93,
   "id": "e26bbc86",
   "metadata": {
    "ExecuteTime": {
     "end_time": "2021-08-02T03:13:02.027093Z",
     "start_time": "2021-08-02T03:13:02.006150Z"
    }
   },
   "outputs": [
    {
     "data": {
      "text/html": [
       "<div>\n",
       "<style scoped>\n",
       "    .dataframe tbody tr th:only-of-type {\n",
       "        vertical-align: middle;\n",
       "    }\n",
       "\n",
       "    .dataframe tbody tr th {\n",
       "        vertical-align: top;\n",
       "    }\n",
       "\n",
       "    .dataframe thead th {\n",
       "        text-align: right;\n",
       "    }\n",
       "</style>\n",
       "<table border=\"1\" class=\"dataframe\">\n",
       "  <thead>\n",
       "    <tr style=\"text-align: right;\">\n",
       "      <th></th>\n",
       "      <th>Name</th>\n",
       "      <th>Age</th>\n",
       "      <th>Email</th>\n",
       "      <th>Address</th>\n",
       "    </tr>\n",
       "  </thead>\n",
       "  <tbody>\n",
       "    <tr>\n",
       "      <th>0</th>\n",
       "      <td>심권호</td>\n",
       "      <td>31</td>\n",
       "      <td>Kownho@sim.co.kr</td>\n",
       "      <td>경기도 용인시</td>\n",
       "    </tr>\n",
       "    <tr>\n",
       "      <th>1</th>\n",
       "      <td>김연아</td>\n",
       "      <td>32</td>\n",
       "      <td>Yuna@queen.com</td>\n",
       "      <td>세종시</td>\n",
       "    </tr>\n",
       "    <tr>\n",
       "      <th>2</th>\n",
       "      <td>추신수</td>\n",
       "      <td>41</td>\n",
       "      <td>Shinsoo@choo.net</td>\n",
       "      <td>인천시 중구</td>\n",
       "    </tr>\n",
       "    <tr>\n",
       "      <th>3</th>\n",
       "      <td>아이유</td>\n",
       "      <td>27</td>\n",
       "      <td>jieun@lee.com</td>\n",
       "      <td>부산시 강서구</td>\n",
       "    </tr>\n",
       "  </tbody>\n",
       "</table>\n",
       "</div>"
      ],
      "text/plain": [
       "  Name   Age              Email   Address\n",
       "0  심권호    31   Kownho@sim.co.kr   경기도 용인시\n",
       "1  김연아    32     Yuna@queen.com       세종시\n",
       "2  추신수    41   Shinsoo@choo.net    인천시 중구\n",
       "3  아이유    27      jieun@lee.com   부산시 강서구"
      ]
     },
     "execution_count": 93,
     "metadata": {},
     "output_type": "execute_result"
    }
   ],
   "source": [
    "# name을 행이름으로\n",
    "member_df = pd.read_csv('data/ch12_member(8.2).csv', comment='#')\n",
    "member_df"
   ]
  },
  {
   "cell_type": "code",
   "execution_count": 100,
   "id": "cb156f26",
   "metadata": {
    "ExecuteTime": {
     "end_time": "2021-08-02T03:18:38.742091Z",
     "start_time": "2021-08-02T03:18:38.727107Z"
    }
   },
   "outputs": [
    {
     "data": {
      "text/html": [
       "<div>\n",
       "<style scoped>\n",
       "    .dataframe tbody tr th:only-of-type {\n",
       "        vertical-align: middle;\n",
       "    }\n",
       "\n",
       "    .dataframe tbody tr th {\n",
       "        vertical-align: top;\n",
       "    }\n",
       "\n",
       "    .dataframe thead th {\n",
       "        text-align: right;\n",
       "    }\n",
       "</style>\n",
       "<table border=\"1\" class=\"dataframe\">\n",
       "  <thead>\n",
       "    <tr style=\"text-align: right;\">\n",
       "      <th></th>\n",
       "      <th>Age</th>\n",
       "      <th>Email</th>\n",
       "      <th>Address</th>\n",
       "    </tr>\n",
       "    <tr>\n",
       "      <th>Name</th>\n",
       "      <th></th>\n",
       "      <th></th>\n",
       "      <th></th>\n",
       "    </tr>\n",
       "  </thead>\n",
       "  <tbody>\n",
       "    <tr>\n",
       "      <th>심권호</th>\n",
       "      <td>31</td>\n",
       "      <td>Kownho@sim.co.kr</td>\n",
       "      <td>경기도 용인시</td>\n",
       "    </tr>\n",
       "    <tr>\n",
       "      <th>김연아</th>\n",
       "      <td>32</td>\n",
       "      <td>Yuna@queen.com</td>\n",
       "      <td>세종시</td>\n",
       "    </tr>\n",
       "    <tr>\n",
       "      <th>추신수</th>\n",
       "      <td>41</td>\n",
       "      <td>Shinsoo@choo.net</td>\n",
       "      <td>인천시 중구</td>\n",
       "    </tr>\n",
       "    <tr>\n",
       "      <th>아이유</th>\n",
       "      <td>27</td>\n",
       "      <td>jieun@lee.com</td>\n",
       "      <td>부산시 강서구</td>\n",
       "    </tr>\n",
       "  </tbody>\n",
       "</table>\n",
       "</div>"
      ],
      "text/plain": [
       "       Age              Email   Address\n",
       "Name                                   \n",
       "심권호     31   Kownho@sim.co.kr   경기도 용인시\n",
       "김연아     32     Yuna@queen.com       세종시\n",
       "추신수     41   Shinsoo@choo.net    인천시 중구\n",
       "아이유     27      jieun@lee.com   부산시 강서구"
      ]
     },
     "execution_count": 100,
     "metadata": {},
     "output_type": "execute_result"
    }
   ],
   "source": [
    "member = member_df.set_index('Name')\n",
    "member"
   ]
  },
  {
   "cell_type": "code",
   "execution_count": 112,
   "id": "d01251ea",
   "metadata": {
    "ExecuteTime": {
     "end_time": "2021-08-02T03:35:10.904627Z",
     "start_time": "2021-08-02T03:35:10.894654Z"
    }
   },
   "outputs": [
    {
     "data": {
      "text/html": [
       "<div>\n",
       "<style scoped>\n",
       "    .dataframe tbody tr th:only-of-type {\n",
       "        vertical-align: middle;\n",
       "    }\n",
       "\n",
       "    .dataframe tbody tr th {\n",
       "        vertical-align: top;\n",
       "    }\n",
       "\n",
       "    .dataframe thead th {\n",
       "        text-align: right;\n",
       "    }\n",
       "</style>\n",
       "<table border=\"1\" class=\"dataframe\">\n",
       "  <thead>\n",
       "    <tr style=\"text-align: right;\">\n",
       "      <th></th>\n",
       "      <th>Name</th>\n",
       "      <th>Age</th>\n",
       "      <th>Email</th>\n",
       "      <th>Address</th>\n",
       "    </tr>\n",
       "  </thead>\n",
       "  <tbody>\n",
       "    <tr>\n",
       "      <th>0</th>\n",
       "      <td>심권호</td>\n",
       "      <td>31</td>\n",
       "      <td>Kownho@sim.co.kr</td>\n",
       "      <td>경기도 용인시</td>\n",
       "    </tr>\n",
       "    <tr>\n",
       "      <th>1</th>\n",
       "      <td>김연아</td>\n",
       "      <td>32</td>\n",
       "      <td>Yuna@queen.com</td>\n",
       "      <td>세종시</td>\n",
       "    </tr>\n",
       "    <tr>\n",
       "      <th>2</th>\n",
       "      <td>추신수</td>\n",
       "      <td>41</td>\n",
       "      <td>Shinsoo@choo.net</td>\n",
       "      <td>인천시 중구</td>\n",
       "    </tr>\n",
       "    <tr>\n",
       "      <th>3</th>\n",
       "      <td>아이유</td>\n",
       "      <td>27</td>\n",
       "      <td>jieun@lee.com</td>\n",
       "      <td>부산시 강서구</td>\n",
       "    </tr>\n",
       "  </tbody>\n",
       "</table>\n",
       "</div>"
      ],
      "text/plain": [
       "  Name   Age              Email   Address\n",
       "0  심권호    31   Kownho@sim.co.kr   경기도 용인시\n",
       "1  김연아    32     Yuna@queen.com       세종시\n",
       "2  추신수    41   Shinsoo@choo.net    인천시 중구\n",
       "3  아이유    27      jieun@lee.com   부산시 강서구"
      ]
     },
     "execution_count": 112,
     "metadata": {},
     "output_type": "execute_result"
    }
   ],
   "source": [
    "# 행이름을 컬럼에 편입시키기(위의 반대작업)\n",
    "member.reset_index() # 실행한 결과가 출력되는 함수는 member를 수정시키지 않음.\n",
    "                    # 수정시키고 싶은 경우 변수에 할당시킬 것!!! : member = member.reset_index()\n",
    "                    # inplace = True 추가시 member를 수정시킴, 값을 반환출력하진 않음.\n",
    "                    # 모르는 함수 확인은 shifrt + tab + tab!\n",
    "                        # -> inplace = True는 결과값을 반환해주지만 수정을 가하지는 않음! ★★★"
   ]
  },
  {
   "cell_type": "code",
   "execution_count": 113,
   "id": "669a25d7",
   "metadata": {
    "ExecuteTime": {
     "end_time": "2021-08-02T03:35:12.995550Z",
     "start_time": "2021-08-02T03:35:12.982594Z"
    }
   },
   "outputs": [
    {
     "data": {
      "text/html": [
       "<div>\n",
       "<style scoped>\n",
       "    .dataframe tbody tr th:only-of-type {\n",
       "        vertical-align: middle;\n",
       "    }\n",
       "\n",
       "    .dataframe tbody tr th {\n",
       "        vertical-align: top;\n",
       "    }\n",
       "\n",
       "    .dataframe thead th {\n",
       "        text-align: right;\n",
       "    }\n",
       "</style>\n",
       "<table border=\"1\" class=\"dataframe\">\n",
       "  <thead>\n",
       "    <tr style=\"text-align: right;\">\n",
       "      <th></th>\n",
       "      <th>Age</th>\n",
       "      <th>Email</th>\n",
       "      <th>Address</th>\n",
       "    </tr>\n",
       "    <tr>\n",
       "      <th>Name</th>\n",
       "      <th></th>\n",
       "      <th></th>\n",
       "      <th></th>\n",
       "    </tr>\n",
       "  </thead>\n",
       "  <tbody>\n",
       "    <tr>\n",
       "      <th>심권호</th>\n",
       "      <td>31</td>\n",
       "      <td>Kownho@sim.co.kr</td>\n",
       "      <td>경기도 용인시</td>\n",
       "    </tr>\n",
       "    <tr>\n",
       "      <th>김연아</th>\n",
       "      <td>32</td>\n",
       "      <td>Yuna@queen.com</td>\n",
       "      <td>세종시</td>\n",
       "    </tr>\n",
       "    <tr>\n",
       "      <th>추신수</th>\n",
       "      <td>41</td>\n",
       "      <td>Shinsoo@choo.net</td>\n",
       "      <td>인천시 중구</td>\n",
       "    </tr>\n",
       "    <tr>\n",
       "      <th>아이유</th>\n",
       "      <td>27</td>\n",
       "      <td>jieun@lee.com</td>\n",
       "      <td>부산시 강서구</td>\n",
       "    </tr>\n",
       "  </tbody>\n",
       "</table>\n",
       "</div>"
      ],
      "text/plain": [
       "       Age              Email   Address\n",
       "Name                                   \n",
       "심권호     31   Kownho@sim.co.kr   경기도 용인시\n",
       "김연아     32     Yuna@queen.com       세종시\n",
       "추신수     41   Shinsoo@choo.net    인천시 중구\n",
       "아이유     27      jieun@lee.com   부산시 강서구"
      ]
     },
     "execution_count": 113,
     "metadata": {},
     "output_type": "execute_result"
    }
   ],
   "source": [
    "member # 위에 inplace = True를 설정하지 않아 데이터에 수정이 이루어지진 않았다. "
   ]
  },
  {
   "cell_type": "code",
   "execution_count": 114,
   "id": "0a5bd25d",
   "metadata": {
    "ExecuteTime": {
     "end_time": "2021-08-02T03:35:14.466820Z",
     "start_time": "2021-08-02T03:35:14.454874Z"
    }
   },
   "outputs": [],
   "source": [
    "member.reset_index(inplace = True)"
   ]
  },
  {
   "cell_type": "code",
   "execution_count": 115,
   "id": "d7a523bf",
   "metadata": {
    "ExecuteTime": {
     "end_time": "2021-08-02T03:35:16.443869Z",
     "start_time": "2021-08-02T03:35:16.421929Z"
    }
   },
   "outputs": [
    {
     "data": {
      "text/html": [
       "<div>\n",
       "<style scoped>\n",
       "    .dataframe tbody tr th:only-of-type {\n",
       "        vertical-align: middle;\n",
       "    }\n",
       "\n",
       "    .dataframe tbody tr th {\n",
       "        vertical-align: top;\n",
       "    }\n",
       "\n",
       "    .dataframe thead th {\n",
       "        text-align: right;\n",
       "    }\n",
       "</style>\n",
       "<table border=\"1\" class=\"dataframe\">\n",
       "  <thead>\n",
       "    <tr style=\"text-align: right;\">\n",
       "      <th></th>\n",
       "      <th>Name</th>\n",
       "      <th>Age</th>\n",
       "      <th>Email</th>\n",
       "      <th>Address</th>\n",
       "    </tr>\n",
       "  </thead>\n",
       "  <tbody>\n",
       "    <tr>\n",
       "      <th>0</th>\n",
       "      <td>심권호</td>\n",
       "      <td>31</td>\n",
       "      <td>Kownho@sim.co.kr</td>\n",
       "      <td>경기도 용인시</td>\n",
       "    </tr>\n",
       "    <tr>\n",
       "      <th>1</th>\n",
       "      <td>김연아</td>\n",
       "      <td>32</td>\n",
       "      <td>Yuna@queen.com</td>\n",
       "      <td>세종시</td>\n",
       "    </tr>\n",
       "    <tr>\n",
       "      <th>2</th>\n",
       "      <td>추신수</td>\n",
       "      <td>41</td>\n",
       "      <td>Shinsoo@choo.net</td>\n",
       "      <td>인천시 중구</td>\n",
       "    </tr>\n",
       "    <tr>\n",
       "      <th>3</th>\n",
       "      <td>아이유</td>\n",
       "      <td>27</td>\n",
       "      <td>jieun@lee.com</td>\n",
       "      <td>부산시 강서구</td>\n",
       "    </tr>\n",
       "  </tbody>\n",
       "</table>\n",
       "</div>"
      ],
      "text/plain": [
       "  Name   Age              Email   Address\n",
       "0  심권호    31   Kownho@sim.co.kr   경기도 용인시\n",
       "1  김연아    32     Yuna@queen.com       세종시\n",
       "2  추신수    41   Shinsoo@choo.net    인천시 중구\n",
       "3  아이유    27      jieun@lee.com   부산시 강서구"
      ]
     },
     "execution_count": 115,
     "metadata": {},
     "output_type": "execute_result"
    }
   ],
   "source": [
    "member # inplace = True에 의해 데이터 자체에 변화가 생김."
   ]
  },
  {
   "cell_type": "code",
   "execution_count": 43,
   "id": "d42579eb",
   "metadata": {
    "ExecuteTime": {
     "end_time": "2021-09-06T09:13:10.968684Z",
     "start_time": "2021-09-06T09:13:10.961724Z"
    }
   },
   "outputs": [
    {
     "data": {
      "text/plain": [
       "Index(['Name', ' Age', 'Email', 'Address'], dtype='object')"
      ]
     },
     "execution_count": 43,
     "metadata": {},
     "output_type": "execute_result"
    }
   ],
   "source": [
    "member_df.columns"
   ]
  },
  {
   "cell_type": "code",
   "execution_count": 111,
   "id": "3fd3f651",
   "metadata": {
    "ExecuteTime": {
     "end_time": "2021-08-02T03:34:53.746926Z",
     "start_time": "2021-08-02T03:34:53.734939Z"
    }
   },
   "outputs": [
    {
     "data": {
      "text/plain": [
       "'김연아'"
      ]
     },
     "execution_count": 111,
     "metadata": {},
     "output_type": "execute_result"
    }
   ],
   "source": [
    "member_df.loc[1, 'Name']"
   ]
  },
  {
   "cell_type": "markdown",
   "id": "cc2d4fcd",
   "metadata": {},
   "source": [
    "## 3.3 레벨이름 지정하기\n",
    "- 컬럼의 이름을 두 가지로 지정(?)"
   ]
  },
  {
   "cell_type": "code",
   "execution_count": 119,
   "id": "94386ba3",
   "metadata": {
    "ExecuteTime": {
     "end_time": "2021-08-02T03:37:22.043585Z",
     "start_time": "2021-08-02T03:37:22.021656Z"
    }
   },
   "outputs": [
    {
     "data": {
      "text/html": [
       "<div>\n",
       "<style scoped>\n",
       "    .dataframe tbody tr th:only-of-type {\n",
       "        vertical-align: middle;\n",
       "    }\n",
       "\n",
       "    .dataframe tbody tr th {\n",
       "        vertical-align: top;\n",
       "    }\n",
       "\n",
       "    .dataframe thead tr th {\n",
       "        text-align: left;\n",
       "    }\n",
       "</style>\n",
       "<table border=\"1\" class=\"dataframe\">\n",
       "  <thead>\n",
       "    <tr>\n",
       "      <th>대분류</th>\n",
       "      <th colspan=\"2\" halign=\"left\">기본정보</th>\n",
       "      <th colspan=\"2\" halign=\"left\">추가정보</th>\n",
       "    </tr>\n",
       "    <tr>\n",
       "      <th>소분류</th>\n",
       "      <th>이름</th>\n",
       "      <th>나이</th>\n",
       "      <th>이메일</th>\n",
       "      <th>주소</th>\n",
       "    </tr>\n",
       "  </thead>\n",
       "  <tbody>\n",
       "    <tr>\n",
       "      <th>0</th>\n",
       "      <td>심권호</td>\n",
       "      <td>31</td>\n",
       "      <td>Kownho@sim.co.kr</td>\n",
       "      <td>경기도 용인시</td>\n",
       "    </tr>\n",
       "    <tr>\n",
       "      <th>1</th>\n",
       "      <td>김연아</td>\n",
       "      <td>32</td>\n",
       "      <td>Yuna@queen.com</td>\n",
       "      <td>세종시</td>\n",
       "    </tr>\n",
       "    <tr>\n",
       "      <th>2</th>\n",
       "      <td>추신수</td>\n",
       "      <td>41</td>\n",
       "      <td>Shinsoo@choo.net</td>\n",
       "      <td>인천시 중구</td>\n",
       "    </tr>\n",
       "    <tr>\n",
       "      <th>3</th>\n",
       "      <td>아이유</td>\n",
       "      <td>27</td>\n",
       "      <td>jieun@lee.com</td>\n",
       "      <td>부산시 강서구</td>\n",
       "    </tr>\n",
       "  </tbody>\n",
       "</table>\n",
       "</div>"
      ],
      "text/plain": [
       "대분류 기본정보                   추가정보          \n",
       "소분류   이름  나이                이메일        주소\n",
       "0    심권호  31   Kownho@sim.co.kr   경기도 용인시\n",
       "1    김연아  32     Yuna@queen.com       세종시\n",
       "2    추신수  41   Shinsoo@choo.net    인천시 중구\n",
       "3    아이유  27      jieun@lee.com   부산시 강서구"
      ]
     },
     "execution_count": 119,
     "metadata": {},
     "output_type": "execute_result"
    }
   ],
   "source": [
    "# 행이름을 두 게층으로 구성하기\n",
    "member_df.columns = [['기본정보','기본정보','추가정보','추가정보'], ['이름','나이','이메일','주소']]\n",
    "member_df.columns.names = ['대분류', '소분류']\n",
    "member_df"
   ]
  },
  {
   "cell_type": "code",
   "execution_count": 120,
   "id": "5ab4d45a",
   "metadata": {
    "ExecuteTime": {
     "end_time": "2021-08-02T03:39:06.190683Z",
     "start_time": "2021-08-02T03:39:06.166733Z"
    }
   },
   "outputs": [
    {
     "data": {
      "text/html": [
       "<div>\n",
       "<style scoped>\n",
       "    .dataframe tbody tr th:only-of-type {\n",
       "        vertical-align: middle;\n",
       "    }\n",
       "\n",
       "    .dataframe tbody tr th {\n",
       "        vertical-align: top;\n",
       "    }\n",
       "\n",
       "    .dataframe thead tr th {\n",
       "        text-align: left;\n",
       "    }\n",
       "</style>\n",
       "<table border=\"1\" class=\"dataframe\">\n",
       "  <thead>\n",
       "    <tr>\n",
       "      <th></th>\n",
       "      <th>대분류</th>\n",
       "      <th colspan=\"2\" halign=\"left\">기본정보</th>\n",
       "      <th colspan=\"2\" halign=\"left\">추가정보</th>\n",
       "    </tr>\n",
       "    <tr>\n",
       "      <th></th>\n",
       "      <th>소분류</th>\n",
       "      <th>이름</th>\n",
       "      <th>나이</th>\n",
       "      <th>이메일</th>\n",
       "      <th>주소</th>\n",
       "    </tr>\n",
       "  </thead>\n",
       "  <tbody>\n",
       "    <tr>\n",
       "      <th rowspan=\"2\" valign=\"top\">좌우</th>\n",
       "      <th>동</th>\n",
       "      <td>심권호</td>\n",
       "      <td>31</td>\n",
       "      <td>Kownho@sim.co.kr</td>\n",
       "      <td>경기도 용인시</td>\n",
       "    </tr>\n",
       "    <tr>\n",
       "      <th>서</th>\n",
       "      <td>김연아</td>\n",
       "      <td>32</td>\n",
       "      <td>Yuna@queen.com</td>\n",
       "      <td>세종시</td>\n",
       "    </tr>\n",
       "    <tr>\n",
       "      <th rowspan=\"2\" valign=\"top\">상하</th>\n",
       "      <th>남</th>\n",
       "      <td>추신수</td>\n",
       "      <td>41</td>\n",
       "      <td>Shinsoo@choo.net</td>\n",
       "      <td>인천시 중구</td>\n",
       "    </tr>\n",
       "    <tr>\n",
       "      <th>북</th>\n",
       "      <td>아이유</td>\n",
       "      <td>27</td>\n",
       "      <td>jieun@lee.com</td>\n",
       "      <td>부산시 강서구</td>\n",
       "    </tr>\n",
       "  </tbody>\n",
       "</table>\n",
       "</div>"
      ],
      "text/plain": [
       "대분류  기본정보                   추가정보          \n",
       "소분류    이름  나이                이메일        주소\n",
       "좌우 동  심권호  31   Kownho@sim.co.kr   경기도 용인시\n",
       "   서  김연아  32     Yuna@queen.com       세종시\n",
       "상하 남  추신수  41   Shinsoo@choo.net    인천시 중구\n",
       "   북  아이유  27      jieun@lee.com   부산시 강서구"
      ]
     },
     "execution_count": 120,
     "metadata": {},
     "output_type": "execute_result"
    }
   ],
   "source": [
    "# index를 두 계층으로 구성하기\n",
    "member_df.index = [['좌우','좌우','상하','상하'],['동','서','남','북']]\n",
    "member_df"
   ]
  },
  {
   "cell_type": "code",
   "execution_count": 121,
   "id": "848dec76",
   "metadata": {
    "ExecuteTime": {
     "end_time": "2021-08-02T03:40:41.661487Z",
     "start_time": "2021-08-02T03:40:41.558765Z"
    }
   },
   "outputs": [
    {
     "data": {
      "text/plain": [
       "31"
      ]
     },
     "execution_count": 121,
     "metadata": {},
     "output_type": "execute_result"
    }
   ],
   "source": [
    "# 두 계층으로 행이름, 인덱스를 구성하면 데이터에 접근하기가 어려워진다...\n",
    "member_df.loc['좌우','기본정보']['나이']['동']"
   ]
  },
  {
   "cell_type": "markdown",
   "id": "d2b9968d",
   "metadata": {
    "ExecuteTime": {
     "end_time": "2021-08-02T03:42:44.090536Z",
     "start_time": "2021-08-02T03:42:44.085571Z"
    }
   },
   "source": [
    "# 4절. 부분데이터 조회"
   ]
  },
  {
   "cell_type": "markdown",
   "id": "3c1f9790",
   "metadata": {},
   "source": [
    "### Indexing, Slicing and Subsetting DataFrames in Python\n",
    "- https://datacarpentry.org/python-ecology-lesson/03-index-slice-subset/"
   ]
  },
  {
   "cell_type": "code",
   "execution_count": null,
   "id": "eca43192",
   "metadata": {},
   "outputs": [],
   "source": [
    "# selecting data using Labels(Column Headings)\n",
    "    # (1) surveys_df['species_id'], (2) surbeys_df.species_id\n",
    "\n",
    "    # we can pass a list of column names too, as an index to select columns in that oreder\n",
    "        # surveys_df[['species_id', 'plot_id']], surveys_df[['plot_id', 'species_id']]\n",
    "\n",
    "# Slicing Subsets of Rows in Python\n",
    "# Slicing Subsets of Rows and Columns in Python\n",
    "    # Slicing using the [] operator selects a set of rows and/or columns from a DataFrame.\n",
    "        #  To slice out a set of rows, you use the following syntax: data[start:stop].\n",
    "            # surveys_df[0:3] / surveys_df[:5] / surveys_df[-1:]\n",
    "            \n",
    "    # We can select specific ranges of our data in both the row and column directions using either label or integer-based indexing.\n",
    "        # loc is primarily label based indexing. Integers may be used but they are interpreted as a label.\n",
    "        # iloc is primarily integer based indexing\n",
    "            # surveys_df.loc[[0, 10], :] / surveys_df.loc[0, ['species_id', 'plot_id', 'weight']] / surveys_df.loc[[0, 10, 35549], :]\n",
    "                # Indexing by labels loc differs from indexing by integers iloc. \n",
    "                # With loc, both the start bound and the stop bound are inclusive. \n",
    "                # When using loc, integers can be used, but the integers refer to the index label and not the position. \n",
    "                # For example, using loc and select 1:4 will get a different result than using iloc to select rows 1:4.\n",
    "            # dat.iloc[row, column]\n",
    "\n",
    "# Subsetting Data using Criteria\n",
    "            # surveys_df[(surveys_df.year >= 1980) & (surveys_df.year <= 1985)]\n",
    "\n",
    "        # You can use the isin command in Python to query a DataFrame based upon a list of values\n",
    "            # surveys_df[surveys_df['species_id'].isin([listGoesHere])]"
   ]
  },
  {
   "cell_type": "code",
   "execution_count": 124,
   "id": "d2f6e604",
   "metadata": {
    "ExecuteTime": {
     "end_time": "2021-08-02T03:44:06.324567Z",
     "start_time": "2021-08-02T03:44:06.310582Z"
    }
   },
   "outputs": [
    {
     "data": {
      "text/html": [
       "<div>\n",
       "<style scoped>\n",
       "    .dataframe tbody tr th:only-of-type {\n",
       "        vertical-align: middle;\n",
       "    }\n",
       "\n",
       "    .dataframe tbody tr th {\n",
       "        vertical-align: top;\n",
       "    }\n",
       "\n",
       "    .dataframe thead th {\n",
       "        text-align: right;\n",
       "    }\n",
       "</style>\n",
       "<table border=\"1\" class=\"dataframe\">\n",
       "  <thead>\n",
       "    <tr style=\"text-align: right;\">\n",
       "      <th></th>\n",
       "      <th>Name</th>\n",
       "      <th>Age</th>\n",
       "      <th>Email</th>\n",
       "      <th>Address</th>\n",
       "    </tr>\n",
       "  </thead>\n",
       "  <tbody>\n",
       "    <tr>\n",
       "      <th>0</th>\n",
       "      <td>심권호</td>\n",
       "      <td>31</td>\n",
       "      <td>Kownho@sim.co.kr</td>\n",
       "      <td>경기도 용인시</td>\n",
       "    </tr>\n",
       "    <tr>\n",
       "      <th>1</th>\n",
       "      <td>김연아</td>\n",
       "      <td>32</td>\n",
       "      <td>Yuna@queen.com</td>\n",
       "      <td>세종시</td>\n",
       "    </tr>\n",
       "    <tr>\n",
       "      <th>2</th>\n",
       "      <td>추신수</td>\n",
       "      <td>41</td>\n",
       "      <td>Shinsoo@choo.net</td>\n",
       "      <td>인천시 중구</td>\n",
       "    </tr>\n",
       "    <tr>\n",
       "      <th>3</th>\n",
       "      <td>아이유</td>\n",
       "      <td>27</td>\n",
       "      <td>jieun@lee.com</td>\n",
       "      <td>부산시 강서구</td>\n",
       "    </tr>\n",
       "  </tbody>\n",
       "</table>\n",
       "</div>"
      ],
      "text/plain": [
       "  Name   Age              Email   Address\n",
       "0  심권호    31   Kownho@sim.co.kr   경기도 용인시\n",
       "1  김연아    32     Yuna@queen.com       세종시\n",
       "2  추신수    41   Shinsoo@choo.net    인천시 중구\n",
       "3  아이유    27      jieun@lee.com   부산시 강서구"
      ]
     },
     "execution_count": 124,
     "metadata": {},
     "output_type": "execute_result"
    }
   ],
   "source": [
    "member_df = pd.read_csv('data/ch12_member(8.2).csv', comment = '#')\n",
    "member_df"
   ]
  },
  {
   "cell_type": "code",
   "execution_count": 125,
   "id": "6d786e06",
   "metadata": {
    "ExecuteTime": {
     "end_time": "2021-08-02T03:44:14.537557Z",
     "start_time": "2021-08-02T03:44:14.517611Z"
    }
   },
   "outputs": [
    {
     "data": {
      "text/plain": [
       "0    심권호\n",
       "1    김연아\n",
       "2    추신수\n",
       "3    아이유\n",
       "Name: Name, dtype: object"
      ]
     },
     "execution_count": 125,
     "metadata": {},
     "output_type": "execute_result"
    }
   ],
   "source": [
    "member_df.Name\n",
    "member_df['Name']"
   ]
  },
  {
   "cell_type": "code",
   "execution_count": null,
   "id": "cd09f6a8",
   "metadata": {},
   "outputs": [],
   "source": [
    "member_df[0] # 행을 조회할 경우 에러\n",
    "             # 아래 해결방법. (위에서도 실행해본 적 있음 : loc함수)"
   ]
  },
  {
   "cell_type": "markdown",
   "id": "06e437c5",
   "metadata": {},
   "source": [
    "## 4.2 loc를 이용한 조회"
   ]
  },
  {
   "cell_type": "code",
   "execution_count": 130,
   "id": "68235940",
   "metadata": {
    "ExecuteTime": {
     "end_time": "2021-08-02T03:48:10.948288Z",
     "start_time": "2021-08-02T03:48:10.933327Z"
    }
   },
   "outputs": [
    {
     "data": {
      "text/html": [
       "<div>\n",
       "<style scoped>\n",
       "    .dataframe tbody tr th:only-of-type {\n",
       "        vertical-align: middle;\n",
       "    }\n",
       "\n",
       "    .dataframe tbody tr th {\n",
       "        vertical-align: top;\n",
       "    }\n",
       "\n",
       "    .dataframe thead th {\n",
       "        text-align: right;\n",
       "    }\n",
       "</style>\n",
       "<table border=\"1\" class=\"dataframe\">\n",
       "  <thead>\n",
       "    <tr style=\"text-align: right;\">\n",
       "      <th></th>\n",
       "      <th>Name</th>\n",
       "      <th>Age</th>\n",
       "      <th>Email</th>\n",
       "      <th>Address</th>\n",
       "    </tr>\n",
       "  </thead>\n",
       "  <tbody>\n",
       "    <tr>\n",
       "      <th>0</th>\n",
       "      <td>심권호</td>\n",
       "      <td>31</td>\n",
       "      <td>Kownho@sim.co.kr</td>\n",
       "      <td>경기도 용인시</td>\n",
       "    </tr>\n",
       "    <tr>\n",
       "      <th>1</th>\n",
       "      <td>김연아</td>\n",
       "      <td>32</td>\n",
       "      <td>Yuna@queen.com</td>\n",
       "      <td>세종시</td>\n",
       "    </tr>\n",
       "    <tr>\n",
       "      <th>2</th>\n",
       "      <td>추신수</td>\n",
       "      <td>41</td>\n",
       "      <td>Shinsoo@choo.net</td>\n",
       "      <td>인천시 중구</td>\n",
       "    </tr>\n",
       "  </tbody>\n",
       "</table>\n",
       "</div>"
      ],
      "text/plain": [
       "  Name   Age              Email   Address\n",
       "0  심권호    31   Kownho@sim.co.kr   경기도 용인시\n",
       "1  김연아    32     Yuna@queen.com       세종시\n",
       "2  추신수    41   Shinsoo@choo.net    인천시 중구"
      ]
     },
     "execution_count": 130,
     "metadata": {},
     "output_type": "execute_result"
    }
   ],
   "source": [
    "# loc[]을 이용하면 열이름, 행이름으로 조회.\n",
    "                    # 콜론(:)은 사이의 모든 행이나 열을 선택해줌\n",
    "member_df.loc[0:2] # 2행 포함"
   ]
  },
  {
   "cell_type": "code",
   "execution_count": null,
   "id": "7ddfac32",
   "metadata": {},
   "outputs": [],
   "source": [
    "member_df.index = ['동','서','남','북'] # 으로 변경하였다면\n",
    "member_df.loc['동':'남'] # 으로 조회해야한다.\n",
    "# 실행시켜보진 않겠음.^^"
   ]
  },
  {
   "cell_type": "code",
   "execution_count": 135,
   "id": "b4f3e8c4",
   "metadata": {
    "ExecuteTime": {
     "end_time": "2021-08-02T03:51:46.661037Z",
     "start_time": "2021-08-02T03:51:46.615181Z"
    }
   },
   "outputs": [
    {
     "data": {
      "text/html": [
       "<div>\n",
       "<style scoped>\n",
       "    .dataframe tbody tr th:only-of-type {\n",
       "        vertical-align: middle;\n",
       "    }\n",
       "\n",
       "    .dataframe tbody tr th {\n",
       "        vertical-align: top;\n",
       "    }\n",
       "\n",
       "    .dataframe thead th {\n",
       "        text-align: right;\n",
       "    }\n",
       "</style>\n",
       "<table border=\"1\" class=\"dataframe\">\n",
       "  <thead>\n",
       "    <tr style=\"text-align: right;\">\n",
       "      <th></th>\n",
       "      <th>Name</th>\n",
       "      <th>Age</th>\n",
       "      <th>Email</th>\n",
       "    </tr>\n",
       "  </thead>\n",
       "  <tbody>\n",
       "    <tr>\n",
       "      <th>0</th>\n",
       "      <td>심권호</td>\n",
       "      <td>31</td>\n",
       "      <td>Kownho@sim.co.kr</td>\n",
       "    </tr>\n",
       "    <tr>\n",
       "      <th>1</th>\n",
       "      <td>김연아</td>\n",
       "      <td>32</td>\n",
       "      <td>Yuna@queen.com</td>\n",
       "    </tr>\n",
       "    <tr>\n",
       "      <th>2</th>\n",
       "      <td>추신수</td>\n",
       "      <td>41</td>\n",
       "      <td>Shinsoo@choo.net</td>\n",
       "    </tr>\n",
       "  </tbody>\n",
       "</table>\n",
       "</div>"
      ],
      "text/plain": [
       "  Name   Age              Email\n",
       "0  심권호    31   Kownho@sim.co.kr\n",
       "1  김연아    32     Yuna@queen.com\n",
       "2  추신수    41   Shinsoo@choo.net"
      ]
     },
     "execution_count": 135,
     "metadata": {},
     "output_type": "execute_result"
    }
   ],
   "source": [
    "member_df.loc[0:2, 'Name':'Email']"
   ]
  },
  {
   "cell_type": "code",
   "execution_count": 136,
   "id": "0028b0f3",
   "metadata": {
    "ExecuteTime": {
     "end_time": "2021-08-02T03:52:55.236501Z",
     "start_time": "2021-08-02T03:52:55.222540Z"
    }
   },
   "outputs": [
    {
     "data": {
      "text/html": [
       "<div>\n",
       "<style scoped>\n",
       "    .dataframe tbody tr th:only-of-type {\n",
       "        vertical-align: middle;\n",
       "    }\n",
       "\n",
       "    .dataframe tbody tr th {\n",
       "        vertical-align: top;\n",
       "    }\n",
       "\n",
       "    .dataframe thead th {\n",
       "        text-align: right;\n",
       "    }\n",
       "</style>\n",
       "<table border=\"1\" class=\"dataframe\">\n",
       "  <thead>\n",
       "    <tr style=\"text-align: right;\">\n",
       "      <th></th>\n",
       "      <th>Name</th>\n",
       "      <th>Email</th>\n",
       "    </tr>\n",
       "  </thead>\n",
       "  <tbody>\n",
       "    <tr>\n",
       "      <th>0</th>\n",
       "      <td>심권호</td>\n",
       "      <td>Kownho@sim.co.kr</td>\n",
       "    </tr>\n",
       "    <tr>\n",
       "      <th>2</th>\n",
       "      <td>추신수</td>\n",
       "      <td>Shinsoo@choo.net</td>\n",
       "    </tr>\n",
       "  </tbody>\n",
       "</table>\n",
       "</div>"
      ],
      "text/plain": [
       "  Name              Email\n",
       "0  심권호   Kownho@sim.co.kr\n",
       "2  추신수   Shinsoo@choo.net"
      ]
     },
     "execution_count": 136,
     "metadata": {},
     "output_type": "execute_result"
    }
   ],
   "source": [
    "# 0행, 2행 + Name열, Email열\n",
    "member_df.loc[[0,2],['Name','Email']]"
   ]
  },
  {
   "cell_type": "code",
   "execution_count": null,
   "id": "2cd625e0",
   "metadata": {},
   "outputs": [],
   "source": [
    "member_df.loc[2,3] # 위치를 가지고 데이터에 접근하고 싶지만, 오류!"
   ]
  },
  {
   "cell_type": "markdown",
   "id": "6ac81c32",
   "metadata": {},
   "source": [
    "## 4.3 iloc를 이용한 조회"
   ]
  },
  {
   "cell_type": "code",
   "execution_count": 141,
   "id": "6c2c707d",
   "metadata": {
    "ExecuteTime": {
     "end_time": "2021-08-02T04:00:19.486216Z",
     "start_time": "2021-08-02T04:00:19.478235Z"
    }
   },
   "outputs": [
    {
     "name": "stdout",
     "output_type": "stream",
     "text": [
      " Shinsoo@choo.net\n",
      "    Age              Email\n",
      "0    31   Kownho@sim.co.kr\n",
      "1    32     Yuna@queen.com\n",
      "2    41   Shinsoo@choo.net\n"
     ]
    }
   ],
   "source": [
    "# iloc[],  []안에 행, 열을 입력\n",
    "# iloc[from : to : by] 슬라이싱 from부터 to전까지 by씩 증가\n",
    "print(member_df.iloc[2,2])\n",
    "print(member_df.iloc[0:3, 1:3])"
   ]
  },
  {
   "cell_type": "code",
   "execution_count": 143,
   "id": "17e73126",
   "metadata": {
    "ExecuteTime": {
     "end_time": "2021-08-02T04:02:18.437305Z",
     "start_time": "2021-08-02T04:02:18.422325Z"
    }
   },
   "outputs": [
    {
     "data": {
      "text/html": [
       "<div>\n",
       "<style scoped>\n",
       "    .dataframe tbody tr th:only-of-type {\n",
       "        vertical-align: middle;\n",
       "    }\n",
       "\n",
       "    .dataframe tbody tr th {\n",
       "        vertical-align: top;\n",
       "    }\n",
       "\n",
       "    .dataframe thead th {\n",
       "        text-align: right;\n",
       "    }\n",
       "</style>\n",
       "<table border=\"1\" class=\"dataframe\">\n",
       "  <thead>\n",
       "    <tr style=\"text-align: right;\">\n",
       "      <th></th>\n",
       "      <th>Name</th>\n",
       "      <th>Age</th>\n",
       "      <th>Email</th>\n",
       "      <th>Address</th>\n",
       "    </tr>\n",
       "  </thead>\n",
       "  <tbody>\n",
       "    <tr>\n",
       "      <th>0</th>\n",
       "      <td>심권호</td>\n",
       "      <td>31</td>\n",
       "      <td>Kownho@sim.co.kr</td>\n",
       "      <td>경기도 용인시</td>\n",
       "    </tr>\n",
       "    <tr>\n",
       "      <th>2</th>\n",
       "      <td>추신수</td>\n",
       "      <td>41</td>\n",
       "      <td>Shinsoo@choo.net</td>\n",
       "      <td>인천시 중구</td>\n",
       "    </tr>\n",
       "  </tbody>\n",
       "</table>\n",
       "</div>"
      ],
      "text/plain": [
       "  Name   Age              Email   Address\n",
       "0  심권호    31   Kownho@sim.co.kr   경기도 용인시\n",
       "2  추신수    41   Shinsoo@choo.net    인천시 중구"
      ]
     },
     "execution_count": 143,
     "metadata": {},
     "output_type": "execute_result"
    }
   ],
   "source": [
    "member_df.iloc[::2]"
   ]
  },
  {
   "cell_type": "code",
   "execution_count": 148,
   "id": "73e4b93a",
   "metadata": {
    "ExecuteTime": {
     "end_time": "2021-08-02T04:03:36.993155Z",
     "start_time": "2021-08-02T04:03:36.974177Z"
    }
   },
   "outputs": [
    {
     "data": {
      "text/html": [
       "<div>\n",
       "<style scoped>\n",
       "    .dataframe tbody tr th:only-of-type {\n",
       "        vertical-align: middle;\n",
       "    }\n",
       "\n",
       "    .dataframe tbody tr th {\n",
       "        vertical-align: top;\n",
       "    }\n",
       "\n",
       "    .dataframe thead th {\n",
       "        text-align: right;\n",
       "    }\n",
       "</style>\n",
       "<table border=\"1\" class=\"dataframe\">\n",
       "  <thead>\n",
       "    <tr style=\"text-align: right;\">\n",
       "      <th></th>\n",
       "      <th>Name</th>\n",
       "      <th>Age</th>\n",
       "      <th>Email</th>\n",
       "      <th>Address</th>\n",
       "    </tr>\n",
       "  </thead>\n",
       "  <tbody>\n",
       "    <tr>\n",
       "      <th>3</th>\n",
       "      <td>아이유</td>\n",
       "      <td>27</td>\n",
       "      <td>jieun@lee.com</td>\n",
       "      <td>부산시 강서구</td>\n",
       "    </tr>\n",
       "    <tr>\n",
       "      <th>2</th>\n",
       "      <td>추신수</td>\n",
       "      <td>41</td>\n",
       "      <td>Shinsoo@choo.net</td>\n",
       "      <td>인천시 중구</td>\n",
       "    </tr>\n",
       "    <tr>\n",
       "      <th>1</th>\n",
       "      <td>김연아</td>\n",
       "      <td>32</td>\n",
       "      <td>Yuna@queen.com</td>\n",
       "      <td>세종시</td>\n",
       "    </tr>\n",
       "    <tr>\n",
       "      <th>0</th>\n",
       "      <td>심권호</td>\n",
       "      <td>31</td>\n",
       "      <td>Kownho@sim.co.kr</td>\n",
       "      <td>경기도 용인시</td>\n",
       "    </tr>\n",
       "  </tbody>\n",
       "</table>\n",
       "</div>"
      ],
      "text/plain": [
       "  Name   Age              Email   Address\n",
       "3  아이유    27      jieun@lee.com   부산시 강서구\n",
       "2  추신수    41   Shinsoo@choo.net    인천시 중구\n",
       "1  김연아    32     Yuna@queen.com       세종시\n",
       "0  심권호    31   Kownho@sim.co.kr   경기도 용인시"
      ]
     },
     "execution_count": 148,
     "metadata": {},
     "output_type": "execute_result"
    }
   ],
   "source": [
    "member_df.iloc[::-1]"
   ]
  },
  {
   "cell_type": "code",
   "execution_count": 151,
   "id": "47755ede",
   "metadata": {
    "ExecuteTime": {
     "end_time": "2021-08-02T04:04:02.280101Z",
     "start_time": "2021-08-02T04:04:02.262148Z"
    }
   },
   "outputs": [
    {
     "data": {
      "text/html": [
       "<div>\n",
       "<style scoped>\n",
       "    .dataframe tbody tr th:only-of-type {\n",
       "        vertical-align: middle;\n",
       "    }\n",
       "\n",
       "    .dataframe tbody tr th {\n",
       "        vertical-align: top;\n",
       "    }\n",
       "\n",
       "    .dataframe thead th {\n",
       "        text-align: right;\n",
       "    }\n",
       "</style>\n",
       "<table border=\"1\" class=\"dataframe\">\n",
       "  <thead>\n",
       "    <tr style=\"text-align: right;\">\n",
       "      <th></th>\n",
       "      <th>Age</th>\n",
       "      <th>Email</th>\n",
       "      <th>Address</th>\n",
       "    </tr>\n",
       "  </thead>\n",
       "  <tbody>\n",
       "    <tr>\n",
       "      <th>0</th>\n",
       "      <td>31</td>\n",
       "      <td>Kownho@sim.co.kr</td>\n",
       "      <td>경기도 용인시</td>\n",
       "    </tr>\n",
       "    <tr>\n",
       "      <th>2</th>\n",
       "      <td>41</td>\n",
       "      <td>Shinsoo@choo.net</td>\n",
       "      <td>인천시 중구</td>\n",
       "    </tr>\n",
       "  </tbody>\n",
       "</table>\n",
       "</div>"
      ],
      "text/plain": [
       "    Age              Email   Address\n",
       "0    31   Kownho@sim.co.kr   경기도 용인시\n",
       "2    41   Shinsoo@choo.net    인천시 중구"
      ]
     },
     "execution_count": 151,
     "metadata": {},
     "output_type": "execute_result"
    }
   ],
   "source": [
    "member_df.iloc[[0,2],[1,2,3]]"
   ]
  },
  {
   "cell_type": "markdown",
   "id": "a11511db",
   "metadata": {},
   "source": [
    "## 4.4 조건으로 조회하기 ※\n",
    "- iris 데이터 가져오기 1 : sklearn (데이터프레임이 아닌 딕셔너리로 가져옴)\n",
    "- iris 데이터 가져오기 2 : seaborn\n",
    "- iris 데이터 가져오기 3 : R 데이터 가져오기"
   ]
  },
  {
   "cell_type": "markdown",
   "id": "013f0452",
   "metadata": {
    "ExecuteTime": {
     "end_time": "2021-08-02T04:06:45.255290Z",
     "start_time": "2021-08-02T04:06:45.241300Z"
    }
   },
   "source": [
    "### iris 데이터 가져오기 1 : sklearn (데이터프레임이 아닌 딕셔너리로 가져옴)"
   ]
  },
  {
   "cell_type": "markdown",
   "id": "97543a38",
   "metadata": {},
   "source": [
    "### iris 데이터 가져오기 2 : seaborn"
   ]
  },
  {
   "cell_type": "code",
   "execution_count": 153,
   "id": "d6e639fc",
   "metadata": {
    "ExecuteTime": {
     "end_time": "2021-08-02T04:08:57.296071Z",
     "start_time": "2021-08-02T04:08:55.442076Z"
    }
   },
   "outputs": [
    {
     "data": {
      "text/html": [
       "<div>\n",
       "<style scoped>\n",
       "    .dataframe tbody tr th:only-of-type {\n",
       "        vertical-align: middle;\n",
       "    }\n",
       "\n",
       "    .dataframe tbody tr th {\n",
       "        vertical-align: top;\n",
       "    }\n",
       "\n",
       "    .dataframe thead th {\n",
       "        text-align: right;\n",
       "    }\n",
       "</style>\n",
       "<table border=\"1\" class=\"dataframe\">\n",
       "  <thead>\n",
       "    <tr style=\"text-align: right;\">\n",
       "      <th></th>\n",
       "      <th>sepal_length</th>\n",
       "      <th>sepal_width</th>\n",
       "      <th>petal_length</th>\n",
       "      <th>petal_width</th>\n",
       "      <th>species</th>\n",
       "    </tr>\n",
       "  </thead>\n",
       "  <tbody>\n",
       "    <tr>\n",
       "      <th>39</th>\n",
       "      <td>5.1</td>\n",
       "      <td>3.4</td>\n",
       "      <td>1.5</td>\n",
       "      <td>0.2</td>\n",
       "      <td>setosa</td>\n",
       "    </tr>\n",
       "  </tbody>\n",
       "</table>\n",
       "</div>"
      ],
      "text/plain": [
       "    sepal_length  sepal_width  petal_length  petal_width species\n",
       "39           5.1          3.4           1.5          0.2  setosa"
      ]
     },
     "execution_count": 153,
     "metadata": {},
     "output_type": "execute_result"
    }
   ],
   "source": [
    "import seaborn as sns\n",
    "iris_df = sns.load_dataset('iris')\n",
    "iris_df.sample(1)"
   ]
  },
  {
   "cell_type": "markdown",
   "id": "21bb1d3e",
   "metadata": {},
   "source": [
    "### iris 데이터 가져오기 3 : R 데이터 가져오기\n",
    "- r이 설치되어있지 않아도 됨"
   ]
  },
  {
   "cell_type": "code",
   "execution_count": 154,
   "id": "34b6ec70",
   "metadata": {
    "ExecuteTime": {
     "end_time": "2021-08-02T04:13:51.274402Z",
     "start_time": "2021-08-02T04:13:47.666374Z"
    }
   },
   "outputs": [],
   "source": [
    "import statsmodels.api as sm\n",
    "iris = sm.datasets.get_rdataset('iris', package='datasets')"
   ]
  },
  {
   "cell_type": "markdown",
   "id": "e0cd5d31",
   "metadata": {},
   "source": [
    "- get_rdataset(데이터셋명, 패키지명)함수로 R데이터를 가져올 수 있음\n",
    "    datasets 패키지명은 생략가능\n",
    "- get_rdataset()함수로 불러온 데이터는 다음 속성을 가짐\n",
    "    data : 데이터를 담고 있는 데이터프레임\n",
    "    __doc__ : 데이터에 대한 설명 문자열\n",
    "    "
   ]
  },
  {
   "cell_type": "code",
   "execution_count": null,
   "id": "1ec3114a",
   "metadata": {},
   "outputs": [],
   "source": [
    "iris.__doc__"
   ]
  },
  {
   "cell_type": "code",
   "execution_count": 155,
   "id": "242a36ec",
   "metadata": {
    "ExecuteTime": {
     "end_time": "2021-08-02T04:13:51.771284Z",
     "start_time": "2021-08-02T04:13:51.758296Z"
    }
   },
   "outputs": [
    {
     "data": {
      "text/html": [
       "<div>\n",
       "<style scoped>\n",
       "    .dataframe tbody tr th:only-of-type {\n",
       "        vertical-align: middle;\n",
       "    }\n",
       "\n",
       "    .dataframe tbody tr th {\n",
       "        vertical-align: top;\n",
       "    }\n",
       "\n",
       "    .dataframe thead th {\n",
       "        text-align: right;\n",
       "    }\n",
       "</style>\n",
       "<table border=\"1\" class=\"dataframe\">\n",
       "  <thead>\n",
       "    <tr style=\"text-align: right;\">\n",
       "      <th></th>\n",
       "      <th>Sepal.Length</th>\n",
       "      <th>Sepal.Width</th>\n",
       "      <th>Petal.Length</th>\n",
       "      <th>Petal.Width</th>\n",
       "      <th>Species</th>\n",
       "    </tr>\n",
       "  </thead>\n",
       "  <tbody>\n",
       "    <tr>\n",
       "      <th>0</th>\n",
       "      <td>5.1</td>\n",
       "      <td>3.5</td>\n",
       "      <td>1.4</td>\n",
       "      <td>0.2</td>\n",
       "      <td>setosa</td>\n",
       "    </tr>\n",
       "    <tr>\n",
       "      <th>1</th>\n",
       "      <td>4.9</td>\n",
       "      <td>3.0</td>\n",
       "      <td>1.4</td>\n",
       "      <td>0.2</td>\n",
       "      <td>setosa</td>\n",
       "    </tr>\n",
       "    <tr>\n",
       "      <th>2</th>\n",
       "      <td>4.7</td>\n",
       "      <td>3.2</td>\n",
       "      <td>1.3</td>\n",
       "      <td>0.2</td>\n",
       "      <td>setosa</td>\n",
       "    </tr>\n",
       "    <tr>\n",
       "      <th>3</th>\n",
       "      <td>4.6</td>\n",
       "      <td>3.1</td>\n",
       "      <td>1.5</td>\n",
       "      <td>0.2</td>\n",
       "      <td>setosa</td>\n",
       "    </tr>\n",
       "    <tr>\n",
       "      <th>4</th>\n",
       "      <td>5.0</td>\n",
       "      <td>3.6</td>\n",
       "      <td>1.4</td>\n",
       "      <td>0.2</td>\n",
       "      <td>setosa</td>\n",
       "    </tr>\n",
       "  </tbody>\n",
       "</table>\n",
       "</div>"
      ],
      "text/plain": [
       "   Sepal.Length  Sepal.Width  Petal.Length  Petal.Width Species\n",
       "0           5.1          3.5           1.4          0.2  setosa\n",
       "1           4.9          3.0           1.4          0.2  setosa\n",
       "2           4.7          3.2           1.3          0.2  setosa\n",
       "3           4.6          3.1           1.5          0.2  setosa\n",
       "4           5.0          3.6           1.4          0.2  setosa"
      ]
     },
     "execution_count": 155,
     "metadata": {},
     "output_type": "execute_result"
    }
   ],
   "source": [
    "iris_df = iris.data\n",
    "iris_df.head()"
   ]
  },
  {
   "cell_type": "code",
   "execution_count": 157,
   "id": "d611db3e",
   "metadata": {
    "ExecuteTime": {
     "end_time": "2021-08-02T04:16:32.904961Z",
     "start_time": "2021-08-02T04:16:32.893978Z"
    }
   },
   "outputs": [
    {
     "data": {
      "text/html": [
       "<div>\n",
       "<style scoped>\n",
       "    .dataframe tbody tr th:only-of-type {\n",
       "        vertical-align: middle;\n",
       "    }\n",
       "\n",
       "    .dataframe tbody tr th {\n",
       "        vertical-align: top;\n",
       "    }\n",
       "\n",
       "    .dataframe thead th {\n",
       "        text-align: right;\n",
       "    }\n",
       "</style>\n",
       "<table border=\"1\" class=\"dataframe\">\n",
       "  <thead>\n",
       "    <tr style=\"text-align: right;\">\n",
       "      <th></th>\n",
       "      <th>Sepal.Length</th>\n",
       "      <th>Sepal.Width</th>\n",
       "      <th>Petal.Length</th>\n",
       "    </tr>\n",
       "  </thead>\n",
       "  <tbody>\n",
       "    <tr>\n",
       "      <th>0</th>\n",
       "      <td>5.1</td>\n",
       "      <td>3.5</td>\n",
       "      <td>1.4</td>\n",
       "    </tr>\n",
       "    <tr>\n",
       "      <th>1</th>\n",
       "      <td>4.9</td>\n",
       "      <td>3.0</td>\n",
       "      <td>1.4</td>\n",
       "    </tr>\n",
       "    <tr>\n",
       "      <th>2</th>\n",
       "      <td>4.7</td>\n",
       "      <td>3.2</td>\n",
       "      <td>1.3</td>\n",
       "    </tr>\n",
       "    <tr>\n",
       "      <th>3</th>\n",
       "      <td>4.6</td>\n",
       "      <td>3.1</td>\n",
       "      <td>1.5</td>\n",
       "    </tr>\n",
       "    <tr>\n",
       "      <th>4</th>\n",
       "      <td>5.0</td>\n",
       "      <td>3.6</td>\n",
       "      <td>1.4</td>\n",
       "    </tr>\n",
       "    <tr>\n",
       "      <th>5</th>\n",
       "      <td>5.4</td>\n",
       "      <td>3.9</td>\n",
       "      <td>1.7</td>\n",
       "    </tr>\n",
       "    <tr>\n",
       "      <th>6</th>\n",
       "      <td>4.6</td>\n",
       "      <td>3.4</td>\n",
       "      <td>1.4</td>\n",
       "    </tr>\n",
       "    <tr>\n",
       "      <th>7</th>\n",
       "      <td>5.0</td>\n",
       "      <td>3.4</td>\n",
       "      <td>1.5</td>\n",
       "    </tr>\n",
       "    <tr>\n",
       "      <th>8</th>\n",
       "      <td>4.4</td>\n",
       "      <td>2.9</td>\n",
       "      <td>1.4</td>\n",
       "    </tr>\n",
       "  </tbody>\n",
       "</table>\n",
       "</div>"
      ],
      "text/plain": [
       "   Sepal.Length  Sepal.Width  Petal.Length\n",
       "0           5.1          3.5           1.4\n",
       "1           4.9          3.0           1.4\n",
       "2           4.7          3.2           1.3\n",
       "3           4.6          3.1           1.5\n",
       "4           5.0          3.6           1.4\n",
       "5           5.4          3.9           1.7\n",
       "6           4.6          3.4           1.4\n",
       "7           5.0          3.4           1.5\n",
       "8           4.4          2.9           1.4"
      ]
     },
     "execution_count": 157,
     "metadata": {},
     "output_type": "execute_result"
    }
   ],
   "source": [
    "# 0~8행, Sepal.Length~Peatal.Length열\n",
    "iris_df.loc[:8, 'Sepal.Length':'Petal.Length']\n",
    "                    # 이 경우 iloc이 더 편함;;;"
   ]
  },
  {
   "cell_type": "code",
   "execution_count": 158,
   "id": "4864b88c",
   "metadata": {
    "ExecuteTime": {
     "end_time": "2021-08-02T04:19:48.435867Z",
     "start_time": "2021-08-02T04:19:48.421877Z"
    }
   },
   "outputs": [
    {
     "data": {
      "text/plain": [
       "0      False\n",
       "1      False\n",
       "2      False\n",
       "3      False\n",
       "4      False\n",
       "       ...  \n",
       "145    False\n",
       "146    False\n",
       "147    False\n",
       "148    False\n",
       "149    False\n",
       "Name: Species, Length: 150, dtype: bool"
      ]
     },
     "execution_count": 158,
     "metadata": {},
     "output_type": "execute_result"
    }
   ],
   "source": [
    "# iloc을 사용하지 못하고 반드시 loc이 필요한 경우\n",
    "# Species가 versicolor인 데이터\n",
    "iris_df['Species'] == 'versicolor'"
   ]
  },
  {
   "cell_type": "code",
   "execution_count": 168,
   "id": "913ad518",
   "metadata": {
    "ExecuteTime": {
     "end_time": "2021-08-02T05:36:09.722459Z",
     "start_time": "2021-08-02T05:36:09.685552Z"
    }
   },
   "outputs": [
    {
     "data": {
      "text/html": [
       "<div>\n",
       "<style scoped>\n",
       "    .dataframe tbody tr th:only-of-type {\n",
       "        vertical-align: middle;\n",
       "    }\n",
       "\n",
       "    .dataframe tbody tr th {\n",
       "        vertical-align: top;\n",
       "    }\n",
       "\n",
       "    .dataframe thead th {\n",
       "        text-align: right;\n",
       "    }\n",
       "</style>\n",
       "<table border=\"1\" class=\"dataframe\">\n",
       "  <thead>\n",
       "    <tr style=\"text-align: right;\">\n",
       "      <th></th>\n",
       "      <th>Sepal.Length</th>\n",
       "      <th>Sepal.Width</th>\n",
       "      <th>Petal.Length</th>\n",
       "      <th>Petal.Width</th>\n",
       "    </tr>\n",
       "  </thead>\n",
       "  <tbody>\n",
       "    <tr>\n",
       "      <th>50</th>\n",
       "      <td>7.0</td>\n",
       "      <td>3.2</td>\n",
       "      <td>4.7</td>\n",
       "      <td>1.4</td>\n",
       "    </tr>\n",
       "    <tr>\n",
       "      <th>51</th>\n",
       "      <td>6.4</td>\n",
       "      <td>3.2</td>\n",
       "      <td>4.5</td>\n",
       "      <td>1.5</td>\n",
       "    </tr>\n",
       "    <tr>\n",
       "      <th>52</th>\n",
       "      <td>6.9</td>\n",
       "      <td>3.1</td>\n",
       "      <td>4.9</td>\n",
       "      <td>1.5</td>\n",
       "    </tr>\n",
       "    <tr>\n",
       "      <th>53</th>\n",
       "      <td>5.5</td>\n",
       "      <td>2.3</td>\n",
       "      <td>4.0</td>\n",
       "      <td>1.3</td>\n",
       "    </tr>\n",
       "    <tr>\n",
       "      <th>54</th>\n",
       "      <td>6.5</td>\n",
       "      <td>2.8</td>\n",
       "      <td>4.6</td>\n",
       "      <td>1.5</td>\n",
       "    </tr>\n",
       "    <tr>\n",
       "      <th>55</th>\n",
       "      <td>5.7</td>\n",
       "      <td>2.8</td>\n",
       "      <td>4.5</td>\n",
       "      <td>1.3</td>\n",
       "    </tr>\n",
       "    <tr>\n",
       "      <th>56</th>\n",
       "      <td>6.3</td>\n",
       "      <td>3.3</td>\n",
       "      <td>4.7</td>\n",
       "      <td>1.6</td>\n",
       "    </tr>\n",
       "    <tr>\n",
       "      <th>57</th>\n",
       "      <td>4.9</td>\n",
       "      <td>2.4</td>\n",
       "      <td>3.3</td>\n",
       "      <td>1.0</td>\n",
       "    </tr>\n",
       "    <tr>\n",
       "      <th>58</th>\n",
       "      <td>6.6</td>\n",
       "      <td>2.9</td>\n",
       "      <td>4.6</td>\n",
       "      <td>1.3</td>\n",
       "    </tr>\n",
       "    <tr>\n",
       "      <th>59</th>\n",
       "      <td>5.2</td>\n",
       "      <td>2.7</td>\n",
       "      <td>3.9</td>\n",
       "      <td>1.4</td>\n",
       "    </tr>\n",
       "    <tr>\n",
       "      <th>60</th>\n",
       "      <td>5.0</td>\n",
       "      <td>2.0</td>\n",
       "      <td>3.5</td>\n",
       "      <td>1.0</td>\n",
       "    </tr>\n",
       "    <tr>\n",
       "      <th>61</th>\n",
       "      <td>5.9</td>\n",
       "      <td>3.0</td>\n",
       "      <td>4.2</td>\n",
       "      <td>1.5</td>\n",
       "    </tr>\n",
       "    <tr>\n",
       "      <th>62</th>\n",
       "      <td>6.0</td>\n",
       "      <td>2.2</td>\n",
       "      <td>4.0</td>\n",
       "      <td>1.0</td>\n",
       "    </tr>\n",
       "    <tr>\n",
       "      <th>63</th>\n",
       "      <td>6.1</td>\n",
       "      <td>2.9</td>\n",
       "      <td>4.7</td>\n",
       "      <td>1.4</td>\n",
       "    </tr>\n",
       "    <tr>\n",
       "      <th>64</th>\n",
       "      <td>5.6</td>\n",
       "      <td>2.9</td>\n",
       "      <td>3.6</td>\n",
       "      <td>1.3</td>\n",
       "    </tr>\n",
       "    <tr>\n",
       "      <th>65</th>\n",
       "      <td>6.7</td>\n",
       "      <td>3.1</td>\n",
       "      <td>4.4</td>\n",
       "      <td>1.4</td>\n",
       "    </tr>\n",
       "    <tr>\n",
       "      <th>66</th>\n",
       "      <td>5.6</td>\n",
       "      <td>3.0</td>\n",
       "      <td>4.5</td>\n",
       "      <td>1.5</td>\n",
       "    </tr>\n",
       "    <tr>\n",
       "      <th>67</th>\n",
       "      <td>5.8</td>\n",
       "      <td>2.7</td>\n",
       "      <td>4.1</td>\n",
       "      <td>1.0</td>\n",
       "    </tr>\n",
       "    <tr>\n",
       "      <th>68</th>\n",
       "      <td>6.2</td>\n",
       "      <td>2.2</td>\n",
       "      <td>4.5</td>\n",
       "      <td>1.5</td>\n",
       "    </tr>\n",
       "    <tr>\n",
       "      <th>69</th>\n",
       "      <td>5.6</td>\n",
       "      <td>2.5</td>\n",
       "      <td>3.9</td>\n",
       "      <td>1.1</td>\n",
       "    </tr>\n",
       "    <tr>\n",
       "      <th>70</th>\n",
       "      <td>5.9</td>\n",
       "      <td>3.2</td>\n",
       "      <td>4.8</td>\n",
       "      <td>1.8</td>\n",
       "    </tr>\n",
       "    <tr>\n",
       "      <th>71</th>\n",
       "      <td>6.1</td>\n",
       "      <td>2.8</td>\n",
       "      <td>4.0</td>\n",
       "      <td>1.3</td>\n",
       "    </tr>\n",
       "    <tr>\n",
       "      <th>72</th>\n",
       "      <td>6.3</td>\n",
       "      <td>2.5</td>\n",
       "      <td>4.9</td>\n",
       "      <td>1.5</td>\n",
       "    </tr>\n",
       "    <tr>\n",
       "      <th>73</th>\n",
       "      <td>6.1</td>\n",
       "      <td>2.8</td>\n",
       "      <td>4.7</td>\n",
       "      <td>1.2</td>\n",
       "    </tr>\n",
       "    <tr>\n",
       "      <th>74</th>\n",
       "      <td>6.4</td>\n",
       "      <td>2.9</td>\n",
       "      <td>4.3</td>\n",
       "      <td>1.3</td>\n",
       "    </tr>\n",
       "    <tr>\n",
       "      <th>75</th>\n",
       "      <td>6.6</td>\n",
       "      <td>3.0</td>\n",
       "      <td>4.4</td>\n",
       "      <td>1.4</td>\n",
       "    </tr>\n",
       "    <tr>\n",
       "      <th>76</th>\n",
       "      <td>6.8</td>\n",
       "      <td>2.8</td>\n",
       "      <td>4.8</td>\n",
       "      <td>1.4</td>\n",
       "    </tr>\n",
       "    <tr>\n",
       "      <th>77</th>\n",
       "      <td>6.7</td>\n",
       "      <td>3.0</td>\n",
       "      <td>5.0</td>\n",
       "      <td>1.7</td>\n",
       "    </tr>\n",
       "    <tr>\n",
       "      <th>78</th>\n",
       "      <td>6.0</td>\n",
       "      <td>2.9</td>\n",
       "      <td>4.5</td>\n",
       "      <td>1.5</td>\n",
       "    </tr>\n",
       "    <tr>\n",
       "      <th>79</th>\n",
       "      <td>5.7</td>\n",
       "      <td>2.6</td>\n",
       "      <td>3.5</td>\n",
       "      <td>1.0</td>\n",
       "    </tr>\n",
       "    <tr>\n",
       "      <th>80</th>\n",
       "      <td>5.5</td>\n",
       "      <td>2.4</td>\n",
       "      <td>3.8</td>\n",
       "      <td>1.1</td>\n",
       "    </tr>\n",
       "    <tr>\n",
       "      <th>81</th>\n",
       "      <td>5.5</td>\n",
       "      <td>2.4</td>\n",
       "      <td>3.7</td>\n",
       "      <td>1.0</td>\n",
       "    </tr>\n",
       "    <tr>\n",
       "      <th>82</th>\n",
       "      <td>5.8</td>\n",
       "      <td>2.7</td>\n",
       "      <td>3.9</td>\n",
       "      <td>1.2</td>\n",
       "    </tr>\n",
       "    <tr>\n",
       "      <th>83</th>\n",
       "      <td>6.0</td>\n",
       "      <td>2.7</td>\n",
       "      <td>5.1</td>\n",
       "      <td>1.6</td>\n",
       "    </tr>\n",
       "    <tr>\n",
       "      <th>84</th>\n",
       "      <td>5.4</td>\n",
       "      <td>3.0</td>\n",
       "      <td>4.5</td>\n",
       "      <td>1.5</td>\n",
       "    </tr>\n",
       "    <tr>\n",
       "      <th>85</th>\n",
       "      <td>6.0</td>\n",
       "      <td>3.4</td>\n",
       "      <td>4.5</td>\n",
       "      <td>1.6</td>\n",
       "    </tr>\n",
       "    <tr>\n",
       "      <th>86</th>\n",
       "      <td>6.7</td>\n",
       "      <td>3.1</td>\n",
       "      <td>4.7</td>\n",
       "      <td>1.5</td>\n",
       "    </tr>\n",
       "    <tr>\n",
       "      <th>87</th>\n",
       "      <td>6.3</td>\n",
       "      <td>2.3</td>\n",
       "      <td>4.4</td>\n",
       "      <td>1.3</td>\n",
       "    </tr>\n",
       "    <tr>\n",
       "      <th>88</th>\n",
       "      <td>5.6</td>\n",
       "      <td>3.0</td>\n",
       "      <td>4.1</td>\n",
       "      <td>1.3</td>\n",
       "    </tr>\n",
       "    <tr>\n",
       "      <th>89</th>\n",
       "      <td>5.5</td>\n",
       "      <td>2.5</td>\n",
       "      <td>4.0</td>\n",
       "      <td>1.3</td>\n",
       "    </tr>\n",
       "    <tr>\n",
       "      <th>90</th>\n",
       "      <td>5.5</td>\n",
       "      <td>2.6</td>\n",
       "      <td>4.4</td>\n",
       "      <td>1.2</td>\n",
       "    </tr>\n",
       "    <tr>\n",
       "      <th>91</th>\n",
       "      <td>6.1</td>\n",
       "      <td>3.0</td>\n",
       "      <td>4.6</td>\n",
       "      <td>1.4</td>\n",
       "    </tr>\n",
       "    <tr>\n",
       "      <th>92</th>\n",
       "      <td>5.8</td>\n",
       "      <td>2.6</td>\n",
       "      <td>4.0</td>\n",
       "      <td>1.2</td>\n",
       "    </tr>\n",
       "    <tr>\n",
       "      <th>93</th>\n",
       "      <td>5.0</td>\n",
       "      <td>2.3</td>\n",
       "      <td>3.3</td>\n",
       "      <td>1.0</td>\n",
       "    </tr>\n",
       "    <tr>\n",
       "      <th>94</th>\n",
       "      <td>5.6</td>\n",
       "      <td>2.7</td>\n",
       "      <td>4.2</td>\n",
       "      <td>1.3</td>\n",
       "    </tr>\n",
       "    <tr>\n",
       "      <th>95</th>\n",
       "      <td>5.7</td>\n",
       "      <td>3.0</td>\n",
       "      <td>4.2</td>\n",
       "      <td>1.2</td>\n",
       "    </tr>\n",
       "    <tr>\n",
       "      <th>96</th>\n",
       "      <td>5.7</td>\n",
       "      <td>2.9</td>\n",
       "      <td>4.2</td>\n",
       "      <td>1.3</td>\n",
       "    </tr>\n",
       "    <tr>\n",
       "      <th>97</th>\n",
       "      <td>6.2</td>\n",
       "      <td>2.9</td>\n",
       "      <td>4.3</td>\n",
       "      <td>1.3</td>\n",
       "    </tr>\n",
       "    <tr>\n",
       "      <th>98</th>\n",
       "      <td>5.1</td>\n",
       "      <td>2.5</td>\n",
       "      <td>3.0</td>\n",
       "      <td>1.1</td>\n",
       "    </tr>\n",
       "    <tr>\n",
       "      <th>99</th>\n",
       "      <td>5.7</td>\n",
       "      <td>2.8</td>\n",
       "      <td>4.1</td>\n",
       "      <td>1.3</td>\n",
       "    </tr>\n",
       "  </tbody>\n",
       "</table>\n",
       "</div>"
      ],
      "text/plain": [
       "    Sepal.Length  Sepal.Width  Petal.Length  Petal.Width\n",
       "50           7.0          3.2           4.7          1.4\n",
       "51           6.4          3.2           4.5          1.5\n",
       "52           6.9          3.1           4.9          1.5\n",
       "53           5.5          2.3           4.0          1.3\n",
       "54           6.5          2.8           4.6          1.5\n",
       "55           5.7          2.8           4.5          1.3\n",
       "56           6.3          3.3           4.7          1.6\n",
       "57           4.9          2.4           3.3          1.0\n",
       "58           6.6          2.9           4.6          1.3\n",
       "59           5.2          2.7           3.9          1.4\n",
       "60           5.0          2.0           3.5          1.0\n",
       "61           5.9          3.0           4.2          1.5\n",
       "62           6.0          2.2           4.0          1.0\n",
       "63           6.1          2.9           4.7          1.4\n",
       "64           5.6          2.9           3.6          1.3\n",
       "65           6.7          3.1           4.4          1.4\n",
       "66           5.6          3.0           4.5          1.5\n",
       "67           5.8          2.7           4.1          1.0\n",
       "68           6.2          2.2           4.5          1.5\n",
       "69           5.6          2.5           3.9          1.1\n",
       "70           5.9          3.2           4.8          1.8\n",
       "71           6.1          2.8           4.0          1.3\n",
       "72           6.3          2.5           4.9          1.5\n",
       "73           6.1          2.8           4.7          1.2\n",
       "74           6.4          2.9           4.3          1.3\n",
       "75           6.6          3.0           4.4          1.4\n",
       "76           6.8          2.8           4.8          1.4\n",
       "77           6.7          3.0           5.0          1.7\n",
       "78           6.0          2.9           4.5          1.5\n",
       "79           5.7          2.6           3.5          1.0\n",
       "80           5.5          2.4           3.8          1.1\n",
       "81           5.5          2.4           3.7          1.0\n",
       "82           5.8          2.7           3.9          1.2\n",
       "83           6.0          2.7           5.1          1.6\n",
       "84           5.4          3.0           4.5          1.5\n",
       "85           6.0          3.4           4.5          1.6\n",
       "86           6.7          3.1           4.7          1.5\n",
       "87           6.3          2.3           4.4          1.3\n",
       "88           5.6          3.0           4.1          1.3\n",
       "89           5.5          2.5           4.0          1.3\n",
       "90           5.5          2.6           4.4          1.2\n",
       "91           6.1          3.0           4.6          1.4\n",
       "92           5.8          2.6           4.0          1.2\n",
       "93           5.0          2.3           3.3          1.0\n",
       "94           5.6          2.7           4.2          1.3\n",
       "95           5.7          3.0           4.2          1.2\n",
       "96           5.7          2.9           4.2          1.3\n",
       "97           6.2          2.9           4.3          1.3\n",
       "98           5.1          2.5           3.0          1.1\n",
       "99           5.7          2.8           4.1          1.3"
      ]
     },
     "execution_count": 168,
     "metadata": {},
     "output_type": "execute_result"
    }
   ],
   "source": [
    "iris_df.loc[iris_df['Species'] == 'versicolor','Sepal.Length':'Petal.Width'] \n",
    "                # 행조건만 적용하는 경우라면 loc가 없어도 됨.\n",
    "                # 조건을 부여하는 행,열을 불러올 경우 iloc은 사용할 수 없음."
   ]
  },
  {
   "cell_type": "code",
   "execution_count": 169,
   "id": "805c6346",
   "metadata": {
    "ExecuteTime": {
     "end_time": "2021-08-02T05:37:22.691541Z",
     "start_time": "2021-08-02T05:37:22.677567Z"
    }
   },
   "outputs": [
    {
     "data": {
      "text/html": [
       "<div>\n",
       "<style scoped>\n",
       "    .dataframe tbody tr th:only-of-type {\n",
       "        vertical-align: middle;\n",
       "    }\n",
       "\n",
       "    .dataframe tbody tr th {\n",
       "        vertical-align: top;\n",
       "    }\n",
       "\n",
       "    .dataframe thead th {\n",
       "        text-align: right;\n",
       "    }\n",
       "</style>\n",
       "<table border=\"1\" class=\"dataframe\">\n",
       "  <thead>\n",
       "    <tr style=\"text-align: right;\">\n",
       "      <th></th>\n",
       "      <th>Sepal.Width</th>\n",
       "      <th>Petal.Width</th>\n",
       "    </tr>\n",
       "  </thead>\n",
       "  <tbody>\n",
       "    <tr>\n",
       "      <th>50</th>\n",
       "      <td>3.2</td>\n",
       "      <td>1.4</td>\n",
       "    </tr>\n",
       "    <tr>\n",
       "      <th>52</th>\n",
       "      <td>3.1</td>\n",
       "      <td>1.5</td>\n",
       "    </tr>\n",
       "    <tr>\n",
       "      <th>54</th>\n",
       "      <td>2.8</td>\n",
       "      <td>1.5</td>\n",
       "    </tr>\n",
       "    <tr>\n",
       "      <th>58</th>\n",
       "      <td>2.9</td>\n",
       "      <td>1.3</td>\n",
       "    </tr>\n",
       "    <tr>\n",
       "      <th>65</th>\n",
       "      <td>3.1</td>\n",
       "      <td>1.4</td>\n",
       "    </tr>\n",
       "    <tr>\n",
       "      <th>75</th>\n",
       "      <td>3.0</td>\n",
       "      <td>1.4</td>\n",
       "    </tr>\n",
       "    <tr>\n",
       "      <th>76</th>\n",
       "      <td>2.8</td>\n",
       "      <td>1.4</td>\n",
       "    </tr>\n",
       "    <tr>\n",
       "      <th>77</th>\n",
       "      <td>3.0</td>\n",
       "      <td>1.7</td>\n",
       "    </tr>\n",
       "    <tr>\n",
       "      <th>86</th>\n",
       "      <td>3.1</td>\n",
       "      <td>1.5</td>\n",
       "    </tr>\n",
       "    <tr>\n",
       "      <th>102</th>\n",
       "      <td>3.0</td>\n",
       "      <td>2.1</td>\n",
       "    </tr>\n",
       "    <tr>\n",
       "      <th>104</th>\n",
       "      <td>3.0</td>\n",
       "      <td>2.2</td>\n",
       "    </tr>\n",
       "    <tr>\n",
       "      <th>105</th>\n",
       "      <td>3.0</td>\n",
       "      <td>2.1</td>\n",
       "    </tr>\n",
       "    <tr>\n",
       "      <th>107</th>\n",
       "      <td>2.9</td>\n",
       "      <td>1.8</td>\n",
       "    </tr>\n",
       "    <tr>\n",
       "      <th>108</th>\n",
       "      <td>2.5</td>\n",
       "      <td>1.8</td>\n",
       "    </tr>\n",
       "    <tr>\n",
       "      <th>109</th>\n",
       "      <td>3.6</td>\n",
       "      <td>2.5</td>\n",
       "    </tr>\n",
       "    <tr>\n",
       "      <th>110</th>\n",
       "      <td>3.2</td>\n",
       "      <td>2.0</td>\n",
       "    </tr>\n",
       "    <tr>\n",
       "      <th>112</th>\n",
       "      <td>3.0</td>\n",
       "      <td>2.1</td>\n",
       "    </tr>\n",
       "    <tr>\n",
       "      <th>116</th>\n",
       "      <td>3.0</td>\n",
       "      <td>1.8</td>\n",
       "    </tr>\n",
       "    <tr>\n",
       "      <th>117</th>\n",
       "      <td>3.8</td>\n",
       "      <td>2.2</td>\n",
       "    </tr>\n",
       "    <tr>\n",
       "      <th>118</th>\n",
       "      <td>2.6</td>\n",
       "      <td>2.3</td>\n",
       "    </tr>\n",
       "    <tr>\n",
       "      <th>120</th>\n",
       "      <td>3.2</td>\n",
       "      <td>2.3</td>\n",
       "    </tr>\n",
       "    <tr>\n",
       "      <th>122</th>\n",
       "      <td>2.8</td>\n",
       "      <td>2.0</td>\n",
       "    </tr>\n",
       "    <tr>\n",
       "      <th>124</th>\n",
       "      <td>3.3</td>\n",
       "      <td>2.1</td>\n",
       "    </tr>\n",
       "    <tr>\n",
       "      <th>125</th>\n",
       "      <td>3.2</td>\n",
       "      <td>1.8</td>\n",
       "    </tr>\n",
       "    <tr>\n",
       "      <th>129</th>\n",
       "      <td>3.0</td>\n",
       "      <td>1.6</td>\n",
       "    </tr>\n",
       "    <tr>\n",
       "      <th>130</th>\n",
       "      <td>2.8</td>\n",
       "      <td>1.9</td>\n",
       "    </tr>\n",
       "    <tr>\n",
       "      <th>131</th>\n",
       "      <td>3.8</td>\n",
       "      <td>2.0</td>\n",
       "    </tr>\n",
       "    <tr>\n",
       "      <th>135</th>\n",
       "      <td>3.0</td>\n",
       "      <td>2.3</td>\n",
       "    </tr>\n",
       "    <tr>\n",
       "      <th>139</th>\n",
       "      <td>3.1</td>\n",
       "      <td>2.1</td>\n",
       "    </tr>\n",
       "    <tr>\n",
       "      <th>140</th>\n",
       "      <td>3.1</td>\n",
       "      <td>2.4</td>\n",
       "    </tr>\n",
       "    <tr>\n",
       "      <th>141</th>\n",
       "      <td>3.1</td>\n",
       "      <td>2.3</td>\n",
       "    </tr>\n",
       "    <tr>\n",
       "      <th>143</th>\n",
       "      <td>3.2</td>\n",
       "      <td>2.3</td>\n",
       "    </tr>\n",
       "    <tr>\n",
       "      <th>144</th>\n",
       "      <td>3.3</td>\n",
       "      <td>2.5</td>\n",
       "    </tr>\n",
       "    <tr>\n",
       "      <th>145</th>\n",
       "      <td>3.0</td>\n",
       "      <td>2.3</td>\n",
       "    </tr>\n",
       "    <tr>\n",
       "      <th>147</th>\n",
       "      <td>3.0</td>\n",
       "      <td>2.0</td>\n",
       "    </tr>\n",
       "  </tbody>\n",
       "</table>\n",
       "</div>"
      ],
      "text/plain": [
       "     Sepal.Width  Petal.Width\n",
       "50           3.2          1.4\n",
       "52           3.1          1.5\n",
       "54           2.8          1.5\n",
       "58           2.9          1.3\n",
       "65           3.1          1.4\n",
       "75           3.0          1.4\n",
       "76           2.8          1.4\n",
       "77           3.0          1.7\n",
       "86           3.1          1.5\n",
       "102          3.0          2.1\n",
       "104          3.0          2.2\n",
       "105          3.0          2.1\n",
       "107          2.9          1.8\n",
       "108          2.5          1.8\n",
       "109          3.6          2.5\n",
       "110          3.2          2.0\n",
       "112          3.0          2.1\n",
       "116          3.0          1.8\n",
       "117          3.8          2.2\n",
       "118          2.6          2.3\n",
       "120          3.2          2.3\n",
       "122          2.8          2.0\n",
       "124          3.3          2.1\n",
       "125          3.2          1.8\n",
       "129          3.0          1.6\n",
       "130          2.8          1.9\n",
       "131          3.8          2.0\n",
       "135          3.0          2.3\n",
       "139          3.1          2.1\n",
       "140          3.1          2.4\n",
       "141          3.1          2.3\n",
       "143          3.2          2.3\n",
       "144          3.3          2.5\n",
       "145          3.0          2.3\n",
       "147          3.0          2.0"
      ]
     },
     "execution_count": 169,
     "metadata": {},
     "output_type": "execute_result"
    }
   ],
   "source": [
    "# Sepal.Length가 6.5이상인 데이터 모든 열\n",
    "iris_df.loc[iris_df['Sepal.Length']>= 6.5, ['Sepal.Width','Petal.Width']]\n",
    "                # 행조건만 적용하는 경우라면 loc가 없어도 됨.\n",
    "                # 조건을 부여하는 행,열을 불러올 경우 iloc은 사용할 수 없음."
   ]
  },
  {
   "cell_type": "code",
   "execution_count": null,
   "id": "0d0d9b89",
   "metadata": {},
   "outputs": [],
   "source": [
    "# versicolor종 중에서 Sepal.Length가 6.5보다 큰 데이터의 모든 열 출력.\n",
    "# 조건이 2개"
   ]
  },
  {
   "cell_type": "code",
   "execution_count": 172,
   "id": "9c4ed680",
   "metadata": {
    "ExecuteTime": {
     "end_time": "2021-08-02T05:42:04.515482Z",
     "start_time": "2021-08-02T05:42:04.501519Z"
    }
   },
   "outputs": [
    {
     "data": {
      "text/html": [
       "<div>\n",
       "<style scoped>\n",
       "    .dataframe tbody tr th:only-of-type {\n",
       "        vertical-align: middle;\n",
       "    }\n",
       "\n",
       "    .dataframe tbody tr th {\n",
       "        vertical-align: top;\n",
       "    }\n",
       "\n",
       "    .dataframe thead th {\n",
       "        text-align: right;\n",
       "    }\n",
       "</style>\n",
       "<table border=\"1\" class=\"dataframe\">\n",
       "  <thead>\n",
       "    <tr style=\"text-align: right;\">\n",
       "      <th></th>\n",
       "      <th>Sepal.Length</th>\n",
       "      <th>Sepal.Width</th>\n",
       "      <th>Petal.Length</th>\n",
       "      <th>Petal.Width</th>\n",
       "      <th>Species</th>\n",
       "    </tr>\n",
       "  </thead>\n",
       "  <tbody>\n",
       "    <tr>\n",
       "      <th>50</th>\n",
       "      <td>7.0</td>\n",
       "      <td>3.2</td>\n",
       "      <td>4.7</td>\n",
       "      <td>1.4</td>\n",
       "      <td>versicolor</td>\n",
       "    </tr>\n",
       "    <tr>\n",
       "      <th>52</th>\n",
       "      <td>6.9</td>\n",
       "      <td>3.1</td>\n",
       "      <td>4.9</td>\n",
       "      <td>1.5</td>\n",
       "      <td>versicolor</td>\n",
       "    </tr>\n",
       "    <tr>\n",
       "      <th>58</th>\n",
       "      <td>6.6</td>\n",
       "      <td>2.9</td>\n",
       "      <td>4.6</td>\n",
       "      <td>1.3</td>\n",
       "      <td>versicolor</td>\n",
       "    </tr>\n",
       "    <tr>\n",
       "      <th>65</th>\n",
       "      <td>6.7</td>\n",
       "      <td>3.1</td>\n",
       "      <td>4.4</td>\n",
       "      <td>1.4</td>\n",
       "      <td>versicolor</td>\n",
       "    </tr>\n",
       "    <tr>\n",
       "      <th>75</th>\n",
       "      <td>6.6</td>\n",
       "      <td>3.0</td>\n",
       "      <td>4.4</td>\n",
       "      <td>1.4</td>\n",
       "      <td>versicolor</td>\n",
       "    </tr>\n",
       "    <tr>\n",
       "      <th>76</th>\n",
       "      <td>6.8</td>\n",
       "      <td>2.8</td>\n",
       "      <td>4.8</td>\n",
       "      <td>1.4</td>\n",
       "      <td>versicolor</td>\n",
       "    </tr>\n",
       "    <tr>\n",
       "      <th>77</th>\n",
       "      <td>6.7</td>\n",
       "      <td>3.0</td>\n",
       "      <td>5.0</td>\n",
       "      <td>1.7</td>\n",
       "      <td>versicolor</td>\n",
       "    </tr>\n",
       "    <tr>\n",
       "      <th>86</th>\n",
       "      <td>6.7</td>\n",
       "      <td>3.1</td>\n",
       "      <td>4.7</td>\n",
       "      <td>1.5</td>\n",
       "      <td>versicolor</td>\n",
       "    </tr>\n",
       "  </tbody>\n",
       "</table>\n",
       "</div>"
      ],
      "text/plain": [
       "    Sepal.Length  Sepal.Width  Petal.Length  Petal.Width     Species\n",
       "50           7.0          3.2           4.7          1.4  versicolor\n",
       "52           6.9          3.1           4.9          1.5  versicolor\n",
       "58           6.6          2.9           4.6          1.3  versicolor\n",
       "65           6.7          3.1           4.4          1.4  versicolor\n",
       "75           6.6          3.0           4.4          1.4  versicolor\n",
       "76           6.8          2.8           4.8          1.4  versicolor\n",
       "77           6.7          3.0           5.0          1.7  versicolor\n",
       "86           6.7          3.1           4.7          1.5  versicolor"
      ]
     },
     "execution_count": 172,
     "metadata": {},
     "output_type": "execute_result"
    }
   ],
   "source": [
    "iris_df.loc[(iris_df['Species']=='versicolor') & (iris_df['Sepal.Length']> 6.5)]\n",
    "            # &연산자가 먼저 처리되지 않도록 양 쪽을 ()로 묶어주어야 함."
   ]
  },
  {
   "cell_type": "code",
   "execution_count": 173,
   "id": "b897ea73",
   "metadata": {
    "ExecuteTime": {
     "end_time": "2021-08-02T05:43:30.587789Z",
     "start_time": "2021-08-02T05:43:30.565848Z"
    }
   },
   "outputs": [
    {
     "data": {
      "text/html": [
       "<div>\n",
       "<style scoped>\n",
       "    .dataframe tbody tr th:only-of-type {\n",
       "        vertical-align: middle;\n",
       "    }\n",
       "\n",
       "    .dataframe tbody tr th {\n",
       "        vertical-align: top;\n",
       "    }\n",
       "\n",
       "    .dataframe thead th {\n",
       "        text-align: right;\n",
       "    }\n",
       "</style>\n",
       "<table border=\"1\" class=\"dataframe\">\n",
       "  <thead>\n",
       "    <tr style=\"text-align: right;\">\n",
       "      <th></th>\n",
       "      <th>Name</th>\n",
       "      <th>Age</th>\n",
       "      <th>Email</th>\n",
       "      <th>Address</th>\n",
       "    </tr>\n",
       "  </thead>\n",
       "  <tbody>\n",
       "    <tr>\n",
       "      <th>0</th>\n",
       "      <td>심권호</td>\n",
       "      <td>31</td>\n",
       "      <td>Kownho@sim.co.kr</td>\n",
       "      <td>경기도 용인시</td>\n",
       "    </tr>\n",
       "    <tr>\n",
       "      <th>1</th>\n",
       "      <td>김연아</td>\n",
       "      <td>32</td>\n",
       "      <td>Yuna@queen.com</td>\n",
       "      <td>세종시</td>\n",
       "    </tr>\n",
       "    <tr>\n",
       "      <th>2</th>\n",
       "      <td>추신수</td>\n",
       "      <td>41</td>\n",
       "      <td>Shinsoo@choo.net</td>\n",
       "      <td>인천시 중구</td>\n",
       "    </tr>\n",
       "    <tr>\n",
       "      <th>3</th>\n",
       "      <td>아이유</td>\n",
       "      <td>27</td>\n",
       "      <td>jieun@lee.com</td>\n",
       "      <td>부산시 강서구</td>\n",
       "    </tr>\n",
       "  </tbody>\n",
       "</table>\n",
       "</div>"
      ],
      "text/plain": [
       "  Name   Age              Email   Address\n",
       "0  심권호    31   Kownho@sim.co.kr   경기도 용인시\n",
       "1  김연아    32     Yuna@queen.com       세종시\n",
       "2  추신수    41   Shinsoo@choo.net    인천시 중구\n",
       "3  아이유    27      jieun@lee.com   부산시 강서구"
      ]
     },
     "execution_count": 173,
     "metadata": {},
     "output_type": "execute_result"
    }
   ],
   "source": [
    "member_df = pd.read_csv('data/ch12_member(8.2).csv', comment='#')\n",
    "member_df"
   ]
  },
  {
   "cell_type": "code",
   "execution_count": null,
   "id": "6d1800ff",
   "metadata": {},
   "outputs": [],
   "source": [
    "# 주소가 강서구를 포함한 데이터만 추출"
   ]
  },
  {
   "cell_type": "code",
   "execution_count": 174,
   "id": "f95109d1",
   "metadata": {
    "ExecuteTime": {
     "end_time": "2021-08-02T05:45:04.728491Z",
     "start_time": "2021-08-02T05:45:04.696589Z"
    }
   },
   "outputs": [
    {
     "name": "stdout",
     "output_type": "stream",
     "text": [
      "<class 'pandas.core.frame.DataFrame'>\n",
      "RangeIndex: 4 entries, 0 to 3\n",
      "Data columns (total 4 columns):\n",
      " #   Column   Non-Null Count  Dtype \n",
      "---  ------   --------------  ----- \n",
      " 0   Name     4 non-null      object\n",
      " 1    Age     4 non-null      int64 \n",
      " 2   Email    4 non-null      object\n",
      " 3   Address  4 non-null      object\n",
      "dtypes: int64(1), object(3)\n",
      "memory usage: 256.0+ bytes\n"
     ]
    }
   ],
   "source": [
    "member_df.info() # 데이터 요약"
   ]
  },
  {
   "cell_type": "code",
   "execution_count": 175,
   "id": "781aa9b2",
   "metadata": {
    "ExecuteTime": {
     "end_time": "2021-08-02T05:45:35.559412Z",
     "start_time": "2021-08-02T05:45:35.540441Z"
    }
   },
   "outputs": [
    {
     "data": {
      "text/html": [
       "<div>\n",
       "<style scoped>\n",
       "    .dataframe tbody tr th:only-of-type {\n",
       "        vertical-align: middle;\n",
       "    }\n",
       "\n",
       "    .dataframe tbody tr th {\n",
       "        vertical-align: top;\n",
       "    }\n",
       "\n",
       "    .dataframe thead th {\n",
       "        text-align: right;\n",
       "    }\n",
       "</style>\n",
       "<table border=\"1\" class=\"dataframe\">\n",
       "  <thead>\n",
       "    <tr style=\"text-align: right;\">\n",
       "      <th></th>\n",
       "      <th>Name</th>\n",
       "      <th>Age</th>\n",
       "      <th>Email</th>\n",
       "      <th>Address</th>\n",
       "    </tr>\n",
       "  </thead>\n",
       "  <tbody>\n",
       "    <tr>\n",
       "      <th>0</th>\n",
       "      <td>False</td>\n",
       "      <td>False</td>\n",
       "      <td>False</td>\n",
       "      <td>False</td>\n",
       "    </tr>\n",
       "    <tr>\n",
       "      <th>1</th>\n",
       "      <td>False</td>\n",
       "      <td>False</td>\n",
       "      <td>False</td>\n",
       "      <td>False</td>\n",
       "    </tr>\n",
       "    <tr>\n",
       "      <th>2</th>\n",
       "      <td>False</td>\n",
       "      <td>False</td>\n",
       "      <td>False</td>\n",
       "      <td>False</td>\n",
       "    </tr>\n",
       "    <tr>\n",
       "      <th>3</th>\n",
       "      <td>False</td>\n",
       "      <td>False</td>\n",
       "      <td>False</td>\n",
       "      <td>False</td>\n",
       "    </tr>\n",
       "  </tbody>\n",
       "</table>\n",
       "</div>"
      ],
      "text/plain": [
       "    Name    Age  Email  Address\n",
       "0  False  False  False    False\n",
       "1  False  False  False    False\n",
       "2  False  False  False    False\n",
       "3  False  False  False    False"
      ]
     },
     "execution_count": 175,
     "metadata": {},
     "output_type": "execute_result"
    }
   ],
   "source": [
    "member_df.isna()\n",
    "    # 결측치 확인\n",
    "    # 60만행의 데이터인 경우 확인 불가..."
   ]
  },
  {
   "cell_type": "code",
   "execution_count": 182,
   "id": "30f814d4",
   "metadata": {
    "ExecuteTime": {
     "end_time": "2021-08-02T05:48:12.637443Z",
     "start_time": "2021-08-02T05:48:12.628447Z"
    }
   },
   "outputs": [
    {
     "data": {
      "text/plain": [
       "0    0\n",
       "1    0\n",
       "2    0\n",
       "3    0\n",
       "dtype: int64"
      ]
     },
     "execution_count": 182,
     "metadata": {},
     "output_type": "execute_result"
    }
   ],
   "source": [
    "member_df.isna().sum() # 행을 sum => 열별 결측 갯수, axis가 생략된 형태임"
   ]
  },
  {
   "cell_type": "code",
   "execution_count": 183,
   "id": "63a704b2",
   "metadata": {
    "ExecuteTime": {
     "end_time": "2021-08-02T05:48:55.671421Z",
     "start_time": "2021-08-02T05:48:55.652440Z"
    }
   },
   "outputs": [
    {
     "data": {
      "text/plain": [
       "Name       0\n",
       " Age       0\n",
       "Email      0\n",
       "Address    0\n",
       "dtype: int64"
      ]
     },
     "execution_count": 183,
     "metadata": {},
     "output_type": "execute_result"
    }
   ],
   "source": [
    "member_df.isnull().sum() # 열별 결측치 갯수"
   ]
  },
  {
   "cell_type": "code",
   "execution_count": null,
   "id": "8c77145f",
   "metadata": {
    "ExecuteTime": {
     "end_time": "2021-08-02T05:50:24.183232Z",
     "start_time": "2021-08-02T05:50:24.164255Z"
    }
   },
   "outputs": [],
   "source": [
    "msg = \"서울시 강서구 화곡동\"\n",
    "msg.find('강동구')"
   ]
  },
  {
   "cell_type": "code",
   "execution_count": null,
   "id": "5d0df46c",
   "metadata": {},
   "outputs": [],
   "source": [
    "시리즈를 문자함수로 쓰기 위해서 :\n",
    "        https://pandas.pydata.org/pandas-docs/stable/reference/series.html#string-handling"
   ]
  },
  {
   "cell_type": "code",
   "execution_count": 185,
   "id": "482445c7",
   "metadata": {
    "ExecuteTime": {
     "end_time": "2021-08-02T05:50:55.687278Z",
     "start_time": "2021-08-02T05:50:55.668335Z"
    }
   },
   "outputs": [
    {
     "ename": "AttributeError",
     "evalue": "'Series' object has no attribute 'find'",
     "output_type": "error",
     "traceback": [
      "\u001b[1;31m---------------------------------------------------------------------------\u001b[0m",
      "\u001b[1;31mAttributeError\u001b[0m                            Traceback (most recent call last)",
      "\u001b[1;32m<ipython-input-185-2289aeed4663>\u001b[0m in \u001b[0;36m<module>\u001b[1;34m\u001b[0m\n\u001b[1;32m----> 1\u001b[1;33m \u001b[0mmember_df\u001b[0m\u001b[1;33m.\u001b[0m\u001b[0mAddress\u001b[0m\u001b[1;33m.\u001b[0m\u001b[0mfind\u001b[0m\u001b[1;33m(\u001b[0m\u001b[1;34m\"강서구\"\u001b[0m\u001b[1;33m)\u001b[0m\u001b[1;33m\u001b[0m\u001b[1;33m\u001b[0m\u001b[0m\n\u001b[0m",
      "\u001b[1;32m~\\anaconda3\\lib\\site-packages\\pandas\\core\\generic.py\u001b[0m in \u001b[0;36m__getattr__\u001b[1;34m(self, name)\u001b[0m\n\u001b[0;32m   5463\u001b[0m             \u001b[1;32mif\u001b[0m \u001b[0mself\u001b[0m\u001b[1;33m.\u001b[0m\u001b[0m_info_axis\u001b[0m\u001b[1;33m.\u001b[0m\u001b[0m_can_hold_identifiers_and_holds_name\u001b[0m\u001b[1;33m(\u001b[0m\u001b[0mname\u001b[0m\u001b[1;33m)\u001b[0m\u001b[1;33m:\u001b[0m\u001b[1;33m\u001b[0m\u001b[1;33m\u001b[0m\u001b[0m\n\u001b[0;32m   5464\u001b[0m                 \u001b[1;32mreturn\u001b[0m \u001b[0mself\u001b[0m\u001b[1;33m[\u001b[0m\u001b[0mname\u001b[0m\u001b[1;33m]\u001b[0m\u001b[1;33m\u001b[0m\u001b[1;33m\u001b[0m\u001b[0m\n\u001b[1;32m-> 5465\u001b[1;33m             \u001b[1;32mreturn\u001b[0m \u001b[0mobject\u001b[0m\u001b[1;33m.\u001b[0m\u001b[0m__getattribute__\u001b[0m\u001b[1;33m(\u001b[0m\u001b[0mself\u001b[0m\u001b[1;33m,\u001b[0m \u001b[0mname\u001b[0m\u001b[1;33m)\u001b[0m\u001b[1;33m\u001b[0m\u001b[1;33m\u001b[0m\u001b[0m\n\u001b[0m\u001b[0;32m   5466\u001b[0m \u001b[1;33m\u001b[0m\u001b[0m\n\u001b[0;32m   5467\u001b[0m     \u001b[1;32mdef\u001b[0m \u001b[0m__setattr__\u001b[0m\u001b[1;33m(\u001b[0m\u001b[0mself\u001b[0m\u001b[1;33m,\u001b[0m \u001b[0mname\u001b[0m\u001b[1;33m:\u001b[0m \u001b[0mstr\u001b[0m\u001b[1;33m,\u001b[0m \u001b[0mvalue\u001b[0m\u001b[1;33m)\u001b[0m \u001b[1;33m->\u001b[0m \u001b[1;32mNone\u001b[0m\u001b[1;33m:\u001b[0m\u001b[1;33m\u001b[0m\u001b[1;33m\u001b[0m\u001b[0m\n",
      "\u001b[1;31mAttributeError\u001b[0m: 'Series' object has no attribute 'find'"
     ]
    }
   ],
   "source": [
    "member_df.Address.find(\"강서구\") \n",
    "                # find함수는 string을 파라미터로 입력받아야함.\n",
    "                # member_df는 series임."
   ]
  },
  {
   "cell_type": "code",
   "execution_count": 186,
   "id": "627dab6a",
   "metadata": {
    "ExecuteTime": {
     "end_time": "2021-08-02T05:54:29.902264Z",
     "start_time": "2021-08-02T05:54:29.892276Z"
    }
   },
   "outputs": [
    {
     "data": {
      "text/html": [
       "<div>\n",
       "<style scoped>\n",
       "    .dataframe tbody tr th:only-of-type {\n",
       "        vertical-align: middle;\n",
       "    }\n",
       "\n",
       "    .dataframe tbody tr th {\n",
       "        vertical-align: top;\n",
       "    }\n",
       "\n",
       "    .dataframe thead th {\n",
       "        text-align: right;\n",
       "    }\n",
       "</style>\n",
       "<table border=\"1\" class=\"dataframe\">\n",
       "  <thead>\n",
       "    <tr style=\"text-align: right;\">\n",
       "      <th></th>\n",
       "      <th>Name</th>\n",
       "      <th>Age</th>\n",
       "      <th>Email</th>\n",
       "      <th>Address</th>\n",
       "    </tr>\n",
       "  </thead>\n",
       "  <tbody>\n",
       "    <tr>\n",
       "      <th>3</th>\n",
       "      <td>아이유</td>\n",
       "      <td>27</td>\n",
       "      <td>jieun@lee.com</td>\n",
       "      <td>부산시 강서구</td>\n",
       "    </tr>\n",
       "  </tbody>\n",
       "</table>\n",
       "</div>"
      ],
      "text/plain": [
       "  Name   Age           Email   Address\n",
       "3  아이유    27   jieun@lee.com   부산시 강서구"
      ]
     },
     "execution_count": 186,
     "metadata": {},
     "output_type": "execute_result"
    }
   ],
   "source": [
    "# Address가 강서구를 포함한 데이터의 모든 열\n",
    "member_df[member_df.Address.str.find('강서구') != -1]"
   ]
  },
  {
   "cell_type": "code",
   "execution_count": null,
   "id": "be975972",
   "metadata": {},
   "outputs": [],
   "source": [
    "# 강서구에 거주하는 사람의 이름과 나이를 출력\n",
    "member_df.loc[member_df.Address.str.find('강서구') != -1, ['Name','Age']]\n",
    "########################################오류"
   ]
  },
  {
   "cell_type": "code",
   "execution_count": null,
   "id": "ff3d038d",
   "metadata": {},
   "outputs": [],
   "source": [
    "member.Age = member_df.Age.astype('float64') # int타입을 float64로 변환\n",
    "#############################놓침"
   ]
  },
  {
   "cell_type": "markdown",
   "id": "24c42d2e",
   "metadata": {
    "ExecuteTime": {
     "end_time": "2021-08-02T05:58:32.899328Z",
     "start_time": "2021-08-02T05:58:32.887339Z"
    }
   },
   "source": [
    "# 5절. 데이터 추가 및 삭제"
   ]
  },
  {
   "cell_type": "markdown",
   "id": "47d1de83",
   "metadata": {},
   "source": [
    "## 5.1 데이터 프레임의 요소삭제"
   ]
  },
  {
   "cell_type": "code",
   "execution_count": 198,
   "id": "e6629294",
   "metadata": {
    "ExecuteTime": {
     "end_time": "2021-08-02T06:01:45.205741Z",
     "start_time": "2021-08-02T06:01:45.188768Z"
    }
   },
   "outputs": [
    {
     "data": {
      "text/html": [
       "<div>\n",
       "<style scoped>\n",
       "    .dataframe tbody tr th:only-of-type {\n",
       "        vertical-align: middle;\n",
       "    }\n",
       "\n",
       "    .dataframe tbody tr th {\n",
       "        vertical-align: top;\n",
       "    }\n",
       "\n",
       "    .dataframe thead th {\n",
       "        text-align: right;\n",
       "    }\n",
       "</style>\n",
       "<table border=\"1\" class=\"dataframe\">\n",
       "  <thead>\n",
       "    <tr style=\"text-align: right;\">\n",
       "      <th></th>\n",
       "      <th>Name</th>\n",
       "      <th>Age</th>\n",
       "      <th>Email</th>\n",
       "      <th>Address</th>\n",
       "    </tr>\n",
       "  </thead>\n",
       "  <tbody>\n",
       "    <tr>\n",
       "      <th>0</th>\n",
       "      <td>심권호</td>\n",
       "      <td>31</td>\n",
       "      <td>Kownho@sim.co.kr</td>\n",
       "      <td>경기도 용인시</td>\n",
       "    </tr>\n",
       "    <tr>\n",
       "      <th>2</th>\n",
       "      <td>추신수</td>\n",
       "      <td>41</td>\n",
       "      <td>Shinsoo@choo.net</td>\n",
       "      <td>인천시 중구</td>\n",
       "    </tr>\n",
       "    <tr>\n",
       "      <th>3</th>\n",
       "      <td>아이유</td>\n",
       "      <td>27</td>\n",
       "      <td>jieun@lee.com</td>\n",
       "      <td>부산시 강서구</td>\n",
       "    </tr>\n",
       "  </tbody>\n",
       "</table>\n",
       "</div>"
      ],
      "text/plain": [
       "  Name   Age              Email   Address\n",
       "0  심권호    31   Kownho@sim.co.kr   경기도 용인시\n",
       "2  추신수    41   Shinsoo@choo.net    인천시 중구\n",
       "3  아이유    27      jieun@lee.com   부산시 강서구"
      ]
     },
     "execution_count": 198,
     "metadata": {},
     "output_type": "execute_result"
    }
   ],
   "source": [
    "# 1) 단일행 삭제\n",
    "member_df.drop(1) # axis=0이면 행에서 index명을 찾아 삭제했을 경우의 결과를 반환(실제로는 삭제하지 않음.)\n",
    "                  # inplace = True를 추가시 member_df에서 삭제하고 결과를 반환하지 않음."
   ]
  },
  {
   "cell_type": "code",
   "execution_count": null,
   "id": "c014ed2c",
   "metadata": {},
   "outputs": [],
   "source": [
    "member_df.drop('북') # 없는 행이름을 삭제한 결과를 요청할 경우 오류(오류가 아니어도 삭제되는 명령이 아님!)"
   ]
  },
  {
   "cell_type": "code",
   "execution_count": 200,
   "id": "bdf6f1ea",
   "metadata": {
    "ExecuteTime": {
     "end_time": "2021-08-02T06:04:04.110133Z",
     "start_time": "2021-08-02T06:04:04.100161Z"
    }
   },
   "outputs": [
    {
     "data": {
      "text/html": [
       "<div>\n",
       "<style scoped>\n",
       "    .dataframe tbody tr th:only-of-type {\n",
       "        vertical-align: middle;\n",
       "    }\n",
       "\n",
       "    .dataframe tbody tr th {\n",
       "        vertical-align: top;\n",
       "    }\n",
       "\n",
       "    .dataframe thead th {\n",
       "        text-align: right;\n",
       "    }\n",
       "</style>\n",
       "<table border=\"1\" class=\"dataframe\">\n",
       "  <thead>\n",
       "    <tr style=\"text-align: right;\">\n",
       "      <th></th>\n",
       "      <th>Name</th>\n",
       "      <th>Age</th>\n",
       "      <th>Email</th>\n",
       "    </tr>\n",
       "  </thead>\n",
       "  <tbody>\n",
       "    <tr>\n",
       "      <th>0</th>\n",
       "      <td>심권호</td>\n",
       "      <td>31</td>\n",
       "      <td>Kownho@sim.co.kr</td>\n",
       "    </tr>\n",
       "    <tr>\n",
       "      <th>1</th>\n",
       "      <td>김연아</td>\n",
       "      <td>32</td>\n",
       "      <td>Yuna@queen.com</td>\n",
       "    </tr>\n",
       "    <tr>\n",
       "      <th>2</th>\n",
       "      <td>추신수</td>\n",
       "      <td>41</td>\n",
       "      <td>Shinsoo@choo.net</td>\n",
       "    </tr>\n",
       "    <tr>\n",
       "      <th>3</th>\n",
       "      <td>아이유</td>\n",
       "      <td>27</td>\n",
       "      <td>jieun@lee.com</td>\n",
       "    </tr>\n",
       "  </tbody>\n",
       "</table>\n",
       "</div>"
      ],
      "text/plain": [
       "  Name   Age              Email\n",
       "0  심권호    31   Kownho@sim.co.kr\n",
       "1  김연아    32     Yuna@queen.com\n",
       "2  추신수    41   Shinsoo@choo.net\n",
       "3  아이유    27      jieun@lee.com"
      ]
     },
     "execution_count": 200,
     "metadata": {},
     "output_type": "execute_result"
    }
   ],
   "source": [
    "member_df.drop('Address',axis=1) # Address 행을 삭제한 결과를 반환(실제로는 삭제하지 않음)\n",
    "                                 # inplace = True를 추가시 실제로 삭제가 이루어짐"
   ]
  },
  {
   "cell_type": "code",
   "execution_count": null,
   "id": "a7ca92ba",
   "metadata": {},
   "outputs": [],
   "source": [
    "member_df.drop('Address', axis=1, inplace=True) # <--- 실행시 실제로 Address열이 삭제됨\n",
    "member_df = member_df.drop('Address', axis=1, inplace=True) # <--- 실행시 실제로 Address열이 삭제됨"
   ]
  },
  {
   "cell_type": "markdown",
   "id": "46fb246d",
   "metadata": {},
   "source": [
    "## 5.2 데이터프레임의 요소 추가"
   ]
  },
  {
   "cell_type": "code",
   "execution_count": 3,
   "id": "e8ac46fd",
   "metadata": {
    "ExecuteTime": {
     "end_time": "2021-08-02T06:26:37.541849Z",
     "start_time": "2021-08-02T06:26:37.188791Z"
    }
   },
   "outputs": [
    {
     "data": {
      "text/html": [
       "<div>\n",
       "<style scoped>\n",
       "    .dataframe tbody tr th:only-of-type {\n",
       "        vertical-align: middle;\n",
       "    }\n",
       "\n",
       "    .dataframe tbody tr th {\n",
       "        vertical-align: top;\n",
       "    }\n",
       "\n",
       "    .dataframe thead th {\n",
       "        text-align: right;\n",
       "    }\n",
       "</style>\n",
       "<table border=\"1\" class=\"dataframe\">\n",
       "  <thead>\n",
       "    <tr style=\"text-align: right;\">\n",
       "      <th></th>\n",
       "      <th>Name</th>\n",
       "      <th>Age</th>\n",
       "      <th>Email</th>\n",
       "      <th>Address</th>\n",
       "      <th>BirthYear</th>\n",
       "    </tr>\n",
       "  </thead>\n",
       "  <tbody>\n",
       "    <tr>\n",
       "      <th>0</th>\n",
       "      <td>심권호</td>\n",
       "      <td>31</td>\n",
       "      <td>Kownho@sim.co.kr</td>\n",
       "      <td>경기도 용인시</td>\n",
       "      <td>2000</td>\n",
       "    </tr>\n",
       "    <tr>\n",
       "      <th>1</th>\n",
       "      <td>김연아</td>\n",
       "      <td>32</td>\n",
       "      <td>Yuna@queen.com</td>\n",
       "      <td>세종시</td>\n",
       "      <td>2001</td>\n",
       "    </tr>\n",
       "    <tr>\n",
       "      <th>2</th>\n",
       "      <td>추신수</td>\n",
       "      <td>41</td>\n",
       "      <td>Shinsoo@choo.net</td>\n",
       "      <td>인천시 중구</td>\n",
       "      <td>2002</td>\n",
       "    </tr>\n",
       "    <tr>\n",
       "      <th>3</th>\n",
       "      <td>아이유</td>\n",
       "      <td>27</td>\n",
       "      <td>jieun@lee.com</td>\n",
       "      <td>부산시 강서구</td>\n",
       "      <td>2002</td>\n",
       "    </tr>\n",
       "  </tbody>\n",
       "</table>\n",
       "</div>"
      ],
      "text/plain": [
       "  Name   Age              Email   Address  BirthYear\n",
       "0  심권호    31   Kownho@sim.co.kr   경기도 용인시       2000\n",
       "1  김연아    32     Yuna@queen.com       세종시       2001\n",
       "2  추신수    41   Shinsoo@choo.net    인천시 중구       2002\n",
       "3  아이유    27      jieun@lee.com   부산시 강서구       2002"
      ]
     },
     "execution_count": 3,
     "metadata": {},
     "output_type": "execute_result"
    }
   ],
   "source": [
    "# 1) 리스트를 이용한 열 추가\n",
    "import pandas as pd\n",
    "member_df = pd.read_csv('data/ch12_member(8.2).csv', comment='#')\n",
    "member_df['BirthYear'] = [2000, 2001, 2002, 2002]\n",
    "member_df"
   ]
  },
  {
   "cell_type": "code",
   "execution_count": null,
   "id": "b3d3c724",
   "metadata": {},
   "outputs": [],
   "source": [
    "### 놓친듯?"
   ]
  },
  {
   "cell_type": "code",
   "execution_count": 4,
   "id": "e1defe0a",
   "metadata": {
    "ExecuteTime": {
     "end_time": "2021-08-02T06:26:39.687665Z",
     "start_time": "2021-08-02T06:26:39.668687Z"
    }
   },
   "outputs": [
    {
     "data": {
      "text/html": [
       "<div>\n",
       "<style scoped>\n",
       "    .dataframe tbody tr th:only-of-type {\n",
       "        vertical-align: middle;\n",
       "    }\n",
       "\n",
       "    .dataframe tbody tr th {\n",
       "        vertical-align: top;\n",
       "    }\n",
       "\n",
       "    .dataframe thead th {\n",
       "        text-align: right;\n",
       "    }\n",
       "</style>\n",
       "<table border=\"1\" class=\"dataframe\">\n",
       "  <thead>\n",
       "    <tr style=\"text-align: right;\">\n",
       "      <th></th>\n",
       "      <th>Name</th>\n",
       "      <th>Age</th>\n",
       "      <th>Email</th>\n",
       "      <th>Address</th>\n",
       "      <th>BirthYear</th>\n",
       "    </tr>\n",
       "  </thead>\n",
       "  <tbody>\n",
       "    <tr>\n",
       "      <th>0</th>\n",
       "      <td>심권호</td>\n",
       "      <td>31</td>\n",
       "      <td>Kownho@sim.co.kr</td>\n",
       "      <td>경기도 용인시</td>\n",
       "      <td>2001.0</td>\n",
       "    </tr>\n",
       "    <tr>\n",
       "      <th>1</th>\n",
       "      <td>김연아</td>\n",
       "      <td>32</td>\n",
       "      <td>Yuna@queen.com</td>\n",
       "      <td>세종시</td>\n",
       "      <td>2002.0</td>\n",
       "    </tr>\n",
       "    <tr>\n",
       "      <th>2</th>\n",
       "      <td>추신수</td>\n",
       "      <td>41</td>\n",
       "      <td>Shinsoo@choo.net</td>\n",
       "      <td>인천시 중구</td>\n",
       "      <td>NaN</td>\n",
       "    </tr>\n",
       "    <tr>\n",
       "      <th>3</th>\n",
       "      <td>아이유</td>\n",
       "      <td>27</td>\n",
       "      <td>jieun@lee.com</td>\n",
       "      <td>부산시 강서구</td>\n",
       "      <td>2000.0</td>\n",
       "    </tr>\n",
       "  </tbody>\n",
       "</table>\n",
       "</div>"
      ],
      "text/plain": [
       "  Name   Age              Email   Address  BirthYear\n",
       "0  심권호    31   Kownho@sim.co.kr   경기도 용인시     2001.0\n",
       "1  김연아    32     Yuna@queen.com       세종시     2002.0\n",
       "2  추신수    41   Shinsoo@choo.net    인천시 중구        NaN\n",
       "3  아이유    27      jieun@lee.com   부산시 강서구     2000.0"
      ]
     },
     "execution_count": 4,
     "metadata": {},
     "output_type": "execute_result"
    }
   ],
   "source": [
    "member_df = pd.read_csv('data/ch12_member(8.2).csv', comment='#')\n",
    "member_df['BirthYear'] = [2001, 2002, None, 2000] # 결측치를 입력할 경우 type이 float\n",
    "member_df"
   ]
  },
  {
   "cell_type": "code",
   "execution_count": null,
   "id": "630747dd",
   "metadata": {},
   "outputs": [],
   "source": [
    "###"
   ]
  },
  {
   "cell_type": "code",
   "execution_count": 5,
   "id": "8d1a9660",
   "metadata": {
    "ExecuteTime": {
     "end_time": "2021-08-02T06:26:41.899742Z",
     "start_time": "2021-08-02T06:26:41.891744Z"
    }
   },
   "outputs": [
    {
     "data": {
      "text/plain": [
       "float"
      ]
     },
     "execution_count": 5,
     "metadata": {},
     "output_type": "execute_result"
    }
   ],
   "source": [
    "import numpy as np\n",
    "type(np.nan)"
   ]
  },
  {
   "cell_type": "code",
   "execution_count": 6,
   "id": "d496c782",
   "metadata": {
    "ExecuteTime": {
     "end_time": "2021-08-02T06:26:43.382709Z",
     "start_time": "2021-08-02T06:26:43.364758Z"
    }
   },
   "outputs": [
    {
     "data": {
      "text/html": [
       "<div>\n",
       "<style scoped>\n",
       "    .dataframe tbody tr th:only-of-type {\n",
       "        vertical-align: middle;\n",
       "    }\n",
       "\n",
       "    .dataframe tbody tr th {\n",
       "        vertical-align: top;\n",
       "    }\n",
       "\n",
       "    .dataframe thead th {\n",
       "        text-align: right;\n",
       "    }\n",
       "</style>\n",
       "<table border=\"1\" class=\"dataframe\">\n",
       "  <thead>\n",
       "    <tr style=\"text-align: right;\">\n",
       "      <th></th>\n",
       "      <th>Name</th>\n",
       "      <th>Age</th>\n",
       "      <th>Email</th>\n",
       "      <th>Address</th>\n",
       "      <th>BirthYear</th>\n",
       "    </tr>\n",
       "  </thead>\n",
       "  <tbody>\n",
       "    <tr>\n",
       "      <th>0</th>\n",
       "      <td>심권호</td>\n",
       "      <td>31</td>\n",
       "      <td>Kownho@sim.co.kr</td>\n",
       "      <td>경기도 용인시</td>\n",
       "      <td>2001.0</td>\n",
       "    </tr>\n",
       "    <tr>\n",
       "      <th>1</th>\n",
       "      <td>김연아</td>\n",
       "      <td>32</td>\n",
       "      <td>Yuna@queen.com</td>\n",
       "      <td>세종시</td>\n",
       "      <td>2002.0</td>\n",
       "    </tr>\n",
       "    <tr>\n",
       "      <th>2</th>\n",
       "      <td>추신수</td>\n",
       "      <td>41</td>\n",
       "      <td>Shinsoo@choo.net</td>\n",
       "      <td>인천시 중구</td>\n",
       "      <td>NaN</td>\n",
       "    </tr>\n",
       "    <tr>\n",
       "      <th>3</th>\n",
       "      <td>아이유</td>\n",
       "      <td>27</td>\n",
       "      <td>jieun@lee.com</td>\n",
       "      <td>부산시 강서구</td>\n",
       "      <td>2000.0</td>\n",
       "    </tr>\n",
       "  </tbody>\n",
       "</table>\n",
       "</div>"
      ],
      "text/plain": [
       "  Name   Age              Email   Address  BirthYear\n",
       "0  심권호    31   Kownho@sim.co.kr   경기도 용인시     2001.0\n",
       "1  김연아    32     Yuna@queen.com       세종시     2002.0\n",
       "2  추신수    41   Shinsoo@choo.net    인천시 중구        NaN\n",
       "3  아이유    27      jieun@lee.com   부산시 강서구     2000.0"
      ]
     },
     "execution_count": 6,
     "metadata": {},
     "output_type": "execute_result"
    }
   ],
   "source": [
    "# 2) 시리즈를 이용한 열 추가\n",
    "member_df = pd.read_csv('data/ch12_member(8.2).csv', comment='#')\n",
    "member_df['BirthYear'] = pd.Series([2001, 2002, None, 2000])\n",
    "# member_df['BirthYear'] = pd.Series([2001, 2002, 2000], index=[0,1,3])\n",
    "member_df"
   ]
  },
  {
   "cell_type": "code",
   "execution_count": 10,
   "id": "c97c5d83",
   "metadata": {
    "ExecuteTime": {
     "end_time": "2021-08-02T06:27:50.747857Z",
     "start_time": "2021-08-02T06:27:50.723899Z"
    }
   },
   "outputs": [
    {
     "data": {
      "text/html": [
       "<div>\n",
       "<style scoped>\n",
       "    .dataframe tbody tr th:only-of-type {\n",
       "        vertical-align: middle;\n",
       "    }\n",
       "\n",
       "    .dataframe tbody tr th {\n",
       "        vertical-align: top;\n",
       "    }\n",
       "\n",
       "    .dataframe thead th {\n",
       "        text-align: right;\n",
       "    }\n",
       "</style>\n",
       "<table border=\"1\" class=\"dataframe\">\n",
       "  <thead>\n",
       "    <tr style=\"text-align: right;\">\n",
       "      <th></th>\n",
       "      <th>Name</th>\n",
       "      <th>Age</th>\n",
       "      <th>Email</th>\n",
       "      <th>Address</th>\n",
       "    </tr>\n",
       "  </thead>\n",
       "  <tbody>\n",
       "    <tr>\n",
       "      <th>0</th>\n",
       "      <td>심권호</td>\n",
       "      <td>31</td>\n",
       "      <td>Kownho@sim.co.kr</td>\n",
       "      <td>경기도 용인시</td>\n",
       "    </tr>\n",
       "    <tr>\n",
       "      <th>1</th>\n",
       "      <td>김연아</td>\n",
       "      <td>32</td>\n",
       "      <td>Yuna@queen.com</td>\n",
       "      <td>세종시</td>\n",
       "    </tr>\n",
       "    <tr>\n",
       "      <th>2</th>\n",
       "      <td>추신수</td>\n",
       "      <td>41</td>\n",
       "      <td>Shinsoo@choo.net</td>\n",
       "      <td>인천시 중구</td>\n",
       "    </tr>\n",
       "    <tr>\n",
       "      <th>3</th>\n",
       "      <td>아이유</td>\n",
       "      <td>27</td>\n",
       "      <td>jieun@lee.com</td>\n",
       "      <td>부산시 강서구</td>\n",
       "    </tr>\n",
       "  </tbody>\n",
       "</table>\n",
       "</div>"
      ],
      "text/plain": [
       "  Name   Age              Email   Address\n",
       "0  심권호    31   Kownho@sim.co.kr   경기도 용인시\n",
       "1  김연아    32     Yuna@queen.com       세종시\n",
       "2  추신수    41   Shinsoo@choo.net    인천시 중구\n",
       "3  아이유    27      jieun@lee.com   부산시 강서구"
      ]
     },
     "execution_count": 10,
     "metadata": {},
     "output_type": "execute_result"
    }
   ],
   "source": [
    "# 3) 딕셔너리로 행 추가\n",
    "member_df = pd.read_csv('data/ch12_member(8.2).csv', comment='#')\n",
    "member_df"
   ]
  },
  {
   "cell_type": "code",
   "execution_count": 28,
   "id": "b9a6c6e6",
   "metadata": {
    "ExecuteTime": {
     "end_time": "2021-08-02T06:37:25.909918Z",
     "start_time": "2021-08-02T06:37:25.892955Z"
    }
   },
   "outputs": [
    {
     "data": {
      "text/html": [
       "<div>\n",
       "<style scoped>\n",
       "    .dataframe tbody tr th:only-of-type {\n",
       "        vertical-align: middle;\n",
       "    }\n",
       "\n",
       "    .dataframe tbody tr th {\n",
       "        vertical-align: top;\n",
       "    }\n",
       "\n",
       "    .dataframe thead th {\n",
       "        text-align: right;\n",
       "    }\n",
       "</style>\n",
       "<table border=\"1\" class=\"dataframe\">\n",
       "  <thead>\n",
       "    <tr style=\"text-align: right;\">\n",
       "      <th></th>\n",
       "      <th>Name</th>\n",
       "      <th>Age</th>\n",
       "      <th>Email</th>\n",
       "      <th>Address</th>\n",
       "      <th>Age</th>\n",
       "    </tr>\n",
       "  </thead>\n",
       "  <tbody>\n",
       "    <tr>\n",
       "      <th>0</th>\n",
       "      <td>심권호</td>\n",
       "      <td>31.0</td>\n",
       "      <td>Kownho@sim.co.kr</td>\n",
       "      <td>경기도 용인시</td>\n",
       "      <td>NaN</td>\n",
       "    </tr>\n",
       "    <tr>\n",
       "      <th>1</th>\n",
       "      <td>김연아</td>\n",
       "      <td>32.0</td>\n",
       "      <td>Yuna@queen.com</td>\n",
       "      <td>세종시</td>\n",
       "      <td>NaN</td>\n",
       "    </tr>\n",
       "    <tr>\n",
       "      <th>2</th>\n",
       "      <td>추신수</td>\n",
       "      <td>41.0</td>\n",
       "      <td>Shinsoo@choo.net</td>\n",
       "      <td>인천시 중구</td>\n",
       "      <td>NaN</td>\n",
       "    </tr>\n",
       "    <tr>\n",
       "      <th>3</th>\n",
       "      <td>아이유</td>\n",
       "      <td>27.0</td>\n",
       "      <td>jieun@lee.com</td>\n",
       "      <td>부산시 강서구</td>\n",
       "      <td>NaN</td>\n",
       "    </tr>\n",
       "    <tr>\n",
       "      <th>4</th>\n",
       "      <td>박지성</td>\n",
       "      <td>NaN</td>\n",
       "      <td>Jisung@park.com</td>\n",
       "      <td>서울시 서대문구</td>\n",
       "      <td>26.0</td>\n",
       "    </tr>\n",
       "  </tbody>\n",
       "</table>\n",
       "</div>"
      ],
      "text/plain": [
       "  Name   Age              Email   Address   Age\n",
       "0  심권호  31.0   Kownho@sim.co.kr   경기도 용인시   NaN\n",
       "1  김연아  32.0     Yuna@queen.com       세종시   NaN\n",
       "2  추신수  41.0   Shinsoo@choo.net    인천시 중구   NaN\n",
       "3  아이유  27.0      jieun@lee.com   부산시 강서구   NaN\n",
       "4  박지성   NaN    Jisung@park.com  서울시 서대문구  26.0"
      ]
     },
     "execution_count": 28,
     "metadata": {},
     "output_type": "execute_result"
    }
   ],
   "source": [
    "new_member = {'Name':'박지성',\n",
    "              'Age': 26,\n",
    "              'Email':'Jisung@park.com',\n",
    "              'Address':'서울시 서대문구'}\n",
    "new_df = member_df.append(new_member, ignore_index= True)\n",
    "new_df"
   ]
  },
  {
   "cell_type": "code",
   "execution_count": 25,
   "id": "72af5148",
   "metadata": {
    "ExecuteTime": {
     "end_time": "2021-08-02T06:37:12.292071Z",
     "start_time": "2021-08-02T06:37:12.276086Z"
    }
   },
   "outputs": [],
   "source": [
    "del new_df"
   ]
  },
  {
   "cell_type": "code",
   "execution_count": 26,
   "id": "ea76beca",
   "metadata": {
    "ExecuteTime": {
     "end_time": "2021-08-02T06:37:13.761593Z",
     "start_time": "2021-08-02T06:37:13.747637Z"
    }
   },
   "outputs": [
    {
     "ename": "NameError",
     "evalue": "name 'new_df' is not defined",
     "output_type": "error",
     "traceback": [
      "\u001b[1;31m---------------------------------------------------------------------------\u001b[0m",
      "\u001b[1;31mNameError\u001b[0m                                 Traceback (most recent call last)",
      "\u001b[1;32m<ipython-input-26-3669fb29dbf6>\u001b[0m in \u001b[0;36m<module>\u001b[1;34m\u001b[0m\n\u001b[1;32m----> 1\u001b[1;33m \u001b[0mnew_df\u001b[0m\u001b[1;33m\u001b[0m\u001b[1;33m\u001b[0m\u001b[0m\n\u001b[0m",
      "\u001b[1;31mNameError\u001b[0m: name 'new_df' is not defined"
     ]
    }
   ],
   "source": [
    "new_df"
   ]
  },
  {
   "cell_type": "code",
   "execution_count": null,
   "id": "6a85268b",
   "metadata": {},
   "outputs": [],
   "source": [
    "# 왜 잘못 추가되지?"
   ]
  },
  {
   "cell_type": "code",
   "execution_count": 213,
   "id": "ebcc8454",
   "metadata": {
    "ExecuteTime": {
     "end_time": "2021-08-02T06:23:15.755686Z",
     "start_time": "2021-08-02T06:23:15.748706Z"
    }
   },
   "outputs": [
    {
     "data": {
      "text/plain": [
       "Name               파이썬\n",
       " Age                25\n",
       "Email      abc@abs.com\n",
       "Address        서울시 도봉구\n",
       "dtype: object"
      ]
     },
     "execution_count": 213,
     "metadata": {},
     "output_type": "execute_result"
    }
   ],
   "source": [
    "# 4) 시리즈를 이용한 데이터행 추가\n",
    "new_series = pd.Series(['파이썬', 25, 'abc@abs.com','서울시 도봉구'], index=member_df.columns)\n",
    "new_series"
   ]
  },
  {
   "cell_type": "code",
   "execution_count": 214,
   "id": "5784e935",
   "metadata": {
    "ExecuteTime": {
     "end_time": "2021-08-02T06:23:19.738019Z",
     "start_time": "2021-08-02T06:23:19.717069Z"
    }
   },
   "outputs": [
    {
     "data": {
      "text/html": [
       "<div>\n",
       "<style scoped>\n",
       "    .dataframe tbody tr th:only-of-type {\n",
       "        vertical-align: middle;\n",
       "    }\n",
       "\n",
       "    .dataframe tbody tr th {\n",
       "        vertical-align: top;\n",
       "    }\n",
       "\n",
       "    .dataframe thead th {\n",
       "        text-align: right;\n",
       "    }\n",
       "</style>\n",
       "<table border=\"1\" class=\"dataframe\">\n",
       "  <thead>\n",
       "    <tr style=\"text-align: right;\">\n",
       "      <th></th>\n",
       "      <th>Name</th>\n",
       "      <th>Age</th>\n",
       "      <th>Email</th>\n",
       "      <th>Address</th>\n",
       "    </tr>\n",
       "  </thead>\n",
       "  <tbody>\n",
       "    <tr>\n",
       "      <th>0</th>\n",
       "      <td>심권호</td>\n",
       "      <td>31</td>\n",
       "      <td>Kownho@sim.co.kr</td>\n",
       "      <td>경기도 용인시</td>\n",
       "    </tr>\n",
       "    <tr>\n",
       "      <th>1</th>\n",
       "      <td>김연아</td>\n",
       "      <td>32</td>\n",
       "      <td>Yuna@queen.com</td>\n",
       "      <td>세종시</td>\n",
       "    </tr>\n",
       "    <tr>\n",
       "      <th>2</th>\n",
       "      <td>추신수</td>\n",
       "      <td>41</td>\n",
       "      <td>Shinsoo@choo.net</td>\n",
       "      <td>인천시 중구</td>\n",
       "    </tr>\n",
       "    <tr>\n",
       "      <th>3</th>\n",
       "      <td>아이유</td>\n",
       "      <td>27</td>\n",
       "      <td>jieun@lee.com</td>\n",
       "      <td>부산시 강서구</td>\n",
       "    </tr>\n",
       "    <tr>\n",
       "      <th>4</th>\n",
       "      <td>파이썬</td>\n",
       "      <td>25</td>\n",
       "      <td>abc@abs.com</td>\n",
       "      <td>서울시 도봉구</td>\n",
       "    </tr>\n",
       "  </tbody>\n",
       "</table>\n",
       "</div>"
      ],
      "text/plain": [
       "  Name   Age              Email   Address\n",
       "0  심권호    31   Kownho@sim.co.kr   경기도 용인시\n",
       "1  김연아    32     Yuna@queen.com       세종시\n",
       "2  추신수    41   Shinsoo@choo.net    인천시 중구\n",
       "3  아이유    27      jieun@lee.com   부산시 강서구\n",
       "4  파이썬    25        abc@abs.com   서울시 도봉구"
      ]
     },
     "execution_count": 214,
     "metadata": {},
     "output_type": "execute_result"
    }
   ],
   "source": [
    "new_df = member_df.append(new_series, ignore_index=True)\n",
    "new_df"
   ]
  },
  {
   "cell_type": "code",
   "execution_count": null,
   "id": "5070b102",
   "metadata": {},
   "outputs": [],
   "source": []
  },
  {
   "cell_type": "code",
   "execution_count": 31,
   "id": "c86b4768",
   "metadata": {
    "ExecuteTime": {
     "end_time": "2021-08-02T06:38:11.721611Z",
     "start_time": "2021-08-02T06:38:11.699654Z"
    }
   },
   "outputs": [
    {
     "data": {
      "text/html": [
       "<div>\n",
       "<style scoped>\n",
       "    .dataframe tbody tr th:only-of-type {\n",
       "        vertical-align: middle;\n",
       "    }\n",
       "\n",
       "    .dataframe tbody tr th {\n",
       "        vertical-align: top;\n",
       "    }\n",
       "\n",
       "    .dataframe thead th {\n",
       "        text-align: right;\n",
       "    }\n",
       "</style>\n",
       "<table border=\"1\" class=\"dataframe\">\n",
       "  <thead>\n",
       "    <tr style=\"text-align: right;\">\n",
       "      <th></th>\n",
       "      <th>Name</th>\n",
       "      <th>Age</th>\n",
       "      <th>Email</th>\n",
       "      <th>Address</th>\n",
       "    </tr>\n",
       "  </thead>\n",
       "  <tbody>\n",
       "    <tr>\n",
       "      <th>0</th>\n",
       "      <td>이순신</td>\n",
       "      <td>50</td>\n",
       "      <td>lee@sun.com</td>\n",
       "      <td>통영</td>\n",
       "    </tr>\n",
       "  </tbody>\n",
       "</table>\n",
       "</div>"
      ],
      "text/plain": [
       "  Name  Age        Email Address\n",
       "0  이순신   50  lee@sun.com      통영"
      ]
     },
     "execution_count": 31,
     "metadata": {},
     "output_type": "execute_result"
    }
   ],
   "source": [
    "new = pd.DataFrame([{'Name':'이순신',\n",
    "                    'Age':50,\n",
    "                    'Email':'lee@sun.com',\n",
    "                     'Address':'통영'}])\n",
    "new = pd.DataFrame({'Name':['이순신'],\n",
    "                   'Age':[50],\n",
    "                   'Email':['lee@sun.com'],\n",
    "                   'Address':['통영']})\n",
    "new"
   ]
  },
  {
   "cell_type": "code",
   "execution_count": 32,
   "id": "1e77358e",
   "metadata": {
    "ExecuteTime": {
     "end_time": "2021-08-02T06:38:15.905261Z",
     "start_time": "2021-08-02T06:38:15.892308Z"
    }
   },
   "outputs": [
    {
     "data": {
      "text/html": [
       "<div>\n",
       "<style scoped>\n",
       "    .dataframe tbody tr th:only-of-type {\n",
       "        vertical-align: middle;\n",
       "    }\n",
       "\n",
       "    .dataframe tbody tr th {\n",
       "        vertical-align: top;\n",
       "    }\n",
       "\n",
       "    .dataframe thead th {\n",
       "        text-align: right;\n",
       "    }\n",
       "</style>\n",
       "<table border=\"1\" class=\"dataframe\">\n",
       "  <thead>\n",
       "    <tr style=\"text-align: right;\">\n",
       "      <th></th>\n",
       "      <th>Name</th>\n",
       "      <th>Age</th>\n",
       "      <th>Email</th>\n",
       "      <th>Address</th>\n",
       "      <th>Age</th>\n",
       "    </tr>\n",
       "  </thead>\n",
       "  <tbody>\n",
       "    <tr>\n",
       "      <th>0</th>\n",
       "      <td>심권호</td>\n",
       "      <td>31.0</td>\n",
       "      <td>Kownho@sim.co.kr</td>\n",
       "      <td>경기도 용인시</td>\n",
       "      <td>NaN</td>\n",
       "    </tr>\n",
       "    <tr>\n",
       "      <th>1</th>\n",
       "      <td>김연아</td>\n",
       "      <td>32.0</td>\n",
       "      <td>Yuna@queen.com</td>\n",
       "      <td>세종시</td>\n",
       "      <td>NaN</td>\n",
       "    </tr>\n",
       "    <tr>\n",
       "      <th>2</th>\n",
       "      <td>추신수</td>\n",
       "      <td>41.0</td>\n",
       "      <td>Shinsoo@choo.net</td>\n",
       "      <td>인천시 중구</td>\n",
       "      <td>NaN</td>\n",
       "    </tr>\n",
       "    <tr>\n",
       "      <th>3</th>\n",
       "      <td>아이유</td>\n",
       "      <td>27.0</td>\n",
       "      <td>jieun@lee.com</td>\n",
       "      <td>부산시 강서구</td>\n",
       "      <td>NaN</td>\n",
       "    </tr>\n",
       "    <tr>\n",
       "      <th>0</th>\n",
       "      <td>이순신</td>\n",
       "      <td>NaN</td>\n",
       "      <td>lee@sun.com</td>\n",
       "      <td>통영</td>\n",
       "      <td>50.0</td>\n",
       "    </tr>\n",
       "  </tbody>\n",
       "</table>\n",
       "</div>"
      ],
      "text/plain": [
       "  Name   Age              Email   Address   Age\n",
       "0  심권호  31.0   Kownho@sim.co.kr   경기도 용인시   NaN\n",
       "1  김연아  32.0     Yuna@queen.com       세종시   NaN\n",
       "2  추신수  41.0   Shinsoo@choo.net    인천시 중구   NaN\n",
       "3  아이유  27.0      jieun@lee.com   부산시 강서구   NaN\n",
       "0  이순신   NaN        lee@sun.com        통영  50.0"
      ]
     },
     "execution_count": 32,
     "metadata": {},
     "output_type": "execute_result"
    }
   ],
   "source": [
    "new_df = member_df.append(new) # append함수는 추가한 값만 리턴할 뿐 member_df를 바꾸지 않음\n",
    "new_df"
   ]
  },
  {
   "cell_type": "code",
   "execution_count": 29,
   "id": "cbfbd8ec",
   "metadata": {
    "ExecuteTime": {
     "end_time": "2021-08-02T06:37:52.889521Z",
     "start_time": "2021-08-02T06:37:52.867564Z"
    }
   },
   "outputs": [
    {
     "data": {
      "text/html": [
       "<div>\n",
       "<style scoped>\n",
       "    .dataframe tbody tr th:only-of-type {\n",
       "        vertical-align: middle;\n",
       "    }\n",
       "\n",
       "    .dataframe tbody tr th {\n",
       "        vertical-align: top;\n",
       "    }\n",
       "\n",
       "    .dataframe thead th {\n",
       "        text-align: right;\n",
       "    }\n",
       "</style>\n",
       "<table border=\"1\" class=\"dataframe\">\n",
       "  <thead>\n",
       "    <tr style=\"text-align: right;\">\n",
       "      <th></th>\n",
       "      <th>Name</th>\n",
       "      <th>Age</th>\n",
       "      <th>Email</th>\n",
       "      <th>Address</th>\n",
       "      <th>Age</th>\n",
       "    </tr>\n",
       "  </thead>\n",
       "  <tbody>\n",
       "    <tr>\n",
       "      <th>0</th>\n",
       "      <td>심권호</td>\n",
       "      <td>31.0</td>\n",
       "      <td>Kownho@sim.co.kr</td>\n",
       "      <td>경기도 용인시</td>\n",
       "      <td>NaN</td>\n",
       "    </tr>\n",
       "    <tr>\n",
       "      <th>1</th>\n",
       "      <td>김연아</td>\n",
       "      <td>32.0</td>\n",
       "      <td>Yuna@queen.com</td>\n",
       "      <td>세종시</td>\n",
       "      <td>NaN</td>\n",
       "    </tr>\n",
       "    <tr>\n",
       "      <th>2</th>\n",
       "      <td>추신수</td>\n",
       "      <td>41.0</td>\n",
       "      <td>Shinsoo@choo.net</td>\n",
       "      <td>인천시 중구</td>\n",
       "      <td>NaN</td>\n",
       "    </tr>\n",
       "    <tr>\n",
       "      <th>3</th>\n",
       "      <td>아이유</td>\n",
       "      <td>27.0</td>\n",
       "      <td>jieun@lee.com</td>\n",
       "      <td>부산시 강서구</td>\n",
       "      <td>NaN</td>\n",
       "    </tr>\n",
       "    <tr>\n",
       "      <th>4</th>\n",
       "      <td>박지성</td>\n",
       "      <td>NaN</td>\n",
       "      <td>Jisung@park.com</td>\n",
       "      <td>서울시 서대문구</td>\n",
       "      <td>26.0</td>\n",
       "    </tr>\n",
       "  </tbody>\n",
       "</table>\n",
       "</div>"
      ],
      "text/plain": [
       "  Name   Age              Email   Address   Age\n",
       "0  심권호  31.0   Kownho@sim.co.kr   경기도 용인시   NaN\n",
       "1  김연아  32.0     Yuna@queen.com       세종시   NaN\n",
       "2  추신수  41.0   Shinsoo@choo.net    인천시 중구   NaN\n",
       "3  아이유  27.0      jieun@lee.com   부산시 강서구   NaN\n",
       "4  박지성   NaN    Jisung@park.com  서울시 서대문구  26.0"
      ]
     },
     "execution_count": 29,
     "metadata": {},
     "output_type": "execute_result"
    }
   ],
   "source": [
    "new_df.index = range(len(new_df)) # 주석 못받아씀.########################\n",
    "new_df "
   ]
  },
  {
   "cell_type": "markdown",
   "id": "6ba16b9c",
   "metadata": {},
   "source": [
    "# 6절 정렬(행이름, 열이름, 값에 의한 정렬)"
   ]
  },
  {
   "cell_type": "code",
   "execution_count": 37,
   "id": "3961f893",
   "metadata": {
    "ExecuteTime": {
     "end_time": "2021-08-02T06:43:03.726940Z",
     "start_time": "2021-08-02T06:43:03.718936Z"
    }
   },
   "outputs": [
    {
     "ename": "SyntaxError",
     "evalue": "invalid syntax (<ipython-input-37-6d78dba3c603>, line 1)",
     "output_type": "error",
     "traceback": [
      "\u001b[1;36m  File \u001b[1;32m\"<ipython-input-37-6d78dba3c603>\"\u001b[1;36m, line \u001b[1;32m1\u001b[0m\n\u001b[1;33m    member_df.index()'동','서','남','북')\u001b[0m\n\u001b[1;37m                     ^\u001b[0m\n\u001b[1;31mSyntaxError\u001b[0m\u001b[1;31m:\u001b[0m invalid syntax\n"
     ]
    }
   ],
   "source": [
    "member_df.index()'동','서','남','북')\n",
    "member_df"
   ]
  },
  {
   "cell_type": "code",
   "execution_count": null,
   "id": "a622f4d8",
   "metadata": {},
   "outputs": [],
   "source": [
    "### 놓쳤음."
   ]
  },
  {
   "cell_type": "code",
   "execution_count": null,
   "id": "231c93a0",
   "metadata": {},
   "outputs": [],
   "source": []
  },
  {
   "cell_type": "markdown",
   "id": "c094a445",
   "metadata": {},
   "source": [
    "## 6.2 열이름으로 정렬"
   ]
  },
  {
   "cell_type": "code",
   "execution_count": 38,
   "id": "59632951",
   "metadata": {
    "ExecuteTime": {
     "end_time": "2021-08-02T06:43:57.295389Z",
     "start_time": "2021-08-02T06:43:57.284419Z"
    }
   },
   "outputs": [
    {
     "data": {
      "text/html": [
       "<div>\n",
       "<style scoped>\n",
       "    .dataframe tbody tr th:only-of-type {\n",
       "        vertical-align: middle;\n",
       "    }\n",
       "\n",
       "    .dataframe tbody tr th {\n",
       "        vertical-align: top;\n",
       "    }\n",
       "\n",
       "    .dataframe thead th {\n",
       "        text-align: right;\n",
       "    }\n",
       "</style>\n",
       "<table border=\"1\" class=\"dataframe\">\n",
       "  <thead>\n",
       "    <tr style=\"text-align: right;\">\n",
       "      <th></th>\n",
       "      <th>Age</th>\n",
       "      <th>Address</th>\n",
       "      <th>Email</th>\n",
       "      <th>Name</th>\n",
       "    </tr>\n",
       "  </thead>\n",
       "  <tbody>\n",
       "    <tr>\n",
       "      <th>0</th>\n",
       "      <td>31</td>\n",
       "      <td>경기도 용인시</td>\n",
       "      <td>Kownho@sim.co.kr</td>\n",
       "      <td>심권호</td>\n",
       "    </tr>\n",
       "    <tr>\n",
       "      <th>1</th>\n",
       "      <td>32</td>\n",
       "      <td>세종시</td>\n",
       "      <td>Yuna@queen.com</td>\n",
       "      <td>김연아</td>\n",
       "    </tr>\n",
       "    <tr>\n",
       "      <th>2</th>\n",
       "      <td>41</td>\n",
       "      <td>인천시 중구</td>\n",
       "      <td>Shinsoo@choo.net</td>\n",
       "      <td>추신수</td>\n",
       "    </tr>\n",
       "    <tr>\n",
       "      <th>3</th>\n",
       "      <td>27</td>\n",
       "      <td>부산시 강서구</td>\n",
       "      <td>jieun@lee.com</td>\n",
       "      <td>아이유</td>\n",
       "    </tr>\n",
       "  </tbody>\n",
       "</table>\n",
       "</div>"
      ],
      "text/plain": [
       "    Age   Address              Email Name\n",
       "0    31   경기도 용인시   Kownho@sim.co.kr  심권호\n",
       "1    32       세종시     Yuna@queen.com  김연아\n",
       "2    41    인천시 중구   Shinsoo@choo.net  추신수\n",
       "3    27   부산시 강서구      jieun@lee.com  아이유"
      ]
     },
     "execution_count": 38,
     "metadata": {},
     "output_type": "execute_result"
    }
   ],
   "source": [
    "member_df.sort_index(axis=1)\n",
    "member_df.sort_index(axis='columns')"
   ]
  },
  {
   "cell_type": "markdown",
   "id": "41efca65",
   "metadata": {},
   "source": [
    "## 6.3 값으로 정렬"
   ]
  },
  {
   "cell_type": "code",
   "execution_count": 46,
   "id": "f971d32d",
   "metadata": {
    "ExecuteTime": {
     "end_time": "2021-08-02T06:47:55.798295Z",
     "start_time": "2021-08-02T06:47:55.764387Z"
    }
   },
   "outputs": [
    {
     "data": {
      "text/html": [
       "<div>\n",
       "<style scoped>\n",
       "    .dataframe tbody tr th:only-of-type {\n",
       "        vertical-align: middle;\n",
       "    }\n",
       "\n",
       "    .dataframe tbody tr th {\n",
       "        vertical-align: top;\n",
       "    }\n",
       "\n",
       "    .dataframe thead th {\n",
       "        text-align: right;\n",
       "    }\n",
       "</style>\n",
       "<table border=\"1\" class=\"dataframe\">\n",
       "  <thead>\n",
       "    <tr style=\"text-align: right;\">\n",
       "      <th></th>\n",
       "      <th>Name</th>\n",
       "      <th>Age</th>\n",
       "      <th>Email</th>\n",
       "      <th>Address</th>\n",
       "    </tr>\n",
       "  </thead>\n",
       "  <tbody>\n",
       "    <tr>\n",
       "      <th>2</th>\n",
       "      <td>추신수</td>\n",
       "      <td>41</td>\n",
       "      <td>Shinsoo@choo.net</td>\n",
       "      <td>인천시 중구</td>\n",
       "    </tr>\n",
       "    <tr>\n",
       "      <th>1</th>\n",
       "      <td>김연아</td>\n",
       "      <td>32</td>\n",
       "      <td>Yuna@queen.com</td>\n",
       "      <td>세종시</td>\n",
       "    </tr>\n",
       "    <tr>\n",
       "      <th>3</th>\n",
       "      <td>아이유</td>\n",
       "      <td>27</td>\n",
       "      <td>jieun@lee.com</td>\n",
       "      <td>부산시 강서구</td>\n",
       "    </tr>\n",
       "    <tr>\n",
       "      <th>0</th>\n",
       "      <td>심권호</td>\n",
       "      <td>31</td>\n",
       "      <td>Kownho@sim.co.kr</td>\n",
       "      <td>경기도 용인시</td>\n",
       "    </tr>\n",
       "  </tbody>\n",
       "</table>\n",
       "</div>"
      ],
      "text/plain": [
       "  Name   Age              Email   Address\n",
       "2  추신수    41   Shinsoo@choo.net    인천시 중구\n",
       "1  김연아    32     Yuna@queen.com       세종시\n",
       "3  아이유    27      jieun@lee.com   부산시 강서구\n",
       "0  심권호    31   Kownho@sim.co.kr   경기도 용인시"
      ]
     },
     "execution_count": 46,
     "metadata": {},
     "output_type": "execute_result"
    }
   ],
   "source": [
    "member_df.sort_values(by=['Address','Email'],ascending = False) # 데이터를 바꾸려면 inplace=True ^^"
   ]
  },
  {
   "cell_type": "markdown",
   "id": "c351959d",
   "metadata": {},
   "source": [
    "# 7절. 기초통계분석\n",
    "- count : NA를 제외한 갯수\n",
    "- min : 최소값\n",
    "- max : \n",
    "- sum : \n",
    "- cumsum : 누적합\n",
    "- cumprod : 누적곱\n",
    "- mean : \n",
    "- median :\n",
    "- std : 표준편차\n",
    "- var : 분산\n",
    "- quantile : 분위수(0사분위수, 1사분위수, 중위수, 3사분위수)\n",
    "- corr : 상관관계"
   ]
  },
  {
   "cell_type": "code",
   "execution_count": 18,
   "id": "8f76dbdc",
   "metadata": {
    "ExecuteTime": {
     "end_time": "2021-09-08T19:38:18.076329Z",
     "start_time": "2021-09-08T19:38:13.838896Z"
    }
   },
   "outputs": [
    {
     "data": {
      "text/html": [
       "<div>\n",
       "<style scoped>\n",
       "    .dataframe tbody tr th:only-of-type {\n",
       "        vertical-align: middle;\n",
       "    }\n",
       "\n",
       "    .dataframe tbody tr th {\n",
       "        vertical-align: top;\n",
       "    }\n",
       "\n",
       "    .dataframe thead th {\n",
       "        text-align: right;\n",
       "    }\n",
       "</style>\n",
       "<table border=\"1\" class=\"dataframe\">\n",
       "  <thead>\n",
       "    <tr style=\"text-align: right;\">\n",
       "      <th></th>\n",
       "      <th>Sepal.Length</th>\n",
       "      <th>Sepal.Width</th>\n",
       "      <th>Petal.Length</th>\n",
       "      <th>Petal.Width</th>\n",
       "      <th>Species</th>\n",
       "    </tr>\n",
       "  </thead>\n",
       "  <tbody>\n",
       "    <tr>\n",
       "      <th>0</th>\n",
       "      <td>5.1</td>\n",
       "      <td>3.5</td>\n",
       "      <td>1.4</td>\n",
       "      <td>0.2</td>\n",
       "      <td>setosa</td>\n",
       "    </tr>\n",
       "    <tr>\n",
       "      <th>1</th>\n",
       "      <td>4.9</td>\n",
       "      <td>3.0</td>\n",
       "      <td>1.4</td>\n",
       "      <td>0.2</td>\n",
       "      <td>setosa</td>\n",
       "    </tr>\n",
       "    <tr>\n",
       "      <th>2</th>\n",
       "      <td>4.7</td>\n",
       "      <td>3.2</td>\n",
       "      <td>1.3</td>\n",
       "      <td>0.2</td>\n",
       "      <td>setosa</td>\n",
       "    </tr>\n",
       "    <tr>\n",
       "      <th>3</th>\n",
       "      <td>4.6</td>\n",
       "      <td>3.1</td>\n",
       "      <td>1.5</td>\n",
       "      <td>0.2</td>\n",
       "      <td>setosa</td>\n",
       "    </tr>\n",
       "    <tr>\n",
       "      <th>4</th>\n",
       "      <td>5.0</td>\n",
       "      <td>3.6</td>\n",
       "      <td>1.4</td>\n",
       "      <td>0.2</td>\n",
       "      <td>setosa</td>\n",
       "    </tr>\n",
       "  </tbody>\n",
       "</table>\n",
       "</div>"
      ],
      "text/plain": [
       "   Sepal.Length  Sepal.Width  Petal.Length  Petal.Width Species\n",
       "0           5.1          3.5           1.4          0.2  setosa\n",
       "1           4.9          3.0           1.4          0.2  setosa\n",
       "2           4.7          3.2           1.3          0.2  setosa\n",
       "3           4.6          3.1           1.5          0.2  setosa\n",
       "4           5.0          3.6           1.4          0.2  setosa"
      ]
     },
     "execution_count": 18,
     "metadata": {},
     "output_type": "execute_result"
    }
   ],
   "source": [
    "# import statsmodels.api as sm\n",
    "from statsmodels.api import datasets\n",
    "iris_df = datasets.get_rdataset('iris').data\n",
    "iris_df.head()"
   ]
  },
  {
   "cell_type": "markdown",
   "id": "2021a203",
   "metadata": {},
   "source": [
    "## 7.1 최소값, 최대값, ..."
   ]
  },
  {
   "cell_type": "code",
   "execution_count": 49,
   "id": "18225392",
   "metadata": {
    "ExecuteTime": {
     "end_time": "2021-08-02T06:55:29.742283Z",
     "start_time": "2021-08-02T06:55:29.720362Z"
    }
   },
   "outputs": [
    {
     "data": {
      "text/plain": [
       "Sepal.Length    5.843333\n",
       "Sepal.Width     3.057333\n",
       "Petal.Length    3.758000\n",
       "Petal.Width     1.199333\n",
       "dtype: float64"
      ]
     },
     "execution_count": 49,
     "metadata": {},
     "output_type": "execute_result"
    }
   ],
   "source": [
    "iris_df.mean(axis=0) # axis=0 기본값, axis='rows', 생략가능"
   ]
  },
  {
   "cell_type": "code",
   "execution_count": 50,
   "id": "2a543ebb",
   "metadata": {
    "ExecuteTime": {
     "end_time": "2021-08-02T06:55:59.584085Z",
     "start_time": "2021-08-02T06:55:59.573136Z"
    }
   },
   "outputs": [
    {
     "data": {
      "text/plain": [
       "0      2.550\n",
       "1      2.375\n",
       "2      2.350\n",
       "3      2.350\n",
       "4      2.550\n",
       "       ...  \n",
       "145    4.300\n",
       "146    3.925\n",
       "147    4.175\n",
       "148    4.325\n",
       "149    3.950\n",
       "Length: 150, dtype: float64"
      ]
     },
     "execution_count": 50,
     "metadata": {},
     "output_type": "execute_result"
    }
   ],
   "source": [
    "iris_df.mean(axis=1) # mean 대신 다른 함수로 대체가능!"
   ]
  },
  {
   "cell_type": "code",
   "execution_count": 51,
   "id": "b1478a25",
   "metadata": {
    "ExecuteTime": {
     "end_time": "2021-08-02T06:57:33.286216Z",
     "start_time": "2021-08-02T06:57:33.268264Z"
    }
   },
   "outputs": [
    {
     "data": {
      "text/html": [
       "<div>\n",
       "<style scoped>\n",
       "    .dataframe tbody tr th:only-of-type {\n",
       "        vertical-align: middle;\n",
       "    }\n",
       "\n",
       "    .dataframe tbody tr th {\n",
       "        vertical-align: top;\n",
       "    }\n",
       "\n",
       "    .dataframe thead th {\n",
       "        text-align: right;\n",
       "    }\n",
       "</style>\n",
       "<table border=\"1\" class=\"dataframe\">\n",
       "  <thead>\n",
       "    <tr style=\"text-align: right;\">\n",
       "      <th></th>\n",
       "      <th>Sepal.Length</th>\n",
       "      <th>Sepal.Width</th>\n",
       "      <th>Petal.Length</th>\n",
       "      <th>Petal.Width</th>\n",
       "    </tr>\n",
       "  </thead>\n",
       "  <tbody>\n",
       "    <tr>\n",
       "      <th>0.00</th>\n",
       "      <td>4.3</td>\n",
       "      <td>2.0</td>\n",
       "      <td>1.0</td>\n",
       "      <td>0.1</td>\n",
       "    </tr>\n",
       "    <tr>\n",
       "      <th>0.25</th>\n",
       "      <td>5.1</td>\n",
       "      <td>2.8</td>\n",
       "      <td>1.6</td>\n",
       "      <td>0.3</td>\n",
       "    </tr>\n",
       "    <tr>\n",
       "      <th>0.50</th>\n",
       "      <td>5.8</td>\n",
       "      <td>3.0</td>\n",
       "      <td>4.3</td>\n",
       "      <td>1.3</td>\n",
       "    </tr>\n",
       "    <tr>\n",
       "      <th>0.75</th>\n",
       "      <td>6.4</td>\n",
       "      <td>3.3</td>\n",
       "      <td>5.1</td>\n",
       "      <td>1.8</td>\n",
       "    </tr>\n",
       "    <tr>\n",
       "      <th>1.00</th>\n",
       "      <td>7.9</td>\n",
       "      <td>4.4</td>\n",
       "      <td>6.9</td>\n",
       "      <td>2.5</td>\n",
       "    </tr>\n",
       "  </tbody>\n",
       "</table>\n",
       "</div>"
      ],
      "text/plain": [
       "      Sepal.Length  Sepal.Width  Petal.Length  Petal.Width\n",
       "0.00           4.3          2.0           1.0          0.1\n",
       "0.25           5.1          2.8           1.6          0.3\n",
       "0.50           5.8          3.0           4.3          1.3\n",
       "0.75           6.4          3.3           5.1          1.8\n",
       "1.00           7.9          4.4           6.9          2.5"
      ]
     },
     "execution_count": 51,
     "metadata": {},
     "output_type": "execute_result"
    }
   ],
   "source": [
    "iris_df.quantile(q=[0.0, 0.25, 0.5, 0.75, 1], interpolation = 'nearest') # 사분위수"
   ]
  },
  {
   "cell_type": "markdown",
   "id": "01634128",
   "metadata": {},
   "source": [
    "## 7.2 요약통계량"
   ]
  },
  {
   "cell_type": "code",
   "execution_count": 19,
   "id": "23a92be6",
   "metadata": {
    "ExecuteTime": {
     "end_time": "2021-09-08T19:38:21.817730Z",
     "start_time": "2021-09-08T19:38:21.761885Z"
    }
   },
   "outputs": [
    {
     "data": {
      "text/html": [
       "<div>\n",
       "<style scoped>\n",
       "    .dataframe tbody tr th:only-of-type {\n",
       "        vertical-align: middle;\n",
       "    }\n",
       "\n",
       "    .dataframe tbody tr th {\n",
       "        vertical-align: top;\n",
       "    }\n",
       "\n",
       "    .dataframe thead th {\n",
       "        text-align: right;\n",
       "    }\n",
       "</style>\n",
       "<table border=\"1\" class=\"dataframe\">\n",
       "  <thead>\n",
       "    <tr style=\"text-align: right;\">\n",
       "      <th></th>\n",
       "      <th>Sepal.Length</th>\n",
       "      <th>Sepal.Width</th>\n",
       "      <th>Petal.Length</th>\n",
       "      <th>Petal.Width</th>\n",
       "    </tr>\n",
       "  </thead>\n",
       "  <tbody>\n",
       "    <tr>\n",
       "      <th>count</th>\n",
       "      <td>150.000000</td>\n",
       "      <td>150.000000</td>\n",
       "      <td>150.000000</td>\n",
       "      <td>150.000000</td>\n",
       "    </tr>\n",
       "    <tr>\n",
       "      <th>mean</th>\n",
       "      <td>5.843333</td>\n",
       "      <td>3.057333</td>\n",
       "      <td>3.758000</td>\n",
       "      <td>1.199333</td>\n",
       "    </tr>\n",
       "    <tr>\n",
       "      <th>std</th>\n",
       "      <td>0.828066</td>\n",
       "      <td>0.435866</td>\n",
       "      <td>1.765298</td>\n",
       "      <td>0.762238</td>\n",
       "    </tr>\n",
       "    <tr>\n",
       "      <th>min</th>\n",
       "      <td>4.300000</td>\n",
       "      <td>2.000000</td>\n",
       "      <td>1.000000</td>\n",
       "      <td>0.100000</td>\n",
       "    </tr>\n",
       "    <tr>\n",
       "      <th>25%</th>\n",
       "      <td>5.100000</td>\n",
       "      <td>2.800000</td>\n",
       "      <td>1.600000</td>\n",
       "      <td>0.300000</td>\n",
       "    </tr>\n",
       "    <tr>\n",
       "      <th>50%</th>\n",
       "      <td>5.800000</td>\n",
       "      <td>3.000000</td>\n",
       "      <td>4.350000</td>\n",
       "      <td>1.300000</td>\n",
       "    </tr>\n",
       "    <tr>\n",
       "      <th>75%</th>\n",
       "      <td>6.400000</td>\n",
       "      <td>3.300000</td>\n",
       "      <td>5.100000</td>\n",
       "      <td>1.800000</td>\n",
       "    </tr>\n",
       "    <tr>\n",
       "      <th>max</th>\n",
       "      <td>7.900000</td>\n",
       "      <td>4.400000</td>\n",
       "      <td>6.900000</td>\n",
       "      <td>2.500000</td>\n",
       "    </tr>\n",
       "  </tbody>\n",
       "</table>\n",
       "</div>"
      ],
      "text/plain": [
       "       Sepal.Length  Sepal.Width  Petal.Length  Petal.Width\n",
       "count    150.000000   150.000000    150.000000   150.000000\n",
       "mean       5.843333     3.057333      3.758000     1.199333\n",
       "std        0.828066     0.435866      1.765298     0.762238\n",
       "min        4.300000     2.000000      1.000000     0.100000\n",
       "25%        5.100000     2.800000      1.600000     0.300000\n",
       "50%        5.800000     3.000000      4.350000     1.300000\n",
       "75%        6.400000     3.300000      5.100000     1.800000\n",
       "max        7.900000     4.400000      6.900000     2.500000"
      ]
     },
     "execution_count": 19,
     "metadata": {},
     "output_type": "execute_result"
    }
   ],
   "source": [
    "# 1) 기본 요약 통계량\n",
    "# iris_df.info()와 함께 자주 쓰임\n",
    "iris_df.describe()"
   ]
  },
  {
   "cell_type": "code",
   "execution_count": 55,
   "id": "0b4ef589",
   "metadata": {
    "ExecuteTime": {
     "end_time": "2021-08-02T07:01:57.353132Z",
     "start_time": "2021-08-02T07:01:57.303231Z"
    }
   },
   "outputs": [
    {
     "data": {
      "text/plain": [
       "count            150\n",
       "unique             3\n",
       "top       versicolor\n",
       "freq              50\n",
       "Name: Species, dtype: object"
      ]
     },
     "execution_count": 55,
     "metadata": {},
     "output_type": "execute_result"
    }
   ],
   "source": [
    "iris_df.Species.describe() # 문자열에서의 요약 통계량"
   ]
  },
  {
   "cell_type": "code",
   "execution_count": 56,
   "id": "8777ec26",
   "metadata": {
    "ExecuteTime": {
     "end_time": "2021-08-02T07:03:33.340894Z",
     "start_time": "2021-08-02T07:03:33.331919Z"
    }
   },
   "outputs": [
    {
     "data": {
      "text/plain": [
       "Index(['Sepal.Length', 'Sepal.Width', 'Petal.Length', 'Petal.Width',\n",
       "       'Species'],\n",
       "      dtype='object')"
      ]
     },
     "execution_count": 56,
     "metadata": {},
     "output_type": "execute_result"
    }
   ],
   "source": [
    "iris_df.columns"
   ]
  },
  {
   "cell_type": "code",
   "execution_count": 59,
   "id": "1f2784b5",
   "metadata": {
    "ExecuteTime": {
     "end_time": "2021-08-02T07:04:30.654327Z",
     "start_time": "2021-08-02T07:04:30.628397Z"
    }
   },
   "outputs": [
    {
     "data": {
      "text/html": [
       "<div>\n",
       "<style scoped>\n",
       "    .dataframe tbody tr th:only-of-type {\n",
       "        vertical-align: middle;\n",
       "    }\n",
       "\n",
       "    .dataframe tbody tr th {\n",
       "        vertical-align: top;\n",
       "    }\n",
       "\n",
       "    .dataframe thead th {\n",
       "        text-align: right;\n",
       "    }\n",
       "</style>\n",
       "<table border=\"1\" class=\"dataframe\">\n",
       "  <thead>\n",
       "    <tr style=\"text-align: right;\">\n",
       "      <th></th>\n",
       "      <th>Sepal_Length</th>\n",
       "      <th>Sepal_Width</th>\n",
       "      <th>Petal_Length</th>\n",
       "      <th>Petal_Width</th>\n",
       "      <th>Species</th>\n",
       "    </tr>\n",
       "  </thead>\n",
       "  <tbody>\n",
       "    <tr>\n",
       "      <th>0</th>\n",
       "      <td>5.1</td>\n",
       "      <td>3.5</td>\n",
       "      <td>1.4</td>\n",
       "      <td>0.2</td>\n",
       "      <td>setosa</td>\n",
       "    </tr>\n",
       "    <tr>\n",
       "      <th>1</th>\n",
       "      <td>4.9</td>\n",
       "      <td>3.0</td>\n",
       "      <td>1.4</td>\n",
       "      <td>0.2</td>\n",
       "      <td>setosa</td>\n",
       "    </tr>\n",
       "    <tr>\n",
       "      <th>2</th>\n",
       "      <td>4.7</td>\n",
       "      <td>3.2</td>\n",
       "      <td>1.3</td>\n",
       "      <td>0.2</td>\n",
       "      <td>setosa</td>\n",
       "    </tr>\n",
       "    <tr>\n",
       "      <th>3</th>\n",
       "      <td>4.6</td>\n",
       "      <td>3.1</td>\n",
       "      <td>1.5</td>\n",
       "      <td>0.2</td>\n",
       "      <td>setosa</td>\n",
       "    </tr>\n",
       "    <tr>\n",
       "      <th>4</th>\n",
       "      <td>5.0</td>\n",
       "      <td>3.6</td>\n",
       "      <td>1.4</td>\n",
       "      <td>0.2</td>\n",
       "      <td>setosa</td>\n",
       "    </tr>\n",
       "    <tr>\n",
       "      <th>...</th>\n",
       "      <td>...</td>\n",
       "      <td>...</td>\n",
       "      <td>...</td>\n",
       "      <td>...</td>\n",
       "      <td>...</td>\n",
       "    </tr>\n",
       "    <tr>\n",
       "      <th>145</th>\n",
       "      <td>6.7</td>\n",
       "      <td>3.0</td>\n",
       "      <td>5.2</td>\n",
       "      <td>2.3</td>\n",
       "      <td>virginica</td>\n",
       "    </tr>\n",
       "    <tr>\n",
       "      <th>146</th>\n",
       "      <td>6.3</td>\n",
       "      <td>2.5</td>\n",
       "      <td>5.0</td>\n",
       "      <td>1.9</td>\n",
       "      <td>virginica</td>\n",
       "    </tr>\n",
       "    <tr>\n",
       "      <th>147</th>\n",
       "      <td>6.5</td>\n",
       "      <td>3.0</td>\n",
       "      <td>5.2</td>\n",
       "      <td>2.0</td>\n",
       "      <td>virginica</td>\n",
       "    </tr>\n",
       "    <tr>\n",
       "      <th>148</th>\n",
       "      <td>6.2</td>\n",
       "      <td>3.4</td>\n",
       "      <td>5.4</td>\n",
       "      <td>2.3</td>\n",
       "      <td>virginica</td>\n",
       "    </tr>\n",
       "    <tr>\n",
       "      <th>149</th>\n",
       "      <td>5.9</td>\n",
       "      <td>3.0</td>\n",
       "      <td>5.1</td>\n",
       "      <td>1.8</td>\n",
       "      <td>virginica</td>\n",
       "    </tr>\n",
       "  </tbody>\n",
       "</table>\n",
       "<p>150 rows × 5 columns</p>\n",
       "</div>"
      ],
      "text/plain": [
       "     Sepal_Length  Sepal_Width  Petal_Length  Petal_Width    Species\n",
       "0             5.1          3.5           1.4          0.2     setosa\n",
       "1             4.9          3.0           1.4          0.2     setosa\n",
       "2             4.7          3.2           1.3          0.2     setosa\n",
       "3             4.6          3.1           1.5          0.2     setosa\n",
       "4             5.0          3.6           1.4          0.2     setosa\n",
       "..            ...          ...           ...          ...        ...\n",
       "145           6.7          3.0           5.2          2.3  virginica\n",
       "146           6.3          2.5           5.0          1.9  virginica\n",
       "147           6.5          3.0           5.2          2.0  virginica\n",
       "148           6.2          3.4           5.4          2.3  virginica\n",
       "149           5.9          3.0           5.1          1.8  virginica\n",
       "\n",
       "[150 rows x 5 columns]"
      ]
     },
     "execution_count": 59,
     "metadata": {},
     "output_type": "execute_result"
    }
   ],
   "source": [
    "iris_df.columns = [col.replace('.','_') for col in iris_df.columns]\n",
    "iris_df"
   ]
  },
  {
   "cell_type": "code",
   "execution_count": 15,
   "id": "08ad1066",
   "metadata": {
    "ExecuteTime": {
     "end_time": "2021-09-08T19:37:56.782385Z",
     "start_time": "2021-09-08T19:37:56.749474Z"
    }
   },
   "outputs": [
    {
     "data": {
      "text/html": [
       "<div>\n",
       "<style scoped>\n",
       "    .dataframe tbody tr th:only-of-type {\n",
       "        vertical-align: middle;\n",
       "    }\n",
       "\n",
       "    .dataframe tbody tr th {\n",
       "        vertical-align: top;\n",
       "    }\n",
       "\n",
       "    .dataframe thead th {\n",
       "        text-align: right;\n",
       "    }\n",
       "</style>\n",
       "<table border=\"1\" class=\"dataframe\">\n",
       "  <thead>\n",
       "    <tr style=\"text-align: right;\">\n",
       "      <th></th>\n",
       "      <th>a</th>\n",
       "      <th>b</th>\n",
       "      <th>c</th>\n",
       "    </tr>\n",
       "  </thead>\n",
       "  <tbody>\n",
       "    <tr>\n",
       "      <th>0</th>\n",
       "      <td>1</td>\n",
       "      <td>True</td>\n",
       "      <td>2.0</td>\n",
       "    </tr>\n",
       "    <tr>\n",
       "      <th>1</th>\n",
       "      <td>2</td>\n",
       "      <td>False</td>\n",
       "      <td>4.0</td>\n",
       "    </tr>\n",
       "    <tr>\n",
       "      <th>2</th>\n",
       "      <td>1</td>\n",
       "      <td>True</td>\n",
       "      <td>2.0</td>\n",
       "    </tr>\n",
       "    <tr>\n",
       "      <th>3</th>\n",
       "      <td>2</td>\n",
       "      <td>False</td>\n",
       "      <td>4.0</td>\n",
       "    </tr>\n",
       "    <tr>\n",
       "      <th>4</th>\n",
       "      <td>1</td>\n",
       "      <td>True</td>\n",
       "      <td>2.0</td>\n",
       "    </tr>\n",
       "    <tr>\n",
       "      <th>5</th>\n",
       "      <td>2</td>\n",
       "      <td>False</td>\n",
       "      <td>4.0</td>\n",
       "    </tr>\n",
       "  </tbody>\n",
       "</table>\n",
       "</div>"
      ],
      "text/plain": [
       "   a      b    c\n",
       "0  1   True  2.0\n",
       "1  2  False  4.0\n",
       "2  1   True  2.0\n",
       "3  2  False  4.0\n",
       "4  1   True  2.0\n",
       "5  2  False  4.0"
      ]
     },
     "execution_count": 15,
     "metadata": {},
     "output_type": "execute_result"
    }
   ],
   "source": [
    "# 2) include와 exclude\n",
    "import pandas as pd\n",
    "df = pd.DataFrame({'a':[1,2]*3,\n",
    "                  'b':[True, False]*3,\n",
    "                  'c':[2.0, 4]*3})\n",
    "df"
   ]
  },
  {
   "cell_type": "code",
   "execution_count": 61,
   "id": "150f98d6",
   "metadata": {
    "ExecuteTime": {
     "end_time": "2021-08-02T07:08:16.254050Z",
     "start_time": "2021-08-02T07:08:16.232130Z"
    }
   },
   "outputs": [
    {
     "data": {
      "text/html": [
       "<div>\n",
       "<style scoped>\n",
       "    .dataframe tbody tr th:only-of-type {\n",
       "        vertical-align: middle;\n",
       "    }\n",
       "\n",
       "    .dataframe tbody tr th {\n",
       "        vertical-align: top;\n",
       "    }\n",
       "\n",
       "    .dataframe thead th {\n",
       "        text-align: right;\n",
       "    }\n",
       "</style>\n",
       "<table border=\"1\" class=\"dataframe\">\n",
       "  <thead>\n",
       "    <tr style=\"text-align: right;\">\n",
       "      <th></th>\n",
       "      <th>a</th>\n",
       "      <th>c</th>\n",
       "    </tr>\n",
       "  </thead>\n",
       "  <tbody>\n",
       "    <tr>\n",
       "      <th>count</th>\n",
       "      <td>6.000000</td>\n",
       "      <td>6.000000</td>\n",
       "    </tr>\n",
       "    <tr>\n",
       "      <th>mean</th>\n",
       "      <td>1.500000</td>\n",
       "      <td>3.000000</td>\n",
       "    </tr>\n",
       "    <tr>\n",
       "      <th>std</th>\n",
       "      <td>0.547723</td>\n",
       "      <td>1.095445</td>\n",
       "    </tr>\n",
       "    <tr>\n",
       "      <th>min</th>\n",
       "      <td>1.000000</td>\n",
       "      <td>2.000000</td>\n",
       "    </tr>\n",
       "    <tr>\n",
       "      <th>25%</th>\n",
       "      <td>1.000000</td>\n",
       "      <td>2.000000</td>\n",
       "    </tr>\n",
       "    <tr>\n",
       "      <th>50%</th>\n",
       "      <td>1.500000</td>\n",
       "      <td>3.000000</td>\n",
       "    </tr>\n",
       "    <tr>\n",
       "      <th>75%</th>\n",
       "      <td>2.000000</td>\n",
       "      <td>4.000000</td>\n",
       "    </tr>\n",
       "    <tr>\n",
       "      <th>max</th>\n",
       "      <td>2.000000</td>\n",
       "      <td>4.000000</td>\n",
       "    </tr>\n",
       "  </tbody>\n",
       "</table>\n",
       "</div>"
      ],
      "text/plain": [
       "              a         c\n",
       "count  6.000000  6.000000\n",
       "mean   1.500000  3.000000\n",
       "std    0.547723  1.095445\n",
       "min    1.000000  2.000000\n",
       "25%    1.000000  2.000000\n",
       "50%    1.500000  3.000000\n",
       "75%    2.000000  4.000000\n",
       "max    2.000000  4.000000"
      ]
     },
     "execution_count": 61,
     "metadata": {},
     "output_type": "execute_result"
    }
   ],
   "source": [
    "df.describe() # 기본값은 숫자열만 기본요약통계를 출력해줌"
   ]
  },
  {
   "cell_type": "code",
   "execution_count": 62,
   "id": "bb1954dd",
   "metadata": {
    "ExecuteTime": {
     "end_time": "2021-08-02T07:09:24.678971Z",
     "start_time": "2021-08-02T07:09:24.644050Z"
    }
   },
   "outputs": [
    {
     "data": {
      "text/html": [
       "<div>\n",
       "<style scoped>\n",
       "    .dataframe tbody tr th:only-of-type {\n",
       "        vertical-align: middle;\n",
       "    }\n",
       "\n",
       "    .dataframe tbody tr th {\n",
       "        vertical-align: top;\n",
       "    }\n",
       "\n",
       "    .dataframe thead th {\n",
       "        text-align: right;\n",
       "    }\n",
       "</style>\n",
       "<table border=\"1\" class=\"dataframe\">\n",
       "  <thead>\n",
       "    <tr style=\"text-align: right;\">\n",
       "      <th></th>\n",
       "      <th>b</th>\n",
       "      <th>c</th>\n",
       "    </tr>\n",
       "  </thead>\n",
       "  <tbody>\n",
       "    <tr>\n",
       "      <th>count</th>\n",
       "      <td>6</td>\n",
       "      <td>6.000000</td>\n",
       "    </tr>\n",
       "    <tr>\n",
       "      <th>unique</th>\n",
       "      <td>2</td>\n",
       "      <td>NaN</td>\n",
       "    </tr>\n",
       "    <tr>\n",
       "      <th>top</th>\n",
       "      <td>False</td>\n",
       "      <td>NaN</td>\n",
       "    </tr>\n",
       "    <tr>\n",
       "      <th>freq</th>\n",
       "      <td>3</td>\n",
       "      <td>NaN</td>\n",
       "    </tr>\n",
       "    <tr>\n",
       "      <th>mean</th>\n",
       "      <td>NaN</td>\n",
       "      <td>3.000000</td>\n",
       "    </tr>\n",
       "    <tr>\n",
       "      <th>std</th>\n",
       "      <td>NaN</td>\n",
       "      <td>1.095445</td>\n",
       "    </tr>\n",
       "    <tr>\n",
       "      <th>min</th>\n",
       "      <td>NaN</td>\n",
       "      <td>2.000000</td>\n",
       "    </tr>\n",
       "    <tr>\n",
       "      <th>25%</th>\n",
       "      <td>NaN</td>\n",
       "      <td>2.000000</td>\n",
       "    </tr>\n",
       "    <tr>\n",
       "      <th>50%</th>\n",
       "      <td>NaN</td>\n",
       "      <td>3.000000</td>\n",
       "    </tr>\n",
       "    <tr>\n",
       "      <th>75%</th>\n",
       "      <td>NaN</td>\n",
       "      <td>4.000000</td>\n",
       "    </tr>\n",
       "    <tr>\n",
       "      <th>max</th>\n",
       "      <td>NaN</td>\n",
       "      <td>4.000000</td>\n",
       "    </tr>\n",
       "  </tbody>\n",
       "</table>\n",
       "</div>"
      ],
      "text/plain": [
       "            b         c\n",
       "count       6  6.000000\n",
       "unique      2       NaN\n",
       "top     False       NaN\n",
       "freq        3       NaN\n",
       "mean      NaN  3.000000\n",
       "std       NaN  1.095445\n",
       "min       NaN  2.000000\n",
       "25%       NaN  2.000000\n",
       "50%       NaN  3.000000\n",
       "75%       NaN  4.000000\n",
       "max       NaN  4.000000"
      ]
     },
     "execution_count": 62,
     "metadata": {},
     "output_type": "execute_result"
    }
   ],
   "source": [
    "df.describe(include=['float64', 'bool'])"
   ]
  },
  {
   "cell_type": "code",
   "execution_count": 64,
   "id": "c814de30",
   "metadata": {
    "ExecuteTime": {
     "end_time": "2021-08-02T07:11:32.484941Z",
     "start_time": "2021-08-02T07:11:32.467964Z"
    }
   },
   "outputs": [
    {
     "data": {
      "text/html": [
       "<div>\n",
       "<style scoped>\n",
       "    .dataframe tbody tr th:only-of-type {\n",
       "        vertical-align: middle;\n",
       "    }\n",
       "\n",
       "    .dataframe tbody tr th {\n",
       "        vertical-align: top;\n",
       "    }\n",
       "\n",
       "    .dataframe thead th {\n",
       "        text-align: right;\n",
       "    }\n",
       "</style>\n",
       "<table border=\"1\" class=\"dataframe\">\n",
       "  <thead>\n",
       "    <tr style=\"text-align: right;\">\n",
       "      <th></th>\n",
       "      <th>a</th>\n",
       "      <th>b</th>\n",
       "    </tr>\n",
       "  </thead>\n",
       "  <tbody>\n",
       "    <tr>\n",
       "      <th>count</th>\n",
       "      <td>6.000000</td>\n",
       "      <td>6</td>\n",
       "    </tr>\n",
       "    <tr>\n",
       "      <th>unique</th>\n",
       "      <td>NaN</td>\n",
       "      <td>2</td>\n",
       "    </tr>\n",
       "    <tr>\n",
       "      <th>top</th>\n",
       "      <td>NaN</td>\n",
       "      <td>False</td>\n",
       "    </tr>\n",
       "    <tr>\n",
       "      <th>freq</th>\n",
       "      <td>NaN</td>\n",
       "      <td>3</td>\n",
       "    </tr>\n",
       "    <tr>\n",
       "      <th>mean</th>\n",
       "      <td>1.500000</td>\n",
       "      <td>NaN</td>\n",
       "    </tr>\n",
       "    <tr>\n",
       "      <th>std</th>\n",
       "      <td>0.547723</td>\n",
       "      <td>NaN</td>\n",
       "    </tr>\n",
       "    <tr>\n",
       "      <th>min</th>\n",
       "      <td>1.000000</td>\n",
       "      <td>NaN</td>\n",
       "    </tr>\n",
       "    <tr>\n",
       "      <th>25%</th>\n",
       "      <td>1.000000</td>\n",
       "      <td>NaN</td>\n",
       "    </tr>\n",
       "    <tr>\n",
       "      <th>50%</th>\n",
       "      <td>1.500000</td>\n",
       "      <td>NaN</td>\n",
       "    </tr>\n",
       "    <tr>\n",
       "      <th>75%</th>\n",
       "      <td>2.000000</td>\n",
       "      <td>NaN</td>\n",
       "    </tr>\n",
       "    <tr>\n",
       "      <th>max</th>\n",
       "      <td>2.000000</td>\n",
       "      <td>NaN</td>\n",
       "    </tr>\n",
       "  </tbody>\n",
       "</table>\n",
       "</div>"
      ],
      "text/plain": [
       "               a      b\n",
       "count   6.000000      6\n",
       "unique       NaN      2\n",
       "top          NaN  False\n",
       "freq         NaN      3\n",
       "mean    1.500000    NaN\n",
       "std     0.547723    NaN\n",
       "min     1.000000    NaN\n",
       "25%     1.000000    NaN\n",
       "50%     1.500000    NaN\n",
       "75%     2.000000    NaN\n",
       "max     2.000000    NaN"
      ]
     },
     "execution_count": 64,
     "metadata": {},
     "output_type": "execute_result"
    }
   ],
   "source": [
    "df.describe(exclude=['float64'])"
   ]
  },
  {
   "cell_type": "markdown",
   "id": "50f7a9d3",
   "metadata": {},
   "source": [
    "## 7.3 공분산, 상관계수"
   ]
  },
  {
   "cell_type": "code",
   "execution_count": null,
   "id": "dce00429",
   "metadata": {},
   "outputs": [],
   "source": [
    "iris_df.cov()"
   ]
  },
  {
   "cell_type": "code",
   "execution_count": 20,
   "id": "d4e6ee80",
   "metadata": {
    "ExecuteTime": {
     "end_time": "2021-09-08T19:38:25.825480Z",
     "start_time": "2021-09-08T19:38:25.795558Z"
    }
   },
   "outputs": [
    {
     "data": {
      "text/html": [
       "<div>\n",
       "<style scoped>\n",
       "    .dataframe tbody tr th:only-of-type {\n",
       "        vertical-align: middle;\n",
       "    }\n",
       "\n",
       "    .dataframe tbody tr th {\n",
       "        vertical-align: top;\n",
       "    }\n",
       "\n",
       "    .dataframe thead th {\n",
       "        text-align: right;\n",
       "    }\n",
       "</style>\n",
       "<table border=\"1\" class=\"dataframe\">\n",
       "  <thead>\n",
       "    <tr style=\"text-align: right;\">\n",
       "      <th></th>\n",
       "      <th>Sepal.Length</th>\n",
       "      <th>Sepal.Width</th>\n",
       "      <th>Petal.Length</th>\n",
       "      <th>Petal.Width</th>\n",
       "    </tr>\n",
       "  </thead>\n",
       "  <tbody>\n",
       "    <tr>\n",
       "      <th>Sepal.Length</th>\n",
       "      <td>1.000000</td>\n",
       "      <td>-0.117570</td>\n",
       "      <td>0.871754</td>\n",
       "      <td>0.817941</td>\n",
       "    </tr>\n",
       "    <tr>\n",
       "      <th>Sepal.Width</th>\n",
       "      <td>-0.117570</td>\n",
       "      <td>1.000000</td>\n",
       "      <td>-0.428440</td>\n",
       "      <td>-0.366126</td>\n",
       "    </tr>\n",
       "    <tr>\n",
       "      <th>Petal.Length</th>\n",
       "      <td>0.871754</td>\n",
       "      <td>-0.428440</td>\n",
       "      <td>1.000000</td>\n",
       "      <td>0.962865</td>\n",
       "    </tr>\n",
       "    <tr>\n",
       "      <th>Petal.Width</th>\n",
       "      <td>0.817941</td>\n",
       "      <td>-0.366126</td>\n",
       "      <td>0.962865</td>\n",
       "      <td>1.000000</td>\n",
       "    </tr>\n",
       "  </tbody>\n",
       "</table>\n",
       "</div>"
      ],
      "text/plain": [
       "              Sepal.Length  Sepal.Width  Petal.Length  Petal.Width\n",
       "Sepal.Length      1.000000    -0.117570      0.871754     0.817941\n",
       "Sepal.Width      -0.117570     1.000000     -0.428440    -0.366126\n",
       "Petal.Length      0.871754    -0.428440      1.000000     0.962865\n",
       "Petal.Width       0.817941    -0.366126      0.962865     1.000000"
      ]
     },
     "execution_count": 20,
     "metadata": {},
     "output_type": "execute_result"
    }
   ],
   "source": [
    "# -1 < 상관계수 < 1\n",
    "iris_df.corr()"
   ]
  },
  {
   "cell_type": "markdown",
   "id": "92b8b582",
   "metadata": {},
   "source": [
    "# Copying Objects vs Referencing Objects in Python\n",
    "- Copy uses the dataframe’s copy() method\n",
    "- A Reference is created using the = operator\n",
    "\n",
    "You might think that the code ref_surveys_df = surveys_df creates a fresh distinct copy of the surveys_df DataFrame object. However, using the = operator in the simple statement y = x does not create a copy of our DataFrame. Instead, y = x creates a new variable y that references the same object that x refers to. To state this another way, there is only one object (the DataFrame), and both x and y refer to it.\n",
    "\n",
    "In contrast, the copy() method for a DataFrame creates a true copy of the DataFrame."
   ]
  }
 ],
 "metadata": {
  "kernelspec": {
   "display_name": "Python 3",
   "language": "python",
   "name": "python3"
  },
  "language_info": {
   "codemirror_mode": {
    "name": "ipython",
    "version": 3
   },
   "file_extension": ".py",
   "mimetype": "text/x-python",
   "name": "python",
   "nbconvert_exporter": "python",
   "pygments_lexer": "ipython3",
   "version": "3.8.8"
  },
  "toc": {
   "base_numbering": 1,
   "nav_menu": {},
   "number_sections": true,
   "sideBar": true,
   "skip_h1_title": false,
   "title_cell": "Table of Contents",
   "title_sidebar": "Contents",
   "toc_cell": false,
   "toc_position": {
    "height": "calc(100% - 180px)",
    "left": "10px",
    "top": "150px",
    "width": "253.198px"
   },
   "toc_section_display": true,
   "toc_window_display": true
  },
  "varInspector": {
   "cols": {
    "lenName": 16,
    "lenType": 16,
    "lenVar": 40
   },
   "kernels_config": {
    "python": {
     "delete_cmd_postfix": "",
     "delete_cmd_prefix": "del ",
     "library": "var_list.py",
     "varRefreshCmd": "print(var_dic_list())"
    },
    "r": {
     "delete_cmd_postfix": ") ",
     "delete_cmd_prefix": "rm(",
     "library": "var_list.r",
     "varRefreshCmd": "cat(var_dic_list()) "
    }
   },
   "types_to_exclude": [
    "module",
    "function",
    "builtin_function_or_method",
    "instance",
    "_Feature"
   ],
   "window_display": false
  }
 },
 "nbformat": 4,
 "nbformat_minor": 5
}
