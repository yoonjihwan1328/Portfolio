{
 "cells": [
  {
   "cell_type": "markdown",
   "id": "a77dae4e",
   "metadata": {
    "ExecuteTime": {
     "end_time": "2021-07-20T02:44:25.901191Z",
     "start_time": "2021-07-20T02:44:25.892229Z"
    }
   },
   "source": [
    "<b><font size=\"6\" color=\"red\">ch02. 자료형과 연산자</font></b>"
   ]
  },
  {
   "cell_type": "markdown",
   "id": "525c41f1",
   "metadata": {},
   "source": [
    "## 6절 문자열 다루기"
   ]
  },
  {
   "cell_type": "code",
   "execution_count": null,
   "id": "54d18c2c",
   "metadata": {},
   "outputs": [],
   "source": [
    "- 문자열 슬라이싱 문자변수[from:to:by]\n",
    "- len(문자열)\n",
    "- upper() 대문자로\n",
    "- lower() 소문자로\n",
    "- title() 각 단어의 앞글자만 대문자로\n",
    "- capitalize() 첫 문자만 대문자로. 그 외는 소문자\n",
    "- count('찾을 문자열') '찾을 문자열'이 몇 개 들어있는지 갯수 반환\n",
    "- find('찾을문자열') '찾을 문자열'이 왼쪽부터 몇 번째에 위치하는지 index를 반환\n",
    "- rfind('찾을문자열') '찾을 문자열'이 오른쪽부터 몇 번째에 위치하는지 index를 반환\n",
    "                        ('찾을 문자열'이 없으면 -1을 반환)\n",
    "- startswith('특정문자열') '특정문자열'로 시작하는지 여부 반환\n",
    "- endswith('특정문자열')     '특정문자열'로 끝나는지 여부 반환\n",
    "- strip : 좌우 공백이 제거(trim과 동일한 기능)\n",
    "- rstrip() 오른쪽 공백 제거\n",
    "- lstrip() 왼쪽 공백 제거\n",
    "- split() 문자열을 공백이나 다른 문자 기분으로 나누어 리스트로 반환\n",
    "- isdigit() 문자열이 숫자 문자열인지 반환\n",
    "- islower() 문자열이 소문자인지 여부 반환\n",
    "- isupper() 문자열이 대문자인지 여부 반환\n",
    "- replace(oldStr, newStr) 처음 나오는 oldStr을 newStr\n",
    "- replaceAll(oldStr, newStr) 문자열 내에 나오는 oldStr 모두를 newStr로 변경"
   ]
  },
  {
   "cell_type": "code",
   "execution_count": 10,
   "id": "53bc79fc",
   "metadata": {
    "ExecuteTime": {
     "end_time": "2021-07-25T10:51:47.120483Z",
     "start_time": "2021-07-25T10:51:47.107519Z"
    }
   },
   "outputs": [
    {
     "data": {
      "text/plain": [
       "('Python is easy. Python is smart. python', 39)"
      ]
     },
     "execution_count": 10,
     "metadata": {},
     "output_type": "execute_result"
    }
   ],
   "source": [
    "temp = 'Python is easy. Python is smart. python'\n",
    "#       012345678901234567890123456789012345678\n",
    "temp, len(temp)"
   ]
  },
  {
   "cell_type": "code",
   "execution_count": 15,
   "id": "bf232bf4",
   "metadata": {
    "ExecuteTime": {
     "end_time": "2021-07-25T10:52:35.196387Z",
     "start_time": "2021-07-25T10:52:35.177440Z"
    }
   },
   "outputs": [
    {
     "name": "stdout",
     "output_type": "stream",
     "text": [
      "첫번째 글자는 P, 마지막 글자는 n\n"
     ]
    }
   ],
   "source": [
    "print('첫번째 글자는 {}, 마지막 글자는 {}'.format(temp[0], temp[-1]))"
   ]
  },
  {
   "cell_type": "code",
   "execution_count": 2,
   "id": "a5923a21",
   "metadata": {
    "ExecuteTime": {
     "end_time": "2021-07-20T04:19:55.369006Z",
     "start_time": "2021-07-20T04:19:55.359040Z"
    }
   },
   "outputs": [
    {
     "name": "stdout",
     "output_type": "stream",
     "text": [
      "대문자로 :  PYTHON IS EASY. PYTHON IS SMART. PYTHON\n",
      "소문자로 :  python is easy. python is smart. python\n",
      "title() :  Python Is Easy. Python Is Smart. Python\n",
      "capitalize() :  Python is easy. python is smart. python\n",
      "python이 몇 번 나오는지 :  1\n",
      "대소문자 구분없이 python이 몇 번 나오는지 : 3\n",
      "Python의 첫 index위치 : 0\n",
      "Python의 마지막 index위치 : 16\n",
      "Python으로 시작하는 문자열인지 : True\n",
      "Python으로 끝나는 문자열인지 :  False\n",
      "Python 대신 R로 변경 : R is easy. R is smart. python\n"
     ]
    }
   ],
   "source": [
    "temp = 'Python is easy. Python is smart. python'\n",
    "#       012345678901234567890123456789012345678\n",
    "print('대문자로 : ', temp.upper())\n",
    "print('소문자로 : ', temp.lower())\n",
    "print('title() : ', temp.title())\n",
    "print('capitalize() : ', temp.capitalize())\n",
    "print('python이 몇 번 나오는지 : ', temp.count('python')) # 소문자 python만을 검색함\n",
    "print('대소문자 구분없이 python이 몇 번 나오는지 :',temp.lower().count('python'))\n",
    "print('Python의 첫 index위치 :', temp.find('Python'))\n",
    "print('Python의 마지막 index위치 :', temp.rfind('Python'))\n",
    "print('Python으로 시작하는 문자열인지 :', temp.startswith('Python'))\n",
    "print('Python으로 끝나는 문자열인지 : ', temp.endswith('Python'))\n",
    "print('Python 대신 R로 변경 :', temp.replace('Python', 'R'))"
   ]
  },
  {
   "cell_type": "code",
   "execution_count": 1,
   "id": "c19e49a8",
   "metadata": {
    "ExecuteTime": {
     "end_time": "2021-07-22T13:51:59.773178Z",
     "start_time": "2021-07-22T13:51:59.756226Z"
    }
   },
   "outputs": [
    {
     "name": "stdout",
     "output_type": "stream",
     "text": [
      "strip() : [Python is easy]\n",
      "lstrip() : [Python is easy     ]\n",
      "rstrip() : [          Python is easy]\n"
     ]
    }
   ],
   "source": [
    "temp = \"          Python is easy     \"\n",
    "print(\"strip() : [{}]\".format(temp.strip()))\n",
    "print(\"lstrip() : [{}]\".format(temp.lstrip()))\n",
    "print(\"rstrip() : [{}]\".format(temp.rstrip()))"
   ]
  },
  {
   "cell_type": "code",
   "execution_count": 3,
   "id": "348ca01b",
   "metadata": {
    "ExecuteTime": {
     "end_time": "2021-07-20T04:19:59.385485Z",
     "start_time": "2021-07-20T04:19:59.376510Z"
    }
   },
   "outputs": [
    {
     "name": "stdout",
     "output_type": "stream",
     "text": [
      "space단위로 temp를 분리(list로 반환) :  ['Python', 'is', 'easy.', 'Python', 'is', 'smart.', 'python']\n"
     ]
    }
   ],
   "source": [
    "print('space단위로 temp를 분리(list로 반환) : ', temp.split())"
   ]
  },
  {
   "cell_type": "code",
   "execution_count": 28,
   "id": "b0af535a",
   "metadata": {
    "ExecuteTime": {
     "end_time": "2021-07-20T03:18:15.293539Z",
     "start_time": "2021-07-20T03:18:15.282568Z"
    }
   },
   "outputs": [
    {
     "name": "stdout",
     "output_type": "stream",
     "text": [
      "-를 기준으로 date를 분리 : ['2021', '07', '20']\n"
     ]
    }
   ],
   "source": [
    "date = '2021-07-20'\n",
    "print('-를 기준으로 date를 분리 :', date.split('-'))"
   ]
  },
  {
   "cell_type": "code",
   "execution_count": 57,
   "id": "3218e645",
   "metadata": {
    "ExecuteTime": {
     "end_time": "2021-07-20T04:03:06.668146Z",
     "start_time": "2021-07-20T04:03:06.656182Z"
    }
   },
   "outputs": [
    {
     "name": "stdout",
     "output_type": "stream",
     "text": [
      "분리된 temp: ['Python', 'Java', 'R', 'C']\n",
      "다시 join한 temp :  Python/Java/R/C\n"
     ]
    }
   ],
   "source": [
    "temp = \"Python - Java - R - C\"\n",
    "splited_temp = temp.split(' - ')\n",
    "print('분리된 temp:', splited_temp) #['Python', 'Java', 'R', 'C']\n",
    "join_temp = '/'.join(splited_temp)\n",
    "print('다시 join한 temp : ', join_temp)\n",
    "### 2번째 줄 temp.split('   -   ')처럼 잘못 설정하면 적용이 안됐음."
   ]
  },
  {
   "cell_type": "code",
   "execution_count": 16,
   "id": "6409546e",
   "metadata": {
    "ExecuteTime": {
     "end_time": "2021-07-25T14:43:13.576525Z",
     "start_time": "2021-07-25T14:43:13.528214Z"
    }
   },
   "outputs": [
    {
     "name": "stdout",
     "output_type": "stream",
     "text": [
      "num이 숫자문자인지 :  True\n",
      "temp가 대문자인지 : True\n",
      "temp가 소문자인지 : False\n"
     ]
    }
   ],
   "source": [
    "num = '100'\n",
    "print('num이 숫자문자인지 : ', num.isdigit())\n",
    "temp = 'PYTHON'\n",
    "print('temp가 대문자인지 :', temp.isupper())\n",
    "print('temp가 소문자인지 :', temp.islower())"
   ]
  },
  {
   "cell_type": "code",
   "execution_count": 17,
   "id": "2e20eb16",
   "metadata": {
    "ExecuteTime": {
     "end_time": "2021-07-25T14:43:16.354534Z",
     "start_time": "2021-07-25T14:43:16.329602Z"
    }
   },
   "outputs": [
    {
     "name": "stdout",
     "output_type": "stream",
     "text": [
      "2\n",
      "2\n"
     ]
    }
   ],
   "source": [
    "print('ABCD'.find('C'))\n",
    "print('ABCD'.index('C'))"
   ]
  },
  {
   "cell_type": "code",
   "execution_count": 18,
   "id": "b6f7ebdd",
   "metadata": {
    "ExecuteTime": {
     "end_time": "2021-07-25T14:43:18.750927Z",
     "start_time": "2021-07-25T14:43:18.210837Z"
    }
   },
   "outputs": [
    {
     "name": "stdout",
     "output_type": "stream",
     "text": [
      "-1\n"
     ]
    },
    {
     "ename": "ValueError",
     "evalue": "substring not found",
     "output_type": "error",
     "traceback": [
      "\u001b[1;31m---------------------------------------------------------------------------\u001b[0m",
      "\u001b[1;31mValueError\u001b[0m                                Traceback (most recent call last)",
      "\u001b[1;32m<ipython-input-18-97b3972b18bd>\u001b[0m in \u001b[0;36m<module>\u001b[1;34m\u001b[0m\n\u001b[0;32m      1\u001b[0m \u001b[0mprint\u001b[0m\u001b[1;33m(\u001b[0m\u001b[1;34m'ABCD'\u001b[0m\u001b[1;33m.\u001b[0m\u001b[0mfind\u001b[0m\u001b[1;33m(\u001b[0m\u001b[1;34m'Z'\u001b[0m\u001b[1;33m)\u001b[0m\u001b[1;33m)\u001b[0m\u001b[1;33m\u001b[0m\u001b[1;33m\u001b[0m\u001b[0m\n\u001b[1;32m----> 2\u001b[1;33m \u001b[0mprint\u001b[0m\u001b[1;33m(\u001b[0m\u001b[1;34m'ABCD'\u001b[0m\u001b[1;33m.\u001b[0m\u001b[0mindex\u001b[0m\u001b[1;33m(\u001b[0m\u001b[1;34m'Z'\u001b[0m\u001b[1;33m)\u001b[0m\u001b[1;33m)\u001b[0m\u001b[1;33m\u001b[0m\u001b[1;33m\u001b[0m\u001b[0m\n\u001b[0m",
      "\u001b[1;31mValueError\u001b[0m: substring not found"
     ]
    }
   ],
   "source": [
    "print('ABCD'.find('Z'))\n",
    "print('ABCD'.index('Z'))"
   ]
  },
  {
   "cell_type": "code",
   "execution_count": 37,
   "id": "79eeef94",
   "metadata": {
    "ExecuteTime": {
     "end_time": "2021-07-20T03:46:53.022946Z",
     "start_time": "2021-07-20T03:46:53.009991Z"
    }
   },
   "outputs": [
    {
     "name": "stdout",
     "output_type": "stream",
     "text": [
      "A\n",
      "B\n",
      "C\n"
     ]
    }
   ],
   "source": [
    "str_='ABC'\n",
    "for s in str_:\n",
    "    print(s)"
   ]
  },
  {
   "cell_type": "code",
   "execution_count": 38,
   "id": "868849b4",
   "metadata": {
    "ExecuteTime": {
     "end_time": "2021-07-20T03:46:55.213638Z",
     "start_time": "2021-07-20T03:46:55.200677Z"
    }
   },
   "outputs": [
    {
     "name": "stdout",
     "output_type": "stream",
     "text": [
      "A\n",
      "B\n",
      "C\n"
     ]
    }
   ],
   "source": [
    "str_list = ['A', 'B', 'C']\n",
    "for s in str_list:\n",
    "    print(s)"
   ]
  },
  {
   "cell_type": "code",
   "execution_count": 39,
   "id": "3c53a35f",
   "metadata": {
    "ExecuteTime": {
     "end_time": "2021-07-20T03:48:04.279047Z",
     "start_time": "2021-07-20T03:48:04.258103Z"
    }
   },
   "outputs": [
    {
     "data": {
      "text/plain": [
       "['__add__',\n",
       " '__class__',\n",
       " '__contains__',\n",
       " '__delattr__',\n",
       " '__dir__',\n",
       " '__doc__',\n",
       " '__eq__',\n",
       " '__format__',\n",
       " '__ge__',\n",
       " '__getattribute__',\n",
       " '__getitem__',\n",
       " '__getnewargs__',\n",
       " '__gt__',\n",
       " '__hash__',\n",
       " '__init__',\n",
       " '__init_subclass__',\n",
       " '__iter__',\n",
       " '__le__',\n",
       " '__len__',\n",
       " '__lt__',\n",
       " '__mod__',\n",
       " '__mul__',\n",
       " '__ne__',\n",
       " '__new__',\n",
       " '__reduce__',\n",
       " '__reduce_ex__',\n",
       " '__repr__',\n",
       " '__rmod__',\n",
       " '__rmul__',\n",
       " '__setattr__',\n",
       " '__sizeof__',\n",
       " '__str__',\n",
       " '__subclasshook__',\n",
       " 'capitalize',\n",
       " 'casefold',\n",
       " 'center',\n",
       " 'count',\n",
       " 'encode',\n",
       " 'endswith',\n",
       " 'expandtabs',\n",
       " 'find',\n",
       " 'format',\n",
       " 'format_map',\n",
       " 'index',\n",
       " 'isalnum',\n",
       " 'isalpha',\n",
       " 'isascii',\n",
       " 'isdecimal',\n",
       " 'isdigit',\n",
       " 'isidentifier',\n",
       " 'islower',\n",
       " 'isnumeric',\n",
       " 'isprintable',\n",
       " 'isspace',\n",
       " 'istitle',\n",
       " 'isupper',\n",
       " 'join',\n",
       " 'ljust',\n",
       " 'lower',\n",
       " 'lstrip',\n",
       " 'maketrans',\n",
       " 'partition',\n",
       " 'replace',\n",
       " 'rfind',\n",
       " 'rindex',\n",
       " 'rjust',\n",
       " 'rpartition',\n",
       " 'rsplit',\n",
       " 'rstrip',\n",
       " 'split',\n",
       " 'splitlines',\n",
       " 'startswith',\n",
       " 'strip',\n",
       " 'swapcase',\n",
       " 'title',\n",
       " 'translate',\n",
       " 'upper',\n",
       " 'zfill']"
      ]
     },
     "execution_count": 39,
     "metadata": {},
     "output_type": "execute_result"
    }
   ],
   "source": [
    "# 문자열을 다룰 수 있는 함수들의 목록\n",
    "dir(str)"
   ]
  },
  {
   "cell_type": "markdown",
   "id": "c78e4b79",
   "metadata": {},
   "source": [
    "# 7절 날짜 다루기"
   ]
  },
  {
   "cell_type": "markdown",
   "id": "5bcebff1",
   "metadata": {},
   "source": [
    "## 7.1 날짜"
   ]
  },
  {
   "cell_type": "code",
   "execution_count": 2,
   "id": "d3bdbdab",
   "metadata": {
    "ExecuteTime": {
     "end_time": "2021-07-22T14:14:30.378388Z",
     "start_time": "2021-07-22T14:14:30.348470Z"
    }
   },
   "outputs": [
    {
     "data": {
      "text/plain": [
       "datetime.date(2021, 7, 20)"
      ]
     },
     "execution_count": 2,
     "metadata": {},
     "output_type": "execute_result"
    }
   ],
   "source": [
    "from datetime import date\n",
    "someday = date(2021, 7, 20)\n",
    "someday"
   ]
  },
  {
   "cell_type": "code",
   "execution_count": 47,
   "id": "5ef78592",
   "metadata": {
    "ExecuteTime": {
     "end_time": "2021-07-20T03:54:56.145995Z",
     "start_time": "2021-07-20T03:54:56.128043Z"
    }
   },
   "outputs": [
    {
     "name": "stdout",
     "output_type": "stream",
     "text": [
      "2021년 07월 20일 00시 00분\n"
     ]
    }
   ],
   "source": [
    "print(\"{:%Y년 %m월 %d일 %H시 %M분}\".format(someday))\n",
    "# :이 공간확보, 범위를 위한 기호 아니었나...?;;;여기서도 쓰이네;;;\n",
    "# 앞에 format, str 에서와 달리 여기서는 날짜만 / 혹은 시간만 표현하는중..."
   ]
  },
  {
   "cell_type": "code",
   "execution_count": 5,
   "id": "18e06d1f",
   "metadata": {
    "ExecuteTime": {
     "end_time": "2021-07-22T15:34:52.600051Z",
     "start_time": "2021-07-22T15:34:52.583101Z"
    }
   },
   "outputs": [
    {
     "data": {
      "text/plain": [
       "'2021년 07월 23일 00시 00분 00초'"
      ]
     },
     "execution_count": 5,
     "metadata": {},
     "output_type": "execute_result"
    }
   ],
   "source": [
    "today = date.today() # 오늘\n",
    "today\n",
    "# 4.3날짜출력에서 가져옴\n",
    "#date.today().strftime(\"%Y년 %m월 %d일 %H시 %M분 %S초\") 도 가능!!!"
   ]
  },
  {
   "cell_type": "markdown",
   "id": "9aaea31d",
   "metadata": {
    "ExecuteTime": {
     "end_time": "2021-07-20T03:56:24.459451Z",
     "start_time": "2021-07-20T03:56:24.448481Z"
    }
   },
   "source": [
    "## 7.2 시간"
   ]
  },
  {
   "cell_type": "code",
   "execution_count": 15,
   "id": "413fdb4d",
   "metadata": {
    "ExecuteTime": {
     "end_time": "2021-07-22T15:57:10.856613Z",
     "start_time": "2021-07-22T15:57:10.848635Z"
    }
   },
   "outputs": [
    {
     "name": "stdout",
     "output_type": "stream",
     "text": [
      "13:00:00\n",
      "1900년01월01일 13:00:00\n"
     ]
    }
   ],
   "source": [
    "from datetime import time\n",
    "t = time(13)\n",
    "print(t)\n",
    "print(\"{:%Y년%m월%d일 %H:%M:%S}\".format(t))"
   ]
  },
  {
   "cell_type": "code",
   "execution_count": 19,
   "id": "9521841d",
   "metadata": {
    "ExecuteTime": {
     "end_time": "2021-07-22T15:58:12.922269Z",
     "start_time": "2021-07-22T15:58:12.899331Z"
    }
   },
   "outputs": [
    {
     "data": {
      "text/plain": [
       "datetime.time(13, 20, 5)"
      ]
     },
     "execution_count": 19,
     "metadata": {},
     "output_type": "execute_result"
    }
   ],
   "source": [
    "t2 = time(13,20,5)\n",
    "t2"
   ]
  },
  {
   "cell_type": "code",
   "execution_count": 53,
   "id": "bf03a7aa",
   "metadata": {
    "ExecuteTime": {
     "end_time": "2021-07-20T04:00:29.013363Z",
     "start_time": "2021-07-20T04:00:29.008371Z"
    }
   },
   "outputs": [
    {
     "name": "stdout",
     "output_type": "stream",
     "text": [
      "18:20:01.000100\n"
     ]
    }
   ],
   "source": [
    "t3 = time(18, 20, 1, 100)\n",
    "print(t3)"
   ]
  }
 ],
 "metadata": {
  "kernelspec": {
   "display_name": "Python 3",
   "language": "python",
   "name": "python3"
  },
  "language_info": {
   "codemirror_mode": {
    "name": "ipython",
    "version": 3
   },
   "file_extension": ".py",
   "mimetype": "text/x-python",
   "name": "python",
   "nbconvert_exporter": "python",
   "pygments_lexer": "ipython3",
   "version": "3.8.8"
  },
  "toc": {
   "base_numbering": 1,
   "nav_menu": {},
   "number_sections": true,
   "sideBar": true,
   "skip_h1_title": false,
   "title_cell": "Table of Contents",
   "title_sidebar": "Contents",
   "toc_cell": false,
   "toc_position": {
    "height": "calc(100% - 180px)",
    "left": "10px",
    "top": "150px",
    "width": "165px"
   },
   "toc_section_display": true,
   "toc_window_display": true
  },
  "varInspector": {
   "cols": {
    "lenName": 16,
    "lenType": 16,
    "lenVar": 40
   },
   "kernels_config": {
    "python": {
     "delete_cmd_postfix": "",
     "delete_cmd_prefix": "del ",
     "library": "var_list.py",
     "varRefreshCmd": "print(var_dic_list())"
    },
    "r": {
     "delete_cmd_postfix": ") ",
     "delete_cmd_prefix": "rm(",
     "library": "var_list.r",
     "varRefreshCmd": "cat(var_dic_list()) "
    }
   },
   "types_to_exclude": [
    "module",
    "function",
    "builtin_function_or_method",
    "instance",
    "_Feature"
   ],
   "window_display": false
  }
 },
 "nbformat": 4,
 "nbformat_minor": 5
}
