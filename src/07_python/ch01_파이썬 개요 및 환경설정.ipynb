{
 "cells": [
  {
   "cell_type": "markdown",
   "id": "0d0ccf80",
   "metadata": {},
   "source": [
    "<b><font color=\"red\" size=\"6\">ch01. 파이썬 개요 및 환경설정</font></b>"
   ]
  },
  {
   "cell_type": "markdown",
   "id": "12fbce9c",
   "metadata": {},
   "source": [
    "# 주피터 노트북 사용법(큰 제목)\n",
    "* shift + Enter : 포커스된 셀이 실행되고 커서가 다음셀로 이동\n",
    "* Enter키를 누르면 다시 편집상태로 돌아옴\n",
    "* alt + Enter : 포커스된 셀이 실행되고 다음 셀이 생성된 후 포커스도 다음 셀로 이동\n",
    "* ctrl + Enter : 포커스된 셀이 실행되고 포커스 이동은 없음"
   ]
  },
  {
   "cell_type": "markdown",
   "id": "117aa7b1",
   "metadata": {},
   "source": [
    "## 서브제목"
   ]
  },
  {
   "cell_type": "code",
   "execution_count": 2,
   "id": "9cbf237f",
   "metadata": {
    "ExecuteTime": {
     "end_time": "2021-07-19T02:48:08.424727Z",
     "start_time": "2021-07-19T02:48:08.415743Z"
    }
   },
   "outputs": [],
   "source": [
    "# 셀 하나하나에 파이썬 실행소스 입력 _> 실행"
   ]
  },
  {
   "cell_type": "code",
   "execution_count": 5,
   "id": "6cf7b584",
   "metadata": {
    "ExecuteTime": {
     "end_time": "2021-07-19T02:48:24.168630Z",
     "start_time": "2021-07-19T02:48:24.150677Z"
    }
   },
   "outputs": [
    {
     "name": "stdout",
     "output_type": "stream",
     "text": [
      "Hello World\n"
     ]
    }
   ],
   "source": [
    "print(\"Hello World\")"
   ]
  },
  {
   "cell_type": "code",
   "execution_count": 8,
   "id": "6f8562d9",
   "metadata": {
    "ExecuteTime": {
     "end_time": "2021-07-19T02:52:23.123262Z",
     "start_time": "2021-07-19T02:52:23.104313Z"
    }
   },
   "outputs": [
    {
     "ename": "TypeError",
     "evalue": "unsupported operand type(s) for +: 'int' and 'str'",
     "output_type": "error",
     "traceback": [
      "\u001b[1;31m---------------------------------------------------------------------------\u001b[0m",
      "\u001b[1;31mTypeError\u001b[0m                                 Traceback (most recent call last)",
      "\u001b[1;32m<ipython-input-8-bc81e95a2b26>\u001b[0m in \u001b[0;36m<module>\u001b[1;34m\u001b[0m\n\u001b[0;32m      1\u001b[0m \u001b[0ma\u001b[0m \u001b[1;33m=\u001b[0m \u001b[1;36m1\u001b[0m\u001b[1;33m\u001b[0m\u001b[1;33m\u001b[0m\u001b[0m\n\u001b[0;32m      2\u001b[0m \u001b[0mb\u001b[0m \u001b[1;33m=\u001b[0m \u001b[1;34m\"2\"\u001b[0m\u001b[1;33m\u001b[0m\u001b[1;33m\u001b[0m\u001b[0m\n\u001b[1;32m----> 3\u001b[1;33m \u001b[0ma\u001b[0m \u001b[1;33m+\u001b[0m \u001b[0mb\u001b[0m\u001b[1;33m\u001b[0m\u001b[1;33m\u001b[0m\u001b[0m\n\u001b[0m\u001b[0;32m      4\u001b[0m \u001b[1;31m# 행번호 추가하는 방법 : View -> Toggle Line Numbers 선택\u001b[0m\u001b[1;33m\u001b[0m\u001b[1;33m\u001b[0m\u001b[1;33m\u001b[0m\u001b[0m\n\u001b[0;32m      5\u001b[0m \u001b[1;31m#      에러 발생시 나타나는 경고문을 따라 코드를 확인하기 편리해짐.\u001b[0m\u001b[1;33m\u001b[0m\u001b[1;33m\u001b[0m\u001b[1;33m\u001b[0m\u001b[0m\n",
      "\u001b[1;31mTypeError\u001b[0m: unsupported operand type(s) for +: 'int' and 'str'"
     ]
    }
   ],
   "source": [
    "a = 1\n",
    "b = \"2\"\n",
    "a + b\n",
    "# 행번호 추가하는 방법 : View -> Toggle Line Numbers 선택\n",
    "#      에러 발생시 나타나는 경고문을 따라 코드를 확인하기 편리해짐."
   ]
  },
  {
   "cell_type": "code",
   "execution_count": 9,
   "id": "4c6ea6e4",
   "metadata": {
    "ExecuteTime": {
     "end_time": "2021-07-19T02:52:42.574262Z",
     "start_time": "2021-07-19T02:52:42.561318Z"
    },
    "code_folding": [],
    "collapsed": true
   },
   "outputs": [
    {
     "name": "stdout",
     "output_type": "stream",
     "text": [
      "0\n",
      "1\n",
      "2\n",
      "3\n",
      "4\n",
      "5\n",
      "6\n",
      "7\n",
      "8\n",
      "9\n"
     ]
    }
   ],
   "source": [
    "for i in range(1000000000000000000):\n",
    "    print(i)\n",
    "    # 메뉴 바로 아래 멈춤(네모도형)을 클릭 -> 멈춤기능\n",
    "    # OR Kernel메뉴의 Restart & Clear Output"
   ]
  },
  {
   "cell_type": "code",
   "execution_count": 2,
   "id": "aacad36f",
   "metadata": {
    "ExecuteTime": {
     "end_time": "2021-07-20T17:13:09.044606Z",
     "start_time": "2021-07-20T17:13:09.024659Z"
    }
   },
   "outputs": [
    {
     "ename": "TypeError",
     "evalue": "'int' object is not callable",
     "output_type": "error",
     "traceback": [
      "\u001b[1;31m---------------------------------------------------------------------------\u001b[0m",
      "\u001b[1;31mTypeError\u001b[0m                                 Traceback (most recent call last)",
      "\u001b[1;32m<ipython-input-2-bf850fc969f8>\u001b[0m in \u001b[0;36m<module>\u001b[1;34m\u001b[0m\n\u001b[0;32m      1\u001b[0m \u001b[0mprint\u001b[0m \u001b[1;33m=\u001b[0m \u001b[1;36m10\u001b[0m\u001b[1;33m\u001b[0m\u001b[1;33m\u001b[0m\u001b[0m\n\u001b[0;32m      2\u001b[0m \u001b[0mprint\u001b[0m\u001b[1;33m\u001b[0m\u001b[1;33m\u001b[0m\u001b[0m\n\u001b[1;32m----> 3\u001b[1;33m \u001b[0mprint\u001b[0m\u001b[1;33m(\u001b[0m\u001b[1;34m\"Hello, World\"\u001b[0m\u001b[1;33m)\u001b[0m \u001b[1;31m# print 함수가 변수로 선언되어 함수로서의 기능을 상실함.\u001b[0m\u001b[1;33m\u001b[0m\u001b[1;33m\u001b[0m\u001b[0m\n\u001b[0m\u001b[0;32m      4\u001b[0m \u001b[1;31m# 실수로 할단한 print 변수를 삭제 del print\u001b[0m\u001b[1;33m\u001b[0m\u001b[1;33m\u001b[0m\u001b[1;33m\u001b[0m\u001b[0m\n\u001b[0;32m      5\u001b[0m \u001b[1;31m# Kernel메뉴를 활용! Kernel 재시작\u001b[0m\u001b[1;33m\u001b[0m\u001b[1;33m\u001b[0m\u001b[1;33m\u001b[0m\u001b[0m\n",
      "\u001b[1;31mTypeError\u001b[0m: 'int' object is not callable"
     ]
    }
   ],
   "source": [
    "print = 10\n",
    "print\n",
    "print(\"Hello, World\") # print 함수가 변수로 선언되어 함수로서의 기능을 상실함.\n",
    "# 실수로 할단한 print 변수를 삭제 del print\n",
    "# Kernel메뉴를 활용! Kernel 재시작"
   ]
  },
  {
   "cell_type": "code",
   "execution_count": null,
   "id": "30760358",
   "metadata": {},
   "outputs": [],
   "source": [
    "생성한 변수확인, 셀이 실행되는 데 걸리는 소요시간 확인 등의 확장기능을 갖추는 방법"
   ]
  },
  {
   "cell_type": "markdown",
   "id": "d3e8f5ff",
   "metadata": {},
   "source": [
    "## ESC키를 누르고(핫 키)\n",
    "+ dd : 셀 삭제\n",
    "+ a : 윗 셀이 추가\n",
    "+ b : 아랫셀 추가\n",
    "+ m : 마크다운 셀(aka 문서셀)로 변경\n",
    "+ y : 코드 셀(aka 소스셀)로 변경\n",
    "+ h : 핫 키 안내"
   ]
  },
  {
   "cell_type": "markdown",
   "id": "564cf61c",
   "metadata": {
    "ExecuteTime": {
     "end_time": "2021-07-19T03:02:02.442702Z",
     "start_time": "2021-07-19T03:02:02.423751Z"
    }
   },
   "source": [
    "# 마크다운이란\n",
    "* 코드와 함께 '문서화'를 할 수 있습니다\n",
    "* 다양한 문서화 문법이 있습니다.\n",
    "여러줄의 설명을\n",
    "줄바꿈으로 할 수 없습니다\n",
    "```\n",
    "여러줄의 설명을\n",
    "줄바꿈으로 할 수 있습니다\n",
    "```"
   ]
  },
  {
   "cell_type": "code",
   "execution_count": null,
   "id": "b4aaa2dc",
   "metadata": {},
   "outputs": [],
   "source": []
  }
 ],
 "metadata": {
  "kernelspec": {
   "display_name": "Python 3",
   "language": "python",
   "name": "python3"
  },
  "language_info": {
   "codemirror_mode": {
    "name": "ipython",
    "version": 3
   },
   "file_extension": ".py",
   "mimetype": "text/x-python",
   "name": "python",
   "nbconvert_exporter": "python",
   "pygments_lexer": "ipython3",
   "version": "3.8.8"
  },
  "toc": {
   "base_numbering": 1,
   "nav_menu": {},
   "number_sections": true,
   "sideBar": true,
   "skip_h1_title": false,
   "title_cell": "Table of Contents",
   "title_sidebar": "Contents",
   "toc_cell": false,
   "toc_position": {},
   "toc_section_display": true,
   "toc_window_display": true
  },
  "varInspector": {
   "cols": {
    "lenName": 16,
    "lenType": 16,
    "lenVar": 40
   },
   "kernels_config": {
    "python": {
     "delete_cmd_postfix": "",
     "delete_cmd_prefix": "del ",
     "library": "var_list.py",
     "varRefreshCmd": "print(var_dic_list())"
    },
    "r": {
     "delete_cmd_postfix": ") ",
     "delete_cmd_prefix": "rm(",
     "library": "var_list.r",
     "varRefreshCmd": "cat(var_dic_list()) "
    }
   },
   "oldHeight": 122,
   "position": {
    "height": "144px",
    "left": "1550px",
    "right": "20px",
    "top": "120px",
    "width": "350px"
   },
   "types_to_exclude": [
    "module",
    "function",
    "builtin_function_or_method",
    "instance",
    "_Feature"
   ],
   "varInspector_section_display": "block",
   "window_display": true
  }
 },
 "nbformat": 4,
 "nbformat_minor": 5
}
