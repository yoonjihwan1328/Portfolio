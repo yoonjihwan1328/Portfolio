{
 "cells": [
  {
   "cell_type": "markdown",
   "id": "d502363c",
   "metadata": {},
   "source": [
    "# 3절. Selenium을 이용한 웹 데이터 수집\n",
    "* https://selenium-python.readthedocs.io/index.html\n",
    "* pip install selenium"
   ]
  },
  {
   "cell_type": "code",
   "execution_count": null,
   "id": "d0e2efbd",
   "metadata": {},
   "outputs": [],
   "source": [
    "사이트 접속 후 - Installation 1.5 Drivers  - Chrome : site주소 url 클릭\n",
    "인터넷 창에서 오른쪽 위 메뉴 - 도움말 - 버전확인 후 버전에 맞는(보다 낮은) 파일을 선택\n",
    "- 윈도우 버전 다운로드"
   ]
  },
  {
   "cell_type": "code",
   "execution_count": 2,
   "id": "959607b5",
   "metadata": {
    "ExecuteTime": {
     "end_time": "2021-08-11T05:49:23.224861Z",
     "start_time": "2021-08-11T05:49:21.853693Z"
    }
   },
   "outputs": [
    {
     "data": {
      "text/plain": [
       "<selenium.webdriver.chrome.webdriver.WebDriver (session=\"d92fa87829acad8e382a4656906c3882\")>"
      ]
     },
     "execution_count": 2,
     "metadata": {},
     "output_type": "execute_result"
    }
   ],
   "source": [
    "from selenium import webdriver\n",
    "dv = webdriver.Chrome('D:/bigdata/src/07_Python/chromedriver.exe')\n",
    "dv"
   ]
  },
  {
   "cell_type": "code",
   "execution_count": 3,
   "id": "2fb30f18",
   "metadata": {
    "ExecuteTime": {
     "end_time": "2021-08-11T05:49:53.395277Z",
     "start_time": "2021-08-11T05:49:51.182501Z"
    }
   },
   "outputs": [],
   "source": [
    "dv.get('http://python.org') # 위에 열어놓은 dv가 phton홈페이지로 바뀌는데...(필수는 아닌듯)\n",
    "# 진행과정을 확인할 수 있음."
   ]
  },
  {
   "cell_type": "code",
   "execution_count": 5,
   "id": "9c8d80d2",
   "metadata": {
    "ExecuteTime": {
     "end_time": "2021-08-11T06:01:28.044758Z",
     "start_time": "2021-08-11T06:01:27.932747Z"
    }
   },
   "outputs": [],
   "source": [
    "# 동적웹크롤링은 name, id, 선택자 등 일부만 작동하도록 통제되고 있을 수도 있다.\n",
    "# 오류발생시 여러 방법을 시도해 볼것.\n",
    "elem = dv.find_element_by_name('q')\n",
    "elem.clear()\n",
    "elem.send_keys('pycon')\n",
    "# 위에서 자동으로 열리고 python홈페이지로 바꼇던 페이지의 name=q인(검색창) 부분에 pycon이 입력됨."
   ]
  },
  {
   "cell_type": "code",
   "execution_count": 8,
   "id": "1eeec58f",
   "metadata": {
    "ExecuteTime": {
     "end_time": "2021-08-11T06:01:55.074551Z",
     "start_time": "2021-08-11T06:01:53.789409Z"
    }
   },
   "outputs": [],
   "source": [
    "from selenium.webdriver.common.keys import Keys\n",
    "elem.send_keys(Keys.RETURN) # ENTER키 효과\n",
    "# 결과까지 반환되었으면 이하의 방법은 정적웹크롤링과 방법이 동일하다!!!"
   ]
  },
  {
   "cell_type": "code",
   "execution_count": 10,
   "id": "181a7d9a",
   "metadata": {
    "ExecuteTime": {
     "end_time": "2021-08-11T06:06:30.303628Z",
     "start_time": "2021-08-11T06:06:29.900215Z"
    }
   },
   "outputs": [
    {
     "name": "stdout",
     "output_type": "stream",
     "text": [
      "PSF PyCon Trademark Usage Policy - https://www.python.org/psf/trademarks/pycon\n",
      "Conferences and Workshops - https://www.python.org/community/workshops\n",
      "PyCon Italia 2016 (PyCon Sette) - https://www.python.org/events/python-events/378/\n",
      "2008-04-14 PSF Board Meeting Minutes - https://www.python.org/psf/records/board/minutes/2008-04-14\n",
      "2012-07-16 PSF Board Meeting Minutes - https://www.python.org/psf/records/board/minutes/2012-07-16\n",
      "PyCon Home at python.org - https://www.python.org/community/pycon\n",
      "2013-02-06 PSF Board Meeting Minutes - https://www.python.org/psf/records/board/minutes/2013-02-06\n",
      "PyCon Australia 2013 - https://www.python.org/events/python-events/57/\n",
      "PyCon AU 2019 - https://www.python.org/events/python-events/776/\n",
      "PyCon Australia 2014 - https://www.python.org/events/python-events/10/\n",
      "PyCon Ireland 2012 - https://www.python.org/events/python-events/76/\n",
      "PyCon Ireland 2016 - https://www.python.org/events/python-events/429/\n",
      "PyCon AU 2018 - https://www.python.org/events/python-events/696/\n",
      "PyCon Ireland 2015 - https://www.python.org/events/python-events/333/\n",
      "PyCon AU 2015 - https://www.python.org/events/python-events/273/\n",
      "PyCon PL 2014 - https://www.python.org/events/python-events/191/\n",
      "PyCon MY 2015 - https://www.python.org/events/python-events/313/\n",
      "PyCon Australia 2016 - https://www.python.org/events/python-events/357/\n",
      "PyCon MY 2014 - https://www.python.org/events/python-events/151/\n",
      "PyCon Ireland 2014 - https://www.python.org/events/python-events/149/\n"
     ]
    }
   ],
   "source": [
    "result_list = dv.find_elements_by_css_selector('li > h3 > a')\n",
    "# [r.text for r in result_list]\n",
    "for result in result_list:\n",
    "    print(\"%s - %s\" % (result.text, result.get_attribute('href')))\n",
    "    # 우클릭 - 검사시 href에는 url 전체가 있지않고 부분만 나타남에도 url주소 전체를 반환해줌. "
   ]
  },
  {
   "cell_type": "code",
   "execution_count": null,
   "id": "9c6c1375",
   "metadata": {},
   "outputs": [],
   "source": [
    "# 위에는 완료됨.\n",
    "# BeautifulSoup을 이용한 방법."
   ]
  },
  {
   "cell_type": "code",
   "execution_count": 22,
   "id": "082f26ca",
   "metadata": {
    "ExecuteTime": {
     "end_time": "2021-08-11T06:25:59.504034Z",
     "start_time": "2021-08-11T06:25:59.081230Z"
    }
   },
   "outputs": [
    {
     "name": "stdout",
     "output_type": "stream",
     "text": [
      "PSF PyCon Trademark Usage Policy - https://www.python.org/psf/trademarks/pycon\n",
      "Conferences and Workshops - https://www.python.org/community/workshops\n",
      "PyCon Italia 2016 (PyCon Sette) - https://www.python.org/events/python-events/378/\n",
      "2008-04-14 PSF Board Meeting Minutes - https://www.python.org/psf/records/board/minutes/2008-04-14\n",
      "2012-07-16 PSF Board Meeting Minutes - https://www.python.org/psf/records/board/minutes/2012-07-16\n",
      "PyCon Home at python.org - https://www.python.org/community/pycon\n",
      "2013-02-06 PSF Board Meeting Minutes - https://www.python.org/psf/records/board/minutes/2013-02-06\n",
      "PyCon Australia 2013 - https://www.python.org/events/python-events/57/\n",
      "PyCon AU 2019 - https://www.python.org/events/python-events/776/\n",
      "PyCon Australia 2014 - https://www.python.org/events/python-events/10/\n",
      "PyCon Ireland 2012 - https://www.python.org/events/python-events/76/\n",
      "PyCon Ireland 2016 - https://www.python.org/events/python-events/429/\n",
      "PyCon AU 2018 - https://www.python.org/events/python-events/696/\n",
      "PyCon Ireland 2015 - https://www.python.org/events/python-events/333/\n",
      "PyCon AU 2015 - https://www.python.org/events/python-events/273/\n",
      "PyCon PL 2014 - https://www.python.org/events/python-events/191/\n",
      "PyCon MY 2015 - https://www.python.org/events/python-events/313/\n",
      "PyCon Australia 2016 - https://www.python.org/events/python-events/357/\n",
      "PyCon MY 2014 - https://www.python.org/events/python-events/151/\n",
      "PyCon Ireland 2014 - https://www.python.org/events/python-events/149/\n"
     ]
    }
   ],
   "source": [
    "from bs4 import BeautifulSoup\n",
    "soup = BeautifulSoup(dv.page_source, \"html.parser\")\n",
    "# 정적웹크롤링에서는 url주소를 get한 content를 직접 입력해줬었는데\n",
    "# 동적웹크롤링에서는 driver가 가지고 있는 page를 참조\n",
    "# soup\n",
    "result_list in soup.select('li > h3 > a')\n",
    "for result in result_list:\n",
    "    print(\"%s - %s\" % (result.text, result.get_attribute('href')))\n",
    "#    print(\"%s - %s\" % (result.text, result.attrs([href']))라고 써준거 같은데? 확인하기!!!!!!\n",
    "    #############################################################오류!!!"
   ]
  },
  {
   "cell_type": "code",
   "execution_count": null,
   "id": "9e511716",
   "metadata": {},
   "outputs": [],
   "source": [
    "# 브라우저 종료\n",
    "dv.close()"
   ]
  },
  {
   "cell_type": "markdown",
   "id": "1b9ee596",
   "metadata": {},
   "source": [
    "### 맞춤법 검사기(네이버)"
   ]
  },
  {
   "cell_type": "code",
   "execution_count": 14,
   "id": "1f77ceb0",
   "metadata": {
    "ExecuteTime": {
     "end_time": "2021-08-11T06:45:18.839278Z",
     "start_time": "2021-08-11T06:45:15.625448Z"
    }
   },
   "outputs": [],
   "source": [
    "from selenium import webdriver\n",
    "from selenium.webdriver.common.keys import Keys \n",
    "                    # 검사하기 버튼에 enter를 클릭하는 기능을 사용하기 위해\n",
    "from bs4 import BeautifulSoup\n",
    "import time # 검사하기 클릭 후 결과출력까지 잠시 기다리기 위해.\n",
    "\n",
    "driver = webdriver.Chrome() #위에 driver의 컴퓨터상 위치로 실행한 작업이 여전히 필요한지 확인!\n",
    "driver.get('http://www.naver.com') # 브라우저를 열어서 네이버 홈페이지로 이동하는 것 까지 완료"
   ]
  },
  {
   "cell_type": "code",
   "execution_count": 15,
   "id": "fc82bf66",
   "metadata": {
    "ExecuteTime": {
     "end_time": "2021-08-11T06:45:20.942772Z",
     "start_time": "2021-08-11T06:45:19.752549Z"
    }
   },
   "outputs": [],
   "source": [
    "elem = driver.find_element_by_name('query') # 이름으로 접근이 안되면 id, 선택자 등 다른 방법을 강구해야함!\n",
    "elem.send_keys('맞춤법 검사기')\n",
    "elem.send_keys(Keys.RETURN) \n",
    "# 네이버 검색창에 '맞춤법 검사기'를 입력하고 Enter키를 눌러 창의 이동까지 완료된 상태"
   ]
  },
  {
   "cell_type": "code",
   "execution_count": 16,
   "id": "54b50cd4",
   "metadata": {
    "ExecuteTime": {
     "end_time": "2021-08-11T06:45:22.234599Z",
     "start_time": "2021-08-11T06:45:22.056569Z"
    }
   },
   "outputs": [],
   "source": [
    "textarea = driver.find_element_by_class_name('txt_gray')\n",
    "textarea.send_keys('안녕하세요. 방갑습니다.')\n",
    "# textarea.send_keys(Keys.RETURN) 여기서는 엔터를 누리면 한 칸 아래로 내려가므로 다른 명령어가 필요\n",
    "button = driver.find_element_by_class_name('btn_check')\n",
    "button.click()\n",
    "# 검사하기까지 완료."
   ]
  },
  {
   "cell_type": "code",
   "execution_count": 18,
   "id": "98af9c9a",
   "metadata": {
    "ExecuteTime": {
     "end_time": "2021-08-11T06:49:47.157814Z",
     "start_time": "2021-08-11T06:49:47.000237Z"
    }
   },
   "outputs": [
    {
     "data": {
      "text/plain": [
       "'안녕하세요. 반갑습니다.'"
      ]
     },
     "execution_count": 18,
     "metadata": {},
     "output_type": "execute_result"
    }
   ],
   "source": [
    "# 검사한 결과를 가져오려 함\n",
    "soup = BeautifulSoup(driver.page_source, \"html.parser\")\n",
    "result = soup.select_one('p._result_text.stand_txt').text \n",
    "        # 위에는 여러개의 결과를 가져와서 result_list = ---.select('---')로 했던듯?\n",
    "result"
   ]
  },
  {
   "cell_type": "code",
   "execution_count": 19,
   "id": "32e23067",
   "metadata": {
    "ExecuteTime": {
     "end_time": "2021-08-11T06:54:50.590786Z",
     "start_time": "2021-08-11T06:54:50.147540Z"
    }
   },
   "outputs": [],
   "source": [
    "driver.close()"
   ]
  },
  {
   "cell_type": "code",
   "execution_count": null,
   "id": "2cf68eb5",
   "metadata": {},
   "outputs": [],
   "source": []
  },
  {
   "cell_type": "code",
   "execution_count": 22,
   "id": "f2507c39",
   "metadata": {
    "ExecuteTime": {
     "end_time": "2021-08-11T07:06:40.011312Z",
     "start_time": "2021-08-11T07:06:30.199400Z"
    }
   },
   "outputs": [
    {
     "data": {
      "text/plain": [
       "'안녕하세요. 반갑습니다.'"
      ]
     },
     "execution_count": 22,
     "metadata": {},
     "output_type": "execute_result"
    }
   ],
   "source": [
    "from selenium import webdriver\n",
    "from selenium.webdriver.common.keys import Keys\n",
    "from bs4 import BeautifulSoup\n",
    "import time\n",
    "driver = webdriver.Chrome()\n",
    "driver.get('http://www.naver.com')\n",
    "elem = driver.find_element_by_name('query')\n",
    "elem.send_keys('맞춤법 검사기')\n",
    "elem.send_keys(Keys.RETURN)\n",
    "time.sleep(2) #####################\n",
    "textarea = driver.find_element_by_class_name('txt_gray')\n",
    "textarea.send_keys('안녕하세요. 방갑습니다.')\n",
    "button = driver.find_element_by_class_name('btn_check')\n",
    "button.click()\n",
    "time.sleep(2) #####################\n",
    "soup = BeautifulSoup(driver.page_source, \"html.parser\")\n",
    "result = soup.select_one('p._result_text.stand_txt').text \n",
    "result"
   ]
  },
  {
   "cell_type": "markdown",
   "id": "516c6041",
   "metadata": {},
   "source": [
    "# 맞춤법 검사가 안된 text파일을 맞춤법 검사가 완료된 text파일로 output"
   ]
  },
  {
   "cell_type": "code",
   "execution_count": 47,
   "id": "fdce6c74",
   "metadata": {
    "ExecuteTime": {
     "end_time": "2021-08-11T09:10:38.781527Z",
     "start_time": "2021-08-11T09:10:09.788951Z"
    },
    "scrolled": true
   },
   "outputs": [],
   "source": [
    "with open('data/맞춤법검사.txt', 'r', encoding='utf-8') as f:\n",
    "    textFile = f.read()\n",
    "ready_list = []\n",
    "while len(textFile) > 500:\n",
    "    temp_str = textFile[:500]\n",
    "    last_space_idx = temp_str.rfind(' ')\n",
    "    ready_list.append(textFile[:last_space_idx])\n",
    "    textFile = textFile[last_space_idx:] # ready_list에 append된 앞 부분을 날림\n",
    "ready_list.append(textFile) # 추가되는 500개 단위의 글자가 리스트형태로 나뉘어 추가되는듯\n",
    "# [len(ready) for ready in ready_list]\n",
    "\n",
    "driver = webdriver.Chrome()\n",
    "driver.get('http://www.naver.com')\n",
    "elem = driver.find_element_by_name('query')\n",
    "elem.send_keys('맞춤법 검사기')\n",
    "elem.send_keys(Keys.RETURN)\n",
    "time.sleep(2) #####################\n",
    "textarea = driver.find_element_by_class_name('txt_gray') # 검사기 입력창\n",
    "results = \"\"\n",
    "for ready in ready_list:\n",
    "    textarea.send_keys(Keys.CONTROL, \"a\") \n",
    "# 이 문장이 들어감으로써 텍스트의 다음 부분으로 이동???\n",
    "    textarea.send_keys(ready)\n",
    "    button = driver.find_element_by_class_name('btn_check') # '검사하기' 버튼\n",
    "    button.click()\n",
    "    time.sleep(2) #####################\n",
    "    soup = BeautifulSoup(driver.page_source, \"html.parser\")\n",
    "    result = soup.select_one('p._result_text.stand_txt').text \n",
    "    results += result.replace('.','.\\n')\n",
    "# print(results)\n",
    "with open('data/맞춤법검사_checked.txt', 'w', encoding='utf-8') as f:\n",
    "    f.write(results)\n",
    "driver.close()\n",
    "    "
   ]
  },
  {
   "cell_type": "code",
   "execution_count": null,
   "id": "57276a74",
   "metadata": {},
   "outputs": [],
   "source": []
  },
  {
   "cell_type": "code",
   "execution_count": null,
   "id": "2117b5ee",
   "metadata": {},
   "outputs": [],
   "source": []
  },
  {
   "cell_type": "code",
   "execution_count": null,
   "id": "10106eab",
   "metadata": {},
   "outputs": [],
   "source": []
  }
 ],
 "metadata": {
  "kernelspec": {
   "display_name": "Python 3 (ipykernel)",
   "language": "python",
   "name": "python3"
  },
  "language_info": {
   "codemirror_mode": {
    "name": "ipython",
    "version": 3
   },
   "file_extension": ".py",
   "mimetype": "text/x-python",
   "name": "python",
   "nbconvert_exporter": "python",
   "pygments_lexer": "ipython3",
   "version": "3.9.7"
  },
  "toc": {
   "base_numbering": 1,
   "nav_menu": {},
   "number_sections": true,
   "sideBar": true,
   "skip_h1_title": false,
   "title_cell": "Table of Contents",
   "title_sidebar": "Contents",
   "toc_cell": false,
   "toc_position": {},
   "toc_section_display": true,
   "toc_window_display": false
  },
  "varInspector": {
   "cols": {
    "lenName": 16,
    "lenType": 16,
    "lenVar": 40
   },
   "kernels_config": {
    "python": {
     "delete_cmd_postfix": "",
     "delete_cmd_prefix": "del ",
     "library": "var_list.py",
     "varRefreshCmd": "print(var_dic_list())"
    },
    "r": {
     "delete_cmd_postfix": ") ",
     "delete_cmd_prefix": "rm(",
     "library": "var_list.r",
     "varRefreshCmd": "cat(var_dic_list()) "
    }
   },
   "types_to_exclude": [
    "module",
    "function",
    "builtin_function_or_method",
    "instance",
    "_Feature"
   ],
   "window_display": false
  }
 },
 "nbformat": 4,
 "nbformat_minor": 5
}
