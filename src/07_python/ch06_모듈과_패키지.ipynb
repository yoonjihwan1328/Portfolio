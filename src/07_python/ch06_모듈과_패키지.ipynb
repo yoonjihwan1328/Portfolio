{
 "cells": [
  {
   "cell_type": "markdown",
   "id": "3b301358",
   "metadata": {
    "ExecuteTime": {
     "end_time": "2021-07-23T01:49:29.566388Z",
     "start_time": "2021-07-23T01:49:29.548408Z"
    }
   },
   "source": [
    "<b><font size=\"6\" color=\"red\">ch06. 모듈과 패키지</font></b>"
   ]
  },
  {
   "cell_type": "markdown",
   "id": "3c5d0b0d",
   "metadata": {},
   "source": [
    "## 1절. 파이썬 표준모듈 사용하기\n",
    "- 모듈이란? 함수, 변수, 클래스 등을 담고 있는 파일(*.py)\n",
    "- 파이썬 표준 모듈 200여개 인터프리터와 함께 install됨"
   ]
  },
  {
   "cell_type": "code",
   "execution_count": 7,
   "id": "ece5f009",
   "metadata": {
    "ExecuteTime": {
     "end_time": "2021-07-23T01:58:51.275733Z",
     "start_time": "2021-07-23T01:58:51.270735Z"
    }
   },
   "outputs": [
    {
     "data": {
      "text/plain": [
       "'Fri Jul 23 10:58:51 2021'"
      ]
     },
     "execution_count": 7,
     "metadata": {},
     "output_type": "execute_result"
    }
   ],
   "source": [
    "# 1. import 모듈명 : 모듈안의 함수들은 모듈명.함수() 형태로 사용\n",
    "import time # time모듈 안의 함수, 변수, 클래스가 메모리에 로드된다.\n",
    "time.ctime()\n",
    "# 한 번 import된 모듈은 kernal을 다시 시작하거나 다시 import할 명령을 입력해야 새로 import가 실시될 수 있음"
   ]
  },
  {
   "cell_type": "code",
   "execution_count": 3,
   "id": "cb4aa080",
   "metadata": {
    "ExecuteTime": {
     "end_time": "2021-07-23T01:55:16.259315Z",
     "start_time": "2021-07-23T01:55:16.247368Z"
    }
   },
   "outputs": [
    {
     "data": {
      "text/plain": [
       "1627005316.2483828"
      ]
     },
     "execution_count": 3,
     "metadata": {},
     "output_type": "execute_result"
    }
   ],
   "source": [
    "time.time() # 1970년 1월 1일 이후 밀리세컨"
   ]
  },
  {
   "cell_type": "code",
   "execution_count": null,
   "id": "ad40d47e",
   "metadata": {},
   "outputs": [],
   "source": [
    "del time # time모듈을 메모리에서 unload"
   ]
  },
  {
   "cell_type": "code",
   "execution_count": 4,
   "id": "9a499b0a",
   "metadata": {
    "ExecuteTime": {
     "end_time": "2021-07-23T01:58:34.162650Z",
     "start_time": "2021-07-23T01:58:34.151701Z"
    }
   },
   "outputs": [
    {
     "data": {
      "text/plain": [
       "'Fri Jul 23 10:58:34 2021'"
      ]
     },
     "execution_count": 4,
     "metadata": {},
     "output_type": "execute_result"
    }
   ],
   "source": [
    "# 2. from 모듈명 import 함수명\n",
    "#    from 패키지명 import 모듈명 : 패키지는 폴더, 모듈은 .py파일\n",
    "#    from 패키지명.모듈명 import 함수명\n",
    "from time import ctime\n",
    "ctime()"
   ]
  },
  {
   "cell_type": "code",
   "execution_count": 10,
   "id": "39bebfa2",
   "metadata": {
    "ExecuteTime": {
     "end_time": "2021-07-23T02:02:00.473373Z",
     "start_time": "2021-07-23T02:02:00.454412Z"
    }
   },
   "outputs": [
    {
     "ename": "SyntaxError",
     "evalue": "cannot delete function call (<ipython-input-10-aa0b12309a29>, line 1)",
     "output_type": "error",
     "traceback": [
      "\u001b[1;36m  File \u001b[1;32m\"<ipython-input-10-aa0b12309a29>\"\u001b[1;36m, line \u001b[1;32m1\u001b[0m\n\u001b[1;33m    del ctime()\u001b[0m\n\u001b[1;37m        ^\u001b[0m\n\u001b[1;31mSyntaxError\u001b[0m\u001b[1;31m:\u001b[0m cannot delete function call\n"
     ]
    }
   ],
   "source": [
    "del ctime() # 메모리에 있는 ctime함수를 unload"
   ]
  },
  {
   "cell_type": "code",
   "execution_count": 14,
   "id": "b58608a3",
   "metadata": {
    "ExecuteTime": {
     "end_time": "2021-07-23T02:04:06.183163Z",
     "start_time": "2021-07-23T02:04:06.166209Z"
    }
   },
   "outputs": [
    {
     "data": {
      "text/plain": [
       "'Fri Jul 23 11:04:06 2021'"
      ]
     },
     "execution_count": 14,
     "metadata": {},
     "output_type": "execute_result"
    }
   ],
   "source": [
    "# 3. import 모듈명 as 별칭 : 모듈을 메모리에서 로드하고 별칭을 통해 호출할 수 있음.\n",
    "import time as t\n",
    "t.ctime()"
   ]
  },
  {
   "cell_type": "code",
   "execution_count": 13,
   "id": "d50d537c",
   "metadata": {
    "ExecuteTime": {
     "end_time": "2021-07-23T02:04:03.236022Z",
     "start_time": "2021-07-23T02:04:03.222246Z"
    }
   },
   "outputs": [
    {
     "data": {
      "text/plain": [
       "1627005843.2222462"
      ]
     },
     "execution_count": 13,
     "metadata": {},
     "output_type": "execute_result"
    }
   ],
   "source": [
    "t.time()"
   ]
  },
  {
   "cell_type": "code",
   "execution_count": 15,
   "id": "6d31fdd4",
   "metadata": {
    "ExecuteTime": {
     "end_time": "2021-07-23T02:06:52.783051Z",
     "start_time": "2021-07-23T02:06:52.775050Z"
    }
   },
   "outputs": [
    {
     "data": {
      "text/plain": [
       "'Fri Jul 23 11:06:52 2021'"
      ]
     },
     "execution_count": 15,
     "metadata": {},
     "output_type": "execute_result"
    }
   ],
   "source": [
    "# 4. from 모듈명 imoport 함수명 as 별칭\n",
    "#    from 패키지명 import 모듈명 as 별칭\n",
    "#    from 패키지명.모듈명 import 함수명 as 별칭\n",
    "from time import ctime as ct\n",
    "ct()"
   ]
  },
  {
   "cell_type": "code",
   "execution_count": 16,
   "id": "fcd6c95e",
   "metadata": {
    "ExecuteTime": {
     "end_time": "2021-07-23T02:06:59.163831Z",
     "start_time": "2021-07-23T02:06:59.157841Z"
    }
   },
   "outputs": [],
   "source": [
    "del ct"
   ]
  },
  {
   "cell_type": "code",
   "execution_count": 17,
   "id": "b4042ff9",
   "metadata": {
    "ExecuteTime": {
     "end_time": "2021-07-23T02:07:14.215946Z",
     "start_time": "2021-07-23T02:07:14.197881Z"
    }
   },
   "outputs": [],
   "source": [
    "import time"
   ]
  },
  {
   "cell_type": "code",
   "execution_count": null,
   "id": "6d67da6b",
   "metadata": {},
   "outputs": [],
   "source": [
    "dir(time) # time내 변수, 함수, 클래스 등을 list로 출력\n",
    "          # 유닉스 리눅스 명령어 dir : 디렉터리와 파일의 목록을 출력한다."
   ]
  },
  {
   "cell_type": "code",
   "execution_count": 19,
   "id": "55ce4221",
   "metadata": {
    "ExecuteTime": {
     "end_time": "2021-07-23T02:08:59.786542Z",
     "start_time": "2021-07-23T02:08:59.781555Z"
    }
   },
   "outputs": [],
   "source": [
    "import numpy as np"
   ]
  },
  {
   "cell_type": "code",
   "execution_count": null,
   "id": "6570ceb6",
   "metadata": {},
   "outputs": [],
   "source": [
    "dir(np)"
   ]
  },
  {
   "cell_type": "code",
   "execution_count": 2,
   "id": "20ed8f53",
   "metadata": {
    "ExecuteTime": {
     "end_time": "2021-08-06T01:52:05.629299Z",
     "start_time": "2021-08-06T01:52:05.315141Z"
    }
   },
   "outputs": [],
   "source": [
    "import pandas as pd"
   ]
  },
  {
   "cell_type": "code",
   "execution_count": null,
   "id": "e1bffbec",
   "metadata": {},
   "outputs": [],
   "source": [
    "dir(pd)"
   ]
  },
  {
   "cell_type": "code",
   "execution_count": 25,
   "id": "befcd4f1",
   "metadata": {
    "ExecuteTime": {
     "end_time": "2021-07-23T02:13:55.668049Z",
     "start_time": "2021-07-23T02:13:55.653101Z"
    }
   },
   "outputs": [
    {
     "name": "stdout",
     "output_type": "stream",
     "text": [
      "['__doc__', '__loader__', '__name__', '__package__', '__spec__', 'acos', 'acosh', 'asin', 'asinh', 'atan', 'atan2', 'atanh', 'ceil', 'comb', 'copysign', 'cos', 'cosh', 'degrees', 'dist', 'e', 'erf', 'erfc', 'exp', 'expm1', 'fabs', 'factorial', 'floor', 'fmod', 'frexp', 'fsum', 'gamma', 'gcd', 'hypot', 'inf', 'isclose', 'isfinite', 'isinf', 'isnan', 'isqrt', 'ldexp', 'lgamma', 'log', 'log10', 'log1p', 'log2', 'modf', 'nan', 'perm', 'pi', 'pow', 'prod', 'radians', 'remainder', 'sin', 'sinh', 'sqrt', 'tan', 'tanh', 'tau', 'trunc']\n"
     ]
    }
   ],
   "source": [
    "import math\n",
    "print(dir(math))"
   ]
  },
  {
   "cell_type": "code",
   "execution_count": null,
   "id": "0cfc4361",
   "metadata": {},
   "outputs": [],
   "source": [
    "# anaconda prompt에서\n",
    "#    conda list pandas\n",
    "#    pip show pandas 로 pandas모듈(?)패키지(?)가 있는지 확인할 수 있음."
   ]
  },
  {
   "cell_type": "markdown",
   "id": "0d0302ba",
   "metadata": {},
   "source": [
    "``` \n",
    "import A                 - A 모듈을 가져옴\n",
    "import A as B            - A 모듈을 B이름으로 가져옴\n",
    "from A import B          - A 모듈 안의 B함수(A패키지 안의 B모듈)을 가져옴\n",
    "from A import B as C     - A 모듈 안의 B함수(A패키지 안의 B모듈)을 C이름으로 가져옴\n",
    "from A,B import C        - A패키지 안의 B모듈의 C함수를 가져옴\n",
    "from A,B import C as D   - A패키지 안의 B모듈의 C함수를 D이름으로 가져옴\n",
    "```"
   ]
  },
  {
   "cell_type": "code",
   "execution_count": 6,
   "id": "09a41f12",
   "metadata": {
    "ExecuteTime": {
     "end_time": "2021-08-10T02:33:24.910998Z",
     "start_time": "2021-08-10T02:33:22.952511Z"
    }
   },
   "outputs": [
    {
     "name": "stdout",
     "output_type": "stream",
     "text": [
      "Name: pandas\n",
      "Version: 1.2.4\n",
      "Summary: Powerful data structures for data analysis, time series, and statistics\n",
      "Home-page: https://pandas.pydata.org\n",
      "Author: None\n",
      "Author-email: None\n",
      "License: BSD\n",
      "Location: c:\\users\\tjoeun\\anaconda3\\lib\\site-packages\n",
      "Requires: numpy, python-dateutil, pytz\n",
      "Required-by: statsmodels, seaborn\n",
      "Note: you may need to restart the kernel to use updated packages.\n"
     ]
    }
   ],
   "source": [
    "pip show pandas"
   ]
  },
  {
   "cell_type": "markdown",
   "id": "41a76fee",
   "metadata": {},
   "source": [
    "## 2절. 사용자정의 모듈\n",
    "- 함수나 클래스 등을 파이썬 파일에 저장해서 모듈을 만들고 재사용할 수 있음.\n",
    "- 모듈을 가져오는 순서 : (1)내장 모듈 -> (2)sys.path변수에 저장된 경로"
   ]
  },
  {
   "cell_type": "code",
   "execution_count": null,
   "id": "7fbe615d",
   "metadata": {},
   "outputs": [],
   "source": [
    "import sys\n",
    "sys.path"
   ]
  },
  {
   "cell_type": "code",
   "execution_count": 2,
   "id": "5b00afd8",
   "metadata": {
    "ExecuteTime": {
     "end_time": "2021-08-10T02:29:54.773017Z",
     "start_time": "2021-08-10T02:29:54.648126Z"
    }
   },
   "outputs": [],
   "source": [
    "import path"
   ]
  },
  {
   "cell_type": "code",
   "execution_count": 3,
   "id": "f1d4f073",
   "metadata": {
    "ExecuteTime": {
     "end_time": "2021-08-10T02:29:56.165244Z",
     "start_time": "2021-08-10T02:29:56.153275Z"
    }
   },
   "outputs": [
    {
     "data": {
      "text/plain": [
       "['D:\\\\bigdata\\\\src\\\\07_Python',\n",
       " 'C:\\\\Users\\\\tjoeun\\\\anaconda3\\\\python38.zip',\n",
       " 'C:\\\\Users\\\\tjoeun\\\\anaconda3\\\\DLLs',\n",
       " 'C:\\\\Users\\\\tjoeun\\\\anaconda3\\\\lib',\n",
       " 'C:\\\\Users\\\\tjoeun\\\\anaconda3',\n",
       " '',\n",
       " 'C:\\\\Users\\\\tjoeun\\\\anaconda3\\\\lib\\\\site-packages',\n",
       " 'C:\\\\Users\\\\tjoeun\\\\anaconda3\\\\lib\\\\site-packages\\\\locket-0.2.1-py3.8.egg',\n",
       " 'C:\\\\Users\\\\tjoeun\\\\anaconda3\\\\lib\\\\site-packages\\\\win32',\n",
       " 'C:\\\\Users\\\\tjoeun\\\\anaconda3\\\\lib\\\\site-packages\\\\win32\\\\lib',\n",
       " 'C:\\\\Users\\\\tjoeun\\\\anaconda3\\\\lib\\\\site-packages\\\\Pythonwin',\n",
       " 'C:\\\\Users\\\\tjoeun\\\\anaconda3\\\\lib\\\\site-packages\\\\IPython\\\\extensions',\n",
       " 'C:\\\\Users\\\\tjoeun\\\\.ipython',\n",
       " 'D:\\\\bigdata\\\\src\\\\pylib']"
      ]
     },
     "execution_count": 3,
     "metadata": {},
     "output_type": "execute_result"
    }
   ],
   "source": [
    "import sys\n",
    "sys.path.append(r\"D:\\bigdata\\src\\pylib\")\n",
    "sys.path"
   ]
  },
  {
   "cell_type": "code",
   "execution_count": null,
   "id": "d79422e0",
   "metadata": {},
   "outputs": [],
   "source": [
    "# 사용자 정의 모듈 및 패키지를 저장할 D:\\bigdata\\src\\pylib 폴더 생성\n",
    "1) 메모장으로 만들기\n",
    "2) jupyternotebook에서 스크립트를 작성하고 file - Download as 에서 .py 파일로 저장\n",
    "3) vsCode 혹은 pycharm으로 생성"
   ]
  },
  {
   "cell_type": "code",
   "execution_count": 4,
   "id": "891ffadb",
   "metadata": {
    "ExecuteTime": {
     "end_time": "2021-08-10T02:29:58.014236Z",
     "start_time": "2021-08-10T02:29:57.978200Z"
    }
   },
   "outputs": [],
   "source": [
    "import fibonacci\n",
    "# 위 경로에 fibonacci.py파일이 있어야 import 성공."
   ]
  },
  {
   "cell_type": "code",
   "execution_count": 10,
   "id": "25aa30b7",
   "metadata": {
    "ExecuteTime": {
     "end_time": "2021-07-23T03:49:31.857703Z",
     "start_time": "2021-07-23T03:49:31.850710Z"
    }
   },
   "outputs": [
    {
     "name": "stdout",
     "output_type": "stream",
     "text": [
      "0 1 1 2 3 5 8 13 21 34 55 89 144 233 \n"
     ]
    }
   ],
   "source": [
    "fibonacci.fibo_print(300)"
   ]
  },
  {
   "cell_type": "code",
   "execution_count": 11,
   "id": "6b2fce3c",
   "metadata": {
    "ExecuteTime": {
     "end_time": "2021-07-23T03:49:46.077946Z",
     "start_time": "2021-07-23T03:49:46.059017Z"
    }
   },
   "outputs": [
    {
     "data": {
      "text/plain": [
       "[0, 1, 1, 2, 3, 5, 8, 13, 21, 34, 55, 89]"
      ]
     },
     "execution_count": 11,
     "metadata": {},
     "output_type": "execute_result"
    }
   ],
   "source": [
    "fibonacci.fibo_return(100)"
   ]
  },
  {
   "cell_type": "code",
   "execution_count": 12,
   "id": "7441dc1d",
   "metadata": {
    "ExecuteTime": {
     "end_time": "2021-07-23T03:52:07.588969Z",
     "start_time": "2021-07-23T03:52:07.580967Z"
    }
   },
   "outputs": [],
   "source": [
    "del fibonacci"
   ]
  },
  {
   "cell_type": "code",
   "execution_count": 13,
   "id": "0366c8c3",
   "metadata": {
    "ExecuteTime": {
     "end_time": "2021-07-23T03:52:31.909165Z",
     "start_time": "2021-07-23T03:52:31.893542Z"
    }
   },
   "outputs": [
    {
     "name": "stdout",
     "output_type": "stream",
     "text": [
      "0 1 1 2 3 5 8 13 21 34 55 89 144 233 \n"
     ]
    }
   ],
   "source": [
    "import fibonacci as f\n",
    "f.fibo_print(300)"
   ]
  },
  {
   "cell_type": "code",
   "execution_count": 14,
   "id": "a8c5b04e",
   "metadata": {
    "ExecuteTime": {
     "end_time": "2021-07-23T03:53:27.884277Z",
     "start_time": "2021-07-23T03:53:27.866325Z"
    }
   },
   "outputs": [],
   "source": [
    "del f"
   ]
  },
  {
   "cell_type": "code",
   "execution_count": 15,
   "id": "2eba84ee",
   "metadata": {
    "ExecuteTime": {
     "end_time": "2021-07-23T03:53:36.387328Z",
     "start_time": "2021-07-23T03:53:36.378333Z"
    }
   },
   "outputs": [],
   "source": [
    "from fibonacci import fibo_print, fibo_return"
   ]
  },
  {
   "cell_type": "code",
   "execution_count": 16,
   "id": "6c57997d",
   "metadata": {
    "ExecuteTime": {
     "end_time": "2021-07-23T03:54:47.555188Z",
     "start_time": "2021-07-23T03:54:47.546190Z"
    }
   },
   "outputs": [],
   "source": [
    "del fibo_print, fibo_return"
   ]
  },
  {
   "cell_type": "code",
   "execution_count": 17,
   "id": "cf2c3546",
   "metadata": {
    "ExecuteTime": {
     "end_time": "2021-07-23T03:55:17.672528Z",
     "start_time": "2021-07-23T03:55:17.658566Z"
    }
   },
   "outputs": [
    {
     "name": "stdout",
     "output_type": "stream",
     "text": [
      "0 1 1 2 3 5 8 13 21 34 55 89 144 233 \n"
     ]
    }
   ],
   "source": [
    "from fibonacci import fibo_print as fibo_p\n",
    "fibo_p(300)"
   ]
  },
  {
   "cell_type": "markdown",
   "id": "995861ef",
   "metadata": {},
   "source": [
    "## 3절. 패키지"
   ]
  },
  {
   "cell_type": "code",
   "execution_count": 7,
   "id": "e2600040",
   "metadata": {
    "ExecuteTime": {
     "end_time": "2021-08-10T04:44:15.293062Z",
     "start_time": "2021-08-10T04:44:15.282063Z"
    }
   },
   "outputs": [],
   "source": [
    "import sys\n",
    "sys.path.append('D:/bigdata/src/pylib')"
   ]
  },
  {
   "cell_type": "code",
   "execution_count": 8,
   "id": "e0bf5aaf",
   "metadata": {
    "ExecuteTime": {
     "end_time": "2021-08-10T04:44:16.881006Z",
     "start_time": "2021-08-10T04:44:16.861058Z"
    }
   },
   "outputs": [
    {
     "name": "stdout",
     "output_type": "stream",
     "text": [
      "sample_pac 패키지 로드합니다\n"
     ]
    }
   ],
   "source": [
    "import sample_pac "
   ]
  },
  {
   "cell_type": "code",
   "execution_count": 9,
   "id": "027283b9",
   "metadata": {
    "ExecuteTime": {
     "end_time": "2021-08-10T04:44:18.738029Z",
     "start_time": "2021-08-10T04:44:18.717106Z"
    }
   },
   "outputs": [
    {
     "ename": "AttributeError",
     "evalue": "module 'sample_pac' has no attribute 'ab'",
     "output_type": "error",
     "traceback": [
      "\u001b[1;31m---------------------------------------------------------------------------\u001b[0m",
      "\u001b[1;31mAttributeError\u001b[0m                            Traceback (most recent call last)",
      "\u001b[1;32m<ipython-input-9-724f91be4eaf>\u001b[0m in \u001b[0;36m<module>\u001b[1;34m\u001b[0m\n\u001b[1;32m----> 1\u001b[1;33m \u001b[0msample_pac\u001b[0m\u001b[1;33m.\u001b[0m\u001b[0mab\u001b[0m\u001b[1;33m.\u001b[0m\u001b[0ma\u001b[0m\u001b[1;33m.\u001b[0m\u001b[0mhello\u001b[0m\u001b[1;33m(\u001b[0m\u001b[1;33m)\u001b[0m \u001b[1;31m# 상위 패키지를 import 한다고 하위패키지가 import되지 않습니다.\u001b[0m\u001b[1;33m\u001b[0m\u001b[1;33m\u001b[0m\u001b[0m\n\u001b[0m",
      "\u001b[1;31mAttributeError\u001b[0m: module 'sample_pac' has no attribute 'ab'"
     ]
    }
   ],
   "source": [
    "sample_pac.ab.a.hello() # 상위 패키지를 import 한다고 하위패키지가 import되지 않습니다."
   ]
  },
  {
   "cell_type": "code",
   "execution_count": 10,
   "id": "7bfaad85",
   "metadata": {
    "ExecuteTime": {
     "end_time": "2021-08-10T04:44:20.408035Z",
     "start_time": "2021-08-10T04:44:20.397037Z"
    }
   },
   "outputs": [
    {
     "name": "stdout",
     "output_type": "stream",
     "text": [
      "sample_pac 패키지 안의 ab 패키지 로드\n"
     ]
    }
   ],
   "source": [
    "import sample_pac.ab.a"
   ]
  },
  {
   "cell_type": "code",
   "execution_count": 11,
   "id": "06b04e55",
   "metadata": {
    "ExecuteTime": {
     "end_time": "2021-08-10T04:44:24.756913Z",
     "start_time": "2021-08-10T04:44:24.748906Z"
    }
   },
   "outputs": [
    {
     "name": "stdout",
     "output_type": "stream",
     "text": [
      "Hellp - ab.a모듈 안\n"
     ]
    }
   ],
   "source": [
    "sample_pac.ab.a.hello()"
   ]
  },
  {
   "cell_type": "code",
   "execution_count": 12,
   "id": "76e0b064",
   "metadata": {
    "ExecuteTime": {
     "end_time": "2021-08-10T04:44:27.114228Z",
     "start_time": "2021-08-10T04:44:27.101254Z"
    }
   },
   "outputs": [
    {
     "name": "stdout",
     "output_type": "stream",
     "text": [
      "world - ab.b모듈 안\n"
     ]
    }
   ],
   "source": [
    "from sample_pac.ab import b\n",
    "b.world()"
   ]
  },
  {
   "cell_type": "code",
   "execution_count": 13,
   "id": "0e1755b8",
   "metadata": {
    "ExecuteTime": {
     "end_time": "2021-08-10T04:44:28.756087Z",
     "start_time": "2021-08-10T04:44:28.749119Z"
    }
   },
   "outputs": [],
   "source": [
    "# 커널 재시작 sys.path추가\n",
    "import sys\n",
    "sys.path.append('D:/bigdata/src/pylib')"
   ]
  },
  {
   "cell_type": "code",
   "execution_count": 14,
   "id": "3c5b5ca3",
   "metadata": {
    "ExecuteTime": {
     "end_time": "2021-08-10T04:44:30.848969Z",
     "start_time": "2021-08-10T04:44:30.845000Z"
    }
   },
   "outputs": [],
   "source": [
    "from sample_pac.ab import * # 해당 폴더/패키지 안에 있는 모든 항목을 import할 수 있지만 메모리가 과소비될 수 있으니 조심!"
   ]
  },
  {
   "cell_type": "code",
   "execution_count": 16,
   "id": "e814c53b",
   "metadata": {
    "ExecuteTime": {
     "end_time": "2021-08-10T04:44:45.022799Z",
     "start_time": "2021-08-10T04:44:45.004848Z"
    }
   },
   "outputs": [
    {
     "name": "stdout",
     "output_type": "stream",
     "text": [
      "Hellp - ab.a모듈 안\n"
     ]
    }
   ],
   "source": [
    "a.hello()\n",
    "# __init.py__에 __all__을 추가해서 실행되야하는데 안되는중##### 됨.^^"
   ]
  },
  {
   "cell_type": "code",
   "execution_count": 21,
   "id": "52276e87",
   "metadata": {
    "ExecuteTime": {
     "end_time": "2021-08-10T05:03:14.371796Z",
     "start_time": "2021-08-10T05:03:14.365832Z"
    }
   },
   "outputs": [
    {
     "name": "stdout",
     "output_type": "stream",
     "text": [
      "world - ab.b모듈 안\n"
     ]
    }
   ],
   "source": [
    "b.world()"
   ]
  },
  {
   "cell_type": "code",
   "execution_count": 25,
   "id": "c1392b7e",
   "metadata": {
    "ExecuteTime": {
     "end_time": "2021-08-10T05:07:22.170469Z",
     "start_time": "2021-08-10T05:07:22.158501Z"
    }
   },
   "outputs": [],
   "source": [
    "# cd패키지는 ab패키지의 일부(a)를 참조\n",
    "# from sample_pac.cd.c as c\n",
    "from sample_pac.cd import c\n",
    "# __init__에 있는 print(최소한 'sample_pac 패키지 안의 cd 패키지 로드')가 출력되야하는것 아닌가?\n",
    "# a도 import하는 명령이 들어있기까지 한데...\n",
    "'''\n",
    "모범답안에는 아래 3줄이 출력되는중...\n",
    "sample_pac 패키지 로드합니다\n",
    "sample_pac 패키지 안의 cd 패키지 로드\n",
    "sample_pac 패키지 안의 ab 패키지 로드\n",
    "'''"
   ]
  },
  {
   "cell_type": "code",
   "execution_count": 24,
   "id": "b84e1606",
   "metadata": {
    "ExecuteTime": {
     "end_time": "2021-08-10T05:05:06.762921Z",
     "start_time": "2021-08-10T05:05:06.749934Z"
    }
   },
   "outputs": [
    {
     "name": "stdout",
     "output_type": "stream",
     "text": [
      "nice - c모듈안\n",
      "Hellp - ab.a모듈 안\n"
     ]
    }
   ],
   "source": [
    "c.nice()"
   ]
  },
  {
   "cell_type": "code",
   "execution_count": 23,
   "id": "127e2e7f",
   "metadata": {
    "ExecuteTime": {
     "end_time": "2021-08-10T05:04:58.572924Z",
     "start_time": "2021-08-10T05:04:58.557963Z"
    }
   },
   "outputs": [
    {
     "name": "stdout",
     "output_type": "stream",
     "text": [
      "Hellp - ab.a모듈 안\n"
     ]
    }
   ],
   "source": [
    "a.hello()"
   ]
  },
  {
   "cell_type": "markdown",
   "id": "a0be795b",
   "metadata": {},
   "source": [
    "## 4절. 패키지 설치(표준 패키지 외) 및 삭제"
   ]
  },
  {
   "cell_type": "code",
   "execution_count": 4,
   "id": "0ad96dd0",
   "metadata": {
    "ExecuteTime": {
     "end_time": "2021-07-23T06:10:36.406248Z",
     "start_time": "2021-07-23T06:10:36.384305Z"
    }
   },
   "outputs": [],
   "source": [
    "import objgraph"
   ]
  },
  {
   "cell_type": "code",
   "execution_count": null,
   "id": "46156d12",
   "metadata": {},
   "outputs": [],
   "source": [
    "# 패키지 이름으로 설치\n",
    "# - pip install 패키지명          -> 설치 후 제대로 깔렸는지 확인까지!!\n",
    "                                    # pip show 패키지명\n",
    "                                    # pip show에서 출력해주는 location을 확인하면 패키지 폴더가 생성되어 있음!\n",
    "# - conda install 패키지명\n",
    "    # 둘 중 하나만 사용할 것을 추천,\n",
    "    # 둘 중 하나로는 인스톨이 실행되고 나머지 명령으로는 인스톨 안되는 경우가 발생하기도 함!!!\n",
    "\n",
    "# whl 파일을 이용한 설치 : 비공식적인(?) 패키지를 다운받아 사용할 때? \n",
    "                         # 공식적으로 배포된 패키지는 위의 방법으로\n",
    "    # python -m pop install whl파일명\n",
    "    \n",
    "# 패키지 관리\n",
    "    # conda list 패키지명\n",
    "    # conda remove 패키지명\n",
    "    # pip uninstall 패키지명"
   ]
  },
  {
   "cell_type": "code",
   "execution_count": 6,
   "id": "caeb3577",
   "metadata": {
    "ExecuteTime": {
     "end_time": "2021-07-23T06:11:08.819654Z",
     "start_time": "2021-07-23T06:11:08.715049Z"
    }
   },
   "outputs": [
    {
     "name": "stdout",
     "output_type": "stream",
     "text": [
      "dict       23453\n",
      "list       16427\n",
      "function   16013\n",
      "Operator   10823\n",
      "tuple      9036\n",
      "Name       6784\n",
      "PythonNode 6296\n",
      "DFAPlan    5405\n",
      "weakref    3077\n",
      "NFAArc     2730\n"
     ]
    }
   ],
   "source": [
    "objgraph.show_most_common_types() # 메모리 사용량 출력"
   ]
  }
 ],
 "metadata": {
  "kernelspec": {
   "display_name": "Python 3",
   "language": "python",
   "name": "python3"
  },
  "language_info": {
   "codemirror_mode": {
    "name": "ipython",
    "version": 3
   },
   "file_extension": ".py",
   "mimetype": "text/x-python",
   "name": "python",
   "nbconvert_exporter": "python",
   "pygments_lexer": "ipython3",
   "version": "3.8.8"
  },
  "toc": {
   "base_numbering": 1,
   "nav_menu": {},
   "number_sections": true,
   "sideBar": true,
   "skip_h1_title": false,
   "title_cell": "Table of Contents",
   "title_sidebar": "Contents",
   "toc_cell": false,
   "toc_position": {
    "height": "calc(100% - 180px)",
    "left": "10px",
    "top": "150px",
    "width": "247px"
   },
   "toc_section_display": true,
   "toc_window_display": true
  },
  "varInspector": {
   "cols": {
    "lenName": 16,
    "lenType": 16,
    "lenVar": 40
   },
   "kernels_config": {
    "python": {
     "delete_cmd_postfix": "",
     "delete_cmd_prefix": "del ",
     "library": "var_list.py",
     "varRefreshCmd": "print(var_dic_list())"
    },
    "r": {
     "delete_cmd_postfix": ") ",
     "delete_cmd_prefix": "rm(",
     "library": "var_list.r",
     "varRefreshCmd": "cat(var_dic_list()) "
    }
   },
   "types_to_exclude": [
    "module",
    "function",
    "builtin_function_or_method",
    "instance",
    "_Feature"
   ],
   "window_display": false
  }
 },
 "nbformat": 4,
 "nbformat_minor": 5
}
