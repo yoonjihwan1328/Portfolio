{
 "cells": [
  {
   "cell_type": "code",
   "execution_count": 12,
   "id": "f4b48c32",
   "metadata": {
    "ExecuteTime": {
     "end_time": "2022-05-24T20:06:39.465718Z",
     "start_time": "2022-05-24T20:04:00.324653Z"
    }
   },
   "outputs": [],
   "source": [
    "from bs4 import BeautifulSoup\n",
    "import requests\n",
    "import urllib.request as req\n",
    "import pandas as pd\n",
    "import folium\n",
    "import webbrowser\n",
    "\n",
    "# 1단계 : 서울 문화공간 위치정보(주소) 획득\n",
    "key = '4a6353746b796a68333079486b464e' # 7549474863796a68383358725a7975\n",
    "url1 = 'http://openAPI.seoul.go.kr:8088/' + key + '/xml/SearchCulturalFacilitiesAddressService/1/1000'\n",
    "save_attrfile_path = 'C:/Users/Performance/Desktop/Fist/src/ch15_attr_xmlfile.xml'\n",
    "req.urlretrieve(url1, save_attrfile_path)\n",
    "\n",
    "attr_xml = open(save_attrfile_path, 'r', encoding='utf-8').read() \n",
    "soup = BeautifulSoup(attr_xml, 'xml')\n",
    "\n",
    "attr_list = []\n",
    "for row in soup.select('row'):\n",
    "    fac_code = row.select_one('FAC_CODE').text\n",
    "    subjcode = row.select_one('SUBJCODE').text\n",
    "    codename = row.select_one('CODENAME').text\n",
    "    fac_name = row.select_one('FAC_NAME').text\n",
    "#     main_img = row.select_one('MAIN_IMG') ######AttributeError: 'NoneType' object has no attribute 'text'##########\n",
    "    addr = row.select_one('ADDR').text.replace(' )','')\n",
    "#     attr_list.append( {'fac_code' : fac_code, 'subj_code' : subjcode, 'codename' : codename, 'fac_name' : fac_name, 'main_img' : main_img, 'addr' : addr} )\n",
    "    attr_list.append( {'fac_code' : fac_code, 'subj_code' : subjcode, 'codename' : codename, 'fac_name' : fac_name, 'addr' : addr} )\n",
    "df_attr = pd.DataFrame(attr_list)\n",
    "\n",
    "\n",
    "\n",
    "# 2단계 : 위치정보(주소)를 좌표로 변환\n",
    "url2 = 'http://api.vworld.kr/req/address?service=address&request=getCoord&version=2.0&crs=epsg:4326&format=json&key=EA773332-297D-38CA-9A54-76F66D21A455&type=parcel'\n",
    "addr_list = []\n",
    "for idx, addr in enumerate(df_attr['addr']):\n",
    "    try:\n",
    "        resp = requests.get(url2 + '&address=' + addr)\n",
    "        addr_json = resp.json()\n",
    "        if addr_json['response']['status'] == 'OK':\n",
    "            dic = {}\n",
    "            dic['level2'] = addr_json['response']['refined']['structure']['level2']\n",
    "            dic['x'] = addr_json['response']['result']['point']['x']\n",
    "            dic['y'] = addr_json['response']['result']['point']['y']\n",
    "            addr_list.append(dic)\n",
    "        elif addr_json['response']['status'] == 'NOT_FOUND':\n",
    "            url2 = 'http://api.vworld.kr/req/address?service=address&request=getCoord&version=2.0&crs=epsg:4326&format=json&key=EA773332-297D-38CA-9A54-76F66D21A455&type=road'\n",
    "            resp2 = requests.get(url2 + '&address=' + addr)\n",
    "            addr_json = resp2.json()\n",
    "            if addr_json['response']['status'] == 'OK':\n",
    "                dic = {}\n",
    "                dic['level2'] = addr_json['response']['refined']['structure']['level2']\n",
    "                dic['x'] = addr_json['response']['result']['point']['x']\n",
    "                dic['y'] = addr_json['response']['result']['point']['y']\n",
    "                addr_list.append(dic)\n",
    "            else:\n",
    "                dic = {}\n",
    "                dic['level2'] = None\n",
    "                dic['x'] = None\n",
    "                dic['y'] = None\n",
    "                addr_list.append(dic)                \n",
    "        else:\n",
    "            dic = {}\n",
    "            dic['level2'] = None\n",
    "            dic['x'] = None\n",
    "            dic['y'] = None\n",
    "            addr_list.append(dic)\n",
    "    except Exception:\n",
    "        dic = {}\n",
    "        dic['level2'] = None\n",
    "        dic['x'] = None\n",
    "        dic['y'] = None\n",
    "        addr_list.append(dic)\n",
    "df_addr = pd.DataFrame(addr_list)\n",
    "\n",
    "if df_attr.iloc[:,0].size == df_addr.iloc[:,0].size:\n",
    "    df_combine = pd.concat([df_attr, df_addr], axis = 1)\n",
    "else:\n",
    "    print('두 데이터프레임의 행 수가 일치하지 않습니다.')\n",
    "\n",
    "# 기능 정의 : fn1 - 행정구역별 문화시설 조회\n",
    "def fn1_by_district():\n",
    "\n",
    "    gu = ['강남구', '강동구','강북구','강서구', '관악구', '광진구', '구로구', '금천구', '노원구', '도봉구', '동대문구',\\\n",
    "          '동작구', '마포구', '서대문구', '서초구', '성동구', '성북구', '송파구', '양천구','영등포구', '용산구', '은평구',\\\n",
    "          '종로구', '중구', '중랑구' ]\n",
    "    dist_list = []\n",
    "    while True:\n",
    "        dist_input = input('희망하는 지역의 행정구역(구)를 입력해주세요 (마지막에 공백을 입력함으로써 입력을 완료함) : ')\n",
    "        if dist_input == '':\n",
    "            break\n",
    "        if (dist_input in gu) == True:\n",
    "            dist_list.append(dist_input)\n",
    "        else:\n",
    "            print('입력값을 다시 확인해 주세요')\n",
    "            \n",
    "    df_list = []\n",
    "    for dist in dist_list:\n",
    "        df_list.append(df_combine[df_combine['level2']==dist])    \n",
    "    df_result1 = pd.concat(df_list)\n",
    "\n",
    "    hex_color = ['#ff4900', '#fe9a01', '#eae000', '#268b4a', '1e88f7', '#2d1f5d', '#8d0ae0' ]\n",
    "    lat_mean = df_result1['y'].astype('float').mean()\n",
    "    long_mean = df_result1['x'].astype('float').mean()\n",
    "    m = folium.Map([lat_mean, long_mean], zoom_start = 14)\n",
    "\n",
    "    result1_by_subj = []\n",
    "    for idx, i in enumerate(df_result1['subj_code'].unique()): # enumerate를 생각해낸게 해결법에 가까워진듯.\n",
    "        result1_by_subj.append(df_result1[df_result1['subj_code'] == i])    \n",
    "        for j in result1_by_subj[idx].index:\n",
    "            tooltip = df_result1.loc[j, 'codename'] + ' - ' + df_result1.loc[j, 'fac_name'] + ' - ' + df_result1.loc[j, 'addr']\n",
    "            lat = df_result1.loc[j, 'y']\n",
    "            long = df_result1.loc[j, 'x']   # result1 대신 result1_by_subj가 들어가야 하지 않을까 ?\n",
    "            folium.CircleMarker(\n",
    "                location = [lat, long],\n",
    "                radius = 5,\n",
    "                color = hex_color[idx],\n",
    "                tooltip = tooltip\n",
    "            ).add_to(m)\n",
    "\n",
    "    m.save('ch15_project_portfolio.html')\n",
    "    webbrowser.open('ch15_project_portfolio.html')\n",
    "\n",
    "# 기능 정의 : fn2 - 문화시설 분류별 조회\n",
    "def fn2_by_type():\n",
    "\n",
    "    attr_type_list = []\n",
    "    while True:\n",
    "        type_input = input('[ 공연장 | 박물관/기념관 | 미술관 | 문화예술회관 | 문화원 | 도서관 | 기타 ] 중 선택해주세요 : ')\n",
    "        if type_input == '':\n",
    "            break\n",
    "        attr_type_list.append(type_input)\n",
    "    \n",
    "    type_matched_list = []\n",
    "    for attr_type in attr_type_list:\n",
    "        type_matched_list.append(df_combine[df_combine['codename'] == attr_type])\n",
    "    df_result2 = pd.concat(type_matched_list)\n",
    "    df_result2.dropna(axis = 0, how = 'any', inplace = True)\n",
    "    \n",
    "    hex_color = ['#ff4900', '#fe9a01', '#eae000', '#268b4a', '1e88f7', '#2d1f5d', '#8d0ae0' ]\n",
    "    lat_mean = df_result2['y'].astype('float').mean()\n",
    "    long_mean = df_result2['x'].astype('float').mean()\n",
    "    m = folium.Map([lat_mean, long_mean], zoom_start = 14)\n",
    "    \n",
    "    for idx, k in enumerate(attr_type_list):\n",
    "        for l in df_result2[df_result2['codename'] == k].index:\n",
    "            tooltip = df_result2.loc[l,'codename'] + ' - ' + df_result2.loc[l, 'fac_name'] + ' - '+ df_result2.loc[l, 'addr']\n",
    "            lat = df_result2.loc[l, 'y']\n",
    "            long = df_result2.loc[l, 'x']\n",
    "            folium.CircleMarker(\n",
    "                location = [lat, long],\n",
    "                radius = 5,\n",
    "                color = hex_color[idx],\n",
    "                tooltip = tooltip\n",
    "            ).add_to(m)\n",
    "    m.save('ch15_project_portfolio.html')\n",
    "    webbrowser.open('ch15_project_portfolio.html')\n",
    "\n",
    "# 기능 정의 : fn3 - 다중조건 조회\n",
    "def fn3_by_multi():\n",
    "    import random\n",
    "    gu = ['강남구', '강동구','강북구','강서구', '관악구', '광진구', '구로구', '금천구', '노원구', '도봉구', '동대문구',\\\n",
    "      '동작구', '마포구', '서대문구', '서초구', '성동구', '성북구', '송파구', '양천구','영등포구', '용산구', '은평구',\\\n",
    "      '종로구', '중구', '중랑구' ]\n",
    "    dist_list = []\n",
    "    while True :\n",
    "        dist_input = input('희망하는 지역의 행정구역(구)를 입력해주세요 : ')\n",
    "        if (dist_input in gu) == True:\n",
    "            dist_list.append(dist_input)\n",
    "            break\n",
    "        else:\n",
    "            print('정확한 행정구역 명을 입력해 주세요') \n",
    "        \n",
    "    attr_type = input('[ 공연장 | 박물관/기념관 | 미술관 | 문화예술회관 | 문화원 | 도서관 | 기타 ] 중 선택해주세요')\n",
    "    df_result3 = df_combine[(df_combine['level2'] == dist_input) & (df_combine['codename'] == attr_type)]\n",
    "\n",
    "    hex_color = ['#ff4900', '#fe9a01', '#eae000', '#268b4a', '1e88f7', '#2d1f5d', '#8d0ae0' ]\n",
    "    lat_mean = df_result3['y'].astype('float').mean()\n",
    "    long_mean = df_result3['x'].astype('float').mean()\n",
    "    \n",
    "    m = folium.Map([lat_mean, long_mean], zoom_start=12)\n",
    "    for n in df_result3.index:\n",
    "        lat = df_result3.loc[n, 'y']\n",
    "        long = df_result3.loc[n, 'x']\n",
    "        tooltip = df_result3.loc[n, 'codename'] + ' - ' + df_result3.loc[n, 'fac_name'] + ' - ' + df_result3.loc[n , 'addr']\n",
    "        folium.CircleMarker(\n",
    "            location = [lat, long],\n",
    "            radius = 5,\n",
    "            color = hex_color[random.randrange(len(hex_color))],\n",
    "            tooltip = tooltip,\n",
    "        ).add_to(m)\n",
    "    m.save('ch15_project_portfolio.html')\n",
    "    webbrowser.open('ch15_project_portfolio.html')\n",
    "    \n",
    "def main():\n",
    "    while True:\n",
    "        print('1: 행정구역 내 관광지 | 2: 장르별 관광지 | 3: 행정구역 내 장르별 관광지 | 9: 종료')\n",
    "        fn = int(input('선택 : '))\n",
    "        if fn == 1:\n",
    "            fn1_by_district()\n",
    "        elif fn == 2:\n",
    "            fn2_by_type()\n",
    "        elif fn == 3:\n",
    "            fn3_by_multi()\n",
    "        elif fn == 9:\n",
    "            break"
   ]
  },
  {
   "cell_type": "code",
   "execution_count": 13,
   "id": "7f2351a4",
   "metadata": {
    "ExecuteTime": {
     "end_time": "2022-05-25T09:46:24.406332Z",
     "start_time": "2022-05-24T21:23:05.914012Z"
    },
    "scrolled": true
   },
   "outputs": [
    {
     "name": "stdout",
     "output_type": "stream",
     "text": [
      "1: 행정구역 내 관광지 | 2: 장르별 관광지 | 3: 행정구역 내 장르별 관광지 | 9: 종료\n",
      "선택 : 9\n"
     ]
    }
   ],
   "source": [
    "if __name__ == '__main__':\n",
    "    main()"
   ]
  },
  {
   "cell_type": "code",
   "execution_count": null,
   "id": "5aa990bc",
   "metadata": {},
   "outputs": [],
   "source": []
  },
  {
   "cell_type": "code",
   "execution_count": null,
   "id": "ae01fe21",
   "metadata": {},
   "outputs": [],
   "source": []
  },
  {
   "cell_type": "code",
   "execution_count": null,
   "id": "a1fb90cc",
   "metadata": {},
   "outputs": [],
   "source": []
  },
  {
   "cell_type": "code",
   "execution_count": 6,
   "id": "e09c1672",
   "metadata": {
    "ExecuteTime": {
     "end_time": "2022-05-23T01:28:31.665790Z",
     "start_time": "2022-05-23T01:28:29.203734Z"
    }
   },
   "outputs": [
    {
     "name": "stdout",
     "output_type": "stream",
     "text": [
      "희망하는 지역의 행정구역(구)를 입력해주세요성동구\n"
     ]
    },
    {
     "data": {
      "text/plain": [
       "True"
      ]
     },
     "execution_count": 6,
     "metadata": {},
     "output_type": "execute_result"
    }
   ],
   "source": [
    "gu = ['강남구', '강동구', '강북구', '강서구', '관악구', '광진구', '구로구', '금천구', '노원구', '도봉구', '동대문구',\\\n",
    "      '동작구', '마포구', '서대문구', '서초구', '성동구', '성북구', '송파구', '양천구','영등포구', '용산구', '은평구',\\\n",
    "      '종로구', '중구', '중랑구']\n",
    "dist = input('희망하는 지역의 행정구역(구)를 입력해주세요')\n",
    "dist in gu"
   ]
  },
  {
   "cell_type": "code",
   "execution_count": 18,
   "id": "40b4a741",
   "metadata": {
    "ExecuteTime": {
     "end_time": "2022-05-23T01:38:03.058997Z",
     "start_time": "2022-05-23T01:38:03.053996Z"
    }
   },
   "outputs": [
    {
     "data": {
      "text/plain": [
       "['강북구']"
      ]
     },
     "execution_count": 18,
     "metadata": {},
     "output_type": "execute_result"
    }
   ],
   "source": [
    "dist_list"
   ]
  },
  {
   "cell_type": "code",
   "execution_count": 5,
   "id": "a1e94485",
   "metadata": {
    "ExecuteTime": {
     "end_time": "2022-05-23T03:26:32.658907Z",
     "start_time": "2022-05-23T03:26:31.869557Z"
    }
   },
   "outputs": [
    {
     "name": "stdout",
     "output_type": "stream",
     "text": [
      "희망하는 지역의 행정구역(구)를 입력해주세요saas\n"
     ]
    }
   ],
   "source": [
    "class RaisePass(Exception):\n",
    "    pass\n",
    "\n",
    "gu = ['강남구', '강동구','강북구','강서구', '관악구', '광진구', '구로구', '금천구', '노원구', '도봉구', '동대문구',\\\n",
    "  '동작구', '마포구', '서대문구', '서초구', '성동구', '성북구', '송파구', '양천구','영등포구', '용산구', '은평구',\\\n",
    "  '종로구', '중구', '중랑구' ]\n",
    "dist_input = input('희망하는 지역의 행정구역(구)를 입력해주세요')\n",
    "try:\n",
    "    if (dist_input in gu) == True:\n",
    "        raise RaisePass\n",
    "except RaisePass:\n",
    "    print('입력값을 다시 확인해주세요')"
   ]
  },
  {
   "cell_type": "code",
   "execution_count": null,
   "id": "7d062ef2",
   "metadata": {},
   "outputs": [],
   "source": []
  },
  {
   "cell_type": "code",
   "execution_count": 66,
   "id": "912e7bf4",
   "metadata": {
    "ExecuteTime": {
     "end_time": "2022-05-23T16:19:47.497349Z",
     "start_time": "2022-05-23T16:19:47.491349Z"
    }
   },
   "outputs": [],
   "source": [
    "def fn3_by_multi():\n",
    "    import random\n",
    "    gu = ['강남구', '강동구','강북구','강서구', '관악구', '광진구', '구로구', '금천구', '노원구', '도봉구', '동대문구',\\\n",
    "      '동작구', '마포구', '서대문구', '서초구', '성동구', '성북구', '송파구', '양천구','영등포구', '용산구', '은평구',\\\n",
    "      '종로구', '중구', '중랑구' ]\n",
    "    dist_list = []\n",
    "    while True :\n",
    "        dist_input = input('희망하는 지역의 행정구역(구)를 입력해주세요')\n",
    "        if (dist_input in gu) == True:\n",
    "            dist_list.append(dist_input)\n",
    "            break\n",
    "        else:\n",
    "            print('정확한 행정구역 명을 입력해 주세요') \n",
    "        \n",
    "    attr_type = input('[ 공연장 | 박물관/기념관 | 미술관 | 문화예술회관 | 문화원 | 도서관 | 기타 ] 중 선택해주세요')\n",
    "    df_result3 = df_combine[(df_combine['level2'] == dist_input) & (df_combine['codename'] == attr_type)]\n",
    "\n",
    "    hex_color = ['#ff4900', '#fe9a01', '#eae000', '#268b4a', '1e88f7', '#2d1f5d', '#8d0ae0' ]\n",
    "    lat_mean = df_result3['y'].astype('float').mean()\n",
    "    long_mean = df_result3['x'].astype('float').mean()\n",
    "    \n",
    "    m = folium.Map([lat_mean, long_mean], zoom_start=12)\n",
    "    for n in df_result3.index:\n",
    "        lat = df_result3.loc[n, 'y']\n",
    "        long = df_result3.loc[n, 'x']\n",
    "        tooltip = df_result3.loc[n, 'codename'] + ' - ' + df_result3.loc[n, 'fac_name'] + ' - ' + df_result3.loc[n , 'addr']\n",
    "        folium.CircleMarker(\n",
    "            location = [lat, long],\n",
    "            radius = 5,\n",
    "            color = hex_color[random.randrange(len(hex_color))],\n",
    "            tooltip = tooltip,\n",
    "        ).add_to(m)\n",
    "    m.save('ch15_project_portfolio.html')\n",
    "    webbrowser.open('ch15_project_portfolio.html')"
   ]
  },
  {
   "cell_type": "code",
   "execution_count": 67,
   "id": "faa9d9e6",
   "metadata": {
    "ExecuteTime": {
     "end_time": "2022-05-23T16:19:51.400364Z",
     "start_time": "2022-05-23T16:19:48.881524Z"
    }
   },
   "outputs": [
    {
     "name": "stdout",
     "output_type": "stream",
     "text": [
      "희망하는 지역의 행정구역(구)를 입력해주세요종로구\n",
      "[ 공연장 | 박물관/기념관 | 미술관 | 문화예술회관 | 문화원 | 도서관 | 기타 ] 중 선택해주세요미술관\n"
     ]
    }
   ],
   "source": [
    "fn3_by_multi()"
   ]
  }
 ],
 "metadata": {
  "kernelspec": {
   "display_name": "Python 3 (ipykernel)",
   "language": "python",
   "name": "python3"
  },
  "language_info": {
   "codemirror_mode": {
    "name": "ipython",
    "version": 3
   },
   "file_extension": ".py",
   "mimetype": "text/x-python",
   "name": "python",
   "nbconvert_exporter": "python",
   "pygments_lexer": "ipython3",
   "version": "3.9.7"
  },
  "varInspector": {
   "cols": {
    "lenName": 16,
    "lenType": 16,
    "lenVar": 40
   },
   "kernels_config": {
    "python": {
     "delete_cmd_postfix": "",
     "delete_cmd_prefix": "del ",
     "library": "var_list.py",
     "varRefreshCmd": "print(var_dic_list())"
    },
    "r": {
     "delete_cmd_postfix": ") ",
     "delete_cmd_prefix": "rm(",
     "library": "var_list.r",
     "varRefreshCmd": "cat(var_dic_list()) "
    }
   },
   "types_to_exclude": [
    "module",
    "function",
    "builtin_function_or_method",
    "instance",
    "_Feature"
   ],
   "window_display": false
  }
 },
 "nbformat": 4,
 "nbformat_minor": 5
}
