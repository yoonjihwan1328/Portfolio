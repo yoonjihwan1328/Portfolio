{
 "cells": [
  {
   "cell_type": "markdown",
   "id": "783d0165",
   "metadata": {},
   "source": [
    "# 연습문제(실습형 1~10, 서술형 1~8)"
   ]
  },
  {
   "cell_type": "code",
   "execution_count": 1,
   "id": "8276330a",
   "metadata": {
    "ExecuteTime": {
     "end_time": "2021-09-09T05:59:50.894858Z",
     "start_time": "2021-09-09T05:59:50.880876Z"
    }
   },
   "outputs": [
    {
     "data": {
      "text/plain": [
       "[1, 2, 3, 4, 5, 6, 7, 8, 9, 10, 100]"
      ]
     },
     "execution_count": 1,
     "metadata": {},
     "output_type": "execute_result"
    }
   ],
   "source": [
    "# 다음 리스트가 주어졌을 경우 요구사항대로 코드를 작성하시오\n",
    "numbers = [1,2,3,4,5,6,7,8,9,10]\n",
    "# 1. 숫자 100을 맨 뒤에 추가하세요\n",
    "numbers.append(100)\n",
    "numbers"
   ]
  },
  {
   "cell_type": "code",
   "execution_count": 2,
   "id": "32e210e5",
   "metadata": {
    "ExecuteTime": {
     "end_time": "2021-09-09T05:59:53.310595Z",
     "start_time": "2021-09-09T05:59:53.303586Z"
    }
   },
   "outputs": [
    {
     "data": {
      "text/plain": [
       "[1, 2, 3, 4, 5, 6, 7, 8, 9, 10, 100, [200, 300, 400, 500]]"
      ]
     },
     "execution_count": 2,
     "metadata": {},
     "output_type": "execute_result"
    }
   ],
   "source": [
    "# 2. 다음 리스트를 numbers리스트 맨 뒤에 추가하세요\n",
    "#         data = [200, 300, 400, 500]\n",
    "data = [200, 300, 400, 500] \n",
    "numbers.append(data)\n",
    "numbers"
   ]
  },
  {
   "cell_type": "code",
   "execution_count": 3,
   "id": "ebff6070",
   "metadata": {
    "ExecuteTime": {
     "end_time": "2021-09-09T05:59:54.565680Z",
     "start_time": "2021-09-09T05:59:54.551727Z"
    }
   },
   "outputs": [
    {
     "data": {
      "text/plain": [
       "[1, 2, 3, 4, 5, 6, 7, 8, 9, 10, 100, [200, 300, 400, 500], 200, 300, 400, 500]"
      ]
     },
     "execution_count": 3,
     "metadata": {},
     "output_type": "execute_result"
    }
   ],
   "source": [
    "data = [200, 300, 400, 500]\n",
    "numbers.extend(data)\n",
    "numbers\n",
    "# append() method adds its argument as a single element to the end of a list, \n",
    "    # the length of the list itself will increase by one. \n",
    "    # Whereas extend() method iterates over its argument adding each element to the list"
   ]
  },
  {
   "cell_type": "code",
   "execution_count": 4,
   "id": "03296241",
   "metadata": {
    "ExecuteTime": {
     "end_time": "2021-09-09T06:02:37.694508Z",
     "start_time": "2021-09-09T06:02:37.687520Z"
    }
   },
   "outputs": [
    {
     "data": {
      "text/plain": [
       "[1, 2, 3, 4, 5]"
      ]
     },
     "execution_count": 4,
     "metadata": {},
     "output_type": "execute_result"
    }
   ],
   "source": [
    "# 3. 처음 다섯 개 숫자만 출력하세요\n",
    "numbers[0:5]"
   ]
  },
  {
   "cell_type": "code",
   "execution_count": 5,
   "id": "6a05a276",
   "metadata": {
    "ExecuteTime": {
     "end_time": "2021-09-09T06:02:39.185536Z",
     "start_time": "2021-09-09T06:02:39.175578Z"
    }
   },
   "outputs": [
    {
     "data": {
      "text/plain": [
       "[2, 4, 6, 8, 10, [200, 300, 400, 500], 300, 500]"
      ]
     },
     "execution_count": 5,
     "metadata": {},
     "output_type": "execute_result"
    }
   ],
   "source": [
    "# 4. 리스트에서 짝수 번째 데이터만 출력하세요\n",
    "numbers[1::2]"
   ]
  },
  {
   "cell_type": "code",
   "execution_count": 22,
   "id": "68de2473",
   "metadata": {
    "ExecuteTime": {
     "end_time": "2021-07-21T02:31:51.683624Z",
     "start_time": "2021-07-21T02:31:51.672654Z"
    }
   },
   "outputs": [],
   "source": [
    "# 5. 짝수번째 데이터를 모두 0으로 바꾸세요#######################"
   ]
  },
  {
   "cell_type": "code",
   "execution_count": 8,
   "id": "a3132ee8",
   "metadata": {
    "ExecuteTime": {
     "end_time": "2021-09-09T06:03:58.644481Z",
     "start_time": "2021-09-09T06:03:58.631516Z"
    }
   },
   "outputs": [
    {
     "data": {
      "text/plain": [
       "[1, 0, 3, 0, 5, 0, 7, 0, 9, 0, 100, 0, 200, 0, 400, 0]"
      ]
     },
     "execution_count": 8,
     "metadata": {},
     "output_type": "execute_result"
    }
   ],
   "source": [
    "numbers[1::2] = [0] * len(numbers[1::2])\n",
    "# numbers[1::2]=[0,0,0,0,0,0,0,0]\n",
    "numbers"
   ]
  },
  {
   "cell_type": "code",
   "execution_count": 11,
   "id": "731866fd",
   "metadata": {
    "ExecuteTime": {
     "end_time": "2021-09-09T06:05:33.721241Z",
     "start_time": "2021-09-09T06:05:33.704259Z"
    }
   },
   "outputs": [
    {
     "name": "stdout",
     "output_type": "stream",
     "text": [
      "방법 1:  None\n",
      "방법 2:  [0, 400, 0, 200, 0, 100, 0, 9, 0, 7, 0, 5, 0, 3, 0, 1]\n"
     ]
    }
   ],
   "source": [
    "# 6. 데이터를 역순으로 나열하세요(내림차순 정렬이 아닙니다)\n",
    "print('방법 1: ', numbers.reverse())\n",
    "print('방법 2: ', numbers[::-1])"
   ]
  },
  {
   "cell_type": "code",
   "execution_count": 24,
   "id": "56c99a49",
   "metadata": {
    "ExecuteTime": {
     "end_time": "2021-09-09T06:11:03.520157Z",
     "start_time": "2021-09-09T06:11:03.511194Z"
    }
   },
   "outputs": [],
   "source": [
    "#* ● 다음 딕셔너리 데이터가 주어졌을 경우 요구사항대로 코드를 작성하세요.\n",
    "member_info = {\"name\":\"홍길동\", \"age\":20, \"address\":\"서울시 마포구\",\n",
    " \"score\":90}"
   ]
  },
  {
   "cell_type": "code",
   "execution_count": null,
   "id": "10e8f683",
   "metadata": {},
   "outputs": [],
   "source": [
    "# 7. address값을 출력하세요"
   ]
  },
  {
   "cell_type": "code",
   "execution_count": 14,
   "id": "da562c8c",
   "metadata": {
    "ExecuteTime": {
     "end_time": "2021-09-09T06:07:14.785036Z",
     "start_time": "2021-09-09T06:07:14.775034Z"
    }
   },
   "outputs": [
    {
     "name": "stdout",
     "output_type": "stream",
     "text": [
      "방법 1 :  서울시 마포구\n",
      "방법 2 :  서울시 마포구\n"
     ]
    }
   ],
   "source": [
    "print('방법 1 : ', member_info['address'])\n",
    "print('방법 2 : ', member_info.get('address'))"
   ]
  },
  {
   "cell_type": "code",
   "execution_count": null,
   "id": "92ba39ea",
   "metadata": {},
   "outputs": [],
   "source": [
    "# 8 score를 출력하고 member_info 딕셔너리에서 삭제하세요"
   ]
  },
  {
   "cell_type": "code",
   "execution_count": 26,
   "id": "56830b90",
   "metadata": {
    "ExecuteTime": {
     "end_time": "2021-09-09T06:11:17.902136Z",
     "start_time": "2021-09-09T06:11:17.895155Z"
    }
   },
   "outputs": [
    {
     "name": "stdout",
     "output_type": "stream",
     "text": [
      "방법 1 :  90\n",
      "방법 2 :  90\n"
     ]
    }
   ],
   "source": [
    "print('방법 1 : ', member_info['score'])\n",
    "print('방법 2 : ', member_info.pop('score'))"
   ]
  },
  {
   "cell_type": "code",
   "execution_count": 18,
   "id": "6b00ba5d",
   "metadata": {
    "ExecuteTime": {
     "end_time": "2021-09-09T06:10:14.630340Z",
     "start_time": "2021-09-09T06:10:14.615381Z"
    }
   },
   "outputs": [
    {
     "data": {
      "text/plain": [
       "{'name': '홍길동', 'age': 20, 'address': '서울시 마포구'}"
      ]
     },
     "execution_count": 18,
     "metadata": {},
     "output_type": "execute_result"
    }
   ],
   "source": [
    "member_info\n",
    "del(member_info['score'])"
   ]
  },
  {
   "cell_type": "code",
   "execution_count": 27,
   "id": "ffa14e60",
   "metadata": {
    "ExecuteTime": {
     "end_time": "2021-09-09T06:18:59.531845Z",
     "start_time": "2021-09-09T06:18:59.511770Z"
    }
   },
   "outputs": [
    {
     "data": {
      "text/plain": [
       "{'name': '홍길동', 'age': 20, 'address': '서울시 서대문구'}"
      ]
     },
     "execution_count": 27,
     "metadata": {},
     "output_type": "execute_result"
    }
   ],
   "source": [
    "# 9 address를 '서울시 서대문구'로 변경하세요\n",
    "member_info[\"address\"]='서울시 서대문구'\n",
    "member_info"
   ]
  },
  {
   "cell_type": "code",
   "execution_count": 31,
   "id": "b6dfdd51",
   "metadata": {
    "ExecuteTime": {
     "end_time": "2021-09-09T06:38:44.246218Z",
     "start_time": "2021-09-09T06:38:44.231258Z"
    }
   },
   "outputs": [
    {
     "name": "stdout",
     "output_type": "stream",
     "text": [
      "['홍길동', 20, '서울시 서대문구']\n",
      "[(0, '홍길동'), (1, 20), (2, '서울시 서대문구')]\n"
     ]
    }
   ],
   "source": [
    "# 10. member_info 딕셔너리 데이터의 값을 리스트로 출력하세요\n",
    "print(list(member_info.values()))\n",
    "print(list(enumerate(member_info.values())))"
   ]
  },
  {
   "cell_type": "code",
   "execution_count": 33,
   "id": "da0d9bde",
   "metadata": {
    "ExecuteTime": {
     "end_time": "2021-09-09T06:42:12.689360Z",
     "start_time": "2021-09-09T06:42:12.678361Z"
    }
   },
   "outputs": [
    {
     "name": "stdout",
     "output_type": "stream",
     "text": [
      "['orange', 'banana']\n"
     ]
    }
   ],
   "source": [
    "# 서술형1. 다음 코드를 실행했을 때 출력되는 것은?\n",
    "L1 = (\"orange\", \"apple\", \"banana\", \"kiwi\")\n",
    "new_list = [i for i in L1 if len(i)>5]\n",
    "print(new_list)"
   ]
  },
  {
   "cell_type": "code",
   "execution_count": 38,
   "id": "efc5fb5d",
   "metadata": {
    "ExecuteTime": {
     "end_time": "2021-09-09T06:44:00.906104Z",
     "start_time": "2021-09-09T06:44:00.887155Z"
    }
   },
   "outputs": [
    {
     "name": "stdout",
     "output_type": "stream",
     "text": [
      "[0, 1, 2, 3, 4, 5, 6, 7, 8, 9]\n",
      "[5, 6, 7, 8, 9]\n",
      "[10, 9, 8, 7, 6, 5, 4, 3, 2, 1]\n",
      "[10, 12, 14, 16, 18]\n"
     ]
    }
   ],
   "source": [
    "# 서술형2. 다음 코드와 실행결과가 잘못 짝지어진 것은?\n",
    "print(list(range(10)))\n",
    "print(list(range(5,10)))\n",
    "print(list(range(10,0,-1))) # range도 python의 index에서처럼 stop지점이 포함되지 않음!\n",
    "    # print(list(range(10,0))) 이면 빈 리스트[]가 출력됨\n",
    "print(list(range(10,20,2)))"
   ]
  },
  {
   "cell_type": "code",
   "execution_count": 40,
   "id": "f53b433c",
   "metadata": {
    "ExecuteTime": {
     "end_time": "2021-09-09T06:47:26.361865Z",
     "start_time": "2021-09-09T06:47:26.343952Z"
    }
   },
   "outputs": [
    {
     "data": {
      "text/plain": [
       "1"
      ]
     },
     "execution_count": 40,
     "metadata": {},
     "output_type": "execute_result"
    }
   ],
   "source": [
    "# 서술형3. 다음 구문에 의해 출력되는 것은?\n",
    "numbers_2d = [[1,2,3,4,5],[10,20,30,40],[1,3,5],[2,]]\n",
    "len(numbers_2d[3])"
   ]
  },
  {
   "cell_type": "code",
   "execution_count": 41,
   "id": "1306b16d",
   "metadata": {
    "ExecuteTime": {
     "end_time": "2021-09-09T06:48:16.303046Z",
     "start_time": "2021-09-09T06:48:16.294064Z"
    }
   },
   "outputs": [
    {
     "data": {
      "text/plain": [
       "[1, 2, 3, 4, 5, 10, 20, 30, 40, 50]"
      ]
     },
     "execution_count": 41,
     "metadata": {},
     "output_type": "execute_result"
    }
   ],
   "source": [
    "# 서술형4. 다음 코드의 실행결과가 나올 수 있는 빈칸에 들어갈 함수 이름은?\n",
    "numbers = [1,2,3,4,5]\n",
    "numbers.extend([10,20,30,40,50])\n",
    "numbers"
   ]
  },
  {
   "cell_type": "code",
   "execution_count": 54,
   "id": "e41cb3df",
   "metadata": {
    "ExecuteTime": {
     "end_time": "2021-09-09T06:58:17.018587Z",
     "start_time": "2021-09-09T06:58:17.013596Z"
    }
   },
   "outputs": [
    {
     "name": "stdout",
     "output_type": "stream",
     "text": [
      "[0, 1, 0, 3, 0, 5, 0, 7, 0, 9]\n"
     ]
    }
   ],
   "source": [
    "# 서술형5. 다음 구문을 실행할 때 결과는 ?\n",
    "numbers = list(range(10))\n",
    "numbers[::2] = [0]*len(numbers[::2])\n",
    "print(numbers)"
   ]
  },
  {
   "cell_type": "code",
   "execution_count": 55,
   "id": "c988c62e",
   "metadata": {
    "ExecuteTime": {
     "end_time": "2021-09-09T06:59:05.330674Z",
     "start_time": "2021-09-09T06:59:05.318706Z"
    }
   },
   "outputs": [
    {
     "name": "stdout",
     "output_type": "stream",
     "text": [
      "[5, 1, 6, 3, 7, 5, 8, 7, 9, 9]\n"
     ]
    }
   ],
   "source": [
    "# 서술형6.\n",
    "numbers = [0,1,2,3,4,5,6,7,8,9]\n",
    "numbers[::2] = numbers[5:]\n",
    "print(numbers)"
   ]
  },
  {
   "cell_type": "code",
   "execution_count": 60,
   "id": "4751a5bc",
   "metadata": {
    "ExecuteTime": {
     "end_time": "2021-09-09T07:03:01.338923Z",
     "start_time": "2021-09-09T07:03:01.332970Z"
    }
   },
   "outputs": [
    {
     "name": "stdout",
     "output_type": "stream",
     "text": [
      "[0, 1, 1, 3, 2, 5, 3, 7, 4, 9]\n"
     ]
    }
   ],
   "source": [
    "# 서술형7.\n",
    "numbers = [0,1,2,3,4,5,6,7,8,9]\n",
    "numbers[::2] = numbers[:5]\n",
    "print(numbers)"
   ]
  },
  {
   "cell_type": "code",
   "execution_count": 59,
   "id": "f8b933c8",
   "metadata": {
    "ExecuteTime": {
     "end_time": "2021-09-09T07:02:01.278686Z",
     "start_time": "2021-09-09T07:02:01.268713Z"
    }
   },
   "outputs": [
    {
     "name": "stdout",
     "output_type": "stream",
     "text": [
      "10\n",
      "10\n",
      "10\n",
      "10\n"
     ]
    }
   ],
   "source": [
    "# 서술형8.\n",
    "my_dic = {\"a\":10, \"b\":20, \"c\":30}\n",
    "# print(my_dic[0])\n",
    "print(my_dic['a'])\n",
    "print(list(my_dic.items())[0][1])\n",
    "print(list(my_dic.values())[0])\n",
    "print(my_dic.get('a'))"
   ]
  }
 ],
 "metadata": {
  "kernelspec": {
   "display_name": "Python 3",
   "language": "python",
   "name": "python3"
  },
  "language_info": {
   "codemirror_mode": {
    "name": "ipython",
    "version": 3
   },
   "file_extension": ".py",
   "mimetype": "text/x-python",
   "name": "python",
   "nbconvert_exporter": "python",
   "pygments_lexer": "ipython3",
   "version": "3.8.8"
  },
  "toc": {
   "base_numbering": 1,
   "nav_menu": {},
   "number_sections": true,
   "sideBar": true,
   "skip_h1_title": false,
   "title_cell": "Table of Contents",
   "title_sidebar": "Contents",
   "toc_cell": false,
   "toc_position": {},
   "toc_section_display": true,
   "toc_window_display": false
  },
  "varInspector": {
   "cols": {
    "lenName": 16,
    "lenType": 16,
    "lenVar": 40
   },
   "kernels_config": {
    "python": {
     "delete_cmd_postfix": "",
     "delete_cmd_prefix": "del ",
     "library": "var_list.py",
     "varRefreshCmd": "print(var_dic_list())"
    },
    "r": {
     "delete_cmd_postfix": ") ",
     "delete_cmd_prefix": "rm(",
     "library": "var_list.r",
     "varRefreshCmd": "cat(var_dic_list()) "
    }
   },
   "types_to_exclude": [
    "module",
    "function",
    "builtin_function_or_method",
    "instance",
    "_Feature"
   ],
   "window_display": false
  }
 },
 "nbformat": 4,
 "nbformat_minor": 5
}
