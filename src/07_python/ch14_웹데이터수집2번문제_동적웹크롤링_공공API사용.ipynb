{
 "cells": [
  {
   "cell_type": "markdown",
   "id": "cd4a2a3c",
   "metadata": {
    "ExecuteTime": {
     "end_time": "2021-08-11T07:58:56.531629Z",
     "start_time": "2021-08-11T07:58:56.527640Z"
    }
   },
   "source": [
    "\n",
    "# 영어번역 자동화 프로그램을 구현하시오. 네이버 맞춤법 검사를 마친 텍스트를 https://translate.kakao.com/를 통해 영어로 번역된 텍스트를 파일로 출력하는 동적 웹크롤링 프로그램을 구현하시오"
   ]
  },
  {
   "cell_type": "code",
   "execution_count": 1,
   "id": "73c02ea2",
   "metadata": {
    "ExecuteTime": {
     "end_time": "2021-08-25T09:13:14.103716Z",
     "start_time": "2021-08-25T09:13:13.514550Z"
    }
   },
   "outputs": [],
   "source": [
    "from selenium import webdriver\n",
    "from selenium.webdriver.common.keys import Keys\n",
    "from bs4 import BeautifulSoup\n",
    "import time"
   ]
  },
  {
   "cell_type": "code",
   "execution_count": 3,
   "id": "1ff26acd",
   "metadata": {
    "ExecuteTime": {
     "end_time": "2021-08-24T06:29:31.259490Z",
     "start_time": "2021-08-24T06:29:08.994662Z"
    },
    "scrolled": true
   },
   "outputs": [
    {
     "name": "stdout",
     "output_type": "stream",
     "text": [
      "geographic\n",
      "<nowiki/> The text of this part is the Korean Peninsula.\n",
      "South Korea is located on the Korean Peninsula in East Asia, bordered by the Yalu River to the northwest and China to the northeast, facing China and Russia on the Tumen River. In Korea, where the three sides are seas, it is surrounded by the Yellow Sea (Western Sea) to the west, the East Sea to the east, and the South Sea to the south. The northernmost part of the Korean peninsula and the annex is Onseong in North Hamgyong Province, the westernmost part is Maando in North Pyongan Province, the easternmost part is Dokdo Island in Ulleung County in Gyeongsangbuk-do, and the southernmost part is Marado.\n",
      "\n",
      "The eastern and northern parts of the Korean peninsula feature mountainous terrains consisting of relatively high mountains, and several alluvial plains and hilly areas formed by rivers flowing into the West Sea are generally gentle slopes toward the west. The highest mountain in Korea is Mt. Baekdu (2,744m), followed by Guanmobong (2,541m) and Buksubaek (2,522m). The Gama Plateau in northern Korea is a highland called 'the roof of Korea', and the Taebaek Mountains, which run along the east coast of the peninsula, are also called Baekdudaegan.\n",
      "\n",
      "The main islands in Korea are Jeju Island, Geoje Island, Jindo Island, and Ganghwa Island in order of area. Most of the islands are formed in the Yellow Sea and the southern sea, while Jeju Island and Ulleungdo are relatively isolated by volcanic activities. The Yellow Coast and South Coast of Korea have developed the Rias coast, and the tide is large.\n",
      "\n",
      "polar region\n",
      "Korea (Korea)\n",
      "\n",
      "mountain whitedu\n",
      "\n",
      "tube cap\n",
      "\n",
      "north subaeksan\n",
      "\n",
      "dogma plateau\n",
      "\n",
      "jeju-do\n",
      "\n",
      "kojedo\n",
      "\n",
      "progression\n",
      "\n",
      "Dokdo\n",
      "(The Choice)\n",
      "\n",
      "pungseo-ri\n",
      "(Northest)\n",
      "\n",
      "marado\n",
      "(The Southernmost)\n",
      "\n",
      "silk island\n",
      "(The West)\n",
      "\n",
      "intraspinal\n",
      "\n",
      "Baekryeongdo\n",
      "location of related nominations\n",
      "The polar regions of the entire Korean Peninsula are as follows.\n",
      "\n",
      "The easternmost region: Dongdo Island, Dokdo-ri, Ulleung-eup, Ulleung-gun, Gyeongsangbuk-do, Korea <Donggyeong 131°52'10.4>[1]\n",
      "The Westmost Area: <Donggyeong 124°10'47>, Rodongja-gu, Bidan Island, Sindo-gun, Pyonganbuk-do, Democratic People's Republic of Korea\n",
      "The southernmost region: Marado, Daejeong-eup, Seogwipo-si, Jeju Special Self-Governing Province, Korea &lt;33 ° 06  37&gt;\n",
      "The Northmost Area: Yu Won-jin, Pungseo-ri, Onseong-gun, Hamgyongbuk-do, Democratic People's Republic of Korea\n",
      "The drama regions of the Republic of Korea are as follows.\n",
      "\n",
      "The easternmost part: Dongdo Island, Ulleung-eup, Ulleung-gun, Gyeongsangbuk-do <Donggyeong 131°52'10.4>[1]\n",
      "The Westmost Area: Yeonhwari, Baekryeong-myeon, Ongjin-gun, Incheon Metropolitan City <Donggyeong 124°36'36>\n",
      "The southernmost region: Marado, Daejeong-eup, Seogwipo-si, Jeju Special Self-Governing Province, <33°0637 North>\n",
      "The Northernmost Area: Macha Jinri, Hyeonnae-myeon, Goseong-gun, Gangwon-do <38°45'00>\n",
      "The southernmost region outside the territorial power: Ieodo\n",
      "The dramatic regions of the Democratic People's Republic of Korea are as follows.\n",
      "\n",
      "The Eastest Area: A Study on the Uam-ri, Sunbong-gun, Laseon Express &lt;Term 130°41'32&gt;\n",
      "The Westmost Area: <Donggyeong 124°10'47>, Rodongja-gu, Bidan Island, Sindo-gun, North Pyongan Province\n",
      "The southernmost region: <37°41'00, North Korea>\n",
      "The Northernmost Area: Pungseo-ri, Onseong-gun, North Hamgyong Province <43°00'36 North Wii>\n",
      "culture\n",
      "<nowiki/> The text of this part is Korean culture.\n",
      "Korea was influenced by both continental and marine cultures as a geographical condition on the peninsula. Korean culture was influenced by exchanges with neighbors such as China and Japan, but developed into a unique culture based on the mixture of Siberia, Central Asia, Northern Asia, South Asia and Southeast Asia. Traditional music is a pungmul play, and Arirang and others.\n",
      "\n",
      "population\n",
      "Please refer to the population of the Republic of Korea, the Democratic People's Republic of Korea # Population and Distribution Documents.\n",
      "According to the census of the Joseon Dynasty, the population of Joseon did not exceed 7 million. It is estimated that nearly 40% of the population was missing due to various factors such as avoiding the investigation of the lake to avoid taxes and sub-regions. The actual population is estimated to have been around 10 million in the mid-Joseon period and about 13 million in the late period. According to a survey by the Japanese imperialists in 1910, the population of the Korean Empire is about 13.12 million, but academics estimate that it was about 17.42 million by 1910. [3] The modern census after the national sovereignty was taken up increased to 199 million in 1925, and to 22.89 million in 1935, to 25.9 million in 1944.\n",
      "\n",
      "The sex ratio of 1911 (the number of men per 100 women) was 110.9, which was severe, but in 1944 it was changed to 99.4. In Korea, the phenomenon was 102.1 in 1949, and in 1955, it was balanced to 100.1.\n",
      "\n",
      "As of the end of December 2017, the total population of the Republic of Korea except foreigners is 51,775,544 [4], and as of the end of December 2016, the population of the Democratic People's Republic of Korea is estimated to be about 25.37 million. The total number of Koreans, excluding 4 million foreign nationals, is about 80 million among the 7 million Koreans living abroad.\n"
     ]
    }
   ],
   "source": [
    "with open('data/포트폴리오2번문제.txt', 'r', encoding='utf-8') as f:\n",
    "    textFile = f.read()\n",
    "ready_list=[]\n",
    "while len(textFile) > 5000:\n",
    "    temp_str = testFile[:5000]\n",
    "    last_space_idx = temp_str.rfind(' ')\n",
    "    ready_list.append(textFile[:last_space_idx])\n",
    "    textFile = textFile[last_space_idx:]\n",
    "ready_list.append(textFile) # 길이가 5000이 넘는경우 5000단위로 분절하여 리스트에 귀속시킴\n",
    "\n",
    "driver = webdriver.Chrome()\n",
    "driver.get('http://translate.kakao.com')\n",
    "time.sleep(1)\n",
    "close_btn = driver.find_element_by_css_selector('a.btn_close')\n",
    "close_btn.click()\n",
    "time.sleep(1)\n",
    "elem = driver.find_element_by_id('query')\n",
    "elem.clear()\n",
    "results = \"\"\n",
    "for ready in ready_list:\n",
    "    elem.send_keys(Keys.CONTROL, \"a\") # 창에 입력된 내용을 ctrl+a로 전체선택하는 키(?)인것 같음\n",
    "                                      # 다음 입력이 이루어지며 clear되는 효과가 발생(?)\n",
    "    elem.send_keys(ready)\n",
    "    button = driver.find_element_by_id('btnTranslate')\n",
    "    button.click()\n",
    "    time.sleep(1)\n",
    "    soup = BeautifulSoup(driver.page_source, \"html.parser\")\n",
    "    result = soup.select_one('#result').text \n",
    "# text가 없을 떄는 nontype이라 results에 추가할 수 없었고, 지금은 nonType은 text속성을 가질 수 없다고 나옴\n",
    "# span(p.desc_translation > span)에서 text만 뽑아내지 못하는 중인듯. -> #result로 바꿈\n",
    "    results += result\n",
    "print(results)\n",
    "driver.find"
   ]
  },
  {
   "cell_type": "code",
   "execution_count": null,
   "id": "5fb82cf5",
   "metadata": {},
   "outputs": [],
   "source": [
    "# 윗 부분 집에서 완성한 것으로 대체하기."
   ]
  },
  {
   "cell_type": "code",
   "execution_count": null,
   "id": "79bbf024",
   "metadata": {},
   "outputs": [],
   "source": []
  },
  {
   "cell_type": "markdown",
   "id": "b7fb7af3",
   "metadata": {},
   "source": [
    "# 4절 OPEN API(특정 프로그램을 만들기 위해 제공되는 모듈)를 활용한 공공DB 수집\n",
    "* 서울시 버스정보와 버스위치정보를 공공데이터 포털사이트에서 받아옵니다.\n",
    "* 활용신청 -> 인증키발부 -> 다큐먼트 파일을 참조하여 xml파일을 받아옵니다."
   ]
  },
  {
   "cell_type": "code",
   "execution_count": null,
   "id": "c857ee69",
   "metadata": {},
   "outputs": [],
   "source": [
    "www.data.go.kr에서 공공데이터의 api사용허가를 신청(오전) -> 다음날 사용함(원래는 당일 오후에 사용할 수 있었을 듯?)\n",
    "자동인증으로 몇 시간 후부터 사용가능한 api들이 있음.\n",
    "서울특별시_버스위치정보조회_서비스\n",
    "서울특별시_노선정보조회_서비스\n",
    "\n",
    "오픈api마다 사용하는 방법이 다르기때문에 상세설명 doc파일을 읽어봐야함\n",
    "웹페이지에서 제공되는 인증키도 필요"
   ]
  },
  {
   "cell_type": "code",
   "execution_count": 2,
   "id": "c2ea1fb0",
   "metadata": {
    "ExecuteTime": {
     "end_time": "2021-09-23T05:35:37.870048Z",
     "start_time": "2021-09-23T05:35:37.836159Z"
    }
   },
   "outputs": [
    {
     "name": "stdout",
     "output_type": "stream",
     "text": [
      "100100087\n"
     ]
    }
   ],
   "source": [
    "from bs4 import BeautifulSoup\n",
    "import urllib.request as req\n",
    "# 버스번호\n",
    "busNum = '602'\n",
    "# 노선정보조회_서비스 활용가이드(다큐먼트)에서 (3)getBusRouteList 상세기능 명세의\n",
    "# Call back URL과 + 요청 메시지 명세를 참조\n",
    "key = '4VMarOvVACqVGFf0LQPL667to%2B2Y8xy0PME0Z%2FuQ1xyyd8KcVdph%2F5m0c4m%2BmK4r%2BaLLlBeiwinnpNlH7IcpGQ%3D%3D'\n",
    "url1 = 'http://ws.bus.go.kr/api/rest/busRouteInfo/getBusRouteList?serviceKey='+key+\"&strSrch=\"+busNum\n",
    "# 인증키는 신청자마다 다르고 url1은 버스위치정보조회 페이지에서, key는 노선정보조회 페이지에서 가져옴\n",
    "# print(url1)\n",
    "savefilename = 'C:/Users/yoon/Desktop/Faust/07_python/src/data/1_businfo.xml' # 반드시 xml로 저장\n",
    "req.urlretrieve(url1, savefilename) # 네트워크 객체를 로컬파일로 복사하는 기능을 함. \n",
    "# 지정한 경로에 생성된 파일을 크롤링하면 됨!\n",
    "\n",
    "xml = open(savefilename, 'r', encoding='utf-8').read()\n",
    "soup = BeautifulSoup(xml, \"xml\")\n",
    "busRouteId = None\n",
    "\n",
    "for itemList in soup.find_all('itemList'):\n",
    "    busRouteNm = itemList.find('busRouteNm').text\n",
    "    if busRouteNm == busNum:\n",
    "        busRouteId = itemList.find('busRouteId').text\n",
    "        break;\n",
    "print(busRouteId)"
   ]
  },
  {
   "cell_type": "code",
   "execution_count": 1,
   "id": "93442f6e",
   "metadata": {},
   "outputs": [
    {
     "name": "stdout",
     "output_type": "stream",
     "text": [
      "http://ws.bus.go.kr/api/rest/busRouteInfo/getBusRouteList?serviceKey=4VMarOvVACqVGFf0LQPL667to%2B2Y8xy0PME0Z%2FuQ1xyyd8KcVdph%2F5m0c4m%2BmK4r%2BaLLlBeiwinnpNlH7IcpGQ%3D%3D&strSrch=400\n",
      "100100596\n"
     ]
    }
   ],
   "source": [
    "# 위 셀의 다른 방법으로의 수행(로컬파일 생성과정을 생략하는 방식)\n",
    "from bs4 import BeautifulSoup\n",
    "# 버스번호\n",
    "busNum = '400'\n",
    "# 일반인증키\n",
    "key = '4VMarOvVACqVGFf0LQPL667to%2B2Y8xy0PME0Z%2FuQ1xyyd8KcVdph%2F5m0c4m%2BmK4r%2BaLLlBeiwinnpNlH7IcpGQ%3D%3D'\n",
    "url1 = \"http://ws.bus.go.kr/api/rest/busRouteInfo/getBusRouteList?serviceKey=\"+key+\"&strSrch=\"+busNum\n",
    "print(url1)\n",
    "import requests\n",
    "response = requests.get(url1) \n",
    "    # urlretrieve을 이용해 로컬파일을 생성하는 대신 requests.get()을 이용해 BeautifulSoup이 직접(HTML 혹은 XML로부터) 데이터를 뽑아낼 수 있도록\n",
    "soup = BeautifulSoup(response.content, \"xml\")\n",
    "busRouteId = None\n",
    "\n",
    "for itemList in soup.find_all('itemList'):\n",
    "    busRouteNm = itemList.find('busRouteNm').text\n",
    "    if busRouteNm == busNum:\n",
    "        busRouteId = itemList.find('busRouteId').text\n",
    "        break;\n",
    "print(busRouteId)\n",
    "\n",
    "# api서비스 제공자가 xml, json을 데이터교환의 표준으로 지정하여 메세지요청에 응답하고 있기 때문에 html.parser로는 해석할 수 없음."
   ]
  },
  {
   "cell_type": "code",
   "execution_count": 10,
   "id": "f0300412",
   "metadata": {
    "ExecuteTime": {
     "end_time": "2021-09-23T03:51:43.116913Z",
     "start_time": "2021-09-23T03:51:43.004958Z"
    }
   },
   "outputs": [
    {
     "name": "stdout",
     "output_type": "stream",
     "text": [
      "602번 버스 정류소 및 위치\n",
      "84 개 정류소\n",
      "정류소이름\t위도\t경도\n",
      "양천공영차고지 37.5087026881 126.8376574871\n",
      "대일관광고.푸른마을3단지 37.5110757405 126.8363632761\n",
      "푸른마을1단지.이든채아파트 37.5126531126 126.8353881275\n",
      "양천중앙도서관.푸른마을2단지 37.5141912766 126.8340906245\n",
      "신월시영아파트.강월초등학교 37.515731 126.83553\n",
      "금실어린이공원 37.5179542888 126.8377738585\n",
      "신월시영아파트중문 37.5190114694 126.8368312753\n",
      "신월문화체육센터 37.5200794793 126.8364820681\n",
      "한빛종합사회복지관 37.5211610149 126.8391118869\n",
      "강서초등학교 37.5217637261 126.8416877902\n",
      "신월2동주민센터입구 37.5226798553 126.8455539606\n",
      "양강중학교 37.5237110271 126.8499936\n",
      "신정역(은행정).신정4동주민센터 37.5246301301 126.8542989447\n",
      "신서고등학교.영상고등학교입구 37.5253957175 126.8599725442\n",
      "목동역.목동오거리 37.5258057871 126.8631068968\n",
      "목동역.홍익병원 37.5273462899 126.8643441254\n",
      "홍익병원목동관 37.5307277573 126.8640381595\n",
      "목동사거리 37.5332695189 126.8638355299\n",
      "영도중.강서고입구.기아양서대리점 37.5361735073 126.8636220426\n",
      "목동시장.대일고교.배광교회 37.5390050043 126.863840943\n",
      "목동성원아파트 37.5422950368 126.8631752063\n",
      "목3동주민센터.현대아이파크.실로암안과 37.5448325228 126.8624010187\n",
      "목3동시장.강서도서관 37.5496948079 126.8639369391\n",
      "등촌역.강서보건소 37.5494106214 126.8675998318\n",
      "염창역.서울도시가스 37.5469638223 126.875005296\n",
      "안양천입구 37.5473061425 126.8836668131\n",
      "양평동한솔아파트 37.5439165302 126.89034721\n",
      "양평한신아파트.선유도공원입구 37.5416485864 126.8944278421\n",
      "양화대교전망카페 37.53982 126.901182\n",
      "합정역(가상) 37.5478537853 126.9099652884\n",
      "합정역 37.5488741717 126.912832397\n",
      "서교동 37.5536367406 126.9195815796\n",
      "홍대입구역(가상) 37.5552260552 126.9218643721\n",
      "홍대입구역 37.5563734241 126.9231959983\n",
      "동교동삼거리 37.5580596154 126.9284587797\n",
      "신촌오거리.현대백화점 37.5553966479 126.9358930618\n",
      "신촌오거리.2호선신촌역 37.5560656888 126.9401437605\n",
      "이대역 37.5566130226 126.9445938349\n",
      "웨딩타운 37.557092 126.951517\n",
      "아현역 37.5572984359 126.9547468414\n",
      "충정로역 37.5610582642 126.9634916293\n",
      "서대문역사거리 37.565579 126.966565\n",
      "서울역사박물관.경희궁앞 37.569135 126.97038\n",
      "광화문 37.569845398 126.9763838838\n",
      "서소문 37.5636754044 126.9753398851\n",
      "충정로역2호선 37.5596112723 126.9640265994\n",
      "아현역 37.557425 126.956593\n",
      "웨딩타운 37.557227 126.952408\n",
      "이대역 37.5568755655 126.9472705221\n",
      "신촌오거리.2호선신촌역 37.555788458 126.9389815648\n",
      "신촌오거리.현대백화점 37.5559833987 126.9345037666\n",
      "동교동삼거리 37.5577646946 126.92951964\n",
      "홍대입구역(가상) 37.5586515499 126.9259252365\n",
      "홍대입구역 37.5574769032 126.9245894295\n",
      "서교동 37.5542490276 126.9202362534\n",
      "합정역(가상) 37.5514613841 126.9161214841\n",
      "합정역 37.5496815057 126.9139971746\n",
      "양화대교전망카페 37.539938 126.900755\n",
      "양평한신아파트.선유도공원입구 37.5418639873 126.8948788945\n",
      "영등포아리수정수센터 37.547524111 126.8841131456\n",
      "염창역.서울도시가스 37.5470974954 126.8758813624\n",
      "등촌역.강서보건소 37.5490054028 126.8686519482\n",
      "영일고등학교.강서도서관 37.5489885793 126.8633553696\n",
      "아이파크아파트.백석중학교.실로암안과 37.5451448999 126.8621412863\n",
      "등촌2동주민센터.등촌동대림아파트 37.5419424703 126.8629698908\n",
      "대일고교.임광아파트.배광교회 37.539791346 126.8635679255\n",
      "용문사.시립화곡청소년센터 37.5370972069 126.8633458107\n",
      "목동사거리 37.5316337661 126.863608811\n",
      "목동역.홍익병원 37.5280495538 126.8639151684\n",
      "목동역.목동오거리 37.5259586072 126.8627909553\n",
      "신서고교.영상고교입구 37.5256530348 126.8603986015\n",
      "신정역(은행정).신정4동주민센터 37.5248278283 126.8542358004\n",
      "양강중학교 37.5238313525 126.8496618667\n",
      "신월2동주민센터입구.경창전통시장 37.523024001 126.8461879449\n",
      "강서초등학교 37.5220325224 126.8418886018\n",
      "한빛종합사회복지관 37.5213400091 126.8388739221\n",
      "신월문화체육센터 37.5202074111 126.8363127897\n",
      "신월시영아파트중문 37.5191018902 126.8364045776\n",
      "금실어린이공원 37.5174285164 126.8378532017\n",
      "신월시영아파트.강월초등학교 37.515937 126.835305\n",
      "양천중앙도서관.푸른마을2단지 37.514032 126.833988\n",
      "푸른마을1단지.이든채아파트 37.512878 126.83488\n",
      "대일관광고.푸른마을3단지 37.511319 126.835885\n",
      "양천공영차고지 37.508418 126.837237\n"
     ]
    }
   ],
   "source": [
    "# 버스ID로 노선목록을 출력(busRouteId, key를 반드시 알고 있어야 함) - 4번 서비스\n",
    "url2 = 'http://ws.bus.go.kr/api/rest/busRouteInfo/getStaionByRoute?serviceKey='+key+'&busRouteId='+busRouteId\n",
    "# url은 노선정보죄_서비스_활용가이드 다큐먼트 (4)의 call back url을 참조\n",
    "savefilename = 'C:/Users/yoon/Desktop/Faust/07_python/src/data/2_station.xml'\n",
    "req.urlretrieve(url2, savefilename)\n",
    "xml = open(savefilename, 'r', encoding='utf-8').read()\n",
    "soup = BeautifulSoup(xml, 'xml')\n",
    "busStation = []\n",
    "for itemList in soup.find_all('itemList'):\n",
    "    stationNm = itemList.find('stationNm').text\n",
    "    gpsX      = itemList.find('gpsX').text\n",
    "    gpsY      = itemList.find('gpsY').text\n",
    "    busStation.append(  (stationNm, gpsX, gpsY)  )\n",
    "print(busNum + '번 버스 정류소 및 위치')\n",
    "print(len(busStation), '개 정류소')\n",
    "print('정류소이름\\t위도\\t경도')\n",
    "for stationNm, gpsX, gpsY in busStation:\n",
    "    print(stationNm, gpsY, gpsX)"
   ]
  },
  {
   "cell_type": "code",
   "execution_count": 14,
   "id": "559ed2b6",
   "metadata": {
    "scrolled": true
   },
   "outputs": [
    {
     "name": "stdout",
     "output_type": "stream",
     "text": [
      "602 번 버스 정류소 위치\n",
      "84 개 정류소\n",
      "정류소명\t위도\t경도\n",
      "양천공영차고지 126.8376574871 37.5087026881\n",
      "대일관광고.푸른마을3단지 126.8363632761 37.5110757405\n",
      "푸른마을1단지.이든채아파트 126.8353881275 37.5126531126\n",
      "양천중앙도서관.푸른마을2단지 126.8340906245 37.5141912766\n",
      "신월시영아파트.강월초등학교 126.83553 37.515731\n",
      "금실어린이공원 126.8377738585 37.5179542888\n",
      "신월시영아파트중문 126.8368312753 37.5190114694\n",
      "신월문화체육센터 126.8364820681 37.5200794793\n",
      "한빛종합사회복지관 126.8391118869 37.5211610149\n",
      "강서초등학교 126.8416877902 37.5217637261\n",
      "신월2동주민센터입구 126.8455539606 37.5226798553\n",
      "양강중학교 126.8499936 37.5237110271\n",
      "신정역(은행정).신정4동주민센터 126.8542989447 37.5246301301\n",
      "신서고등학교.영상고등학교입구 126.8599725442 37.5253957175\n",
      "목동역.목동오거리 126.8631068968 37.5258057871\n",
      "목동역.홍익병원 126.8643441254 37.5273462899\n",
      "홍익병원목동관 126.8640381595 37.5307277573\n",
      "목동사거리 126.8638355299 37.5332695189\n",
      "영도중.강서고입구.기아양서대리점 126.8636220426 37.5361735073\n",
      "목동시장.대일고교.배광교회 126.863840943 37.5390050043\n",
      "목동성원아파트 126.8631752063 37.5422950368\n",
      "목3동주민센터.현대아이파크.실로암안과 126.8624010187 37.5448325228\n",
      "목3동시장.강서도서관 126.8639369391 37.5496948079\n",
      "등촌역.강서보건소 126.8675998318 37.5494106214\n",
      "염창역.서울도시가스 126.875005296 37.5469638223\n",
      "안양천입구 126.8836668131 37.5473061425\n",
      "양평동한솔아파트 126.89034721 37.5439165302\n",
      "양평한신아파트.선유도공원입구 126.8944278421 37.5416485864\n",
      "양화대교전망카페 126.901182 37.53982\n",
      "합정역(가상) 126.9099652884 37.5478537853\n",
      "합정역 126.912832397 37.5488741717\n",
      "서교동 126.9195815796 37.5536367406\n",
      "홍대입구역(가상) 126.9218643721 37.5552260552\n",
      "홍대입구역 126.9231959983 37.5563734241\n",
      "동교동삼거리 126.9284587797 37.5580596154\n",
      "신촌오거리.현대백화점 126.9358930618 37.5553966479\n",
      "신촌오거리.2호선신촌역 126.9401437605 37.5560656888\n",
      "이대역 126.9445938349 37.5566130226\n",
      "웨딩타운 126.951517 37.557092\n",
      "아현역 126.9547468414 37.5572984359\n",
      "충정로역 126.9634916293 37.5610582642\n",
      "서대문역사거리 126.966565 37.565579\n",
      "서울역사박물관.경희궁앞 126.97038 37.569135\n",
      "광화문 126.9763838838 37.569845398\n",
      "서소문 126.9753398851 37.5636754044\n",
      "충정로역2호선 126.9640265994 37.5596112723\n",
      "아현역 126.956593 37.557425\n",
      "웨딩타운 126.952408 37.557227\n",
      "이대역 126.9472705221 37.5568755655\n",
      "신촌오거리.2호선신촌역 126.9389815648 37.555788458\n",
      "신촌오거리.현대백화점 126.9345037666 37.5559833987\n",
      "동교동삼거리 126.92951964 37.5577646946\n",
      "홍대입구역(가상) 126.9259252365 37.5586515499\n",
      "홍대입구역 126.9245894295 37.5574769032\n",
      "서교동 126.9202362534 37.5542490276\n",
      "합정역(가상) 126.9161214841 37.5514613841\n",
      "합정역 126.9139971746 37.5496815057\n",
      "양화대교전망카페 126.900755 37.539938\n",
      "양평한신아파트.선유도공원입구 126.8948788945 37.5418639873\n",
      "영등포아리수정수센터 126.8841131456 37.547524111\n",
      "염창역.서울도시가스 126.8758813624 37.5470974954\n",
      "등촌역.강서보건소 126.8686519482 37.5490054028\n",
      "영일고등학교.강서도서관 126.8633553696 37.5489885793\n",
      "아이파크아파트.백석중학교.실로암안과 126.8621412863 37.5451448999\n",
      "등촌2동주민센터.등촌동대림아파트 126.8629698908 37.5419424703\n",
      "대일고교.임광아파트.배광교회 126.8635679255 37.539791346\n",
      "용문사.시립화곡청소년센터 126.8633458107 37.5370972069\n",
      "목동사거리 126.863608811 37.5316337661\n",
      "목동역.홍익병원 126.8639151684 37.5280495538\n",
      "목동역.목동오거리 126.8627909553 37.5259586072\n",
      "신서고교.영상고교입구 126.8603986015 37.5256530348\n",
      "신정역(은행정).신정4동주민센터 126.8542358004 37.5248278283\n",
      "양강중학교 126.8496618667 37.5238313525\n",
      "신월2동주민센터입구.경창전통시장 126.8461879449 37.523024001\n",
      "강서초등학교 126.8418886018 37.5220325224\n",
      "한빛종합사회복지관 126.8388739221 37.5213400091\n",
      "신월문화체육센터 126.8363127897 37.5202074111\n",
      "신월시영아파트중문 126.8364045776 37.5191018902\n",
      "금실어린이공원 126.8378532017 37.5174285164\n",
      "신월시영아파트.강월초등학교 126.835305 37.515937\n",
      "양천중앙도서관.푸른마을2단지 126.833988 37.514032\n",
      "푸른마을1단지.이든채아파트 126.83488 37.512878\n",
      "대일관광고.푸른마을3단지 126.835885 37.511319\n",
      "양천공영차고지 126.837237 37.508418\n"
     ]
    }
   ],
   "source": [
    "# 버스ID로 노선목록을 출력(busRouteId, key를 반드시 알고 있어야 함) - 4번 서비스\n",
    "url2 = 'http://ws.bus.go.kr/api/rest/busRouteInfo/getStaionByRoute?serviceKey='+key+'&busRouteId='+busRouteId\n",
    "\n",
    "import requests\n",
    "resp2 = requests.get(url2)\n",
    "    # urlretrieve을 이용해 로컬파일을 생성하는 대신 requests.get()을 이용해 BeautifulSoup이 직접(HTML 혹은 XML로부터) 데이터를 뽑아낼 수 있도록\n",
    "\n",
    "from bs4 import BeautifulSoup\n",
    "soup = BeautifulSoup(resp2.content, 'xml')\n",
    "\n",
    "BusStation = []\n",
    "for itemList in soup.find_all('itemList'):\n",
    "    stationNm = itemList.find('stationNm').text # idx 지정 안해도 다음 차례로 알아서 넘어가는지 조차 헷깔림...\n",
    "    gpsX = itemList.find('gpsX').text\n",
    "    gpsY = itemList.find('gpsY').text\n",
    "    BusStation.append([stationNm, gpsX, gpsY])\n",
    "\n",
    "# print(BusStation)\n",
    "print(busNum, '번 버스 정류소 위치')\n",
    "print(len(BusStation),'개 정류소')\n",
    "print('정류소명\\t위도\\t경도')  \n",
    "for stationNm, gpsX, gpsY in BusStation: # 2차 array에서 각 요소의 1번 항목을 stationNm, 2번 항목을 gpsX, 3번 항목을 gpsY로 지정한 것임\n",
    "    print(stationNm, gpsX, gpsY)          # for문 사용에 for i in iterable 만 생각하려함...\n",
    "    \n",
    "import pandas as pd                      # 데이터 프레임으로 만들어보기\n",
    "df_BusStation = pd.DataFrame(BusStation, columns=['StationNm', 'gpsX', 'gpsY'])\n",
    "df_BusStation\n",
    "\n",
    "# csv 파일로 출력하기(내보내기) -1.to_csv\n",
    "# df_BusStation.to_csv('ch14_BusStation.csv') # csv.writerows를 사용한다면 pandas로 dataframe 변환하는 과정없이 list상태에서 바로 csv 쓰기 가능?\n",
    "\n",
    "# csv 파일로 출력하기(내보내기) -2.csv.writer + header추가\n",
    "# import csv\n",
    "# with open('ch14_BusStation.csv', 'w', encoding = 'cp949', newline = '') as f:\n",
    "#     writer = csv.writer(f)\n",
    "#     writer.writerow(['StationNm', 'gpsX', 'gpsY']) # 헤더를 쓰기함\n",
    "\n",
    "# with open('ch14_BusStation.csv', 'a', encoding = 'cp949', newline = '') as f:\n",
    "#     writer = csv.writer(f)\n",
    "#     writer.writerows(BusStation)                   # API를 통해 읽어들인 내용을 모두 덧붙여 쓰기함.\n",
    "\n",
    "# 헤더추가 구글링을 통해 찾은 방법\n",
    "# import csv\n",
    "# with open('ch14_test.csv', 'w', encoding='cp949', newline='') as test:\n",
    "#     writer = csv.writer(test)\n",
    "#     writer.writerow(['header1', 'header2', 'header3'])\n",
    "#     with open('ch14_BusStation.csv', 'r', encoding='cp949', newline='') as f:\n",
    "#         reader = csv.reader(f)\n",
    "#         writer.writerows(row + [0.0] for row in reader) # 헤더가 추가되고 0.0으로 이루어진 열도 하나 더 추가됨\n",
    "\n",
    "# writer.writeheader 메서드 확인할 것 <- csv.Dictwriter 객체인 writer객체에서만 사용가능한듯"
   ]
  },
  {
   "cell_type": "code",
   "execution_count": null,
   "id": "d99e0bac",
   "metadata": {},
   "outputs": [],
   "source": [
    "# 버스 위치정보 조회서비스(버스위치정보조회서비스 인증키, 버스id ) - 2번 서비스"
   ]
  },
  {
   "cell_type": "code",
   "execution_count": 9,
   "id": "0ab12616",
   "metadata": {
    "ExecuteTime": {
     "end_time": "2021-09-23T07:49:02.295697Z",
     "start_time": "2021-09-23T07:49:02.251814Z"
    }
   },
   "outputs": [
    {
     "name": "stdout",
     "output_type": "stream",
     "text": [
      "602 번 운행중인 버스위치 ( 16 대 운행중)\n",
      "차량번호 \t 위도 \t경도 \t 만차여부\n",
      "('서울75사1915', '37.516468', '126.837787', '0')\n",
      "('서울75사1914', '37.522131', '126.842909', '0')\n",
      "('서울75사1912', '37.529556', '126.864049', '0')\n",
      "('서울75사1807', '37.550674', '126.864416', '0')\n",
      "('서울74사9600', '37.544556', '126.905627', '0')\n",
      "('서울74사9591', '37.55562', '126.922289', '0')\n",
      "('서울74사9576', '37.56544', '126.966505', '0')\n",
      "('서울74사9509', '37.564274', '126.97674', '0')\n",
      "('서울74사9505', '37.556018', '126.934568', '0')\n",
      "('서울74사5293', '37.553205', '126.918774', '0')\n",
      "('서울74사5292', '37.539938', '126.900755', '0')\n",
      "('서울74사5290', '37.550803', '126.865489', '0')\n",
      "('서울74사5289', '37.530552', '126.863841', '0')\n",
      "('서울74사5277', '37.524155', '126.851309', '0')\n",
      "('서울74사5273', '37.522419', '126.843773', '0')\n",
      "('서울74사5271', '37.513686', '126.834589', '0')\n"
     ]
    }
   ],
   "source": [
    "key = '4VMarOvVACqVGFf0LQPL667to%2B2Y8xy0PME0Z%2FuQ1xyyd8KcVdph%2F5m0c4m%2BmK4r%2BaLLlBeiwinnpNlH7IcpGQ%3D%3D'\n",
    "url3 = 'http://ws.bus.go.kr/api/rest/buspos/getBusPosByRtid?serviceKey='+key+'&busRouteId=' + busRouteId\n",
    "#print(url3)\n",
    "savename = 'D:/bigdata/src/3_busPosition.xml'\n",
    "req.urlretrieve(url3, savefilename)\n",
    "xml = open(savefilename, 'r', encoding = 'utf-8').read()\n",
    "soup = BeautifulSoup(xml, 'xml')\n",
    "busPos = []\n",
    "for itemList in soup.find_all('itemList'):\n",
    "    plainNo = itemList.find('plainNo').text\n",
    "    gpsX = itemList.find('gpsX').text\n",
    "    gpsY = itemList.find('gpsY').text\n",
    "    isFullFlag = itemList.find('isFullFlag').text\n",
    "    busPos.append( (plainNo, gpsY, gpsX, isFullFlag) )\n",
    "print(busNum, '번 운행중인 버스위치 (', len(busPos), '대 운행중)' )\n",
    "if len(busPos) != 0 :\n",
    "    print('차량번호 \\t 위도 \\t경도 \\t 만차여부')\n",
    "    for bus in busPos:\n",
    "        print(bus)\n",
    "#   for no, lat, long, isfull in busPos\n",
    "#        print(no, x ,t, isFull)\n"
   ]
  },
  {
   "cell_type": "code",
   "execution_count": 29,
   "id": "8886fdba",
   "metadata": {},
   "outputs": [
    {
     "name": "stdout",
     "output_type": "stream",
     "text": [
      "602 번 버스 위치정보 :  현재  19 대 운행중\n",
      "차량번호\t버스ID\t차량유형\t위도\t\t경도\t다음정류소 도착소요시간\n",
      "서울74사5256 114070405 \t 1 \t 126.836339 \t 37.511308 \t 982\n",
      "서울74사5253 114070329 \t 1 \t 126.837105 \t 37.520715 \t 526\n",
      "서울70사7936 114070388 \t 1 \t 126.858935 \t 37.525288 \t 593\n",
      "서울74사5292 114070433 \t 1 \t 126.863769 \t 37.539045 \t 271\n",
      "서울75사1915 114070419 \t 1 \t 126.863889 \t 37.549849 \t 115\n",
      "서울75사1912 114070414 \t 1 \t 126.912911 \t 37.548922 \t 792\n",
      "서울75사1807 114070332 \t 1 \t 126.923621 \t 37.556632 \t 384\n",
      "서울74사9600 114070424 \t 1 \t 126.936671 \t 37.555092 \t 136\n",
      "서울74사9591 114070385 \t 1 \t 126.960332 \t 37.557949 \t 1349\n",
      "서울74사9576 114070389 \t 1 \t 126.975121 \t 37.563556 \t 621\n",
      "서울74사9509 114070354 \t 1 \t 126.952408 \t 37.557227 \t 84\n",
      "서울74사9505 114070398 \t 1 \t 126.937145 \t 37.555291 \t 1167\n",
      "서울74사5293 114070372 \t 1 \t 126.921739 \t 37.555439 \t 805\n",
      "서울74사5290 114070375 \t 1 \t 126.913997 \t 37.549682 \t 493\n",
      "서울74사5289 114070441 \t 1 \t 126.887113 \t 37.545884 \t 201\n",
      "서울74사5277 114070400 \t 1 \t 126.863472 \t 37.537153 \t 281\n",
      "서울74사5273 114070439 \t 1 \t 126.860399 \t 37.525653 \t 114\n",
      "서울75사1914 114070418 \t 1 \t 126.851648 \t 37.52423 \t 113\n",
      "서울74사5271 114070374 \t 1 \t 126.835984 \t 37.519803 \t 116\n"
     ]
    }
   ],
   "source": [
    "# 버스 위치정보 조회서비스(버스위치정보조회서비스 인증키, 버스id ) - - 2번 서비스\n",
    "    # urlretrieve로 파일생성 대신 request.get으로 BeautifulSoup의 타겟객체 생성하기.\n",
    "key = '4VMarOvVACqVGFf0LQPL667to%2B2Y8xy0PME0Z%2FuQ1xyyd8KcVdph%2F5m0c4m%2BmK4r%2BaLLlBeiwinnpNlH7IcpGQ%3D%3D'\n",
    "url3 = 'http://ws.bus.go.kr/api/rest/buspos/getBusPosByRtid?serviceKey='+key+'&busRouteId=' + busRouteId\n",
    "\n",
    "import requests\n",
    "resp3 = requests.get(url3)\n",
    "soup = BeautifulSoup(resp3.content, 'xml')\n",
    "\n",
    "busPos = []\n",
    "for itemList in soup.find_all('itemList'):\n",
    "    vehId = itemList.find('vehId').text\n",
    "    plainNo = itemList.find('plainNo').text\n",
    "    busType = itemList.find('busType').text\n",
    "    gpsX = itemList.find('gpsX').text\n",
    "    gpsY = itemList.find('gpsY').text\n",
    "    nextStTm = itemList.find('nextStTm').text\n",
    "    busPos.append([plainNo, vehId, busType, gpsX, gpsY, nextStTm])\n",
    "\n",
    "print(busNum, '번 버스 위치정보 : ', '현재 ', len(busPos), '대 운행중')\n",
    "print('차량번호\\t버스ID\\t차량유형\\t위도\\t\\t경도\\t다음정류소 도착소요시간')\n",
    "if len(busPos) != 0:\n",
    "    for plainNo, vehId, busType, gpsX, gpsY, nextStTm in busPos:\n",
    "        print(plainNo, vehId,'\\t', busType, '\\t', gpsX, '\\t',gpsY, '\\t', nextStTm)\n",
    "\n",
    "import csv\n",
    "with open('ch14_busPos.csv', 'w', encoding = 'CP949', newline = '') as f:\n",
    "    writer = csv.writer(f)\n",
    "    writer.writerow(['plainNo', 'vehId', 'busType', 'gpsX', 'gpsY', 'nextStTm'])\n",
    "    writer.writerows(busPos)"
   ]
  },
  {
   "cell_type": "code",
   "execution_count": null,
   "id": "4ace18d8",
   "metadata": {},
   "outputs": [],
   "source": []
  },
  {
   "cell_type": "code",
   "execution_count": null,
   "id": "ddff58a7",
   "metadata": {},
   "outputs": [],
   "source": []
  },
  {
   "cell_type": "code",
   "execution_count": null,
   "id": "8e8902ad",
   "metadata": {},
   "outputs": [],
   "source": []
  },
  {
   "cell_type": "code",
   "execution_count": null,
   "id": "d4bce853",
   "metadata": {},
   "outputs": [],
   "source": []
  },
  {
   "cell_type": "code",
   "execution_count": null,
   "id": "21c53c11",
   "metadata": {},
   "outputs": [],
   "source": []
  },
  {
   "cell_type": "code",
   "execution_count": 22,
   "id": "3ea79fed",
   "metadata": {},
   "outputs": [
    {
     "name": "stdout",
     "output_type": "stream",
     "text": [
      "C:\\Users\\yoon\\anaconda3\\python.exe\n"
     ]
    }
   ],
   "source": [
    "import sys\n",
    "print(sys.executable)"
   ]
  },
  {
   "cell_type": "code",
   "execution_count": 27,
   "id": "13f50e8a",
   "metadata": {},
   "outputs": [
    {
     "name": "stderr",
     "output_type": "stream",
     "text": [
      "C:\\Users\\yoon\\AppData\\Local\\Temp/ipykernel_16036/941491850.py:2: DeprecationWarning: executable_path has been deprecated, please pass in a Service object\n",
      "  dv = webdriver.Chrome('C:/Users/yoon/Desktop/Faust/chromedriver_win32/chromedriver')\n"
     ]
    },
    {
     "ename": "WebDriverException",
     "evalue": "Message: 'chromedriver' executable needs to be in PATH. Please see https://chromedriver.chromium.org/home\n",
     "output_type": "error",
     "traceback": [
      "\u001b[1;31m---------------------------------------------------------------------------\u001b[0m",
      "\u001b[1;31mFileNotFoundError\u001b[0m                         Traceback (most recent call last)",
      "\u001b[1;32m~\\anaconda3\\lib\\site-packages\\selenium\\webdriver\\common\\service.py\u001b[0m in \u001b[0;36mstart\u001b[1;34m(self)\u001b[0m\n\u001b[0;32m     70\u001b[0m             \u001b[0mcmd\u001b[0m\u001b[1;33m.\u001b[0m\u001b[0mextend\u001b[0m\u001b[1;33m(\u001b[0m\u001b[0mself\u001b[0m\u001b[1;33m.\u001b[0m\u001b[0mcommand_line_args\u001b[0m\u001b[1;33m(\u001b[0m\u001b[1;33m)\u001b[0m\u001b[1;33m)\u001b[0m\u001b[1;33m\u001b[0m\u001b[1;33m\u001b[0m\u001b[0m\n\u001b[1;32m---> 71\u001b[1;33m             self.process = subprocess.Popen(cmd, env=self.env,\n\u001b[0m\u001b[0;32m     72\u001b[0m                                             \u001b[0mclose_fds\u001b[0m\u001b[1;33m=\u001b[0m\u001b[0msystem\u001b[0m\u001b[1;33m(\u001b[0m\u001b[1;33m)\u001b[0m \u001b[1;33m!=\u001b[0m \u001b[1;34m'Windows'\u001b[0m\u001b[1;33m,\u001b[0m\u001b[1;33m\u001b[0m\u001b[1;33m\u001b[0m\u001b[0m\n",
      "\u001b[1;32m~\\anaconda3\\lib\\subprocess.py\u001b[0m in \u001b[0;36m__init__\u001b[1;34m(self, args, bufsize, executable, stdin, stdout, stderr, preexec_fn, close_fds, shell, cwd, env, universal_newlines, startupinfo, creationflags, restore_signals, start_new_session, pass_fds, user, group, extra_groups, encoding, errors, text, umask)\u001b[0m\n\u001b[0;32m    950\u001b[0m \u001b[1;33m\u001b[0m\u001b[0m\n\u001b[1;32m--> 951\u001b[1;33m             self._execute_child(args, executable, preexec_fn, close_fds,\n\u001b[0m\u001b[0;32m    952\u001b[0m                                 \u001b[0mpass_fds\u001b[0m\u001b[1;33m,\u001b[0m \u001b[0mcwd\u001b[0m\u001b[1;33m,\u001b[0m \u001b[0menv\u001b[0m\u001b[1;33m,\u001b[0m\u001b[1;33m\u001b[0m\u001b[1;33m\u001b[0m\u001b[0m\n",
      "\u001b[1;32m~\\anaconda3\\lib\\subprocess.py\u001b[0m in \u001b[0;36m_execute_child\u001b[1;34m(self, args, executable, preexec_fn, close_fds, pass_fds, cwd, env, startupinfo, creationflags, shell, p2cread, p2cwrite, c2pread, c2pwrite, errread, errwrite, unused_restore_signals, unused_gid, unused_gids, unused_uid, unused_umask, unused_start_new_session)\u001b[0m\n\u001b[0;32m   1419\u001b[0m             \u001b[1;32mtry\u001b[0m\u001b[1;33m:\u001b[0m\u001b[1;33m\u001b[0m\u001b[1;33m\u001b[0m\u001b[0m\n\u001b[1;32m-> 1420\u001b[1;33m                 hp, ht, pid, tid = _winapi.CreateProcess(executable, args,\n\u001b[0m\u001b[0;32m   1421\u001b[0m                                          \u001b[1;31m# no special security\u001b[0m\u001b[1;33m\u001b[0m\u001b[1;33m\u001b[0m\u001b[0m\n",
      "\u001b[1;31mFileNotFoundError\u001b[0m: [WinError 2] 지정된 파일을 찾을 수 없습니다",
      "\nDuring handling of the above exception, another exception occurred:\n",
      "\u001b[1;31mWebDriverException\u001b[0m                        Traceback (most recent call last)",
      "\u001b[1;32m~\\AppData\\Local\\Temp/ipykernel_16036/941491850.py\u001b[0m in \u001b[0;36m<module>\u001b[1;34m\u001b[0m\n\u001b[0;32m      1\u001b[0m \u001b[1;32mfrom\u001b[0m \u001b[0mselenium\u001b[0m \u001b[1;32mimport\u001b[0m \u001b[0mwebdriver\u001b[0m\u001b[1;33m\u001b[0m\u001b[1;33m\u001b[0m\u001b[0m\n\u001b[1;32m----> 2\u001b[1;33m \u001b[0mdv\u001b[0m \u001b[1;33m=\u001b[0m \u001b[0mwebdriver\u001b[0m\u001b[1;33m.\u001b[0m\u001b[0mChrome\u001b[0m\u001b[1;33m(\u001b[0m\u001b[1;34m'C:/Users/yoon/Desktop/Faust/chromedriver_win32/chromedriver'\u001b[0m\u001b[1;33m)\u001b[0m\u001b[1;33m\u001b[0m\u001b[1;33m\u001b[0m\u001b[0m\n\u001b[0m",
      "\u001b[1;32m~\\anaconda3\\lib\\site-packages\\selenium\\webdriver\\chrome\\webdriver.py\u001b[0m in \u001b[0;36m__init__\u001b[1;34m(self, executable_path, port, options, service_args, desired_capabilities, service_log_path, chrome_options, service, keep_alive)\u001b[0m\n\u001b[0;32m     68\u001b[0m             \u001b[0mservice\u001b[0m \u001b[1;33m=\u001b[0m \u001b[0mService\u001b[0m\u001b[1;33m(\u001b[0m\u001b[0mexecutable_path\u001b[0m\u001b[1;33m,\u001b[0m \u001b[0mport\u001b[0m\u001b[1;33m,\u001b[0m \u001b[0mservice_args\u001b[0m\u001b[1;33m,\u001b[0m \u001b[0mservice_log_path\u001b[0m\u001b[1;33m)\u001b[0m\u001b[1;33m\u001b[0m\u001b[1;33m\u001b[0m\u001b[0m\n\u001b[0;32m     69\u001b[0m \u001b[1;33m\u001b[0m\u001b[0m\n\u001b[1;32m---> 70\u001b[1;33m         super(WebDriver, self).__init__(DesiredCapabilities.CHROME['browserName'], \"goog\",\n\u001b[0m\u001b[0;32m     71\u001b[0m                                         \u001b[0mport\u001b[0m\u001b[1;33m,\u001b[0m \u001b[0moptions\u001b[0m\u001b[1;33m,\u001b[0m\u001b[1;33m\u001b[0m\u001b[1;33m\u001b[0m\u001b[0m\n\u001b[0;32m     72\u001b[0m                                         \u001b[0mservice_args\u001b[0m\u001b[1;33m,\u001b[0m \u001b[0mdesired_capabilities\u001b[0m\u001b[1;33m,\u001b[0m\u001b[1;33m\u001b[0m\u001b[1;33m\u001b[0m\u001b[0m\n",
      "\u001b[1;32m~\\anaconda3\\lib\\site-packages\\selenium\\webdriver\\chromium\\webdriver.py\u001b[0m in \u001b[0;36m__init__\u001b[1;34m(self, browser_name, vendor_prefix, port, options, service_args, desired_capabilities, service_log_path, service, keep_alive)\u001b[0m\n\u001b[0;32m     88\u001b[0m \u001b[1;33m\u001b[0m\u001b[0m\n\u001b[0;32m     89\u001b[0m         \u001b[0mself\u001b[0m\u001b[1;33m.\u001b[0m\u001b[0mservice\u001b[0m \u001b[1;33m=\u001b[0m \u001b[0mservice\u001b[0m\u001b[1;33m\u001b[0m\u001b[1;33m\u001b[0m\u001b[0m\n\u001b[1;32m---> 90\u001b[1;33m         \u001b[0mself\u001b[0m\u001b[1;33m.\u001b[0m\u001b[0mservice\u001b[0m\u001b[1;33m.\u001b[0m\u001b[0mstart\u001b[0m\u001b[1;33m(\u001b[0m\u001b[1;33m)\u001b[0m\u001b[1;33m\u001b[0m\u001b[1;33m\u001b[0m\u001b[0m\n\u001b[0m\u001b[0;32m     91\u001b[0m \u001b[1;33m\u001b[0m\u001b[0m\n\u001b[0;32m     92\u001b[0m         \u001b[1;32mtry\u001b[0m\u001b[1;33m:\u001b[0m\u001b[1;33m\u001b[0m\u001b[1;33m\u001b[0m\u001b[0m\n",
      "\u001b[1;32m~\\anaconda3\\lib\\site-packages\\selenium\\webdriver\\common\\service.py\u001b[0m in \u001b[0;36mstart\u001b[1;34m(self)\u001b[0m\n\u001b[0;32m     79\u001b[0m         \u001b[1;32mexcept\u001b[0m \u001b[0mOSError\u001b[0m \u001b[1;32mas\u001b[0m \u001b[0merr\u001b[0m\u001b[1;33m:\u001b[0m\u001b[1;33m\u001b[0m\u001b[1;33m\u001b[0m\u001b[0m\n\u001b[0;32m     80\u001b[0m             \u001b[1;32mif\u001b[0m \u001b[0merr\u001b[0m\u001b[1;33m.\u001b[0m\u001b[0merrno\u001b[0m \u001b[1;33m==\u001b[0m \u001b[0merrno\u001b[0m\u001b[1;33m.\u001b[0m\u001b[0mENOENT\u001b[0m\u001b[1;33m:\u001b[0m\u001b[1;33m\u001b[0m\u001b[1;33m\u001b[0m\u001b[0m\n\u001b[1;32m---> 81\u001b[1;33m                 raise WebDriverException(\n\u001b[0m\u001b[0;32m     82\u001b[0m                     \"'%s' executable needs to be in PATH. %s\" % (\n\u001b[0;32m     83\u001b[0m                         os.path.basename(self.path), self.start_error_message)\n",
      "\u001b[1;31mWebDriverException\u001b[0m: Message: 'chromedriver' executable needs to be in PATH. Please see https://chromedriver.chromium.org/home\n"
     ]
    }
   ],
   "source": [
    "from selenium import webdriver\n",
    "dv = webdriver.Chrome('C:/Users/yoon/Desktop/Faust/chromedriver_win32/chromedriver.exe') # 왜 오류가 발생하는거지 ?"
   ]
  },
  {
   "cell_type": "code",
   "execution_count": 4,
   "id": "5080a494",
   "metadata": {},
   "outputs": [
    {
     "name": "stderr",
     "output_type": "stream",
     "text": [
      "\n",
      "\n",
      "====== WebDriver manager ======\n",
      "Current google-chrome version is 100.0.4896\n",
      "Get LATEST chromedriver version for 100.0.4896 google-chrome\n",
      "Driver [C:\\Users\\yoon\\.wdm\\drivers\\chromedriver\\win32\\100.0.4896.60\\chromedriver.exe] found in cache\n",
      "C:\\Users\\yoon\\AppData\\Local\\Temp/ipykernel_16036/2763603672.py:3: DeprecationWarning: executable_path has been deprecated, please pass in a Service object\n",
      "  dv = webdriver.Chrome(ChromeDriverManager().install())\n"
     ]
    }
   ],
   "source": [
    "from selenium import webdriver\n",
    "from webdriver_manager.chrome import ChromeDriverManager\n",
    "dv = webdriver.Chrome(ChromeDriverManager().install())\n",
    "# dv = webdriver.Chrome()\n",
    "dv.get('http://python.org')"
   ]
  },
  {
   "cell_type": "code",
   "execution_count": 7,
   "id": "bcc0a902",
   "metadata": {},
   "outputs": [
    {
     "name": "stderr",
     "output_type": "stream",
     "text": [
      "C:\\Users\\yoon\\AppData\\Local\\Temp/ipykernel_16036/4141504575.py:1: DeprecationWarning: find_element_by_name is deprecated. Please use find_element(by=By.NAME, value=name) instead\n",
      "  elem = dv.find_element_by_name('q')\n"
     ]
    }
   ],
   "source": [
    "elem = dv.find_element_by_name('q')\n",
    "elem.clear()\n",
    "elem.send_keys('pycon')"
   ]
  },
  {
   "cell_type": "code",
   "execution_count": 8,
   "id": "add43bce",
   "metadata": {},
   "outputs": [],
   "source": [
    "from selenium.webdriver.common.keys import Keys\n",
    "elem.send_keys(Keys.RETURN) # Enter키 효과"
   ]
  },
  {
   "cell_type": "code",
   "execution_count": null,
   "id": "c4b6a48c",
   "metadata": {},
   "outputs": [],
   "source": []
  },
  {
   "cell_type": "code",
   "execution_count": 11,
   "id": "e92fc13e",
   "metadata": {},
   "outputs": [
    {
     "name": "stderr",
     "output_type": "stream",
     "text": [
      "\n",
      "\n",
      "====== WebDriver manager ======\n",
      "Current google-chrome version is 100.0.4896\n",
      "Get LATEST chromedriver version for 100.0.4896 google-chrome\n",
      "Driver [C:\\Users\\yoon\\.wdm\\drivers\\chromedriver\\win32\\100.0.4896.60\\chromedriver.exe] found in cache\n",
      "C:\\Users\\yoon\\AppData\\Local\\Temp/ipykernel_16036/72701925.py:5: DeprecationWarning: executable_path has been deprecated, please pass in a Service object\n",
      "  dv = webdriver.Chrome(ChromeDriverManager().install())\n",
      "C:\\Users\\yoon\\AppData\\Local\\Temp/ipykernel_16036/72701925.py:7: DeprecationWarning: find_element_by_name is deprecated. Please use find_element(by=By.NAME, value=name) instead\n",
      "  elem = dv.find_element_by_name('query')\n"
     ]
    }
   ],
   "source": [
    "from selenium.webdriver.common.keys import Keys\n",
    "from bs4 import BeautifulSoup\n",
    "import time\n",
    "\n",
    "dv = webdriver.Chrome(ChromeDriverManager().install())\n",
    "dv.get('http://www.naver.com')\n",
    "elem = dv.find_element_by_name('query')\n",
    "elem.send_keys('맞춤법 검사기')\n",
    "elem.send_keys(Keys.RETURN)"
   ]
  },
  {
   "cell_type": "code",
   "execution_count": 15,
   "id": "96a3b57a",
   "metadata": {},
   "outputs": [
    {
     "name": "stderr",
     "output_type": "stream",
     "text": [
      "C:\\Users\\yoon\\AppData\\Local\\Temp/ipykernel_16036/3854416223.py:1: DeprecationWarning: find_element_by_class_name is deprecated. Please use find_element(by=By.CLASS_NAME, value=name) instead\n",
      "  textarea = dv.find_element_by_class_name('txt_gray')\n"
     ]
    }
   ],
   "source": [
    "textarea = dv.find_element_by_class_name('txt_gray')\n",
    "textarea.send_keys('한녕하세요. 반갑숩니다')"
   ]
  },
  {
   "cell_type": "code",
   "execution_count": 16,
   "id": "269fa0dc",
   "metadata": {},
   "outputs": [
    {
     "name": "stderr",
     "output_type": "stream",
     "text": [
      "C:\\Users\\yoon\\AppData\\Local\\Temp/ipykernel_16036/2393187548.py:1: DeprecationWarning: find_element_by_class_name is deprecated. Please use find_element(by=By.CLASS_NAME, value=name) instead\n",
      "  button = dv.find_element_by_class_name('btn_check')\n"
     ]
    }
   ],
   "source": [
    "button = dv.find_element_by_class_name('btn_check')\n",
    "button.click()"
   ]
  },
  {
   "cell_type": "code",
   "execution_count": null,
   "id": "26c3e700",
   "metadata": {},
   "outputs": [],
   "source": []
  },
  {
   "cell_type": "code",
   "execution_count": null,
   "id": "8b478ee2",
   "metadata": {},
   "outputs": [],
   "source": []
  },
  {
   "cell_type": "code",
   "execution_count": null,
   "id": "2bea342b",
   "metadata": {},
   "outputs": [],
   "source": []
  },
  {
   "cell_type": "code",
   "execution_count": null,
   "id": "08a34176",
   "metadata": {},
   "outputs": [],
   "source": []
  },
  {
   "cell_type": "code",
   "execution_count": null,
   "id": "725b82d7",
   "metadata": {},
   "outputs": [],
   "source": []
  },
  {
   "cell_type": "code",
   "execution_count": null,
   "id": "952dff96",
   "metadata": {},
   "outputs": [],
   "source": []
  },
  {
   "cell_type": "code",
   "execution_count": null,
   "id": "64f05b62",
   "metadata": {},
   "outputs": [],
   "source": []
  }
 ],
 "metadata": {
  "kernelspec": {
   "display_name": "Python 3 (ipykernel)",
   "language": "python",
   "name": "python3"
  },
  "language_info": {
   "codemirror_mode": {
    "name": "ipython",
    "version": 3
   },
   "file_extension": ".py",
   "mimetype": "text/x-python",
   "name": "python",
   "nbconvert_exporter": "python",
   "pygments_lexer": "ipython3",
   "version": "3.9.7"
  },
  "toc": {
   "base_numbering": 1,
   "nav_menu": {},
   "number_sections": true,
   "sideBar": true,
   "skip_h1_title": false,
   "title_cell": "Table of Contents",
   "title_sidebar": "Contents",
   "toc_cell": false,
   "toc_position": {},
   "toc_section_display": true,
   "toc_window_display": false
  },
  "varInspector": {
   "cols": {
    "lenName": 16,
    "lenType": 16,
    "lenVar": 40
   },
   "kernels_config": {
    "python": {
     "delete_cmd_postfix": "",
     "delete_cmd_prefix": "del ",
     "library": "var_list.py",
     "varRefreshCmd": "print(var_dic_list())"
    },
    "r": {
     "delete_cmd_postfix": ") ",
     "delete_cmd_prefix": "rm(",
     "library": "var_list.r",
     "varRefreshCmd": "cat(var_dic_list()) "
    }
   },
   "types_to_exclude": [
    "module",
    "function",
    "builtin_function_or_method",
    "instance",
    "_Feature"
   ],
   "window_display": false
  }
 },
 "nbformat": 4,
 "nbformat_minor": 5
}
