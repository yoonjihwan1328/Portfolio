{
 "cells": [
  {
   "cell_type": "markdown",
   "id": "a2121281",
   "metadata": {},
   "source": [
    "<b><font size=\"6\" color=\"red\">ch09. 파일 i/o 프로그래밍</font></b>"
   ]
  },
  {
   "cell_type": "code",
   "execution_count": null,
   "id": "aaa11a26",
   "metadata": {},
   "outputs": [],
   "source": [
    "csv서타일\n",
    "Choo,41\n",
    "Yuna, 32"
   ]
  },
  {
   "cell_type": "code",
   "execution_count": null,
   "id": "58393b0f",
   "metadata": {},
   "outputs": [],
   "source": [
    "json서타일\n",
    "[{'name':'Choo',\n",
    " 'age':41},\n",
    "{'name':'Yuna',\n",
    "'age':32}]"
   ]
  },
  {
   "cell_type": "code",
   "execution_count": null,
   "id": "f16e5333",
   "metadata": {},
   "outputs": [],
   "source": [
    "이건 무슨 서타일?\n",
    "<itemList>\n",
    "    <name>Choo</name>\n",
    "    <age>41</age>"
   ]
  },
  {
   "cell_type": "markdown",
   "id": "331e8d39",
   "metadata": {},
   "source": [
    "<b>Built-in-Functions</b> </br>\n",
    "https://docs.python.org/3/library/functions.html#open<br>\n",
    "<span style=\"color:Violet;\"> open(file, mode='r', buffering=- 1, encoding=None, errors=None, newline=None, closefd=True, opener=None)</span>\n",
    "\n",
    "<span style=\"color:tomato;\"><i>file</i></span> is a path-like object giving the pathname (absolute or relative to the current working directory) of the file to be opened or an integer file descriptor of the file to be wrapped. (If a file descriptor is given, it is closed when the returned I/O object is closed unless closefd is set to False.)\n",
    "\n",
    "<span style=\"color:tomato;\"><i>mode</i></span> is an optional string that specifies the mode in which the file is opened. It defaults to 'r' which means open for reading in text mode. Other common values are 'w' for writing (truncating the file if it already exists), 'x' for exclusive creation, and 'a' for appending (which on some Unix systems, means that all writes append to the end of the file regardless of the current seek position).\n",
    "\n",
    "In text mode, if encoding is not specified the encoding used is platform-dependent: locale.getpreferredencoding(False) is called to get the current locale encoding. (For reading and writing raw bytes use binary mode and leave encoding unspecified.) The available modes are:\n",
    "\n",
    "<br>\n",
    "<br>\n",
    "\n",
    "As mentioned in the Overview, Python distinguishes between binary and text I/O. Files opened in binary mode (including 'b' in the mode argument) return contents as bytes objects without any decoding. In text mode (the default, or when 't' is included in the mode argument), the contents of the file are returned as str, the bytes having been first decoded using a platform-dependent encoding or using the specified encoding if given."
   ]
  },
  {
   "cell_type": "markdown",
   "id": "f463a427",
   "metadata": {},
   "source": [
    "# 1절. 파일에 데이터 저장 or 불러오기"
   ]
  },
  {
   "cell_type": "markdown",
   "id": "f8f5c91c",
   "metadata": {},
   "source": [
    "기본적인 원리부분인듯\n",
    "아래 CSV, DicReader/Writer, Jason 부분 등장함."
   ]
  },
  {
   "cell_type": "code",
   "execution_count": 16,
   "id": "bfc9478b",
   "metadata": {
    "ExecuteTime": {
     "end_time": "2021-07-27T08:46:12.912605Z",
     "start_time": "2021-07-27T08:46:12.893661Z"
    },
    "scrolled": false
   },
   "outputs": [
    {
     "name": "stdout",
     "output_type": "stream",
     "text": [
      "True\n"
     ]
    }
   ],
   "source": [
    "# w : 기존에 파일이 있을 경우 '덮어씀'\n",
    "# a : 기존에 파일이 있는 경우 append, 끝에 '덧붙임'\n",
    "    # 없는 파일이면 새롭게 만들어서 쓰기\n",
    "f = open('data/ch09_sample.txt', 'a') # 텍스트 문서(메모장)가 생성됨\n",
    "print(f.writable())"
   ]
  },
  {
   "cell_type": "markdown",
   "id": "673980ad",
   "metadata": {},
   "source": [
    "<h2>write</h2>"
   ]
  },
  {
   "cell_type": "code",
   "execution_count": 6,
   "id": "e776303b",
   "metadata": {
    "ExecuteTime": {
     "end_time": "2021-07-27T08:11:31.540673Z",
     "start_time": "2021-07-27T08:11:31.517755Z"
    },
    "scrolled": false
   },
   "outputs": [],
   "source": [
    "# (1)\n",
    "f = open('data/ch09_sample.txt', 'a')\n",
    "f.write('Hello\\nWorld\\nHello\\nPython') # 한글을 write하면 (윈도우 기준으로) CP949로 저장됨\n",
    "f.close() # 반드시 close()실행할 것! 저장이 안 될 수도 있음!\n",
    "# open함수로 빈 파일을 미리 생성하고 write를 실시해야 함. \n",
    "# 경로에 파일이 없을 경우 ValueError : I/O operation on closed file."
   ]
  },
  {
   "cell_type": "code",
   "execution_count": 19,
   "id": "dbbf4be1",
   "metadata": {
    "ExecuteTime": {
     "end_time": "2021-07-27T08:44:30.603185Z",
     "start_time": "2021-07-27T08:44:30.590219Z"
    }
   },
   "outputs": [
    {
     "name": "stdout",
     "output_type": "stream",
     "text": [
      "True\n"
     ]
    }
   ],
   "source": [
    "# (2)\n",
    "# with구문을 사용하면 매번 close 코드를 입력해야 하는 절차가 불필요\n",
    "# (ch08.예외처리 맨 마지막에서 readlines시 with를 사용했었음)\n",
    "# If you’re not using the with keyword, then you should call f.close() \n",
    "# to close the file and immediately free up any system resources used by it.\n",
    "with open('data\\ch09_sample.txt','w') as f:\n",
    "    print(f.writable())\n",
    "    f.write('Python is easy. \\nPython is smart.')"
   ]
  },
  {
   "cell_type": "code",
   "execution_count": 75,
   "id": "c949c80b",
   "metadata": {
    "ExecuteTime": {
     "end_time": "2021-07-27T08:15:22.054382Z",
     "start_time": "2021-07-27T08:15:22.045388Z"
    },
    "scrolled": true
   },
   "outputs": [
    {
     "name": "stdout",
     "output_type": "stream",
     "text": [
      "프린트 함수로 파일 쓰기가 가능합니다\n"
     ]
    }
   ],
   "source": [
    "with open('data\\ch09_sample.txt', 'a') as f:\n",
    "    print(\"프린트 함수로 파일 쓰기가 가능합니다\", file = f) \n",
    "                    # print함수로 출력하면서 동시에 파일이 생성됨, file = f                                                  "
   ]
  },
  {
   "cell_type": "code",
   "execution_count": 9,
   "id": "c1263a3f",
   "metadata": {
    "ExecuteTime": {
     "end_time": "2021-07-27T09:13:52.056784Z",
     "start_time": "2021-07-27T09:13:52.046790Z"
    }
   },
   "outputs": [],
   "source": [
    "# (2), (3), (4)\n",
    "with open('data/ch09_sample.txt', 'w', encoding='utf-8') as f:\n",
    "    f.write('1방법 : Hello/nWorld')\n",
    "    textlist = ['Python is easy/n', 'R is easy/n', 'Java is smart/n']\n",
    "    f.write('2방법 : /n')\n",
    "    for line in textlist:       # for line in textlist[0:2]을 하면 첫 번째 등장에서 Java내용은 생략됨^^;\n",
    "        f.write(line)\n",
    "    f.write('3방법 :/n')\n",
    "    f.writelines(textlist)"
   ]
  },
  {
   "cell_type": "markdown",
   "id": "f7c1c80c",
   "metadata": {},
   "source": [
    "<h2>read</h2>"
   ]
  },
  {
   "cell_type": "code",
   "execution_count": 11,
   "id": "e0c2572e",
   "metadata": {
    "ExecuteTime": {
     "end_time": "2021-07-27T09:15:10.678188Z",
     "start_time": "2021-07-27T09:15:10.671228Z"
    }
   },
   "outputs": [
    {
     "name": "stdout",
     "output_type": "stream",
     "text": [
      "['1방법 : Hello/nWorld2방법 : /nPython is easy/nR is easy/nJava is smart/n3방법 :/nPython is easy/nR is easy/nJava is smart/n']\n"
     ]
    }
   ],
   "source": [
    "# (1)\n",
    "with open('data/ch09_sample.txt', 'r', encoding = 'utf-8') as txtfile:\n",
    "    lines = txtfile.readlines() # 한꺼번에 여러 줄을 읽어 list를 생성.\n",
    "    print(lines)"
   ]
  },
  {
   "cell_type": "code",
   "execution_count": 10,
   "id": "d0428394",
   "metadata": {
    "ExecuteTime": {
     "end_time": "2021-07-27T09:15:15.799166Z",
     "start_time": "2021-07-27T09:15:15.790190Z"
    }
   },
   "outputs": [
    {
     "name": "stdout",
     "output_type": "stream",
     "text": [
      "1방법 : Hello/nWorld2방법 : /nPython is easy/nR is easy/nJava is smart/n3방법 :/nPython is easy/nR is easy/nJava is smart/n"
     ]
    }
   ],
   "source": [
    "with open('data/ch09_sample.txt', 'r', encoding = 'utf-8') as txtfile:\n",
    "    lines = txtfile.readlines()\n",
    "for line in lines:\n",
    "    print(line, end='')"
   ]
  },
  {
   "cell_type": "code",
   "execution_count": 25,
   "id": "371b867b",
   "metadata": {},
   "outputs": [
    {
     "name": "stdout",
     "output_type": "stream",
     "text": [
      "1방법 : Hello/nWorld2방법 : /nPython is easy/nR is easy/nJava is smart/n3방법 :/nPython is easy/nR is easy/nJava is smart/n "
     ]
    }
   ],
   "source": [
    "# (2)\n",
    "# 파일을 한 줄 읽고 한 줄 출력, 한 줄 읽고 한줄 출력...# readlines랑 다른?\n",
    "with open('data/ch09_sample.txt', 'r', encoding = 'UTF-8') as f:\n",
    "    line = f.readline() # We call this initial read the priming read. \n",
    "                          # It is very important because the while condition needs to have a value for the line variable.\n",
    "    while line !='':\n",
    "        print(line, end= ' ')\n",
    "        line = f.readline()\n",
    "        \n",
    "# The readline method will return the empty string if there is no more data in the file. \n",
    "# An empty string is an empty sequence of characters. \n",
    "# When Python is looking for a Boolean condition, as in while line:, \n",
    "# it treats an empty sequence type as False, and a non-empty sequence as True. \n",
    "# Remember that a blank line in the file actually has a single character, the \\n character (newline). \n",
    "# So, the only way that a line of data from the file can be empty is \n",
    "                    # if you are reading at the end of the file, and the while condition becomes False.\n",
    "\n",
    "# Finally, notice that the last line of the body of the while loop performs another readline. \n",
    "# This statement will reassign the variable line to the next line of the file. \n",
    "# It represents the change of state that is necessary for the iteration to function correctly. \n",
    "# Without it, there would be an infinite loop processing the same line of data over and over."
   ]
  },
  {
   "cell_type": "code",
   "execution_count": 33,
   "id": "2fa4ee92",
   "metadata": {},
   "outputs": [
    {
     "ename": "IndexError",
     "evalue": "list index out of range",
     "output_type": "error",
     "traceback": [
      "\u001b[1;31m---------------------------------------------------------------------------\u001b[0m",
      "\u001b[1;31mIndexError\u001b[0m                                Traceback (most recent call last)",
      "\u001b[1;32m~\\AppData\\Local\\Temp/ipykernel_14392/3726914323.py\u001b[0m in \u001b[0;36m<module>\u001b[1;34m\u001b[0m\n\u001b[0;32m      3\u001b[0m     \u001b[1;32mwhile\u001b[0m \u001b[0mline\u001b[0m \u001b[1;33m!=\u001b[0m \u001b[1;34m''\u001b[0m\u001b[1;33m:\u001b[0m\u001b[1;33m\u001b[0m\u001b[1;33m\u001b[0m\u001b[0m\n\u001b[0;32m      4\u001b[0m         \u001b[0mvalues\u001b[0m \u001b[1;33m=\u001b[0m \u001b[0mline\u001b[0m\u001b[1;33m.\u001b[0m\u001b[0msplit\u001b[0m\u001b[1;33m(\u001b[0m\u001b[1;34m'\\n'\u001b[0m\u001b[1;33m)\u001b[0m\u001b[1;33m\u001b[0m\u001b[1;33m\u001b[0m\u001b[0m\n\u001b[1;32m----> 5\u001b[1;33m         \u001b[0mprint\u001b[0m\u001b[1;33m(\u001b[0m\u001b[1;34m'1'\u001b[0m\u001b[1;33m,\u001b[0m \u001b[0mvalues\u001b[0m\u001b[1;33m[\u001b[0m\u001b[1;36m0\u001b[0m\u001b[1;33m]\u001b[0m\u001b[1;33m,\u001b[0m \u001b[1;34m'2'\u001b[0m\u001b[1;33m,\u001b[0m \u001b[0mvalues\u001b[0m\u001b[1;33m[\u001b[0m\u001b[1;36m1\u001b[0m\u001b[1;33m]\u001b[0m\u001b[1;33m,\u001b[0m \u001b[1;34m'3'\u001b[0m\u001b[1;33m,\u001b[0m \u001b[0mvalues\u001b[0m\u001b[1;33m[\u001b[0m\u001b[1;36m2\u001b[0m\u001b[1;33m]\u001b[0m\u001b[1;33m)\u001b[0m\u001b[1;33m\u001b[0m\u001b[1;33m\u001b[0m\u001b[0m\n\u001b[0m\u001b[0;32m      6\u001b[0m         \u001b[0mline\u001b[0m \u001b[1;33m=\u001b[0m \u001b[0mf\u001b[0m\u001b[1;33m.\u001b[0m\u001b[0mreadline\u001b[0m\u001b[1;33m(\u001b[0m\u001b[1;33m)\u001b[0m\u001b[1;33m\u001b[0m\u001b[1;33m\u001b[0m\u001b[0m\n",
      "\u001b[1;31mIndexError\u001b[0m: list index out of range"
     ]
    }
   ],
   "source": [
    "# \\n을 기준으로 나눌 수 있는지 시도했는데 실패...\n",
    "# 아래 피클에서는 ','을 기준으로 ch09_member.txt파일을 나누기 성공.\n",
    "\n",
    "# with open('data/ch09_sample.txt', 'r', encoding='UTF-8') as f:\n",
    "#     line = f.readline()\n",
    "#     while line != '':\n",
    "#         values = line.split('\\n')\n",
    "#         print('1', values[0], '2', values[1], '3', values[2])\n",
    "#         line = f.readline()"
   ]
  },
  {
   "cell_type": "code",
   "execution_count": 27,
   "id": "df113f05",
   "metadata": {},
   "outputs": [
    {
     "name": "stdout",
     "output_type": "stream",
     "text": [
      "1방법 : Hello/nWorld2방법 : /nPython is easy/nR is easy/nJava is smart/n3방법 :/nPython is easy/nR is easy/nJava is smart/n\n"
     ]
    }
   ],
   "source": [
    "# with open('data/ch09_sample.txt', 'r', encoding='UTF-8') as f:\n",
    "#     line = f.readline()\n",
    "#     print(line)\n",
    "# readlines와 readline이 동일한 결과를 반환함.\n",
    "# ch09_sample.txt가 둘의 차이를구분하기에 좋은 예시가 아닌듯?\n",
    "\n",
    "# https://runestone.academy/runestone/books/published/thinkcspy/Files/AlternativeFileReadingMethods.html\n",
    "\n",
    "# In addition to the for loop, Python provides three methods to read data from the input file. \n",
    "# The readline method reads one line from the file and returns it as a string. \n",
    "# The string returned by readline will contain the newline character at the end. \n",
    "# This method returns the empty string when it reaches the end of the file. \n",
    "# The readlines method returns the contents of the entire file as a list of strings, \n",
    "                    # where each item in the list represents one line of the file. \n",
    "# It is also possible to read the entire file into a single string with read. \n",
    "# Table 2 summarizes these methods and the following session shows them in action."
   ]
  },
  {
   "cell_type": "markdown",
   "id": "65afce8b",
   "metadata": {},
   "source": [
    "# 2절. 피클을 이용한 객체 저장 및 불러오기"
   ]
  },
  {
   "cell_type": "markdown",
   "id": "2fb6175a",
   "metadata": {
    "ExecuteTime": {
     "end_time": "2021-07-26T07:02:44.127839Z",
     "start_time": "2021-07-26T07:02:44.121877Z"
    }
   },
   "source": [
    "## 형식이 있는 텍스트 데이터 불러오기"
   ]
  },
  {
   "cell_type": "code",
   "execution_count": 13,
   "id": "17a2a3f0",
   "metadata": {
    "ExecuteTime": {
     "end_time": "2021-07-27T06:56:56.241304Z",
     "start_time": "2021-07-27T06:56:56.222326Z"
    }
   },
   "outputs": [
    {
     "name": "stdout",
     "output_type": "stream",
     "text": [
      "이름:추신수\t 나이:41\t 메일:Chooshinsoo@google.com\t 주소:서울시 강동구\n",
      "이름:김연아\t 나이:32\t 메일:YunaKim@apple.com\t 주소:서울시 은평구\n"
     ]
    }
   ],
   "source": [
    "# ch09_member.txt파일이 미리 생성되어 있어야 함\n",
    "with open('data/ch09_member.txt', 'r', encoding='UTF-8') as f:\n",
    "    lines = f.readlines() # readlines는 리스트를 만듬.\n",
    "    for line in lines: # ch09_member.txt파일이 두 줄로 구성되어 있으므로 2개의 line이 포함된 lines 리스트\n",
    "        data = line.strip().split(',') # strip의 존재가 csv파일이 공백없이 ','로만 구분하는 이유와 동일할까?\n",
    "#        print(data)\n",
    "        name = data[0]\n",
    "        age = int(data[1].strip())\n",
    "        email = data[2].strip()\n",
    "        address = data[3].strip()\n",
    "        print(\"이름:{}\\t 나이:{}\\t 메일:{}\\t 주소:{}\".format(name, age, email, address))\n",
    "# with를 사용하면 파일을 open한 이후 close하지 않아도 되는 장점이 있음!"
   ]
  },
  {
   "cell_type": "markdown",
   "id": "2c898984",
   "metadata": {},
   "source": [
    "## 2.2 피클링"
   ]
  },
  {
   "cell_type": "code",
   "execution_count": 1,
   "id": "20b5ecc5",
   "metadata": {
    "ExecuteTime": {
     "end_time": "2021-07-26T07:11:21.132364Z",
     "start_time": "2021-07-26T07:11:21.116581Z"
    }
   },
   "outputs": [],
   "source": [
    "class Member:\n",
    "    def __init__(self, name, age, email, address):\n",
    "        self.name = name\n",
    "        self.age = age\n",
    "        self.email = email\n",
    "        self.address = address\n",
    "    def __str__(self):\n",
    "        return \"이름:{}\\t 나이:{}\\t 메일:{}\\t 주소:{}\".format(self.name, self.age, self.email, self.address)"
   ]
  },
  {
   "cell_type": "code",
   "execution_count": 2,
   "id": "28c7477a",
   "metadata": {
    "ExecuteTime": {
     "end_time": "2021-07-26T07:13:39.832703Z",
     "start_time": "2021-07-26T07:13:39.822709Z"
    }
   },
   "outputs": [],
   "source": [
    "user1 = Member(\"홍길동\", 28, 'kildong@hong.com','서울시 용산구')\n",
    "user2 = Member(\"고길동\", 24, 'gogil@dong.com','서울시 영등포구')\n",
    "user3 = Member(\"홍당무\", 23, 'dangmoo@hong.com','서울시 서대문구')\n",
    "user_list = [user1, user2, user3]"
   ]
  },
  {
   "cell_type": "code",
   "execution_count": 9,
   "id": "f5cb4457",
   "metadata": {
    "ExecuteTime": {
     "end_time": "2021-07-26T07:14:08.305987Z",
     "start_time": "2021-07-26T07:14:08.300012Z"
    }
   },
   "outputs": [
    {
     "name": "stdout",
     "output_type": "stream",
     "text": [
      "이름:홍길동\t 나이:28\t 메일:kildong@hong.com\t 주소:서울시 용산구\n",
      "이름:고길동\t 나이:24\t 메일:gogil@dong.com\t 주소:서울시 영등포구\n",
      "이름:홍당무\t 나이:23\t 메일:dangmoo@hong.com\t 주소:서울시 서대문구\n"
     ]
    }
   ],
   "source": [
    "for user in user_list:\n",
    "    print(user)"
   ]
  },
  {
   "cell_type": "code",
   "execution_count": 37,
   "id": "c7d43a1a",
   "metadata": {
    "ExecuteTime": {
     "end_time": "2021-07-26T07:17:53.939317Z",
     "start_time": "2021-07-26T07:17:53.934330Z"
    }
   },
   "outputs": [],
   "source": [
    "# 피클링을 이용한 객체저장\n",
    "# pickle.dumps(obj, protocol=None, *, fix_imports=True, buffer_callback=None)\n",
    "# Return the pickled representation of the object obj as a bytes object, instead of writing it to a file.\n",
    "import pickle\n",
    "with open('data/ch09_member.data', 'wb') as f:\n",
    "    pickle.dump(user_list, f)\n",
    "# 위에서 메모장에서 출력했던 스크립트는 객체로서의 성격이 없어지고 한 줄 한줄 출력하는 형태였음...\n",
    "# The open() function opens a file in text format by default. \n",
    "    # To open a file in binary format, add 'b' to the mode parameter. \n",
    "    # Hence the \"rb\" mode opens the file in binary format for reading, \n",
    "    # while the \"wb\" mode opens the file in binary format for writing. Unlike text files, \n",
    "    # binary files are not human-readable. When opened using any text editor, the data is unrecognizable."
   ]
  },
  {
   "cell_type": "code",
   "execution_count": null,
   "id": "7fed5e2e",
   "metadata": {},
   "outputs": [],
   "source": [
    "del user_list, user1, user2, user3"
   ]
  },
  {
   "cell_type": "code",
   "execution_count": 4,
   "id": "efd5a107",
   "metadata": {
    "ExecuteTime": {
     "end_time": "2021-07-26T07:35:08.348050Z",
     "start_time": "2021-07-26T07:35:08.334614Z"
    }
   },
   "outputs": [],
   "source": [
    "# pickle.load(file, *, fix_imports=True, encoding='ASCII', errors='strict', buffers=None)\n",
    "# Read the pickled representation of an object from the open file object file \n",
    "                    # and return the reconstituted object hierarchy specified therein.\n",
    "# This is equivalent to Unpickler(file).load().\n",
    "\n",
    "# The protocol version of the pickle is detected automatically, so no protocol argument is needed. \n",
    "# Bytes past the pickled representation of the object are ignored.\n",
    "import pickle\n",
    "with open('data/ch09_member.data', 'rb') as f:\n",
    "    ul = pickle.load(f)\n",
    "# 피클링을 이용했기 때문에 바이너리 형식으로 문서를 저장.(메모장에서 읽을 수 없음)\n",
    "# Use the 'rb' mode in the open() function to read a binary files"
   ]
  },
  {
   "cell_type": "code",
   "execution_count": 6,
   "id": "c5d6f4d2",
   "metadata": {
    "ExecuteTime": {
     "end_time": "2021-07-26T07:35:09.658500Z",
     "start_time": "2021-07-26T07:35:09.645519Z"
    }
   },
   "outputs": [
    {
     "name": "stdout",
     "output_type": "stream",
     "text": [
      "이름:홍길동\t 나이:28\t 메일:kildong@hong.com\t 주소:서울시 용산구\n",
      "이름:고길동\t 나이:24\t 메일:gogil@dong.com\t 주소:서울시 영등포구\n",
      "이름:홍당무\t 나이:23\t 메일:dangmoo@hong.com\t 주소:서울시 서대문구\n"
     ]
    }
   ],
   "source": [
    "for u in ul:\n",
    "    print(u)"
   ]
  },
  {
   "cell_type": "markdown",
   "id": "256219a2",
   "metadata": {},
   "source": [
    "# 3절 CSV형식 파일 읽기/쓰기\n",
    "\n",
    "```\n",
    "The so-called CSV (Comma Separated Values) format is the most common import and export format for spreadsheets and databases.\n",
    "\n",
    "The lack of a well-defined standard means that subtle differences often exist in the data produced and consumed by different applications. These differences can make it annoying to process CSV files from multiple sources. Still, while the delimiters and quoting characters vary, the overall format is similar enough that it is possible to write a single module which can efficiently manipulate such data, hiding the details of reading and writing the data from the programmer.\n",
    "\n",
    "The csv module implements classes to read and write tabular data in CSV format. It allows programmers to say, “write this data in the format preferred by Excel,” or “read data from this file which was generated by Excel,” without knowing the precise details of the CSV format used by Excel. Programmers can also describe the CSV formats understood by other applications or define their own special-purpose CSV formats.\n",
    "\n",
    "The csv module’s reader and writer objects read and write sequences. \n",
    "Programmers can also read and write data in dictionary form using the DictReader and DictWriter classes.\n",
    "```"
   ]
  },
  {
   "cell_type": "markdown",
   "id": "ceede35c",
   "metadata": {
    "ExecuteTime": {
     "end_time": "2021-07-26T07:38:01.555709Z",
     "start_time": "2021-07-26T07:38:01.550742Z"
    }
   },
   "source": [
    "## 3.1 reader\n",
    "```\n",
    "csv.reader(csvfile, dialect='excel', **fmtparams)\n",
    "```"
   ]
  },
  {
   "cell_type": "code",
   "execution_count": 7,
   "id": "eb2050a2",
   "metadata": {
    "ExecuteTime": {
     "end_time": "2021-07-26T07:45:29.563412Z",
     "start_time": "2021-07-26T07:45:29.550462Z"
    }
   },
   "outputs": [
    {
     "name": "stdout",
     "output_type": "stream",
     "text": [
      "['홍길동', '20', 'kildong@hong.com', '서울시 강동구']\n",
      "['윤길동', '25', 'yoonkil@hong.com', '서울시 강서구']\n",
      "['신길동', '30', 'shinkil@hong.com', '서울시 영등포구']\n"
     ]
    }
   ],
   "source": [
    "# utf-8로 인코딩된 CSV 파일 read\n",
    "import csv\n",
    "with open('data/ch09_member1.csv','r', encoding='UTF-8') as f:\n",
    "    reader = csv.reader(f)\n",
    "    # print(list(reader))\n",
    "    for row in reader : \n",
    "        print(row)"
   ]
  },
  {
   "cell_type": "code",
   "execution_count": 8,
   "id": "eb5bd126",
   "metadata": {
    "ExecuteTime": {
     "end_time": "2021-07-26T07:50:48.523696Z",
     "start_time": "2021-07-26T07:50:48.511730Z"
    }
   },
   "outputs": [
    {
     "name": "stdout",
     "output_type": "stream",
     "text": [
      "Nietzche - 20 - email1@hanmail.net - 광주 - \n",
      "Kant - 25 - email2@google.com - 마산 - 팀장\n",
      "Keynse - 22 - email3@naver.com - 울산 - \n"
     ]
    }
   ],
   "source": [
    "import csv \n",
    "with open('data/ch09_member1-1.csv') as f:\n",
    "    reader = csv.reader(f)\n",
    "    for row in reader:\n",
    "        print(' - '.join(row))"
   ]
  },
  {
   "cell_type": "code",
   "execution_count": 9,
   "id": "6c616c7b",
   "metadata": {
    "ExecuteTime": {
     "end_time": "2021-07-26T07:54:40.304545Z",
     "start_time": "2021-07-26T07:54:40.288557Z"
    }
   },
   "outputs": [
    {
     "name": "stdout",
     "output_type": "stream",
     "text": [
      "['홍길동', 20.0, 'kildong@hong.com', '서울시 강동구']\n",
      "['윤길동', 25.0, 'yoonkil@hong.com', '서울시 강서구']\n",
      "['신길동', 30.0, 'shinkil@hong.com', '서울시 영등포구']\n"
     ]
    }
   ],
   "source": [
    "# numeric 엔 따옴표 뺌\n",
    "with open('data/ch09_member1.csv', encoding = 'utf-8') as f:\n",
    "    reader = csv.reader(f, quotechar = '\"',\n",
    "                       quoting=csv.QUOTE_NONNUMERIC)\n",
    "    for row in reader:\n",
    "        print(row)\n",
    "\n",
    "# Each row read from the csv file is returned as a list of strings. \n",
    "# No automatic data type conversion is performed unless the QUOTE_NONNUMERIC format option is specified \n",
    "# (in which case unquoted fields are transformed into floats). \n",
    "\n",
    "# ch09_member1을 메모장으로 열어보면 ,(comma)로 구분된 각 항목들이 \"\"기호 안에 입력되어 있다.\n",
    "# 본 셀의 내용은 quotechar로 명시한 기호로 quoted되지 않은 fields필드를 floats으로 type을 변형함을 보여준다."
   ]
  },
  {
   "cell_type": "markdown",
   "id": "dd8d162b",
   "metadata": {},
   "source": [
    "### 3.2 write\n",
    "\n",
    "```\n",
    "csv.writer(csvfile, dialect='excel', **fmtparams)\n",
    "```"
   ]
  },
  {
   "cell_type": "code",
   "execution_count": 3,
   "id": "07cb370a",
   "metadata": {
    "ExecuteTime": {
     "end_time": "2021-07-26T07:59:49.948246Z",
     "start_time": "2021-07-26T07:59:49.936250Z"
    }
   },
   "outputs": [],
   "source": [
    "user_list = [['홍길동', 20, 'hong@hong.com','서울'],\n",
    "            ['마길동',25,'ma@hong.com','인천']]"
   ]
  },
  {
   "cell_type": "code",
   "execution_count": 6,
   "id": "6112fd88",
   "metadata": {
    "ExecuteTime": {
     "end_time": "2021-07-26T07:59:52.009129Z",
     "start_time": "2021-07-26T07:59:51.993586Z"
    }
   },
   "outputs": [],
   "source": [
    "# newline = '' 를 입력하지 않으면 개행 2번\n",
    "# open(file, mode='r', buffering=- 1, encoding=None, errors=None, newline=None, closefd=True, opener=None)\n",
    "\n",
    "# newline controls how universal newlines mode works (it only applies to text mode). It can be None, '', '\\n', '\\r', and '\\r\\n'.\n",
    "\n",
    "# Writer Objects\n",
    "# Writer objects (DictWriter instances and objects returned by the writer() function) have the following public methods. \n",
    "# A row must be an iterable of strings or numbers for Writer objects \n",
    "            # and a dictionary mapping fieldnames to strings or numbers (by passing them through str() first) for DictWriter objects.\n",
    "\n",
    "# csvwriter.writerow(row)\n",
    "            # Write the row parameter to the writer’s file object, formatted according to the current Dialect. \n",
    "            # Return the return value of the call to the write method of the underlying file object.\n",
    "            # row매개변수 위치에 입력한 전달인자를 writer의 file 객체에 쓰기를 실시.\n",
    "import csv \n",
    "try:\n",
    "    with open ('data/ch09_member2.csv', 'w', encoding='UTF-8', newline='') as f:\n",
    "        writer = csv.writer(f) # csv파일을 만듬. 아직까지 내용은 없음.\n",
    "        for user in user_list:\n",
    "            writer.writerow(user)\n",
    "except FileNotFoundError as e:\n",
    "    print(e)"
   ]
  },
  {
   "cell_type": "code",
   "execution_count": 21,
   "id": "c1060faa",
   "metadata": {
    "ExecuteTime": {
     "end_time": "2021-07-26T08:04:20.988342Z",
     "start_time": "2021-07-26T08:04:20.976374Z"
    }
   },
   "outputs": [],
   "source": [
    "# 숫자는 따온표 붙지 않고 저장하는 방법, 문자는 따옴표 붙도록 csv writer\n",
    "\n",
    "with open('data/ch09_member2-1.csv', 'w', newline='', encoding = 'CP949') as f:\n",
    "    writer = csv.writer(f, quoting=csv.QUOTE_NONNUMERIC)\n",
    "#    for user in user_list:\n",
    "#        writer.writerow(user)\n",
    "    writer.writerows(user_list) # for문 사용할 필요 없이 바로 writerrows를 사용.\n",
    "    \n",
    "# csvwriter.writerows(rows)\n",
    "# Write all elements in rows (an iterable of row objects as described above) to the writer’s file object, \n",
    "                                                                                # formatted according to the current dialect."
   ]
  },
  {
   "cell_type": "markdown",
   "id": "638544d8",
   "metadata": {
    "ExecuteTime": {
     "end_time": "2021-07-26T08:06:48.209669Z",
     "start_time": "2021-07-26T08:06:48.192726Z"
    }
   },
   "source": [
    "## 3.3 DictReader\n",
    "- CSV파일의 자료를 딕셔너리 데이터로 읽기"
   ]
  },
  {
   "cell_type": "code",
   "execution_count": 5,
   "id": "fa68f5b8",
   "metadata": {
    "ExecuteTime": {
     "end_time": "2021-07-26T08:17:09.728446Z",
     "start_time": "2021-07-26T08:17:09.713487Z"
    }
   },
   "outputs": [
    {
     "name": "stdout",
     "output_type": "stream",
     "text": [
      "홍길동 20 kil@hongcom 서울\n",
      "석길동 40 suk@hong.com 인천 팀장\n",
      "마길동 30 ma@hong.com 안양\n"
     ]
    }
   ],
   "source": [
    "# header가 있는 csv파일을 딕셔너리로 읽기\n",
    "with open('data/ch09_member3.csv','r',encoding='utf-8') as f:\n",
    "    dict_reader = csv.DictReader(f)\n",
    "#    print(list(dict_reader))\n",
    "    for row in dict_reader:\n",
    "        if row['job'] is None:\n",
    "            print(row['name'], row['age'], row['email'], row['address'])\n",
    "        else:\n",
    "            print(row['name'], row['age'], row['email'], row['address'], row['job'])"
   ]
  },
  {
   "cell_type": "code",
   "execution_count": 36,
   "id": "3f80d9bd",
   "metadata": {
    "ExecuteTime": {
     "end_time": "2021-07-26T08:18:15.327296Z",
     "start_time": "2021-07-26T08:18:15.127205Z"
    }
   },
   "outputs": [
    {
     "data": {
      "text/html": [
       "<div>\n",
       "<style scoped>\n",
       "    .dataframe tbody tr th:only-of-type {\n",
       "        vertical-align: middle;\n",
       "    }\n",
       "\n",
       "    .dataframe tbody tr th {\n",
       "        vertical-align: top;\n",
       "    }\n",
       "\n",
       "    .dataframe thead th {\n",
       "        text-align: right;\n",
       "    }\n",
       "</style>\n",
       "<table border=\"1\" class=\"dataframe\">\n",
       "  <thead>\n",
       "    <tr style=\"text-align: right;\">\n",
       "      <th></th>\n",
       "      <th>name</th>\n",
       "      <th>age</th>\n",
       "      <th>email</th>\n",
       "      <th>address</th>\n",
       "      <th>job</th>\n",
       "    </tr>\n",
       "  </thead>\n",
       "  <tbody>\n",
       "    <tr>\n",
       "      <th>0</th>\n",
       "      <td>홍길동</td>\n",
       "      <td>20</td>\n",
       "      <td>kildong@hong.co.kr</td>\n",
       "      <td>서울시 광진구</td>\n",
       "      <td>NaN</td>\n",
       "    </tr>\n",
       "    <tr>\n",
       "      <th>1</th>\n",
       "      <td>석굴암</td>\n",
       "      <td>41</td>\n",
       "      <td>suk@gul.net</td>\n",
       "      <td>인천</td>\n",
       "      <td>도서관사서</td>\n",
       "    </tr>\n",
       "    <tr>\n",
       "      <th>2</th>\n",
       "      <td>백두산</td>\n",
       "      <td>33</td>\n",
       "      <td>back@doo.com</td>\n",
       "      <td>강원</td>\n",
       "      <td>등산가</td>\n",
       "    </tr>\n",
       "  </tbody>\n",
       "</table>\n",
       "</div>"
      ],
      "text/plain": [
       "  name  age               email  address    job\n",
       "0  홍길동   20  kildong@hong.co.kr  서울시 광진구    NaN\n",
       "1  석굴암   41         suk@gul.net       인천  도서관사서\n",
       "2  백두산   33        back@doo.com       강원    등산가"
      ]
     },
     "execution_count": 36,
     "metadata": {},
     "output_type": "execute_result"
    }
   ],
   "source": [
    "# cf. csv파일을 데이터 프레임으로\n",
    "import pandas as pd\n",
    "member = pd.read_csv('data/ch09_member3.csv', encoding='utf-8')\n",
    "member"
   ]
  },
  {
   "cell_type": "code",
   "execution_count": 37,
   "id": "eb1d82f0",
   "metadata": {
    "ExecuteTime": {
     "end_time": "2021-07-26T08:18:23.817665Z",
     "start_time": "2021-07-26T08:18:23.808689Z"
    }
   },
   "outputs": [
    {
     "data": {
      "text/plain": [
       "pandas.core.frame.DataFrame"
      ]
     },
     "execution_count": 37,
     "metadata": {},
     "output_type": "execute_result"
    }
   ],
   "source": [
    "type(member)"
   ]
  },
  {
   "cell_type": "code",
   "execution_count": 10,
   "id": "e164aad2",
   "metadata": {
    "ExecuteTime": {
     "end_time": "2021-07-26T08:34:37.534504Z",
     "start_time": "2021-07-26T08:34:37.523534Z"
    },
    "scrolled": true
   },
   "outputs": [
    {
     "name": "stdout",
     "output_type": "stream",
     "text": [
      "[{'Nietzche': 'Kant', '20': '25', 'email1@hanmail.net': 'email2@google.com', '광주': '마산', '': '팀장'}, {'Nietzche': 'Keynse', '20': '22', 'email1@hanmail.net': 'email3@naver.com', '광주': '울산', '': ''}]\n"
     ]
    }
   ],
   "source": [
    "# ch09_member1-1.csv 해더가 없는 파일의 경우\n",
    "with open('data/ch09_member1-1.csv','r',encoding='CP949') as f:\n",
    "    dict_reader = csv.DictReader(f)\n",
    "    print(list(dict_reader))"
   ]
  },
  {
   "cell_type": "code",
   "execution_count": 11,
   "id": "3c5c7bf6",
   "metadata": {
    "ExecuteTime": {
     "end_time": "2021-07-26T08:42:05.405076Z",
     "start_time": "2021-07-26T08:42:05.395103Z"
    }
   },
   "outputs": [
    {
     "name": "stdout",
     "output_type": "stream",
     "text": [
      "Nietzche 20 email1@hanmail.net 광주\n",
      "Kant 25 email2@google.com 마산\n",
      "Keynse 22 email3@naver.com 울산\n"
     ]
    }
   ],
   "source": [
    "# ch09_member1-1.csv 해더가 없는 파일의 경우\n",
    "with open('data/ch09_member1-1.csv','r',encoding='CP949') as f:\n",
    "    dict_reader = csv.DictReader(f, fieldnames=['Name','Age','Email','Address'])\n",
    "    for row in dict_reader:\n",
    "#        print(row)\n",
    "        print(row['Name'], row['Age'],row['Email'],row['Address']) # 현재 팀장 여부가 포함이 안되는 중"
   ]
  },
  {
   "cell_type": "code",
   "execution_count": 12,
   "id": "ef658caf",
   "metadata": {
    "ExecuteTime": {
     "end_time": "2021-07-26T08:42:53.194225Z",
     "start_time": "2021-07-26T08:42:53.187245Z"
    }
   },
   "outputs": [
    {
     "name": "stdout",
     "output_type": "stream",
     "text": [
      "{'Name': 'Nietzche', 'Age': '20', 'Email': 'email1@hanmail.net', 'Address': '광주', 'Job': ''}\n",
      "{'Name': 'Kant', 'Age': '25', 'Email': 'email2@google.com', 'Address': '마산', 'Job': '팀장'}\n",
      "{'Name': 'Keynse', 'Age': '22', 'Email': 'email3@naver.com', 'Address': '울산', 'Job': ''}\n"
     ]
    }
   ],
   "source": [
    "# ch09_member1-1.csv 해더가 없는 파일의 경우\n",
    "with open('data/ch09_member1-1.csv','r',encoding='CP949') as f:\n",
    "    dict_reader = csv.DictReader(f, fieldnames=['Name','Age','Email','Address','Job'])\n",
    "    for row in dict_reader:\n",
    "        print(row)\n",
    "#        print(row['Name'], row['Age'],row['Email'],row['Address'])"
   ]
  },
  {
   "cell_type": "code",
   "execution_count": 17,
   "id": "ecf44c65",
   "metadata": {
    "ExecuteTime": {
     "end_time": "2021-07-26T08:46:23.595278Z",
     "start_time": "2021-07-26T08:46:23.586302Z"
    }
   },
   "outputs": [
    {
     "name": "stdout",
     "output_type": "stream",
     "text": [
      "Nietzche 20 email1@hanmail.net 광주 ['']\n",
      "Kant 25 email2@google.com 마산 ['팀장']\n",
      "Keynse 22 email3@naver.com 울산 ['']\n"
     ]
    }
   ],
   "source": [
    "# ch09_member1-1.csv 해더가 없는 파일의 경우\n",
    "with open('data/ch09_member1-1.csv','r',encoding='CP949') as f:\n",
    "    dict_reader = csv.DictReader(f, fieldnames=['Name','Age','Email','Address'],\n",
    "                                restkey='Job')\n",
    "    for row in dict_reader:\n",
    "#        print(row)\n",
    "        if row['Job']=='':\n",
    "            print(row['Name'], row['Age'],row['Email'],row['Address'])\n",
    "        else:\n",
    "            print(row['Name'], row['Age'],row['Email'],row['Address'],row['Job'])\n",
    "# member1-1.csv파일에는 member3에서와 달리 필드명이 설정되어있지 않아서 'JOB'[0]이라는 차이가 발생?\n",
    "#                                          encoding방식이 CP949이기 때문에 차이가 발생?"
   ]
  },
  {
   "cell_type": "markdown",
   "id": "9cf2f0b3",
   "metadata": {
    "ExecuteTime": {
     "end_time": "2021-07-26T08:48:53.270003Z",
     "start_time": "2021-07-26T08:48:53.252076Z"
    }
   },
   "source": [
    "## 3.4 DictWriter\n",
    "- 딕셔너리 변수의 내용을 csv파일로 쓰기"
   ]
  },
  {
   "cell_type": "code",
   "execution_count": 2,
   "id": "eeff8697",
   "metadata": {
    "ExecuteTime": {
     "end_time": "2021-07-26T09:10:11.711609Z",
     "start_time": "2021-07-26T09:10:11.700660Z"
    }
   },
   "outputs": [],
   "source": [
    "user1 = {'name' : '홍길동', 'age':78, 'email':'hong@hong.com', 'address':'서울'}\n",
    "user2 = {'name' : '임꺽정', 'age':45, 'email':'gguk@lim.com', 'address':'부산'}\n",
    "user3 = {'name' : '김유신', 'age':57, 'email':'yusin@kim.com', 'address':'광주'}\n",
    "user_list = [user1, user2, user3]\n",
    "fieldnames = list(user1.keys()) # ['name', 'age', 'email', 'address'] 해더에 쓸 내용"
   ]
  },
  {
   "cell_type": "code",
   "execution_count": 73,
   "id": "62b76433",
   "metadata": {
    "ExecuteTime": {
     "end_time": "2021-07-26T09:10:13.052221Z",
     "start_time": "2021-07-26T09:10:13.044242Z"
    }
   },
   "outputs": [
    {
     "data": {
      "text/plain": [
       "['name', 'age', 'email', 'address']"
      ]
     },
     "execution_count": 73,
     "metadata": {},
     "output_type": "execute_result"
    }
   ],
   "source": [
    "list(user1.keys())"
   ]
  },
  {
   "cell_type": "code",
   "execution_count": 74,
   "id": "14aace8f",
   "metadata": {
    "ExecuteTime": {
     "end_time": "2021-07-26T09:10:15.529086Z",
     "start_time": "2021-07-26T09:10:15.524078Z"
    }
   },
   "outputs": [
    {
     "name": "stdout",
     "output_type": "stream",
     "text": [
      "name\n",
      "age\n",
      "email\n",
      "address\n"
     ]
    }
   ],
   "source": [
    "for key in user1.keys():\n",
    "    print(key)"
   ]
  },
  {
   "cell_type": "code",
   "execution_count": 7,
   "id": "12c03da3",
   "metadata": {
    "ExecuteTime": {
     "end_time": "2021-07-26T09:10:16.718082Z",
     "start_time": "2021-07-26T09:10:16.708090Z"
    }
   },
   "outputs": [],
   "source": [
    "import csv \n",
    "with open('data/ch09_member4.csv', 'w', encoding='UTF-8', newline='') as f:\n",
    "    dict_writer = csv.DictWriter(f, fieldnames= fieldnames)\n",
    "    dict_writer.writeheader() # header 한 줄 쓰기\n",
    "#     dict_writer.writerow(user1)\n",
    "#     dict_writer.writerow(user2)\n",
    "#     dict_writer.writerow(user3)\n",
    "#######################################\n",
    "#     for user in user_list:\n",
    "#         dic_writer.writerow(user)\n",
    "#######################################\n",
    "    dict_writer.writerows(user_list)"
   ]
  },
  {
   "cell_type": "code",
   "execution_count": 8,
   "id": "d8edab98",
   "metadata": {
    "ExecuteTime": {
     "end_time": "2021-07-26T09:10:18.611003Z",
     "start_time": "2021-07-26T09:10:18.596043Z"
    }
   },
   "outputs": [],
   "source": [
    "user1 = {'name' : '홍길동', 'age':78, 'email':'hong@hong.com', 'address':'서울'}\n",
    "user2 = {'name' : '임꺽정', 'age':45, 'email':'gguk@lim.com', 'address':'부산','position':'팀장'}\n",
    "user3 = {'name' : '김유신', 'age':57, 'email':'yusin@kim.com', 'address':'광주'}\n",
    "user_list = [user1, user2, user3]\n",
    "fieldnames = list(user2.keys()) # 해더로 쓸 내용"
   ]
  },
  {
   "cell_type": "code",
   "execution_count": 9,
   "id": "5d117c56",
   "metadata": {
    "ExecuteTime": {
     "end_time": "2021-07-26T09:11:40.333543Z",
     "start_time": "2021-07-26T09:11:40.308609Z"
    }
   },
   "outputs": [],
   "source": [
    "with open('data/ch09_member5.csv', 'w', encoding='UTF-8', newline='') as f:\n",
    "    dict_writer = csv.DictWriter(f, fieldnames = fieldnames)\n",
    "    dict_writer.writeheader()\n",
    "    dict_writer.writerows(user_list)"
   ]
  },
  {
   "cell_type": "code",
   "execution_count": 24,
   "id": "54bc664d",
   "metadata": {
    "ExecuteTime": {
     "end_time": "2021-07-27T00:42:14.610285Z",
     "start_time": "2021-07-27T00:42:14.596294Z"
    }
   },
   "outputs": [],
   "source": [
    "user1 = {'name' : '홍길동', 'age':78, 'email':'hong@hong.com', 'address':'서울'}\n",
    "user2 = {'name' : '임꺽정', 'age':45, 'email':'gguk@lim.com', 'address':'부산','position':'팀장'}\n",
    "user3 = {'name' : '김유신', 'age':57, 'email':'yusin@kim.com', 'address':'광주'}\n",
    "user_list = [user1, user2, user3]\n",
    "fieldnames = list(user1.keys()) # 해더로 쓸 내용"
   ]
  },
  {
   "cell_type": "code",
   "execution_count": 25,
   "id": "aa8f5340",
   "metadata": {
    "ExecuteTime": {
     "end_time": "2021-07-27T00:42:16.899685Z",
     "start_time": "2021-07-27T00:42:16.676270Z"
    }
   },
   "outputs": [],
   "source": [
    "with open('data/ch09_member5.csv', 'w', encoding='UTF-8', newline='') as f:\n",
    "    dict_writer = csv.DictWriter(f, fieldnames = fieldnames,\n",
    "                                 # extrasaction = 'raise') # 없는 필드가 있으면 예외\n",
    "                                 extrasaction = 'ignore') # fieldname에 없는 필드를 무시 -> position이 제외되어 파일이 생성\n",
    "    dict_writer.writeheader()\n",
    "    dict_writer.writerows(user_list)"
   ]
  },
  {
   "cell_type": "code",
   "execution_count": 28,
   "id": "db02dd3c",
   "metadata": {
    "ExecuteTime": {
     "end_time": "2021-07-27T00:41:42.027080Z",
     "start_time": "2021-07-27T00:41:38.719207Z"
    }
   },
   "outputs": [
    {
     "data": {
      "text/html": [
       "<div>\n",
       "<style scoped>\n",
       "    .dataframe tbody tr th:only-of-type {\n",
       "        vertical-align: middle;\n",
       "    }\n",
       "\n",
       "    .dataframe tbody tr th {\n",
       "        vertical-align: top;\n",
       "    }\n",
       "\n",
       "    .dataframe thead th {\n",
       "        text-align: right;\n",
       "    }\n",
       "</style>\n",
       "<table border=\"1\" class=\"dataframe\">\n",
       "  <thead>\n",
       "    <tr style=\"text-align: right;\">\n",
       "      <th></th>\n",
       "      <th>name</th>\n",
       "      <th>age</th>\n",
       "      <th>email</th>\n",
       "      <th>address</th>\n",
       "      <th>position</th>\n",
       "    </tr>\n",
       "  </thead>\n",
       "  <tbody>\n",
       "    <tr>\n",
       "      <th>0</th>\n",
       "      <td>홍길동</td>\n",
       "      <td>78</td>\n",
       "      <td>hong@hong.com</td>\n",
       "      <td>서울</td>\n",
       "      <td>NaN</td>\n",
       "    </tr>\n",
       "    <tr>\n",
       "      <th>1</th>\n",
       "      <td>임꺽정</td>\n",
       "      <td>45</td>\n",
       "      <td>gguk@lim.com</td>\n",
       "      <td>부산</td>\n",
       "      <td>팀장</td>\n",
       "    </tr>\n",
       "    <tr>\n",
       "      <th>2</th>\n",
       "      <td>김유신</td>\n",
       "      <td>57</td>\n",
       "      <td>yusin@kim.com</td>\n",
       "      <td>광주</td>\n",
       "      <td>NaN</td>\n",
       "    </tr>\n",
       "  </tbody>\n",
       "</table>\n",
       "</div>"
      ],
      "text/plain": [
       "  name  age          email address position\n",
       "0  홍길동   78  hong@hong.com      서울      NaN\n",
       "1  임꺽정   45   gguk@lim.com      부산       팀장\n",
       "2  김유신   57  yusin@kim.com      광주      NaN"
      ]
     },
     "execution_count": 28,
     "metadata": {},
     "output_type": "execute_result"
    }
   ],
   "source": [
    "import pandas as pd\n",
    "# pd패키지의 read_csv의 encoding기본값 : encoding=\"utf=8\"\n",
    "# 엑셀로 열길 희망한다면 CP949로...\n",
    "member = pd.read_csv('data/ch09_member5.csv', encoding = \"utf-8\")\n",
    "member\n",
    "# csv파일을 DataFrame으로 #######################################"
   ]
  },
  {
   "cell_type": "code",
   "execution_count": 37,
   "id": "77252fd3",
   "metadata": {
    "ExecuteTime": {
     "end_time": "2021-07-27T00:43:01.398418Z",
     "start_time": "2021-07-27T00:43:01.236200Z"
    }
   },
   "outputs": [],
   "source": [
    "member.to_csv('data/ch09_member5-1.csv', encoding='CP949') # ch09_member5.csv는 엑셀로 열었을 경우 글자가 깨짐.\n",
    "                                                           # 반면 ch09_member5-1.csv는 정상적으로 열리게되는 차이가 발생."
   ]
  },
  {
   "cell_type": "markdown",
   "id": "599d2b3b",
   "metadata": {},
   "source": [
    "# 4절. JSON 데이터 저장하고 불러오기(dump, load)\n",
    "- 변수 -> (JSON)파일로 저장 : dump\n",
    "- (JSON)파일 -> 변수로 불러옴 : load"
   ]
  },
  {
   "cell_type": "markdown",
   "id": "377da25c",
   "metadata": {},
   "source": [
    "## 4.1 JSON dump\n",
    "```\n",
    "[{'location':'서울',\n",
    "  'date':'2021-07-27',\n",
    "  'time':0,\n",
    "  'temperature':33},\n",
    " {'location':'천안',\n",
    "  'date':'2021-07-27',\n",
    "  'time':0,\n",
    "  'temperature':35}\n",
    "]\n",
    "- JSON파일은 딕셔너리 형식으로 데이터를 저장하는건가?"
   ]
  },
  {
   "cell_type": "code",
   "execution_count": 2,
   "id": "79e9bb0c",
   "metadata": {
    "ExecuteTime": {
     "end_time": "2021-07-27T00:52:56.614415Z",
     "start_time": "2021-07-27T00:52:56.595465Z"
    }
   },
   "outputs": [],
   "source": [
    "data = [\n",
    "    {\"name\":\"홍길동\",\"age\":20,\"email\":'hong@hong.com',\"address\":\"서울\"},\n",
    "    {\"name\":\"김김김\",\"age\":25,\"email\":\"kim@hong.com\", \"address\":\"경기\"}\n",
    "]"
   ]
  },
  {
   "cell_type": "code",
   "execution_count": 6,
   "id": "4e014926",
   "metadata": {
    "ExecuteTime": {
     "end_time": "2021-07-27T00:52:46.894385Z",
     "start_time": "2021-07-27T00:52:46.884389Z"
    }
   },
   "outputs": [
    {
     "data": {
      "text/plain": [
       "(list, dict)"
      ]
     },
     "execution_count": 6,
     "metadata": {},
     "output_type": "execute_result"
    }
   ],
   "source": [
    "type(data), type(data[0])"
   ]
  },
  {
   "cell_type": "code",
   "execution_count": 3,
   "id": "182e25e0",
   "metadata": {
    "ExecuteTime": {
     "end_time": "2021-07-27T00:52:51.552357Z",
     "start_time": "2021-07-27T00:52:51.540411Z"
    }
   },
   "outputs": [
    {
     "data": {
      "text/plain": [
       "[{'name': '홍길동', 'age': 20, 'email': 'hong@hong.com', 'address': '서울'},\n",
       " {'name': '김김김', 'age': 25, 'email': 'kim@hong.com', 'address': '경기'}]"
      ]
     },
     "execution_count": 3,
     "metadata": {},
     "output_type": "execute_result"
    }
   ],
   "source": [
    "data"
   ]
  },
  {
   "cell_type": "code",
   "execution_count": 4,
   "id": "8dc85f39",
   "metadata": {
    "ExecuteTime": {
     "end_time": "2021-07-27T00:58:52.365314Z",
     "start_time": "2021-07-27T00:58:52.356317Z"
    }
   },
   "outputs": [],
   "source": [
    "# 딕셔너리 리스트를 json파일로 저장\n",
    "# ensure_ascii=False 부분이 없으면 한글이 유니코드로 저장\n",
    "import json\n",
    "with open('data/ch09_member1.json', 'w') as jsonfile:\n",
    "    json.dump(data, jsonfile, ensure_ascii=False, indent='\\t')"
   ]
  },
  {
   "cell_type": "code",
   "execution_count": 5,
   "id": "82d39849",
   "metadata": {
    "ExecuteTime": {
     "end_time": "2021-07-27T01:07:51.540769Z",
     "start_time": "2021-07-27T01:07:51.523814Z"
    }
   },
   "outputs": [],
   "source": [
    "# 객체 리스트를 json 파일로 저장 (대부분의 데이터는 데이터프레임 or 객체리스트 형식으로 구성되어 있음)\n",
    "class Member:\n",
    "    def __init__(self, name, age, email, address):\n",
    "        self.name = name\n",
    "        self.age = age\n",
    "        self.email = email\n",
    "        self.address = address\n",
    "    def as_dict(self): # Member 객체를 dictionary로 반환\n",
    "         return{\"name\":self.name, \"age\":self.age, \n",
    "                \"email\":self.email, \"address\":self.address}\n",
    "    def __str__(self):\n",
    "        return \"{}\\t{}\\t{}\\t{}\".format(self.name, self.age, self.email, self.address)"
   ]
  },
  {
   "cell_type": "code",
   "execution_count": 6,
   "id": "1d1c0ac1",
   "metadata": {
    "ExecuteTime": {
     "end_time": "2021-07-27T01:07:53.334654Z",
     "start_time": "2021-07-27T01:07:53.315678Z"
    }
   },
   "outputs": [
    {
     "name": "stdout",
     "output_type": "stream",
     "text": [
      "홍길동\t20\thong@hong.com\t서울\n",
      "{'name': '홍길동', 'age': 20, 'email': 'hong@hong.com', 'address': '서울'}\n"
     ]
    }
   ],
   "source": [
    "member1 = Member(\"홍길동\", 20, \"hong@hong.com\", \"서울\")\n",
    "print(member1)\n",
    "print(member1.as_dict())"
   ]
  },
  {
   "cell_type": "code",
   "execution_count": 7,
   "id": "59cf8dbd",
   "metadata": {
    "ExecuteTime": {
     "end_time": "2021-07-27T01:14:51.451984Z",
     "start_time": "2021-07-27T01:14:51.446001Z"
    }
   },
   "outputs": [],
   "source": [
    "member2 = Member(\"김김김\",25, \"kim@hong.com\", \"경기\")\n",
    "member3 = Member(\"박길동\",35, \"park@hong.com\", \"제주\")\n",
    "member_list = [member1,member2,member3]"
   ]
  },
  {
   "cell_type": "code",
   "execution_count": 11,
   "id": "83de5208",
   "metadata": {
    "ExecuteTime": {
     "end_time": "2021-07-27T01:14:52.608004Z",
     "start_time": "2021-07-27T01:14:52.597034Z"
    }
   },
   "outputs": [],
   "source": [
    "import json\n",
    "with open('data/ch09_member2.json', 'w', encoding='UTF-8') as jsonfile:\n",
    "    json.dump(member_list, jsonfile, ensure_ascii=False,\n",
    "             indent='\\t',\n",
    "             default=Member.as_dict)"
   ]
  },
  {
   "cell_type": "code",
   "execution_count": 9,
   "id": "bc40a020",
   "metadata": {
    "ExecuteTime": {
     "end_time": "2021-07-27T01:15:39.404943Z",
     "start_time": "2021-07-27T01:15:39.395967Z"
    }
   },
   "outputs": [
    {
     "name": "stdout",
     "output_type": "stream",
     "text": [
      "Variable      Type             Data/Info\n",
      "----------------------------------------\n",
      "Member        type             <class '__main__.Member'>\n",
      "data          list             n=2\n",
      "json          module           <module 'json' from 'C:\\\\<...>\\lib\\\\json\\\\__init__.py'>\n",
      "jsonfile      TextIOWrapper    <_io.TextIOWrapper name='<...>ode='w' encoding='UTF-8'>\n",
      "member1       Member           홍길동\t20\thong@hong.com\t서울\n",
      "member2       Member           김김김\t25\tkim@hong.com\t경기\n",
      "member3       Member           박길동\t35\tpark@hong.com\t제주\n",
      "member_list   list             n=3\n"
     ]
    }
   ],
   "source": [
    "whos"
   ]
  },
  {
   "cell_type": "code",
   "execution_count": 46,
   "id": "9d70290b",
   "metadata": {
    "ExecuteTime": {
     "end_time": "2021-07-27T01:16:14.558871Z",
     "start_time": "2021-07-27T01:16:14.548897Z"
    }
   },
   "outputs": [],
   "source": [
    "del member1, member2, member3, member_list"
   ]
  },
  {
   "cell_type": "code",
   "execution_count": 47,
   "id": "ed3fc8f5",
   "metadata": {
    "ExecuteTime": {
     "end_time": "2021-07-27T01:16:25.792259Z",
     "start_time": "2021-07-27T01:16:25.781287Z"
    }
   },
   "outputs": [
    {
     "ename": "NameError",
     "evalue": "name 'member_list' is not defined",
     "output_type": "error",
     "traceback": [
      "\u001b[1;31m---------------------------------------------------------------------------\u001b[0m",
      "\u001b[1;31mNameError\u001b[0m                                 Traceback (most recent call last)",
      "\u001b[1;32m~\\AppData\\Local\\Temp/ipykernel_9148/2359978792.py\u001b[0m in \u001b[0;36m<module>\u001b[1;34m\u001b[0m\n\u001b[1;32m----> 1\u001b[1;33m \u001b[0mmember_list\u001b[0m\u001b[1;33m\u001b[0m\u001b[1;33m\u001b[0m\u001b[0m\n\u001b[0m",
      "\u001b[1;31mNameError\u001b[0m: name 'member_list' is not defined"
     ]
    }
   ],
   "source": [
    "member_list # 바로 위 셀에서 del 했기 때문"
   ]
  },
  {
   "cell_type": "markdown",
   "id": "c8aeff79",
   "metadata": {
    "ExecuteTime": {
     "end_time": "2021-07-27T01:17:22.042030Z",
     "start_time": "2021-07-27T01:17:22.037060Z"
    }
   },
   "source": [
    "## 4.2 JSON load"
   ]
  },
  {
   "cell_type": "code",
   "execution_count": 54,
   "id": "fba205c1",
   "metadata": {
    "ExecuteTime": {
     "end_time": "2021-07-27T01:49:57.898900Z",
     "start_time": "2021-07-27T01:49:57.893914Z"
    }
   },
   "outputs": [
    {
     "name": "stdout",
     "output_type": "stream",
     "text": [
      "{'name': '홍길동', 'age': 20, 'email': 'hong@hong.com', 'address': '서울'}\n",
      "{'name': '김김김', 'age': 25, 'email': 'kim@hong.com', 'address': '경기'}\n",
      "{'name': '박길동', 'age': 35, 'email': 'park@hong.com', 'address': '제주'}\n"
     ]
    }
   ],
   "source": [
    "#이번에는 반대로 json파일의 내용을 딕셔너리리스트로 load\n",
    "with open('data/ch09_member2.json', 'r', encoding='utf-8') as jsonfile:\n",
    "    member_list = json.load(jsonfile)\n",
    "    for row in member_list:\n",
    "        print(row)"
   ]
  },
  {
   "cell_type": "code",
   "execution_count": null,
   "id": "0e1f64d4",
   "metadata": {},
   "outputs": [],
   "source": [
    "# json파일을 객체리스트변수로 Load"
   ]
  },
  {
   "cell_type": "code",
   "execution_count": 55,
   "id": "f7d1a64c",
   "metadata": {},
   "outputs": [],
   "source": [
    "class Member:\n",
    "    def __init__(self, name, age, email, address):\n",
    "        self.name = name\n",
    "        self.age = age\n",
    "        self.email = email\n",
    "        self.address = address\n",
    "    def as_dict(self): # Member 객체를 dictionary로 반환(객체리스트 => JSON파일)\n",
    "         return{\"name\":self.name, \"age\":self.age, \n",
    "                \"email\":self.email, \"address\":self.address}\n",
    "    def __str__(self):\n",
    "        return \"{}\\t{}\\t{}\\t{}\".format(self.name, self.age, self.email, self.address)"
   ]
  },
  {
   "cell_type": "code",
   "execution_count": 27,
   "id": "b649947d",
   "metadata": {
    "ExecuteTime": {
     "end_time": "2021-07-27T01:39:24.069514Z",
     "start_time": "2021-07-27T01:39:24.057516Z"
    }
   },
   "outputs": [
    {
     "data": {
      "text/plain": [
       "{'name': '홍길동', 'age': 20, 'email': 'hong@hong.com', 'address': '서울'}"
      ]
     },
     "execution_count": 27,
     "metadata": {},
     "output_type": "execute_result"
    }
   ],
   "source": [
    "member_list[0]"
   ]
  },
  {
   "cell_type": "code",
   "execution_count": 56,
   "id": "669d785e",
   "metadata": {
    "ExecuteTime": {
     "end_time": "2021-07-27T01:43:32.333547Z",
     "start_time": "2021-07-27T01:43:32.324544Z"
    }
   },
   "outputs": [],
   "source": [
    "def as_member(dic): # dictionary를 객체로 반환하는 함수(JSON => 객체리스트)\n",
    "    return Member(dic['name'], dic['age'], dic['email'], dic['address'])"
   ]
  },
  {
   "cell_type": "code",
   "execution_count": 30,
   "id": "9392f588",
   "metadata": {
    "ExecuteTime": {
     "end_time": "2021-07-27T01:43:33.867664Z",
     "start_time": "2021-07-27T01:43:33.860658Z"
    }
   },
   "outputs": [
    {
     "name": "stdout",
     "output_type": "stream",
     "text": [
      "홍길동\t20\thong@hong.com\t서울\n"
     ]
    }
   ],
   "source": [
    "print(as_member(member_list[0]))"
   ]
  },
  {
   "cell_type": "code",
   "execution_count": 57,
   "id": "027b3413",
   "metadata": {
    "ExecuteTime": {
     "end_time": "2021-07-27T01:50:00.827697Z",
     "start_time": "2021-07-27T01:50:00.805760Z"
    }
   },
   "outputs": [],
   "source": [
    "with open('data/ch09_member2.json', 'r', encoding='UTF-8') as jsonfile:\n",
    "    member_list = json.load(jsonfile, object_hook=as_member)"
   ]
  },
  {
   "cell_type": "code",
   "execution_count": 32,
   "id": "b8a1f1f3",
   "metadata": {
    "ExecuteTime": {
     "end_time": "2021-07-27T01:48:34.106445Z",
     "start_time": "2021-07-27T01:48:34.101478Z"
    }
   },
   "outputs": [
    {
     "data": {
      "text/plain": [
       "(list, dict)"
      ]
     },
     "execution_count": 32,
     "metadata": {},
     "output_type": "execute_result"
    }
   ],
   "source": [
    "type(member_list), type(member_list[0])"
   ]
  },
  {
   "cell_type": "code",
   "execution_count": 58,
   "id": "7c2bdc5d",
   "metadata": {
    "ExecuteTime": {
     "end_time": "2021-07-27T01:51:32.542473Z",
     "start_time": "2021-07-27T01:51:32.533471Z"
    }
   },
   "outputs": [
    {
     "name": "stdout",
     "output_type": "stream",
     "text": [
      "홍길동\t20\thong@hong.com\t서울\n",
      "김김김\t25\tkim@hong.com\t경기\n",
      "박길동\t35\tpark@hong.com\t제주\n"
     ]
    }
   ],
   "source": [
    "for member in member_list:\n",
    "    print(member)"
   ]
  },
  {
   "cell_type": "code",
   "execution_count": 37,
   "id": "69cbe017",
   "metadata": {
    "ExecuteTime": {
     "end_time": "2021-07-27T01:52:19.608917Z",
     "start_time": "2021-07-27T01:52:19.317729Z"
    }
   },
   "outputs": [
    {
     "data": {
      "text/html": [
       "<div>\n",
       "<style scoped>\n",
       "    .dataframe tbody tr th:only-of-type {\n",
       "        vertical-align: middle;\n",
       "    }\n",
       "\n",
       "    .dataframe tbody tr th {\n",
       "        vertical-align: top;\n",
       "    }\n",
       "\n",
       "    .dataframe thead th {\n",
       "        text-align: right;\n",
       "    }\n",
       "</style>\n",
       "<table border=\"1\" class=\"dataframe\">\n",
       "  <thead>\n",
       "    <tr style=\"text-align: right;\">\n",
       "      <th></th>\n",
       "      <th>name</th>\n",
       "      <th>age</th>\n",
       "      <th>email</th>\n",
       "      <th>address</th>\n",
       "    </tr>\n",
       "  </thead>\n",
       "  <tbody>\n",
       "    <tr>\n",
       "      <th>0</th>\n",
       "      <td>홍길동</td>\n",
       "      <td>20</td>\n",
       "      <td>hong@hong.com</td>\n",
       "      <td>서울</td>\n",
       "    </tr>\n",
       "    <tr>\n",
       "      <th>1</th>\n",
       "      <td>김김김</td>\n",
       "      <td>25</td>\n",
       "      <td>kim@hong.com</td>\n",
       "      <td>경기</td>\n",
       "    </tr>\n",
       "    <tr>\n",
       "      <th>2</th>\n",
       "      <td>박길동</td>\n",
       "      <td>35</td>\n",
       "      <td>park@hong.com</td>\n",
       "      <td>제주</td>\n",
       "    </tr>\n",
       "  </tbody>\n",
       "</table>\n",
       "</div>"
      ],
      "text/plain": [
       "  name  age          email address\n",
       "0  홍길동   20  hong@hong.com      서울\n",
       "1  김김김   25   kim@hong.com      경기\n",
       "2  박길동   35  park@hong.com      제주"
      ]
     },
     "execution_count": 37,
     "metadata": {},
     "output_type": "execute_result"
    }
   ],
   "source": [
    "# json파일을 DataFrame으로###########################################\n",
    "import pandas as pd\n",
    "member = pd.read_json('data/ch09_member2.json', encoding=\"utf-8\")\n",
    "member\n",
    "# panda를 사용하면 json->딕셔너리->datafrome 변경 과정이 한 번에 처리되는듯?"
   ]
  },
  {
   "cell_type": "code",
   "execution_count": 38,
   "id": "7937b44f",
   "metadata": {
    "ExecuteTime": {
     "end_time": "2021-07-27T01:53:47.281738Z",
     "start_time": "2021-07-27T01:53:47.269749Z"
    }
   },
   "outputs": [
    {
     "name": "stdout",
     "output_type": "stream",
     "text": [
      "  name  age          email address\n",
      "0  홍길동   20  hong@hong.com      서울\n",
      "1  김김김   25   kim@hong.com      경기\n",
      "2  박길동   35  park@hong.com      제주\n"
     ]
    }
   ],
   "source": [
    "print(member)"
   ]
  },
  {
   "cell_type": "code",
   "execution_count": 39,
   "id": "faa31f27",
   "metadata": {
    "ExecuteTime": {
     "end_time": "2021-07-27T01:54:06.204457Z",
     "start_time": "2021-07-27T01:54:06.197498Z"
    }
   },
   "outputs": [
    {
     "data": {
      "text/plain": [
       "pandas.core.frame.DataFrame"
      ]
     },
     "execution_count": 39,
     "metadata": {},
     "output_type": "execute_result"
    }
   ],
   "source": [
    "type(member)"
   ]
  },
  {
   "cell_type": "markdown",
   "id": "52652912",
   "metadata": {},
   "source": [
    "# 5절. HDF5 파일 읽기/쓰기(딕셔너리, 데이터프레임)"
   ]
  },
  {
   "cell_type": "markdown",
   "id": "a5bf88a5",
   "metadata": {
    "ExecuteTime": {
     "end_time": "2021-07-27T01:56:13.177858Z",
     "start_time": "2021-07-27T01:56:13.160901Z"
    }
   },
   "source": [
    "## 5.1 h5py사용"
   ]
  },
  {
   "cell_type": "code",
   "execution_count": 60,
   "id": "95a5b63a",
   "metadata": {
    "ExecuteTime": {
     "end_time": "2021-07-27T01:58:32.760236Z",
     "start_time": "2021-07-27T01:58:24.901806Z"
    }
   },
   "outputs": [
    {
     "data": {
      "text/html": [
       "<div>\n",
       "<style scoped>\n",
       "    .dataframe tbody tr th:only-of-type {\n",
       "        vertical-align: middle;\n",
       "    }\n",
       "\n",
       "    .dataframe tbody tr th {\n",
       "        vertical-align: top;\n",
       "    }\n",
       "\n",
       "    .dataframe thead th {\n",
       "        text-align: right;\n",
       "    }\n",
       "</style>\n",
       "<table border=\"1\" class=\"dataframe\">\n",
       "  <thead>\n",
       "    <tr style=\"text-align: right;\">\n",
       "      <th></th>\n",
       "      <th>sepal_length</th>\n",
       "      <th>sepal_width</th>\n",
       "      <th>petal_length</th>\n",
       "      <th>petal_width</th>\n",
       "      <th>species</th>\n",
       "    </tr>\n",
       "  </thead>\n",
       "  <tbody>\n",
       "    <tr>\n",
       "      <th>0</th>\n",
       "      <td>5.1</td>\n",
       "      <td>3.5</td>\n",
       "      <td>1.4</td>\n",
       "      <td>0.2</td>\n",
       "      <td>setosa</td>\n",
       "    </tr>\n",
       "    <tr>\n",
       "      <th>1</th>\n",
       "      <td>4.9</td>\n",
       "      <td>3.0</td>\n",
       "      <td>1.4</td>\n",
       "      <td>0.2</td>\n",
       "      <td>setosa</td>\n",
       "    </tr>\n",
       "    <tr>\n",
       "      <th>2</th>\n",
       "      <td>4.7</td>\n",
       "      <td>3.2</td>\n",
       "      <td>1.3</td>\n",
       "      <td>0.2</td>\n",
       "      <td>setosa</td>\n",
       "    </tr>\n",
       "    <tr>\n",
       "      <th>3</th>\n",
       "      <td>4.6</td>\n",
       "      <td>3.1</td>\n",
       "      <td>1.5</td>\n",
       "      <td>0.2</td>\n",
       "      <td>setosa</td>\n",
       "    </tr>\n",
       "    <tr>\n",
       "      <th>4</th>\n",
       "      <td>5.0</td>\n",
       "      <td>3.6</td>\n",
       "      <td>1.4</td>\n",
       "      <td>0.2</td>\n",
       "      <td>setosa</td>\n",
       "    </tr>\n",
       "    <tr>\n",
       "      <th>...</th>\n",
       "      <td>...</td>\n",
       "      <td>...</td>\n",
       "      <td>...</td>\n",
       "      <td>...</td>\n",
       "      <td>...</td>\n",
       "    </tr>\n",
       "    <tr>\n",
       "      <th>145</th>\n",
       "      <td>6.7</td>\n",
       "      <td>3.0</td>\n",
       "      <td>5.2</td>\n",
       "      <td>2.3</td>\n",
       "      <td>virginica</td>\n",
       "    </tr>\n",
       "    <tr>\n",
       "      <th>146</th>\n",
       "      <td>6.3</td>\n",
       "      <td>2.5</td>\n",
       "      <td>5.0</td>\n",
       "      <td>1.9</td>\n",
       "      <td>virginica</td>\n",
       "    </tr>\n",
       "    <tr>\n",
       "      <th>147</th>\n",
       "      <td>6.5</td>\n",
       "      <td>3.0</td>\n",
       "      <td>5.2</td>\n",
       "      <td>2.0</td>\n",
       "      <td>virginica</td>\n",
       "    </tr>\n",
       "    <tr>\n",
       "      <th>148</th>\n",
       "      <td>6.2</td>\n",
       "      <td>3.4</td>\n",
       "      <td>5.4</td>\n",
       "      <td>2.3</td>\n",
       "      <td>virginica</td>\n",
       "    </tr>\n",
       "    <tr>\n",
       "      <th>149</th>\n",
       "      <td>5.9</td>\n",
       "      <td>3.0</td>\n",
       "      <td>5.1</td>\n",
       "      <td>1.8</td>\n",
       "      <td>virginica</td>\n",
       "    </tr>\n",
       "  </tbody>\n",
       "</table>\n",
       "<p>150 rows × 5 columns</p>\n",
       "</div>"
      ],
      "text/plain": [
       "     sepal_length  sepal_width  petal_length  petal_width    species\n",
       "0             5.1          3.5           1.4          0.2     setosa\n",
       "1             4.9          3.0           1.4          0.2     setosa\n",
       "2             4.7          3.2           1.3          0.2     setosa\n",
       "3             4.6          3.1           1.5          0.2     setosa\n",
       "4             5.0          3.6           1.4          0.2     setosa\n",
       "..            ...          ...           ...          ...        ...\n",
       "145           6.7          3.0           5.2          2.3  virginica\n",
       "146           6.3          2.5           5.0          1.9  virginica\n",
       "147           6.5          3.0           5.2          2.0  virginica\n",
       "148           6.2          3.4           5.4          2.3  virginica\n",
       "149           5.9          3.0           5.1          1.8  virginica\n",
       "\n",
       "[150 rows x 5 columns]"
      ]
     },
     "execution_count": 60,
     "metadata": {},
     "output_type": "execute_result"
    }
   ],
   "source": [
    "import seaborn as sns # seaborn은 시각화 패키지\n",
    "iris_df = sns.load_dataset(\"iris\")\n",
    "iris_df"
   ]
  },
  {
   "cell_type": "code",
   "execution_count": 61,
   "id": "e7ddea50",
   "metadata": {
    "ExecuteTime": {
     "end_time": "2021-07-27T01:59:14.429726Z",
     "start_time": "2021-07-27T01:59:14.405762Z"
    }
   },
   "outputs": [
    {
     "data": {
      "text/html": [
       "<div>\n",
       "<style scoped>\n",
       "    .dataframe tbody tr th:only-of-type {\n",
       "        vertical-align: middle;\n",
       "    }\n",
       "\n",
       "    .dataframe tbody tr th {\n",
       "        vertical-align: top;\n",
       "    }\n",
       "\n",
       "    .dataframe thead th {\n",
       "        text-align: right;\n",
       "    }\n",
       "</style>\n",
       "<table border=\"1\" class=\"dataframe\">\n",
       "  <thead>\n",
       "    <tr style=\"text-align: right;\">\n",
       "      <th></th>\n",
       "      <th>sepal_length</th>\n",
       "      <th>sepal_width</th>\n",
       "      <th>petal_length</th>\n",
       "      <th>petal_width</th>\n",
       "      <th>species</th>\n",
       "    </tr>\n",
       "  </thead>\n",
       "  <tbody>\n",
       "    <tr>\n",
       "      <th>0</th>\n",
       "      <td>5.1</td>\n",
       "      <td>3.5</td>\n",
       "      <td>1.4</td>\n",
       "      <td>0.2</td>\n",
       "      <td>setosa</td>\n",
       "    </tr>\n",
       "    <tr>\n",
       "      <th>1</th>\n",
       "      <td>4.9</td>\n",
       "      <td>3.0</td>\n",
       "      <td>1.4</td>\n",
       "      <td>0.2</td>\n",
       "      <td>setosa</td>\n",
       "    </tr>\n",
       "    <tr>\n",
       "      <th>2</th>\n",
       "      <td>4.7</td>\n",
       "      <td>3.2</td>\n",
       "      <td>1.3</td>\n",
       "      <td>0.2</td>\n",
       "      <td>setosa</td>\n",
       "    </tr>\n",
       "    <tr>\n",
       "      <th>3</th>\n",
       "      <td>4.6</td>\n",
       "      <td>3.1</td>\n",
       "      <td>1.5</td>\n",
       "      <td>0.2</td>\n",
       "      <td>setosa</td>\n",
       "    </tr>\n",
       "    <tr>\n",
       "      <th>4</th>\n",
       "      <td>5.0</td>\n",
       "      <td>3.6</td>\n",
       "      <td>1.4</td>\n",
       "      <td>0.2</td>\n",
       "      <td>setosa</td>\n",
       "    </tr>\n",
       "  </tbody>\n",
       "</table>\n",
       "</div>"
      ],
      "text/plain": [
       "   sepal_length  sepal_width  petal_length  petal_width species\n",
       "0           5.1          3.5           1.4          0.2  setosa\n",
       "1           4.9          3.0           1.4          0.2  setosa\n",
       "2           4.7          3.2           1.3          0.2  setosa\n",
       "3           4.6          3.1           1.5          0.2  setosa\n",
       "4           5.0          3.6           1.4          0.2  setosa"
      ]
     },
     "execution_count": 61,
     "metadata": {},
     "output_type": "execute_result"
    }
   ],
   "source": [
    "iris_df.head()"
   ]
  },
  {
   "cell_type": "code",
   "execution_count": null,
   "id": "ec2ebc24",
   "metadata": {},
   "outputs": [],
   "source": [
    "iris_dic = iris_df.to_dict() # 데이터프레임 변수를 딕셔너리변수로 형변환\n",
    "iris_dic\n",
    "# 컬럼명이 key값으로, 데이터들은 value값으로 분류됨."
   ]
  },
  {
   "cell_type": "code",
   "execution_count": 46,
   "id": "622e6686",
   "metadata": {
    "ExecuteTime": {
     "end_time": "2021-07-27T02:03:16.657396Z",
     "start_time": "2021-07-27T02:03:16.646424Z"
    }
   },
   "outputs": [
    {
     "data": {
      "text/plain": [
       "['sepal_length', 'sepal_width', 'petal_length', 'petal_width', 'species']"
      ]
     },
     "execution_count": 46,
     "metadata": {},
     "output_type": "execute_result"
    }
   ],
   "source": [
    "list(iris_dic.keys())"
   ]
  },
  {
   "cell_type": "code",
   "execution_count": null,
   "id": "26ee7f78",
   "metadata": {},
   "outputs": [],
   "source": [
    "for group, value in iris_dic.items():\n",
    "    print(group, value)\n",
    "    print('\\n')"
   ]
  },
  {
   "cell_type": "code",
   "execution_count": null,
   "id": "96af7d26",
   "metadata": {},
   "outputs": [],
   "source": [
    "for group, value in iris_dic.items():\n",
    "    print('변수는 ', group)\n",
    "    for key, data in value.items():\n",
    "        print(\"{}:{}\".format(key, data), end='\\t')\n",
    "    print()"
   ]
  },
  {
   "cell_type": "code",
   "execution_count": 63,
   "id": "830ad2ed",
   "metadata": {
    "ExecuteTime": {
     "end_time": "2021-07-27T02:42:03.658730Z",
     "start_time": "2021-07-27T02:42:03.366604Z"
    }
   },
   "outputs": [],
   "source": [
    "# iris_dic(딕셔너리)를 hdf파일로 쓰기\n",
    "import h5py\n",
    "with h5py.File('data/ch09_iris.hdf5', 'w') as f:\n",
    "    for group, value in iris_dic.items():\n",
    "        grp = f.create_group(group)\n",
    "        for key, data in value.items():\n",
    "            grp.create_dataset(str(key), data=data)"
   ]
  },
  {
   "cell_type": "code",
   "execution_count": 64,
   "id": "49a0396a",
   "metadata": {
    "ExecuteTime": {
     "end_time": "2021-07-27T02:42:50.758890Z",
     "start_time": "2021-07-27T02:42:49.431823Z"
    }
   },
   "outputs": [],
   "source": [
    "# iris_df(데이터프레임)을 hdf5 파일로 쓰기\n",
    "iris_df.to_hdf('data/ch09_iris2.hdf5', key='iris')"
   ]
  },
  {
   "cell_type": "code",
   "execution_count": null,
   "id": "11b1e05a",
   "metadata": {},
   "outputs": [],
   "source": [
    "# hdf5 파일을 딕셔너리 변수로 불러오기"
   ]
  },
  {
   "cell_type": "code",
   "execution_count": 65,
   "id": "fad8adda",
   "metadata": {
    "ExecuteTime": {
     "end_time": "2021-07-27T02:46:35.444866Z",
     "start_time": "2021-07-27T02:46:35.431880Z"
    }
   },
   "outputs": [
    {
     "data": {
      "text/plain": [
       "{'name': '홍길동'}"
      ]
     },
     "execution_count": 65,
     "metadata": {},
     "output_type": "execute_result"
    }
   ],
   "source": [
    "dict_data = {}\n",
    "dict_data['name'] = '홍길동'\n",
    "dict_data"
   ]
  },
  {
   "cell_type": "code",
   "execution_count": 66,
   "id": "fe96d371",
   "metadata": {
    "ExecuteTime": {
     "end_time": "2021-07-27T02:46:58.753934Z",
     "start_time": "2021-07-27T02:46:58.743967Z"
    }
   },
   "outputs": [
    {
     "data": {
      "text/plain": [
       "{'name': '홍길동'}"
      ]
     },
     "execution_count": 66,
     "metadata": {},
     "output_type": "execute_result"
    }
   ],
   "source": [
    "dict_data = {}\n",
    "dict_data.update({'name':'홍길동'})\n",
    "dict_data"
   ]
  },
  {
   "cell_type": "code",
   "execution_count": 69,
   "id": "4955872b",
   "metadata": {
    "ExecuteTime": {
     "end_time": "2021-07-27T02:49:15.093446Z",
     "start_time": "2021-07-27T02:49:15.048538Z"
    }
   },
   "outputs": [
    {
     "name": "stdout",
     "output_type": "stream",
     "text": [
      "변수는  petal_length\n"
     ]
    },
    {
     "ename": "AttributeError",
     "evalue": "'Dataset' object has no attribute 'value'",
     "output_type": "error",
     "traceback": [
      "\u001b[1;31m---------------------------------------------------------------------------\u001b[0m",
      "\u001b[1;31mAttributeError\u001b[0m                            Traceback (most recent call last)",
      "\u001b[1;32m~\\AppData\\Local\\Temp/ipykernel_9148/2322037945.py\u001b[0m in \u001b[0;36m<module>\u001b[1;34m\u001b[0m\n\u001b[0;32m      4\u001b[0m         \u001b[0mprint\u001b[0m\u001b[1;33m(\u001b[0m\u001b[1;34m'변수는 '\u001b[0m\u001b[1;33m,\u001b[0m \u001b[0mgroup\u001b[0m\u001b[1;33m)\u001b[0m\u001b[1;33m\u001b[0m\u001b[1;33m\u001b[0m\u001b[0m\n\u001b[0;32m      5\u001b[0m         \u001b[1;32mfor\u001b[0m \u001b[0mkey\u001b[0m\u001b[1;33m,\u001b[0m \u001b[0mdata\u001b[0m \u001b[1;32min\u001b[0m \u001b[0mvalue\u001b[0m\u001b[1;33m.\u001b[0m\u001b[0mitems\u001b[0m\u001b[1;33m(\u001b[0m\u001b[1;33m)\u001b[0m\u001b[1;33m:\u001b[0m\u001b[1;33m\u001b[0m\u001b[1;33m\u001b[0m\u001b[0m\n\u001b[1;32m----> 6\u001b[1;33m             \u001b[0mprint\u001b[0m\u001b[1;33m(\u001b[0m\u001b[1;34m\"{}:{}\"\u001b[0m\u001b[1;33m.\u001b[0m\u001b[0mformat\u001b[0m\u001b[1;33m(\u001b[0m\u001b[0mkey\u001b[0m\u001b[1;33m,\u001b[0m \u001b[0mdata\u001b[0m\u001b[1;33m.\u001b[0m\u001b[0mvalue\u001b[0m\u001b[1;33m)\u001b[0m\u001b[1;33m,\u001b[0m \u001b[0mend\u001b[0m\u001b[1;33m=\u001b[0m\u001b[1;34m'\\t'\u001b[0m\u001b[1;33m)\u001b[0m\u001b[1;33m\u001b[0m\u001b[1;33m\u001b[0m\u001b[0m\n\u001b[0m\u001b[0;32m      7\u001b[0m             \u001b[1;31m########################################################오류########################\u001b[0m\u001b[1;33m\u001b[0m\u001b[1;33m\u001b[0m\u001b[0m\n",
      "\u001b[1;31mAttributeError\u001b[0m: 'Dataset' object has no attribute 'value'"
     ]
    }
   ],
   "source": [
    "import h5py\n",
    "with h5py.File('data/ch09_iris.hdf5', 'r') as f:\n",
    "    for group, value in f.items():\n",
    "        print('변수는 ', group)\n",
    "        for key, data in value.items():\n",
    "            print(\"{}:{}\".format(key, data.value), end='\\t')\n",
    "            ########################################################오류########################"
   ]
  },
  {
   "cell_type": "code",
   "execution_count": 61,
   "id": "cb62dc6d",
   "metadata": {
    "ExecuteTime": {
     "end_time": "2021-07-27T02:53:56.344036Z",
     "start_time": "2021-07-27T02:53:56.327056Z"
    }
   },
   "outputs": [
    {
     "ename": "AttributeError",
     "evalue": "'str' object has no attribute 'value'",
     "output_type": "error",
     "traceback": [
      "\u001b[1;31m---------------------------------------------------------------------------\u001b[0m",
      "\u001b[1;31mAttributeError\u001b[0m                            Traceback (most recent call last)",
      "\u001b[1;32m<ipython-input-61-842ee2e6958b>\u001b[0m in \u001b[0;36m<module>\u001b[1;34m\u001b[0m\n\u001b[0;32m      4\u001b[0m         \u001b[0mcols\u001b[0m\u001b[1;33m=\u001b[0m\u001b[1;33m{\u001b[0m\u001b[1;33m}\u001b[0m\u001b[1;33m\u001b[0m\u001b[1;33m\u001b[0m\u001b[0m\n\u001b[0;32m      5\u001b[0m         \u001b[1;32mfor\u001b[0m \u001b[0mkey\u001b[0m\u001b[1;33m,\u001b[0m \u001b[0mdate\u001b[0m \u001b[1;32min\u001b[0m \u001b[0mvalue\u001b[0m\u001b[1;33m.\u001b[0m\u001b[0mitems\u001b[0m\u001b[1;33m(\u001b[0m\u001b[1;33m)\u001b[0m\u001b[1;33m:\u001b[0m\u001b[1;33m\u001b[0m\u001b[1;33m\u001b[0m\u001b[0m\n\u001b[1;32m----> 6\u001b[1;33m             \u001b[0mcols\u001b[0m\u001b[1;33m.\u001b[0m\u001b[0mupdate\u001b[0m\u001b[1;33m(\u001b[0m\u001b[1;33m{\u001b[0m\u001b[0mint\u001b[0m\u001b[1;33m(\u001b[0m\u001b[0mkey\u001b[0m\u001b[1;33m)\u001b[0m\u001b[1;33m:\u001b[0m\u001b[0mdata\u001b[0m\u001b[1;33m.\u001b[0m\u001b[0mvalue\u001b[0m\u001b[1;33m}\u001b[0m\u001b[1;33m)\u001b[0m\u001b[1;33m\u001b[0m\u001b[1;33m\u001b[0m\u001b[0m\n\u001b[0m\u001b[0;32m      7\u001b[0m             \u001b[1;31m# cols[int(key)] = data.value\u001b[0m\u001b[1;33m\u001b[0m\u001b[1;33m\u001b[0m\u001b[1;33m\u001b[0m\u001b[0m\n\u001b[0;32m      8\u001b[0m         \u001b[0miris_dic2\u001b[0m\u001b[1;33m.\u001b[0m\u001b[0mupdate\u001b[0m\u001b[1;33m(\u001b[0m\u001b[1;33m{\u001b[0m\u001b[0mgroup\u001b[0m\u001b[1;33m:\u001b[0m\u001b[0mcols\u001b[0m\u001b[1;33m}\u001b[0m\u001b[1;33m)\u001b[0m\u001b[1;33m\u001b[0m\u001b[1;33m\u001b[0m\u001b[0m\n",
      "\u001b[1;31mAttributeError\u001b[0m: 'str' object has no attribute 'value'"
     ]
    }
   ],
   "source": [
    "iris_dic2 = {}\n",
    "with h5py.File('data/ch09_iris.hdf5', 'r') as f:\n",
    "    for group, value in f.items():\n",
    "        cols={}\n",
    "        for key, date in value.items():\n",
    "            cols.update({int(key):data.value})\n",
    "            # cols[int(key)] = data.value\n",
    "        iris_dic2.update({group:cols})"
   ]
  },
  {
   "cell_type": "code",
   "execution_count": 62,
   "id": "9bd1a498",
   "metadata": {
    "ExecuteTime": {
     "end_time": "2021-07-27T02:55:09.019182Z",
     "start_time": "2021-07-27T02:55:09.015215Z"
    }
   },
   "outputs": [],
   "source": [
    "for group, value in iris_dic2.items():\n",
    "    print('변수명 : ', group)\n",
    "    print(value)"
   ]
  },
  {
   "cell_type": "code",
   "execution_count": 63,
   "id": "ce57aa6f",
   "metadata": {
    "ExecuteTime": {
     "end_time": "2021-07-27T02:57:18.804910Z",
     "start_time": "2021-07-27T02:57:18.774975Z"
    },
    "scrolled": true
   },
   "outputs": [
    {
     "data": {
      "text/html": [
       "<div>\n",
       "<style scoped>\n",
       "    .dataframe tbody tr th:only-of-type {\n",
       "        vertical-align: middle;\n",
       "    }\n",
       "\n",
       "    .dataframe tbody tr th {\n",
       "        vertical-align: top;\n",
       "    }\n",
       "\n",
       "    .dataframe thead th {\n",
       "        text-align: right;\n",
       "    }\n",
       "</style>\n",
       "<table border=\"1\" class=\"dataframe\">\n",
       "  <thead>\n",
       "    <tr style=\"text-align: right;\">\n",
       "      <th></th>\n",
       "      <th>sepal_length</th>\n",
       "      <th>sepal_width</th>\n",
       "      <th>petal_length</th>\n",
       "      <th>petal_width</th>\n",
       "      <th>species</th>\n",
       "    </tr>\n",
       "  </thead>\n",
       "  <tbody>\n",
       "    <tr>\n",
       "      <th>0</th>\n",
       "      <td>5.1</td>\n",
       "      <td>3.5</td>\n",
       "      <td>1.4</td>\n",
       "      <td>0.2</td>\n",
       "      <td>setosa</td>\n",
       "    </tr>\n",
       "    <tr>\n",
       "      <th>1</th>\n",
       "      <td>4.9</td>\n",
       "      <td>3.0</td>\n",
       "      <td>1.4</td>\n",
       "      <td>0.2</td>\n",
       "      <td>setosa</td>\n",
       "    </tr>\n",
       "    <tr>\n",
       "      <th>2</th>\n",
       "      <td>4.7</td>\n",
       "      <td>3.2</td>\n",
       "      <td>1.3</td>\n",
       "      <td>0.2</td>\n",
       "      <td>setosa</td>\n",
       "    </tr>\n",
       "    <tr>\n",
       "      <th>3</th>\n",
       "      <td>4.6</td>\n",
       "      <td>3.1</td>\n",
       "      <td>1.5</td>\n",
       "      <td>0.2</td>\n",
       "      <td>setosa</td>\n",
       "    </tr>\n",
       "    <tr>\n",
       "      <th>4</th>\n",
       "      <td>5.0</td>\n",
       "      <td>3.6</td>\n",
       "      <td>1.4</td>\n",
       "      <td>0.2</td>\n",
       "      <td>setosa</td>\n",
       "    </tr>\n",
       "    <tr>\n",
       "      <th>...</th>\n",
       "      <td>...</td>\n",
       "      <td>...</td>\n",
       "      <td>...</td>\n",
       "      <td>...</td>\n",
       "      <td>...</td>\n",
       "    </tr>\n",
       "    <tr>\n",
       "      <th>145</th>\n",
       "      <td>6.7</td>\n",
       "      <td>3.0</td>\n",
       "      <td>5.2</td>\n",
       "      <td>2.3</td>\n",
       "      <td>virginica</td>\n",
       "    </tr>\n",
       "    <tr>\n",
       "      <th>146</th>\n",
       "      <td>6.3</td>\n",
       "      <td>2.5</td>\n",
       "      <td>5.0</td>\n",
       "      <td>1.9</td>\n",
       "      <td>virginica</td>\n",
       "    </tr>\n",
       "    <tr>\n",
       "      <th>147</th>\n",
       "      <td>6.5</td>\n",
       "      <td>3.0</td>\n",
       "      <td>5.2</td>\n",
       "      <td>2.0</td>\n",
       "      <td>virginica</td>\n",
       "    </tr>\n",
       "    <tr>\n",
       "      <th>148</th>\n",
       "      <td>6.2</td>\n",
       "      <td>3.4</td>\n",
       "      <td>5.4</td>\n",
       "      <td>2.3</td>\n",
       "      <td>virginica</td>\n",
       "    </tr>\n",
       "    <tr>\n",
       "      <th>149</th>\n",
       "      <td>5.9</td>\n",
       "      <td>3.0</td>\n",
       "      <td>5.1</td>\n",
       "      <td>1.8</td>\n",
       "      <td>virginica</td>\n",
       "    </tr>\n",
       "  </tbody>\n",
       "</table>\n",
       "<p>150 rows × 5 columns</p>\n",
       "</div>"
      ],
      "text/plain": [
       "     sepal_length  sepal_width  petal_length  petal_width    species\n",
       "0             5.1          3.5           1.4          0.2     setosa\n",
       "1             4.9          3.0           1.4          0.2     setosa\n",
       "2             4.7          3.2           1.3          0.2     setosa\n",
       "3             4.6          3.1           1.5          0.2     setosa\n",
       "4             5.0          3.6           1.4          0.2     setosa\n",
       "..            ...          ...           ...          ...        ...\n",
       "145           6.7          3.0           5.2          2.3  virginica\n",
       "146           6.3          2.5           5.0          1.9  virginica\n",
       "147           6.5          3.0           5.2          2.0  virginica\n",
       "148           6.2          3.4           5.4          2.3  virginica\n",
       "149           5.9          3.0           5.1          1.8  virginica\n",
       "\n",
       "[150 rows x 5 columns]"
      ]
     },
     "execution_count": 63,
     "metadata": {},
     "output_type": "execute_result"
    }
   ],
   "source": [
    "# hdf5파일을 데이터프레임 변수로 읽어오기\n",
    "iris_df2 = pd.read_hdf('data/ch09_iris2.hdf5', key = 'iris')\n",
    "iris_df2"
   ]
  }
 ],
 "metadata": {
  "kernelspec": {
   "display_name": "Python 3 (ipykernel)",
   "language": "python",
   "name": "python3"
  },
  "language_info": {
   "codemirror_mode": {
    "name": "ipython",
    "version": 3
   },
   "file_extension": ".py",
   "mimetype": "text/x-python",
   "name": "python",
   "nbconvert_exporter": "python",
   "pygments_lexer": "ipython3",
   "version": "3.9.7"
  },
  "toc": {
   "base_numbering": 1,
   "nav_menu": {},
   "number_sections": true,
   "sideBar": true,
   "skip_h1_title": false,
   "title_cell": "Table of Contents",
   "title_sidebar": "Contents",
   "toc_cell": false,
   "toc_position": {},
   "toc_section_display": true,
   "toc_window_display": true
  },
  "varInspector": {
   "cols": {
    "lenName": 16,
    "lenType": 16,
    "lenVar": 40
   },
   "kernels_config": {
    "python": {
     "delete_cmd_postfix": "",
     "delete_cmd_prefix": "del ",
     "library": "var_list.py",
     "varRefreshCmd": "print(var_dic_list())"
    },
    "r": {
     "delete_cmd_postfix": ") ",
     "delete_cmd_prefix": "rm(",
     "library": "var_list.r",
     "varRefreshCmd": "cat(var_dic_list()) "
    }
   },
   "types_to_exclude": [
    "module",
    "function",
    "builtin_function_or_method",
    "instance",
    "_Feature"
   ],
   "window_display": false
  }
 },
 "nbformat": 4,
 "nbformat_minor": 5
}
