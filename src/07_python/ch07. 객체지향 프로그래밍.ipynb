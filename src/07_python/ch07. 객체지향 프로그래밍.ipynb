{
 "cells": [
  {
   "cell_type": "markdown",
   "id": "824d7060",
   "metadata": {
    "ExecuteTime": {
     "end_time": "2021-07-23T06:36:47.986648Z",
     "start_time": "2021-07-23T06:36:47.973704Z"
    }
   },
   "source": [
    "<b><font size=\"6\" color=\"red\">ch07. 객체지향 프로그래밍</font></b>"
   ]
  },
  {
   "cell_type": "markdown",
   "id": "0299b54c",
   "metadata": {},
   "source": [
    "# 1절. 객체와 클래스\n",
    "```\n",
    "class 클래스명(상속받을 클래스명):\n",
    "    변수나 함수들을 선언\n",
    "```"
   ]
  },
  {
   "cell_type": "code",
   "execution_count": 1,
   "id": "d826d18a",
   "metadata": {
    "ExecuteTime": {
     "end_time": "2021-08-15T11:08:54.297760Z",
     "start_time": "2021-08-15T11:08:54.257867Z"
    }
   },
   "outputs": [],
   "source": [
    "class Person :\n",
    "    \"\"\"\n",
    "    Person 클래스는 어쩌구저쩌구\n",
    "    여러줄 설명하는 독스트링\n",
    "    \"\"\"\n",
    "    pass # 빈 공간으로 둘 경우 에러 발생.\n",
    "# Person p1 = new Person() # 자바에서는 변수선언이 필요했음.\n",
    "                           # 파이썬에서는 할당이 이루어지는 시점에 객체가 생성.\n",
    "p1 = Person() # 클래스명의 첫 글자는 대문자로 설정하자!\n",
    "'''\n",
    "class Person{\n",
    "    private name,\n",
    "}\n",
    "'''\n",
    "p1 = Person()"
   ]
  },
  {
   "cell_type": "code",
   "execution_count": 2,
   "id": "0444dd23",
   "metadata": {
    "ExecuteTime": {
     "end_time": "2021-08-15T11:08:56.529603Z",
     "start_time": "2021-08-15T11:08:56.487715Z"
    }
   },
   "outputs": [
    {
     "data": {
      "text/plain": [
       "__main__.Person"
      ]
     },
     "execution_count": 2,
     "metadata": {},
     "output_type": "execute_result"
    }
   ],
   "source": [
    "type(p1)"
   ]
  },
  {
   "cell_type": "code",
   "execution_count": 3,
   "id": "84474191",
   "metadata": {
    "ExecuteTime": {
     "end_time": "2021-08-15T11:08:58.496523Z",
     "start_time": "2021-08-15T11:08:58.488545Z"
    }
   },
   "outputs": [
    {
     "name": "stdout",
     "output_type": "stream",
     "text": [
      "<__main__.Person object at 0x00000289E248FC40>\n"
     ]
    }
   ],
   "source": [
    "print(p1)"
   ]
  },
  {
   "cell_type": "code",
   "execution_count": 4,
   "id": "66660207",
   "metadata": {
    "ExecuteTime": {
     "end_time": "2021-08-15T11:09:00.354307Z",
     "start_time": "2021-08-15T11:09:00.335357Z"
    }
   },
   "outputs": [
    {
     "data": {
      "text/plain": [
       "True"
      ]
     },
     "execution_count": 4,
     "metadata": {},
     "output_type": "execute_result"
    }
   ],
   "source": [
    "isinstance(p1, Person) # 클래스가 메모리에 로드된 상태(?), 객체와 인스턴스는 동일한가? 일단 함수는 클래스를 인스턴스로 인정함"
   ]
  },
  {
   "cell_type": "code",
   "execution_count": 5,
   "id": "7bb1325c",
   "metadata": {
    "ExecuteTime": {
     "end_time": "2021-08-15T11:09:24.407757Z",
     "start_time": "2021-08-15T11:09:24.387817Z"
    }
   },
   "outputs": [
    {
     "name": "stdout",
     "output_type": "stream",
     "text": [
      "\n",
      "    Person 클래스는 어쩌구저쩌구\n",
      "    여러줄 설명하는 독스트링\n",
      "    \n"
     ]
    }
   ],
   "source": [
    "print(p1.__doc__) # 독스트링"
   ]
  },
  {
   "cell_type": "markdown",
   "id": "2b8987c2",
   "metadata": {},
   "source": [
    "# 2절. 변수와 메소드"
   ]
  },
  {
   "cell_type": "code",
   "execution_count": 7,
   "id": "eaf3ad4e",
   "metadata": {
    "ExecuteTime": {
     "end_time": "2021-08-15T12:36:14.431884Z",
     "start_time": "2021-08-15T12:36:14.414930Z"
    }
   },
   "outputs": [
    {
     "name": "stdout",
     "output_type": "stream",
     "text": [
      "홍길동 남자\n"
     ]
    }
   ],
   "source": [
    "# 변수추가\n",
    "class Person:\n",
    "    name = \"홍길동\"\n",
    "    gender = \"남자\"\n",
    "p1 = Person()\n",
    "print(p1.name, p1.gender)"
   ]
  },
  {
   "cell_type": "code",
   "execution_count": 8,
   "id": "36fcf581",
   "metadata": {
    "ExecuteTime": {
     "end_time": "2021-08-15T12:36:17.287734Z",
     "start_time": "2021-08-15T12:36:17.268783Z"
    }
   },
   "outputs": [
    {
     "name": "stdout",
     "output_type": "stream",
     "text": [
      "p2 객체의 변수 :  이순신 남자\n",
      "p1 객체의 변수 :  홍길동 남자\n",
      "클래스 영역변수 :  홍길동 남자\n"
     ]
    }
   ],
   "source": [
    "p2 = Person()\n",
    "p2.name = \"이순신\"\n",
    "print(\"p2 객체의 변수 : \", p2.name, p2.gender) # p2.name을 새로 선언했기 때문에 별도의 값을 가지게 됨.\n",
    "                                               # 이후 Person class의 값이 변경되더라도 p2.name은 영향을 받지 않고 독립적으로 존재\n",
    "print(\"p1 객체의 변수 : \", p1.name, p1.gender)\n",
    "print(\"클래스 영역변수 : \", Person.name, Person.gender)"
   ]
  },
  {
   "cell_type": "code",
   "execution_count": 9,
   "id": "4e19e7bb",
   "metadata": {
    "ExecuteTime": {
     "end_time": "2021-08-15T12:36:21.162268Z",
     "start_time": "2021-08-15T12:36:21.141290Z"
    }
   },
   "outputs": [
    {
     "name": "stdout",
     "output_type": "stream",
     "text": [
      "p2 객체의 변수 :  이순신 여자\n",
      "p1 객체의 변수 :  리사 여자\n",
      "클래스 영역변수 :  리사 여자\n"
     ]
    }
   ],
   "source": [
    "Person.name = \"리사\"\n",
    "Person.gender = \"여자\"\n",
    "print(\"p2 객체의 변수 : \", p2.name, p2.gender)\n",
    "print(\"p1 객체의 변수 : \", p1.name, p1.gender)\n",
    "print(\"클래스 영역변수 : \", Person.name, Person.gender)"
   ]
  },
  {
   "cell_type": "code",
   "execution_count": 10,
   "id": "cfa438b9",
   "metadata": {
    "ExecuteTime": {
     "end_time": "2021-08-15T12:36:42.373902Z",
     "start_time": "2021-08-15T12:36:42.357945Z"
    }
   },
   "outputs": [],
   "source": [
    "# 클래스에 매소드 추가\n",
    "\n",
    "class Person:\n",
    "    name = \"홍길동\"\n",
    "    gender = \"남자\"\n",
    "    def print_info():\n",
    "        print(\"Person 메소드\")\n",
    "        print(\"{}은 {}입니다\".format(Person.name, Person.gender))\n",
    "# 나는 return에 대한 개념이 약해서 return이 포함된 예시였으면 더 좋았을 듯."
   ]
  },
  {
   "cell_type": "code",
   "execution_count": 11,
   "id": "4670cd8e",
   "metadata": {
    "ExecuteTime": {
     "end_time": "2021-08-15T12:37:14.539898Z",
     "start_time": "2021-08-15T12:37:14.531918Z"
    }
   },
   "outputs": [
    {
     "name": "stdout",
     "output_type": "stream",
     "text": [
      "홍길동 남자\n",
      "Person 메소드\n",
      "홍길동은 남자입니다\n"
     ]
    }
   ],
   "source": [
    "print(Person.name, Person.gender)\n",
    "Person.print_info()"
   ]
  },
  {
   "cell_type": "code",
   "execution_count": 15,
   "id": "e5d75cbc",
   "metadata": {
    "ExecuteTime": {
     "end_time": "2021-08-15T12:37:58.763338Z",
     "start_time": "2021-08-15T12:37:58.742392Z"
    }
   },
   "outputs": [
    {
     "name": "stdout",
     "output_type": "stream",
     "text": [
      "리사 여자\n"
     ]
    },
    {
     "ename": "TypeError",
     "evalue": "print_info() takes 0 positional arguments but 1 was given",
     "output_type": "error",
     "traceback": [
      "\u001b[1;31m---------------------------------------------------------------------------\u001b[0m",
      "\u001b[1;31mTypeError\u001b[0m                                 Traceback (most recent call last)",
      "\u001b[1;32m<ipython-input-15-6dd9c3a70cc3>\u001b[0m in \u001b[0;36m<module>\u001b[1;34m\u001b[0m\n\u001b[0;32m      3\u001b[0m \u001b[0mp22\u001b[0m\u001b[1;33m.\u001b[0m\u001b[0mgender\u001b[0m \u001b[1;33m=\u001b[0m \u001b[1;34m\"여자\"\u001b[0m\u001b[1;33m\u001b[0m\u001b[1;33m\u001b[0m\u001b[0m\n\u001b[0;32m      4\u001b[0m \u001b[0mprint\u001b[0m\u001b[1;33m(\u001b[0m\u001b[0mp1\u001b[0m\u001b[1;33m.\u001b[0m\u001b[0mname\u001b[0m\u001b[1;33m,\u001b[0m \u001b[0mp1\u001b[0m\u001b[1;33m.\u001b[0m\u001b[0mgender\u001b[0m\u001b[1;33m)\u001b[0m\u001b[1;33m\u001b[0m\u001b[1;33m\u001b[0m\u001b[0m\n\u001b[1;32m----> 5\u001b[1;33m \u001b[0mp22\u001b[0m\u001b[1;33m.\u001b[0m\u001b[0mprint_info\u001b[0m\u001b[1;33m(\u001b[0m\u001b[1;33m)\u001b[0m\u001b[1;33m\u001b[0m\u001b[1;33m\u001b[0m\u001b[0m\n\u001b[0m\u001b[0;32m      6\u001b[0m \u001b[1;33m\u001b[0m\u001b[0m\n\u001b[0;32m      7\u001b[0m \u001b[1;31m# print_info()메서드가 생성시 self를 인수로 받는 선언이 되있지 않아\u001b[0m\u001b[1;33m\u001b[0m\u001b[1;33m\u001b[0m\u001b[1;33m\u001b[0m\u001b[0m\n",
      "\u001b[1;31mTypeError\u001b[0m: print_info() takes 0 positional arguments but 1 was given"
     ]
    }
   ],
   "source": [
    "p22 = Person()\n",
    "p22.name = \"유관순\"\n",
    "p22.gender = \"여자\"\n",
    "print(p1.name, p1.gender)\n",
    "p22.print_info()\n",
    "# print_info()메서드가 생성시 self를 인수로 받는 선언이 되있지 않아\n",
    "# 인스턴스 매서드로 작동하지 않음이 확인됨.\n",
    "# 그럼 현재 클래스는...static method로 작동하나? decorator가 없음에도?"
   ]
  },
  {
   "cell_type": "code",
   "execution_count": 16,
   "id": "3d6371af",
   "metadata": {
    "ExecuteTime": {
     "end_time": "2021-08-15T12:38:08.648606Z",
     "start_time": "2021-08-15T12:38:08.642620Z"
    }
   },
   "outputs": [],
   "source": [
    "p22 = Person()"
   ]
  },
  {
   "cell_type": "code",
   "execution_count": 17,
   "id": "bfbd0f41",
   "metadata": {
    "ExecuteTime": {
     "end_time": "2021-08-15T12:38:19.120623Z",
     "start_time": "2021-08-15T12:38:19.106693Z"
    }
   },
   "outputs": [
    {
     "ename": "TypeError",
     "evalue": "print_info() takes 0 positional arguments but 1 was given",
     "output_type": "error",
     "traceback": [
      "\u001b[1;31m---------------------------------------------------------------------------\u001b[0m",
      "\u001b[1;31mTypeError\u001b[0m                                 Traceback (most recent call last)",
      "\u001b[1;32m<ipython-input-17-67488c2647dd>\u001b[0m in \u001b[0;36m<module>\u001b[1;34m\u001b[0m\n\u001b[1;32m----> 1\u001b[1;33m \u001b[0mPerson\u001b[0m\u001b[1;33m.\u001b[0m\u001b[0mprint_info\u001b[0m\u001b[1;33m(\u001b[0m\u001b[0mp22\u001b[0m\u001b[1;33m)\u001b[0m\u001b[1;33m\u001b[0m\u001b[1;33m\u001b[0m\u001b[0m\n\u001b[0m",
      "\u001b[1;31mTypeError\u001b[0m: print_info() takes 0 positional arguments but 1 was given"
     ]
    }
   ],
   "source": [
    "Person.print_info(p22)"
   ]
  },
  {
   "cell_type": "code",
   "execution_count": 20,
   "id": "d6904df9",
   "metadata": {
    "ExecuteTime": {
     "end_time": "2021-08-15T12:51:37.719948Z",
     "start_time": "2021-08-15T12:51:37.702994Z"
    }
   },
   "outputs": [
    {
     "name": "stdout",
     "output_type": "stream",
     "text": [
      "홍길동 남자 30\n",
      "리사는 30살이고 남자입니다.\n",
      "리사는 30살이고 남자입니다.\n"
     ]
    }
   ],
   "source": [
    "# 인스턴스 매소드(객체가 호출할 수 있는 함수)\n",
    "# print_info는 객체가 호출 할 수 있지 않고 클래스만이 호출 할 수 있다.\n",
    "class Person:\n",
    "    name = \"홍길동\"\n",
    "    gender = \"남자\"\n",
    "    age = 30\n",
    "    # 인스턴스 메소드는 첫번째 인자에 self(뭔가를 쓴다. this도 가능 등등.)\n",
    "                                    # 실제 호출시에는 매개변수를 입력하진 않음.\n",
    "    # self : 인스턴스 매소드임을 표시\n",
    "    def print_info(self):\n",
    "        print(\"{}는 {}살이고 {}입니다.\".format(self.name, self.age, self.gender))\n",
    "print(Person.name, Person.gender, Person.age)\n",
    "p1 = Person()\n",
    "p1.name = \"리사\"\n",
    "p1.print_info()\n",
    "Person.print_info(p1) # 이렇게는 안써요"
   ]
  },
  {
   "cell_type": "code",
   "execution_count": 21,
   "id": "4654cd16",
   "metadata": {
    "ExecuteTime": {
     "end_time": "2021-08-15T12:51:52.209207Z",
     "start_time": "2021-08-15T12:51:52.190222Z"
    }
   },
   "outputs": [
    {
     "name": "stdout",
     "output_type": "stream",
     "text": [
      "리사는 30살이고 남자입니다.\n"
     ]
    }
   ],
   "source": [
    "Person.print_info(p1)"
   ]
  },
  {
   "cell_type": "code",
   "execution_count": 22,
   "id": "92351c0a",
   "metadata": {
    "ExecuteTime": {
     "end_time": "2021-08-15T12:51:56.056484Z",
     "start_time": "2021-08-15T12:51:56.033543Z"
    }
   },
   "outputs": [
    {
     "ename": "TypeError",
     "evalue": "print_info() missing 1 required positional argument: 'self'",
     "output_type": "error",
     "traceback": [
      "\u001b[1;31m---------------------------------------------------------------------------\u001b[0m",
      "\u001b[1;31mTypeError\u001b[0m                                 Traceback (most recent call last)",
      "\u001b[1;32m<ipython-input-22-5d08db0c8414>\u001b[0m in \u001b[0;36m<module>\u001b[1;34m\u001b[0m\n\u001b[1;32m----> 1\u001b[1;33m \u001b[0mPerson\u001b[0m\u001b[1;33m.\u001b[0m\u001b[0mprint_info\u001b[0m\u001b[1;33m(\u001b[0m\u001b[1;33m)\u001b[0m\u001b[1;33m\u001b[0m\u001b[1;33m\u001b[0m\u001b[0m\n\u001b[0m",
      "\u001b[1;31mTypeError\u001b[0m: print_info() missing 1 required positional argument: 'self'"
     ]
    }
   ],
   "source": [
    "Person.print_info()\n",
    "# 인스턴스 메소드는 객체생성후 객체명.print_info()로 사용하는 방법이 일반적!\n",
    "#                              클래스명.print_info(객체명)도 가능은 함(이렇게는 안써요)"
   ]
  },
  {
   "cell_type": "code",
   "execution_count": 23,
   "id": "73fcb5c2",
   "metadata": {
    "ExecuteTime": {
     "end_time": "2021-08-15T12:59:06.816872Z",
     "start_time": "2021-08-15T12:59:06.798921Z"
    }
   },
   "outputs": [
    {
     "name": "stdout",
     "output_type": "stream",
     "text": [
      "리사는 30살이고 남자입니다.\n"
     ]
    }
   ],
   "source": [
    "p1.print_info() # 객체로 호출하는 매서드를 만드는 것이 보다 일반적."
   ]
  },
  {
   "cell_type": "code",
   "execution_count": 24,
   "id": "af1739c9",
   "metadata": {
    "ExecuteTime": {
     "end_time": "2021-08-15T12:59:09.346135Z",
     "start_time": "2021-08-15T12:59:09.338187Z"
    }
   },
   "outputs": [],
   "source": [
    "p1.address = '서울시'\n",
    "p1.nickname = '곰돌이 푸'"
   ]
  },
  {
   "cell_type": "code",
   "execution_count": 25,
   "id": "65121c9d",
   "metadata": {
    "ExecuteTime": {
     "end_time": "2021-08-15T12:59:11.336016Z",
     "start_time": "2021-08-15T12:59:11.319064Z"
    }
   },
   "outputs": [
    {
     "name": "stdout",
     "output_type": "stream",
     "text": [
      "리사 곰돌이 푸 서울시\n"
     ]
    }
   ],
   "source": [
    "print(p1.name, p1.nickname, p1.address)"
   ]
  },
  {
   "cell_type": "markdown",
   "id": "9785ed86",
   "metadata": {},
   "source": [
    "### 인스턴스매소드 & 클래스매소드 & static매소드\n",
    "1. 인스턴스 매소드 : 첫 번째 인자에 self를 꼭 삽입. 객체를 통해서만 호출할 매소드\n",
    "2. 클래스 메소드 : @classmethod를 통해 선언한 매소드. 첫 번째 인자에 cls(clazz)를 꼭 입력\n",
    "3. static 메소드 : @staticmethod를 통해 선언한 메소드."
   ]
  },
  {
   "cell_type": "code",
   "execution_count": 26,
   "id": "def42f72",
   "metadata": {
    "ExecuteTime": {
     "end_time": "2021-08-15T12:59:28.825785Z",
     "start_time": "2021-08-15T12:59:28.802880Z"
    }
   },
   "outputs": [],
   "source": [
    "class Person:\n",
    "    name = \"홍길동\"\n",
    "    gender = \"남자\"\n",
    "    def print_info(self):\n",
    "        print(\"일반(인스턴스=객체)메소드 = {}는 {}입니다.\".format(self.name, self.gender))\n",
    "    @classmethod\n",
    "    def do_(cls):\n",
    "        cls.name = \"신사임당\"\n",
    "        cls.gender = \"여자\"\n",
    "        print(\"클래스 메소드 - {}는 {}입니다.\".format(cls.name, cls.gender))\n",
    "    @staticmethod\n",
    "    def that_():\n",
    "        print(\"static메소드 - {}는 {}입니다\".format(Person.name, Person.gender))"
   ]
  },
  {
   "cell_type": "code",
   "execution_count": null,
   "id": "31f1a3d1",
   "metadata": {},
   "outputs": [],
   "source": [
    "# classmethod 와 staticmethod가 의미하는 바는?\n",
    "# 기본값으로 설정되는 것이 있나? 아래 이름만 이순신으로 추가했는데\n",
    "# 성별이 여자로 자동 출력됨.\n",
    "# 위에처럼 만들긴 했는데, 그래서 클래스 메소드를 어떻게 사용한다고???"
   ]
  },
  {
   "cell_type": "code",
   "execution_count": 27,
   "id": "81b4e193",
   "metadata": {
    "ExecuteTime": {
     "end_time": "2021-08-15T13:00:05.866408Z",
     "start_time": "2021-08-15T13:00:05.859427Z"
    }
   },
   "outputs": [
    {
     "name": "stdout",
     "output_type": "stream",
     "text": [
      "일반(인스턴스=객체)메소드 = 홍길동는 남자입니다.\n",
      "static메소드 - 홍길동는 남자입니다\n",
      "클래스 메소드 - 신사임당는 여자입니다.\n"
     ]
    }
   ],
   "source": [
    "p1 = Person()\n",
    "p1.print_info()\n",
    "Person.that_()\n",
    "Person.do_()"
   ]
  },
  {
   "cell_type": "code",
   "execution_count": 31,
   "id": "f27f2058",
   "metadata": {
    "ExecuteTime": {
     "end_time": "2021-08-15T13:18:52.324719Z",
     "start_time": "2021-08-15T13:18:52.298777Z"
    }
   },
   "outputs": [
    {
     "name": "stdout",
     "output_type": "stream",
     "text": [
      "일반(인스턴스=객체)메소드 = 이순신는 여자입니다.\n",
      "static메소드 - 신사임당는 여자입니다\n",
      "static메소드 - 신사임당는 여자입니다\n",
      "클래스 메소드 - 신사임당는 여자입니다.\n"
     ]
    },
    {
     "ename": "TypeError",
     "evalue": "do_() takes 1 positional argument but 2 were given",
     "output_type": "error",
     "traceback": [
      "\u001b[1;31m---------------------------------------------------------------------------\u001b[0m",
      "\u001b[1;31mTypeError\u001b[0m                                 Traceback (most recent call last)",
      "\u001b[1;32m<ipython-input-31-971fcff03bbc>\u001b[0m in \u001b[0;36m<module>\u001b[1;34m\u001b[0m\n\u001b[0;32m      9\u001b[0m \u001b[0mPerson\u001b[0m\u001b[1;33m.\u001b[0m\u001b[0mdo_\u001b[0m\u001b[1;33m(\u001b[0m\u001b[1;33m)\u001b[0m\u001b[1;33m\u001b[0m\u001b[1;33m\u001b[0m\u001b[0m\n\u001b[0;32m     10\u001b[0m \u001b[1;31m############################################################ Error ############################################\u001b[0m\u001b[1;33m\u001b[0m\u001b[1;33m\u001b[0m\u001b[1;33m\u001b[0m\u001b[0m\n\u001b[1;32m---> 11\u001b[1;33m \u001b[0mPerson\u001b[0m\u001b[1;33m.\u001b[0m\u001b[0mdo_\u001b[0m\u001b[1;33m(\u001b[0m\u001b[0mp2\u001b[0m\u001b[1;33m)\u001b[0m \u001b[1;31m# type object 'Person' has no attribute 'do'\u001b[0m\u001b[1;33m\u001b[0m\u001b[1;33m\u001b[0m\u001b[0m\n\u001b[0m\u001b[0;32m     12\u001b[0m \u001b[0mp1\u001b[0m\u001b[1;33m.\u001b[0m\u001b[0mdo_\u001b[0m\u001b[1;33m(\u001b[0m\u001b[1;33m)\u001b[0m \u001b[1;31m# 작동하지 않음.\u001b[0m\u001b[1;33m\u001b[0m\u001b[1;33m\u001b[0m\u001b[0m\n\u001b[0;32m     13\u001b[0m \u001b[0mPerson\u001b[0m\u001b[1;33m.\u001b[0m\u001b[0mdo_\u001b[0m\u001b[1;33m(\u001b[0m\u001b[0mname\u001b[0m\u001b[1;33m)\u001b[0m \u001b[1;31m# 에러가 발생함.\u001b[0m\u001b[1;33m\u001b[0m\u001b[1;33m\u001b[0m\u001b[0m\n",
      "\u001b[1;31mTypeError\u001b[0m: do_() takes 1 positional argument but 2 were given"
     ]
    }
   ],
   "source": [
    "p1.name = \"이순신\"\n",
    "name= \"이순신\"\n",
    "p1.print_info()\n",
    "Person.that_()\n",
    "p1.that_() # 새로 대체된 p1.name이 적용되지 않고 class가 정의될 때 본래 가지고 있던 정보가 그대로 반복출력됨.\n",
    "        # Because the class method only has access to this cls argument, it can’t modify object instance state. \n",
    "        # However, class methods can still modify class state that applies across all instances of the class.\n",
    "        # cls. 을 이용해 선언한 '단일state'만이 호출 가능한듯!\n",
    "Person.do_()\n",
    "############################################################ Error ############################################\n",
    "Person.do_(p2) # 에러가 발생함. # type object 'Person' has no attribute 'do'\n",
    "p1.do_() # 작동하지 않음.\n",
    "################################################################################################################\n",
    "# 인스턴스객체만이 새로운 생성된 객체에 클래스가 가지고 있던 매서드 등을 적용할 수 있는 유연성을 가진듯."
   ]
  },
  {
   "cell_type": "code",
   "execution_count": 18,
   "id": "239ec329",
   "metadata": {
    "ExecuteTime": {
     "end_time": "2021-08-13T09:20:12.610461Z",
     "start_time": "2021-08-13T09:20:12.594500Z"
    }
   },
   "outputs": [
    {
     "name": "stdout",
     "output_type": "stream",
     "text": [
      "일반(인스턴스=객체)메소드 = 신사임당는 여자입니다.\n"
     ]
    }
   ],
   "source": [
    "p2 = Person()\n",
    "p2.print_info()"
   ]
  },
  {
   "cell_type": "code",
   "execution_count": 35,
   "id": "406cfee4",
   "metadata": {
    "ExecuteTime": {
     "end_time": "2021-08-06T05:48:15.718762Z",
     "start_time": "2021-08-06T05:48:15.712755Z"
    }
   },
   "outputs": [],
   "source": [
    "p2.age = 30"
   ]
  },
  {
   "cell_type": "code",
   "execution_count": 36,
   "id": "61417772",
   "metadata": {
    "ExecuteTime": {
     "end_time": "2021-08-06T05:48:19.811898Z",
     "start_time": "2021-08-06T05:48:19.792924Z"
    }
   },
   "outputs": [
    {
     "data": {
      "text/plain": [
       "30"
      ]
     },
     "execution_count": 36,
     "metadata": {},
     "output_type": "execute_result"
    }
   ],
   "source": [
    "p2.age"
   ]
  },
  {
   "cell_type": "markdown",
   "id": "55cfaac6",
   "metadata": {},
   "source": [
    "# 3절 생성자(\\__init__())와 소멸자(\\__del__())\n",
    "- 생성자 : __init__(self, 매개변수,...)\n",
    "    객체가 생성될 때 자동실행\n",
    "    생성시 필요한 코드(객체변수 초기화)를 포함 <= 생성자 함수는 주로 데이터를 초기화 하려고(?) 사용\n",
    "- 소멸자 : __del__(self) 객체가 소멸될 때 자동실행\n",
    "            소멸시 필요한 코드를 포함\n",
    "            인스턴스 객체의 레퍼런스 카운트가 0이 될 때 실행"
   ]
  },
  {
   "cell_type": "code",
   "execution_count": 1,
   "id": "99d0fcbd",
   "metadata": {
    "ExecuteTime": {
     "end_time": "2021-07-23T08:22:13.160095Z",
     "start_time": "2021-07-23T08:22:13.148118Z"
    }
   },
   "outputs": [],
   "source": [
    "class Person:\n",
    "    def __init__(self, name, gender):\n",
    "        self.name = name\n",
    "        self.gender = gender\n",
    "        print(\"Person 객체를 생성합니다\")\n",
    "    def __del__(self):\n",
    "        print(\"Person 객체를 소멸시킵니다\")\n",
    "    def print_info(self):\n",
    "        print(\"{}은(는) {}입니다\".format(self.name, self.gender))\n",
    "    def __str__(self): # 자바에서의 tostring()역할\n",
    "        return \"{}는 {}이죠\".format(self.name, self.gender)"
   ]
  },
  {
   "cell_type": "code",
   "execution_count": 2,
   "id": "c1eca07d",
   "metadata": {
    "ExecuteTime": {
     "end_time": "2021-07-23T08:22:14.568785Z",
     "start_time": "2021-07-23T08:22:14.556791Z"
    }
   },
   "outputs": [
    {
     "name": "stdout",
     "output_type": "stream",
     "text": [
      "Person 객체를 생성합니다\n",
      "Person 객체를 생성합니다\n",
      "신사임당은(는) 여자입니다\n",
      "홍길동는 남자이죠\n"
     ]
    }
   ],
   "source": [
    "p1 = Person(\"신사임당\", \"여자\")\n",
    "p2 = Person(\"홍길동\", \"남자\")\n",
    "p1.print_info()\n",
    "print(p2)"
   ]
  },
  {
   "cell_type": "code",
   "execution_count": 18,
   "id": "59ff10be",
   "metadata": {
    "ExecuteTime": {
     "end_time": "2021-07-23T08:01:16.111925Z",
     "start_time": "2021-07-23T08:01:16.093980Z"
    }
   },
   "outputs": [
    {
     "name": "stdout",
     "output_type": "stream",
     "text": [
      "Person 객체를 소멸시킵니다\n"
     ]
    }
   ],
   "source": [
    "del p1"
   ]
  },
  {
   "cell_type": "code",
   "execution_count": 19,
   "id": "51ed872f",
   "metadata": {
    "ExecuteTime": {
     "end_time": "2021-07-23T08:02:09.251006Z",
     "start_time": "2021-07-23T08:02:09.246025Z"
    }
   },
   "outputs": [],
   "source": [
    "p3 = p2"
   ]
  },
  {
   "cell_type": "code",
   "execution_count": 20,
   "id": "d7ed5541",
   "metadata": {
    "ExecuteTime": {
     "end_time": "2021-07-23T08:02:12.630137Z",
     "start_time": "2021-07-23T08:02:12.623155Z"
    }
   },
   "outputs": [],
   "source": [
    "del p2 # p3에 값들이 살아있기 때문에 reference count가 0이 되지 않아 소멸자가 실행되지 않음."
   ]
  },
  {
   "cell_type": "code",
   "execution_count": 21,
   "id": "f977c235",
   "metadata": {
    "ExecuteTime": {
     "end_time": "2021-07-23T08:02:48.819737Z",
     "start_time": "2021-07-23T08:02:48.813753Z"
    }
   },
   "outputs": [
    {
     "name": "stdout",
     "output_type": "stream",
     "text": [
      "Person 객체를 소멸시킵니다\n"
     ]
    }
   ],
   "source": [
    "del p3"
   ]
  },
  {
   "cell_type": "code",
   "execution_count": null,
   "id": "c16e077b",
   "metadata": {},
   "outputs": [],
   "source": [
    "** ★ 생성자를 통한 멤버변수의 초기화 ★**<br>\n",
    "** ★ 파이썬은 함수를 중복정의(오버로딩)할 수 없다 ★**<br>\n",
    "** ★ 생성자 함수도 중복정의(오버로딩)이 불가하다 ★**<br> # 기본값을 부여함으로써 해결!!!"
   ]
  },
  {
   "cell_type": "code",
   "execution_count": 1,
   "id": "51755d87",
   "metadata": {
    "ExecuteTime": {
     "end_time": "2021-08-15T16:38:02.177245Z",
     "start_time": "2021-08-15T16:38:02.157299Z"
    }
   },
   "outputs": [],
   "source": [
    "class Person:\n",
    "#    def __init__(self): # 매개변수 없이 호출될 생성자\n",
    "#        self.name = \"홍길동\"\n",
    "#        self.gender = \"남자\"\n",
    "#    def __init__(self, name): # 매개변수 1개로 호출될 생성자\n",
    "#        self.name = name\n",
    "#        self.gender = \"남자\"\n",
    "    def __init__(self, name=\"이순신\", gender=\"남자\"): # 매개변수 2개로 호출될 생성자\n",
    "        self.name = name\n",
    "        self.gender = gender\n",
    "        print(\"Person 객체를 생성합니다.\")\n",
    "    def __del__(self):\n",
    "        print(\"Person 객체를 소멸시킵니다.\")\n",
    "    def __str__(self):\n",
    "        return \"{}는 {}입니다\".format(self.name, self.gender)\n",
    "    #   return \"%s는 %s입니다\" % (self.name, self.gender)"
   ]
  },
  {
   "cell_type": "code",
   "execution_count": 2,
   "id": "f046decf",
   "metadata": {
    "ExecuteTime": {
     "end_time": "2021-08-15T16:38:06.510882Z",
     "start_time": "2021-08-15T16:38:06.502905Z"
    }
   },
   "outputs": [
    {
     "name": "stdout",
     "output_type": "stream",
     "text": [
      "Person 객체를 생성합니다.\n",
      "Person 객체를 생성합니다.\n",
      "Person 객체를 생성합니다.\n"
     ]
    }
   ],
   "source": [
    "p1 = Person(\"아이유\", \"여자\")\n",
    "p2 = Person(\"홍길동\")\n",
    "p3 = Person()\n",
    "# 기본값이 설정되어 있기 때문에 매개변수 2개가 모두 입력되지 않아도 생성이 가능한듯."
   ]
  },
  {
   "cell_type": "code",
   "execution_count": 61,
   "id": "1eefbc12",
   "metadata": {
    "ExecuteTime": {
     "end_time": "2021-08-15T16:37:36.907936Z",
     "start_time": "2021-08-15T16:37:36.895968Z"
    }
   },
   "outputs": [
    {
     "name": "stdout",
     "output_type": "stream",
     "text": [
      "p1 =  아이유는 여자입니다\n",
      "p2 =  홍길동는 남자입니다\n",
      "p3 =  이순신는 남자입니다\n"
     ]
    }
   ],
   "source": [
    "print(\"p1 = \", p1)\n",
    "print(\"p2 = \", p2)\n",
    "print(\"p3 = \", p3)"
   ]
  },
  {
   "cell_type": "markdown",
   "id": "07dbea13",
   "metadata": {},
   "source": [
    "# 4절. 상속과 재정의"
   ]
  },
  {
   "cell_type": "code",
   "execution_count": 1,
   "id": "ffa90b7c",
   "metadata": {
    "ExecuteTime": {
     "end_time": "2021-08-15T17:00:23.220512Z",
     "start_time": "2021-08-15T17:00:23.204555Z"
    }
   },
   "outputs": [],
   "source": [
    "class Person :\n",
    "    \"\"\"\n",
    "    Person은 이름과 성별 멤버변수가 있고 \n",
    "    어쩌구 저쩌구...\n",
    "    \"\"\"\n",
    "    def __init__(self, name, gender):\n",
    "        print(\"Person 객체를 생성합니다\")\n",
    "        self.name = name\n",
    "        self.gender = gender\n",
    "    def __del__(self):\n",
    "        print(\"Person 객체를 소멸시킵니다\")\n",
    "    def print_info(self):\n",
    "        '객체의 이름과 성별을 출력합니다'\n",
    "        print(\"{}님은 {}\".format(self.name, self.gender))\n",
    "    def __str__(self):\n",
    "        return \"{}님은 {}\".format(self.name, self.gender)"
   ]
  },
  {
   "cell_type": "code",
   "execution_count": 2,
   "id": "b3753522",
   "metadata": {
    "ExecuteTime": {
     "end_time": "2021-08-15T17:00:25.768302Z",
     "start_time": "2021-08-15T17:00:25.747357Z"
    }
   },
   "outputs": [],
   "source": [
    "class Student(Person):\n",
    "    \"name과 gender에 major변수를 갖는 Student타입\"\n",
    "    def __init__(self, name, gender, major):\n",
    "        self.name = name\n",
    "        self.gender = gender\n",
    "        self.major = major\n",
    "    def __del__(self):\n",
    "        pass\n",
    "    def print_info(self):\n",
    "        print(\"{}님의 전공 {}이고 {}입니다\".format(self.name, self.major, self.gender))\n",
    "    def __str__(self):\n",
    "        return \"{}님의 전공 {}이고 {}입니다\".format(self.name, self.major, self.gender)"
   ]
  },
  {
   "cell_type": "code",
   "execution_count": 3,
   "id": "88105b1d",
   "metadata": {
    "ExecuteTime": {
     "end_time": "2021-08-15T16:53:21.614216Z",
     "start_time": "2021-08-15T16:53:21.602247Z"
    }
   },
   "outputs": [
    {
     "name": "stdout",
     "output_type": "stream",
     "text": [
      "Person 객체를 생성합니다\n",
      "홍길동님은 남자\n",
      "홍길동님은 남자\n",
      "True\n"
     ]
    }
   ],
   "source": [
    "p1 = Person(\"홍길동\", \"남자\")\n",
    "print(p1)\n",
    "p1.print_info()\n",
    "print(isinstance(p1, Person))\n",
    "# p1객체가 이미 생성되어있는경우 __del__함수에 의해 기존의 p1이 삭제되고 새로 생성이 이루어진다.\n",
    "# 놀라지 말 것...^^;;;\n",
    "# Person클래스에 __str__이 정의되어 있어야 print(p1)이 가능!"
   ]
  },
  {
   "cell_type": "code",
   "execution_count": 3,
   "id": "c2dc9e7c",
   "metadata": {
    "ExecuteTime": {
     "end_time": "2021-08-15T17:00:29.028132Z",
     "start_time": "2021-08-15T17:00:29.010182Z"
    }
   },
   "outputs": [
    {
     "name": "stdout",
     "output_type": "stream",
     "text": [
      "Rachel님의 전공 BigData이고 Female입니다\n"
     ]
    }
   ],
   "source": [
    "s1 = Student(\"Rachel\", \"Female\", \"BigData\")\n",
    "print(s1)\n",
    "# 세 항목 모두가 입력되야만 객체생성이 가능."
   ]
  },
  {
   "cell_type": "code",
   "execution_count": 6,
   "id": "fc8ea927",
   "metadata": {
    "ExecuteTime": {
     "end_time": "2021-08-15T16:54:32.942888Z",
     "start_time": "2021-08-15T16:54:32.925930Z"
    }
   },
   "outputs": [
    {
     "data": {
      "text/plain": [
       "True"
      ]
     },
     "execution_count": 6,
     "metadata": {},
     "output_type": "execute_result"
    }
   ],
   "source": [
    "issubclass(Student, Person)"
   ]
  },
  {
   "cell_type": "code",
   "execution_count": 7,
   "id": "41015830",
   "metadata": {
    "ExecuteTime": {
     "end_time": "2021-08-15T16:54:35.490088Z",
     "start_time": "2021-08-15T16:54:35.468148Z"
    }
   },
   "outputs": [
    {
     "data": {
      "text/plain": [
       "True"
      ]
     },
     "execution_count": 7,
     "metadata": {},
     "output_type": "execute_result"
    }
   ],
   "source": [
    "isinstance(s1, Student)"
   ]
  },
  {
   "cell_type": "code",
   "execution_count": 4,
   "id": "b352af73",
   "metadata": {
    "ExecuteTime": {
     "end_time": "2021-08-15T17:00:32.876888Z",
     "start_time": "2021-08-15T17:00:32.854945Z"
    }
   },
   "outputs": [
    {
     "data": {
      "text/plain": [
       "True"
      ]
     },
     "execution_count": 4,
     "metadata": {},
     "output_type": "execute_result"
    }
   ],
   "source": [
    "isinstance(s1, Person)\n",
    "# s1은 Person형이 True, s1이 Person클래스의 객체로 생성됐는지 여부와는 별개인가?"
   ]
  },
  {
   "cell_type": "code",
   "execution_count": null,
   "id": "77203a9a",
   "metadata": {},
   "outputs": [],
   "source": [
    "student객체를 만들때는 xxx객체를 생성합니다 등의 Person객체 생성시 반환되던 문장이 출력되지 않고있음.\n",
    "재정의 했기 때문!. (재정의 안했다면 그저 Person객체가 Student객체 생성시 일부 포함됐다는 점만으로도 해당 기능이 자동 적용되야하나?)\n",
    "student객체 생성시 person객체가 포함됐다고 상속이 자동으로 이루어지는것? ...... 상속과 재정의가 무엇을 의미하는지\n",
    "\n",
    "아래 super()가 포함되면 객체 생성시 반환되는 문장이 출력됨!"
   ]
  },
  {
   "cell_type": "markdown",
   "id": "3802d662",
   "metadata": {},
   "source": [
    "### super() 이용"
   ]
  },
  {
   "cell_type": "code",
   "execution_count": 5,
   "id": "45772fb2",
   "metadata": {
    "ExecuteTime": {
     "end_time": "2021-08-15T17:25:31.514128Z",
     "start_time": "2021-08-15T17:25:31.490192Z"
    }
   },
   "outputs": [],
   "source": [
    "class Person :\n",
    "    \"\"\"\n",
    "    Person은 이름과 성별 멤버변수가 있고 \n",
    "    어쩌구 저쩌구...\n",
    "    \"\"\"\n",
    "    def __init__(self, name, gender):\n",
    "        print(\"Person객체를 생성합니다\")\n",
    "        self.name = name\n",
    "        self.gender = gender\n",
    "    def __del__(self):\n",
    "        print(\"Person 객체를 소멸시킵니다\")\n",
    "    def print_info(self):\n",
    "        '객체의 이름과 성별을 출력합니다'\n",
    "        print(\"{}님은 {}\".format(self.name, self.gender))\n",
    "    def __str__(self):\n",
    "        return \"{}님은 {}\".format(self.name, self.gender)\n",
    "\n",
    "class Student(Person):\n",
    "    \"name과 gender에 major변수를 갖는 Student타입\"\n",
    "    def __init__(self, name, gender, major):\n",
    "        # 부모 클래스의 생성자를 호출하여 초기화\n",
    "        super().__init__(name, gender)\n",
    "        # Person.__init__(self, name, gender)\n",
    "        self.major = major\n",
    "    def __del__(self):\n",
    "        pass\n",
    "    def print_info(self):\n",
    "        super().print_info()\n",
    "        print(\"전공은 {}입니다\".format(self.major))\n",
    "    def __str__(self):\n",
    "        return Person.__str__(self) + \"그리고 전공은 {}입니다.\".format(self.major)"
   ]
  },
  {
   "cell_type": "code",
   "execution_count": 9,
   "id": "f94d06f6",
   "metadata": {
    "ExecuteTime": {
     "end_time": "2021-08-15T17:31:12.472558Z",
     "start_time": "2021-08-15T17:31:12.456603Z"
    }
   },
   "outputs": [
    {
     "name": "stdout",
     "output_type": "stream",
     "text": [
      "Person객체를 생성합니다\n",
      "Choo님은 Male그리고 전공은 Compute Science입니다.\n",
      "Choo님은 Male\n",
      "전공은 Compute Science입니다\n"
     ]
    }
   ],
   "source": [
    "s1 = Student(\"Choo\", \"Male\", \"Compute Science\")\n",
    "# 세 항목 모두 입력해야 객체생성 가능\n",
    "print(s1)\n",
    "s1.print_info()\n",
    "# Person클래스에 속한 print_if(self)와 Student클래스에 속한 print_info(self) 둘 모두 실행됨."
   ]
  },
  {
   "cell_type": "code",
   "execution_count": null,
   "id": "b3583343",
   "metadata": {},
   "outputs": [],
   "source": [
    "static 객체를 만들지 않고 "
   ]
  },
  {
   "cell_type": "code",
   "execution_count": null,
   "id": "ef03f355",
   "metadata": {},
   "outputs": [],
   "source": [
    "클래스의 변수 이름 앞에 __(underscore 두 개)를 붙이면 static변수로 인식 (클래스명. 클래스명__변수명 형식으로 참조)\n",
    "# 여러 class들에서 동일한 변수를 공유하는 개념???"
   ]
  },
  {
   "cell_type": "markdown",
   "id": "058caf50",
   "metadata": {},
   "source": [
    "### static변수(정적 변수) : 여러 객체들 사이에 데이터를 공유하고 싶을 때 사용\n",
    "* underscore 두 개 '__'를 변수앞에 입력 /  형식 : 클래스명._클래스명__static변수명"
   ]
  },
  {
   "cell_type": "code",
   "execution_count": 10,
   "id": "980d32dd",
   "metadata": {
    "ExecuteTime": {
     "end_time": "2021-08-15T18:00:50.141999Z",
     "start_time": "2021-08-15T18:00:50.113076Z"
    }
   },
   "outputs": [],
   "source": [
    "class Person :\n",
    "    \"\"\"\n",
    "    Person은 이름과 성별 멤버변수가 있고 \n",
    "    어쩌구 저쩌구...\n",
    "    \"\"\"\n",
    "    def __init__(self, name, gender):\n",
    "        print(\"Person객체를 생성합니다\")\n",
    "        self.name = name\n",
    "        self.gender = gender\n",
    "    def __del__(self):\n",
    "        '객체의 이름과 성별을 출력합니다'\n",
    "        print(\"Person 객체를 소멸시킵니다\")\n",
    "    def print_info(self):\n",
    "        '객체의 이름과 성별을 출력합니다'\n",
    "        print(\"{}님은 {}\".format(self.name, self.gender))\n",
    "    def __str__(self):\n",
    "        return \"{}님은 {}\".format(self.name, self.gender)\n",
    "    \n",
    "class Student(Person):\n",
    "    'name과 gender에 major변수를 갖는 Student 타입'\n",
    "    __count = 0 # static변수 (클래스이름, 객체이름, 클래스명._클래스명__static변수명 이름 등 3가지 방법으로 참조\n",
    "    def __init__(self, name, gender, major):\n",
    "        Person.__init__(self, name, gender) # Person class의 생성자가 자동생성?\n",
    "        # super().__init__(name, gender) # 바로 위 행과 동일한 결과를 불러옴\n",
    "        self.major = major\n",
    "        Student._Student__count += 1 # 객체가 생성될 때마다 __count 증가\n",
    "        #__count += 1 # 바로 위 행과 동일한 결과를 불러옴\n",
    "    def __del__(self):\n",
    "        Student._Student__count -= 1 # 객체가 소멸될 때마다 __count 감소\n",
    "    def __str__(self):\n",
    "        return super().__str__() + \", 전공은 {}입니다\".format(self.major)\n",
    "        #return Person.__str__(self) + \", 전공은 {}입니다\".format(self.major)  \n",
    "    @classmethod\n",
    "    def get_count(cls):\n",
    "        return Student._Student__count\n",
    "        #return cls._Student_count\n",
    "            \n",
    "            "
   ]
  },
  {
   "cell_type": "code",
   "execution_count": 11,
   "id": "4f798c5c",
   "metadata": {
    "ExecuteTime": {
     "end_time": "2021-08-15T18:00:51.969391Z",
     "start_time": "2021-08-15T18:00:51.953433Z"
    }
   },
   "outputs": [
    {
     "name": "stdout",
     "output_type": "stream",
     "text": [
      "Person객체를 생성합니다\n",
      "홍길동님은 남자, 전공은 빅데이터입니다\n",
      "객체의 갯수 : 1\n",
      "객체의 갯수 : 1\n"
     ]
    }
   ],
   "source": [
    "s1 = Student('홍길동','남자','빅데이터')\n",
    "print(s1)\n",
    "print('객체의 갯수 :', Student.get_count())\n",
    "print('객체의 갯수 :', s1.get_count()) # classmethod는 대부분 class명으로 호출\n",
    "# static변수를 classmethod로 호출하는중...★★★★★"
   ]
  },
  {
   "cell_type": "code",
   "execution_count": 12,
   "id": "61eb0c63",
   "metadata": {
    "ExecuteTime": {
     "end_time": "2021-08-15T18:04:37.099665Z",
     "start_time": "2021-08-15T18:04:37.087699Z"
    }
   },
   "outputs": [
    {
     "name": "stdout",
     "output_type": "stream",
     "text": [
      "Person객체를 생성합니다\n",
      "홍길동님은 남자, 전공은 빅데이터입니다\n",
      "Yuna님은 여자, 전공은 소프트웨어공학입니다\n",
      "객체의 갯수 : 2\n"
     ]
    }
   ],
   "source": [
    "s2 = Student('Yuna','여자','소프트웨어공학')\n",
    "print(s1)\n",
    "print(s2)\n",
    "print('객체의 갯수 :', Student.get_count())"
   ]
  },
  {
   "cell_type": "code",
   "execution_count": 13,
   "id": "5c636b18",
   "metadata": {
    "ExecuteTime": {
     "end_time": "2021-08-15T18:04:44.721677Z",
     "start_time": "2021-08-15T18:04:44.713693Z"
    }
   },
   "outputs": [
    {
     "name": "stdout",
     "output_type": "stream",
     "text": [
      "Person객체를 생성합니다\n",
      "IU님은 여자, 전공은 통계학입니다\n",
      "객체의 갯수 : 3\n"
     ]
    }
   ],
   "source": [
    "s3 = Student('IU','여자','통계학')\n",
    "print(s3)\n",
    "print('객체의 갯수 :', Student.get_count())"
   ]
  },
  {
   "cell_type": "code",
   "execution_count": 14,
   "id": "a7ee364f",
   "metadata": {
    "ExecuteTime": {
     "end_time": "2021-08-15T18:04:48.355810Z",
     "start_time": "2021-08-15T18:04:48.336847Z"
    }
   },
   "outputs": [
    {
     "name": "stdout",
     "output_type": "stream",
     "text": [
      "객체의 갯수 :  1\n"
     ]
    }
   ],
   "source": [
    "del s1, s2\n",
    "print('객체의 갯수 : ', Student.get_count())"
   ]
  },
  {
   "cell_type": "code",
   "execution_count": 15,
   "id": "2bf102d3",
   "metadata": {
    "ExecuteTime": {
     "end_time": "2021-08-15T18:04:52.810502Z",
     "start_time": "2021-08-15T18:04:52.793548Z"
    }
   },
   "outputs": [
    {
     "data": {
      "text/plain": [
       "{'name': 'IU', 'gender': '여자', 'major': '통계학'}"
      ]
     },
     "execution_count": 15,
     "metadata": {},
     "output_type": "execute_result"
    }
   ],
   "source": [
    "s3.__dict__ # 클래스의 멤버변수들을 딕셔너리 형태로 출력하는 방법"
   ]
  }
 ],
 "metadata": {
  "kernelspec": {
   "display_name": "Python 3",
   "language": "python",
   "name": "python3"
  },
  "language_info": {
   "codemirror_mode": {
    "name": "ipython",
    "version": 3
   },
   "file_extension": ".py",
   "mimetype": "text/x-python",
   "name": "python",
   "nbconvert_exporter": "python",
   "pygments_lexer": "ipython3",
   "version": "3.8.8"
  },
  "toc": {
   "base_numbering": 1,
   "nav_menu": {},
   "number_sections": true,
   "sideBar": true,
   "skip_h1_title": false,
   "title_cell": "Table of Contents",
   "title_sidebar": "Contents",
   "toc_cell": false,
   "toc_position": {},
   "toc_section_display": true,
   "toc_window_display": false
  },
  "varInspector": {
   "cols": {
    "lenName": 16,
    "lenType": 16,
    "lenVar": 40
   },
   "kernels_config": {
    "python": {
     "delete_cmd_postfix": "",
     "delete_cmd_prefix": "del ",
     "library": "var_list.py",
     "varRefreshCmd": "print(var_dic_list())"
    },
    "r": {
     "delete_cmd_postfix": ") ",
     "delete_cmd_prefix": "rm(",
     "library": "var_list.r",
     "varRefreshCmd": "cat(var_dic_list()) "
    }
   },
   "types_to_exclude": [
    "module",
    "function",
    "builtin_function_or_method",
    "instance",
    "_Feature"
   ],
   "window_display": false
  }
 },
 "nbformat": 4,
 "nbformat_minor": 5
}
