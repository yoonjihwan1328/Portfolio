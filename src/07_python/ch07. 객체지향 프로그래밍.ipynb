{
 "cells": [
  {
   "cell_type": "markdown",
   "id": "824d7060",
   "metadata": {
    "ExecuteTime": {
     "end_time": "2021-07-23T06:36:47.986648Z",
     "start_time": "2021-07-23T06:36:47.973704Z"
    }
   },
   "source": [
    "<b><font size=\"6\" color=\"red\">ch07. 객체지향 프로그래밍</font></b>"
   ]
  },
  {
   "cell_type": "markdown",
   "id": "0299b54c",
   "metadata": {},
   "source": [
    "# 1절. 객체와 클래스\n",
    "```\n",
    "class 클래스명(상속받을 클래스명):\n",
    "    변수나 함수들을 선언\n",
    "```"
   ]
  },
  {
   "cell_type": "code",
   "execution_count": 7,
   "id": "d826d18a",
   "metadata": {
    "ExecuteTime": {
     "end_time": "2021-08-06T05:30:44.788897Z",
     "start_time": "2021-08-06T05:30:44.785938Z"
    }
   },
   "outputs": [],
   "source": [
    "class Person :\n",
    "    \"\"\"\n",
    "    Person 클래스는 어쩌구저쩌구\n",
    "    여러줄 설명하는 독스트링\n",
    "    \"\"\"\n",
    "    pass # 빈 공간으로 둘 경우 에러 발생.\n",
    "    # Person p1 = new Person() # 자바에서는 변수선언이 필요했음.\n",
    "                           # 파이썬에서는 할당이 이루어지는 시점에 객체가 생성.\n",
    "                        \n",
    "p1 = Person() # 클래스명의 첫 글자는 대문자로 설정하자!\n",
    "'''\n",
    "class Person{\n",
    "    private name,\n",
    "}\n",
    "'''\n",
    "p1 = Person()"
   ]
  },
  {
   "cell_type": "code",
   "execution_count": 9,
   "id": "0444dd23",
   "metadata": {
    "ExecuteTime": {
     "end_time": "2021-07-23T06:45:13.426286Z",
     "start_time": "2021-07-23T06:45:13.414316Z"
    }
   },
   "outputs": [
    {
     "data": {
      "text/plain": [
       "__main__.Person"
      ]
     },
     "execution_count": 9,
     "metadata": {},
     "output_type": "execute_result"
    }
   ],
   "source": [
    "type(p1)"
   ]
  },
  {
   "cell_type": "code",
   "execution_count": 10,
   "id": "84474191",
   "metadata": {
    "ExecuteTime": {
     "end_time": "2021-07-23T06:45:14.259288Z",
     "start_time": "2021-07-23T06:45:14.246324Z"
    }
   },
   "outputs": [
    {
     "name": "stdout",
     "output_type": "stream",
     "text": [
      "<__main__.Person object at 0x0000023EFA12DB20>\n"
     ]
    }
   ],
   "source": [
    "print(p1)"
   ]
  },
  {
   "cell_type": "code",
   "execution_count": 11,
   "id": "66660207",
   "metadata": {
    "ExecuteTime": {
     "end_time": "2021-07-23T06:45:14.884327Z",
     "start_time": "2021-07-23T06:45:14.871361Z"
    }
   },
   "outputs": [
    {
     "data": {
      "text/plain": [
       "True"
      ]
     },
     "execution_count": 11,
     "metadata": {},
     "output_type": "execute_result"
    }
   ],
   "source": [
    "isinstance(p1, Person) # 클래스가 메모리에 로드된 상태"
   ]
  },
  {
   "cell_type": "code",
   "execution_count": 4,
   "id": "7bb1325c",
   "metadata": {
    "ExecuteTime": {
     "end_time": "2021-08-06T04:18:39.215879Z",
     "start_time": "2021-08-06T04:18:39.202887Z"
    }
   },
   "outputs": [
    {
     "name": "stdout",
     "output_type": "stream",
     "text": [
      "\n",
      "    Person 클래스는 어쩌구저쩌구\n",
      "    여러줄 설명하는 독스트링\n",
      "    \n"
     ]
    }
   ],
   "source": [
    "print(p1.__doc__) # 독스트링"
   ]
  },
  {
   "cell_type": "markdown",
   "id": "2b8987c2",
   "metadata": {},
   "source": [
    "# 2절. 변수와 메소드"
   ]
  },
  {
   "cell_type": "code",
   "execution_count": 6,
   "id": "eaf3ad4e",
   "metadata": {
    "ExecuteTime": {
     "end_time": "2021-08-06T05:30:55.445848Z",
     "start_time": "2021-08-06T05:30:55.440871Z"
    }
   },
   "outputs": [
    {
     "name": "stdout",
     "output_type": "stream",
     "text": [
      "홍길동 남자\n"
     ]
    }
   ],
   "source": [
    "# 변수추가\n",
    "class Person:\n",
    "    name = \"홍길동\"\n",
    "    gender = \"남자\"\n",
    "p1 = Person()\n",
    "print(p1.name, p1.gender)"
   ]
  },
  {
   "cell_type": "code",
   "execution_count": 8,
   "id": "36fcf581",
   "metadata": {
    "ExecuteTime": {
     "end_time": "2021-07-23T07:20:24.507454Z",
     "start_time": "2021-07-23T07:20:24.498490Z"
    }
   },
   "outputs": [
    {
     "name": "stdout",
     "output_type": "stream",
     "text": [
      "p2 객체의 변수 :  이순신 남자\n",
      "p1 객체의 변수 :  홍길동 남자\n",
      "클래스 영역변수 :  홍길동 남자\n"
     ]
    }
   ],
   "source": [
    "p2 = Person()\n",
    "p2.name = \"이순신\"\n",
    "print(\"p2 객체의 변수 : \", p2.name, p2.gender) # p2.name을 새로 선언했기 때문에 별도의 값을 가지게 됨.\n",
    "                                               # 이후 Person class의 값이 변경되더라도 p2.name은 영향을 받지 않고 독립적으로 존재\n",
    "print(\"p1 객체의 변수 : \", p1.name, p1.gender)\n",
    "print(\"클래스 영역변수 : \", Person.name, Person.gender)"
   ]
  },
  {
   "cell_type": "code",
   "execution_count": 9,
   "id": "4e19e7bb",
   "metadata": {
    "ExecuteTime": {
     "end_time": "2021-07-23T07:20:27.593175Z",
     "start_time": "2021-07-23T07:20:27.587168Z"
    }
   },
   "outputs": [
    {
     "name": "stdout",
     "output_type": "stream",
     "text": [
      "p2 객체의 변수 :  이순신 여자\n",
      "p1 객체의 변수 :  리사 여자\n",
      "클래스 영역변수 :  리사 여자\n"
     ]
    }
   ],
   "source": [
    "Person.name = \"리사\"\n",
    "Person.gender = \"여자\"\n",
    "print(\"p2 객체의 변수 : \", p2.name, p2.gender)\n",
    "print(\"p1 객체의 변수 : \", p1.name, p1.gender)\n",
    "print(\"클래스 영역변수 : \", Person.name, Person.gender)"
   ]
  },
  {
   "cell_type": "code",
   "execution_count": 14,
   "id": "cfa438b9",
   "metadata": {
    "ExecuteTime": {
     "end_time": "2021-08-06T05:37:43.538810Z",
     "start_time": "2021-08-06T05:37:43.521838Z"
    }
   },
   "outputs": [],
   "source": [
    "# 클래스에 매소드 추가\n",
    "\n",
    "class Person:\n",
    "    name = \"홍길동\"\n",
    "    gender = \"남자\"\n",
    "    def print_info():\n",
    "        print(\"Person 메소드\")\n",
    "        print(\"{}은 {}입니다\".format(Person.name, Person.gender))"
   ]
  },
  {
   "cell_type": "code",
   "execution_count": 15,
   "id": "4670cd8e",
   "metadata": {
    "ExecuteTime": {
     "end_time": "2021-08-06T05:37:44.951784Z",
     "start_time": "2021-08-06T05:37:44.944786Z"
    }
   },
   "outputs": [
    {
     "name": "stdout",
     "output_type": "stream",
     "text": [
      "홍길동 남자\n",
      "Person 메소드\n",
      "홍길동은 남자입니다\n"
     ]
    }
   ],
   "source": [
    "print(Person.name, Person.gender)\n",
    "Person.print_info()"
   ]
  },
  {
   "cell_type": "code",
   "execution_count": 16,
   "id": "e5d75cbc",
   "metadata": {
    "ExecuteTime": {
     "end_time": "2021-08-06T05:31:33.864788Z",
     "start_time": "2021-08-06T05:31:33.841850Z"
    }
   },
   "outputs": [
    {
     "name": "stdout",
     "output_type": "stream",
     "text": [
      "리사 여자\n"
     ]
    },
    {
     "ename": "TypeError",
     "evalue": "print_info() takes 0 positional arguments but 1 was given",
     "output_type": "error",
     "traceback": [
      "\u001b[1;31m---------------------------------------------------------------------------\u001b[0m",
      "\u001b[1;31mTypeError\u001b[0m                                 Traceback (most recent call last)",
      "\u001b[1;32mC:\\Users\\PERFOR~1\\AppData\\Local\\Temp/ipykernel_4396/2087501996.py\u001b[0m in \u001b[0;36m<module>\u001b[1;34m\u001b[0m\n\u001b[0;32m      3\u001b[0m \u001b[0mp22\u001b[0m\u001b[1;33m.\u001b[0m\u001b[0mgender\u001b[0m \u001b[1;33m=\u001b[0m \u001b[1;34m\"여자\"\u001b[0m\u001b[1;33m\u001b[0m\u001b[1;33m\u001b[0m\u001b[0m\n\u001b[0;32m      4\u001b[0m \u001b[0mprint\u001b[0m\u001b[1;33m(\u001b[0m\u001b[0mp1\u001b[0m\u001b[1;33m.\u001b[0m\u001b[0mname\u001b[0m\u001b[1;33m,\u001b[0m \u001b[0mp1\u001b[0m\u001b[1;33m.\u001b[0m\u001b[0mgender\u001b[0m\u001b[1;33m)\u001b[0m\u001b[1;33m\u001b[0m\u001b[1;33m\u001b[0m\u001b[0m\n\u001b[1;32m----> 5\u001b[1;33m \u001b[0mp22\u001b[0m\u001b[1;33m.\u001b[0m\u001b[0mprint_info\u001b[0m\u001b[1;33m(\u001b[0m\u001b[1;33m)\u001b[0m \u001b[1;31m# 여기까진 인스턴스메소드(self.객체변수) 개념이 도입되지 않음.\u001b[0m\u001b[1;33m\u001b[0m\u001b[1;33m\u001b[0m\u001b[0m\n\u001b[0m\u001b[0;32m      6\u001b[0m                  \u001b[1;31m# print_info()가 인스턴스 메소드로 생성되지 않아 에러가 발생하는 것임.\u001b[0m\u001b[1;33m\u001b[0m\u001b[1;33m\u001b[0m\u001b[0m\n\u001b[0;32m      7\u001b[0m \u001b[1;31m# 지금 Person클래스의 print_info()는 static method와 가장 가까운 상태인건가?\u001b[0m\u001b[1;33m\u001b[0m\u001b[1;33m\u001b[0m\u001b[0m\n",
      "\u001b[1;31mTypeError\u001b[0m: print_info() takes 0 positional arguments but 1 was given"
     ]
    }
   ],
   "source": [
    "p22 = Person()\n",
    "p22.name = \"유관순\"\n",
    "p22.gender = \"여자\"\n",
    "print(p1.name, p1.gender)\n",
    "p22.print_info() # 여기까진 인스턴스메소드(self.객체변수) 개념이 도입되지 않음. \n",
    "                 # print_info()가 인스턴스 메소드로 생성되지 않아 에러가 발생하는 것임.\n",
    "# 지금 Person클래스의 print_info()는 static method와 가장 가까운 상태인건가?\n",
    "\n",
    "# https://www.daleseo.com/python-class-methods-vs-static-methods/\n",
    "    # 클래스에 아무 데코레이터(decorator) 없이 메서드를 선언하면 해당 메서드는 인스턴스 메서드로 취급이 되며,\n",
    "    # 첫번째 매개 변수로 클래스의 인스턴스가 넘어오게 됩니다.\n",
    "    # 이 첫번째 매개 변수의 이름은 보통 관행적으로 self라고 하며,\n",
    "    # 인스턴수 메서드는 이 self를 통해 인스턴스 속성(attribute)에 접근하거나 다른 인스턴스 메서드를 호출할 수 있습니다.\n",
    "    # 뿐만 아니라 self를 통해, 클래스 속성에 접근하거나 클래스 메서드를 호출할 수도 있습니다."
   ]
  },
  {
   "cell_type": "code",
   "execution_count": 23,
   "id": "3d6371af",
   "metadata": {
    "ExecuteTime": {
     "end_time": "2021-08-06T05:37:59.694007Z",
     "start_time": "2021-08-06T05:37:59.681021Z"
    }
   },
   "outputs": [],
   "source": [
    "p22 = Person()"
   ]
  },
  {
   "cell_type": "code",
   "execution_count": 25,
   "id": "bfbd0f41",
   "metadata": {
    "ExecuteTime": {
     "end_time": "2021-08-06T05:38:04.348500Z",
     "start_time": "2021-08-06T05:38:04.337530Z"
    }
   },
   "outputs": [
    {
     "ename": "TypeError",
     "evalue": "print_info() takes 0 positional arguments but 1 was given",
     "output_type": "error",
     "traceback": [
      "\u001b[1;31m---------------------------------------------------------------------------\u001b[0m",
      "\u001b[1;31mTypeError\u001b[0m                                 Traceback (most recent call last)",
      "\u001b[1;32m<ipython-input-25-67488c2647dd>\u001b[0m in \u001b[0;36m<module>\u001b[1;34m\u001b[0m\n\u001b[1;32m----> 1\u001b[1;33m \u001b[0mPerson\u001b[0m\u001b[1;33m.\u001b[0m\u001b[0mprint_info\u001b[0m\u001b[1;33m(\u001b[0m\u001b[0mp22\u001b[0m\u001b[1;33m)\u001b[0m\u001b[1;33m\u001b[0m\u001b[1;33m\u001b[0m\u001b[0m\n\u001b[0m",
      "\u001b[1;31mTypeError\u001b[0m: print_info() takes 0 positional arguments but 1 was given"
     ]
    }
   ],
   "source": [
    "Person.print_info(p22)\n",
    "# 아직까지는 Person클래스의 print_info()매서드가 self를 인수로 받는 선언이 되있지 않기 때문"
   ]
  },
  {
   "cell_type": "code",
   "execution_count": 18,
   "id": "d6904df9",
   "metadata": {
    "ExecuteTime": {
     "end_time": "2021-08-06T05:38:21.673894Z",
     "start_time": "2021-08-06T05:38:21.664895Z"
    }
   },
   "outputs": [
    {
     "name": "stdout",
     "output_type": "stream",
     "text": [
      "홍길동 남자 30\n",
      "리사는 30살이고 남자입니다.\n",
      "리사는 30살이고 남자입니다.\n"
     ]
    }
   ],
   "source": [
    "# 인스턴스 매소드(객체가 호출할 수 있는 함수) ★★★\n",
    "# 위 셀에서의 print_info는 객체가 호출 할 수 있지 않고 클래스만이 호출 할 수 있는 상태였음.\n",
    "class Person:\n",
    "    name = \"홍길동\"\n",
    "    gender = \"남자\"\n",
    "    age = 30\n",
    "    # 인스턴스 메소드는 첫번째 인자에 self(뭔가를 쓴다. this도 가능 등등.)\n",
    "                                    # 실제 호출시에는 매개변수를 입력하진 않음.\n",
    "    # self : 인스턴스 매소드임을 표시\n",
    "    def print_info(self):\n",
    "        print(\"{}는 {}살이고 {}입니다.\".format(self.name, self.age, self.gender))\n",
    "print(Person.name, Person.gender, Person.age)\n",
    "p1 = Person()\n",
    "p1.name = \"리사\"\n",
    "p1.print_info()\n",
    "Person.print_info(p1) # 이렇게는 안써요"
   ]
  },
  {
   "cell_type": "code",
   "execution_count": 80,
   "id": "4654cd16",
   "metadata": {
    "ExecuteTime": {
     "end_time": "2021-07-23T07:27:36.766763Z",
     "start_time": "2021-07-23T07:27:36.754774Z"
    }
   },
   "outputs": [
    {
     "name": "stdout",
     "output_type": "stream",
     "text": [
      "리사는 30살이고 남자입니다.\n"
     ]
    }
   ],
   "source": [
    "Person.print_info(p1) # 왼쪽과 같이 클래스명.인스턴스함수(객체명)이 가능하긴 하지만 자주 사용되는 방법은 아님."
   ]
  },
  {
   "cell_type": "code",
   "execution_count": 19,
   "id": "5656db18",
   "metadata": {},
   "outputs": [
    {
     "ename": "TypeError",
     "evalue": "print_info() missing 1 required positional argument: 'self'",
     "output_type": "error",
     "traceback": [
      "\u001b[1;31m---------------------------------------------------------------------------\u001b[0m",
      "\u001b[1;31mTypeError\u001b[0m                                 Traceback (most recent call last)",
      "\u001b[1;32mC:\\Users\\PERFOR~1\\AppData\\Local\\Temp/ipykernel_4396/1097663792.py\u001b[0m in \u001b[0;36m<module>\u001b[1;34m\u001b[0m\n\u001b[1;32m----> 1\u001b[1;33m \u001b[0mPerson\u001b[0m\u001b[1;33m.\u001b[0m\u001b[0mprint_info\u001b[0m\u001b[1;33m(\u001b[0m\u001b[1;33m)\u001b[0m \u001b[1;31m# 에러발생 !!! 앞에서\u001b[0m\u001b[1;33m\u001b[0m\u001b[1;33m\u001b[0m\u001b[0m\n\u001b[0m",
      "\u001b[1;31mTypeError\u001b[0m: print_info() missing 1 required positional argument: 'self'"
     ]
    }
   ],
   "source": [
    "Person.print_info() # 에러발생 !!! \n",
    "                    # 앞에서 Person.print_info()가 정상작동할 때는\n",
    "                        # class Person의 print_info()함수가 별도로 정의됐었음. "
   ]
  },
  {
   "cell_type": "code",
   "execution_count": 10,
   "id": "73fcb5c2",
   "metadata": {
    "ExecuteTime": {
     "end_time": "2021-07-23T07:33:53.286048Z",
     "start_time": "2021-07-23T07:33:53.281061Z"
    }
   },
   "outputs": [
    {
     "name": "stdout",
     "output_type": "stream",
     "text": [
      "리사는 30살이고 남자입니다.\n"
     ]
    }
   ],
   "source": [
    "p1.print_info() # 인스턴스 메소드는 객체생성 후 객체명.인스턴스함수()로 객체로 호출하는 매서드를 만드는 것이 보다 일반적이다!"
   ]
  },
  {
   "cell_type": "code",
   "execution_count": 10,
   "id": "af1739c9",
   "metadata": {
    "ExecuteTime": {
     "end_time": "2021-08-06T05:41:12.202682Z",
     "start_time": "2021-08-06T05:41:12.193728Z"
    }
   },
   "outputs": [],
   "source": [
    "p1.address = '서울시'\n",
    "p1.nickname = '곰돌이 푸'"
   ]
  },
  {
   "cell_type": "code",
   "execution_count": 11,
   "id": "65121c9d",
   "metadata": {
    "ExecuteTime": {
     "end_time": "2021-08-06T05:41:13.830843Z",
     "start_time": "2021-08-06T05:41:13.824881Z"
    }
   },
   "outputs": [
    {
     "name": "stdout",
     "output_type": "stream",
     "text": [
      "유관순 곰돌이 푸 서울시\n"
     ]
    }
   ],
   "source": [
    "print(p1.name, p1.nickname, p1.address)"
   ]
  },
  {
   "cell_type": "markdown",
   "id": "9785ed86",
   "metadata": {},
   "source": [
    "### 인스턴스매소드 & 클래스매소드 & static매소드\n",
    "1. 인스턴스 매소드 : 첫 번째 인자에 self를 꼭 삽입. 객체를 통해서만 호출할 매소드\n",
    "2. 클래스 메소드 : @classmethod를 통해 선언한 매소드. 첫 번째 인자에 cls(clazz)를 꼭 입력\n",
    "3. static 메소드 : @staticmethod를 통해 선언한 메소드."
   ]
  },
  {
   "cell_type": "code",
   "execution_count": 5,
   "id": "def42f72",
   "metadata": {
    "ExecuteTime": {
     "end_time": "2021-08-13T09:20:08.521794Z",
     "start_time": "2021-08-13T09:20:08.514815Z"
    }
   },
   "outputs": [],
   "source": [
    "class Person:\n",
    "    name = \"홍길동\"\n",
    "    gender = \"남자\"\n",
    "    def print_info(self):\n",
    "        print(\"일반(인스턴스=객체)메소드 = {}는 {}입니다.\".format(self.name, self.gender))\n",
    "    @classmethod\n",
    "    def do_(cls):\n",
    "        cls.name = \"신사임당\"\n",
    "        cls.gender = \"여자\"\n",
    "        print(\"클래스 메소드 - {}는 {}입니다.\".format(cls.name, cls.gender))\n",
    "    @staticmethod\n",
    "    def that_():\n",
    "        print(\"static메소드 - {}는 {}입니다\".format(Person.name, Person.gender))"
   ]
  },
  {
   "cell_type": "code",
   "execution_count": 6,
   "id": "81b4e193",
   "metadata": {
    "ExecuteTime": {
     "end_time": "2021-08-13T09:20:10.377324Z",
     "start_time": "2021-08-13T09:20:10.370344Z"
    }
   },
   "outputs": [
    {
     "name": "stdout",
     "output_type": "stream",
     "text": [
      "일반(인스턴스=객체)메소드 = 홍길동는 남자입니다.\n",
      "static메소드 - 홍길동는 남자입니다\n",
      "클래스 메소드 - 신사임당는 여자입니다.\n"
     ]
    }
   ],
   "source": [
    "p1 = Person()\n",
    "p1.print_info()\n",
    "Person.that_()\n",
    "Person.do_()"
   ]
  },
  {
   "cell_type": "code",
   "execution_count": 7,
   "id": "f27f2058",
   "metadata": {
    "ExecuteTime": {
     "end_time": "2021-08-13T09:16:23.680608Z",
     "start_time": "2021-08-13T09:16:23.666656Z"
    }
   },
   "outputs": [
    {
     "name": "stdout",
     "output_type": "stream",
     "text": [
      "일반(인스턴스=객체)메소드 = 이순신는 여자입니다.\n",
      "static메소드 - 신사임당는 여자입니다\n",
      "클래스 메소드 - 신사임당는 여자입니다.\n",
      "static메소드 - 신사임당는 여자입니다\n",
      "클래스 메소드 - 신사임당는 여자입니다.\n"
     ]
    },
    {
     "ename": "TypeError",
     "evalue": "do_() takes 1 positional argument but 2 were given",
     "output_type": "error",
     "traceback": [
      "\u001b[1;31m---------------------------------------------------------------------------\u001b[0m",
      "\u001b[1;31mTypeError\u001b[0m                                 Traceback (most recent call last)",
      "\u001b[1;32mC:\\Users\\PERFOR~1\\AppData\\Local\\Temp/ipykernel_12068/3579012472.py\u001b[0m in \u001b[0;36m<module>\u001b[1;34m\u001b[0m\n\u001b[0;32m      8\u001b[0m            \u001b[1;31m# That would require access to self. However, class methods can still modify class state that applies across all instances of the class.\u001b[0m\u001b[1;33m\u001b[0m\u001b[1;33m\u001b[0m\u001b[0m\n\u001b[0;32m      9\u001b[0m \u001b[0mp1\u001b[0m\u001b[1;33m.\u001b[0m\u001b[0mdo_\u001b[0m\u001b[1;33m(\u001b[0m\u001b[1;33m)\u001b[0m \u001b[1;31m# 작동하지 않음.\u001b[0m\u001b[1;33m\u001b[0m\u001b[1;33m\u001b[0m\u001b[0m\n\u001b[1;32m---> 10\u001b[1;33m \u001b[0mPerson\u001b[0m\u001b[1;33m.\u001b[0m\u001b[0mdo_\u001b[0m\u001b[1;33m(\u001b[0m\u001b[0mname\u001b[0m\u001b[1;33m)\u001b[0m \u001b[1;31m# 에러가 발생함.\u001b[0m\u001b[1;33m\u001b[0m\u001b[1;33m\u001b[0m\u001b[0m\n\u001b[0m\u001b[0;32m     11\u001b[0m \u001b[1;31m# 인스턴스객체만이 새로운 생성된 객체에 클래스가 가지고 있던 매서드 등을 적용할 수 있는 유연성을 가진듯.\u001b[0m\u001b[1;33m\u001b[0m\u001b[1;33m\u001b[0m\u001b[0m\n\u001b[0;32m     12\u001b[0m \u001b[1;33m\u001b[0m\u001b[0m\n",
      "\u001b[1;31mTypeError\u001b[0m: do_() takes 1 positional argument but 2 were given"
     ]
    }
   ],
   "source": [
    "p1.name = \"이순신\"\n",
    "name = \"이순신\"\n",
    "p1.print_info()\n",
    "Person.that_()\n",
    "Person.do_()\n",
    "p1.that_() # 새로 대체된 p1.name이 적용되지 않고 class가 정의될 때 본래 가지고 있던 정보가 그대로 반복출력됨.\n",
    "           # Because the class method only has access to this cls argument, it can’t modify object instance state. \n",
    "           # That would require access to self. However, class methods can still modify class state that applies across all instances of the class.\n",
    "p1.do_() # 작동하지 않음.\n",
    "Person.do_(name) # 에러가 발생함.\n",
    "# 인스턴스객체만이 새로운 생성된 객체에 클래스가 가지고 있던 매서드 등을 적용할 수 있는 유연성을 가진듯.\n",
    "\n",
    "# 이름만 이순신으로 추가했는데 성별이 여자로 자동 출력됨. 왜?"
   ]
  },
  {
   "cell_type": "code",
   "execution_count": 18,
   "id": "239ec329",
   "metadata": {
    "ExecuteTime": {
     "end_time": "2021-08-13T09:20:12.610461Z",
     "start_time": "2021-08-13T09:20:12.594500Z"
    }
   },
   "outputs": [
    {
     "name": "stdout",
     "output_type": "stream",
     "text": [
      "일반(인스턴스=객체)메소드 = 신사임당는 여자입니다.\n"
     ]
    }
   ],
   "source": [
    "p2 = Person()\n",
    "p2.print_info()"
   ]
  },
  {
   "cell_type": "code",
   "execution_count": 35,
   "id": "406cfee4",
   "metadata": {
    "ExecuteTime": {
     "end_time": "2021-08-06T05:48:15.718762Z",
     "start_time": "2021-08-06T05:48:15.712755Z"
    }
   },
   "outputs": [],
   "source": [
    "p2.age = 30"
   ]
  },
  {
   "cell_type": "code",
   "execution_count": 36,
   "id": "61417772",
   "metadata": {
    "ExecuteTime": {
     "end_time": "2021-08-06T05:48:19.811898Z",
     "start_time": "2021-08-06T05:48:19.792924Z"
    }
   },
   "outputs": [
    {
     "data": {
      "text/plain": [
       "30"
      ]
     },
     "execution_count": 36,
     "metadata": {},
     "output_type": "execute_result"
    }
   ],
   "source": [
    "p2.age"
   ]
  },
  {
   "cell_type": "markdown",
   "id": "55cfaac6",
   "metadata": {},
   "source": [
    "# 3절 생성자(\\__init__())와 소멸자(\\__del__())\n",
    "- 생성자 : __init__(self, 매개변수,...)\n",
    "            객체가 생성될 때 자동실행\n",
    "            생성시 필요한 코드(객체변수 초기화)를 포함 <= 생성자 함수는 주로 데이터를 초기화 하려고(?) 사용\n",
    "- 소멸자 : __del__(self) 객체가 소멸될 때 자동실행\n",
    "            소멸시 필요한 코드를 포함\n",
    "            인스턴스 객체의 레퍼런스 카운트가 0이 될 때 실행"
   ]
  },
  {
   "cell_type": "code",
   "execution_count": 4,
   "id": "99d0fcbd",
   "metadata": {
    "ExecuteTime": {
     "end_time": "2021-07-23T08:22:13.160095Z",
     "start_time": "2021-07-23T08:22:13.148118Z"
    }
   },
   "outputs": [],
   "source": [
    "class Person:                         # https://docs.python.org/3/tutorial/classes.html\n",
    "    def __init__(self, name, gender): # The instantiation operation (“calling” a class object) creates an empty object.\n",
    "        self.name = name              # Many classes like to create objects with instances customized to a specific initial state. \n",
    "        self.gender = gender\n",
    "        print(\"Person 객체를 생성합니다\")\n",
    "    def __del__(self):\n",
    "        print(\"Person 객체를 소멸시킵니다\")\n",
    "    def print_info(self):\n",
    "        print(\"{}은(는) {}입니다\".format(self.name, self.gender))\n",
    "    def __str__(self): # 자바에서의 tostring()역할\n",
    "        return \"{}는 {}이죠\".format(self.name, self.gender)\n",
    "        #   return \"%s는 %s입니다\" % (self.name, self.gender)"
   ]
  },
  {
   "cell_type": "code",
   "execution_count": 5,
   "id": "c1eca07d",
   "metadata": {
    "ExecuteTime": {
     "end_time": "2021-07-23T08:22:14.568785Z",
     "start_time": "2021-07-23T08:22:14.556791Z"
    },
    "scrolled": true
   },
   "outputs": [
    {
     "name": "stdout",
     "output_type": "stream",
     "text": [
      "Person 객체를 생성합니다\n",
      "Person 객체를 생성합니다\n",
      "신사임당은(는) 여자입니다\n",
      "홍길동는 남자이죠\n"
     ]
    }
   ],
   "source": [
    "p1 = Person(\"신사임당\", \"여자\") # creates a new instance of the class and assigns this object to the local variable p1.\n",
    "p2 = Person(\"홍길동\", \"남자\")\n",
    "p1.print_info() # print함수를 이용\n",
    "print(p2)       # returb함수를 이용"
   ]
  },
  {
   "cell_type": "code",
   "execution_count": 18,
   "id": "59ff10be",
   "metadata": {
    "ExecuteTime": {
     "end_time": "2021-07-23T08:01:16.111925Z",
     "start_time": "2021-07-23T08:01:16.093980Z"
    }
   },
   "outputs": [
    {
     "name": "stdout",
     "output_type": "stream",
     "text": [
      "Person 객체를 소멸시킵니다\n"
     ]
    }
   ],
   "source": [
    "del p1"
   ]
  },
  {
   "cell_type": "code",
   "execution_count": 19,
   "id": "51ed872f",
   "metadata": {
    "ExecuteTime": {
     "end_time": "2021-07-23T08:02:09.251006Z",
     "start_time": "2021-07-23T08:02:09.246025Z"
    }
   },
   "outputs": [],
   "source": [
    "p3 = p2"
   ]
  },
  {
   "cell_type": "code",
   "execution_count": 20,
   "id": "d7ed5541",
   "metadata": {
    "ExecuteTime": {
     "end_time": "2021-07-23T08:02:12.630137Z",
     "start_time": "2021-07-23T08:02:12.623155Z"
    }
   },
   "outputs": [],
   "source": [
    "del p2 # p3에 값들이 살아있기 때문에 reference count가 0이 되지 않아 소멸자가 실행되지 않음.\n",
    "        # class Person이 소멸(__del__)된 것이 아니라 단지 객체p2가 제거된 것이기 때문인듯."
   ]
  },
  {
   "cell_type": "code",
   "execution_count": 21,
   "id": "f977c235",
   "metadata": {
    "ExecuteTime": {
     "end_time": "2021-07-23T08:02:48.819737Z",
     "start_time": "2021-07-23T08:02:48.813753Z"
    },
    "scrolled": true
   },
   "outputs": [
    {
     "name": "stdout",
     "output_type": "stream",
     "text": [
      "Person 객체를 소멸시킵니다\n"
     ]
    }
   ],
   "source": [
    "del p3"
   ]
  },
  {
   "cell_type": "markdown",
   "id": "72dbd838",
   "metadata": {},
   "source": [
    "** ★ 생성자를 통한 멤버변수의 초기화 ★**<br>\n",
    "** ★ 파이썬은 함수를 중복정의(오버로딩)할 수 없다 ★**<br>\n",
    "** ★ 생성자 함수도 중복정의(오버로딩)이 불가하다 ★**<br>  기본값을 부여함으로써 해결!!!"
   ]
  },
  {
   "cell_type": "code",
   "execution_count": 5,
   "id": "2ba6e58b",
   "metadata": {},
   "outputs": [],
   "source": [
    "# 일반함수는 중복정의가 불가능하다.\n",
    "def add(a,b):\n",
    "    return a + b"
   ]
  },
  {
   "cell_type": "code",
   "execution_count": 6,
   "id": "59372502",
   "metadata": {},
   "outputs": [],
   "source": [
    "def add(a,b,c):\n",
    "    return a + b + c"
   ]
  },
  {
   "cell_type": "code",
   "execution_count": 14,
   "id": "0829dd3e",
   "metadata": {},
   "outputs": [
    {
     "name": "stdout",
     "output_type": "stream",
     "text": [
      "전달인자(argument)가 3개인 add 함수 :  6\n"
     ]
    },
    {
     "ename": "TypeError",
     "evalue": "add() missing 1 required positional argument: 'c'",
     "output_type": "error",
     "traceback": [
      "\u001b[1;31m---------------------------------------------------------------------------\u001b[0m",
      "\u001b[1;31mTypeError\u001b[0m                                 Traceback (most recent call last)",
      "\u001b[1;32m~\\AppData\\Local\\Temp/ipykernel_1940/3428935369.py\u001b[0m in \u001b[0;36m<module>\u001b[1;34m\u001b[0m\n\u001b[0;32m      1\u001b[0m \u001b[0mprint\u001b[0m\u001b[1;33m(\u001b[0m\u001b[1;34m'전달인자(argument)가 3개인 add 함수 : '\u001b[0m\u001b[1;33m,\u001b[0m \u001b[0madd\u001b[0m\u001b[1;33m(\u001b[0m\u001b[1;36m1\u001b[0m\u001b[1;33m,\u001b[0m\u001b[1;36m2\u001b[0m\u001b[1;33m,\u001b[0m\u001b[1;36m3\u001b[0m\u001b[1;33m)\u001b[0m\u001b[1;33m)\u001b[0m\u001b[1;33m\u001b[0m\u001b[1;33m\u001b[0m\u001b[0m\n\u001b[1;32m----> 2\u001b[1;33m \u001b[0mprint\u001b[0m\u001b[1;33m(\u001b[0m\u001b[1;34m'전달인자(argument)가 2개인 add 함수 : '\u001b[0m\u001b[1;33m,\u001b[0m \u001b[0madd\u001b[0m\u001b[1;33m(\u001b[0m\u001b[1;36m1\u001b[0m\u001b[1;33m,\u001b[0m\u001b[1;36m2\u001b[0m\u001b[1;33m)\u001b[0m\u001b[1;33m)\u001b[0m\u001b[1;33m\u001b[0m\u001b[1;33m\u001b[0m\u001b[0m\n\u001b[0m",
      "\u001b[1;31mTypeError\u001b[0m: add() missing 1 required positional argument: 'c'"
     ]
    }
   ],
   "source": [
    "print('전달인자(argument)가 3개인 add 함수 : ', add(1,2,3))\n",
    "print('전달인자(argument)가 2개인 add 함수 : ', add(1,2))"
   ]
  },
  {
   "cell_type": "code",
   "execution_count": 17,
   "id": "51755d87",
   "metadata": {
    "ExecuteTime": {
     "end_time": "2021-07-23T08:32:01.756751Z",
     "start_time": "2021-07-23T08:32:01.739782Z"
    }
   },
   "outputs": [],
   "source": [
    "class Person:\n",
    "#    def __init__(self): # 매개변수 없이 호출될 생성자\n",
    "#        self.name = \"홍길동\"\n",
    "#        self.gender = \"남자\"\n",
    "#    def __init__(self, name): # 매개변수 1개로 호출될 생성자\n",
    "#        self.name = name\n",
    "#        self.gender = \"남자\"\n",
    "    def __init__(self, name = \"Choo\", gender=\"남자\"): # 매개변수 2개로 호출될 생성자\n",
    "        self.name = name\n",
    "        self.gender = gender\n",
    "        print(\"Person 객체를 생성합니다.\")\n",
    "    def __del__(self):\n",
    "        print(\"Person 객체를 소멸시킵니다.\")\n",
    "    def __str__(self):\n",
    "        return \"{}는 {}입니다\".format(self.name, self.gender)"
   ]
  },
  {
   "cell_type": "code",
   "execution_count": 19,
   "id": "f046decf",
   "metadata": {
    "ExecuteTime": {
     "end_time": "2021-07-23T08:34:56.108513Z",
     "start_time": "2021-07-23T08:34:56.091568Z"
    }
   },
   "outputs": [
    {
     "name": "stdout",
     "output_type": "stream",
     "text": [
      "Person 객체를 생성합니다.\n",
      "Person 객체를 소멸시킵니다.\n",
      "Person 객체를 생성합니다.\n",
      "Person 객체를 소멸시킵니다.\n",
      "Person 객체를 생성합니다.\n",
      "Person 객체를 소멸시킵니다.\n"
     ]
    }
   ],
   "source": [
    "p1 = Person(\"IU\", \"여자\") # creates a new instance of the class and assigns this object to the local variable p1.\n",
    "p2 = Person(\"Kownho\")\n",
    "p3 = Person()\n",
    "# keyword argument에 기본값이 설정되있어 입력하는 arguments 숫자가 다를 수 있음."
   ]
  },
  {
   "cell_type": "code",
   "execution_count": 20,
   "id": "1eefbc12",
   "metadata": {
    "ExecuteTime": {
     "end_time": "2021-07-23T08:34:58.996187Z",
     "start_time": "2021-07-23T08:34:58.986214Z"
    }
   },
   "outputs": [
    {
     "name": "stdout",
     "output_type": "stream",
     "text": [
      "p1 =  IU는 여자입니다\n",
      "p2 =  Kownho는 남자입니다\n",
      "p3 =  Choo는 남자입니다\n"
     ]
    }
   ],
   "source": [
    "print(\"p1 = \", p1)\n",
    "print(\"p2 = \", p2)\n",
    "print(\"p3 = \", p3)"
   ]
  },
  {
   "cell_type": "markdown",
   "id": "07dbea13",
   "metadata": {},
   "source": [
    "# 4절. 상속과 재정의"
   ]
  },
  {
   "cell_type": "code",
   "execution_count": 13,
   "id": "ffa90b7c",
   "metadata": {
    "ExecuteTime": {
     "end_time": "2021-07-23T08:49:19.603405Z",
     "start_time": "2021-07-23T08:49:19.589466Z"
    }
   },
   "outputs": [],
   "source": [
    "class Person :\n",
    "    \"\"\"\n",
    "    Person은 이름과 성별 멤버변수가 있고 \n",
    "    어쩌구 저쩌구...\n",
    "    \"\"\"\n",
    "    def __init__(self, name, gender):\n",
    "        print(\"Person객체를 생성합니다\")\n",
    "        self.name = name\n",
    "        self.gender = gender\n",
    "    def __del__(self):\n",
    "        print(\"Person 객체를 소멸시킵니다\")\n",
    "    def print_info(self):\n",
    "        '객체의 이름과 성별을 출력합니다'\n",
    "        print(\"{}님은 {}\".format(self.name, self.gender)) # f-string도 기억하기^^\n",
    "    def __str__(self):\n",
    "        return \"{}님은 {}\".format(self.name, self.gender)"
   ]
  },
  {
   "cell_type": "code",
   "execution_count": 14,
   "id": "b3753522",
   "metadata": {
    "ExecuteTime": {
     "end_time": "2021-07-23T08:49:20.902491Z",
     "start_time": "2021-07-23T08:49:20.888531Z"
    }
   },
   "outputs": [],
   "source": [
    "class Student(Person):\n",
    "    \"name과 gender에 major변수를 갖는 Student타입\"\n",
    "    def __init__(self, name, gender, major):\n",
    "        self.name = name # 아래에서는  super()를 사용하여 더욱 간단하게 상속을 수행.\n",
    "        self.gender = gender\n",
    "        self.major = major\n",
    "    def __del__(self):\n",
    "        pass\n",
    "    def print_info(self):\n",
    "        print(\"{}님의 전공 {}이고 {}입니다\".format(self.name, self.major, self.gender))\n",
    "    def __str__(self):\n",
    "        return \"{}님의 전공 {}이고 {}입니다\".format(self.name, self.major, self.gender)"
   ]
  },
  {
   "cell_type": "code",
   "execution_count": 9,
   "id": "88105b1d",
   "metadata": {
    "ExecuteTime": {
     "end_time": "2021-07-23T08:49:22.299612Z",
     "start_time": "2021-07-23T08:49:22.280661Z"
    }
   },
   "outputs": [
    {
     "name": "stdout",
     "output_type": "stream",
     "text": [
      "Person객체를 생성합니다\n",
      "Person 객체를 소멸시킵니다\n",
      "Choo님은 남자\n",
      "Choo님은 남자\n",
      "True\n"
     ]
    }
   ],
   "source": [
    "p1 = Person(\"Choo\", \"남자\")\n",
    "print(p1)\n",
    "p1.print_info()\n",
    "print(isinstance(p1, Person))\n",
    "    # p1객체가 이미 생성되어 있는 경우 __del__함수에 의해 기존의 p1이 삭제되고 새로 생성이 이루어진다.\\\n",
    "    # __del__함수 실행시 print(객체소멸문구)가 출력됨.\n",
    "    # Person 클래스에 __str__함수가 정의되어 있어야지 print(p1)이 가능"
   ]
  },
  {
   "cell_type": "code",
   "execution_count": 15,
   "id": "c2dc9e7c",
   "metadata": {
    "ExecuteTime": {
     "end_time": "2021-07-23T08:50:28.375176Z",
     "start_time": "2021-07-23T08:50:28.362189Z"
    }
   },
   "outputs": [
    {
     "name": "stdout",
     "output_type": "stream",
     "text": [
      "Rachel님의 전공 BigData이고 Female입니다\n"
     ]
    }
   ],
   "source": [
    "s1 = Student(\"Rachel\", \"Female\", \"BigData\")\n",
    "print(s1)\n",
    "    # 세 항목이 모두 입력되야지만 클래스 객체의 생성이 가능함."
   ]
  },
  {
   "cell_type": "code",
   "execution_count": 16,
   "id": "7decd015",
   "metadata": {},
   "outputs": [
    {
     "name": "stdout",
     "output_type": "stream",
     "text": [
      "Rachel님의 전공 BigData이고 Female입니다\n"
     ]
    }
   ],
   "source": [
    "s1.print_info() # ※ Student클래스에 print_info(self)함수가 정의되어 있지 않다면 사용 불능"
   ]
  },
  {
   "cell_type": "code",
   "execution_count": 49,
   "id": "d96a892d",
   "metadata": {},
   "outputs": [
    {
     "data": {
      "text/plain": [
       "True"
      ]
     },
     "execution_count": 49,
     "metadata": {},
     "output_type": "execute_result"
    }
   ],
   "source": [
    "issubclass(Student, Person) # Student와 Person의 순서를 뒤바꿔서는 안됨."
   ]
  },
  {
   "cell_type": "code",
   "execution_count": 18,
   "id": "64bb8b9b",
   "metadata": {},
   "outputs": [
    {
     "data": {
      "text/plain": [
       "True"
      ]
     },
     "execution_count": 18,
     "metadata": {},
     "output_type": "execute_result"
    }
   ],
   "source": [
    "isinstance(s1, Student)"
   ]
  },
  {
   "cell_type": "code",
   "execution_count": 17,
   "id": "6ee79af7",
   "metadata": {},
   "outputs": [
    {
     "data": {
      "text/plain": [
       "True"
      ]
     },
     "execution_count": 17,
     "metadata": {},
     "output_type": "execute_result"
    }
   ],
   "source": [
    "isinstance(s1, Person)"
   ]
  },
  {
   "cell_type": "markdown",
   "id": "c0d39323",
   "metadata": {},
   "source": [
    "student객체를 만들때는 xxx객체를 생성합니다 등의 Person객체 생성시 반환되던 문장이 출력되지 않는 이유 : </br>\n",
    "재정의 했기 때문!(Student클래스의 init함수 등에는 xx객체를 생성합니다라는 문장을 포함한 print 메서드가 없다)</br>\n",
    "① 부모클래스의 메소드를 자식클래스에서 정의하는 것을 '재정의'라고 한다</br>\n",
    "② 매소드의 재정의는 상속을 전제로 한다</br>\n",
    "③ super()를 이용하면 부모의 멤버를 호출할 수 있다.\n",
    "\n",
    "아래 super()가 포함되면 객체생성시 반환되는 문장이 출력됨!</br>\n",
    "(즉, super()를 이용해 상속하는 경우는 class Student(Person)와 차별점이 있음)"
   ]
  },
  {
   "cell_type": "markdown",
   "id": "3802d662",
   "metadata": {},
   "source": [
    "### super() 이용"
   ]
  },
  {
   "cell_type": "code",
   "execution_count": 30,
   "id": "45772fb2",
   "metadata": {
    "ExecuteTime": {
     "end_time": "2021-07-23T08:59:26.493058Z",
     "start_time": "2021-07-23T08:59:26.484082Z"
    }
   },
   "outputs": [],
   "source": [
    "class Person :\n",
    "    \"\"\"\n",
    "    Person은 이름과 성별 멤버변수가 있고 \n",
    "    어쩌구 저쩌구...\n",
    "    \"\"\"\n",
    "    def __init__(self, name, gender):\n",
    "        print(\"Person객체를 생성합니다\")\n",
    "        self.name = name\n",
    "        self.gender = gender\n",
    "    def __del__(self):\n",
    "        print(\"Person 객체를 소멸시킵니다\")\n",
    "    def print_info(self):\n",
    "        '객체의 이름과 성별을 출력합니다'\n",
    "        print(\"{}님은 {}\".format(self.name, self.gender))\n",
    "    def __str__(self):\n",
    "        return \"{}님은 {}\".format(self.name, self.gender)\n",
    "\n",
    "class Student(Person):\n",
    "    \"name과 gender에 major변수를 갖는 Student타입\"\n",
    "    def __init__(self, name, gender, major): \n",
    "        # 부모 클래스의 생성자를 호출하여 초기화\n",
    "        super().__init__(name, gender) # init함수 부분에서 상속을 실시\n",
    "        # Person.__init__(self, name, gender)\n",
    "        self.major = major\n",
    "    def __del__(self):\n",
    "        pass\n",
    "    def print_info(self):\n",
    "        super().print_info()\n",
    "        print(\"전공은 {}입니다\".format(self.major))\n",
    "    def __str__(self):\n",
    "        return Person.__str__(self) + \\\n",
    "                \"그리고 전공은 {}입니다.\".format(self.major)"
   ]
  },
  {
   "cell_type": "code",
   "execution_count": 31,
   "id": "b48ebf35",
   "metadata": {},
   "outputs": [
    {
     "name": "stdout",
     "output_type": "stream",
     "text": [
      "Person객체를 생성합니다\n",
      "Choo님은 Male그리고 전공은 Computer Science입니다.\n",
      "Choo님은 Male\n",
      "전공은 Computer Science입니다\n"
     ]
    }
   ],
   "source": [
    "s1 = Student(\"Choo\", \"Male\", \"Computer Science\")\n",
    "print(s1)\n",
    "s1.print_info()"
   ]
  },
  {
   "cell_type": "code",
   "execution_count": 20,
   "id": "04c04b42",
   "metadata": {},
   "outputs": [],
   "source": [
    "# f-string을 이용하여 출력을 희망하는 경우 에러가 발생하고 있었음\n",
    "# 현재는 전달인자(argument)를 필요로 하는 부분에 self.을 앞에 위치하도록 함으로써\n",
    "# 이슈가 해소된 상태인데, f-string을 이용함에 있어 정확한 용법의 확인이 필요할 듯.\n",
    "class Person:\n",
    "    def __init__(self, name, gender):\n",
    "        print('Person객체를 생성합니다')\n",
    "        self.name = name\n",
    "        self.gender = gender\n",
    "    def __del__(self):\n",
    "        print(\"Person객체를 소멸시킵니다\")\n",
    "    def print_info(self):\n",
    "        print(f'{self.name}님은 {self.gender}입니다')\n",
    "    def __str__(self):\n",
    "        return f'{self.name}님은 {self.gender}입니다'\n",
    "    \n",
    "class Student(Person):\n",
    "    def __init__(self, name, gender, major):\n",
    "        super().__init__(name, gender)\n",
    "        self.major = major\n",
    "    def __del__(self):\n",
    "        print(\"Student객체를 소멸시킵니다\")\n",
    "    def print_info(self):\n",
    "        super().print_info()\n",
    "        print(f'전공은 {self.major}입니다')\n",
    "    def __str__(self):\n",
    "        return Person.__str__(self) + \\\n",
    "                f' 전공은 {self.major}입니다'"
   ]
  },
  {
   "cell_type": "code",
   "execution_count": 21,
   "id": "1b5daed8",
   "metadata": {},
   "outputs": [
    {
     "name": "stdout",
     "output_type": "stream",
     "text": [
      "Person객체를 생성합니다\n",
      "Student객체를 소멸시킵니다\n",
      "Kwonho님은 Male입니다 전공은 Software Engineering입니다\n"
     ]
    }
   ],
   "source": [
    "s1 = Student(\"Kwonho\", \"Male\", \"Software Engineering\")\n",
    "print(s1)"
   ]
  },
  {
   "cell_type": "code",
   "execution_count": 28,
   "id": "8b092cfd",
   "metadata": {},
   "outputs": [
    {
     "name": "stdout",
     "output_type": "stream",
     "text": [
      "Kwonho님은 Male입니다\n",
      "전공은 Software Engineering입니다\n"
     ]
    }
   ],
   "source": [
    "s1.print_info()"
   ]
  },
  {
   "cell_type": "code",
   "execution_count": 22,
   "id": "f94d06f6",
   "metadata": {
    "ExecuteTime": {
     "end_time": "2021-07-23T09:00:18.520294Z",
     "start_time": "2021-07-23T09:00:18.489864Z"
    }
   },
   "outputs": [
    {
     "name": "stdout",
     "output_type": "stream",
     "text": [
      "Kwonho님은 Male입니다 전공은 Software Engineering입니다\n"
     ]
    }
   ],
   "source": [
    "print(s1)"
   ]
  },
  {
   "cell_type": "markdown",
   "id": "058caf50",
   "metadata": {},
   "source": [
    "### static변수(정적 변수) : 여러 객체들 사이에 데이터를 공유하고 싶을 때 사용\n",
    "* underscore 두 개 '__'를 변수앞에 입력 /  형식 : 클래스명._클래스명__static변수명</br>\n",
    "static객체를 만들지 않고 클래스의 변수 이름 앞에 __(underscore 두 개)를 붙이면 static변수로 인식 (클래스명. 클래스명____변수명 형식으로 참조)</br>\n",
    "static 객체라는 개념을 배우지 않은듯?"
   ]
  },
  {
   "cell_type": "code",
   "execution_count": 32,
   "id": "980d32dd",
   "metadata": {
    "ExecuteTime": {
     "end_time": "2021-07-26T00:56:31.933246Z",
     "start_time": "2021-07-26T00:56:31.924291Z"
    }
   },
   "outputs": [],
   "source": [
    "class Person :\n",
    "    \"\"\"\n",
    "    Person은 이름과 성별 멤버변수가 있고 \n",
    "    어쩌구 저쩌구...\n",
    "    \"\"\"  \n",
    "    def __init__(self, name, gender):\n",
    "        print(\"Person객체를 생성합니다\")\n",
    "        self.name = name\n",
    "        self.gender = gender\n",
    "    def __del__(self):\n",
    "        '객체의 이름과 성별을 출력합니다'\n",
    "        print(\"Person 객체를 소멸시킵니다\")\n",
    "    def print_info(self):\n",
    "        '객체의 이름과 성별을 출력합니다'\n",
    "        print(\"{}님은 {}\".format(self.name, self.gender))\n",
    "    def __str__(self):\n",
    "        return \"{}님은 {}\".format(self.name, self.gender)\n",
    "    \n",
    "class Student(Person):\n",
    "    'name과 gender에 major변수를 갖는 Student 타입'\n",
    "    __count = 0 # static변수 (static변수 앞에 under score 2개(__)를 붙이면, 클래스명._클래서명__static변수명 으로 참조)\n",
    "    def __init__(self, name, gender, major):\n",
    "        Person.__init__(self, name, gender) # Person class의 생성자를 호출\n",
    "        #super().__init__(name, gender) # 바로 위 행과 동일한 결과를 불러옴\n",
    "        self.major = major\n",
    "        Student._Student__count += 1 # 객체가 생성될 때마다 __count 증가\n",
    "         #__count += 1 # 바로 위 행과 동일한 결과를 불러옴\n",
    "    def __del__(self):\n",
    "        Student._Student__count -= 1 # 객체가 소멸될 때마다 __count 감소\n",
    "    def __str__(self):\n",
    "        return super().__str__() + \", 전공은 {}입니다\".format(self.major)\n",
    "        #return Person.__str__(self) + \", 전공은 {}입니다\".format(self.major)  \n",
    "    @classmethod\n",
    "    def get_count(cls):\n",
    "        return Student._Student__count\n",
    "        #return cls._Student_count"
   ]
  },
  {
   "cell_type": "code",
   "execution_count": 33,
   "id": "4f798c5c",
   "metadata": {
    "ExecuteTime": {
     "end_time": "2021-07-26T00:57:59.023953Z",
     "start_time": "2021-07-26T00:57:59.012997Z"
    }
   },
   "outputs": [
    {
     "name": "stdout",
     "output_type": "stream",
     "text": [
      "Person객체를 생성합니다\n",
      "홍길동님은 남자, 전공은 빅데이터입니다\n",
      "객체의 갯수 : 1\n",
      "객체의 갯수 : 1\n"
     ]
    }
   ],
   "source": [
    "s1 = Student('홍길동','남자','빅데이터')\n",
    "print(s1)\n",
    "print('객체의 갯수 :',Student.get_count())\n",
    "print('객체의 갯수 :', s1.get_count()) # classmethod는 대부분 class명으로 호출"
   ]
  },
  {
   "cell_type": "code",
   "execution_count": 6,
   "id": "61eb0c63",
   "metadata": {
    "ExecuteTime": {
     "end_time": "2021-07-26T00:59:37.210774Z",
     "start_time": "2021-07-26T00:59:37.204811Z"
    }
   },
   "outputs": [
    {
     "name": "stdout",
     "output_type": "stream",
     "text": [
      "Person객체를 생성합니다\n",
      "홍길동님은 남자, 전공은 빅데이터입니다\n",
      "Yuna님은 여자, 전공은 소프트웨어공학입니다\n",
      "객체의 갯수 : 2\n"
     ]
    }
   ],
   "source": [
    "s2 = Student('Yuna','여자','소프트웨어공학')\n",
    "print(s1)\n",
    "print(s2)\n",
    "print('객체의 갯수 :', Student.get_count())"
   ]
  },
  {
   "cell_type": "code",
   "execution_count": 8,
   "id": "5c636b18",
   "metadata": {
    "ExecuteTime": {
     "end_time": "2021-07-26T01:00:30.331583Z",
     "start_time": "2021-07-26T01:00:30.323606Z"
    }
   },
   "outputs": [
    {
     "name": "stdout",
     "output_type": "stream",
     "text": [
      "Person객체를 생성합니다\n",
      "IU님은 여자, 전공은 통계학입니다\n",
      "객체의 갯수 : 3\n"
     ]
    }
   ],
   "source": [
    "s3 = Student('IU','여자','통계학')\n",
    "print(s3)\n",
    "print('객체의 갯수 :', Student.get_count())"
   ]
  },
  {
   "cell_type": "code",
   "execution_count": 9,
   "id": "a7ee364f",
   "metadata": {
    "ExecuteTime": {
     "end_time": "2021-07-26T01:01:02.811229Z",
     "start_time": "2021-07-26T01:01:02.804248Z"
    }
   },
   "outputs": [
    {
     "name": "stdout",
     "output_type": "stream",
     "text": [
      "객체의 갯수 :  1\n"
     ]
    }
   ],
   "source": [
    "del s1, s2\n",
    "print('객체의 갯수 : ', Student.get_count())"
   ]
  },
  {
   "cell_type": "code",
   "execution_count": 10,
   "id": "2bf102d3",
   "metadata": {
    "ExecuteTime": {
     "end_time": "2021-07-26T01:08:10.362252Z",
     "start_time": "2021-07-26T01:08:10.341331Z"
    }
   },
   "outputs": [
    {
     "data": {
      "text/plain": [
       "{'name': 'IU', 'gender': '여자', 'major': '통계학'}"
      ]
     },
     "execution_count": 10,
     "metadata": {},
     "output_type": "execute_result"
    }
   ],
   "source": [
    "s3.__dict__ # 클래스의 멤버변수들을 딕셔너리 형태로 출력하는 방법"
   ]
  }
 ],
 "metadata": {
  "kernelspec": {
   "display_name": "Python 3 (ipykernel)",
   "language": "python",
   "name": "python3"
  },
  "language_info": {
   "codemirror_mode": {
    "name": "ipython",
    "version": 3
   },
   "file_extension": ".py",
   "mimetype": "text/x-python",
   "name": "python",
   "nbconvert_exporter": "python",
   "pygments_lexer": "ipython3",
   "version": "3.9.7"
  },
  "toc": {
   "base_numbering": 1,
   "nav_menu": {},
   "number_sections": true,
   "sideBar": true,
   "skip_h1_title": false,
   "title_cell": "Table of Contents",
   "title_sidebar": "Contents",
   "toc_cell": false,
   "toc_position": {},
   "toc_section_display": true,
   "toc_window_display": false
  },
  "varInspector": {
   "cols": {
    "lenName": 16,
    "lenType": 16,
    "lenVar": 40
   },
   "kernels_config": {
    "python": {
     "delete_cmd_postfix": "",
     "delete_cmd_prefix": "del ",
     "library": "var_list.py",
     "varRefreshCmd": "print(var_dic_list())"
    },
    "r": {
     "delete_cmd_postfix": ") ",
     "delete_cmd_prefix": "rm(",
     "library": "var_list.r",
     "varRefreshCmd": "cat(var_dic_list()) "
    }
   },
   "types_to_exclude": [
    "module",
    "function",
    "builtin_function_or_method",
    "instance",
    "_Feature"
   ],
   "window_display": false
  }
 },
 "nbformat": 4,
 "nbformat_minor": 5
}
