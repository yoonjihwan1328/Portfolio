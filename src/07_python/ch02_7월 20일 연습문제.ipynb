{
 "cells": [
  {
   "cell_type": "markdown",
   "id": "b80de2c3",
   "metadata": {
    "ExecuteTime": {
     "end_time": "2021-07-25T09:18:42.340352Z",
     "start_time": "2021-07-25T09:18:42.332373Z"
    }
   },
   "source": [
    "## 문1) 이름과 나이 변수를 다음 형식으로 출력하도록 format()함수를 이용해 형식화 하세요\n",
    "      [출력형식 : 홍길동님의 나이는 23살 입니다.]"
   ]
  },
  {
   "cell_type": "code",
   "execution_count": 1,
   "id": "e3355b39",
   "metadata": {
    "ExecuteTime": {
     "end_time": "2021-07-25T07:38:55.873921Z",
     "start_time": "2021-07-25T07:38:55.851982Z"
    }
   },
   "outputs": [
    {
     "name": "stdout",
     "output_type": "stream",
     "text": [
      "[출력형식 : 홍길동님의 나이는 23살 입니다.]\n",
      "[출력형식 : 홍길동님의 나이는 23살 입니다.]\n",
      "[출력형식 : 홍길동님의 나이는 23살 입니다.]\n",
      "[출력형식 : 홍길동님의 나이는 23살 입니다.]\n"
     ]
    }
   ],
   "source": [
    "name, age = '홍길동', 23\n",
    "print('[출력형식 : {}님의 나이는 {}살 입니다.]'.format(name,age))\n",
    "print('[출력형식 : %s님의 나이는 %d살 입니다.]'%(name, age))\n",
    "        # The formatting operations described here exhibit a variety of quirks that lead to a number of common errors \n",
    "        #(such as failing to display tuples and dictionaries correctly).\n",
    "print('[출력형식 : ', name, '님의 나이는 ', age, '살 입니다.]', sep = \"\")\n",
    "print(f'[출력형식 : {name}님의 나이는 {age}살 입니다.]')"
   ]
  },
  {
   "cell_type": "code",
   "execution_count": 2,
   "id": "24a6abc0",
   "metadata": {
    "ExecuteTime": {
     "end_time": "2021-07-25T08:17:08.372016Z",
     "start_time": "2021-07-25T08:17:08.353070Z"
    }
   },
   "outputs": [
    {
     "name": "stdout",
     "output_type": "stream",
     "text": [
      "[출력형식 : Choo님의 나이는 41입니다.]\n",
      "[출력형식 : Choo님의 나이는 41입니다.]\n"
     ]
    }
   ],
   "source": [
    "person = {'name':'Choo', 'age':41}\n",
    "print('[출력형식 : {name}님의 나이는 {age}입니다.]'.format(name=person['name'], age=person['age']))\n",
    "print('[출력형식 : {name}님의 나이는 {age}입니다.]'.format(**person))"
   ]
  },
  {
   "cell_type": "code",
   "execution_count": 9,
   "id": "3396daba",
   "metadata": {
    "ExecuteTime": {
     "end_time": "2021-07-25T08:47:25.248552Z",
     "start_time": "2021-07-25T08:47:25.231595Z"
    }
   },
   "outputs": [
    {
     "name": "stdout",
     "output_type": "stream",
     "text": [
      "[출력형식 : ChooShin-soo님은 Texas의 baseball_player입니다. 나이는 41.]\n"
     ]
    }
   ],
   "source": [
    "person = {'last_name':'Choo', 'first_name' : 'Shin-soo', 'age' : (20*2)+1, 'profession' : 'baseball_player', 'affiliation' : 'Texas'}\n",
    "print('[출력형식 : {last_name}{first_name}님은 {affiliation}의 {profession}입니다. 나이는 {age}.]'.format(**person))\n",
    "# https://realpython.com/python-f-strings/"
   ]
  },
  {
   "cell_type": "code",
   "execution_count": 15,
   "id": "25619d16",
   "metadata": {
    "ExecuteTime": {
     "end_time": "2021-07-25T08:58:39.488339Z",
     "start_time": "2021-07-25T08:58:39.468393Z"
    }
   },
   "outputs": [
    {
     "name": "stdout",
     "output_type": "stream",
     "text": [
      "[출력형식 : ChooShin-soo님은 Texas의 baseball_player입니다. 나이는 41.]\n"
     ]
    }
   ],
   "source": [
    "last_name = 'Choo'\n",
    "first_name = 'Shin-soo'\n",
    "age = (20*2)+1\n",
    "profession = 'baseball_player'\n",
    "affiliation = 'Texas'\n",
    "print(f\"[출력형식 : {last_name}{first_name}님은 {affiliation}의 {profession}입니다. 나이는 {age}.]\")"
   ]
  },
  {
   "cell_type": "code",
   "execution_count": 16,
   "id": "019b3603",
   "metadata": {
    "ExecuteTime": {
     "end_time": "2021-07-25T08:58:59.143086Z",
     "start_time": "2021-07-25T08:58:59.133110Z"
    }
   },
   "outputs": [
    {
     "name": "stdout",
     "output_type": "stream",
     "text": [
      "[출력형식 : ChooShin-soo님은 Texas의 baseball_player입니다. 나이는 41.]\n"
     ]
    }
   ],
   "source": [
    "person = {'last_name':'Choo', 'first_name' : 'Shin-soo', 'age' : (20*2)+1, 'profession' : 'baseball_player', 'affiliation' : 'Texas'}\n",
    "print(f'[출력형식 : {last_name}{first_name}님은 {affiliation}의 {profession}입니다. 나이는 {age}.]')"
   ]
  },
  {
   "cell_type": "markdown",
   "id": "ba34b5dc",
   "metadata": {},
   "source": [
    "#### <font size=\"4\" color=\"green\">위에까지의 내용은 '수업내용'에 더해 https://realpython.com/python-f-strings/를 참조함"
   ]
  },
  {
   "cell_type": "markdown",
   "id": "0b54cb7f",
   "metadata": {},
   "source": [
    "## 문2) 두 정수를 입력받아 두 수의 덧셈, 뺄셈, 곱셈, 나눗셈, 몫, 나머지를 출력하세요"
   ]
  },
  {
   "cell_type": "code",
   "execution_count": 18,
   "id": "afc80a06",
   "metadata": {
    "ExecuteTime": {
     "end_time": "2021-07-25T09:51:52.545110Z",
     "start_time": "2021-07-25T09:51:49.364210Z"
    }
   },
   "outputs": [
    {
     "name": "stdout",
     "output_type": "stream",
     "text": [
      "첫 번째 정수를 입력하세요 : 21\n",
      "두 번쨰 정수를 입력하세요 : 5\n",
      "두 수의 덧셈 : 26\n",
      "두 수의 뺄셈 : 16\n",
      "두 수의 곱셈 : 21.000000 * 5.000000\n",
      "두 수의 나눗셈 : 4.200000\n",
      "두 수의 나눗셈의 몫 : 4\n",
      "두 수의 나눗셈의 나머지 : 1\n"
     ]
    }
   ],
   "source": [
    "num1 = int(input('첫 번째 정수를 입력하세요 : '))\n",
    "num2 = int(input('두 번째 정수를 입력하세요 : '))\n",
    "print('두 수의 덧셈 : ', num1+num2, sep = \"\")\n",
    "print('두 수의 뺄셈 : {}'.format(num1-num2))\n",
    "print('두 수의 곱셈 : %f * %f'%(num1,num2))\n",
    "try:####################################################################################################################\n",
    "    print('두 수의 나눗셈 : %f'%(num1/num2))\n",
    "    print(f'두 수의 나눗셈의 몫 : {num1//num2}')\n",
    "    print(f'두 수의 나눗셈의 나머지 : {num1%num2}')\n",
    "except Exception :\n",
    "    print('두 번째 수에 0을 입력하여 나누기 연산이 불가합니다.')"
   ]
  },
  {
   "cell_type": "markdown",
   "id": "64cf4b21",
   "metadata": {
    "ExecuteTime": {
     "end_time": "2021-07-25T13:22:23.984636Z",
     "start_time": "2021-07-25T13:22:23.974664Z"
    }
   },
   "source": [
    "## 문3) 문자열의 분리하기와 합치기 기능을 이용하여 'Hello World’를 ‘World Hello’로 출력하세요"
   ]
  },
  {
   "cell_type": "code",
   "execution_count": 71,
   "id": "fd8a4817",
   "metadata": {
    "ExecuteTime": {
     "end_time": "2021-07-20T06:03:10.361929Z",
     "start_time": "2021-07-20T06:03:10.344998Z"
    }
   },
   "outputs": [
    {
     "data": {
      "text/plain": [
       "['World', 'Hello']"
      ]
     },
     "execution_count": 71,
     "metadata": {},
     "output_type": "execute_result"
    }
   ],
   "source": [
    "split_ = 'Hello World'\n",
    "splited_phrase = split_.split(' ')\n",
    "#print({0}.format(splited_phrase))\n",
    "splited_phrase[::-1]\n",
    "##########################################################################################"
   ]
  },
  {
   "cell_type": "code",
   "execution_count": 81,
   "id": "b690ab8b",
   "metadata": {
    "ExecuteTime": {
     "end_time": "2021-07-20T06:29:02.558814Z",
     "start_time": "2021-07-20T06:29:02.551832Z"
    }
   },
   "outputs": [
    {
     "name": "stdout",
     "output_type": "stream",
     "text": [
      "World Hello\n"
     ]
    }
   ],
   "source": [
    "split_ = 'Hello World'\n",
    "split_[-5:]\n",
    "# split-[5:]이면 5번째 인덱스부터 끝까지이므로 split[-5:]이면 뒤에서 5번째부터 끝까지이다!\n",
    "print(split_[-5:],split_[:5])"
   ]
  },
  {
   "cell_type": "markdown",
   "id": "012424c3",
   "metadata": {
    "ExecuteTime": {
     "end_time": "2021-07-25T13:22:36.721471Z",
     "start_time": "2021-07-25T13:22:36.717482Z"
    }
   },
   "source": [
    "## 문4) x = 'abcdef＇를 이용하여 ‘bcdefa’로 출력하세요(문자 슬라이싱이용)."
   ]
  },
  {
   "cell_type": "code",
   "execution_count": 22,
   "id": "7ee40dbc",
   "metadata": {
    "ExecuteTime": {
     "end_time": "2021-07-25T12:46:18.550725Z",
     "start_time": "2021-07-25T12:46:18.530772Z"
    }
   },
   "outputs": [
    {
     "name": "stdout",
     "output_type": "stream",
     "text": [
      "bcdefa\n",
      "bcdefa\n",
      "bcdefa\n",
      "bcdefa\n",
      "bcdefa\n"
     ]
    }
   ],
   "source": [
    "x='abcdef'\n",
    "print(x[1:],x[0],sep=\"\")\n",
    "print(x[-5:]+x[0]) # + 를 사용하면 연결되는 두 문자열 사이에 빈공간이 발생X \n",
    "y = x[-5:], x[0]\n",
    "print(''.join(y))\n",
    "print('{}{}'.format(x[-5:], x[0]))\n",
    "print(x[-5:], x[0], sep='')"
   ]
  },
  {
   "cell_type": "markdown",
   "id": "a2e8affb",
   "metadata": {},
   "source": [
    "## 문5) x = ‘abcdef’를 이용하여 ‘fedcba’로 출력하세요"
   ]
  },
  {
   "cell_type": "code",
   "execution_count": 20,
   "id": "069485b0",
   "metadata": {
    "ExecuteTime": {
     "end_time": "2021-07-25T12:45:33.416938Z",
     "start_time": "2021-07-25T12:45:33.398952Z"
    }
   },
   "outputs": [
    {
     "name": "stdout",
     "output_type": "stream",
     "text": [
      "fedcba\n"
     ]
    }
   ],
   "source": [
    "x='abcdef'\n",
    "print(x[::-1])"
   ]
  },
  {
   "cell_type": "markdown",
   "id": "6eaf32a7",
   "metadata": {
    "ExecuteTime": {
     "end_time": "2021-07-25T13:23:13.597849Z",
     "start_time": "2021-07-25T13:23:13.583890Z"
    }
   },
   "source": [
    "## 문6) 1. 오늘의 온도를 섭씨온도로 입력받아 화씨 온도로 변환하는 프로그램을 작성하세요. \n",
    "        화씨 온도는 소수점 두번째 자리까지 출려되어야 합니다(다음은 섭씨와 화씨의 변환 공 식입니다. C는 섭씨, F는 화씨)\n",
    "        C = (F-32) / 1.8 F = (C*1.8) + 32"
   ]
  },
  {
   "cell_type": "code",
   "execution_count": 32,
   "id": "188db470",
   "metadata": {
    "ExecuteTime": {
     "end_time": "2021-07-25T13:35:00.500581Z",
     "start_time": "2021-07-25T13:34:58.921802Z"
    }
   },
   "outputs": [
    {
     "name": "stdout",
     "output_type": "stream",
     "text": [
      "오늘의 온도를 입력해주세요 :33\n",
      "오늘의 온도는 화씨 91.40˚f 입니다.\n",
      "오늘의 온도는 화씨 91.40˚f 입니다.\n"
     ]
    }
   ],
   "source": [
    "C=input('오늘의 온도를 입력해주세요 :')\n",
    "F = (int(C)*1.8)+32\n",
    "print(\"오늘의 온도는 화씨 {:5.2f}˚f 입니다.\".format(F))\n",
    "print(f'오늘의 온도는 화씨 {F:.2f}˚f 입니다.')"
   ]
  },
  {
   "cell_type": "markdown",
   "id": "c74d71f9",
   "metadata": {},
   "source": [
    "## 문8) 다음 코드를 실행하면?"
   ]
  },
  {
   "cell_type": "code",
   "execution_count": 31,
   "id": "90a4a1d2",
   "metadata": {
    "ExecuteTime": {
     "end_time": "2021-07-25T13:34:18.572515Z",
     "start_time": "2021-07-25T13:34:18.551570Z"
    }
   },
   "outputs": [
    {
     "name": "stdout",
     "output_type": "stream",
     "text": [
      "SeounSeoul\n",
      "Seou n Seoul\n"
     ]
    }
   ],
   "source": [
    "text = \"Seoul A001 – programming with python\"\n",
    "print(text[:4]+text[-1] +text.split()[0] )\n",
    "print(text[:4], text[-1], text.split()[0] )"
   ]
  },
  {
   "cell_type": "markdown",
   "id": "bcbb9945",
   "metadata": {
    "ExecuteTime": {
     "end_time": "2021-07-20T05:55:58.916033Z",
     "start_time": "2021-07-20T05:55:58.906059Z"
    }
   },
   "source": [
    "## 문9 다음 중 파이썬 3.x 버전에서 연산식과 그 결과의 출력이 잘못된 것은?\n",
    " 수식 8//2 : 몫 4<br>\n",
    " 수식 8/2 : 값 4.0<br>\n",
    " 수식 8 ** 2 값 64<br>"
   ]
  }
 ],
 "metadata": {
  "kernelspec": {
   "display_name": "Python 3",
   "language": "python",
   "name": "python3"
  },
  "language_info": {
   "codemirror_mode": {
    "name": "ipython",
    "version": 3
   },
   "file_extension": ".py",
   "mimetype": "text/x-python",
   "name": "python",
   "nbconvert_exporter": "python",
   "pygments_lexer": "ipython3",
   "version": "3.8.8"
  },
  "toc": {
   "base_numbering": 1,
   "nav_menu": {},
   "number_sections": true,
   "sideBar": true,
   "skip_h1_title": false,
   "title_cell": "Table of Contents",
   "title_sidebar": "Contents",
   "toc_cell": false,
   "toc_position": {},
   "toc_section_display": true,
   "toc_window_display": false
  },
  "varInspector": {
   "cols": {
    "lenName": 16,
    "lenType": 16,
    "lenVar": 40
   },
   "kernels_config": {
    "python": {
     "delete_cmd_postfix": "",
     "delete_cmd_prefix": "del ",
     "library": "var_list.py",
     "varRefreshCmd": "print(var_dic_list())"
    },
    "r": {
     "delete_cmd_postfix": ") ",
     "delete_cmd_prefix": "rm(",
     "library": "var_list.r",
     "varRefreshCmd": "cat(var_dic_list()) "
    }
   },
   "types_to_exclude": [
    "module",
    "function",
    "builtin_function_or_method",
    "instance",
    "_Feature"
   ],
   "window_display": false
  }
 },
 "nbformat": 4,
 "nbformat_minor": 5
}
