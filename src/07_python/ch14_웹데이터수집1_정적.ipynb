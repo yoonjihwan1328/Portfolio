{
 "cells": [
  {
   "cell_type": "markdown",
   "id": "5a5534e6",
   "metadata": {},
   "source": [
    "<b><font size=\"6\" color=\"red\">ch14. 웹데이터 수집</font></b>"
   ]
  },
  {
   "cell_type": "markdown",
   "id": "59d68039",
   "metadata": {},
   "source": [
    "# 1절. BeautifulSoup과 parser\n",
    "- pip install bs4 <- 아나콘다에 포함된 자동설치 패키지\n",
    "- pip install requests_file : 내 컴퓨터에 있는 파일을 불러옴\n",
    "\n",
    "- [공식사이트]https://www.crummy.com/software/BeautifulSoup/\n",
    "- http://www.crumy.com/software/BreautifulSoup/bs4/doc/"
   ]
  },
  {
   "cell_type": "code",
   "execution_count": 1,
   "id": "2b66431e",
   "metadata": {
    "ExecuteTime": {
     "end_time": "2021-08-10T03:56:58.972422Z",
     "start_time": "2021-08-10T03:56:58.954417Z"
    }
   },
   "outputs": [],
   "source": [
    "import requests\n",
    "from requests_file import FileAdapter"
   ]
  },
  {
   "cell_type": "code",
   "execution_count": 5,
   "id": "9a3359a7",
   "metadata": {
    "ExecuteTime": {
     "end_time": "2021-08-10T03:57:06.332220Z",
     "start_time": "2021-08-10T03:57:06.317259Z"
    }
   },
   "outputs": [
    {
     "data": {
      "text/plain": [
       "<Response [200]>"
      ]
     },
     "execution_count": 5,
     "metadata": {},
     "output_type": "execute_result"
    }
   ],
   "source": [
    "s = requests.Session()\n",
    "s.mount(\"file://\", FileAdapter())\n",
    "response = s.get('file:///bigdata/src/07_Python/ch14_sample.html')\n",
    "response"
   ]
  },
  {
   "cell_type": "code",
   "execution_count": 6,
   "id": "76469c3a",
   "metadata": {
    "ExecuteTime": {
     "end_time": "2021-08-10T03:59:49.801339Z",
     "start_time": "2021-08-10T03:59:49.786359Z"
    }
   },
   "outputs": [
    {
     "name": "stdout",
     "output_type": "stream",
     "text": [
      "success!\n"
     ]
    }
   ],
   "source": [
    "if response.status_code == 200:\n",
    "    print('success!')\n",
    "if response.status_code == 404:\n",
    "    print('Not found')"
   ]
  },
  {
   "cell_type": "code",
   "execution_count": 7,
   "id": "37e557fa",
   "metadata": {
    "ExecuteTime": {
     "end_time": "2021-08-10T04:00:26.339615Z",
     "start_time": "2021-08-10T04:00:26.331629Z"
    }
   },
   "outputs": [
    {
     "name": "stdout",
     "output_type": "stream",
     "text": [
      "success\n"
     ]
    }
   ],
   "source": [
    "if response : \n",
    "    print('success')\n",
    "else:\n",
    "    print('Not found')"
   ]
  },
  {
   "cell_type": "code",
   "execution_count": null,
   "id": "aad2e652",
   "metadata": {},
   "outputs": [],
   "source": [
    "response.\n",
    "# 파일이 있으면 200이 출력됨(?)"
   ]
  },
  {
   "cell_type": "code",
   "execution_count": 8,
   "id": "8a85dd61",
   "metadata": {
    "ExecuteTime": {
     "end_time": "2021-08-10T04:01:06.955326Z",
     "start_time": "2021-08-10T04:01:06.938373Z"
    }
   },
   "outputs": [
    {
     "data": {
      "text/plain": [
       "'<html>\\r\\n    <head>\\r\\n        <title>HTML sample</title>\\r\\n        <style>\\r\\n            span {color:red;}\\r\\n        </style>\\r\\n    </head>\\r\\n    <body>\\r\\n        <h1 class=\"greeting css\">Hello CSS</h1>\\r\\n        <h1 class=\"css\">Hi CSS</h1>\\r\\n        <div id=\"subject\">선택자</div>\\r\\n        <p>CSS 선택자는 다양한 곳에 활용됩니다</p>\\r\\n        <div class=\"contents\">선택자를 어떻게 작성하느냐에 따라 \\r\\n\\t<span>다른 <b>요소가 반환</b></span>됩니다.\\r\\n        </div>\\r\\n        <div>CSS선택자는 다양한 곳에 <b>활용</b>됩니다</div>\\r\\n        <input type=\"text\" name=\"passwd\" id=\"passwd\">\\r\\n    </body>\\r\\n</html>\\r\\n\\r\\n\\r\\n\\r\\n'"
      ]
     },
     "execution_count": 8,
     "metadata": {},
     "output_type": "execute_result"
    }
   ],
   "source": [
    "response.content.decode('utf-8')"
   ]
  },
  {
   "cell_type": "code",
   "execution_count": 9,
   "id": "b09ef344",
   "metadata": {
    "ExecuteTime": {
     "end_time": "2021-08-10T04:03:58.200119Z",
     "start_time": "2021-08-10T04:03:57.387372Z"
    }
   },
   "outputs": [
    {
     "data": {
      "text/plain": [
       "<html>\n",
       "<head>\n",
       "<title>HTML sample</title>\n",
       "<style>\n",
       "            span {color:red;}\n",
       "        </style>\n",
       "</head>\n",
       "<body>\n",
       "<h1 class=\"greeting css\">Hello CSS</h1>\n",
       "<h1 class=\"css\">Hi CSS</h1>\n",
       "<div id=\"subject\">선택자</div>\n",
       "<p>CSS 선택자는 다양한 곳에 활용됩니다</p>\n",
       "<div class=\"contents\">선택자를 어떻게 작성하느냐에 따라 \n",
       "\t<span>다른 <b>요소가 반환</b></span>됩니다.\n",
       "        </div>\n",
       "<div>CSS선택자는 다양한 곳에 <b>활용</b>됩니다</div>\n",
       "<input id=\"passwd\" name=\"passwd\" type=\"text\"/>\n",
       "</body>\n",
       "</html>"
      ]
     },
     "execution_count": 9,
     "metadata": {},
     "output_type": "execute_result"
    }
   ],
   "source": [
    "# 웹 크롤링\n",
    "# html 파싱\n",
    "from bs4 import BeautifulSoup\n",
    "soup = BeautifulSoup(response.content, \"html.parser\")\n",
    "soup"
   ]
  },
  {
   "cell_type": "code",
   "execution_count": 19,
   "id": "4b8e735a",
   "metadata": {
    "ExecuteTime": {
     "end_time": "2021-08-10T04:14:34.951346Z",
     "start_time": "2021-08-10T04:14:34.940376Z"
    }
   },
   "outputs": [
    {
     "name": "stdout",
     "output_type": "stream",
     "text": [
      "el :  <h1 class=\"greeting css\">Hello CSS</h1>\n",
      "\n",
      "el.text : Hello CSS\n",
      "el.string : Hello CSS\n",
      "el의 속성들 : {'class': ['greeting', 'css']}\n",
      "el의 class속성 : ['greeting', 'css']\n"
     ]
    }
   ],
   "source": [
    "el = soup.select_one('h1') # 처음 나오는 h1태그 하나만\n",
    "# el = soup.select_one('h1 > span')\n",
    "# el = soup.select_one('#id')\n",
    "# el = soup.select_one('.class')\n",
    "print('el : ', el)\n",
    "print()\n",
    "print('el.text :', el.text) # el에서 text만 가져옴\n",
    "print('el.string :', el.string)\n",
    "print('el의 속성들 :', el.attrs)\n",
    "print('el의 class속성 :', el.attrs['class'])"
   ]
  },
  {
   "cell_type": "code",
   "execution_count": 13,
   "id": "d218f2b4",
   "metadata": {
    "ExecuteTime": {
     "end_time": "2021-08-10T04:07:32.619539Z",
     "start_time": "2021-08-10T04:07:32.603581Z"
    }
   },
   "outputs": [
    {
     "data": {
      "text/plain": [
       "<h1 class=\"greeting css\">Hello CSS</h1>"
      ]
     },
     "execution_count": 13,
     "metadata": {},
     "output_type": "execute_result"
    }
   ],
   "source": [
    "el = soup.select_one('h1.css')\n",
    "el"
   ]
  },
  {
   "cell_type": "code",
   "execution_count": 30,
   "id": "3a304dfb",
   "metadata": {
    "ExecuteTime": {
     "end_time": "2021-08-10T04:27:07.731286Z",
     "start_time": "2021-08-10T04:27:07.724304Z"
    }
   },
   "outputs": [
    {
     "name": "stdout",
     "output_type": "stream",
     "text": [
      "[]\n",
      "[<h1 class=\"greeting css\">Hello CSS</h1>, <h1 class=\"css\">Hi CSS</h1>]\n",
      "el의 text들 : ['Hello CSS', 'Hi CSS']\n",
      "el의 string들 : ['Hello CSS', 'Hi CSS']\n",
      "el의 속성들 : [{'class': ['greeting', 'css']}, {'class': ['css']}]\n",
      "el의 class속성들 :  [['greeting', 'css'], ['css']]\n"
     ]
    }
   ],
   "source": [
    "# h1태그 모두를 출력(?)/호출\n",
    "#        없는 태그는 빈스트링. 한 엘리먼트만 있어도 리스트로 반환\n",
    "el = soup.select(\"h6\")\n",
    "print(el)\n",
    "el = soup.select(\"h1\")\n",
    "print(el)\n",
    "print('el의 text들 :', [e.text for e in el]) # 리스트컴프리헨션 ch03_데이터구조\n",
    "print('el의 string들 :', [e.string for e in el])\n",
    "print('el의 속성들 :', [e.attrs for e in el])\n",
    "print('el의 class속성들 : ', [e.attrs['class'] for e in el] )"
   ]
  },
  {
   "cell_type": "code",
   "execution_count": 33,
   "id": "6e92c4ec",
   "metadata": {
    "ExecuteTime": {
     "end_time": "2021-08-10T05:37:34.712715Z",
     "start_time": "2021-08-10T05:37:34.703711Z"
    }
   },
   "outputs": [
    {
     "data": {
      "text/plain": [
       "[<h1 class=\"greeting css\">Hello CSS</h1>, <h1 class=\"css\">Hi CSS</h1>]"
      ]
     },
     "execution_count": 33,
     "metadata": {},
     "output_type": "execute_result"
    }
   ],
   "source": [
    "# select(선택자, 선택자)와 find_all(선택자 하나) 유사\n",
    "soup.find_all('h1')"
   ]
  },
  {
   "cell_type": "code",
   "execution_count": 32,
   "id": "bdbbf363",
   "metadata": {
    "ExecuteTime": {
     "end_time": "2021-08-10T05:37:33.133841Z",
     "start_time": "2021-08-10T05:37:33.118889Z"
    }
   },
   "outputs": [
    {
     "data": {
      "text/plain": [
       "[<h1 class=\"greeting css\">Hello CSS</h1>,\n",
       " <h1 class=\"css\">Hi CSS</h1>,\n",
       " <p>CSS 선택자는 다양한 곳에 활용됩니다</p>]"
      ]
     },
     "execution_count": 32,
     "metadata": {},
     "output_type": "execute_result"
    }
   ],
   "source": [
    "soup.select('h1, p') # h1태그와 p태그 모두를 긁어옴"
   ]
  },
  {
   "cell_type": "code",
   "execution_count": 34,
   "id": "40ba52df",
   "metadata": {
    "ExecuteTime": {
     "end_time": "2021-08-10T05:37:50.241909Z",
     "start_time": "2021-08-10T05:37:50.221974Z"
    }
   },
   "outputs": [
    {
     "data": {
      "text/plain": [
       "<h1 class=\"greeting css\">Hello CSS</h1>"
      ]
     },
     "execution_count": 34,
     "metadata": {},
     "output_type": "execute_result"
    }
   ],
   "source": [
    "# select_one(선택자)와 find(선택자) 유사\n",
    "soup.select_one('h1.greeting.css')"
   ]
  },
  {
   "cell_type": "code",
   "execution_count": 35,
   "id": "e05f213e",
   "metadata": {
    "ExecuteTime": {
     "end_time": "2021-08-10T05:38:36.150703Z",
     "start_time": "2021-08-10T05:38:36.141735Z"
    }
   },
   "outputs": [
    {
     "data": {
      "text/plain": [
       "[<h1 class=\"greeting css\">Hello CSS</h1>]"
      ]
     },
     "execution_count": 35,
     "metadata": {},
     "output_type": "execute_result"
    }
   ],
   "source": [
    "soup.select('h1.greeting.css') #로 select는 대상이 하나일 떄도 사용이 가능하다."
   ]
  },
  {
   "cell_type": "markdown",
   "id": "6c247c05",
   "metadata": {},
   "source": [
    "# 2절. 정적 웹 데이터 수집(정적 웹 크롤링)"
   ]
  },
  {
   "cell_type": "code",
   "execution_count": null,
   "id": "56449d3a",
   "metadata": {},
   "outputs": [],
   "source": [
    "# 위에서는 내 컴퓨터 내의 파일에서 긁어왔었음."
   ]
  },
  {
   "cell_type": "markdown",
   "id": "0136b85a",
   "metadata": {
    "ExecuteTime": {
     "end_time": "2021-08-10T05:40:36.899840Z",
     "start_time": "2021-08-10T05:40:36.895842Z"
    }
   },
   "source": [
    "## 2.1 requests 모듈 이용(GET 요청)"
   ]
  },
  {
   "cell_type": "code",
   "execution_count": 1,
   "id": "ca0c21a5",
   "metadata": {
    "ExecuteTime": {
     "end_time": "2021-08-25T06:40:33.011153Z",
     "start_time": "2021-08-25T06:40:32.815492Z"
    }
   },
   "outputs": [
    {
     "data": {
      "text/plain": [
       "<Response [200]>"
      ]
     },
     "execution_count": 1,
     "metadata": {},
     "output_type": "execute_result"
    }
   ],
   "source": [
    "import requests\n",
    "response = requests.get('http://api.github.com') # request.get을 이용해서 특정한 url을 가져옴\n",
    "response # 페이지가 있으면 200이 출력됨."
   ]
  },
  {
   "cell_type": "code",
   "execution_count": 38,
   "id": "339ddc18",
   "metadata": {
    "ExecuteTime": {
     "end_time": "2021-08-10T05:45:24.637133Z",
     "start_time": "2021-08-10T05:45:24.623171Z"
    }
   },
   "outputs": [
    {
     "name": "stdout",
     "output_type": "stream",
     "text": [
      "success\n"
     ]
    }
   ],
   "source": [
    "if response.status_code ==200 :\n",
    "    print('success')\n",
    "elif response.status_code == 404:\n",
    "    print('Not found')\n",
    "elif response.status_code == 406:\n",
    "    print('파이썬 웹 크롤링이 허용되지 않음') # eg) 멜론"
   ]
  },
  {
   "cell_type": "code",
   "execution_count": 39,
   "id": "cab6924e",
   "metadata": {
    "ExecuteTime": {
     "end_time": "2021-08-10T05:45:37.821172Z",
     "start_time": "2021-08-10T05:45:37.807190Z"
    }
   },
   "outputs": [
    {
     "data": {
      "text/plain": [
       "b'{\\n  \"current_user_url\": \"https://api.github.com/user\",\\n  \"current_user_authorizations_html_url\": \"https://github.com/settings/connections/applications{/client_id}\",\\n  \"authorizations_url\": \"https://api.github.com/authorizations\",\\n  \"code_search_url\": \"https://api.github.com/search/code?q={query}{&page,per_page,sort,order}\",\\n  \"commit_search_url\": \"https://api.github.com/search/commits?q={query}{&page,per_page,sort,order}\",\\n  \"emails_url\": \"https://api.github.com/user/emails\",\\n  \"emojis_url\": \"https://api.github.com/emojis\",\\n  \"events_url\": \"https://api.github.com/events\",\\n  \"feeds_url\": \"https://api.github.com/feeds\",\\n  \"followers_url\": \"https://api.github.com/user/followers\",\\n  \"following_url\": \"https://api.github.com/user/following{/target}\",\\n  \"gists_url\": \"https://api.github.com/gists{/gist_id}\",\\n  \"hub_url\": \"https://api.github.com/hub\",\\n  \"issue_search_url\": \"https://api.github.com/search/issues?q={query}{&page,per_page,sort,order}\",\\n  \"issues_url\": \"https://api.github.com/issues\",\\n  \"keys_url\": \"https://api.github.com/user/keys\",\\n  \"label_search_url\": \"https://api.github.com/search/labels?q={query}&repository_id={repository_id}{&page,per_page}\",\\n  \"notifications_url\": \"https://api.github.com/notifications\",\\n  \"organization_url\": \"https://api.github.com/orgs/{org}\",\\n  \"organization_repositories_url\": \"https://api.github.com/orgs/{org}/repos{?type,page,per_page,sort}\",\\n  \"organization_teams_url\": \"https://api.github.com/orgs/{org}/teams\",\\n  \"public_gists_url\": \"https://api.github.com/gists/public\",\\n  \"rate_limit_url\": \"https://api.github.com/rate_limit\",\\n  \"repository_url\": \"https://api.github.com/repos/{owner}/{repo}\",\\n  \"repository_search_url\": \"https://api.github.com/search/repositories?q={query}{&page,per_page,sort,order}\",\\n  \"current_user_repositories_url\": \"https://api.github.com/user/repos{?type,page,per_page,sort}\",\\n  \"starred_url\": \"https://api.github.com/user/starred{/owner}{/repo}\",\\n  \"starred_gists_url\": \"https://api.github.com/gists/starred\",\\n  \"user_url\": \"https://api.github.com/users/{user}\",\\n  \"user_organizations_url\": \"https://api.github.com/user/orgs\",\\n  \"user_repositories_url\": \"https://api.github.com/users/{user}/repos{?type,page,per_page,sort}\",\\n  \"user_search_url\": \"https://api.github.com/search/users?q={query}{&page,per_page,sort,order}\"\\n}\\n'"
      ]
     },
     "execution_count": 39,
     "metadata": {},
     "output_type": "execute_result"
    }
   ],
   "source": [
    "response.content"
   ]
  },
  {
   "cell_type": "code",
   "execution_count": 41,
   "id": "b65d4949",
   "metadata": {
    "ExecuteTime": {
     "end_time": "2021-08-10T05:47:22.587006Z",
     "start_time": "2021-08-10T05:47:22.575042Z"
    },
    "scrolled": true
   },
   "outputs": [
    {
     "data": {
      "text/plain": [
       "{'current_user_url': 'https://api.github.com/user',\n",
       " 'current_user_authorizations_html_url': 'https://github.com/settings/connections/applications{/client_id}',\n",
       " 'authorizations_url': 'https://api.github.com/authorizations',\n",
       " 'code_search_url': 'https://api.github.com/search/code?q={query}{&page,per_page,sort,order}',\n",
       " 'commit_search_url': 'https://api.github.com/search/commits?q={query}{&page,per_page,sort,order}',\n",
       " 'emails_url': 'https://api.github.com/user/emails',\n",
       " 'emojis_url': 'https://api.github.com/emojis',\n",
       " 'events_url': 'https://api.github.com/events',\n",
       " 'feeds_url': 'https://api.github.com/feeds',\n",
       " 'followers_url': 'https://api.github.com/user/followers',\n",
       " 'following_url': 'https://api.github.com/user/following{/target}',\n",
       " 'gists_url': 'https://api.github.com/gists{/gist_id}',\n",
       " 'hub_url': 'https://api.github.com/hub',\n",
       " 'issue_search_url': 'https://api.github.com/search/issues?q={query}{&page,per_page,sort,order}',\n",
       " 'issues_url': 'https://api.github.com/issues',\n",
       " 'keys_url': 'https://api.github.com/user/keys',\n",
       " 'label_search_url': 'https://api.github.com/search/labels?q={query}&repository_id={repository_id}{&page,per_page}',\n",
       " 'notifications_url': 'https://api.github.com/notifications',\n",
       " 'organization_url': 'https://api.github.com/orgs/{org}',\n",
       " 'organization_repositories_url': 'https://api.github.com/orgs/{org}/repos{?type,page,per_page,sort}',\n",
       " 'organization_teams_url': 'https://api.github.com/orgs/{org}/teams',\n",
       " 'public_gists_url': 'https://api.github.com/gists/public',\n",
       " 'rate_limit_url': 'https://api.github.com/rate_limit',\n",
       " 'repository_url': 'https://api.github.com/repos/{owner}/{repo}',\n",
       " 'repository_search_url': 'https://api.github.com/search/repositories?q={query}{&page,per_page,sort,order}',\n",
       " 'current_user_repositories_url': 'https://api.github.com/user/repos{?type,page,per_page,sort}',\n",
       " 'starred_url': 'https://api.github.com/user/starred{/owner}{/repo}',\n",
       " 'starred_gists_url': 'https://api.github.com/gists/starred',\n",
       " 'user_url': 'https://api.github.com/users/{user}',\n",
       " 'user_organizations_url': 'https://api.github.com/user/orgs',\n",
       " 'user_repositories_url': 'https://api.github.com/users/{user}/repos{?type,page,per_page,sort}',\n",
       " 'user_search_url': 'https://api.github.com/search/users?q={query}{&page,per_page,sort,order}'}"
      ]
     },
     "execution_count": 41,
     "metadata": {},
     "output_type": "execute_result"
    }
   ],
   "source": [
    "jsondata = response.json()\n",
    "jsondata"
   ]
  },
  {
   "cell_type": "markdown",
   "id": "5a896a13",
   "metadata": {
    "ExecuteTime": {
     "end_time": "2021-08-10T05:48:53.429401Z",
     "start_time": "2021-08-10T05:48:53.424386Z"
    }
   },
   "source": [
    "## 2.2 BeautifulSoup 모듈을 활용한 웹데이터 수집\n",
    "- HTML, XML 등 Markup 언어를 crawling 하기 위한 대표적인 모듈\n",
    "- https://www.crummy.com/software/BeautifulSoup/"
   ]
  },
  {
   "cell_type": "markdown",
   "id": "a2c25f27",
   "metadata": {
    "ExecuteTime": {
     "end_time": "2021-08-10T05:51:19.750199Z",
     "start_time": "2021-08-10T05:51:19.743210Z"
    }
   },
   "source": [
    "### 1) 환율정보 불러오기(네이버금융 > 시장지표)\n",
    "https://finance.naver.com/marketindex/"
   ]
  },
  {
   "cell_type": "code",
   "execution_count": null,
   "id": "6706d6b7",
   "metadata": {},
   "outputs": [],
   "source": [
    "엑셀은 cp949로 되어있는 파일이나..."
   ]
  },
  {
   "cell_type": "code",
   "execution_count": null,
   "id": "273b8bd5",
   "metadata": {},
   "outputs": [],
   "source": [
    "selectorgadget을 이용하여 웹페이지 각 항목의 태그를 확인할 수 있음."
   ]
  },
  {
   "cell_type": "code",
   "execution_count": 2,
   "id": "75bfa282",
   "metadata": {
    "ExecuteTime": {
     "end_time": "2021-08-25T06:43:10.738824Z",
     "start_time": "2021-08-25T06:43:10.323061Z"
    },
    "scrolled": true
   },
   "outputs": [
    {
     "data": {
      "text/plain": [
       "<Response [200]>"
      ]
     },
     "execution_count": 2,
     "metadata": {},
     "output_type": "execute_result"
    }
   ],
   "source": [
    "import requests\n",
    "from bs4 import BeautifulSoup\n",
    "from numpy import round\n",
    "url = \"http://finance.naver.com/marketindex\"\n",
    "marketindex = requests.get(url)\n",
    "marketindex.content\n",
    "soup = BeautifulSoup(marketindex.content, \"html.parser\") # 태그별로 긁어올 수 있게됨.\n",
    "soup\n",
    "price = soup.select(\"div.head_info > span.value\")\n",
    "# 에러! print(price.text)\n",
    "[p.text for p in price]\n",
    "# p.text.replace(',','') for p in price 부동산 할 때의 풀이\n",
    "[round(float(p.text.replace(',','')),2) for p in price]"
   ]
  },
  {
   "cell_type": "code",
   "execution_count": 10,
   "id": "003915e8",
   "metadata": {
    "ExecuteTime": {
     "end_time": "2021-08-25T06:43:11.632430Z",
     "start_time": "2021-08-25T06:43:11.618440Z"
    }
   },
   "outputs": [
    {
     "data": {
      "text/plain": [
       "[1168.1,\n",
       " 1064.76,\n",
       " 1371.82,\n",
       " 180.43,\n",
       " 109.68,\n",
       " 1.18,\n",
       " 1.37,\n",
       " 92.9,\n",
       " 67.54,\n",
       " 1644.56,\n",
       " 1805.9,\n",
       " 67489.14]"
      ]
     },
     "execution_count": 10,
     "metadata": {},
     "output_type": "execute_result"
    }
   ],
   "source": [
    "# '1,100'\n",
    "# -> ['1','100'] -> ''.join(['1','100'])-> 1199\n",
    "# 1,100,000 \n",
    "# -> ['1','100','000'] -> ''.join() -> 11000000\n",
    "\n",
    "[round(float(''.join(p.text.split(','))),2) for p in price]"
   ]
  },
  {
   "cell_type": "code",
   "execution_count": 57,
   "id": "88fdf63a",
   "metadata": {
    "ExecuteTime": {
     "end_time": "2021-08-10T06:43:27.627580Z",
     "start_time": "2021-08-10T06:43:27.617590Z"
    }
   },
   "outputs": [
    {
     "name": "stdout",
     "output_type": "stream",
     "text": [
      "1,149.60\t1,041.40\t1,349.23\t177.37\t110.2700\t1.1744\t1.3846\t92.9300\t66.48\t1647.36\t1723.4\t64075.42\t"
     ]
    }
   ],
   "source": [
    "for idx in range(len(price)):\n",
    "    print(price[idx].text, end=\"\\t\")"
   ]
  },
  {
   "cell_type": "code",
   "execution_count": null,
   "id": "f2783c16",
   "metadata": {},
   "outputs": [],
   "source": [
    "title : h3.h_lst > span.blind\n",
    "unit : div.head_info > span > span.blind\n",
    "state : div.head_info > span.blind"
   ]
  },
  {
   "cell_type": "code",
   "execution_count": 58,
   "id": "b870128b",
   "metadata": {
    "ExecuteTime": {
     "end_time": "2021-08-10T06:44:09.326258Z",
     "start_time": "2021-08-10T06:44:09.313270Z"
    }
   },
   "outputs": [
    {
     "name": "stdout",
     "output_type": "stream",
     "text": [
      "미국 USD\t일본 JPY(100엔)\t유럽연합 EUR\t중국 CNY\t달러/일본 엔\t유로/달러\t영국 파운드/달러\t달러인덱스\tWTI\t휘발유\t국제 금\t국내 금\t"
     ]
    }
   ],
   "source": [
    "title = soup.select('h3.h_lst > span.blind')\n",
    "title\n",
    "for idx in range(len(title)):\n",
    "    print(title[idx].text, end='\\t')"
   ]
  },
  {
   "cell_type": "code",
   "execution_count": 61,
   "id": "3c01ff1b",
   "metadata": {
    "ExecuteTime": {
     "end_time": "2021-08-10T06:48:18.724429Z",
     "start_time": "2021-08-10T06:48:18.705501Z"
    }
   },
   "outputs": [
    {
     "data": {
      "text/plain": [
       "['원', '원', '원', '원', '엔', '달러', '달러', '', '달러', '원', '달러', '원']"
      ]
     },
     "execution_count": 61,
     "metadata": {},
     "output_type": "execute_result"
    }
   ],
   "source": [
    "unit = soup.select('div.head_info > span > span.blind')\n",
    "unit = [u.text for u in unit]\n",
    "unit.insert(7, '') # 데이터가 없는 경우...빈 칸을 삽입.\n",
    "unit\n",
    "# for idx in range(len(unit)):\n",
    "#     print(unit[idx].text, end='. ')"
   ]
  },
  {
   "cell_type": "code",
   "execution_count": 62,
   "id": "99b5fbb5",
   "metadata": {
    "ExecuteTime": {
     "end_time": "2021-08-10T06:49:19.900333Z",
     "start_time": "2021-08-10T06:49:19.889363Z"
    }
   },
   "outputs": [
    {
     "name": "stdout",
     "output_type": "stream",
     "text": [
      "상승, 상승, 상승, 상승, 상승, 하락, 하락, 상승, 하락, 상승, 하락, 하락, "
     ]
    }
   ],
   "source": [
    "status = soup.select('div.head_info > span.blind')\n",
    "for idx in range(len(status)):\n",
    "    print(status[idx].text, end=', ')"
   ]
  },
  {
   "cell_type": "code",
   "execution_count": 63,
   "id": "95cc1049",
   "metadata": {
    "ExecuteTime": {
     "end_time": "2021-08-10T06:50:15.650501Z",
     "start_time": "2021-08-10T06:50:15.633535Z"
    }
   },
   "outputs": [
    {
     "data": {
      "text/plain": [
       "(12, 12, 12, 12)"
      ]
     },
     "execution_count": 63,
     "metadata": {},
     "output_type": "execute_result"
    }
   ],
   "source": [
    "len(title), len(price), len(unit), len(status)"
   ]
  },
  {
   "cell_type": "code",
   "execution_count": 64,
   "id": "26c7e43c",
   "metadata": {
    "ExecuteTime": {
     "end_time": "2021-08-10T06:51:11.007566Z",
     "start_time": "2021-08-10T06:51:10.993604Z"
    },
    "scrolled": true
   },
   "outputs": [
    {
     "name": "stdout",
     "output_type": "stream",
     "text": [
      "미국 USD : 1,149.60원 - 상승\n",
      "일본 JPY(100엔) : 1,041.40원 - 상승\n",
      "유럽연합 EUR : 1,349.23원 - 상승\n",
      "중국 CNY : 177.37원 - 상승\n",
      "달러/일본 엔 : 110.2700엔 - 상승\n",
      "유로/달러 : 1.1744달러 - 하락\n",
      "영국 파운드/달러 : 1.3846달러 - 하락\n",
      "달러인덱스 : 92.9300 - 상승\n",
      "WTI : 66.48달러 - 하락\n",
      "휘발유 : 1647.36원 - 상승\n",
      "국제 금 : 1723.4달러 - 하락\n",
      "국내 금 : 64075.42원 - 하락\n"
     ]
    }
   ],
   "source": [
    "for idx in range(len(title)):\n",
    "    print(\"{} : {}{} - {}\".format(title[idx].text, price[idx].text, unit[idx], status[idx].text))"
   ]
  },
  {
   "cell_type": "markdown",
   "id": "1dfe00fd",
   "metadata": {},
   "source": [
    "### 2) 네이버 영화 랭킹 출력하기"
   ]
  },
  {
   "cell_type": "code",
   "execution_count": null,
   "id": "b8e517d4",
   "metadata": {},
   "outputs": [],
   "source": [
    "'''\n",
    "9위 영화제목 - 영화소개 url\n",
    "감독 및 배우\n",
    "아무개:감독 / 저무개 : 주연 / 이무개 : 주연\n",
    "'''"
   ]
  },
  {
   "cell_type": "code",
   "execution_count": 18,
   "id": "6d5572f4",
   "metadata": {
    "ExecuteTime": {
     "end_time": "2021-08-11T05:10:58.443520Z",
     "start_time": "2021-08-11T05:10:58.324337Z"
    }
   },
   "outputs": [
    {
     "data": {
      "text/plain": [
       "[<a href=\"/movie/bi/mi/basic.naver?code=192150\" title=\"모가디슈\">모가디슈</a>,\n",
       " <a href=\"/movie/bi/mi/basic.naver?code=167569\" title=\"더 수어사이드 스쿼드\">더 수어사이드 스쿼드</a>,\n",
       " <a href=\"/movie/bi/mi/basic.naver?code=200785\" title=\"방법: 재차의\">방법: 재차의</a>,\n",
       " <a href=\"/movie/bi/mi/basic.naver?code=179406\" title=\"정글 크루즈\">정글 크루즈</a>,\n",
       " <a href=\"/movie/bi/mi/basic.naver?code=184318\" title=\"블랙 위도우\">블랙 위도우</a>,\n",
       " <a href=\"/movie/bi/mi/basic.naver?code=204768\" title=\"그린 나이트\">그린 나이트</a>,\n",
       " <a href=\"/movie/bi/mi/basic.naver?code=188472\" title=\"싱크홀\">싱크홀</a>,\n",
       " <a href=\"/movie/bi/mi/basic.naver?code=206169\" title=\"더 그레이트 샤크\">더 그레이트 샤크</a>,\n",
       " <a href=\"/movie/bi/mi/basic.naver?code=191597\" title=\"보스 베이비 2\">보스 베이비 2</a>,\n",
       " <a href=\"/movie/bi/mi/basic.naver?code=204496\" title=\"랑종\">랑종</a>,\n",
       " <a href=\"/movie/bi/mi/basic.naver?code=185614\" title=\"인질\">인질</a>,\n",
       " <a href=\"/movie/bi/mi/basic.naver?code=190324\" title=\"프리 가이\">프리 가이</a>,\n",
       " <a href=\"/movie/bi/mi/basic.naver?code=196049\" title=\"극장판 도라에몽: 진구의 신공룡\">극장판 도라에몽: 진구의 신공룡</a>,\n",
       " <a href=\"/movie/bi/mi/basic.naver?code=191548\" title=\"이스케이프 룸 2: 노 웨이 아웃\">이스케이프 룸 2: 노 웨이 아웃</a>,\n",
       " <a href=\"/movie/bi/mi/basic.naver?code=200065\" title=\"올드\">올드</a>,\n",
       " <a href=\"/movie/bi/mi/basic.naver?code=188768\" title=\"잘리카투\">잘리카투</a>,\n",
       " <a href=\"/movie/bi/mi/basic.naver?code=191929\" title=\"암살자들\">암살자들</a>,\n",
       " <a href=\"/movie/bi/mi/basic.naver?code=189150\" title=\"분노의 질주: 더 얼티메이트\">분노의 질주: 더 얼티메이트</a>,\n",
       " <a href=\"/movie/bi/mi/basic.naver?code=197468\" title=\"CCTV\">CCTV</a>,\n",
       " <a href=\"/movie/bi/mi/basic.naver?code=206168\" title=\"귀문\">귀문</a>,\n",
       " <a href=\"/movie/bi/mi/basic.naver?code=129687\" title=\"피닉스\">피닉스</a>,\n",
       " <a href=\"/movie/bi/mi/basic.naver?code=205966\" title=\"아이스 로드\">아이스 로드</a>,\n",
       " <a href=\"/movie/bi/mi/basic.naver?code=126032\" title=\"수어사이드 스쿼드\">수어사이드 스쿼드</a>,\n",
       " <a href=\"/movie/bi/mi/basic.naver?code=28876\" title=\"화양연화\">화양연화</a>,\n",
       " <a href=\"/movie/bi/mi/basic.naver?code=187322\" title=\"크루엘라\">크루엘라</a>,\n",
       " <a href=\"/movie/bi/mi/basic.naver?code=204624\" title=\"킬러의 보디가드 2: 킬러의 와이프\">킬러의 보디가드 2: 킬러의 와이프</a>,\n",
       " <a href=\"/movie/bi/mi/basic.naver?code=194205\" title=\"발신제한\">발신제한</a>,\n",
       " <a href=\"/movie/bi/mi/basic.naver?code=202903\" title=\"루카\">루카</a>,\n",
       " <a href=\"/movie/bi/mi/basic.naver?code=206577\" title=\"블랙핑크 더 무비\">블랙핑크 더 무비</a>,\n",
       " <a href=\"/movie/bi/mi/basic.naver?code=194887\" title=\"귀신\">귀신</a>,\n",
       " <a href=\"/movie/bi/mi/basic.naver?code=205614\" title=\"나만 보이니\">나만 보이니</a>,\n",
       " <a href=\"/movie/bi/mi/basic.naver?code=206030\" title=\"신 강시선생\">신 강시선생</a>,\n",
       " <a href=\"/movie/bi/mi/basic.naver?code=188466\" title=\"우리, 둘\">우리, 둘</a>,\n",
       " <a href=\"/movie/bi/mi/basic.naver?code=187323\" title=\"베놈 2: 렛 데어 비 카니지\">베놈 2: 렛 데어 비 카니지</a>,\n",
       " <a href=\"/movie/bi/mi/basic.naver?code=171539\" title=\"그린 북\">그린 북</a>,\n",
       " <a href=\"/movie/bi/mi/basic.naver?code=189368\" title=\"콰이어트 플레이스 2\">콰이어트 플레이스 2</a>,\n",
       " <a href=\"/movie/bi/mi/basic.naver?code=197750\" title=\"더 스웜\">더 스웜</a>,\n",
       " <a href=\"/movie/bi/mi/basic.naver?code=188195\" title=\"우리는 매일매일\">우리는 매일매일</a>,\n",
       " <a href=\"/movie/bi/mi/basic.naver?code=175092\" title=\"먼 훗날 우리\">먼 훗날 우리</a>,\n",
       " <a href=\"/movie/bi/mi/basic.naver?code=201898\" title=\"내겐 너무 소중한 너\">내겐 너무 소중한 너</a>,\n",
       " <a href=\"/movie/bi/mi/basic.naver?code=174830\" title=\"가버나움\">가버나움</a>,\n",
       " <a href=\"/movie/bi/mi/basic.naver?code=194082\" title=\"생각의 여름\">생각의 여름</a>,\n",
       " <a href=\"/movie/bi/mi/basic.naver?code=196051\" title=\"극장판 귀멸의 칼날: 무한열차편\">극장판 귀멸의 칼날: 무한열차편</a>,\n",
       " <a href=\"/movie/bi/mi/basic.naver?code=204245\" title=\"백만달러와 시체\">백만달러와 시체</a>,\n",
       " <a href=\"/movie/bi/mi/basic.naver?code=72055\" title=\"슈퍼\">슈퍼</a>,\n",
       " <a href=\"/movie/bi/mi/basic.naver?code=149221\" title=\"대립군\">대립군</a>,\n",
       " <a href=\"/movie/bi/mi/basic.naver?code=29398\" title=\"트로미오와 줄리엣\">트로미오와 줄리엣</a>,\n",
       " <a href=\"/movie/bi/mi/basic.naver?code=193966\" title=\"레미니센스\">레미니센스</a>,\n",
       " <a href=\"/movie/bi/mi/basic.naver?code=58207\" title=\"슬리더\">슬리더</a>,\n",
       " <a href=\"/movie/bi/mi/basic.naver?code=201073\" title=\"코다\">코다</a>]"
      ]
     },
     "execution_count": 18,
     "metadata": {},
     "output_type": "execute_result"
    }
   ],
   "source": [
    "import requests\n",
    "from bs4 import BeautifulSoup\n",
    "url = \"https://movie.naver.com/movie/sdb/rank/rmovie.naver\"\n",
    "movie_ranking = requests.get(url)\n",
    "soup = BeautifulSoup(movie_ranking.content, \"html.parser\")\n",
    "soup\n",
    "title_list = soup.select('td.title > div.tit3 > a')\n",
    "title_list\n",
    "for idx in range(len(title_list)):\n",
    "    link = url + title_list[idx].attrs['href']\n",
    "    print(\"{:2d}위 영화제목 : {} - {}\".format(idx+1, title_list[idx].text,\n",
    "                                        link )) # 첫 째줄(9위 영화제목 - 영화소개 url) 완료\n",
    "    page = requests.get(link)\n",
    "    s    = BeautifulSoup(page.content, \"html.parser\")\n",
    "    people = s.select(\"li a.tx_people\") # 주연 / 감독\n",
    "    staffs = s.select(\"dl.staff > dt\") # 역할\n",
    "    ###################dl.staff > dd로 역할만 크롤링하는 것은 안되나? 감독이 비어있어서 오류?#############\n",
    "    print(\"감독 및 배우\")\n",
    "    for i in range(len(people)):\n",
    "        print(\"{}:{}\".format(people[i].text, staffs[i].text), end=\" / \")\n",
    "    print(\"\\n\")"
   ]
  },
  {
   "cell_type": "code",
   "execution_count": 23,
   "id": "224d77f7",
   "metadata": {
    "ExecuteTime": {
     "end_time": "2021-08-11T05:22:29.288424Z",
     "start_time": "2021-08-11T05:22:16.400389Z"
    }
   },
   "outputs": [
    {
     "data": {
      "text/html": [
       "<div>\n",
       "<style scoped>\n",
       "    .dataframe tbody tr th:only-of-type {\n",
       "        vertical-align: middle;\n",
       "    }\n",
       "\n",
       "    .dataframe tbody tr th {\n",
       "        vertical-align: top;\n",
       "    }\n",
       "\n",
       "    .dataframe thead th {\n",
       "        text-align: right;\n",
       "    }\n",
       "</style>\n",
       "<table border=\"1\" class=\"dataframe\">\n",
       "  <thead>\n",
       "    <tr style=\"text-align: right;\">\n",
       "      <th></th>\n",
       "      <th>rank</th>\n",
       "      <th>title</th>\n",
       "      <th>link</th>\n",
       "      <th>staff</th>\n",
       "    </tr>\n",
       "  </thead>\n",
       "  <tbody>\n",
       "    <tr>\n",
       "      <th>0</th>\n",
       "      <td>1</td>\n",
       "      <td>모가디슈</td>\n",
       "      <td>https://movie.naver.com/movie/sdb/rank/rmovie....</td>\n",
       "      <td>류승완:감독 / 김윤석:주연 / 조인성:주연 / 허준호:주연 / 구교환:주연 / 김...</td>\n",
       "    </tr>\n",
       "    <tr>\n",
       "      <th>1</th>\n",
       "      <td>2</td>\n",
       "      <td>더 수어사이드 스쿼드</td>\n",
       "      <td>https://movie.naver.com/movie/sdb/rank/rmovie....</td>\n",
       "      <td>제임스 건:감독 / 마고 로비:주연 / 이드리스 엘바:주연 / 존 시나:주연 / 조...</td>\n",
       "    </tr>\n",
       "    <tr>\n",
       "      <th>2</th>\n",
       "      <td>3</td>\n",
       "      <td>방법: 재차의</td>\n",
       "      <td>https://movie.naver.com/movie/sdb/rank/rmovie....</td>\n",
       "      <td>김용완:감독 / 엄지원:주연 / 정지소:주연 / 정문성:조연 / 김인권:조연 / 고...</td>\n",
       "    </tr>\n",
       "    <tr>\n",
       "      <th>3</th>\n",
       "      <td>4</td>\n",
       "      <td>정글 크루즈</td>\n",
       "      <td>https://movie.naver.com/movie/sdb/rank/rmovie....</td>\n",
       "      <td>자움 콜렛 세라:감독 / 드웨인 존슨:주연 / 에밀리 블런트:주연 / 에드가 라미레...</td>\n",
       "    </tr>\n",
       "    <tr>\n",
       "      <th>4</th>\n",
       "      <td>5</td>\n",
       "      <td>블랙 위도우</td>\n",
       "      <td>https://movie.naver.com/movie/sdb/rank/rmovie....</td>\n",
       "      <td>케이트 쇼트랜드:감독 / 스칼릿 조핸슨:주연 / 플로렌스 퓨:주연 / 레이첼 와이즈...</td>\n",
       "    </tr>\n",
       "    <tr>\n",
       "      <th>5</th>\n",
       "      <td>6</td>\n",
       "      <td>그린 나이트</td>\n",
       "      <td>https://movie.naver.com/movie/sdb/rank/rmovie....</td>\n",
       "      <td>데이빗 로워리:감독 / 데브 파텔:주연 / 알리시아 비칸데르:주연 / 조엘 에저튼:...</td>\n",
       "    </tr>\n",
       "    <tr>\n",
       "      <th>6</th>\n",
       "      <td>7</td>\n",
       "      <td>싱크홀</td>\n",
       "      <td>https://movie.naver.com/movie/sdb/rank/rmovie....</td>\n",
       "      <td>김지훈:감독 / 차승원:주연 / 김성균:주연 / 이광수:주연 / 김혜준:주연 / 남...</td>\n",
       "    </tr>\n",
       "    <tr>\n",
       "      <th>7</th>\n",
       "      <td>8</td>\n",
       "      <td>더 그레이트 샤크</td>\n",
       "      <td>https://movie.naver.com/movie/sdb/rank/rmovie....</td>\n",
       "      <td>마틴 윌슨:감독 / 카트리나 보우든:주연 / 아론 자쿠벤코:주연 / 키미에 츠카코시...</td>\n",
       "    </tr>\n",
       "    <tr>\n",
       "      <th>8</th>\n",
       "      <td>9</td>\n",
       "      <td>보스 베이비 2</td>\n",
       "      <td>https://movie.naver.com/movie/sdb/rank/rmovie....</td>\n",
       "      <td>톰 맥그라스:감독 / 알렉 볼드윈:주연 / 제임스 마스던:주연 / 에이미 세다리스:...</td>\n",
       "    </tr>\n",
       "    <tr>\n",
       "      <th>9</th>\n",
       "      <td>10</td>\n",
       "      <td>랑종</td>\n",
       "      <td>https://movie.naver.com/movie/sdb/rank/rmovie....</td>\n",
       "      <td>반종 피산다나쿤:감독 / 나릴야 군몽콘켓:주연 / 싸와니 우툼마:주연 / 씨라니 얀...</td>\n",
       "    </tr>\n",
       "    <tr>\n",
       "      <th>10</th>\n",
       "      <td>11</td>\n",
       "      <td>인질</td>\n",
       "      <td>https://movie.naver.com/movie/sdb/rank/rmovie....</td>\n",
       "      <td>필감성:감독 / 황정민:주연 / 김재범:조연 / 이유미:조연 / 류경수:조연 / 이...</td>\n",
       "    </tr>\n",
       "    <tr>\n",
       "      <th>11</th>\n",
       "      <td>12</td>\n",
       "      <td>프리 가이</td>\n",
       "      <td>https://movie.naver.com/movie/sdb/rank/rmovie....</td>\n",
       "      <td>숀 레비:감독 / 라이언 레이놀즈:주연 / 조디 코머:조연 / 타이카 와이티티:조연...</td>\n",
       "    </tr>\n",
       "    <tr>\n",
       "      <th>12</th>\n",
       "      <td>13</td>\n",
       "      <td>극장판 도라에몽: 진구의 신공룡</td>\n",
       "      <td>https://movie.naver.com/movie/sdb/rank/rmovie....</td>\n",
       "      <td>이마이 카즈아키:감독 / 윤아영:주연 / 김정아:주연 / 최낙윤:주연 / 이현주:주...</td>\n",
       "    </tr>\n",
       "    <tr>\n",
       "      <th>13</th>\n",
       "      <td>14</td>\n",
       "      <td>이스케이프 룸 2: 노 웨이 아웃</td>\n",
       "      <td>https://movie.naver.com/movie/sdb/rank/rmovie....</td>\n",
       "      <td>애덤 로비텔:감독 / 테일러 러셀:주연 / 로건 밀러:주연 / 인디아 무어:조연 /...</td>\n",
       "    </tr>\n",
       "    <tr>\n",
       "      <th>14</th>\n",
       "      <td>15</td>\n",
       "      <td>올드</td>\n",
       "      <td>https://movie.naver.com/movie/sdb/rank/rmovie....</td>\n",
       "      <td>M. 나이트 샤말란:감독 / 가엘 가르시아 베르날:주연 / 빅키 크리엡스:주연 / ...</td>\n",
       "    </tr>\n",
       "    <tr>\n",
       "      <th>15</th>\n",
       "      <td>16</td>\n",
       "      <td>잘리카투</td>\n",
       "      <td>https://movie.naver.com/movie/sdb/rank/rmovie....</td>\n",
       "      <td>리조 조세 펠리세리:감독 / 안토니 바기스:주연 /</td>\n",
       "    </tr>\n",
       "    <tr>\n",
       "      <th>16</th>\n",
       "      <td>17</td>\n",
       "      <td>암살자들</td>\n",
       "      <td>https://movie.naver.com/movie/sdb/rank/rmovie....</td>\n",
       "      <td>라이언 화이트:감독 /</td>\n",
       "    </tr>\n",
       "    <tr>\n",
       "      <th>17</th>\n",
       "      <td>18</td>\n",
       "      <td>분노의 질주: 더 얼티메이트</td>\n",
       "      <td>https://movie.naver.com/movie/sdb/rank/rmovie....</td>\n",
       "      <td>저스틴 린:감독 / 빈 디젤:주연 / 존 시나:주연 / 성 강:주연 / 샤를리즈 테...</td>\n",
       "    </tr>\n",
       "    <tr>\n",
       "      <th>18</th>\n",
       "      <td>19</td>\n",
       "      <td>CCTV</td>\n",
       "      <td>https://movie.naver.com/movie/sdb/rank/rmovie....</td>\n",
       "      <td>김홍익:감독 / 곽도원:주연 / 김단미:주연 / 박기륭:주연 / 원춘규:조연 / 김...</td>\n",
       "    </tr>\n",
       "    <tr>\n",
       "      <th>19</th>\n",
       "      <td>20</td>\n",
       "      <td>귀문</td>\n",
       "      <td>https://movie.naver.com/movie/sdb/rank/rmovie....</td>\n",
       "      <td>심덕근:감독 / 김강우:주연 / 김소혜:주연 / 이정형:주연 / 홍진기:주연 /</td>\n",
       "    </tr>\n",
       "    <tr>\n",
       "      <th>20</th>\n",
       "      <td>21</td>\n",
       "      <td>피닉스</td>\n",
       "      <td>https://movie.naver.com/movie/sdb/rank/rmovie....</td>\n",
       "      <td>크리스티안 펫졸드:감독 / 니나 호스:주연 / 로날드 제르필드:주연 / 니나 쿤젠도...</td>\n",
       "    </tr>\n",
       "    <tr>\n",
       "      <th>21</th>\n",
       "      <td>22</td>\n",
       "      <td>아이스 로드</td>\n",
       "      <td>https://movie.naver.com/movie/sdb/rank/rmovie....</td>\n",
       "      <td>조나단 헨슬레이:감독 / 리암 니슨:주연 / 로렌스 피시번:주연 / 홀트 맥칼라니:...</td>\n",
       "    </tr>\n",
       "    <tr>\n",
       "      <th>22</th>\n",
       "      <td>23</td>\n",
       "      <td>수어사이드 스쿼드</td>\n",
       "      <td>https://movie.naver.com/movie/sdb/rank/rmovie....</td>\n",
       "      <td>데이비드 에이어:감독 / 윌 스미스:주연 / 자레드 레토:주연 / 마고 로비:주연 ...</td>\n",
       "    </tr>\n",
       "    <tr>\n",
       "      <th>23</th>\n",
       "      <td>24</td>\n",
       "      <td>화양연화</td>\n",
       "      <td>https://movie.naver.com/movie/sdb/rank/rmovie....</td>\n",
       "      <td>왕가위:감독 / 장만옥:주연 / 양조위:주연 / 뇌진:조연 / 반적화:조연 / 손가...</td>\n",
       "    </tr>\n",
       "    <tr>\n",
       "      <th>24</th>\n",
       "      <td>25</td>\n",
       "      <td>크루엘라</td>\n",
       "      <td>https://movie.naver.com/movie/sdb/rank/rmovie....</td>\n",
       "      <td>크레이그 질레스피:감독 / 엠마 스톤:주연 / 엠마 톰슨:조연 / 마크 스트롱:조연...</td>\n",
       "    </tr>\n",
       "    <tr>\n",
       "      <th>25</th>\n",
       "      <td>26</td>\n",
       "      <td>킬러의 보디가드 2: 킬러의 와이프</td>\n",
       "      <td>https://movie.naver.com/movie/sdb/rank/rmovie....</td>\n",
       "      <td>패트릭 휴즈:감독 / 라이언 레이놀즈:주연 / 사무엘 L. 잭슨:주연 / 셀마 헤이...</td>\n",
       "    </tr>\n",
       "    <tr>\n",
       "      <th>26</th>\n",
       "      <td>27</td>\n",
       "      <td>발신제한</td>\n",
       "      <td>https://movie.naver.com/movie/sdb/rank/rmovie....</td>\n",
       "      <td>김창주:감독 / 조우진:주연 / 이재인:주연 / 진경:주연 / 김지호:조연 /</td>\n",
       "    </tr>\n",
       "    <tr>\n",
       "      <th>27</th>\n",
       "      <td>28</td>\n",
       "      <td>루카</td>\n",
       "      <td>https://movie.naver.com/movie/sdb/rank/rmovie....</td>\n",
       "      <td>엔리코 카사로사:감독 / 제이콥 트렘블레이:주연 / 잭 딜런 그레이저:주연 / 엠마...</td>\n",
       "    </tr>\n",
       "    <tr>\n",
       "      <th>28</th>\n",
       "      <td>29</td>\n",
       "      <td>블랙핑크 더 무비</td>\n",
       "      <td>https://movie.naver.com/movie/sdb/rank/rmovie....</td>\n",
       "      <td>오윤동:감독 / 블랙핑크:주연 /</td>\n",
       "    </tr>\n",
       "    <tr>\n",
       "      <th>29</th>\n",
       "      <td>30</td>\n",
       "      <td>귀신</td>\n",
       "      <td>https://movie.naver.com/movie/sdb/rank/rmovie....</td>\n",
       "      <td>정하용:감독 / 정이랑:주연 / 함건수:주연 / 최이태:주연 /</td>\n",
       "    </tr>\n",
       "    <tr>\n",
       "      <th>30</th>\n",
       "      <td>31</td>\n",
       "      <td>나만 보이니</td>\n",
       "      <td>https://movie.naver.com/movie/sdb/rank/rmovie....</td>\n",
       "      <td>임용재:감독 / 정진운:주연 / 솔빈:주연 / 곽희성:조연 / 훈:조연 / 이순원:...</td>\n",
       "    </tr>\n",
       "    <tr>\n",
       "      <th>31</th>\n",
       "      <td>32</td>\n",
       "      <td>신 강시선생</td>\n",
       "      <td>https://movie.naver.com/movie/sdb/rank/rmovie....</td>\n",
       "      <td>유관위:감독 / 전소호:주연 / 서소강:주연 /</td>\n",
       "    </tr>\n",
       "    <tr>\n",
       "      <th>32</th>\n",
       "      <td>33</td>\n",
       "      <td>우리, 둘</td>\n",
       "      <td>https://movie.naver.com/movie/sdb/rank/rmovie....</td>\n",
       "      <td>필리포 메네게티:감독 / 바바라 수코바:주연 / 마틴 슈발리에:주연 / 레아 드루케...</td>\n",
       "    </tr>\n",
       "    <tr>\n",
       "      <th>33</th>\n",
       "      <td>34</td>\n",
       "      <td>베놈 2: 렛 데어 비 카니지</td>\n",
       "      <td>https://movie.naver.com/movie/sdb/rank/rmovie....</td>\n",
       "      <td>앤디 서키스:감독 / 톰 하디:주연 / 미셸 윌리엄스:주연 / 나오미 해리스:조연 ...</td>\n",
       "    </tr>\n",
       "    <tr>\n",
       "      <th>34</th>\n",
       "      <td>35</td>\n",
       "      <td>그린 북</td>\n",
       "      <td>https://movie.naver.com/movie/sdb/rank/rmovie....</td>\n",
       "      <td>피터 패럴리:감독 / 비고 모텐슨:주연 / 마허샬라 알리:주연 / 린다 카델리니:조...</td>\n",
       "    </tr>\n",
       "    <tr>\n",
       "      <th>35</th>\n",
       "      <td>36</td>\n",
       "      <td>콰이어트 플레이스 2</td>\n",
       "      <td>https://movie.naver.com/movie/sdb/rank/rmovie....</td>\n",
       "      <td>존 크래신스키:감독 / 에밀리 블런트:주연 / 킬리언 머피:주연 / 밀리센트 시몬스...</td>\n",
       "    </tr>\n",
       "    <tr>\n",
       "      <th>36</th>\n",
       "      <td>37</td>\n",
       "      <td>더 스웜</td>\n",
       "      <td>https://movie.naver.com/movie/sdb/rank/rmovie....</td>\n",
       "      <td>저스트 필리포트:감독 / 설리안 브라힘:주연 / 소피앙 캄:주연 /</td>\n",
       "    </tr>\n",
       "    <tr>\n",
       "      <th>37</th>\n",
       "      <td>38</td>\n",
       "      <td>우리는 매일매일</td>\n",
       "      <td>https://movie.naver.com/movie/sdb/rank/rmovie....</td>\n",
       "      <td>강유가람:감독 / 허은주:주연 / 김이승현:주연 / 유여원:주연 / 김혜정:주연 /...</td>\n",
       "    </tr>\n",
       "    <tr>\n",
       "      <th>38</th>\n",
       "      <td>39</td>\n",
       "      <td>먼 훗날 우리</td>\n",
       "      <td>https://movie.naver.com/movie/sdb/rank/rmovie....</td>\n",
       "      <td>유약영:감독 / 정백연:주연 / 주동우:주연 / 톈좡좡:주연 / 쑤샤오밍:조연 / ...</td>\n",
       "    </tr>\n",
       "    <tr>\n",
       "      <th>39</th>\n",
       "      <td>40</td>\n",
       "      <td>내겐 너무 소중한 너</td>\n",
       "      <td>https://movie.naver.com/movie/sdb/rank/rmovie....</td>\n",
       "      <td>이창원:감독 / 진구:주연 / 정서연:주연 / 강신일:조연 / 장혜진:조연 / 박예...</td>\n",
       "    </tr>\n",
       "    <tr>\n",
       "      <th>40</th>\n",
       "      <td>41</td>\n",
       "      <td>가버나움</td>\n",
       "      <td>https://movie.naver.com/movie/sdb/rank/rmovie....</td>\n",
       "      <td>나딘 라바키:감독 / 자인 알 라피아:주연 / 요르다노스 시프로우:주연 / 보루와티...</td>\n",
       "    </tr>\n",
       "    <tr>\n",
       "      <th>41</th>\n",
       "      <td>42</td>\n",
       "      <td>생각의 여름</td>\n",
       "      <td>https://movie.naver.com/movie/sdb/rank/rmovie....</td>\n",
       "      <td>김종재:감독 / 김예은:주연 / 곽민규:주연 / 오규철:주연 / 한해인:주연 / 신...</td>\n",
       "    </tr>\n",
       "    <tr>\n",
       "      <th>42</th>\n",
       "      <td>43</td>\n",
       "      <td>극장판 귀멸의 칼날: 무한열차편</td>\n",
       "      <td>https://movie.naver.com/movie/sdb/rank/rmovie....</td>\n",
       "      <td>소토자키 하루오:감독 / 하나에 나츠키:주연 / 키토 아카리:주연 / 시모노 히로:...</td>\n",
       "    </tr>\n",
       "    <tr>\n",
       "      <th>43</th>\n",
       "      <td>44</td>\n",
       "      <td>백만달러와 시체</td>\n",
       "      <td>https://movie.naver.com/movie/sdb/rank/rmovie....</td>\n",
       "      <td>마이클 P. 블레빈스:감독 / 포드 오스틴:주연 / 톰 피츠패트릭:주연 / 리차드 ...</td>\n",
       "    </tr>\n",
       "    <tr>\n",
       "      <th>44</th>\n",
       "      <td>45</td>\n",
       "      <td>슈퍼</td>\n",
       "      <td>https://movie.naver.com/movie/sdb/rank/rmovie....</td>\n",
       "      <td>제임스 건:감독 / 레인 윌슨:주연 / 엘렌 페이지:주연 / 리브 타일러:주연 / ...</td>\n",
       "    </tr>\n",
       "    <tr>\n",
       "      <th>45</th>\n",
       "      <td>46</td>\n",
       "      <td>대립군</td>\n",
       "      <td>https://movie.naver.com/movie/sdb/rank/rmovie....</td>\n",
       "      <td>정윤철:감독 / 이정재:주연 / 여진구:주연 / 김무열:주연 / 김명곤:조연 / 박...</td>\n",
       "    </tr>\n",
       "    <tr>\n",
       "      <th>46</th>\n",
       "      <td>47</td>\n",
       "      <td>트로미오와 줄리엣</td>\n",
       "      <td>https://movie.naver.com/movie/sdb/rank/rmovie....</td>\n",
       "      <td>로이드 카우프만:감독 / 제인 젠슨:주연 / 윌 키넌:주연 / 발렌타인 미엘:조연 ...</td>\n",
       "    </tr>\n",
       "    <tr>\n",
       "      <th>47</th>\n",
       "      <td>48</td>\n",
       "      <td>레미니센스</td>\n",
       "      <td>https://movie.naver.com/movie/sdb/rank/rmovie....</td>\n",
       "      <td>리사 조이:감독 / 휴 잭맨:주연 / 레베카 퍼거슨:주연 / 탠디 뉴튼:주연 / 안...</td>\n",
       "    </tr>\n",
       "    <tr>\n",
       "      <th>48</th>\n",
       "      <td>49</td>\n",
       "      <td>슬리더</td>\n",
       "      <td>https://movie.naver.com/movie/sdb/rank/rmovie....</td>\n",
       "      <td>제임스 건:감독 / 나단 필리온:주연 / 엘리자베스 뱅크스:주연 / 마이클 루커:조...</td>\n",
       "    </tr>\n",
       "    <tr>\n",
       "      <th>49</th>\n",
       "      <td>50</td>\n",
       "      <td>코다</td>\n",
       "      <td>https://movie.naver.com/movie/sdb/rank/rmovie....</td>\n",
       "      <td>션 헤이더:감독 / 에밀리아 존스:주연 / 퍼디아 월시-필로:주연 / 말리 매트린:...</td>\n",
       "    </tr>\n",
       "  </tbody>\n",
       "</table>\n",
       "</div>"
      ],
      "text/plain": [
       "    rank                title  \\\n",
       "0      1                 모가디슈   \n",
       "1      2          더 수어사이드 스쿼드   \n",
       "2      3              방법: 재차의   \n",
       "3      4               정글 크루즈   \n",
       "4      5               블랙 위도우   \n",
       "5      6               그린 나이트   \n",
       "6      7                  싱크홀   \n",
       "7      8            더 그레이트 샤크   \n",
       "8      9             보스 베이비 2   \n",
       "9     10                   랑종   \n",
       "10    11                   인질   \n",
       "11    12                프리 가이   \n",
       "12    13    극장판 도라에몽: 진구의 신공룡   \n",
       "13    14   이스케이프 룸 2: 노 웨이 아웃   \n",
       "14    15                   올드   \n",
       "15    16                 잘리카투   \n",
       "16    17                 암살자들   \n",
       "17    18      분노의 질주: 더 얼티메이트   \n",
       "18    19                 CCTV   \n",
       "19    20                   귀문   \n",
       "20    21                  피닉스   \n",
       "21    22               아이스 로드   \n",
       "22    23            수어사이드 스쿼드   \n",
       "23    24                 화양연화   \n",
       "24    25                 크루엘라   \n",
       "25    26  킬러의 보디가드 2: 킬러의 와이프   \n",
       "26    27                 발신제한   \n",
       "27    28                   루카   \n",
       "28    29            블랙핑크 더 무비   \n",
       "29    30                   귀신   \n",
       "30    31               나만 보이니   \n",
       "31    32               신 강시선생   \n",
       "32    33                우리, 둘   \n",
       "33    34     베놈 2: 렛 데어 비 카니지   \n",
       "34    35                 그린 북   \n",
       "35    36          콰이어트 플레이스 2   \n",
       "36    37                 더 스웜   \n",
       "37    38             우리는 매일매일   \n",
       "38    39              먼 훗날 우리   \n",
       "39    40          내겐 너무 소중한 너   \n",
       "40    41                 가버나움   \n",
       "41    42               생각의 여름   \n",
       "42    43    극장판 귀멸의 칼날: 무한열차편   \n",
       "43    44             백만달러와 시체   \n",
       "44    45                   슈퍼   \n",
       "45    46                  대립군   \n",
       "46    47            트로미오와 줄리엣   \n",
       "47    48                레미니센스   \n",
       "48    49                  슬리더   \n",
       "49    50                   코다   \n",
       "\n",
       "                                                 link  \\\n",
       "0   https://movie.naver.com/movie/sdb/rank/rmovie....   \n",
       "1   https://movie.naver.com/movie/sdb/rank/rmovie....   \n",
       "2   https://movie.naver.com/movie/sdb/rank/rmovie....   \n",
       "3   https://movie.naver.com/movie/sdb/rank/rmovie....   \n",
       "4   https://movie.naver.com/movie/sdb/rank/rmovie....   \n",
       "5   https://movie.naver.com/movie/sdb/rank/rmovie....   \n",
       "6   https://movie.naver.com/movie/sdb/rank/rmovie....   \n",
       "7   https://movie.naver.com/movie/sdb/rank/rmovie....   \n",
       "8   https://movie.naver.com/movie/sdb/rank/rmovie....   \n",
       "9   https://movie.naver.com/movie/sdb/rank/rmovie....   \n",
       "10  https://movie.naver.com/movie/sdb/rank/rmovie....   \n",
       "11  https://movie.naver.com/movie/sdb/rank/rmovie....   \n",
       "12  https://movie.naver.com/movie/sdb/rank/rmovie....   \n",
       "13  https://movie.naver.com/movie/sdb/rank/rmovie....   \n",
       "14  https://movie.naver.com/movie/sdb/rank/rmovie....   \n",
       "15  https://movie.naver.com/movie/sdb/rank/rmovie....   \n",
       "16  https://movie.naver.com/movie/sdb/rank/rmovie....   \n",
       "17  https://movie.naver.com/movie/sdb/rank/rmovie....   \n",
       "18  https://movie.naver.com/movie/sdb/rank/rmovie....   \n",
       "19  https://movie.naver.com/movie/sdb/rank/rmovie....   \n",
       "20  https://movie.naver.com/movie/sdb/rank/rmovie....   \n",
       "21  https://movie.naver.com/movie/sdb/rank/rmovie....   \n",
       "22  https://movie.naver.com/movie/sdb/rank/rmovie....   \n",
       "23  https://movie.naver.com/movie/sdb/rank/rmovie....   \n",
       "24  https://movie.naver.com/movie/sdb/rank/rmovie....   \n",
       "25  https://movie.naver.com/movie/sdb/rank/rmovie....   \n",
       "26  https://movie.naver.com/movie/sdb/rank/rmovie....   \n",
       "27  https://movie.naver.com/movie/sdb/rank/rmovie....   \n",
       "28  https://movie.naver.com/movie/sdb/rank/rmovie....   \n",
       "29  https://movie.naver.com/movie/sdb/rank/rmovie....   \n",
       "30  https://movie.naver.com/movie/sdb/rank/rmovie....   \n",
       "31  https://movie.naver.com/movie/sdb/rank/rmovie....   \n",
       "32  https://movie.naver.com/movie/sdb/rank/rmovie....   \n",
       "33  https://movie.naver.com/movie/sdb/rank/rmovie....   \n",
       "34  https://movie.naver.com/movie/sdb/rank/rmovie....   \n",
       "35  https://movie.naver.com/movie/sdb/rank/rmovie....   \n",
       "36  https://movie.naver.com/movie/sdb/rank/rmovie....   \n",
       "37  https://movie.naver.com/movie/sdb/rank/rmovie....   \n",
       "38  https://movie.naver.com/movie/sdb/rank/rmovie....   \n",
       "39  https://movie.naver.com/movie/sdb/rank/rmovie....   \n",
       "40  https://movie.naver.com/movie/sdb/rank/rmovie....   \n",
       "41  https://movie.naver.com/movie/sdb/rank/rmovie....   \n",
       "42  https://movie.naver.com/movie/sdb/rank/rmovie....   \n",
       "43  https://movie.naver.com/movie/sdb/rank/rmovie....   \n",
       "44  https://movie.naver.com/movie/sdb/rank/rmovie....   \n",
       "45  https://movie.naver.com/movie/sdb/rank/rmovie....   \n",
       "46  https://movie.naver.com/movie/sdb/rank/rmovie....   \n",
       "47  https://movie.naver.com/movie/sdb/rank/rmovie....   \n",
       "48  https://movie.naver.com/movie/sdb/rank/rmovie....   \n",
       "49  https://movie.naver.com/movie/sdb/rank/rmovie....   \n",
       "\n",
       "                                                staff  \n",
       "0   류승완:감독 / 김윤석:주연 / 조인성:주연 / 허준호:주연 / 구교환:주연 / 김...  \n",
       "1   제임스 건:감독 / 마고 로비:주연 / 이드리스 엘바:주연 / 존 시나:주연 / 조...  \n",
       "2   김용완:감독 / 엄지원:주연 / 정지소:주연 / 정문성:조연 / 김인권:조연 / 고...  \n",
       "3   자움 콜렛 세라:감독 / 드웨인 존슨:주연 / 에밀리 블런트:주연 / 에드가 라미레...  \n",
       "4   케이트 쇼트랜드:감독 / 스칼릿 조핸슨:주연 / 플로렌스 퓨:주연 / 레이첼 와이즈...  \n",
       "5   데이빗 로워리:감독 / 데브 파텔:주연 / 알리시아 비칸데르:주연 / 조엘 에저튼:...  \n",
       "6   김지훈:감독 / 차승원:주연 / 김성균:주연 / 이광수:주연 / 김혜준:주연 / 남...  \n",
       "7   마틴 윌슨:감독 / 카트리나 보우든:주연 / 아론 자쿠벤코:주연 / 키미에 츠카코시...  \n",
       "8   톰 맥그라스:감독 / 알렉 볼드윈:주연 / 제임스 마스던:주연 / 에이미 세다리스:...  \n",
       "9   반종 피산다나쿤:감독 / 나릴야 군몽콘켓:주연 / 싸와니 우툼마:주연 / 씨라니 얀...  \n",
       "10  필감성:감독 / 황정민:주연 / 김재범:조연 / 이유미:조연 / 류경수:조연 / 이...  \n",
       "11  숀 레비:감독 / 라이언 레이놀즈:주연 / 조디 코머:조연 / 타이카 와이티티:조연...  \n",
       "12  이마이 카즈아키:감독 / 윤아영:주연 / 김정아:주연 / 최낙윤:주연 / 이현주:주...  \n",
       "13  애덤 로비텔:감독 / 테일러 러셀:주연 / 로건 밀러:주연 / 인디아 무어:조연 /...  \n",
       "14  M. 나이트 샤말란:감독 / 가엘 가르시아 베르날:주연 / 빅키 크리엡스:주연 / ...  \n",
       "15                      리조 조세 펠리세리:감독 / 안토니 바기스:주연 /   \n",
       "16                                      라이언 화이트:감독 /   \n",
       "17  저스틴 린:감독 / 빈 디젤:주연 / 존 시나:주연 / 성 강:주연 / 샤를리즈 테...  \n",
       "18  김홍익:감독 / 곽도원:주연 / 김단미:주연 / 박기륭:주연 / 원춘규:조연 / 김...  \n",
       "19      심덕근:감독 / 김강우:주연 / 김소혜:주연 / 이정형:주연 / 홍진기:주연 /   \n",
       "20  크리스티안 펫졸드:감독 / 니나 호스:주연 / 로날드 제르필드:주연 / 니나 쿤젠도...  \n",
       "21  조나단 헨슬레이:감독 / 리암 니슨:주연 / 로렌스 피시번:주연 / 홀트 맥칼라니:...  \n",
       "22  데이비드 에이어:감독 / 윌 스미스:주연 / 자레드 레토:주연 / 마고 로비:주연 ...  \n",
       "23  왕가위:감독 / 장만옥:주연 / 양조위:주연 / 뇌진:조연 / 반적화:조연 / 손가...  \n",
       "24  크레이그 질레스피:감독 / 엠마 스톤:주연 / 엠마 톰슨:조연 / 마크 스트롱:조연...  \n",
       "25  패트릭 휴즈:감독 / 라이언 레이놀즈:주연 / 사무엘 L. 잭슨:주연 / 셀마 헤이...  \n",
       "26       김창주:감독 / 조우진:주연 / 이재인:주연 / 진경:주연 / 김지호:조연 /   \n",
       "27  엔리코 카사로사:감독 / 제이콥 트렘블레이:주연 / 잭 딜런 그레이저:주연 / 엠마...  \n",
       "28                                오윤동:감독 / 블랙핑크:주연 /   \n",
       "29               정하용:감독 / 정이랑:주연 / 함건수:주연 / 최이태:주연 /   \n",
       "30  임용재:감독 / 정진운:주연 / 솔빈:주연 / 곽희성:조연 / 훈:조연 / 이순원:...  \n",
       "31                        유관위:감독 / 전소호:주연 / 서소강:주연 /   \n",
       "32  필리포 메네게티:감독 / 바바라 수코바:주연 / 마틴 슈발리에:주연 / 레아 드루케...  \n",
       "33  앤디 서키스:감독 / 톰 하디:주연 / 미셸 윌리엄스:주연 / 나오미 해리스:조연 ...  \n",
       "34  피터 패럴리:감독 / 비고 모텐슨:주연 / 마허샬라 알리:주연 / 린다 카델리니:조...  \n",
       "35  존 크래신스키:감독 / 에밀리 블런트:주연 / 킬리언 머피:주연 / 밀리센트 시몬스...  \n",
       "36             저스트 필리포트:감독 / 설리안 브라힘:주연 / 소피앙 캄:주연 /   \n",
       "37  강유가람:감독 / 허은주:주연 / 김이승현:주연 / 유여원:주연 / 김혜정:주연 /...  \n",
       "38  유약영:감독 / 정백연:주연 / 주동우:주연 / 톈좡좡:주연 / 쑤샤오밍:조연 / ...  \n",
       "39  이창원:감독 / 진구:주연 / 정서연:주연 / 강신일:조연 / 장혜진:조연 / 박예...  \n",
       "40  나딘 라바키:감독 / 자인 알 라피아:주연 / 요르다노스 시프로우:주연 / 보루와티...  \n",
       "41  김종재:감독 / 김예은:주연 / 곽민규:주연 / 오규철:주연 / 한해인:주연 / 신...  \n",
       "42  소토자키 하루오:감독 / 하나에 나츠키:주연 / 키토 아카리:주연 / 시모노 히로:...  \n",
       "43  마이클 P. 블레빈스:감독 / 포드 오스틴:주연 / 톰 피츠패트릭:주연 / 리차드 ...  \n",
       "44  제임스 건:감독 / 레인 윌슨:주연 / 엘렌 페이지:주연 / 리브 타일러:주연 / ...  \n",
       "45  정윤철:감독 / 이정재:주연 / 여진구:주연 / 김무열:주연 / 김명곤:조연 / 박...  \n",
       "46  로이드 카우프만:감독 / 제인 젠슨:주연 / 윌 키넌:주연 / 발렌타인 미엘:조연 ...  \n",
       "47  리사 조이:감독 / 휴 잭맨:주연 / 레베카 퍼거슨:주연 / 탠디 뉴튼:주연 / 안...  \n",
       "48  제임스 건:감독 / 나단 필리온:주연 / 엘리자베스 뱅크스:주연 / 마이클 루커:조...  \n",
       "49  션 헤이더:감독 / 에밀리아 존스:주연 / 퍼디아 월시-필로:주연 / 말리 매트린:...  "
      ]
     },
     "execution_count": 23,
     "metadata": {},
     "output_type": "execute_result"
    }
   ],
   "source": [
    "import requests\n",
    "from bs4 import BeautifulSoup\n",
    "url = \"https://movie.naver.com/movie/sdb/rank/rmovie.naver\"\n",
    "movie_ranking = requests.get(url)\n",
    "soup = BeautifulSoup(movie_ranking.content, \"html.parser\")\n",
    "soup\n",
    "title_list = soup.select('td.title > div.tit3 > a')\n",
    "dic_list = []\n",
    "title_list\n",
    "for idx in range(len(title_list)):\n",
    "    dic = {} # 빈 딕셔너리\n",
    "    dic['rank'] = idx+1\n",
    "    dic['title'] = title_list[idx].text\n",
    "    dic['link'] = url + title_list[idx].attrs['href']\n",
    "    page = requests.get(dic['link'])\n",
    "    s    = BeautifulSoup(page.content, \"html.parser\")\n",
    "    people = s.select(\"li a.tx_people\") # 주연 / 감독\n",
    "    staffs = s.select(\"dl.staff > dt\") # 역할\n",
    "    dic['staff'] = ''\n",
    "    for i in range(len(people)):\n",
    "        dic['staff'] += \"{}:{} / \".format(people[i].text, staffs[i].text)\n",
    "    dic_list.append(dic) # 딕셔너리를 리스트로 만듬?\n",
    "import pandas as pd     \n",
    "pd.DataFrame(dic_list)   # 리스트를 데이터프레임으로 만듬?\n",
    "df = pd.DataFrame(dic_list)\n",
    "# df.to_csv('data/ch14_movie.csv') # Write object to a comma-separated values (csv) file."
   ]
  },
  {
   "cell_type": "code",
   "execution_count": null,
   "id": "e4f8d09f",
   "metadata": {},
   "outputs": [],
   "source": []
  },
  {
   "cell_type": "markdown",
   "id": "9271ede9",
   "metadata": {},
   "source": [
    "### 4) 크롤링을 막아놓은 사이트 크롤링\n",
    "request를 이용하지 않는 웹 크롤링"
   ]
  },
  {
   "cell_type": "code",
   "execution_count": null,
   "id": "72365972",
   "metadata": {},
   "outputs": [],
   "source": [
    "from urllib.request import urlopen # 파이썬을 이용한 웹크롤링을 막아놓은 사이트"
   ]
  },
  {
   "cell_type": "code",
   "execution_count": 91,
   "id": "457198e8",
   "metadata": {
    "ExecuteTime": {
     "end_time": "2021-08-10T08:04:52.605442Z",
     "start_time": "2021-08-10T08:04:52.593453Z"
    }
   },
   "outputs": [],
   "source": [
    "# https://www.melon.com/chart/index.htm\n",
    "from urllib.request import urlopen\n",
    "from bs4 import BeautifulSoup\n",
    "url = \"https://www.melon.com/chart/\"\n",
    "######s놓친듯. 에러가 나야함."
   ]
  },
  {
   "cell_type": "code",
   "execution_count": 93,
   "id": "4df0be08",
   "metadata": {
    "ExecuteTime": {
     "end_time": "2021-08-10T08:06:30.663783Z",
     "start_time": "2021-08-10T08:06:30.629069Z"
    }
   },
   "outputs": [
    {
     "data": {
      "text/plain": [
       "<Response [406]>"
      ]
     },
     "execution_count": 93,
     "metadata": {},
     "output_type": "execute_result"
    }
   ],
   "source": [
    "import requests\n",
    "from bs4 import BeautifulSoup\n",
    "url = \"https://www.melon.com/chart/\"\n",
    "melonpage = requests.get(url)\n",
    "melonpage"
   ]
  },
  {
   "cell_type": "code",
   "execution_count": 98,
   "id": "be0584ac",
   "metadata": {
    "ExecuteTime": {
     "end_time": "2021-08-10T08:35:45.195800Z",
     "start_time": "2021-08-10T08:35:44.677293Z"
    }
   },
   "outputs": [],
   "source": [
    "# 크롤링을 막아놓은 경우의 웹크롤링 방법\n",
    "headers = {'User-agent' : 'Mozilla/5.0'}\n",
    "melonpage = requests.get(url, headers=headers)\n",
    "melonpage\n",
    "soup = BeautifulSoup(melonpage.content, \"html.parser\")\n",
    "title = soup.select('wrap_song_info > div.ellipsis.rank01 > span > a')\n",
    "singer = soup.select('div.ellipsis.rank02 > span.checkEllipsis')\n",
    "# len(title), len(singer)\n",
    "for idx in range(len(title)):\n",
    "    print(\"{:3d}위|{}|{}\".format(idx+1, title[idx].string, singer[idx].string))\n",
    "\n",
    "# 왜 프린트가 안되지?"
   ]
  },
  {
   "cell_type": "markdown",
   "id": "4d77aef7",
   "metadata": {},
   "source": [
    "## 2.3 정규표현식을 활용한 웹데이터 수집\n",
    "정규표현식 참조 : \n",
    "    * https://goo.gle/HLntbd<br>\n",
    "    * http://www.nextree.co.kr/p4327<br>\n",
    "    * 정규표현식 연습장 : http://regexr.com<br>\n",
    "간략문법 :\n",
    "    \\d : 숫자와 매치, [0-9]와 동일\n",
    "    \\D : 숫자가 아닌 것\n",
    "    \\s : whitespace\n",
    "    \\w : 영문자나 숫자\n",
    "    \\W : 영문자나 숫자가 아닌 문자\n",
    "    .  : 문자 하나\n",
    "    +  : 1번이상 반복\n",
    "    *  : 0번이상 반복\n",
    "    {2,4} : 2~4회 반복\n",
    "    ?  : {0, 1}의 의미\n",
    "    ^  : 시작 (eg: ^가-힣 : 한글로 시작?)\n",
    "    $  : 끝\n",
    "정규표현식의 예 : 메일 정규표현식, 전화번호 정규표현식, ip주소 정규표현식, 주민번호 정규표현식"
   ]
  },
  {
   "cell_type": "code",
   "execution_count": 103,
   "id": "8670586b",
   "metadata": {
    "ExecuteTime": {
     "end_time": "2021-08-10T08:59:26.240491Z",
     "start_time": "2021-08-10T08:59:26.230540Z"
    }
   },
   "outputs": [],
   "source": [
    "import re\n",
    "parsing_string = '''010-9999-9999 (02)716-6000 02.712.6100\n",
    "02)716-2222\n",
    "02-715-0011 <city>서울</city>\n",
    "'''"
   ]
  },
  {
   "cell_type": "code",
   "execution_count": 104,
   "id": "ec3df25f",
   "metadata": {
    "ExecuteTime": {
     "end_time": "2021-08-10T08:59:28.307911Z",
     "start_time": "2021-08-10T08:59:28.293926Z"
    }
   },
   "outputs": [
    {
     "data": {
      "text/plain": [
       "['010-9999-9999', '(02)716-6000', ' 02.712.6100', '02)716-2222', '02-715-0011']"
      ]
     },
     "execution_count": 104,
     "metadata": {},
     "output_type": "execute_result"
    }
   ],
   "source": [
    "phone = re.findall(r'.?\\d{2,3}.?\\d{3,4}.?\\d{4}', parsing_string)\n",
    "phone"
   ]
  },
  {
   "cell_type": "code",
   "execution_count": 105,
   "id": "4770df50",
   "metadata": {
    "ExecuteTime": {
     "end_time": "2021-08-10T08:59:32.476037Z",
     "start_time": "2021-08-10T08:59:32.470053Z"
    }
   },
   "outputs": [
    {
     "data": {
      "text/plain": [
       "'서울'"
      ]
     },
     "execution_count": 105,
     "metadata": {},
     "output_type": "execute_result"
    }
   ],
   "source": [
    "tag_text = re.search(r'<city>(.+)</city>', parsing_string)\n",
    "tag_text.group(1)"
   ]
  },
  {
   "cell_type": "code",
   "execution_count": 107,
   "id": "db018fb6",
   "metadata": {
    "ExecuteTime": {
     "end_time": "2021-08-10T08:59:57.909075Z",
     "start_time": "2021-08-10T08:59:57.894115Z"
    }
   },
   "outputs": [
    {
     "data": {
      "text/plain": [
       "['<city>서울</city>']"
      ]
     },
     "execution_count": 107,
     "metadata": {},
     "output_type": "execute_result"
    }
   ],
   "source": [
    "tag = re.findall(r'<city>.+?</city>', parsing_string, re.DOTALL)\n",
    "tag"
   ]
  },
  {
   "cell_type": "code",
   "execution_count": 108,
   "id": "878b3059",
   "metadata": {
    "ExecuteTime": {
     "end_time": "2021-08-10T09:03:17.236021Z",
     "start_time": "2021-08-10T09:03:17.222062Z"
    },
    "scrolled": true
   },
   "outputs": [
    {
     "data": {
      "text/plain": [
       "'이 영화 좋아요  이 영화 추천합니다'"
      ]
     },
     "execution_count": 108,
     "metadata": {},
     "output_type": "execute_result"
    }
   ],
   "source": [
    "# 특수문자 뺴기\n",
    "text = \"이 영화 좋아요 ★ 이 영화 추천합니다.♣\"\n",
    "msg = re.findall(r'[가-힣a-zA-Z0-9 ]', text)\n",
    "''.join(msg)"
   ]
  },
  {
   "cell_type": "markdown",
   "id": "a95ab583",
   "metadata": {
    "ExecuteTime": {
     "end_time": "2021-08-10T09:04:01.616478Z",
     "start_time": "2021-08-10T09:04:01.606495Z"
    }
   },
   "source": [
    "## 전국날씨 RSS데이터 가져오기"
   ]
  },
  {
   "cell_type": "code",
   "execution_count": 120,
   "id": "fd612daa",
   "metadata": {
    "ExecuteTime": {
     "end_time": "2021-08-10T09:21:18.024195Z",
     "start_time": "2021-08-10T09:21:17.959836Z"
    }
   },
   "outputs": [
    {
     "name": "stdout",
     "output_type": "stream",
     "text": [
      "서울ㆍ인천ㆍ경기도 지역의 서울 도시의 날씨입니다.\n",
      "2021-08-13 00:00\n",
      "2021-08-13 12:00\n",
      "2021-08-14 00:00\n",
      "2021-08-14 12:00\n",
      "2021-08-15 00:00\n",
      "2021-08-15 12:00\n",
      "2021-08-16 00:00\n",
      "2021-08-16 12:00\n",
      "2021-08-17 00:00\n",
      "2021-08-17 12:00\n",
      "2021-08-18 00:00\n",
      "2021-08-19 00:00\n",
      "2021-08-20 00:00\n",
      "서울ㆍ인천ㆍ경기도 지역의 인천 도시의 날씨입니다.\n",
      "2021-08-13 00:00\n",
      "2021-08-13 12:00\n",
      "2021-08-14 00:00\n",
      "2021-08-14 12:00\n",
      "2021-08-15 00:00\n",
      "2021-08-15 12:00\n",
      "2021-08-16 00:00\n",
      "2021-08-16 12:00\n",
      "2021-08-17 00:00\n",
      "2021-08-17 12:00\n",
      "2021-08-18 00:00\n",
      "2021-08-19 00:00\n",
      "2021-08-20 00:00\n",
      "서울ㆍ인천ㆍ경기도 지역의 수원 도시의 날씨입니다.\n",
      "2021-08-13 00:00\n",
      "2021-08-13 12:00\n",
      "2021-08-14 00:00\n",
      "2021-08-14 12:00\n",
      "2021-08-15 00:00\n",
      "2021-08-15 12:00\n",
      "2021-08-16 00:00\n",
      "2021-08-16 12:00\n",
      "2021-08-17 00:00\n",
      "2021-08-17 12:00\n",
      "2021-08-18 00:00\n",
      "2021-08-19 00:00\n",
      "2021-08-20 00:00\n",
      "서울ㆍ인천ㆍ경기도 지역의 파주 도시의 날씨입니다.\n",
      "2021-08-13 00:00\n",
      "2021-08-13 12:00\n",
      "2021-08-14 00:00\n",
      "2021-08-14 12:00\n",
      "2021-08-15 00:00\n",
      "2021-08-15 12:00\n",
      "2021-08-16 00:00\n",
      "2021-08-16 12:00\n",
      "2021-08-17 00:00\n",
      "2021-08-17 12:00\n",
      "2021-08-18 00:00\n",
      "2021-08-19 00:00\n",
      "2021-08-20 00:00\n",
      "서울ㆍ인천ㆍ경기도 지역의 이천 도시의 날씨입니다.\n",
      "2021-08-13 00:00\n",
      "2021-08-13 12:00\n",
      "2021-08-14 00:00\n",
      "2021-08-14 12:00\n",
      "2021-08-15 00:00\n",
      "2021-08-15 12:00\n",
      "2021-08-16 00:00\n",
      "2021-08-16 12:00\n",
      "2021-08-17 00:00\n",
      "2021-08-17 12:00\n",
      "2021-08-18 00:00\n",
      "2021-08-19 00:00\n",
      "2021-08-20 00:00\n",
      "서울ㆍ인천ㆍ경기도 지역의 평택 도시의 날씨입니다.\n",
      "2021-08-13 00:00\n",
      "2021-08-13 12:00\n",
      "2021-08-14 00:00\n",
      "2021-08-14 12:00\n",
      "2021-08-15 00:00\n",
      "2021-08-15 12:00\n",
      "2021-08-16 00:00\n",
      "2021-08-16 12:00\n",
      "2021-08-17 00:00\n",
      "2021-08-17 12:00\n",
      "2021-08-18 00:00\n",
      "2021-08-19 00:00\n",
      "2021-08-20 00:00\n",
      "강원도영서 지역의 춘천 도시의 날씨입니다.\n",
      "2021-08-13 00:00\n",
      "2021-08-13 12:00\n",
      "2021-08-14 00:00\n",
      "2021-08-14 12:00\n",
      "2021-08-15 00:00\n",
      "2021-08-15 12:00\n",
      "2021-08-16 00:00\n",
      "2021-08-16 12:00\n",
      "2021-08-17 00:00\n",
      "2021-08-17 12:00\n",
      "2021-08-18 00:00\n",
      "2021-08-19 00:00\n",
      "2021-08-20 00:00\n",
      "강원도영서 지역의 원주 도시의 날씨입니다.\n",
      "2021-08-13 00:00\n",
      "2021-08-13 12:00\n",
      "2021-08-14 00:00\n",
      "2021-08-14 12:00\n",
      "2021-08-15 00:00\n",
      "2021-08-15 12:00\n",
      "2021-08-16 00:00\n",
      "2021-08-16 12:00\n",
      "2021-08-17 00:00\n",
      "2021-08-17 12:00\n",
      "2021-08-18 00:00\n",
      "2021-08-19 00:00\n",
      "2021-08-20 00:00\n",
      "강원도영동 지역의 강릉 도시의 날씨입니다.\n",
      "2021-08-13 00:00\n",
      "2021-08-13 12:00\n",
      "2021-08-14 00:00\n",
      "2021-08-14 12:00\n",
      "2021-08-15 00:00\n",
      "2021-08-15 12:00\n",
      "2021-08-16 00:00\n",
      "2021-08-16 12:00\n",
      "2021-08-17 00:00\n",
      "2021-08-17 12:00\n",
      "2021-08-18 00:00\n",
      "2021-08-19 00:00\n",
      "2021-08-20 00:00\n",
      "대전ㆍ세종ㆍ충청남도 지역의 대전 도시의 날씨입니다.\n",
      "2021-08-13 00:00\n",
      "2021-08-13 12:00\n",
      "2021-08-14 00:00\n",
      "2021-08-14 12:00\n",
      "2021-08-15 00:00\n",
      "2021-08-15 12:00\n",
      "2021-08-16 00:00\n",
      "2021-08-16 12:00\n",
      "2021-08-17 00:00\n",
      "2021-08-17 12:00\n",
      "2021-08-18 00:00\n",
      "2021-08-19 00:00\n",
      "2021-08-20 00:00\n",
      "대전ㆍ세종ㆍ충청남도 지역의 세종 도시의 날씨입니다.\n",
      "2021-08-13 00:00\n",
      "2021-08-13 12:00\n",
      "2021-08-14 00:00\n",
      "2021-08-14 12:00\n",
      "2021-08-15 00:00\n",
      "2021-08-15 12:00\n",
      "2021-08-16 00:00\n",
      "2021-08-16 12:00\n",
      "2021-08-17 00:00\n",
      "2021-08-17 12:00\n",
      "2021-08-18 00:00\n",
      "2021-08-19 00:00\n",
      "2021-08-20 00:00\n",
      "대전ㆍ세종ㆍ충청남도 지역의 홍성 도시의 날씨입니다.\n",
      "2021-08-13 00:00\n",
      "2021-08-13 12:00\n",
      "2021-08-14 00:00\n",
      "2021-08-14 12:00\n",
      "2021-08-15 00:00\n",
      "2021-08-15 12:00\n",
      "2021-08-16 00:00\n",
      "2021-08-16 12:00\n",
      "2021-08-17 00:00\n",
      "2021-08-17 12:00\n",
      "2021-08-18 00:00\n",
      "2021-08-19 00:00\n",
      "2021-08-20 00:00\n",
      "충청북도 지역의 청주 도시의 날씨입니다.\n",
      "2021-08-13 00:00\n",
      "2021-08-13 12:00\n",
      "2021-08-14 00:00\n",
      "2021-08-14 12:00\n",
      "2021-08-15 00:00\n",
      "2021-08-15 12:00\n",
      "2021-08-16 00:00\n",
      "2021-08-16 12:00\n",
      "2021-08-17 00:00\n",
      "2021-08-17 12:00\n",
      "2021-08-18 00:00\n",
      "2021-08-19 00:00\n",
      "2021-08-20 00:00\n",
      "충청북도 지역의 충주 도시의 날씨입니다.\n",
      "2021-08-13 00:00\n",
      "2021-08-13 12:00\n",
      "2021-08-14 00:00\n",
      "2021-08-14 12:00\n",
      "2021-08-15 00:00\n",
      "2021-08-15 12:00\n",
      "2021-08-16 00:00\n",
      "2021-08-16 12:00\n",
      "2021-08-17 00:00\n",
      "2021-08-17 12:00\n",
      "2021-08-18 00:00\n",
      "2021-08-19 00:00\n",
      "2021-08-20 00:00\n",
      "충청북도 지역의 영동 도시의 날씨입니다.\n",
      "2021-08-13 00:00\n",
      "2021-08-13 12:00\n",
      "2021-08-14 00:00\n",
      "2021-08-14 12:00\n",
      "2021-08-15 00:00\n",
      "2021-08-15 12:00\n",
      "2021-08-16 00:00\n",
      "2021-08-16 12:00\n",
      "2021-08-17 00:00\n",
      "2021-08-17 12:00\n",
      "2021-08-18 00:00\n",
      "2021-08-19 00:00\n",
      "2021-08-20 00:00\n",
      "광주ㆍ전라남도 지역의 광주 도시의 날씨입니다.\n",
      "2021-08-13 00:00\n",
      "2021-08-13 12:00\n",
      "2021-08-14 00:00\n",
      "2021-08-14 12:00\n",
      "2021-08-15 00:00\n",
      "2021-08-15 12:00\n",
      "2021-08-16 00:00\n",
      "2021-08-16 12:00\n",
      "2021-08-17 00:00\n",
      "2021-08-17 12:00\n",
      "2021-08-18 00:00\n",
      "2021-08-19 00:00\n",
      "2021-08-20 00:00\n",
      "광주ㆍ전라남도 지역의 목포 도시의 날씨입니다.\n",
      "2021-08-13 00:00\n",
      "2021-08-13 12:00\n",
      "2021-08-14 00:00\n",
      "2021-08-14 12:00\n",
      "2021-08-15 00:00\n",
      "2021-08-15 12:00\n",
      "2021-08-16 00:00\n",
      "2021-08-16 12:00\n",
      "2021-08-17 00:00\n",
      "2021-08-17 12:00\n",
      "2021-08-18 00:00\n",
      "2021-08-19 00:00\n",
      "2021-08-20 00:00\n",
      "광주ㆍ전라남도 지역의 여수 도시의 날씨입니다.\n",
      "2021-08-13 00:00\n",
      "2021-08-13 12:00\n",
      "2021-08-14 00:00\n",
      "2021-08-14 12:00\n",
      "2021-08-15 00:00\n",
      "2021-08-15 12:00\n",
      "2021-08-16 00:00\n",
      "2021-08-16 12:00\n",
      "2021-08-17 00:00\n",
      "2021-08-17 12:00\n",
      "2021-08-18 00:00\n",
      "2021-08-19 00:00\n",
      "2021-08-20 00:00\n",
      "광주ㆍ전라남도 지역의 순천 도시의 날씨입니다.\n",
      "2021-08-13 00:00\n",
      "2021-08-13 12:00\n",
      "2021-08-14 00:00\n",
      "2021-08-14 12:00\n",
      "2021-08-15 00:00\n",
      "2021-08-15 12:00\n",
      "2021-08-16 00:00\n",
      "2021-08-16 12:00\n",
      "2021-08-17 00:00\n",
      "2021-08-17 12:00\n",
      "2021-08-18 00:00\n",
      "2021-08-19 00:00\n",
      "2021-08-20 00:00\n",
      "광주ㆍ전라남도 지역의 광양 도시의 날씨입니다.\n",
      "2021-08-13 00:00\n",
      "2021-08-13 12:00\n",
      "2021-08-14 00:00\n",
      "2021-08-14 12:00\n",
      "2021-08-15 00:00\n",
      "2021-08-15 12:00\n",
      "2021-08-16 00:00\n",
      "2021-08-16 12:00\n",
      "2021-08-17 00:00\n",
      "2021-08-17 12:00\n",
      "2021-08-18 00:00\n",
      "2021-08-19 00:00\n",
      "2021-08-20 00:00\n",
      "광주ㆍ전라남도 지역의 나주 도시의 날씨입니다.\n",
      "2021-08-13 00:00\n",
      "2021-08-13 12:00\n",
      "2021-08-14 00:00\n",
      "2021-08-14 12:00\n",
      "2021-08-15 00:00\n",
      "2021-08-15 12:00\n",
      "2021-08-16 00:00\n",
      "2021-08-16 12:00\n",
      "2021-08-17 00:00\n",
      "2021-08-17 12:00\n",
      "2021-08-18 00:00\n",
      "2021-08-19 00:00\n",
      "2021-08-20 00:00\n",
      "전라북도 지역의 전주 도시의 날씨입니다.\n",
      "2021-08-13 00:00\n",
      "2021-08-13 12:00\n",
      "2021-08-14 00:00\n",
      "2021-08-14 12:00\n",
      "2021-08-15 00:00\n",
      "2021-08-15 12:00\n",
      "2021-08-16 00:00\n",
      "2021-08-16 12:00\n",
      "2021-08-17 00:00\n",
      "2021-08-17 12:00\n",
      "2021-08-18 00:00\n",
      "2021-08-19 00:00\n",
      "2021-08-20 00:00\n",
      "전라북도 지역의 군산 도시의 날씨입니다.\n",
      "2021-08-13 00:00\n",
      "2021-08-13 12:00\n",
      "2021-08-14 00:00\n",
      "2021-08-14 12:00\n",
      "2021-08-15 00:00\n",
      "2021-08-15 12:00\n",
      "2021-08-16 00:00\n",
      "2021-08-16 12:00\n",
      "2021-08-17 00:00\n",
      "2021-08-17 12:00\n",
      "2021-08-18 00:00\n",
      "2021-08-19 00:00\n",
      "2021-08-20 00:00\n",
      "전라북도 지역의 정읍 도시의 날씨입니다.\n",
      "2021-08-13 00:00\n",
      "2021-08-13 12:00\n",
      "2021-08-14 00:00\n",
      "2021-08-14 12:00\n",
      "2021-08-15 00:00\n",
      "2021-08-15 12:00\n",
      "2021-08-16 00:00\n",
      "2021-08-16 12:00\n",
      "2021-08-17 00:00\n",
      "2021-08-17 12:00\n",
      "2021-08-18 00:00\n",
      "2021-08-19 00:00\n",
      "2021-08-20 00:00\n",
      "전라북도 지역의 남원 도시의 날씨입니다.\n",
      "2021-08-13 00:00\n",
      "2021-08-13 12:00\n",
      "2021-08-14 00:00\n",
      "2021-08-14 12:00\n",
      "2021-08-15 00:00\n",
      "2021-08-15 12:00\n",
      "2021-08-16 00:00\n",
      "2021-08-16 12:00\n",
      "2021-08-17 00:00\n",
      "2021-08-17 12:00\n",
      "2021-08-18 00:00\n",
      "2021-08-19 00:00\n",
      "2021-08-20 00:00\n",
      "전라북도 지역의 고창 도시의 날씨입니다.\n",
      "2021-08-13 00:00\n",
      "2021-08-13 12:00\n",
      "2021-08-14 00:00\n",
      "2021-08-14 12:00\n",
      "2021-08-15 00:00\n",
      "2021-08-15 12:00\n",
      "2021-08-16 00:00\n",
      "2021-08-16 12:00\n",
      "2021-08-17 00:00\n",
      "2021-08-17 12:00\n",
      "2021-08-18 00:00\n",
      "2021-08-19 00:00\n",
      "2021-08-20 00:00\n",
      "전라북도 지역의 무주 도시의 날씨입니다.\n",
      "2021-08-13 00:00\n",
      "2021-08-13 12:00\n",
      "2021-08-14 00:00\n",
      "2021-08-14 12:00\n",
      "2021-08-15 00:00\n",
      "2021-08-15 12:00\n",
      "2021-08-16 00:00\n",
      "2021-08-16 12:00\n",
      "2021-08-17 00:00\n",
      "2021-08-17 12:00\n",
      "2021-08-18 00:00\n",
      "2021-08-19 00:00\n",
      "2021-08-20 00:00\n",
      "부산ㆍ울산ㆍ경상남도 지역의 부산 도시의 날씨입니다.\n",
      "2021-08-13 00:00\n",
      "2021-08-13 12:00\n",
      "2021-08-14 00:00\n",
      "2021-08-14 12:00\n",
      "2021-08-15 00:00\n",
      "2021-08-15 12:00\n",
      "2021-08-16 00:00\n",
      "2021-08-16 12:00\n",
      "2021-08-17 00:00\n",
      "2021-08-17 12:00\n",
      "2021-08-18 00:00\n",
      "2021-08-19 00:00\n",
      "2021-08-20 00:00\n",
      "부산ㆍ울산ㆍ경상남도 지역의 울산 도시의 날씨입니다.\n",
      "2021-08-13 00:00\n",
      "2021-08-13 12:00\n",
      "2021-08-14 00:00\n",
      "2021-08-14 12:00\n",
      "2021-08-15 00:00\n",
      "2021-08-15 12:00\n",
      "2021-08-16 00:00\n",
      "2021-08-16 12:00\n",
      "2021-08-17 00:00\n",
      "2021-08-17 12:00\n",
      "2021-08-18 00:00\n",
      "2021-08-19 00:00\n",
      "2021-08-20 00:00\n",
      "부산ㆍ울산ㆍ경상남도 지역의 창원 도시의 날씨입니다.\n",
      "2021-08-13 00:00\n",
      "2021-08-13 12:00\n",
      "2021-08-14 00:00\n",
      "2021-08-14 12:00\n",
      "2021-08-15 00:00\n",
      "2021-08-15 12:00\n",
      "2021-08-16 00:00\n",
      "2021-08-16 12:00\n",
      "2021-08-17 00:00\n",
      "2021-08-17 12:00\n",
      "2021-08-18 00:00\n",
      "2021-08-19 00:00\n",
      "2021-08-20 00:00\n",
      "부산ㆍ울산ㆍ경상남도 지역의 진주 도시의 날씨입니다.\n",
      "2021-08-13 00:00\n",
      "2021-08-13 12:00\n",
      "2021-08-14 00:00\n",
      "2021-08-14 12:00\n",
      "2021-08-15 00:00\n",
      "2021-08-15 12:00\n",
      "2021-08-16 00:00\n",
      "2021-08-16 12:00\n",
      "2021-08-17 00:00\n",
      "2021-08-17 12:00\n",
      "2021-08-18 00:00\n",
      "2021-08-19 00:00\n",
      "2021-08-20 00:00\n",
      "부산ㆍ울산ㆍ경상남도 지역의 거창 도시의 날씨입니다.\n",
      "2021-08-13 00:00\n",
      "2021-08-13 12:00\n",
      "2021-08-14 00:00\n",
      "2021-08-14 12:00\n",
      "2021-08-15 00:00\n",
      "2021-08-15 12:00\n",
      "2021-08-16 00:00\n",
      "2021-08-16 12:00\n",
      "2021-08-17 00:00\n",
      "2021-08-17 12:00\n",
      "2021-08-18 00:00\n",
      "2021-08-19 00:00\n",
      "2021-08-20 00:00\n",
      "부산ㆍ울산ㆍ경상남도 지역의 통영 도시의 날씨입니다.\n",
      "2021-08-13 00:00\n",
      "2021-08-13 12:00\n",
      "2021-08-14 00:00\n",
      "2021-08-14 12:00\n",
      "2021-08-15 00:00\n",
      "2021-08-15 12:00\n",
      "2021-08-16 00:00\n",
      "2021-08-16 12:00\n",
      "2021-08-17 00:00\n",
      "2021-08-17 12:00\n",
      "2021-08-18 00:00\n",
      "2021-08-19 00:00\n",
      "2021-08-20 00:00\n",
      "대구ㆍ경상북도 지역의 대구 도시의 날씨입니다.\n",
      "2021-08-13 00:00\n",
      "2021-08-13 12:00\n",
      "2021-08-14 00:00\n",
      "2021-08-14 12:00\n",
      "2021-08-15 00:00\n",
      "2021-08-15 12:00\n",
      "2021-08-16 00:00\n",
      "2021-08-16 12:00\n",
      "2021-08-17 00:00\n",
      "2021-08-17 12:00\n",
      "2021-08-18 00:00\n",
      "2021-08-19 00:00\n",
      "2021-08-20 00:00\n",
      "대구ㆍ경상북도 지역의 안동 도시의 날씨입니다.\n",
      "2021-08-13 00:00\n",
      "2021-08-13 12:00\n",
      "2021-08-14 00:00\n",
      "2021-08-14 12:00\n",
      "2021-08-15 00:00\n",
      "2021-08-15 12:00\n",
      "2021-08-16 00:00\n",
      "2021-08-16 12:00\n",
      "2021-08-17 00:00\n",
      "2021-08-17 12:00\n",
      "2021-08-18 00:00\n",
      "2021-08-19 00:00\n",
      "2021-08-20 00:00\n",
      "대구ㆍ경상북도 지역의 포항 도시의 날씨입니다.\n",
      "2021-08-13 00:00\n",
      "2021-08-13 12:00\n",
      "2021-08-14 00:00\n",
      "2021-08-14 12:00\n",
      "2021-08-15 00:00\n",
      "2021-08-15 12:00\n",
      "2021-08-16 00:00\n",
      "2021-08-16 12:00\n",
      "2021-08-17 00:00\n",
      "2021-08-17 12:00\n",
      "2021-08-18 00:00\n",
      "2021-08-19 00:00\n",
      "2021-08-20 00:00\n",
      "대구ㆍ경상북도 지역의 경주 도시의 날씨입니다.\n",
      "2021-08-13 00:00\n",
      "2021-08-13 12:00\n",
      "2021-08-14 00:00\n",
      "2021-08-14 12:00\n",
      "2021-08-15 00:00\n",
      "2021-08-15 12:00\n",
      "2021-08-16 00:00\n",
      "2021-08-16 12:00\n",
      "2021-08-17 00:00\n",
      "2021-08-17 12:00\n",
      "2021-08-18 00:00\n",
      "2021-08-19 00:00\n",
      "2021-08-20 00:00\n",
      "대구ㆍ경상북도 지역의 울진 도시의 날씨입니다.\n",
      "2021-08-13 00:00\n",
      "2021-08-13 12:00\n",
      "2021-08-14 00:00\n",
      "2021-08-14 12:00\n",
      "2021-08-15 00:00\n",
      "2021-08-15 12:00\n",
      "2021-08-16 00:00\n",
      "2021-08-16 12:00\n",
      "2021-08-17 00:00\n",
      "2021-08-17 12:00\n",
      "2021-08-18 00:00\n",
      "2021-08-19 00:00\n",
      "2021-08-20 00:00\n",
      "대구ㆍ경상북도 지역의 울릉도 도시의 날씨입니다.\n",
      "2021-08-13 00:00\n",
      "2021-08-13 12:00\n",
      "2021-08-14 00:00\n",
      "2021-08-14 12:00\n",
      "2021-08-15 00:00\n",
      "2021-08-15 12:00\n",
      "2021-08-16 00:00\n",
      "2021-08-16 12:00\n",
      "2021-08-17 00:00\n",
      "2021-08-17 12:00\n",
      "2021-08-18 00:00\n",
      "2021-08-19 00:00\n",
      "2021-08-20 00:00\n",
      "제주도 지역의 제주 도시의 날씨입니다.\n",
      "2021-08-13 00:00\n",
      "2021-08-13 12:00\n",
      "2021-08-14 00:00\n",
      "2021-08-14 12:00\n",
      "2021-08-15 00:00\n",
      "2021-08-15 12:00\n",
      "2021-08-16 00:00\n",
      "2021-08-16 12:00\n",
      "2021-08-17 00:00\n",
      "2021-08-17 12:00\n",
      "2021-08-18 00:00\n",
      "2021-08-19 00:00\n",
      "2021-08-20 00:00\n",
      "제주도 지역의 서귀포 도시의 날씨입니다.\n",
      "2021-08-13 00:00\n",
      "2021-08-13 12:00\n",
      "2021-08-14 00:00\n",
      "2021-08-14 12:00\n",
      "2021-08-15 00:00\n",
      "2021-08-15 12:00\n",
      "2021-08-16 00:00\n",
      "2021-08-16 12:00\n",
      "2021-08-17 00:00\n",
      "2021-08-17 12:00\n",
      "2021-08-18 00:00\n",
      "2021-08-19 00:00\n",
      "2021-08-20 00:00\n"
     ]
    }
   ],
   "source": [
    "import re, urllib.request\n",
    "url= \"http://www.kma.go.kr/weather/forecast/mid-term-rss3.jsp?stnId=108\"\n",
    "# 구글 : 전국날씨 rss검색 - 사이트 접속 - 전국 rss 버튼 클릭\n",
    "target = urllib.request.urlopen(url)\n",
    "contents = target.read().decode('utf-8')\n",
    "# re.ROTALL : 정규표현식의 .에 줄바꿈문자(\\n)를 포함\n",
    "locations = re.findall(r'<location wl_ver=\"3\">.+?</location>', contents, re.DOTALL) # \\n도 정규표현식의 .에 포함됨.\n",
    "for loc in locations:\n",
    "    province = re.search(r'<province.(.+)</province>', loc)\n",
    "    city = re.search(r'<city>(.+)</city>', loc)\n",
    "    print(province.group(1), \"지역의\", city.group(1), '도시의 날씨입니다.')\n",
    "    data = re.findall(r'<data>.+?</data>',loc, re.DOTALL) # 데이터 사이에 엔터가 역슬래쉬로 들어가 있는 것을 제거?\n",
    "    for item in data:\n",
    "        tmEf = re.search(r'<tmEf>(.+)</tmEf>', item).group(1)\n",
    "        print(tmEf)"
   ]
  },
  {
   "cell_type": "code",
   "execution_count": null,
   "id": "6dacaea0",
   "metadata": {},
   "outputs": [],
   "source": []
  },
  {
   "cell_type": "code",
   "execution_count": null,
   "id": "b5ace502",
   "metadata": {},
   "outputs": [],
   "source": []
  },
  {
   "cell_type": "code",
   "execution_count": null,
   "id": "5052d885",
   "metadata": {},
   "outputs": [],
   "source": []
  },
  {
   "cell_type": "code",
   "execution_count": null,
   "id": "a9e97c22",
   "metadata": {},
   "outputs": [],
   "source": []
  },
  {
   "cell_type": "markdown",
   "id": "f18ed21a",
   "metadata": {},
   "source": [
    "# BeautifulSoup을 이용한 xml 크롤링"
   ]
  },
  {
   "cell_type": "code",
   "execution_count": 17,
   "id": "8d30dafc",
   "metadata": {
    "ExecuteTime": {
     "end_time": "2021-08-11T04:25:28.063355Z",
     "start_time": "2021-08-11T04:25:27.735008Z"
    }
   },
   "outputs": [
    {
     "name": "stdout",
     "output_type": "stream",
     "text": [
      "서울ㆍ인천ㆍ경기도 지역의  서울 도시 날씨입니다.\n",
      "\t2021-08-14 오전 날씨 : 흐림, 최저 : 24도, 최고 : 31도\n",
      "\t2021-08-14 오전 날씨 : 흐림, 최저 : 24도, 최고 : 31도\n",
      "\t2021-08-15 오전 날씨 : 맑음, 최저 : 23도, 최고 : 31도\n",
      "\t2021-08-15 오전 날씨 : 구름많음, 최저 : 23도, 최고 : 31도\n",
      "\t2021-08-16 오전 날씨 : 맑음, 최저 : 23도, 최고 : 31도\n",
      "\t2021-08-16 오전 날씨 : 구름많음, 최저 : 23도, 최고 : 31도\n",
      "\t2021-08-17 오전 날씨 : 맑음, 최저 : 23도, 최고 : 31도\n",
      "\t2021-08-17 오전 날씨 : 구름많음, 최저 : 23도, 최고 : 31도\n",
      "\t2021-08-18 오전 날씨 : 맑음, 최저 : 23도, 최고 : 31도\n",
      "\t2021-08-18 오전 날씨 : 맑음, 최저 : 23도, 최고 : 31도\n",
      "\t2021-08-19 오전 날씨 : 맑음, 최저 : 23도, 최고 : 31도\n",
      "\t2021-08-20 오전 날씨 : 흐림, 최저 : 23도, 최고 : 31도\n",
      "\t2021-08-21 오전 날씨 : 흐리고 비, 최저 : 24도, 최고 : 30도\n",
      "서울ㆍ인천ㆍ경기도 지역의  인천 도시 날씨입니다.\n",
      "\t2021-08-14 오전 날씨 : 흐림, 최저 : 24도, 최고 : 30도\n",
      "\t2021-08-14 오전 날씨 : 흐림, 최저 : 24도, 최고 : 30도\n",
      "\t2021-08-15 오전 날씨 : 맑음, 최저 : 24도, 최고 : 30도\n",
      "\t2021-08-15 오전 날씨 : 구름많음, 최저 : 24도, 최고 : 30도\n",
      "\t2021-08-16 오전 날씨 : 맑음, 최저 : 24도, 최고 : 30도\n",
      "\t2021-08-16 오전 날씨 : 구름많음, 최저 : 24도, 최고 : 30도\n",
      "\t2021-08-17 오전 날씨 : 맑음, 최저 : 23도, 최고 : 30도\n",
      "\t2021-08-17 오전 날씨 : 구름많음, 최저 : 23도, 최고 : 30도\n",
      "\t2021-08-18 오전 날씨 : 맑음, 최저 : 23도, 최고 : 30도\n",
      "\t2021-08-18 오전 날씨 : 맑음, 최저 : 23도, 최고 : 30도\n",
      "\t2021-08-19 오전 날씨 : 맑음, 최저 : 24도, 최고 : 30도\n",
      "\t2021-08-20 오전 날씨 : 흐림, 최저 : 24도, 최고 : 30도\n",
      "\t2021-08-21 오전 날씨 : 흐리고 비, 최저 : 24도, 최고 : 29도\n",
      "서울ㆍ인천ㆍ경기도 지역의  수원 도시 날씨입니다.\n",
      "\t2021-08-14 오전 날씨 : 흐림, 최저 : 24도, 최고 : 31도\n",
      "\t2021-08-14 오전 날씨 : 흐림, 최저 : 24도, 최고 : 31도\n",
      "\t2021-08-15 오전 날씨 : 맑음, 최저 : 22도, 최고 : 32도\n",
      "\t2021-08-15 오전 날씨 : 구름많음, 최저 : 22도, 최고 : 32도\n",
      "\t2021-08-16 오전 날씨 : 맑음, 최저 : 23도, 최고 : 31도\n",
      "\t2021-08-16 오전 날씨 : 구름많음, 최저 : 23도, 최고 : 31도\n",
      "\t2021-08-17 오전 날씨 : 맑음, 최저 : 22도, 최고 : 31도\n",
      "\t2021-08-17 오전 날씨 : 구름많음, 최저 : 22도, 최고 : 31도\n",
      "\t2021-08-18 오전 날씨 : 맑음, 최저 : 22도, 최고 : 31도\n",
      "\t2021-08-18 오전 날씨 : 맑음, 최저 : 22도, 최고 : 31도\n",
      "\t2021-08-19 오전 날씨 : 맑음, 최저 : 23도, 최고 : 31도\n",
      "\t2021-08-20 오전 날씨 : 흐림, 최저 : 22도, 최고 : 31도\n",
      "\t2021-08-21 오전 날씨 : 흐리고 비, 최저 : 23도, 최고 : 30도\n",
      "서울ㆍ인천ㆍ경기도 지역의  파주 도시 날씨입니다.\n",
      "\t2021-08-14 오전 날씨 : 흐림, 최저 : 21도, 최고 : 30도\n",
      "\t2021-08-14 오전 날씨 : 흐림, 최저 : 21도, 최고 : 30도\n",
      "\t2021-08-15 오전 날씨 : 맑음, 최저 : 20도, 최고 : 30도\n",
      "\t2021-08-15 오전 날씨 : 구름많음, 최저 : 20도, 최고 : 30도\n",
      "\t2021-08-16 오전 날씨 : 맑음, 최저 : 20도, 최고 : 30도\n",
      "\t2021-08-16 오전 날씨 : 구름많음, 최저 : 20도, 최고 : 30도\n",
      "\t2021-08-17 오전 날씨 : 맑음, 최저 : 20도, 최고 : 31도\n",
      "\t2021-08-17 오전 날씨 : 구름많음, 최저 : 20도, 최고 : 31도\n",
      "\t2021-08-18 오전 날씨 : 맑음, 최저 : 20도, 최고 : 31도\n",
      "\t2021-08-18 오전 날씨 : 맑음, 최저 : 20도, 최고 : 31도\n",
      "\t2021-08-19 오전 날씨 : 맑음, 최저 : 21도, 최고 : 30도\n",
      "\t2021-08-20 오전 날씨 : 흐림, 최저 : 21도, 최고 : 30도\n",
      "\t2021-08-21 오전 날씨 : 흐리고 비, 최저 : 21도, 최고 : 30도\n",
      "서울ㆍ인천ㆍ경기도 지역의  이천 도시 날씨입니다.\n",
      "\t2021-08-14 오전 날씨 : 흐림, 최저 : 22도, 최고 : 30도\n",
      "\t2021-08-14 오전 날씨 : 흐림, 최저 : 22도, 최고 : 30도\n",
      "\t2021-08-15 오전 날씨 : 맑음, 최저 : 21도, 최고 : 31도\n",
      "\t2021-08-15 오전 날씨 : 구름많음, 최저 : 21도, 최고 : 31도\n",
      "\t2021-08-16 오전 날씨 : 맑음, 최저 : 21도, 최고 : 31도\n",
      "\t2021-08-16 오전 날씨 : 구름많음, 최저 : 21도, 최고 : 31도\n",
      "\t2021-08-17 오전 날씨 : 맑음, 최저 : 20도, 최고 : 32도\n",
      "\t2021-08-17 오전 날씨 : 구름많음, 최저 : 20도, 최고 : 32도\n",
      "\t2021-08-18 오전 날씨 : 맑음, 최저 : 20도, 최고 : 31도\n",
      "\t2021-08-18 오전 날씨 : 맑음, 최저 : 20도, 최고 : 31도\n",
      "\t2021-08-19 오전 날씨 : 맑음, 최저 : 21도, 최고 : 31도\n",
      "\t2021-08-20 오전 날씨 : 흐림, 최저 : 21도, 최고 : 31도\n",
      "\t2021-08-21 오전 날씨 : 흐리고 비, 최저 : 21도, 최고 : 30도\n",
      "서울ㆍ인천ㆍ경기도 지역의  평택 도시 날씨입니다.\n",
      "\t2021-08-14 오전 날씨 : 흐림, 최저 : 23도, 최고 : 31도\n",
      "\t2021-08-14 오전 날씨 : 흐림, 최저 : 23도, 최고 : 31도\n",
      "\t2021-08-15 오전 날씨 : 맑음, 최저 : 22도, 최고 : 32도\n",
      "\t2021-08-15 오전 날씨 : 구름많음, 최저 : 22도, 최고 : 32도\n",
      "\t2021-08-16 오전 날씨 : 맑음, 최저 : 23도, 최고 : 31도\n",
      "\t2021-08-16 오전 날씨 : 구름많음, 최저 : 23도, 최고 : 31도\n",
      "\t2021-08-17 오전 날씨 : 맑음, 최저 : 22도, 최고 : 31도\n",
      "\t2021-08-17 오전 날씨 : 구름많음, 최저 : 22도, 최고 : 31도\n",
      "\t2021-08-18 오전 날씨 : 맑음, 최저 : 22도, 최고 : 31도\n",
      "\t2021-08-18 오전 날씨 : 맑음, 최저 : 22도, 최고 : 31도\n",
      "\t2021-08-19 오전 날씨 : 맑음, 최저 : 23도, 최고 : 31도\n",
      "\t2021-08-20 오전 날씨 : 흐림, 최저 : 22도, 최고 : 31도\n",
      "\t2021-08-21 오전 날씨 : 흐리고 비, 최저 : 24도, 최고 : 31도\n",
      "강원도영서 지역의  춘천 도시 날씨입니다.\n",
      "\t2021-08-14 오전 날씨 : 흐림, 최저 : 22도, 최고 : 30도\n",
      "\t2021-08-14 오전 날씨 : 흐리고 비, 최저 : 22도, 최고 : 30도\n",
      "\t2021-08-15 오전 날씨 : 맑음, 최저 : 21도, 최고 : 31도\n",
      "\t2021-08-15 오전 날씨 : 구름많음, 최저 : 21도, 최고 : 31도\n",
      "\t2021-08-16 오전 날씨 : 구름많음, 최저 : 21도, 최고 : 31도\n",
      "\t2021-08-16 오전 날씨 : 구름많음, 최저 : 21도, 최고 : 31도\n",
      "\t2021-08-17 오전 날씨 : 구름많음, 최저 : 21도, 최고 : 31도\n",
      "\t2021-08-17 오전 날씨 : 구름많음, 최저 : 21도, 최고 : 31도\n",
      "\t2021-08-18 오전 날씨 : 맑음, 최저 : 21도, 최고 : 31도\n",
      "\t2021-08-18 오전 날씨 : 구름많음, 최저 : 21도, 최고 : 31도\n",
      "\t2021-08-19 오전 날씨 : 구름많음, 최저 : 21도, 최고 : 30도\n",
      "\t2021-08-20 오전 날씨 : 흐림, 최저 : 22도, 최고 : 30도\n",
      "\t2021-08-21 오전 날씨 : 흐리고 비, 최저 : 22도, 최고 : 30도\n",
      "강원도영서 지역의  원주 도시 날씨입니다.\n",
      "\t2021-08-14 오전 날씨 : 흐림, 최저 : 22도, 최고 : 29도\n",
      "\t2021-08-14 오전 날씨 : 흐리고 비, 최저 : 22도, 최고 : 29도\n",
      "\t2021-08-15 오전 날씨 : 맑음, 최저 : 21도, 최고 : 31도\n",
      "\t2021-08-15 오전 날씨 : 구름많음, 최저 : 21도, 최고 : 31도\n",
      "\t2021-08-16 오전 날씨 : 구름많음, 최저 : 21도, 최고 : 31도\n",
      "\t2021-08-16 오전 날씨 : 구름많음, 최저 : 21도, 최고 : 31도\n",
      "\t2021-08-17 오전 날씨 : 구름많음, 최저 : 21도, 최고 : 30도\n",
      "\t2021-08-17 오전 날씨 : 구름많음, 최저 : 21도, 최고 : 30도\n",
      "\t2021-08-18 오전 날씨 : 맑음, 최저 : 21도, 최고 : 31도\n",
      "\t2021-08-18 오전 날씨 : 구름많음, 최저 : 21도, 최고 : 31도\n",
      "\t2021-08-19 오전 날씨 : 구름많음, 최저 : 21도, 최고 : 31도\n",
      "\t2021-08-20 오전 날씨 : 흐림, 최저 : 22도, 최고 : 30도\n",
      "\t2021-08-21 오전 날씨 : 흐리고 비, 최저 : 22도, 최고 : 30도\n",
      "강원도영동 지역의  강릉 도시 날씨입니다.\n",
      "\t2021-08-14 오전 날씨 : 흐리고 비, 최저 : 23도, 최고 : 27도\n",
      "\t2021-08-14 오전 날씨 : 흐리고 비, 최저 : 23도, 최고 : 27도\n",
      "\t2021-08-15 오전 날씨 : 흐리고 비, 최저 : 22도, 최고 : 28도\n",
      "\t2021-08-15 오전 날씨 : 구름많고 비, 최저 : 22도, 최고 : 28도\n",
      "\t2021-08-16 오전 날씨 : 흐리고 비, 최저 : 22도, 최고 : 29도\n",
      "\t2021-08-16 오전 날씨 : 흐리고 비, 최저 : 22도, 최고 : 29도\n",
      "\t2021-08-17 오전 날씨 : 구름많고 비, 최저 : 22도, 최고 : 28도\n",
      "\t2021-08-17 오전 날씨 : 구름많음, 최저 : 22도, 최고 : 28도\n",
      "\t2021-08-18 오전 날씨 : 흐림, 최저 : 22도, 최고 : 28도\n",
      "\t2021-08-18 오전 날씨 : 흐림, 최저 : 22도, 최고 : 28도\n",
      "\t2021-08-19 오전 날씨 : 흐림, 최저 : 22도, 최고 : 29도\n",
      "\t2021-08-20 오전 날씨 : 구름많음, 최저 : 23도, 최고 : 29도\n",
      "\t2021-08-21 오전 날씨 : 흐림, 최저 : 23도, 최고 : 30도\n",
      "대전ㆍ세종ㆍ충청남도 지역의  대전 도시 날씨입니다.\n",
      "\t2021-08-14 오전 날씨 : 흐리고 비, 최저 : 23도, 최고 : 30도\n",
      "\t2021-08-14 오전 날씨 : 흐리고 비, 최저 : 23도, 최고 : 30도\n",
      "\t2021-08-15 오전 날씨 : 구름많음, 최저 : 22도, 최고 : 31도\n",
      "\t2021-08-15 오전 날씨 : 흐림, 최저 : 22도, 최고 : 31도\n",
      "\t2021-08-16 오전 날씨 : 구름많음, 최저 : 23도, 최고 : 32도\n",
      "\t2021-08-16 오전 날씨 : 구름많음, 최저 : 23도, 최고 : 32도\n",
      "\t2021-08-17 오전 날씨 : 맑음, 최저 : 22도, 최고 : 31도\n",
      "\t2021-08-17 오전 날씨 : 구름많음, 최저 : 22도, 최고 : 31도\n",
      "\t2021-08-18 오전 날씨 : 구름많음, 최저 : 22도, 최고 : 31도\n",
      "\t2021-08-18 오전 날씨 : 흐림, 최저 : 22도, 최고 : 31도\n",
      "\t2021-08-19 오전 날씨 : 구름많음, 최저 : 23도, 최고 : 31도\n",
      "\t2021-08-20 오전 날씨 : 흐림, 최저 : 23도, 최고 : 31도\n",
      "\t2021-08-21 오전 날씨 : 흐리고 비, 최저 : 24도, 최고 : 31도\n",
      "대전ㆍ세종ㆍ충청남도 지역의  세종 도시 날씨입니다.\n",
      "\t2021-08-14 오전 날씨 : 흐리고 비, 최저 : 23도, 최고 : 30도\n",
      "\t2021-08-14 오전 날씨 : 흐리고 비, 최저 : 23도, 최고 : 30도\n",
      "\t2021-08-15 오전 날씨 : 구름많음, 최저 : 21도, 최고 : 31도\n",
      "\t2021-08-15 오전 날씨 : 흐림, 최저 : 21도, 최고 : 31도\n",
      "\t2021-08-16 오전 날씨 : 구름많음, 최저 : 22도, 최고 : 31도\n",
      "\t2021-08-16 오전 날씨 : 구름많음, 최저 : 22도, 최고 : 31도\n",
      "\t2021-08-17 오전 날씨 : 맑음, 최저 : 21도, 최고 : 31도\n",
      "\t2021-08-17 오전 날씨 : 구름많음, 최저 : 21도, 최고 : 31도\n",
      "\t2021-08-18 오전 날씨 : 구름많음, 최저 : 21도, 최고 : 31도\n",
      "\t2021-08-18 오전 날씨 : 흐림, 최저 : 21도, 최고 : 31도\n",
      "\t2021-08-19 오전 날씨 : 구름많음, 최저 : 22도, 최고 : 31도\n",
      "\t2021-08-20 오전 날씨 : 흐림, 최저 : 22도, 최고 : 31도\n",
      "\t2021-08-21 오전 날씨 : 흐리고 비, 최저 : 23도, 최고 : 30도\n",
      "대전ㆍ세종ㆍ충청남도 지역의  홍성 도시 날씨입니다.\n",
      "\t2021-08-14 오전 날씨 : 흐리고 비, 최저 : 23도, 최고 : 30도\n",
      "\t2021-08-14 오전 날씨 : 흐리고 비, 최저 : 23도, 최고 : 30도\n",
      "\t2021-08-15 오전 날씨 : 구름많음, 최저 : 21도, 최고 : 31도\n",
      "\t2021-08-15 오전 날씨 : 흐림, 최저 : 21도, 최고 : 31도\n",
      "\t2021-08-16 오전 날씨 : 구름많음, 최저 : 22도, 최고 : 31도\n",
      "\t2021-08-16 오전 날씨 : 구름많음, 최저 : 22도, 최고 : 31도\n",
      "\t2021-08-17 오전 날씨 : 맑음, 최저 : 21도, 최고 : 31도\n",
      "\t2021-08-17 오전 날씨 : 구름많음, 최저 : 21도, 최고 : 31도\n",
      "\t2021-08-18 오전 날씨 : 구름많음, 최저 : 21도, 최고 : 31도\n",
      "\t2021-08-18 오전 날씨 : 흐림, 최저 : 21도, 최고 : 31도\n",
      "\t2021-08-19 오전 날씨 : 구름많음, 최저 : 22도, 최고 : 30도\n",
      "\t2021-08-20 오전 날씨 : 흐림, 최저 : 22도, 최고 : 31도\n",
      "\t2021-08-21 오전 날씨 : 흐리고 비, 최저 : 23도, 최고 : 30도\n",
      "충청북도 지역의  청주 도시 날씨입니다.\n",
      "\t2021-08-14 오전 날씨 : 흐리고 비, 최저 : 23도, 최고 : 30도\n",
      "\t2021-08-14 오전 날씨 : 흐리고 비, 최저 : 23도, 최고 : 30도\n",
      "\t2021-08-15 오전 날씨 : 구름많음, 최저 : 22도, 최고 : 32도\n",
      "\t2021-08-15 오전 날씨 : 흐림, 최저 : 22도, 최고 : 32도\n",
      "\t2021-08-16 오전 날씨 : 구름많음, 최저 : 23도, 최고 : 31도\n",
      "\t2021-08-16 오전 날씨 : 구름많음, 최저 : 23도, 최고 : 31도\n",
      "\t2021-08-17 오전 날씨 : 맑음, 최저 : 22도, 최고 : 31도\n",
      "\t2021-08-17 오전 날씨 : 구름많음, 최저 : 22도, 최고 : 31도\n",
      "\t2021-08-18 오전 날씨 : 구름많음, 최저 : 22도, 최고 : 31도\n",
      "\t2021-08-18 오전 날씨 : 구름많음, 최저 : 22도, 최고 : 31도\n",
      "\t2021-08-19 오전 날씨 : 구름많음, 최저 : 23도, 최고 : 31도\n",
      "\t2021-08-20 오전 날씨 : 흐림, 최저 : 23도, 최고 : 31도\n",
      "\t2021-08-21 오전 날씨 : 흐리고 비, 최저 : 24도, 최고 : 31도\n",
      "충청북도 지역의  충주 도시 날씨입니다.\n",
      "\t2021-08-14 오전 날씨 : 흐리고 비, 최저 : 22도, 최고 : 30도\n",
      "\t2021-08-14 오전 날씨 : 흐리고 비, 최저 : 22도, 최고 : 30도\n",
      "\t2021-08-15 오전 날씨 : 구름많음, 최저 : 21도, 최고 : 31도\n",
      "\t2021-08-15 오전 날씨 : 흐림, 최저 : 21도, 최고 : 31도\n",
      "\t2021-08-16 오전 날씨 : 구름많음, 최저 : 21도, 최고 : 31도\n",
      "\t2021-08-16 오전 날씨 : 구름많음, 최저 : 21도, 최고 : 31도\n",
      "\t2021-08-17 오전 날씨 : 맑음, 최저 : 21도, 최고 : 30도\n",
      "\t2021-08-17 오전 날씨 : 구름많음, 최저 : 21도, 최고 : 30도\n",
      "\t2021-08-18 오전 날씨 : 구름많음, 최저 : 20도, 최고 : 31도\n",
      "\t2021-08-18 오전 날씨 : 구름많음, 최저 : 20도, 최고 : 31도\n",
      "\t2021-08-19 오전 날씨 : 구름많음, 최저 : 21도, 최고 : 30도\n",
      "\t2021-08-20 오전 날씨 : 흐림, 최저 : 21도, 최고 : 30도\n",
      "\t2021-08-21 오전 날씨 : 흐리고 비, 최저 : 22도, 최고 : 31도\n",
      "충청북도 지역의  영동 도시 날씨입니다.\n",
      "\t2021-08-14 오전 날씨 : 흐리고 비, 최저 : 21도, 최고 : 29도\n",
      "\t2021-08-14 오전 날씨 : 흐리고 비, 최저 : 21도, 최고 : 29도\n",
      "\t2021-08-15 오전 날씨 : 구름많음, 최저 : 20도, 최고 : 31도\n",
      "\t2021-08-15 오전 날씨 : 흐림, 최저 : 20도, 최고 : 31도\n",
      "\t2021-08-16 오전 날씨 : 구름많음, 최저 : 21도, 최고 : 31도\n",
      "\t2021-08-16 오전 날씨 : 구름많음, 최저 : 21도, 최고 : 31도\n",
      "\t2021-08-17 오전 날씨 : 맑음, 최저 : 20도, 최고 : 31도\n",
      "\t2021-08-17 오전 날씨 : 구름많음, 최저 : 20도, 최고 : 31도\n",
      "\t2021-08-18 오전 날씨 : 구름많음, 최저 : 20도, 최고 : 31도\n",
      "\t2021-08-18 오전 날씨 : 구름많음, 최저 : 20도, 최고 : 31도\n",
      "\t2021-08-19 오전 날씨 : 구름많음, 최저 : 20도, 최고 : 30도\n",
      "\t2021-08-20 오전 날씨 : 흐림, 최저 : 21도, 최고 : 31도\n",
      "\t2021-08-21 오전 날씨 : 흐리고 비, 최저 : 22도, 최고 : 31도\n",
      "광주ㆍ전라남도 지역의  광주 도시 날씨입니다.\n",
      "\t2021-08-14 오전 날씨 : 흐리고 비, 최저 : 23도, 최고 : 29도\n",
      "\t2021-08-14 오전 날씨 : 흐리고 비, 최저 : 23도, 최고 : 29도\n",
      "\t2021-08-15 오전 날씨 : 흐리고 비, 최저 : 22도, 최고 : 31도\n",
      "\t2021-08-15 오전 날씨 : 흐리고 비, 최저 : 22도, 최고 : 31도\n",
      "\t2021-08-16 오전 날씨 : 흐리고 비, 최저 : 23도, 최고 : 31도\n",
      "\t2021-08-16 오전 날씨 : 흐림, 최저 : 23도, 최고 : 31도\n",
      "\t2021-08-17 오전 날씨 : 흐림, 최저 : 22도, 최고 : 31도\n",
      "\t2021-08-17 오전 날씨 : 구름많음, 최저 : 22도, 최고 : 31도\n",
      "\t2021-08-18 오전 날씨 : 흐림, 최저 : 22도, 최고 : 31도\n",
      "\t2021-08-18 오전 날씨 : 흐림, 최저 : 22도, 최고 : 31도\n",
      "\t2021-08-19 오전 날씨 : 흐림, 최저 : 23도, 최고 : 30도\n",
      "\t2021-08-20 오전 날씨 : 흐리고 비, 최저 : 23도, 최고 : 30도\n",
      "\t2021-08-21 오전 날씨 : 흐리고 비, 최저 : 24도, 최고 : 31도\n",
      "광주ㆍ전라남도 지역의  목포 도시 날씨입니다.\n",
      "\t2021-08-14 오전 날씨 : 흐리고 비, 최저 : 25도, 최고 : 29도\n",
      "\t2021-08-14 오전 날씨 : 흐리고 비, 최저 : 25도, 최고 : 29도\n",
      "\t2021-08-15 오전 날씨 : 흐리고 비, 최저 : 24도, 최고 : 30도\n",
      "\t2021-08-15 오전 날씨 : 흐리고 비, 최저 : 24도, 최고 : 30도\n",
      "\t2021-08-16 오전 날씨 : 흐리고 비, 최저 : 24도, 최고 : 30도\n",
      "\t2021-08-16 오전 날씨 : 흐림, 최저 : 24도, 최고 : 30도\n",
      "\t2021-08-17 오전 날씨 : 흐림, 최저 : 23도, 최고 : 30도\n",
      "\t2021-08-17 오전 날씨 : 구름많음, 최저 : 23도, 최고 : 30도\n",
      "\t2021-08-18 오전 날씨 : 흐림, 최저 : 23도, 최고 : 30도\n",
      "\t2021-08-18 오전 날씨 : 흐림, 최저 : 23도, 최고 : 30도\n",
      "\t2021-08-19 오전 날씨 : 흐림, 최저 : 24도, 최고 : 29도\n",
      "\t2021-08-20 오전 날씨 : 흐리고 비, 최저 : 24도, 최고 : 30도\n",
      "\t2021-08-21 오전 날씨 : 흐리고 비, 최저 : 24도, 최고 : 30도\n",
      "광주ㆍ전라남도 지역의  여수 도시 날씨입니다.\n",
      "\t2021-08-14 오전 날씨 : 흐리고 비, 최저 : 24도, 최고 : 27도\n",
      "\t2021-08-14 오전 날씨 : 흐리고 비, 최저 : 24도, 최고 : 27도\n",
      "\t2021-08-15 오전 날씨 : 흐리고 비, 최저 : 24도, 최고 : 29도\n",
      "\t2021-08-15 오전 날씨 : 흐리고 비, 최저 : 24도, 최고 : 29도\n",
      "\t2021-08-16 오전 날씨 : 흐리고 비, 최저 : 25도, 최고 : 29도\n",
      "\t2021-08-16 오전 날씨 : 흐림, 최저 : 25도, 최고 : 29도\n",
      "\t2021-08-17 오전 날씨 : 흐림, 최저 : 24도, 최고 : 29도\n",
      "\t2021-08-17 오전 날씨 : 구름많음, 최저 : 24도, 최고 : 29도\n",
      "\t2021-08-18 오전 날씨 : 흐림, 최저 : 24도, 최고 : 29도\n",
      "\t2021-08-18 오전 날씨 : 흐림, 최저 : 24도, 최고 : 29도\n",
      "\t2021-08-19 오전 날씨 : 흐림, 최저 : 24도, 최고 : 29도\n",
      "\t2021-08-20 오전 날씨 : 흐리고 비, 최저 : 25도, 최고 : 29도\n",
      "\t2021-08-21 오전 날씨 : 흐리고 비, 최저 : 26도, 최고 : 29도\n",
      "광주ㆍ전라남도 지역의  순천 도시 날씨입니다.\n",
      "\t2021-08-14 오전 날씨 : 흐리고 비, 최저 : 24도, 최고 : 29도\n",
      "\t2021-08-14 오전 날씨 : 흐리고 비, 최저 : 24도, 최고 : 29도\n",
      "\t2021-08-15 오전 날씨 : 흐리고 비, 최저 : 23도, 최고 : 32도\n",
      "\t2021-08-15 오전 날씨 : 흐리고 비, 최저 : 23도, 최고 : 32도\n",
      "\t2021-08-16 오전 날씨 : 흐리고 비, 최저 : 24도, 최고 : 32도\n",
      "\t2021-08-16 오전 날씨 : 흐림, 최저 : 24도, 최고 : 32도\n",
      "\t2021-08-17 오전 날씨 : 흐림, 최저 : 23도, 최고 : 31도\n",
      "\t2021-08-17 오전 날씨 : 구름많음, 최저 : 23도, 최고 : 31도\n",
      "\t2021-08-18 오전 날씨 : 흐림, 최저 : 23도, 최고 : 32도\n",
      "\t2021-08-18 오전 날씨 : 흐림, 최저 : 23도, 최고 : 32도\n",
      "\t2021-08-19 오전 날씨 : 흐림, 최저 : 24도, 최고 : 30도\n",
      "\t2021-08-20 오전 날씨 : 흐리고 비, 최저 : 23도, 최고 : 31도\n",
      "\t2021-08-21 오전 날씨 : 흐리고 비, 최저 : 25도, 최고 : 31도\n",
      "광주ㆍ전라남도 지역의  광양 도시 날씨입니다.\n",
      "\t2021-08-14 오전 날씨 : 흐리고 비, 최저 : 24도, 최고 : 27도\n",
      "\t2021-08-14 오전 날씨 : 흐리고 비, 최저 : 24도, 최고 : 27도\n",
      "\t2021-08-15 오전 날씨 : 흐리고 비, 최저 : 22도, 최고 : 30도\n",
      "\t2021-08-15 오전 날씨 : 흐리고 비, 최저 : 22도, 최고 : 30도\n",
      "\t2021-08-16 오전 날씨 : 흐리고 비, 최저 : 23도, 최고 : 30도\n",
      "\t2021-08-16 오전 날씨 : 흐림, 최저 : 23도, 최고 : 30도\n",
      "\t2021-08-17 오전 날씨 : 흐림, 최저 : 23도, 최고 : 30도\n",
      "\t2021-08-17 오전 날씨 : 구름많음, 최저 : 23도, 최고 : 30도\n",
      "\t2021-08-18 오전 날씨 : 흐림, 최저 : 22도, 최고 : 31도\n",
      "\t2021-08-18 오전 날씨 : 흐림, 최저 : 22도, 최고 : 31도\n",
      "\t2021-08-19 오전 날씨 : 흐림, 최저 : 23도, 최고 : 30도\n",
      "\t2021-08-20 오전 날씨 : 흐리고 비, 최저 : 23도, 최고 : 30도\n",
      "\t2021-08-21 오전 날씨 : 흐리고 비, 최저 : 24도, 최고 : 30도\n",
      "광주ㆍ전라남도 지역의  나주 도시 날씨입니다.\n",
      "\t2021-08-14 오전 날씨 : 흐리고 비, 최저 : 23도, 최고 : 30도\n",
      "\t2021-08-14 오전 날씨 : 흐리고 비, 최저 : 23도, 최고 : 30도\n",
      "\t2021-08-15 오전 날씨 : 흐리고 비, 최저 : 21도, 최고 : 31도\n",
      "\t2021-08-15 오전 날씨 : 흐리고 비, 최저 : 21도, 최고 : 31도\n",
      "\t2021-08-16 오전 날씨 : 흐리고 비, 최저 : 22도, 최고 : 31도\n",
      "\t2021-08-16 오전 날씨 : 흐림, 최저 : 22도, 최고 : 31도\n",
      "\t2021-08-17 오전 날씨 : 흐림, 최저 : 22도, 최고 : 31도\n",
      "\t2021-08-17 오전 날씨 : 구름많음, 최저 : 22도, 최고 : 31도\n",
      "\t2021-08-18 오전 날씨 : 흐림, 최저 : 22도, 최고 : 31도\n",
      "\t2021-08-18 오전 날씨 : 흐림, 최저 : 22도, 최고 : 31도\n",
      "\t2021-08-19 오전 날씨 : 흐림, 최저 : 22도, 최고 : 30도\n",
      "\t2021-08-20 오전 날씨 : 흐리고 비, 최저 : 22도, 최고 : 31도\n",
      "\t2021-08-21 오전 날씨 : 흐리고 비, 최저 : 23도, 최고 : 31도\n",
      "전라북도 지역의  전주 도시 날씨입니다.\n",
      "\t2021-08-14 오전 날씨 : 흐리고 비, 최저 : 23도, 최고 : 29도\n",
      "\t2021-08-14 오전 날씨 : 흐리고 비, 최저 : 23도, 최고 : 29도\n",
      "\t2021-08-15 오전 날씨 : 흐림, 최저 : 22도, 최고 : 31도\n",
      "\t2021-08-15 오전 날씨 : 흐림, 최저 : 22도, 최고 : 31도\n",
      "\t2021-08-16 오전 날씨 : 흐림, 최저 : 22도, 최고 : 31도\n",
      "\t2021-08-16 오전 날씨 : 구름많음, 최저 : 22도, 최고 : 31도\n",
      "\t2021-08-17 오전 날씨 : 구름많음, 최저 : 22도, 최고 : 31도\n",
      "\t2021-08-17 오전 날씨 : 흐림, 최저 : 22도, 최고 : 31도\n",
      "\t2021-08-18 오전 날씨 : 흐림, 최저 : 22도, 최고 : 31도\n",
      "\t2021-08-18 오전 날씨 : 흐림, 최저 : 22도, 최고 : 31도\n",
      "\t2021-08-19 오전 날씨 : 흐림, 최저 : 22도, 최고 : 31도\n",
      "\t2021-08-20 오전 날씨 : 흐림, 최저 : 22도, 최고 : 31도\n",
      "\t2021-08-21 오전 날씨 : 흐리고 비, 최저 : 23도, 최고 : 31도\n",
      "전라북도 지역의  군산 도시 날씨입니다.\n",
      "\t2021-08-14 오전 날씨 : 흐리고 비, 최저 : 23도, 최고 : 28도\n",
      "\t2021-08-14 오전 날씨 : 흐리고 비, 최저 : 23도, 최고 : 28도\n",
      "\t2021-08-15 오전 날씨 : 흐림, 최저 : 22도, 최고 : 30도\n",
      "\t2021-08-15 오전 날씨 : 흐림, 최저 : 22도, 최고 : 30도\n",
      "\t2021-08-16 오전 날씨 : 흐림, 최저 : 22도, 최고 : 30도\n",
      "\t2021-08-16 오전 날씨 : 구름많음, 최저 : 22도, 최고 : 30도\n",
      "\t2021-08-17 오전 날씨 : 구름많음, 최저 : 22도, 최고 : 30도\n",
      "\t2021-08-17 오전 날씨 : 흐림, 최저 : 22도, 최고 : 30도\n",
      "\t2021-08-18 오전 날씨 : 흐림, 최저 : 22도, 최고 : 30도\n",
      "\t2021-08-18 오전 날씨 : 흐림, 최저 : 22도, 최고 : 30도\n",
      "\t2021-08-19 오전 날씨 : 흐림, 최저 : 22도, 최고 : 30도\n",
      "\t2021-08-20 오전 날씨 : 흐림, 최저 : 23도, 최고 : 30도\n",
      "\t2021-08-21 오전 날씨 : 흐리고 비, 최저 : 23도, 최고 : 30도\n",
      "전라북도 지역의  정읍 도시 날씨입니다.\n",
      "\t2021-08-14 오전 날씨 : 흐리고 비, 최저 : 22도, 최고 : 29도\n",
      "\t2021-08-14 오전 날씨 : 흐리고 비, 최저 : 22도, 최고 : 29도\n",
      "\t2021-08-15 오전 날씨 : 흐림, 최저 : 21도, 최고 : 31도\n",
      "\t2021-08-15 오전 날씨 : 흐림, 최저 : 21도, 최고 : 31도\n",
      "\t2021-08-16 오전 날씨 : 흐림, 최저 : 21도, 최고 : 31도\n",
      "\t2021-08-16 오전 날씨 : 구름많음, 최저 : 21도, 최고 : 31도\n",
      "\t2021-08-17 오전 날씨 : 구름많음, 최저 : 21도, 최고 : 30도\n",
      "\t2021-08-17 오전 날씨 : 흐림, 최저 : 21도, 최고 : 30도\n",
      "\t2021-08-18 오전 날씨 : 흐림, 최저 : 21도, 최고 : 31도\n",
      "\t2021-08-18 오전 날씨 : 흐림, 최저 : 21도, 최고 : 31도\n",
      "\t2021-08-19 오전 날씨 : 흐림, 최저 : 22도, 최고 : 30도\n",
      "\t2021-08-20 오전 날씨 : 흐림, 최저 : 22도, 최고 : 31도\n",
      "\t2021-08-21 오전 날씨 : 흐리고 비, 최저 : 23도, 최고 : 31도\n",
      "전라북도 지역의  남원 도시 날씨입니다.\n",
      "\t2021-08-14 오전 날씨 : 흐리고 비, 최저 : 22도, 최고 : 29도\n",
      "\t2021-08-14 오전 날씨 : 흐리고 비, 최저 : 22도, 최고 : 29도\n",
      "\t2021-08-15 오전 날씨 : 흐림, 최저 : 21도, 최고 : 31도\n",
      "\t2021-08-15 오전 날씨 : 흐림, 최저 : 21도, 최고 : 31도\n",
      "\t2021-08-16 오전 날씨 : 흐림, 최저 : 22도, 최고 : 31도\n",
      "\t2021-08-16 오전 날씨 : 구름많음, 최저 : 22도, 최고 : 31도\n",
      "\t2021-08-17 오전 날씨 : 구름많음, 최저 : 21도, 최고 : 31도\n",
      "\t2021-08-17 오전 날씨 : 흐림, 최저 : 21도, 최고 : 31도\n",
      "\t2021-08-18 오전 날씨 : 흐림, 최저 : 21도, 최고 : 31도\n",
      "\t2021-08-18 오전 날씨 : 흐림, 최저 : 21도, 최고 : 31도\n",
      "\t2021-08-19 오전 날씨 : 흐림, 최저 : 21도, 최고 : 30도\n",
      "\t2021-08-20 오전 날씨 : 흐림, 최저 : 21도, 최고 : 31도\n",
      "\t2021-08-21 오전 날씨 : 흐리고 비, 최저 : 23도, 최고 : 30도\n",
      "전라북도 지역의  고창 도시 날씨입니다.\n",
      "\t2021-08-14 오전 날씨 : 흐리고 비, 최저 : 23도, 최고 : 29도\n",
      "\t2021-08-14 오전 날씨 : 흐리고 비, 최저 : 23도, 최고 : 29도\n",
      "\t2021-08-15 오전 날씨 : 흐림, 최저 : 22도, 최고 : 30도\n",
      "\t2021-08-15 오전 날씨 : 흐림, 최저 : 22도, 최고 : 30도\n",
      "\t2021-08-16 오전 날씨 : 흐림, 최저 : 22도, 최고 : 30도\n",
      "\t2021-08-16 오전 날씨 : 구름많음, 최저 : 22도, 최고 : 30도\n",
      "\t2021-08-17 오전 날씨 : 구름많음, 최저 : 21도, 최고 : 30도\n",
      "\t2021-08-17 오전 날씨 : 흐림, 최저 : 21도, 최고 : 30도\n",
      "\t2021-08-18 오전 날씨 : 흐림, 최저 : 21도, 최고 : 31도\n",
      "\t2021-08-18 오전 날씨 : 흐림, 최저 : 21도, 최고 : 31도\n",
      "\t2021-08-19 오전 날씨 : 흐림, 최저 : 22도, 최고 : 30도\n",
      "\t2021-08-20 오전 날씨 : 흐림, 최저 : 22도, 최고 : 30도\n",
      "\t2021-08-21 오전 날씨 : 흐리고 비, 최저 : 23도, 최고 : 30도\n",
      "전라북도 지역의  무주 도시 날씨입니다.\n",
      "\t2021-08-14 오전 날씨 : 흐리고 비, 최저 : 21도, 최고 : 29도\n",
      "\t2021-08-14 오전 날씨 : 흐리고 비, 최저 : 21도, 최고 : 29도\n",
      "\t2021-08-15 오전 날씨 : 흐림, 최저 : 20도, 최고 : 30도\n",
      "\t2021-08-15 오전 날씨 : 흐림, 최저 : 20도, 최고 : 30도\n",
      "\t2021-08-16 오전 날씨 : 흐림, 최저 : 20도, 최고 : 30도\n",
      "\t2021-08-16 오전 날씨 : 구름많음, 최저 : 20도, 최고 : 30도\n",
      "\t2021-08-17 오전 날씨 : 구름많음, 최저 : 20도, 최고 : 30도\n",
      "\t2021-08-17 오전 날씨 : 흐림, 최저 : 20도, 최고 : 30도\n",
      "\t2021-08-18 오전 날씨 : 흐림, 최저 : 20도, 최고 : 30도\n",
      "\t2021-08-18 오전 날씨 : 흐림, 최저 : 20도, 최고 : 30도\n",
      "\t2021-08-19 오전 날씨 : 흐림, 최저 : 20도, 최고 : 29도\n",
      "\t2021-08-20 오전 날씨 : 흐림, 최저 : 20도, 최고 : 30도\n",
      "\t2021-08-21 오전 날씨 : 흐리고 비, 최저 : 22도, 최고 : 30도\n",
      "부산ㆍ울산ㆍ경상남도 지역의  부산 도시 날씨입니다.\n",
      "\t2021-08-14 오전 날씨 : 흐리고 비, 최저 : 24도, 최고 : 27도\n",
      "\t2021-08-14 오전 날씨 : 흐리고 비, 최저 : 24도, 최고 : 27도\n",
      "\t2021-08-15 오전 날씨 : 흐리고 비, 최저 : 23도, 최고 : 29도\n",
      "\t2021-08-15 오전 날씨 : 흐리고 비, 최저 : 23도, 최고 : 29도\n",
      "\t2021-08-16 오전 날씨 : 흐리고 비, 최저 : 24도, 최고 : 29도\n",
      "\t2021-08-16 오전 날씨 : 흐리고 비, 최저 : 24도, 최고 : 29도\n",
      "\t2021-08-17 오전 날씨 : 흐림, 최저 : 24도, 최고 : 29도\n",
      "\t2021-08-17 오전 날씨 : 흐림, 최저 : 24도, 최고 : 29도\n",
      "\t2021-08-18 오전 날씨 : 흐림, 최저 : 23도, 최고 : 29도\n",
      "\t2021-08-18 오전 날씨 : 흐림, 최저 : 23도, 최고 : 29도\n",
      "\t2021-08-19 오전 날씨 : 흐림, 최저 : 24도, 최고 : 29도\n",
      "\t2021-08-20 오전 날씨 : 흐리고 비, 최저 : 24도, 최고 : 30도\n",
      "\t2021-08-21 오전 날씨 : 흐리고 비, 최저 : 25도, 최고 : 30도\n",
      "부산ㆍ울산ㆍ경상남도 지역의  울산 도시 날씨입니다.\n",
      "\t2021-08-14 오전 날씨 : 흐리고 비, 최저 : 23도, 최고 : 26도\n",
      "\t2021-08-14 오전 날씨 : 흐리고 비, 최저 : 23도, 최고 : 26도\n",
      "\t2021-08-15 오전 날씨 : 흐리고 비, 최저 : 22도, 최고 : 29도\n",
      "\t2021-08-15 오전 날씨 : 흐리고 비, 최저 : 22도, 최고 : 29도\n",
      "\t2021-08-16 오전 날씨 : 흐리고 비, 최저 : 22도, 최고 : 29도\n",
      "\t2021-08-16 오전 날씨 : 흐리고 비, 최저 : 22도, 최고 : 29도\n",
      "\t2021-08-17 오전 날씨 : 흐림, 최저 : 22도, 최고 : 29도\n",
      "\t2021-08-17 오전 날씨 : 흐림, 최저 : 22도, 최고 : 29도\n",
      "\t2021-08-18 오전 날씨 : 흐림, 최저 : 22도, 최고 : 29도\n",
      "\t2021-08-18 오전 날씨 : 흐림, 최저 : 22도, 최고 : 29도\n",
      "\t2021-08-19 오전 날씨 : 흐림, 최저 : 22도, 최고 : 29도\n",
      "\t2021-08-20 오전 날씨 : 흐리고 비, 최저 : 22도, 최고 : 30도\n",
      "\t2021-08-21 오전 날씨 : 흐리고 비, 최저 : 24도, 최고 : 30도\n",
      "부산ㆍ울산ㆍ경상남도 지역의  창원 도시 날씨입니다.\n",
      "\t2021-08-14 오전 날씨 : 흐리고 비, 최저 : 23도, 최고 : 28도\n",
      "\t2021-08-14 오전 날씨 : 흐리고 비, 최저 : 23도, 최고 : 28도\n",
      "\t2021-08-15 오전 날씨 : 흐리고 비, 최저 : 22도, 최고 : 31도\n",
      "\t2021-08-15 오전 날씨 : 흐리고 비, 최저 : 22도, 최고 : 31도\n",
      "\t2021-08-16 오전 날씨 : 흐리고 비, 최저 : 23도, 최고 : 30도\n",
      "\t2021-08-16 오전 날씨 : 흐리고 비, 최저 : 23도, 최고 : 30도\n",
      "\t2021-08-17 오전 날씨 : 흐림, 최저 : 23도, 최고 : 30도\n",
      "\t2021-08-17 오전 날씨 : 흐림, 최저 : 23도, 최고 : 30도\n",
      "\t2021-08-18 오전 날씨 : 흐림, 최저 : 22도, 최고 : 30도\n",
      "\t2021-08-18 오전 날씨 : 흐림, 최저 : 22도, 최고 : 30도\n",
      "\t2021-08-19 오전 날씨 : 흐림, 최저 : 23도, 최고 : 30도\n",
      "\t2021-08-20 오전 날씨 : 흐리고 비, 최저 : 23도, 최고 : 31도\n",
      "\t2021-08-21 오전 날씨 : 흐리고 비, 최저 : 24도, 최고 : 30도\n",
      "부산ㆍ울산ㆍ경상남도 지역의  진주 도시 날씨입니다.\n",
      "\t2021-08-14 오전 날씨 : 흐리고 비, 최저 : 23도, 최고 : 27도\n",
      "\t2021-08-14 오전 날씨 : 흐리고 비, 최저 : 23도, 최고 : 27도\n",
      "\t2021-08-15 오전 날씨 : 흐리고 비, 최저 : 21도, 최고 : 30도\n",
      "\t2021-08-15 오전 날씨 : 흐리고 비, 최저 : 21도, 최고 : 30도\n",
      "\t2021-08-16 오전 날씨 : 흐리고 비, 최저 : 22도, 최고 : 30도\n",
      "\t2021-08-16 오전 날씨 : 흐리고 비, 최저 : 22도, 최고 : 30도\n",
      "\t2021-08-17 오전 날씨 : 흐림, 최저 : 22도, 최고 : 30도\n",
      "\t2021-08-17 오전 날씨 : 흐림, 최저 : 22도, 최고 : 30도\n",
      "\t2021-08-18 오전 날씨 : 흐림, 최저 : 21도, 최고 : 31도\n",
      "\t2021-08-18 오전 날씨 : 흐림, 최저 : 21도, 최고 : 31도\n",
      "\t2021-08-19 오전 날씨 : 흐림, 최저 : 22도, 최고 : 30도\n",
      "\t2021-08-20 오전 날씨 : 흐리고 비, 최저 : 22도, 최고 : 30도\n",
      "\t2021-08-21 오전 날씨 : 흐리고 비, 최저 : 23도, 최고 : 30도\n",
      "부산ㆍ울산ㆍ경상남도 지역의  거창 도시 날씨입니다.\n",
      "\t2021-08-14 오전 날씨 : 흐리고 비, 최저 : 21도, 최고 : 28도\n",
      "\t2021-08-14 오전 날씨 : 흐리고 비, 최저 : 21도, 최고 : 28도\n",
      "\t2021-08-15 오전 날씨 : 흐리고 비, 최저 : 20도, 최고 : 30도\n",
      "\t2021-08-15 오전 날씨 : 흐리고 비, 최저 : 20도, 최고 : 30도\n",
      "\t2021-08-16 오전 날씨 : 흐리고 비, 최저 : 21도, 최고 : 30도\n",
      "\t2021-08-16 오전 날씨 : 흐리고 비, 최저 : 21도, 최고 : 30도\n",
      "\t2021-08-17 오전 날씨 : 흐림, 최저 : 20도, 최고 : 29도\n",
      "\t2021-08-17 오전 날씨 : 흐림, 최저 : 20도, 최고 : 29도\n",
      "\t2021-08-18 오전 날씨 : 흐림, 최저 : 20도, 최고 : 30도\n",
      "\t2021-08-18 오전 날씨 : 흐림, 최저 : 20도, 최고 : 30도\n",
      "\t2021-08-19 오전 날씨 : 흐림, 최저 : 20도, 최고 : 29도\n",
      "\t2021-08-20 오전 날씨 : 흐리고 비, 최저 : 20도, 최고 : 31도\n",
      "\t2021-08-21 오전 날씨 : 흐리고 비, 최저 : 21도, 최고 : 30도\n",
      "부산ㆍ울산ㆍ경상남도 지역의  통영 도시 날씨입니다.\n",
      "\t2021-08-14 오전 날씨 : 흐리고 비, 최저 : 24도, 최고 : 28도\n",
      "\t2021-08-14 오전 날씨 : 흐리고 비, 최저 : 24도, 최고 : 28도\n",
      "\t2021-08-15 오전 날씨 : 흐리고 비, 최저 : 24도, 최고 : 30도\n",
      "\t2021-08-15 오전 날씨 : 흐리고 비, 최저 : 24도, 최고 : 30도\n",
      "\t2021-08-16 오전 날씨 : 흐리고 비, 최저 : 24도, 최고 : 30도\n",
      "\t2021-08-16 오전 날씨 : 흐리고 비, 최저 : 24도, 최고 : 30도\n",
      "\t2021-08-17 오전 날씨 : 흐림, 최저 : 23도, 최고 : 30도\n",
      "\t2021-08-17 오전 날씨 : 흐림, 최저 : 23도, 최고 : 30도\n",
      "\t2021-08-18 오전 날씨 : 흐림, 최저 : 23도, 최고 : 30도\n",
      "\t2021-08-18 오전 날씨 : 흐림, 최저 : 23도, 최고 : 30도\n",
      "\t2021-08-19 오전 날씨 : 흐림, 최저 : 24도, 최고 : 30도\n",
      "\t2021-08-20 오전 날씨 : 흐리고 비, 최저 : 24도, 최고 : 30도\n",
      "\t2021-08-21 오전 날씨 : 흐리고 비, 최저 : 25도, 최고 : 30도\n",
      "대구ㆍ경상북도 지역의  대구 도시 날씨입니다.\n",
      "\t2021-08-14 오전 날씨 : 흐리고 비, 최저 : 23도, 최고 : 29도\n",
      "\t2021-08-14 오전 날씨 : 흐리고 비, 최저 : 23도, 최고 : 29도\n",
      "\t2021-08-15 오전 날씨 : 흐리고 비, 최저 : 22도, 최고 : 31도\n",
      "\t2021-08-15 오전 날씨 : 흐리고 비, 최저 : 22도, 최고 : 31도\n",
      "\t2021-08-16 오전 날씨 : 흐림, 최저 : 23도, 최고 : 30도\n",
      "\t2021-08-16 오전 날씨 : 흐림, 최저 : 23도, 최고 : 30도\n",
      "\t2021-08-17 오전 날씨 : 구름많음, 최저 : 23도, 최고 : 31도\n",
      "\t2021-08-17 오전 날씨 : 흐림, 최저 : 23도, 최고 : 31도\n",
      "\t2021-08-18 오전 날씨 : 흐림, 최저 : 22도, 최고 : 31도\n",
      "\t2021-08-18 오전 날씨 : 흐림, 최저 : 22도, 최고 : 31도\n",
      "\t2021-08-19 오전 날씨 : 흐림, 최저 : 22도, 최고 : 30도\n",
      "\t2021-08-20 오전 날씨 : 흐림, 최저 : 23도, 최고 : 31도\n",
      "\t2021-08-21 오전 날씨 : 흐리고 비, 최저 : 24도, 최고 : 31도\n",
      "대구ㆍ경상북도 지역의  안동 도시 날씨입니다.\n",
      "\t2021-08-14 오전 날씨 : 흐리고 비, 최저 : 21도, 최고 : 29도\n",
      "\t2021-08-14 오전 날씨 : 흐리고 비, 최저 : 21도, 최고 : 29도\n",
      "\t2021-08-15 오전 날씨 : 흐리고 비, 최저 : 20도, 최고 : 31도\n",
      "\t2021-08-15 오전 날씨 : 흐리고 비, 최저 : 20도, 최고 : 31도\n",
      "\t2021-08-16 오전 날씨 : 흐림, 최저 : 21도, 최고 : 31도\n",
      "\t2021-08-16 오전 날씨 : 흐림, 최저 : 21도, 최고 : 31도\n",
      "\t2021-08-17 오전 날씨 : 구름많음, 최저 : 21도, 최고 : 31도\n",
      "\t2021-08-17 오전 날씨 : 흐림, 최저 : 21도, 최고 : 31도\n",
      "\t2021-08-18 오전 날씨 : 흐림, 최저 : 20도, 최고 : 31도\n",
      "\t2021-08-18 오전 날씨 : 흐림, 최저 : 20도, 최고 : 31도\n",
      "\t2021-08-19 오전 날씨 : 흐림, 최저 : 21도, 최고 : 30도\n",
      "\t2021-08-20 오전 날씨 : 흐림, 최저 : 21도, 최고 : 31도\n",
      "\t2021-08-21 오전 날씨 : 흐리고 비, 최저 : 22도, 최고 : 31도\n",
      "대구ㆍ경상북도 지역의  포항 도시 날씨입니다.\n",
      "\t2021-08-14 오전 날씨 : 흐리고 비, 최저 : 24도, 최고 : 27도\n",
      "\t2021-08-14 오전 날씨 : 흐리고 비, 최저 : 24도, 최고 : 27도\n",
      "\t2021-08-15 오전 날씨 : 흐리고 비, 최저 : 23도, 최고 : 28도\n",
      "\t2021-08-15 오전 날씨 : 흐리고 비, 최저 : 23도, 최고 : 28도\n",
      "\t2021-08-16 오전 날씨 : 흐림, 최저 : 24도, 최고 : 27도\n",
      "\t2021-08-16 오전 날씨 : 흐림, 최저 : 24도, 최고 : 27도\n",
      "\t2021-08-17 오전 날씨 : 구름많음, 최저 : 24도, 최고 : 28도\n",
      "\t2021-08-17 오전 날씨 : 흐림, 최저 : 24도, 최고 : 28도\n",
      "\t2021-08-18 오전 날씨 : 흐림, 최저 : 23도, 최고 : 28도\n",
      "\t2021-08-18 오전 날씨 : 흐림, 최저 : 23도, 최고 : 28도\n",
      "\t2021-08-19 오전 날씨 : 흐림, 최저 : 23도, 최고 : 28도\n",
      "\t2021-08-20 오전 날씨 : 흐림, 최저 : 23도, 최고 : 30도\n",
      "\t2021-08-21 오전 날씨 : 흐리고 비, 최저 : 24도, 최고 : 30도\n",
      "대구ㆍ경상북도 지역의  경주 도시 날씨입니다.\n",
      "\t2021-08-14 오전 날씨 : 흐리고 비, 최저 : 22도, 최고 : 27도\n",
      "\t2021-08-14 오전 날씨 : 흐리고 비, 최저 : 22도, 최고 : 27도\n",
      "\t2021-08-15 오전 날씨 : 흐리고 비, 최저 : 21도, 최고 : 29도\n",
      "\t2021-08-15 오전 날씨 : 흐리고 비, 최저 : 21도, 최고 : 29도\n",
      "\t2021-08-16 오전 날씨 : 흐림, 최저 : 22도, 최고 : 28도\n",
      "\t2021-08-16 오전 날씨 : 흐림, 최저 : 22도, 최고 : 28도\n",
      "\t2021-08-17 오전 날씨 : 구름많음, 최저 : 21도, 최고 : 29도\n",
      "\t2021-08-17 오전 날씨 : 흐림, 최저 : 21도, 최고 : 29도\n",
      "\t2021-08-18 오전 날씨 : 흐림, 최저 : 21도, 최고 : 29도\n",
      "\t2021-08-18 오전 날씨 : 흐림, 최저 : 21도, 최고 : 29도\n",
      "\t2021-08-19 오전 날씨 : 흐림, 최저 : 21도, 최고 : 30도\n",
      "\t2021-08-20 오전 날씨 : 흐림, 최저 : 21도, 최고 : 31도\n",
      "\t2021-08-21 오전 날씨 : 흐리고 비, 최저 : 23도, 최고 : 30도\n",
      "대구ㆍ경상북도 지역의  울진 도시 날씨입니다.\n",
      "\t2021-08-14 오전 날씨 : 흐리고 비, 최저 : 22도, 최고 : 27도\n",
      "\t2021-08-14 오전 날씨 : 흐리고 비, 최저 : 22도, 최고 : 27도\n",
      "\t2021-08-15 오전 날씨 : 흐리고 비, 최저 : 22도, 최고 : 27도\n",
      "\t2021-08-15 오전 날씨 : 흐리고 비, 최저 : 22도, 최고 : 27도\n",
      "\t2021-08-16 오전 날씨 : 흐림, 최저 : 22도, 최고 : 27도\n",
      "\t2021-08-16 오전 날씨 : 흐림, 최저 : 22도, 최고 : 27도\n",
      "\t2021-08-17 오전 날씨 : 구름많음, 최저 : 21도, 최고 : 27도\n",
      "\t2021-08-17 오전 날씨 : 흐림, 최저 : 21도, 최고 : 27도\n",
      "\t2021-08-18 오전 날씨 : 흐림, 최저 : 21도, 최고 : 27도\n",
      "\t2021-08-18 오전 날씨 : 흐림, 최저 : 21도, 최고 : 27도\n",
      "\t2021-08-19 오전 날씨 : 흐림, 최저 : 21도, 최고 : 27도\n",
      "\t2021-08-20 오전 날씨 : 흐림, 최저 : 22도, 최고 : 28도\n",
      "\t2021-08-21 오전 날씨 : 흐리고 비, 최저 : 22도, 최고 : 29도\n",
      "대구ㆍ경상북도 지역의  울릉도 도시 날씨입니다.\n",
      "\t2021-08-14 오전 날씨 : 흐리고 비, 최저 : 23도, 최고 : 27도\n",
      "\t2021-08-14 오전 날씨 : 흐리고 비, 최저 : 23도, 최고 : 27도\n",
      "\t2021-08-15 오전 날씨 : 흐리고 비, 최저 : 23도, 최고 : 27도\n",
      "\t2021-08-15 오전 날씨 : 흐리고 비, 최저 : 23도, 최고 : 27도\n",
      "\t2021-08-16 오전 날씨 : 흐림, 최저 : 22도, 최고 : 27도\n",
      "\t2021-08-16 오전 날씨 : 흐림, 최저 : 22도, 최고 : 27도\n",
      "\t2021-08-17 오전 날씨 : 구름많음, 최저 : 22도, 최고 : 27도\n",
      "\t2021-08-17 오전 날씨 : 흐림, 최저 : 22도, 최고 : 27도\n",
      "\t2021-08-18 오전 날씨 : 흐림, 최저 : 22도, 최고 : 27도\n",
      "\t2021-08-18 오전 날씨 : 흐림, 최저 : 22도, 최고 : 27도\n",
      "\t2021-08-19 오전 날씨 : 흐림, 최저 : 23도, 최고 : 27도\n",
      "\t2021-08-20 오전 날씨 : 흐림, 최저 : 23도, 최고 : 28도\n",
      "\t2021-08-21 오전 날씨 : 흐리고 비, 최저 : 24도, 최고 : 28도\n",
      "제주도 지역의  제주 도시 날씨입니다.\n",
      "\t2021-08-14 오전 날씨 : 흐리고 비, 최저 : 25도, 최고 : 27도\n",
      "\t2021-08-14 오전 날씨 : 흐리고 비, 최저 : 25도, 최고 : 27도\n",
      "\t2021-08-15 오전 날씨 : 흐리고 비, 최저 : 25도, 최고 : 29도\n",
      "\t2021-08-15 오전 날씨 : 흐리고 비, 최저 : 25도, 최고 : 29도\n",
      "\t2021-08-16 오전 날씨 : 흐리고 비, 최저 : 25도, 최고 : 29도\n",
      "\t2021-08-16 오전 날씨 : 흐림, 최저 : 25도, 최고 : 29도\n",
      "\t2021-08-17 오전 날씨 : 흐림, 최저 : 25도, 최고 : 29도\n",
      "\t2021-08-17 오전 날씨 : 흐림, 최저 : 25도, 최고 : 29도\n",
      "\t2021-08-18 오전 날씨 : 흐리고 비, 최저 : 25도, 최고 : 29도\n",
      "\t2021-08-18 오전 날씨 : 흐리고 비, 최저 : 25도, 최고 : 29도\n",
      "\t2021-08-19 오전 날씨 : 흐리고 비, 최저 : 25도, 최고 : 30도\n",
      "\t2021-08-20 오전 날씨 : 흐리고 비, 최저 : 26도, 최고 : 32도\n",
      "\t2021-08-21 오전 날씨 : 흐림, 최저 : 25도, 최고 : 31도\n",
      "제주도 지역의  서귀포 도시 날씨입니다.\n",
      "\t2021-08-14 오전 날씨 : 흐리고 비, 최저 : 24도, 최고 : 27도\n",
      "\t2021-08-14 오전 날씨 : 흐리고 비, 최저 : 24도, 최고 : 27도\n",
      "\t2021-08-15 오전 날씨 : 흐리고 비, 최저 : 24도, 최고 : 29도\n",
      "\t2021-08-15 오전 날씨 : 흐리고 비, 최저 : 24도, 최고 : 29도\n",
      "\t2021-08-16 오전 날씨 : 흐리고 비, 최저 : 25도, 최고 : 29도\n",
      "\t2021-08-16 오전 날씨 : 흐림, 최저 : 25도, 최고 : 29도\n",
      "\t2021-08-17 오전 날씨 : 흐림, 최저 : 24도, 최고 : 29도\n",
      "\t2021-08-17 오전 날씨 : 흐림, 최저 : 24도, 최고 : 29도\n",
      "\t2021-08-18 오전 날씨 : 흐리고 비, 최저 : 24도, 최고 : 29도\n",
      "\t2021-08-18 오전 날씨 : 흐리고 비, 최저 : 24도, 최고 : 29도\n",
      "\t2021-08-19 오전 날씨 : 흐리고 비, 최저 : 25도, 최고 : 29도\n",
      "\t2021-08-20 오전 날씨 : 흐리고 비, 최저 : 25도, 최고 : 30도\n",
      "\t2021-08-21 오전 날씨 : 흐림, 최저 : 25도, 최고 : 30도\n"
     ]
    }
   ],
   "source": [
    "url= \"http://www.kma.go.kr/weather/forecast/mid-term-rss3.jsp?stnId=108\"\n",
    "import requests\n",
    "from urllib.request import urlopen # 둘 중 하나만 하면 됨.\n",
    "from bs4 import BeautifulSoup\n",
    "target = requests.get(url)\n",
    "# soup = BeautifulSoup(target.content, \"html.parser\")\n",
    "# soup = BeautifulSoup(target.content, \"xml\")\n",
    "target = urlopen(url) # urlpoen으로 가져온 경우\n",
    "soup = BeautifulSoup(target, \"xml\")\n",
    "locations = soup.select('location')\n",
    "# locations = soup.find_all('location')\n",
    "locations # select나 find_all의 결과는 리스트로 반환됨.\n",
    "for loc in locations:\n",
    "    province = loc.select_one('province').text\n",
    "#   province = loc.find('province').text\n",
    "    city     = loc.find('city').text\n",
    "#   city     = loc.select_one('city').text\n",
    "    data     = loc.find_all('data')\n",
    "#   data     = loc.select('data')\n",
    "    print(province, '지역의 ', city, '도시 날씨입니다.')\n",
    "    ampm = '오전'\n",
    "    for item in data:\n",
    "        tmEf = item.find('tmEf').text[:10]\n",
    "        wf   = item.find('wf').text\n",
    "        tmn  = item.find('tmn').text\n",
    "        tmx  = item.find('tmx').text\n",
    "        print(\"\\t{} {} 날씨 : {}, 최저 : {}도, 최고 : {}도\"\\\n",
    "             .format(tmEf, ampm, wf, tmn, tmx))\n",
    "        if ampm == '오전':\n",
    "            ampm == '오후'\n",
    "        else :\n",
    "            ampm = '오전'"
   ]
  },
  {
   "cell_type": "code",
   "execution_count": null,
   "id": "9303b61b",
   "metadata": {},
   "outputs": [],
   "source": []
  },
  {
   "cell_type": "code",
   "execution_count": null,
   "id": "31ccb4fe",
   "metadata": {},
   "outputs": [],
   "source": []
  },
  {
   "cell_type": "code",
   "execution_count": null,
   "id": "2ea6386e",
   "metadata": {},
   "outputs": [],
   "source": []
  },
  {
   "cell_type": "code",
   "execution_count": null,
   "id": "52e97458",
   "metadata": {},
   "outputs": [],
   "source": []
  },
  {
   "cell_type": "code",
   "execution_count": null,
   "id": "1d14b1c3",
   "metadata": {},
   "outputs": [],
   "source": []
  },
  {
   "cell_type": "markdown",
   "id": "0ed9bb51",
   "metadata": {},
   "source": [
    "### 3) 이번주 로또 번호 출력\n",
    "\n",
    "975회(2021년 08월 07일 추첨)<br>\n",
    "당첨번호 : [7,8,9,17,22,24]<br>\n",
    "보너스 번호 : 5\n"
   ]
  }
 ],
 "metadata": {
  "kernelspec": {
   "display_name": "Python 3 (ipykernel)",
   "language": "python",
   "name": "python3"
  },
  "language_info": {
   "codemirror_mode": {
    "name": "ipython",
    "version": 3
   },
   "file_extension": ".py",
   "mimetype": "text/x-python",
   "name": "python",
   "nbconvert_exporter": "python",
   "pygments_lexer": "ipython3",
   "version": "3.9.7"
  },
  "toc": {
   "base_numbering": 1,
   "nav_menu": {},
   "number_sections": true,
   "sideBar": true,
   "skip_h1_title": false,
   "title_cell": "Table of Contents",
   "title_sidebar": "Contents",
   "toc_cell": false,
   "toc_position": {},
   "toc_section_display": true,
   "toc_window_display": false
  },
  "varInspector": {
   "cols": {
    "lenName": 16,
    "lenType": 16,
    "lenVar": 40
   },
   "kernels_config": {
    "python": {
     "delete_cmd_postfix": "",
     "delete_cmd_prefix": "del ",
     "library": "var_list.py",
     "varRefreshCmd": "print(var_dic_list())"
    },
    "r": {
     "delete_cmd_postfix": ") ",
     "delete_cmd_prefix": "rm(",
     "library": "var_list.r",
     "varRefreshCmd": "cat(var_dic_list()) "
    }
   },
   "types_to_exclude": [
    "module",
    "function",
    "builtin_function_or_method",
    "instance",
    "_Feature"
   ],
   "window_display": false
  }
 },
 "nbformat": 4,
 "nbformat_minor": 5
}
