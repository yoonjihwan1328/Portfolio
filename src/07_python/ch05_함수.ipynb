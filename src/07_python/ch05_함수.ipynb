{
 "cells": [
  {
   "cell_type": "markdown",
   "id": "311b7a01",
   "metadata": {},
   "source": [
    "<b><font size=\"6\" color=\"red\">ch05. 함수</font></b>\n",
    "- 반복해서 사용할 코드를 묶어놓고 그것에 이름을 붙인 것.\n",
    "- java랑은 다르게 오버로딩이 불가하다.\n",
    "- 반복해서 사용할 코드는 함수를 이용하면 훨씬 구조적이고 간결한 코드를 작성할 수 있다.\n",
    "- 함수의 정의\n",
    "```\n",
    "자바에서는\n",
    "public int fun_name()\n",
    "파이썬은\n",
    "def 함수명([매개변수1, 매개변수2, ...]):\n",
    "    명령어1\n",
    "    명령어2\n",
    "```\n",
    "시간이 날 때 파이썬의 패키지, 모듈...개념 정리해보자.\n",
    "쥬피터노트북은 인터프리터가 아닌...웹을 이용한 IDE"
   ]
  },
  {
   "cell_type": "markdown",
   "id": "b93eb060",
   "metadata": {
    "ExecuteTime": {
     "end_time": "2021-07-19T03:42:46.924197Z",
     "start_time": "2021-07-19T03:42:46.906141Z"
    }
   },
   "source": [
    "# 1절. 함수의 정의 및 사용"
   ]
  },
  {
   "cell_type": "code",
   "execution_count": 6,
   "id": "b1d87fbb",
   "metadata": {
    "ExecuteTime": {
     "end_time": "2021-07-21T06:58:34.057354Z",
     "start_time": "2021-07-21T06:58:34.047381Z"
    }
   },
   "outputs": [],
   "source": [
    "def my_hello(x):\n",
    "    for i in range(x):\n",
    "        print(i, 'Hello, Python')"
   ]
  },
  {
   "cell_type": "code",
   "execution_count": 7,
   "id": "ec7f988e",
   "metadata": {
    "ExecuteTime": {
     "end_time": "2021-07-21T06:58:35.209218Z",
     "start_time": "2021-07-21T06:58:35.198248Z"
    },
    "scrolled": true
   },
   "outputs": [
    {
     "name": "stdout",
     "output_type": "stream",
     "text": [
      "0 Hello, Python\n",
      "1 Hello, Python\n",
      "2 Hello, Python\n",
      "3 Hello, Python\n",
      "4 Hello, Python\n"
     ]
    }
   ],
   "source": [
    "my_hello(5)"
   ]
  },
  {
   "cell_type": "code",
   "execution_count": 8,
   "id": "0d450b6c",
   "metadata": {
    "ExecuteTime": {
     "end_time": "2021-07-21T06:58:36.422120Z",
     "start_time": "2021-07-21T06:58:36.414110Z"
    }
   },
   "outputs": [],
   "source": [
    "def my_hello():\n",
    "    print(\"Hello, world\")\n",
    "    print('Hello, Python')"
   ]
  },
  {
   "cell_type": "code",
   "execution_count": 9,
   "id": "31e3a7e2",
   "metadata": {
    "ExecuteTime": {
     "end_time": "2021-07-21T06:58:37.652312Z",
     "start_time": "2021-07-21T06:58:37.647325Z"
    }
   },
   "outputs": [
    {
     "name": "stdout",
     "output_type": "stream",
     "text": [
      "Hello, world\n",
      "Hello, Python\n"
     ]
    }
   ],
   "source": [
    "my_hello()"
   ]
  },
  {
   "cell_type": "code",
   "execution_count": null,
   "id": "64fccd86",
   "metadata": {},
   "outputs": [],
   "source": [
    "# 동일한 이름의 함수가 존재할 수 없음!"
   ]
  },
  {
   "cell_type": "code",
   "execution_count": 10,
   "id": "0ac6c752",
   "metadata": {
    "ExecuteTime": {
     "end_time": "2021-07-21T06:58:40.192728Z",
     "start_time": "2021-07-21T06:58:40.174774Z"
    }
   },
   "outputs": [
    {
     "name": "stdout",
     "output_type": "stream",
     "text": [
      "Hello, world\n",
      "Hello, Python\n"
     ]
    }
   ],
   "source": [
    "if __name__ == '__main__' :\n",
    "    my_hello()"
   ]
  },
  {
   "cell_type": "code",
   "execution_count": 11,
   "id": "8ac01248",
   "metadata": {
    "ExecuteTime": {
     "end_time": "2021-07-21T06:58:41.802010Z",
     "start_time": "2021-07-21T06:58:41.790041Z"
    }
   },
   "outputs": [
    {
     "name": "stdout",
     "output_type": "stream",
     "text": [
      "모듈 테스트입니다\n",
      "더운 날씨에 건강조심하세요\n",
      "a\n"
     ]
    }
   ],
   "source": [
    "import a # a모듈이 호출됐음이 함께 표시됨\n",
    "# 모듈을 별도로 만들었던 듯. python폴더에 a.py파일이 있음.##########"
   ]
  },
  {
   "cell_type": "code",
   "execution_count": 12,
   "id": "fff942d4",
   "metadata": {
    "ExecuteTime": {
     "end_time": "2021-07-21T06:58:51.531052Z",
     "start_time": "2021-07-21T06:58:51.517088Z"
    }
   },
   "outputs": [
    {
     "name": "stdout",
     "output_type": "stream",
     "text": [
      "모듈 테스트입니다\n",
      "더운 날씨에 건강조심하세요\n"
     ]
    }
   ],
   "source": [
    "a.test()"
   ]
  },
  {
   "cell_type": "code",
   "execution_count": 1,
   "id": "d1f816d9",
   "metadata": {
    "ExecuteTime": {
     "end_time": "2021-07-22T00:42:36.611127Z",
     "start_time": "2021-07-22T00:42:36.605143Z"
    }
   },
   "outputs": [
    {
     "name": "stdout",
     "output_type": "stream",
     "text": [
      "90\n",
      "50\n"
     ]
    }
   ],
   "source": [
    "def my_add(num1, num2, num3=0): # 기본값을 갖는 매개변수(키워드 인수)는 뒤에\n",
    "#def my(add(num1, num2=0, num3): 에서와 같이 기본값을 가지는 매개변수(키워드 인수)가 앞에 위치할 경우 에러가 발생할 수 있음;;;\n",
    "                                # 아래 3.3에서 자세한 설명이 이루어짐!\n",
    "    return num1 + num2 + num3\n",
    "print(my_add(20,30,40))\n",
    "print(my_add(20,30))"
   ]
  },
  {
   "cell_type": "markdown",
   "id": "5897251d",
   "metadata": {},
   "source": [
    "## 1.1 docstring"
   ]
  },
  {
   "cell_type": "code",
   "execution_count": null,
   "id": "b182c12f",
   "metadata": {},
   "outputs": [],
   "source": [
    "# docstring을 구성해 놓지 않으면 도움말(shift+tab)을 이용할 수 없다"
   ]
  },
  {
   "cell_type": "code",
   "execution_count": 1,
   "id": "92a71911",
   "metadata": {
    "ExecuteTime": {
     "end_time": "2021-07-23T08:43:35.048007Z",
     "start_time": "2021-07-23T08:43:35.042034Z"
    }
   },
   "outputs": [],
   "source": [
    "def my_function():\n",
    "    \"\"\"\n",
    "    함수의 첫 라인에 독스트링을 포함시킬 수 있습니다.\n",
    "    독스트링은 함수의 설명서를 달아주는 역할, 주석보다 많은 기능\n",
    "    \"\"\"\n",
    "    pass"
   ]
  },
  {
   "cell_type": "code",
   "execution_count": 18,
   "id": "d4c7dfc0",
   "metadata": {
    "ExecuteTime": {
     "end_time": "2021-07-21T07:08:18.584168Z",
     "start_time": "2021-07-21T07:08:18.574196Z"
    }
   },
   "outputs": [
    {
     "name": "stdout",
     "output_type": "stream",
     "text": [
      "\n",
      "    함수의 첫 라인에 독스트링을 포함시킬 수 있습니다.\n",
      "    독스트링은 함수의 설명서를 달아주는 역할, 주석보다 많은 기능\n",
      "    \n"
     ]
    }
   ],
   "source": [
    "print(my_function.__doc__)"
   ]
  },
  {
   "cell_type": "code",
   "execution_count": null,
   "id": "f2bd12f1",
   "metadata": {},
   "outputs": [],
   "source": [
    "my_function()"
   ]
  },
  {
   "cell_type": "code",
   "execution_count": null,
   "id": "5d5e84e6",
   "metadata": {},
   "outputs": [],
   "source": [
    "# 클래스의 경우에도 동일하게 docstring을 입력할 수 있다."
   ]
  },
  {
   "cell_type": "code",
   "execution_count": 2,
   "id": "9ae6db56",
   "metadata": {
    "ExecuteTime": {
     "end_time": "2021-07-23T08:43:42.949936Z",
     "start_time": "2021-07-23T08:43:42.939941Z"
    }
   },
   "outputs": [],
   "source": [
    "def fibonacci(n):\n",
    "    '''\n",
    "    매개변수로 들어온 n값 미만의 피보나치 수열을 출력합니다.\n",
    "    eg) 매개변수로 10을 가지는 경우 : 0. 1. 1. 2. 3. 5. 8.\n",
    "    eg) 매개변수로 5를 가지는 경우  : 0. 1. 1. 2. 3.\n",
    "    '''\n",
    "    a, b = 0, 1\n",
    "    while a < n:\n",
    "        print(a, end='. ')\n",
    "        a, b = b, a+b"
   ]
  },
  {
   "cell_type": "code",
   "execution_count": 14,
   "id": "291e5b4c",
   "metadata": {
    "ExecuteTime": {
     "end_time": "2021-07-21T08:09:15.218537Z",
     "start_time": "2021-07-21T08:09:15.208565Z"
    }
   },
   "outputs": [
    {
     "name": "stdout",
     "output_type": "stream",
     "text": [
      "0. 1. 1. 2. 3. "
     ]
    }
   ],
   "source": [
    "fibonacci(5)"
   ]
  },
  {
   "cell_type": "code",
   "execution_count": 23,
   "id": "db7c3539",
   "metadata": {
    "ExecuteTime": {
     "end_time": "2021-07-21T07:18:10.629802Z",
     "start_time": "2021-07-21T07:18:10.620803Z"
    }
   },
   "outputs": [
    {
     "name": "stdout",
     "output_type": "stream",
     "text": [
      "0. 1. 1. 2. 3. TEST\n"
     ]
    }
   ],
   "source": [
    "if __name__=='__main__':\n",
    "    fibonacci(5)\n",
    "    print(\"TEST\")\n",
    "'''\n",
    "When the Python interpreter reads a file, the __name__ variable is set as __main__ if the module being run, \n",
    "                                                                  or as the module's name if it is imported. \n",
    "Reading the file executes all top level code, but not functions and classes (since they will only get imported).\n",
    "'''"
   ]
  },
  {
   "cell_type": "markdown",
   "id": "ce957f05",
   "metadata": {},
   "source": [
    "## 1.2 지역변수(local var)와 전역변수(global var)"
   ]
  },
  {
   "cell_type": "code",
   "execution_count": 9,
   "id": "f789fc58",
   "metadata": {
    "ExecuteTime": {
     "end_time": "2021-07-29T16:06:23.141228Z",
     "start_time": "2021-07-29T16:06:23.132258Z"
    }
   },
   "outputs": [],
   "source": [
    "global_var = 100 # 전역변수\n",
    "def func1():\n",
    "    print(global_var) # func1내에 global_var라는 변수가 없음에도 별도의 전역변수를 사용하고 있다.\n",
    "                      # 반대의 경우는 실행 안됨! 아래 참조"
   ]
  },
  {
   "cell_type": "code",
   "execution_count": 10,
   "id": "9ae96f7f",
   "metadata": {
    "ExecuteTime": {
     "end_time": "2021-07-29T16:06:25.393622Z",
     "start_time": "2021-07-29T16:06:25.387642Z"
    }
   },
   "outputs": [
    {
     "name": "stdout",
     "output_type": "stream",
     "text": [
      "100\n"
     ]
    }
   ],
   "source": [
    "func1()"
   ]
  },
  {
   "cell_type": "code",
   "execution_count": 3,
   "id": "07e62dce",
   "metadata": {
    "ExecuteTime": {
     "end_time": "2021-07-29T16:06:27.203097Z",
     "start_time": "2021-07-29T16:06:27.189134Z"
    }
   },
   "outputs": [
    {
     "name": "stdout",
     "output_type": "stream",
     "text": [
      "200\n"
     ]
    }
   ],
   "source": [
    "def func2():\n",
    "    local_var = 200\n",
    "    print(local_var)\n",
    "func2()    "
   ]
  },
  {
   "cell_type": "code",
   "execution_count": 4,
   "id": "50d00df2",
   "metadata": {
    "ExecuteTime": {
     "end_time": "2021-07-29T16:06:38.260824Z",
     "start_time": "2021-07-29T16:06:37.815016Z"
    }
   },
   "outputs": [
    {
     "ename": "NameError",
     "evalue": "name 'local_var' is not defined",
     "output_type": "error",
     "traceback": [
      "\u001b[1;31m---------------------------------------------------------------------------\u001b[0m",
      "\u001b[1;31mNameError\u001b[0m                                 Traceback (most recent call last)",
      "\u001b[1;32m<ipython-input-4-1c700161b72f>\u001b[0m in \u001b[0;36m<module>\u001b[1;34m\u001b[0m\n\u001b[1;32m----> 1\u001b[1;33m \u001b[0mprint\u001b[0m\u001b[1;33m(\u001b[0m\u001b[0mlocal_var\u001b[0m\u001b[1;33m)\u001b[0m \u001b[1;31m# 함수 내에서 선언된 local_var 변수가 지역변수이기 때문에 외부에서는 사용할 수 없음\u001b[0m\u001b[1;33m\u001b[0m\u001b[1;33m\u001b[0m\u001b[0m\n\u001b[0m",
      "\u001b[1;31mNameError\u001b[0m: name 'local_var' is not defined"
     ]
    }
   ],
   "source": [
    "print(local_var) # 함수 내에서 선언된 local_var 변수가 지역변수이기 때문에 외부에서는 사용할 수 없음"
   ]
  },
  {
   "cell_type": "code",
   "execution_count": 12,
   "id": "9129cd85",
   "metadata": {
    "ExecuteTime": {
     "end_time": "2021-08-01T06:53:20.702010Z",
     "start_time": "2021-08-01T06:53:20.691042Z"
    }
   },
   "outputs": [
    {
     "name": "stdout",
     "output_type": "stream",
     "text": [
      "200\n",
      "전역변수 : 100\n"
     ]
    }
   ],
   "source": [
    "g_var = 100 # 전역변수\n",
    "def func3():\n",
    "    g_var = 200 # 지역변수\n",
    "    print(g_var)\n",
    "func3()\n",
    "print('전역변수 :', g_var)"
   ]
  },
  {
   "cell_type": "code",
   "execution_count": 20,
   "id": "6baab4d3",
   "metadata": {},
   "outputs": [
    {
     "ename": "UnboundLocalError",
     "evalue": "local variable 'g_var' referenced before assignment",
     "output_type": "error",
     "traceback": [
      "\u001b[1;31m---------------------------------------------------------------------------\u001b[0m",
      "\u001b[1;31mUnboundLocalError\u001b[0m                         Traceback (most recent call last)",
      "\u001b[1;32m~\\AppData\\Local\\Temp/ipykernel_9060/699808684.py\u001b[0m in \u001b[0;36m<module>\u001b[1;34m\u001b[0m\n\u001b[0;32m      5\u001b[0m     \u001b[0mg_var\u001b[0m \u001b[1;33m=\u001b[0m \u001b[1;36m200\u001b[0m \u001b[1;31m# 지역변수    # ②\u001b[0m\u001b[1;33m\u001b[0m\u001b[1;33m\u001b[0m\u001b[0m\n\u001b[0;32m      6\u001b[0m     \u001b[0mprint\u001b[0m\u001b[1;33m(\u001b[0m\u001b[1;34m'after:'\u001b[0m\u001b[1;33m,\u001b[0m \u001b[0mg_var\u001b[0m\u001b[1;33m)\u001b[0m    \u001b[1;31m# ①, ② 둘 중 한 부분이 없으면 에러가 발생하지 않음.\u001b[0m\u001b[1;33m\u001b[0m\u001b[1;33m\u001b[0m\u001b[0m\n\u001b[1;32m----> 7\u001b[1;33m \u001b[0mfunc3\u001b[0m\u001b[1;33m(\u001b[0m\u001b[1;33m)\u001b[0m\u001b[1;33m\u001b[0m\u001b[1;33m\u001b[0m\u001b[0m\n\u001b[0m",
      "\u001b[1;32m~\\AppData\\Local\\Temp/ipykernel_9060/699808684.py\u001b[0m in \u001b[0;36mfunc3\u001b[1;34m()\u001b[0m\n\u001b[0;32m      2\u001b[0m \u001b[0mg_var\u001b[0m \u001b[1;33m=\u001b[0m \u001b[1;36m100\u001b[0m \u001b[1;31m# 전역변수\u001b[0m\u001b[1;33m\u001b[0m\u001b[1;33m\u001b[0m\u001b[0m\n\u001b[0;32m      3\u001b[0m \u001b[1;32mdef\u001b[0m \u001b[0mfunc3\u001b[0m\u001b[1;33m(\u001b[0m\u001b[1;33m)\u001b[0m\u001b[1;33m:\u001b[0m\u001b[1;33m\u001b[0m\u001b[1;33m\u001b[0m\u001b[0m\n\u001b[1;32m----> 4\u001b[1;33m     \u001b[0mprint\u001b[0m\u001b[1;33m(\u001b[0m\u001b[1;34m'before : '\u001b[0m\u001b[1;33m,\u001b[0m \u001b[0mg_var\u001b[0m\u001b[1;33m)\u001b[0m \u001b[1;31m# ①\u001b[0m\u001b[1;33m\u001b[0m\u001b[1;33m\u001b[0m\u001b[0m\n\u001b[0m\u001b[0;32m      5\u001b[0m     \u001b[0mg_var\u001b[0m \u001b[1;33m=\u001b[0m \u001b[1;36m200\u001b[0m \u001b[1;31m# 지역변수    # ②\u001b[0m\u001b[1;33m\u001b[0m\u001b[1;33m\u001b[0m\u001b[0m\n\u001b[0;32m      6\u001b[0m     \u001b[0mprint\u001b[0m\u001b[1;33m(\u001b[0m\u001b[1;34m'after:'\u001b[0m\u001b[1;33m,\u001b[0m \u001b[0mg_var\u001b[0m\u001b[1;33m)\u001b[0m    \u001b[1;31m# ①, ② 둘 중 한 부분이 없으면 에러가 발생하지 않음.\u001b[0m\u001b[1;33m\u001b[0m\u001b[1;33m\u001b[0m\u001b[0m\n",
      "\u001b[1;31mUnboundLocalError\u001b[0m: local variable 'g_var' referenced before assignment"
     ]
    }
   ],
   "source": [
    "# 렉시컬 특성######################################\n",
    "g_var = 100 # 전역변수\n",
    "def func3():\n",
    "    print('before : ', g_var) # ①\n",
    "    g_var = 200 # 지역변수    # ②\n",
    "    print('after:', g_var)    # ①, ② 둘 중 한 부분이 없으면 에러가 발생하지 않음.\n",
    "func3()"
   ]
  },
  {
   "cell_type": "code",
   "execution_count": 7,
   "id": "1b3e7e26",
   "metadata": {
    "ExecuteTime": {
     "end_time": "2021-08-01T06:53:24.667005Z",
     "start_time": "2021-08-01T06:53:24.650054Z"
    }
   },
   "outputs": [],
   "source": [
    "#####나의 시도 ### func1에서처럼 실행을 별도로 한다면 실행전 선언이 완료된 상태이므로 오류가 발생하지 않을 수 있을듯?\n",
    "g_var = 100 # 전역변수\n",
    "def func3():\n",
    "    print('before : ', g_var)\n",
    "    g_var = 200 # 지역변수\n",
    "    print('after:', g_var)"
   ]
  },
  {
   "cell_type": "code",
   "execution_count": 8,
   "id": "0c2458cd",
   "metadata": {},
   "outputs": [
    {
     "ename": "UnboundLocalError",
     "evalue": "local variable 'g_var' referenced before assignment",
     "output_type": "error",
     "traceback": [
      "\u001b[1;31m---------------------------------------------------------------------------\u001b[0m",
      "\u001b[1;31mUnboundLocalError\u001b[0m                         Traceback (most recent call last)",
      "\u001b[1;32m~\\AppData\\Local\\Temp/ipykernel_9060/2584321571.py\u001b[0m in \u001b[0;36m<module>\u001b[1;34m\u001b[0m\n\u001b[1;32m----> 1\u001b[1;33m \u001b[0mfunc3\u001b[0m\u001b[1;33m(\u001b[0m\u001b[1;33m)\u001b[0m\u001b[1;33m\u001b[0m\u001b[1;33m\u001b[0m\u001b[0m\n\u001b[0m",
      "\u001b[1;32m~\\AppData\\Local\\Temp/ipykernel_9060/2982421891.py\u001b[0m in \u001b[0;36mfunc3\u001b[1;34m()\u001b[0m\n\u001b[0;32m      2\u001b[0m \u001b[0mg_var\u001b[0m \u001b[1;33m=\u001b[0m \u001b[1;36m100\u001b[0m \u001b[1;31m# 전역변수\u001b[0m\u001b[1;33m\u001b[0m\u001b[1;33m\u001b[0m\u001b[0m\n\u001b[0;32m      3\u001b[0m \u001b[1;32mdef\u001b[0m \u001b[0mfunc3\u001b[0m\u001b[1;33m(\u001b[0m\u001b[1;33m)\u001b[0m\u001b[1;33m:\u001b[0m\u001b[1;33m\u001b[0m\u001b[1;33m\u001b[0m\u001b[0m\n\u001b[1;32m----> 4\u001b[1;33m     \u001b[0mprint\u001b[0m\u001b[1;33m(\u001b[0m\u001b[1;34m'before : '\u001b[0m\u001b[1;33m,\u001b[0m \u001b[0mg_var\u001b[0m\u001b[1;33m)\u001b[0m\u001b[1;33m\u001b[0m\u001b[1;33m\u001b[0m\u001b[0m\n\u001b[0m\u001b[0;32m      5\u001b[0m     \u001b[0mg_var\u001b[0m \u001b[1;33m=\u001b[0m \u001b[1;36m200\u001b[0m \u001b[1;31m# 지역변수\u001b[0m\u001b[1;33m\u001b[0m\u001b[1;33m\u001b[0m\u001b[0m\n\u001b[0;32m      6\u001b[0m     \u001b[0mprint\u001b[0m\u001b[1;33m(\u001b[0m\u001b[1;34m'after:'\u001b[0m\u001b[1;33m,\u001b[0m \u001b[0mg_var\u001b[0m\u001b[1;33m)\u001b[0m\u001b[1;33m\u001b[0m\u001b[1;33m\u001b[0m\u001b[0m\n",
      "\u001b[1;31mUnboundLocalError\u001b[0m: local variable 'g_var' referenced before assignment"
     ]
    }
   ],
   "source": [
    "func3()"
   ]
  },
  {
   "cell_type": "code",
   "execution_count": 4,
   "id": "53738f29",
   "metadata": {
    "ExecuteTime": {
     "end_time": "2021-08-01T06:53:32.772287Z",
     "start_time": "2021-08-01T06:53:32.745357Z"
    }
   },
   "outputs": [
    {
     "ename": "UnboundLocalError",
     "evalue": "local variable 'g_var' referenced before assignment",
     "output_type": "error",
     "traceback": [
      "\u001b[1;31m---------------------------------------------------------------------------\u001b[0m",
      "\u001b[1;31mUnboundLocalError\u001b[0m                         Traceback (most recent call last)",
      "\u001b[1;32m<ipython-input-4-4e12cee2c7f2>\u001b[0m in \u001b[0;36m<module>\u001b[1;34m\u001b[0m\n\u001b[1;32m----> 1\u001b[1;33m \u001b[0mfunc3\u001b[0m\u001b[1;33m(\u001b[0m\u001b[1;33m)\u001b[0m\u001b[1;33m\u001b[0m\u001b[1;33m\u001b[0m\u001b[0m\n\u001b[0m\u001b[0;32m      2\u001b[0m '''\n\u001b[0;32m      3\u001b[0m \u001b[0m블록의\u001b[0m \u001b[0m개념이\u001b[0m \u001b[0m쥬피터노트북의\u001b[0m \u001b[0m화면에\u001b[0m \u001b[0m보이는\u001b[0m \u001b[0m실행\u001b[0m \u001b[0m단위별\u001b[0m \u001b[0m블록이\u001b[0m \u001b[0m아니라\u001b[0m\u001b[1;33m\u001b[0m\u001b[1;33m\u001b[0m\u001b[0m\n\u001b[0;32m      4\u001b[0m \u001b[0m작성한\u001b[0m \u001b[0m스크립트를\u001b[0m \u001b[0m기준으로\u001b[0m \u001b[0m인식해야하는듯\u001b[0m\u001b[0;31m?\u001b[0m\u001b[1;33m\u001b[0m\u001b[1;33m\u001b[0m\u001b[0m\n\u001b[0;32m      5\u001b[0m \u001b[0m위의\u001b[0m \u001b[0m경우\u001b[0m \u001b[1;32mdef\u001b[0m \u001b[0mfunc3\u001b[0m\u001b[1;33m(\u001b[0m\u001b[1;33m)\u001b[0m\u001b[1;33m:\u001b[0m \u001b[0m이후\u001b[0m \u001b[0m들여쓰기가\u001b[0m \u001b[0m이루어진\u001b[0m \u001b[0m부분이\u001b[0m \u001b[0m한\u001b[0m \u001b[0m블록을\u001b[0m \u001b[0m형성하는\u001b[0m \u001b[0m것이\u001b[0m \u001b[0m맞는듯\u001b[0m\u001b[1;33m.\u001b[0m\u001b[1;33m\u001b[0m\u001b[1;33m\u001b[0m\u001b[0m\n",
      "\u001b[1;32m<ipython-input-3-88abf871af4f>\u001b[0m in \u001b[0;36mfunc3\u001b[1;34m()\u001b[0m\n\u001b[0;32m      2\u001b[0m \u001b[0mg_var\u001b[0m \u001b[1;33m=\u001b[0m \u001b[1;36m100\u001b[0m \u001b[1;31m# 전역변수\u001b[0m\u001b[1;33m\u001b[0m\u001b[1;33m\u001b[0m\u001b[0m\n\u001b[0;32m      3\u001b[0m \u001b[1;32mdef\u001b[0m \u001b[0mfunc3\u001b[0m\u001b[1;33m(\u001b[0m\u001b[1;33m)\u001b[0m\u001b[1;33m:\u001b[0m\u001b[1;33m\u001b[0m\u001b[1;33m\u001b[0m\u001b[0m\n\u001b[1;32m----> 4\u001b[1;33m     \u001b[0mprint\u001b[0m\u001b[1;33m(\u001b[0m\u001b[1;34m'before : '\u001b[0m\u001b[1;33m,\u001b[0m \u001b[0mg_var\u001b[0m\u001b[1;33m)\u001b[0m\u001b[1;33m\u001b[0m\u001b[1;33m\u001b[0m\u001b[0m\n\u001b[0m\u001b[0;32m      5\u001b[0m     \u001b[0mg_var\u001b[0m \u001b[1;33m=\u001b[0m \u001b[1;36m200\u001b[0m \u001b[1;31m# 지역변수\u001b[0m\u001b[1;33m\u001b[0m\u001b[1;33m\u001b[0m\u001b[0m\n\u001b[0;32m      6\u001b[0m     \u001b[0mprint\u001b[0m\u001b[1;33m(\u001b[0m\u001b[1;34m'after:'\u001b[0m\u001b[1;33m,\u001b[0m \u001b[0mg_var\u001b[0m\u001b[1;33m)\u001b[0m\u001b[1;33m\u001b[0m\u001b[1;33m\u001b[0m\u001b[0m\n",
      "\u001b[1;31mUnboundLocalError\u001b[0m: local variable 'g_var' referenced before assignment"
     ]
    }
   ],
   "source": [
    "func3()\n",
    "'''\n",
    "블록의 개념이 쥬피터노트북의 화면에 보이는 실행 단위별 블록이 아니라\n",
    "작성한 스크립트를 기준으로 인식해야하는듯?\n",
    "위의 경우 def func3(): 이후 들여쓰기가 이루어진 부분이 한 블록을 형성하는 것이 맞는듯.\n",
    "\n",
    "전역변수가 선언되어 있고 함수 내에서 이를 호출할 수 있지만, 동일한 명칭의 지역변수가 선언되는 경우\n",
    "블럭 내에서의 순서와는 무관하게 전역변수와 지역변수가 충돌하여 오류가 발생하는듯.\n",
    "한 줄 한 줄 해석되기보다 블럭 단위로 처리된다고 생각하면 위의 오류는 이해가 됨......(맞는지는 확인이 필요)\n",
    "\n",
    "global 변수명 을 입력하면 함수 블럭안 하단에 지역변수가 별도로 존재하더라도 \n",
    "그 앞까지는 전역변수가 호출될 수 있게 되는듯!\n",
    "'''\n"
   ]
  },
  {
   "cell_type": "code",
   "execution_count": null,
   "id": "9154ab6d",
   "metadata": {},
   "outputs": [],
   "source": [
    "# 4번째 줄의 print('before :', g_var)에서 g_var가 아직 선언되어 있지 않기 때문에 오류?"
   ]
  },
  {
   "cell_type": "code",
   "execution_count": 5,
   "id": "cbc8c942",
   "metadata": {
    "ExecuteTime": {
     "end_time": "2021-08-01T06:53:47.827613Z",
     "start_time": "2021-08-01T06:53:47.819636Z"
    }
   },
   "outputs": [
    {
     "name": "stdout",
     "output_type": "stream",
     "text": [
      "before : 100\n",
      "after: 200\n"
     ]
    }
   ],
   "source": [
    "# 렉시컬 특성\n",
    "g_var = 100 # 전역변수\n",
    "def func3():\n",
    "    global g_var             # func3 함수 내에서의 g_var는 전역변수를 쓸거야\n",
    "    print('before :', g_var) # func3 함수 내의 g_var는 전역번수로 사용하겠다는 선언이 필요\n",
    "    g_var = 200 # 지역변수\n",
    "    print('after:', g_var)\n",
    "func3()"
   ]
  },
  {
   "cell_type": "markdown",
   "id": "2c937130",
   "metadata": {
    "ExecuteTime": {
     "end_time": "2021-07-21T07:48:16.479775Z",
     "start_time": "2021-07-21T07:48:16.474789Z"
    }
   },
   "source": [
    "## 1.3 값에 의한 호출\n",
    "- 함수에 인수로 전달되는 변수가 스칼라 변수(숫자, 문자, 논리)일 경우"
   ]
  },
  {
   "cell_type": "code",
   "execution_count": 25,
   "id": "47b4342a",
   "metadata": {
    "ExecuteTime": {
     "end_time": "2021-07-29T16:40:18.335845Z",
     "start_time": "2021-07-29T16:40:18.318889Z"
    }
   },
   "outputs": [
    {
     "data": {
      "text/plain": [
       "2414260960624"
      ]
     },
     "execution_count": 25,
     "metadata": {},
     "output_type": "execute_result"
    }
   ],
   "source": [
    "foo = 'a' # 전역변수\n",
    "id(foo)"
   ]
  },
  {
   "cell_type": "code",
   "execution_count": 27,
   "id": "0bdcd907",
   "metadata": {
    "ExecuteTime": {
     "end_time": "2021-07-29T16:40:21.321860Z",
     "start_time": "2021-07-29T16:40:21.315878Z"
    }
   },
   "outputs": [
    {
     "name": "stdout",
     "output_type": "stream",
     "text": [
      "Before :  a 의 주소는  2414260960624\n",
      "After :  aaa 의 주소는  2414368068208\n"
     ]
    },
    {
     "data": {
      "text/plain": [
       "'\\n매개변수를 받지 않는 메서드의 경우 전역/지역변수간 충돌이 이루어지지만\\n매개변수를 별도로 전달받는 경우는 문제가 없는듯?\\n'"
      ]
     },
     "execution_count": 27,
     "metadata": {},
     "output_type": "execute_result"
    }
   ],
   "source": [
    "def func1(f): # 매개변수는 지역변수\n",
    "    print('Before : ', f, '의 주소는 ' , id(f))\n",
    "    f = f * 3\n",
    "    print('After : ', f, '의 주소는 ' , id(f))\n",
    "func1(foo)\n",
    "'''\n",
    "매개변수를 받지 않는 메서드의 경우 전역/지역변수간 충돌이 이루어지지만\n",
    "매개변수를 별도로 전달받는 경우는 문제가 없는듯?\n",
    "'''"
   ]
  },
  {
   "cell_type": "code",
   "execution_count": 3,
   "id": "532d1638",
   "metadata": {
    "ExecuteTime": {
     "end_time": "2021-07-21T08:03:11.225326Z",
     "start_time": "2021-07-21T08:03:11.209373Z"
    }
   },
   "outputs": [
    {
     "name": "stdout",
     "output_type": "stream",
     "text": [
      "a\n",
      "1558365490992\n"
     ]
    }
   ],
   "source": [
    "print(foo) # 전역변수는 그대로\n",
    "print(id(foo))"
   ]
  },
  {
   "cell_type": "markdown",
   "id": "c5364cb3",
   "metadata": {},
   "source": [
    "## 1.4 참조에 의한 호출\n",
    "- 함수에 인수로 전달되는 변수가 리스트, 딕셔너리, 셋, ..."
   ]
  },
  {
   "cell_type": "code",
   "execution_count": 22,
   "id": "7f0c8635",
   "metadata": {
    "ExecuteTime": {
     "end_time": "2021-08-01T07:09:49.749565Z",
     "start_time": "2021-08-01T07:09:49.734600Z"
    }
   },
   "outputs": [
    {
     "data": {
      "text/plain": [
       "2414368211648"
      ]
     },
     "execution_count": 22,
     "metadata": {},
     "output_type": "execute_result"
    }
   ],
   "source": [
    "L = [1,2,3,4,5]\n",
    "id(L)"
   ]
  },
  {
   "cell_type": "code",
   "execution_count": 23,
   "id": "53ef66d5",
   "metadata": {
    "ExecuteTime": {
     "end_time": "2021-08-01T07:09:51.457078Z",
     "start_time": "2021-08-01T07:09:51.445147Z"
    }
   },
   "outputs": [
    {
     "name": "stdout",
     "output_type": "stream",
     "text": [
      "before :  [1, 2, 3, 4, 5] 의 주소는  2414368211648\n",
      "after :  [1, 2, 3, 4, 5, 6] 의 주소는  2414368211648\n",
      "[1, 2, 3, 4, 5, 6]\n"
     ]
    }
   ],
   "source": [
    "def func2(f) : # 매개변수는 지역변수\n",
    "    print('before : ', f, '의 주소는 ', id(f))\n",
    "    f.append(6)\n",
    "    print('after : ', f, '의 주소는 ', id(f))\n",
    "func2(L)\n",
    "print(L)"
   ]
  },
  {
   "cell_type": "code",
   "execution_count": 7,
   "id": "5bc86445",
   "metadata": {
    "ExecuteTime": {
     "end_time": "2021-07-21T08:04:57.438685Z",
     "start_time": "2021-07-21T08:04:57.431708Z"
    }
   },
   "outputs": [],
   "source": [
    "'''\n",
    "위에...다른거 생각\n",
    "(주소, 값 : 자바에서의 자료형데이터, 참조형(?)데이터 \n",
    "            + 위에 오류난거 질문 \n",
    "            + 데이터의 저장이 물리적 메모리칩과의 상관관계 등...)하다 \n",
    "받아적고 끝냄. 이해 안함.\n",
    "'''"
   ]
  },
  {
   "cell_type": "markdown",
   "id": "d7248d1b",
   "metadata": {
    "ExecuteTime": {
     "end_time": "2021-07-29T16:50:03.384073Z",
     "start_time": "2021-07-29T16:50:03.364126Z"
    }
   },
   "source": [
    "## 1.5 함수의 이름 변경\n",
    "- python : 함수형 언어, 객체지향 언어"
   ]
  },
  {
   "cell_type": "code",
   "execution_count": 16,
   "id": "48ff5cc2",
   "metadata": {
    "ExecuteTime": {
     "end_time": "2021-07-29T16:54:14.945713Z",
     "start_time": "2021-07-29T16:54:14.938732Z"
    }
   },
   "outputs": [],
   "source": [
    "def fibonacci(n):\n",
    "    '''\n",
    "    매개변수로 들어온 n값 미만의 피보나치 수열을 출력합니다.\n",
    "    eg) 매개변수로 10을 가지는 경우 : 0. 1. 1. 2. 3. 5. 8.\n",
    "    eg) 매개변수로 5를 가지는 경우  : 0. 1. 1. 2. 3.\n",
    "    '''\n",
    "    a, b = 0, 1\n",
    "    while a < n:\n",
    "        print(a, end='. ')\n",
    "        a, b = b, a+b\n",
    "    print() # 개행"
   ]
  },
  {
   "cell_type": "code",
   "execution_count": 15,
   "id": "2a044797",
   "metadata": {
    "ExecuteTime": {
     "end_time": "2021-07-21T08:09:18.501247Z",
     "start_time": "2021-07-21T08:09:18.487291Z"
    }
   },
   "outputs": [
    {
     "data": {
      "text/plain": [
       "function"
      ]
     },
     "execution_count": 15,
     "metadata": {},
     "output_type": "execute_result"
    }
   ],
   "source": [
    "type(fibonacci)"
   ]
  },
  {
   "cell_type": "code",
   "execution_count": 18,
   "id": "078f5b1c",
   "metadata": {
    "ExecuteTime": {
     "end_time": "2021-07-21T08:09:59.517222Z",
     "start_time": "2021-07-21T08:09:59.511225Z"
    }
   },
   "outputs": [],
   "source": [
    "fibo = fibonacci # fibonacci 함수 이름이 fibo도 사용가능"
   ]
  },
  {
   "cell_type": "code",
   "execution_count": 19,
   "id": "9163a632",
   "metadata": {
    "ExecuteTime": {
     "end_time": "2021-07-21T08:10:00.992189Z",
     "start_time": "2021-07-21T08:10:00.983214Z"
    }
   },
   "outputs": [
    {
     "name": "stdout",
     "output_type": "stream",
     "text": [
      "0. 1. 1. 2. 3. 5. 8. "
     ]
    }
   ],
   "source": [
    "fibo(10)"
   ]
  },
  {
   "cell_type": "code",
   "execution_count": 20,
   "id": "cbe4a15e",
   "metadata": {
    "ExecuteTime": {
     "end_time": "2021-07-21T08:10:06.611894Z",
     "start_time": "2021-07-21T08:10:06.600903Z"
    }
   },
   "outputs": [],
   "source": [
    "p = print"
   ]
  },
  {
   "cell_type": "code",
   "execution_count": 22,
   "id": "cde85101",
   "metadata": {
    "ExecuteTime": {
     "end_time": "2021-07-21T08:10:44.849117Z",
     "start_time": "2021-07-21T08:10:44.839146Z"
    }
   },
   "outputs": [
    {
     "name": "stdout",
     "output_type": "stream",
     "text": [
      "Hello, python\n"
     ]
    }
   ],
   "source": [
    "p('Hello, python')"
   ]
  },
  {
   "cell_type": "markdown",
   "id": "94736139",
   "metadata": {
    "ExecuteTime": {
     "end_time": "2021-07-21T08:10:59.361115Z",
     "start_time": "2021-07-21T08:10:59.351135Z"
    }
   },
   "source": [
    "# 2절. 함수의 실행결과를 반환하는 return\n",
    "- return이 있는 경우 vs 없는 경우"
   ]
  },
  {
   "cell_type": "code",
   "execution_count": 1,
   "id": "b8abdf22",
   "metadata": {
    "ExecuteTime": {
     "end_time": "2021-07-21T08:16:55.904519Z",
     "start_time": "2021-07-21T08:16:55.896540Z"
    }
   },
   "outputs": [],
   "source": [
    "def fibonacci_print(n):\n",
    "    \"\"\" \n",
    "    # 독스트링!!! docstring\n",
    "    매개변수 n값 미만의 피보나치 수열을 출력\n",
    "    \"\"\"\n",
    "    a, b = 0, 1\n",
    "    while a < n:\n",
    "        print(a, end=' ')\n",
    "        a,b = b, a+b\n",
    "    print()\n",
    "def fibonacci(n):\n",
    "    \"n값 미만의 피보나치 수열(list)을 return\"\n",
    "    result = []\n",
    "    a, b = 0, 1\n",
    "    while a < n:\n",
    "        result.append(a)\n",
    "        a,b = b, a+b\n",
    "    return result"
   ]
  },
  {
   "cell_type": "code",
   "execution_count": 32,
   "id": "7c22eea6",
   "metadata": {
    "ExecuteTime": {
     "end_time": "2021-07-21T08:18:48.478344Z",
     "start_time": "2021-07-21T08:18:48.470365Z"
    }
   },
   "outputs": [
    {
     "name": "stdout",
     "output_type": "stream",
     "text": [
      "0 1 1 2 3 5 8 \n",
      "None\n",
      "<class 'NoneType'>\n"
     ]
    }
   ],
   "source": [
    "x = fibonacci_print(10)\n",
    "print(x)\n",
    "'''\n",
    "return 값이 설정되지 않았지 때문에 print 함수를 실행했을 때\n",
    "매개변수 실행의 결과값 \n",
    "+ print(매개변수)의 결과값 : None \n",
    "둘 모두가 반환됨\n",
    "'''\n",
    "print(type(x))"
   ]
  },
  {
   "cell_type": "code",
   "execution_count": 31,
   "id": "3348c958",
   "metadata": {
    "ExecuteTime": {
     "end_time": "2021-07-21T08:18:33.546398Z",
     "start_time": "2021-07-21T08:18:33.542388Z"
    }
   },
   "outputs": [
    {
     "name": "stdout",
     "output_type": "stream",
     "text": [
      "[0, 1, 1, 2, 3, 5, 8]\n",
      "<class 'list'>\n"
     ]
    }
   ],
   "source": [
    "y = fibonacci(10)\n",
    "print(y)\n",
    "print(type(y))\n",
    "# 프린트 이외에 return이 설정된 메서드의 return값을 이용할 수 있는 예시는?"
   ]
  },
  {
   "cell_type": "markdown",
   "id": "d2089081",
   "metadata": {},
   "source": [
    "## 2.1 여러개 값 반환"
   ]
  },
  {
   "cell_type": "code",
   "execution_count": 37,
   "id": "4172efdc",
   "metadata": {
    "ExecuteTime": {
     "end_time": "2021-07-21T08:39:15.214384Z",
     "start_time": "2021-07-21T08:39:15.204402Z"
    }
   },
   "outputs": [],
   "source": [
    "def swap(a, b):\n",
    "    return b, a # 자동적으로 튜플의 형태로 반환됨.###"
   ]
  },
  {
   "cell_type": "code",
   "execution_count": 39,
   "id": "fd82a0a0",
   "metadata": {
    "ExecuteTime": {
     "end_time": "2021-07-21T08:39:21.582798Z",
     "start_time": "2021-07-21T08:39:21.572830Z"
    }
   },
   "outputs": [
    {
     "name": "stdout",
     "output_type": "stream",
     "text": [
      "함수 실행전 5 10\n",
      "함수 실행 후 10 5\n"
     ]
    }
   ],
   "source": [
    "x, y = 5, 10\n",
    "print('함수 실행 전', x, y)\n",
    "x, y = swap(x,y)\n",
    "print('함수 실행 후', x, y)"
   ]
  },
  {
   "cell_type": "code",
   "execution_count": 42,
   "id": "9d267988",
   "metadata": {
    "ExecuteTime": {
     "end_time": "2021-07-21T08:45:47.510318Z",
     "start_time": "2021-07-21T08:45:47.493336Z"
    }
   },
   "outputs": [
    {
     "name": "stdout",
     "output_type": "stream",
     "text": [
      "<class 'tuple'>\n",
      "(5, 10)\n"
     ]
    }
   ],
   "source": [
    "a = swap(x, y)\n",
    "print(type(a))\n",
    "print(a)"
   ]
  },
  {
   "cell_type": "markdown",
   "id": "de08606c",
   "metadata": {},
   "source": [
    "# 3절 함수의 매개변수 ★"
   ]
  },
  {
   "cell_type": "markdown",
   "id": "9cdb69db",
   "metadata": {},
   "source": [
    "## 3.1 기본값을 갖는 매개변수"
   ]
  },
  {
   "cell_type": "code",
   "execution_count": 44,
   "id": "87269ad0",
   "metadata": {
    "ExecuteTime": {
     "end_time": "2021-07-21T08:51:41.271185Z",
     "start_time": "2021-07-21T08:51:41.267195Z"
    }
   },
   "outputs": [],
   "source": [
    "def make_url(ip, port = 80):\n",
    "    return \"http://{}:{}\".format(ip, port)"
   ]
  },
  {
   "cell_type": "code",
   "execution_count": 48,
   "id": "dc25b186",
   "metadata": {
    "ExecuteTime": {
     "end_time": "2021-07-21T08:53:26.440796Z",
     "start_time": "2021-07-21T08:53:26.435810Z"
    }
   },
   "outputs": [
    {
     "name": "stdout",
     "output_type": "stream",
     "text": [
      "http://localhost:9090\n",
      "http://www.naver.com:9090\n",
      "http://www.naver.com:9090\n",
      "http://localhost:80\n"
     ]
    }
   ],
   "source": [
    "print(make_url('localhost', 9090))\n",
    "print(make_url(port=9090, ip=\"www.naver.com\"))\n",
    "print(make_url(ip=\"www.naver.com\", port=9090)) # 파라미터명을 직접 명시하고 값을 입력할 경우 순서가 상관없다.\n",
    "print(make_url(\"localhost\")) # ip, port등의 항목이 모두 반드시 입력되야하는 것은 아니다.(기본값이 지정되어 있기 때문)"
   ]
  },
  {
   "cell_type": "markdown",
   "id": "fdac1a00",
   "metadata": {},
   "source": [
    "## 3.2 기본 변수를 갖는 매개변수"
   ]
  },
  {
   "cell_type": "code",
   "execution_count": 3,
   "id": "2156adc8",
   "metadata": {
    "ExecuteTime": {
     "end_time": "2021-07-30T05:24:30.865004Z",
     "start_time": "2021-07-30T05:24:30.861016Z"
    }
   },
   "outputs": [],
   "source": [
    "i = 5\n",
    "''' \n",
    "기본변수가 스칼라변수(문자, 숫자, 논리)일 때 \n",
    "    : arg의 기본값은 함수가 정의되는 지점에서의 한 번만 평가됨.\n",
    "'''\n",
    "def func2(arg = i):\n",
    "    print('arg = ', arg)"
   ]
  },
  {
   "cell_type": "code",
   "execution_count": 8,
   "id": "c7684574",
   "metadata": {},
   "outputs": [
    {
     "name": "stdout",
     "output_type": "stream",
     "text": [
      "arg =  5\n",
      "None\n"
     ]
    }
   ],
   "source": [
    "print(func2())"
   ]
  },
  {
   "cell_type": "code",
   "execution_count": 4,
   "id": "24a232ae",
   "metadata": {
    "ExecuteTime": {
     "end_time": "2021-07-30T05:24:32.242025Z",
     "start_time": "2021-07-30T05:24:32.237030Z"
    }
   },
   "outputs": [
    {
     "name": "stdout",
     "output_type": "stream",
     "text": [
      "arg =  10\n",
      "arg =  5\n",
      "arg =  5\n",
      "None\n"
     ]
    }
   ],
   "source": [
    "i = 6\n",
    "func2(10)\n",
    "func2() # 파이썬은 매개변수 갯수에 따라 다른 함수생성이 불가능 하다더니, \n",
    "        # 자바의 생성자처럼 매개변수를 받는 원래 함수 이외에 기본 함수라는 형태가 별도로 존재하네?\n",
    "print(func2()) # print를 할 때 return값이 정의되지 않았기 때문에 None도 출력됨."
   ]
  },
  {
   "cell_type": "code",
   "execution_count": 5,
   "id": "2ff1818a",
   "metadata": {
    "ExecuteTime": {
     "end_time": "2021-07-30T05:24:37.061095Z",
     "start_time": "2021-07-30T05:24:37.053118Z"
    }
   },
   "outputs": [
    {
     "name": "stdout",
     "output_type": "stream",
     "text": [
      "[1]\n",
      "[1]\n"
     ]
    }
   ],
   "source": [
    "# 기본변수가 리스트, 셋, 딕셔너리 또는 객체일 때\n",
    "list_ = []\n",
    "def func3(a, L = list_):\n",
    "    L.append(a)\n",
    "    return L\n",
    "print(func3(1))\n",
    "print(list_)"
   ]
  },
  {
   "cell_type": "code",
   "execution_count": 6,
   "id": "70d18625",
   "metadata": {
    "ExecuteTime": {
     "end_time": "2021-07-30T05:24:39.393121Z",
     "start_time": "2021-07-30T05:24:39.388137Z"
    }
   },
   "outputs": [
    {
     "name": "stdout",
     "output_type": "stream",
     "text": [
      "[1, 100]\n",
      "[1, 100]\n"
     ]
    }
   ],
   "source": [
    "print(func3(100))\n",
    "print(list_)"
   ]
  },
  {
   "cell_type": "code",
   "execution_count": 11,
   "id": "85c3e204",
   "metadata": {},
   "outputs": [],
   "source": [
    "list_ = [5] # 혼자 만들어 봄\n",
    "def func3_1(a, L = list_):\n",
    "    L.append(a)\n",
    "    return L"
   ]
  },
  {
   "cell_type": "code",
   "execution_count": 12,
   "id": "8ba8a929",
   "metadata": {},
   "outputs": [
    {
     "data": {
      "text/plain": [
       "[5, 6]"
      ]
     },
     "execution_count": 12,
     "metadata": {},
     "output_type": "execute_result"
    }
   ],
   "source": [
    "list_ = [1]\n",
    "func3_1(6) # ''' 기본변수가 함수의 정의 시점에 한 번만 평가되는 것이 여기서도 유지됨을 확인(list_의 초기값이 5에서 1로 재정의되지 않음.)'''"
   ]
  },
  {
   "cell_type": "code",
   "execution_count": 29,
   "id": "0f0f625e",
   "metadata": {
    "ExecuteTime": {
     "end_time": "2021-08-01T09:42:43.201073Z",
     "start_time": "2021-08-01T09:42:43.190103Z"
    }
   },
   "outputs": [
    {
     "name": "stdout",
     "output_type": "stream",
     "text": [
      "[4, 5, 6, 1]\n"
     ]
    }
   ],
   "source": [
    "def func4(a, L = [4,5,6]): # 혼자 만들어 봄. 기본값이 스칼라 값이 아닌 경우엔 최초 함수가 정의되는 지점이 아닌\n",
    "    L.append(a)             # 호출되는 시점에서의 할당되는 변수가 기본값으로 작동할 수 있는듯!\n",
    "    return L\n",
    "result = func4(1)\n",
    "print(result)\n",
    "\n",
    "# func4함수에 return이 없었으면 print(result)는 None을 반환한다.(아래 확인)\n",
    "# (func4(1)도 None을 반환함.)"
   ]
  },
  {
   "cell_type": "code",
   "execution_count": 9,
   "id": "f2e6363f",
   "metadata": {
    "ExecuteTime": {
     "end_time": "2021-08-01T08:12:45.838748Z",
     "start_time": "2021-08-01T08:12:45.832794Z"
    }
   },
   "outputs": [],
   "source": [
    "def func4(a, L = [4,5,6]): \n",
    "    L.append(a)            \n",
    "result = func4(1)"
   ]
  },
  {
   "cell_type": "code",
   "execution_count": 10,
   "id": "ab245b8d",
   "metadata": {
    "ExecuteTime": {
     "end_time": "2021-08-01T08:12:47.801194Z",
     "start_time": "2021-08-01T08:12:47.791220Z"
    }
   },
   "outputs": [
    {
     "name": "stdout",
     "output_type": "stream",
     "text": [
      "None\n"
     ]
    }
   ],
   "source": [
    "print(result)"
   ]
  },
  {
   "cell_type": "markdown",
   "id": "8b91d8f6",
   "metadata": {},
   "source": [
    "## 3.3 순서인수, 키워드 인수, 튜플매개변수, 딕셔너리매개변수 ...\n",
    "- 순서인수와 키워드인수(는 기본값을 가지는 인수)가 같이 올 때는 반드시 키워드 인수가 뒤에 위치해야한다.<br>\n",
    "     (키워드 인수가 먼저 오면 정의할 때부터 오류가 발생)\n",
    "```\n",
    "def function명(변수명1, 변수명2, 변수명3=기본값):\n",
    "               순서인수          키워드인수\n",
    "```\n",
    "- 순서인수 > 튜플인수(\\*) > 키워드인수 > 딕셔너리인수(\\**)"
   ]
  },
  {
   "cell_type": "code",
   "execution_count": 30,
   "id": "1a42bbc4",
   "metadata": {
    "ExecuteTime": {
     "end_time": "2021-08-01T10:12:16.609265Z",
     "start_time": "2021-08-01T10:12:16.592312Z"
    }
   },
   "outputs": [
    {
     "data": {
      "text/plain": [
       "[1]"
      ]
     },
     "execution_count": 30,
     "metadata": {},
     "output_type": "execute_result"
    }
   ],
   "source": [
    "def func5(a, L=None): # L = []로 해도 안된다? 주소값을 가질 수 있다?\n",
    "    if L is None:     # L == None으로 쓰지 않음.\n",
    "        L = []\n",
    "    L.append(a)\n",
    "    return L\n",
    "func5(1)"
   ]
  },
  {
   "cell_type": "code",
   "execution_count": 31,
   "id": "ebacdda8",
   "metadata": {
    "ExecuteTime": {
     "end_time": "2021-08-01T10:12:18.417072Z",
     "start_time": "2021-08-01T10:12:18.409092Z"
    }
   },
   "outputs": [
    {
     "data": {
      "text/plain": [
       "[2]"
      ]
     },
     "execution_count": 31,
     "metadata": {},
     "output_type": "execute_result"
    }
   ],
   "source": [
    "func5(2)"
   ]
  },
  {
   "cell_type": "code",
   "execution_count": null,
   "id": "e03cc90b",
   "metadata": {},
   "outputs": [],
   "source": [
    "# func5(1) 다음 func5(2)를 실행하면 값들이 누적되며 [1,2]의 값이 도출되었어야 했었다.\n",
    "# 쓰지 않으면 기본값이 적용되기 때문에 L = None으로 새로 시작하는 메커니즘으로 작동했던듯."
   ]
  },
  {
   "cell_type": "code",
   "execution_count": 46,
   "id": "4f2d9c63",
   "metadata": {
    "ExecuteTime": {
     "end_time": "2021-08-01T10:14:10.589902Z",
     "start_time": "2021-08-01T10:14:10.569962Z"
    }
   },
   "outputs": [
    {
     "data": {
      "text/plain": [
       "[3]"
      ]
     },
     "execution_count": 46,
     "metadata": {},
     "output_type": "execute_result"
    }
   ],
   "source": [
    "list_ = []\n",
    "func5(3, list_)"
   ]
  },
  {
   "cell_type": "code",
   "execution_count": 47,
   "id": "09c55ce9",
   "metadata": {
    "ExecuteTime": {
     "end_time": "2021-08-01T10:14:14.037921Z",
     "start_time": "2021-08-01T10:14:14.015978Z"
    }
   },
   "outputs": [
    {
     "data": {
      "text/plain": [
       "[3, 4]"
      ]
     },
     "execution_count": 47,
     "metadata": {},
     "output_type": "execute_result"
    }
   ],
   "source": [
    "func5(a=4, L=list_)"
   ]
  },
  {
   "cell_type": "code",
   "execution_count": 48,
   "id": "426937ab",
   "metadata": {
    "ExecuteTime": {
     "end_time": "2021-08-01T10:14:38.057567Z",
     "start_time": "2021-08-01T10:14:38.043603Z"
    }
   },
   "outputs": [
    {
     "data": {
      "text/plain": [
       "[3, 4, 5]"
      ]
     },
     "execution_count": 48,
     "metadata": {},
     "output_type": "execute_result"
    }
   ],
   "source": [
    "func5(L=list_, a=5)"
   ]
  },
  {
   "cell_type": "code",
   "execution_count": 49,
   "id": "6b10738f",
   "metadata": {
    "ExecuteTime": {
     "end_time": "2021-08-01T10:14:39.947357Z",
     "start_time": "2021-08-01T10:14:39.931400Z"
    }
   },
   "outputs": [
    {
     "data": {
      "text/plain": [
       "[6]"
      ]
     },
     "execution_count": 49,
     "metadata": {},
     "output_type": "execute_result"
    }
   ],
   "source": [
    "func5(a=6)"
   ]
  },
  {
   "cell_type": "code",
   "execution_count": 50,
   "id": "a5015761",
   "metadata": {
    "ExecuteTime": {
     "end_time": "2021-08-01T10:14:41.835304Z",
     "start_time": "2021-08-01T10:14:41.822371Z"
    }
   },
   "outputs": [
    {
     "data": {
      "text/plain": [
       "[3, 4, 5, 50]"
      ]
     },
     "execution_count": 50,
     "metadata": {},
     "output_type": "execute_result"
    }
   ],
   "source": [
    "func5(50, L=list_)"
   ]
  },
  {
   "cell_type": "code",
   "execution_count": 51,
   "id": "38ab0943",
   "metadata": {
    "ExecuteTime": {
     "end_time": "2021-08-01T10:14:45.343321Z",
     "start_time": "2021-08-01T10:14:45.331356Z"
    }
   },
   "outputs": [
    {
     "data": {
      "text/plain": [
       "[3, 4, 5, 50, 60]"
      ]
     },
     "execution_count": 51,
     "metadata": {},
     "output_type": "execute_result"
    }
   ],
   "source": [
    "func5(L=list_, a=60)"
   ]
  },
  {
   "cell_type": "code",
   "execution_count": null,
   "id": "7f8f994a",
   "metadata": {},
   "outputs": [],
   "source": [
    "'''\n",
    "순서를 반대로 하면 a=50으로 기술함 경우에도 오류가 발생(할 수도 있음)\n",
    "따라서 순서인수가 반드시 가장 먼저와야함\n",
    "일단 순서인수(Positional arguments)는 기본값을 가지지 않음 vs Keyword arguments\n",
    "가변인수(variable-length arguments, 튜플인수+딕셔너리인수) : *args / **kwargs\n",
    "*, ** 기호는 여러개의 인수를 받음을 표시\n",
    "'''"
   ]
  },
  {
   "cell_type": "code",
   "execution_count": 52,
   "id": "1ccc5b8f",
   "metadata": {
    "ExecuteTime": {
     "end_time": "2021-08-01T10:15:03.161119Z",
     "start_time": "2021-08-01T10:15:03.154135Z"
    }
   },
   "outputs": [
    {
     "data": {
      "text/plain": [
       "[[1]]"
      ]
     },
     "execution_count": 52,
     "metadata": {},
     "output_type": "execute_result"
    }
   ],
   "source": [
    "func5([1])\n",
    "# func5(a=[1])"
   ]
  },
  {
   "cell_type": "code",
   "execution_count": 15,
   "id": "5f412242",
   "metadata": {},
   "outputs": [
    {
     "data": {
      "text/plain": [
       "[1]"
      ]
     },
     "execution_count": 15,
     "metadata": {},
     "output_type": "execute_result"
    }
   ],
   "source": [
    "list__ = [] # 혼자 만들어 봄\n",
    "def func6(a, L=list__):\n",
    "    L.append(a)\n",
    "    return L\n",
    "func6(1)"
   ]
  },
  {
   "cell_type": "code",
   "execution_count": 16,
   "id": "839f4aee",
   "metadata": {},
   "outputs": [
    {
     "data": {
      "text/plain": [
       "[1, 2]"
      ]
     },
     "execution_count": 16,
     "metadata": {},
     "output_type": "execute_result"
    }
   ],
   "source": [
    "func6(2) #  L = list_를 매개변수(parameter)로 매번 입력하지 않으면서도 기존 list에 새로운 값이 추가되도록 함수를 정의해봄"
   ]
  },
  {
   "cell_type": "markdown",
   "id": "1ea2138a",
   "metadata": {},
   "source": [
    "## 3.4 튜플 매개변수를 이용한 가변인수설정"
   ]
  },
  {
   "cell_type": "code",
   "execution_count": null,
   "id": "aefb25cf",
   "metadata": {},
   "outputs": [],
   "source": [
    "add(1,2)\n",
    "add(1,2,3)\n",
    "add(1,2,3,4)\n",
    "add(1,2,3,4,5)\n",
    "'''\n",
    "와 같이 동일한 함수에 입력하는 파라미터의 갯수가 다를 수 있도록 설정하는 것을 목표로 함.\n",
    "1. 기본값이 설정될 수 있는 keyword arguments를 사용.\n",
    "2. variable-length arguments(*args, **kwargs)를 활용\n",
    "이 가능한 경우의 수 인듯.\n",
    "'''\n",
    "# 추가적으로 궁금한 점은 Java에서는 다른 갯수의 인수를 받을 수 있는 동일한 함수를 정의하는 것을 넘어서서\n",
    "# 인수의 갯수가 다를 경우 완전히 다른 함수로 작동하도록 함수의 정의가 가능했는지 여부가 궁금함.\n",
    "\n",
    "'''\n",
    "아래 [3.7 인수의 언패킹]을 보면, 파라미터는 *args로 여러개를 받을 수 있도록 설정하고\n",
    "if절을 사용하여 len(args)에 따라 다른 결과값을 받아볼 수 있도록 함수를 정의함.\n",
    "function(positional, *tuple, keyword, **dictionary)로 입력받을 파라미터의 갯수를 확장할 수 있지만,\n",
    "if절 없이는 정해진 순서에 맞춰 인입될 수 있는 인수의 갯수가 증가할 뿐\n",
    "다른 결과값을 반환하는 함수를 만들 수 없음.\n",
    "[3.7 인수의 언패킹]의 예제에 따라 기대했던 함수사용의 유연성이 확보된 것 같기도...?\n",
    "'''"
   ]
  },
  {
   "cell_type": "code",
   "execution_count": 39,
   "id": "b3a96728",
   "metadata": {
    "ExecuteTime": {
     "end_time": "2021-07-22T00:56:50.953804Z",
     "start_time": "2021-07-22T00:56:50.935853Z"
    }
   },
   "outputs": [],
   "source": [
    "def add(a, b):\n",
    "    return a+b\n",
    "# 함수에 return값이 있어야 변수에 할당하여 차후에 반복해서 활용할 수 있는듯?\n",
    "# return을 설정하지 않으면 단발성으로 작동시키고 휘발됨\n",
    "    # -> return을 포함하여 정의한 함수는 x = add(1,2)와 같이 변수에 값을 할당한 뒤 print(x)하여 재호출할 수 있음.\n",
    "    # -> return을 포함하지 않고 정의한 함수는 y = add(1,2)로 변수에 결과를 할당하더라도 print(y)를 통해 재호출이 불가함(None 반환)"
   ]
  },
  {
   "cell_type": "code",
   "execution_count": 53,
   "id": "ab5d4699",
   "metadata": {
    "ExecuteTime": {
     "end_time": "2021-08-01T10:28:51.436409Z",
     "start_time": "2021-08-01T10:28:51.420449Z"
    }
   },
   "outputs": [
    {
     "name": "stdout",
     "output_type": "stream",
     "text": [
      "6\n"
     ]
    }
   ],
   "source": [
    "def add(a, b, c):\n",
    "    return a+b+c\n",
    "add(1,2,3)"
   ]
  },
  {
   "cell_type": "code",
   "execution_count": null,
   "id": "de97f102",
   "metadata": {},
   "outputs": [],
   "source": [
    "'''\n",
    "파이썬에서는 JAVA에서와는 달리 함수명이 같고 매개변수가 다른 함수들이 동시에 존재할 수 없다.\n",
    "이럴 때 튜플 매개변수를 활용할 수 있음!\n",
    "매개변수의 갯수가 확정되지 않도록 정의할 수 있다.(가변인수로 사용할 수 있음, *args, **kwargs)\n",
    "'''"
   ]
  },
  {
   "cell_type": "code",
   "execution_count": 51,
   "id": "2934ef68",
   "metadata": {
    "ExecuteTime": {
     "end_time": "2021-07-30T17:11:40.864225Z",
     "start_time": "2021-07-30T17:11:40.859239Z"
    }
   },
   "outputs": [],
   "source": [
    "# args 앞의 * : *args가 튜플로 전달됨을 의미\n",
    "def add(*args):\n",
    "    print(args)"
   ]
  },
  {
   "cell_type": "code",
   "execution_count": 52,
   "id": "a475ebb4",
   "metadata": {
    "ExecuteTime": {
     "end_time": "2021-07-22T01:00:16.095510Z",
     "start_time": "2021-07-22T01:00:16.086517Z"
    }
   },
   "outputs": [
    {
     "name": "stdout",
     "output_type": "stream",
     "text": [
      "(1, 2)\n",
      "None\n",
      "(1, 2, 3)\n",
      "None\n"
     ]
    }
   ],
   "source": [
    "print(add(1,2)) # add(1,2)함수의 실행 결과로 (1, 2)가 반환\n",
    "print(add(1,2,3)) # return값이 설정되어 있지 않기 때문에 None이 반환됨!"
   ]
  },
  {
   "cell_type": "code",
   "execution_count": 12,
   "id": "62b2d7b4",
   "metadata": {
    "ExecuteTime": {
     "end_time": "2021-07-22T01:01:49.364343Z",
     "start_time": "2021-07-22T01:01:49.352354Z"
    }
   },
   "outputs": [],
   "source": [
    "def add(*args):\n",
    "    sum = 0\n",
    "    for num in args:\n",
    "        sum += num\n",
    "    return sum"
   ]
  },
  {
   "cell_type": "code",
   "execution_count": 13,
   "id": "5e3e9a20",
   "metadata": {
    "ExecuteTime": {
     "end_time": "2021-07-22T01:02:07.492832Z",
     "start_time": "2021-07-22T01:02:07.479852Z"
    }
   },
   "outputs": [
    {
     "name": "stdout",
     "output_type": "stream",
     "text": [
      "1\n",
      "36\n"
     ]
    }
   ],
   "source": [
    "print(add(1))\n",
    "print(add(1,2,3,4,5,6,7,8,))"
   ]
  },
  {
   "cell_type": "code",
   "execution_count": 14,
   "id": "d3c0d056",
   "metadata": {
    "ExecuteTime": {
     "end_time": "2021-07-22T01:04:08.404347Z",
     "start_time": "2021-07-22T01:04:08.392379Z"
    }
   },
   "outputs": [
    {
     "data": {
      "text/plain": [
       "'서울-부산'"
      ]
     },
     "execution_count": 14,
     "metadata": {},
     "output_type": "execute_result"
    }
   ],
   "source": [
    "# cf\n",
    "city = ('서울', '부산')\n",
    "'-'.join(city)"
   ]
  },
  {
   "cell_type": "code",
   "execution_count": 15,
   "id": "44d04061",
   "metadata": {
    "ExecuteTime": {
     "end_time": "2021-07-22T01:05:11.030647Z",
     "start_time": "2021-07-22T01:05:11.014661Z"
    }
   },
   "outputs": [],
   "source": [
    "def concat(*args, sep):\n",
    "    return sep.join(args)"
   ]
  },
  {
   "cell_type": "code",
   "execution_count": 18,
   "id": "06e78e03",
   "metadata": {
    "ExecuteTime": {
     "end_time": "2021-07-22T01:06:04.884190Z",
     "start_time": "2021-07-22T01:06:04.872223Z"
    }
   },
   "outputs": [
    {
     "ename": "TypeError",
     "evalue": "concat() missing 1 required keyword-only argument: 'sep'",
     "output_type": "error",
     "traceback": [
      "\u001b[1;31m---------------------------------------------------------------------------\u001b[0m",
      "\u001b[1;31mTypeError\u001b[0m                                 Traceback (most recent call last)",
      "\u001b[1;32m<ipython-input-18-1d025eb6ae48>\u001b[0m in \u001b[0;36m<module>\u001b[1;34m\u001b[0m\n\u001b[1;32m----> 1\u001b[1;33m \u001b[0mconcat\u001b[0m\u001b[1;33m(\u001b[0m\u001b[1;33m(\u001b[0m\u001b[1;34m'Java'\u001b[0m\u001b[1;33m,\u001b[0m \u001b[1;34m'Oracle'\u001b[0m\u001b[1;33m,\u001b[0m \u001b[1;34m'Web'\u001b[0m\u001b[1;33m,\u001b[0m \u001b[1;34m'R'\u001b[0m\u001b[1;33m,\u001b[0m \u001b[1;34m'Python'\u001b[0m\u001b[1;33m)\u001b[0m\u001b[1;33m,\u001b[0m\u001b[1;34m'-'\u001b[0m\u001b[1;33m)\u001b[0m\u001b[1;33m\u001b[0m\u001b[1;33m\u001b[0m\u001b[0m\n\u001b[0m",
      "\u001b[1;31mTypeError\u001b[0m: concat() missing 1 required keyword-only argument: 'sep'"
     ]
    }
   ],
   "source": [
    "concat('Java', 'Oracle', 'Web', 'R', 'Python','-') \n",
    "     # java~python까지는 args로 인식되고, -은 sep으로 지정되길 희망함"
   ]
  },
  {
   "cell_type": "code",
   "execution_count": 19,
   "id": "29a23d64",
   "metadata": {
    "ExecuteTime": {
     "end_time": "2021-07-22T01:08:00.751738Z",
     "start_time": "2021-07-22T01:08:00.742740Z"
    }
   },
   "outputs": [
    {
     "data": {
      "text/plain": [
       "'Java-Oracle-Web-R-Python'"
      ]
     },
     "execution_count": 19,
     "metadata": {},
     "output_type": "execute_result"
    }
   ],
   "source": [
    "# 해결책 1\n",
    "concat('Java', 'Oracle', 'Web', 'R', 'Python', sep='-')"
   ]
  },
  {
   "cell_type": "code",
   "execution_count": 20,
   "id": "2a756b20",
   "metadata": {
    "ExecuteTime": {
     "end_time": "2021-07-22T01:09:47.417678Z",
     "start_time": "2021-07-22T01:09:47.399726Z"
    }
   },
   "outputs": [],
   "source": [
    "# 해결책 2\n",
    "def concat(sep, *args):\n",
    "    return sep.join(args)"
   ]
  },
  {
   "cell_type": "code",
   "execution_count": 21,
   "id": "98727dd7",
   "metadata": {
    "ExecuteTime": {
     "end_time": "2021-07-22T01:10:07.109522Z",
     "start_time": "2021-07-22T01:10:07.094533Z"
    }
   },
   "outputs": [
    {
     "data": {
      "text/plain": [
       "'Java-Oracle-Web-R-Python'"
      ]
     },
     "execution_count": 21,
     "metadata": {},
     "output_type": "execute_result"
    }
   ],
   "source": [
    "concat('-','Java', 'Oracle', 'Web', 'R', 'Python')"
   ]
  },
  {
   "cell_type": "code",
   "execution_count": null,
   "id": "6fb66925",
   "metadata": {},
   "outputs": [],
   "source": [
    "# 해결책 1에서 sep=' '을 입력하지 않고 args만 넣으면 첫 번째 항목인 'java'가 sep으로 인식될 수 있음;;;"
   ]
  },
  {
   "cell_type": "code",
   "execution_count": 22,
   "id": "21700226",
   "metadata": {
    "ExecuteTime": {
     "end_time": "2021-07-22T01:13:43.988280Z",
     "start_time": "2021-07-22T01:13:43.975315Z"
    }
   },
   "outputs": [],
   "source": [
    "# 해결책 3\n",
    "def concat(*args, sep='/'): # 순서인수(기본값X인 인수)가 가장 앞에 위치\n",
    "    return sep.join(args)   # 순서인수 > 튜플인수(\\*) > 키워드인수 > 딕셔너리인수(\\**) 순서를 반드시 지켜줘야함\n",
    "                             #              (*)     (변수명=기본값)"
   ]
  },
  {
   "cell_type": "code",
   "execution_count": 23,
   "id": "432330f0",
   "metadata": {
    "ExecuteTime": {
     "end_time": "2021-07-22T01:13:52.462113Z",
     "start_time": "2021-07-22T01:13:52.454104Z"
    }
   },
   "outputs": [
    {
     "data": {
      "text/plain": [
       "'Java/Oracle/Web/R/Python'"
      ]
     },
     "execution_count": 23,
     "metadata": {},
     "output_type": "execute_result"
    }
   ],
   "source": [
    "concat('Java', 'Oracle', 'Web', 'R', 'Python') # sep을 별도로 입력하지 않으면 '/'이 sep의 기본값으로 적용됨."
   ]
  },
  {
   "cell_type": "code",
   "execution_count": 25,
   "id": "a23f9372",
   "metadata": {
    "ExecuteTime": {
     "end_time": "2021-07-22T01:16:43.744388Z",
     "start_time": "2021-07-22T01:16:43.734388Z"
    }
   },
   "outputs": [
    {
     "data": {
      "text/plain": [
       "'Java ~ Oracle ~ Web ~ R ~ Python'"
      ]
     },
     "execution_count": 25,
     "metadata": {},
     "output_type": "execute_result"
    }
   ],
   "source": [
    "concat('Java', 'Oracle', 'Web', 'R', 'Python', sep = ' ~ ') # sep을 명시함으로써 기본 sep값이 대체됨."
   ]
  },
  {
   "cell_type": "markdown",
   "id": "b51ef9af",
   "metadata": {},
   "source": [
    "## 3.5 딕셔너리 매개변수\n",
    "- 순서인수, 튜플인수, 키워드인수, 딕셔너리 인수 등은 모두 같이 사용될 수 있는데 순서를 유의해서 사용.\n",
    "- A keyword argument is where you provide a name to the variable as you pass it into the function.\n",
    "- One can think of the kwargs as being a dictionary that maps each keyword to the value that we pass alongside it. <br>\n",
    "     That is why when we iterate over the kwargs there doesn’t seem to be any order in which they were printed out."
   ]
  },
  {
   "cell_type": "code",
   "execution_count": 5,
   "id": "cfd288b5",
   "metadata": {
    "ExecuteTime": {
     "end_time": "2021-07-30T18:16:56.229454Z",
     "start_time": "2021-07-30T18:16:56.218484Z"
    }
   },
   "outputs": [
    {
     "name": "stdout",
     "output_type": "stream",
     "text": [
      "name : Dwayne\n",
      "age : 20\n",
      "address : 서울시\n"
     ]
    }
   ],
   "source": [
    "def func6(**args):     # args가 딕셔너리로 전달\n",
    "    for key, value in args.items():\n",
    "        print(\"{} : {}\".format(key, value))\n",
    "func6(name=\"Dwayne\", age=20, address=\"서울시\")"
   ]
  },
  {
   "cell_type": "code",
   "execution_count": null,
   "id": "a7d1e682",
   "metadata": {},
   "outputs": [],
   "source": [
    "'''\n",
    ".items()는 매서드인가?\n",
    "\n",
    "Dictionary in Python is an unordered collection of data values, \n",
    "used to store data values like a map, which unlike other Data Types that hold only single value as an element, \n",
    "Dictionary holds key : value pair.\n",
    "In Python Dictionary, items() method is used to return the list with all dictionary keys with values.\n",
    "\n",
    "args.items(), args.values(), args.keys()\n",
    "'''"
   ]
  },
  {
   "cell_type": "code",
   "execution_count": 59,
   "id": "465098dd",
   "metadata": {
    "ExecuteTime": {
     "end_time": "2021-08-01T10:58:24.317832Z",
     "start_time": "2021-08-01T10:58:24.310848Z"
    }
   },
   "outputs": [],
   "source": [
    "# 순서인수 > 튜플인수(\\*) > 키워드인수 > 딕셔너리인수(\\**) 순서를 반드시 지켜줘야함\n",
    "def func7(a, *b, **c):\n",
    "    print('a =', a)\n",
    "    print('b =', b)\n",
    "    print('c =', c)\n",
    "# 여러 인수를 받고 프린트 하는 것과 같은 형태를 return값 설정으로 반환할 수는 있나?"
   ]
  },
  {
   "cell_type": "code",
   "execution_count": 60,
   "id": "c4e0bcb5",
   "metadata": {
    "ExecuteTime": {
     "end_time": "2021-08-01T10:58:26.227308Z",
     "start_time": "2021-08-01T10:58:26.214342Z"
    }
   },
   "outputs": [
    {
     "name": "stdout",
     "output_type": "stream",
     "text": [
      "a = 1\n",
      "b = (10, 2, 3, 4, 5, 6, 7, 8, 9, 0)\n",
      "c = {'name': 'kim', 'age': 30}\n"
     ]
    }
   ],
   "source": [
    "func7(1,10,2,3,4,5,6,7,8,9,0, name='kim', age=30)"
   ]
  },
  {
   "cell_type": "code",
   "execution_count": null,
   "id": "842a6e31",
   "metadata": {},
   "outputs": [],
   "source": [
    "'''\n",
    "*b에 해당하는 영역으로 입력된 파라미터가 함수에 적용되어 최종적으로 튜플의 형태로 결과값이 반환됨.\n",
    "**c에 해당하는 영역으로 입력된 파라미터가 함수적용 후 딕셔너리의 형태로 결과값이 반환됨.\n",
    "'''"
   ]
  },
  {
   "cell_type": "code",
   "execution_count": 1,
   "id": "5714dae8",
   "metadata": {
    "ExecuteTime": {
     "end_time": "2021-08-01T11:35:05.717695Z",
     "start_time": "2021-08-01T11:35:05.703734Z"
    }
   },
   "outputs": [],
   "source": [
    "def myFun(**kwargs):\n",
    "    for key, value in kwargs.items():\n",
    "        print(\"%s = %s\" %(key, value))\n",
    "####################################################"
   ]
  },
  {
   "cell_type": "code",
   "execution_count": null,
   "id": "51636e76",
   "metadata": {},
   "outputs": [],
   "source": [
    "'''\n",
    "아래는 인터넷으로 찾아본 예제\n",
    "꼭 {\"first\":\"Geek\", \"mid\":\"for\", \"last\":\"Geeks\"} 형태가 아니어도 되는듯. ???\n",
    "일반적인 딕셔너리({} + :  를 이용) 외에 어떤 다른 형태들이 사용가능한지 찾아보자. ???\n",
    "-----------------------------------------------------------------------------------------------\n",
    "변수로 지정해서 myFun(c)와 같이 입력하기 위해서는 반드시 딕셔너리이어야 하긴 하는듯?\n",
    "c = {\"first\":\"Geek\", \"mid\":\"for\", \"last\":\"Geeks\"}\n",
    "아래에서\n",
    "info = ('height':100, 'width':200, 'shape':'rect')\n",
    "func(**info)를 실행했을 때 에러가 발생함!!!\n",
    "'''"
   ]
  },
  {
   "cell_type": "code",
   "execution_count": 17,
   "id": "6192c5be",
   "metadata": {},
   "outputs": [
    {
     "name": "stdout",
     "output_type": "stream",
     "text": [
      "key : height / value : 100\n",
      "key : width / value : 200\n",
      "key : shape / value : rect\n"
     ]
    }
   ],
   "source": [
    "info = {\"height\":100, \"width\":200, \"shape\":\"rect\"}\n",
    "def func(**kwargs):\n",
    "    for key, value in kwargs.items():\n",
    "        print(f'key : {key} / value : {value}')\n",
    "func(**info)"
   ]
  },
  {
   "cell_type": "code",
   "execution_count": 9,
   "id": "8cfd0c20",
   "metadata": {
    "ExecuteTime": {
     "end_time": "2021-07-30T19:30:24.976552Z",
     "start_time": "2021-07-30T19:30:24.955642Z"
    },
    "scrolled": true
   },
   "outputs": [
    {
     "name": "stdout",
     "output_type": "stream",
     "text": [
      "first = Geek\n",
      "mid = for\n",
      "last = Geeks\n"
     ]
    }
   ],
   "source": [
    "myFun(first = 'Geek', mid = 'for', last = 'Geeks')"
   ]
  },
  {
   "cell_type": "markdown",
   "id": "2ec8787f",
   "metadata": {
    "ExecuteTime": {
     "end_time": "2021-07-22T01:43:58.903252Z",
     "start_time": "2021-07-22T01:43:58.887288Z"
    }
   },
   "source": [
    "## 3.6 함수 정의시 매개변수의 순서\n",
    "- 순서인수 > 튜플인수(\\*) > 키워드인수 > 딕셔너리인수(\\**)"
   ]
  },
  {
   "cell_type": "code",
   "execution_count": 36,
   "id": "70e2929a",
   "metadata": {
    "ExecuteTime": {
     "end_time": "2021-07-22T01:49:03.377647Z",
     "start_time": "2021-07-22T01:49:03.362658Z"
    }
   },
   "outputs": [],
   "source": [
    "def func(a,b,c,*d,e=10,**f): # 튜플인수는 하나일 수밖에 없는듯.                 - parameters\n",
    "    print('a =', a)           # *args를 사용하면 여러인수가 들어오는거 아닌가?  - arguments\n",
    "    print('b =', b)\n",
    "    print('c =', c)\n",
    "    print('d =', d)\n",
    "    print('e =', e)\n",
    "    print('f =', f)"
   ]
  },
  {
   "cell_type": "code",
   "execution_count": 37,
   "id": "dfef3acd",
   "metadata": {
    "ExecuteTime": {
     "end_time": "2021-07-22T01:49:27.668566Z",
     "start_time": "2021-07-22T01:49:27.650622Z"
    }
   },
   "outputs": [
    {
     "name": "stdout",
     "output_type": "stream",
     "text": [
      "a = 10\n",
      "b = 20\n",
      "c = 30\n",
      "d = (1, 2, 3, 4, 5, 6, 7)\n",
      "e = 100\n",
      "f = {'name': 'kim', 'age': 30, 'address': '서울시'}\n"
     ]
    }
   ],
   "source": [
    "func(10, 20, 30, 1,2,3,4,5,6,7, e=100, name='kim', age=30, address='서울시')"
   ]
  },
  {
   "cell_type": "markdown",
   "id": "03cc7007",
   "metadata": {},
   "source": [
    "## 3.7 인수의 언패킹"
   ]
  },
  {
   "cell_type": "markdown",
   "id": "ef01fa4a",
   "metadata": {},
   "source": [
    "### 튜플인수 언패킹"
   ]
  },
  {
   "cell_type": "code",
   "execution_count": 62,
   "id": "239a5565",
   "metadata": {
    "ExecuteTime": {
     "end_time": "2021-08-01T12:27:15.611372Z",
     "start_time": "2021-08-01T12:27:15.594415Z"
    }
   },
   "outputs": [],
   "source": [
    "def add(*args):\n",
    "    sum = 0\n",
    "    for num in args:\n",
    "        sum += num\n",
    "    return sum"
   ]
  },
  {
   "cell_type": "code",
   "execution_count": 63,
   "id": "dd9d3c6f",
   "metadata": {
    "ExecuteTime": {
     "end_time": "2021-08-01T12:27:18.034597Z",
     "start_time": "2021-08-01T12:27:18.022632Z"
    }
   },
   "outputs": [
    {
     "data": {
      "text/plain": [
       "45"
      ]
     },
     "execution_count": 63,
     "metadata": {},
     "output_type": "execute_result"
    }
   ],
   "source": [
    "add(1,2,3,4,5,6,7,8,9)"
   ]
  },
  {
   "cell_type": "code",
   "execution_count": 64,
   "id": "2095138c",
   "metadata": {
    "ExecuteTime": {
     "end_time": "2021-08-01T12:27:20.541083Z",
     "start_time": "2021-08-01T12:27:20.521136Z"
    }
   },
   "outputs": [
    {
     "data": {
      "text/plain": [
       "45"
      ]
     },
     "execution_count": 64,
     "metadata": {},
     "output_type": "execute_result"
    }
   ],
   "source": [
    "# 튜플 언패킹\n",
    "numbers = (1,2,3,4,5,6,7,8,9)\n",
    "# add(numbers)를 하고 싶지만 오류발생\n",
    "add(*numbers)\n",
    "# 어제 배웠던 add(enumerate(numbers))이런식으로의 적용은 활용할 수 없는 이유가 있는지 복습할 것"
   ]
  },
  {
   "cell_type": "code",
   "execution_count": null,
   "id": "4a3c2c0e",
   "metadata": {},
   "outputs": [],
   "source": [
    "# 예제 : 다음과 같은 결과를 return하는 함수를 작성하고 test하시오\n",
    "# print(list(range2(10)))          => [0,1,2,3,4,5,6,7,8,9,10]을 반환\n",
    "# print(list(range2(4,10)))        => [4,5,6,7,8,9,10]을 반환\n",
    "# print(list(range2(4,10,2)))      => [4,6,8,10]을 반환"
   ]
  },
  {
   "cell_type": "code",
   "execution_count": null,
   "id": "82d6b722",
   "metadata": {},
   "outputs": [],
   "source": [
    "'''\n",
    "혼자 시도해 보려고 했던 방법\n",
    "def func(to):\n",
    "def func(frOm, to):\n",
    "def func(frOm, to, by): 로 작동하게 하고 싶은데\n",
    "*args-if를 사용하지 않고서는 첫 함수에서 to로 받았던 인수가 \n",
    "두 번째 함수에서 두 번째 인수로 작용하도록 순서를 바꿀 수 있는 방법이 없는듯.\n",
    "\n",
    "또 if절 안에 기존의 함수인 range함수가 적용(이용)된 것도 필수적...\n",
    "'''"
   ]
  },
  {
   "cell_type": "code",
   "execution_count": 49,
   "id": "70112949",
   "metadata": {
    "ExecuteTime": {
     "end_time": "2021-07-22T02:20:45.660288Z",
     "start_time": "2021-07-22T02:20:45.650276Z"
    }
   },
   "outputs": [],
   "source": [
    "def range2(*args):\n",
    "    result = []\n",
    "    length = len(args)\n",
    "    if length == 0:\n",
    "        raise Exception('매개변수가 하나 이상 필요합니다')\n",
    "    elif length == 1:\n",
    "        for i in range(args[0]+1):\n",
    "            result.append(i)\n",
    "    elif length == 2:\n",
    "        for i in range(args[0], args[1]+1):\n",
    "            result.append(i)\n",
    "    elif length == 3:\n",
    "        for i in range(args[0], args[1]+1, args[2]):\n",
    "            result.append(i)\n",
    "    elif length > 3:\n",
    "        print('입력하신 매개변수가 너무 많습니다. 다시 확인해 주세요')\n",
    "        return ''\n",
    "    return result\n",
    "###########################################################################"
   ]
  },
  {
   "cell_type": "code",
   "execution_count": 50,
   "id": "e3d2a26b",
   "metadata": {
    "ExecuteTime": {
     "end_time": "2021-07-22T02:20:47.030481Z",
     "start_time": "2021-07-22T02:20:47.023500Z"
    }
   },
   "outputs": [
    {
     "name": "stdout",
     "output_type": "stream",
     "text": [
      "[0, 1, 2, 3, 4, 5, 6, 7, 8, 9, 10]\n",
      "[5, 6, 7, 8, 9, 10]\n",
      "[5, 7, 9, 11]\n",
      "입력하신 매개변수가 너무 많습니다. 다시 확인해 주세요\n",
      "\n"
     ]
    }
   ],
   "source": [
    "print(range2(10))\n",
    "print(range2(5,10))\n",
    "print(range2(5,11,2))\n",
    "print(range2(1,1,1,1,1,1,))"
   ]
  },
  {
   "cell_type": "markdown",
   "id": "ad894da7",
   "metadata": {
    "ExecuteTime": {
     "end_time": "2021-07-22T02:35:57.526988Z",
     "start_time": "2021-07-22T02:35:57.517990Z"
    }
   },
   "source": [
    "### 딕셔너리 인수 언패킹"
   ]
  },
  {
   "cell_type": "code",
   "execution_count": 65,
   "id": "aed28c8f",
   "metadata": {
    "ExecuteTime": {
     "end_time": "2021-08-01T13:09:46.408472Z",
     "start_time": "2021-08-01T13:09:46.399498Z"
    }
   },
   "outputs": [
    {
     "name": "stdout",
     "output_type": "stream",
     "text": [
      "('height', 100)\n",
      "('width', 200)\n",
      "('shape', 'rect')\n"
     ]
    }
   ],
   "source": [
    "def func(**data):\n",
    "    for item in data.items():\n",
    "        print(item)\n",
    "func(height=100, width=200, shape=\"rect\")"
   ]
  },
  {
   "cell_type": "code",
   "execution_count": 68,
   "id": "e543eea5",
   "metadata": {
    "ExecuteTime": {
     "end_time": "2021-08-01T13:10:29.111230Z",
     "start_time": "2021-08-01T13:10:29.095316Z"
    }
   },
   "outputs": [
    {
     "name": "stdout",
     "output_type": "stream",
     "text": [
      "('height', 100)\n",
      "('width', 200)\n",
      "('shape', 'rect')\n"
     ]
    }
   ],
   "source": [
    "info = {'height':100, 'width':200, 'shape':'rect'}\n",
    "func(**info) # 딕셔너리 언패킹"
   ]
  },
  {
   "cell_type": "code",
   "execution_count": null,
   "id": "789d28cc",
   "metadata": {},
   "outputs": [],
   "source": [
    "# 함수에 직접 입력할 때는 func(key1=value1, key2=value2, ...) 으로 괄호를 사용.\n",
    "# func(변수명)으로 사용할 때 변수는 딕셔너리의 형태로 이루어져 있어야 하는 듯."
   ]
  },
  {
   "cell_type": "markdown",
   "id": "559fdab4",
   "metadata": {
    "ExecuteTime": {
     "end_time": "2021-07-22T02:42:35.011242Z",
     "start_time": "2021-07-22T02:42:34.993250Z"
    }
   },
   "source": [
    "# 4절. 람다식\n",
    "- 람다식은 작은 익명함수를 의미함\n",
    "- 실행할 문장을 한 문장만으로 작성할 수 있음\n",
    "- return 구문이 없이도 statement 결과를 반환함\n",
    "- 리스트 컴프리헨션과 같이 참조해서 학습할 것을 추천\n",
    "- filter(), map()함수 같이 참조해서 학습 추천"
   ]
  },
  {
   "cell_type": "markdown",
   "id": "754cbd63",
   "metadata": {},
   "source": [
    "## 4.1 람다식 ; return 한 줄 짜리 작은 익명함수\n",
    "- Syntax ||| lambda arguments : expression</br>\n",
    "                  The expression is executed and the result is returned."
   ]
  },
  {
   "cell_type": "markdown",
   "id": "48b1eda4",
   "metadata": {},
   "source": [
    "small argument functions can be created with the lambda keyword. \n",
    "Lambda functions can be used wherever function objects are required. \n",
    "Semantically, they are just syntactic sugar for a normal function definition.\n",
    "\n",
    "정상적인 함수의 정의를 간단한 형태로 표현하는 방법임."
   ]
  },
  {
   "cell_type": "code",
   "execution_count": 56,
   "id": "a2a40389",
   "metadata": {
    "ExecuteTime": {
     "end_time": "2021-07-22T02:55:26.309585Z",
     "start_time": "2021-07-22T02:55:26.301606Z"
    }
   },
   "outputs": [
    {
     "data": {
      "text/plain": [
       "8"
      ]
     },
     "execution_count": 56,
     "metadata": {},
     "output_type": "execute_result"
    }
   ],
   "source": [
    "def add(a, b):\n",
    "    return a+b\n",
    "add(3,5)"
   ]
  },
  {
   "cell_type": "code",
   "execution_count": 59,
   "id": "2237f384",
   "metadata": {
    "ExecuteTime": {
     "end_time": "2021-07-22T02:56:48.487690Z",
     "start_time": "2021-07-22T02:56:48.477717Z"
    }
   },
   "outputs": [
    {
     "name": "stdout",
     "output_type": "stream",
     "text": [
      "7\n",
      "<class 'function'> <class 'function'>\n"
     ]
    }
   ],
   "source": [
    "ad = add # 함수가 마치 변수처럼 선언됨;;;\n",
    "         # 앞에서도 했었음. fibo = fibonacci\n",
    "print(ad(2,5))\n",
    "print(type(ad),type(add))"
   ]
  },
  {
   "cell_type": "code",
   "execution_count": 2,
   "id": "72611b0a",
   "metadata": {
    "ExecuteTime": {
     "end_time": "2021-08-01T13:27:32.114925Z",
     "start_time": "2021-08-01T13:27:32.094984Z"
    }
   },
   "outputs": [],
   "source": [
    "# lambda variable_define : statement\n",
    "add = lambda a, b : a + b\n",
    "####################################"
   ]
  },
  {
   "cell_type": "code",
   "execution_count": 11,
   "id": "8b2b99bc",
   "metadata": {},
   "outputs": [
    {
     "data": {
      "text/plain": [
       "function"
      ]
     },
     "execution_count": 11,
     "metadata": {},
     "output_type": "execute_result"
    }
   ],
   "source": [
    "type(add)"
   ]
  },
  {
   "cell_type": "code",
   "execution_count": 3,
   "id": "e50b9906",
   "metadata": {
    "ExecuteTime": {
     "end_time": "2021-08-01T13:27:34.221719Z",
     "start_time": "2021-08-01T13:27:34.214755Z"
    }
   },
   "outputs": [
    {
     "data": {
      "text/plain": [
       "8"
      ]
     },
     "execution_count": 3,
     "metadata": {},
     "output_type": "execute_result"
    }
   ],
   "source": [
    "add(3, 5)"
   ]
  },
  {
   "cell_type": "code",
   "execution_count": 1,
   "id": "00b361df",
   "metadata": {
    "ExecuteTime": {
     "end_time": "2021-08-01T15:20:52.675977Z",
     "start_time": "2021-08-01T15:20:52.646060Z"
    }
   },
   "outputs": [
    {
     "data": {
      "text/plain": [
       "12"
      ]
     },
     "execution_count": 1,
     "metadata": {},
     "output_type": "execute_result"
    }
   ],
   "source": [
    "(lambda a, b : a+b)(10,2) # ※ 다른 언어에서는 볼 수 없는 여러 변수의 동시할당\n",
    "                           # 위에는 람다식을 이용해 함수를 만들어 사용했던 반면, 여기서는 람다식을 즉각 사용함\n",
    "####################################"
   ]
  },
  {
   "cell_type": "markdown",
   "id": "1da0e718",
   "metadata": {
    "ExecuteTime": {
     "end_time": "2021-07-22T03:02:31.879022Z",
     "start_time": "2021-07-22T03:02:31.873015Z"
    }
   },
   "source": [
    "## 4.2 함수의 매개변수(인수)에 람다식 사용"
   ]
  },
  {
   "cell_type": "code",
   "execution_count": 14,
   "id": "febd5124",
   "metadata": {},
   "outputs": [
    {
     "data": {
      "text/plain": [
       "[(1, 'one'), (3, 'three'), (2, 'two')]"
      ]
     },
     "execution_count": 14,
     "metadata": {},
     "output_type": "execute_result"
    }
   ],
   "source": [
    "pairs = [(1, 'one'), (2, 'two'), (3, 'three')]\n",
    "pairs.sort(key = lambda x : x[1])\n",
    "pairs"
   ]
  },
  {
   "cell_type": "code",
   "execution_count": null,
   "id": "c0eb27ba",
   "metadata": {},
   "outputs": [],
   "source": [
    "# 복잡한 식 먼저 확인하고 아래에서 간단한 함수들로 간편화함...!!!"
   ]
  },
  {
   "cell_type": "code",
   "execution_count": 1,
   "id": "cff14f6f",
   "metadata": {
    "ExecuteTime": {
     "end_time": "2021-08-01T15:21:18.491325Z",
     "start_time": "2021-08-01T15:21:18.470382Z"
    }
   },
   "outputs": [],
   "source": [
    "def map_template(func, L=[]):\n",
    "    result = []\n",
    "    for item in L:\n",
    "        result.append(func(item))\n",
    "    return result"
   ]
  },
  {
   "cell_type": "code",
   "execution_count": 2,
   "id": "49abd09c",
   "metadata": {
    "ExecuteTime": {
     "end_time": "2021-08-01T15:21:20.492832Z",
     "start_time": "2021-08-01T15:21:20.470925Z"
    }
   },
   "outputs": [
    {
     "data": {
      "text/plain": [
       "[2, 4, 6, 8, 10, 12, 14, 16, 18]"
      ]
     },
     "execution_count": 2,
     "metadata": {},
     "output_type": "execute_result"
    }
   ],
   "source": [
    "def x_2(x):\n",
    "    return x*2\n",
    "list_data = [1,2,3,4,5,6,7,8,9]\n",
    "map_template(x_2, list_data)\n",
    "#  리스트 list_data의 요소들이 x_2()함수의 파라미터로 입력됨."
   ]
  },
  {
   "cell_type": "code",
   "execution_count": 10,
   "id": "8f202d2f",
   "metadata": {},
   "outputs": [
    {
     "data": {
      "text/plain": [
       "[1, 2, 3, 4, 5, 6, 7, 8, 9, 1, 2, 3, 4, 5, 6, 7, 8, 9]"
      ]
     },
     "execution_count": 10,
     "metadata": {},
     "output_type": "execute_result"
    }
   ],
   "source": [
    "list_data = [1,2,3,4,5,6,7,8,9]\n",
    "f1 = lambda x :x*2 # list컴프리헨션에서의 x 위치에 있는 기호가 갖는 의미와 비교해서 기억하기!\n",
    "f1(list_data)"
   ]
  },
  {
   "cell_type": "code",
   "execution_count": null,
   "id": "4af604a0",
   "metadata": {},
   "outputs": [],
   "source": [
    "# list_data = [1,2,3,4,5,6,7,8,9]\n",
    "# map_template(func, list_date) => func(list_data[0]), func(list_data[1]), ... , func(list_data[9])"
   ]
  },
  {
   "cell_type": "code",
   "execution_count": 3,
   "id": "ea2549b8",
   "metadata": {
    "ExecuteTime": {
     "end_time": "2021-08-01T15:21:23.618278Z",
     "start_time": "2021-08-01T15:21:23.599330Z"
    }
   },
   "outputs": [
    {
     "data": {
      "text/plain": [
       "[2, 4, 6, 8, 10, 12, 14, 16, 18]"
      ]
     },
     "execution_count": 3,
     "metadata": {},
     "output_type": "execute_result"
    }
   ],
   "source": [
    "# ★★★★★\n",
    "def map_template(func, L=[]):\n",
    "    result = []\n",
    "    for item in L:\n",
    "        result.append(func(item))\n",
    "    return result\n",
    "list_data = [1,2,3,4,5,6,7,8,9]\n",
    "# lambda variable_define : statement\n",
    "map_template(lambda x : x*2, list_data)\n",
    "# 앞의 x를 우리가 반환받는 값, 뒤 x는 L에 속한 요소들\n",
    "# x_2함수를 정의해야할 소요가 줄어듦."
   ]
  },
  {
   "cell_type": "code",
   "execution_count": 83,
   "id": "aafc63b3",
   "metadata": {
    "ExecuteTime": {
     "end_time": "2021-08-01T15:03:30.911963Z",
     "start_time": "2021-08-01T15:03:30.892015Z"
    }
   },
   "outputs": [
    {
     "data": {
      "text/plain": [
       "[2, 4, 6, 8, 10, 12, 14, 16, 18]"
      ]
     },
     "execution_count": 83,
     "metadata": {},
     "output_type": "execute_result"
    }
   ],
   "source": [
    "# map()함수 이용\n",
    "list(map(lambda x : x*2, list_data)) # list컴프리헨션에서의 x 위치에 있는 기호가 갖는 의미와 비교해서 기억하기!\n",
    "                                     # map함수와 결합하여 쓰일 때와 filter함수와 결합하여 쓰일 때의 차이점은?"
   ]
  },
  {
   "cell_type": "code",
   "execution_count": null,
   "id": "ff8f55ef",
   "metadata": {},
   "outputs": [],
   "source": [
    "'''\n",
    "map() function returns a map object(which is an iterator) of the results \n",
    "    after applying the given function to each item of a given iterable (list, tuple etc.)\n",
    "    \n",
    "Syntax :  map(func, iter)\n",
    "    func : It is a function to which map passes each element of given iterable.\n",
    "    iter : It is a iterable which is to be mapped.\n",
    "    \n",
    "    An iterable is any Python object capable of returning its members one at a time, \n",
    "        permitting it to be iterated over in a for-loop.\n",
    "'''"
   ]
  },
  {
   "cell_type": "code",
   "execution_count": 9,
   "id": "117bc46f",
   "metadata": {
    "ExecuteTime": {
     "end_time": "2021-08-01T17:00:32.136592Z",
     "start_time": "2021-08-01T17:00:32.100687Z"
    }
   },
   "outputs": [
    {
     "data": {
      "text/plain": [
       "[2, 4, 6, 8, 10, 12, 14, 16, 18]"
      ]
     },
     "execution_count": 9,
     "metadata": {},
     "output_type": "execute_result"
    }
   ],
   "source": [
    "# 리스트 컴프리헨션 이용\n",
    "[x*2 for x in list_data]\n",
    "# 앞의 x를 우리가 반환받는 값, 뒤 x는 L에 속한 요소들 / lambda함수에서의 x 위치에 있는 기호가 갖는 의미와 비교해서 기억하기!\n",
    "# ★★★★★ 리스트 컴프리헨션은 도대체 어떤 원리로 만들어져있는거지?\n",
    "# lambda식도 list comprehension처럼 뒤에 if문을 붙여 조건을 추가할 수 있음."
   ]
  },
  {
   "cell_type": "code",
   "execution_count": 15,
   "id": "3961bfba",
   "metadata": {
    "ExecuteTime": {
     "end_time": "2021-08-01T17:01:35.665694Z",
     "start_time": "2021-08-01T17:01:35.652732Z"
    }
   },
   "outputs": [],
   "source": [
    "# ★★★★★\n",
    "def filter_template(func, L=[]):\n",
    "    result = []\n",
    "    for item in L:\n",
    "        if func(item):              # true인 경우에만 append를 실시\n",
    "            result.append(item)\n",
    "    return result"
   ]
  },
  {
   "cell_type": "code",
   "execution_count": 17,
   "id": "da16da1a",
   "metadata": {
    "ExecuteTime": {
     "end_time": "2021-08-01T17:01:37.450761Z",
     "start_time": "2021-08-01T17:01:37.428821Z"
    }
   },
   "outputs": [
    {
     "data": {
      "text/plain": [
       "[2, 4]"
      ]
     },
     "execution_count": 17,
     "metadata": {},
     "output_type": "execute_result"
    }
   ],
   "source": [
    "list_data = [1,2,3,4,5,]\n",
    "def evenChk(x) :\n",
    "#     if x%2 == 0:\n",
    "#         return True\n",
    "     return x%2==0\n",
    "filter_template(evenChk, list_data)"
   ]
  },
  {
   "cell_type": "code",
   "execution_count": 15,
   "id": "4170d60b",
   "metadata": {
    "ExecuteTime": {
     "end_time": "2021-08-01T17:01:43.323819Z",
     "start_time": "2021-08-01T17:01:43.301910Z"
    }
   },
   "outputs": [
    {
     "data": {
      "text/plain": [
       "[2, 4]"
      ]
     },
     "execution_count": 15,
     "metadata": {},
     "output_type": "execute_result"
    }
   ],
   "source": [
    "filter_template(lambda x : x%2==0, list_data) "
   ]
  },
  {
   "cell_type": "code",
   "execution_count": 16,
   "id": "01d9f518",
   "metadata": {
    "ExecuteTime": {
     "end_time": "2021-08-01T17:01:44.993493Z",
     "start_time": "2021-08-01T17:01:44.970558Z"
    }
   },
   "outputs": [
    {
     "data": {
      "text/plain": [
       "[1, 3, 5]"
      ]
     },
     "execution_count": 16,
     "metadata": {},
     "output_type": "execute_result"
    }
   ],
   "source": [
    "# filter함수\n",
    "list(filter(lambda x : x%2 ==1, list_data)) # list컴프리헨션에서의 x 위치에 있는 기호가 갖는 의미와 비교해서 기억하기!\n",
    "                                            # map함수와 결합하여 쓰일 때와 filter함수와 결합하여 쓰일 때의 차이점은?"
   ]
  },
  {
   "cell_type": "code",
   "execution_count": 17,
   "id": "08856060",
   "metadata": {
    "ExecuteTime": {
     "end_time": "2021-08-01T17:01:46.899763Z",
     "start_time": "2021-08-01T17:01:46.877822Z"
    }
   },
   "outputs": [
    {
     "data": {
      "text/plain": [
       "[1, 3, 5]"
      ]
     },
     "execution_count": 17,
     "metadata": {},
     "output_type": "execute_result"
    }
   ],
   "source": [
    "# 리스트 컴프리헨션\n",
    "[x for x in list_data if x%2 == 1] # lambda함수에서의 x 위치에 있는 기호가 갖는 의미와 비교해서 기억하기!"
   ]
  },
  {
   "cell_type": "code",
   "execution_count": 25,
   "id": "47adf811",
   "metadata": {},
   "outputs": [
    {
     "data": {
      "text/plain": [
       "[1, 2, 3, 100]"
      ]
     },
     "execution_count": 25,
     "metadata": {},
     "output_type": "execute_result"
    }
   ],
   "source": [
    "list(filter(lambda x : x==round(x), L))"
   ]
  },
  {
   "cell_type": "code",
   "execution_count": 20,
   "id": "06788d27",
   "metadata": {
    "ExecuteTime": {
     "end_time": "2021-08-01T17:02:42.621913Z",
     "start_time": "2021-08-01T17:02:42.611939Z"
    }
   },
   "outputs": [],
   "source": [
    "# 문제 :  다음 리스트에서 정수만 추출하시오.(힌트. filter함수, 람다식 이용)\n",
    "L = [1, 1.2, 1.5, 2, 3, 10.5, 100]"
   ]
  },
  {
   "cell_type": "code",
   "execution_count": 112,
   "id": "579e3d54",
   "metadata": {
    "ExecuteTime": {
     "end_time": "2021-07-22T03:47:23.736859Z",
     "start_time": "2021-07-22T03:47:23.719898Z"
    }
   },
   "outputs": [
    {
     "data": {
      "text/plain": [
       "(1, 1)"
      ]
     },
     "execution_count": 112,
     "metadata": {},
     "output_type": "execute_result"
    }
   ],
   "source": [
    "1, round(1)"
   ]
  },
  {
   "cell_type": "code",
   "execution_count": 113,
   "id": "3df35ba9",
   "metadata": {
    "ExecuteTime": {
     "end_time": "2021-07-22T03:47:32.169847Z",
     "start_time": "2021-07-22T03:47:32.151867Z"
    }
   },
   "outputs": [
    {
     "data": {
      "text/plain": [
       "(1.2, 1)"
      ]
     },
     "execution_count": 113,
     "metadata": {},
     "output_type": "execute_result"
    }
   ],
   "source": [
    "1.2, round(1,2)"
   ]
  },
  {
   "cell_type": "code",
   "execution_count": 145,
   "id": "d7e5d44b",
   "metadata": {
    "ExecuteTime": {
     "end_time": "2021-07-22T04:22:34.862314Z",
     "start_time": "2021-07-22T04:22:34.854323Z"
    }
   },
   "outputs": [
    {
     "data": {
      "text/plain": [
       "[1, 2, 3, 100]"
      ]
     },
     "execution_count": 145,
     "metadata": {},
     "output_type": "execute_result"
    }
   ],
   "source": [
    "L = [1, 1.2, 1.5, 2, 3, 10.5, 100]\n",
    "list(filter(lambda x : x==round(x), L))"
   ]
  },
  {
   "cell_type": "code",
   "execution_count": 161,
   "id": "59c95103",
   "metadata": {
    "ExecuteTime": {
     "end_time": "2021-07-22T05:09:00.326144Z",
     "start_time": "2021-07-22T05:09:00.320144Z"
    }
   },
   "outputs": [
    {
     "data": {
      "text/plain": [
       "[1, 2, 3, 100]"
      ]
     },
     "execution_count": 161,
     "metadata": {},
     "output_type": "execute_result"
    }
   ],
   "source": [
    "[x for x in L if x==round(x)]\n",
    "# 앞의 x를 우리가 반환받는 값, 뒤 x는 L에 속한 요소들 / lambda함수에서의 x 위치에 있는 기호가 갖는 의미와 비교해서 기억하기!"
   ]
  },
  {
   "cell_type": "markdown",
   "id": "13d0a5ff",
   "metadata": {
    "ExecuteTime": {
     "end_time": "2021-07-22T03:54:50.335546Z",
     "start_time": "2021-07-22T03:54:50.328585Z"
    }
   },
   "source": [
    "**<span style='background : lightgreen'>람다식은 함수가 실행할 때 함수가 실행할 문장이 한 문장인 경우만 사용할 수 있음</span>**<br>\n",
    "**<span style='background : lightgreen'>람다식이 가장 많이 사용되는 곳은 함수의 인수로 전달할 때나 함수를 return할 때</span>**"
   ]
  },
  {
   "cell_type": "code",
   "execution_count": 121,
   "id": "c1f6f4c7",
   "metadata": {
    "ExecuteTime": {
     "end_time": "2021-07-22T03:57:07.201922Z",
     "start_time": "2021-07-22T03:57:07.190926Z"
    }
   },
   "outputs": [
    {
     "data": {
      "text/plain": [
       "[0, 3, 5, 7, 10]"
      ]
     },
     "execution_count": 121,
     "metadata": {},
     "output_type": "execute_result"
    }
   ],
   "source": [
    "p = [10, 3, 5, 7, 0]\n",
    "p.sort()\n",
    "p          # 참고) 튜플은 변동이 불가, 딕셔너리, 셋은 순서가 상관없으므로 sort가 적용 불가"
   ]
  },
  {
   "cell_type": "code",
   "execution_count": 122,
   "id": "90f98226",
   "metadata": {
    "ExecuteTime": {
     "end_time": "2021-07-22T03:59:35.190474Z",
     "start_time": "2021-07-22T03:59:35.174495Z"
    }
   },
   "outputs": [
    {
     "data": {
      "text/plain": [
       "[(1, 'kim'), (2, 'yi'), (3, 'jung'), (4, 'park')]"
      ]
     },
     "execution_count": 122,
     "metadata": {},
     "output_type": "execute_result"
    }
   ],
   "source": [
    "pairs = [(1, 'kim'), (4,'park'), (2, 'yi'), (3,'jung')]\n",
    "pairs.sort() # 첫 번째 요소들만 비교해서 sort\n",
    "pairs"
   ]
  },
  {
   "cell_type": "code",
   "execution_count": 128,
   "id": "1dd6c813",
   "metadata": {
    "ExecuteTime": {
     "end_time": "2021-07-22T04:06:35.347516Z",
     "start_time": "2021-07-22T04:06:35.334522Z"
    }
   },
   "outputs": [
    {
     "data": {
      "text/plain": [
       "'one'"
      ]
     },
     "execution_count": 128,
     "metadata": {},
     "output_type": "execute_result"
    }
   ],
   "source": [
    "(lambda x : x[1])((1, 'one'))"
   ]
  },
  {
   "cell_type": "code",
   "execution_count": 162,
   "id": "54dcf76f",
   "metadata": {
    "ExecuteTime": {
     "end_time": "2021-07-22T05:10:38.350925Z",
     "start_time": "2021-07-22T05:10:38.336962Z"
    }
   },
   "outputs": [
    {
     "data": {
      "text/plain": [
       "[(3, 'jung'), (1, 'kim'), (4, 'park'), (2, 'yi')]"
      ]
     },
     "execution_count": 162,
     "metadata": {},
     "output_type": "execute_result"
    }
   ],
   "source": [
    "pairs.sort(key = lambda pair : pair[1])\n",
    "pairs"
   ]
  },
  {
   "cell_type": "code",
   "execution_count": 133,
   "id": "ed87f9c9",
   "metadata": {
    "ExecuteTime": {
     "end_time": "2021-07-22T04:08:40.750152Z",
     "start_time": "2021-07-22T04:08:40.741156Z"
    }
   },
   "outputs": [
    {
     "name": "stdout",
     "output_type": "stream",
     "text": [
      "100\n",
      "1000000\n"
     ]
    }
   ],
   "source": [
    "def apply(data, func=None): # 위에서 가져옴 -> L = []로 해도 안된다? 주소값을 가질 수 있다?\n",
    "    if func == None:\n",
    "#    if func is None:\n",
    "        return data\n",
    "    else:\n",
    "        return func(data)\n",
    "print(apply(100))\n",
    "print(apply(100, lambda x:x**3))\n",
    "#################lambda가 적용되는 부분이 익숙하지 않음...ㅠ 반복학습 할 것!"
   ]
  },
  {
   "cell_type": "markdown",
   "id": "b8bf32cc",
   "metadata": {},
   "source": [
    "## 4.3 리턴문에 람다식 이용"
   ]
  },
  {
   "cell_type": "code",
   "execution_count": 163,
   "id": "6f687679",
   "metadata": {
    "ExecuteTime": {
     "end_time": "2021-07-22T05:15:04.939361Z",
     "start_time": "2021-07-22T05:15:04.928401Z"
    }
   },
   "outputs": [],
   "source": [
    "# make_box함수는 튜플이나 리스트를 매개변수로 받음?"
   ]
  },
  {
   "cell_type": "code",
   "execution_count": 27,
   "id": "566b3c8b",
   "metadata": {
    "ExecuteTime": {
     "end_time": "2021-08-05T06:56:46.708762Z",
     "start_time": "2021-08-05T06:56:46.689834Z"
    }
   },
   "outputs": [],
   "source": [
    "# 함수를 return하는 함수\n",
    "'''\n",
    "make_box( (2,) ) => 1차원 2열 list를 만드는 함수를 리턴(튜플을 받음)\n",
    "    fun = make_box( (3,) )\n",
    "    fun(10) => [10,10,10]\n",
    "make_box( [3,4] ) => 2차원 3행 4열 list를 만든 함수를 리턴(리스트를 받음)\n",
    "    fun = make_box( (3,4))\n",
    "    fun(5) => [ [5, 5, 5, 5], [5, 5, 5, 5],[5, 5, 5, 5] ]\n",
    "'''\n",
    "def make_box(shape):\n",
    "    def box(init_value):\n",
    "        if len(shape) == 1:\n",
    "            return [init_value] * shape[0]\n",
    "        elif len(shape) == 2 :\n",
    "            return [[init_value] * shape[1]] * shape[0] \n",
    "    return box"
   ]
  },
  {
   "cell_type": "code",
   "execution_count": null,
   "id": "d3f2297f",
   "metadata": {},
   "outputs": [],
   "source": [
    "'''\n",
    "A function which is defined inside another function is known as inner function or nested function.\n",
    "In Python, this kind of function has direct access to variables and names defined in the enclosing function.\n",
    "Inner functions have many uses, most notably as closure factories and decorator functions.\n",
    "\n",
    "- The core feature of inner functions is their ability to access variables and objects \n",
    "    from their enclosing function even after this function has returned. \n",
    "\n",
    "https://realpython.com/inner-functions-what-are-they-good-for/\n",
    "\n",
    "    The enclosing function provides a namespace that is accessible to the inner function\n",
    "             : [ local scope of outer_func() / nonlocal from the inner_func() point of view ]\n",
    "    \n",
    "    The main advantage of using this pattern is that, by performing all the argument checking in the outer function, \n",
    "    you can safely skip error checking in the inner function and focus on the computation at hand.\n",
    "    \n",
    "  #################################################################################################################\n",
    "  \n",
    "    Closures are dynamically created functions that are returned by other functions. \n",
    "    Their main feature is that they have full access to the variables and names defined in the local namespace where the closure was created, \n",
    "    even though the enclosing function has returned and finished executing.\n",
    "\n",
    "    In Python, when you return an inner function object, the interpreter packs the function along with its containing environment or closure. \n",
    "    The function object keeps a snapshot of all the variables and names defined in its containing scope.\n",
    "\n",
    "    a closure factory function / an inner function / a function object\n",
    "                                                        Define a new instance, which takes a single argument base.\n",
    "\n",
    "'''"
   ]
  },
  {
   "cell_type": "code",
   "execution_count": null,
   "id": "7ffdf252",
   "metadata": {},
   "outputs": [],
   "source": [
    "# Outer function인 make_box 함수를 호출했을 때 inner function인 box함수도 실행됨.\n",
    "# 위의 경우에는 print값이\n",
    "# return box라고 괄호()없이 함수가 반환되고 있는 부분은 closure로 작동하도록 작성한 부분인듯.\n",
    "\n",
    "# Python Closures\n",
    "# A Closure is a function object that remembers values in enclosing scopes even if they are not present in memory.\n",
    "# The function innerFunction has its scope only inside the outerFunction. \n",
    "# But with the use of closures we can easily extend its scope to invoke a function outside its scope."
   ]
  },
  {
   "cell_type": "code",
   "execution_count": 6,
   "id": "02a4a4bb",
   "metadata": {
    "ExecuteTime": {
     "end_time": "2021-08-05T06:51:49.034981Z",
     "start_time": "2021-08-05T06:51:49.026006Z"
    }
   },
   "outputs": [],
   "source": [
    "line = make_box((5,))"
   ]
  },
  {
   "cell_type": "code",
   "execution_count": 3,
   "id": "6c262f6c",
   "metadata": {
    "ExecuteTime": {
     "end_time": "2021-08-05T06:51:32.696363Z",
     "start_time": "2021-08-05T06:51:32.687381Z"
    }
   },
   "outputs": [
    {
     "data": {
      "text/plain": [
       "[10, 10, 10, 10, 10]"
      ]
     },
     "execution_count": 3,
     "metadata": {},
     "output_type": "execute_result"
    }
   ],
   "source": [
    "line(10)"
   ]
  },
  {
   "cell_type": "code",
   "execution_count": 28,
   "id": "ef437577",
   "metadata": {
    "ExecuteTime": {
     "end_time": "2021-08-05T06:56:50.056828Z",
     "start_time": "2021-08-05T06:56:50.049828Z"
    }
   },
   "outputs": [],
   "source": [
    "box2d = make_box([2,3])"
   ]
  },
  {
   "cell_type": "code",
   "execution_count": null,
   "id": "0faa11ae",
   "metadata": {},
   "outputs": [],
   "source": [
    "# 파라미터의 갯수가 1개, 2개일 떄 다른 결과값이 도출되는 것을 보니\n",
    "# *args를 선언하고 호출하도록 했으면 어땟을까?"
   ]
  },
  {
   "cell_type": "code",
   "execution_count": 29,
   "id": "27cabaf8",
   "metadata": {
    "ExecuteTime": {
     "end_time": "2021-08-05T06:56:51.786045Z",
     "start_time": "2021-08-05T06:56:51.778088Z"
    }
   },
   "outputs": [
    {
     "data": {
      "text/plain": [
       "[[7, 7, 7], [7, 7, 7]]"
      ]
     },
     "execution_count": 29,
     "metadata": {},
     "output_type": "execute_result"
    }
   ],
   "source": [
    "box2d(7)"
   ]
  },
  {
   "cell_type": "code",
   "execution_count": 180,
   "id": "fcd2b820",
   "metadata": {
    "ExecuteTime": {
     "end_time": "2021-07-22T05:51:37.415731Z",
     "start_time": "2021-07-22T05:51:37.405756Z"
    }
   },
   "outputs": [],
   "source": [
    "# lambda 식을 return\n",
    "def make_box1(shape):\n",
    "    if len(shape)== 1 :\n",
    "        return lambda init_value : [init_value] * shape[0]\n",
    "    elif len(shape) == 2 :\n",
    "        return lambda init_value : [ [init_value]*shape[1] ] * shape[0]"
   ]
  },
  {
   "cell_type": "code",
   "execution_count": 181,
   "id": "2164f253",
   "metadata": {
    "ExecuteTime": {
     "end_time": "2021-07-22T05:51:39.394492Z",
     "start_time": "2021-07-22T05:51:39.387532Z"
    }
   },
   "outputs": [],
   "source": [
    "line = make_box1([3])"
   ]
  },
  {
   "cell_type": "code",
   "execution_count": 182,
   "id": "2e0ef17d",
   "metadata": {
    "ExecuteTime": {
     "end_time": "2021-07-22T05:51:47.118499Z",
     "start_time": "2021-07-22T05:51:47.114514Z"
    }
   },
   "outputs": [
    {
     "data": {
      "text/plain": [
       "[7, 7, 7]"
      ]
     },
     "execution_count": 182,
     "metadata": {},
     "output_type": "execute_result"
    }
   ],
   "source": [
    "line(7)"
   ]
  },
  {
   "cell_type": "code",
   "execution_count": 183,
   "id": "7375a490",
   "metadata": {
    "ExecuteTime": {
     "end_time": "2021-07-22T05:52:00.597389Z",
     "start_time": "2021-07-22T05:52:00.587404Z"
    }
   },
   "outputs": [],
   "source": [
    "box2d = make_box1([2,3])"
   ]
  },
  {
   "cell_type": "code",
   "execution_count": 184,
   "id": "0b8c3701",
   "metadata": {
    "ExecuteTime": {
     "end_time": "2021-07-22T05:52:34.680106Z",
     "start_time": "2021-07-22T05:52:34.668136Z"
    }
   },
   "outputs": [
    {
     "data": {
      "text/plain": [
       "[[7, 7, 7], [7, 7, 7]]"
      ]
     },
     "execution_count": 184,
     "metadata": {},
     "output_type": "execute_result"
    }
   ],
   "source": [
    "box2d(7)"
   ]
  },
  {
   "cell_type": "code",
   "execution_count": 185,
   "id": "80e6b5be",
   "metadata": {
    "ExecuteTime": {
     "end_time": "2021-07-22T05:54:48.530177Z",
     "start_time": "2021-07-22T05:54:48.523197Z"
    }
   },
   "outputs": [
    {
     "data": {
      "text/plain": [
       "'홀수'"
      ]
     },
     "execution_count": 185,
     "metadata": {},
     "output_type": "execute_result"
    }
   ],
   "source": [
    "def even_odd(num):\n",
    "    if num%2==0 :\n",
    "        return \"짝수\"\n",
    "    else:\n",
    "        return \"홀수\"\n",
    "even_odd(7)"
   ]
  },
  {
   "cell_type": "code",
   "execution_count": 10,
   "id": "d4ae5783",
   "metadata": {
    "ExecuteTime": {
     "end_time": "2021-08-05T06:59:20.924037Z",
     "start_time": "2021-08-05T06:59:20.915061Z"
    }
   },
   "outputs": [],
   "source": [
    "even_odd_Chk = lambda num : \"짝수\" if num%2==0 else \"홀수\""
   ]
  },
  {
   "cell_type": "code",
   "execution_count": 11,
   "id": "4df0aa59",
   "metadata": {
    "ExecuteTime": {
     "end_time": "2021-08-05T06:59:25.247561Z",
     "start_time": "2021-08-05T06:59:25.234571Z"
    }
   },
   "outputs": [
    {
     "data": {
      "text/plain": [
       "'짝수'"
      ]
     },
     "execution_count": 11,
     "metadata": {},
     "output_type": "execute_result"
    }
   ],
   "source": [
    "even_odd_Chk(8)"
   ]
  },
  {
   "cell_type": "code",
   "execution_count": 31,
   "id": "95b3573a",
   "metadata": {
    "ExecuteTime": {
     "end_time": "2021-07-22T06:06:00.230107Z",
     "start_time": "2021-07-22T06:06:00.219114Z"
    }
   },
   "outputs": [
    {
     "data": {
      "text/plain": [
       "'A'"
      ]
     },
     "execution_count": 31,
     "metadata": {},
     "output_type": "execute_result"
    }
   ],
   "source": [
    "def score_grade(score):\n",
    "    if 90<= score <= 100:\n",
    "        return \"A\"\n",
    "    elif 80<= score < 90:\n",
    "        return \"B\"\n",
    "    elif 70<= score < 80:\n",
    "        return \"C\"\n",
    "    elif 60<= score < 70:\n",
    "        return \"D\"\n",
    "    elif 0<= score < 60:\n",
    "        return \"F\"\n",
    "score_grade(99)"
   ]
  },
  {
   "cell_type": "code",
   "execution_count": 33,
   "id": "b4ce8168",
   "metadata": {
    "ExecuteTime": {
     "end_time": "2021-08-05T07:11:01.071375Z",
     "start_time": "2021-08-05T07:11:01.058370Z"
    }
   },
   "outputs": [
    {
     "data": {
      "text/plain": [
       "'B'"
      ]
     },
     "execution_count": 33,
     "metadata": {},
     "output_type": "execute_result"
    }
   ],
   "source": [
    "score_grade = lambda score : 'A' if 90<= score <= 100 else \\\n",
    "            ('B' if 80<= score < 90 else \\\n",
    "             ('C' if 70<= score < 80 else \\\n",
    "              ('D' if 60<= score < 70 else \\\n",
    "               ('F' if 0<= score < 60 else '유효하지 않은 점수'))))\n",
    "score_grade(88)"
   ]
  },
  {
   "cell_type": "code",
   "execution_count": 15,
   "id": "e067d22e",
   "metadata": {
    "ExecuteTime": {
     "end_time": "2021-08-05T07:11:18.385895Z",
     "start_time": "2021-08-05T07:11:18.369906Z"
    }
   },
   "outputs": [
    {
     "data": {
      "text/plain": [
       "'유급'"
      ]
     },
     "execution_count": 15,
     "metadata": {},
     "output_type": "execute_result"
    }
   ],
   "source": [
    "def levelChk(score):\n",
    "    if score >= 80 :\n",
    "        return \"A등급\"\n",
    "    elif score >= 70 :\n",
    "        return \"B등급\"\n",
    "    else:\n",
    "        return \"유급\"\n",
    "levelChk(-7)"
   ]
  },
  {
   "cell_type": "code",
   "execution_count": 190,
   "id": "366967db",
   "metadata": {
    "ExecuteTime": {
     "end_time": "2021-07-22T06:05:36.005154Z",
     "start_time": "2021-07-22T06:05:35.995181Z"
    }
   },
   "outputs": [
    {
     "data": {
      "text/plain": [
       "'B등급'"
      ]
     },
     "execution_count": 190,
     "metadata": {},
     "output_type": "execute_result"
    }
   ],
   "source": [
    "levelChk = lambda score : \"A등급\" if score >= 80 else \\\n",
    "        (\"B등급\" if score >= 70 else \"유급\")\n",
    "levelChk(78)             \n",
    "        ##### lambda함수를 사용하려면 그 위에 함수(여기서는 levelChk)가 선언되어 있어야 한다. #####"
   ]
  },
  {
   "cell_type": "markdown",
   "id": "e8cb0f51",
   "metadata": {},
   "source": [
    "파라미터를 수용하지 않는 함수는 정의할 수 없나?\n",
    "뒤에 데이터프레임을 대상으로 함수가 많이 사용되는데 df.function() 했을 때 df 요소 전체에 대해\n",
    "자동적으로 적용되는 함수의 정의는 가능한 것인가?"
   ]
  },
  {
   "cell_type": "markdown",
   "id": "c36bc692",
   "metadata": {
    "ExecuteTime": {
     "end_time": "2021-08-01T18:09:39.185089Z",
     "start_time": "2021-08-01T18:09:39.165143Z"
    }
   },
   "source": [
    "# 5절. 파이썬 내장함수\n",
    "- import를 하지 않고 바로 사용가능한 함수. 키워드처럼 간주되므로 식별자로 사용하는 것을 피함"
   ]
  },
  {
   "cell_type": "code",
   "execution_count": 15,
   "id": "6823b90a",
   "metadata": {
    "ExecuteTime": {
     "end_time": "2021-08-01T18:10:17.882678Z",
     "start_time": "2021-08-01T18:10:17.864762Z"
    }
   },
   "outputs": [
    {
     "data": {
      "text/plain": [
       "1"
      ]
     },
     "execution_count": 15,
     "metadata": {},
     "output_type": "execute_result"
    }
   ],
   "source": [
    "int(1)"
   ]
  },
  {
   "cell_type": "code",
   "execution_count": 16,
   "id": "1abbc96a",
   "metadata": {
    "ExecuteTime": {
     "end_time": "2021-08-01T18:10:47.676731Z",
     "start_time": "2021-08-01T18:10:47.656789Z"
    }
   },
   "outputs": [
    {
     "ename": "ValueError",
     "evalue": "invalid literal for int() with base 10: '1.2'",
     "output_type": "error",
     "traceback": [
      "\u001b[1;31m---------------------------------------------------------------------------\u001b[0m",
      "\u001b[1;31mValueError\u001b[0m                                Traceback (most recent call last)",
      "\u001b[1;32m<ipython-input-16-8a24604d2f3f>\u001b[0m in \u001b[0;36m<module>\u001b[1;34m\u001b[0m\n\u001b[1;32m----> 1\u001b[1;33m \u001b[0mint\u001b[0m\u001b[1;33m(\u001b[0m\u001b[1;34m\"1.2\"\u001b[0m\u001b[1;33m)\u001b[0m\u001b[1;33m\u001b[0m\u001b[1;33m\u001b[0m\u001b[0m\n\u001b[0m",
      "\u001b[1;31mValueError\u001b[0m: invalid literal for int() with base 10: '1.2'"
     ]
    }
   ],
   "source": [
    "int(\"1.2\")"
   ]
  },
  {
   "cell_type": "code",
   "execution_count": 200,
   "id": "3d8265f0",
   "metadata": {
    "ExecuteTime": {
     "end_time": "2021-07-22T06:33:11.258328Z",
     "start_time": "2021-07-22T06:33:11.240397Z"
    },
    "scrolled": true
   },
   "outputs": [
    {
     "data": {
      "text/plain": [
       "1"
      ]
     },
     "execution_count": 200,
     "metadata": {},
     "output_type": "execute_result"
    }
   ],
   "source": [
    "int(float(\"1.2\"))"
   ]
  },
  {
   "cell_type": "markdown",
   "id": "e75349e0",
   "metadata": {},
   "source": [
    "<span style='background : lightgreen'>함수 안에서 선언된 변수가 지역변수(블럭안에서 선언된 변수가 지역변수인 것이 아님!)</span>"
   ]
  },
  {
   "cell_type": "code",
   "execution_count": 18,
   "id": "6a2fd7c9",
   "metadata": {
    "ExecuteTime": {
     "end_time": "2021-08-05T07:27:02.670356Z",
     "start_time": "2021-08-05T07:27:02.660362Z"
    }
   },
   "outputs": [],
   "source": [
    "def abc(n): # 매개변수도 지역변수\n",
    "    L = []\n",
    "    for i in range(n):\n",
    "        L.append(i)\n",
    "    print(locals()) # 지역변수를 출력하라\n",
    "    return L"
   ]
  },
  {
   "cell_type": "code",
   "execution_count": 19,
   "id": "c013d51a",
   "metadata": {
    "ExecuteTime": {
     "end_time": "2021-08-05T07:27:04.244094Z",
     "start_time": "2021-08-05T07:27:04.227139Z"
    }
   },
   "outputs": [
    {
     "name": "stdout",
     "output_type": "stream",
     "text": [
      "{'n': 5, 'L': [0, 1, 2, 3, 4], 'i': 4}\n"
     ]
    },
    {
     "data": {
      "text/plain": [
       "[0, 1, 2, 3, 4]"
      ]
     },
     "execution_count": 19,
     "metadata": {},
     "output_type": "execute_result"
    }
   ],
   "source": [
    "abc(5)"
   ]
  },
  {
   "cell_type": "code",
   "execution_count": null,
   "id": "d4b6dfff",
   "metadata": {},
   "outputs": [],
   "source": [
    "globals() # 전역변수"
   ]
  },
  {
   "cell_type": "code",
   "execution_count": 30,
   "id": "e7d7207c",
   "metadata": {
    "ExecuteTime": {
     "end_time": "2021-08-01T17:53:49.640048Z",
     "start_time": "2021-08-01T17:53:49.621112Z"
    }
   },
   "outputs": [
    {
     "data": {
      "text/plain": [
       "True"
      ]
     },
     "execution_count": 30,
     "metadata": {},
     "output_type": "execute_result"
    }
   ],
   "source": [
    "isinstance(3.5, float)"
   ]
  },
  {
   "cell_type": "code",
   "execution_count": 4,
   "id": "d0fe0447",
   "metadata": {
    "ExecuteTime": {
     "end_time": "2021-08-05T07:31:18.710846Z",
     "start_time": "2021-08-05T07:31:18.705861Z"
    }
   },
   "outputs": [],
   "source": [
    "class Test:\n",
    "    def __init__(self, a, b):\n",
    "        self.a = a\n",
    "        self.b = b\n",
    "    def print_info(self):\n",
    "        \"\"\"docstring : 객체의 정보를 출력\"\"\"\n",
    "        print(\"a = {}, b = {}\".format(self.a, self.b))"
   ]
  },
  {
   "cell_type": "code",
   "execution_count": null,
   "id": "9095e880",
   "metadata": {},
   "outputs": [],
   "source": [
    "# 맨 앞의 self들은 무엇을 의미하지??? ### 클래스(class)인 경우에만 사용할 수 있는건가?"
   ]
  },
  {
   "cell_type": "code",
   "execution_count": null,
   "id": "32d517ea",
   "metadata": {},
   "outputs": [],
   "source": [
    "# 자바에서의 #############################################################\n",
    " class test{\n",
    "     private int a;\n",
    "     pirvate int b;\n",
    "     public Test(int a, int b){\n",
    "         this.a = a\n",
    "         this.b = b\n",
    "     }\n",
    "     public void print_info(){\n",
    "         sysout(a, b)\n",
    "     }\n",
    "}"
   ]
  },
  {
   "cell_type": "code",
   "execution_count": 6,
   "id": "27218d51",
   "metadata": {
    "ExecuteTime": {
     "end_time": "2021-08-05T07:33:27.432799Z",
     "start_time": "2021-08-05T07:33:27.420825Z"
    }
   },
   "outputs": [
    {
     "data": {
      "text/plain": [
       "(10, 20)"
      ]
     },
     "execution_count": 6,
     "metadata": {},
     "output_type": "execute_result"
    }
   ],
   "source": [
    "test = Test(10, 20)\n",
    "test.a, test.b\n",
    "# 아래 출력값은 2번째 줄의 결과임."
   ]
  },
  {
   "cell_type": "code",
   "execution_count": 5,
   "id": "e250a2bb",
   "metadata": {
    "ExecuteTime": {
     "end_time": "2021-08-01T18:04:52.073143Z",
     "start_time": "2021-08-01T18:04:52.066159Z"
    }
   },
   "outputs": [
    {
     "name": "stdout",
     "output_type": "stream",
     "text": [
      "a = 10, b = 20\n"
     ]
    }
   ],
   "source": [
    "test.print_info()"
   ]
  },
  {
   "cell_type": "code",
   "execution_count": 28,
   "id": "b0fd50b3",
   "metadata": {
    "ExecuteTime": {
     "end_time": "2021-08-05T07:35:15.810037Z",
     "start_time": "2021-08-05T07:35:15.794052Z"
    }
   },
   "outputs": [
    {
     "data": {
      "text/plain": [
       "True"
      ]
     },
     "execution_count": 28,
     "metadata": {},
     "output_type": "execute_result"
    }
   ],
   "source": [
    "isinstance(test, Test)\n",
    "# Syntax : isinstance(object, type)\n",
    "        # TypeError: isinstance expected 2 arguments, got 1"
   ]
  },
  {
   "cell_type": "code",
   "execution_count": null,
   "id": "1641cba4",
   "metadata": {},
   "outputs": [],
   "source": [
    "dir(test)"
   ]
  },
  {
   "cell_type": "code",
   "execution_count": 28,
   "id": "2ab7b766",
   "metadata": {
    "ExecuteTime": {
     "end_time": "2021-08-01T17:53:10.779933Z",
     "start_time": "2021-08-01T17:53:10.764971Z"
    }
   },
   "outputs": [
    {
     "data": {
      "text/plain": [
       "[0, 1, 2, 3]"
      ]
     },
     "execution_count": 28,
     "metadata": {},
     "output_type": "execute_result"
    }
   ],
   "source": [
    "list(range(4))"
   ]
  },
  {
   "cell_type": "code",
   "execution_count": 31,
   "id": "8fd00ed9",
   "metadata": {
    "ExecuteTime": {
     "end_time": "2021-08-05T07:40:24.964361Z",
     "start_time": "2021-08-05T07:40:24.948381Z"
    }
   },
   "outputs": [
    {
     "data": {
      "text/plain": [
       "[(0, 10), (1, 20), (2, 30)]"
      ]
     },
     "execution_count": 31,
     "metadata": {},
     "output_type": "execute_result"
    }
   ],
   "source": [
    "list(enumerate([10, 20, 30]))\n",
    "# Return an enumerate object. iterable must be a sequence, an iterator, or some other object which supports iteration. \n",
    "# The __next__() method of the iterator returned by enumerate() returns a tuple containing a count \n",
    "# (from start which defaults to 0) and the values obtained from iterating over iterable."
   ]
  },
  {
   "cell_type": "code",
   "execution_count": 223,
   "id": "b05af3e0",
   "metadata": {
    "ExecuteTime": {
     "end_time": "2021-07-22T06:47:51.767906Z",
     "start_time": "2021-07-22T06:47:51.749919Z"
    }
   },
   "outputs": [
    {
     "data": {
      "text/plain": [
       "False"
      ]
     },
     "execution_count": 223,
     "metadata": {},
     "output_type": "execute_result"
    }
   ],
   "source": [
    "all([True, True, False, '']) # 모든 요소가 True인지 아닌지 여부를 반환(하나라도 True가 아니면 False반환)"
   ]
  },
  {
   "cell_type": "code",
   "execution_count": 27,
   "id": "72048988",
   "metadata": {
    "ExecuteTime": {
     "end_time": "2021-08-01T17:50:56.785411Z",
     "start_time": "2021-08-01T17:50:56.776405Z"
    }
   },
   "outputs": [
    {
     "data": {
      "text/plain": [
       "True"
      ]
     },
     "execution_count": 27,
     "metadata": {},
     "output_type": "execute_result"
    }
   ],
   "source": [
    "any([-3, False, 0]) # 하나의 요소라도 True가 포함되어 있으면 True를 반환\n",
    "# Numbers. In Python, the integer 0 is always False , while every other number, including negative numbers, are True ."
   ]
  },
  {
   "cell_type": "code",
   "execution_count": 226,
   "id": "0eda014d",
   "metadata": {
    "ExecuteTime": {
     "end_time": "2021-07-22T06:50:01.419691Z",
     "start_time": "2021-07-22T06:50:01.413706Z"
    }
   },
   "outputs": [
    {
     "data": {
      "text/plain": [
       "(4, 3.9)"
      ]
     },
     "execution_count": 226,
     "metadata": {},
     "output_type": "execute_result"
    }
   ],
   "source": [
    "round(3.86), round(3.86, 1)"
   ]
  },
  {
   "cell_type": "code",
   "execution_count": 227,
   "id": "f4b0c25c",
   "metadata": {
    "ExecuteTime": {
     "end_time": "2021-07-22T06:50:36.966540Z",
     "start_time": "2021-07-22T06:50:36.918649Z"
    }
   },
   "outputs": [
    {
     "data": {
      "text/plain": [
       "(3.0, 4.0, 3.9)"
      ]
     },
     "execution_count": 227,
     "metadata": {},
     "output_type": "execute_result"
    }
   ],
   "source": [
    "import numpy\n",
    "numpy.floor(3.86), numpy.ceil(3.86), numpy.round(3.86,1) \n",
    "# 내림(음수일 때 더 작은쪽으로), 올림(음수일때 더 큰쪽으로), 반올림"
   ]
  }
 ],
 "metadata": {
  "kernelspec": {
   "display_name": "Python 3 (ipykernel)",
   "language": "python",
   "name": "python3"
  },
  "language_info": {
   "codemirror_mode": {
    "name": "ipython",
    "version": 3
   },
   "file_extension": ".py",
   "mimetype": "text/x-python",
   "name": "python",
   "nbconvert_exporter": "python",
   "pygments_lexer": "ipython3",
   "version": "3.9.7"
  },
  "toc": {
   "base_numbering": 1,
   "nav_menu": {},
   "number_sections": true,
   "sideBar": true,
   "skip_h1_title": false,
   "title_cell": "Table of Contents",
   "title_sidebar": "Contents",
   "toc_cell": false,
   "toc_position": {
    "height": "calc(100% - 180px)",
    "left": "10px",
    "top": "150px",
    "width": "294px"
   },
   "toc_section_display": true,
   "toc_window_display": true
  },
  "varInspector": {
   "cols": {
    "lenName": 16,
    "lenType": 16,
    "lenVar": 40
   },
   "kernels_config": {
    "python": {
     "delete_cmd_postfix": "",
     "delete_cmd_prefix": "del ",
     "library": "var_list.py",
     "varRefreshCmd": "print(var_dic_list())"
    },
    "r": {
     "delete_cmd_postfix": ") ",
     "delete_cmd_prefix": "rm(",
     "library": "var_list.r",
     "varRefreshCmd": "cat(var_dic_list()) "
    }
   },
   "types_to_exclude": [
    "module",
    "function",
    "builtin_function_or_method",
    "instance",
    "_Feature"
   ],
   "window_display": false
  }
 },
 "nbformat": 4,
 "nbformat_minor": 5
}
