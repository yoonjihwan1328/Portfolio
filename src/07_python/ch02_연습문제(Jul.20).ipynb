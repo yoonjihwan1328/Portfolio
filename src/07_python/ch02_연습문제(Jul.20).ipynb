{
 "cells": [
  {
   "cell_type": "markdown",
   "id": "d99e43c0",
   "metadata": {},
   "source": [
    "# 문1) 이름과 나이 변수를 다음 형식으로 출력하도록 format()함수를 이용해 형식화 하세요"
   ]
  },
  {
   "cell_type": "markdown",
   "id": "0e1edfce",
   "metadata": {},
   "source": [
    "###         [출력형식 : 홍길동님의 나이는 23살 입니다.]"
   ]
  },
  {
   "cell_type": "code",
   "execution_count": 8,
   "id": "e3355b39",
   "metadata": {
    "ExecuteTime": {
     "end_time": "2021-09-08T07:17:14.562602Z",
     "start_time": "2021-09-08T07:17:14.543672Z"
    }
   },
   "outputs": [
    {
     "name": "stdout",
     "output_type": "stream",
     "text": [
      "[출력형식 : 홍길동님의 나이는 23입니다]\n",
      "[출력형식 : 홍길동님의 나이는 23입니다]\n",
      "[출력형식 : 홍길동님의 나이는 23입니다]\n",
      "[출력형식 : 홍길동님의 나이는 23입니다]\n"
     ]
    }
   ],
   "source": [
    "name, age = '홍길동', 23\n",
    "print('[출력형식 : {}님의 나이는 {}입니다]'.format(name, age))\n",
    "print('[출력형식 : 'f'{name}님의 나이는 {age}입니다]')\n",
    "print('[출력형식 : %s님의 나이는 %d입니다]' % (name, age))\n",
    "    # The formatting operations described here exhibit a variety of quirks that lead to a number of common errors \n",
    "    # (such as failing to display tuples and dictionaries correctly)\n",
    "print('[출력형식 : ',name ,'님의 나이는 ', age, '입니다]', sep = '')"
   ]
  },
  {
   "cell_type": "code",
   "execution_count": 1,
   "id": "c8081452",
   "metadata": {},
   "outputs": [
    {
     "name": "stdout",
     "output_type": "stream",
     "text": [
      "[출력형식 : Choo님의 나이는 41입니다.]\n",
      "[출력형식 : Choo님의 나이는 41입니다.]\n"
     ]
    }
   ],
   "source": [
    "person = {'name' : 'Choo', 'age' : 41}\n",
    "print('[출력형식 : {name}님의 나이는 {age}입니다.]'.format(name = person['name'], age = person['age']))\n",
    "print('[출력형식 : {name}님의 나이는 {age}입니다.]'.format(**person))"
   ]
  },
  {
   "cell_type": "code",
   "execution_count": 14,
   "id": "d6b82978",
   "metadata": {},
   "outputs": [
    {
     "name": "stdout",
     "output_type": "stream",
     "text": [
      "[출력형식 : ChooShin-soo님은 Texas의 baseball_player입니다. 나이는 23]\n"
     ]
    }
   ],
   "source": [
    "person = {'last_name' : 'Choo', 'first_name' : 'Shin-soo', 'age' : (20+2)+1, 'profession' : 'baseball_player', 'affiliation' : 'Texas'}\n",
    "print('[출력형식 : {last_name}{first_name}님은 {affiliation}의 {profession}입니다. 나이는 {age}]'.format(**person))"
   ]
  },
  {
   "cell_type": "code",
   "execution_count": 28,
   "id": "38cef351",
   "metadata": {},
   "outputs": [
    {
     "name": "stdout",
     "output_type": "stream",
     "text": [
      "[출력형식 : ChooShin-soo님은 Texas의 baseball_player입니다. 나이는 41.]\n"
     ]
    }
   ],
   "source": [
    "last_name = 'Choo'\n",
    "first_name = 'Shin-soo'\n",
    "age = (20*2)+1\n",
    "profession = 'baseball_player'\n",
    "affiliation = 'Texas'\n",
    "print(f\"[출력형식 : {last_name}{first_name}님은 {affiliation}의 {profession}입니다. 나이는 {age}.]\")\n",
    "    # 여기는 f-string을 사용하기 위해 각 요소들의 변수선언이 선행되었음.\n",
    "    # f-string과 dictionary를 혼합해 사용하는 방법이 프린트한 자료에서는 앞쪽에 수기로 기록되어있음.\n",
    "    # class를 생성하고 class내에 __repr__함수를 생성하여 출력되도록 작성."
   ]
  },
  {
   "cell_type": "code",
   "execution_count": 20,
   "id": "2a089598",
   "metadata": {},
   "outputs": [
    {
     "name": "stdout",
     "output_type": "stream",
     "text": [
      "[출력형식 : ChooShinsoo님은 Texas의 baseball_player입니다. 나이는 23]\n"
     ]
    }
   ],
   "source": [
    "print('[출력형식 : {last_name}{first_name}님은 {affiliation}의 {profession}입니다. 나이는 {age}]'.format(last_name = 'Choo', first_name = 'Shinsoo', affiliation = 'Texas', profession = 'baseball_player', age = (20+2)+1))"
   ]
  },
  {
   "cell_type": "code",
   "execution_count": null,
   "id": "a915f770",
   "metadata": {},
   "outputs": [],
   "source": [
    "# person = {'last_name' : 'Choo', 'first_name' : 'Shin-soo', 'age' : (20+2)+1, 'profession' : 'baseball_player', 'affiliation' : 'Texas'}\n",
    "# f'[출력형식 : {first_name}{last_name}님은 {affiliation}의 {profession}입니다. 나이는 {age}]' 는 에러발생\n",
    "# 가 적용되려면 딕셔너리 내의 각 요소들이 개별적으로 변수로 생성되어 있어야함\n",
    "\n",
    "# last_name = 'Choo'\n",
    "# first_name = 'Shin-soo'\n",
    "# age = (20+2)+1\n",
    "# profession = 'baseball_player'\n",
    "# affiliation = 'Texas'\n",
    "# f'[출력형식 : {first_name}{last_name}님은 {affiliation}의 {profession}입니다. 나이는 {age}]'"
   ]
  },
  {
   "cell_type": "markdown",
   "id": "7e561d74",
   "metadata": {},
   "source": [
    "# 문2) 두 정수를 입력받아 두 수의 덧셈, 뺄셈, 곱셈, 나눗셈, 몫, 나머지를 출력하세요"
   ]
  },
  {
   "cell_type": "code",
   "execution_count": 23,
   "id": "afc80a06",
   "metadata": {
    "ExecuteTime": {
     "end_time": "2021-07-27T09:18:29.277082Z",
     "start_time": "2021-07-27T09:18:22.766273Z"
    }
   },
   "outputs": [
    {
     "name": "stdout",
     "output_type": "stream",
     "text": [
      "첫 번째 정수를 입력하세요 : 31\n",
      "두 번째 정수를 입력하세요 : 4\n",
      "두 수의 덧셈 : 35\n",
      "두 수의 뺄셈 : 27\n",
      "두 수의 곱셈 : 31.000000 * 4.000000\n",
      "두 수의 나눗셈 : 7.75\n",
      "두 수의 몫 : 7\n",
      "두 수의 나머지 : 3.000000\n"
     ]
    }
   ],
   "source": [
    "num1 = int(input('첫 번째 정수를 입력하세요 : '))\n",
    "num2 = int(input('두 번째 정수를 입력하세요 : '))\n",
    "print('두 수의 덧셈 : {}'.format(num1 + num2))\n",
    "print(f'두 수의 뺄셈 : {num1 - num2}')\n",
    "print('두 수의 곱셈 : %f * %f'%(num1, num2))\n",
    "try:####################################################################################################################\n",
    "    print('두 수의 나눗셈 : {}'.format(num1 / num2))\n",
    "    print(f'두 수의 몫 : {num1 // num2}') \n",
    "    print(\"두 수의 나머지 : %f\"%(num1 % num2)) ## {num1} // {num2}와 같이 분리되어 있으면 계산이 안되고 개별 숫자가 출력됨}\n",
    "except Exception :\n",
    "    print('두 번째 수에 0을 입력하여 나누기 연산이 불가합니다.')"
   ]
  },
  {
   "cell_type": "markdown",
   "id": "d0e580cf",
   "metadata": {},
   "source": [
    "# 문3) 문자열의 분리하기와 합치기 기능을 이용하여 'Hello World’를 ‘World Hello’로 출력하세요"
   ]
  },
  {
   "cell_type": "code",
   "execution_count": 71,
   "id": "fd8a4817",
   "metadata": {
    "ExecuteTime": {
     "end_time": "2021-07-20T06:03:10.361929Z",
     "start_time": "2021-07-20T06:03:10.344998Z"
    }
   },
   "outputs": [
    {
     "data": {
      "text/plain": [
       "['World', 'Hello']"
      ]
     },
     "execution_count": 71,
     "metadata": {},
     "output_type": "execute_result"
    }
   ],
   "source": [
    "split_ = 'Hello World'\n",
    "splited_phrase = split_.split(' ')\n",
    "#print({0}.format(splited_phrase))\n",
    "splited_phrase[::-1]\n",
    "##########################################################################################"
   ]
  },
  {
   "cell_type": "code",
   "execution_count": 14,
   "id": "35d2de6a",
   "metadata": {},
   "outputs": [
    {
     "name": "stdout",
     "output_type": "stream",
     "text": [
      "World Hello\n",
      "World Hello\n"
     ]
    }
   ],
   "source": [
    "split_ = 'Hello World'\n",
    "splited_phrase = split_.split(' ')\n",
    "print(splited_phrase[1], splited_phrase[0])\n",
    "print(splited_phrase[1] + ' ' + splited_phrase[0])"
   ]
  },
  {
   "cell_type": "code",
   "execution_count": 81,
   "id": "b690ab8b",
   "metadata": {
    "ExecuteTime": {
     "end_time": "2021-07-20T06:29:02.558814Z",
     "start_time": "2021-07-20T06:29:02.551832Z"
    }
   },
   "outputs": [
    {
     "name": "stdout",
     "output_type": "stream",
     "text": [
      "World Hello\n"
     ]
    }
   ],
   "source": [
    "split_ = 'Hello World'\n",
    "split_[-5:]\n",
    "# split-[5:]이면 5번째 인덱스부터 끝까지이므로 split[-5:]이면 뒤에서 5번째부터 끝까지이다!\n",
    "print(split_[-5:],split_[:5])"
   ]
  },
  {
   "cell_type": "markdown",
   "id": "f748cc90",
   "metadata": {},
   "source": [
    "# 문4) x = 'abcdef＇를 이용하여 ‘bcdefa’로 출력하세요(문자 슬라이싱이용)."
   ]
  },
  {
   "cell_type": "code",
   "execution_count": 27,
   "id": "7ee40dbc",
   "metadata": {
    "ExecuteTime": {
     "end_time": "2021-07-20T06:29:57.411525Z",
     "start_time": "2021-07-20T06:29:57.399578Z"
    },
    "scrolled": true
   },
   "outputs": [
    {
     "name": "stdout",
     "output_type": "stream",
     "text": [
      "bcdefa\n",
      "bcdefa\n",
      "bcdefa\n",
      "bcdefa\n",
      "bcdefa\n"
     ]
    }
   ],
   "source": [
    "x='abcdef'\n",
    "print(x[1:6],x[0],sep=\"\")\n",
    "print(x[-5:],x[0],sep='')\n",
    "print(x[1:]+x[0]) # 도 가능. + 를 사용하면 연결되는 두 문자열 사이에 빈공간이 발생X\n",
    "y = x[-5:], x[0]\n",
    "print(''.join(y))\n",
    "print('{}{}'.format(x[-5:],x[0]))"
   ]
  },
  {
   "cell_type": "markdown",
   "id": "5f915f13",
   "metadata": {},
   "source": [
    "# 문5) x = ‘abcdef’를 이용하여 ‘fedcba’로 출력하세요"
   ]
  },
  {
   "cell_type": "code",
   "execution_count": 9,
   "id": "069485b0",
   "metadata": {
    "ExecuteTime": {
     "end_time": "2021-07-20T06:06:12.574296Z",
     "start_time": "2021-07-20T06:06:12.570306Z"
    }
   },
   "outputs": [
    {
     "name": "stdout",
     "output_type": "stream",
     "text": [
      "fedcba\n"
     ]
    }
   ],
   "source": [
    "x='abcdef'\n",
    "print(x[::-1])"
   ]
  },
  {
   "cell_type": "markdown",
   "id": "83965bb6",
   "metadata": {},
   "source": [
    "# 문6) 1. 오늘의 온도를 섭씨온도로 입력받아 화씨 온도로 변환하는 프로그램을 작성하세요. \n"
   ]
  },
  {
   "cell_type": "markdown",
   "id": "3324a482",
   "metadata": {},
   "source": [
    "###         화씨 온도는 소수점 두번째 자리까지 출력되어야 합니다(다음은 섭씨와 화씨의 변환 공식입니다. C는 섭씨, F는 화씨)\n",
    "### C = (F-32) / 1.8 F = (C*1.8) + 32"
   ]
  },
  {
   "cell_type": "code",
   "execution_count": 44,
   "id": "188db470",
   "metadata": {
    "ExecuteTime": {
     "end_time": "2021-07-20T05:54:16.502035Z",
     "start_time": "2021-07-20T05:54:15.353105Z"
    }
   },
   "outputs": [
    {
     "name": "stdout",
     "output_type": "stream",
     "text": [
      "오늘의 온도를 입력해주세요 :33\n",
      "오늘의 온도는 화씨 91.40 입니다.\n",
      "오늘의 온도는 화씨 91.40 입니다.\n"
     ]
    }
   ],
   "source": [
    "\n",
    "C = input('오늘의 온도를 입력해주세요 :')\n",
    "F = (int(C)*1.8)+32\n",
    "print(\"오늘의 온도는 화씨 {:5.2f} 입니다.\".format(F))\n",
    "print(f'오늘의 온도는 화씨 {F:.2f} 입니다.')"
   ]
  },
  {
   "cell_type": "markdown",
   "id": "64e00659",
   "metadata": {},
   "source": [
    "<b><font size=\"6\" color=\"red\">Python String Formatting</font></b>\n",
    "- Syntax: template.format(p1, p1, .... , k1=v1, k2=v2) <br>\n",
    "            * This technique is okay for simple formatting but what if you want to specify precision in floating point number? For such thing you need to learn more about format codes.\n",
    "   \n",
    "- Syntax: {[argument_index_or_keyword]:[width][.precision][type]}\n",
    "- {:5.2f}"
   ]
  },
  {
   "cell_type": "markdown",
   "id": "71ac6d85",
   "metadata": {},
   "source": [
    "# 문8-2) 다음 코드를 실행하면은 ?"
   ]
  },
  {
   "cell_type": "code",
   "execution_count": 31,
   "id": "f3710177",
   "metadata": {
    "ExecuteTime": {
     "end_time": "2021-09-09T05:47:57.483721Z",
     "start_time": "2021-09-09T05:47:57.480753Z"
    }
   },
   "outputs": [
    {
     "name": "stdout",
     "output_type": "stream",
     "text": [
      "Seou n Seoul\n",
      "SeounSeoul\n"
     ]
    }
   ],
   "source": [
    "text = \"Seoul A001 – programming with python\" \n",
    "print(text[:4], text[-1], text.split()[0] )\n",
    "print(text[:4]+text[-1] +text.split()[0] )"
   ]
  },
  {
   "cell_type": "markdown",
   "id": "5d650dc9",
   "metadata": {},
   "source": [
    "# 문9)"
   ]
  },
  {
   "cell_type": "code",
   "execution_count": 39,
   "id": "be530a08",
   "metadata": {
    "ExecuteTime": {
     "end_time": "2021-09-09T05:51:21.264642Z",
     "start_time": "2021-09-09T05:51:21.255674Z"
    }
   },
   "outputs": [
    {
     "name": "stdout",
     "output_type": "stream",
     "text": [
      "수식 8 나누기 2의 몫 :  2\n",
      "수식 8/2의 값 :  4.0\n",
      "수식 8의 제곱 :  64\n"
     ]
    }
   ],
   "source": [
    "# 수식 8//2 : 몫 4\n",
    "# 수식 8/2 : 값 4.0\n",
    "# 수식 8 ** 2 값 64\n",
    "print('수식 8 나누기 2의 몫 : ', 8 // 4)\n",
    "print('수식 8/2의 값 : ', 8/2)\n",
    "print('수식 8의 제곱 : ', 8 ** 2)"
   ]
  }
 ],
 "metadata": {
  "kernelspec": {
   "display_name": "Python 3 (ipykernel)",
   "language": "python",
   "name": "python3"
  },
  "language_info": {
   "codemirror_mode": {
    "name": "ipython",
    "version": 3
   },
   "file_extension": ".py",
   "mimetype": "text/x-python",
   "name": "python",
   "nbconvert_exporter": "python",
   "pygments_lexer": "ipython3",
   "version": "3.9.7"
  },
  "toc": {
   "base_numbering": 1,
   "nav_menu": {},
   "number_sections": true,
   "sideBar": true,
   "skip_h1_title": false,
   "title_cell": "Table of Contents",
   "title_sidebar": "Contents",
   "toc_cell": false,
   "toc_position": {},
   "toc_section_display": true,
   "toc_window_display": false
  },
  "varInspector": {
   "cols": {
    "lenName": 16,
    "lenType": 16,
    "lenVar": 40
   },
   "kernels_config": {
    "python": {
     "delete_cmd_postfix": "",
     "delete_cmd_prefix": "del ",
     "library": "var_list.py",
     "varRefreshCmd": "print(var_dic_list())"
    },
    "r": {
     "delete_cmd_postfix": ") ",
     "delete_cmd_prefix": "rm(",
     "library": "var_list.r",
     "varRefreshCmd": "cat(var_dic_list()) "
    }
   },
   "types_to_exclude": [
    "module",
    "function",
    "builtin_function_or_method",
    "instance",
    "_Feature"
   ],
   "window_display": false
  }
 },
 "nbformat": 4,
 "nbformat_minor": 5
}
