{
 "cells": [
  {
   "cell_type": "code",
   "execution_count": 10,
   "id": "e3355b39",
   "metadata": {
    "ExecuteTime": {
     "end_time": "2021-09-08T07:17:14.562602Z",
     "start_time": "2021-09-08T07:17:14.543672Z"
    }
   },
   "outputs": [
    {
     "name": "stdout",
     "output_type": "stream",
     "text": [
      "[출력형식 : 홍길동님의 나이는 23입니다]\n",
      "[출력형식 : 홍길동님의 나이는 23입니다]\n",
      "[출력형식 : 홍길동님의 나이는 23입니다]\n"
     ]
    }
   ],
   "source": [
    "# 문1) 이름과 나이 변수를 다음 형식으로 출력하도록 format()함수를 이용해 형식화 하세요\n",
    "#      [출력형식 : 홍길동님의 나이는 23살 입니다.]\n",
    "name, age = '홍길동', 23\n",
    "print('[출력형식 : {}님의 나이는 {}입니다]'.format(name, age))\n",
    "print('[출력형식 : 'f'{name}님의 나이는 {age}입니다]')\n",
    "print('[출력형식 : %s님의 나이는 %d입니다]' % (name, age))"
   ]
  },
  {
   "cell_type": "code",
   "execution_count": 2,
   "id": "afc80a06",
   "metadata": {
    "ExecuteTime": {
     "end_time": "2021-07-27T09:18:29.277082Z",
     "start_time": "2021-07-27T09:18:22.766273Z"
    }
   },
   "outputs": [
    {
     "name": "stdout",
     "output_type": "stream",
     "text": [
      "첫 번째 정수를 입력하세요 : 24\n",
      "두 번쨰 정수를 입력하세요 : 7\n",
      "두 수의 덧셈 :  31\n",
      "두 수의 뺄셈 :  17\n",
      "두 수의 곱셈 :  168\n",
      "두 수의 나눗셈 :  3.4285714285714284\n",
      "두 수의 몫 :  3\n",
      "두 수의 나머지 :  3\n"
     ]
    }
   ],
   "source": [
    "# 문2) 두 정수를 입력받아 두 수의 덧셈, 뺄셈, 곱셈, 나눗셈, 몫, 나머지를 출력하세요\n",
    "num1 = int(input('첫 번째 정수를 입력하세요 : '))\n",
    "num2 = int(input('두 번쨰 정수를 입력하세요 : '))\n",
    "print('두 수의 덧셈 : ', num1 + num2)\n",
    "print('두 수의 뺄셈 : ', num1 - num2)\n",
    "print('두 수의 곱셈 : ', num1 * num2)\n",
    "try:####################################################################################################################\n",
    "    print('두 수의 나눗셈 : ', (num1 / num2))\n",
    "    print('두 수의 몫 : ', num1 // num2)\n",
    "    print('두 수의 나머지 : ', num1 % num2)\n",
    "except Exception :\n",
    "    print('두 번째 수에 0을 입력하여 나누기 연산이 불가합니다.')"
   ]
  },
  {
   "cell_type": "code",
   "execution_count": 71,
   "id": "fd8a4817",
   "metadata": {
    "ExecuteTime": {
     "end_time": "2021-07-20T06:03:10.361929Z",
     "start_time": "2021-07-20T06:03:10.344998Z"
    }
   },
   "outputs": [
    {
     "data": {
      "text/plain": [
       "['World', 'Hello']"
      ]
     },
     "execution_count": 71,
     "metadata": {},
     "output_type": "execute_result"
    }
   ],
   "source": [
    "# 문3) 문자열의 분리하기와 합치기 기능을 이용하여 'Hello World’를 ‘World Hello’로 출력하세요\n",
    "split_ = 'Hello World'\n",
    "splited_phrase = split_.split(' ')\n",
    "#print({0}.format(splited_phrase))\n",
    "splited_phrase[::-1]\n",
    "##########################################################################################"
   ]
  },
  {
   "cell_type": "code",
   "execution_count": 81,
   "id": "b690ab8b",
   "metadata": {
    "ExecuteTime": {
     "end_time": "2021-07-20T06:29:02.558814Z",
     "start_time": "2021-07-20T06:29:02.551832Z"
    }
   },
   "outputs": [
    {
     "name": "stdout",
     "output_type": "stream",
     "text": [
      "World Hello\n"
     ]
    }
   ],
   "source": [
    "split_ = 'Hello World'\n",
    "split_[-5:]\n",
    "# split-[5:]이면 5번째 인덱스부터 끝까지이므로 split[-5:]이면 뒤에서 5번째부터 끝까지이다!\n",
    "print(split_[-5:],split_[:5])"
   ]
  },
  {
   "cell_type": "code",
   "execution_count": 82,
   "id": "7ee40dbc",
   "metadata": {
    "ExecuteTime": {
     "end_time": "2021-07-20T06:29:57.411525Z",
     "start_time": "2021-07-20T06:29:57.399578Z"
    },
    "scrolled": true
   },
   "outputs": [
    {
     "name": "stdout",
     "output_type": "stream",
     "text": [
      "bcdefa\n"
     ]
    }
   ],
   "source": [
    "# 문4) x = 'abcdef＇를 이용하여 ‘bcdefa’로 출력하세요(문자 슬라이싱이용).\n",
    "x='abcdef'\n",
    "print(x[1:6],x[0],sep=\"\")\n",
    "# print(x[1:]+x[0])도 가능. + 를 사용하면 연결되는 두 문자열 사이에 빈공간이 발생X "
   ]
  },
  {
   "cell_type": "code",
   "execution_count": 72,
   "id": "069485b0",
   "metadata": {
    "ExecuteTime": {
     "end_time": "2021-07-20T06:06:12.574296Z",
     "start_time": "2021-07-20T06:06:12.570306Z"
    }
   },
   "outputs": [
    {
     "name": "stdout",
     "output_type": "stream",
     "text": [
      "fedcba\n"
     ]
    }
   ],
   "source": [
    "# 문5) x = ‘abcdef’를 이용하여 ‘fedcba’로 출력하세요\n",
    "x='abcdef'\n",
    "print(x[::-1])"
   ]
  },
  {
   "cell_type": "code",
   "execution_count": 66,
   "id": "188db470",
   "metadata": {
    "ExecuteTime": {
     "end_time": "2021-07-20T05:54:16.502035Z",
     "start_time": "2021-07-20T05:54:15.353105Z"
    }
   },
   "outputs": [
    {
     "name": "stdout",
     "output_type": "stream",
     "text": [
      "오늘의 온도를 입력해주세요 :33\n",
      "오늘의 온도는 화씨 91.40 입니다.\n"
     ]
    }
   ],
   "source": [
    "# 문6) 1. 오늘의 온도를 섭씨온도로 입력받아 화씨 온도로 변환하는 프로그램을 작성하세요. \n",
    "#         화씨 온도는 소수점 두번째 자리까지 출력되어야 합니다(다음은 섭씨와 화씨의 변환 공 식입니다. C는 섭씨, F는 화씨)\n",
    "# C = (F-32) / 1.8 F = (C*1.8) + 32\n",
    "C = input('오늘의 온도를 입력해주세요 :')\n",
    "F = (int(C)*1.8)+32\n",
    "print(\"오늘의 온도는 화씨 {:5.2f} 입니다.\".format(F))"
   ]
  },
  {
   "cell_type": "markdown",
   "id": "64e00659",
   "metadata": {},
   "source": [
    "<b><font size=\"6\" color=\"red\">Python String Formatting</font></b>\n",
    "- Syntax: template.format(p1, p1, .... , k1=v1, k2=v2) <br>\n",
    "            * This technique is okay for simple formatting but what if you want to specify precision in floating point number? For such thing you need to learn more about format codes.\n",
    "   \n",
    "- Syntax: {[argument_index_or_keyword]:[width][.precision][type]}"
   ]
  },
  {
   "cell_type": "code",
   "execution_count": 3,
   "id": "f3710177",
   "metadata": {
    "ExecuteTime": {
     "end_time": "2021-09-09T05:47:57.483721Z",
     "start_time": "2021-09-09T05:47:57.480753Z"
    }
   },
   "outputs": [],
   "source": [
    "# 문8-2)\n",
    "text = \"Seoul A001\" # – programming with python Print(text[:4]+text[-1] +text.split()[0] )\n",
    "print(text[:4]+text[-1] +text.split()[0] )"
   ]
  },
  {
   "cell_type": "code",
   "execution_count": 8,
   "id": "be530a08",
   "metadata": {
    "ExecuteTime": {
     "end_time": "2021-09-09T05:51:21.264642Z",
     "start_time": "2021-09-09T05:51:21.255674Z"
    }
   },
   "outputs": [
    {
     "name": "stdout",
     "output_type": "stream",
     "text": [
      "수식 8 나누기 2의 몫 :  2\n",
      "수식 8/2의 값 :  4.0\n",
      "수식 8의 제곱 :  64\n"
     ]
    }
   ],
   "source": [
    "# 문8)\n",
    "# 수식 8//2 : 몫 4\n",
    "# 수식 8/2 : 값 4.0\n",
    "# 수식 8 ** 2 값 64\n",
    "print('수식 8 나누기 2의 몫 : ', 8 // 4)\n",
    "print('수식 8/2의 값 : ', 8/2)\n",
    "print('수식 8의 제곱 : ', 8 ** 2)"
   ]
  }
 ],
 "metadata": {
  "kernelspec": {
   "display_name": "Python 3",
   "language": "python",
   "name": "python3"
  },
  "language_info": {
   "codemirror_mode": {
    "name": "ipython",
    "version": 3
   },
   "file_extension": ".py",
   "mimetype": "text/x-python",
   "name": "python",
   "nbconvert_exporter": "python",
   "pygments_lexer": "ipython3",
   "version": "3.8.8"
  },
  "toc": {
   "base_numbering": 1,
   "nav_menu": {},
   "number_sections": true,
   "sideBar": true,
   "skip_h1_title": false,
   "title_cell": "Table of Contents",
   "title_sidebar": "Contents",
   "toc_cell": false,
   "toc_position": {},
   "toc_section_display": true,
   "toc_window_display": false
  },
  "varInspector": {
   "cols": {
    "lenName": 16,
    "lenType": 16,
    "lenVar": 40
   },
   "kernels_config": {
    "python": {
     "delete_cmd_postfix": "",
     "delete_cmd_prefix": "del ",
     "library": "var_list.py",
     "varRefreshCmd": "print(var_dic_list())"
    },
    "r": {
     "delete_cmd_postfix": ") ",
     "delete_cmd_prefix": "rm(",
     "library": "var_list.r",
     "varRefreshCmd": "cat(var_dic_list()) "
    }
   },
   "types_to_exclude": [
    "module",
    "function",
    "builtin_function_or_method",
    "instance",
    "_Feature"
   ],
   "window_display": false
  }
 },
 "nbformat": 4,
 "nbformat_minor": 5
}
