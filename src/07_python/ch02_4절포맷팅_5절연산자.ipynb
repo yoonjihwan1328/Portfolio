{
 "cells": [
  {
   "cell_type": "code",
   "execution_count": null,
   "id": "e4b5efb0",
   "metadata": {},
   "outputs": [],
   "source": []
  },
  {
   "cell_type": "markdown",
   "id": "311b7a01",
   "metadata": {},
   "source": [
    "<b><font size=\"6\" color=\"red\">ch02. 자료형과 연산자</font></b>"
   ]
  },
  {
   "cell_type": "markdown",
   "id": "58f69358",
   "metadata": {
    "ExecuteTime": {
     "end_time": "2021-07-19T03:42:46.924197Z",
     "start_time": "2021-07-19T03:42:46.906141Z"
    }
   },
   "source": [
    "# 4절 포맷팅\n",
    "* 포맷팅이란? 출력할 문자, 숫자, 날짜 데이터에 형식을 지정하는 것.\n",
    "* 변수와 텍스트를 결합해서 보기 좋은 형식의 새로운 텍스트를 만들 때 사용."
   ]
  },
  {
   "cell_type": "markdown",
   "id": "edb5b4c9",
   "metadata": {
    "ExecuteTime": {
     "end_time": "2021-07-19T08:15:20.047724Z",
     "start_time": "2021-07-19T08:15:20.043755Z"
    }
   },
   "source": [
    "## 문자열에 형식 지정"
   ]
  },
  {
   "cell_type": "code",
   "execution_count": 2,
   "id": "b6822ab8",
   "metadata": {
    "ExecuteTime": {
     "end_time": "2021-07-19T08:20:13.104841Z",
     "start_time": "2021-07-19T08:20:13.095866Z"
    }
   },
   "outputs": [
    {
     "name": "stdout",
     "output_type": "stream",
     "text": [
      "홍길동님의 나이는 30살입니다.\n"
     ]
    }
   ],
   "source": [
    "name = \"홍길동\"\n",
    "age  = 30\n",
    "print(name, '님의 나이는 ', age, '살입니다.', sep=\"\") \n",
    "    # 변수와 텍스트를 번갈아 사용해서 불편하고 가독성이 떨어져서 포매팅을 사용할 것임."
   ]
  },
  {
   "cell_type": "code",
   "execution_count": 6,
   "id": "1f41add8",
   "metadata": {
    "ExecuteTime": {
     "end_time": "2021-07-19T08:25:07.565020Z",
     "start_time": "2021-07-19T08:25:07.546050Z"
    }
   },
   "outputs": [
    {
     "name": "stdout",
     "output_type": "stream",
     "text": [
      "홍길동님의 나이는 30살입니다\n"
     ]
    },
    {
     "data": {
      "text/plain": [
       "'홍길동님의 나이는 30살입니다'"
      ]
     },
     "execution_count": 6,
     "metadata": {},
     "output_type": "execute_result"
    }
   ],
   "source": [
    "# 이전 스타일\n",
    "# %s문자, d:숫자(10진수 정수), %f:실수, \n",
    "print(\"%s님의 나이는 %d살입니다\"%(name,age))\n",
    "\"%s님의 나이는 %d살입니다\"%(name,age)\n",
    "    # 아래 f-strings 필기는 모두 개인적인 구글링의 결과\n",
    "    # Why %-formatting Isn’t Great \n",
    "    #     : once you start using several parameters and longer strings, your code will quickly become much less easily readable."
   ]
  },
  {
   "cell_type": "code",
   "execution_count": 7,
   "id": "315f519b",
   "metadata": {
    "ExecuteTime": {
     "end_time": "2021-07-19T08:25:27.607060Z",
     "start_time": "2021-07-19T08:25:27.594094Z"
    }
   },
   "outputs": [
    {
     "data": {
      "text/plain": [
       "'홍길동님의 나이는 30살입니다'"
      ]
     },
     "execution_count": 7,
     "metadata": {},
     "output_type": "execute_result"
    }
   ],
   "source": [
    "# 새로운 스타일\n",
    "\"{}님의 나이는 {}살입니다\".format(name, age)"
   ]
  },
  {
   "cell_type": "code",
   "execution_count": 3,
   "id": "992eddb7",
   "metadata": {
    "ExecuteTime": {
     "end_time": "2021-07-19T08:39:19.933314Z",
     "start_time": "2021-07-19T08:39:19.929325Z"
    }
   },
   "outputs": [
    {
     "name": "stdout",
     "output_type": "stream",
     "text": [
      "30님의 나이는 홍길동살입니다\n"
     ]
    }
   ],
   "source": [
    "print(\"{1}님의 나이는 {0}살입니다\".format(name, age)) # You can reference variables in any order by referencing their index\n",
    "    # but str.format() can still be quite verbose when you are dealing with multiple parameters and longer strings."
   ]
  },
  {
   "cell_type": "code",
   "execution_count": 6,
   "id": "9c5161d7",
   "metadata": {},
   "outputs": [
    {
     "data": {
      "text/plain": [
       "'홍길동님의 나이는 30입니다'"
      ]
     },
     "execution_count": 6,
     "metadata": {},
     "output_type": "execute_result"
    }
   ],
   "source": [
    "# f-strings : A new and Improved way to format strings in Python\n",
    "f\"{name}님의 나이는 {age}입니다\""
   ]
  },
  {
   "cell_type": "code",
   "execution_count": 9,
   "id": "468d201d",
   "metadata": {},
   "outputs": [
    {
     "data": {
      "text/plain": [
       "'Hi Eric. You are a comedian. You were in Monty Python. '"
      ]
     },
     "execution_count": 9,
     "metadata": {},
     "output_type": "execute_result"
    }
   ],
   "source": [
    "# Multiline f-Strings\n",
    "name = \"Eric\"\n",
    "profession = \"comedian\"\n",
    "affiliation = \"Monty Python\"\n",
    "message = (\n",
    "    f\"Hi {name}. \"\n",
    "    f\"You are a {profession}. \"\n",
    "    f\"You were in {affiliation}. \"\n",
    ")\n",
    "message\n"
   ]
  },
  {
   "cell_type": "code",
   "execution_count": 10,
   "id": "04826c3a",
   "metadata": {},
   "outputs": [
    {
     "data": {
      "text/plain": [
       "'Hi Eric. You are a comedian You were in Monty Python. '"
      ]
     },
     "execution_count": 10,
     "metadata": {},
     "output_type": "execute_result"
    }
   ],
   "source": [
    "name = \"Eric\"\n",
    "profession = \"comedian\"\n",
    "affiliation = \"Monty Python\"\n",
    "message = f\"Hi {name}. \" \\\n",
    "    f\"You are a {profession} \" \\\n",
    "    f\"You were in {affiliation}. \"\n",
    "message"
   ]
  },
  {
   "cell_type": "markdown",
   "id": "67bfe401",
   "metadata": {},
   "source": [
    "## format()함수 문법"
   ]
  },
  {
   "cell_type": "markdown",
   "id": "3b9971ff",
   "metadata": {},
   "source": [
    "\"{[인덱스]:[공백대체문자][정렬방법][자릿수][타입]}\".format(변수명, ...)\n",
    "                            타입의 종류들 : d(10진수 정수), x(16진수), o(8진수), b(2진수), f(실수), s(문자)"
   ]
  },
  {
   "cell_type": "code",
   "execution_count": null,
   "id": "b3f169fa",
   "metadata": {},
   "outputs": [],
   "source": [
    "# 인덱스   : format함수안의 인수의 순서\n",
    "# 정렬방법 : <기호 왼쪽 정렬,\n",
    "#            >기호 : 오른쪽 정렬,\n",
    "#            ^기호 : 가운데 정렬,\n",
    "# 자릿수   : 출력할 자릿수 지정. 변수보다 적은 자릿수가 지정되면 자리수 무시\n",
    "# 타입     :  d(10진수 정수), x(16진수), o(8진수), b(2진수), f(실수), s(문자)"
   ]
  },
  {
   "cell_type": "code",
   "execution_count": 17,
   "id": "e31c2cf9",
   "metadata": {
    "ExecuteTime": {
     "end_time": "2021-07-19T08:51:30.430567Z",
     "start_time": "2021-07-19T08:51:16.024753Z"
    }
   },
   "outputs": [
    {
     "name": "stdout",
     "output_type": "stream",
     "text": [
      "이름은 ?yuna\n",
      "나이는 ?32\n",
      "32살 yuna님은 32살이 참 좋은 나이라는 것을 알려나\n"
     ]
    }
   ],
   "source": [
    "name = input(\"이름은 ?\")\n",
    "age = int(input(\"나이는 ?\"))\n",
    "print(\"{1}살 {0}님은 {1}살이 참 좋은 나이라는 것을 알려나\".format(name, age))"
   ]
  },
  {
   "cell_type": "code",
   "execution_count": 21,
   "id": "497a67e9",
   "metadata": {
    "ExecuteTime": {
     "end_time": "2021-07-19T08:56:49.259750Z",
     "start_time": "2021-07-19T08:56:49.240750Z"
    }
   },
   "outputs": [
    {
     "name": "stdout",
     "output_type": "stream",
     "text": [
      "출력 : [12345], [     12345], [12345]\n",
      "출력 : [Hello], [Hello     ], [Hello]\n"
     ]
    }
   ],
   "source": [
    "# 숫자의 경우 출력할 변수보다 큰 자릿수를 지정하면 오른쪽 정렬(기본값)\n",
    "# 문자의 경우 출력할 변수보다 큰 자릿수를 지정하면 왼쪽 정렬(기본값)\n",
    "# 변수보다 작은 자리수를 지정하면 자리수 지정이 무시되고 모두 출력\n",
    "a = 12345\n",
    "s = \"Hello\"\n",
    "print(\"출력 : [{0}], [{0:10}], [{0:3}]\".format(a))\n",
    "print(\"출력 : [{0}], [{0:10}], [{0:3}]\".format(s))\n",
    "    # 여러번의 반복출력을 희망한다면 format의 전달인자가 하나 뿐이어서 분명한 경우에도\n",
    "        # 각 출력부분에는 인덱수(0)을 입력해줘야함."
   ]
  },
  {
   "cell_type": "code",
   "execution_count": 23,
   "id": "74d711a6",
   "metadata": {
    "ExecuteTime": {
     "end_time": "2021-07-19T08:59:52.678786Z",
     "start_time": "2021-07-19T08:59:52.664824Z"
    }
   },
   "outputs": [
    {
     "name": "stdout",
     "output_type": "stream",
     "text": [
      "출력 : [a     ], [    20], [  3   ]\n"
     ]
    }
   ],
   "source": [
    "# 정렬방법 > < ^\n",
    "a, b, c = 10, 20, 3\n",
    "print(\"출력 : [{:<6x}], [{:>6d}], [{:^6d}]\".format(a, b, c))"
   ]
  },
  {
   "cell_type": "code",
   "execution_count": 12,
   "id": "c6f05cd8",
   "metadata": {
    "ExecuteTime": {
     "end_time": "2021-07-19T09:03:16.751181Z",
     "start_time": "2021-07-19T09:03:16.747189Z"
    }
   },
   "outputs": [
    {
     "name": "stdout",
     "output_type": "stream",
     "text": [
      "출력 : [$$$$$$$$10], [Hello***************], [Hel_______]\n"
     ]
    }
   ],
   "source": [
    "# \"인덱스:공백대체문자 정렬방법 자릿수 타입\".format()\n",
    "a = 10\n",
    "s = \"Hello\"\n",
    "print(\"출력 : [{0:$>10}], [{1:*<20}], [{1:_<10.3}]\".format(a, s))\n",
    "                                # 10.3 : 전체 10자리확보 변수 중 3자리만 출력"
   ]
  },
  {
   "cell_type": "code",
   "execution_count": 18,
   "id": "543c4a99",
   "metadata": {
    "ExecuteTime": {
     "end_time": "2021-07-19T09:07:45.343878Z",
     "start_time": "2021-07-19T09:07:45.336897Z"
    }
   },
   "outputs": [
    {
     "name": "stdout",
     "output_type": "stream",
     "text": [
      "$$$$10$$$$ / ***************Hello\n"
     ]
    }
   ],
   "source": [
    "# 공백대체문자를 지정할 때는 반드시 정렬방법을 표현해야 합니다.(주의점)\n",
    "print(\"{:$^10} / {:*>20}\".format(a, s))\n",
    "# print(\"{:$10} / {:*20}\".format(a, s)) 정렬방법이 명시되지 않은 경우 - 에러발생"
   ]
  },
  {
   "cell_type": "code",
   "execution_count": 32,
   "id": "82948ef3",
   "metadata": {
    "ExecuteTime": {
     "end_time": "2021-07-19T09:16:24.716172Z",
     "start_time": "2021-07-19T09:16:24.697224Z"
    }
   },
   "outputs": [
    {
     "name": "stdout",
     "output_type": "stream",
     "text": [
      "출력 | [      -123], [      +123], [       123]\n",
      "출력 | [      -123], [       123], [       123]\n",
      "출력 | [-      123], [+      123], [       123]\n",
      "출력 | [-      123], [+      123], [0000000123]\n",
      "출력 | [-$$$$$$123], [+______123], [+★★★★★★123]\n"
     ]
    }
   ],
   "source": [
    "# 자리수 앞에 +를 붙이면 양수의 경우도 부호를 내놓음\n",
    "# 자리수 앞에 =를 붙이면 부호가 자릿수의 맨 앞에 표현(음수의 경우만)\n",
    "# 자리수 앞에 =+를 붙이면 부호가 자릿수의 맨 앞에 표시됨(양수, 음수 모두)\n",
    "# 자릿수 앞에 0을 채우면 빈자리에 0을 채움\n",
    "# 공백대체문자는 = 앞에\n",
    "# 공백대체문자와 자릿수 앞의 0(4번째 예시)을 중복해서 쓰면 0은 무시 \n",
    "a, b = 123, -123\n",
    "print(\"출력 | [{:+10}], [{:+10}], [{:10}]\".format(b, a, a))\n",
    "print(\"출력 | [{:+10}], [{:=10}], [{:10}]\".format(b, a, a))\n",
    "print(\"출력 | [{:=10}], [{:=+10}], [{:10}]\".format(b, a, a))\n",
    "print(\"출력 | [{:=10}], [{:=+10}], [{:010}]\".format(b, a, a))\n",
    "print(\"출력 | [{:$=10}], [{:_=+10}], [{:★=+010}]\".format(b, a, a))"
   ]
  },
  {
   "cell_type": "code",
   "execution_count": 9,
   "id": "ac5b02fd",
   "metadata": {
    "ExecuteTime": {
     "end_time": "2021-07-20T00:57:02.025352Z",
     "start_time": "2021-07-20T00:57:02.011389Z"
    }
   },
   "outputs": [
    {
     "name": "stdout",
     "output_type": "stream",
     "text": [
      "a = [       2.8]\n",
      "a = [ 2.76]\n"
     ]
    }
   ],
   "source": [
    "# 전체자리수.표현될 자리수\n",
    "a = 2.758\n",
    "s = \"Hello\"\n",
    "print(\"a = [{:>10.2}]\".format(a)) # 전체자리 10자리를 확보하고 a는 2자리만\n",
    "print(\"a = [{:>5.3}]\".format(a))  # 전체자리 5자리를 확보하고 a는 3자리만"
   ]
  },
  {
   "cell_type": "code",
   "execution_count": 6,
   "id": "0e7121d8",
   "metadata": {
    "ExecuteTime": {
     "end_time": "2021-07-20T00:53:30.857379Z",
     "start_time": "2021-07-20T00:53:30.841421Z"
    }
   },
   "outputs": [
    {
     "name": "stdout",
     "output_type": "stream",
     "text": [
      "a = [      2.76]\n",
      "a = [  2.8]\n"
     ]
    }
   ],
   "source": [
    "# 전체자리수.표현될 자리수f\n",
    "print(\"a = [{:>10.2f}]\".format(a)) # 전체자리는 10자리 확보하고 소수점 2자리만\n",
    "print(\"a = [{:>5.1f}]\".format(a))  # 전체자리는 5자리 확보하고 소수점 1자리만"
   ]
  },
  {
   "cell_type": "code",
   "execution_count": 7,
   "id": "9522d656",
   "metadata": {
    "ExecuteTime": {
     "end_time": "2021-07-20T00:55:06.708451Z",
     "start_time": "2021-07-20T00:55:06.698481Z"
    }
   },
   "outputs": [
    {
     "name": "stdout",
     "output_type": "stream",
     "text": [
      "          [01234567]\n",
      "10진수 : [      15]\n",
      " 2진수 : [    1111]\n",
      " 8진수 : [      17]\n",
      "16진수 : [       f]\n"
     ]
    }
   ],
   "source": [
    "a = 15\n",
    "print(\"          [01234567]\")\n",
    "print(\"10진수 : [{:8d}]\".format(a))\n",
    "print(\" 2진수 : [{:8b}]\".format(a))\n",
    "print(\" 8진수 : [{:8o}]\".format(a))\n",
    "print(\"16진수 : [{:8x}]\".format(a))"
   ]
  },
  {
   "cell_type": "code",
   "execution_count": 12,
   "id": "e4846ad0",
   "metadata": {
    "ExecuteTime": {
     "end_time": "2021-07-20T01:00:09.624065Z",
     "start_time": "2021-07-20T01:00:09.608442Z"
    }
   },
   "outputs": [
    {
     "name": "stdout",
     "output_type": "stream",
     "text": [
      "출력 : [     +2.79]\n",
      "출력 : [     +2.79]\n",
      "출력 : [     +2.79]\n"
     ]
    }
   ],
   "source": [
    "a = 2.785\n",
    "print(\"출력 : [{:>+10.3}]\".format(a))\n",
    "print(\"출력 : [{:{}{}{}.{}}]\".format(a, '>','+',10,3))\n",
    "print(\"출력 : [{:{dir}{sign}{width}.{precision}}]\".format(a, dir='>', sign='+', width=10, precision=3))"
   ]
  },
  {
   "cell_type": "markdown",
   "id": "059f11fe",
   "metadata": {},
   "source": [
    "## 날짜출력"
   ]
  },
  {
   "cell_type": "code",
   "execution_count": 3,
   "id": "1bb498e7",
   "metadata": {
    "ExecuteTime": {
     "end_time": "2021-07-20T01:04:37.260120Z",
     "start_time": "2021-07-20T01:04:37.242190Z"
    }
   },
   "outputs": [
    {
     "data": {
      "text/plain": [
       "datetime.datetime(2021, 7, 20, 10, 4)"
      ]
     },
     "execution_count": 3,
     "metadata": {},
     "output_type": "execute_result"
    }
   ],
   "source": [
    "# 날짜출력은 라이브러리가 따로 있기도 함. 여기서는 포맷함수만 이용해서 출력을 실시\n",
    "# format함수 이용\n",
    "from datetime import datetime # datetime이라는 모듈안에 datetime이라는 함수를 적용 # 차후 모듈과 패키지 부분에서 패키지 이용하는 방법에 대해 더 자세하게 설명할 예정\n",
    "thatday = datetime(2021, 7, 20, 10, 4, 0)\n",
    "thatday"
   ]
  },
  {
   "cell_type": "code",
   "execution_count": 15,
   "id": "ea862943",
   "metadata": {
    "ExecuteTime": {
     "end_time": "2021-07-20T01:07:19.953561Z",
     "start_time": "2021-07-20T01:07:19.944569Z"
    }
   },
   "outputs": [
    {
     "name": "stdout",
     "output_type": "stream",
     "text": [
      "2021-07-20 10:04:00\n",
      "2021년 07월 20일 10시 04분 00초\n"
     ]
    }
   ],
   "source": [
    "print(\"{}\".format(thatday))\n",
    "print(\"{:%Y년 %m월 %d일 %H시 %M분 %S초}\".format(thatday))"
   ]
  },
  {
   "cell_type": "code",
   "execution_count": 4,
   "id": "17036727",
   "metadata": {
    "ExecuteTime": {
     "end_time": "2021-07-20T01:11:35.643360Z",
     "start_time": "2021-07-20T01:11:35.624419Z"
    }
   },
   "outputs": [
    {
     "data": {
      "text/plain": [
       "'2021년 07월 20일 10시 04분 00초'"
      ]
     },
     "execution_count": 4,
     "metadata": {},
     "output_type": "execute_result"
    }
   ],
   "source": [
    "# 날짜를 문자열로 출력하기위해 format보다 strftime()함수를 더 많이 이용\n",
    "from time import strftime # time모듈 안에 strftime함수를 사용\n",
    "strftime(\"{:%Y년 %m월 %d일 %H시 %M분 %S초}\".format(thatday))"
   ]
  },
  {
   "cell_type": "code",
   "execution_count": 9,
   "id": "cf746d01",
   "metadata": {
    "ExecuteTime": {
     "end_time": "2021-07-20T01:18:24.166148Z",
     "start_time": "2021-07-20T01:18:24.152182Z"
    }
   },
   "outputs": [
    {
     "data": {
      "text/plain": [
       "time.struct_time(tm_year=2022, tm_mon=5, tm_mday=10, tm_hour=13, tm_min=45, tm_sec=30, tm_wday=1, tm_yday=130, tm_isdst=0)"
      ]
     },
     "execution_count": 9,
     "metadata": {},
     "output_type": "execute_result"
    }
   ],
   "source": [
    "from time import localtime # time패키지에서 localtime\n",
    "now = localtime() # 현재의 날짜와 시간\n",
    "now\n",
    "# print(\"{:%Y년 %m월 %d일 %H시 %M분 %S초}\".format(now)) # 에러발생. format함수 now와 병렬로 사용 불가\n",
    "# strftime(\"%Y년 %m월 %d일 %H시 %M분 %S초\".format(now)) # 가능\n",
    "# localtime().strftime(\"%Y년 %m월 %d일 %H시 %M분 %S초\") # 에러발생"
   ]
  },
  {
   "cell_type": "code",
   "execution_count": 31,
   "id": "267d2442",
   "metadata": {
    "ExecuteTime": {
     "end_time": "2021-07-20T01:34:45.062729Z",
     "start_time": "2021-07-20T01:34:45.047107Z"
    }
   },
   "outputs": [
    {
     "name": "stdout",
     "output_type": "stream",
     "text": [
      "Hello, $$$$$$$$$$$$$$$$$홍길동. You're 30 years old\n",
      "Hello, 홍길동. You are 30 years old\n",
      "Hello, 홍길동. You are 30 years old\n"
     ]
    }
   ],
   "source": [
    "name = \"홍길동\"\n",
    "age = 30\n",
    "print(\"Hello, {:$>20s}. You're {} years old\".format(name, age)) # 가장 많이 쓰는 형식\n",
    "print(\"Hello, %s. You are %d years old\" % (name, age))          # 종종 쓰이는 형식\n",
    "print(f'Hello, {name}. You are {age} years old')                # 안쓰이는 형식"
   ]
  },
  {
   "cell_type": "code",
   "execution_count": 22,
   "id": "233ea24e",
   "metadata": {
    "ExecuteTime": {
     "end_time": "2021-07-20T01:13:58.082034Z",
     "start_time": "2021-07-20T01:13:58.074056Z"
    }
   },
   "outputs": [
    {
     "data": {
      "text/plain": [
       "['D:\\\\bigdata\\\\src\\\\07_Python',\n",
       " 'C:\\\\Users\\\\tjoeun\\\\anaconda3\\\\python38.zip',\n",
       " 'C:\\\\Users\\\\tjoeun\\\\anaconda3\\\\DLLs',\n",
       " 'C:\\\\Users\\\\tjoeun\\\\anaconda3\\\\lib',\n",
       " 'C:\\\\Users\\\\tjoeun\\\\anaconda3',\n",
       " '',\n",
       " 'C:\\\\Users\\\\tjoeun\\\\anaconda3\\\\lib\\\\site-packages',\n",
       " 'C:\\\\Users\\\\tjoeun\\\\anaconda3\\\\lib\\\\site-packages\\\\locket-0.2.1-py3.8.egg',\n",
       " 'C:\\\\Users\\\\tjoeun\\\\anaconda3\\\\lib\\\\site-packages\\\\win32',\n",
       " 'C:\\\\Users\\\\tjoeun\\\\anaconda3\\\\lib\\\\site-packages\\\\win32\\\\lib',\n",
       " 'C:\\\\Users\\\\tjoeun\\\\anaconda3\\\\lib\\\\site-packages\\\\Pythonwin',\n",
       " 'C:\\\\Users\\\\tjoeun\\\\anaconda3\\\\lib\\\\site-packages\\\\IPython\\\\extensions',\n",
       " 'C:\\\\Users\\\\tjoeun\\\\.ipython']"
      ]
     },
     "execution_count": 22,
     "metadata": {},
     "output_type": "execute_result"
    }
   ],
   "source": [
    "import sys # 경로를 따라 들어가면 패키지 및 패키지 안에 있는 함수들을 확인할 수 있음\n",
    "sys.path"
   ]
  },
  {
   "cell_type": "markdown",
   "id": "1ed34bc1",
   "metadata": {},
   "source": [
    "# 5절. 연산자"
   ]
  },
  {
   "cell_type": "markdown",
   "id": "bb7b1b01",
   "metadata": {
    "ExecuteTime": {
     "end_time": "2021-07-20T01:39:05.018006Z",
     "start_time": "2021-07-20T01:39:05.001051Z"
    }
   },
   "source": [
    "## 산술연산자 : + - * / //(몫) %(나머지) **(제곱)"
   ]
  },
  {
   "cell_type": "markdown",
   "id": "49bf2d35",
   "metadata": {
    "ExecuteTime": {
     "end_time": "2021-07-20T01:40:13.406116Z",
     "start_time": "2021-07-20T01:40:13.400111Z"
    }
   },
   "source": [
    "## 할당연산자 : =, +=, -=, //=, ......"
   ]
  },
  {
   "cell_type": "code",
   "execution_count": 4,
   "id": "80fc1ea0",
   "metadata": {
    "ExecuteTime": {
     "end_time": "2021-07-20T01:40:52.734302Z",
     "start_time": "2021-07-20T01:40:52.711337Z"
    }
   },
   "outputs": [
    {
     "data": {
      "text/plain": [
       "5"
      ]
     },
     "execution_count": 4,
     "metadata": {},
     "output_type": "execute_result"
    }
   ],
   "source": [
    "a = 10\n",
    "a //= 2     # a = a//2\n",
    "a"
   ]
  },
  {
   "cell_type": "markdown",
   "id": "7af475b8",
   "metadata": {},
   "source": [
    "## 논리연산자\n",
    "*, &, |, and, or, not"
   ]
  },
  {
   "cell_type": "code",
   "execution_count": 40,
   "id": "98e389fe",
   "metadata": {
    "ExecuteTime": {
     "end_time": "2021-07-20T01:45:09.361213Z",
     "start_time": "2021-07-20T01:45:09.355229Z"
    }
   },
   "outputs": [
    {
     "name": "stdout",
     "output_type": "stream",
     "text": [
      "True\n",
      "0\n",
      "True\n"
     ]
    }
   ],
   "source": [
    "print((10>3) & (10>5)) # 논리연산자 True & True\n",
    "print(12 & 1) # 비트 연산자 1100(2의3승 + 2의2승)\n",
    "              #             0001\n",
    "print(5 < 8 < 10 < 1000) # 파이썬에서는 다항논리연산이 가능! 다른 언어에서는 2항까지만 "
   ]
  },
  {
   "cell_type": "code",
   "execution_count": 1,
   "id": "42f66c94",
   "metadata": {
    "ExecuteTime": {
     "end_time": "2021-07-20T01:47:24.052402Z",
     "start_time": "2021-07-20T01:47:24.040435Z"
    }
   },
   "outputs": [
    {
     "name": "stdout",
     "output_type": "stream",
     "text": [
      "10\n",
      "0\n"
     ]
    }
   ],
   "source": [
    "# and 연산자 : 거짓으로 판별되는 첫 번째 항의 결과 반환\n",
    "#              모든 항이 참이면 마지막 항의 결과 반환\n",
    "print(True and 3 and 10)\n",
    "print(True & 3 & 10) # 1 & 10 -> 0001 & 1010 \n",
    "# and연산자보다 &연산자를 더 많이 씀"
   ]
  },
  {
   "cell_type": "code",
   "execution_count": 11,
   "id": "06aaedb0",
   "metadata": {
    "ExecuteTime": {
     "end_time": "2021-07-20T01:51:08.058410Z",
     "start_time": "2021-07-20T01:51:08.040458Z"
    }
   },
   "outputs": [
    {
     "name": "stdout",
     "output_type": "stream",
     "text": [
      "0.0\n"
     ]
    }
   ],
   "source": [
    "# or 연산자 : 참으로 판별되는 첫 번째 항의 결과 반환\n",
    "#             모든 항이 거짓이면 마지막 항의 결과 반환\n",
    "result = False or 0 or \"\" or 0.0\n",
    "print(result)"
   ]
  },
  {
   "cell_type": "code",
   "execution_count": 10,
   "id": "73c3acfa",
   "metadata": {
    "ExecuteTime": {
     "end_time": "2021-07-20T01:53:33.745602Z",
     "start_time": "2021-07-20T01:53:33.734611Z"
    }
   },
   "outputs": [
    {
     "name": "stdout",
     "output_type": "stream",
     "text": [
      "3\n",
      "11\n"
     ]
    }
   ],
   "source": [
    "result = False or 3 or 10\n",
    "print(result)\n",
    "result = False | 3 | 10 # -> 3 | 10 (비트연산 실시) -> 0011 | 1010 -> 1011\n",
    "print(result)\n",
    "# or연산자보다 \\연산자를 더 많이 씀"
   ]
  },
  {
   "cell_type": "code",
   "execution_count": 19,
   "id": "07d5277a",
   "metadata": {
    "ExecuteTime": {
     "end_time": "2021-07-20T01:59:29.264554Z",
     "start_time": "2021-07-20T01:59:29.254582Z"
    }
   },
   "outputs": [
    {
     "name": "stdout",
     "output_type": "stream",
     "text": [
      "True\n",
      "False\n"
     ]
    }
   ],
   "source": [
    "print((10>3) & (10>5))\n",
    "print(10>3 & 10>5) # 파이썬에서는 논리연산자가 비교연산자보다 우선순위가 높다\n",
    "#     0011 & 1010 -> 0010(2)\n",
    "# print(10 > 2 > 5)"
   ]
  },
  {
   "cell_type": "code",
   "execution_count": 20,
   "id": "c3cae89c",
   "metadata": {
    "ExecuteTime": {
     "end_time": "2021-07-20T02:00:12.013036Z",
     "start_time": "2021-07-20T02:00:12.008050Z"
    }
   },
   "outputs": [
    {
     "name": "stdout",
     "output_type": "stream",
     "text": [
      "빈 스트링은 False\n"
     ]
    }
   ],
   "source": [
    "if '':\n",
    "    print('빈 스트링은 True')\n",
    "else:\n",
    "    print('빈 스트링은 False')"
   ]
  },
  {
   "cell_type": "code",
   "execution_count": 22,
   "id": "3277b05f",
   "metadata": {
    "ExecuteTime": {
     "end_time": "2021-07-20T02:01:09.951252Z",
     "start_time": "2021-07-20T02:01:09.797805Z"
    }
   },
   "outputs": [
    {
     "ename": "TypeError",
     "evalue": "unsupported operand type(s) for |: 'bool' and 'str'",
     "output_type": "error",
     "traceback": [
      "\u001b[1;31m---------------------------------------------------------------------------\u001b[0m",
      "\u001b[1;31mTypeError\u001b[0m                                 Traceback (most recent call last)",
      "\u001b[1;32m<ipython-input-22-720a0f9399ef>\u001b[0m in \u001b[0;36m<module>\u001b[1;34m\u001b[0m\n\u001b[0;32m      1\u001b[0m \u001b[1;31m# 논리연산자에 문자열이 오면 에러\u001b[0m\u001b[1;33m\u001b[0m\u001b[1;33m\u001b[0m\u001b[1;33m\u001b[0m\u001b[0m\n\u001b[1;32m----> 2\u001b[1;33m \u001b[1;32mTrue\u001b[0m \u001b[1;33m|\u001b[0m \u001b[1;34m''\u001b[0m\u001b[1;33m\u001b[0m\u001b[1;33m\u001b[0m\u001b[0m\n\u001b[0m",
      "\u001b[1;31mTypeError\u001b[0m: unsupported operand type(s) for |: 'bool' and 'str'"
     ]
    }
   ],
   "source": [
    "# 논리연산자에 문자열이 오면 에러\n",
    "True | ''"
   ]
  },
  {
   "cell_type": "code",
   "execution_count": 21,
   "id": "9d1a5053",
   "metadata": {
    "ExecuteTime": {
     "end_time": "2021-07-20T02:01:04.207826Z",
     "start_time": "2021-07-20T02:01:04.197855Z"
    }
   },
   "outputs": [
    {
     "data": {
      "text/plain": [
       "True"
      ]
     },
     "execution_count": 21,
     "metadata": {},
     "output_type": "execute_result"
    }
   ],
   "source": [
    "True | bool('')"
   ]
  },
  {
   "cell_type": "code",
   "execution_count": 23,
   "id": "408026ce",
   "metadata": {
    "ExecuteTime": {
     "end_time": "2021-07-20T02:02:52.774181Z",
     "start_time": "2021-07-20T02:02:52.664410Z"
    }
   },
   "outputs": [
    {
     "name": "stdout",
     "output_type": "stream",
     "text": [
      " D 드라이브의 볼륨: 학생방\n",
      " 볼륨 일련 번호: BEAC-382B\n",
      "\n",
      " D:\\bigdata\\src\\07_Python 디렉터리\n",
      "\n",
      "2021-07-20  오전 11:01    <DIR>          .\n",
      "2021-07-20  오전 11:01    <DIR>          ..\n",
      "2021-07-19  오후 05:13    <DIR>          .ipynb_checkpoints\n",
      "2021-07-19  오후 03:14             9,024 ch01_파이썬 개요 및 환경설정.ipynb\n",
      "2021-07-20  오전 09:45            41,314 ch02_1절변수_2절화면IO_3절기본자료형.ipynb\n",
      "2021-07-20  오전 11:01            24,665 ch02_4절포맷팅_5절연산자.ipynb\n",
      "2021-07-19  오후 12:35    <DIR>          IDEtest\n",
      "2021-07-19  오전 10:58               525 초기변경할요소.txt\n",
      "               4개 파일              75,528 바이트\n",
      "               4개 디렉터리  200,011,476,992 바이트 남음\n"
     ]
    }
   ],
   "source": [
    "# 주피터노트북에서 !는 명령행을 실행시킬 수 있습니다. not의 의미를 가지지 않음!\n",
    "!dir"
   ]
  },
  {
   "cell_type": "code",
   "execution_count": 26,
   "id": "970a3056",
   "metadata": {
    "ExecuteTime": {
     "end_time": "2021-07-20T02:04:21.338280Z",
     "start_time": "2021-07-20T02:04:21.319306Z"
    }
   },
   "outputs": [
    {
     "data": {
      "text/plain": [
       "True"
      ]
     },
     "execution_count": 26,
     "metadata": {},
     "output_type": "execute_result"
    }
   ],
   "source": [
    "# 논리 반전은 !아니고 not기호를 사용해야한다\n",
    "not True\n",
    "not False"
   ]
  },
  {
   "cell_type": "code",
   "execution_count": 28,
   "id": "0c7a546e",
   "metadata": {
    "ExecuteTime": {
     "end_time": "2021-07-20T02:04:57.671668Z",
     "start_time": "2021-07-20T02:04:57.653681Z"
    }
   },
   "outputs": [
    {
     "name": "stdout",
     "output_type": "stream",
     "text": [
      "a와 b는 같지 않다\n"
     ]
    }
   ],
   "source": [
    "a, b = 15, 16\n",
    "if a!=b:\n",
    "    print('a와 b는 같지 않다')"
   ]
  },
  {
   "cell_type": "markdown",
   "id": "bfe50ce8",
   "metadata": {
    "ExecuteTime": {
     "end_time": "2021-07-20T02:05:35.891597Z",
     "start_time": "2021-07-20T02:05:35.880598Z"
    }
   },
   "source": [
    "## 비교연산자 ; ==, !=, >=, ......"
   ]
  },
  {
   "cell_type": "code",
   "execution_count": null,
   "id": "994fa25b",
   "metadata": {},
   "outputs": [],
   "source": [
    "# 문자는 ASCII코드 순으로 비교 : 특수문자 < 숫자문자 < 대문자 < 소문자\n",
    "'아' < '하'"
   ]
  },
  {
   "cell_type": "code",
   "execution_count": 30,
   "id": "50f8c920",
   "metadata": {
    "ExecuteTime": {
     "end_time": "2021-07-20T02:18:56.332877Z",
     "start_time": "2021-07-20T02:18:56.324877Z"
    }
   },
   "outputs": [
    {
     "data": {
      "text/plain": [
       "True"
      ]
     },
     "execution_count": 30,
     "metadata": {},
     "output_type": "execute_result"
    }
   ],
   "source": [
    "'*' < '1' < 'A' < 'a'"
   ]
  },
  {
   "cell_type": "markdown",
   "id": "a6b00f12",
   "metadata": {
    "ExecuteTime": {
     "end_time": "2021-07-20T02:19:07.438860Z",
     "start_time": "2021-07-20T02:19:07.431868Z"
    }
   },
   "source": [
    "## 비트연산자"
   ]
  },
  {
   "cell_type": "code",
   "execution_count": null,
   "id": "503f72a4",
   "metadata": {},
   "outputs": [],
   "source": [
    "a = ''''\n",
    "x y x&y x|y  x^y(XOR)\n",
    "0 0  0   0    0\n",
    "0 1  0   1    1 \n",
    "1 0  0   1    1\n",
    "1 1  1   1    0\n"
   ]
  },
  {
   "cell_type": "code",
   "execution_count": null,
   "id": "0f1c4aa6",
   "metadata": {},
   "outputs": [],
   "source": [
    "머신러닝이 두 차례 어려움을 겪음\n",
    "두 번쨰 암흑기 : \n",
    "    exlusive.or"
   ]
  },
  {
   "cell_type": "code",
   "execution_count": 19,
   "id": "91fd0f3f",
   "metadata": {
    "ExecuteTime": {
     "end_time": "2021-07-20T03:23:24.641318Z",
     "start_time": "2021-07-20T03:23:24.625359Z"
    }
   },
   "outputs": [
    {
     "name": "stdout",
     "output_type": "stream",
     "text": [
      "00001111, 15\n",
      "00000010, 2\n",
      "00001111, 15\n",
      "00000010, 2\n",
      "00001101, 13\n"
     ]
    }
   ],
   "source": [
    "a = 15\n",
    "b = 2\n",
    "print(\"{0:08b}, {0}\".format(a)) # 0000 1111 \n",
    "print(\"{0:08b}, {0}\".format(b))\n",
    "print(\"{0:08b}, {0}\".format(a|b))\n",
    "print(\"{0:08b}, {0}\".format(a&b))\n",
    "print(\"{0:08b}, {0}\".format(a^b)) # 머신러닝을 발전시키지 못하고 딥러닝으로 넘어간 원인???\n",
    "# 기호 b는 2진수를 의미\n",
    "# 자리수(여기서는 8) 앞에 0은 공백대체문자로서 작동 \n",
    "    # (근데 공백대체문자를 사용할 때는 정렬방법 입력이 필수 아니었나? 숫자는 예외인가?)"
   ]
  },
  {
   "cell_type": "code",
   "execution_count": 41,
   "id": "37431bd0",
   "metadata": {
    "ExecuteTime": {
     "end_time": "2021-07-20T02:38:58.378762Z",
     "start_time": "2021-07-20T02:38:58.371781Z"
    }
   },
   "outputs": [
    {
     "name": "stdout",
     "output_type": "stream",
     "text": [
      "-16\n"
     ]
    }
   ],
   "source": [
    "# not의 비트 연산자 : ~\n",
    "a = 15     # 00000000 00001111\n",
    "print(~a)  # 11111111 11110000"
   ]
  },
  {
   "cell_type": "markdown",
   "id": "f5942c06",
   "metadata": {
    "ExecuteTime": {
     "end_time": "2021-07-20T02:40:14.353961Z",
     "start_time": "2021-07-20T02:40:14.341973Z"
    }
   },
   "source": [
    "## isinstance"
   ]
  },
  {
   "cell_type": "code",
   "execution_count": 43,
   "id": "bd39f332",
   "metadata": {
    "ExecuteTime": {
     "end_time": "2021-07-20T02:40:40.060668Z",
     "start_time": "2021-07-20T02:40:40.055701Z"
    }
   },
   "outputs": [
    {
     "data": {
      "text/plain": [
       "False"
      ]
     },
     "execution_count": 43,
     "metadata": {},
     "output_type": "execute_result"
    }
   ],
   "source": [
    "isinstance(a, float) # a변수가 float형인지 여부 반환"
   ]
  }
 ],
 "metadata": {
  "kernelspec": {
   "display_name": "Python 3 (ipykernel)",
   "language": "python",
   "name": "python3"
  },
  "language_info": {
   "codemirror_mode": {
    "name": "ipython",
    "version": 3
   },
   "file_extension": ".py",
   "mimetype": "text/x-python",
   "name": "python",
   "nbconvert_exporter": "python",
   "pygments_lexer": "ipython3",
   "version": "3.9.7"
  },
  "toc": {
   "base_numbering": "4",
   "nav_menu": {},
   "number_sections": true,
   "sideBar": true,
   "skip_h1_title": false,
   "title_cell": "Table of Contents",
   "title_sidebar": "Contents",
   "toc_cell": false,
   "toc_position": {},
   "toc_section_display": true,
   "toc_window_display": true
  },
  "varInspector": {
   "cols": {
    "lenName": 16,
    "lenType": 16,
    "lenVar": 40
   },
   "kernels_config": {
    "python": {
     "delete_cmd_postfix": "",
     "delete_cmd_prefix": "del ",
     "library": "var_list.py",
     "varRefreshCmd": "print(var_dic_list())"
    },
    "r": {
     "delete_cmd_postfix": ") ",
     "delete_cmd_prefix": "rm(",
     "library": "var_list.r",
     "varRefreshCmd": "cat(var_dic_list()) "
    }
   },
   "types_to_exclude": [
    "module",
    "function",
    "builtin_function_or_method",
    "instance",
    "_Feature"
   ],
   "window_display": false
  }
 },
 "nbformat": 4,
 "nbformat_minor": 5
}
