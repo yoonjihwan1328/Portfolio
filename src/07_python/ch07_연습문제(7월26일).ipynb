{
 "cells": [
  {
   "cell_type": "markdown",
   "id": "44f2727d",
   "metadata": {},
   "source": [
    "## 5절 연습문제"
   ]
  },
  {
   "cell_type": "markdown",
   "id": "ca22342c",
   "metadata": {},
   "source": [
    "### 실습형"
   ]
  },
  {
   "cell_type": "code",
   "execution_count": 44,
   "id": "f7df2e4a",
   "metadata": {
    "ExecuteTime": {
     "end_time": "2021-07-26T02:42:07.899219Z",
     "start_time": "2021-07-26T02:42:07.884230Z"
    }
   },
   "outputs": [],
   "source": [
    "class Shape:\n",
    "    def __init__(self, x1=0, y1=0):\n",
    "        self.x1 = x1\n",
    "        self.y1 = y1\n",
    "    def move(xm1, ym1):\n",
    "        print('x축, y축에 대해 이동을 원하는 만큼의 숫자를 각각 입력하세요')\n",
    "        self.x1 = x1+xm1\n",
    "        self.y1 = y1+ym1\n",
    "    def __str__(self):\n",
    "        return f'현재 도형의 위치는 ({self.x1}, {self.y1}) 입니다.'\n",
    "#    def calc_area(cls):\n",
    "#        pass\n",
    "    def calc_area(self): # 추상메소드 흉내...???\n",
    "        raise Exception(\"이 메소드는 반드시 구현되어야 합니다.\")\n",
    "    @staticmethod\n",
    "    def current_loc():\n",
    "        print(\"현재 위치는 x1={}, y1={}\".format(Shape.x1, Shape.y1))\n",
    "#     def current_loc():\n",
    "#         print(f'현재 도형의 위치는 x1={Shape.x1} y1={Shape.y1}')\n",
    "\n",
    "class Triangle(Shape):\n",
    "    __count = 0\n",
    "    def __init__(self, width, height, x1=0, y1=0):\n",
    "        super().__init__(x1, y1)\n",
    "#        Shape.__init__(self, x1, y1)\n",
    "        self.width = width\n",
    "        self.height = height\n",
    "        Triangle._Triangle__count += 1\n",
    "    def __del__(self):\n",
    "        Triangle_Triangle__count -= 1        \n",
    "    def calc_area(self):\n",
    "        return self.width * self.height / 2\n",
    "    def __str__(self):\n",
    "        return super().__str__() + ' 삼각형의 넓이는 {} 입니다.'.format(self.calc_area())\n",
    "    @classmethod\n",
    "    def get_count(cls):\n",
    "        return Triangle._Triangle__count"
   ]
  },
  {
   "cell_type": "code",
   "execution_count": 45,
   "id": "b1f2d369",
   "metadata": {},
   "outputs": [
    {
     "name": "stderr",
     "output_type": "stream",
     "text": [
      "Exception ignored in: <function Triangle.__del__ at 0x000001CEB91C50D0>\n",
      "Traceback (most recent call last):\n",
      "  File \"C:\\Users\\yoon\\AppData\\Local\\Temp/ipykernel_23396/29012615.py\", line 30, in __del__\n",
      "UnboundLocalError: local variable 'Triangle_Triangle__count' referenced before assignment\n"
     ]
    },
    {
     "name": "stdout",
     "output_type": "stream",
     "text": [
      "현재 도형의 위치는 (0, 0) 입니다. 삼각형의 넓이는 3.0 입니다.\n"
     ]
    }
   ],
   "source": [
    "t1 = Triangle(2,3)\n",
    "print(t1)"
   ]
  },
  {
   "cell_type": "code",
   "execution_count": null,
   "id": "e33b316a",
   "metadata": {},
   "outputs": [],
   "source": [
    "# ch03. 데이터구조\n",
    "# 2차원 리스트의 max()함수는 부분 리스트 중 첫 요소가 가장 큰 값\n",
    "#                min()함수는 부분 리스트 중 첫 요소가 가장 작은 값\n",
    "\n",
    "# max((1,10), (2,5), (3,3))\n",
    "# min((1,10), (2,5), (3,3))\n",
    "# 튜플인 경우에도 첫 번째 요소가 기준인듯.\n",
    "# 좌표를 입력받아 계산하도록 함수를 구성하고 싶었는데 못함."
   ]
  },
  {
   "cell_type": "code",
   "execution_count": 49,
   "id": "e354a461",
   "metadata": {
    "ExecuteTime": {
     "end_time": "2021-07-26T02:42:39.273075Z",
     "start_time": "2021-07-26T02:42:39.259112Z"
    }
   },
   "outputs": [
    {
     "name": "stdout",
     "output_type": "stream",
     "text": [
      "현재 도형의 위치는 (5, 5) 입니다.\n"
     ]
    },
    {
     "ename": "TypeError",
     "evalue": "current_loc() missing 1 required positional argument: 'self'",
     "output_type": "error",
     "traceback": [
      "\u001b[1;31m---------------------------------------------------------------------------\u001b[0m",
      "\u001b[1;31mTypeError\u001b[0m                                 Traceback (most recent call last)",
      "\u001b[1;32m~\\AppData\\Local\\Temp/ipykernel_23396/3744948621.py\u001b[0m in \u001b[0;36m<module>\u001b[1;34m\u001b[0m\n\u001b[0;32m      1\u001b[0m \u001b[0ms\u001b[0m \u001b[1;33m=\u001b[0m \u001b[0mShape\u001b[0m\u001b[1;33m(\u001b[0m\u001b[1;36m5\u001b[0m\u001b[1;33m,\u001b[0m\u001b[1;36m5\u001b[0m\u001b[1;33m)\u001b[0m\u001b[1;33m\u001b[0m\u001b[1;33m\u001b[0m\u001b[0m\n\u001b[0;32m      2\u001b[0m \u001b[0mprint\u001b[0m\u001b[1;33m(\u001b[0m\u001b[0ms\u001b[0m\u001b[1;33m)\u001b[0m\u001b[1;33m\u001b[0m\u001b[1;33m\u001b[0m\u001b[0m\n\u001b[1;32m----> 3\u001b[1;33m \u001b[0mShape\u001b[0m\u001b[1;33m.\u001b[0m\u001b[0mcurrent_loc\u001b[0m\u001b[1;33m(\u001b[0m\u001b[1;33m)\u001b[0m\u001b[1;33m\u001b[0m\u001b[1;33m\u001b[0m\u001b[0m\n\u001b[0m",
      "\u001b[1;31mTypeError\u001b[0m: current_loc() missing 1 required positional argument: 'self'"
     ]
    }
   ],
   "source": [
    "s = Shape(5,5)\n",
    "print(s)\n",
    "Shape.current_loc()"
   ]
  },
  {
   "cell_type": "markdown",
   "id": "2e2716fd",
   "metadata": {},
   "source": [
    "### 서술형"
   ]
  },
  {
   "cell_type": "code",
   "execution_count": null,
   "id": "a2bf95f5",
   "metadata": {},
   "outputs": [],
   "source": [
    "# 1. 다음 중 올바른 클래스 정의는?"
   ]
  },
  {
   "cell_type": "code",
   "execution_count": null,
   "id": "3825f85e",
   "metadata": {},
   "outputs": [],
   "source": [
    "1번. class Person:"
   ]
  },
  {
   "cell_type": "code",
   "execution_count": null,
   "id": "2428d456",
   "metadata": {},
   "outputs": [],
   "source": [
    "# 2. 다음 중 Person클래스의 객체를 생성하는 올바른 방법은?"
   ]
  },
  {
   "cell_type": "code",
   "execution_count": null,
   "id": "238b9b02",
   "metadata": {},
   "outputs": [],
   "source": [
    "2번. p1 = Person()"
   ]
  },
  {
   "cell_type": "code",
   "execution_count": null,
   "id": "1bce5f20",
   "metadata": {},
   "outputs": [],
   "source": [
    "# 3. 다음 중 인스턴스 메소드를 선언하는 가장 올바른 방법은?"
   ]
  },
  {
   "cell_type": "code",
   "execution_count": null,
   "id": "45f6aff0",
   "metadata": {},
   "outputs": [],
   "source": [
    "4번. def print_info(self)"
   ]
  },
  {
   "cell_type": "code",
   "execution_count": null,
   "id": "910b4a1b",
   "metadata": {},
   "outputs": [],
   "source": [
    "# 4. 다음 중 생성자와 소멸자에 대해 잘못 설명한 것은?\n",
    "1번.\n",
    "                                                        3번도 __init__(self)여야 하는 거 아닌가?"
   ]
  },
  {
   "cell_type": "code",
   "execution_count": null,
   "id": "e45ce2ab",
   "metadata": {},
   "outputs": [],
   "source": [
    "# 5. 다음 중 \"Student is a Person\"을 클래스 상속으로 바르게 표현한 것은?"
   ]
  },
  {
   "cell_type": "code",
   "execution_count": null,
   "id": "0e9c9f9c",
   "metadata": {},
   "outputs": [],
   "source": [
    "2번 class Student(Person)"
   ]
  },
  {
   "cell_type": "code",
   "execution_count": null,
   "id": "0b7c461e",
   "metadata": {},
   "outputs": [],
   "source": [
    "# 6. 다음 중 상속과 재정의(Overriding)에 대해 잘못 설명한 것은?"
   ]
  },
  {
   "cell_type": "code",
   "execution_count": null,
   "id": "93bebc9b",
   "metadata": {},
   "outputs": [],
   "source": [
    "2번----------> 정답 : 3번. "
   ]
  },
  {
   "cell_type": "code",
   "execution_count": null,
   "id": "1992d3d8",
   "metadata": {},
   "outputs": [],
   "source": [
    "# 7. 다음 클래스의 메소드를 호출하는 방법 중 잘못된 것은?"
   ]
  },
  {
   "cell_type": "code",
   "execution_count": null,
   "id": "1aa58d8f",
   "metadata": {},
   "outputs": [],
   "source": [
    "4번----------> 정답 : 2번 # 클래스 메소드는 객체를 만들지 않고 클래스 이름으로 참조가능"
   ]
  },
  {
   "cell_type": "code",
   "execution_count": null,
   "id": "62401977",
   "metadata": {},
   "outputs": [],
   "source": [
    "# 8. 두 클래스와 코드의 실행결과 다음과 같이 출력되도록 해야한다면 빈 칸에 넣을 수 없는 것을 고르세요"
   ]
  },
  {
   "cell_type": "code",
   "execution_count": null,
   "id": "5f0e241a",
   "metadata": {},
   "outputs": [],
   "source": [
    "3번"
   ]
  },
  {
   "cell_type": "code",
   "execution_count": null,
   "id": "62cd4db3",
   "metadata": {},
   "outputs": [],
   "source": [
    "# 9. 다음 중 파이썬의 특별한 용도로 정의되어 있는 속성과 메소드에 대한 설명중 잘못된 것은?"
   ]
  },
  {
   "cell_type": "code",
   "execution_count": null,
   "id": "fcb454e2",
   "metadata": {},
   "outputs": [],
   "source": [
    "2번"
   ]
  },
  {
   "cell_type": "code",
   "execution_count": null,
   "id": "f8ebb332",
   "metadata": {},
   "outputs": [],
   "source": []
  }
 ],
 "metadata": {
  "kernelspec": {
   "display_name": "Python 3 (ipykernel)",
   "language": "python",
   "name": "python3"
  },
  "language_info": {
   "codemirror_mode": {
    "name": "ipython",
    "version": 3
   },
   "file_extension": ".py",
   "mimetype": "text/x-python",
   "name": "python",
   "nbconvert_exporter": "python",
   "pygments_lexer": "ipython3",
   "version": "3.9.7"
  },
  "toc": {
   "base_numbering": 1,
   "nav_menu": {},
   "number_sections": true,
   "sideBar": true,
   "skip_h1_title": false,
   "title_cell": "Table of Contents",
   "title_sidebar": "Contents",
   "toc_cell": false,
   "toc_position": {},
   "toc_section_display": true,
   "toc_window_display": false
  },
  "varInspector": {
   "cols": {
    "lenName": 16,
    "lenType": 16,
    "lenVar": 40
   },
   "kernels_config": {
    "python": {
     "delete_cmd_postfix": "",
     "delete_cmd_prefix": "del ",
     "library": "var_list.py",
     "varRefreshCmd": "print(var_dic_list())"
    },
    "r": {
     "delete_cmd_postfix": ") ",
     "delete_cmd_prefix": "rm(",
     "library": "var_list.r",
     "varRefreshCmd": "cat(var_dic_list()) "
    }
   },
   "types_to_exclude": [
    "module",
    "function",
    "builtin_function_or_method",
    "instance",
    "_Feature"
   ],
   "window_display": false
  }
 },
 "nbformat": 4,
 "nbformat_minor": 5
}
