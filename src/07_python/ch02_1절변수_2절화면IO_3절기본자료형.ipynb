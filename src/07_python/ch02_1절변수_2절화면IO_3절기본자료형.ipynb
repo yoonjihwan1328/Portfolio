{
 "cells": [
  {
   "cell_type": "markdown",
   "id": "311b7a01",
   "metadata": {},
   "source": [
    "<b><font size=\"6\" color=\"red\">ch02. 자료형과 연산자</font></b>"
   ]
  },
  {
   "cell_type": "markdown",
   "id": "58f69358",
   "metadata": {
    "ExecuteTime": {
     "end_time": "2021-07-19T03:42:46.924197Z",
     "start_time": "2021-07-19T03:42:46.906141Z"
    }
   },
   "source": [
    "# 1절 변수"
   ]
  },
  {
   "cell_type": "markdown",
   "id": "fff63bc2",
   "metadata": {
    "ExecuteTime": {
     "end_time": "2021-07-19T03:43:47.744151Z",
     "start_time": "2021-07-19T03:43:47.729191Z"
    }
   },
   "source": [
    "## 변수 선언\n",
    "* 값을 저장할 수 있는 변수를 만드는 것.\n",
    "* 파이썬은 변수선언을 위한 타입이 없고 별도의 선언과정이 없음(할당과 동시에 변수가 만들어짐)"
   ]
  },
  {
   "cell_type": "markdown",
   "id": "32a19be8",
   "metadata": {},
   "source": [
    "## 변수할당\n",
    "+ 어떤 값이 이름을 갖도록 하는 과정\n",
    "+ 할당연사자(=)을 이용"
   ]
  },
  {
   "cell_type": "code",
   "execution_count": 4,
   "id": "5101829d",
   "metadata": {
    "ExecuteTime": {
     "end_time": "2021-07-19T04:09:35.982777Z",
     "start_time": "2021-07-19T04:09:35.970808Z"
    }
   },
   "outputs": [
    {
     "name": "stdout",
     "output_type": "stream",
     "text": [
      "계산된 넓이는  78.5\n"
     ]
    }
   ],
   "source": [
    "r = 5\n",
    "area = 3.14 * r * r\n",
    "print('계산된 넓이는 ', area)"
   ]
  },
  {
   "cell_type": "code",
   "execution_count": 5,
   "id": "1963222c",
   "metadata": {
    "ExecuteTime": {
     "end_time": "2021-07-19T04:10:29.663823Z",
     "start_time": "2021-07-19T04:10:29.649835Z"
    }
   },
   "outputs": [],
   "source": [
    "r = '문자'"
   ]
  },
  {
   "cell_type": "code",
   "execution_count": 6,
   "id": "1771356e",
   "metadata": {
    "ExecuteTime": {
     "end_time": "2021-07-19T04:12:03.959893Z",
     "start_time": "2021-07-19T04:12:03.953870Z"
    }
   },
   "outputs": [
    {
     "name": "stdout",
     "output_type": "stream",
     "text": [
      "78.53981633974483\n"
     ]
    }
   ],
   "source": [
    "import numpy as np #numpy라는 패키지를 np라는 이름으로 사용\n",
    "r = 5\n",
    "area = np.pi * r * r\n",
    "print(area)"
   ]
  },
  {
   "cell_type": "code",
   "execution_count": 7,
   "id": "4af58efb",
   "metadata": {
    "ExecuteTime": {
     "end_time": "2021-07-19T04:12:23.539824Z",
     "start_time": "2021-07-19T04:12:23.521873Z"
    },
    "scrolled": false
   },
   "outputs": [
    {
     "data": {
      "text/plain": [
       "3.141592653589793"
      ]
     },
     "execution_count": 7,
     "metadata": {},
     "output_type": "execute_result"
    }
   ],
   "source": [
    "np.pi"
   ]
  },
  {
   "cell_type": "code",
   "execution_count": 10,
   "id": "4ac1c55e",
   "metadata": {
    "ExecuteTime": {
     "end_time": "2021-07-19T04:14:21.802929Z",
     "start_time": "2021-07-19T04:14:21.793930Z"
    }
   },
   "outputs": [],
   "source": [
    "a = 10"
   ]
  },
  {
   "cell_type": "code",
   "execution_count": 24,
   "id": "24bfa701",
   "metadata": {
    "ExecuteTime": {
     "end_time": "2021-07-19T04:22:59.440313Z",
     "start_time": "2021-07-19T04:22:59.428344Z"
    },
    "scrolled": true
   },
   "outputs": [
    {
     "name": "stdout",
     "output_type": "stream",
     "text": [
      "2003839592560\n",
      "<class 'str'>\n"
     ]
    }
   ],
   "source": [
    "print(id(a)) # a 변수의 주소\n",
    "print(type(a)) # a 변수의 타입"
   ]
  },
  {
   "cell_type": "code",
   "execution_count": 12,
   "id": "aff3c547",
   "metadata": {
    "ExecuteTime": {
     "end_time": "2021-07-19T04:14:41.706910Z",
     "start_time": "2021-07-19T04:14:41.697934Z"
    }
   },
   "outputs": [
    {
     "name": "stdout",
     "output_type": "stream",
     "text": [
      "2003839592560\n",
      "<class 'str'>\n"
     ]
    }
   ],
   "source": [
    "a = '파이썬'\n",
    "print(id(a))\n",
    "print(type(a))"
   ]
  },
  {
   "cell_type": "markdown",
   "id": "99672d84",
   "metadata": {},
   "source": [
    "## 변수 이름 규칙\n",
    "- 문자로 시작\n",
    "- 문자, 숫자, _ 로 변수명 작성\n",
    "- 파이썬에서 제공되는 기본 함수명은 피한다.\n",
    "- 파이썬 예약어는 변수명 불가"
   ]
  },
  {
   "cell_type": "code",
   "execution_count": 13,
   "id": "d7c95a57",
   "metadata": {
    "ExecuteTime": {
     "end_time": "2021-07-19T04:16:23.041932Z",
     "start_time": "2021-07-19T04:16:23.037963Z"
    }
   },
   "outputs": [],
   "source": [
    "print_ = 5"
   ]
  },
  {
   "cell_type": "code",
   "execution_count": 15,
   "id": "134352ba",
   "metadata": {
    "ExecuteTime": {
     "end_time": "2021-07-19T04:17:51.000949Z",
     "start_time": "2021-07-19T04:17:50.985013Z"
    }
   },
   "outputs": [
    {
     "data": {
      "text/plain": [
       "'북한'"
      ]
     },
     "execution_count": 15,
     "metadata": {},
     "output_type": "execute_result"
    }
   ],
   "source": [
    "불용어 = '북한'\n",
    "불용어 # 주피터노트북에서만 print 함수 사용없이 출력이 가능"
   ]
  },
  {
   "cell_type": "code",
   "execution_count": 17,
   "id": "740f3f9a",
   "metadata": {
    "ExecuteTime": {
     "end_time": "2021-07-19T04:18:24.475998Z",
     "start_time": "2021-07-19T04:18:24.466024Z"
    }
   },
   "outputs": [
    {
     "ename": "SyntaxError",
     "evalue": "invalid syntax (<ipython-input-17-1a9bb92cc795>, line 1)",
     "output_type": "error",
     "traceback": [
      "\u001b[1;36m  File \u001b[1;32m\"<ipython-input-17-1a9bb92cc795>\"\u001b[1;36m, line \u001b[1;32m1\u001b[0m\n\u001b[1;33m    if = 5\u001b[0m\n\u001b[1;37m       ^\u001b[0m\n\u001b[1;31mSyntaxError\u001b[0m\u001b[1;31m:\u001b[0m invalid syntax\n"
     ]
    }
   ],
   "source": [
    "if = 5"
   ]
  },
  {
   "cell_type": "code",
   "execution_count": 18,
   "id": "bb599dc0",
   "metadata": {
    "ExecuteTime": {
     "end_time": "2021-07-19T04:18:31.324547Z",
     "start_time": "2021-07-19T04:18:31.313548Z"
    }
   },
   "outputs": [],
   "source": [
    "print = 5"
   ]
  },
  {
   "cell_type": "code",
   "execution_count": 19,
   "id": "4074db66",
   "metadata": {
    "ExecuteTime": {
     "end_time": "2021-07-19T04:18:40.618098Z",
     "start_time": "2021-07-19T04:18:40.610097Z"
    }
   },
   "outputs": [],
   "source": [
    "del print # print변수 삭제"
   ]
  },
  {
   "cell_type": "code",
   "execution_count": 20,
   "id": "08098ea2",
   "metadata": {
    "ExecuteTime": {
     "end_time": "2021-07-19T04:18:52.752880Z",
     "start_time": "2021-07-19T04:18:52.738889Z"
    }
   },
   "outputs": [
    {
     "name": "stdout",
     "output_type": "stream",
     "text": [
      "Hello, World\n"
     ]
    }
   ],
   "source": [
    "print(\"Hello, World\")"
   ]
  },
  {
   "cell_type": "code",
   "execution_count": 22,
   "id": "4f2187a0",
   "metadata": {
    "ExecuteTime": {
     "end_time": "2021-07-19T04:20:38.178049Z",
     "start_time": "2021-07-19T04:20:38.162077Z"
    }
   },
   "outputs": [
    {
     "data": {
      "text/plain": [
       "complex"
      ]
     },
     "execution_count": 22,
     "metadata": {},
     "output_type": "execute_result"
    }
   ],
   "source": [
    "i = 3 + 1j # 파이썬에서의 복소수기호는 j\n",
    "type(i) # 복소수"
   ]
  },
  {
   "cell_type": "code",
   "execution_count": 23,
   "id": "87eca082",
   "metadata": {
    "ExecuteTime": {
     "end_time": "2021-07-19T04:21:30.702004Z",
     "start_time": "2021-07-19T04:21:30.692061Z"
    }
   },
   "outputs": [
    {
     "data": {
      "text/plain": [
       "True"
      ]
     },
     "execution_count": 23,
     "metadata": {},
     "output_type": "execute_result"
    }
   ],
   "source": [
    "# 자동완성(tab키)\n",
    "isinstance(i, complex) # 변수가 complex타입인지 여부 반환"
   ]
  },
  {
   "cell_type": "code",
   "execution_count": 27,
   "id": "ce184b11",
   "metadata": {
    "ExecuteTime": {
     "end_time": "2021-07-19T05:34:00.569424Z",
     "start_time": "2021-07-19T05:34:00.563412Z"
    }
   },
   "outputs": [],
   "source": [
    "a, b = 10, 20 # 파이썬에서만 가능! 다중변수선언!!"
   ]
  },
  {
   "cell_type": "code",
   "execution_count": 30,
   "id": "e8cac9f0",
   "metadata": {
    "ExecuteTime": {
     "end_time": "2021-07-19T05:37:36.814897Z",
     "start_time": "2021-07-19T05:37:36.804927Z"
    }
   },
   "outputs": [],
   "source": [
    "a, b = b, a+b # 다중 변수 할당시 순차적 할당이 아니고 일괄할당"
   ]
  },
  {
   "cell_type": "markdown",
   "id": "b33a2e8c",
   "metadata": {
    "ExecuteTime": {
     "end_time": "2021-07-19T05:37:43.644256Z",
     "start_time": "2021-07-19T05:37:43.637281Z"
    }
   },
   "source": [
    "## 도움말"
   ]
  },
  {
   "cell_type": "code",
   "execution_count": 37,
   "id": "ac6e433a",
   "metadata": {
    "ExecuteTime": {
     "end_time": "2021-07-19T05:41:53.159097Z",
     "start_time": "2021-07-19T05:41:53.141315Z"
    }
   },
   "outputs": [
    {
     "name": "stdout",
     "output_type": "stream",
     "text": [
      "Help on built-in function print in module builtins:\n",
      "\n",
      "print(...)\n",
      "    print(value, ..., sep=' ', end='\\n', file=sys.stdout, flush=False)\n",
      "    \n",
      "    Prints the values to a stream, or to sys.stdout by default.\n",
      "    Optional keyword arguments:\n",
      "    file:  a file-like object (stream); defaults to the current sys.stdout.\n",
      "    sep:   string inserted between values, default a space.\n",
      "    end:   string appended after the last value, default a newline.\n",
      "    flush: whether to forcibly flush the stream.\n",
      "\n"
     ]
    }
   ],
   "source": [
    "help(print)"
   ]
  },
  {
   "cell_type": "code",
   "execution_count": null,
   "id": "10b89541",
   "metadata": {},
   "outputs": [],
   "source": [
    "# 도움말 기능 : shift + tab키\n",
    "print()"
   ]
  },
  {
   "cell_type": "code",
   "execution_count": 41,
   "id": "eb203bc3",
   "metadata": {
    "ExecuteTime": {
     "end_time": "2021-07-19T05:45:53.122226Z",
     "start_time": "2021-07-19T05:45:53.109261Z"
    }
   },
   "outputs": [],
   "source": [
    "def add(x, y=0):\n",
    "    return 10*x + y # {}기호를 통해 함수가 정의되지 않고 ':'기호와 들여쓰기가 결합되어 새로운 함수가 생성"
   ]
  },
  {
   "cell_type": "code",
   "execution_count": 46,
   "id": "44f71771",
   "metadata": {
    "ExecuteTime": {
     "end_time": "2021-07-19T05:47:11.848810Z",
     "start_time": "2021-07-19T05:47:11.829865Z"
    }
   },
   "outputs": [
    {
     "data": {
      "text/plain": [
       "45"
      ]
     },
     "execution_count": 46,
     "metadata": {},
     "output_type": "execute_result"
    }
   ],
   "source": [
    "add(4, 5)"
   ]
  },
  {
   "cell_type": "markdown",
   "id": "a5931b83",
   "metadata": {},
   "source": [
    "## 변수 삭제"
   ]
  },
  {
   "cell_type": "code",
   "execution_count": 50,
   "id": "941518e2",
   "metadata": {
    "ExecuteTime": {
     "end_time": "2021-07-19T05:48:51.034138Z",
     "start_time": "2021-07-19T05:48:51.029151Z"
    }
   },
   "outputs": [],
   "source": [
    "a = 10\n",
    "b = 20\n",
    "c = a + b"
   ]
  },
  {
   "cell_type": "code",
   "execution_count": 51,
   "id": "46d01cf0",
   "metadata": {
    "ExecuteTime": {
     "end_time": "2021-07-19T05:48:51.867204Z",
     "start_time": "2021-07-19T05:48:51.860210Z"
    }
   },
   "outputs": [],
   "source": [
    "del b"
   ]
  },
  {
   "cell_type": "code",
   "execution_count": 52,
   "id": "d4a9d37c",
   "metadata": {
    "ExecuteTime": {
     "end_time": "2021-07-19T05:48:59.922474Z",
     "start_time": "2021-07-19T05:48:59.909509Z"
    }
   },
   "outputs": [],
   "source": [
    "del(c)"
   ]
  },
  {
   "cell_type": "code",
   "execution_count": 53,
   "id": "5e7af85d",
   "metadata": {
    "ExecuteTime": {
     "end_time": "2021-07-19T05:49:19.645081Z",
     "start_time": "2021-07-19T05:49:19.637120Z"
    }
   },
   "outputs": [
    {
     "name": "stdout",
     "output_type": "stream",
     "text": [
      "Variable          Type                          Data/Info\n",
      "---------------------------------------------------------\n",
      "NamespaceMagics   MetaHasTraits                 <class 'IPython.core.magi<...>mespace.NamespaceMagics'>\n",
      "a                 int                           10\n",
      "add               function                      <function add at 0x000001D28E754430>\n",
      "area              float                         78.53981633974483\n",
      "autopep8          module                        <module 'autopep8' from '<...>e-packages\\\\autopep8.py'>\n",
      "get_ipython       function                      <function get_ipython at 0x000001D28A4D5430>\n",
      "getsizeof         builtin_function_or_method    <built-in function getsizeof>\n",
      "i                 complex                       (3+1j)\n",
      "json              module                        <module 'json' from 'C:\\\\<...>\\lib\\\\json\\\\__init__.py'>\n",
      "np                module                        <module 'numpy' from 'C:\\<...>ges\\\\numpy\\\\__init__.py'>\n",
      "print_            int                           5\n",
      "r                 int                           5\n",
      "var_dic_list      function                      <function var_dic_list at 0x000001D28E174670>\n",
      "yapf_reformat     function                      <function yapf_reformat at 0x000001D28E747B80>\n",
      "불용어               str                           북한\n"
     ]
    }
   ],
   "source": [
    "whos # 선언된 변수들 목록을 확인할 수 있음."
   ]
  },
  {
   "cell_type": "markdown",
   "id": "0b5bcdd7",
   "metadata": {},
   "source": [
    "# 2절. 화면i/o"
   ]
  },
  {
   "cell_type": "code",
   "execution_count": 55,
   "id": "e9bb59b7",
   "metadata": {
    "ExecuteTime": {
     "end_time": "2021-07-19T05:51:04.910348Z",
     "start_time": "2021-07-19T05:50:47.765014Z"
    }
   },
   "outputs": [
    {
     "name": "stdout",
     "output_type": "stream",
     "text": [
      "첫 번째 숫자는? 10\n",
      "두 번째 숫자는? 20\n"
     ]
    }
   ],
   "source": [
    "first = input(\"첫 번째 숫자는? \") # 입력값은 string타입으로 입력됨.\n",
    "second = input(\"두 번째 숫자는? \")"
   ]
  },
  {
   "cell_type": "code",
   "execution_count": 56,
   "id": "393d9d54",
   "metadata": {
    "ExecuteTime": {
     "end_time": "2021-07-19T05:51:25.165760Z",
     "start_time": "2021-07-19T05:51:25.157804Z"
    }
   },
   "outputs": [
    {
     "name": "stdout",
     "output_type": "stream",
     "text": [
      "두 수의 합은  1020\n"
     ]
    }
   ],
   "source": [
    "print('두 수의 합은 ', first+second)"
   ]
  },
  {
   "cell_type": "code",
   "execution_count": 58,
   "id": "f3a7cca3",
   "metadata": {
    "ExecuteTime": {
     "end_time": "2021-07-19T05:52:00.806885Z",
     "start_time": "2021-07-19T05:52:00.788285Z"
    },
    "scrolled": true
   },
   "outputs": [
    {
     "name": "stdout",
     "output_type": "stream",
     "text": [
      "두 수의 합은  30\n"
     ]
    }
   ],
   "source": [
    "print('두 수의 합은 ', int(first)+int(second))"
   ]
  },
  {
   "cell_type": "code",
   "execution_count": 59,
   "id": "a437b89a",
   "metadata": {
    "ExecuteTime": {
     "end_time": "2021-07-19T05:53:17.374562Z",
     "start_time": "2021-07-19T05:53:13.141531Z"
    }
   },
   "outputs": [
    {
     "name": "stdout",
     "output_type": "stream",
     "text": [
      "첫 번째 수는 ? 5\n",
      "두 번째 수는 ? 10\n"
     ]
    }
   ],
   "source": [
    "first = int(input(\"첫 번째 수는 ? \"))\n",
    "second = int(input(\"두 번째 수는 ? \"))"
   ]
  },
  {
   "cell_type": "code",
   "execution_count": 60,
   "id": "cfdd1552",
   "metadata": {
    "ExecuteTime": {
     "end_time": "2021-07-19T05:53:38.734302Z",
     "start_time": "2021-07-19T05:53:38.724329Z"
    }
   },
   "outputs": [
    {
     "name": "stdout",
     "output_type": "stream",
     "text": [
      "두 수의 합은  15\n"
     ]
    }
   ],
   "source": [
    "print('두 수의 합은 ', first + second)"
   ]
  },
  {
   "cell_type": "code",
   "execution_count": 64,
   "id": "9cc4502b",
   "metadata": {
    "ExecuteTime": {
     "end_time": "2021-07-19T05:55:46.554182Z",
     "start_time": "2021-07-19T05:55:46.549216Z"
    }
   },
   "outputs": [
    {
     "name": "stdout",
     "output_type": "stream",
     "text": [
      "Hello World\n",
      "Hello Hadoop\n"
     ]
    }
   ],
   "source": [
    "print('Hello', 'World', sep=' ', end='\\n')\n",
    "print('Hello', 'Hadoop', sep=' ', end='\\n')"
   ]
  },
  {
   "cell_type": "code",
   "execution_count": 66,
   "id": "cd6f379d",
   "metadata": {
    "ExecuteTime": {
     "end_time": "2021-07-19T05:56:55.856087Z",
     "start_time": "2021-07-19T05:56:55.845097Z"
    }
   },
   "outputs": [
    {
     "name": "stdout",
     "output_type": "stream",
     "text": [
      "Hello~World\tHello / Hadoop\n"
     ]
    }
   ],
   "source": [
    "print('Hello', 'World', sep='~', end='\\t')\n",
    "print('Hello', 'Hadoop', sep=' / ', end='\\n')"
   ]
  },
  {
   "cell_type": "markdown",
   "id": "d7271c22",
   "metadata": {
    "ExecuteTime": {
     "end_time": "2021-07-19T05:57:14.736914Z",
     "start_time": "2021-07-19T05:57:14.725954Z"
    }
   },
   "source": [
    "# 3절 기본자료형\n",
    "- 숫자(정수, 실수, 복소수), 문자(문자, 문자열이 구분되지 않음.), 논리형(True, False)"
   ]
  },
  {
   "cell_type": "markdown",
   "id": "8c730ba7",
   "metadata": {
    "ExecuteTime": {
     "end_time": "2021-07-19T06:00:16.016019Z",
     "start_time": "2021-07-19T06:00:16.005049Z"
    }
   },
   "source": [
    "## 숫자형"
   ]
  },
  {
   "cell_type": "code",
   "execution_count": 73,
   "id": "843ca9f3",
   "metadata": {
    "ExecuteTime": {
     "end_time": "2021-07-19T06:01:47.045827Z",
     "start_time": "2021-07-19T06:01:47.029870Z"
    }
   },
   "outputs": [
    {
     "name": "stdout",
     "output_type": "stream",
     "text": [
      "9223372036854775807\n"
     ]
    }
   ],
   "source": [
    "import sys\n",
    "print(sys.maxsize) # 정수의 최대수 2^ 63-1"
   ]
  },
  {
   "cell_type": "code",
   "execution_count": 76,
   "id": "d239314f",
   "metadata": {
    "ExecuteTime": {
     "end_time": "2021-07-19T06:02:54.949528Z",
     "start_time": "2021-07-19T06:02:54.934567Z"
    },
    "scrolled": true
   },
   "outputs": [
    {
     "name": "stdout",
     "output_type": "stream",
     "text": [
      "<class 'int'>\n",
      "9223372036854776807\n"
     ]
    }
   ],
   "source": [
    "i = 9223372036854775807 + 1000\n",
    "print(type(i))\n",
    "print(i) # 소수점이 없는 모든 수는 int(정수) / 매우 큰 수의 경우에도 포함!"
   ]
  },
  {
   "cell_type": "code",
   "execution_count": 77,
   "id": "e05d05da",
   "metadata": {
    "ExecuteTime": {
     "end_time": "2021-07-19T06:04:08.130540Z",
     "start_time": "2021-07-19T06:04:08.117579Z"
    },
    "scrolled": true
   },
   "outputs": [
    {
     "name": "stdout",
     "output_type": "stream",
     "text": [
      "1.5\n"
     ]
    }
   ],
   "source": [
    "f = 3/2 # 정수/정수는 무조건 실수\n",
    "print(f)"
   ]
  },
  {
   "cell_type": "code",
   "execution_count": 78,
   "id": "f7748a12",
   "metadata": {
    "ExecuteTime": {
     "end_time": "2021-07-19T06:04:18.582282Z",
     "start_time": "2021-07-19T06:04:18.568319Z"
    }
   },
   "outputs": [
    {
     "name": "stdout",
     "output_type": "stream",
     "text": [
      "1.0\n"
     ]
    }
   ],
   "source": [
    "f = 2/2\n",
    "print(f)"
   ]
  },
  {
   "cell_type": "code",
   "execution_count": 79,
   "id": "6162627f",
   "metadata": {
    "ExecuteTime": {
     "end_time": "2021-07-19T06:05:29.426586Z",
     "start_time": "2021-07-19T06:05:29.413608Z"
    }
   },
   "outputs": [
    {
     "name": "stdout",
     "output_type": "stream",
     "text": [
      "1\n",
      "1\n"
     ]
    }
   ],
   "source": [
    "# 자바처럼 (정수/정수 -> 정수)로 도출하고 싶으면\n",
    "f=int(3/2)\n",
    "print(f)\n",
    "f = 3//2 # 몫연산자\n",
    "print(f)"
   ]
  },
  {
   "cell_type": "code",
   "execution_count": 85,
   "id": "44107aff",
   "metadata": {
    "ExecuteTime": {
     "end_time": "2021-07-19T06:07:08.731653Z",
     "start_time": "2021-07-19T06:07:08.724700Z"
    }
   },
   "outputs": [
    {
     "name": "stdout",
     "output_type": "stream",
     "text": [
      "(-1+0j)\n"
     ]
    }
   ],
   "source": [
    "b = 1j\n",
    "print(b**2)"
   ]
  },
  {
   "cell_type": "code",
   "execution_count": 1,
   "id": "9c9564c4",
   "metadata": {
    "ExecuteTime": {
     "end_time": "2021-07-20T17:38:59.472547Z",
     "start_time": "2021-07-20T17:38:59.459580Z"
    }
   },
   "outputs": [
    {
     "name": "stdout",
     "output_type": "stream",
     "text": [
      "1.12e-12\n",
      "11200000000.0\n"
     ]
    }
   ],
   "source": [
    "f = 1.12e-12 # 1.12 * 10의 -12승\n",
    "print(f)\n",
    "f = 1.12e10 # 1.12 * 10의 20승\n",
    "print(f)"
   ]
  },
  {
   "cell_type": "markdown",
   "id": "216e8550",
   "metadata": {},
   "source": [
    "## 문자형"
   ]
  },
  {
   "cell_type": "code",
   "execution_count": 1,
   "id": "d25cc563",
   "metadata": {
    "ExecuteTime": {
     "end_time": "2021-07-26T15:34:20.781328Z",
     "start_time": "2021-07-26T15:34:20.772352Z"
    },
    "scrolled": true
   },
   "outputs": [
    {
     "name": "stdout",
     "output_type": "stream",
     "text": [
      "홍\"길\"동 서울시\"마포\"구 노고산동\n"
     ]
    }
   ],
   "source": [
    "name = '홍\"길\"동'\n",
    "address = \"서울시\\\"마포\\\"구 노고산동\" # \"\"(큰 따옴표)안에 또 \"\"큰 따옴표를 표시하고 싶은 경우 \\(역슬레쉬)를 이용\n",
    "print(name, address)"
   ]
  },
  {
   "cell_type": "code",
   "execution_count": 2,
   "id": "702867db",
   "metadata": {
    "ExecuteTime": {
     "end_time": "2021-07-26T15:34:23.124361Z",
     "start_time": "2021-07-26T15:34:23.112391Z"
    }
   },
   "outputs": [
    {
     "name": "stdout",
     "output_type": "stream",
     "text": [
      "이렇게 작성하면\n",
      "줄바꿈도 그대로 적용해서 여러줄의 문자를\n",
      "입력할 수 있습니다\n"
     ]
    }
   ],
   "source": [
    "text = '''이렇게 작성하면\n",
    "줄바꿈도 그대로 적용해서 여러줄의 문자를\n",
    "입력할 수 있습니다'''\n",
    "print(text)"
   ]
  },
  {
   "cell_type": "code",
   "execution_count": null,
   "id": "559521c8",
   "metadata": {},
   "outputs": [],
   "source": [
    "'''\n",
    "여러 줄 주석\n",
    "2021.7.19 마지막 오프라인 수업일\n",
    "'''"
   ]
  },
  {
   "cell_type": "code",
   "execution_count": 3,
   "id": "312cf8cd",
   "metadata": {
    "ExecuteTime": {
     "end_time": "2021-07-26T15:34:32.333720Z",
     "start_time": "2021-07-26T15:34:32.319758Z"
    }
   },
   "outputs": [
    {
     "name": "stdout",
     "output_type": "stream",
     "text": [
      "Hello\n",
      "World\n"
     ]
    }
   ],
   "source": [
    "# raw 데이터 처리\n",
    "print(\"Hello\\nWorld\")"
   ]
  },
  {
   "cell_type": "code",
   "execution_count": 4,
   "id": "9fa78f64",
   "metadata": {
    "ExecuteTime": {
     "end_time": "2021-07-26T15:34:34.778268Z",
     "start_time": "2021-07-26T15:34:34.772282Z"
    }
   },
   "outputs": [
    {
     "name": "stdout",
     "output_type": "stream",
     "text": [
      "Hello\\nWorld\n"
     ]
    }
   ],
   "source": [
    "print(r\"Hello\\nWorld\")"
   ]
  },
  {
   "cell_type": "code",
   "execution_count": 7,
   "id": "a0a01697",
   "metadata": {
    "ExecuteTime": {
     "end_time": "2021-07-26T15:35:30.155340Z",
     "start_time": "2021-07-26T15:35:30.147361Z"
    },
    "scrolled": true
   },
   "outputs": [],
   "source": [
    "# raw 데이터를 이용할 때 ex. 정규표현식 이용"
   ]
  },
  {
   "cell_type": "code",
   "execution_count": 10,
   "id": "194bb982",
   "metadata": {
    "ExecuteTime": {
     "end_time": "2021-07-26T15:39:02.151808Z",
     "start_time": "2021-07-26T15:39:02.132858Z"
    }
   },
   "outputs": [
    {
     "name": "stdout",
     "output_type": "stream",
     "text": [
      "이름:홍길동, 주소:서울시 마포구, 전화:02-716-1006, 특징:동해번쩍 서해번쩍, 혈액형:B\n"
     ]
    }
   ],
   "source": [
    "# raw 데이터를 이용할 때 ex. 정규표현식 이용\n",
    "import re\n",
    "data = \"이름:홍길동, 주소:서울시 마포구, 전화:02-716-1006, 특징:동해번쩍 서해번쩍, \\\n",
    "혈액형:B\" # 너무 길어져서 다음줄로 넘겨도 \\이용시 한 줄에 연속되게 표현됨.\n",
    "print(data) "
   ]
  },
  {
   "cell_type": "code",
   "execution_count": 11,
   "id": "22a9868f",
   "metadata": {
    "ExecuteTime": {
     "end_time": "2021-07-26T15:39:03.824204Z",
     "start_time": "2021-07-26T15:39:03.815230Z"
    }
   },
   "outputs": [
    {
     "name": "stdout",
     "output_type": "stream",
     "text": [
      "['02-716-1006']\n"
     ]
    }
   ],
   "source": [
    "phone_pattern = r'[\\d]{2,3}-[\\d]{3,4}-[\\d]{4}'\n",
    "phone_pattern = '[\\\\d]{2,3}-[\\\\d]{3,4}-[\\\\d]{4}'\n",
    "phone = re.findall(phone_pattern, data)\n",
    "print(phone)\n",
    "# Python raw string is created by prefixing a string literal with ‘r’ or ‘R’. \n",
    "# Python raw string treats backslash (\\) as a literal character. \n",
    "# This is useful when we want to have a string that contains backslash and don’t want it to be treated as an escape character."
   ]
  },
  {
   "cell_type": "code",
   "execution_count": 17,
   "id": "379a19b8",
   "metadata": {
    "ExecuteTime": {
     "end_time": "2021-07-20T18:52:55.931636Z",
     "start_time": "2021-07-20T18:52:55.923654Z"
    }
   },
   "outputs": [],
   "source": [
    "file = 'D:\\\\bigdata\\\\src\\\\07_Python'\n",
    "file = r'D:\\bigdata\\src\\07_Python'"
   ]
  },
  {
   "cell_type": "code",
   "execution_count": 12,
   "id": "62f9057c",
   "metadata": {
    "ExecuteTime": {
     "end_time": "2021-07-26T15:39:40.696142Z",
     "start_time": "2021-07-26T15:39:40.675198Z"
    }
   },
   "outputs": [
    {
     "data": {
      "text/plain": [
       "<re.Match object; span=(23, 34), match='02-716-1006'>"
      ]
     },
     "execution_count": 12,
     "metadata": {},
     "output_type": "execute_result"
    }
   ],
   "source": [
    "pattern = r'([\\d]{2,3}-[\\d]{3,4}-[\\d]{4})'\n",
    "phone = re.search(pattern, data)\n",
    "phone"
   ]
  },
  {
   "cell_type": "code",
   "execution_count": 100,
   "id": "c4830c84",
   "metadata": {
    "ExecuteTime": {
     "end_time": "2021-07-19T07:14:22.397257Z",
     "start_time": "2021-07-19T07:14:22.390276Z"
    }
   },
   "outputs": [
    {
     "data": {
      "text/plain": [
       "'02-716-1006'"
      ]
     },
     "execution_count": 100,
     "metadata": {},
     "output_type": "execute_result"
    }
   ],
   "source": [
    "data[23:34] # 문자열 슬라이싱"
   ]
  },
  {
   "cell_type": "code",
   "execution_count": 14,
   "id": "730e6077",
   "metadata": {
    "ExecuteTime": {
     "end_time": "2021-07-26T15:39:47.223639Z",
     "start_time": "2021-07-26T15:39:47.203692Z"
    }
   },
   "outputs": [
    {
     "data": {
      "text/plain": [
       "'02-716-1006'"
      ]
     },
     "execution_count": 14,
     "metadata": {},
     "output_type": "execute_result"
    }
   ],
   "source": [
    "phone.group(0)\n",
    "# This method returns a tuple containing all the subgroups of the match, from 1 up to however many groups are in the pattern."
   ]
  },
  {
   "cell_type": "code",
   "execution_count": null,
   "id": "0de32ca4",
   "metadata": {},
   "outputs": [],
   "source": [
    "# 문자열 슬라이싱"
   ]
  },
  {
   "cell_type": "code",
   "execution_count": 15,
   "id": "7bcd95dc",
   "metadata": {
    "ExecuteTime": {
     "end_time": "2021-07-20T18:36:34.278213Z",
     "start_time": "2021-07-20T18:36:34.268244Z"
    }
   },
   "outputs": [
    {
     "data": {
      "text/plain": [
       "'012'"
      ]
     },
     "execution_count": 15,
     "metadata": {},
     "output_type": "execute_result"
    }
   ],
   "source": [
    "str_ = \"0123456789\"\n",
    "str_[0:3] # 0번째부터 3번째 앞까지"
   ]
  },
  {
   "cell_type": "code",
   "execution_count": 107,
   "id": "c1b679eb",
   "metadata": {
    "ExecuteTime": {
     "end_time": "2021-07-19T07:19:21.031354Z",
     "start_time": "2021-07-19T07:19:21.017402Z"
    }
   },
   "outputs": [
    {
     "data": {
      "text/plain": [
       "'8'"
      ]
     },
     "execution_count": 107,
     "metadata": {},
     "output_type": "execute_result"
    }
   ],
   "source": [
    "str_[-2] # 음수인덱스는 뒤에서부터"
   ]
  },
  {
   "cell_type": "code",
   "execution_count": 109,
   "id": "a331b6e5",
   "metadata": {
    "ExecuteTime": {
     "end_time": "2021-07-19T07:20:13.105990Z",
     "start_time": "2021-07-19T07:20:13.097013Z"
    }
   },
   "outputs": [
    {
     "data": {
      "text/plain": [
       "'5678'"
      ]
     },
     "execution_count": 109,
     "metadata": {},
     "output_type": "execute_result"
    }
   ],
   "source": [
    "str_[-5:-1] # 뒤에서 5번째부터 뒤에서 1번째 앞까지\n",
    "            # 뒤부터 반환받는 방법 아래에 있음."
   ]
  },
  {
   "cell_type": "code",
   "execution_count": 110,
   "id": "ca0f6dc2",
   "metadata": {
    "ExecuteTime": {
     "end_time": "2021-07-19T07:20:43.105815Z",
     "start_time": "2021-07-19T07:20:43.098834Z"
    }
   },
   "outputs": [
    {
     "data": {
      "text/plain": [
       "'56789'"
      ]
     },
     "execution_count": 110,
     "metadata": {},
     "output_type": "execute_result"
    }
   ],
   "source": [
    "str_[5:] # 5번째 인덱스부터 끝까지"
   ]
  },
  {
   "cell_type": "code",
   "execution_count": 111,
   "id": "f54ac6b0",
   "metadata": {
    "ExecuteTime": {
     "end_time": "2021-07-19T07:21:03.153256Z",
     "start_time": "2021-07-19T07:21:03.143263Z"
    }
   },
   "outputs": [
    {
     "data": {
      "text/plain": [
       "'01234'"
      ]
     },
     "execution_count": 111,
     "metadata": {},
     "output_type": "execute_result"
    }
   ],
   "source": [
    "str_[:-5] # 처음부터 뒤에서 5번째 앞까지"
   ]
  },
  {
   "cell_type": "code",
   "execution_count": 113,
   "id": "e135d370",
   "metadata": {
    "ExecuteTime": {
     "end_time": "2021-07-19T07:21:31.561976Z",
     "start_time": "2021-07-19T07:21:31.546019Z"
    }
   },
   "outputs": [
    {
     "data": {
      "text/plain": [
       "'0123456789'"
      ]
     },
     "execution_count": 113,
     "metadata": {},
     "output_type": "execute_result"
    }
   ],
   "source": [
    "str_[:]"
   ]
  },
  {
   "cell_type": "code",
   "execution_count": 114,
   "id": "cee835ad",
   "metadata": {
    "ExecuteTime": {
     "end_time": "2021-07-19T07:21:45.289408Z",
     "start_time": "2021-07-19T07:21:45.270458Z"
    }
   },
   "outputs": [
    {
     "data": {
      "text/plain": [
       "''"
      ]
     },
     "execution_count": 114,
     "metadata": {},
     "output_type": "execute_result"
    }
   ],
   "source": [
    "str_[-1:-5]"
   ]
  },
  {
   "cell_type": "code",
   "execution_count": 117,
   "id": "47605fae",
   "metadata": {
    "ExecuteTime": {
     "end_time": "2021-07-19T07:23:21.925471Z",
     "start_time": "2021-07-19T07:23:21.912488Z"
    }
   },
   "outputs": [
    {
     "data": {
      "text/plain": [
       "'56789'"
      ]
     },
     "execution_count": 117,
     "metadata": {},
     "output_type": "execute_result"
    }
   ],
   "source": [
    "# str_[19] # 없는 인덱스는 에러를 반환\n",
    "str_[5:19] # 슬라이싱에서 인덱스를 벗어나면 끝까지"
   ]
  },
  {
   "cell_type": "code",
   "execution_count": 130,
   "id": "ba31ed10",
   "metadata": {
    "ExecuteTime": {
     "end_time": "2021-07-19T07:45:34.306648Z",
     "start_time": "2021-07-19T07:45:34.296696Z"
    }
   },
   "outputs": [
    {
     "name": "stdout",
     "output_type": "stream",
     "text": [
      "02468\n",
      "02468\n"
     ]
    }
   ],
   "source": [
    "# str_[from:to:by]\n",
    "print(str_[0:9:2]) # 0번째부터 9번째 앞까지 2씩 증가하는 (0, 2, 4, 6, 8번째) 인덱스\n",
    "print(str_[::2]) # 처음부터 끝까지 2씩 인덱스 증가해서 0 2 4 6 8번째 인덱스"
   ]
  },
  {
   "cell_type": "code",
   "execution_count": 16,
   "id": "1062ad7a",
   "metadata": {
    "ExecuteTime": {
     "end_time": "2021-07-20T18:36:37.682030Z",
     "start_time": "2021-07-20T18:36:37.673058Z"
    }
   },
   "outputs": [
    {
     "name": "stdout",
     "output_type": "stream",
     "text": [
      "97531\n",
      "97531\n",
      "987654321\n",
      "9876543210\n"
     ]
    }
   ],
   "source": [
    "# 끝부터 처음까지(거꾸로)\n",
    "print(str_[9:0:-2]) # 9번째 인덱스부터 0번째 인덱스 전까지 -2번째씩 인덱스가 감소하며 반환\n",
    "print(str_[9::-2])  # 9번인덱스부터 맨앞까지 -2씩 감소\n",
    "print(str_[:0:-1])  # 9번인덱스부터 0번인덱스 전까지 -1씩 \n",
    "print(str_[::-1])   # 끝부터 처음까지 -1씩 감소"
   ]
  },
  {
   "cell_type": "markdown",
   "id": "16f246f2",
   "metadata": {},
   "source": [
    "## 논리형(True, False)"
   ]
  },
  {
   "cell_type": "code",
   "execution_count": 135,
   "id": "46f2bf8f",
   "metadata": {
    "ExecuteTime": {
     "end_time": "2021-07-19T07:50:49.498115Z",
     "start_time": "2021-07-19T07:50:49.480177Z"
    }
   },
   "outputs": [
    {
     "name": "stdout",
     "output_type": "stream",
     "text": [
      "True\n",
      "<class 'bool'>\n",
      "True\n"
     ]
    }
   ],
   "source": [
    "a = True\n",
    "print(a)\n",
    "print(type(a))\n",
    "print(isinstance(a, bool))"
   ]
  },
  {
   "cell_type": "code",
   "execution_count": 136,
   "id": "f9ac40a6",
   "metadata": {
    "ExecuteTime": {
     "end_time": "2021-07-19T07:52:44.017854Z",
     "start_time": "2021-07-19T07:52:44.009875Z"
    }
   },
   "outputs": [],
   "source": [
    "# False로 간주되는 것 : 0, None, \"\"(빈스트링), [], (), {}\n",
    "# 'True로 간주되는 것 : ', '\\0'(널문자) "
   ]
  },
  {
   "cell_type": "code",
   "execution_count": 137,
   "id": "6ee0a595",
   "metadata": {
    "ExecuteTime": {
     "end_time": "2021-07-19T07:53:44.241185Z",
     "start_time": "2021-07-19T07:53:44.232208Z"
    }
   },
   "outputs": [
    {
     "name": "stdout",
     "output_type": "stream",
     "text": [
      "빈스트링은 False다\n"
     ]
    }
   ],
   "source": [
    "if \"\": # [],(),{}, 0, 0+0j, None\n",
    "    print('빈스트링은 True다')\n",
    "else:\n",
    "    print('빈스트링은 False다')"
   ]
  },
  {
   "cell_type": "markdown",
   "id": "c149a779",
   "metadata": {
    "ExecuteTime": {
     "end_time": "2021-07-19T07:55:08.470801Z",
     "start_time": "2021-07-19T07:55:08.457824Z"
    }
   },
   "source": [
    "## 자료형 확인 및 변환"
   ]
  },
  {
   "cell_type": "code",
   "execution_count": null,
   "id": "fc7af3a0",
   "metadata": {},
   "outputs": [],
   "source": [
    "- type() : 자료형 확인\n",
    "- int()  : 정수(인트)형 변환\n",
    "- float(): 실수형 변환\n",
    "- str()  : 문자형 변환\n",
    "- bool() : 논리형 변환"
   ]
  },
  {
   "cell_type": "code",
   "execution_count": 139,
   "id": "e8a3db02",
   "metadata": {
    "ExecuteTime": {
     "end_time": "2021-07-19T07:58:25.642239Z",
     "start_time": "2021-07-19T07:58:25.626280Z"
    }
   },
   "outputs": [
    {
     "data": {
      "text/plain": [
       "12345"
      ]
     },
     "execution_count": 139,
     "metadata": {},
     "output_type": "execute_result"
    }
   ],
   "source": [
    "int('12345')"
   ]
  },
  {
   "cell_type": "code",
   "execution_count": 140,
   "id": "b01f82f6",
   "metadata": {
    "ExecuteTime": {
     "end_time": "2021-07-19T07:58:36.322648Z",
     "start_time": "2021-07-19T07:58:36.314670Z"
    }
   },
   "outputs": [
    {
     "data": {
      "text/plain": [
       "123"
      ]
     },
     "execution_count": 140,
     "metadata": {},
     "output_type": "execute_result"
    }
   ],
   "source": [
    "int(123.45)"
   ]
  },
  {
   "cell_type": "code",
   "execution_count": 15,
   "id": "5ff0acc0",
   "metadata": {
    "ExecuteTime": {
     "end_time": "2021-07-26T16:04:08.820553Z",
     "start_time": "2021-07-26T16:04:08.795623Z"
    }
   },
   "outputs": [
    {
     "ename": "ValueError",
     "evalue": "invalid literal for int() with base 10: '123.45'",
     "output_type": "error",
     "traceback": [
      "\u001b[1;31m---------------------------------------------------------------------------\u001b[0m",
      "\u001b[1;31mValueError\u001b[0m                                Traceback (most recent call last)",
      "\u001b[1;32m<ipython-input-15-a5492000cb89>\u001b[0m in \u001b[0;36m<module>\u001b[1;34m\u001b[0m\n\u001b[1;32m----> 1\u001b[1;33m \u001b[0mint\u001b[0m\u001b[1;33m(\u001b[0m\u001b[1;34m'123.45'\u001b[0m\u001b[1;33m)\u001b[0m\u001b[1;33m\u001b[0m\u001b[1;33m\u001b[0m\u001b[0m\n\u001b[0m",
      "\u001b[1;31mValueError\u001b[0m: invalid literal for int() with base 10: '123.45'"
     ]
    }
   ],
   "source": [
    "int('123.45')"
   ]
  },
  {
   "cell_type": "code",
   "execution_count": 146,
   "id": "bbab253d",
   "metadata": {
    "ExecuteTime": {
     "end_time": "2021-07-19T08:09:06.994346Z",
     "start_time": "2021-07-19T08:09:06.984372Z"
    }
   },
   "outputs": [
    {
     "ename": "TypeError",
     "evalue": "int() takes at most 2 arguments (3 given)",
     "output_type": "error",
     "traceback": [
      "\u001b[1;31m---------------------------------------------------------------------------\u001b[0m",
      "\u001b[1;31mTypeError\u001b[0m                                 Traceback (most recent call last)",
      "\u001b[1;32m<ipython-input-146-1405db130635>\u001b[0m in \u001b[0;36m<module>\u001b[1;34m\u001b[0m\n\u001b[1;32m----> 1\u001b[1;33m \u001b[0mint\u001b[0m\u001b[1;33m(\u001b[0m\u001b[1;36m123\u001b[0m\u001b[1;33m,\u001b[0m\u001b[1;36m456\u001b[0m\u001b[1;33m,\u001b[0m\u001b[1;36m789\u001b[0m\u001b[1;33m)\u001b[0m \u001b[1;31m# r에서의 replace.all 기능이 파이썬에도 존재한다!!!\u001b[0m\u001b[1;33m\u001b[0m\u001b[1;33m\u001b[0m\u001b[0m\n\u001b[0m",
      "\u001b[1;31mTypeError\u001b[0m: int() takes at most 2 arguments (3 given)"
     ]
    }
   ],
   "source": [
    "int(123,456,789) # r에서의 replace.all 기능이 파이썬에도 존재한다!!!"
   ]
  },
  {
   "cell_type": "code",
   "execution_count": 142,
   "id": "f83f3a3c",
   "metadata": {
    "ExecuteTime": {
     "end_time": "2021-07-19T08:00:22.932976Z",
     "start_time": "2021-07-19T08:00:22.921984Z"
    }
   },
   "outputs": [
    {
     "ename": "ValueError",
     "evalue": "invalid literal for int() with base 10: '   '",
     "output_type": "error",
     "traceback": [
      "\u001b[1;31m---------------------------------------------------------------------------\u001b[0m",
      "\u001b[1;31mValueError\u001b[0m                                Traceback (most recent call last)",
      "\u001b[1;32m<ipython-input-142-6fd817d05655>\u001b[0m in \u001b[0;36m<module>\u001b[1;34m\u001b[0m\n\u001b[1;32m----> 1\u001b[1;33m \u001b[0mint\u001b[0m\u001b[1;33m(\u001b[0m\u001b[1;34m'   '\u001b[0m\u001b[1;33m)\u001b[0m\u001b[1;33m\u001b[0m\u001b[1;33m\u001b[0m\u001b[0m\n\u001b[0m",
      "\u001b[1;31mValueError\u001b[0m: invalid literal for int() with base 10: '   '"
     ]
    }
   ],
   "source": [
    "int('   ') # 형변환이 불가능한 형태 _ 나중에 데이터프레임에 space가 있을 경우 나머지만 int로 형변환하는 방법 배움"
   ]
  },
  {
   "cell_type": "code",
   "execution_count": 16,
   "id": "9f2cb0a6",
   "metadata": {
    "ExecuteTime": {
     "end_time": "2021-07-26T16:04:41.912470Z",
     "start_time": "2021-07-26T16:04:41.901504Z"
    }
   },
   "outputs": [
    {
     "name": "stdout",
     "output_type": "stream",
     "text": [
      "1\n",
      "1.0\n",
      "12300.0\n"
     ]
    }
   ],
   "source": [
    "print(int(True))\n",
    "print(float(True))\n",
    "print(str(1.23e4)) # 1.23 * (10의4승)"
   ]
  },
  {
   "cell_type": "markdown",
   "id": "59f90445",
   "metadata": {
    "ExecuteTime": {
     "end_time": "2021-07-19T08:04:20.545762Z",
     "start_time": "2021-07-19T08:04:20.536769Z"
    }
   },
   "source": [
    "파이썬 기본 자료형\n",
    "<ol>\n",
    "<li>숫자 - int, float, complex</li>\n",
    "<li>문자 - str</li>\n",
    "<li>논리 - bool</li>\n",
    "</ol>\n",
    "+ 파이썬은 변수 할당시 타입이 정해짐(타입 선언필요 x)<br>\n",
    "+ 이스케이프 문자(\\n, \\t, \\r)<br>\n",
    "+ row문자열<br>\n",
    "+    'r[\\d]{2,3}'<br>\n",
    "+ 논리형의 경우"
   ]
  },
  {
   "cell_type": "code",
   "execution_count": 22,
   "id": "709c191f",
   "metadata": {
    "ExecuteTime": {
     "end_time": "2021-07-26T16:07:34.502453Z",
     "start_time": "2021-07-26T16:07:34.495473Z"
    }
   },
   "outputs": [
    {
     "name": "stdout",
     "output_type": "stream",
     "text": [
      "012345\r",
      "xxx\n"
     ]
    }
   ],
   "source": [
    "print('012345\\rxxx')"
   ]
  },
  {
   "cell_type": "code",
   "execution_count": null,
   "id": "2fa290c7",
   "metadata": {},
   "outputs": [],
   "source": []
  }
 ],
 "metadata": {
  "kernelspec": {
   "display_name": "Python 3",
   "language": "python",
   "name": "python3"
  },
  "language_info": {
   "codemirror_mode": {
    "name": "ipython",
    "version": 3
   },
   "file_extension": ".py",
   "mimetype": "text/x-python",
   "name": "python",
   "nbconvert_exporter": "python",
   "pygments_lexer": "ipython3",
   "version": "3.8.8"
  },
  "toc": {
   "base_numbering": 1,
   "nav_menu": {},
   "number_sections": true,
   "sideBar": true,
   "skip_h1_title": false,
   "title_cell": "Table of Contents",
   "title_sidebar": "Contents",
   "toc_cell": false,
   "toc_position": {
    "height": "calc(100% - 180px)",
    "left": "10px",
    "top": "150px",
    "width": "336px"
   },
   "toc_section_display": true,
   "toc_window_display": true
  },
  "varInspector": {
   "cols": {
    "lenName": 16,
    "lenType": 16,
    "lenVar": 40
   },
   "kernels_config": {
    "python": {
     "delete_cmd_postfix": "",
     "delete_cmd_prefix": "del ",
     "library": "var_list.py",
     "varRefreshCmd": "print(var_dic_list())"
    },
    "r": {
     "delete_cmd_postfix": ") ",
     "delete_cmd_prefix": "rm(",
     "library": "var_list.r",
     "varRefreshCmd": "cat(var_dic_list()) "
    }
   },
   "types_to_exclude": [
    "module",
    "function",
    "builtin_function_or_method",
    "instance",
    "_Feature"
   ],
   "window_display": false
  }
 },
 "nbformat": 4,
 "nbformat_minor": 5
}
