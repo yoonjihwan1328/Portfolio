{
 "cells": [
  {
   "cell_type": "markdown",
   "id": "a77dae4e",
   "metadata": {
    "ExecuteTime": {
     "end_time": "2021-07-20T02:44:25.901191Z",
     "start_time": "2021-07-20T02:44:25.892229Z"
    }
   },
   "source": [
    "<b><font size=\"6\" color=\"red\">ch03. 데이터구조</font></b>\n",
    "- 리스트[], 튜플(), 딕셔너리(hashmap과 유사), 셋(집합)"
   ]
  },
  {
   "cell_type": "markdown",
   "id": "a9033c47",
   "metadata": {},
   "source": [
    "### 리스트 만들기\n",
    "- []를 이용해서 만들며, 여러개 값을 하나의 변수에 저장/관리할 수 있음. list()함수 이용도 가능\n",
    "- 인덱스 : 각 요소의 위치. 인덱스트 0부터 시작, 맨 마지막 인덱스 -1.\n",
    "- 슬라이싱([from:to:by]) 부분 데이터셋을  ...  인덱스를 이용해서 쓰기와 읽기도  ..."
   ]
  },
  {
   "cell_type": "code",
   "execution_count": 1,
   "id": "cdd1f450",
   "metadata": {
    "ExecuteTime": {
     "end_time": "2021-07-20T06:19:19.174731Z",
     "start_time": "2021-07-20T06:19:19.154757Z"
    }
   },
   "outputs": [
    {
     "data": {
      "text/plain": [
       "list"
      ]
     },
     "execution_count": 1,
     "metadata": {},
     "output_type": "execute_result"
    }
   ],
   "source": [
    "fruits = ['banana', 'apple', 'orange', 'grape']\n",
    "type(fruits)"
   ]
  },
  {
   "cell_type": "code",
   "execution_count": 3,
   "id": "b3554429",
   "metadata": {
    "ExecuteTime": {
     "end_time": "2021-07-20T06:33:45.542275Z",
     "start_time": "2021-07-20T06:33:45.528289Z"
    }
   },
   "outputs": [
    {
     "name": "stdout",
     "output_type": "stream",
     "text": [
      "['banana', 'apple', 'orange', 'grape']\n",
      "banana\n"
     ]
    }
   ],
   "source": [
    "print(fruits)\n",
    "print(fruits[0])"
   ]
  },
  {
   "cell_type": "code",
   "execution_count": 1,
   "id": "b507a2d6",
   "metadata": {
    "ExecuteTime": {
     "end_time": "2021-07-23T09:10:39.933235Z",
     "start_time": "2021-07-23T09:10:39.913310Z"
    }
   },
   "outputs": [
    {
     "data": {
      "text/plain": [
       "range(0, 6)"
      ]
     },
     "execution_count": 1,
     "metadata": {},
     "output_type": "execute_result"
    }
   ],
   "source": [
    "# range(from, to, by) : from부터 to 바로 앞까지 by씩 증가하면서 만들어진 리스트\n",
    "    # from 생략시 0 / by 생략시 1\n",
    "range(6)"
   ]
  },
  {
   "cell_type": "code",
   "execution_count": 5,
   "id": "6d157204",
   "metadata": {
    "ExecuteTime": {
     "end_time": "2021-07-23T09:11:16.990465Z",
     "start_time": "2021-07-23T09:11:16.983463Z"
    }
   },
   "outputs": [
    {
     "data": {
      "text/plain": [
       "[0, 1, 2, 3, 4, 5]"
      ]
     },
     "execution_count": 5,
     "metadata": {},
     "output_type": "execute_result"
    }
   ],
   "source": [
    "list(range(6))"
   ]
  },
  {
   "cell_type": "code",
   "execution_count": 4,
   "id": "959a7aa2",
   "metadata": {
    "ExecuteTime": {
     "end_time": "2021-07-23T09:11:15.335905Z",
     "start_time": "2021-07-23T09:11:15.320920Z"
    }
   },
   "outputs": [
    {
     "data": {
      "text/plain": [
       "[0, 2, 4, 6, 8, 10]"
      ]
     },
     "execution_count": 4,
     "metadata": {},
     "output_type": "execute_result"
    }
   ],
   "source": [
    "list(range(0,12,2))"
   ]
  },
  {
   "cell_type": "code",
   "execution_count": 4,
   "id": "324e8700",
   "metadata": {
    "ExecuteTime": {
     "end_time": "2021-07-20T06:39:05.936639Z",
     "start_time": "2021-07-20T06:39:05.928649Z"
    }
   },
   "outputs": [
    {
     "data": {
      "text/plain": [
       "[10, 8, 6, 4, 2, 0]"
      ]
     },
     "execution_count": 4,
     "metadata": {},
     "output_type": "execute_result"
    }
   ],
   "source": [
    "list(range(10, -1, -2))"
   ]
  },
  {
   "cell_type": "code",
   "execution_count": 9,
   "id": "d1733569",
   "metadata": {
    "ExecuteTime": {
     "end_time": "2021-07-20T06:40:16.545501Z",
     "start_time": "2021-07-20T06:40:16.534544Z"
    }
   },
   "outputs": [
    {
     "name": "stdout",
     "output_type": "stream",
     "text": [
      "1\t2\t3\t4\t0\t1\t2\t3\t4\t"
     ]
    }
   ],
   "source": [
    "for i in [1,2,3,4]:\n",
    "    print(i, end='\\t')\n",
    "for i in range(5):\n",
    "    print(i, end='\\t')"
   ]
  },
  {
   "cell_type": "code",
   "execution_count": 10,
   "id": "46158ae6",
   "metadata": {
    "ExecuteTime": {
     "end_time": "2021-07-20T06:41:03.428297Z",
     "start_time": "2021-07-20T06:41:03.416345Z"
    }
   },
   "outputs": [
    {
     "name": "stdout",
     "output_type": "stream",
     "text": [
      "banana\n",
      "apple\n",
      "orange\n",
      "grape\n"
     ]
    }
   ],
   "source": [
    "for fruit in fruits:\n",
    "    print(fruit)"
   ]
  },
  {
   "cell_type": "code",
   "execution_count": 11,
   "id": "ff407bac",
   "metadata": {
    "ExecuteTime": {
     "end_time": "2021-07-20T06:42:51.264593Z",
     "start_time": "2021-07-20T06:42:51.256615Z"
    }
   },
   "outputs": [
    {
     "name": "stdout",
     "output_type": "stream",
     "text": [
      "0번째 과일은 banana\n",
      "1번째 과일은 apple\n",
      "2번째 과일은 orange\n",
      "3번째 과일은 grape\n"
     ]
    }
   ],
   "source": [
    "fruits = ['banana', 'apple', 'orange', 'grape']\n",
    "for i in range(len(fruits)):\n",
    "    print(\"{}번째 과일은 {}\".format(i, fruits[i]))"
   ]
  },
  {
   "cell_type": "code",
   "execution_count": 8,
   "id": "6fe24705",
   "metadata": {
    "ExecuteTime": {
     "end_time": "2021-07-23T09:13:25.051874Z",
     "start_time": "2021-07-23T09:13:25.032904Z"
    }
   },
   "outputs": [
    {
     "data": {
      "text/plain": [
       "[1, 2, '3', True]"
      ]
     },
     "execution_count": 8,
     "metadata": {},
     "output_type": "execute_result"
    }
   ],
   "source": [
    "numbers = [1, 2, '3', True]\n",
    "numbers"
   ]
  },
  {
   "cell_type": "code",
   "execution_count": 9,
   "id": "7a63cf61",
   "metadata": {
    "ExecuteTime": {
     "end_time": "2021-07-23T09:13:39.101856Z",
     "start_time": "2021-07-23T09:13:39.094896Z"
    }
   },
   "outputs": [
    {
     "name": "stdout",
     "output_type": "stream",
     "text": [
      "[[1, 2, 3, 4, 5], [10, 20, 30, 40, 50], [1, 3, 5, 7, 9]]\n"
     ]
    },
    {
     "data": {
      "text/plain": [
       "3"
      ]
     },
     "execution_count": 9,
     "metadata": {},
     "output_type": "execute_result"
    }
   ],
   "source": [
    "# 2차원 리스트\n",
    "numbers_2d = [[1,2,3,4,5],\n",
    "              [10,20,30,40,50],\n",
    "              [1,3,5,7,9]]\n",
    "print(numbers_2d)\n",
    "len(numbers_2d)"
   ]
  },
  {
   "cell_type": "code",
   "execution_count": 16,
   "id": "661ad6bc",
   "metadata": {
    "ExecuteTime": {
     "end_time": "2021-07-20T06:47:46.420143Z",
     "start_time": "2021-07-20T06:47:46.406181Z"
    }
   },
   "outputs": [
    {
     "data": {
      "text/plain": [
       "(3, 5)"
      ]
     },
     "execution_count": 16,
     "metadata": {},
     "output_type": "execute_result"
    }
   ],
   "source": [
    "len(numbers_2d), len(numbers_2d[0]) # numbers_2d 리스트 안에 첫번째 원소인 [1,2,3,4,5]는 길이가 5임."
   ]
  },
  {
   "cell_type": "code",
   "execution_count": 17,
   "id": "a53dfa30",
   "metadata": {
    "ExecuteTime": {
     "end_time": "2021-07-20T06:48:33.929508Z",
     "start_time": "2021-07-20T06:48:33.910561Z"
    }
   },
   "outputs": [
    {
     "data": {
      "text/plain": [
       "30"
      ]
     },
     "execution_count": 17,
     "metadata": {},
     "output_type": "execute_result"
    }
   ],
   "source": [
    "numbers_2d[1][2]"
   ]
  },
  {
   "cell_type": "code",
   "execution_count": 21,
   "id": "ce771b38",
   "metadata": {
    "ExecuteTime": {
     "end_time": "2021-07-20T06:51:21.551815Z",
     "start_time": "2021-07-20T06:51:21.542839Z"
    }
   },
   "outputs": [
    {
     "name": "stdout",
     "output_type": "stream",
     "text": [
      "[1, 2, 3, 4, 5]\n",
      "[10, 20, 30, 40, 50]\n",
      "[1, 3, 5, 7, 9]\n"
     ]
    }
   ],
   "source": [
    "for row in numbers_2d:\n",
    "    print(row)"
   ]
  },
  {
   "cell_type": "code",
   "execution_count": 19,
   "id": "0e5a5318",
   "metadata": {
    "ExecuteTime": {
     "end_time": "2021-07-20T06:50:33.816859Z",
     "start_time": "2021-07-20T06:50:33.797911Z"
    }
   },
   "outputs": [
    {
     "name": "stdout",
     "output_type": "stream",
     "text": [
      "1\t2\t3\t4\t5\t\n",
      "10\t20\t30\t40\t50\t\n",
      "1\t3\t5\t7\t9\t\n"
     ]
    }
   ],
   "source": [
    "for row in numbers_2d:\n",
    "    for data in row:\n",
    "        print(data, end='\\t')\n",
    "    print() # 개행"
   ]
  },
  {
   "cell_type": "code",
   "execution_count": 12,
   "id": "820cf0fb",
   "metadata": {
    "ExecuteTime": {
     "end_time": "2021-07-23T09:20:12.598176Z",
     "start_time": "2021-07-23T09:20:12.584214Z"
    }
   },
   "outputs": [
    {
     "name": "stdout",
     "output_type": "stream",
     "text": [
      "0행0열:1\t0행1열:2\t0행2열:3\t0행3열:4\t0행4열:5\t\n",
      "1행0열:10\t1행1열:20\t1행2열:30\t1행3열:40\t1행4열:50\t\n",
      "2행0열:1\t2행1열:3\t2행2열:5\t2행3열:7\t2행4열:9\t\n"
     ]
    }
   ],
   "source": [
    "for i in range(len(numbers_2d)):\n",
    "    for j in range(len(numbers_2d[i])):\n",
    "        print(\"{}행{}열:{}\".format(i,j,numbers_2d[i][j]), end='\\t')\n",
    "    print()\n",
    "    ###################################################################오류"
   ]
  },
  {
   "cell_type": "markdown",
   "id": "62934f5f",
   "metadata": {},
   "source": [
    "### 기본 정보 조회"
   ]
  },
  {
   "cell_type": "code",
   "execution_count": 1,
   "id": "84f10018",
   "metadata": {
    "ExecuteTime": {
     "end_time": "2021-07-20T06:57:03.390648Z",
     "start_time": "2021-07-20T06:57:03.381672Z"
    }
   },
   "outputs": [],
   "source": [
    "numbers = [1,2,3,4,5]\n",
    "numbers_2d = [[100,0,0,0,0,],\n",
    "              [90,90,90,90,90]]"
   ]
  },
  {
   "cell_type": "code",
   "execution_count": 28,
   "id": "ddff0ca8",
   "metadata": {
    "ExecuteTime": {
     "end_time": "2021-07-20T06:57:42.625541Z",
     "start_time": "2021-07-20T06:57:42.614571Z"
    }
   },
   "outputs": [
    {
     "name": "stdout",
     "output_type": "stream",
     "text": [
      "5\n",
      "2\n"
     ]
    }
   ],
   "source": [
    "# 요소의 수\n",
    "print(len(numbers))\n",
    "print(len(numbers_2d))"
   ]
  },
  {
   "cell_type": "code",
   "execution_count": 30,
   "id": "d1542357",
   "metadata": {
    "ExecuteTime": {
     "end_time": "2021-07-20T06:58:10.168497Z",
     "start_time": "2021-07-20T06:58:10.151558Z"
    }
   },
   "outputs": [
    {
     "data": {
      "text/plain": [
       "(1, 5)"
      ]
     },
     "execution_count": 30,
     "metadata": {},
     "output_type": "execute_result"
    }
   ],
   "source": [
    "# 최소값 min, 최대값 max\n",
    "min(numbers), max(numbers)"
   ]
  },
  {
   "cell_type": "code",
   "execution_count": 2,
   "id": "5704ad9f",
   "metadata": {
    "ExecuteTime": {
     "end_time": "2021-07-20T06:59:17.440317Z",
     "start_time": "2021-07-20T06:59:17.430330Z"
    }
   },
   "outputs": [
    {
     "data": {
      "text/plain": [
       "([90, 90, 90, 90, 90], [100, 0, 0, 0, 0])"
      ]
     },
     "execution_count": 2,
     "metadata": {},
     "output_type": "execute_result"
    }
   ],
   "source": [
    "# 2차원 리스트의 max()함수는 부분 리스트 중 첫 요소가 가장 큰 값\n",
    "#                min()함수는 부분 리스트 중 첫요소가 가장 작은 값\n",
    "min(numbers_2d), max(numbers_2d)"
   ]
  },
  {
   "cell_type": "code",
   "execution_count": null,
   "id": "64a9e42d",
   "metadata": {},
   "outputs": [],
   "source": []
  },
  {
   "cell_type": "markdown",
   "id": "67057757",
   "metadata": {
    "ExecuteTime": {
     "end_time": "2021-07-20T06:59:42.755507Z",
     "start_time": "2021-07-20T06:59:42.743518Z"
    }
   },
   "source": [
    "### 요소추가"
   ]
  },
  {
   "cell_type": "code",
   "execution_count": null,
   "id": "86a0d0eb",
   "metadata": {},
   "outputs": [],
   "source": [
    "# + 두 리스트 연결\n",
    "# * 리스트*n 리스트를 곱한 수 만큼 반복\n",
    "# oppend() 요소 맨 뒤에 추가\n",
    "# extend() 리스트를 요소별로 맨 뒤에 추가\n",
    "# insert(idx, 값) : idx번째 인덱스에 값 추가"
   ]
  },
  {
   "cell_type": "code",
   "execution_count": 33,
   "id": "c6777b3d",
   "metadata": {
    "ExecuteTime": {
     "end_time": "2021-07-20T07:02:34.023805Z",
     "start_time": "2021-07-20T07:02:34.007867Z"
    }
   },
   "outputs": [
    {
     "data": {
      "text/plain": [
       "[1, 2, 3, 4, 5, 1, 2, 3, 4, 5]"
      ]
     },
     "execution_count": 33,
     "metadata": {},
     "output_type": "execute_result"
    }
   ],
   "source": [
    "numbers = [1,2,3,4,5]\n",
    "numbers = numbers + numbers # 리스트 연결\n",
    "numbers"
   ]
  },
  {
   "cell_type": "code",
   "execution_count": 26,
   "id": "92e1af71",
   "metadata": {
    "ExecuteTime": {
     "end_time": "2021-07-20T07:03:08.473335Z",
     "start_time": "2021-07-20T07:03:08.469342Z"
    }
   },
   "outputs": [
    {
     "name": "stdout",
     "output_type": "stream",
     "text": [
      "[1, 2, 3, 1, 2, 3, 1, 2, 3]\n",
      "[1, 2, 3, 1, 2, 3, 1, 2, 3]\n"
     ]
    }
   ],
   "source": [
    "numbers = [1,2,3]\n",
    "print(numbers*3)\n",
    "print(3*numbers)"
   ]
  },
  {
   "cell_type": "code",
   "execution_count": 28,
   "id": "c5dc25bd",
   "metadata": {
    "ExecuteTime": {
     "end_time": "2021-07-20T07:03:24.781843Z",
     "start_time": "2021-07-20T07:03:24.774847Z"
    }
   },
   "outputs": [
    {
     "data": {
      "text/plain": [
       "[1, 2, 3, [7, 8, 9], 4]"
      ]
     },
     "execution_count": 28,
     "metadata": {},
     "output_type": "execute_result"
    }
   ],
   "source": [
    "numbers.append(4)\n",
    "numbers"
   ]
  },
  {
   "cell_type": "code",
   "execution_count": 29,
   "id": "04ae7873",
   "metadata": {
    "ExecuteTime": {
     "end_time": "2021-07-20T07:03:53.027962Z",
     "start_time": "2021-07-20T07:03:53.015005Z"
    }
   },
   "outputs": [
    {
     "data": {
      "text/plain": [
       "[1, 2, 3, [7, 8, 9], 4, [7, 8, 9]]"
      ]
     },
     "execution_count": 29,
     "metadata": {},
     "output_type": "execute_result"
    }
   ],
   "source": [
    "num=[7,8,9]\n",
    "numbers.append(num)\n",
    "numbers              # num의 각 요소가 numbers리스트에 개별적으로 추가되지 않고 리스트 자체가 하나의 원소로서 추가됨\n",
    "                     # extend로 추가할때와 비교"
   ]
  },
  {
   "cell_type": "code",
   "execution_count": 30,
   "id": "2788910c",
   "metadata": {
    "ExecuteTime": {
     "end_time": "2021-07-20T07:06:08.768425Z",
     "start_time": "2021-07-20T07:06:08.757455Z"
    }
   },
   "outputs": [
    {
     "data": {
      "text/plain": [
       "[1, 2, 3, 7, 8, 9]"
      ]
     },
     "execution_count": 30,
     "metadata": {},
     "output_type": "execute_result"
    }
   ],
   "source": [
    "numbers = [1,2,3]\n",
    "numbers.extend(num)\n",
    "numbers"
   ]
  },
  {
   "cell_type": "code",
   "execution_count": 31,
   "id": "bf55c42c",
   "metadata": {},
   "outputs": [
    {
     "ename": "AttributeError",
     "evalue": "'list' object has no attribute 'add'",
     "output_type": "error",
     "traceback": [
      "\u001b[1;31m---------------------------------------------------------------------------\u001b[0m",
      "\u001b[1;31mAttributeError\u001b[0m                            Traceback (most recent call last)",
      "\u001b[1;32m~\\AppData\\Local\\Temp/ipykernel_21404/4228498852.py\u001b[0m in \u001b[0;36m<module>\u001b[1;34m\u001b[0m\n\u001b[1;32m----> 1\u001b[1;33m \u001b[0mnumbers\u001b[0m\u001b[1;33m.\u001b[0m\u001b[0madd\u001b[0m\u001b[1;33m(\u001b[0m\u001b[1;36m10\u001b[0m\u001b[1;33m)\u001b[0m\u001b[1;33m\u001b[0m\u001b[1;33m\u001b[0m\u001b[0m\n\u001b[0m",
      "\u001b[1;31mAttributeError\u001b[0m: 'list' object has no attribute 'add'"
     ]
    }
   ],
   "source": [
    "numbers.add(10)"
   ]
  },
  {
   "cell_type": "code",
   "execution_count": 39,
   "id": "86b80ccb",
   "metadata": {
    "ExecuteTime": {
     "end_time": "2021-07-20T07:06:45.596144Z",
     "start_time": "2021-07-20T07:06:45.589141Z"
    }
   },
   "outputs": [
    {
     "data": {
      "text/plain": [
       "[1, 2, 3, 7, 8, 9, 'H', 'e', 'l', 'l', 'o']"
      ]
     },
     "execution_count": 39,
     "metadata": {},
     "output_type": "execute_result"
    }
   ],
   "source": [
    "# numbers.extend(['H','e','l','l','o'])과 동일\n",
    "numbers.extend('Hello')\n",
    "numbers                    # Hello라고 결합되어 추가하고 싶었다면 append를 사용했어야함."
   ]
  },
  {
   "cell_type": "code",
   "execution_count": 40,
   "id": "6ac42e09",
   "metadata": {
    "ExecuteTime": {
     "end_time": "2021-07-20T07:07:49.035070Z",
     "start_time": "2021-07-20T07:07:49.029089Z"
    }
   },
   "outputs": [
    {
     "data": {
      "text/plain": [
       "[1, 'xx', 2, 3, 4, 5]"
      ]
     },
     "execution_count": 40,
     "metadata": {},
     "output_type": "execute_result"
    }
   ],
   "source": [
    "numbers = [1,2,3,4,5]\n",
    "numbers.insert(1, 'xx')\n",
    "numbers"
   ]
  },
  {
   "cell_type": "markdown",
   "id": "9ffe01fe",
   "metadata": {},
   "source": [
    "### 인덱싱"
   ]
  },
  {
   "cell_type": "code",
   "execution_count": null,
   "id": "fed4470f",
   "metadata": {},
   "outputs": [],
   "source": [
    "- [index] : 인덱스를 이용한 접근\n",
    "- index() : 해당 요소의 위치 반환\n",
    "- count() : 리스트에서 데이터의 갯수 반환"
   ]
  },
  {
   "cell_type": "code",
   "execution_count": 1,
   "id": "de10351f",
   "metadata": {
    "ExecuteTime": {
     "end_time": "2021-07-20T07:10:00.030939Z",
     "start_time": "2021-07-20T07:10:00.020974Z"
    }
   },
   "outputs": [],
   "source": [
    "numbers = [1, 2, 3, [1,2,3], 1, 2, 3]\n",
    "numbers_2d = [[1,2,3],[1,2,3]]"
   ]
  },
  {
   "cell_type": "code",
   "execution_count": 43,
   "id": "514409e6",
   "metadata": {
    "ExecuteTime": {
     "end_time": "2021-07-20T07:11:00.943906Z",
     "start_time": "2021-07-20T07:11:00.933934Z"
    }
   },
   "outputs": [
    {
     "data": {
      "text/plain": [
       "2"
      ]
     },
     "execution_count": 43,
     "metadata": {},
     "output_type": "execute_result"
    }
   ],
   "source": [
    "numbers.count(2) # numbers리스트에 2가 몇 개인지?"
   ]
  },
  {
   "cell_type": "code",
   "execution_count": 42,
   "id": "dcb67197",
   "metadata": {
    "ExecuteTime": {
     "end_time": "2021-07-20T07:10:57.943860Z",
     "start_time": "2021-07-20T07:10:57.924911Z"
    }
   },
   "outputs": [
    {
     "data": {
      "text/plain": [
       "0"
      ]
     },
     "execution_count": 42,
     "metadata": {},
     "output_type": "execute_result"
    }
   ],
   "source": [
    "numbers_2d.count(2) # numbers_2d에는 2라는 원소가 몇 개 인지? -> 존재하지 않음.\n",
    "                    # 존재하지 않는 요소의 개수를 물어봐도 오류가 반환되진 않음"
   ]
  },
  {
   "cell_type": "code",
   "execution_count": null,
   "id": "bd5c3d37",
   "metadata": {},
   "outputs": [],
   "source": [
    "2 in nembers # 2개 numbers 요소에 있는지 여부"
   ]
  },
  {
   "cell_type": "code",
   "execution_count": 48,
   "id": "b7430981",
   "metadata": {
    "ExecuteTime": {
     "end_time": "2021-07-20T07:14:31.761703Z",
     "start_time": "2021-07-20T07:14:31.749713Z"
    }
   },
   "outputs": [
    {
     "data": {
      "text/plain": [
       "[1, 2, 3, [1, 2, 3], 1, 2, 3]"
      ]
     },
     "execution_count": 48,
     "metadata": {},
     "output_type": "execute_result"
    }
   ],
   "source": [
    "numbers\n",
    "numbers.index(2) # 처음(인덱스 0부터) 나오는 2의 인덱스\n",
    "                 # 2라는 원소의 numbers 리스트 안에서의 위치!!!!!!"
   ]
  },
  {
   "cell_type": "code",
   "execution_count": 49,
   "id": "1f78a1c9",
   "metadata": {
    "ExecuteTime": {
     "end_time": "2021-07-20T07:17:14.411513Z",
     "start_time": "2021-07-20T07:17:14.388570Z"
    }
   },
   "outputs": [
    {
     "name": "stdout",
     "output_type": "stream",
     "text": [
      "0 개\n"
     ]
    },
    {
     "ename": "ValueError",
     "evalue": "9 is not in list",
     "output_type": "error",
     "traceback": [
      "\u001b[1;31m---------------------------------------------------------------------------\u001b[0m",
      "\u001b[1;31mValueError\u001b[0m                                Traceback (most recent call last)",
      "\u001b[1;32m<ipython-input-49-599b04b0eda5>\u001b[0m in \u001b[0;36m<module>\u001b[1;34m\u001b[0m\n\u001b[0;32m      1\u001b[0m \u001b[0mprint\u001b[0m\u001b[1;33m(\u001b[0m\u001b[0mnumbers\u001b[0m\u001b[1;33m.\u001b[0m\u001b[0mcount\u001b[0m\u001b[1;33m(\u001b[0m\u001b[1;36m9\u001b[0m\u001b[1;33m)\u001b[0m\u001b[1;33m,\u001b[0m \u001b[1;34m'개'\u001b[0m\u001b[1;33m)\u001b[0m\u001b[1;33m\u001b[0m\u001b[1;33m\u001b[0m\u001b[0m\n\u001b[1;32m----> 2\u001b[1;33m \u001b[0mprint\u001b[0m\u001b[1;33m(\u001b[0m\u001b[0mnumbers\u001b[0m\u001b[1;33m.\u001b[0m\u001b[0mindex\u001b[0m\u001b[1;33m(\u001b[0m\u001b[1;36m9\u001b[0m\u001b[1;33m)\u001b[0m\u001b[1;33m)\u001b[0m \u001b[1;31m# index함수는 없는 값을 쓰면 에러\u001b[0m\u001b[1;33m\u001b[0m\u001b[1;33m\u001b[0m\u001b[0m\n\u001b[0m",
      "\u001b[1;31mValueError\u001b[0m: 9 is not in list"
     ]
    }
   ],
   "source": [
    "print(numbers.count(9), '개')\n",
    "print(numbers.index(9)) # index함수는 없는 값을 쓰면 에러"
   ]
  },
  {
   "cell_type": "markdown",
   "id": "35ae9ddb",
   "metadata": {},
   "source": [
    " ### 원하는 리스트 내용만 추출; 리스트 슬라이싱\n",
    "    - 인덱스보다 많은 값을 써도 에러가 발생하지 않음\n",
    "    - [from:to:by] : from부터 to바로 앞까지 by씩 증가하는 index 추출\n",
    "                     from, to, by 모두 생략 가능\n",
    "    - 인덱스는 음수 가능"
   ]
  },
  {
   "cell_type": "code",
   "execution_count": 50,
   "id": "bece1c40",
   "metadata": {
    "ExecuteTime": {
     "end_time": "2021-07-20T07:20:22.338993Z",
     "start_time": "2021-07-20T07:20:22.327025Z"
    }
   },
   "outputs": [
    {
     "data": {
      "text/plain": [
       "[9, 7, 5, 3, 1]"
      ]
     },
     "execution_count": 50,
     "metadata": {},
     "output_type": "execute_result"
    }
   ],
   "source": [
    "numbers = [1,3,5,7,9]\n",
    "numbers[::-1]"
   ]
  },
  {
   "cell_type": "code",
   "execution_count": null,
   "id": "1e381a5d",
   "metadata": {},
   "outputs": [],
   "source": [
    "## 리스트 컴프리헨션을 이용해서 list의 원하는 데이터 엑세스 #########################################꼭 알고 있을 것!\n",
    "# 대괄호를 열어야 함\n",
    "# if문을 사용해야함"
   ]
  },
  {
   "cell_type": "code",
   "execution_count": 74,
   "id": "1b274374",
   "metadata": {
    "ExecuteTime": {
     "end_time": "2021-07-21T02:33:06.379242Z",
     "start_time": "2021-07-21T02:33:06.362313Z"
    }
   },
   "outputs": [
    {
     "data": {
      "text/plain": [
       "[1, 3, 5, 7, 9, 10, 12, 13, 18, 19, 20]"
      ]
     },
     "execution_count": 74,
     "metadata": {},
     "output_type": "execute_result"
    }
   ],
   "source": [
    "numbers = [1,3,5,7,9,10,12,13,18,19,20]\n",
    "# 모든 데이터를 다 가져오기\n",
    "# for data in numbers:\n",
    "#     print(data, end='\\t')\n",
    "[data for data in numbers]"
   ]
  },
  {
   "cell_type": "code",
   "execution_count": 75,
   "id": "f55de379",
   "metadata": {
    "ExecuteTime": {
     "end_time": "2021-07-21T02:33:29.858278Z",
     "start_time": "2021-07-21T02:33:29.849266Z"
    }
   },
   "outputs": [
    {
     "data": {
      "text/plain": [
       "[10, 12, 18, 20]"
      ]
     },
     "execution_count": 75,
     "metadata": {},
     "output_type": "execute_result"
    }
   ],
   "source": [
    "# 짝수 데이터만 가져오기\n",
    "# for data in numbers:\n",
    "#    if data%2==0:\n",
    "#        print(data, end='\\t')\n",
    "[data for data in numbers if data%2==0] # 리스트 컴프리헨션 : 원하는 조건의 값만 가져옴."
   ]
  },
  {
   "cell_type": "code",
   "execution_count": 54,
   "id": "f1ad619e",
   "metadata": {
    "ExecuteTime": {
     "end_time": "2021-07-20T07:41:24.783178Z",
     "start_time": "2021-07-20T07:41:24.772207Z"
    }
   },
   "outputs": [
    {
     "data": {
      "text/plain": [
       "[10, 12, 13, 18, 19, 20]"
      ]
     },
     "execution_count": 54,
     "metadata": {},
     "output_type": "execute_result"
    }
   ],
   "source": [
    "# 10이상의 데이터만 가져오기\n",
    "[x for x in numbers if x>=10]"
   ]
  },
  {
   "cell_type": "code",
   "execution_count": 62,
   "id": "d2ed6135",
   "metadata": {
    "ExecuteTime": {
     "end_time": "2021-07-20T07:46:09.090322Z",
     "start_time": "2021-07-20T07:46:09.077365Z"
    }
   },
   "outputs": [
    {
     "data": {
      "text/plain": [
       "['orange', 'apple', 'mango']"
      ]
     },
     "execution_count": 62,
     "metadata": {},
     "output_type": "execute_result"
    }
   ],
   "source": [
    "# 과일의 글씨가 5글자 이상인 과일을 추출하세요\n",
    "fruits = ['orange', 'apple', 'mango', 'kiwi']\n",
    "[x for x in fruits if len(x)>=5]"
   ]
  },
  {
   "cell_type": "code",
   "execution_count": 63,
   "id": "a6aadd3f",
   "metadata": {
    "ExecuteTime": {
     "end_time": "2021-07-20T07:46:37.679927Z",
     "start_time": "2021-07-20T07:46:37.668957Z"
    }
   },
   "outputs": [
    {
     "data": {
      "text/plain": [
       "[6, 5, 5, 4]"
      ]
     },
     "execution_count": 63,
     "metadata": {},
     "output_type": "execute_result"
    }
   ],
   "source": [
    "# 과일의 글자수를 추출하세요\n",
    "[len(fruit) for fruit in fruits]"
   ]
  },
  {
   "cell_type": "code",
   "execution_count": 65,
   "id": "202e07df",
   "metadata": {
    "ExecuteTime": {
     "end_time": "2021-07-20T07:49:17.227781Z",
     "start_time": "2021-07-20T07:49:17.219802Z"
    }
   },
   "outputs": [
    {
     "data": {
      "text/plain": [
       "[1, 4, 9, 16, 25]"
      ]
     },
     "execution_count": 65,
     "metadata": {},
     "output_type": "execute_result"
    }
   ],
   "source": [
    "# 리스트의 값의 제곱을 추출하라\n",
    "L = [1,2,3,4,5]\n",
    "[x**2 for x in L]"
   ]
  },
  {
   "cell_type": "code",
   "execution_count": 68,
   "id": "e93c58cf",
   "metadata": {
    "ExecuteTime": {
     "end_time": "2021-07-20T07:49:40.192529Z",
     "start_time": "2021-07-20T07:49:40.180562Z"
    }
   },
   "outputs": [
    {
     "data": {
      "text/plain": [
       "[2, 4, 6, 8, 10]"
      ]
     },
     "execution_count": 68,
     "metadata": {},
     "output_type": "execute_result"
    }
   ],
   "source": [
    "# 리스트 값을 두 배의 수를 추출하라\n",
    "[ 2*x for x in L]"
   ]
  },
  {
   "cell_type": "markdown",
   "id": "7e2efea1",
   "metadata": {},
   "source": [
    "### 요소 수정하기"
   ]
  },
  {
   "cell_type": "code",
   "execution_count": 4,
   "id": "b3f6138c",
   "metadata": {
    "ExecuteTime": {
     "end_time": "2021-07-20T07:53:24.259711Z",
     "start_time": "2021-07-20T07:53:24.244751Z"
    }
   },
   "outputs": [
    {
     "data": {
      "text/plain": [
       "[0, 1, 2222, 3, 4, 5, 6, 7, 8, 9]"
      ]
     },
     "execution_count": 4,
     "metadata": {},
     "output_type": "execute_result"
    }
   ],
   "source": [
    "numbers = [0,1,2,3,4,5,6,7,8,9]\n",
    "numbers[2] = 2222\n",
    "numbers"
   ]
  },
  {
   "cell_type": "code",
   "execution_count": 80,
   "id": "ea6c9a67",
   "metadata": {
    "ExecuteTime": {
     "end_time": "2021-07-20T07:53:25.798620Z",
     "start_time": "2021-07-20T07:53:25.778674Z"
    }
   },
   "outputs": [
    {
     "data": {
      "text/plain": [
       "[1111, 1111, 1111, 1111, 1111, 1111, 1111, 2222, 3, 4, 5, 6, 7, 8, 9]"
      ]
     },
     "execution_count": 80,
     "metadata": {},
     "output_type": "execute_result"
    }
   ],
   "source": [
    "# 부분리스트를 통쨰로 바꿈(by 없이 슬라이싱할 경우)\n",
    "numbers[0:2] = [1111,1111,1111,1111,1111,1111,1111]\n",
    "numbers"
   ]
  },
  {
   "cell_type": "code",
   "execution_count": 7,
   "id": "04558188",
   "metadata": {
    "ExecuteTime": {
     "end_time": "2021-07-20T07:55:13.069031Z",
     "start_time": "2021-07-20T07:55:13.059080Z"
    }
   },
   "outputs": [
    {
     "name": "stdout",
     "output_type": "stream",
     "text": [
      "수정 전 :  [0, 0, 0, 0, 0, 0, 0, 0, 0, 0]\n",
      "수정 후 :  [11, 0, 11, 0, 11, 0, 11, 0, 11, 0]\n"
     ]
    }
   ],
   "source": [
    "# 슬라이싱에서 by가 포함된 경우\n",
    "numbers = [0]*10\n",
    "print(\"수정 전 : \", numbers)\n",
    "numbers[::2] = [11,11,11,11,11,11,11,11] # 개수가 5개로 정확히 일치해야만 오류없이 적용가능\n",
    "print(\"수정 후 : \", numbers)"
   ]
  },
  {
   "cell_type": "markdown",
   "id": "ed653660",
   "metadata": {},
   "source": [
    "### 삭제하기\n",
    "- pop() : 가장 마지막 인덱스의 요소가 반환되고 삭제\n",
    "- pop(n) : n 번째 idx요소가 반환되고 삭제\n",
    "- remove(data) : 해당 data가 삭제\n",
    "- del 리스트 변수[n]"
   ]
  },
  {
   "cell_type": "code",
   "execution_count": 8,
   "id": "0b36bbf6",
   "metadata": {
    "ExecuteTime": {
     "end_time": "2021-07-20T08:02:50.092867Z",
     "start_time": "2021-07-20T08:02:50.083870Z"
    }
   },
   "outputs": [
    {
     "name": "stdout",
     "output_type": "stream",
     "text": [
      "[0, 1, 2, 3, 4, 5]\n",
      "5\n",
      "[0, 1, 2, 3, 4]\n"
     ]
    }
   ],
   "source": [
    "numbers = [0,1,2,3,4,5]\n",
    "print(numbers)\n",
    "print(numbers.pop())\n",
    "print(numbers)"
   ]
  },
  {
   "cell_type": "code",
   "execution_count": 9,
   "id": "32de3209",
   "metadata": {
    "ExecuteTime": {
     "end_time": "2021-07-20T08:01:43.620119Z",
     "start_time": "2021-07-20T08:01:43.604172Z"
    }
   },
   "outputs": [],
   "source": [
    "numbers.remove(3) # pop은 삭제하고 결과를 반환했는데 remove는 결과를 반환하지 않음\n",
    "                  # 없는 값을 remove하는 명령을 입력한 경우 error!"
   ]
  },
  {
   "cell_type": "code",
   "execution_count": 10,
   "id": "b21d5fcf",
   "metadata": {},
   "outputs": [
    {
     "data": {
      "text/plain": [
       "[0, 1, 2, 4]"
      ]
     },
     "execution_count": 10,
     "metadata": {},
     "output_type": "execute_result"
    }
   ],
   "source": [
    "numbers"
   ]
  },
  {
   "cell_type": "code",
   "execution_count": 99,
   "id": "d40c1309",
   "metadata": {
    "ExecuteTime": {
     "end_time": "2021-07-20T08:03:10.810848Z",
     "start_time": "2021-07-20T08:03:10.803863Z"
    }
   },
   "outputs": [
    {
     "data": {
      "text/plain": [
       "[0, 1, 2, 4, 5]"
      ]
     },
     "execution_count": 99,
     "metadata": {},
     "output_type": "execute_result"
    }
   ],
   "source": [
    "numbers = [0,1,2,3,4,5]\n",
    "del numbers[3]\n",
    "numbers"
   ]
  },
  {
   "cell_type": "markdown",
   "id": "3323f8d1",
   "metadata": {},
   "source": [
    "### 정렬하기"
   ]
  },
  {
   "cell_type": "code",
   "execution_count": 106,
   "id": "28a7a63f",
   "metadata": {
    "ExecuteTime": {
     "end_time": "2021-07-20T08:08:25.488612Z",
     "start_time": "2021-07-20T08:08:25.475647Z"
    }
   },
   "outputs": [],
   "source": [
    "numbers = [9,5,2,6,10]\n",
    "numbers.sort() # numbers 리스트의 구성이 정렬된 상태로 바뀜. 기본정렬은 오름차순"
   ]
  },
  {
   "cell_type": "code",
   "execution_count": 104,
   "id": "626d72e3",
   "metadata": {
    "ExecuteTime": {
     "end_time": "2021-07-20T08:07:55.074935Z",
     "start_time": "2021-07-20T08:07:55.059975Z"
    }
   },
   "outputs": [
    {
     "data": {
      "text/plain": [
       "[10, 9, 6, 5, 2]"
      ]
     },
     "execution_count": 104,
     "metadata": {},
     "output_type": "execute_result"
    }
   ],
   "source": [
    "numbers.reverse() # 리스트를 역순으로 변경\n",
    "numbers"
   ]
  },
  {
   "cell_type": "code",
   "execution_count": 107,
   "id": "31c8c32c",
   "metadata": {
    "ExecuteTime": {
     "end_time": "2021-07-20T08:08:26.953722Z",
     "start_time": "2021-07-20T08:08:26.945758Z"
    }
   },
   "outputs": [
    {
     "data": {
      "text/plain": [
       "[10, 9, 6, 5, 2]"
      ]
     },
     "execution_count": 107,
     "metadata": {},
     "output_type": "execute_result"
    }
   ],
   "source": [
    "numbers = numbers[::-1] # 리스트를 역순으로 변경\n",
    "numbers"
   ]
  },
  {
   "cell_type": "markdown",
   "id": "063f90ab",
   "metadata": {},
   "source": [
    "### 리스트 복제\n",
    "    - 데이터프레임 복제도 동일한 원리(?)"
   ]
  },
  {
   "cell_type": "code",
   "execution_count": 111,
   "id": "c38c66a4",
   "metadata": {
    "ExecuteTime": {
     "end_time": "2021-07-20T08:13:26.108254Z",
     "start_time": "2021-07-20T08:13:26.100275Z"
    }
   },
   "outputs": [
    {
     "name": "stdout",
     "output_type": "stream",
     "text": [
      "정렬전 데이터 :  [2, 4, 6, 7, 10]\n",
      "정렬한 데이터 :  [2, 4, 6, 7, 10]\n",
      "new_numbers 주소 :  1987491872384\n",
      "numvers 주소 : 1987491872384\n"
     ]
    }
   ],
   "source": [
    "numbers = [6, 2, 7, 4, 10]\n",
    "new_numbers = numbers # 값이 전달되지 않고 new_numbers가 numbers의 주소를 참조\n",
    "numbers.sort()\n",
    "print('정렬전 데이터 : ', new_numbers)\n",
    "print('정렬한 데이터 : ', numbers)\n",
    "print('new_numbers 주소 : ', id(new_numbers))\n",
    "print('numvers 주소 :',      id(numbers))\n",
    "    # id로 주소를 확인한 결과를 보면 새로 생성한 변수인 new_number가 독립된 값을 가지지 않고 기존의 numbers의 주소를 참조"
   ]
  },
  {
   "cell_type": "code",
   "execution_count": 12,
   "id": "2fe7200b",
   "metadata": {},
   "outputs": [
    {
     "name": "stdout",
     "output_type": "stream",
     "text": [
      "정렬전 데이터 :  [6, 2, 7, 4, 10]\n",
      "정렬한 데이터 :  [2, 4, 6, 7, 10]\n",
      "new_numbers 주소 :  2449978025920\n",
      "numvers 주소 : 2449978025344\n"
     ]
    }
   ],
   "source": [
    "# 복제함으로써 새로 생성한 변수가 기존의 변수주소를 참조하는 문제를 해결##################################################\n",
    "numbers = [6, 2, 7, 4, 10]\n",
    "new_numbers = numbers.copy() # numbers를 복제\n",
    "numbers.sort()\n",
    "print('정렬전 데이터 : ', new_numbers)\n",
    "print('정렬한 데이터 : ', numbers)\n",
    "print('new_numbers 주소 : ', id(new_numbers))\n",
    "print('numvers 주소 :',      id(numbers))"
   ]
  },
  {
   "cell_type": "code",
   "execution_count": 115,
   "id": "541226ee",
   "metadata": {
    "ExecuteTime": {
     "end_time": "2021-07-20T08:20:05.004882Z",
     "start_time": "2021-07-20T08:20:04.994887Z"
    }
   },
   "outputs": [
    {
     "name": "stdout",
     "output_type": "stream",
     "text": [
      "원데이터 : 서울 부산 대구 인천\n",
      "정렬 후 : 대구 부산 서울 인천\n"
     ]
    }
   ],
   "source": [
    "city = ['서울', '부산', '대구', '인천']\n",
    "temp = city.copy()\n",
    "city.sort()\n",
    "print('원데이터 :', ' '.join(temp))\n",
    "print('정렬 후 :',  ' '.join(city))"
   ]
  },
  {
   "cell_type": "markdown",
   "id": "11eb4493",
   "metadata": {},
   "source": [
    "# 2절. 튜플\n",
    "- 리스트와 유사하지만 읽기전용. 수정이 필요없는 데이터타입에서 사용\n",
    "- 수정이 불가하므로 튜플에 데이터 추가, 수정, 삭제 불가\n",
    "- 제공되는 함수도 많지 않음\n",
    "- () 이용해서 생성"
   ]
  },
  {
   "cell_type": "code",
   "execution_count": 116,
   "id": "3c6cc885",
   "metadata": {
    "ExecuteTime": {
     "end_time": "2021-07-20T08:38:37.001117Z",
     "start_time": "2021-07-20T08:38:36.993138Z"
    }
   },
   "outputs": [
    {
     "data": {
      "text/plain": [
       "tuple"
      ]
     },
     "execution_count": 116,
     "metadata": {},
     "output_type": "execute_result"
    }
   ],
   "source": [
    "city = ('서울', '부산', '인천', '대구',) # , 뒤에 항목이 따라오지 않는다고해도 파이썬에서는 괜찮음.\n",
    "type(city)"
   ]
  },
  {
   "cell_type": "code",
   "execution_count": 117,
   "id": "56e740d4",
   "metadata": {
    "ExecuteTime": {
     "end_time": "2021-07-20T08:38:46.124376Z",
     "start_time": "2021-07-20T08:38:46.113403Z"
    }
   },
   "outputs": [
    {
     "data": {
      "text/plain": [
       "'서울-부산-인천-대구'"
      ]
     },
     "execution_count": 117,
     "metadata": {},
     "output_type": "execute_result"
    }
   ],
   "source": [
    "'-'.join(city)"
   ]
  },
  {
   "cell_type": "code",
   "execution_count": 121,
   "id": "e8b7817e",
   "metadata": {
    "ExecuteTime": {
     "end_time": "2021-07-20T08:39:48.402268Z",
     "start_time": "2021-07-20T08:39:48.387281Z"
    }
   },
   "outputs": [
    {
     "name": "stdout",
     "output_type": "stream",
     "text": [
      "<class 'list'>\n",
      "['서울']\n"
     ]
    }
   ],
   "source": [
    "I = ['서울']\n",
    "print(type(I))\n",
    "print(I)"
   ]
  },
  {
   "cell_type": "code",
   "execution_count": 123,
   "id": "4707065a",
   "metadata": {
    "ExecuteTime": {
     "end_time": "2021-07-20T08:41:52.830181Z",
     "start_time": "2021-07-20T08:41:52.819190Z"
    }
   },
   "outputs": [
    {
     "name": "stdout",
     "output_type": "stream",
     "text": [
      "<class 'str'>\n",
      "서울\n"
     ]
    }
   ],
   "source": [
    "city = ('서울') # 요소가 하나있는 튜플이 생성되지 않고 있음.\n",
    "print(type(city))\n",
    "print(city)"
   ]
  },
  {
   "cell_type": "code",
   "execution_count": 125,
   "id": "40ba0638",
   "metadata": {
    "ExecuteTime": {
     "end_time": "2021-07-20T08:42:18.347848Z",
     "start_time": "2021-07-20T08:42:18.336858Z"
    }
   },
   "outputs": [
    {
     "name": "stdout",
     "output_type": "stream",
     "text": [
      "<class 'tuple'>\n",
      "('서울',)\n"
     ]
    }
   ],
   "source": [
    "city = ('서울',)\n",
    "print(type(city))\n",
    "print(city)"
   ]
  },
  {
   "cell_type": "code",
   "execution_count": 18,
   "id": "e71f8636",
   "metadata": {
    "ExecuteTime": {
     "end_time": "2021-07-20T08:46:30.713842Z",
     "start_time": "2021-07-20T08:46:30.704860Z"
    }
   },
   "outputs": [
    {
     "name": "stdout",
     "output_type": "stream",
     "text": [
      "<class 'tuple'>\n",
      "(1, 2, 3)\n"
     ]
    }
   ],
   "source": [
    "numbers = 1,2,3 # 여러개 값을 나열할 때는 자동적으로 튜플로 처리\n",
    "print(type(numbers))\n",
    "print(numbers)"
   ]
  },
  {
   "cell_type": "code",
   "execution_count": 128,
   "id": "0fef6c77",
   "metadata": {
    "ExecuteTime": {
     "end_time": "2021-07-20T08:47:00.650969Z",
     "start_time": "2021-07-20T08:47:00.641972Z"
    }
   },
   "outputs": [
    {
     "ename": "AttributeError",
     "evalue": "'tuple' object has no attribute 'append'",
     "output_type": "error",
     "traceback": [
      "\u001b[1;31m---------------------------------------------------------------------------\u001b[0m",
      "\u001b[1;31mAttributeError\u001b[0m                            Traceback (most recent call last)",
      "\u001b[1;32m<ipython-input-128-f95d3812edf5>\u001b[0m in \u001b[0;36m<module>\u001b[1;34m\u001b[0m\n\u001b[1;32m----> 1\u001b[1;33m \u001b[0mnumbers\u001b[0m\u001b[1;33m.\u001b[0m\u001b[0mappend\u001b[0m\u001b[1;33m(\u001b[0m\u001b[1;36m4\u001b[0m\u001b[1;33m)\u001b[0m\u001b[1;33m\u001b[0m\u001b[1;33m\u001b[0m\u001b[0m\n\u001b[0m\u001b[0;32m      2\u001b[0m \u001b[0mnumbers\u001b[0m\u001b[1;33m.\u001b[0m\u001b[0mremove\u001b[0m\u001b[1;33m(\u001b[0m\u001b[1;36m4\u001b[0m\u001b[1;33m)\u001b[0m\u001b[1;33m\u001b[0m\u001b[1;33m\u001b[0m\u001b[0m\n",
      "\u001b[1;31mAttributeError\u001b[0m: 'tuple' object has no attribute 'append'"
     ]
    }
   ],
   "source": [
    "numbers.append(4)\n",
    "numbers.remove(4) # 데이터를 수정하기 위한 함수들은 모두 적용불가. \n",
    "                  # 튜플에 적용 가능한 함수는 매우 제한됨. len(), min(), max()"
   ]
  },
  {
   "cell_type": "code",
   "execution_count": 19,
   "id": "8c6cc0b9",
   "metadata": {},
   "outputs": [
    {
     "data": {
      "text/plain": [
       "(3, 1, 3)"
      ]
     },
     "execution_count": 19,
     "metadata": {},
     "output_type": "execute_result"
    }
   ],
   "source": [
    "len(numbers), min(numbers), max(numbers)"
   ]
  },
  {
   "cell_type": "code",
   "execution_count": 20,
   "id": "dd5dd680",
   "metadata": {},
   "outputs": [
    {
     "data": {
      "text/plain": [
       "1"
      ]
     },
     "execution_count": 20,
     "metadata": {},
     "output_type": "execute_result"
    }
   ],
   "source": [
    "numbers.count(2)"
   ]
  },
  {
   "cell_type": "code",
   "execution_count": 22,
   "id": "d20d4b50",
   "metadata": {
    "ExecuteTime": {
     "end_time": "2021-07-20T08:48:42.107739Z",
     "start_time": "2021-07-20T08:48:42.097765Z"
    }
   },
   "outputs": [
    {
     "data": {
      "text/plain": [
       "(2, 3, 4)"
      ]
     },
     "execution_count": 22,
     "metadata": {},
     "output_type": "execute_result"
    }
   ],
   "source": [
    "data = (0, 1, 2, 3, 4, (5, 6) )\n",
    "data[2:5] # 2번째부터 5번째 앞까지(4번째까지)"
   ]
  },
  {
   "cell_type": "code",
   "execution_count": null,
   "id": "740b25c0",
   "metadata": {},
   "outputs": [],
   "source": [
    "data.index(2) # 2가 있는 가싀#### ㅑㅜㅇㄷㅌ"
   ]
  },
  {
   "cell_type": "code",
   "execution_count": null,
   "id": "f97dbd97",
   "metadata": {},
   "outputs": [],
   "source": [
    "data.index(9)"
   ]
  },
  {
   "cell_type": "code",
   "execution_count": 133,
   "id": "c89ff7ca",
   "metadata": {
    "ExecuteTime": {
     "end_time": "2021-07-20T08:50:53.088595Z",
     "start_time": "2021-07-20T08:50:53.074630Z"
    }
   },
   "outputs": [
    {
     "data": {
      "text/plain": [
       "(0, 1, 2, 0, 1, 2, 0, 1, 2)"
      ]
     },
     "execution_count": 133,
     "metadata": {},
     "output_type": "execute_result"
    }
   ],
   "source": [
    "data = (0,1,2,)\n",
    "data * 3"
   ]
  },
  {
   "cell_type": "markdown",
   "id": "7e48a694",
   "metadata": {},
   "source": [
    "# 3절. 딕셔너리\n",
    "cf. 자바에서의 hashMap<br>\n",
    "    * 중괄호{}를 이용하여 생성. 키(key)-값(value)의 쌍으로 구성된 자료구조.<br>\n",
    "    * 키는 유일한 값(중복허용안함). 키에 리스트는 사용불가. 키에 튜플은 사용가능<br>\n",
    "    * 값은 중복 가능. 모든 데이터 타입이 가능<br>\n",
    "    * 없는 키의 값을 참조하면 에러 발생<br>\n",
    "    * 인덱스를 이용한 참조는 지원안함."
   ]
  },
  {
   "cell_type": "code",
   "execution_count": 137,
   "id": "7e49c943",
   "metadata": {
    "ExecuteTime": {
     "end_time": "2021-07-20T09:01:05.794095Z",
     "start_time": "2021-07-20T09:01:05.777119Z"
    }
   },
   "outputs": [
    {
     "name": "stdout",
     "output_type": "stream",
     "text": [
      "<class 'dict'>\n",
      "{'key1': 'val'}\n"
     ]
    }
   ],
   "source": [
    "dic = {'key1':'value', 'key1':'val'}\n",
    "print(type(dic))\n",
    "print(dic) # key값이 고유하지 않은 경우 후자만 유효함"
   ]
  },
  {
   "cell_type": "code",
   "execution_count": 141,
   "id": "215d0252",
   "metadata": {
    "ExecuteTime": {
     "end_time": "2021-07-20T09:02:08.249202Z",
     "start_time": "2021-07-20T09:02:08.241225Z"
    }
   },
   "outputs": [
    {
     "data": {
      "text/plain": [
       "1"
      ]
     },
     "execution_count": 141,
     "metadata": {},
     "output_type": "execute_result"
    }
   ],
   "source": [
    "len(dic) # 데이터 요소의 갯수"
   ]
  },
  {
   "cell_type": "code",
   "execution_count": 2,
   "id": "c32eed00",
   "metadata": {
    "ExecuteTime": {
     "end_time": "2021-07-20T09:02:44.897957Z",
     "start_time": "2021-07-20T09:02:44.881022Z"
    }
   },
   "outputs": [
    {
     "data": {
      "text/plain": [
       "{'fruit': 'apple', 'number': 12, 'sport': 'golf'}"
      ]
     },
     "execution_count": 2,
     "metadata": {},
     "output_type": "execute_result"
    }
   ],
   "source": [
    "my_favorite = {'fruit':'apple', 'number':12, 'sport':'golf'}\n",
    "my_favorite"
   ]
  },
  {
   "cell_type": "code",
   "execution_count": 143,
   "id": "e4c1354c",
   "metadata": {
    "ExecuteTime": {
     "end_time": "2021-07-20T09:03:19.663815Z",
     "start_time": "2021-07-20T09:03:19.648834Z"
    }
   },
   "outputs": [
    {
     "data": {
      "text/plain": [
       "'apple'"
      ]
     },
     "execution_count": 143,
     "metadata": {},
     "output_type": "execute_result"
    }
   ],
   "source": [
    "my_favorite['fruit']"
   ]
  },
  {
   "cell_type": "code",
   "execution_count": 144,
   "id": "31cd7cc6",
   "metadata": {
    "ExecuteTime": {
     "end_time": "2021-07-20T09:03:28.897774Z",
     "start_time": "2021-07-20T09:03:28.880796Z"
    }
   },
   "outputs": [
    {
     "data": {
      "text/plain": [
       "'apple'"
      ]
     },
     "execution_count": 144,
     "metadata": {},
     "output_type": "execute_result"
    }
   ],
   "source": [
    "my_favorite.get('fruit')"
   ]
  },
  {
   "cell_type": "code",
   "execution_count": 146,
   "id": "8e1b5fdb",
   "metadata": {
    "ExecuteTime": {
     "end_time": "2021-07-20T09:04:22.773941Z",
     "start_time": "2021-07-20T09:04:22.755989Z"
    }
   },
   "outputs": [
    {
     "name": "stdout",
     "output_type": "stream",
     "text": [
      "None\n"
     ]
    }
   ],
   "source": [
    "# print(my_favorite['people'] # 키 목록에 없는 데이터를 인덱스로 참조시 에러발생\n",
    "print(my_favorite.get('people')) # 키목록에 없는 데이터를 get함수로 호출시 None을 반환"
   ]
  },
  {
   "cell_type": "code",
   "execution_count": 148,
   "id": "cd16c8d8",
   "metadata": {
    "ExecuteTime": {
     "end_time": "2021-07-20T09:09:34.153763Z",
     "start_time": "2021-07-20T09:09:34.143765Z"
    }
   },
   "outputs": [
    {
     "name": "stdout",
     "output_type": "stream",
     "text": [
      "fruit 수정 후 : {'fruit': 'banana', 'number': 12, 'sport': 'golf'}\n",
      "people 추가 후 : {'fruit': 'banana', 'number': 12, 'sport': 'golf', 'people': 'KIM'}\n",
      "sport 삭제 후 : {'fruit': 'banana', 'number': 12, 'people': 'KIM'}\n"
     ]
    }
   ],
   "source": [
    "# 수정\n",
    "my_favorite = {'fruit':'apple', 'number':12, 'sport':'golf'}\n",
    "my_favorite['fruit'] = 'banana'\n",
    "print('fruit 수정 후 :', my_favorite)\n",
    "my_favorite['people'] = 'KIM'\n",
    "print('people 추가 후 :', my_favorite)\n",
    "del(my_favorite['sport'])\n",
    "print('sport 삭제 후 :', my_favorite)"
   ]
  },
  {
   "cell_type": "code",
   "execution_count": 13,
   "id": "828ec051",
   "metadata": {
    "ExecuteTime": {
     "end_time": "2021-07-20T09:13:46.513891Z",
     "start_time": "2021-07-20T09:13:46.496924Z"
    }
   },
   "outputs": [
    {
     "name": "stdout",
     "output_type": "stream",
     "text": [
      "홍길동\t25\t010-9999-0000\t0번째 데이터 : 홍길동\n",
      "1번째 데이터 : 25\n",
      "2번째 데이터 : 010-9999-0000\n"
     ]
    }
   ],
   "source": [
    "# for문을 이용한 dictionary 출력\n",
    "my_dic = {'name':'홍길동', 'age':25, 'tel':'010-9999-0000'}\n",
    "\n",
    "my_tuple = ('홍길동', 25, '010-9999-0000')\n",
    "for data in my_tuple:\n",
    "    print(data, end='\\t')\n",
    "for idx in range(len(my_tuple)):\n",
    "    print(\"{}번째 데이터 : {}\".format(idx, my_tuple[idx]))"
   ]
  },
  {
   "cell_type": "code",
   "execution_count": 151,
   "id": "e23332fa",
   "metadata": {
    "ExecuteTime": {
     "end_time": "2021-07-20T09:15:00.009073Z",
     "start_time": "2021-07-20T09:14:59.999101Z"
    }
   },
   "outputs": [
    {
     "name": "stdout",
     "output_type": "stream",
     "text": [
      "name\tage\ttel\t"
     ]
    }
   ],
   "source": [
    "# for문을 이용한 dictionary 출력\n",
    "my_dic = {'name':'홍길동', 'age':25, 'tel':'010-9999-0000'}\n",
    "\n",
    "for data in my_dic:\n",
    "    print(data, end='\\t') # 키만 나타남. 일반적으로는 데이터 혹은 키+데이터가 출력되기를 희망"
   ]
  },
  {
   "cell_type": "code",
   "execution_count": 152,
   "id": "9a3dd3b6",
   "metadata": {
    "ExecuteTime": {
     "end_time": "2021-07-20T09:16:15.378014Z",
     "start_time": "2021-07-20T09:16:15.359063Z"
    }
   },
   "outputs": [
    {
     "data": {
      "text/plain": [
       "dict_keys(['name', 'age', 'tel'])"
      ]
     },
     "execution_count": 152,
     "metadata": {},
     "output_type": "execute_result"
    }
   ],
   "source": [
    "my_dic.keys() # 키 목록을 반환함"
   ]
  },
  {
   "cell_type": "code",
   "execution_count": 153,
   "id": "59514dda",
   "metadata": {
    "ExecuteTime": {
     "end_time": "2021-07-20T09:16:16.567059Z",
     "start_time": "2021-07-20T09:16:16.558062Z"
    }
   },
   "outputs": [
    {
     "data": {
      "text/plain": [
       "dict_values(['홍길동', 25, '010-9999-0000'])"
      ]
     },
     "execution_count": 153,
     "metadata": {},
     "output_type": "execute_result"
    }
   ],
   "source": [
    "my_dic.values() # 값들을 반환해줌"
   ]
  },
  {
   "cell_type": "code",
   "execution_count": 154,
   "id": "fec9cbf4",
   "metadata": {
    "ExecuteTime": {
     "end_time": "2021-07-20T09:16:36.074253Z",
     "start_time": "2021-07-20T09:16:36.063261Z"
    }
   },
   "outputs": [
    {
     "data": {
      "text/plain": [
       "dict_items([('name', '홍길동'), ('age', 25), ('tel', '010-9999-0000')])"
      ]
     },
     "execution_count": 154,
     "metadata": {},
     "output_type": "execute_result"
    }
   ],
   "source": [
    "my_dic.items() # 딕셔너리를 튜플의 형태로 이루어진 (키, 값)으로 반환"
   ]
  },
  {
   "cell_type": "code",
   "execution_count": 8,
   "id": "aa61bf09",
   "metadata": {
    "ExecuteTime": {
     "end_time": "2021-07-20T09:18:16.233171Z",
     "start_time": "2021-07-20T09:18:16.224195Z"
    }
   },
   "outputs": [
    {
     "name": "stdout",
     "output_type": "stream",
     "text": [
      "홍길동\t25\t010-9999-9999\t"
     ]
    }
   ],
   "source": [
    "for value in my_dic.values():\n",
    "    print(value, end='\\t')"
   ]
  },
  {
   "cell_type": "code",
   "execution_count": 161,
   "id": "35266ccc",
   "metadata": {
    "ExecuteTime": {
     "end_time": "2021-07-20T09:21:23.187780Z",
     "start_time": "2021-07-20T09:21:23.182779Z"
    }
   },
   "outputs": [
    {
     "name": "stdout",
     "output_type": "stream",
     "text": [
      "name은 홍길동\n",
      "age은 25\n",
      "tel은 010-9999-0000\n"
     ]
    }
   ],
   "source": [
    "for item in my_dic.items():\n",
    "    print(\"{}은 {}\".format(item[0], item[1]))"
   ]
  },
  {
   "cell_type": "code",
   "execution_count": null,
   "id": "69b2b86f",
   "metadata": {},
   "outputs": [],
   "source": [
    "# in 연산자"
   ]
  },
  {
   "cell_type": "code",
   "execution_count": 16,
   "id": "58c47adc",
   "metadata": {},
   "outputs": [
    {
     "data": {
      "text/plain": [
       "True"
      ]
     },
     "execution_count": 16,
     "metadata": {},
     "output_type": "execute_result"
    }
   ],
   "source": [
    "L = (1, 2, 3)\n",
    "2 in L"
   ]
  },
  {
   "cell_type": "code",
   "execution_count": 1,
   "id": "9255594c",
   "metadata": {
    "ExecuteTime": {
     "end_time": "2021-07-21T00:47:08.505604Z",
     "start_time": "2021-07-21T00:47:08.493635Z"
    }
   },
   "outputs": [
    {
     "data": {
      "text/plain": [
       "False"
      ]
     },
     "execution_count": 1,
     "metadata": {},
     "output_type": "execute_result"
    }
   ],
   "source": [
    "my_dic = {'name' : '홍길동', 'age':25, 'tel':'010-9999-9999'}\n",
    "'홍길동' in my_dic"
   ]
  },
  {
   "cell_type": "code",
   "execution_count": 2,
   "id": "0a83aa45",
   "metadata": {
    "ExecuteTime": {
     "end_time": "2021-07-21T00:47:29.791862Z",
     "start_time": "2021-07-21T00:47:29.778897Z"
    }
   },
   "outputs": [
    {
     "data": {
      "text/plain": [
       "True"
      ]
     },
     "execution_count": 2,
     "metadata": {},
     "output_type": "execute_result"
    }
   ],
   "source": [
    "# 딕셔너리에서의 in 연산자는 키가 있는지 여부 반환\n",
    "'name' in my_dic"
   ]
  },
  {
   "cell_type": "code",
   "execution_count": 4,
   "id": "aa33bb3b",
   "metadata": {
    "ExecuteTime": {
     "end_time": "2021-07-21T00:50:22.224386Z",
     "start_time": "2021-07-21T00:50:22.211421Z"
    }
   },
   "outputs": [
    {
     "name": "stdout",
     "output_type": "stream",
     "text": [
      "{'fruit': 'apple', 'number': 1}\n",
      "{'fruit': 'apple', 'number': 1}\n"
     ]
    }
   ],
   "source": [
    "my_favorite = {'fruit':'apple', 'number':1}\n",
    "new_my_favorite = my_favorite\n",
    "print(my_favorite)\n",
    "print(new_my_favorite)"
   ]
  },
  {
   "cell_type": "code",
   "execution_count": 6,
   "id": "42968fa4",
   "metadata": {
    "ExecuteTime": {
     "end_time": "2021-07-21T00:51:35.211555Z",
     "start_time": "2021-07-21T00:51:35.203548Z"
    }
   },
   "outputs": [
    {
     "name": "stdout",
     "output_type": "stream",
     "text": [
      "{'fruit': '과일은 다 좋아', 'number': 1}\n",
      "{'fruit': '과일은 다 좋아', 'number': 1}\n",
      "주소: 1197290090752\n",
      "주소: 1197290090752\n"
     ]
    }
   ],
   "source": [
    "my_favorite['fruit'] = '과일은 다 좋아'\n",
    "print(my_favorite)\n",
    "print(new_my_favorite)\n",
    "print('주소:', id(my_favorite))\n",
    "print('주소:', id(new_my_favorite))"
   ]
  },
  {
   "cell_type": "code",
   "execution_count": 7,
   "id": "3fec831d",
   "metadata": {
    "ExecuteTime": {
     "end_time": "2021-07-21T00:53:50.938311Z",
     "start_time": "2021-07-21T00:53:50.931349Z"
    }
   },
   "outputs": [
    {
     "name": "stdout",
     "output_type": "stream",
     "text": [
      "{'fruit': '과일은 다 좋아', 'number': 1}\n",
      "{'fruit': 'apple', 'number': 1}\n",
      "주소: 1197290126976\n",
      "주소: 1197290127104\n"
     ]
    }
   ],
   "source": [
    "my_favorite = {'fruit':'apple', 'number':1}\n",
    "new_my_favorite = my_favorite.copy() # 복제\n",
    "my_favorite['fruit'] = '과일은 다 좋아'\n",
    "print(my_favorite)\n",
    "print(new_my_favorite)\n",
    "print('주소:', id(my_favorite))\n",
    "print('주소:', id(new_my_favorite))"
   ]
  },
  {
   "cell_type": "markdown",
   "id": "9c59cecd",
   "metadata": {},
   "source": [
    "# 4절. 셋\n",
    "    * 중복을 허용하지 않는 집합(순서X)\n",
    "    * 중괄호({})나 set()함수를 이용해서 생성 : set([1,2]), set({딕셔너리}), set(튜플) 등의 형태로 생성\n",
    "    * 집합연산자(&교집합, |합집합, -차집합)\n",
    "        - 딕셔너리는 순서는 없지만 키값이 존재했음."
   ]
  },
  {
   "cell_type": "code",
   "execution_count": 8,
   "id": "3975b100",
   "metadata": {
    "ExecuteTime": {
     "end_time": "2021-07-21T00:59:28.173738Z",
     "start_time": "2021-07-21T00:59:28.155763Z"
    }
   },
   "outputs": [
    {
     "data": {
      "text/plain": [
       "{'apple', 'banana', 'orange'}"
      ]
     },
     "execution_count": 8,
     "metadata": {},
     "output_type": "execute_result"
    }
   ],
   "source": [
    "fruits = {'apple', 'orange', 'banana', 'banana'}\n",
    "fruits\n",
    "# 중복 불가, 순서 없음."
   ]
  },
  {
   "cell_type": "code",
   "execution_count": 10,
   "id": "5f006478",
   "metadata": {
    "ExecuteTime": {
     "end_time": "2021-07-21T01:00:16.225307Z",
     "start_time": "2021-07-21T01:00:16.210352Z"
    }
   },
   "outputs": [
    {
     "data": {
      "text/plain": [
       "{1, 2, 3}"
      ]
     },
     "execution_count": 10,
     "metadata": {},
     "output_type": "execute_result"
    }
   ],
   "source": [
    "s1 = set([1,2,3,1])\n",
    "s1\n",
    "# 리스트로 셋 생성하기"
   ]
  },
  {
   "cell_type": "code",
   "execution_count": 19,
   "id": "0d7b4940",
   "metadata": {
    "ExecuteTime": {
     "end_time": "2021-07-21T01:00:29.921675Z",
     "start_time": "2021-07-21T01:00:29.905690Z"
    }
   },
   "outputs": [
    {
     "data": {
      "text/plain": [
       "[1, 2, 3, 4, 4]"
      ]
     },
     "execution_count": 19,
     "metadata": {},
     "output_type": "execute_result"
    }
   ],
   "source": [
    "[1,2,3,4,4]\n",
    "# 리스트는 중복이 가능함"
   ]
  },
  {
   "cell_type": "code",
   "execution_count": 9,
   "id": "003a3fd3",
   "metadata": {
    "ExecuteTime": {
     "end_time": "2021-07-21T01:01:10.484575Z",
     "start_time": "2021-07-21T01:01:10.464630Z"
    }
   },
   "outputs": [
    {
     "data": {
      "text/plain": [
       "{1, 2, 3}"
      ]
     },
     "execution_count": 9,
     "metadata": {},
     "output_type": "execute_result"
    }
   ],
   "source": [
    "s2 = set((1,2,3,1))\n",
    "s2\n",
    "# 튜플로 셋 생성하기"
   ]
  },
  {
   "cell_type": "code",
   "execution_count": 13,
   "id": "109435b9",
   "metadata": {
    "ExecuteTime": {
     "end_time": "2021-07-21T01:03:00.341672Z",
     "start_time": "2021-07-21T01:03:00.322724Z"
    }
   },
   "outputs": [
    {
     "data": {
      "text/plain": [
       "{'age', 'name'}"
      ]
     },
     "execution_count": 13,
     "metadata": {},
     "output_type": "execute_result"
    }
   ],
   "source": [
    "s3 = set({'name':'홍길동', 'age':30})\n",
    "s3\n",
    "# 딕셔너리로 셋 생성하기\n",
    "# set 함수를 이용화면 키 값만 적용"
   ]
  },
  {
   "cell_type": "code",
   "execution_count": 7,
   "id": "16a83c1c",
   "metadata": {
    "ExecuteTime": {
     "end_time": "2021-07-21T01:03:35.876368Z",
     "start_time": "2021-07-21T01:03:35.857391Z"
    }
   },
   "outputs": [
    {
     "data": {
      "text/plain": [
       "{1, 2, 3, 5, 6}"
      ]
     },
     "execution_count": 7,
     "metadata": {},
     "output_type": "execute_result"
    }
   ],
   "source": [
    "s2.add(5)\n",
    "s2.add(6) # 따로 따로 입력해 주어야 함\n",
    "s2"
   ]
  },
  {
   "cell_type": "code",
   "execution_count": 10,
   "id": "233b929e",
   "metadata": {},
   "outputs": [
    {
     "ename": "AttributeError",
     "evalue": "'set' object has no attribute 'append'",
     "output_type": "error",
     "traceback": [
      "\u001b[1;31m---------------------------------------------------------------------------\u001b[0m",
      "\u001b[1;31mAttributeError\u001b[0m                            Traceback (most recent call last)",
      "\u001b[1;32m~\\AppData\\Local\\Temp/ipykernel_26756/1894541357.py\u001b[0m in \u001b[0;36m<module>\u001b[1;34m\u001b[0m\n\u001b[1;32m----> 1\u001b[1;33m \u001b[0ms2\u001b[0m\u001b[1;33m.\u001b[0m\u001b[0mappend\u001b[0m\u001b[1;33m(\u001b[0m\u001b[1;36m7\u001b[0m\u001b[1;33m,\u001b[0m\u001b[1;36m8\u001b[0m\u001b[1;33m)\u001b[0m\u001b[1;33m\u001b[0m\u001b[1;33m\u001b[0m\u001b[0m\n\u001b[0m\u001b[0;32m      2\u001b[0m \u001b[1;31m# s2.extend(7,8)\u001b[0m\u001b[1;33m\u001b[0m\u001b[1;33m\u001b[0m\u001b[0m\n\u001b[0;32m      3\u001b[0m     \u001b[1;31m# 위에서 list일 경우 numbers.append(num) / numbers.extend(num)와 같이 list 혹은 list의 요소들을 기존 리스트에 추가할 수 있었음.\u001b[0m\u001b[1;33m\u001b[0m\u001b[1;33m\u001b[0m\u001b[0m\n",
      "\u001b[1;31mAttributeError\u001b[0m: 'set' object has no attribute 'append'"
     ]
    }
   ],
   "source": [
    "s2.append(7,8)\n",
    "s2.extend(7,8)\n",
    "    # 위에서 list일 경우 numbers.append(num) / numbers.extend(num)와 같이 list 혹은 list의 요소들을 기존 리스트에 추가할 수 있었음."
   ]
  },
  {
   "cell_type": "code",
   "execution_count": 17,
   "id": "a2887e57",
   "metadata": {
    "ExecuteTime": {
     "end_time": "2021-07-21T01:04:15.258325Z",
     "start_time": "2021-07-21T01:04:15.249337Z"
    }
   },
   "outputs": [
    {
     "data": {
      "text/plain": [
       "{(7, 8, 9), 1, 2, 3, 5, 6}"
      ]
     },
     "execution_count": 17,
     "metadata": {},
     "output_type": "execute_result"
    }
   ],
   "source": [
    "s2.add((7,8,9)) #(7,8,9)라는 튜플이 하나의 요소로서 s2에 추가됨...\n",
    "s2"
   ]
  },
  {
   "cell_type": "code",
   "execution_count": 20,
   "id": "e8a30e4f",
   "metadata": {
    "ExecuteTime": {
     "end_time": "2021-07-21T01:05:21.910191Z",
     "start_time": "2021-07-21T01:05:21.889228Z"
    }
   },
   "outputs": [
    {
     "ename": "TypeError",
     "evalue": "unhashable type: 'list'",
     "output_type": "error",
     "traceback": [
      "\u001b[1;31m---------------------------------------------------------------------------\u001b[0m",
      "\u001b[1;31mTypeError\u001b[0m                                 Traceback (most recent call last)",
      "\u001b[1;32m<ipython-input-20-a3ec00bdb079>\u001b[0m in \u001b[0;36m<module>\u001b[1;34m\u001b[0m\n\u001b[1;32m----> 1\u001b[1;33m \u001b[0ms1\u001b[0m\u001b[1;33m.\u001b[0m\u001b[0madd\u001b[0m\u001b[1;33m(\u001b[0m\u001b[1;33m[\u001b[0m\u001b[1;36m10\u001b[0m\u001b[1;33m,\u001b[0m\u001b[1;36m11\u001b[0m\u001b[1;33m,\u001b[0m\u001b[1;36m12\u001b[0m\u001b[1;33m]\u001b[0m\u001b[1;33m)\u001b[0m \u001b[1;31m# add함수는 list인수 불가\u001b[0m\u001b[1;33m\u001b[0m\u001b[1;33m\u001b[0m\u001b[0m\n\u001b[0m\u001b[0;32m      2\u001b[0m \u001b[0ms1\u001b[0m\u001b[1;33m\u001b[0m\u001b[1;33m\u001b[0m\u001b[0m\n",
      "\u001b[1;31mTypeError\u001b[0m: unhashable type: 'list'"
     ]
    }
   ],
   "source": [
    "s1.add([10,11,12]) # add함수는 list인수 불가\n",
    "s1"
   ]
  },
  {
   "cell_type": "code",
   "execution_count": 8,
   "id": "03098fd9",
   "metadata": {
    "ExecuteTime": {
     "end_time": "2021-07-21T01:05:51.110160Z",
     "start_time": "2021-07-21T01:05:51.105173Z"
    }
   },
   "outputs": [
    {
     "data": {
      "text/plain": [
       "{False, 1, 2, 3, 5, 6}"
      ]
     },
     "execution_count": 8,
     "metadata": {},
     "output_type": "execute_result"
    }
   ],
   "source": [
    "s2.add(False)\n",
    "s2"
   ]
  },
  {
   "cell_type": "code",
   "execution_count": 10,
   "id": "727c3d2a",
   "metadata": {
    "ExecuteTime": {
     "end_time": "2021-07-21T01:06:00.844066Z",
     "start_time": "2021-07-21T01:06:00.834093Z"
    }
   },
   "outputs": [
    {
     "data": {
      "text/plain": [
       "{False, 1, 2, 3, 5, 6}"
      ]
     },
     "execution_count": 10,
     "metadata": {},
     "output_type": "execute_result"
    }
   ],
   "source": [
    "s2.add(0) # 기존의 셋에 False가 존재했고 그에 따라 0이 추가가 불가함(True와 1도 동일)\n",
    "s2"
   ]
  },
  {
   "cell_type": "code",
   "execution_count": 12,
   "id": "f221b0ec",
   "metadata": {
    "ExecuteTime": {
     "end_time": "2021-07-21T01:07:29.634746Z",
     "start_time": "2021-07-21T01:07:29.618780Z"
    }
   },
   "outputs": [
    {
     "data": {
      "text/plain": [
       "{1, 2, 3, 4, 5, 6}"
      ]
     },
     "execution_count": 12,
     "metadata": {},
     "output_type": "execute_result"
    }
   ],
   "source": [
    "s1 = {1,2,3}\n",
    "s1.update([4,5,6,1]) # 셋에 리스트의 요소를 추가할 때 update가 사용되는듯. list의 extend와 동일해 보임.\n",
    "s1"
   ]
  },
  {
   "cell_type": "code",
   "execution_count": 24,
   "id": "f2515c79",
   "metadata": {
    "ExecuteTime": {
     "end_time": "2021-07-21T01:08:38.645799Z",
     "start_time": "2021-07-21T01:08:38.640819Z"
    }
   },
   "outputs": [
    {
     "data": {
      "text/plain": [
       "{1, 2, 3, 4, 5, 6, 'age', 'name'}"
      ]
     },
     "execution_count": 24,
     "metadata": {},
     "output_type": "execute_result"
    }
   ],
   "source": [
    "s1.update({'name':'kim','age':30}) # update, 딕셔너리는 키값만 추가\n",
    "s1"
   ]
  },
  {
   "cell_type": "code",
   "execution_count": 25,
   "id": "db450fb2",
   "metadata": {
    "ExecuteTime": {
     "end_time": "2021-07-21T01:09:07.746257Z",
     "start_time": "2021-07-21T01:09:07.730272Z"
    }
   },
   "outputs": [],
   "source": [
    "s1.remove('name')"
   ]
  },
  {
   "cell_type": "code",
   "execution_count": 26,
   "id": "bb97a150",
   "metadata": {
    "ExecuteTime": {
     "end_time": "2021-07-21T01:09:18.505210Z",
     "start_time": "2021-07-21T01:09:18.497232Z"
    }
   },
   "outputs": [
    {
     "ename": "KeyError",
     "evalue": "'kim'",
     "output_type": "error",
     "traceback": [
      "\u001b[1;31m---------------------------------------------------------------------------\u001b[0m",
      "\u001b[1;31mKeyError\u001b[0m                                  Traceback (most recent call last)",
      "\u001b[1;32m<ipython-input-26-b4cb872c00dc>\u001b[0m in \u001b[0;36m<module>\u001b[1;34m\u001b[0m\n\u001b[1;32m----> 1\u001b[1;33m \u001b[0ms1\u001b[0m\u001b[1;33m.\u001b[0m\u001b[0mremove\u001b[0m\u001b[1;33m(\u001b[0m\u001b[1;34m'kim'\u001b[0m\u001b[1;33m)\u001b[0m\u001b[1;33m\u001b[0m\u001b[1;33m\u001b[0m\u001b[0m\n\u001b[0m",
      "\u001b[1;31mKeyError\u001b[0m: 'kim'"
     ]
    }
   ],
   "source": [
    "s1.remove('kim') # 없는 데이터를 remove할 경우 에러"
   ]
  },
  {
   "cell_type": "code",
   "execution_count": null,
   "id": "e2f7fdf0",
   "metadata": {},
   "outputs": [],
   "source": [
    "s1 = {1,2,3,4,5,6}\n",
    "s2 = {4,5,6,7,8,9}\n",
    "print('s1 = ', s1)\n",
    "print('s2 = ', s2)\n",
    "print('교집합 = ', s1 & s2) # & : 교집합, and 논리연산자, 비트연산자\n",
    "print('합집합 = ', s1 | s2)\n",
    "print('차집합 = ', s1 - s2)"
   ]
  },
  {
   "cell_type": "code",
   "execution_count": 12,
   "id": "64f5b655",
   "metadata": {
    "ExecuteTime": {
     "end_time": "2021-07-22T07:51:29.388497Z",
     "start_time": "2021-07-22T07:51:29.377497Z"
    }
   },
   "outputs": [
    {
     "name": "stdout",
     "output_type": "stream",
     "text": [
      "{'Choo', 'Yuna', 'IU'}\n"
     ]
    }
   ],
   "source": [
    "name = {'Yuna', 'Choo', 'IU'}\n",
    "print(name)"
   ]
  },
  {
   "cell_type": "code",
   "execution_count": 28,
   "id": "c873d8a1",
   "metadata": {
    "ExecuteTime": {
     "end_time": "2021-07-21T01:14:30.843306Z",
     "start_time": "2021-07-21T01:14:30.832347Z"
    }
   },
   "outputs": [
    {
     "name": "stdout",
     "output_type": "stream",
     "text": [
      "IU\t\tChoo\t\tYuna\t\t"
     ]
    }
   ],
   "source": [
    "for n in name:\n",
    "    print(n,end='\\t\\t') # enumerate를 사용하기 전 for로 set의 요소들을 출력했을 때 "
   ]
  },
  {
   "cell_type": "code",
   "execution_count": null,
   "id": "265f8071",
   "metadata": {},
   "outputs": [],
   "source": [
    "# 5절. enumerate\n",
    "    - 반복자 또는 순서 객체로 반복문을 처리할 때 인덱스 처리를 해결하는 함수\n",
    "    # 셋에서 1번째 원소, 2번째 원소 등을 선택?\n",
    "    # 딕셔너리에서도? 리스트에서도?\n",
    "# Return an enumerate object. iterable must be a sequence, an iterator, or some other object which supports iteration. \n",
    "# The __next__() method of the iterator returned by enumerate() returns a tuple containing a count \n",
    "# (from start which defaults to 0) and the values obtained from iterating over iterable.\n",
    "\n",
    "# seasons = ['Spring', 'Summer', 'Fall', 'Winter']\n",
    "# list(enumerate(seasons))\n",
    "# [(0, 'Spring'), (1, 'Summer'), (2, 'Fall'), (3, 'Winter')]\n",
    "# list(enumerate(seasons, start=1))\n",
    "# [(1, 'Spring'), (2, 'Summer'), (3, 'Fall'), (4, 'Winter')]"
   ]
  },
  {
   "cell_type": "code",
   "execution_count": 14,
   "id": "a5844e48",
   "metadata": {
    "ExecuteTime": {
     "end_time": "2021-07-22T07:51:31.915580Z",
     "start_time": "2021-07-22T07:51:31.902585Z"
    }
   },
   "outputs": [
    {
     "data": {
      "text/plain": [
       "[(0, 'Choo'), (1, 'Yuna'), (2, 'IU')]"
      ]
     },
     "execution_count": 14,
     "metadata": {},
     "output_type": "execute_result"
    }
   ],
   "source": [
    "list(enumerate(name))\n",
    "    # enumerate(name)만 실행했을 때의 반환되는 결과 : <enumerate at 0x1f08bf70180>"
   ]
  },
  {
   "cell_type": "code",
   "execution_count": 15,
   "id": "050bf9f1",
   "metadata": {
    "ExecuteTime": {
     "end_time": "2021-07-21T01:20:49.674092Z",
     "start_time": "2021-07-21T01:20:49.665095Z"
    }
   },
   "outputs": [
    {
     "name": "stdout",
     "output_type": "stream",
     "text": [
      "0번째 : Choo\n",
      "1번째 : Yuna\n",
      "2번째 : IU\n"
     ]
    }
   ],
   "source": [
    "for idx, data in enumerate(name):\n",
    "    print(\"{}번째 : {}\".format(idx,data))"
   ]
  },
  {
   "cell_type": "code",
   "execution_count": 17,
   "id": "60656a47",
   "metadata": {},
   "outputs": [
    {
     "name": "stdout",
     "output_type": "stream",
     "text": [
      "1\n",
      "1\n",
      "1\n"
     ]
    }
   ],
   "source": [
    "for i in [0,1,2]:\n",
    "    print(1)# range(len(L)) <= range(3) <= [0:3]"
   ]
  },
  {
   "cell_type": "code",
   "execution_count": 35,
   "id": "23622db0",
   "metadata": {
    "ExecuteTime": {
     "end_time": "2021-07-21T01:40:50.789793Z",
     "start_time": "2021-07-21T01:40:50.782790Z"
    }
   },
   "outputs": [
    {
     "name": "stdout",
     "output_type": "stream",
     "text": [
      "0번째 : 길자\n",
      "1번째 : 순자\n",
      "2번째 : 길동\n"
     ]
    }
   ],
   "source": [
    "L = ['길자', '순자', '길동']\n",
    "for idx in range(len(L)): # range(len(L)) <= range(3) <= [0:3]\n",
    "    print(\"{}번째 : {}\".format(idx, L[idx]))"
   ]
  },
  {
   "cell_type": "code",
   "execution_count": 6,
   "id": "aba95bdc",
   "metadata": {
    "ExecuteTime": {
     "end_time": "2021-07-22T07:56:48.105027Z",
     "start_time": "2021-07-22T07:56:48.095053Z"
    }
   },
   "outputs": [
    {
     "name": "stdout",
     "output_type": "stream",
     "text": [
      "0 : 길자\n",
      "1 : 순자\n",
      "2 : 길동\n"
     ]
    }
   ],
   "source": [
    "for idx, name in enumerate(L):\n",
    "    print(\"{} : {}\".format(idx, name)) # 위에보다 약간 더 단순^^;"
   ]
  },
  {
   "cell_type": "code",
   "execution_count": 19,
   "id": "2076c48d",
   "metadata": {
    "ExecuteTime": {
     "end_time": "2021-07-21T01:45:36.403760Z",
     "start_time": "2021-07-21T01:45:36.398773Z"
    }
   },
   "outputs": [
    {
     "data": {
      "text/plain": [
       "dict_items([('name', '홍길동'), ('age', 35), ('address', '서울시 마포구')])"
      ]
     },
     "execution_count": 19,
     "metadata": {},
     "output_type": "execute_result"
    }
   ],
   "source": [
    "dic = {'name':'홍길동', 'age':35, 'address':'서울시 마포구'}\n",
    "dic.items()"
   ]
  },
  {
   "cell_type": "code",
   "execution_count": 45,
   "id": "8dbcf1c4",
   "metadata": {
    "ExecuteTime": {
     "end_time": "2021-07-21T01:46:10.518274Z",
     "start_time": "2021-07-21T01:46:10.509278Z"
    }
   },
   "outputs": [
    {
     "name": "stdout",
     "output_type": "stream",
     "text": [
      "name : 홍길동\n",
      "age : 35\n",
      "address : 서울시 마포구\n"
     ]
    }
   ],
   "source": [
    "for key, value in dic.items():\n",
    "    print(\"{} : {}\".format(key, value))"
   ]
  },
  {
   "cell_type": "code",
   "execution_count": 46,
   "id": "e4d9421b",
   "metadata": {
    "ExecuteTime": {
     "end_time": "2021-07-21T01:46:46.693199Z",
     "start_time": "2021-07-21T01:46:46.685220Z"
    }
   },
   "outputs": [
    {
     "data": {
      "text/plain": [
       "dict_items([('name', '홍길동'), ('age', 35), ('address', '서울시 마포구')])"
      ]
     },
     "execution_count": 46,
     "metadata": {},
     "output_type": "execute_result"
    }
   ],
   "source": [
    "dic.items()"
   ]
  },
  {
   "cell_type": "code",
   "execution_count": 48,
   "id": "5ca79911",
   "metadata": {
    "ExecuteTime": {
     "end_time": "2021-07-21T01:47:07.846977Z",
     "start_time": "2021-07-21T01:47:07.838024Z"
    }
   },
   "outputs": [
    {
     "data": {
      "text/plain": [
       "[(0, ('name', '홍길동')), (1, ('age', 35)), (2, ('address', '서울시 마포구'))]"
      ]
     },
     "execution_count": 48,
     "metadata": {},
     "output_type": "execute_result"
    }
   ],
   "source": [
    "list(enumerate(dic.items()))"
   ]
  },
  {
   "cell_type": "code",
   "execution_count": 50,
   "id": "3edcf716",
   "metadata": {
    "ExecuteTime": {
     "end_time": "2021-07-21T01:49:07.473982Z",
     "start_time": "2021-07-21T01:49:07.468995Z"
    }
   },
   "outputs": [
    {
     "name": "stdout",
     "output_type": "stream",
     "text": [
      "0번째 name키 값은 홍길동\n",
      "1번째 age키 값은 35\n",
      "2번째 address키 값은 서울시 마포구\n"
     ]
    }
   ],
   "source": [
    "for idx, (key, value) in enumerate(dic.items()): # key, value에 괄호를 안붙였을 때 오류발생\n",
    "                                                 # key, value는 enumerate함수의 반환값이고 idx는 for문에서 별도로 새롭게 부여하는 값이기 때문인듯.\n",
    "    print(\"{}번째 {}키 값은 {}\".format(idx, key, value))"
   ]
  },
  {
   "cell_type": "code",
   "execution_count": 20,
   "id": "6cf336b5",
   "metadata": {},
   "outputs": [
    {
     "name": "stdout",
     "output_type": "stream",
     "text": [
      "(0, ('name', '홍길동'))\n",
      "(1, ('age', 35))\n",
      "(2, ('address', '서울시 마포구'))\n"
     ]
    }
   ],
   "source": [
    "for i in enumerate(dic.items()): # 위 셀에서의 결과를 이해하기 위해. :)\n",
    "    print(i)"
   ]
  }
 ],
 "metadata": {
  "kernelspec": {
   "display_name": "Python 3 (ipykernel)",
   "language": "python",
   "name": "python3"
  },
  "language_info": {
   "codemirror_mode": {
    "name": "ipython",
    "version": 3
   },
   "file_extension": ".py",
   "mimetype": "text/x-python",
   "name": "python",
   "nbconvert_exporter": "python",
   "pygments_lexer": "ipython3",
   "version": "3.9.7"
  },
  "toc": {
   "base_numbering": 1,
   "nav_menu": {},
   "number_sections": true,
   "sideBar": true,
   "skip_h1_title": false,
   "title_cell": "Table of Contents",
   "title_sidebar": "Contents",
   "toc_cell": false,
   "toc_position": {},
   "toc_section_display": true,
   "toc_window_display": false
  },
  "varInspector": {
   "cols": {
    "lenName": 16,
    "lenType": 16,
    "lenVar": 40
   },
   "kernels_config": {
    "python": {
     "delete_cmd_postfix": "",
     "delete_cmd_prefix": "del ",
     "library": "var_list.py",
     "varRefreshCmd": "print(var_dic_list())"
    },
    "r": {
     "delete_cmd_postfix": ") ",
     "delete_cmd_prefix": "rm(",
     "library": "var_list.r",
     "varRefreshCmd": "cat(var_dic_list()) "
    }
   },
   "types_to_exclude": [
    "module",
    "function",
    "builtin_function_or_method",
    "instance",
    "_Feature"
   ],
   "window_display": false
  }
 },
 "nbformat": 4,
 "nbformat_minor": 5
}
