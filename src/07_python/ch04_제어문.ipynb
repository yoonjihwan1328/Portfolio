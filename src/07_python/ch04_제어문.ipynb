{
 "cells": [
  {
   "cell_type": "markdown",
   "id": "7a861f63",
   "metadata": {
    "ExecuteTime": {
     "end_time": "2021-07-21T03:10:58.715111Z",
     "start_time": "2021-07-21T03:10:58.708130Z"
    }
   },
   "source": [
    "<b><font size=\"6\" color=\"red\">ch04. 제어문</font></b>\n",
    "- if문, for-in문, while문, 중첩가능, 중첩루프탈출"
   ]
  },
  {
   "cell_type": "code",
   "execution_count": 1,
   "id": "223d18bc",
   "metadata": {
    "ExecuteTime": {
     "end_time": "2021-07-28T17:55:48.513041Z",
     "start_time": "2021-07-28T17:55:45.437386Z"
    }
   },
   "outputs": [
    {
     "name": "stdout",
     "output_type": "stream",
     "text": [
      "Enter your score > 88\n"
     ]
    },
    {
     "data": {
      "text/plain": [
       "'88'"
      ]
     },
     "execution_count": 1,
     "metadata": {},
     "output_type": "execute_result"
    }
   ],
   "source": [
    "score = input('Enter your score > ')\n",
    "score"
   ]
  },
  {
   "cell_type": "code",
   "execution_count": 2,
   "id": "72d7aa8e",
   "metadata": {
    "ExecuteTime": {
     "end_time": "2021-07-28T17:55:52.259205Z",
     "start_time": "2021-07-28T17:55:52.243213Z"
    }
   },
   "outputs": [
    {
     "data": {
      "text/plain": [
       "str"
      ]
     },
     "execution_count": 2,
     "metadata": {},
     "output_type": "execute_result"
    }
   ],
   "source": [
    "type(score)"
   ]
  },
  {
   "cell_type": "code",
   "execution_count": 3,
   "id": "50f2fd87",
   "metadata": {
    "ExecuteTime": {
     "end_time": "2021-07-28T17:55:54.350837Z",
     "start_time": "2021-07-28T17:55:54.328894Z"
    }
   },
   "outputs": [
    {
     "data": {
      "text/plain": [
       "False"
      ]
     },
     "execution_count": 3,
     "metadata": {},
     "output_type": "execute_result"
    }
   ],
   "source": [
    "score > '9'\n",
    "# input받은 데이터는 string타입을 가짐!\n",
    "# 문자끼리 비교할때는 50의 앞자리 5와 9의 아스키코드로(?) 비교하기 때문에 50보다 9가 작다고 판정"
   ]
  },
  {
   "cell_type": "code",
   "execution_count": 4,
   "id": "78eaaa84",
   "metadata": {
    "ExecuteTime": {
     "end_time": "2021-07-28T17:55:59.863110Z",
     "start_time": "2021-07-28T17:55:57.388807Z"
    }
   },
   "outputs": [
    {
     "name": "stdout",
     "output_type": "stream",
     "text": [
      "Enter your score > 88\n",
      "분발하세요\n",
      "점수를 입력받아 잘한 사람에게 메세지를 출력\n"
     ]
    }
   ],
   "source": [
    "score = int(input('Enter your score > '))\n",
    "if score >= 90 :\n",
    "    print('참 잘했어요')\n",
    "    print('다음에도 기대할게요')\n",
    "else:\n",
    "    print('분발하세요')\n",
    "print('점수를 입력받아 잘한 사람에게 메세지를 출력')"
   ]
  },
  {
   "cell_type": "code",
   "execution_count": 5,
   "id": "36de510b",
   "metadata": {
    "ExecuteTime": {
     "end_time": "2021-07-28T17:56:05.444677Z",
     "start_time": "2021-07-28T17:56:02.485489Z"
    }
   },
   "outputs": [
    {
     "name": "stdout",
     "output_type": "stream",
     "text": [
      "Enter your score : 77\n",
      "입력하신 점수는 77점이고, C등급\n"
     ]
    }
   ],
   "source": [
    "# 점수 입력받아 학점출력(A,B,C,D,F, 유효하지 않은 점수)\n",
    "score = int(input('Enter your score : '))\n",
    "# if (score>=90) & (score<=100):\n",
    "#    grade = 'A'\n",
    "if 90 <= score <= 100:\n",
    "    grade = 'A'\n",
    "elif 80 <= score < 90:\n",
    "    grade = 'B'\n",
    "elif 70 <= score < 80:\n",
    "    grade = 'C'\n",
    "elif 60 <= score < 70:\n",
    "    grade = 'D'\n",
    "elif 0 <= score < 60:\n",
    "    grade = 'F'\n",
    "else:\n",
    "    grade = '유효하지 않은 점수'\n",
    "print(\"입력하신 점수는 {}점이고, {}등급\".format(score, grade)) \n",
    "# 자바에서는 grade가 로컬변수로 인식되 블록 바깥에서는 작동하지 않았지만 파이썬에서는 작동함."
   ]
  },
  {
   "cell_type": "markdown",
   "id": "2f6a6054",
   "metadata": {},
   "source": [
    "# 2절. 반복문"
   ]
  },
  {
   "cell_type": "markdown",
   "id": "f9af2722",
   "metadata": {
    "ExecuteTime": {
     "end_time": "2021-07-21T03:40:12.807211Z",
     "start_time": "2021-07-21T03:40:12.797259Z"
    }
   },
   "source": [
    "## 2.1 for -in문\n",
    "```\n",
    "for 변수 in 나열가능한 자료 :\n",
    "    반복할 문장1\n",
    "    반복할 문장2\n",
    "else: # (else 구문은 선택사항)\n",
    "    변수에 값이 할당되지 않은 경우에 한 번 실행할 문장\n",
    "```"
   ]
  },
  {
   "cell_type": "code",
   "execution_count": 6,
   "id": "c71e2087",
   "metadata": {
    "ExecuteTime": {
     "end_time": "2021-07-28T17:56:08.656373Z",
     "start_time": "2021-07-28T17:56:08.644407Z"
    }
   },
   "outputs": [
    {
     "name": "stdout",
     "output_type": "stream",
     "text": [
      "1\t3\t5\t7\t9\t\n",
      "DONE\n",
      "END\n"
     ]
    }
   ],
   "source": [
    "for i in range(1, 10, 2):\n",
    "    print(i ,end='\\t')\n",
    "else:\n",
    "    print('\\nDONE')\n",
    "print('END')\n",
    "# for ~ else 의 형태로 사용할 일이 있나?\n",
    "#         -> 바로 아래 2.2와 같이 사용할 수 있음;;;\n",
    "# 둘 다 항상 실행되는 건가?"
   ]
  },
  {
   "cell_type": "markdown",
   "id": "12f8be2d",
   "metadata": {},
   "source": [
    "## 2.2 while문\n",
    "```\n",
    "while 조건 : \n",
    "    반복할 문장1\n",
    "    반복할 문장2\n",
    "else:\n",
    "    조건이 거짓일 경우 한 번 실행할 문장(else구문 선택사항)\n",
    "```"
   ]
  },
  {
   "cell_type": "code",
   "execution_count": 7,
   "id": "4dbab447",
   "metadata": {
    "ExecuteTime": {
     "end_time": "2021-07-28T17:56:11.477650Z",
     "start_time": "2021-07-28T17:56:11.464689Z"
    }
   },
   "outputs": [
    {
     "name": "stdout",
     "output_type": "stream",
     "text": [
      "1~100까지 짝수의 합은 2550\n"
     ]
    }
   ],
   "source": [
    "# 1부터 100까지 짝수의 합을 계산하고 출력하시오\n",
    "sum = 0\n",
    "i = 1\n",
    "while i <= 100 :\n",
    "    if i%2 == 0:\n",
    "        sum = sum + i\n",
    "    i += 1\n",
    "else:\n",
    "    # print(\"i값이 {}\".format(i))\n",
    "    # print(f'1~100사이 짝수의 합은 {sum}')\n",
    "    pass\n",
    "    # 아무 명령도 없으면 안됨. 동작을 지정하고 싶지 않으면, pass라도 입력! \n",
    "print('1~100까지 짝수의 합은', sum)"
   ]
  },
  {
   "cell_type": "markdown",
   "id": "d6b28d3f",
   "metadata": {},
   "source": [
    "## 2.3 break, continue"
   ]
  },
  {
   "cell_type": "code",
   "execution_count": 11,
   "id": "8ccaaa58",
   "metadata": {
    "ExecuteTime": {
     "end_time": "2021-07-27T23:29:48.087466Z",
     "start_time": "2021-07-27T23:29:48.075501Z"
    }
   },
   "outputs": [
    {
     "name": "stdout",
     "output_type": "stream",
     "text": [
      "1\n",
      "2\n",
      "4\n",
      "5\n",
      "6\n",
      "7\n",
      "8\n",
      "9\n",
      "10\n"
     ]
    }
   ],
   "source": [
    "num = 0\n",
    "while num < 10:\n",
    "    num += 1\n",
    "    if num ==3:\n",
    "#        break;\n",
    "        continue;\n",
    "    print(num)\n",
    "# break를 활성화 하면 1,2 출력 / countibue를 활성화하면 3을 건너뛰고 10까지 출력"
   ]
  },
  {
   "cell_type": "code",
   "execution_count": 9,
   "id": "70e5d106",
   "metadata": {
    "ExecuteTime": {
     "end_time": "2021-07-28T18:01:03.832416Z",
     "start_time": "2021-07-28T18:01:03.822443Z"
    }
   },
   "outputs": [
    {
     "data": {
      "text/plain": [
       "16"
      ]
     },
     "execution_count": 9,
     "metadata": {},
     "output_type": "execute_result"
    }
   ],
   "source": [
    "# 숫자 찾기 게임\n",
    "'''\n",
    "1~100사이의 숫자를 맞추는 프로그램을 구현하시오\n",
    "(프로그램 안에서 임의의 숫자가 만들어지고, 그 숫자를 맞추도록 합니다.)\n",
    "방법 1. 숫자가 틀리면 up, down을 알려주고 숫자를 맞추면 종료\n",
    "방법 2. 숫자가 틀리면 min~max 사이의 수를 알려주고 숫자를 맞추면 종료합니다.\n",
    "\n",
    "'''\n",
    "import random\n",
    "# random.seed(21)     # seed값을 일치시키면 다시 실행하더라도 같은 값이 도출된다.\n",
    "random.randint(1,100)"
   ]
  },
  {
   "cell_type": "code",
   "execution_count": 22,
   "id": "87a30308",
   "metadata": {
    "ExecuteTime": {
     "end_time": "2021-07-28T18:38:41.037782Z",
     "start_time": "2021-07-28T18:38:25.450330Z"
    }
   },
   "outputs": [
    {
     "name": "stdout",
     "output_type": "stream",
     "text": [
      "22\n",
      "1~100사이의 수를 맞춰 보세요56\n",
      "보다 작은 수를 입력하세요\n",
      "1~100사이의 수를 맞춰 보세요34\n",
      "보다 작은 수를 입력하세요\n",
      "1~100사이의 수를 맞춰 보세요23\n",
      "보다 작은 수를 입력하세요\n",
      "1~100사이의 수를 맞춰 보세요17\n",
      "보다 큰 수를 입력하세요\n",
      "1~100사이의 수를 맞춰 보세요21\n",
      "보다 큰 수를 입력하세요\n",
      "1~100사이의 수를 맞춰 보세요22\n",
      "축하합니다\n"
     ]
    }
   ],
   "source": [
    "# 모범답안 1 ##### 메세지를 반환할 때 범위를 줄여주지 않음.\n",
    "import random\n",
    "randomNum = random.randint(1,100) # 컴퓨터가 생성한 임의의 수\n",
    "inputNum = 0 # 사용자가 선택한 수\n",
    "print(randomNum)\n",
    "while randomNum != inputNum :\n",
    "# while True와의 차이!\n",
    "    inputNum = int(input('1~100사이의 수를 맞춰 보세요'))\n",
    "    if randomNum < inputNum:\n",
    "        print('보다 작은 수를 입력하세요')\n",
    "    elif randomNum > inputNum:\n",
    "        print('보다 큰 수를 입력하세요')\n",
    "    else :\n",
    "        print('축하합니다')"
   ]
  },
  {
   "cell_type": "code",
   "execution_count": 24,
   "id": "8d973843",
   "metadata": {
    "ExecuteTime": {
     "end_time": "2021-07-28T18:42:22.975683Z",
     "start_time": "2021-07-28T18:42:09.739175Z"
    }
   },
   "outputs": [
    {
     "name": "stdout",
     "output_type": "stream",
     "text": [
      "32\n",
      "1~100사이의 수를 입력하세요 : 55\n",
      "1~54사이의 수를 입력하세요 : 33\n",
      "1~32사이의 수를 입력하세요 : 18\n",
      "19~32사이의 수를 입력하세요 : 25\n",
      "26~32사이의 수를 입력하세요 : 32\n",
      "축하합니다\n"
     ]
    }
   ],
   "source": [
    "# 모범답안 2 #####\n",
    "import random\n",
    "randomNum = random.randint(1,100) # 컴퓨터가 생성한 임의의 수\n",
    "inputNum = 0 # 사용자가 선택한 수\n",
    "min = 1\n",
    "max = 100\n",
    "print(randomNum)\n",
    "while randomNum != inputNum :      # True의 기준이 무엇인지 항상 궁금..ㅠ\n",
    "                                    # 조건이 True일 때 무한 반복하는 제어문이므로\n",
    "                                            # 무조건 반복시키고  break로 빠져나가는건가?\n",
    "    print(\"{}~{}사이의 수를 입력하세요\".format(min, max), end=' : ')\n",
    "    inputNum = int(input())\n",
    "    if randomNum < inputNum:\n",
    "        max = inputNum - 1\n",
    "    elif randomNum > inputNum:\n",
    "        min = inputNum + 1\n",
    "    else :\n",
    "        print('축하합니다')"
   ]
  },
  {
   "cell_type": "code",
   "execution_count": 25,
   "id": "355c6deb",
   "metadata": {
    "ExecuteTime": {
     "end_time": "2021-07-28T18:42:50.619760Z",
     "start_time": "2021-07-28T18:42:38.435900Z"
    }
   },
   "outputs": [
    {
     "name": "stdout",
     "output_type": "stream",
     "text": [
      "72\n",
      "1~100사이의 수를 입력하세요 : 58\n",
      "59~100사이의 수를 입력하세요 : 77\n",
      "59~76사이의 수를 입력하세요 : 65\n",
      "66~76사이의 수를 입력하세요 : 72\n",
      "축하합니다\n"
     ]
    }
   ],
   "source": [
    "# 모범답안 3 #####\n",
    "import random\n",
    "randomNum = random.randint(1,100) # 컴퓨터가 생성한 임의의 수\n",
    "min = 1\n",
    "max = 100\n",
    "print(randomNum)\n",
    "while True:\n",
    "# while randomNum != inputNum : # 사용하려면 inputNum=0과 같이 미리 선언해야함!\n",
    "    print(\"{}~{}사이의 수를 입력하세요\".format(min, max), end=' : ')\n",
    "    inputNum = int(input())\n",
    "    if randomNum < inputNum:\n",
    "        max = inputNum - 1\n",
    "    elif randomNum > inputNum:\n",
    "        min = inputNum + 1\n",
    "    else :\n",
    "        break\n",
    "print('축하합니다')"
   ]
  },
  {
   "cell_type": "markdown",
   "id": "aee37ea5",
   "metadata": {
    "ExecuteTime": {
     "end_time": "2021-07-21T05:39:46.089362Z",
     "start_time": "2021-07-21T05:34:50.974Z"
    }
   },
   "source": [
    "# 3절. 중첩루프 : 반복문 안에 반복문"
   ]
  },
  {
   "cell_type": "markdown",
   "id": "549e94b0",
   "metadata": {
    "ExecuteTime": {
     "end_time": "2021-07-21T05:39:46.092354Z",
     "start_time": "2021-07-21T05:35:47.143Z"
    }
   },
   "source": [
    "# 4절. 중첩루프 탈출"
   ]
  },
  {
   "cell_type": "code",
   "execution_count": 29,
   "id": "72acabe1",
   "metadata": {
    "ExecuteTime": {
     "end_time": "2021-07-28T18:49:58.800226Z",
     "start_time": "2021-07-28T18:49:58.791290Z"
    }
   },
   "outputs": [
    {
     "name": "stdout",
     "output_type": "stream",
     "text": [
      "0 1\n",
      "0 2\n",
      "2 1\n"
     ]
    }
   ],
   "source": [
    "#\n",
    "for a in range(3):           # a <= 0, 1, 2\n",
    "# for a in [0,1,2]\n",
    "# for a in range(0,3)\n",
    "    for b in range(1,3):     # b <= 1, 2\n",
    "        if a==b:\n",
    "            break;\n",
    "        print(a, b)           # a=1, b=1일 때, if조건이 만족해 break가 걸리고 안쪽 for문은 바져나가고\n",
    "                              # 바깥 for문이 걸리기 때문에 a=2인 조건을 검토한다(a=1, b=2인 조합이 생략됨)"
   ]
  },
  {
   "cell_type": "code",
   "execution_count": 8,
   "id": "b281fc0b",
   "metadata": {
    "ExecuteTime": {
     "end_time": "2021-07-28T18:58:40.060809Z",
     "start_time": "2021-07-28T18:58:40.053825Z"
    }
   },
   "outputs": [
    {
     "name": "stdout",
     "output_type": "stream",
     "text": [
      "0 1\n",
      "0 2\n"
     ]
    }
   ],
   "source": [
    "# break를 만나면 바깥쪽 반복문을 탈출 : 방법1. 플래그 변수이용\n",
    "break_out_flag = False\n",
    "for a in range(3):           # a <= 0,1,2\n",
    "    for b in range(1,3):     # b <= 1,2\n",
    "        if a==b:\n",
    "            break_out_flag = True\n",
    "            break\n",
    "        print(a, b)\n",
    "    if break_out_flag:\n",
    "        break\n",
    "# 플래그 변수 나중에 서버데이터 '삭제'에서 이용하던데 같은 원리인가?"
   ]
  },
  {
   "cell_type": "code",
   "execution_count": 9,
   "id": "3f3a3ec0",
   "metadata": {
    "ExecuteTime": {
     "end_time": "2021-07-28T18:59:27.561860Z",
     "start_time": "2021-07-28T18:59:27.551888Z"
    }
   },
   "outputs": [],
   "source": [
    "# break를 만나면 바깥쪽 반복문을 탈출 : 방법2. Exception 이용\n",
    "class BreakOutLoop(Exception) :\n",
    "    pass # 아무것도 추가하지 않겠다."
   ]
  },
  {
   "cell_type": "code",
   "execution_count": 12,
   "id": "61f20f30",
   "metadata": {
    "ExecuteTime": {
     "end_time": "2021-07-28T19:00:20.826933Z",
     "start_time": "2021-07-28T19:00:20.810974Z"
    }
   },
   "outputs": [
    {
     "name": "stdout",
     "output_type": "stream",
     "text": [
      "0 1\n",
      "0 2\n",
      "a와 b가 같아지면 예외 발생하고 이 메세지가 뿌려짐\n"
     ]
    }
   ],
   "source": [
    "try:                               # 예외가 발생할 수 있는 구문을 try로 감쌈\n",
    "    for a in range(3) :            # 예외가 발생하지 않으면 try이하 수행\n",
    "        for b in range(1, 3) :     \n",
    "            if a==b:\n",
    "                raise BreakOutLoop\n",
    "            print(a, b)\n",
    "except BreakOutLoop:\n",
    "    print('a와 b가 같아지면 예외 발생하고 이 메세지가 뿌려짐')"
   ]
  }
 ],
 "metadata": {
  "kernelspec": {
   "display_name": "Python 3",
   "language": "python",
   "name": "python3"
  },
  "language_info": {
   "codemirror_mode": {
    "name": "ipython",
    "version": 3
   },
   "file_extension": ".py",
   "mimetype": "text/x-python",
   "name": "python",
   "nbconvert_exporter": "python",
   "pygments_lexer": "ipython3",
   "version": "3.8.8"
  },
  "toc": {
   "base_numbering": "2",
   "nav_menu": {},
   "number_sections": true,
   "sideBar": true,
   "skip_h1_title": false,
   "title_cell": "Table of Contents",
   "title_sidebar": "Contents",
   "toc_cell": false,
   "toc_position": {},
   "toc_section_display": true,
   "toc_window_display": true
  },
  "varInspector": {
   "cols": {
    "lenName": 16,
    "lenType": 16,
    "lenVar": 40
   },
   "kernels_config": {
    "python": {
     "delete_cmd_postfix": "",
     "delete_cmd_prefix": "del ",
     "library": "var_list.py",
     "varRefreshCmd": "print(var_dic_list())"
    },
    "r": {
     "delete_cmd_postfix": ") ",
     "delete_cmd_prefix": "rm(",
     "library": "var_list.r",
     "varRefreshCmd": "cat(var_dic_list()) "
    }
   },
   "types_to_exclude": [
    "module",
    "function",
    "builtin_function_or_method",
    "instance",
    "_Feature"
   ],
   "window_display": false
  }
 },
 "nbformat": 4,
 "nbformat_minor": 5
}
