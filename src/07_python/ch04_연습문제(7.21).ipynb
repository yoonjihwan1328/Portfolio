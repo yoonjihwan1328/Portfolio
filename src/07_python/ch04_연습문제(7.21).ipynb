{
 "cells": [
  {
   "cell_type": "code",
   "execution_count": null,
   "id": "349ee210",
   "metadata": {
    "ExecuteTime": {
     "end_time": "2021-07-21T05:57:45.756961Z",
     "start_time": "2021-07-21T05:57:45.751980Z"
    }
   },
   "outputs": [],
   "source": [
    "# 1. 다음 코드는 1부터 30까지(30포함) 자연수 중에서 3의 배수의 총 합 을 출력하는 프로그램입니다. \n",
    "# 빈칸의 코드를 완성하시오."
   ]
  },
  {
   "cell_type": "code",
   "execution_count": 2,
   "id": "32a8fab4",
   "metadata": {
    "ExecuteTime": {
     "end_time": "2021-07-21T05:59:16.058617Z",
     "start_time": "2021-07-21T05:59:16.044660Z"
    }
   },
   "outputs": [
    {
     "name": "stdout",
     "output_type": "stream",
     "text": [
      "165\n"
     ]
    }
   ],
   "source": [
    "sum = 0\n",
    "for i in range(31) :\n",
    "    if i % 3 == 0 :\n",
    "        sum = sum + i\n",
    "    else : \n",
    "        pass\n",
    "print(sum)"
   ]
  },
  {
   "cell_type": "code",
   "execution_count": null,
   "id": "80b582bd",
   "metadata": {},
   "outputs": [],
   "source": [
    "# 2. 다음 코드의 실행결과가 “1 3 5 7 9”가 되도록 빈칸을 완성하시오"
   ]
  },
  {
   "cell_type": "code",
   "execution_count": 4,
   "id": "130a4a29",
   "metadata": {
    "ExecuteTime": {
     "end_time": "2021-07-21T06:00:50.944767Z",
     "start_time": "2021-07-21T06:00:50.932759Z"
    }
   },
   "outputs": [
    {
     "name": "stdout",
     "output_type": "stream",
     "text": [
      "1 3 5 7 9 "
     ]
    }
   ],
   "source": [
    "num = 0\n",
    "while num <= 10 :\n",
    "    if num % 2 == 1:\n",
    "        print(num, end=' ')\n",
    "    num += 1"
   ]
  },
  {
   "cell_type": "code",
   "execution_count": null,
   "id": "f6e0d4a0",
   "metadata": {},
   "outputs": [],
   "source": [
    "# 3. 다음 2차원 리스트의 모든 값을 출력하는 코드입니다. 빈칸을 완성하시오."
   ]
  },
  {
   "cell_type": "code",
   "execution_count": 7,
   "id": "d1d78e8f",
   "metadata": {
    "ExecuteTime": {
     "end_time": "2021-09-09T07:49:51.914306Z",
     "start_time": "2021-09-09T07:49:51.908330Z"
    }
   },
   "outputs": [
    {
     "name": "stdout",
     "output_type": "stream",
     "text": [
      "1 2 3 \n",
      "4 5 6 7 \n",
      "8 9 \n"
     ]
    }
   ],
   "source": [
    "list2d = [[1,2,3],[4,5,6,7],[8,9]]\n",
    "for row in list2d:\n",
    "    for data in row:\n",
    "        print(data, end=' ')\n",
    "    print()"
   ]
  },
  {
   "cell_type": "code",
   "execution_count": null,
   "id": "68e003fc",
   "metadata": {},
   "outputs": [],
   "source": [
    "# 4. 다음 빈칸에 들어갈 함수 이름은?"
   ]
  },
  {
   "cell_type": "code",
   "execution_count": 12,
   "id": "13bb4d3c",
   "metadata": {
    "ExecuteTime": {
     "end_time": "2021-07-21T06:09:35.506280Z",
     "start_time": "2021-07-21T06:09:35.491308Z"
    }
   },
   "outputs": [
    {
     "name": "stdout",
     "output_type": "stream",
     "text": [
      "0 apple\n",
      "1 banana\n"
     ]
    }
   ],
   "source": [
    "colors = {\"red\":'apple', \"yellow\":'banana'}\n",
    "for i, v in list(enumerate(colors.values())): # key, value 모두 출력하고 싶다면 colors.items()사용\n",
    "    print(i, v)"
   ]
  },
  {
   "cell_type": "code",
   "execution_count": 11,
   "id": "90407729",
   "metadata": {
    "ExecuteTime": {
     "end_time": "2021-09-09T07:52:57.265971Z",
     "start_time": "2021-09-09T07:52:57.252978Z"
    }
   },
   "outputs": [
    {
     "name": "stdout",
     "output_type": "stream",
     "text": [
      "1 0\n"
     ]
    }
   ],
   "source": [
    "# 5.\n",
    "for i in range(0,2):\n",
    "    for j in range(0,2):\n",
    "        if i==j:\n",
    "            break\n",
    "        print(i, j)"
   ]
  },
  {
   "cell_type": "code",
   "execution_count": null,
   "id": "b43f87f8",
   "metadata": {},
   "outputs": [],
   "source": [
    "# 6 다음 코드의 실행 결과는?"
   ]
  },
  {
   "cell_type": "code",
   "execution_count": 10,
   "id": "0f18d9eb",
   "metadata": {
    "ExecuteTime": {
     "end_time": "2021-09-09T07:51:15.632129Z",
     "start_time": "2021-09-09T07:51:15.620163Z"
    }
   },
   "outputs": [
    {
     "name": "stdout",
     "output_type": "stream",
     "text": [
      "0 0\n",
      "1 0\n",
      "1 1\n"
     ]
    }
   ],
   "source": [
    "for i in range(0,2) :\n",
    "    for j in range(0,2) :\n",
    "        print(i, j)\n",
    "        if i==j :\n",
    "            break;"
   ]
  },
  {
   "cell_type": "code",
   "execution_count": null,
   "id": "102c2df7",
   "metadata": {},
   "outputs": [],
   "source": [
    "# 7. 다음 코드의 실행 결과는?"
   ]
  },
  {
   "cell_type": "code",
   "execution_count": 20,
   "id": "4d4c4307",
   "metadata": {
    "ExecuteTime": {
     "end_time": "2021-07-21T06:19:20.271442Z",
     "start_time": "2021-07-21T06:19:20.259474Z"
    }
   },
   "outputs": [
    {
     "name": "stdout",
     "output_type": "stream",
     "text": [
      "3 5 7 9 "
     ]
    }
   ],
   "source": [
    "L=[3,4,5,6,7,8,9,10]\n",
    "for i, data in enumerate(L):\n",
    "    if(i%2 ==0):\n",
    "        print(data,end=' ')"
   ]
  },
  {
   "cell_type": "code",
   "execution_count": 21,
   "id": "6f8fae17",
   "metadata": {
    "ExecuteTime": {
     "end_time": "2021-07-21T06:19:25.057236Z",
     "start_time": "2021-07-21T06:19:25.043273Z"
    }
   },
   "outputs": [
    {
     "data": {
      "text/plain": [
       "[3, 5, 7, 9]"
      ]
     },
     "execution_count": 21,
     "metadata": {},
     "output_type": "execute_result"
    }
   ],
   "source": [
    "# 리스트 L의 짝수번째 인덱스의 값만 출력\n",
    "L[::2]"
   ]
  },
  {
   "cell_type": "code",
   "execution_count": 22,
   "id": "59eda9eb",
   "metadata": {
    "ExecuteTime": {
     "end_time": "2021-07-21T06:19:28.130454Z",
     "start_time": "2021-07-21T06:19:28.114494Z"
    }
   },
   "outputs": [
    {
     "data": {
      "text/plain": [
       "[4, 6, 8, 10]"
      ]
     },
     "execution_count": 22,
     "metadata": {},
     "output_type": "execute_result"
    }
   ],
   "source": [
    "# 리스트 L에서 짝수 데이터만 출력(리스트 컴프리헨션) - 값을 출력할 때(인덱스 X)\n",
    "[x for x in L if x%2==0]"
   ]
  }
 ],
 "metadata": {
  "kernelspec": {
   "display_name": "Python 3",
   "language": "python",
   "name": "python3"
  },
  "language_info": {
   "codemirror_mode": {
    "name": "ipython",
    "version": 3
   },
   "file_extension": ".py",
   "mimetype": "text/x-python",
   "name": "python",
   "nbconvert_exporter": "python",
   "pygments_lexer": "ipython3",
   "version": "3.8.8"
  },
  "toc": {
   "base_numbering": 1,
   "nav_menu": {},
   "number_sections": true,
   "sideBar": true,
   "skip_h1_title": false,
   "title_cell": "Table of Contents",
   "title_sidebar": "Contents",
   "toc_cell": false,
   "toc_position": {},
   "toc_section_display": true,
   "toc_window_display": false
  },
  "varInspector": {
   "cols": {
    "lenName": 16,
    "lenType": 16,
    "lenVar": 40
   },
   "kernels_config": {
    "python": {
     "delete_cmd_postfix": "",
     "delete_cmd_prefix": "del ",
     "library": "var_list.py",
     "varRefreshCmd": "print(var_dic_list())"
    },
    "r": {
     "delete_cmd_postfix": ") ",
     "delete_cmd_prefix": "rm(",
     "library": "var_list.r",
     "varRefreshCmd": "cat(var_dic_list()) "
    }
   },
   "types_to_exclude": [
    "module",
    "function",
    "builtin_function_or_method",
    "instance",
    "_Feature"
   ],
   "window_display": false
  }
 },
 "nbformat": 4,
 "nbformat_minor": 5
}
