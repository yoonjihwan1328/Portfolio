{
 "cells": [
  {
   "cell_type": "code",
   "execution_count": 1,
   "id": "4e683913",
   "metadata": {
    "ExecuteTime": {
     "end_time": "2021-09-02T07:52:42.817829Z",
     "start_time": "2021-09-02T07:52:35.081988Z"
    }
   },
   "outputs": [],
   "source": [
    "import pandas as pd\n",
    "movies = pd.read_csv('D:/bigdata/note/project/ml-25m/movies.csv')\n",
    "ratings = pd.read_csv('D:/bigdata/note/project/ml-25m/ratings.csv')"
   ]
  },
  {
   "cell_type": "code",
   "execution_count": 2,
   "id": "e6484aad",
   "metadata": {
    "ExecuteTime": {
     "end_time": "2021-08-31T08:10:06.171770Z",
     "start_time": "2021-08-31T08:10:05.960338Z"
    }
   },
   "outputs": [
    {
     "name": "stdout",
     "output_type": "stream",
     "text": [
      "movieId    0\n",
      "title      0\n",
      "genres     0\n",
      "dtype: int64\n",
      "userId       0\n",
      "movieId      0\n",
      "rating       0\n",
      "timestamp    0\n",
      "dtype: int64\n",
      "userId        0\n",
      "movieId       0\n",
      "tag          16\n",
      "timestamp     0\n",
      "dtype: int64\n"
     ]
    }
   ],
   "source": [
    "print(movies.isna().sum())\n",
    "print(ratings.isna().sum())\n",
    "print(tags.isna().sum())"
   ]
  },
  {
   "cell_type": "code",
   "execution_count": 3,
   "id": "4334c0c4",
   "metadata": {
    "ExecuteTime": {
     "end_time": "2021-08-31T08:10:07.829170Z",
     "start_time": "2021-08-31T08:10:07.705397Z"
    }
   },
   "outputs": [],
   "source": [
    "tags.dropna(axis=0, how='any', inplace=True)"
   ]
  },
  {
   "cell_type": "code",
   "execution_count": 5,
   "id": "bcc921d7",
   "metadata": {
    "ExecuteTime": {
     "end_time": "2021-09-02T07:55:06.921967Z",
     "start_time": "2021-09-02T07:55:06.202223Z"
    }
   },
   "outputs": [
    {
     "data": {
      "text/html": [
       "<div>\n",
       "<style scoped>\n",
       "    .dataframe tbody tr th:only-of-type {\n",
       "        vertical-align: middle;\n",
       "    }\n",
       "\n",
       "    .dataframe tbody tr th {\n",
       "        vertical-align: top;\n",
       "    }\n",
       "\n",
       "    .dataframe thead th {\n",
       "        text-align: right;\n",
       "    }\n",
       "</style>\n",
       "<table border=\"1\" class=\"dataframe\">\n",
       "  <thead>\n",
       "    <tr style=\"text-align: right;\">\n",
       "      <th></th>\n",
       "      <th>movieId</th>\n",
       "      <th>rating</th>\n",
       "    </tr>\n",
       "  </thead>\n",
       "  <tbody>\n",
       "    <tr>\n",
       "      <th>0</th>\n",
       "      <td>1</td>\n",
       "      <td>3.893708</td>\n",
       "    </tr>\n",
       "    <tr>\n",
       "      <th>1</th>\n",
       "      <td>2</td>\n",
       "      <td>3.251527</td>\n",
       "    </tr>\n",
       "    <tr>\n",
       "      <th>2</th>\n",
       "      <td>3</td>\n",
       "      <td>3.142028</td>\n",
       "    </tr>\n",
       "    <tr>\n",
       "      <th>3</th>\n",
       "      <td>4</td>\n",
       "      <td>2.853547</td>\n",
       "    </tr>\n",
       "    <tr>\n",
       "      <th>4</th>\n",
       "      <td>5</td>\n",
       "      <td>3.058434</td>\n",
       "    </tr>\n",
       "    <tr>\n",
       "      <th>...</th>\n",
       "      <td>...</td>\n",
       "      <td>...</td>\n",
       "    </tr>\n",
       "    <tr>\n",
       "      <th>59042</th>\n",
       "      <td>209157</td>\n",
       "      <td>1.500000</td>\n",
       "    </tr>\n",
       "    <tr>\n",
       "      <th>59043</th>\n",
       "      <td>209159</td>\n",
       "      <td>3.000000</td>\n",
       "    </tr>\n",
       "    <tr>\n",
       "      <th>59044</th>\n",
       "      <td>209163</td>\n",
       "      <td>4.500000</td>\n",
       "    </tr>\n",
       "    <tr>\n",
       "      <th>59045</th>\n",
       "      <td>209169</td>\n",
       "      <td>3.000000</td>\n",
       "    </tr>\n",
       "    <tr>\n",
       "      <th>59046</th>\n",
       "      <td>209171</td>\n",
       "      <td>3.000000</td>\n",
       "    </tr>\n",
       "  </tbody>\n",
       "</table>\n",
       "<p>59047 rows × 2 columns</p>\n",
       "</div>"
      ],
      "text/plain": [
       "       movieId    rating\n",
       "0            1  3.893708\n",
       "1            2  3.251527\n",
       "2            3  3.142028\n",
       "3            4  2.853547\n",
       "4            5  3.058434\n",
       "...        ...       ...\n",
       "59042   209157  1.500000\n",
       "59043   209159  3.000000\n",
       "59044   209163  4.500000\n",
       "59045   209169  3.000000\n",
       "59046   209171  3.000000\n",
       "\n",
       "[59047 rows x 2 columns]"
      ]
     },
     "execution_count": 5,
     "metadata": {},
     "output_type": "execute_result"
    }
   ],
   "source": [
    "ratings_m = ratings.groupby(['movieId'])['rating'].mean()\n",
    "ratings_m = pd.DataFrame(ratings_m).reset_index()\n",
    "movies_1 = pd.merge(movies, ratings_m, on=['movieId'])\n",
    "movies_1.head(10)\n",
    "                # 위에서는 처음 ['rating'].mean()을 merge할 때 rating열이 없었으므로 필드명이 그대로 삽입되었지만\n",
    "                # 이후 [rating'].count()가 추가되면 rating이라는 필드명이 중복되기 때문에 rating_x, rating_y로 자동 변형되는듯\n",
    "                     # >=25번 이상 발생이라는 제한유무와 무관한듯?"
   ]
  },
  {
   "cell_type": "code",
   "execution_count": null,
   "id": "a98b71ff",
   "metadata": {},
   "outputs": [],
   "source": [
    "# movies DataFrame에 62423개의 movieId가 존재 vs ratings DataFrame을 .groupby[('movieId')]했을 때 59047가 반환"
   ]
  },
  {
   "cell_type": "code",
   "execution_count": 6,
   "id": "baa361e5",
   "metadata": {
    "ExecuteTime": {
     "end_time": "2021-09-02T07:55:25.224706Z",
     "start_time": "2021-09-02T07:55:25.082230Z"
    }
   },
   "outputs": [],
   "source": [
    "# 시도4\n",
    "import pandas as pd\n",
    "movies_1['released'] = movies_1['title'].str.extract(r'(\\d{4})')\n",
    "# r_year = movies_1['title'].str.extract(r'(\\d{4})')\n",
    "# print(r_year.isnull().sum())\n",
    "# print(r_year)\n",
    "# print(r_year.info()) # 널값이 있지만 아직 제거하지 않을것임."
   ]
  },
  {
   "cell_type": "code",
   "execution_count": 8,
   "id": "3a7724eb",
   "metadata": {
    "ExecuteTime": {
     "end_time": "2021-09-02T07:24:22.517917Z",
     "start_time": "2021-09-02T07:24:22.505970Z"
    }
   },
   "outputs": [
    {
     "data": {
      "text/html": [
       "<div>\n",
       "<style scoped>\n",
       "    .dataframe tbody tr th:only-of-type {\n",
       "        vertical-align: middle;\n",
       "    }\n",
       "\n",
       "    .dataframe tbody tr th {\n",
       "        vertical-align: top;\n",
       "    }\n",
       "\n",
       "    .dataframe thead th {\n",
       "        text-align: right;\n",
       "    }\n",
       "</style>\n",
       "<table border=\"1\" class=\"dataframe\">\n",
       "  <thead>\n",
       "    <tr style=\"text-align: right;\">\n",
       "      <th></th>\n",
       "      <th>movieId</th>\n",
       "      <th>title</th>\n",
       "      <th>genres</th>\n",
       "      <th>rating</th>\n",
       "      <th>released</th>\n",
       "    </tr>\n",
       "  </thead>\n",
       "  <tbody>\n",
       "    <tr>\n",
       "      <th>0</th>\n",
       "      <td>1</td>\n",
       "      <td>Toy Story (1995)</td>\n",
       "      <td>Adventure|Animation|Children|Comedy|Fantasy</td>\n",
       "      <td>3.893708</td>\n",
       "      <td>1995</td>\n",
       "    </tr>\n",
       "    <tr>\n",
       "      <th>1</th>\n",
       "      <td>2</td>\n",
       "      <td>Jumanji (1995)</td>\n",
       "      <td>Adventure|Children|Fantasy</td>\n",
       "      <td>3.251527</td>\n",
       "      <td>1995</td>\n",
       "    </tr>\n",
       "    <tr>\n",
       "      <th>2</th>\n",
       "      <td>3</td>\n",
       "      <td>Grumpier Old Men (1995)</td>\n",
       "      <td>Comedy|Romance</td>\n",
       "      <td>3.142028</td>\n",
       "      <td>1995</td>\n",
       "    </tr>\n",
       "    <tr>\n",
       "      <th>3</th>\n",
       "      <td>4</td>\n",
       "      <td>Waiting to Exhale (1995)</td>\n",
       "      <td>Comedy|Drama|Romance</td>\n",
       "      <td>2.853547</td>\n",
       "      <td>1995</td>\n",
       "    </tr>\n",
       "    <tr>\n",
       "      <th>4</th>\n",
       "      <td>5</td>\n",
       "      <td>Father of the Bride Part II (1995)</td>\n",
       "      <td>Comedy</td>\n",
       "      <td>3.058434</td>\n",
       "      <td>1995</td>\n",
       "    </tr>\n",
       "  </tbody>\n",
       "</table>\n",
       "</div>"
      ],
      "text/plain": [
       "   movieId                               title  \\\n",
       "0        1                    Toy Story (1995)   \n",
       "1        2                      Jumanji (1995)   \n",
       "2        3             Grumpier Old Men (1995)   \n",
       "3        4            Waiting to Exhale (1995)   \n",
       "4        5  Father of the Bride Part II (1995)   \n",
       "\n",
       "                                        genres    rating released  \n",
       "0  Adventure|Animation|Children|Comedy|Fantasy  3.893708     1995  \n",
       "1                   Adventure|Children|Fantasy  3.251527     1995  \n",
       "2                               Comedy|Romance  3.142028     1995  \n",
       "3                         Comedy|Drama|Romance  2.853547     1995  \n",
       "4                                       Comedy  3.058434     1995  "
      ]
     },
     "execution_count": 8,
     "metadata": {},
     "output_type": "execute_result"
    }
   ],
   "source": [
    "movies_1.head()"
   ]
  },
  {
   "cell_type": "markdown",
   "id": "880e9fbb",
   "metadata": {},
   "source": [
    "<b><font size=\"6\" color=\"red\">1. rating평균값과 released가 포함된 movies_1 도출----------기본값</font></b>"
   ]
  },
  {
   "cell_type": "code",
   "execution_count": 7,
   "id": "da02fe62",
   "metadata": {
    "ExecuteTime": {
     "end_time": "2021-09-02T07:57:49.947458Z",
     "start_time": "2021-09-02T07:57:49.225247Z"
    }
   },
   "outputs": [
    {
     "data": {
      "text/plain": [
       "movieId\n",
       "1         57309\n",
       "2         24228\n",
       "3         11804\n",
       "4          2523\n",
       "5         11714\n",
       "          ...  \n",
       "209157        1\n",
       "209159        1\n",
       "209163        1\n",
       "209169        1\n",
       "209171        1\n",
       "Name: rating, Length: 59047, dtype: int64"
      ]
     },
     "execution_count": 7,
     "metadata": {},
     "output_type": "execute_result"
    }
   ],
   "source": [
    "# counts를 추가하기 위해\n",
    "# 위에서는 grouped_ratings = ratings.groupby(['movieId'])['rating'].mean()\n",
    "ratings_c = ratings.groupby('movieId')['rating'].count()\n",
    "ratings_c"
   ]
  },
  {
   "cell_type": "code",
   "execution_count": 8,
   "id": "7cbb31e4",
   "metadata": {
    "ExecuteTime": {
     "end_time": "2021-09-02T07:57:51.539225Z",
     "start_time": "2021-09-02T07:57:51.516271Z"
    }
   },
   "outputs": [
    {
     "data": {
      "text/html": [
       "<div>\n",
       "<style scoped>\n",
       "    .dataframe tbody tr th:only-of-type {\n",
       "        vertical-align: middle;\n",
       "    }\n",
       "\n",
       "    .dataframe tbody tr th {\n",
       "        vertical-align: top;\n",
       "    }\n",
       "\n",
       "    .dataframe thead th {\n",
       "        text-align: right;\n",
       "    }\n",
       "</style>\n",
       "<table border=\"1\" class=\"dataframe\">\n",
       "  <thead>\n",
       "    <tr style=\"text-align: right;\">\n",
       "      <th></th>\n",
       "      <th>movieId</th>\n",
       "      <th>counts</th>\n",
       "    </tr>\n",
       "  </thead>\n",
       "  <tbody>\n",
       "    <tr>\n",
       "      <th>0</th>\n",
       "      <td>1</td>\n",
       "      <td>57309</td>\n",
       "    </tr>\n",
       "    <tr>\n",
       "      <th>1</th>\n",
       "      <td>2</td>\n",
       "      <td>24228</td>\n",
       "    </tr>\n",
       "    <tr>\n",
       "      <th>2</th>\n",
       "      <td>3</td>\n",
       "      <td>11804</td>\n",
       "    </tr>\n",
       "    <tr>\n",
       "      <th>3</th>\n",
       "      <td>4</td>\n",
       "      <td>2523</td>\n",
       "    </tr>\n",
       "    <tr>\n",
       "      <th>4</th>\n",
       "      <td>5</td>\n",
       "      <td>11714</td>\n",
       "    </tr>\n",
       "    <tr>\n",
       "      <th>...</th>\n",
       "      <td>...</td>\n",
       "      <td>...</td>\n",
       "    </tr>\n",
       "    <tr>\n",
       "      <th>59042</th>\n",
       "      <td>209157</td>\n",
       "      <td>1</td>\n",
       "    </tr>\n",
       "    <tr>\n",
       "      <th>59043</th>\n",
       "      <td>209159</td>\n",
       "      <td>1</td>\n",
       "    </tr>\n",
       "    <tr>\n",
       "      <th>59044</th>\n",
       "      <td>209163</td>\n",
       "      <td>1</td>\n",
       "    </tr>\n",
       "    <tr>\n",
       "      <th>59045</th>\n",
       "      <td>209169</td>\n",
       "      <td>1</td>\n",
       "    </tr>\n",
       "    <tr>\n",
       "      <th>59046</th>\n",
       "      <td>209171</td>\n",
       "      <td>1</td>\n",
       "    </tr>\n",
       "  </tbody>\n",
       "</table>\n",
       "<p>59047 rows × 2 columns</p>\n",
       "</div>"
      ],
      "text/plain": [
       "       movieId  counts\n",
       "0            1   57309\n",
       "1            2   24228\n",
       "2            3   11804\n",
       "3            4    2523\n",
       "4            5   11714\n",
       "...        ...     ...\n",
       "59042   209157       1\n",
       "59043   209159       1\n",
       "59044   209163       1\n",
       "59045   209169       1\n",
       "59046   209171       1\n",
       "\n",
       "[59047 rows x 2 columns]"
      ]
     },
     "execution_count": 8,
     "metadata": {},
     "output_type": "execute_result"
    }
   ],
   "source": [
    "# (1) ratings_count.columns = ['movieId', 'counts'] # 두 번 실행하면 안됨.\n",
    "ratings_c = pd.DataFrame(ratings_c).reset_index()\n",
    "    # 실행하기전에 ratings_count가 dataframe이어야 함.(series이면 오류도 안나고 그냥 적용이 안됨)\n",
    "# (1) -> (2)\n",
    "ratings_c = ratings_c.rename({'rating':'counts'},axis=1)\n",
    "ratings_c # rename과 유사한 기능하는 다른 함수들 찾아보기!!!"
   ]
  },
  {
   "cell_type": "code",
   "execution_count": 12,
   "id": "c9519282",
   "metadata": {
    "ExecuteTime": {
     "end_time": "2021-09-02T07:58:08.021962Z",
     "start_time": "2021-09-02T07:58:07.978060Z"
    }
   },
   "outputs": [
    {
     "data": {
      "text/html": [
       "<div>\n",
       "<style scoped>\n",
       "    .dataframe tbody tr th:only-of-type {\n",
       "        vertical-align: middle;\n",
       "    }\n",
       "\n",
       "    .dataframe tbody tr th {\n",
       "        vertical-align: top;\n",
       "    }\n",
       "\n",
       "    .dataframe thead th {\n",
       "        text-align: right;\n",
       "    }\n",
       "</style>\n",
       "<table border=\"1\" class=\"dataframe\">\n",
       "  <thead>\n",
       "    <tr style=\"text-align: right;\">\n",
       "      <th></th>\n",
       "      <th>movieId</th>\n",
       "      <th>title</th>\n",
       "      <th>genres</th>\n",
       "      <th>rating</th>\n",
       "      <th>released</th>\n",
       "      <th>counts</th>\n",
       "    </tr>\n",
       "  </thead>\n",
       "  <tbody>\n",
       "    <tr>\n",
       "      <th>0</th>\n",
       "      <td>1</td>\n",
       "      <td>Toy Story (1995)</td>\n",
       "      <td>Adventure|Animation|Children|Comedy|Fantasy</td>\n",
       "      <td>3.893708</td>\n",
       "      <td>1995</td>\n",
       "      <td>57309</td>\n",
       "    </tr>\n",
       "    <tr>\n",
       "      <th>1</th>\n",
       "      <td>2</td>\n",
       "      <td>Jumanji (1995)</td>\n",
       "      <td>Adventure|Children|Fantasy</td>\n",
       "      <td>3.251527</td>\n",
       "      <td>1995</td>\n",
       "      <td>24228</td>\n",
       "    </tr>\n",
       "    <tr>\n",
       "      <th>2</th>\n",
       "      <td>3</td>\n",
       "      <td>Grumpier Old Men (1995)</td>\n",
       "      <td>Comedy|Romance</td>\n",
       "      <td>3.142028</td>\n",
       "      <td>1995</td>\n",
       "      <td>11804</td>\n",
       "    </tr>\n",
       "    <tr>\n",
       "      <th>3</th>\n",
       "      <td>4</td>\n",
       "      <td>Waiting to Exhale (1995)</td>\n",
       "      <td>Comedy|Drama|Romance</td>\n",
       "      <td>2.853547</td>\n",
       "      <td>1995</td>\n",
       "      <td>2523</td>\n",
       "    </tr>\n",
       "    <tr>\n",
       "      <th>4</th>\n",
       "      <td>5</td>\n",
       "      <td>Father of the Bride Part II (1995)</td>\n",
       "      <td>Comedy</td>\n",
       "      <td>3.058434</td>\n",
       "      <td>1995</td>\n",
       "      <td>11714</td>\n",
       "    </tr>\n",
       "    <tr>\n",
       "      <th>5</th>\n",
       "      <td>6</td>\n",
       "      <td>Heat (1995)</td>\n",
       "      <td>Action|Crime|Thriller</td>\n",
       "      <td>3.854909</td>\n",
       "      <td>1995</td>\n",
       "      <td>24588</td>\n",
       "    </tr>\n",
       "    <tr>\n",
       "      <th>6</th>\n",
       "      <td>7</td>\n",
       "      <td>Sabrina (1995)</td>\n",
       "      <td>Comedy|Romance</td>\n",
       "      <td>3.363666</td>\n",
       "      <td>1995</td>\n",
       "      <td>12132</td>\n",
       "    </tr>\n",
       "    <tr>\n",
       "      <th>7</th>\n",
       "      <td>8</td>\n",
       "      <td>Tom and Huck (1995)</td>\n",
       "      <td>Adventure|Children</td>\n",
       "      <td>3.114583</td>\n",
       "      <td>1995</td>\n",
       "      <td>1344</td>\n",
       "    </tr>\n",
       "    <tr>\n",
       "      <th>8</th>\n",
       "      <td>9</td>\n",
       "      <td>Sudden Death (1995)</td>\n",
       "      <td>Action</td>\n",
       "      <td>2.992051</td>\n",
       "      <td>1995</td>\n",
       "      <td>3711</td>\n",
       "    </tr>\n",
       "    <tr>\n",
       "      <th>9</th>\n",
       "      <td>10</td>\n",
       "      <td>GoldenEye (1995)</td>\n",
       "      <td>Action|Adventure|Thriller</td>\n",
       "      <td>3.421458</td>\n",
       "      <td>1995</td>\n",
       "      <td>28265</td>\n",
       "    </tr>\n",
       "  </tbody>\n",
       "</table>\n",
       "</div>"
      ],
      "text/plain": [
       "   movieId                               title  \\\n",
       "0        1                    Toy Story (1995)   \n",
       "1        2                      Jumanji (1995)   \n",
       "2        3             Grumpier Old Men (1995)   \n",
       "3        4            Waiting to Exhale (1995)   \n",
       "4        5  Father of the Bride Part II (1995)   \n",
       "5        6                         Heat (1995)   \n",
       "6        7                      Sabrina (1995)   \n",
       "7        8                 Tom and Huck (1995)   \n",
       "8        9                 Sudden Death (1995)   \n",
       "9       10                    GoldenEye (1995)   \n",
       "\n",
       "                                        genres    rating released  counts  \n",
       "0  Adventure|Animation|Children|Comedy|Fantasy  3.893708     1995   57309  \n",
       "1                   Adventure|Children|Fantasy  3.251527     1995   24228  \n",
       "2                               Comedy|Romance  3.142028     1995   11804  \n",
       "3                         Comedy|Drama|Romance  2.853547     1995    2523  \n",
       "4                                       Comedy  3.058434     1995   11714  \n",
       "5                        Action|Crime|Thriller  3.854909     1995   24588  \n",
       "6                               Comedy|Romance  3.363666     1995   12132  \n",
       "7                           Adventure|Children  3.114583     1995    1344  \n",
       "8                                       Action  2.992051     1995    3711  \n",
       "9                    Action|Adventure|Thriller  3.421458     1995   28265  "
      ]
     },
     "execution_count": 12,
     "metadata": {},
     "output_type": "execute_result"
    }
   ],
   "source": [
    "movies_2 = pd.merge(movies_1, ratings_c, on=['movieId'])\n",
    "movies_2.head(10)\n",
    "            # movies_2 : rating을 20번 이상 받은 영화집합의 rating순 데이터프레임"
   ]
  },
  {
   "cell_type": "code",
   "execution_count": 22,
   "id": "47ee9da6",
   "metadata": {
    "ExecuteTime": {
     "end_time": "2021-09-02T07:52:11.471168Z",
     "start_time": "2021-09-02T07:52:11.449237Z"
    }
   },
   "outputs": [
    {
     "data": {
      "text/plain": [
       "movieId     16970\n",
       "title       16970\n",
       "genres      16970\n",
       "rating      16970\n",
       "released    16944\n",
       "counts      16970\n",
       "dtype: int64"
      ]
     },
     "execution_count": 22,
     "metadata": {},
     "output_type": "execute_result"
    }
   ],
   "source": [
    "movies_2.count()"
   ]
  },
  {
   "cell_type": "code",
   "execution_count": 14,
   "id": "a26e86e0",
   "metadata": {
    "ExecuteTime": {
     "end_time": "2021-08-27T06:58:41.058188Z",
     "start_time": "2021-08-27T06:58:41.029238Z"
    }
   },
   "outputs": [
    {
     "data": {
      "text/plain": [
       "81491"
      ]
     },
     "execution_count": 14,
     "metadata": {},
     "output_type": "execute_result"
    }
   ],
   "source": [
    "import numpy as np\n",
    "movies_2['counts'].max()"
   ]
  },
  {
   "cell_type": "code",
   "execution_count": 14,
   "id": "3d0ef3ad",
   "metadata": {
    "ExecuteTime": {
     "end_time": "2021-09-02T07:58:33.906060Z",
     "start_time": "2021-09-02T07:58:33.882144Z"
    }
   },
   "outputs": [
    {
     "data": {
      "text/html": [
       "<div>\n",
       "<style scoped>\n",
       "    .dataframe tbody tr th:only-of-type {\n",
       "        vertical-align: middle;\n",
       "    }\n",
       "\n",
       "    .dataframe tbody tr th {\n",
       "        vertical-align: top;\n",
       "    }\n",
       "\n",
       "    .dataframe thead th {\n",
       "        text-align: right;\n",
       "    }\n",
       "</style>\n",
       "<table border=\"1\" class=\"dataframe\">\n",
       "  <thead>\n",
       "    <tr style=\"text-align: right;\">\n",
       "      <th></th>\n",
       "      <th>movieId</th>\n",
       "      <th>title</th>\n",
       "      <th>genres</th>\n",
       "      <th>rating</th>\n",
       "      <th>released</th>\n",
       "      <th>counts</th>\n",
       "    </tr>\n",
       "  </thead>\n",
       "  <tbody>\n",
       "    <tr>\n",
       "      <th>0</th>\n",
       "      <td>356</td>\n",
       "      <td>Forrest Gump (1994)</td>\n",
       "      <td>Comedy|Drama|Romance|War</td>\n",
       "      <td>4.048011</td>\n",
       "      <td>1994</td>\n",
       "      <td>81491</td>\n",
       "    </tr>\n",
       "    <tr>\n",
       "      <th>1</th>\n",
       "      <td>318</td>\n",
       "      <td>Shawshank Redemption, The (1994)</td>\n",
       "      <td>Crime|Drama</td>\n",
       "      <td>4.413576</td>\n",
       "      <td>1994</td>\n",
       "      <td>81482</td>\n",
       "    </tr>\n",
       "    <tr>\n",
       "      <th>2</th>\n",
       "      <td>296</td>\n",
       "      <td>Pulp Fiction (1994)</td>\n",
       "      <td>Comedy|Crime|Drama|Thriller</td>\n",
       "      <td>4.188912</td>\n",
       "      <td>1994</td>\n",
       "      <td>79672</td>\n",
       "    </tr>\n",
       "    <tr>\n",
       "      <th>3</th>\n",
       "      <td>593</td>\n",
       "      <td>Silence of the Lambs, The (1991)</td>\n",
       "      <td>Crime|Horror|Thriller</td>\n",
       "      <td>4.151342</td>\n",
       "      <td>1991</td>\n",
       "      <td>74127</td>\n",
       "    </tr>\n",
       "    <tr>\n",
       "      <th>4</th>\n",
       "      <td>2571</td>\n",
       "      <td>Matrix, The (1999)</td>\n",
       "      <td>Action|Sci-Fi|Thriller</td>\n",
       "      <td>4.154099</td>\n",
       "      <td>1999</td>\n",
       "      <td>72674</td>\n",
       "    </tr>\n",
       "  </tbody>\n",
       "</table>\n",
       "</div>"
      ],
      "text/plain": [
       "   movieId                             title                       genres  \\\n",
       "0      356               Forrest Gump (1994)     Comedy|Drama|Romance|War   \n",
       "1      318  Shawshank Redemption, The (1994)                  Crime|Drama   \n",
       "2      296               Pulp Fiction (1994)  Comedy|Crime|Drama|Thriller   \n",
       "3      593  Silence of the Lambs, The (1991)        Crime|Horror|Thriller   \n",
       "4     2571                Matrix, The (1999)       Action|Sci-Fi|Thriller   \n",
       "\n",
       "     rating released  counts  \n",
       "0  4.048011     1994   81491  \n",
       "1  4.413576     1994   81482  \n",
       "2  4.188912     1994   79672  \n",
       "3  4.151342     1991   74127  \n",
       "4  4.154099     1999   72674  "
      ]
     },
     "execution_count": 14,
     "metadata": {},
     "output_type": "execute_result"
    }
   ],
   "source": [
    "movies_2 = movies_2.sort_values(by='counts', ascending=False, ignore_index=True)\n",
    "movies_2.head()"
   ]
  },
  {
   "cell_type": "markdown",
   "id": "f8fa5544",
   "metadata": {
    "ExecuteTime": {
     "end_time": "2021-08-27T07:00:32.378038Z",
     "start_time": "2021-08-27T07:00:32.374058Z"
    }
   },
   "source": [
    "<b><font size=\"6\" color=\"red\"> movies_2 : movies_1에서 counts발생시키고 counts기준으로 정렬 -> fn3으로 이용 ----------</font></b>"
   ]
  },
  {
   "cell_type": "code",
   "execution_count": null,
   "id": "ac06e70f",
   "metadata": {},
   "outputs": [],
   "source": [
    "ratings_c = ratings.groupby('movieId')['rating'].count()\n",
    "ratings_c = pd.DataFrame(ratings_c).reset_index()\n",
    "ratings_c = ratings_c.rename({'rating':'counts'},axis=1)\n",
    "# 평점이 25회이상 부여된 영화들\n",
    "ratings_c = ratings_c[ratings_c['counts']>=25]"
   ]
  },
  {
   "cell_type": "code",
   "execution_count": 19,
   "id": "24ee1b91",
   "metadata": {
    "ExecuteTime": {
     "end_time": "2021-09-02T08:11:28.046200Z",
     "start_time": "2021-09-02T08:11:27.994169Z"
    }
   },
   "outputs": [
    {
     "data": {
      "text/html": [
       "<div>\n",
       "<style scoped>\n",
       "    .dataframe tbody tr th:only-of-type {\n",
       "        vertical-align: middle;\n",
       "    }\n",
       "\n",
       "    .dataframe tbody tr th {\n",
       "        vertical-align: top;\n",
       "    }\n",
       "\n",
       "    .dataframe thead th {\n",
       "        text-align: right;\n",
       "    }\n",
       "</style>\n",
       "<table border=\"1\" class=\"dataframe\">\n",
       "  <thead>\n",
       "    <tr style=\"text-align: right;\">\n",
       "      <th></th>\n",
       "      <th>movieId</th>\n",
       "      <th>title</th>\n",
       "      <th>genres</th>\n",
       "      <th>rating</th>\n",
       "      <th>released</th>\n",
       "      <th>counts</th>\n",
       "    </tr>\n",
       "  </thead>\n",
       "  <tbody>\n",
       "    <tr>\n",
       "      <th>0</th>\n",
       "      <td>171011</td>\n",
       "      <td>Planet Earth II (2016)</td>\n",
       "      <td>Documentary</td>\n",
       "      <td>4.483096</td>\n",
       "      <td>2016</td>\n",
       "      <td>1124</td>\n",
       "    </tr>\n",
       "    <tr>\n",
       "      <th>1</th>\n",
       "      <td>159817</td>\n",
       "      <td>Planet Earth (2006)</td>\n",
       "      <td>Documentary</td>\n",
       "      <td>4.464797</td>\n",
       "      <td>2006</td>\n",
       "      <td>1747</td>\n",
       "    </tr>\n",
       "    <tr>\n",
       "      <th>2</th>\n",
       "      <td>318</td>\n",
       "      <td>Shawshank Redemption, The (1994)</td>\n",
       "      <td>Crime|Drama</td>\n",
       "      <td>4.413576</td>\n",
       "      <td>1994</td>\n",
       "      <td>81482</td>\n",
       "    </tr>\n",
       "    <tr>\n",
       "      <th>3</th>\n",
       "      <td>170705</td>\n",
       "      <td>Band of Brothers (2001)</td>\n",
       "      <td>Action|Drama|War</td>\n",
       "      <td>4.398599</td>\n",
       "      <td>2001</td>\n",
       "      <td>1356</td>\n",
       "    </tr>\n",
       "    <tr>\n",
       "      <th>4</th>\n",
       "      <td>171495</td>\n",
       "      <td>Cosmos</td>\n",
       "      <td>(no genres listed)</td>\n",
       "      <td>4.326715</td>\n",
       "      <td>NaN</td>\n",
       "      <td>277</td>\n",
       "    </tr>\n",
       "  </tbody>\n",
       "</table>\n",
       "</div>"
      ],
      "text/plain": [
       "   movieId                             title              genres    rating  \\\n",
       "0   171011            Planet Earth II (2016)         Documentary  4.483096   \n",
       "1   159817               Planet Earth (2006)         Documentary  4.464797   \n",
       "2      318  Shawshank Redemption, The (1994)         Crime|Drama  4.413576   \n",
       "3   170705           Band of Brothers (2001)    Action|Drama|War  4.398599   \n",
       "4   171495                            Cosmos  (no genres listed)  4.326715   \n",
       "\n",
       "  released  counts  \n",
       "0     2016    1124  \n",
       "1     2006    1747  \n",
       "2     1994   81482  \n",
       "3     2001    1356  \n",
       "4      NaN     277  "
      ]
     },
     "execution_count": 19,
     "metadata": {},
     "output_type": "execute_result"
    }
   ],
   "source": [
    "movies_3 = pd.merge(movies_1, ratings_c, on='movieId')\n",
    "movies_3 = movies_3.sort_values(by='rating', ascending=False, ignore_index=True)\n",
    "movies_3.head()"
   ]
  },
  {
   "cell_type": "markdown",
   "id": "d049e75f",
   "metadata": {},
   "source": [
    "<b><font size=\"6\" color=\"red\"> movies_3 : movies_1에서 counts>25 조건적용 시키고 ratings 기준으로 정렬 -> fn4으로 이용 ----------</font></b>"
   ]
  },
  {
   "cell_type": "code",
   "execution_count": 20,
   "id": "f9dbe5ef",
   "metadata": {
    "ExecuteTime": {
     "end_time": "2021-09-02T08:11:51.945167Z",
     "start_time": "2021-09-02T08:11:51.929211Z"
    }
   },
   "outputs": [
    {
     "data": {
      "text/html": [
       "<div>\n",
       "<style scoped>\n",
       "    .dataframe tbody tr th:only-of-type {\n",
       "        vertical-align: middle;\n",
       "    }\n",
       "\n",
       "    .dataframe tbody tr th {\n",
       "        vertical-align: top;\n",
       "    }\n",
       "\n",
       "    .dataframe thead th {\n",
       "        text-align: right;\n",
       "    }\n",
       "</style>\n",
       "<table border=\"1\" class=\"dataframe\">\n",
       "  <thead>\n",
       "    <tr style=\"text-align: right;\">\n",
       "      <th></th>\n",
       "      <th>movieId</th>\n",
       "      <th>title</th>\n",
       "      <th>genres</th>\n",
       "      <th>rating</th>\n",
       "      <th>released</th>\n",
       "    </tr>\n",
       "  </thead>\n",
       "  <tbody>\n",
       "    <tr>\n",
       "      <th>0</th>\n",
       "      <td>1</td>\n",
       "      <td>Toy Story (1995)</td>\n",
       "      <td>Adventure|Animation|Children|Comedy|Fantasy</td>\n",
       "      <td>3.893708</td>\n",
       "      <td>1995</td>\n",
       "    </tr>\n",
       "    <tr>\n",
       "      <th>1</th>\n",
       "      <td>2</td>\n",
       "      <td>Jumanji (1995)</td>\n",
       "      <td>Adventure|Children|Fantasy</td>\n",
       "      <td>3.251527</td>\n",
       "      <td>1995</td>\n",
       "    </tr>\n",
       "    <tr>\n",
       "      <th>2</th>\n",
       "      <td>3</td>\n",
       "      <td>Grumpier Old Men (1995)</td>\n",
       "      <td>Comedy|Romance</td>\n",
       "      <td>3.142028</td>\n",
       "      <td>1995</td>\n",
       "    </tr>\n",
       "    <tr>\n",
       "      <th>3</th>\n",
       "      <td>4</td>\n",
       "      <td>Waiting to Exhale (1995)</td>\n",
       "      <td>Comedy|Drama|Romance</td>\n",
       "      <td>2.853547</td>\n",
       "      <td>1995</td>\n",
       "    </tr>\n",
       "    <tr>\n",
       "      <th>4</th>\n",
       "      <td>5</td>\n",
       "      <td>Father of the Bride Part II (1995)</td>\n",
       "      <td>Comedy</td>\n",
       "      <td>3.058434</td>\n",
       "      <td>1995</td>\n",
       "    </tr>\n",
       "  </tbody>\n",
       "</table>\n",
       "</div>"
      ],
      "text/plain": [
       "   movieId                               title  \\\n",
       "0        1                    Toy Story (1995)   \n",
       "1        2                      Jumanji (1995)   \n",
       "2        3             Grumpier Old Men (1995)   \n",
       "3        4            Waiting to Exhale (1995)   \n",
       "4        5  Father of the Bride Part II (1995)   \n",
       "\n",
       "                                        genres    rating released  \n",
       "0  Adventure|Animation|Children|Comedy|Fantasy  3.893708     1995  \n",
       "1                   Adventure|Children|Fantasy  3.251527     1995  \n",
       "2                               Comedy|Romance  3.142028     1995  \n",
       "3                         Comedy|Drama|Romance  2.853547     1995  \n",
       "4                                       Comedy  3.058434     1995  "
      ]
     },
     "execution_count": 20,
     "metadata": {},
     "output_type": "execute_result"
    }
   ],
   "source": [
    "movies_1.head()"
   ]
  },
  {
   "cell_type": "code",
   "execution_count": 63,
   "id": "1ca15e8b",
   "metadata": {
    "ExecuteTime": {
     "end_time": "2021-09-02T08:58:34.507777Z",
     "start_time": "2021-09-02T08:58:33.737836Z"
    }
   },
   "outputs": [],
   "source": [
    "ratings_c = ratings.groupby(['movieId'])['rating'].count()\n",
    "ratings_c = ratings_c.reset_index()\n",
    "ratings_c = ratings_c.rename({'rating':'counts'},axis=1) # rating을 count로 이름 바꿔줌\n",
    "movies_4 = pd.merge(movies_1, ratings_c, on='movieId')"
   ]
  },
  {
   "cell_type": "code",
   "execution_count": 64,
   "id": "3abcd913",
   "metadata": {
    "ExecuteTime": {
     "end_time": "2021-09-02T08:58:35.214243Z",
     "start_time": "2021-09-02T08:58:34.938980Z"
    }
   },
   "outputs": [
    {
     "data": {
      "text/plain": [
       "<AxesSubplot:xlabel='released', ylabel='counts'>"
      ]
     },
     "execution_count": 64,
     "metadata": {},
     "output_type": "execute_result"
    },
    {
     "data": {
      "image/png": "[encoded data removed]",
      "text/plain": [
       "<Figure size 432x288 with 1 Axes>"
      ]
     },
     "metadata": {
      "needs_background": "light"
     },
     "output_type": "display_data"
    }
   ],
   "source": [
    "movies_4.dropna(axis=0, how='any' ,inplace=True)\n",
    "movies_4['released'] = movies_4['released'].astype('int64')\n",
    "import seaborn as sns\n",
    "sns.scatterplot(data=movies_4, x = 'released', y='counts')"
   ]
  },
  {
   "cell_type": "code",
   "execution_count": 65,
   "id": "9bbb2d04",
   "metadata": {
    "ExecuteTime": {
     "end_time": "2021-09-02T08:58:39.718932Z",
     "start_time": "2021-09-02T08:58:39.449723Z"
    }
   },
   "outputs": [
    {
     "data": {
      "text/plain": [
       "<AxesSubplot:xlabel='released', ylabel='counts'>"
      ]
     },
     "execution_count": 65,
     "metadata": {},
     "output_type": "execute_result"
    },
    {
     "data": {
      "image/png": "[encoded data removed]",
      "text/plain": [
       "<Figure size 432x288 with 1 Axes>"
      ]
     },
     "metadata": {
      "needs_background": "light"
     },
     "output_type": "display_data"
    }
   ],
   "source": [
    "movies_4 = movies_4[(movies_4['released']>=1894) & (movies_4['released']<=2019)]\n",
    "import seaborn as sns\n",
    "sns.scatterplot(data=movies_4, x = 'released', y='counts')"
   ]
  },
  {
   "cell_type": "code",
   "execution_count": 77,
   "id": "78612dac",
   "metadata": {
    "ExecuteTime": {
     "end_time": "2021-09-02T09:07:33.182006Z",
     "start_time": "2021-09-02T09:07:33.146095Z"
    }
   },
   "outputs": [
    {
     "data": {
      "text/html": [
       "<div>\n",
       "<style scoped>\n",
       "    .dataframe tbody tr th:only-of-type {\n",
       "        vertical-align: middle;\n",
       "    }\n",
       "\n",
       "    .dataframe tbody tr th {\n",
       "        vertical-align: top;\n",
       "    }\n",
       "\n",
       "    .dataframe thead th {\n",
       "        text-align: right;\n",
       "    }\n",
       "</style>\n",
       "<table border=\"1\" class=\"dataframe\">\n",
       "  <thead>\n",
       "    <tr style=\"text-align: right;\">\n",
       "      <th></th>\n",
       "      <th>movieId</th>\n",
       "      <th>title</th>\n",
       "      <th>genres</th>\n",
       "      <th>rating</th>\n",
       "      <th>released</th>\n",
       "      <th>counts</th>\n",
       "      <th>value</th>\n",
       "    </tr>\n",
       "  </thead>\n",
       "  <tbody>\n",
       "    <tr>\n",
       "      <th>0</th>\n",
       "      <td>318</td>\n",
       "      <td>Shawshank Redemption, The (1994)</td>\n",
       "      <td>Crime|Drama</td>\n",
       "      <td>4.413576</td>\n",
       "      <td>1994</td>\n",
       "      <td>81482</td>\n",
       "      <td>11.813024</td>\n",
       "    </tr>\n",
       "    <tr>\n",
       "      <th>1</th>\n",
       "      <td>296</td>\n",
       "      <td>Pulp Fiction (1994)</td>\n",
       "      <td>Comedy|Crime|Drama|Thriller</td>\n",
       "      <td>4.188912</td>\n",
       "      <td>1994</td>\n",
       "      <td>79672</td>\n",
       "      <td>11.477305</td>\n",
       "    </tr>\n",
       "    <tr>\n",
       "      <th>2</th>\n",
       "      <td>356</td>\n",
       "      <td>Forrest Gump (1994)</td>\n",
       "      <td>Comedy|Drama|Romance|War</td>\n",
       "      <td>4.048011</td>\n",
       "      <td>1994</td>\n",
       "      <td>81491</td>\n",
       "      <td>11.448011</td>\n",
       "    </tr>\n",
       "    <tr>\n",
       "      <th>3</th>\n",
       "      <td>2571</td>\n",
       "      <td>Matrix, The (1999)</td>\n",
       "      <td>Action|Sci-Fi|Thriller</td>\n",
       "      <td>4.154099</td>\n",
       "      <td>1999</td>\n",
       "      <td>72674</td>\n",
       "      <td>11.133119</td>\n",
       "    </tr>\n",
       "    <tr>\n",
       "      <th>4</th>\n",
       "      <td>593</td>\n",
       "      <td>Silence of the Lambs, The (1991)</td>\n",
       "      <td>Crime|Horror|Thriller</td>\n",
       "      <td>4.151342</td>\n",
       "      <td>1991</td>\n",
       "      <td>74127</td>\n",
       "      <td>11.027513</td>\n",
       "    </tr>\n",
       "    <tr>\n",
       "      <th>5</th>\n",
       "      <td>2959</td>\n",
       "      <td>Fight Club (1999)</td>\n",
       "      <td>Action|Crime|Drama|Thriller</td>\n",
       "      <td>4.228311</td>\n",
       "      <td>1999</td>\n",
       "      <td>58773</td>\n",
       "      <td>10.354414</td>\n",
       "    </tr>\n",
       "    <tr>\n",
       "      <th>6</th>\n",
       "      <td>527</td>\n",
       "      <td>Schindler's List (1993)</td>\n",
       "      <td>Drama|War</td>\n",
       "      <td>4.247579</td>\n",
       "      <td>1993</td>\n",
       "      <td>60411</td>\n",
       "      <td>10.330185</td>\n",
       "    </tr>\n",
       "    <tr>\n",
       "      <th>7</th>\n",
       "      <td>260</td>\n",
       "      <td>Star Wars: Episode IV - A New Hope (1977)</td>\n",
       "      <td>Action|Adventure|Sci-Fi</td>\n",
       "      <td>4.120189</td>\n",
       "      <td>1977</td>\n",
       "      <td>68717</td>\n",
       "      <td>10.328421</td>\n",
       "    </tr>\n",
       "    <tr>\n",
       "      <th>8</th>\n",
       "      <td>50</td>\n",
       "      <td>Usual Suspects, The (1995)</td>\n",
       "      <td>Crime|Mystery|Thriller</td>\n",
       "      <td>4.284353</td>\n",
       "      <td>1995</td>\n",
       "      <td>55366</td>\n",
       "      <td>10.105415</td>\n",
       "    </tr>\n",
       "    <tr>\n",
       "      <th>9</th>\n",
       "      <td>4993</td>\n",
       "      <td>Lord of the Rings: The Fellowship of the Ring,...</td>\n",
       "      <td>Adventure|Fantasy</td>\n",
       "      <td>4.091189</td>\n",
       "      <td>2001</td>\n",
       "      <td>55736</td>\n",
       "      <td>10.078953</td>\n",
       "    </tr>\n",
       "  </tbody>\n",
       "</table>\n",
       "</div>"
      ],
      "text/plain": [
       "   movieId                                              title  \\\n",
       "0      318                   Shawshank Redemption, The (1994)   \n",
       "1      296                                Pulp Fiction (1994)   \n",
       "2      356                                Forrest Gump (1994)   \n",
       "3     2571                                 Matrix, The (1999)   \n",
       "4      593                   Silence of the Lambs, The (1991)   \n",
       "5     2959                                  Fight Club (1999)   \n",
       "6      527                            Schindler's List (1993)   \n",
       "7      260          Star Wars: Episode IV - A New Hope (1977)   \n",
       "8       50                         Usual Suspects, The (1995)   \n",
       "9     4993  Lord of the Rings: The Fellowship of the Ring,...   \n",
       "\n",
       "                        genres    rating  released  counts      value  \n",
       "0                  Crime|Drama  4.413576      1994   81482  11.813024  \n",
       "1  Comedy|Crime|Drama|Thriller  4.188912      1994   79672  11.477305  \n",
       "2     Comedy|Drama|Romance|War  4.048011      1994   81491  11.448011  \n",
       "3       Action|Sci-Fi|Thriller  4.154099      1999   72674  11.133119  \n",
       "4        Crime|Horror|Thriller  4.151342      1991   74127  11.027513  \n",
       "5  Action|Crime|Drama|Thriller  4.228311      1999   58773  10.354414  \n",
       "6                    Drama|War  4.247579      1993   60411  10.330185  \n",
       "7      Action|Adventure|Sci-Fi  4.120189      1977   68717  10.328421  \n",
       "8       Crime|Mystery|Thriller  4.284353      1995   55366  10.105415  \n",
       "9            Adventure|Fantasy  4.091189      2001   55736  10.078953  "
      ]
     },
     "execution_count": 77,
     "metadata": {},
     "output_type": "execute_result"
    }
   ],
   "source": [
    "movies_4['released'] = movies_4['released'].astype('int64')\n",
    "movies_4['value'] = movies_4['rating'] + movies_4['counts']/movies_4['counts'].max()*5 + (movies_4['released']-movies_4['released'].min())/(movies_4['released'].max()-movies_4['released'].min())*3 \n",
    "movies_4 = movies_4.sort_values(by='value', ignore_index=True, ascending=False)\n",
    "movies_4.head(10)"
   ]
  },
  {
   "cell_type": "markdown",
   "id": "c0fb680b",
   "metadata": {},
   "source": [
    "<b><font size=\"6\" color=\"red\"> movies_4 : rating + counts + 조정치 완성 -> fn1에 사용 가능 ----------</font></b>"
   ]
  },
  {
   "cell_type": "code",
   "execution_count": null,
   "id": "5eae2918",
   "metadata": {},
   "outputs": [],
   "source": [
    "# 최근 영화는 평가수가 많을 수가 없는 구조인듯?\n",
    "# 어떤 지표를 개발할지에 대한 고민이 필요함 -> 평가횟수 최소 30개 이상 + 스케일조정 실시"
   ]
  },
  {
   "cell_type": "code",
   "execution_count": null,
   "id": "abf1515c",
   "metadata": {},
   "outputs": [],
   "source": []
  },
  {
   "cell_type": "code",
   "execution_count": null,
   "id": "e4ad0dd1",
   "metadata": {},
   "outputs": [],
   "source": []
  },
  {
   "cell_type": "code",
   "execution_count": null,
   "id": "b5683346",
   "metadata": {},
   "outputs": [],
   "source": []
  },
  {
   "cell_type": "code",
   "execution_count": 20,
   "id": "04ce1b99",
   "metadata": {
    "ExecuteTime": {
     "end_time": "2021-08-31T08:30:59.621637Z",
     "start_time": "2021-08-31T08:30:59.603685Z"
    }
   },
   "outputs": [],
   "source": [
    "# 1,2 실행의 결과와 3 실행의 결과가 달라 break가 있는 경우와 없는 경우의 효과를 확인해볼 수 있음!\n",
    "def main():\n",
    "    \n",
    "    while True:\n",
    "        print(\"1:추천영화 | 2:인기영화 | 3:연도별 고평점 영화 | 4:실시간 트렌드(관객평) | 5: 나의 선호 | 9:종료\",sep='|')\n",
    "        fn = int(input('메뉴선택 : '))\n",
    "        if fn == 1:\n",
    "            fn1_movie_recommend()\n",
    "        elif fn == 2:\n",
    "            fn2_high_counts_movies()\n",
    "        elif fn == 3:\n",
    "            try:\n",
    "                year = int(input(\"희망하는 연도를 4자리 숫자로 입력해주세요 : \"))\n",
    "                fn3_top_rated_movies(year)\n",
    "                break\n",
    "#                 if year >= 1900 and year <= 2020:\n",
    "#                     movie_by_year(year)\n",
    "#                 elif len(year) != 4:\n",
    "#                     print(\"네 자리로 입력해주세요 \")\n",
    "#                     break\n",
    "#             except ValueError:\n",
    "#                 print(\"유효한 정수가 아닙니다\")\n",
    "            except Exception as e:\n",
    "                print(e)\n",
    "        elif fn == 4:\n",
    "            fn4_real_time_search()\n",
    "            break\n",
    "        elif fn == 9:\n",
    "            fn9_end()\n",
    "            break\n",
    "\n",
    "def fn1_movie_recommend():\n",
    "    print(movies_4['title'].head(10))\n",
    "                # movies_3은 rating(5점 만점) + counts(5점 만점)을 합산한 값인 value 기준으로 정렬\n",
    "\n",
    "def fn2_multiple_conditions(gen, year):\n",
    "    print(movies_4.loc[movies_4['genres'].str.contains(gen, case=False) & (movies_4['released'] == int(year))])\n",
    "    \n",
    "def fn3_top_counts_movies():\n",
    "    print(movies_3['title'].head(10))\n",
    "                # movies_2 : rating을 10번 이상 받은 영화집합의 rating순 데이터프레임\n",
    "\n",
    "def fn4_top_rating_movies():\n",
    "    print(movies_4['title'].head(10))\n",
    "    \n",
    "def fn5_real_time_search():\n",
    "    from selenium import webdriver\n",
    "    import requests, re, urllib\n",
    "    import time\n",
    "    dv = webdriver.Chrome('D:/bigdata/download/chromedriver_win32/chromedriver.exe')\n",
    "    url = 'https://movie.naver.com/movie/point/af/list.naver'\n",
    "    dv.get(url) # url에 해당하는 페이지가 open\n",
    "\n",
    "    for i in range(1,20):\n",
    "        page_btn = dv.find_element_by_css_selector('div.paging a:nth-child(' + str(i) + ') > span') # 이 부분이 해결되어야 함!!!\n",
    "        page_btn.click()\n",
    "        time.sleep(1)\n",
    "\n",
    "        target = urllib.request.urlopen(\"https://movie.naver.com/movie/point/af/list.naver?&page=\"+str(i))\n",
    "        contents = target.read().decode('utf-8')\n",
    "        crude = re.findall(r'<span class=\"st_on\".+?<a href=\"#\"', contents, re.DOTALL)\n",
    "\n",
    "        i = i + 1\n",
    "        ready_to_print = \" \"\n",
    "        for c in crude:\n",
    "            ready = re.search(r'<br>(.+)\\n\\t\\t\\t\\n\\t\\t\\t\\n\\t\\t\\t\\n\\t\\t\\t\\t\\n\\t\\t\\t\\t\\n\\t\\t\\t\\t\\n\\t\\t\\t\\t<a href=\"#\"', c)\n",
    "            ready_to_print += ready.group(1)\n",
    "\n",
    "        with open('D:/bigdata/note/project/movie_comments.txt', 'a', encoding='utf-8') as f:\n",
    "            f.write(ready_to_print)\n",
    "\n",
    "    #########################################################################################################################\n",
    "\n",
    "    from konlpy.tag import Kkma\n",
    "    kkma = Kkma(max_heap_size=1024)\n",
    "\n",
    "    target = open('D:/bigdata/note/project/movie_comments.txt', encoding = 'utf-8').read()\n",
    "    word_list = kkma.pos('%r' % target)\n",
    "    word_list = [t[0] for t in word_list if t[1]=='NNG']\n",
    "    text = ' '.join(word_list)\n",
    "\n",
    "    from wordcloud import WordCloud # 클래스이므로 대문자\n",
    "    from wordcloud import STOPWORDS\n",
    "    import matplotlib.pyplot as plt # import matplotlib as plt로 하면 에러발생\n",
    "    from PIL import Image\n",
    "    import numpy as np\n",
    "    img = Image.open('D:/bigdata/src/09_자연어처리/twitter-computer-black-icons-free-frame.png').convert('RGBA')\n",
    "    mask = np.array(img)\n",
    "\n",
    "    불용어 = set(['영화', '연기', '배우'])\n",
    "    wc = WordCloud(background_color = 'white',\n",
    "                  max_words=300,\n",
    "                  font_path = 'C:/Windows/Fonts/한컴산뜻돋움/HanSantteutDotumBold.ttf',\n",
    "                  relative_scaling = 0.5,\n",
    "                  stopwords = 불용어,\n",
    "                  mask=mask)\n",
    "\n",
    "    wc.generate(text) # 워드 클라우드 생성\n",
    "    plt.figure(figsize=(12,5))\n",
    "    plt.imshow(wc, interpolation='bilinear')\n",
    "    plt.axis('off')\n",
    "    \n",
    "def fn9_end():\n",
    "    pass\n",
    "                # 9. 종료하기"
   ]
  },
  {
   "cell_type": "code",
   "execution_count": 21,
   "id": "bd92cb1e",
   "metadata": {
    "ExecuteTime": {
     "end_time": "2021-08-31T08:31:42.914772Z",
     "start_time": "2021-08-31T08:31:32.536565Z"
    }
   },
   "outputs": [
    {
     "name": "stdout",
     "output_type": "stream",
     "text": [
      "1:추천영화 | 2:인기영화 | 3:연도별 고평점 영화 | 4:실시간 트렌드(관객평) | 5: 나의 선호 | 9:종료\n",
      "메뉴선택 : 1\n",
      "0                     Shawshank Redemption, The (1994)\n",
      "1                                  Pulp Fiction (1994)\n",
      "2                                  Forrest Gump (1994)\n",
      "3                     Silence of the Lambs, The (1991)\n",
      "4                                   Matrix, The (1999)\n",
      "5            Star Wars: Episode IV - A New Hope (1977)\n",
      "6                              Schindler's List (1993)\n",
      "7                                    Fight Club (1999)\n",
      "8                           Usual Suspects, The (1995)\n",
      "9    Star Wars: Episode V - The Empire Strikes Back...\n",
      "Name: title, dtype: object\n",
      "1:추천영화 | 2:인기영화 | 3:연도별 고평점 영화 | 4:실시간 트렌드(관객평) | 5: 나의 선호 | 9:종료\n",
      "메뉴선택 : 2\n",
      "0              Planet Earth II (2016)\n",
      "1                 Planet Earth (2006)\n",
      "2    Shawshank Redemption, The (1994)\n",
      "3             Band of Brothers (2001)\n",
      "4                              Cosmos\n",
      "5               Godfather, The (1972)\n",
      "6               Blue Planet II (2017)\n",
      "7          Usual Suspects, The (1995)\n",
      "8                    Obsession (1965)\n",
      "9                   Twin Peaks (1989)\n",
      "Name: title, dtype: object\n",
      "1:추천영화 | 2:인기영화 | 3:연도별 고평점 영화 | 4:실시간 트렌드(관객평) | 5: 나의 선호 | 9:종료\n",
      "메뉴선택 : 3\n",
      "희망하는 연도를 4자리 숫자로 입력해주세요 : 1994\n",
      "     movieId                                              title  \\\n",
      "2        318                   Shawshank Redemption, The (1994)   \n",
      "35       296                                Pulp Fiction (1994)   \n",
      "164      293  Léon: The Professional (a.k.a. The Professiona...   \n",
      "182      326                            To Live (Huozhe) (1994)   \n",
      "195      306   Three Colors: Red (Trois couleurs: Rouge) (1994)   \n",
      "\n",
      "                          genres    rating released  counts     value  \n",
      "2                    Crime|Drama  4.413576     1994   81482  9.413024  \n",
      "35   Comedy|Crime|Drama|Thriller  4.188912     1994   79672  9.077305  \n",
      "164  Action|Crime|Drama|Thriller  4.088599     1994   33680  6.155084  \n",
      "182                        Drama  4.079660     1994    1293  4.158994  \n",
      "195                        Drama  4.072967     1994    7058  4.506021  \n"
     ]
    }
   ],
   "source": [
    "if __name__ == '__main__':\n",
    "    main()"
   ]
  },
  {
   "cell_type": "code",
   "execution_count": null,
   "id": "78a7e1a5",
   "metadata": {},
   "outputs": [],
   "source": []
  },
  {
   "cell_type": "code",
   "execution_count": null,
   "id": "7c657b8f",
   "metadata": {},
   "outputs": [],
   "source": []
  },
  {
   "cell_type": "code",
   "execution_count": null,
   "id": "8c4fc7d3",
   "metadata": {},
   "outputs": [],
   "source": []
  }
 ],
 "metadata": {
  "kernelspec": {
   "display_name": "Python 3",
   "language": "python",
   "name": "python3"
  },
  "language_info": {
   "codemirror_mode": {
    "name": "ipython",
    "version": 3
   },
   "file_extension": ".py",
   "mimetype": "text/x-python",
   "name": "python",
   "nbconvert_exporter": "python",
   "pygments_lexer": "ipython3",
   "version": "3.8.8"
  },
  "toc": {
   "base_numbering": 1,
   "nav_menu": {},
   "number_sections": true,
   "sideBar": true,
   "skip_h1_title": false,
   "title_cell": "Table of Contents",
   "title_sidebar": "Contents",
   "toc_cell": false,
   "toc_position": {},
   "toc_section_display": true,
   "toc_window_display": false
  },
  "varInspector": {
   "cols": {
    "lenName": 16,
    "lenType": 16,
    "lenVar": 40
   },
   "kernels_config": {
    "python": {
     "delete_cmd_postfix": "",
     "delete_cmd_prefix": "del ",
     "library": "var_list.py",
     "varRefreshCmd": "print(var_dic_list())"
    },
    "r": {
     "delete_cmd_postfix": ") ",
     "delete_cmd_prefix": "rm(",
     "library": "var_list.r",
     "varRefreshCmd": "cat(var_dic_list()) "
    }
   },
   "types_to_exclude": [
    "module",
    "function",
    "builtin_function_or_method",
    "instance",
    "_Feature"
   ],
   "window_display": false
  }
 },
 "nbformat": 4,
 "nbformat_minor": 5
}
